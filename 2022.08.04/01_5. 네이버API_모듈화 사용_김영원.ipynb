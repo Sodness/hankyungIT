{
 "cells": [
  {
   "cell_type": "code",
   "execution_count": 2,
   "id": "03252898",
   "metadata": {},
   "outputs": [],
   "source": [
    "import naverApi as na"
   ]
  },
  {
   "cell_type": "code",
   "execution_count": 3,
   "id": "8c5ed9b9",
   "metadata": {},
   "outputs": [
    {
     "data": {
      "text/plain": [
       "['__builtins__',\n",
       " '__cached__',\n",
       " '__doc__',\n",
       " '__file__',\n",
       " '__loader__',\n",
       " '__name__',\n",
       " '__package__',\n",
       " '__spec__',\n",
       " 'connect',\n",
       " 'get_df_by_naverAPI',\n",
       " 'json',\n",
       " 'naver_api',\n",
       " 'os',\n",
       " 'pd',\n",
       " 'sys',\n",
       " 'total_count',\n",
       " 'urllib']"
      ]
     },
     "execution_count": 3,
     "metadata": {},
     "output_type": "execute_result"
    }
   ],
   "source": [
    "dir(na)"
   ]
  },
  {
   "cell_type": "code",
   "execution_count": 4,
   "id": "76d8fa08",
   "metadata": {},
   "outputs": [
    {
     "data": {
      "text/plain": [
       "3690656"
      ]
     },
     "execution_count": 4,
     "metadata": {},
     "output_type": "execute_result"
    }
   ],
   "source": [
    "na.total_count('에어컨', 'shop')"
   ]
  },
  {
   "cell_type": "code",
   "execution_count": 6,
   "id": "512b2c76",
   "metadata": {},
   "outputs": [
    {
     "data": {
      "text/plain": [
       "[3690685, 3358014, 595220, 4205665]"
      ]
     },
     "execution_count": 6,
     "metadata": {},
     "output_type": "execute_result"
    }
   ],
   "source": [
    "ls = ['에어컨', '선풍기', '서큘레이터', '냉장고']\n",
    "\n",
    "res = []\n",
    "for search in ls:\n",
    "    res.append(na.total_count(search, 'shop'))\n",
    "res"
   ]
  },
  {
   "cell_type": "code",
   "execution_count": null,
   "id": "00950643",
   "metadata": {},
   "outputs": [],
   "source": []
  }
 ],
 "metadata": {
  "kernelspec": {
   "display_name": "Python 3 (ipykernel)",
   "language": "python",
   "name": "python3"
  },
  "language_info": {
   "codemirror_mode": {
    "name": "ipython",
    "version": 3
   },
   "file_extension": ".py",
   "mimetype": "text/x-python",
   "name": "python",
   "nbconvert_exporter": "python",
   "pygments_lexer": "ipython3",
   "version": "3.10.4"
  }
 },
 "nbformat": 4,
 "nbformat_minor": 5
}
