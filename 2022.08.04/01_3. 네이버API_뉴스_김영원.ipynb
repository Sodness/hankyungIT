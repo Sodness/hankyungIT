{
 "cells": [
  {
   "cell_type": "code",
   "execution_count": 26,
   "id": "adfd513b",
   "metadata": {},
   "outputs": [
    {
     "name": "stdout",
     "output_type": "stream",
     "text": [
      "[1485031, 148964, 1917295, 247907]\n"
     ]
    },
    {
     "data": {
      "text/html": [
       "<div>\n",
       "<style scoped>\n",
       "    .dataframe tbody tr th:only-of-type {\n",
       "        vertical-align: middle;\n",
       "    }\n",
       "\n",
       "    .dataframe tbody tr th {\n",
       "        vertical-align: top;\n",
       "    }\n",
       "\n",
       "    .dataframe thead th {\n",
       "        text-align: right;\n",
       "    }\n",
       "</style>\n",
       "<table border=\"1\" class=\"dataframe\">\n",
       "  <thead>\n",
       "    <tr style=\"text-align: right;\">\n",
       "      <th></th>\n",
       "      <th>total</th>\n",
       "    </tr>\n",
       "  </thead>\n",
       "  <tbody>\n",
       "    <tr>\n",
       "      <th>AI</th>\n",
       "      <td>1917295</td>\n",
       "    </tr>\n",
       "    <tr>\n",
       "      <th>인공지능</th>\n",
       "      <td>1485031</td>\n",
       "    </tr>\n",
       "    <tr>\n",
       "      <th>메타버스</th>\n",
       "      <td>247907</td>\n",
       "    </tr>\n",
       "    <tr>\n",
       "      <th>머신러닝</th>\n",
       "      <td>148964</td>\n",
       "    </tr>\n",
       "  </tbody>\n",
       "</table>\n",
       "</div>"
      ],
      "text/plain": [
       "        total\n",
       "AI    1917295\n",
       "인공지능  1485031\n",
       "메타버스   247907\n",
       "머신러닝   148964"
      ]
     },
     "metadata": {},
     "output_type": "display_data"
    },
    {
     "data": {
      "text/plain": [
       "<AxesSubplot:>"
      ]
     },
     "execution_count": 26,
     "metadata": {},
     "output_type": "execute_result"
    },
    {
     "data": {
      "image/png": "[encoded data removed]",
      "text/plain": [
       "<Figure size 432x288 with 1 Axes>"
      ]
     },
     "metadata": {
      "needs_background": "light"
     },
     "output_type": "display_data"
    }
   ],
   "source": [
    "# 질문 인공지능, 머신러닝, AI, 메타버스 뉴스 총 건수를 확인하고 막대 그래프로 출력하세요.\n",
    "\n",
    "# 네이버 검색 API예제는 블로그를 비롯 전문자료까지 호출방법이 동일하므로 blog검색만 대표로 예제를 올렸습니다.\n",
    "# 네이버 검색 Open API 예제 - 블로그 검색\n",
    "import os\n",
    "import sys\n",
    "import urllib.request\n",
    "import json\n",
    "import pandas as pd\n",
    "import matplotlib.pyplot as plt\n",
    "\n",
    "client_id = \"54q2aSQIN4MCZ8baU_aw\"\n",
    "client_secret = \"qU3u6LNbIm\"\n",
    "search_ls = ['인공지능', '머신러닝', 'AI', '메타버스']\n",
    "\n",
    "total_ls = []\n",
    "for search in search_ls:\n",
    "    encText = urllib.parse.quote(search)\n",
    "    url = \"https://openapi.naver.com/v1/search/news?query=\" + encText\n",
    "\n",
    "    request = urllib.request.Request(url)\n",
    "    request.add_header(\"X-Naver-Client-Id\",client_id)\n",
    "    request.add_header(\"X-Naver-Client-Secret\",client_secret)\n",
    "    response = urllib.request.urlopen(request)\n",
    "    rescode = response.getcode()\n",
    "\n",
    "    if(rescode==200):\n",
    "        response_body = response.read()\n",
    "        # print(response_body.decode('utf-8'))\n",
    "        json_obj = json.loads(response_body)\n",
    "        # print(json_obj['total'])\n",
    "        total_ls.append(json_obj['total'])\n",
    "    else:\n",
    "        print(\"Error Code:\" + rescode)\n",
    "\n",
    "from matplotlib import font_manager, rc  \n",
    "font_name = font_manager.FontProperties(fname=\"c:/Windows/Fonts/malgun.ttf\").get_name()\n",
    "rc('font', family=font_name)\n",
    "\n",
    "print(total_ls)\n",
    "df = pd.DataFrame(total_ls, index=search_ls, columns=['total'])\n",
    "df = df.sort_values('total', ascending=False)\n",
    "display(df)\n",
    "df.plot(kind='bar')"
   ]
  },
  {
   "cell_type": "code",
   "execution_count": 23,
   "id": "eee20e37",
   "metadata": {},
   "outputs": [
    {
     "name": "stdout",
     "output_type": "stream",
     "text": [
      "<class 'pandas.core.frame.DataFrame'>\n"
     ]
    }
   ],
   "source": [
    "print(type(df))"
   ]
  },
  {
   "cell_type": "code",
   "execution_count": 25,
   "id": "e2e73d10",
   "metadata": {},
   "outputs": [
    {
     "data": {
      "text/html": [
       "<div>\n",
       "<style scoped>\n",
       "    .dataframe tbody tr th:only-of-type {\n",
       "        vertical-align: middle;\n",
       "    }\n",
       "\n",
       "    .dataframe tbody tr th {\n",
       "        vertical-align: top;\n",
       "    }\n",
       "\n",
       "    .dataframe thead th {\n",
       "        text-align: right;\n",
       "    }\n",
       "</style>\n",
       "<table border=\"1\" class=\"dataframe\">\n",
       "  <thead>\n",
       "    <tr style=\"text-align: right;\">\n",
       "      <th></th>\n",
       "      <th>total</th>\n",
       "    </tr>\n",
       "  </thead>\n",
       "  <tbody>\n",
       "    <tr>\n",
       "      <th>AI</th>\n",
       "      <td>1917292</td>\n",
       "    </tr>\n",
       "    <tr>\n",
       "      <th>인공지능</th>\n",
       "      <td>1485028</td>\n",
       "    </tr>\n",
       "    <tr>\n",
       "      <th>메타버스</th>\n",
       "      <td>247903</td>\n",
       "    </tr>\n",
       "    <tr>\n",
       "      <th>머신러닝</th>\n",
       "      <td>148964</td>\n",
       "    </tr>\n",
       "  </tbody>\n",
       "</table>\n",
       "</div>"
      ],
      "text/plain": [
       "        total\n",
       "AI    1917292\n",
       "인공지능  1485028\n",
       "메타버스   247903\n",
       "머신러닝   148964"
      ]
     },
     "execution_count": 25,
     "metadata": {},
     "output_type": "execute_result"
    }
   ],
   "source": [
    "df.sort_values('total', ascending=False)"
   ]
  },
  {
   "cell_type": "code",
   "execution_count": null,
   "id": "2b52399f",
   "metadata": {},
   "outputs": [],
   "source": []
  }
 ],
 "metadata": {
  "kernelspec": {
   "display_name": "Python 3 (ipykernel)",
   "language": "python",
   "name": "python3"
  },
  "language_info": {
   "codemirror_mode": {
    "name": "ipython",
    "version": 3
   },
   "file_extension": ".py",
   "mimetype": "text/x-python",
   "name": "python",
   "nbconvert_exporter": "python",
   "pygments_lexer": "ipython3",
   "version": "3.10.4"
  }
 },
 "nbformat": 4,
 "nbformat_minor": 5
}
