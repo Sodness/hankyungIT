{
 "cells": [
  {
   "cell_type": "code",
   "execution_count": 12,
   "id": "fdc051fe",
   "metadata": {},
   "outputs": [
    {
     "data": {
      "text/plain": [
       "[{'title': '새로나온 <b>스타벅스</b> 퍼플사워블렌디드',\n",
       "  'link': 'https://blog.naver.com/brightenedu?Redirect=Log&logNo=222786790959',\n",
       "  'description': '얼마 전에 여름 신메뉴 2탄으로 <b>스타벅스</b> 퍼플사워블렌디드 포함 3종이 나왔다고 해서 마셔봤어요.... 그래도 <b>스타벅스</b> 퍼플사워블렌디드와 커피 드로잉 말차 프라푸치노의 맛이 궁금해 주문해 보았고요. 늘... ',\n",
       "  'bloggername': '김원장의 탐구생활',\n",
       "  'bloggerlink': 'https://blog.naver.com/brightenedu',\n",
       "  'postdate': '20220624'},\n",
       " {'title': '<b>스타벅스</b> 제주 청귤 라임 에이드 직접 마셔본 후기',\n",
       "  'link': 'https://blog.naver.com/etienne03?Redirect=Log&logNo=222836999230',\n",
       "  'description': '얼마 전 여름 3차 md 나오는 날 저는 <b>스타벅스</b> 제주 청귤 라임 에이드 마시고 왔어요. 아침부터 친구랑... 이번 <b>스타벅스</b> 신음료는 총 3가지로 제주 청귤 라임 에이드 우리 쑥 크림 프라푸치노 with 콜드 브루 쿨... ',\n",
       "  'bloggername': 'Barbie&apos;s place',\n",
       "  'bloggerlink': 'https://blog.naver.com/etienne03',\n",
       "  'postdate': '20220802'},\n",
       " {'title': '<b>스타벅스</b> 원두 데일리로 부담일 때 가성비 핸드드립 커피 원두... ',\n",
       "  'link': 'https://blog.naver.com/sticky4?Redirect=Log&logNo=222836936488',\n",
       "  'description': '원래는 <b>스타벅스</b> 커피를 좋아해서 집에서 마실 때도 <b>스타벅스</b> 원두 매장이나 이마트에서 사다마셨거든요..! 원래 마시던 건 제가 산미를 좋아해서 케냐나 에티오피아를 사다 마셨는데요. <b>스타벅스</b> 원두... ',\n",
       "  'bloggername': '트래블리♡ travel + lovely',\n",
       "  'bloggerlink': 'https://blog.naver.com/sticky4',\n",
       "  'postdate': '20220801'},\n",
       " {'title': '<b>스타벅스</b> 천안서북이마트점 리뉴얼 오픈',\n",
       "  'link': 'https://blog.naver.com/renapark99?Redirect=Log&logNo=222833741364',\n",
       "  'description': '<b>스타벅스</b> 천안서북이마트점 리뉴얼 오픈!! 이마트 천안서북점이 작년 가을부턴가 리뉴얼 공사를 하더니만... 어느새 사라진 <b>스타벅스</b>는 왜 다시 오픈할 생각을 안 하는지.. 정신없이 7월 한 달 보내다보니... ',\n",
       "  'bloggername': '하루레나의 육아로그 Start small☆',\n",
       "  'bloggerlink': 'https://blog.naver.com/renapark99',\n",
       "  'postdate': '20220729'},\n",
       " {'title': '<b>스타벅스</b> 선불충전금과 선수금 회계처리 기본 개념',\n",
       "  'link': 'https://blog.naver.com/zhowoon79?Redirect=Log&logNo=222803235614',\n",
       "  'description': '<b>스타벅스</b> 코리아 홈페이지 <b>스타벅스</b> 선불충전금도 일종의 선수금이다. 사이렌이라는 편리한 서비스를 이용하기 위해 미리 충전해 놓은 결제 대금인 것이다. 지금 <b>스타벅스</b>는 이런 결제 대금을 과거 조선사처럼... ',\n",
       "  'bloggername': '기업의 일생 feat. 회계사',\n",
       "  'bloggerlink': 'https://blog.naver.com/zhowoon79',\n",
       "  'postdate': '20220801'},\n",
       " {'title': '<b>스타벅스</b> 배당금, 배당일, 주가 알아봅시다',\n",
       "  'link': 'https://blog.naver.com/hoosigidane?Redirect=Log&logNo=222836911416',\n",
       "  'description': '<b>스타벅스</b> 배당금, 배당일, 주식 알아봅시다 안녕하세요 오늘은 <b>스타벅스</b> 최근 주가 현황과 배당금, 배당일까지 알아보겠습니다! 커피시장에서 부동의 1위를 차지하고 있는 <b>스타벅스</b> 연일 안좋은 소식들이... ',\n",
       "  'bloggername': '느프트린이',\n",
       "  'bloggerlink': 'https://blog.naver.com/hoosigidane',\n",
       "  'postdate': '20220801'},\n",
       " {'title': '제주 협재 해수욕장 <b>스타벅스</b> &amp; 제주 감성 기념품샵 오달콤제주',\n",
       "  'link': 'https://blog.naver.com/boring_29?Redirect=Log&logNo=222836331881',\n",
       "  'description': 'ㅎㅎ 제주 협재 해수욕장 <b>스타벅스</b> 제주 감성 기념품샵 오달콤제주 - 두 아이와 함께 하는 제주 여행... 그래서 아이들과 함께 협재 해수욕장에 있는 <b>스타벅스</b>에 갔습니다. 협재 해수욕장에 다른 카페도 있지만... ',\n",
       "  'bloggername': '보링보링의 손으로 만든 세상',\n",
       "  'bloggerlink': 'https://blog.naver.com/boring_29',\n",
       "  'postdate': '20220802'},\n",
       " {'title': '냄새나는 <b>스타벅스</b> 서머 캐리백, 더 심각한 문제',\n",
       "  'link': 'https://blog.naver.com/shane70?Redirect=Log&logNo=222793317101',\n",
       "  'description': '그럼에도 밖에서 일이 있거나 미팅이 있으면 <b>스타벅스</b> 나 커피빈 등을 애용합니다. 그러다보니 #<b>스타벅스</b> #프리퀀시 상품을 빠지지 않고 다 받았습니다. 사실 잘 쓰지도 않는데도 불구하고 다 집에 모여... ',\n",
       "  'bloggername': '아직은 아냐^ ^ (달도시 블로그)',\n",
       "  'bloggerlink': 'https://blog.naver.com/shane70',\n",
       "  'postdate': '20220629'},\n",
       " {'title': '방콕의 랑수안 <b>스타벅스</b>는 아시아 1호점이 아닙니다',\n",
       "  'link': 'https://blog.naver.com/malahalo?Redirect=Log&logNo=222825045305',\n",
       "  'description': '태국 방콕 여행을 기획한 나언니가 방콕에 아시아 1호점 <b>스타벅스</b>가 있다고 해서 굉장히 설레는... 실제로 국내에선 보기 힘든 형태의 건물이 <b>스타벅스</b>여서 시선을 끌긴 하더라고요. 심지어 저희가 묵었던 호텔... ',\n",
       "  'bloggername': '라깰의 어제보다 즐거운 오늘',\n",
       "  'bloggerlink': 'https://blog.naver.com/malahalo',\n",
       "  'postdate': '20220723'},\n",
       " {'title': '<b>스타벅스</b> 우리 쑥 크림 프라푸치노 맛보다/ <b>스타벅스</b> 웰컴레벨... ',\n",
       "  'link': 'https://blog.naver.com/amj5356?Redirect=Log&logNo=222838854078',\n",
       "  'description': '코로나로 대형마트 안간지가 몇주가 되었어요 신랑 마지막으로 코로나 격리해제되고 마트장보고 왔답니다 간김에 날짜 임박한 기프티콘 쓰고 <b>스타벅스</b> 음료 즐겨주었지요 <b>스타벅스</b> 양산 이마트점 제일 자주... ',\n",
       "  'bloggername': '왕뽈따구',\n",
       "  'bloggerlink': 'https://blog.naver.com/amj5356',\n",
       "  'postdate': '20220803'}]"
      ]
     },
     "metadata": {},
     "output_type": "display_data"
    }
   ],
   "source": [
    "# 네이버 검색 API예제는 블로그를 비롯 전문자료까지 호출방법이 동일하므로 blog검색만 대표로 예제를 올렸습니다.\n",
    "# 네이버 검색 Open API 예제 - 블로그 검색\n",
    "import os\n",
    "import sys\n",
    "import urllib.request\n",
    "import json\n",
    "\n",
    "client_id = \"MhFgqjK_W22Mux6cStc6\"\n",
    "client_secret = \"m12uohVmNe\"\n",
    "encText = urllib.parse.quote(\"스타벅스\")\n",
    "url = \"https://openapi.naver.com/v1/search/blog?query=\" + encText # json 결과\n",
    "# url = \"https://openapi.naver.com/v1/search/blog.xml?query=\" + encText # xml 결과\n",
    "request = urllib.request.Request(url)\n",
    "request.add_header(\"X-Naver-Client-Id\",client_id)\n",
    "request.add_header(\"X-Naver-Client-Secret\",client_secret)\n",
    "response = urllib.request.urlopen(request)\n",
    "rescode = response.getcode()\n",
    "if(rescode==200):\n",
    "    response_body = response.read()\n",
    "    json_obj=json.loads(response_body)\n",
    "    display(json_obj['items'])\n",
    "    #print(response_body.decode('utf-8'))\n",
    "\n",
    "else:\n",
    "    print(\"Error Code:\" + rescode)"
   ]
  },
  {
   "cell_type": "code",
   "execution_count": null,
   "id": "789ec21d",
   "metadata": {},
   "outputs": [],
   "source": []
  }
 ],
 "metadata": {
  "kernelspec": {
   "display_name": "Python 3 (ipykernel)",
   "language": "python",
   "name": "python3"
  },
  "language_info": {
   "codemirror_mode": {
    "name": "ipython",
    "version": 3
   },
   "file_extension": ".py",
   "mimetype": "text/x-python",
   "name": "python",
   "nbconvert_exporter": "python",
   "pygments_lexer": "ipython3",
   "version": "3.10.4"
  }
 },
 "nbformat": 4,
 "nbformat_minor": 5
}
