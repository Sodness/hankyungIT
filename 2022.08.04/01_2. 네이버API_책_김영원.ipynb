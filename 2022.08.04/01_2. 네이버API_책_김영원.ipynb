{
 "cells": [
  {
   "cell_type": "code",
   "execution_count": 45,
   "id": "de5a6fac",
   "metadata": {},
   "outputs": [],
   "source": [
    "# 질문: 인공지능, 머신러닝, AI, 메타버스 각 300개 목록을 각각 저장받자\n",
    "\n",
    "# 네이버 검색 API예제는 블로그를 비롯 전문자료까지 호출방법이 동일하므로 blog검색만 대표로 예제를 올렸습니다.\n",
    "# 네이버 검색 Open API 예제 - 블로그 검색\n",
    "import os\n",
    "import sys\n",
    "import urllib.request\n",
    "import pandas as pd\n",
    "import json\n",
    "\n",
    "client_id = \"54q2aSQIN4MCZ8baU_aw\"\n",
    "client_secret = \"qU3u6LNbIm\"\n",
    "search_ls = ['인공지능', '머신러닝', 'AI', '메타버스']\n",
    "cat = 'book'\n",
    "\n",
    "for search in search_ls:\n",
    "    res = []\n",
    "    for start in range(1,202, 100):\n",
    "        encText = urllib.parse.quote(search)\n",
    "        url = \"https://openapi.naver.com/v1/search/\"+cat+\"?query=\" + encText + \"&display=100&start=\"+str(start)\n",
    "\n",
    "        request = urllib.request.Request(url)\n",
    "        request.add_header(\"X-Naver-Client-Id\",client_id)\n",
    "        request.add_header(\"X-Naver-Client-Secret\",client_secret)\n",
    "        response = urllib.request.urlopen(request)\n",
    "        rescode = response.getcode()\n",
    "\n",
    "        if(rescode==200):\n",
    "            response_body = response.read()\n",
    "            json_obj = json.loads(response_body)\n",
    "            # display(json_obj)\n",
    "            tmp = pd.DataFrame(json_obj['items'])\n",
    "            # dsplay(tmp)\n",
    "            res.append(tmp)\n",
    "        else:\n",
    "            print(\"Error Code:\" + rescode)\n",
    "\n",
    "\n",
    "    df_res = pd.concat(res, ignore_index=True)\n",
    "    # display(df_res)\n",
    "    df_res.to_csv(f'./책/{search}.csv', encoding='utf-8-sig')"
   ]
  },
  {
   "cell_type": "code",
   "execution_count": null,
   "id": "c2f01fd7",
   "metadata": {},
   "outputs": [],
   "source": []
  },
  {
   "cell_type": "code",
   "execution_count": null,
   "id": "327ed444",
   "metadata": {},
   "outputs": [],
   "source": []
  }
 ],
 "metadata": {
  "kernelspec": {
   "display_name": "Python 3 (ipykernel)",
   "language": "python",
   "name": "python3"
  },
  "language_info": {
   "codemirror_mode": {
    "name": "ipython",
    "version": 3
   },
   "file_extension": ".py",
   "mimetype": "text/x-python",
   "name": "python",
   "nbconvert_exporter": "python",
   "pygments_lexer": "ipython3",
   "version": "3.10.4"
  }
 },
 "nbformat": 4,
 "nbformat_minor": 5
}
