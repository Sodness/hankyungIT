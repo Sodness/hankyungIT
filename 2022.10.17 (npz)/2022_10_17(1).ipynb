{
 "cells": [
  {
   "cell_type": "code",
   "execution_count": 7,
   "metadata": {},
   "outputs": [],
   "source": [
    "from glob import glob\n",
    "from PIL import Image\n",
    "import numpy as np"
   ]
  },
  {
   "cell_type": "code",
   "execution_count": 3,
   "metadata": {},
   "outputs": [
    {
     "data": {
      "text/plain": [
       "['./clothes_dataset\\\\black_dress',\n",
       " './clothes_dataset\\\\black_pants',\n",
       " './clothes_dataset\\\\black_shirt',\n",
       " './clothes_dataset\\\\black_shoes',\n",
       " './clothes_dataset\\\\black_shorts',\n",
       " './clothes_dataset\\\\blue_dress',\n",
       " './clothes_dataset\\\\blue_pants',\n",
       " './clothes_dataset\\\\blue_shirt',\n",
       " './clothes_dataset\\\\blue_shoes',\n",
       " './clothes_dataset\\\\blue_shorts',\n",
       " './clothes_dataset\\\\brown_pants',\n",
       " './clothes_dataset\\\\brown_shoes',\n",
       " './clothes_dataset\\\\brown_shorts',\n",
       " './clothes_dataset\\\\green_pants',\n",
       " './clothes_dataset\\\\green_shirt',\n",
       " './clothes_dataset\\\\green_shoes',\n",
       " './clothes_dataset\\\\green_shorts',\n",
       " './clothes_dataset\\\\red_dress',\n",
       " './clothes_dataset\\\\red_pants',\n",
       " './clothes_dataset\\\\red_shoes',\n",
       " './clothes_dataset\\\\white_dress',\n",
       " './clothes_dataset\\\\white_pants',\n",
       " './clothes_dataset\\\\white_shoes',\n",
       " './clothes_dataset\\\\white_shorts']"
      ]
     },
     "execution_count": 3,
     "metadata": {},
     "output_type": "execute_result"
    }
   ],
   "source": [
    "folderList = glob('./clothes_dataset/*')\n",
    "folderList"
   ]
  },
  {
   "cell_type": "code",
   "execution_count": 5,
   "metadata": {},
   "outputs": [
    {
     "name": "stdout",
     "output_type": "stream",
     "text": [
      "['./clothes_dataset\\\\black_dress\\\\0097960878307e559459d98c9f9eaeeea0db1f94.jpg', './clothes_dataset\\\\black_dress\\\\038098f911bf30451c109d19870668c39dcf0c11.jpg', './clothes_dataset\\\\black_dress\\\\0522170fba54aa3e80914857c97ecea5cc091411.jpg', './clothes_dataset\\\\black_dress\\\\0561718aec3cca983c7397d03204c20d641f02b9.jpg', './clothes_dataset\\\\black_dress\\\\06130b80c92914dcccb56634594b4aeab7db5944.jpg', './clothes_dataset\\\\black_dress\\\\06677e9166ce249cbe6f7cbf6ea4fae6386a1c3e.jpg', './clothes_dataset\\\\black_dress\\\\080583169f3f63c5d5b29272f2f066ea241417e3.jpg', './clothes_dataset\\\\black_dress\\\\1117822336bdfd88807aec5180cc68f7412f3a9e.jpg', './clothes_dataset\\\\black_dress\\\\112893e848e005ec96841e172d0c3a6f41f514bf.jpg', './clothes_dataset\\\\black_dress\\\\1157ce46a9d5b369f2be2cf80350dad7a2bfa144.jpg', './clothes_dataset\\\\black_dress\\\\12197cde1e9ad94ca7fdaa1bca5d8dd60868155b.jpg', './clothes_dataset\\\\black_dress\\\\1274e149dccaa0631c4cb133bf66aa0b3ae961c3.jpg', './clothes_dataset\\\\black_dress\\\\12799e21492de89cbbde82d66cb46d267a7706d5.jpg', './clothes_dataset\\\\black_dress\\\\1280320189876ce2d5a8d550137f69136f72ed46.jpg', './clothes_dataset\\\\black_dress\\\\1369f6c8fcf9ea05e3b5733929197ca233fc5296.jpg', './clothes_dataset\\\\black_dress\\\\14144f925ffebd655a6c40315ffc3751a98bfee5.jpg', './clothes_dataset\\\\black_dress\\\\161542aa3eaa45733f19567e9deba42f10f5d253.jpg', './clothes_dataset\\\\black_dress\\\\1617796b725651b95cbda65c63eda6159bac0bd3.jpg', './clothes_dataset\\\\black_dress\\\\18498d91364222ea5c1c42cb3329c1ff3bf11325.jpg', './clothes_dataset\\\\black_dress\\\\1870f77ade6b8f2587673ebad1137bfcdb8c85ce.jpg', './clothes_dataset\\\\black_dress\\\\1962417f72c88d5e61732c3192f2edfab8a52db8.jpg', './clothes_dataset\\\\black_dress\\\\2151c6dc9e32c64bb470667210014870a2f80628.jpg', './clothes_dataset\\\\black_dress\\\\227064b2d3b8234276a3fb1a2a70209dad04ef80.jpg', './clothes_dataset\\\\black_dress\\\\2317878d998d9d84a3b087a011bf2a0ca200c2c9.jpg', './clothes_dataset\\\\black_dress\\\\24454f67b060d8f911371c86b71b3e5b3e74abed.jpg', './clothes_dataset\\\\black_dress\\\\2524bb5b396db645115f7480ba71d81bc855c5dc.jpg', './clothes_dataset\\\\black_dress\\\\2527a55318df3d1de77082f23c038f87476dcde8.jpg', './clothes_dataset\\\\black_dress\\\\2609b743082c39d55f6f725266ad7a36da00ec9d.jpg', './clothes_dataset\\\\black_dress\\\\2635a7e067debb724f7d8067592d07d28673d0fc.jpg', './clothes_dataset\\\\black_dress\\\\2827976f291196665abe5e888761dda8c54199a1.jpg', './clothes_dataset\\\\black_dress\\\\285842a4e91510cd9f34752da7e9c685c9b97ede.jpg', './clothes_dataset\\\\black_dress\\\\29532560cb677a6f5811dc9304b28f7b927a27c6.jpg', './clothes_dataset\\\\black_dress\\\\29903c3ac595382ae2f0610af580feca1c5bb4b3.jpg', './clothes_dataset\\\\black_dress\\\\31040b726b9c2fb2866960c0b2e1d938aecad935.jpg', './clothes_dataset\\\\black_dress\\\\316281ab35ff91a334b0bfb4b41f28eeba21dd54.jpg', './clothes_dataset\\\\black_dress\\\\32665e1a433f0d2340b36e28ca9ead82e876db80.jpg', './clothes_dataset\\\\black_dress\\\\32918e2db7745150e06671394c7465ee86a85f31.jpg', './clothes_dataset\\\\black_dress\\\\3365cab83ea4da9d1a42b13f44b2efb3d0a6b0a7.jpg', './clothes_dataset\\\\black_dress\\\\33696365c218c46e9cf29a1590d7d8a418af63be.jpg', './clothes_dataset\\\\black_dress\\\\3422d6d78e0a90e58bf9d1afa10cd601871cf9ea.jpg', './clothes_dataset\\\\black_dress\\\\35181cd8d33e33a5d6e812a4304ff19d7d79ae77.jpg', './clothes_dataset\\\\black_dress\\\\38135a8f58047c70916657ad9a269eaf2ae2f710.jpg', './clothes_dataset\\\\black_dress\\\\38206fb5f56d775e8bc4410ed8b47e7af0983eb7.jpg', './clothes_dataset\\\\black_dress\\\\4070b4440edf8ee5ddac6356ec0655088e68cc56.jpg', './clothes_dataset\\\\black_dress\\\\43288eaa69b7b538992e8101e8fa3d14eecdd9b0.jpg', './clothes_dataset\\\\black_dress\\\\433a36e22273b3c314b57aa72c42270fbef8bf53.jpg', './clothes_dataset\\\\black_dress\\\\4347161ab5dbb914b8ace7cac6568eacadead311.jpg', './clothes_dataset\\\\black_dress\\\\4384a199caf1b29ae01f536f4e02b0d310bd735e.jpg', './clothes_dataset\\\\black_dress\\\\43951378e26114d536c0306d1809201ce88cec10.jpg', './clothes_dataset\\\\black_dress\\\\441f7cce7e2576b43860559ec267e3e11772c7b3.jpg', './clothes_dataset\\\\black_dress\\\\4500ca65c5eb8d42782fc4f4a722109a26d40933.jpg', './clothes_dataset\\\\black_dress\\\\46398bcc58e787a564c4a28b15b332c877a02d68.jpg', './clothes_dataset\\\\black_dress\\\\46447687be0aa55c3791441726e9a55e379e6149.jpg', './clothes_dataset\\\\black_dress\\\\4672e1d659f79717696496ad96938726b0133da5.jpg', './clothes_dataset\\\\black_dress\\\\476d6bf845deadb096a80811ccd8168dbcf00af3.jpg', './clothes_dataset\\\\black_dress\\\\4833b35255eff1f208b4d10d6c21ffc2ef30183a.jpg', './clothes_dataset\\\\black_dress\\\\50292a9464c0c4cf278cdb144b09c387a4c26f32.jpg', './clothes_dataset\\\\black_dress\\\\505ac435719a4199fa9481d493d621e0949a3e61.jpg', './clothes_dataset\\\\black_dress\\\\5199818884cd0145f20ac1e279fa22a187bc7c8f.jpg', './clothes_dataset\\\\black_dress\\\\519b4f8d50500c2e032305892f05bea7ec5fdb80.jpg', './clothes_dataset\\\\black_dress\\\\527dc8893cb2543b24d8d211ea5efe423090bbcb.jpg', './clothes_dataset\\\\black_dress\\\\538e5bcc3bd7476dda70b4099cc1c63d07c3bde9.jpg', './clothes_dataset\\\\black_dress\\\\5489d03cad1c9e0eda8f1c9927222f37b6d1e450.jpg', './clothes_dataset\\\\black_dress\\\\5525cb64df539dff692de1773956b12a630ad19e.jpg', './clothes_dataset\\\\black_dress\\\\559e43dc6493b547100e00df4ce19e1f4bd0e842.jpg', './clothes_dataset\\\\black_dress\\\\5728c4567e6e414963f54eb98af3a3254a53913c.jpg', './clothes_dataset\\\\black_dress\\\\582bf1841627e8b966abda9702033e4fa38ab0fe.jpg', './clothes_dataset\\\\black_dress\\\\5928a0b349675bc3ff947b267373070cdb7d7fd9.jpg', './clothes_dataset\\\\black_dress\\\\6016dc3b26d645de68bddc0e87711dfbf7a1d191.jpg', './clothes_dataset\\\\black_dress\\\\6031e53fc62e6e2dd04cc19c8224213122776752.jpg', './clothes_dataset\\\\black_dress\\\\6088604e21721e6bab26ee743626c7972cc611d7.jpg', './clothes_dataset\\\\black_dress\\\\6187c155957cd443b7c320cbdd538a301592e9d6.jpg', './clothes_dataset\\\\black_dress\\\\640db9308ed82144cccf8f36b2bc4b4638dbd1b7.jpg', './clothes_dataset\\\\black_dress\\\\642aa9f0aaac259dfd9c6211a1da563e58a7cad2.jpg', './clothes_dataset\\\\black_dress\\\\64759aa2f1de9895bdb4b94985ee87f22073a024.jpg', './clothes_dataset\\\\black_dress\\\\6560554d6d510b1f8f0291aab9ca94df35805899.jpg', './clothes_dataset\\\\black_dress\\\\6623847a03b804bf4b5b2e663b5a49d7cace8a23.jpg', './clothes_dataset\\\\black_dress\\\\6672de64c18ffe15ee8c54df858f27bb006dfe4f.jpg', './clothes_dataset\\\\black_dress\\\\678f81a1dfa1aa4ea3a505c3f5e24e75c416e40b.jpg', './clothes_dataset\\\\black_dress\\\\6794b21066bfcb0a3e1fb025b3831c05302ea948.jpg', './clothes_dataset\\\\black_dress\\\\6837d108221c3e75fe44bf4a6c13f5b2c7f728b8.jpg', './clothes_dataset\\\\black_dress\\\\684627ad1edb7bbc245673d41e8e81bff39419df.jpg', './clothes_dataset\\\\black_dress\\\\688e5484a57aae6d8b7e77f61fb86da5dcab1706.jpg', './clothes_dataset\\\\black_dress\\\\690de7031b08f48a5264105cd3c8c943ff5d1e5d.jpg', './clothes_dataset\\\\black_dress\\\\692216872f370f35a1a4d06edc197d6308c204fb.jpg', './clothes_dataset\\\\black_dress\\\\6966d8ab7db0ffd83292aba5066a780c5b519b4a.jpg', './clothes_dataset\\\\black_dress\\\\70447cfeb6a9b68798e5db3ad955b826223e9f91.jpg', './clothes_dataset\\\\black_dress\\\\7131f387d71fcd2830d224dc90b58a13fe5ee480.jpg', './clothes_dataset\\\\black_dress\\\\725bb353c6ab8f2663b779565356d8ed0f0d1321.jpg', './clothes_dataset\\\\black_dress\\\\735dec8605d2aab4688f54bbed6a8e949836de58.jpg', './clothes_dataset\\\\black_dress\\\\736c212b07624764d16850e24cb5f9fe2df738f1.jpg', './clothes_dataset\\\\black_dress\\\\739af7cc58dcbac272a3e6fca1c613f035c48e73.jpg', './clothes_dataset\\\\black_dress\\\\74114074213edaa9fce7750f09ee2a437f1c106f.jpg', './clothes_dataset\\\\black_dress\\\\743e8a4edef1e7fec35080a0d357417530d2d46a.jpg', './clothes_dataset\\\\black_dress\\\\7493e8ef3afdeec927a187e639a2dd32a832eb2c.jpg', './clothes_dataset\\\\black_dress\\\\7563c5d9fa6e038ada5a159c010ea16817d647bf.jpg', './clothes_dataset\\\\black_dress\\\\7651d7c94f66e724a3a3fe18bc7e824b7036e32a.jpg', './clothes_dataset\\\\black_dress\\\\768e96eceba66a0479e3acc431a15de28efcf178.jpg', './clothes_dataset\\\\black_dress\\\\769e82ec9c487f4c3470e60fd2d413dc7677d185.jpg', './clothes_dataset\\\\black_dress\\\\79057abc0789d53fa9f0c030b949416c91bbb20b.jpg', './clothes_dataset\\\\black_dress\\\\793ebcd57b9e5d36f4ff2b2603311f12081a4ab8.jpg', './clothes_dataset\\\\black_dress\\\\798266b224507c84ca0879ecd2d123bf2ced13a9.jpg', './clothes_dataset\\\\black_dress\\\\8127c84e417e749c26e5b70155b1534dbab62e8d.jpg', './clothes_dataset\\\\black_dress\\\\8142de7de3754bcc69609c3346ac5884aaaaca02.jpg', './clothes_dataset\\\\black_dress\\\\815575a8e2ae251846ff01a6872435e00826a1a3.jpg', './clothes_dataset\\\\black_dress\\\\828f09e60067ab62cef31ddd50681166a5f3bed7.jpg', './clothes_dataset\\\\black_dress\\\\8333aa8ab1bf243304cf7a76c33dcfe9a956d2dc.jpg', './clothes_dataset\\\\black_dress\\\\8343f3e26ccb9fd3cabc8f12e916c05feb21e2ab.jpg', './clothes_dataset\\\\black_dress\\\\863583c4eafc94c41e5a83c8261f9d5430e0981f.jpg', './clothes_dataset\\\\black_dress\\\\865686ddb13a88ee13285dd878e787711427705e.jpg', './clothes_dataset\\\\black_dress\\\\86911842f934ebb0a5ea7abc6d64cfd45bd0dce6.jpg', './clothes_dataset\\\\black_dress\\\\870dc5324dd92dc579df7efa9d3a08759978b9ff.jpg', './clothes_dataset\\\\black_dress\\\\878bea5e0d3a5479583f9664803c7cf4db2168d7.jpg', './clothes_dataset\\\\black_dress\\\\8794316bd83a0b7d04af908fe86a2c0cf01c78f6.jpg', './clothes_dataset\\\\black_dress\\\\882b5529866056594a72bbd5c6e130a88f5fcc7b.jpg', './clothes_dataset\\\\black_dress\\\\89127758dbd4bae593dbd423c3051903b7d7fb65.jpg', './clothes_dataset\\\\black_dress\\\\891a1e37f6e3c814c6010c5d15bdbe857511fe1c.jpg', './clothes_dataset\\\\black_dress\\\\8965c02be370075a35a370cd3d624f4659424534.jpg', './clothes_dataset\\\\black_dress\\\\90552797efcc4fb96cc30ee7ddbd976ce828e279.jpg', './clothes_dataset\\\\black_dress\\\\9065d622a1d81a31d6265c4f7db01a96a32267df.jpg', './clothes_dataset\\\\black_dress\\\\9108fbd65d1008f48edc34966e3ec8fae7a9f2d0.jpg', './clothes_dataset\\\\black_dress\\\\911adc6dfca5602b13517d58e8793912a87380fd.jpg', './clothes_dataset\\\\black_dress\\\\912eb01aa9a41665a3153c74e9901d18bcad2810.jpg', './clothes_dataset\\\\black_dress\\\\9130da71c1b7aee57d8b14dce18a388550f3a197.jpg', './clothes_dataset\\\\black_dress\\\\916aa9ef8557dbe7c22df84e18a1986763631bc5.jpg', './clothes_dataset\\\\black_dress\\\\919929e02a52231b628a2dc04b04a92f720d99a9.jpg', './clothes_dataset\\\\black_dress\\\\924325313d9cfd4be076a3e16a0410d0ea867ff5.jpg', './clothes_dataset\\\\black_dress\\\\9244408580e9e1a61f058f7b183474d1d353ae0f.jpg', './clothes_dataset\\\\black_dress\\\\92854874e957cc6432029d7b14beb8c083fb5543.jpg', './clothes_dataset\\\\black_dress\\\\94238d808c2a5d3334e3ae56464740e0f629611f.jpg', './clothes_dataset\\\\black_dress\\\\9441a104de29979470be5ae3ba1a13274d1a0032.jpg', './clothes_dataset\\\\black_dress\\\\947848012b862f374509f119d2e45f9898733056.jpg', './clothes_dataset\\\\black_dress\\\\947a981377eb6ddd85436eb12084700e7338cb4e.jpg', './clothes_dataset\\\\black_dress\\\\9567cb75efeaf3cc2b6d55ed52466f8d34df78d3.jpg', './clothes_dataset\\\\black_dress\\\\956aa85de5126891236177d293760ae1b6106f54.jpg', './clothes_dataset\\\\black_dress\\\\96642808e6f313f1d3d10ac534016a5967be3b18.jpg', './clothes_dataset\\\\black_dress\\\\968336f792ec9c0991e1d405807c0ae20b6582bf.jpg', './clothes_dataset\\\\black_dress\\\\96877be8e289d13b5daba4b42a43ae7baaaa282b.jpg', './clothes_dataset\\\\black_dress\\\\97770bfb6e0258b9e574c306ff6951db9b850200.jpg', './clothes_dataset\\\\black_dress\\\\977d24b314a1e22c9ef51f6b5cc8fb02b0e9a504.jpg', './clothes_dataset\\\\black_dress\\\\98712151b2672ffcbd4984dd1ac59bb5d188b29f.jpg', './clothes_dataset\\\\black_dress\\\\991ab6dcfa1ad917b4eb4292b2fb424334dd6c82.jpg', './clothes_dataset\\\\black_dress\\\\9928a8fee5eeb878a9e55b459026c495732711c3.jpg', './clothes_dataset\\\\black_dress\\\\9974d63c308778474f5ef5c536634c8cc279a9c7.jpg', './clothes_dataset\\\\black_dress\\\\a03f8c5ab4bc96533a4bb30bc9df0af911b5e286.jpg', './clothes_dataset\\\\black_dress\\\\a04ad098583f6721eacfc86f4b88b06a57ca655b.jpg', './clothes_dataset\\\\black_dress\\\\a0fcb794d52c30b7fda5657c8471d0e900320dd9.jpg', './clothes_dataset\\\\black_dress\\\\a10eb6a512e5332e0c57df1c03fb6272924bc744.jpg', './clothes_dataset\\\\black_dress\\\\a1197dc569b56c663bd32376cf3177c885a25f95.jpg', './clothes_dataset\\\\black_dress\\\\a15ca323891b2007219c1c7093e308fa7ce88be3.jpg', './clothes_dataset\\\\black_dress\\\\a1709c4a25ee1fa103cf17b111188512204650f9.jpg', './clothes_dataset\\\\black_dress\\\\a1cf0fe6cf694ed1381e37f5a3fb76fa3c970caf.jpg', './clothes_dataset\\\\black_dress\\\\a1d15ac0f49e5b7f58898d756091d35b97324eea.jpg', './clothes_dataset\\\\black_dress\\\\a283fe95dabb42e9d133c0d57e68453b906c6f2e.jpg', './clothes_dataset\\\\black_dress\\\\a29cfa15114800bb1a8ab07d4008621b6bc3dd18.jpg', './clothes_dataset\\\\black_dress\\\\a2a802f955adbd866b7a9aad132ee6ee9f3dd652.jpg', './clothes_dataset\\\\black_dress\\\\a36d702d9fb77c519879fae6840dd75db6f47800.jpg', './clothes_dataset\\\\black_dress\\\\a420e4e07eba3b4d65c110bea71cce8b15bcc40c.jpg', './clothes_dataset\\\\black_dress\\\\a46690cef792fc8704bceb10e0af73139543eb0f.jpg', './clothes_dataset\\\\black_dress\\\\a49b0c886bd0f7f0447fd715ab3d5536ca165b3c.jpg', './clothes_dataset\\\\black_dress\\\\a4be57f96fe3956b7553c62622760b725c8ca661.jpg', './clothes_dataset\\\\black_dress\\\\a4c0c597c361f4f048a5a3758f5c94410915de22.jpg', './clothes_dataset\\\\black_dress\\\\a52bce48aa04fa180f494273fcdc620589967b11.jpg', './clothes_dataset\\\\black_dress\\\\a5523971f8dd990f0ee3772836cac68f77fa65ca.jpg', './clothes_dataset\\\\black_dress\\\\a59499d0067a59f124c49e28ea47f05551d4a01d.jpg', './clothes_dataset\\\\black_dress\\\\a59c3b7df8882e09256fe29236afb5f24f78eaf7.jpg', './clothes_dataset\\\\black_dress\\\\a5b1dc19b27ccdae36764fc11981c1bb271b44e7.jpg', './clothes_dataset\\\\black_dress\\\\a5d8813e7aca493908a80c7615f3da17d19e222e.jpg', './clothes_dataset\\\\black_dress\\\\a6ab14595498b45b1ee75dea6f86675f3a3f2db3.jpg', './clothes_dataset\\\\black_dress\\\\a6b082b8d1698504c6ac315930ba8e9165c3318e.jpg', './clothes_dataset\\\\black_dress\\\\a6bc70a9f0b97dfd73826804a6a34092ef031f35.jpg', './clothes_dataset\\\\black_dress\\\\a6c5c5701fa5d8f66ba833f8c31f3a9758c968f3.jpg', './clothes_dataset\\\\black_dress\\\\a6c9d5edbe29d757a1207808f4c780be37463b99.jpg', './clothes_dataset\\\\black_dress\\\\a781222b30ffd2369d984acd356c13defc955b7e.jpg', './clothes_dataset\\\\black_dress\\\\a79922438cf50a48db55c4e9f7c22af2a7c57987.jpg', './clothes_dataset\\\\black_dress\\\\a7c7064c642d9a5aa490fe86edb81e6a72500e85.jpg', './clothes_dataset\\\\black_dress\\\\a8111551396b136ea9bb15b3ae62985e591185b0.jpg', './clothes_dataset\\\\black_dress\\\\a93a854fd098cb9d4c30d40797bd79a4c92ce8f4.jpg', './clothes_dataset\\\\black_dress\\\\a93d262330bb5893f6ff8b918ccada04c1d7babc.jpg', './clothes_dataset\\\\black_dress\\\\a93da13d78294091a62820e88d2e825f00f62bfd.jpg', './clothes_dataset\\\\black_dress\\\\a960de9ea5c428a18e0de628b382ca069d39939c.jpg', './clothes_dataset\\\\black_dress\\\\a9745152d23798300419ae6ba29d244bf84a1bcc.jpg', './clothes_dataset\\\\black_dress\\\\a984d1ce2463558070ed10f130ead7cc28878227.jpg', './clothes_dataset\\\\black_dress\\\\a9e1dbcad1ef74a1fd19da485e88218378fb00e4.jpg', './clothes_dataset\\\\black_dress\\\\ae37e11cf2e3f3c062ac4e5a08d568c758635ba0.jpg', './clothes_dataset\\\\black_dress\\\\ae6e82e10bf1a9e103610d7ad6e0dee56c24d151.jpg', './clothes_dataset\\\\black_dress\\\\ae765e31ce454a62a923c31d5933a30387ff553e.jpg', './clothes_dataset\\\\black_dress\\\\aebf7a7406f6ae383ff2e97031934ef30ccbbaf0.jpg', './clothes_dataset\\\\black_dress\\\\aed66c3d1224708acdfea0a325ece8bc89bb8483.jpg', './clothes_dataset\\\\black_dress\\\\aee9bae75fa4076987fc1ded5efcc3f4832e3575.jpg', './clothes_dataset\\\\black_dress\\\\af5b58cf028366366e296ce22762f51a4bbf6b0c.jpg', './clothes_dataset\\\\black_dress\\\\af5b8126049c4dfb1c2f57f7dff26ab0ddbf17ae.jpg', './clothes_dataset\\\\black_dress\\\\af73a75989f790b74530135788a94197e8e9b727.jpg', './clothes_dataset\\\\black_dress\\\\b025d09c7c5c1bed06db820da465e0a0e9567b7a.jpg', './clothes_dataset\\\\black_dress\\\\b03e926b11e522285a116a7d2ebab8abb3ce2a63.jpg', './clothes_dataset\\\\black_dress\\\\b08e8114a68e5f6910164a933c2b5e650d21ac35.jpg', './clothes_dataset\\\\black_dress\\\\b0ab7a03172fecbfd5fef604db6c6cabe3bf1453.jpg', './clothes_dataset\\\\black_dress\\\\b0dea2a0c6885477c95157b1ac8079c4dc980f1d.jpg', './clothes_dataset\\\\black_dress\\\\b1330754da4beaecc83e31961576101fef257776.jpg', './clothes_dataset\\\\black_dress\\\\b17a1047f7d3756bca85d6de5e86249c3989f020.jpg', './clothes_dataset\\\\black_dress\\\\b334f6158739c544e8db24da75dbb545828ef128.jpg', './clothes_dataset\\\\black_dress\\\\b356bb276906f40ea93762712dad5df68e60d6a7.jpg', './clothes_dataset\\\\black_dress\\\\b483f83820e60adecfd7cac7074c2e8e7fb5409a.jpg', './clothes_dataset\\\\black_dress\\\\b54ea33219f4e43524c1c6f0ca961e9ef7335b39.jpg', './clothes_dataset\\\\black_dress\\\\b55a5a863530d3fe8df9e82057eb43f8aa0964b5.jpg', './clothes_dataset\\\\black_dress\\\\b58b0a07d302505be22d6950d195caa6e10425a8.jpg', './clothes_dataset\\\\black_dress\\\\b5d3e4b23fda8a684fc77893dbefe1448b201891.jpg', './clothes_dataset\\\\black_dress\\\\b5e22313f17845c7f0289009ee3bbee812821fbb.jpg', './clothes_dataset\\\\black_dress\\\\b647b0e5f2c98094e8b0790a29e55e50ac63aeab.jpg', './clothes_dataset\\\\black_dress\\\\b66d6a1418972a227775ae80dbd4c7a87f3e17ae.jpg', './clothes_dataset\\\\black_dress\\\\b6a8a8b6273a92caf3358da3a01953f7af289e66.jpg', './clothes_dataset\\\\black_dress\\\\b6c4a0dadbc863b6ca8647bc5d4287ee3e88ee48.jpg', './clothes_dataset\\\\black_dress\\\\b7311667d8308f5e504813102a732e9707f7e9c5.jpg', './clothes_dataset\\\\black_dress\\\\b7a27dc160e4255a4883cd5205c0be1e8e26faf8.jpg', './clothes_dataset\\\\black_dress\\\\b7f83e631f30b4dff9367648ec4a618ea5b42a35.jpg', './clothes_dataset\\\\black_dress\\\\b8a14f2ddd823d578503617898353dfc7e72cad3.jpg', './clothes_dataset\\\\black_dress\\\\b8f9e0b4c90597d7a837db45d13633fc0a6bdb12.jpg', './clothes_dataset\\\\black_dress\\\\b91989601cbe74862806aed045e822eb3504fca5.jpg', './clothes_dataset\\\\black_dress\\\\b92fe1fdb505ae14b4797e708c8a5677b1cce99f.jpg', './clothes_dataset\\\\black_dress\\\\b93d44131f81772197c9b2633d0b3f098d36fcc6.jpg', './clothes_dataset\\\\black_dress\\\\b950a997aa6573feb5b2a6dfa3cb6a9c97dcb0cf.jpg', './clothes_dataset\\\\black_dress\\\\b9ecec7577786d7e9b50c6b7fba47a174e2e7d07.jpg', './clothes_dataset\\\\black_dress\\\\ba16e79c2e5b67111b4bde91514e7a6a25cee65f.jpg', './clothes_dataset\\\\black_dress\\\\ba48f1ad93987407f24212d2610320c0aa4deb12.jpg', './clothes_dataset\\\\black_dress\\\\ba8b88bfcccd3b831b87a6b3f15987b087464438.jpg', './clothes_dataset\\\\black_dress\\\\bada627e69fc43e5140521335bbdf17fc7e0164a.jpg', './clothes_dataset\\\\black_dress\\\\bb191e87feeb1ca3e0e90ac22ccac6c6face634a.jpg', './clothes_dataset\\\\black_dress\\\\bc1cecde6b75edfb2885bb4f3d10ddb1a0de5ffb.jpg', './clothes_dataset\\\\black_dress\\\\bc75f96ad09fd7077a9d0ebeb3ef201d5057cf5b.jpg', './clothes_dataset\\\\black_dress\\\\bc81b3cc6e9d4b4ca9cc831292ab9ff42a45ca30.jpg', './clothes_dataset\\\\black_dress\\\\bcaf809114b7fb431bda98bd767d3110952a2c55.jpg', './clothes_dataset\\\\black_dress\\\\bce5c3343195a54d272e80996f13ebadf163ad7a.jpg', './clothes_dataset\\\\black_dress\\\\bcf248e15531d78d3310b212f4a829ef39a6038a.jpg', './clothes_dataset\\\\black_dress\\\\bd0f679a0e56291326164fe521c970944b1819ef.jpg', './clothes_dataset\\\\black_dress\\\\bd724578e88cecc2a51a575e61eef39323248574.jpg', './clothes_dataset\\\\black_dress\\\\bdd71d1eab3de97af8a39b61fc0202594c936ad5.jpg', './clothes_dataset\\\\black_dress\\\\bdfc36686750b1f7adb4db0bb9511433452d7e56.jpg', './clothes_dataset\\\\black_dress\\\\be1f569b2715ea88738baab8e6e55b0669682db0.jpg', './clothes_dataset\\\\black_dress\\\\be3c24944430700ccef108e08c573c28f10575a2.jpg', './clothes_dataset\\\\black_dress\\\\be655d0995d4822dbe31f6cb17b8cf1f7275a2cb.jpg', './clothes_dataset\\\\black_dress\\\\be90f40010a01fe60a3e6c7ab92a69f13f86294d.jpg', './clothes_dataset\\\\black_dress\\\\be9c51def4d0bdc97b7643a59f4c2c19793574a1.jpg', './clothes_dataset\\\\black_dress\\\\beb9846aa73bc988d27775165154d4bbfadfffc7.jpg', './clothes_dataset\\\\black_dress\\\\bec66322472cb562ab98960a6dac85fb3e050976.jpg', './clothes_dataset\\\\black_dress\\\\bfa40227bd3c68a87bf75e42f6efc369c0a1eee3.jpg', './clothes_dataset\\\\black_dress\\\\bfca000bbf2945c51f25b4ee44fc02eef609ac17.jpg', './clothes_dataset\\\\black_dress\\\\bfd50c9b4c20839c62c8cfa9ea45c8c909b014a6.jpg', './clothes_dataset\\\\black_dress\\\\c09171bebafb63b98490b538b345e76dd27e30e1.jpg', './clothes_dataset\\\\black_dress\\\\c09f8aacdd1305118be752f3645dd98546a77238.jpg', './clothes_dataset\\\\black_dress\\\\c0cd3b0d70358cf386e85d630f9c25a650ab5b75.jpg', './clothes_dataset\\\\black_dress\\\\c0d8131df1703be20626d3d2f78bc7b105eba295.jpg', './clothes_dataset\\\\black_dress\\\\c103aa5fb770d845824047435e329ce34c6da12a.jpg', './clothes_dataset\\\\black_dress\\\\c11abc6bac4323c6a71ea085efa43f6195e3beda.jpg', './clothes_dataset\\\\black_dress\\\\c1836bae388f3540736b8caf2cfb7d089441870b.jpg', './clothes_dataset\\\\black_dress\\\\c1ad4f8f1acedf1058c63cb22562c35e765c27d1.jpg', './clothes_dataset\\\\black_dress\\\\c20ccb95504b404626fa42adab55e4e0d84b0673.jpg', './clothes_dataset\\\\black_dress\\\\c4026597a688e79b0712279b4b5589d26f770414.jpg', './clothes_dataset\\\\black_dress\\\\c43861c6706b37763ca8fce8a899cdcb682ae88c.jpg', './clothes_dataset\\\\black_dress\\\\c46ee34a17447721e4c3064be2a3284bdf6bb484.jpg', './clothes_dataset\\\\black_dress\\\\c47c73be2ec69a3f90fd6cf200543309aaafa695.jpg', './clothes_dataset\\\\black_dress\\\\c4899249c9c4772a01aadec50491dcd7d068eb33.jpg', './clothes_dataset\\\\black_dress\\\\c49b3baeaf46a1eac1e0bc9b3bb488469b5bdba6.jpg', './clothes_dataset\\\\black_dress\\\\c4d716f07440a983a42466cd00f814250514fdd0.jpg', './clothes_dataset\\\\black_dress\\\\c5572fc0ed41a01d848fdb48c60ea40ea8e53742.jpg', './clothes_dataset\\\\black_dress\\\\c57db4505d6649ca398b15c16c61ecb4e69a0eb3.jpg', './clothes_dataset\\\\black_dress\\\\c591171b500f8985fdf9ba4d45aaf34f487850cd.jpg', './clothes_dataset\\\\black_dress\\\\c60e16a9df9fe0df65a217b2f0b83d194fa6c849.jpg', './clothes_dataset\\\\black_dress\\\\c60f6d865651922b5b0e41ce18444bc15729381f.jpg', './clothes_dataset\\\\black_dress\\\\c65f9c57eae8129412c1cf00cdc4e0c6387a9ef8.jpg', './clothes_dataset\\\\black_dress\\\\c661bc24ed9c22f32c5381011ca301e1cbdd2daf.jpg', './clothes_dataset\\\\black_dress\\\\c66a69e4c4a9f2676dc97fe333f10d3395560770.jpg', './clothes_dataset\\\\black_dress\\\\c67480bc3835a7252ce96f4123c393181940f4d4.jpg', './clothes_dataset\\\\black_dress\\\\c6be7cfb7827fb13338b6097b897e28734acbf42.jpg', './clothes_dataset\\\\black_dress\\\\c710e05045d1b770f4f8576c3db79724109b6c1e.jpg', './clothes_dataset\\\\black_dress\\\\c749c9d74fce51d4eff6aab2eea6ad34c8dad8a0.jpg', './clothes_dataset\\\\black_dress\\\\c83926d1014e08d1872f54b2a83cc4da33ece750.jpg', './clothes_dataset\\\\black_dress\\\\c8b197ac068911c0813d1f98fb5c2569d9176d79.jpg', './clothes_dataset\\\\black_dress\\\\c9cc5abb40dcd8e75d74349aa3472e7c2aacb234.jpg', './clothes_dataset\\\\black_dress\\\\ca6b61533c319c42ad2f11eb259d51180a177f19.jpg', './clothes_dataset\\\\black_dress\\\\ccf735e2651229172bee05d965673bb60fa81ab3.jpg', './clothes_dataset\\\\black_dress\\\\cd18668ce1e03efe465ab45d173b52ef41ff576a.jpg', './clothes_dataset\\\\black_dress\\\\cd45ad61738499fe89da9d5a5ecc08006390d51e.jpg', './clothes_dataset\\\\black_dress\\\\cd546b97aa8622ffe33ce0f9660d49ef9d45b061.jpg', './clothes_dataset\\\\black_dress\\\\cd5f25eca60792884870f496649e72e62cdf8922.jpg', './clothes_dataset\\\\black_dress\\\\cd7cb98578fbbd0b97422cd2633c7cfdb34686b2.jpg', './clothes_dataset\\\\black_dress\\\\cdc50820157121c046b6451ff1e63f146fd5d347.jpg', './clothes_dataset\\\\black_dress\\\\ce0eaa176150ca71221e873404b3946e5804c4fa.jpg', './clothes_dataset\\\\black_dress\\\\cec78da37f7772cecd951543474b5d3c073aa080.jpg', './clothes_dataset\\\\black_dress\\\\cefffefb0cee7fafd65de0891129c3481158dd1d.jpg', './clothes_dataset\\\\black_dress\\\\cf4a07c808e05b9bc008ce403410b9dd59417249.jpg', './clothes_dataset\\\\black_dress\\\\cf8aad89840634a558d1504dfef983712f5fa976.jpg', './clothes_dataset\\\\black_dress\\\\d0fcff7e6b6b32ab049dc2e3fca06f2491ade415.jpg', './clothes_dataset\\\\black_dress\\\\d1600a7372b6d289a17eb58a849917e15a1f46bc.jpg', './clothes_dataset\\\\black_dress\\\\d18d878686e3c5c75e05ce2ea604781b7b8cc766.jpg', './clothes_dataset\\\\black_dress\\\\d230dbb9c8329935408e35d83a77f40830586ebe.jpg', './clothes_dataset\\\\black_dress\\\\d24b443a841a24bf3bed9b03672a65fc1ad62601.jpg', './clothes_dataset\\\\black_dress\\\\d269545dc4ba784aa08a997c70e39dfc3ce9301b.jpg', './clothes_dataset\\\\black_dress\\\\d33570cfa5785837c6460352df75bab19ceb2cb1.jpg', './clothes_dataset\\\\black_dress\\\\d37ec7cf66aef00254d7b66dcae068b6d5247acf.jpg', './clothes_dataset\\\\black_dress\\\\d4023dc074eaf5d42610622038c524a3caf973c7.jpg', './clothes_dataset\\\\black_dress\\\\d42007b1e8daf0e730d8c6e4c3960481a9c07e52.jpg', './clothes_dataset\\\\black_dress\\\\d44f82475e1c568776d6116101ce15a22a0d8ed0.jpg', './clothes_dataset\\\\black_dress\\\\d502517f082732ff12ba65ae398829c222f98d18.jpg', './clothes_dataset\\\\black_dress\\\\d58aeb5edebbecede07e492c1a87994cf9b920a9.jpg', './clothes_dataset\\\\black_dress\\\\d593458fa7534f39f20284a68377338e0a7368fa.jpg', './clothes_dataset\\\\black_dress\\\\d5ecb93d8c6ecbd97901f696153b30a0ab098353.jpg', './clothes_dataset\\\\black_dress\\\\d605313ee441a700f56bce1ebd5b0ed1196c4e54.jpg', './clothes_dataset\\\\black_dress\\\\d776fac9856c96a247e470b961b9015d1d2f0639.jpg', './clothes_dataset\\\\black_dress\\\\d780f66cecb5977eaaa003f34419e9c4c5871123.jpg', './clothes_dataset\\\\black_dress\\\\d7b169864b38e54a01f6093dc74c5afab46eef2d.jpg', './clothes_dataset\\\\black_dress\\\\d87d7928ed8f10be87b74b7dfc725f37cbb49613.jpg', './clothes_dataset\\\\black_dress\\\\d8a0e5ad71a69c887546b6f04c6d49b56f771749.jpg', './clothes_dataset\\\\black_dress\\\\d961ea55f40e430cf6d980446c6e93f34df473d4.jpg', './clothes_dataset\\\\black_dress\\\\d989b93780c9c5889b73c3df1f9c26fa5e4656bd.jpg', './clothes_dataset\\\\black_dress\\\\da1bd1d3a536083567f5eb2b44cc07d31c7b1962.jpg', './clothes_dataset\\\\black_dress\\\\da836df2abb6d6dc065e5a3a6c52b7c66da2d182.jpg', './clothes_dataset\\\\black_dress\\\\daaaefa27a078aa0215f1bbc544afa07cfc29e4a.jpg', './clothes_dataset\\\\black_dress\\\\dacb51a48a858542e28c95cfd8afd760d56eb2ad.jpg', './clothes_dataset\\\\black_dress\\\\db266ceddee96994ba5803e5d938d22bf5aeaab2.jpg', './clothes_dataset\\\\black_dress\\\\db5b274a4dfa4b86cf2b08886cec0d3d18217e30.jpg', './clothes_dataset\\\\black_dress\\\\db834584b37d901492827afa9f681a9eab4d3719.jpg', './clothes_dataset\\\\black_dress\\\\dbf0068b576aa068f75de5d068f3ad9afca30664.jpg', './clothes_dataset\\\\black_dress\\\\dbf30d07ff70b6bddefa20665333f250ce1e68b2.jpg', './clothes_dataset\\\\black_dress\\\\dc175af6623db9c00dcc2d56225f4724dd3b7180.jpg', './clothes_dataset\\\\black_dress\\\\dc4b12b15914b173eff4668ff88bb2c648c0b9f8.jpg', './clothes_dataset\\\\black_dress\\\\dc9c45351a8bf9a883cf4a0447dee4a2dcd69346.jpg', './clothes_dataset\\\\black_dress\\\\dcbdecb1ec38de943f70dec66cf73a2f07a7ed9c.jpg', './clothes_dataset\\\\black_dress\\\\dcc105bbda5ce8211f94ea2b2fb80c491da90713.jpg', './clothes_dataset\\\\black_dress\\\\ddd1aa036317a720d6a927a3c4c3d260115c9dba.jpg', './clothes_dataset\\\\black_dress\\\\dde0cebfeaf397d208ec8d956b1f21afde17f3be.jpg', './clothes_dataset\\\\black_dress\\\\de3029c17e7893aeadb4dad44ee50f495c0982fa.jpg', './clothes_dataset\\\\black_dress\\\\de5d2e908c7e6bdaa53210c92caced3bf3364c42.jpg', './clothes_dataset\\\\black_dress\\\\dea9c9fd3d4deda7481ab8df56697007f8fb1097.jpg', './clothes_dataset\\\\black_dress\\\\dec2e2c0817939d9e9c1831356eaafaf2a626355.jpg', './clothes_dataset\\\\black_dress\\\\e00ed1285c06c76a16c4f37835ccdae1620cac25.jpg', './clothes_dataset\\\\black_dress\\\\e00ee40b1a5a416efcd24798030d0c8944c51255.jpg', './clothes_dataset\\\\black_dress\\\\e1111b73e6d273429e2b1844d8de41b56446c600.jpg', './clothes_dataset\\\\black_dress\\\\e14d81ff2d51ccf6e80b59fec946e85d69848899.jpg', './clothes_dataset\\\\black_dress\\\\e1b19c1e69bd60c09cfd90fe160c7fc319f277f6.jpg', './clothes_dataset\\\\black_dress\\\\e1d16d728aae51aca2db834ca9b2c2e821ea4c05.jpg', './clothes_dataset\\\\black_dress\\\\e235dc7ef44b33e37a90f222cbe2f0daf35c0923.jpg', './clothes_dataset\\\\black_dress\\\\e270742bde20e51429eeb5c93101f57aa052c932.jpg', './clothes_dataset\\\\black_dress\\\\e27981e4aaba35d0f672e0a1f3e0ead62b066999.jpg', './clothes_dataset\\\\black_dress\\\\e35011b142e0b14cef83d7243f8a2a2281568fa5.jpg', './clothes_dataset\\\\black_dress\\\\e3b6e6ba8e7245c72309b68fb6594e9381594250.jpg', './clothes_dataset\\\\black_dress\\\\e3ce7d4a0fa715c7c7424b9225d0a014a452cc3a.jpg', './clothes_dataset\\\\black_dress\\\\e465bd787189a9314825e0e2c5a5fe5c1198bd8c.jpg', './clothes_dataset\\\\black_dress\\\\e4bd32946661872a864b6f35e45bff23baeb8126.jpg', './clothes_dataset\\\\black_dress\\\\e4da82ddbe73377a84b12bbf93a1d75131e2f971.jpg', './clothes_dataset\\\\black_dress\\\\e5033e469239352ef2434c1b142fe3500e90e4fe.jpg', './clothes_dataset\\\\black_dress\\\\e6256e05915916b1cf50e6405b8ceb1fe061d5ac.jpg', './clothes_dataset\\\\black_dress\\\\e674dd8a1ac3d4dc1a99b54c05b5f3e6caa7c53e.jpg', './clothes_dataset\\\\black_dress\\\\e69e6b8c4561544f81a9c8efe4bd759fb08fa4d0.jpg', './clothes_dataset\\\\black_dress\\\\e6c7e77ca48e0fb4388d8db8fcd6c9d7ff4723a8.jpg', './clothes_dataset\\\\black_dress\\\\e6d8ed78048c5b0d20d6b6a9caf3a0f4cec4010f.jpg', './clothes_dataset\\\\black_dress\\\\e747daf429db75168c47ecd45fdd9b00b86b0b1b.jpg', './clothes_dataset\\\\black_dress\\\\e7aa307fcf2feb2a420d142cc0444964e0346477.jpg', './clothes_dataset\\\\black_dress\\\\e7af100c966e056193ad1c7b8b81d9f90af23b0e.jpg', './clothes_dataset\\\\black_dress\\\\e7f9b6e9eb53a1b17a73a13c70c0de25ce2a931c.jpg', './clothes_dataset\\\\black_dress\\\\e89333ac34da0ad3f57c6ff027213fa8b6a22da7.jpg', './clothes_dataset\\\\black_dress\\\\e8cfa40b95cc35d5a6d7400da817463370986c4f.jpg', './clothes_dataset\\\\black_dress\\\\e8ee626f4e3f464eac077b5da8422f3ab4edda5d.jpg', './clothes_dataset\\\\black_dress\\\\e92ddaa2d255b951f191d8435f4ff82b421fcd20.jpg', './clothes_dataset\\\\black_dress\\\\e9a7b410f2db7beef9e5909b9bbd9a64246defcb.jpg', './clothes_dataset\\\\black_dress\\\\e9adbded476d7a4c36d293fac5fbdee6f83831a2.jpg', './clothes_dataset\\\\black_dress\\\\e9edeec1987d955a2b811ee3ee2c882eafac77c4.jpg', './clothes_dataset\\\\black_dress\\\\ea7f7fd268a50698e2fdf93ee84c2dfb8127a21e.jpg', './clothes_dataset\\\\black_dress\\\\ead9384c2c452310101ebfd539f049d2aa805f1f.jpg', './clothes_dataset\\\\black_dress\\\\eaebc993f116a77a213e5e24d5470dc4ce6c978b.jpg', './clothes_dataset\\\\black_dress\\\\eaf3159c0b7b713cd6f6984715522b3d98027815.jpg', './clothes_dataset\\\\black_dress\\\\eba39ff99396f20224f52bb5ec81afeb726644b7.jpg', './clothes_dataset\\\\black_dress\\\\ebe4813b57b1a51e0c63107c678beea68ea1692c.jpg', './clothes_dataset\\\\black_dress\\\\ec25c4b0c64f5ab24d7996cf14965103785ab5d8.jpg', './clothes_dataset\\\\black_dress\\\\ec62288e1cde831ce42579d1e13d45de38316083.jpg', './clothes_dataset\\\\black_dress\\\\ec8032adf1f178a5a3af165d07f56ef92d52d81d.jpg', './clothes_dataset\\\\black_dress\\\\ec8254b2ae9a199d0bf25a668f65989b39552d79.jpg', './clothes_dataset\\\\black_dress\\\\ec88a250679ea3fe32111560a2483c67fb3806ec.jpg', './clothes_dataset\\\\black_dress\\\\eca75ec5b12c3fbe95f667105414303fcc0e65c0.jpg', './clothes_dataset\\\\black_dress\\\\ecb2fd3690f6d8cc28ff3df94f33eaaddb0a7f8d.jpg', './clothes_dataset\\\\black_dress\\\\ed2a662ddf34246f333e6a35af7ec1c90b4c0bbd.jpg', './clothes_dataset\\\\black_dress\\\\ed43173bed29fc28da2559c55b2d297964e9122d.jpg', './clothes_dataset\\\\black_dress\\\\ed9a129e55d68df99f99654ed1e2565559474ed4.jpg', './clothes_dataset\\\\black_dress\\\\edbfc96ca56051569f13b92c74acb1496494a079.jpg', './clothes_dataset\\\\black_dress\\\\edfba1a783704f4e0dd1c76174ca31da9e89656f.jpg', './clothes_dataset\\\\black_dress\\\\eea999dc1cf332deac5434610c2a19929465d55a.jpg', './clothes_dataset\\\\black_dress\\\\eefd783b581098013ae97a7f475505ea799b3807.jpg', './clothes_dataset\\\\black_dress\\\\ef7cc7e779da92f4bf5bded809740b69f1746dc2.jpg', './clothes_dataset\\\\black_dress\\\\ef7e31f36807d9b689bd2a89887bca823b8047ee.jpg', './clothes_dataset\\\\black_dress\\\\f035ca428ad40a5d82997de5b35957b9ff3f0848.jpg', './clothes_dataset\\\\black_dress\\\\f07a5ed889a7a9447dae15077dee3fef7d29ba0e.jpg', './clothes_dataset\\\\black_dress\\\\f0857d6b9d9ece0c412a795e57fb7f91142012e0.jpg', './clothes_dataset\\\\black_dress\\\\f0e4e6c3f1f40934efff1ae68dc808303c5c63ec.jpg', './clothes_dataset\\\\black_dress\\\\f0ee82d235e779ca27f13a0f17be5b2564684adf.jpg', './clothes_dataset\\\\black_dress\\\\f11d53239a32ba0725a2616ea0f05cf91ce452aa.jpg', './clothes_dataset\\\\black_dress\\\\f162e89e2ea7f3ba5614e93637799c40eeff168f.jpg', './clothes_dataset\\\\black_dress\\\\f1b566d4dd0af3da0868fe6eb470a6d79dc95fe3.jpg', './clothes_dataset\\\\black_dress\\\\f1be3239377f9886a3e3267f06e3e6e542e047fb.jpg', './clothes_dataset\\\\black_dress\\\\f1df96e49900bbb8ecbd5d76a803038ed6bfad25.jpg', './clothes_dataset\\\\black_dress\\\\f294ee6d1f46b1463bb91b5b9029fc0442f9d45c.jpg', './clothes_dataset\\\\black_dress\\\\f369049121dd7bfacd1a23de3631fe87eef712e9.jpg', './clothes_dataset\\\\black_dress\\\\f37f4f140c26e2a26bbd1772c84349a9c5b4697f.jpg', './clothes_dataset\\\\black_dress\\\\f3a3a9ba3ca14c6658dcb836b2a6602959c9345d.jpg', './clothes_dataset\\\\black_dress\\\\f3bfeb8fd6cc27338121e9f0888db58df30c200a.jpg', './clothes_dataset\\\\black_dress\\\\f3d916bb20ce66cc407f79ac218eb9d2889dc625.jpg', './clothes_dataset\\\\black_dress\\\\f3fa660dc249a8e4a046053d36d0892864efeec8.jpg', './clothes_dataset\\\\black_dress\\\\f445962a0a3e19778cf0270ea87bd47631b95b7c.jpg', './clothes_dataset\\\\black_dress\\\\f482412ae26a18b6b6be581d2c9b503d7ad3c3ad.jpg', './clothes_dataset\\\\black_dress\\\\f4a456df6750c65516f3c4b482b3920d511533b3.jpg', './clothes_dataset\\\\black_dress\\\\f51b02085aff3c11051d392cfd64a2656e5b5415.jpg', './clothes_dataset\\\\black_dress\\\\f5245b3eb7a103f71a199c32b4cf9eade10b4ed7.jpg', './clothes_dataset\\\\black_dress\\\\f5998236ea84d86204aa4e10da952f7cb19eb119.jpg', './clothes_dataset\\\\black_dress\\\\f5b3d5e5def05d3a299bd83887031a02f0378de1.jpg', './clothes_dataset\\\\black_dress\\\\f5b3d74c2d0ff116b2619d3f546a4a46f8e9d687.jpg', './clothes_dataset\\\\black_dress\\\\f5f034342af6ac7d91d07269e27a6289562039e8.jpg', './clothes_dataset\\\\black_dress\\\\f5fefc73bb1afc4a679413ef3e855a8a0f90a3f1.jpg', './clothes_dataset\\\\black_dress\\\\f6025c89e2bac62777a66584a339ebf1e8b61bf9.jpg', './clothes_dataset\\\\black_dress\\\\f632bf23b96710c28d30f4e3826f87d27f8b791e.jpg', './clothes_dataset\\\\black_dress\\\\f635d27180c44cf2b656deac6269c684b8340fc6.jpg', './clothes_dataset\\\\black_dress\\\\f6781272325b007f85365eedbefb54c731302560.jpg', './clothes_dataset\\\\black_dress\\\\f6838b58db91f2c68f689063ea7c3cfbdec130f4.jpg', './clothes_dataset\\\\black_dress\\\\f6cf793dfb3f690ed32e9a836c5a030a61a8f39c.jpg', './clothes_dataset\\\\black_dress\\\\f6fb7a81c8edc8e469e6b68b0e2e9332117b3af8.jpg', './clothes_dataset\\\\black_dress\\\\f70bfc6d2e6e3a310b2e355e7fbd2628e5f15b4e.jpg', './clothes_dataset\\\\black_dress\\\\f71f22fa3fe60361dccf0e6d5f1a7bd9f66c6eff.jpg', './clothes_dataset\\\\black_dress\\\\f7583b5233135c0433bb538a209d231357e463db.jpg', './clothes_dataset\\\\black_dress\\\\f9586c54ebdd554c5fcd38dbb9460d0320b66259.jpg', './clothes_dataset\\\\black_dress\\\\f97043352571f3c0f8fa8ef65ea099292f7a179c.jpg', './clothes_dataset\\\\black_dress\\\\f9e2da667a1a22dc0b24f3dfd6074e236e64221c.jpg', './clothes_dataset\\\\black_dress\\\\faccffdb10ae10b83707a1e49a8d17dcdbca7b89.jpg', './clothes_dataset\\\\black_dress\\\\fb15257f0f4300682d45b7efb59fab05ef6db60a.jpg', './clothes_dataset\\\\black_dress\\\\fb3fbb3a040f50acb7cf07e7bdff8bdd96dcd8d1.jpg', './clothes_dataset\\\\black_dress\\\\fb9ec8ace6ec5802ab1ad2eb74edd9e46b4f72fa.jpg', './clothes_dataset\\\\black_dress\\\\fbb563a8994a7b03206a34dbbc84204365007521.jpg', './clothes_dataset\\\\black_dress\\\\fbef520b6d9d607bdb118c0c14ca0397b4df14e0.jpg', './clothes_dataset\\\\black_dress\\\\fc0cfc7e4269ff641b332355b5f06669c8d889a3.jpg', './clothes_dataset\\\\black_dress\\\\fc71f683fd496f7fd323f254148fa8f5a5081a3a.jpg', './clothes_dataset\\\\black_dress\\\\fc930e857306ac6bfb3dff74e8bbbc7033daaa7e.jpg', './clothes_dataset\\\\black_dress\\\\fccb4690af971c98fd42897c6fad452ef8ca330e.jpg', './clothes_dataset\\\\black_dress\\\\fd15521428f1d552da1fab2b8321c6a0bf610d76.jpg', './clothes_dataset\\\\black_dress\\\\fda233dd397195015023b88d4c38b99aed6d0a83.jpg', './clothes_dataset\\\\black_dress\\\\fde23c9296effbcf0be4511d4109adf84116ae20.jpg', './clothes_dataset\\\\black_dress\\\\fdf0966cf815ecf232dc4869595b4b72aecff6b2.jpg', './clothes_dataset\\\\black_dress\\\\fe453d2f1e0c747b5949ff583d7c25e07aa1f8e2.jpg', './clothes_dataset\\\\black_dress\\\\fe65d0f9cc2b160e623401d189c5c81188529ca2.jpg', './clothes_dataset\\\\black_dress\\\\fe9327cce27f1c32079e99f3cd8c340e7469a2ac.jpg', './clothes_dataset\\\\black_dress\\\\fec9c72b6e6ee1885dfd553fd6fd6ae166d03028.jpg', './clothes_dataset\\\\black_dress\\\\fecf39c852176088a10b31e8bc61f7b5850d2072.jpg', './clothes_dataset\\\\black_dress\\\\ff0268d9d8cc1a61ef49cd70bf0db6d81f00ea36.jpg', './clothes_dataset\\\\black_dress\\\\ff04963fab34c97df01440a3cab1ac9c7e15c246.jpg', './clothes_dataset\\\\black_dress\\\\ff8b80eae1969fcb47c34332b19eec9a9ff7cb29.jpg']\n"
     ]
    }
   ],
   "source": [
    "for folder in folderList:\n",
    "    print(glob(folder + '/*.jpg'))\n",
    "    break"
   ]
  },
  {
   "cell_type": "code",
   "execution_count": 12,
   "metadata": {},
   "outputs": [],
   "source": [
    "x,y = [],[]\n",
    "folderList = glob('./clothes_dataset/*')\n",
    "\n",
    "for cnt,folder in enumerate(folderList):\n",
    "    fileList = glob(folder + '/*.jpg')\n",
    "    for file in fileList:\n",
    "        img = Image.open(file)\n",
    "        img = img.resize((180,180))\n",
    "        imgArr = np.array(img)\n",
    "        x.append(imgArr)\n",
    "        y.append(cnt)"
   ]
  },
  {
   "cell_type": "code",
   "execution_count": 13,
   "metadata": {},
   "outputs": [
    {
     "data": {
      "text/plain": [
       "((11385, 180, 180, 3), (11385,))"
      ]
     },
     "execution_count": 13,
     "metadata": {},
     "output_type": "execute_result"
    }
   ],
   "source": [
    "np.shape(x), np.shape(y)"
   ]
  },
  {
   "cell_type": "code",
   "execution_count": 14,
   "metadata": {},
   "outputs": [
    {
     "data": {
      "text/plain": [
       "array([ 0,  1,  2,  3,  4,  5,  6,  7,  8,  9, 10, 11, 12, 13, 14, 15, 16,\n",
       "       17, 18, 19, 20, 21, 22, 23])"
      ]
     },
     "execution_count": 14,
     "metadata": {},
     "output_type": "execute_result"
    }
   ],
   "source": [
    "np.unique(y)"
   ]
  },
  {
   "cell_type": "code",
   "execution_count": 15,
   "metadata": {},
   "outputs": [
    {
     "data": {
      "text/plain": [
       "[0, 0, 0, 0, 0, 1, 1, 1, 1, 1, 1, 1, 1, 1]"
      ]
     },
     "execution_count": 15,
     "metadata": {},
     "output_type": "execute_result"
    }
   ],
   "source": [
    "# black_dress가 450개여서 y 라벨 0,1이 제대로 들어갔는지 확인\n",
    "y[445:459]"
   ]
  },
  {
   "cell_type": "code",
   "execution_count": 16,
   "metadata": {},
   "outputs": [],
   "source": [
    "np.savez('clothes.npz', Xdata=x, Ydata=y)"
   ]
  },
  {
   "cell_type": "code",
   "execution_count": 17,
   "metadata": {},
   "outputs": [
    {
     "data": {
      "text/plain": [
       "['Xdata', 'Ydata']"
      ]
     },
     "execution_count": 17,
     "metadata": {},
     "output_type": "execute_result"
    }
   ],
   "source": [
    "data = np.load('clothes.npz')\n",
    "list(data)"
   ]
  },
  {
   "cell_type": "code",
   "execution_count": null,
   "metadata": {},
   "outputs": [],
   "source": [
    "Xdata = data['Xdata']\n",
    "Ydata = data['Ydata']"
   ]
  },
  {
   "cell_type": "code",
   "execution_count": 18,
   "metadata": {},
   "outputs": [
    {
     "data": {
      "text/plain": [
       "['./clothes_dataset\\\\black_dress',\n",
       " './clothes_dataset\\\\black_pants',\n",
       " './clothes_dataset\\\\black_shirt',\n",
       " './clothes_dataset\\\\black_shoes',\n",
       " './clothes_dataset\\\\black_shorts',\n",
       " './clothes_dataset\\\\blue_dress',\n",
       " './clothes_dataset\\\\blue_pants',\n",
       " './clothes_dataset\\\\blue_shirt',\n",
       " './clothes_dataset\\\\blue_shoes',\n",
       " './clothes_dataset\\\\blue_shorts',\n",
       " './clothes_dataset\\\\brown_pants',\n",
       " './clothes_dataset\\\\brown_shoes',\n",
       " './clothes_dataset\\\\brown_shorts',\n",
       " './clothes_dataset\\\\green_pants',\n",
       " './clothes_dataset\\\\green_shirt',\n",
       " './clothes_dataset\\\\green_shoes',\n",
       " './clothes_dataset\\\\green_shorts',\n",
       " './clothes_dataset\\\\red_dress',\n",
       " './clothes_dataset\\\\red_pants',\n",
       " './clothes_dataset\\\\red_shoes',\n",
       " './clothes_dataset\\\\white_dress',\n",
       " './clothes_dataset\\\\white_pants',\n",
       " './clothes_dataset\\\\white_shoes',\n",
       " './clothes_dataset\\\\white_shorts']"
      ]
     },
     "execution_count": 18,
     "metadata": {},
     "output_type": "execute_result"
    }
   ],
   "source": [
    "folderList = glob('./clothes_dataset/*')\n",
    "folderList"
   ]
  },
  {
   "cell_type": "code",
   "execution_count": 22,
   "metadata": {},
   "outputs": [
    {
     "data": {
      "text/plain": [
       "'black_dress'"
      ]
     },
     "execution_count": 22,
     "metadata": {},
     "output_type": "execute_result"
    }
   ],
   "source": [
    "folderList[0].split('\\\\')[-1]"
   ]
  },
  {
   "cell_type": "code",
   "execution_count": 25,
   "metadata": {},
   "outputs": [],
   "source": [
    "class_names = []\n",
    "for i in folderList:\n",
    "    class_names.append(i.split('\\\\')[-1])"
   ]
  },
  {
   "cell_type": "code",
   "execution_count": 26,
   "metadata": {},
   "outputs": [
    {
     "data": {
      "text/plain": [
       "['black_dress',\n",
       " 'black_pants',\n",
       " 'black_shirt',\n",
       " 'black_shoes',\n",
       " 'black_shorts',\n",
       " 'blue_dress',\n",
       " 'blue_pants',\n",
       " 'blue_shirt',\n",
       " 'blue_shoes',\n",
       " 'blue_shorts',\n",
       " 'brown_pants',\n",
       " 'brown_shoes',\n",
       " 'brown_shorts',\n",
       " 'green_pants',\n",
       " 'green_shirt',\n",
       " 'green_shoes',\n",
       " 'green_shorts',\n",
       " 'red_dress',\n",
       " 'red_pants',\n",
       " 'red_shoes',\n",
       " 'white_dress',\n",
       " 'white_pants',\n",
       " 'white_shoes',\n",
       " 'white_shorts']"
      ]
     },
     "execution_count": 26,
     "metadata": {},
     "output_type": "execute_result"
    }
   ],
   "source": [
    "class_names"
   ]
  },
  {
   "cell_type": "code",
   "execution_count": 27,
   "metadata": {},
   "outputs": [
    {
     "data": {
      "text/plain": [
       "['black_dress',\n",
       " 'black_pants',\n",
       " 'black_shirt',\n",
       " 'black_shoes',\n",
       " 'black_shorts',\n",
       " 'blue_dress',\n",
       " 'blue_pants',\n",
       " 'blue_shirt',\n",
       " 'blue_shoes',\n",
       " 'blue_shorts',\n",
       " 'brown_pants',\n",
       " 'brown_shoes',\n",
       " 'brown_shorts',\n",
       " 'green_pants',\n",
       " 'green_shirt',\n",
       " 'green_shoes',\n",
       " 'green_shorts',\n",
       " 'red_dress',\n",
       " 'red_pants',\n",
       " 'red_shoes',\n",
       " 'white_dress',\n",
       " 'white_pants',\n",
       " 'white_shoes',\n",
       " 'white_shorts']"
      ]
     },
     "execution_count": 27,
     "metadata": {},
     "output_type": "execute_result"
    }
   ],
   "source": [
    "# 이 방법도 있음\n",
    "import os\n",
    "os.listdir('./clothes_dataset/')"
   ]
  },
  {
   "cell_type": "code",
   "execution_count": null,
   "metadata": {},
   "outputs": [],
   "source": [
    "np.savez('clothes.npz', Xdata=x, Ydata=y, className=class_names)"
   ]
  },
  {
   "cell_type": "code",
   "execution_count": null,
   "metadata": {},
   "outputs": [],
   "source": [
    "colorList = ['black', 'blue', 'brown', 'green', 'red', 'white']\n",
    "categoryList = ['dress', 'pants', 'shirt', 'shoes', 'shorts']"
   ]
  },
  {
   "cell_type": "code",
   "execution_count": 28,
   "metadata": {},
   "outputs": [
    {
     "data": {
      "text/plain": [
       "['black_dress',\n",
       " 'black_pants',\n",
       " 'black_shirt',\n",
       " 'black_shoes',\n",
       " 'black_shorts',\n",
       " 'blue_dress',\n",
       " 'blue_pants',\n",
       " 'blue_shirt',\n",
       " 'blue_shoes',\n",
       " 'blue_shorts',\n",
       " 'brown_pants',\n",
       " 'brown_shoes',\n",
       " 'brown_shorts',\n",
       " 'green_pants',\n",
       " 'green_shirt',\n",
       " 'green_shoes',\n",
       " 'green_shorts',\n",
       " 'red_dress',\n",
       " 'red_pants',\n",
       " 'red_shoes',\n",
       " 'white_dress',\n",
       " 'white_pants',\n",
       " 'white_shoes',\n",
       " 'white_shorts']"
      ]
     },
     "execution_count": 28,
     "metadata": {},
     "output_type": "execute_result"
    }
   ],
   "source": [
    "class_names"
   ]
  },
  {
   "cell_type": "code",
   "execution_count": 33,
   "metadata": {},
   "outputs": [],
   "source": [
    "colorList = []\n",
    "categoryList = []\n",
    "\n",
    "for i in class_names:\n",
    "    colorList.append(i.split('_')[0])\n",
    "    categoryList.append(i.split('_')[1])"
   ]
  },
  {
   "cell_type": "code",
   "execution_count": 34,
   "metadata": {},
   "outputs": [
    {
     "data": {
      "text/plain": [
       "(['black',\n",
       "  'black',\n",
       "  'black',\n",
       "  'black',\n",
       "  'black',\n",
       "  'blue',\n",
       "  'blue',\n",
       "  'blue',\n",
       "  'blue',\n",
       "  'blue',\n",
       "  'brown',\n",
       "  'brown',\n",
       "  'brown',\n",
       "  'green',\n",
       "  'green',\n",
       "  'green',\n",
       "  'green',\n",
       "  'red',\n",
       "  'red',\n",
       "  'red',\n",
       "  'white',\n",
       "  'white',\n",
       "  'white',\n",
       "  'white'],\n",
       " ['dress',\n",
       "  'pants',\n",
       "  'shirt',\n",
       "  'shoes',\n",
       "  'shorts',\n",
       "  'dress',\n",
       "  'pants',\n",
       "  'shirt',\n",
       "  'shoes',\n",
       "  'shorts',\n",
       "  'pants',\n",
       "  'shoes',\n",
       "  'shorts',\n",
       "  'pants',\n",
       "  'shirt',\n",
       "  'shoes',\n",
       "  'shorts',\n",
       "  'dress',\n",
       "  'pants',\n",
       "  'shoes',\n",
       "  'dress',\n",
       "  'pants',\n",
       "  'shoes',\n",
       "  'shorts'])"
      ]
     },
     "execution_count": 34,
     "metadata": {},
     "output_type": "execute_result"
    }
   ],
   "source": [
    "colorList, categoryList"
   ]
  },
  {
   "cell_type": "code",
   "execution_count": 36,
   "metadata": {},
   "outputs": [
    {
     "data": {
      "text/plain": [
       "(array(['black', 'blue', 'brown', 'green', 'red', 'white'], dtype='<U5'),\n",
       " array(['dress', 'pants', 'shirt', 'shoes', 'shorts'], dtype='<U6'))"
      ]
     },
     "execution_count": 36,
     "metadata": {},
     "output_type": "execute_result"
    }
   ],
   "source": [
    "np.unique(colorList), np.unique(categoryList)"
   ]
  },
  {
   "cell_type": "code",
   "execution_count": 41,
   "metadata": {},
   "outputs": [],
   "source": [
    "colorList = list(np.unique(colorList))\n",
    "categoryList = list(np.unique(categoryList))"
   ]
  },
  {
   "cell_type": "code",
   "execution_count": 42,
   "metadata": {},
   "outputs": [
    {
     "data": {
      "text/plain": [
       "(['black', 'blue', 'brown', 'green', 'red', 'white'],\n",
       " ['dress', 'pants', 'shirt', 'shoes', 'shorts'])"
      ]
     },
     "execution_count": 42,
     "metadata": {},
     "output_type": "execute_result"
    }
   ],
   "source": [
    "colorList, categoryList"
   ]
  },
  {
   "cell_type": "code",
   "execution_count": 44,
   "metadata": {},
   "outputs": [
    {
     "data": {
      "text/plain": [
       "(['blue', 'white', 'brown', 'black', 'green', 'red'],\n",
       " ['pants', 'shoes', 'shirt', 'shorts', 'dress'])"
      ]
     },
     "execution_count": 44,
     "metadata": {},
     "output_type": "execute_result"
    }
   ],
   "source": [
    "import os\n",
    "\n",
    "folder = './clothes_dataset'\n",
    "folderList = os.listdir(folder)\n",
    "\n",
    "color, category = [],[]\n",
    "for x in folderList:\n",
    "    color.append(x.split('_')[0])\n",
    "    category.append(x.split('_')[1])\n",
    "color = list(set(color))\n",
    "category = list(set(category))\n",
    "color, category"
   ]
  },
  {
   "cell_type": "code",
   "execution_count": 58,
   "metadata": {},
   "outputs": [
    {
     "data": {
      "text/plain": [
       "[['blue', 'white', 'brown', 'black', 'green', 'red'],\n",
       " ['pants', 'shoes', 'shirt', 'shorts', 'dress']]"
      ]
     },
     "execution_count": 58,
     "metadata": {},
     "output_type": "execute_result"
    }
   ],
   "source": [
    "import os\n",
    "\n",
    "folder = './clothes_dataset'\n",
    "folderList = os.listdir(folder)\n",
    "\n",
    "color, category = [],[]\n",
    "for x in folderList:\n",
    "    color.append(x.split('_')[0])\n",
    "    category.append(x.split('_')[1])\n",
    "color = list(set(color))\n",
    "category = list(set(category))\n",
    "\n",
    "item = []\n",
    "item.append(color)\n",
    "item.append(category)\n",
    "item"
   ]
  },
  {
   "cell_type": "code",
   "execution_count": null,
   "metadata": {},
   "outputs": [],
   "source": [
    "import os\n",
    "import numpy as np\n",
    "#folderName='clothes_dataset'\n",
    "#splitVar='_'\n",
    "folderName=input('폴더명작성하세요: ')\n",
    "splitVar=input('나눌문자작성하세요: ')\n",
    "folder='./' + folderName +'/'\n",
    "folderList=os.listdir(folder)\n",
    "\n",
    "itemList=[]\n",
    "\n",
    "for x in folderList:\n",
    "    itemList.append([])\n",
    "    for cnt in range(len(x.split(splitVar))):\n",
    "        itemList[-1].append(x.split(splitVar)[cnt])\n",
    "itemList=np.array(itemList)\n",
    "item=[]\n",
    "\n",
    "for x in range(np.shape(itemList)[1]):\n",
    "    item.append(set(list(itemList[:,x])))\n",
    "item"
   ]
  },
  {
   "cell_type": "code",
   "execution_count": 49,
   "metadata": {},
   "outputs": [
    {
     "data": {
      "text/plain": [
       "'black'"
      ]
     },
     "execution_count": 49,
     "metadata": {},
     "output_type": "execute_result"
    }
   ],
   "source": [
    "from glob import glob\n",
    "\n",
    "folderName = 'clothes_dataset'\n",
    "folderList = glob('./'+folderName+'/*')\n",
    "x = folderList[0].split('\\\\')[-1]\n",
    "tmp = x.split('_')[0]\n",
    "tmp"
   ]
  },
  {
   "cell_type": "code",
   "execution_count": 51,
   "metadata": {},
   "outputs": [
    {
     "data": {
      "text/plain": [
       "'black'"
      ]
     },
     "execution_count": 51,
     "metadata": {},
     "output_type": "execute_result"
    }
   ],
   "source": [
    "item"
   ]
  },
  {
   "cell_type": "code",
   "execution_count": 52,
   "metadata": {},
   "outputs": [
    {
     "data": {
      "text/plain": [
       "0"
      ]
     },
     "execution_count": 52,
     "metadata": {},
     "output_type": "execute_result"
    }
   ],
   "source": [
    "item.index(tmp)"
   ]
  },
  {
   "cell_type": "code",
   "execution_count": 53,
   "metadata": {},
   "outputs": [
    {
     "data": {
      "text/plain": [
       "0"
      ]
     },
     "execution_count": 53,
     "metadata": {},
     "output_type": "execute_result"
    }
   ],
   "source": [
    "from glob import glob\n",
    "\n",
    "folderName = 'clothes_dataset'\n",
    "folderList = glob('./'+folderName+'/*')\n",
    "x = folderList[0].split('\\\\')[-1]\n",
    "tmp = x.split('_')[0]\n",
    "item.index(tmp)"
   ]
  },
  {
   "cell_type": "code",
   "execution_count": 54,
   "metadata": {},
   "outputs": [
    {
     "ename": "ValueError",
     "evalue": "substring not found",
     "output_type": "error",
     "traceback": [
      "\u001b[1;31m---------------------------------------------------------------------------\u001b[0m",
      "\u001b[1;31mValueError\u001b[0m                                Traceback (most recent call last)",
      "\u001b[1;32mc:\\Users\\user\\Desktop\\부성순 강사님\\2022.10.17\\2022_10_17(1).ipynb 셀 31\u001b[0m in \u001b[0;36m<cell line: 7>\u001b[1;34m()\u001b[0m\n\u001b[0;32m      <a href='vscode-notebook-cell:/c%3A/Users/user/Desktop/%EB%B6%80%EC%84%B1%EC%88%9C%20%EA%B0%95%EC%82%AC%EB%8B%98/2022.10.17/2022_10_17%281%29.ipynb#X42sZmlsZQ%3D%3D?line=4'>5</a>\u001b[0m x \u001b[39m=\u001b[39m folderList[\u001b[39m0\u001b[39m]\u001b[39m.\u001b[39msplit(\u001b[39m'\u001b[39m\u001b[39m\\\\\u001b[39;00m\u001b[39m'\u001b[39m)[\u001b[39m-\u001b[39m\u001b[39m1\u001b[39m]\n\u001b[0;32m      <a href='vscode-notebook-cell:/c%3A/Users/user/Desktop/%EB%B6%80%EC%84%B1%EC%88%9C%20%EA%B0%95%EC%82%AC%EB%8B%98/2022.10.17/2022_10_17%281%29.ipynb#X42sZmlsZQ%3D%3D?line=5'>6</a>\u001b[0m tmp \u001b[39m=\u001b[39m x\u001b[39m.\u001b[39msplit(\u001b[39m'\u001b[39m\u001b[39m_\u001b[39m\u001b[39m'\u001b[39m)[\u001b[39m1\u001b[39m]\n\u001b[1;32m----> <a href='vscode-notebook-cell:/c%3A/Users/user/Desktop/%EB%B6%80%EC%84%B1%EC%88%9C%20%EA%B0%95%EC%82%AC%EB%8B%98/2022.10.17/2022_10_17%281%29.ipynb#X42sZmlsZQ%3D%3D?line=6'>7</a>\u001b[0m item\u001b[39m.\u001b[39;49mindex(tmp)\n",
      "\u001b[1;31mValueError\u001b[0m: substring not found"
     ]
    }
   ],
   "source": [
    "y = []\n",
    "tmp = x.split('_')[0]\n",
    "y.append(item[0].index(tmp))"
   ]
  },
  {
   "cell_type": "code",
   "execution_count": 55,
   "metadata": {},
   "outputs": [
    {
     "ename": "ValueError",
     "evalue": "substring not found",
     "output_type": "error",
     "traceback": [
      "\u001b[1;31m---------------------------------------------------------------------------\u001b[0m",
      "\u001b[1;31mValueError\u001b[0m                                Traceback (most recent call last)",
      "\u001b[1;32mc:\\Users\\user\\Desktop\\부성순 강사님\\2022.10.17\\2022_10_17(1).ipynb 셀 32\u001b[0m in \u001b[0;36m<cell line: 6>\u001b[1;34m()\u001b[0m\n\u001b[0;32m      <a href='vscode-notebook-cell:/c%3A/Users/user/Desktop/%EB%B6%80%EC%84%B1%EC%88%9C%20%EA%B0%95%EC%82%AC%EB%8B%98/2022.10.17/2022_10_17%281%29.ipynb#X43sZmlsZQ%3D%3D?line=6'>7</a>\u001b[0m y\u001b[39m.\u001b[39mappend([])\n\u001b[0;32m      <a href='vscode-notebook-cell:/c%3A/Users/user/Desktop/%EB%B6%80%EC%84%B1%EC%88%9C%20%EA%B0%95%EC%82%AC%EB%8B%98/2022.10.17/2022_10_17%281%29.ipynb#X43sZmlsZQ%3D%3D?line=7'>8</a>\u001b[0m tmp \u001b[39m=\u001b[39m folder\u001b[39m.\u001b[39msplit(\u001b[39m'\u001b[39m\u001b[39m_\u001b[39m\u001b[39m'\u001b[39m)[\u001b[39m0\u001b[39m]\n\u001b[1;32m----> <a href='vscode-notebook-cell:/c%3A/Users/user/Desktop/%EB%B6%80%EC%84%B1%EC%88%9C%20%EA%B0%95%EC%82%AC%EB%8B%98/2022.10.17/2022_10_17%281%29.ipynb#X43sZmlsZQ%3D%3D?line=8'>9</a>\u001b[0m y[\u001b[39m-\u001b[39m\u001b[39m1\u001b[39m]\u001b[39m.\u001b[39mappend(item[\u001b[39m0\u001b[39;49m]\u001b[39m.\u001b[39;49mindex(tmp))\n\u001b[0;32m     <a href='vscode-notebook-cell:/c%3A/Users/user/Desktop/%EB%B6%80%EC%84%B1%EC%88%9C%20%EA%B0%95%EC%82%AC%EB%8B%98/2022.10.17/2022_10_17%281%29.ipynb#X43sZmlsZQ%3D%3D?line=9'>10</a>\u001b[0m tmp \u001b[39m=\u001b[39m folder\u001b[39m.\u001b[39msplit(\u001b[39m'\u001b[39m\u001b[39m_\u001b[39m\u001b[39m'\u001b[39m)[\u001b[39m1\u001b[39m]\n\u001b[0;32m     <a href='vscode-notebook-cell:/c%3A/Users/user/Desktop/%EB%B6%80%EC%84%B1%EC%88%9C%20%EA%B0%95%EC%82%AC%EB%8B%98/2022.10.17/2022_10_17%281%29.ipynb#X43sZmlsZQ%3D%3D?line=10'>11</a>\u001b[0m y[\u001b[39m-\u001b[39m\u001b[39m1\u001b[39m]\u001b[39m.\u001b[39mappend(item[\u001b[39m1\u001b[39m]\u001b[39m.\u001b[39mindex(tmp))\n",
      "\u001b[1;31mValueError\u001b[0m: substring not found"
     ]
    }
   ],
   "source": [
    "from glob import glob\n",
    "\n",
    "folderName = 'clothes_dataset'\n",
    "folderList = glob('./'+folderName+'/*')\n",
    "\n",
    "for folder in folderList:\n",
    "    y.append([])\n",
    "    tmp = folder.split('_')[0]\n",
    "    y[-1].append(item[0].index(tmp))\n",
    "    tmp = folder.split('_')[1]\n",
    "    y[-1].append(item[1].index(tmp))\n",
    "y"
   ]
  },
  {
   "cell_type": "code",
   "execution_count": 59,
   "metadata": {},
   "outputs": [
    {
     "name": "stderr",
     "output_type": "stream",
     "text": [
      "c:\\Users\\user\\.conda\\envs\\han\\lib\\site-packages\\numpy\\lib\\npyio.py:696: VisibleDeprecationWarning: Creating an ndarray from ragged nested sequences (which is a list-or-tuple of lists-or-tuples-or ndarrays with different lengths or shapes) is deprecated. If you meant to do this, you must specify 'dtype=object' when creating the ndarray.\n",
      "  val = np.asanyarray(val)\n"
     ]
    }
   ],
   "source": [
    "np.savez('cloths_multi_label.npz', Xdata=x, Ydata=y, class_names=item)"
   ]
  },
  {
   "cell_type": "code",
   "execution_count": null,
   "metadata": {},
   "outputs": [],
   "source": [
    "import matplotlib.pyplot as plt\n",
    "import numpy as np\n",
    "import pandas as pd\n",
    "from glob import glob\n",
    "\n",
    "fileName\n",
    "colorName\n",
    "categoryName\n",
    "\n",
    "dataList.append({'Name':fileName,\n",
    "                'colorName':colorName,\n",
    "                'category':categoryName})\n",
    "\n",
    "df = pd.DataFrame(dataList)"
   ]
  },
  {
   "cell_type": "code",
   "execution_count": 66,
   "metadata": {},
   "outputs": [
    {
     "data": {
      "text/plain": [
       "['./clothes_dataset\\\\black_dress',\n",
       " './clothes_dataset\\\\black_pants',\n",
       " './clothes_dataset\\\\black_shirt',\n",
       " './clothes_dataset\\\\black_shoes',\n",
       " './clothes_dataset\\\\black_shorts',\n",
       " './clothes_dataset\\\\blue_dress',\n",
       " './clothes_dataset\\\\blue_pants',\n",
       " './clothes_dataset\\\\blue_shirt',\n",
       " './clothes_dataset\\\\blue_shoes',\n",
       " './clothes_dataset\\\\blue_shorts',\n",
       " './clothes_dataset\\\\brown_pants',\n",
       " './clothes_dataset\\\\brown_shoes',\n",
       " './clothes_dataset\\\\brown_shorts',\n",
       " './clothes_dataset\\\\green_pants',\n",
       " './clothes_dataset\\\\green_shirt',\n",
       " './clothes_dataset\\\\green_shoes',\n",
       " './clothes_dataset\\\\green_shorts',\n",
       " './clothes_dataset\\\\red_dress',\n",
       " './clothes_dataset\\\\red_pants',\n",
       " './clothes_dataset\\\\red_shoes',\n",
       " './clothes_dataset\\\\white_dress',\n",
       " './clothes_dataset\\\\white_pants',\n",
       " './clothes_dataset\\\\white_shoes',\n",
       " './clothes_dataset\\\\white_shorts']"
      ]
     },
     "execution_count": 66,
     "metadata": {},
     "output_type": "execute_result"
    }
   ],
   "source": [
    "folderList = glob('./clothes_dataset/*')\n",
    "folderList"
   ]
  },
  {
   "cell_type": "code",
   "execution_count": 84,
   "metadata": {},
   "outputs": [],
   "source": [
    "import matplotlib.pyplot as plt\n",
    "import numpy as np\n",
    "import pandas as pd\n",
    "from glob import glob"
   ]
  },
  {
   "cell_type": "code",
   "execution_count": 91,
   "metadata": {},
   "outputs": [],
   "source": [
    "df_list = []\n",
    "for folder in folderList:\n",
    "    fileList = glob(folder+'/*.jpg')\n",
    "    colorName = folder.split('\\\\')[-1].split('_')[0]\n",
    "    category = folder.split('\\\\')[-1].split('_')[1]\n",
    "    df = pd.DataFrame(fileList, columns=['Name'])\n",
    "    df['colorName'] = colorName\n",
    "    df['category'] = category\n",
    "    df_list.append(df)"
   ]
  },
  {
   "cell_type": "code",
   "execution_count": 92,
   "metadata": {},
   "outputs": [
    {
     "data": {
      "text/plain": [
       "24"
      ]
     },
     "execution_count": 92,
     "metadata": {},
     "output_type": "execute_result"
    }
   ],
   "source": [
    "len(df_list)"
   ]
  },
  {
   "cell_type": "code",
   "execution_count": 94,
   "metadata": {},
   "outputs": [
    {
     "data": {
      "text/html": [
       "<div>\n",
       "<style scoped>\n",
       "    .dataframe tbody tr th:only-of-type {\n",
       "        vertical-align: middle;\n",
       "    }\n",
       "\n",
       "    .dataframe tbody tr th {\n",
       "        vertical-align: top;\n",
       "    }\n",
       "\n",
       "    .dataframe thead th {\n",
       "        text-align: right;\n",
       "    }\n",
       "</style>\n",
       "<table border=\"1\" class=\"dataframe\">\n",
       "  <thead>\n",
       "    <tr style=\"text-align: right;\">\n",
       "      <th></th>\n",
       "      <th>Name</th>\n",
       "      <th>colorName</th>\n",
       "      <th>category</th>\n",
       "    </tr>\n",
       "  </thead>\n",
       "  <tbody>\n",
       "    <tr>\n",
       "      <th>0</th>\n",
       "      <td>./clothes_dataset\\black_dress\\0097960878307e55...</td>\n",
       "      <td>black</td>\n",
       "      <td>dress</td>\n",
       "    </tr>\n",
       "    <tr>\n",
       "      <th>1</th>\n",
       "      <td>./clothes_dataset\\black_dress\\038098f911bf3045...</td>\n",
       "      <td>black</td>\n",
       "      <td>dress</td>\n",
       "    </tr>\n",
       "    <tr>\n",
       "      <th>2</th>\n",
       "      <td>./clothes_dataset\\black_dress\\0522170fba54aa3e...</td>\n",
       "      <td>black</td>\n",
       "      <td>dress</td>\n",
       "    </tr>\n",
       "    <tr>\n",
       "      <th>3</th>\n",
       "      <td>./clothes_dataset\\black_dress\\0561718aec3cca98...</td>\n",
       "      <td>black</td>\n",
       "      <td>dress</td>\n",
       "    </tr>\n",
       "    <tr>\n",
       "      <th>4</th>\n",
       "      <td>./clothes_dataset\\black_dress\\06130b80c92914dc...</td>\n",
       "      <td>black</td>\n",
       "      <td>dress</td>\n",
       "    </tr>\n",
       "    <tr>\n",
       "      <th>...</th>\n",
       "      <td>...</td>\n",
       "      <td>...</td>\n",
       "      <td>...</td>\n",
       "    </tr>\n",
       "    <tr>\n",
       "      <th>11380</th>\n",
       "      <td>./clothes_dataset\\white_shorts\\f0be9c6655655fe...</td>\n",
       "      <td>white</td>\n",
       "      <td>shorts</td>\n",
       "    </tr>\n",
       "    <tr>\n",
       "      <th>11381</th>\n",
       "      <td>./clothes_dataset\\white_shorts\\f35256887334f9f...</td>\n",
       "      <td>white</td>\n",
       "      <td>shorts</td>\n",
       "    </tr>\n",
       "    <tr>\n",
       "      <th>11382</th>\n",
       "      <td>./clothes_dataset\\white_shorts\\f50bf2c5e771f73...</td>\n",
       "      <td>white</td>\n",
       "      <td>shorts</td>\n",
       "    </tr>\n",
       "    <tr>\n",
       "      <th>11383</th>\n",
       "      <td>./clothes_dataset\\white_shorts\\fb625925bc55cd5...</td>\n",
       "      <td>white</td>\n",
       "      <td>shorts</td>\n",
       "    </tr>\n",
       "    <tr>\n",
       "      <th>11384</th>\n",
       "      <td>./clothes_dataset\\white_shorts\\fd76a8fe7e6c5d2...</td>\n",
       "      <td>white</td>\n",
       "      <td>shorts</td>\n",
       "    </tr>\n",
       "  </tbody>\n",
       "</table>\n",
       "<p>11385 rows × 3 columns</p>\n",
       "</div>"
      ],
      "text/plain": [
       "                                                    Name colorName category\n",
       "0      ./clothes_dataset\\black_dress\\0097960878307e55...     black    dress\n",
       "1      ./clothes_dataset\\black_dress\\038098f911bf3045...     black    dress\n",
       "2      ./clothes_dataset\\black_dress\\0522170fba54aa3e...     black    dress\n",
       "3      ./clothes_dataset\\black_dress\\0561718aec3cca98...     black    dress\n",
       "4      ./clothes_dataset\\black_dress\\06130b80c92914dc...     black    dress\n",
       "...                                                  ...       ...      ...\n",
       "11380  ./clothes_dataset\\white_shorts\\f0be9c6655655fe...     white   shorts\n",
       "11381  ./clothes_dataset\\white_shorts\\f35256887334f9f...     white   shorts\n",
       "11382  ./clothes_dataset\\white_shorts\\f50bf2c5e771f73...     white   shorts\n",
       "11383  ./clothes_dataset\\white_shorts\\fb625925bc55cd5...     white   shorts\n",
       "11384  ./clothes_dataset\\white_shorts\\fd76a8fe7e6c5d2...     white   shorts\n",
       "\n",
       "[11385 rows x 3 columns]"
      ]
     },
     "execution_count": 94,
     "metadata": {},
     "output_type": "execute_result"
    }
   ],
   "source": [
    "df_con = pd.concat(df_list, ignore_index=True)\n",
    "df_con"
   ]
  },
  {
   "cell_type": "code",
   "execution_count": 95,
   "metadata": {},
   "outputs": [
    {
     "data": {
      "text/html": [
       "<div>\n",
       "<style scoped>\n",
       "    .dataframe tbody tr th:only-of-type {\n",
       "        vertical-align: middle;\n",
       "    }\n",
       "\n",
       "    .dataframe tbody tr th {\n",
       "        vertical-align: top;\n",
       "    }\n",
       "\n",
       "    .dataframe thead th {\n",
       "        text-align: right;\n",
       "    }\n",
       "</style>\n",
       "<table border=\"1\" class=\"dataframe\">\n",
       "  <thead>\n",
       "    <tr style=\"text-align: right;\">\n",
       "      <th></th>\n",
       "      <th>Name</th>\n",
       "      <th>colorName</th>\n",
       "      <th>category</th>\n",
       "    </tr>\n",
       "  </thead>\n",
       "  <tbody>\n",
       "    <tr>\n",
       "      <th>0</th>\n",
       "      <td>./clothes_dataset\\black_dress\\0097960878307e55...</td>\n",
       "      <td>black</td>\n",
       "      <td>dress</td>\n",
       "    </tr>\n",
       "    <tr>\n",
       "      <th>1</th>\n",
       "      <td>./clothes_dataset\\black_dress\\038098f911bf3045...</td>\n",
       "      <td>black</td>\n",
       "      <td>dress</td>\n",
       "    </tr>\n",
       "    <tr>\n",
       "      <th>2</th>\n",
       "      <td>./clothes_dataset\\black_dress\\0522170fba54aa3e...</td>\n",
       "      <td>black</td>\n",
       "      <td>dress</td>\n",
       "    </tr>\n",
       "    <tr>\n",
       "      <th>3</th>\n",
       "      <td>./clothes_dataset\\black_dress\\0561718aec3cca98...</td>\n",
       "      <td>black</td>\n",
       "      <td>dress</td>\n",
       "    </tr>\n",
       "    <tr>\n",
       "      <th>4</th>\n",
       "      <td>./clothes_dataset\\black_dress\\06130b80c92914dc...</td>\n",
       "      <td>black</td>\n",
       "      <td>dress</td>\n",
       "    </tr>\n",
       "    <tr>\n",
       "      <th>...</th>\n",
       "      <td>...</td>\n",
       "      <td>...</td>\n",
       "      <td>...</td>\n",
       "    </tr>\n",
       "    <tr>\n",
       "      <th>11380</th>\n",
       "      <td>./clothes_dataset\\white_shorts\\f0be9c6655655fe...</td>\n",
       "      <td>white</td>\n",
       "      <td>shorts</td>\n",
       "    </tr>\n",
       "    <tr>\n",
       "      <th>11381</th>\n",
       "      <td>./clothes_dataset\\white_shorts\\f35256887334f9f...</td>\n",
       "      <td>white</td>\n",
       "      <td>shorts</td>\n",
       "    </tr>\n",
       "    <tr>\n",
       "      <th>11382</th>\n",
       "      <td>./clothes_dataset\\white_shorts\\f50bf2c5e771f73...</td>\n",
       "      <td>white</td>\n",
       "      <td>shorts</td>\n",
       "    </tr>\n",
       "    <tr>\n",
       "      <th>11383</th>\n",
       "      <td>./clothes_dataset\\white_shorts\\fb625925bc55cd5...</td>\n",
       "      <td>white</td>\n",
       "      <td>shorts</td>\n",
       "    </tr>\n",
       "    <tr>\n",
       "      <th>11384</th>\n",
       "      <td>./clothes_dataset\\white_shorts\\fd76a8fe7e6c5d2...</td>\n",
       "      <td>white</td>\n",
       "      <td>shorts</td>\n",
       "    </tr>\n",
       "  </tbody>\n",
       "</table>\n",
       "<p>11385 rows × 3 columns</p>\n",
       "</div>"
      ],
      "text/plain": [
       "                                                    Name colorName category\n",
       "0      ./clothes_dataset\\black_dress\\0097960878307e55...     black    dress\n",
       "1      ./clothes_dataset\\black_dress\\038098f911bf3045...     black    dress\n",
       "2      ./clothes_dataset\\black_dress\\0522170fba54aa3e...     black    dress\n",
       "3      ./clothes_dataset\\black_dress\\0561718aec3cca98...     black    dress\n",
       "4      ./clothes_dataset\\black_dress\\06130b80c92914dc...     black    dress\n",
       "...                                                  ...       ...      ...\n",
       "11380  ./clothes_dataset\\white_shorts\\f0be9c6655655fe...     white   shorts\n",
       "11381  ./clothes_dataset\\white_shorts\\f35256887334f9f...     white   shorts\n",
       "11382  ./clothes_dataset\\white_shorts\\f50bf2c5e771f73...     white   shorts\n",
       "11383  ./clothes_dataset\\white_shorts\\fb625925bc55cd5...     white   shorts\n",
       "11384  ./clothes_dataset\\white_shorts\\fd76a8fe7e6c5d2...     white   shorts\n",
       "\n",
       "[11385 rows x 3 columns]"
      ]
     },
     "execution_count": 95,
     "metadata": {},
     "output_type": "execute_result"
    }
   ],
   "source": [
    "# 위에껀 데이터프레임을 concat 한거고\n",
    "# 딕셔너리 여러개를 사용해서 데이터프레임 생성도 가능\n",
    "\n",
    "dataList = []\n",
    "folderList = glob('./clothes_dataset/*')\n",
    "\n",
    "for folder in folderList:\n",
    "    fileList = glob(folder + '/*.jpg')\n",
    "\n",
    "    for file in fileList:\n",
    "        fileName = file\n",
    "        tmp = folder.split('\\\\')[-1]\n",
    "        colorName = tmp.split('_')[0]\n",
    "        categoryName = tmp.split('_')[1]\n",
    "\n",
    "        dataList.append({'Name': fileName,\n",
    "                        'colorName': colorName,\n",
    "                        'category': categoryName})\n",
    "\n",
    "df = pd.DataFrame(dataList)\n",
    "df"
   ]
  },
  {
   "cell_type": "code",
   "execution_count": 96,
   "metadata": {},
   "outputs": [
    {
     "data": {
      "text/html": [
       "<div>\n",
       "<style scoped>\n",
       "    .dataframe tbody tr th:only-of-type {\n",
       "        vertical-align: middle;\n",
       "    }\n",
       "\n",
       "    .dataframe tbody tr th {\n",
       "        vertical-align: top;\n",
       "    }\n",
       "\n",
       "    .dataframe thead th {\n",
       "        text-align: right;\n",
       "    }\n",
       "</style>\n",
       "<table border=\"1\" class=\"dataframe\">\n",
       "  <thead>\n",
       "    <tr style=\"text-align: right;\">\n",
       "      <th></th>\n",
       "      <th>colorName_black</th>\n",
       "      <th>colorName_blue</th>\n",
       "      <th>colorName_brown</th>\n",
       "      <th>colorName_green</th>\n",
       "      <th>colorName_red</th>\n",
       "      <th>colorName_white</th>\n",
       "      <th>category_dress</th>\n",
       "      <th>category_pants</th>\n",
       "      <th>category_shirt</th>\n",
       "      <th>category_shoes</th>\n",
       "      <th>category_shorts</th>\n",
       "    </tr>\n",
       "  </thead>\n",
       "  <tbody>\n",
       "    <tr>\n",
       "      <th>0</th>\n",
       "      <td>1</td>\n",
       "      <td>0</td>\n",
       "      <td>0</td>\n",
       "      <td>0</td>\n",
       "      <td>0</td>\n",
       "      <td>0</td>\n",
       "      <td>1</td>\n",
       "      <td>0</td>\n",
       "      <td>0</td>\n",
       "      <td>0</td>\n",
       "      <td>0</td>\n",
       "    </tr>\n",
       "    <tr>\n",
       "      <th>1</th>\n",
       "      <td>1</td>\n",
       "      <td>0</td>\n",
       "      <td>0</td>\n",
       "      <td>0</td>\n",
       "      <td>0</td>\n",
       "      <td>0</td>\n",
       "      <td>1</td>\n",
       "      <td>0</td>\n",
       "      <td>0</td>\n",
       "      <td>0</td>\n",
       "      <td>0</td>\n",
       "    </tr>\n",
       "    <tr>\n",
       "      <th>2</th>\n",
       "      <td>1</td>\n",
       "      <td>0</td>\n",
       "      <td>0</td>\n",
       "      <td>0</td>\n",
       "      <td>0</td>\n",
       "      <td>0</td>\n",
       "      <td>1</td>\n",
       "      <td>0</td>\n",
       "      <td>0</td>\n",
       "      <td>0</td>\n",
       "      <td>0</td>\n",
       "    </tr>\n",
       "    <tr>\n",
       "      <th>3</th>\n",
       "      <td>1</td>\n",
       "      <td>0</td>\n",
       "      <td>0</td>\n",
       "      <td>0</td>\n",
       "      <td>0</td>\n",
       "      <td>0</td>\n",
       "      <td>1</td>\n",
       "      <td>0</td>\n",
       "      <td>0</td>\n",
       "      <td>0</td>\n",
       "      <td>0</td>\n",
       "    </tr>\n",
       "    <tr>\n",
       "      <th>4</th>\n",
       "      <td>1</td>\n",
       "      <td>0</td>\n",
       "      <td>0</td>\n",
       "      <td>0</td>\n",
       "      <td>0</td>\n",
       "      <td>0</td>\n",
       "      <td>1</td>\n",
       "      <td>0</td>\n",
       "      <td>0</td>\n",
       "      <td>0</td>\n",
       "      <td>0</td>\n",
       "    </tr>\n",
       "    <tr>\n",
       "      <th>...</th>\n",
       "      <td>...</td>\n",
       "      <td>...</td>\n",
       "      <td>...</td>\n",
       "      <td>...</td>\n",
       "      <td>...</td>\n",
       "      <td>...</td>\n",
       "      <td>...</td>\n",
       "      <td>...</td>\n",
       "      <td>...</td>\n",
       "      <td>...</td>\n",
       "      <td>...</td>\n",
       "    </tr>\n",
       "    <tr>\n",
       "      <th>11380</th>\n",
       "      <td>0</td>\n",
       "      <td>0</td>\n",
       "      <td>0</td>\n",
       "      <td>0</td>\n",
       "      <td>0</td>\n",
       "      <td>1</td>\n",
       "      <td>0</td>\n",
       "      <td>0</td>\n",
       "      <td>0</td>\n",
       "      <td>0</td>\n",
       "      <td>1</td>\n",
       "    </tr>\n",
       "    <tr>\n",
       "      <th>11381</th>\n",
       "      <td>0</td>\n",
       "      <td>0</td>\n",
       "      <td>0</td>\n",
       "      <td>0</td>\n",
       "      <td>0</td>\n",
       "      <td>1</td>\n",
       "      <td>0</td>\n",
       "      <td>0</td>\n",
       "      <td>0</td>\n",
       "      <td>0</td>\n",
       "      <td>1</td>\n",
       "    </tr>\n",
       "    <tr>\n",
       "      <th>11382</th>\n",
       "      <td>0</td>\n",
       "      <td>0</td>\n",
       "      <td>0</td>\n",
       "      <td>0</td>\n",
       "      <td>0</td>\n",
       "      <td>1</td>\n",
       "      <td>0</td>\n",
       "      <td>0</td>\n",
       "      <td>0</td>\n",
       "      <td>0</td>\n",
       "      <td>1</td>\n",
       "    </tr>\n",
       "    <tr>\n",
       "      <th>11383</th>\n",
       "      <td>0</td>\n",
       "      <td>0</td>\n",
       "      <td>0</td>\n",
       "      <td>0</td>\n",
       "      <td>0</td>\n",
       "      <td>1</td>\n",
       "      <td>0</td>\n",
       "      <td>0</td>\n",
       "      <td>0</td>\n",
       "      <td>0</td>\n",
       "      <td>1</td>\n",
       "    </tr>\n",
       "    <tr>\n",
       "      <th>11384</th>\n",
       "      <td>0</td>\n",
       "      <td>0</td>\n",
       "      <td>0</td>\n",
       "      <td>0</td>\n",
       "      <td>0</td>\n",
       "      <td>1</td>\n",
       "      <td>0</td>\n",
       "      <td>0</td>\n",
       "      <td>0</td>\n",
       "      <td>0</td>\n",
       "      <td>1</td>\n",
       "    </tr>\n",
       "  </tbody>\n",
       "</table>\n",
       "<p>11385 rows × 11 columns</p>\n",
       "</div>"
      ],
      "text/plain": [
       "       colorName_black  colorName_blue  colorName_brown  colorName_green  \\\n",
       "0                    1               0                0                0   \n",
       "1                    1               0                0                0   \n",
       "2                    1               0                0                0   \n",
       "3                    1               0                0                0   \n",
       "4                    1               0                0                0   \n",
       "...                ...             ...              ...              ...   \n",
       "11380                0               0                0                0   \n",
       "11381                0               0                0                0   \n",
       "11382                0               0                0                0   \n",
       "11383                0               0                0                0   \n",
       "11384                0               0                0                0   \n",
       "\n",
       "       colorName_red  colorName_white  category_dress  category_pants  \\\n",
       "0                  0                0               1               0   \n",
       "1                  0                0               1               0   \n",
       "2                  0                0               1               0   \n",
       "3                  0                0               1               0   \n",
       "4                  0                0               1               0   \n",
       "...              ...              ...             ...             ...   \n",
       "11380              0                1               0               0   \n",
       "11381              0                1               0               0   \n",
       "11382              0                1               0               0   \n",
       "11383              0                1               0               0   \n",
       "11384              0                1               0               0   \n",
       "\n",
       "       category_shirt  category_shoes  category_shorts  \n",
       "0                   0               0                0  \n",
       "1                   0               0                0  \n",
       "2                   0               0                0  \n",
       "3                   0               0                0  \n",
       "4                   0               0                0  \n",
       "...               ...             ...              ...  \n",
       "11380               0               0                1  \n",
       "11381               0               0                1  \n",
       "11382               0               0                1  \n",
       "11383               0               0                1  \n",
       "11384               0               0                1  \n",
       "\n",
       "[11385 rows x 11 columns]"
      ]
     },
     "execution_count": 96,
     "metadata": {},
     "output_type": "execute_result"
    }
   ],
   "source": [
    "pd.get_dummies(df[['colorName','category']])"
   ]
  },
  {
   "cell_type": "code",
   "execution_count": 98,
   "metadata": {},
   "outputs": [
    {
     "data": {
      "text/html": [
       "<div>\n",
       "<style scoped>\n",
       "    .dataframe tbody tr th:only-of-type {\n",
       "        vertical-align: middle;\n",
       "    }\n",
       "\n",
       "    .dataframe tbody tr th {\n",
       "        vertical-align: top;\n",
       "    }\n",
       "\n",
       "    .dataframe thead th {\n",
       "        text-align: right;\n",
       "    }\n",
       "</style>\n",
       "<table border=\"1\" class=\"dataframe\">\n",
       "  <thead>\n",
       "    <tr style=\"text-align: right;\">\n",
       "      <th></th>\n",
       "      <th>Name</th>\n",
       "      <th>colorName_black</th>\n",
       "      <th>colorName_blue</th>\n",
       "      <th>colorName_brown</th>\n",
       "      <th>colorName_green</th>\n",
       "      <th>colorName_red</th>\n",
       "      <th>colorName_white</th>\n",
       "      <th>category_dress</th>\n",
       "      <th>category_pants</th>\n",
       "      <th>category_shirt</th>\n",
       "      <th>category_shoes</th>\n",
       "      <th>category_shorts</th>\n",
       "    </tr>\n",
       "  </thead>\n",
       "  <tbody>\n",
       "    <tr>\n",
       "      <th>0</th>\n",
       "      <td>./clothes_dataset\\black_dress\\0097960878307e55...</td>\n",
       "      <td>1</td>\n",
       "      <td>0</td>\n",
       "      <td>0</td>\n",
       "      <td>0</td>\n",
       "      <td>0</td>\n",
       "      <td>0</td>\n",
       "      <td>1</td>\n",
       "      <td>0</td>\n",
       "      <td>0</td>\n",
       "      <td>0</td>\n",
       "      <td>0</td>\n",
       "    </tr>\n",
       "    <tr>\n",
       "      <th>1</th>\n",
       "      <td>./clothes_dataset\\black_dress\\038098f911bf3045...</td>\n",
       "      <td>1</td>\n",
       "      <td>0</td>\n",
       "      <td>0</td>\n",
       "      <td>0</td>\n",
       "      <td>0</td>\n",
       "      <td>0</td>\n",
       "      <td>1</td>\n",
       "      <td>0</td>\n",
       "      <td>0</td>\n",
       "      <td>0</td>\n",
       "      <td>0</td>\n",
       "    </tr>\n",
       "    <tr>\n",
       "      <th>2</th>\n",
       "      <td>./clothes_dataset\\black_dress\\0522170fba54aa3e...</td>\n",
       "      <td>1</td>\n",
       "      <td>0</td>\n",
       "      <td>0</td>\n",
       "      <td>0</td>\n",
       "      <td>0</td>\n",
       "      <td>0</td>\n",
       "      <td>1</td>\n",
       "      <td>0</td>\n",
       "      <td>0</td>\n",
       "      <td>0</td>\n",
       "      <td>0</td>\n",
       "    </tr>\n",
       "    <tr>\n",
       "      <th>3</th>\n",
       "      <td>./clothes_dataset\\black_dress\\0561718aec3cca98...</td>\n",
       "      <td>1</td>\n",
       "      <td>0</td>\n",
       "      <td>0</td>\n",
       "      <td>0</td>\n",
       "      <td>0</td>\n",
       "      <td>0</td>\n",
       "      <td>1</td>\n",
       "      <td>0</td>\n",
       "      <td>0</td>\n",
       "      <td>0</td>\n",
       "      <td>0</td>\n",
       "    </tr>\n",
       "    <tr>\n",
       "      <th>4</th>\n",
       "      <td>./clothes_dataset\\black_dress\\06130b80c92914dc...</td>\n",
       "      <td>1</td>\n",
       "      <td>0</td>\n",
       "      <td>0</td>\n",
       "      <td>0</td>\n",
       "      <td>0</td>\n",
       "      <td>0</td>\n",
       "      <td>1</td>\n",
       "      <td>0</td>\n",
       "      <td>0</td>\n",
       "      <td>0</td>\n",
       "      <td>0</td>\n",
       "    </tr>\n",
       "    <tr>\n",
       "      <th>...</th>\n",
       "      <td>...</td>\n",
       "      <td>...</td>\n",
       "      <td>...</td>\n",
       "      <td>...</td>\n",
       "      <td>...</td>\n",
       "      <td>...</td>\n",
       "      <td>...</td>\n",
       "      <td>...</td>\n",
       "      <td>...</td>\n",
       "      <td>...</td>\n",
       "      <td>...</td>\n",
       "      <td>...</td>\n",
       "    </tr>\n",
       "    <tr>\n",
       "      <th>11380</th>\n",
       "      <td>./clothes_dataset\\white_shorts\\f0be9c6655655fe...</td>\n",
       "      <td>0</td>\n",
       "      <td>0</td>\n",
       "      <td>0</td>\n",
       "      <td>0</td>\n",
       "      <td>0</td>\n",
       "      <td>1</td>\n",
       "      <td>0</td>\n",
       "      <td>0</td>\n",
       "      <td>0</td>\n",
       "      <td>0</td>\n",
       "      <td>1</td>\n",
       "    </tr>\n",
       "    <tr>\n",
       "      <th>11381</th>\n",
       "      <td>./clothes_dataset\\white_shorts\\f35256887334f9f...</td>\n",
       "      <td>0</td>\n",
       "      <td>0</td>\n",
       "      <td>0</td>\n",
       "      <td>0</td>\n",
       "      <td>0</td>\n",
       "      <td>1</td>\n",
       "      <td>0</td>\n",
       "      <td>0</td>\n",
       "      <td>0</td>\n",
       "      <td>0</td>\n",
       "      <td>1</td>\n",
       "    </tr>\n",
       "    <tr>\n",
       "      <th>11382</th>\n",
       "      <td>./clothes_dataset\\white_shorts\\f50bf2c5e771f73...</td>\n",
       "      <td>0</td>\n",
       "      <td>0</td>\n",
       "      <td>0</td>\n",
       "      <td>0</td>\n",
       "      <td>0</td>\n",
       "      <td>1</td>\n",
       "      <td>0</td>\n",
       "      <td>0</td>\n",
       "      <td>0</td>\n",
       "      <td>0</td>\n",
       "      <td>1</td>\n",
       "    </tr>\n",
       "    <tr>\n",
       "      <th>11383</th>\n",
       "      <td>./clothes_dataset\\white_shorts\\fb625925bc55cd5...</td>\n",
       "      <td>0</td>\n",
       "      <td>0</td>\n",
       "      <td>0</td>\n",
       "      <td>0</td>\n",
       "      <td>0</td>\n",
       "      <td>1</td>\n",
       "      <td>0</td>\n",
       "      <td>0</td>\n",
       "      <td>0</td>\n",
       "      <td>0</td>\n",
       "      <td>1</td>\n",
       "    </tr>\n",
       "    <tr>\n",
       "      <th>11384</th>\n",
       "      <td>./clothes_dataset\\white_shorts\\fd76a8fe7e6c5d2...</td>\n",
       "      <td>0</td>\n",
       "      <td>0</td>\n",
       "      <td>0</td>\n",
       "      <td>0</td>\n",
       "      <td>0</td>\n",
       "      <td>1</td>\n",
       "      <td>0</td>\n",
       "      <td>0</td>\n",
       "      <td>0</td>\n",
       "      <td>0</td>\n",
       "      <td>1</td>\n",
       "    </tr>\n",
       "  </tbody>\n",
       "</table>\n",
       "<p>11385 rows × 12 columns</p>\n",
       "</div>"
      ],
      "text/plain": [
       "                                                    Name  colorName_black  \\\n",
       "0      ./clothes_dataset\\black_dress\\0097960878307e55...                1   \n",
       "1      ./clothes_dataset\\black_dress\\038098f911bf3045...                1   \n",
       "2      ./clothes_dataset\\black_dress\\0522170fba54aa3e...                1   \n",
       "3      ./clothes_dataset\\black_dress\\0561718aec3cca98...                1   \n",
       "4      ./clothes_dataset\\black_dress\\06130b80c92914dc...                1   \n",
       "...                                                  ...              ...   \n",
       "11380  ./clothes_dataset\\white_shorts\\f0be9c6655655fe...                0   \n",
       "11381  ./clothes_dataset\\white_shorts\\f35256887334f9f...                0   \n",
       "11382  ./clothes_dataset\\white_shorts\\f50bf2c5e771f73...                0   \n",
       "11383  ./clothes_dataset\\white_shorts\\fb625925bc55cd5...                0   \n",
       "11384  ./clothes_dataset\\white_shorts\\fd76a8fe7e6c5d2...                0   \n",
       "\n",
       "       colorName_blue  colorName_brown  colorName_green  colorName_red  \\\n",
       "0                   0                0                0              0   \n",
       "1                   0                0                0              0   \n",
       "2                   0                0                0              0   \n",
       "3                   0                0                0              0   \n",
       "4                   0                0                0              0   \n",
       "...               ...              ...              ...            ...   \n",
       "11380               0                0                0              0   \n",
       "11381               0                0                0              0   \n",
       "11382               0                0                0              0   \n",
       "11383               0                0                0              0   \n",
       "11384               0                0                0              0   \n",
       "\n",
       "       colorName_white  category_dress  category_pants  category_shirt  \\\n",
       "0                    0               1               0               0   \n",
       "1                    0               1               0               0   \n",
       "2                    0               1               0               0   \n",
       "3                    0               1               0               0   \n",
       "4                    0               1               0               0   \n",
       "...                ...             ...             ...             ...   \n",
       "11380                1               0               0               0   \n",
       "11381                1               0               0               0   \n",
       "11382                1               0               0               0   \n",
       "11383                1               0               0               0   \n",
       "11384                1               0               0               0   \n",
       "\n",
       "       category_shoes  category_shorts  \n",
       "0                   0                0  \n",
       "1                   0                0  \n",
       "2                   0                0  \n",
       "3                   0                0  \n",
       "4                   0                0  \n",
       "...               ...              ...  \n",
       "11380               0                1  \n",
       "11381               0                1  \n",
       "11382               0                1  \n",
       "11383               0                1  \n",
       "11384               0                1  \n",
       "\n",
       "[11385 rows x 12 columns]"
      ]
     },
     "execution_count": 98,
     "metadata": {},
     "output_type": "execute_result"
    }
   ],
   "source": [
    "df = pd.get_dummies(df, columns=['colorName','category'])\n",
    "df"
   ]
  },
  {
   "cell_type": "code",
   "execution_count": 99,
   "metadata": {},
   "outputs": [],
   "source": [
    "df.to_csv('data_info.csv')"
   ]
  },
  {
   "cell_type": "code",
   "execution_count": null,
   "metadata": {},
   "outputs": [],
   "source": []
  }
 ],
 "metadata": {
  "kernelspec": {
   "display_name": "Python 3.10.4 ('han')",
   "language": "python",
   "name": "python3"
  },
  "language_info": {
   "codemirror_mode": {
    "name": "ipython",
    "version": 3
   },
   "file_extension": ".py",
   "mimetype": "text/x-python",
   "name": "python",
   "nbconvert_exporter": "python",
   "pygments_lexer": "ipython3",
   "version": "3.10.4"
  },
  "orig_nbformat": 4,
  "vscode": {
   "interpreter": {
    "hash": "9ffd841040af6bedd50cabf1584399d13f777232c008d7c4ad470663779a547a"
   }
  }
 },
 "nbformat": 4,
 "nbformat_minor": 2
}
