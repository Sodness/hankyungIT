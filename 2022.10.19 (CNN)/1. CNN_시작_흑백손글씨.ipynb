{
 "cells": [
  {
   "cell_type": "markdown",
   "metadata": {},
   "source": [
    "## 모두의파이썬 교재의16장 (교재p 236~)\n",
    "- 이미지 인식 컨볼루션 신경망(CNN)\n"
   ]
  },
  {
   "cell_type": "code",
   "execution_count": 1,
   "metadata": {},
   "outputs": [],
   "source": [
    "from tensorflow.keras.models import Sequential\n",
    "from tensorflow.keras.layers import Dense, Dropout, Flatten, Conv2D, MaxPooling2D\n",
    "from tensorflow.keras.callbacks import ModelCheckpoint,EarlyStopping\n",
    "from tensorflow.keras.datasets import mnist\n",
    "from tensorflow.keras.utils import to_categorical\n",
    "\n",
    "import matplotlib.pyplot as plt\n",
    "import numpy as np\n",
    "\n",
    "import os"
   ]
  },
  {
   "cell_type": "markdown",
   "metadata": {},
   "source": [
    "### 이미지분류에 필요한 데이터셋 - 아래의 데이터셋종류1에 해당함\n",
    "- [데이터셋종류1] npy나,npz로 넘파이화된 이미지 이거나\n",
    "- [데이터셋종류2] jpg 나 png등의 이미지파일"
   ]
  },
  {
   "cell_type": "code",
   "execution_count": 2,
   "metadata": {},
   "outputs": [
    {
     "name": "stdout",
     "output_type": "stream",
     "text": [
      "학습셋 이미지 수 : 60000 개\n",
      "테스트셋 이미지 수 : 10000 개\n"
     ]
    }
   ],
   "source": [
    "# ★★필수작업★★\n",
    "# 텐서플로우 데이터셋에서 제공하는 넘파이화된 손글씨 자료임\n",
    "# MNIST 데이터셋을 불러와 학습셋과 테스트셋으로 저장합니다. \n",
    "(X_train, y_train), (X_test, y_test) = mnist.load_data()\n",
    "\n",
    "# 학습셋과 테스트셋이 각각 몇 개의 이미지로 되어 있는지 확인합니다. \n",
    "print(\"학습셋 이미지 수 : %d 개\" % (X_train.shape[0]))\n",
    "print(\"테스트셋 이미지 수 : %d 개\" % (X_test.shape[0]))"
   ]
  },
  {
   "cell_type": "code",
   "execution_count": 3,
   "metadata": {},
   "outputs": [
    {
     "name": "stdout",
     "output_type": "stream",
     "text": [
      "▶--- x자료 정보\n",
      "(60000, 28, 28) 0 ~ 255\n",
      "\n",
      "▶--- y자료 정보\n",
      "(60000,) 0 ~ 9\n"
     ]
    },
    {
     "data": {
      "text/plain": [
       "(None, 5)"
      ]
     },
     "execution_count": 3,
     "metadata": {},
     "output_type": "execute_result"
    }
   ],
   "source": [
    "## [교재외 추가자료임]\n",
    "# x이미지 데이터는 행28,열28개의 흑백이미지, 0~255값을 가짐\n",
    "# y_train의 레이블 정보는 0~9의 숫자값 (원핫인코딩 안되어 있음)임을 알수 있음.\n",
    "\n",
    "def info(var):\n",
    "    print(np.shape(var), np.min(var), '~', np.max(var))\n",
    "    \n",
    "print('▶--- x자료 정보')\n",
    "info(X_train)\n",
    "\n",
    "print('\\n▶--- y자료 정보')\n",
    "info(y_train),y_train[0]"
   ]
  },
  {
   "cell_type": "code",
   "execution_count": 4,
   "metadata": {},
   "outputs": [
    {
     "data": {
      "image/png": "[encoded data removed]",
      "text/plain": [
       "<Figure size 640x480 with 1 Axes>"
      ]
     },
     "metadata": {},
     "output_type": "display_data"
    }
   ],
   "source": [
    "# 첫 번째 이미지를 확인해 봅시다.\n",
    "# [▶▶▶ cmap='gray' 로 변경해서도 작업해봅니다.]\n",
    "plt.imshow(X_train[0], cmap='Greys')   \n",
    "plt.show()"
   ]
  },
  {
   "cell_type": "code",
   "execution_count": 10,
   "metadata": {},
   "outputs": [
    {
     "name": "stdout",
     "output_type": "stream",
     "text": [
      "0  0  0  0  0  0  0  0  0  0  0  0  0  0  0  0  0  0  0  0  0  0  0  0  0  0  0  0  \n",
      "0  0  0  0  0  0  0  0  0  0  0  0  0  0  0  0  0  0  0  0  0  0  0  0  0  0  0  0  \n",
      "0  0  0  0  0  0  0  0  0  0  0  0  0  0  0  0  0  0  0  0  0  0  0  0  0  0  0  0  \n",
      "0  0  0  0  0  0  0  0  0  0  0  0  0  0  0  0  0  0  0  0  0  0  0  0  0  0  0  0  \n",
      "0  0  0  0  0  0  0  0  0  0  0  0  0  0  0  0  0  0  0  0  0  0  0  0  0  0  0  0  \n",
      "0  0  0  0  0  0  0  0  0  0  0  0  3  18 18 18 12613617526 1662552471270  0  0  0  \n",
      "0  0  0  0  0  0  0  0  30 36 94 15417025325325325325322517225324219564 0  0  0  0  \n",
      "0  0  0  0  0  0  0  49 23825325325325325325325325325193 82 82 56 39 0  0  0  0  0  \n",
      "0  0  0  0  0  0  0  18 2192532532532532531981822472410  0  0  0  0  0  0  0  0  0  \n",
      "0  0  0  0  0  0  0  0  80 15610725325320511 0  43 1540  0  0  0  0  0  0  0  0  0  \n",
      "0  0  0  0  0  0  0  0  0  14 1  15425390 0  0  0  0  0  0  0  0  0  0  0  0  0  0  \n",
      "0  0  0  0  0  0  0  0  0  0  0  1392531902  0  0  0  0  0  0  0  0  0  0  0  0  0  \n",
      "0  0  0  0  0  0  0  0  0  0  0  11 19025370 0  0  0  0  0  0  0  0  0  0  0  0  0  \n",
      "0  0  0  0  0  0  0  0  0  0  0  0  35 2412251601081  0  0  0  0  0  0  0  0  0  0  \n",
      "0  0  0  0  0  0  0  0  0  0  0  0  0  81 24025325311925 0  0  0  0  0  0  0  0  0  \n",
      "0  0  0  0  0  0  0  0  0  0  0  0  0  0  45 18625325315027 0  0  0  0  0  0  0  0  \n",
      "0  0  0  0  0  0  0  0  0  0  0  0  0  0  0  16 93 2522531870  0  0  0  0  0  0  0  \n",
      "0  0  0  0  0  0  0  0  0  0  0  0  0  0  0  0  0  24925324964 0  0  0  0  0  0  0  \n",
      "0  0  0  0  0  0  0  0  0  0  0  0  0  0  46 1301832532532072  0  0  0  0  0  0  0  \n",
      "0  0  0  0  0  0  0  0  0  0  0  0  39 1482292532532532501820  0  0  0  0  0  0  0  \n",
      "0  0  0  0  0  0  0  0  0  0  24 11422125325325325320178 0  0  0  0  0  0  0  0  0  \n",
      "0  0  0  0  0  0  0  0  23 66 21325325325325319881 2  0  0  0  0  0  0  0  0  0  0  \n",
      "0  0  0  0  0  0  18 17121925325325325319580 9  0  0  0  0  0  0  0  0  0  0  0  0  \n",
      "0  0  0  0  55 17222625325325325324413311 0  0  0  0  0  0  0  0  0  0  0  0  0  0  \n",
      "0  0  0  0  13625325325321213513216 0  0  0  0  0  0  0  0  0  0  0  0  0  0  0  0  \n",
      "0  0  0  0  0  0  0  0  0  0  0  0  0  0  0  0  0  0  0  0  0  0  0  0  0  0  0  0  \n",
      "0  0  0  0  0  0  0  0  0  0  0  0  0  0  0  0  0  0  0  0  0  0  0  0  0  0  0  0  \n",
      "0  0  0  0  0  0  0  0  0  0  0  0  0  0  0  0  0  0  0  0  0  0  0  0  0  0  0  0  \n"
     ]
    }
   ],
   "source": [
    "# 이미지가 인식되는 원리를 알아봅시다.\n",
    "# 행열의 각 원소에 0~255의 숫자로 색의 농도를 표현함을 확인하는 용도임\n",
    "# [▶▶▶ 구글검색:  sys.stdout ]\n",
    "\n",
    "for x in X_train[0]:\n",
    "    for i in x:\n",
    "        sys.stdout.write(\"%-3s\" % i)   # sys.stdou\n",
    "    sys.stdout.write('\\n')\n",
    "\n",
    "# for x in X_train[0]:\n",
    "#     for i in x:\n",
    "#         print(\"%-3s\" % i, end=' ')   # sys.stdou\n",
    "#     print()"
   ]
  },
  {
   "cell_type": "code",
   "execution_count": 17,
   "metadata": {},
   "outputs": [
    {
     "data": {
      "text/plain": [
       "(60000, 28, 28)"
      ]
     },
     "execution_count": 17,
     "metadata": {},
     "output_type": "execute_result"
    }
   ],
   "source": [
    "X_train.shape"
   ]
  },
  {
   "cell_type": "code",
   "execution_count": 18,
   "metadata": {},
   "outputs": [],
   "source": [
    "## ★★필수작업★★\n",
    "# 차원 변환 과정을 실습해 봅니다.\n",
    "# conv2D는 행*열*채널 로 입력해야함.  흑백자료는 28,28로 들어오지만 conv2D에 넣으려면 28,28,1로 진행해야함.\n",
    "X_train = X_train.reshape(X_train.shape[0], 28, 28, 1).astype('float32') / 255\n",
    "X_test = X_test.reshape(X_test.shape[0], 28, 28, 1).astype('float32') / 255\n",
    "\n",
    "\n",
    "## ★★선택작업★★  y값은 원핫인코딩 하지 않으면 loss에서 'sparse_categorical_crossentropy' 로 진행하면됨\n",
    "y_train = to_categorical(y_train)\n",
    "y_test = to_categorical(y_test)"
   ]
  },
  {
   "cell_type": "code",
   "execution_count": 39,
   "metadata": {},
   "outputs": [
    {
     "data": {
      "text/plain": [
       "(60000, 28, 28, 1)"
      ]
     },
     "execution_count": 39,
     "metadata": {},
     "output_type": "execute_result"
    }
   ],
   "source": [
    "X_train.shape"
   ]
  },
  {
   "cell_type": "markdown",
   "metadata": {},
   "source": [
    "![](2022-10-19-14-31-26.png)"
   ]
  },
  {
   "cell_type": "code",
   "execution_count": 34,
   "metadata": {},
   "outputs": [
    {
     "name": "stdout",
     "output_type": "stream",
     "text": [
      "[0.] [0.] [0.] [0.] [0.] [0.] [0.] [0.] [0.] [0.] [0.] [0.] [0.] [0.] [0.] [0.] [0.] [0.] [0.] [0.] [0.] [0.] [0.] [0.] [0.] [0.] [0.] [0.] \n",
      "[0.] [0.] [0.] [0.] [0.] [0.] [0.] [0.] [0.] [0.] [0.] [0.] [0.] [0.] [0.] [0.] [0.] [0.] [0.] [0.] [0.] [0.] [0.] [0.] [0.] [0.] [0.] [0.] \n",
      "[0.] [0.] [0.] [0.] [0.] [0.] [0.] [0.] [0.] [0.] [0.] [0.] [0.] [0.] [0.] [0.] [0.] [0.] [0.] [0.] [0.] [0.] [0.] [0.] [0.] [0.] [0.] [0.] \n",
      "[0.] [0.] [0.] [0.] [0.] [0.] [0.] [0.] [0.] [0.] [0.] [0.] [0.] [0.] [0.] [0.] [0.] [0.] [0.] [0.] [0.] [0.] [0.] [0.] [0.] [0.] [0.] [0.] \n",
      "[0.] [0.] [0.] [0.] [0.] [0.] [0.] [0.] [0.] [0.] [0.] [0.] [0.] [0.] [0.] [0.] [0.] [0.] [0.] [0.] [0.] [0.] [0.] [0.] [0.] [0.] [0.] [0.] \n",
      "[0.] [0.] [0.] [0.] [0.] [0.] [0.] [0.] [0.] [0.] [0.] [0.] [0.01176471] [0.07058824] [0.07058824] [0.07058824] [0.49411765] [0.53333336] [0.6862745] [0.10196079] [0.6509804] [1.] [0.96862745] [0.49803922] [0.] [0.] [0.] [0.] \n",
      "[0.] [0.] [0.] [0.] [0.] [0.] [0.] [0.] [0.11764706] [0.14117648] [0.36862746] [0.6039216] [0.6666667] [0.99215686] [0.99215686] [0.99215686] [0.99215686] [0.99215686] [0.88235295] [0.6745098] [0.99215686] [0.9490196] [0.7647059] [0.2509804] [0.] [0.] [0.] [0.] \n",
      "[0.] [0.] [0.] [0.] [0.] [0.] [0.] [0.19215687] [0.93333334] [0.99215686] [0.99215686] [0.99215686] [0.99215686] [0.99215686] [0.99215686] [0.99215686] [0.99215686] [0.9843137] [0.3647059] [0.32156864] [0.32156864] [0.21960784] [0.15294118] [0.] [0.] [0.] [0.] [0.] \n",
      "[0.] [0.] [0.] [0.] [0.] [0.] [0.] [0.07058824] [0.85882354] [0.99215686] [0.99215686] [0.99215686] [0.99215686] [0.99215686] [0.7764706] [0.7137255] [0.96862745] [0.94509804] [0.] [0.] [0.] [0.] [0.] [0.] [0.] [0.] [0.] [0.] \n",
      "[0.] [0.] [0.] [0.] [0.] [0.] [0.] [0.] [0.3137255] [0.6117647] [0.41960785] [0.99215686] [0.99215686] [0.8039216] [0.04313726] [0.] [0.16862746] [0.6039216] [0.] [0.] [0.] [0.] [0.] [0.] [0.] [0.] [0.] [0.] \n",
      "[0.] [0.] [0.] [0.] [0.] [0.] [0.] [0.] [0.] [0.05490196] [0.00392157] [0.6039216] [0.99215686] [0.3529412] [0.] [0.] [0.] [0.] [0.] [0.] [0.] [0.] [0.] [0.] [0.] [0.] [0.] [0.] \n",
      "[0.] [0.] [0.] [0.] [0.] [0.] [0.] [0.] [0.] [0.] [0.] [0.54509807] [0.99215686] [0.74509805] [0.00784314] [0.] [0.] [0.] [0.] [0.] [0.] [0.] [0.] [0.] [0.] [0.] [0.] [0.] \n",
      "[0.] [0.] [0.] [0.] [0.] [0.] [0.] [0.] [0.] [0.] [0.] [0.04313726] [0.74509805] [0.99215686] [0.27450982] [0.] [0.] [0.] [0.] [0.] [0.] [0.] [0.] [0.] [0.] [0.] [0.] [0.] \n",
      "[0.] [0.] [0.] [0.] [0.] [0.] [0.] [0.] [0.] [0.] [0.] [0.] [0.13725491] [0.94509804] [0.88235295] [0.627451] [0.42352942] [0.00392157] [0.] [0.] [0.] [0.] [0.] [0.] [0.] [0.] [0.] [0.] \n",
      "[0.] [0.] [0.] [0.] [0.] [0.] [0.] [0.] [0.] [0.] [0.] [0.] [0.] [0.31764707] [0.9411765] [0.99215686] [0.99215686] [0.46666667] [0.09803922] [0.] [0.] [0.] [0.] [0.] [0.] [0.] [0.] [0.] \n",
      "[0.] [0.] [0.] [0.] [0.] [0.] [0.] [0.] [0.] [0.] [0.] [0.] [0.] [0.] [0.1764706] [0.7294118] [0.99215686] [0.99215686] [0.5882353] [0.10588235] [0.] [0.] [0.] [0.] [0.] [0.] [0.] [0.] \n",
      "[0.] [0.] [0.] [0.] [0.] [0.] [0.] [0.] [0.] [0.] [0.] [0.] [0.] [0.] [0.] [0.0627451] [0.3647059] [0.9882353] [0.99215686] [0.73333335] [0.] [0.] [0.] [0.] [0.] [0.] [0.] [0.] \n",
      "[0.] [0.] [0.] [0.] [0.] [0.] [0.] [0.] [0.] [0.] [0.] [0.] [0.] [0.] [0.] [0.] [0.] [0.9764706] [0.99215686] [0.9764706] [0.2509804] [0.] [0.] [0.] [0.] [0.] [0.] [0.] \n",
      "[0.] [0.] [0.] [0.] [0.] [0.] [0.] [0.] [0.] [0.] [0.] [0.] [0.] [0.] [0.18039216] [0.50980395] [0.7176471] [0.99215686] [0.99215686] [0.8117647] [0.00784314] [0.] [0.] [0.] [0.] [0.] [0.] [0.] \n",
      "[0.] [0.] [0.] [0.] [0.] [0.] [0.] [0.] [0.] [0.] [0.] [0.] [0.15294118] [0.5803922] [0.8980392] [0.99215686] [0.99215686] [0.99215686] [0.98039216] [0.7137255] [0.] [0.] [0.] [0.] [0.] [0.] [0.] [0.] \n",
      "[0.] [0.] [0.] [0.] [0.] [0.] [0.] [0.] [0.] [0.] [0.09411765] [0.44705883] [0.8666667] [0.99215686] [0.99215686] [0.99215686] [0.99215686] [0.7882353] [0.30588236] [0.] [0.] [0.] [0.] [0.] [0.] [0.] [0.] [0.] \n",
      "[0.] [0.] [0.] [0.] [0.] [0.] [0.] [0.] [0.09019608] [0.25882354] [0.8352941] [0.99215686] [0.99215686] [0.99215686] [0.99215686] [0.7764706] [0.31764707] [0.00784314] [0.] [0.] [0.] [0.] [0.] [0.] [0.] [0.] [0.] [0.] \n",
      "[0.] [0.] [0.] [0.] [0.] [0.] [0.07058824] [0.67058825] [0.85882354] [0.99215686] [0.99215686] [0.99215686] [0.99215686] [0.7647059] [0.3137255] [0.03529412] [0.] [0.] [0.] [0.] [0.] [0.] [0.] [0.] [0.] [0.] [0.] [0.] \n",
      "[0.] [0.] [0.] [0.] [0.21568628] [0.6745098] [0.8862745] [0.99215686] [0.99215686] [0.99215686] [0.99215686] [0.95686275] [0.52156866] [0.04313726] [0.] [0.] [0.] [0.] [0.] [0.] [0.] [0.] [0.] [0.] [0.] [0.] [0.] [0.] \n",
      "[0.] [0.] [0.] [0.] [0.53333336] [0.99215686] [0.99215686] [0.99215686] [0.83137256] [0.5294118] [0.5176471] [0.0627451] [0.] [0.] [0.] [0.] [0.] [0.] [0.] [0.] [0.] [0.] [0.] [0.] [0.] [0.] [0.] [0.] \n",
      "[0.] [0.] [0.] [0.] [0.] [0.] [0.] [0.] [0.] [0.] [0.] [0.] [0.] [0.] [0.] [0.] [0.] [0.] [0.] [0.] [0.] [0.] [0.] [0.] [0.] [0.] [0.] [0.] \n",
      "[0.] [0.] [0.] [0.] [0.] [0.] [0.] [0.] [0.] [0.] [0.] [0.] [0.] [0.] [0.] [0.] [0.] [0.] [0.] [0.] [0.] [0.] [0.] [0.] [0.] [0.] [0.] [0.] \n",
      "[0.] [0.] [0.] [0.] [0.] [0.] [0.] [0.] [0.] [0.] [0.] [0.] [0.] [0.] [0.] [0.] [0.] [0.] [0.] [0.] [0.] [0.] [0.] [0.] [0.] [0.] [0.] [0.] \n"
     ]
    }
   ],
   "source": [
    "for x in X_train[0]:\n",
    "    for i in x:\n",
    "        print(\"%-3s\" % i, end=' ')   # sys.stdou\n",
    "    print()"
   ]
  },
  {
   "cell_type": "markdown",
   "metadata": {},
   "source": [
    "## 3. 컨볼루션 신경망(CNN)\n",
    "- conv2D는 cpu 환경에서 속도느림\n",
    "- gpu환경은 코렙에서 실행해야 하나 1일 사용할수 있는 gpu가 한계가 있어 \n",
    "- 이 작업은 로컬pc의 cpu에서 실행하여 모델의 구성과 실행에만 중점을 맞춤\n",
    "- 전이학습을 코렙에서 실행하고자함."
   ]
  },
  {
   "cell_type": "code",
   "execution_count": 29,
   "metadata": {},
   "outputs": [
    {
     "name": "stdout",
     "output_type": "stream",
     "text": [
      "\n",
      "Epoch 1: val_loss improved from inf to 0.08108, saving model to ./data/model\\MNIST_CNN.hdf5\n",
      "\n",
      "Epoch 2: val_loss improved from 0.08108 to 0.05852, saving model to ./data/model\\MNIST_CNN.hdf5\n",
      "\n",
      "Epoch 3: val_loss improved from 0.05852 to 0.05289, saving model to ./data/model\\MNIST_CNN.hdf5\n",
      "313/313 [==============================] - 2s 7ms/step - loss: 0.0419 - accuracy: 0.9860\n",
      "\n",
      " Test Accuracy: 0.9860\n"
     ]
    }
   ],
   "source": [
    "# 컨볼루션 신경망의 설정\n",
    "model = Sequential()\n",
    "model.add(Conv2D(32, kernel_size=(3, 3), input_shape=(28, 28, 1), activation='relu'))\n",
    "model.add(Conv2D(64, (3, 3), activation='relu'))\n",
    "model.add(MaxPooling2D(pool_size=(2,2)))\n",
    "model.add(Dropout(0.25))\n",
    "model.add(Flatten())\n",
    "model.add(Dense(128,  activation='relu'))\n",
    "model.add(Dropout(0.5))\n",
    "model.add(Dense(10, activation='softmax'))\n",
    "\n",
    "# 모델의 실행 옵션을 설정합니다.\n",
    "model.compile(loss='categorical_crossentropy',\n",
    "              optimizer='adam',\n",
    "              metrics=['accuracy'])\n",
    "\n",
    "# 모델 최적화를 위한 설정 구간입니다.\n",
    "MODEL_DIR = './data/model/'  # 폴더없어도 알아서 생성됨\n",
    "modelpath=\"./data/model/MNIST_CNN.hdf5\"\n",
    "checkpointer = ModelCheckpoint(filepath=modelpath, \n",
    "                               monitor='val_loss',       # val_loss값을 기준으로\n",
    "                               verbose=1,                # 실행결과를 화면에 출력함. verbose=0하면 실행결과가 화면에 나타나지않음\n",
    "                               save_best_only=True)  # 가장좋은(즉 loss숫자가 가장 낮은) 모델을 저장함\n",
    "\n",
    "early_stopping_callback = EarlyStopping(monitor='val_loss', \n",
    "                                        patience=10) # 실행하다가 10번이상 더 좋은 결과가 없으면 중단,여기서는 epochs를3으로해서 의미없음.\n",
    "\n",
    "# 모델을 실행합니다.\n",
    "history = model.fit(X_train, y_train, validation_split=0.25, \n",
    "                    epochs=3, batch_size=200, \n",
    "                    verbose=0, \n",
    "                    callbacks=[early_stopping_callback,checkpointer])\n",
    "\n",
    "# 테스트 정확도를 출력합니다.\n",
    "print(\"\\n Test Accuracy: %.4f\" % (model.evaluate(X_test, y_test)[1]))"
   ]
  },
  {
   "cell_type": "code",
   "execution_count": 30,
   "metadata": {},
   "outputs": [
    {
     "data": {
      "image/png": "[encoded data removed]",
      "text/plain": [
       "<Figure size 432x288 with 1 Axes>"
      ]
     },
     "metadata": {
      "needs_background": "light"
     },
     "output_type": "display_data"
    }
   ],
   "source": [
    "# 검증셋과 학습셋의 오차를 저장합니다.\n",
    "y_vloss = history.history['val_loss']\n",
    "y_loss = history.history['loss']\n",
    "\n",
    "# 그래프로 표현해 봅니다.\n",
    "x_len = np.arange(len(y_loss))\n",
    "plt.plot(x_len, y_vloss, marker='.', c=\"red\", label='Testset_loss')\n",
    "plt.plot(x_len, y_loss, marker='.', c=\"blue\", label='Trainset_loss')\n",
    "\n",
    "# 그래프에 그리드를 주고 레이블을 표시하겠습니다.\n",
    "plt.legend(loc='upper right')\n",
    "plt.grid()\n",
    "plt.xlabel('epoch')\n",
    "plt.ylabel('loss')\n",
    "plt.show()"
   ]
  },
  {
   "cell_type": "code",
   "execution_count": null,
   "metadata": {},
   "outputs": [],
   "source": []
  }
 ],
 "metadata": {
  "kernelspec": {
   "display_name": "Python 3.10.4 ('han')",
   "language": "python",
   "name": "python3"
  },
  "language_info": {
   "codemirror_mode": {
    "name": "ipython",
    "version": 3
   },
   "file_extension": ".py",
   "mimetype": "text/x-python",
   "name": "python",
   "nbconvert_exporter": "python",
   "pygments_lexer": "ipython3",
   "version": "3.10.4"
  },
  "vscode": {
   "interpreter": {
    "hash": "9ffd841040af6bedd50cabf1584399d13f777232c008d7c4ad470663779a547a"
   }
  }
 },
 "nbformat": 4,
 "nbformat_minor": 2
}
