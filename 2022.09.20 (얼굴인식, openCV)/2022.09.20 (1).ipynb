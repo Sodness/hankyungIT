{
 "cells": [
  {
   "cell_type": "code",
   "execution_count": 12,
   "id": "ddee28cd",
   "metadata": {},
   "outputs": [],
   "source": [
    "import cv2\n",
    "import numpy as np\n",
    "### 아래 사이트를 보면 학습한 좌표값이 있음.\n",
    "### openCV에서 제공하는 객체검출 xml (구글검색: xml)\n",
    "### https://github.com/opencv/opencv/tree/master/data/haarcascades\n",
    "### 각 xml에 대한 설명: https://yunwoong.tistory.com/92\n",
    "###\n",
    "# 참고: 얼굴검출 openCV : https://076923.github.io/posts/C-opencv-29/\n",
    "# 참고: https://www.bogotobogo.com/python/OpenCV_Python/python_opencv3_Image_Object_Detection_Face_Detection_Haar_Cascade_Classifiers.php"
   ]
  },
  {
   "cell_type": "code",
   "execution_count": 5,
   "id": "d0cdb927",
   "metadata": {},
   "outputs": [],
   "source": [
    "# 정면인식\n",
    "# 정면인식이 학습되어 있는 데이터를 openCV로 import\n",
    "face_cascade = cv2.CascadeClassifier('./haarcascade_frontalface_default.xml') "
   ]
  },
  {
   "cell_type": "code",
   "execution_count": 30,
   "id": "de91360e",
   "metadata": {},
   "outputs": [],
   "source": [
    "# 테스트용 이미지 불러오기\n",
    "img = cv2.imread('./open_cv.jpg')\n",
    "# cv2.imshow('img', img)\n",
    "# cv2.waitKey(0)\n",
    "# cv2.destroyAllWindows()"
   ]
  },
  {
   "cell_type": "code",
   "execution_count": 31,
   "id": "a0034b1c",
   "metadata": {},
   "outputs": [],
   "source": [
    "# 얼굴인식 \n",
    "faces = face_cascade.detectMultiScale(img, 1.3, 5)\n",
    "\n",
    "'''\n",
    "image = Matrix of the type CV_8U containing an image where objects are detected.\n",
    "        face_cascade에 있는 학습 데이터를 바탕으로 추출할 이미지\n",
    "scaleFactor = Parameter specifying how much the image size is reduced at each image scale.\n",
    "              다음 반복에서 이미지 축소 비율. 기본값은 1.1. 높을수록 간단하게 인식\n",
    "              (검출하는 사각형의 크기를 키움 이미지가 상대적으로 작아졌다는 판단)\n",
    "              (같은 사진이여도 멀리있는 사람은 작게 나고 가까이 있는 사람이 크게 나와서 비율을 다르게 바꾸면서 검출)\n",
    "minNeighbors = Parameter specifying how many neighbors each candidate rectangle should have to retain it.\n",
    "               얼마나 많은 이웃 사각형이 검출되어야 최종 검출 영역으로 설정할지를 지정. 기본값은 3. 낮을수록 간단하게 검출\n",
    "'''"
   ]
  },
  {
   "cell_type": "code",
   "execution_count": 32,
   "id": "18529d88",
   "metadata": {},
   "outputs": [
    {
     "data": {
      "text/plain": [
       "array([[271, 180,  51,  51],\n",
       "       [366, 123,  53,  53],\n",
       "       [453, 102,  58,  58],\n",
       "       [574, 123,  59,  59]])"
      ]
     },
     "execution_count": 32,
     "metadata": {},
     "output_type": "execute_result"
    }
   ],
   "source": [
    "# x, y, w, h (왼쪽 위 기준)\n",
    "# 검출된 얼굴들 확인\n",
    "faces"
   ]
  },
  {
   "cell_type": "code",
   "execution_count": 33,
   "id": "1e59687d",
   "metadata": {},
   "outputs": [
    {
     "data": {
      "text/plain": [
       "(495, 740, 3)"
      ]
     },
     "execution_count": 33,
     "metadata": {},
     "output_type": "execute_result"
    }
   ],
   "source": [
    "# 원본 이미지 크기 확인\n",
    "np.shape(img)"
   ]
  },
  {
   "cell_type": "code",
   "execution_count": 34,
   "id": "cb87f531",
   "metadata": {},
   "outputs": [],
   "source": [
    "for x,y,w,h in faces:\n",
    "    # x,y 시작위치에서 x+w, y+h 위치에 파란색, 두께 2짜리 사각박스그리기\n",
    "    cv2.rectangle(img, (x, y), (x + w, y + h), (255, 0, 0), 2)     \n",
    "cv2.imshow(\"test\", img)   #  cv2.imshow('캡션명 사용자 마음임',출력할 이미지 변수명)\n",
    "cv2.waitKey()\n",
    "cv2.destroyAllWindows()"
   ]
  },
  {
   "cell_type": "code",
   "execution_count": 38,
   "id": "ce2bf050",
   "metadata": {},
   "outputs": [],
   "source": [
    "# 이미지 초기화\n",
    "img = cv2.imread('open_cv.jpg')  # cv2는 기본으로 array로 들어옴\n",
    "\n",
    "# 얼굴 인식 범위 살짝 확장\n",
    "# 박스 위에 'face' 텍스트 출력\n",
    "for x,y,w,h in faces:\n",
    "    cv2.rectangle(img, (x-20, y-20), (x + w+20, y + h+20), (255, 0, 0), 2)\n",
    "    cv2.putText(img, \"face\" , (x,y-30), cv2.FONT_HERSHEY_SIMPLEX, 1, (255,0,0), 2)\n",
    "    \n",
    "cv2.imshow(\"test\", img)   #  cv2.imshow('캡션명 사용자 마음임',출력할 이미지 변수명)\n",
    "cv2.waitKey()\n",
    "cv2.destroyAllWindows()"
   ]
  },
  {
   "cell_type": "code",
   "execution_count": 41,
   "id": "8ca10545",
   "metadata": {},
   "outputs": [
    {
     "name": "stdout",
     "output_type": "stream",
     "text": [
      "현재작업폴더의 faceimage폴더안에 사각영역이 파일로 저장되었음\n"
     ]
    }
   ],
   "source": [
    "### 얼굴이미지만 별도로 저장하고자 한다면\n",
    "img = cv2.imread('open_cv.jpg')  # cv2는 기본으로 array로 들어옴\n",
    "cnt=0\n",
    "\n",
    "# 사각형 그리고 텍스트 출력\n",
    "# 이미지 저장\n",
    "for x,y,w,h in faces:\n",
    "    cv2.rectangle(img, (x-20, y-20), (x + w+20, y + h+20), (255, 0, 0), 2)  \n",
    "    cv2.putText(img, \"face\" , (x,y-30), cv2.FONT_HERSHEY_SIMPLEX, 1, (255,0,0), 2)\n",
    "    \n",
    "    cnt = cnt+1\n",
    "    사각영역array = img[y-20:y + h+20, x-20:x + w+20]   # array로 되어 있는 자료만 별도로 저장하기 위해서 행렬 자료로 작업함\n",
    "    fileName = './Faceimgae/' + str(cnt) + 'face.jpg'  #cnt는 순서번호를 붙이기 위해서임\n",
    "    cv2.imwrite(fileName,사각영역array)\n",
    "    \n",
    "    \n",
    "print('현재작업폴더의 faceimage폴더안에 사각영역이 파일로 저장되었음')"
   ]
  },
  {
   "cell_type": "code",
   "execution_count": null,
   "id": "a155ddfb",
   "metadata": {},
   "outputs": [],
   "source": [
    "# 통합본\n",
    "import cv2\n",
    "import numpy as np\n",
    "\n",
    "# 얼굴 인식\n",
    "face_cascade = cv2.CascadeClassifier('./haarcascade_frontalface_default.xml')\n",
    "img = cv2.imread('./open_cv.jpg')\n",
    "faces = face_cascade.detectMultiScale(img, 1.3, 5)\n",
    "\n",
    "\n",
    "# 얼굴 인식 확인\n",
    "for x,y,w,h in faces:\n",
    "    cv2.rectangle(img, (x, y), (x + w, y + h), (255, 0, 0), 2)     \n",
    "cv2.imshow(\"test1\", img)\n",
    "cv2.waitKey()\n",
    "cv2.destroyAllWindows()\n",
    "\n",
    "\n",
    "# 얼굴 인식 범위 확장 및 텍스트 출력\n",
    "# for x,y,w,h in faces:\n",
    "#     cv2.rectangle(img, (x-20, y-20), (x + w+20, y + h+20), (255, 0, 0), 2)\n",
    "#     cv2.putText(img, \"face\" , (x,y-30), cv2.FONT_HERSHEY_SIMPLEX, 1, (255,0,0), 2)\n",
    "\n",
    "# cv2.imshow(\"test2\", img)\n",
    "# cv2.waitKey()\n",
    "# cv2.destroyAllWindows()\n",
    "\n",
    "\n",
    "# 얼굴이미지만 별도로 저장하고자 한다면\n",
    "# img = cv2.imread('open_cv.jpg')\n",
    "# cnt=0\n",
    "\n",
    "# for x,y,w,h in faces:\n",
    "#     cv2.rectangle(img, (x-20, y-20), (x + w+20, y + h+20), (255, 0, 0), 2)  \n",
    "#     cv2.putText(img, \"face\" , (x,y-30), cv2.FONT_HERSHEY_SIMPLEX, 1, (255,0,0), 2)\n",
    "\n",
    "#     cnt = cnt+1\n",
    "#     사각영역array = img[y-20:y + h+20, x-20:x + w+20]\n",
    "#     fileName = './Faceimgae/' + str(cnt) + 'face.jpg'\n",
    "#     cv2.imwrite(fileName,사각영역array)\n",
    "\n",
    "# if cnt != 0:\n",
    "#     print('현재작업폴더의 faceimage폴더안에 사각영역이 파일로 저장되었음')"
   ]
  },
  {
   "cell_type": "code",
   "execution_count": null,
   "id": "fd49ec62",
   "metadata": {},
   "outputs": [],
   "source": []
  },
  {
   "cell_type": "code",
   "execution_count": 49,
   "id": "0ed467fb",
   "metadata": {},
   "outputs": [],
   "source": [
    "import numpy as np\n",
    "import cv2\n",
    "from matplotlib import pyplot as plt\n",
    "\n",
    "face_cascade = cv2.CascadeClassifier('haarcascade_frontalface_alt.xml')\n",
    "eye_cascade = cv2.CascadeClassifier('haarcascade_eye.xml')\n",
    "\n",
    "img = cv2.imread('./xfile.jpg')\n",
    "gray = cv2.cvtColor(img, cv2.COLOR_BGR2GRAY)\n",
    "\n",
    "faces = face_cascade.detectMultiScale(gray, 1.1, 4)\n",
    "\n",
    "\n",
    "for (x,y,w,h) in faces:\n",
    "    cv2.rectangle(img,(x,y),(x+w,y+h),(255,0,0),2)\n",
    "    roi_gray = gray[y:y+h, x:x+w]\n",
    "    roi_color = img[y:y+h, x:x+w]\n",
    "    eyes = eye_cascade.detectMultiScale(roi_gray, 1.1, 5)\n",
    "    for (ex,ey,ew,eh) in eyes:\n",
    "        cv2.rectangle(roi_color,(ex,ey),(ex+ew,ey+eh),(0,255,0),2)\n",
    "\n",
    "cv2.imshow('img',img)\n",
    "cv2.waitKey(0)\n",
    "cv2.destroyAllWindows()"
   ]
  },
  {
   "cell_type": "code",
   "execution_count": null,
   "id": "30c53fd2",
   "metadata": {},
   "outputs": [],
   "source": []
  },
  {
   "cell_type": "code",
   "execution_count": null,
   "id": "4f569ead",
   "metadata": {},
   "outputs": [],
   "source": []
  },
  {
   "cell_type": "code",
   "execution_count": null,
   "id": "501bb284",
   "metadata": {},
   "outputs": [],
   "source": []
  },
  {
   "cell_type": "code",
   "execution_count": null,
   "id": "3b347f53",
   "metadata": {},
   "outputs": [],
   "source": []
  },
  {
   "cell_type": "code",
   "execution_count": null,
   "id": "e56fcc6d",
   "metadata": {},
   "outputs": [],
   "source": []
  }
 ],
 "metadata": {
  "kernelspec": {
   "display_name": "Python 3 (ipykernel)",
   "language": "python",
   "name": "python3"
  },
  "language_info": {
   "codemirror_mode": {
    "name": "ipython",
    "version": 3
   },
   "file_extension": ".py",
   "mimetype": "text/x-python",
   "name": "python",
   "nbconvert_exporter": "python",
   "pygments_lexer": "ipython3",
   "version": "3.10.4"
  }
 },
 "nbformat": 4,
 "nbformat_minor": 5
}
