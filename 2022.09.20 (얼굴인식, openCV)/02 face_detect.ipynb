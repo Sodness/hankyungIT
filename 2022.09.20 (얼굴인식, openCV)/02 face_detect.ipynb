{
 "cells": [
  {
   "cell_type": "code",
   "execution_count": 21,
   "id": "1c759e92",
   "metadata": {},
   "outputs": [],
   "source": [
    "#### openCV에서 제공하는 정면 얼굴 탐지기(사전학습된 자료임) / 얼굴의 위치및 눈,코, 입의 위치\n",
    "\n",
    "### 아래 사이트를 보면 학습한 좌표값이 있음.\n",
    "\n",
    "\n",
    "### openCV에서 제공하는 객체검출 xml (구글검색: xml)\n",
    "### https://github.com/opencv/opencv/tree/master/data/haarcascades\n",
    "### 각 xml에 대한 설명: https://yunwoong.tistory.com/92\n",
    "###\n",
    "# 참고: 얼굴검출 openCV : https://076923.github.io/posts/C-opencv-29/\n",
    "# 참고: https://www.bogotobogo.com/python/OpenCV_Python/python_opencv3_Image_Object_Detection_Face_Detection_Haar_Cascade_Classifiers.php\n",
    "\n",
    "############################3\n",
    "## **** 얼굴, 손, 등을 더 정밀히 인식하는 media pipe 가 있음.\n",
    "############################"
   ]
  },
  {
   "cell_type": "code",
   "execution_count": 33,
   "id": "2d9a335e",
   "metadata": {},
   "outputs": [],
   "source": [
    "################################################33\n",
    "#### 얼굴인식 하는 xml자료 연동하기\n",
    "#### 이미지 자료 읽기\n",
    "###########################################\n",
    "import cv2\n",
    "face_cascade = cv2.CascadeClassifier(cv2.data.haarcascades + 'haarcascade_frontalface_default.xml') \n",
    "#정면인식하는 코드\n",
    "\n"
   ]
  },
  {
   "cell_type": "code",
   "execution_count": 34,
   "id": "13449039",
   "metadata": {},
   "outputs": [],
   "source": [
    "img = cv2.imread('img01.jpg')  # cv2는 기본으로 array로 들어옴\n",
    "#gray = cv2.cvtColor(img, cv2.COLOR_BGR2GRAY)   # gray모델은 필요에 따라 사용함. 여기서는 사용하지 않겠음."
   ]
  },
  {
   "cell_type": "code",
   "execution_count": 35,
   "id": "a8367c72",
   "metadata": {},
   "outputs": [],
   "source": [
    "##############################\n",
    "### 이미지 보여주기\n",
    "#### 별도의 창에서 보임, 실행되면 이미지 창 닫아야함. 안그러면 계속 이 창은 * 로 작업중으로 표시됨\n",
    "###############################\n",
    "cv2.imshow(\"test\", img)   #  cv2.imshow('캡션명 사용자 마음임',출력할 이미지 변수명)\n",
    "cv2.waitKey()\n",
    "cv2.destroyAllWindows()"
   ]
  },
  {
   "cell_type": "code",
   "execution_count": 36,
   "id": "649aff5c",
   "metadata": {},
   "outputs": [
    {
     "data": {
      "text/plain": [
       "array([[ 30,  77, 224, 224],\n",
       "       [290,  79, 221, 221]])"
      ]
     },
     "execution_count": 36,
     "metadata": {},
     "output_type": "execute_result"
    }
   ],
   "source": [
    "##############################\n",
    "### 얼굴인식 모델 실해하기\n",
    "### 구글검색 'face_cascade.detectMultiScale' 해서 옵션값에 대해 이해하셔요\n",
    "###############################\n",
    "faces = face_cascade.detectMultiScale(img, 1.3, 5)\n",
    "faces   # 출력되는 값은 얼굴인식한 위치값에 대한 정보임"
   ]
  },
  {
   "cell_type": "code",
   "execution_count": 37,
   "id": "018a8b69",
   "metadata": {},
   "outputs": [],
   "source": [
    "## faces에서 검출된 3개의 이미지의 시작하는x,y값과 그 위치에서 우측으로 w, 아래로 h 확장된 값만큼을 받아서 그리는 코드임\n",
    "# 오픈CV는 RGB가 아니라 BGR로 들어옴 (255,0,0)은 블루임\n",
    "\n",
    "for x,y,w,h in faces:\n",
    "    # x,y 시작위치에서 x+w, y+h 위치에 파란색, 두께 2짜리 사각박스그리기\n",
    "    cv2.rectangle(img, (x, y), (x + w, y + h), (255, 0, 0), 2)     \n",
    "cv2.imshow(\"test\", img)   #  cv2.imshow('캡션명 사용자 마음임',출력할 이미지 변수명)\n",
    "cv2.waitKey()\n",
    "cv2.destroyAllWindows()"
   ]
  },
  {
   "cell_type": "code",
   "execution_count": 14,
   "id": "c9c8bc4e",
   "metadata": {},
   "outputs": [],
   "source": [
    "## 기존에 그려진 사각박스가 있어서 이미지를 다시 부름, \n",
    "## 얼굴인식하는 모델에 넣기위해서 박스값을 변경함\n",
    "## cv2.putText 을 이용하여서 박스위에 'face' 라는 글자를 입력함   / 구글검색 'cv2.putText'\n",
    "## 'face' 가 아닌 한글로 출력하고자 한다면 구글검색 '오픈cv 한글'\n",
    "\n",
    "img = cv2.imread('open_cv.jpg')  # cv2는 기본으로 array로 들어옴\n",
    "\n",
    "\n",
    "for x,y,w,h in faces:\n",
    "    cv2.rectangle(img, (x-20, y-20), (x + w+20, y + h+20), (255, 0, 0), 2)  \n",
    "    cv2.putText(img, \"face\" , (x,y-30), cv2.FONT_HERSHEY_SIMPLEX, 1, (255,0,0), 2)\n",
    "    \n",
    "cv2.imshow(\"test\", img)   #  cv2.imshow('캡션명 사용자 마음임',출력할 이미지 변수명)\n",
    "cv2.waitKey()\n",
    "cv2.destroyAllWindows()"
   ]
  },
  {
   "cell_type": "code",
   "execution_count": 39,
   "id": "a1cc0715",
   "metadata": {},
   "outputs": [
    {
     "name": "stdout",
     "output_type": "stream",
     "text": [
      "현재작업폴더의 faceimage폴더안에 사각영역이 파일로 저장되었음\n"
     ]
    }
   ],
   "source": [
    "### 얼굴이미지만 별도로 저장하고자 한다면\n",
    "img = cv2.imread('open_cv.jpg')  # cv2는 기본으로 array로 들어옴\n",
    "cnt=0\n",
    "\n",
    "for x,y,w,h in faces:\n",
    "    cv2.rectangle(img, (x-20, y-20), (x + w+20, y + h+20), (255, 0, 0), 2)  \n",
    "    cv2.putText(img, \"face\" , (x,y-30), cv2.FONT_HERSHEY_SIMPLEX, 1, (255,0,0), 2)\n",
    "    \n",
    "    \n",
    "    cnt=cnt+1\n",
    "    사각영역array = img[y-20:y + h+20, x-20:x + w+20]   # array로 되어 있는 자료만 별도로 저장하기 위해서 행렬 자료로 작업함\n",
    "    fileName='./Faceimgae/' + str(cnt) + 'face.jpg'  #cnt는 순서번호를 붙이기 위해서임\n",
    "    cv2.imwrite(fileName,사각영역array)\n",
    "    \n",
    "    \n",
    "print('현재작업폴더의 faceimage폴더안에 사각영역이 파일로 저장되었음')"
   ]
  },
  {
   "cell_type": "code",
   "execution_count": 17,
   "id": "e22a7a45",
   "metadata": {},
   "outputs": [
    {
     "data": {
      "text/plain": [
       "'.\\\\Faceimgae\\\\4face.jpg'"
      ]
     },
     "execution_count": 17,
     "metadata": {},
     "output_type": "execute_result"
    }
   ],
   "source": [
    "fileName"
   ]
  },
  {
   "cell_type": "code",
   "execution_count": 18,
   "id": "caf28f3f",
   "metadata": {},
   "outputs": [
    {
     "data": {
      "text/plain": [
       "'C:\\\\Users\\\\hmh\\\\Documents\\\\py'"
      ]
     },
     "execution_count": 18,
     "metadata": {},
     "output_type": "execute_result"
    }
   ],
   "source": [
    "pwd"
   ]
  },
  {
   "cell_type": "code",
   "execution_count": null,
   "id": "b63872a4",
   "metadata": {},
   "outputs": [],
   "source": []
  },
  {
   "cell_type": "code",
   "execution_count": null,
   "id": "f9dd1293",
   "metadata": {},
   "outputs": [],
   "source": []
  },
  {
   "cell_type": "code",
   "execution_count": 27,
   "id": "955b5eef",
   "metadata": {},
   "outputs": [],
   "source": [
    "import cv2"
   ]
  },
  {
   "cell_type": "code",
   "execution_count": 26,
   "id": "dfd8eb6b",
   "metadata": {},
   "outputs": [
    {
     "ename": "error",
     "evalue": "OpenCV(4.6.0) D:\\a\\opencv-python\\opencv-python\\opencv\\modules\\imgproc\\src\\color.cpp:182: error: (-215:Assertion failed) !_src.empty() in function 'cv::cvtColor'\n",
     "output_type": "error",
     "traceback": [
      "\u001b[1;31m---------------------------------------------------------------------------\u001b[0m",
      "\u001b[1;31merror\u001b[0m                                     Traceback (most recent call last)",
      "Input \u001b[1;32mIn [26]\u001b[0m, in \u001b[0;36m<cell line: 9>\u001b[1;34m()\u001b[0m\n\u001b[0;32m      7\u001b[0m \u001b[38;5;66;03m# 이미지 불러오기\u001b[39;00m\n\u001b[0;32m      8\u001b[0m img \u001b[38;5;241m=\u001b[39m cv2\u001b[38;5;241m.\u001b[39mimread(\u001b[38;5;124m'\u001b[39m\u001b[38;5;124mimg01.jpg\u001b[39m\u001b[38;5;124m'\u001b[39m)\n\u001b[1;32m----> 9\u001b[0m gray \u001b[38;5;241m=\u001b[39m \u001b[43mcv2\u001b[49m\u001b[38;5;241;43m.\u001b[39;49m\u001b[43mcvtColor\u001b[49m\u001b[43m(\u001b[49m\u001b[43mimg\u001b[49m\u001b[43m,\u001b[49m\u001b[43m \u001b[49m\u001b[43mcv2\u001b[49m\u001b[38;5;241;43m.\u001b[39;49m\u001b[43mCOLOR_BGR2GRAY\u001b[49m\u001b[43m)\u001b[49m\n\u001b[0;32m     11\u001b[0m \u001b[38;5;66;03m# 얼굴 찾기\u001b[39;00m\n\u001b[0;32m     12\u001b[0m faces \u001b[38;5;241m=\u001b[39m face_cascade\u001b[38;5;241m.\u001b[39mdetectMultiScale(gray, \u001b[38;5;241m1.3\u001b[39m, \u001b[38;5;241m5\u001b[39m)\n",
      "\u001b[1;31merror\u001b[0m: OpenCV(4.6.0) D:\\a\\opencv-python\\opencv-python\\opencv\\modules\\imgproc\\src\\color.cpp:182: error: (-215:Assertion failed) !_src.empty() in function 'cv::cvtColor'\n"
     ]
    }
   ],
   "source": [
    "import cv2\n",
    "\n",
    "# haarcascade 불러오기\n",
    "face_cascade = cv2.CascadeClassifier(cv2.data.haarcascades + 'haarcascade_frontalface_default.xml')\n",
    "eye_cascade = cv2.CascadeClassifier(cv2.data.haarcascades + 'haarcascade_eye.xml')\n",
    "\n",
    "# 이미지 불러오기\n",
    "img = cv2.imread('img01.jpg')\n",
    "gray = cv2.cvt\n",
    "\n",
    "# 얼굴 찾기\n",
    "faces = face_cascade.detectMultiScale(gray, 1.3, 5)\n",
    "for (x, y, w, h) in faces:\n",
    "    cv2.rectangle(img, (x, y), (x + w, y + h), (255, 0, 0), 2)\n",
    "\n",
    "    # 눈 찾기\n",
    "    roi_color = img[y:y + h, x:x + w]\n",
    "    roi_gray = gray[y:y + h, x:x + w]\n",
    "    eyes = eye_cascade.detectMultiScale(roi_gray)\n",
    "    for (ex, ey, ew, eh) in eyes:\n",
    "        cv2.rectangle(roi_color, (ex, ey), (ex+ew, ey+eh), (0, 255, 0), 2)\n",
    "\n",
    "# 영상 출력\n",
    "cv2.imshow('image', img)\n",
    "\n",
    "key = cv2.waitKey(0)\n",
    "cv2.destroyAllWindows()"
   ]
  },
  {
   "cell_type": "code",
   "execution_count": 32,
   "id": "bb01b7e8",
   "metadata": {},
   "outputs": [
    {
     "ename": "error",
     "evalue": "OpenCV(4.6.0) D:\\a\\opencv-python\\opencv-python\\opencv\\modules\\objdetect\\src\\cascadedetect.cpp:1689: error: (-215:Assertion failed) !empty() in function 'cv::CascadeClassifier::detectMultiScale'\n",
     "output_type": "error",
     "traceback": [
      "\u001b[1;31m---------------------------------------------------------------------------\u001b[0m",
      "\u001b[1;31merror\u001b[0m                                     Traceback (most recent call last)",
      "Input \u001b[1;32mIn [32]\u001b[0m, in \u001b[0;36m<cell line: 12>\u001b[1;34m()\u001b[0m\n\u001b[0;32m      9\u001b[0m gray \u001b[38;5;241m=\u001b[39m cv2\u001b[38;5;241m.\u001b[39mcvtColor(img, cv2\u001b[38;5;241m.\u001b[39mCOLOR_BGR2GRAY)\n\u001b[0;32m     11\u001b[0m \u001b[38;5;66;03m#faces = face_cascade.detectMultiScale(gray, 1.3, 5)\u001b[39;00m\n\u001b[1;32m---> 12\u001b[0m faces \u001b[38;5;241m=\u001b[39m \u001b[43mface_cascade\u001b[49m\u001b[38;5;241;43m.\u001b[39;49m\u001b[43mdetectMultiScale\u001b[49m\u001b[43m(\u001b[49m\u001b[43mimg\u001b[49m\u001b[43m,\u001b[49m\u001b[43m \u001b[49m\u001b[38;5;241;43m1.3\u001b[39;49m\u001b[43m,\u001b[49m\u001b[43m \u001b[49m\u001b[38;5;241;43m5\u001b[39;49m\u001b[43m)\u001b[49m\n\u001b[0;32m     15\u001b[0m \u001b[38;5;28;01mfor\u001b[39;00m (x,y,w,h) \u001b[38;5;129;01min\u001b[39;00m faces:\n\u001b[0;32m     16\u001b[0m     cv2\u001b[38;5;241m.\u001b[39mrectangle(img,(x,y),(x\u001b[38;5;241m+\u001b[39mw,y\u001b[38;5;241m+\u001b[39mh),(\u001b[38;5;241m255\u001b[39m,\u001b[38;5;241m0\u001b[39m,\u001b[38;5;241m0\u001b[39m),\u001b[38;5;241m2\u001b[39m)\n",
      "\u001b[1;31merror\u001b[0m: OpenCV(4.6.0) D:\\a\\opencv-python\\opencv-python\\opencv\\modules\\objdetect\\src\\cascadedetect.cpp:1689: error: (-215:Assertion failed) !empty() in function 'cv::CascadeClassifier::detectMultiScale'\n"
     ]
    }
   ],
   "source": [
    "import numpy as np\n",
    "import cv2\n",
    "from matplotlib import pyplot as plt\n",
    "\n",
    "face_cascade = cv2.CascadeClassifier('haarcascade_frontalface_default.xml')\n",
    "eye_cascade = cv2.CascadeClassifier('haarcascade_eye.xml')\n",
    "\n",
    "img = cv2.imread('./img01.jpg')\n",
    "gray = cv2.cvtColor(img, cv2.COLOR_BGR2GRAY)\n",
    "\n",
    "#faces = face_cascade.detectMultiScale(gray, 1.3, 5)\n",
    "faces = face_cascade.detectMultiScale(img, 1.3, 5)\n",
    "\n",
    "\n",
    "for (x,y,w,h) in faces:\n",
    "    cv2.rectangle(img,(x,y),(x+w,y+h),(255,0,0),2)\n",
    "    #roi_gray = gray[y:y+h, x:x+w]\n",
    "    roi_gray = img[y:y+h, x:x+w]\n",
    "    roi_color = img[y:y+h, x:x+w]\n",
    "    eyes = eye_cascade.detectMultiScale(roi_gray)\n",
    "    for (ex,ey,ew,eh) in eyes:\n",
    "        cv2.rectangle(roi_color,(ex,ey),(ex+ew,ey+eh),(0,255,0),2)\n",
    "\n",
    "cv2.imshow('img',img)\n",
    "cv2.waitKey(0)\n",
    "cv2.destroyAllWindows()"
   ]
  },
  {
   "cell_type": "code",
   "execution_count": null,
   "id": "600e637e",
   "metadata": {},
   "outputs": [],
   "source": []
  }
 ],
 "metadata": {
  "kernelspec": {
   "display_name": "Python 3 (ipykernel)",
   "language": "python",
   "name": "python3"
  },
  "language_info": {
   "codemirror_mode": {
    "name": "ipython",
    "version": 3
   },
   "file_extension": ".py",
   "mimetype": "text/x-python",
   "name": "python",
   "nbconvert_exporter": "python",
   "pygments_lexer": "ipython3",
   "version": "3.10.4"
  }
 },
 "nbformat": 4,
 "nbformat_minor": 5
}
