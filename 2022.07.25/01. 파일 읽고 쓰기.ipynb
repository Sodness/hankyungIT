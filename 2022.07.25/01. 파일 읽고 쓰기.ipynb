{
 "cells": [
  {
   "cell_type": "code",
   "execution_count": 3,
   "id": "ed452959",
   "metadata": {},
   "outputs": [],
   "source": [
    "f = open('text.txt', 'w')\n",
    "f.write('안녕하세요.\\n')\n",
    "f.write('파이썬 수업시간입니다.')\n",
    "\n",
    "f.close()"
   ]
  },
  {
   "cell_type": "code",
   "execution_count": 4,
   "id": "c5fe91c7",
   "metadata": {},
   "outputs": [],
   "source": [
    "f = open('text01.txt', 'w')\n",
    "\n",
    "for i in range(1, 11):\n",
    "    f.write(f'{i}. 안녕하세요.\\n')\n",
    "\n",
    "f.close()"
   ]
  },
  {
   "cell_type": "code",
   "execution_count": 5,
   "id": "d1c369fd",
   "metadata": {},
   "outputs": [
    {
     "name": "stdout",
     "output_type": "stream",
     "text": [
      "1. 안녕하세요.\n",
      "\n",
      "2. 안녕하세요.\n",
      "\n"
     ]
    }
   ],
   "source": [
    "f = open('text01.txt', 'r')\n",
    "\n",
    "line = f.readline()\n",
    "print(line)\n",
    "line = f.readline()\n",
    "print(line)\n",
    "\n",
    "f.close()"
   ]
  },
  {
   "cell_type": "code",
   "execution_count": 6,
   "id": "bffe7aaa",
   "metadata": {},
   "outputs": [
    {
     "data": {
      "text/plain": [
       "['_CHUNK_SIZE',\n",
       " '__class__',\n",
       " '__del__',\n",
       " '__delattr__',\n",
       " '__dict__',\n",
       " '__dir__',\n",
       " '__doc__',\n",
       " '__enter__',\n",
       " '__eq__',\n",
       " '__exit__',\n",
       " '__format__',\n",
       " '__ge__',\n",
       " '__getattribute__',\n",
       " '__gt__',\n",
       " '__hash__',\n",
       " '__init__',\n",
       " '__init_subclass__',\n",
       " '__iter__',\n",
       " '__le__',\n",
       " '__lt__',\n",
       " '__ne__',\n",
       " '__new__',\n",
       " '__next__',\n",
       " '__reduce__',\n",
       " '__reduce_ex__',\n",
       " '__repr__',\n",
       " '__setattr__',\n",
       " '__sizeof__',\n",
       " '__str__',\n",
       " '__subclasshook__',\n",
       " '_checkClosed',\n",
       " '_checkReadable',\n",
       " '_checkSeekable',\n",
       " '_checkWritable',\n",
       " '_finalizing',\n",
       " 'buffer',\n",
       " 'close',\n",
       " 'closed',\n",
       " 'detach',\n",
       " 'encoding',\n",
       " 'errors',\n",
       " 'fileno',\n",
       " 'flush',\n",
       " 'isatty',\n",
       " 'line_buffering',\n",
       " 'mode',\n",
       " 'name',\n",
       " 'newlines',\n",
       " 'read',\n",
       " 'readable',\n",
       " 'readline',\n",
       " 'readlines',\n",
       " 'reconfigure',\n",
       " 'seek',\n",
       " 'seekable',\n",
       " 'tell',\n",
       " 'truncate',\n",
       " 'writable',\n",
       " 'write',\n",
       " 'write_through',\n",
       " 'writelines']"
      ]
     },
     "execution_count": 6,
     "metadata": {},
     "output_type": "execute_result"
    }
   ],
   "source": [
    "dir(f)\n",
    "# __iter__, __next__ 가 둘다 존재한다면 iterator 객체\n",
    "# iterator 객체는 자동으로 다음으로 넘어가주는 객체"
   ]
  },
  {
   "cell_type": "code",
   "execution_count": 8,
   "id": "5bbbce4f",
   "metadata": {},
   "outputs": [
    {
     "data": {
      "text/plain": [
       "['__class__',\n",
       " '__delattr__',\n",
       " '__dir__',\n",
       " '__doc__',\n",
       " '__eq__',\n",
       " '__format__',\n",
       " '__ge__',\n",
       " '__getattribute__',\n",
       " '__gt__',\n",
       " '__hash__',\n",
       " '__init__',\n",
       " '__init_subclass__',\n",
       " '__iter__',\n",
       " '__le__',\n",
       " '__length_hint__',\n",
       " '__lt__',\n",
       " '__ne__',\n",
       " '__new__',\n",
       " '__next__',\n",
       " '__reduce__',\n",
       " '__reduce_ex__',\n",
       " '__repr__',\n",
       " '__setattr__',\n",
       " '__setstate__',\n",
       " '__sizeof__',\n",
       " '__str__',\n",
       " '__subclasshook__']"
      ]
     },
     "execution_count": 8,
     "metadata": {},
     "output_type": "execute_result"
    }
   ],
   "source": [
    "a = [1,2,3,4,5]\n",
    "dir(a)\n",
    "# __iter__ 는 있는데 __next__가 없음\n",
    "# 얘는 iterable 반복이 가능한 객체\n",
    "\n",
    "a = iter(a) # iterator 객체로 변환\n",
    "dir(a) # __next__가 생김\n",
    "\n",
    "next(a) #next() 를 쓸 수 있게됨\n",
    "# 근데 next() 쓰면 a가 빈 배열이 됨. pop이라고 생각하면 됨"
   ]
  },
  {
   "cell_type": "code",
   "execution_count": 10,
   "id": "e950ebdb",
   "metadata": {},
   "outputs": [
    {
     "name": "stdout",
     "output_type": "stream",
     "text": [
      "1. 안녕하세요.\n",
      "2. 안녕하세요.\n",
      "3. 안녕하세요.\n",
      "4. 안녕하세요.\n",
      "5. 안녕하세요.\n",
      "6. 안녕하세요.\n",
      "7. 안녕하세요.\n",
      "8. 안녕하세요.\n",
      "9. 안녕하세요.\n",
      "10. 안녕하세요.\n"
     ]
    }
   ],
   "source": [
    "f = open('text01.txt', 'r')\n",
    "\n",
    "while True:\n",
    "    line = f.readline()\n",
    "    if not line:\n",
    "        break\n",
    "    print(line.strip('\\n'))\n",
    "\n",
    "f.close()"
   ]
  },
  {
   "cell_type": "code",
   "execution_count": 12,
   "id": "66478f3a",
   "metadata": {},
   "outputs": [
    {
     "name": "stdout",
     "output_type": "stream",
     "text": [
      "1. 안녕하세요.\n",
      "2. 안녕하세요.\n",
      "3. 안녕하세요.\n",
      "4. 안녕하세요.\n",
      "5. 안녕하세요.\n",
      "6. 안녕하세요.\n",
      "7. 안녕하세요.\n",
      "8. 안녕하세요.\n",
      "9. 안녕하세요.\n",
      "10. 안녕하세요.\n"
     ]
    }
   ],
   "source": [
    "f = open('text01.txt', 'r')\n",
    "\n",
    "lines = f.readlines()\n",
    "# print(lines)\n",
    "for line in lines:\n",
    "    print(line.strip('\\n'))\n",
    "\n",
    "f.close()"
   ]
  },
  {
   "cell_type": "code",
   "execution_count": 13,
   "id": "16535bb2",
   "metadata": {},
   "outputs": [
    {
     "name": "stdout",
     "output_type": "stream",
     "text": [
      "1. 안녕하세요.\n",
      "2. 안녕하세요.\n",
      "3. 안녕하세요.\n",
      "4. 안녕하세요.\n",
      "5. 안녕하세요.\n",
      "6. 안녕하세요.\n",
      "7. 안녕하세요.\n",
      "8. 안녕하세요.\n",
      "9. 안녕하세요.\n",
      "10. 안녕하세요.\n",
      "\n"
     ]
    }
   ],
   "source": [
    "f = open('text01.txt', 'r')\n",
    "\n",
    "data = f.read()\n",
    "print(data)\n",
    "\n",
    "f.close()"
   ]
  },
  {
   "cell_type": "code",
   "execution_count": 14,
   "id": "b7fdd741",
   "metadata": {},
   "outputs": [
    {
     "data": {
      "text/plain": [
       "str"
      ]
     },
     "execution_count": 14,
     "metadata": {},
     "output_type": "execute_result"
    }
   ],
   "source": [
    "type(data)"
   ]
  },
  {
   "cell_type": "code",
   "execution_count": 16,
   "id": "a7148b98",
   "metadata": {},
   "outputs": [],
   "source": [
    "f = open('text02.txt', 'a')\n",
    "\n",
    "f.write('\\n')\n",
    "for i in range(11, 21):\n",
    "    f.write(f'{i}: 안녕하세요.\\n')\n",
    "    \n",
    "f.close()"
   ]
  },
  {
   "cell_type": "code",
   "execution_count": 17,
   "id": "3c84cccf",
   "metadata": {},
   "outputs": [],
   "source": [
    "with open('text03.txt', 'w') as f:\n",
    "    for i in range(10):\n",
    "        f.write('www.naver.com\\n')"
   ]
  },
  {
   "cell_type": "code",
   "execution_count": 18,
   "id": "3d36f1cc",
   "metadata": {
    "scrolled": true
   },
   "outputs": [
    {
     "name": "stdout",
     "output_type": "stream",
     "text": [
      "Defaulting to user installation because normal site-packages is not writeable\n",
      "Collecting qrcode\n",
      "  Downloading qrcode-7.3.1.tar.gz (43 kB)\n",
      "Requirement already satisfied: colorama in c:\\programdata\\anaconda3\\lib\\site-packages (from qrcode) (0.4.4)\n",
      "Building wheels for collected packages: qrcode\n",
      "  Building wheel for qrcode (setup.py): started\n",
      "  Building wheel for qrcode (setup.py): finished with status 'done'\n",
      "  Created wheel for qrcode: filename=qrcode-7.3.1-py3-none-any.whl size=40401 sha256=62c39662f1c6495409290813c098249b5e9d14fb3da749e14e29308e50aba53e\n",
      "  Stored in directory: c:\\users\\hjk70\\appdata\\local\\pip\\cache\\wheels\\93\\54\\16\\55cec87f8d902ed84b94ab8fdb7e89ae1158c06e130bc83b03\n",
      "Successfully built qrcode\n",
      "Installing collected packages: qrcode\n",
      "Successfully installed qrcode-7.3.1\n"
     ]
    },
    {
     "name": "stderr",
     "output_type": "stream",
     "text": [
      "  WARNING: The script qr.exe is installed in 'C:\\Users\\hjk70\\AppData\\Roaming\\Python\\Python39\\Scripts' which is not on PATH.\n",
      "  Consider adding this directory to PATH or, if you prefer to suppress this warning, use --no-warn-script-location.\n"
     ]
    }
   ],
   "source": [
    "!pip install qrcode"
   ]
  },
  {
   "cell_type": "code",
   "execution_count": 29,
   "id": "df73f073",
   "metadata": {},
   "outputs": [],
   "source": [
    "# addr 주소를 '웹사이트.txt' 파일 내용으로 기록하시오.\n",
    "addr_list = ['www.naver.com', 'www.daum.com', 'www.google.com']\n",
    "\n",
    "with open('웹사이트.txt', 'w') as f:\n",
    "    for addr in addr_list:\n",
    "        f.write(f'{addr}\\n')"
   ]
  },
  {
   "cell_type": "code",
   "execution_count": 42,
   "id": "ac6c3f69",
   "metadata": {},
   "outputs": [
    {
     "name": "stdout",
     "output_type": "stream",
     "text": [
      "['www.naver.com\\n', 'www.daum.com\\n', 'www.google.com\\n']\n",
      "<qrcode.image.pil.PilImage object at 0x0000018545A8E610>\n",
      "<qrcode.image.pil.PilImage object at 0x0000018545A8EEB0>\n",
      "<qrcode.image.pil.PilImage object at 0x0000018545A8EF40>\n"
     ]
    }
   ],
   "source": [
    "# '웹사이트.txt' 파일을 읽어서 각각의 qr코드폴더를 만들고 저장하시오.\n",
    "import qrcode\n",
    "\n",
    "# 절대주소 말고 항상 가능하면 상대주소로 쓰기!! (중요)\n",
    "path = './QR code/'\n",
    "\n",
    "with open('웹사이트.txt', 'r') as f:\n",
    "    lines = f.readlines()\n",
    "    print(lines)\n",
    "    for line in lines:\n",
    "        qr = qrcode.make(line.strip('\\n'))\n",
    "        print(qr)\n",
    "        qr.save(path + line.strip('\\n').replace('.', '_') + '.jpg')"
   ]
  },
  {
   "cell_type": "code",
   "execution_count": 43,
   "id": "7b89df5d",
   "metadata": {},
   "outputs": [],
   "source": [
    "# '웹사이트.txt' 파일을 읽어서 각각의 qr코드폴더를 만들고 저장하시오.\n",
    "# 강사님 -> 인덱스가 필요하다면 enumerate()를 쓰자\n",
    "import qrcode\n",
    "\n",
    "# 절대주소 말고 항상 가능하면 상대주소로 쓰기!! (중요)\n",
    "path = './QR code/'\n",
    "\n",
    "with open('웹사이트.txt', 'r') as f:\n",
    "    lines = f.readlines()\n",
    "    # print(lines)\n",
    "    for n, line in enumerate(lines):\n",
    "        qr = qrcode.make(line.strip('\\n'))\n",
    "        # print(qr)\n",
    "        qr.save(path + line.strip('\\n').replace('.', '_') + f'{n}.jpg')"
   ]
  },
  {
   "cell_type": "code",
   "execution_count": null,
   "id": "2a33e13a",
   "metadata": {},
   "outputs": [],
   "source": []
  }
 ],
 "metadata": {
  "kernelspec": {
   "display_name": "Python 3 (ipykernel)",
   "language": "python",
   "name": "python3"
  },
  "language_info": {
   "codemirror_mode": {
    "name": "ipython",
    "version": 3
   },
   "file_extension": ".py",
   "mimetype": "text/x-python",
   "name": "python",
   "nbconvert_exporter": "python",
   "pygments_lexer": "ipython3",
   "version": "3.9.12"
  }
 },
 "nbformat": 4,
 "nbformat_minor": 5
}
