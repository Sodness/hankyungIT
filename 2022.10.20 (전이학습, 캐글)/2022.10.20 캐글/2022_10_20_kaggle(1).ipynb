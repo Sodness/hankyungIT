{
 "cells": [
  {
   "cell_type": "markdown",
   "metadata": {},
   "source": [
    "#### Q. 2022년 데이터 중 2022년 중앙값보다 큰 값의 데이터 수\n",
    "- data: t1-data2.csv"
   ]
  },
  {
   "cell_type": "code",
   "execution_count": 32,
   "metadata": {},
   "outputs": [
    {
     "name": "stdout",
     "output_type": "stream",
     "text": [
      "    year   0   1   2   3   4   5    6   7   8  ...  90  91  92  93  94  95  \\\n",
      "0  2022년  69  37  57  70  40  75    8  67  89  ...  79  56  98  21  14  25   \n",
      "1  2023년  52  13  22  70  92  80    8  56  17  ...  62  47  59   6  25  96   \n",
      "2  2024년  88  44  32  55  64   8    4   2  62  ...  98  95  40  59  69  71   \n",
      "3  2025년  80  97  15   4  74  12  100  60  47  ...  30  11   2  54   9  52   \n",
      "4  2026년  64  66  62  56  67  80   90  24  58  ...  93  15  88  67   7  82   \n",
      "\n",
      "   96  97  98  99  \n",
      "0  17  10  60  17  \n",
      "1  69  87  28  64  \n",
      "2  86  53  93  64  \n",
      "3  51  81  78  22  \n",
      "4   5  61  15  63  \n",
      "\n",
      "[5 rows x 101 columns]\n",
      "   2022년 2023년 2024년 2025년 2026년\n",
      "0     69    52    88    80    64\n",
      "1     37    13    44    97    66\n",
      "2     57    22    32    15    62\n",
      "3     70    70    55     4    56\n",
      "4     40    92    64    74    67\n",
      "..   ...   ...   ...   ...   ...\n",
      "95    25    96    71    52    82\n",
      "96    17    69    86    51     5\n",
      "97    10    87    53    81    61\n",
      "98    60    28    93    78    15\n",
      "99    17    64    64    22    63\n",
      "\n",
      "[100 rows x 5 columns]\n",
      "2022년    54.5\n",
      "2023년    52.0\n",
      "2024년    44.0\n",
      "2025년    53.5\n",
      "2026년    57.5\n",
      "dtype: float64\n",
      "54.5\n",
      "50\n"
     ]
    }
   ],
   "source": [
    "# 내가 해본거\n",
    "import pandas as pd\n",
    "\n",
    "df = pd.read_csv('data/t1-data2.csv')\n",
    "print(df)\n",
    "df = df.T\n",
    "df.columns = ['2022년',  '2023년' , '2024년',  '2025년'  ,'2026년']\n",
    "df = df.iloc[1:,:]\n",
    "print(df)\n",
    "print(df.median(axis=0))\n",
    "median_2022 = df.median(axis=0)[0]\n",
    "print(median_2022)\n",
    "# print(df['2022년'] > median_2022)\n",
    "# print(df['2022년'][df['2022년'] > median_2022])\n",
    "print(df['2022년'][df['2022년'] > median_2022].count())"
   ]
  },
  {
   "cell_type": "code",
   "execution_count": 29,
   "metadata": {},
   "outputs": [
    {
     "name": "stdout",
     "output_type": "stream",
     "text": [
      "        0   1   2   3   4   5    6   7   8   9  ...  90  91  92  93  94  95  \\\n",
      "year                                            ...                           \n",
      "2022년  69  37  57  70  40  75    8  67  89  91  ...  79  56  98  21  14  25   \n",
      "2023년  52  13  22  70  92  80    8  56  17  96  ...  62  47  59   6  25  96   \n",
      "2024년  88  44  32  55  64   8    4   2  62  44  ...  98  95  40  59  69  71   \n",
      "2025년  80  97  15   4  74  12  100  60  47  47  ...  30  11   2  54   9  52   \n",
      "2026년  64  66  62  56  67  80   90  24  58  78  ...  93  15  88  67   7  82   \n",
      "\n",
      "       96  97  98  99  \n",
      "year                   \n",
      "2022년  17  10  60  17  \n",
      "2023년  69  87  28  64  \n",
      "2024년  86  53  93  64  \n",
      "2025년  51  81  78  22  \n",
      "2026년   5  61  15  63  \n",
      "\n",
      "[5 rows x 100 columns]\n",
      "m: 54.5\n",
      "50\n"
     ]
    }
   ],
   "source": [
    "# 해답\n",
    "import pandas as pd\n",
    "df = pd.read_csv(\"data/t1-data2.csv\", index_col='year')\n",
    "print(df)\n",
    "# solution\n",
    "m = df.loc[\"2022년\"].median()\n",
    "print('m:', m)\n",
    "print(sum(df.loc[\"2022년\",:] > m))"
   ]
  },
  {
   "cell_type": "code",
   "execution_count": 35,
   "metadata": {},
   "outputs": [
    {
     "name": "stdout",
     "output_type": "stream",
     "text": [
      "    year   0   1   2   3   4   5    6   7   8  ...  90  91  92  93  94  95  \\\n",
      "0  2022년  69  37  57  70  40  75    8  67  89  ...  79  56  98  21  14  25   \n",
      "1  2023년  52  13  22  70  92  80    8  56  17  ...  62  47  59   6  25  96   \n",
      "2  2024년  88  44  32  55  64   8    4   2  62  ...  98  95  40  59  69  71   \n",
      "3  2025년  80  97  15   4  74  12  100  60  47  ...  30  11   2  54   9  52   \n",
      "4  2026년  64  66  62  56  67  80   90  24  58  ...  93  15  88  67   7  82   \n",
      "\n",
      "   96  97  98  99  \n",
      "0  17  10  60  17  \n",
      "1  69  87  28  64  \n",
      "2  86  53  93  64  \n",
      "3  51  81  78  22  \n",
      "4   5  61  15  63  \n",
      "\n",
      "[5 rows x 101 columns]\n",
      "        0   1   2   3   4   5    6   7   8   9  ...  90  91  92  93  94  95  \\\n",
      "year                                            ...                           \n",
      "2022년  69  37  57  70  40  75    8  67  89  91  ...  79  56  98  21  14  25   \n",
      "2023년  52  13  22  70  92  80    8  56  17  96  ...  62  47  59   6  25  96   \n",
      "2024년  88  44  32  55  64   8    4   2  62  44  ...  98  95  40  59  69  71   \n",
      "2025년  80  97  15   4  74  12  100  60  47  47  ...  30  11   2  54   9  52   \n",
      "2026년  64  66  62  56  67  80   90  24  58  78  ...  93  15  88  67   7  82   \n",
      "\n",
      "       96  97  98  99  \n",
      "year                   \n",
      "2022년  17  10  60  17  \n",
      "2023년  69  87  28  64  \n",
      "2024년  86  53  93  64  \n",
      "2025년  51  81  78  22  \n",
      "2026년   5  61  15  63  \n",
      "\n",
      "[5 rows x 100 columns]\n"
     ]
    }
   ],
   "source": [
    "# 분석\n",
    "import pandas as pd\n",
    "\n",
    "df = pd.read_csv('data/t1-data2.csv')\n",
    "print(df)\n",
    "\n",
    "# index_col='year'을 옵션으로 줄 경우 year열을 인덱스로 불러온다.\n",
    "df = pd.read_csv('data/t1-data2.csv', index_col='year')\n",
    "print(df)"
   ]
  },
  {
   "cell_type": "code",
   "execution_count": 38,
   "metadata": {},
   "outputs": [
    {
     "data": {
      "text/plain": [
       "0     69\n",
       "1     37\n",
       "2     57\n",
       "3     70\n",
       "4     40\n",
       "      ..\n",
       "95    25\n",
       "96    17\n",
       "97    10\n",
       "98    60\n",
       "99    17\n",
       "Name: 2022년, Length: 100, dtype: int64"
      ]
     },
     "execution_count": 38,
     "metadata": {},
     "output_type": "execute_result"
    }
   ],
   "source": [
    "df.loc['2022년']"
   ]
  },
  {
   "cell_type": "code",
   "execution_count": 43,
   "metadata": {},
   "outputs": [
    {
     "data": {
      "text/plain": [
       "54.5"
      ]
     },
     "execution_count": 43,
     "metadata": {},
     "output_type": "execute_result"
    }
   ],
   "source": [
    "m = df.loc['2022년',:].median()\n",
    "m"
   ]
  },
  {
   "cell_type": "code",
   "execution_count": 44,
   "metadata": {},
   "outputs": [
    {
     "data": {
      "text/plain": [
       "0      True\n",
       "1     False\n",
       "2      True\n",
       "3      True\n",
       "4     False\n",
       "      ...  \n",
       "95    False\n",
       "96    False\n",
       "97    False\n",
       "98     True\n",
       "99    False\n",
       "Name: 2022년, Length: 100, dtype: bool"
      ]
     },
     "execution_count": 44,
     "metadata": {},
     "output_type": "execute_result"
    }
   ],
   "source": [
    "df.loc[\"2022년\",:] > m"
   ]
  },
  {
   "cell_type": "code",
   "execution_count": 45,
   "metadata": {},
   "outputs": [
    {
     "data": {
      "text/plain": [
       "50"
      ]
     },
     "execution_count": 45,
     "metadata": {},
     "output_type": "execute_result"
    }
   ],
   "source": [
    "sum(df.loc[\"2022년\",:] > m)"
   ]
  },
  {
   "cell_type": "code",
   "execution_count": null,
   "metadata": {},
   "outputs": [],
   "source": []
  }
 ],
 "metadata": {
  "kernelspec": {
   "display_name": "Python 3.10.4 ('han')",
   "language": "python",
   "name": "python3"
  },
  "language_info": {
   "codemirror_mode": {
    "name": "ipython",
    "version": 3
   },
   "file_extension": ".py",
   "mimetype": "text/x-python",
   "name": "python",
   "nbconvert_exporter": "python",
   "pygments_lexer": "ipython3",
   "version": "3.10.4"
  },
  "orig_nbformat": 4,
  "vscode": {
   "interpreter": {
    "hash": "9ffd841040af6bedd50cabf1584399d13f777232c008d7c4ad470663779a547a"
   }
  }
 },
 "nbformat": 4,
 "nbformat_minor": 2
}
