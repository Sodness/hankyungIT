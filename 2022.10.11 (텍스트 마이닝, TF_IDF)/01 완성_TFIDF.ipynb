{
 "cells": [
  {
   "cell_type": "markdown",
   "id": "69138655",
   "metadata": {},
   "source": [
    "### ▶Part1. 토큰화\n",
    "- 문장에서 토큰으로 나눌 구분자를 이용하여 단어 분리"
   ]
  },
  {
   "cell_type": "code",
   "execution_count": 10,
   "id": "5563959d",
   "metadata": {},
   "outputs": [],
   "source": [
    "import numpy as np\n",
    "txt=['파이썬 차트 파이썬 머신러닝',\n",
    "      '차트 파이썬 R 차트',\n",
    "       'R 분석 시각화'\n",
    "      ]"
   ]
  },
  {
   "cell_type": "code",
   "execution_count": 11,
   "id": "fdeab383",
   "metadata": {},
   "outputs": [
    {
     "data": {
      "text/plain": [
       "[['파이썬', '차트', '파이썬', '머신러닝'], ['차트', '파이썬', 'R', '차트'], ['R', '분석', '시각화']]"
      ]
     },
     "execution_count": 11,
     "metadata": {},
     "output_type": "execute_result"
    }
   ],
   "source": [
    "# 빈칸 단위로 나누기\n",
    "txtList=[i.split(' ') for i in txt]\n",
    "txtList"
   ]
  },
  {
   "cell_type": "markdown",
   "id": "2658320c",
   "metadata": {},
   "source": [
    "### ▶Part2. 단어필드제작- 단어 unique\n",
    "- 중복단어를 제거하여 고유값으로 필드를 제작\n",
    "- 결과-> ['R', '머신러닝', '분석', '시각화', '차트', '파이썬']"
   ]
  },
  {
   "cell_type": "code",
   "execution_count": 12,
   "id": "d1449260",
   "metadata": {},
   "outputs": [],
   "source": [
    "wordList=[]\n",
    "nouns=sorted(list(set([n for i in txtList for n in i])))"
   ]
  },
  {
   "cell_type": "markdown",
   "id": "5beb1d86",
   "metadata": {},
   "source": [
    "### ▶Part3. TF"
   ]
  },
  {
   "cell_type": "code",
   "execution_count": 13,
   "id": "ee84304c",
   "metadata": {},
   "outputs": [],
   "source": [
    "import pandas as pd\n",
    "tdm=[]\n",
    "for i in txtList:\n",
    "    tdm.append([])\n",
    "    for j in nouns:\n",
    "        tdm[-1].append(i.count(j))\n",
    "tf_=pd.DataFrame(tdm, columns=nouns)"
   ]
  },
  {
   "cell_type": "code",
   "execution_count": 14,
   "id": "83c6fe7f",
   "metadata": {},
   "outputs": [
    {
     "data": {
      "text/html": [
       "<div>\n",
       "<style scoped>\n",
       "    .dataframe tbody tr th:only-of-type {\n",
       "        vertical-align: middle;\n",
       "    }\n",
       "\n",
       "    .dataframe tbody tr th {\n",
       "        vertical-align: top;\n",
       "    }\n",
       "\n",
       "    .dataframe thead th {\n",
       "        text-align: right;\n",
       "    }\n",
       "</style>\n",
       "<table border=\"1\" class=\"dataframe\">\n",
       "  <thead>\n",
       "    <tr style=\"text-align: right;\">\n",
       "      <th></th>\n",
       "      <th>R</th>\n",
       "      <th>머신러닝</th>\n",
       "      <th>분석</th>\n",
       "      <th>시각화</th>\n",
       "      <th>차트</th>\n",
       "      <th>파이썬</th>\n",
       "    </tr>\n",
       "  </thead>\n",
       "  <tbody>\n",
       "    <tr>\n",
       "      <th>0</th>\n",
       "      <td>0</td>\n",
       "      <td>1</td>\n",
       "      <td>0</td>\n",
       "      <td>0</td>\n",
       "      <td>1</td>\n",
       "      <td>2</td>\n",
       "    </tr>\n",
       "    <tr>\n",
       "      <th>1</th>\n",
       "      <td>1</td>\n",
       "      <td>0</td>\n",
       "      <td>0</td>\n",
       "      <td>0</td>\n",
       "      <td>2</td>\n",
       "      <td>1</td>\n",
       "    </tr>\n",
       "    <tr>\n",
       "      <th>2</th>\n",
       "      <td>1</td>\n",
       "      <td>0</td>\n",
       "      <td>1</td>\n",
       "      <td>1</td>\n",
       "      <td>0</td>\n",
       "      <td>0</td>\n",
       "    </tr>\n",
       "  </tbody>\n",
       "</table>\n",
       "</div>"
      ],
      "text/plain": [
       "   R  머신러닝  분석  시각화  차트  파이썬\n",
       "0  0     1   0    0   1    2\n",
       "1  1     0   0    0   2    1\n",
       "2  1     0   1    1   0    0"
      ]
     },
     "execution_count": 14,
     "metadata": {},
     "output_type": "execute_result"
    }
   ],
   "source": [
    "tf_"
   ]
  },
  {
   "cell_type": "markdown",
   "id": "1a50cad9",
   "metadata": {},
   "source": [
    "### ▶Part4. IDF"
   ]
  },
  {
   "cell_type": "code",
   "execution_count": 15,
   "id": "ab503cb7",
   "metadata": {},
   "outputs": [],
   "source": [
    "import numpy as np\n",
    "\n",
    "D=len(tf_) #총문서수\n",
    "df=tf_.astype(bool).sum()\n",
    "idf=D/df"
   ]
  },
  {
   "cell_type": "code",
   "execution_count": 16,
   "id": "05c7444f",
   "metadata": {},
   "outputs": [
    {
     "data": {
      "text/plain": [
       "R       1.5\n",
       "머신러닝    3.0\n",
       "분석      3.0\n",
       "시각화     3.0\n",
       "차트      1.5\n",
       "파이썬     1.5\n",
       "dtype: float64"
      ]
     },
     "execution_count": 16,
     "metadata": {},
     "output_type": "execute_result"
    }
   ],
   "source": [
    "idf"
   ]
  },
  {
   "cell_type": "markdown",
   "id": "14072c11",
   "metadata": {},
   "source": [
    "### ▶ Part4. TFIDF"
   ]
  },
  {
   "cell_type": "code",
   "execution_count": 17,
   "id": "45f644ac",
   "metadata": {},
   "outputs": [
    {
     "data": {
      "text/html": [
       "<div>\n",
       "<style scoped>\n",
       "    .dataframe tbody tr th:only-of-type {\n",
       "        vertical-align: middle;\n",
       "    }\n",
       "\n",
       "    .dataframe tbody tr th {\n",
       "        vertical-align: top;\n",
       "    }\n",
       "\n",
       "    .dataframe thead th {\n",
       "        text-align: right;\n",
       "    }\n",
       "</style>\n",
       "<table border=\"1\" class=\"dataframe\">\n",
       "  <thead>\n",
       "    <tr style=\"text-align: right;\">\n",
       "      <th></th>\n",
       "      <th>R</th>\n",
       "      <th>머신러닝</th>\n",
       "      <th>분석</th>\n",
       "      <th>시각화</th>\n",
       "      <th>차트</th>\n",
       "      <th>파이썬</th>\n",
       "    </tr>\n",
       "  </thead>\n",
       "  <tbody>\n",
       "    <tr>\n",
       "      <th>0</th>\n",
       "      <td>0.0</td>\n",
       "      <td>3.0</td>\n",
       "      <td>0.0</td>\n",
       "      <td>0.0</td>\n",
       "      <td>1.5</td>\n",
       "      <td>3.0</td>\n",
       "    </tr>\n",
       "    <tr>\n",
       "      <th>1</th>\n",
       "      <td>1.5</td>\n",
       "      <td>0.0</td>\n",
       "      <td>0.0</td>\n",
       "      <td>0.0</td>\n",
       "      <td>3.0</td>\n",
       "      <td>1.5</td>\n",
       "    </tr>\n",
       "    <tr>\n",
       "      <th>2</th>\n",
       "      <td>1.5</td>\n",
       "      <td>0.0</td>\n",
       "      <td>3.0</td>\n",
       "      <td>3.0</td>\n",
       "      <td>0.0</td>\n",
       "      <td>0.0</td>\n",
       "    </tr>\n",
       "  </tbody>\n",
       "</table>\n",
       "</div>"
      ],
      "text/plain": [
       "     R  머신러닝   분석  시각화   차트  파이썬\n",
       "0  0.0   3.0  0.0  0.0  1.5  3.0\n",
       "1  1.5   0.0  0.0  0.0  3.0  1.5\n",
       "2  1.5   0.0  3.0  3.0  0.0  0.0"
      ]
     },
     "execution_count": 17,
     "metadata": {},
     "output_type": "execute_result"
    }
   ],
   "source": [
    "tfidf_=tf_*idf\n",
    "tfidf_"
   ]
  },
  {
   "cell_type": "markdown",
   "id": "7f31410b",
   "metadata": {},
   "source": [
    "#  ** SKlearn 모듈 활용\n",
    "### 1. TF"
   ]
  },
  {
   "cell_type": "code",
   "execution_count": 18,
   "id": "35816b3a",
   "metadata": {},
   "outputs": [
    {
     "data": {
      "text/html": [
       "<div>\n",
       "<style scoped>\n",
       "    .dataframe tbody tr th:only-of-type {\n",
       "        vertical-align: middle;\n",
       "    }\n",
       "\n",
       "    .dataframe tbody tr th {\n",
       "        vertical-align: top;\n",
       "    }\n",
       "\n",
       "    .dataframe thead th {\n",
       "        text-align: right;\n",
       "    }\n",
       "</style>\n",
       "<table border=\"1\" class=\"dataframe\">\n",
       "  <thead>\n",
       "    <tr style=\"text-align: right;\">\n",
       "      <th></th>\n",
       "      <th>머신러닝</th>\n",
       "      <th>분석</th>\n",
       "      <th>시각화</th>\n",
       "      <th>차트</th>\n",
       "      <th>파이썬</th>\n",
       "    </tr>\n",
       "  </thead>\n",
       "  <tbody>\n",
       "    <tr>\n",
       "      <th>0</th>\n",
       "      <td>1</td>\n",
       "      <td>0</td>\n",
       "      <td>0</td>\n",
       "      <td>1</td>\n",
       "      <td>2</td>\n",
       "    </tr>\n",
       "    <tr>\n",
       "      <th>1</th>\n",
       "      <td>0</td>\n",
       "      <td>0</td>\n",
       "      <td>0</td>\n",
       "      <td>2</td>\n",
       "      <td>1</td>\n",
       "    </tr>\n",
       "    <tr>\n",
       "      <th>2</th>\n",
       "      <td>0</td>\n",
       "      <td>1</td>\n",
       "      <td>1</td>\n",
       "      <td>0</td>\n",
       "      <td>0</td>\n",
       "    </tr>\n",
       "  </tbody>\n",
       "</table>\n",
       "</div>"
      ],
      "text/plain": [
       "   머신러닝  분석  시각화  차트  파이썬\n",
       "0     1   0    0   1    2\n",
       "1     0   0    0   2    1\n",
       "2     0   1    1   0    0"
      ]
     },
     "execution_count": 18,
     "metadata": {},
     "output_type": "execute_result"
    }
   ],
   "source": [
    "from sklearn.feature_extraction.text import CountVectorizer\n",
    "cv=CountVectorizer()\n",
    "tdm=cv.fit_transform(txt)\n",
    "\n",
    "# 단어 목록 확인\n",
    "feature=cv.get_feature_names_out()\n",
    "#TF Matrix확인\n",
    "tf_=pd.DataFrame(tdm.toarray(), columns=feature)\n",
    "tf_"
   ]
  },
  {
   "cell_type": "markdown",
   "id": "3ed98f99",
   "metadata": {},
   "source": [
    "### 2. TF_IDF"
   ]
  },
  {
   "cell_type": "code",
   "execution_count": 19,
   "id": "67d7a20c",
   "metadata": {},
   "outputs": [
    {
     "data": {
      "text/html": [
       "<div>\n",
       "<style scoped>\n",
       "    .dataframe tbody tr th:only-of-type {\n",
       "        vertical-align: middle;\n",
       "    }\n",
       "\n",
       "    .dataframe tbody tr th {\n",
       "        vertical-align: top;\n",
       "    }\n",
       "\n",
       "    .dataframe thead th {\n",
       "        text-align: right;\n",
       "    }\n",
       "</style>\n",
       "<table border=\"1\" class=\"dataframe\">\n",
       "  <thead>\n",
       "    <tr style=\"text-align: right;\">\n",
       "      <th></th>\n",
       "      <th>머신러닝</th>\n",
       "      <th>분석</th>\n",
       "      <th>시각화</th>\n",
       "      <th>차트</th>\n",
       "      <th>파이썬</th>\n",
       "    </tr>\n",
       "  </thead>\n",
       "  <tbody>\n",
       "    <tr>\n",
       "      <th>0</th>\n",
       "      <td>0.50689</td>\n",
       "      <td>0.000000</td>\n",
       "      <td>0.000000</td>\n",
       "      <td>0.385503</td>\n",
       "      <td>0.771006</td>\n",
       "    </tr>\n",
       "    <tr>\n",
       "      <th>1</th>\n",
       "      <td>0.00000</td>\n",
       "      <td>0.000000</td>\n",
       "      <td>0.000000</td>\n",
       "      <td>0.894427</td>\n",
       "      <td>0.447214</td>\n",
       "    </tr>\n",
       "    <tr>\n",
       "      <th>2</th>\n",
       "      <td>0.00000</td>\n",
       "      <td>0.707107</td>\n",
       "      <td>0.707107</td>\n",
       "      <td>0.000000</td>\n",
       "      <td>0.000000</td>\n",
       "    </tr>\n",
       "  </tbody>\n",
       "</table>\n",
       "</div>"
      ],
      "text/plain": [
       "      머신러닝        분석       시각화        차트       파이썬\n",
       "0  0.50689  0.000000  0.000000  0.385503  0.771006\n",
       "1  0.00000  0.000000  0.000000  0.894427  0.447214\n",
       "2  0.00000  0.707107  0.707107  0.000000  0.000000"
      ]
     },
     "execution_count": 19,
     "metadata": {},
     "output_type": "execute_result"
    }
   ],
   "source": [
    "from sklearn.feature_extraction.text import TfidfVectorizer\n",
    "tfidf_vectorizer=TfidfVectorizer()\n",
    "tfidf_matrix=tfidf_vectorizer.fit_transform(txt)\n",
    "\n",
    "#단어집합\n",
    "tfidf_feature=tfidf_vectorizer.get_feature_names_out()\n",
    "\n",
    "#Tf_IDF\n",
    "tfidf_=pd.DataFrame(tfidf_matrix.toarray(),columns=tfidf_feature)\n",
    "tfidf_"
   ]
  },
  {
   "cell_type": "code",
   "execution_count": null,
   "id": "a03381f2",
   "metadata": {},
   "outputs": [],
   "source": []
  }
 ],
 "metadata": {
  "kernelspec": {
   "display_name": "Python 3.10.4 ('han')",
   "language": "python",
   "name": "python3"
  },
  "language_info": {
   "codemirror_mode": {
    "name": "ipython",
    "version": 3
   },
   "file_extension": ".py",
   "mimetype": "text/x-python",
   "name": "python",
   "nbconvert_exporter": "python",
   "pygments_lexer": "ipython3",
   "version": "3.10.4"
  },
  "vscode": {
   "interpreter": {
    "hash": "9ffd841040af6bedd50cabf1584399d13f777232c008d7c4ad470663779a547a"
   }
  }
 },
 "nbformat": 4,
 "nbformat_minor": 5
}
