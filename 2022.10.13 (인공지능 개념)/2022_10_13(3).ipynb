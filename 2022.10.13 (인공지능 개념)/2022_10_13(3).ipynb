{
 "cells": [
  {
   "cell_type": "code",
   "execution_count": 1,
   "metadata": {},
   "outputs": [],
   "source": [
    "import numpy as np"
   ]
  },
  {
   "cell_type": "code",
   "execution_count": 2,
   "metadata": {},
   "outputs": [],
   "source": [
    "x = [[25,1,2,1],\n",
    "    [20,0,0,2],\n",
    "    [8,1,1,5],\n",
    "    [15,1,0,2],\n",
    "    [35,0,3,1],\n",
    "    [40,0,5,4]]\n",
    "\n",
    "x = np.array(x)"
   ]
  },
  {
   "cell_type": "code",
   "execution_count": 4,
   "metadata": {},
   "outputs": [
    {
     "data": {
      "text/plain": [
       "array([[ 7.5,  0.2,  1. ,  0.1],\n",
       "       [ 6. ,  0. ,  0. ,  0.2],\n",
       "       [ 2.4,  0.2,  0.5,  0.5],\n",
       "       [ 4.5,  0.2,  0. ,  0.2],\n",
       "       [10.5,  0. ,  1.5,  0.1],\n",
       "       [12. ,  0. ,  2.5,  0.4]])"
      ]
     },
     "execution_count": 4,
     "metadata": {},
     "output_type": "execute_result"
    }
   ],
   "source": [
    "w = [0.3,0.2,0.5,0.1]\n",
    "b = 0.1\n",
    "\n",
    "w*x"
   ]
  },
  {
   "cell_type": "code",
   "execution_count": 7,
   "metadata": {},
   "outputs": [
    {
     "data": {
      "text/plain": [
       "(array([ 8.8,  6.2,  3.6,  4.9, 12.1, 14.9]),\n",
       " array([ 8.8,  6.2,  3.6,  4.9, 12.1, 14.9]))"
      ]
     },
     "execution_count": 7,
     "metadata": {},
     "output_type": "execute_result"
    }
   ],
   "source": [
    "np.sum(w*x, axis=1), np.dot(x,w)"
   ]
  },
  {
   "cell_type": "code",
   "execution_count": 8,
   "metadata": {},
   "outputs": [
    {
     "data": {
      "text/plain": [
       "(array([ 8.9,  6.3,  3.7,  5. , 12.2, 15. ]),\n",
       " array([ 8.9,  6.3,  3.7,  5. , 12.2, 15. ]))"
      ]
     },
     "execution_count": 8,
     "metadata": {},
     "output_type": "execute_result"
    }
   ],
   "source": [
    "np.sum(w*x, axis=1)+b, np.dot(x,w)+b"
   ]
  },
  {
   "cell_type": "code",
   "execution_count": 9,
   "metadata": {},
   "outputs": [],
   "source": [
    "y_hat = np.sum(x*w, axis=1) + b"
   ]
  },
  {
   "cell_type": "code",
   "execution_count": 14,
   "metadata": {},
   "outputs": [],
   "source": [
    "x = [[25,1,2,1],\n",
    "    [20,0,0,2],\n",
    "    [8,1,1,5],\n",
    "    [15,1,0,2],\n",
    "    [35,0,3,1],\n",
    "    [40,0,5,4]]\n",
    "\n",
    "x = np.array(x)\n",
    "\n",
    "# Dense\n",
    "w = [[0.3,0.1],\n",
    "    [0.2,0.7],\n",
    "    [0.5,0.4],\n",
    "    [0.1,0.1]]\n",
    "b = [0.1,0.7]\n",
    "\n",
    "w = np.array(w)\n",
    "b = np.array(b)\n",
    "\n",
    "y_hat0 = np.sum(x*w[:,0], axis=1) + b[0]\n",
    "y_hat1 = np.sum(x*w[:,1], axis=1) + b[1]\n"
   ]
  },
  {
   "cell_type": "code",
   "execution_count": 17,
   "metadata": {},
   "outputs": [
    {
     "data": {
      "text/plain": [
       "(array([0., 0., 0., 0., 0., 0.]), array([4.8, 2.9, 3.1, 3.1, 5.5, 7.1]))"
      ]
     },
     "execution_count": 17,
     "metadata": {},
     "output_type": "execute_result"
    }
   ],
   "source": [
    "x = [[25,1,2,1],\n",
    "    [20,0,0,2],\n",
    "    [8,1,1,5],\n",
    "    [15,1,0,2],\n",
    "    [35,0,3,1],\n",
    "    [40,0,5,4]]\n",
    "\n",
    "x = np.array(x)\n",
    "\n",
    "# Dense\n",
    "# ReLU 적용\n",
    "# ReLU함수는 맨 마지막 출력층을 제외한 모든곳에 사용을 권장\n",
    "w = [[-0.3,0.1],\n",
    "    [0.2,0.7],\n",
    "    [0.5,0.4],\n",
    "    [0.1,0.1]]\n",
    "b = [0.1,0.7]\n",
    "\n",
    "w = np.array(w)\n",
    "b = np.array(b)\n",
    "\n",
    "y_hat0 = np.sum(x*w[:,0], axis=1) + b[0]\n",
    "y_hat1 = np.sum(x*w[:,1], axis=1) + b[1]\n",
    "\n",
    "y_hat0[y_hat0<0] = 0\n",
    "y_hat1[y_hat1<0] = 0\n",
    "\n",
    "y_hat0, y_hat1"
   ]
  },
  {
   "cell_type": "code",
   "execution_count": 20,
   "metadata": {},
   "outputs": [
    {
     "data": {
      "text/plain": [
       "[[0.0, 4.8],\n",
       " [0.0, 2.9000000000000004],\n",
       " [0.0, 3.0999999999999996],\n",
       " [0.0, 3.1000000000000005],\n",
       " [0.0, 5.5],\n",
       " [0.0, 7.1000000000000005]]"
      ]
     },
     "execution_count": 20,
     "metadata": {},
     "output_type": "execute_result"
    }
   ],
   "source": [
    "x = []\n",
    "for x1,x2 in zip(y_hat0,y_hat1):\n",
    "    x.append([])\n",
    "    x[-1].append(x1)\n",
    "    x[-1].append(x2)\n",
    "\n",
    "x"
   ]
  },
  {
   "cell_type": "code",
   "execution_count": null,
   "metadata": {},
   "outputs": [],
   "source": [
    "w = [[1,2,3,4,5],\n",
    "    [2,3,1,1,3]]\n",
    "b = [1,2,3,4,5]\n",
    "\n",
    "w = np.array(w)\n",
    "b = np.array(b)\n",
    "\n",
    "y_hat0 = x*w[:,0] * b[0]\n",
    "y_hat0 = x*w[:,1] * b[1]\n",
    "y_hat0 = x*w[:,2] * b[2]\n",
    "y_hat0 = x*w[:,3] * b[3]\n",
    "y_hat0 = x*w[:,4] * b[4]\n",
    "\n",
    "y_hat0[y_hat0<0] = 0\n",
    "y_hat1[y_hat1<0] = 0\n",
    "y_hat2[y_hat2<0] = 0\n",
    "y_hat3[y_hat3<0] = 0\n",
    "y_hat4[y_hat4<0] = 0"
   ]
  },
  {
   "cell_type": "code",
   "execution_count": 21,
   "metadata": {},
   "outputs": [],
   "source": [
    "import numpy as np\n",
    "import tensorflow as tf\n",
    "from tensorflow import keras\n",
    "from tensorflow.keras import layers"
   ]
  },
  {
   "cell_type": "code",
   "execution_count": 22,
   "metadata": {},
   "outputs": [],
   "source": [
    "x=np.array([1,2,3,4,5,6])\n",
    "y=np.array([10,98,8,2,3,4])"
   ]
  },
  {
   "cell_type": "code",
   "execution_count": 23,
   "metadata": {},
   "outputs": [],
   "source": [
    "tf.random.set_seed(1234)"
   ]
  },
  {
   "cell_type": "code",
   "execution_count": 24,
   "metadata": {},
   "outputs": [],
   "source": [
    "input_layer = tf.keras.layers.InputLayer(input_shape=(1,))\n",
    "hidden_layer1 = tf.keras.layers.Dense(units=4, activation='relu')\n",
    "hidden_layer2 = tf.keras.layers.Dense(units=2, activation='relu')\n",
    "output_layer= tf.keras.layers.Dense(units=1)\n",
    "# activation이 없으면 활성화함수 wx+b가 되어있는 것임.\n",
    "model = keras.Sequential([\n",
    "input_layer,\n",
    "hidden_layer1,\n",
    "hidden_layer2,\n",
    "output_layer\n",
    "])"
   ]
  },
  {
   "cell_type": "code",
   "execution_count": 25,
   "metadata": {},
   "outputs": [
    {
     "name": "stdout",
     "output_type": "stream",
     "text": [
      "Model: \"sequential\"\n",
      "_________________________________________________________________\n",
      " Layer (type)                Output Shape              Param #   \n",
      "=================================================================\n",
      " dense (Dense)               (None, 4)                 8         \n",
      "                                                                 \n",
      " dense_1 (Dense)             (None, 2)                 10        \n",
      "                                                                 \n",
      " dense_2 (Dense)             (None, 1)                 3         \n",
      "                                                                 \n",
      "=================================================================\n",
      "Total params: 21\n",
      "Trainable params: 21\n",
      "Non-trainable params: 0\n",
      "_________________________________________________________________\n"
     ]
    }
   ],
   "source": [
    "model.summary()"
   ]
  },
  {
   "cell_type": "code",
   "execution_count": 26,
   "metadata": {},
   "outputs": [
    {
     "data": {
      "text/plain": [
       "[<tf.Variable 'dense/kernel:0' shape=(1, 4) dtype=float32, numpy=\n",
       " array([[-0.29656547, -0.326016  ,  0.10595298, -0.23667526]],\n",
       "       dtype=float32)>,\n",
       " <tf.Variable 'dense/bias:0' shape=(4,) dtype=float32, numpy=array([0., 0., 0., 0.], dtype=float32)>,\n",
       " <tf.Variable 'dense_1/kernel:0' shape=(4, 2) dtype=float32, numpy=\n",
       " array([[ 0.50212336, -0.16338134],\n",
       "        [-0.8829603 ,  0.23382974],\n",
       "        [ 0.05000877,  0.30985618],\n",
       "        [ 0.8955786 ,  0.27770996]], dtype=float32)>,\n",
       " <tf.Variable 'dense_1/bias:0' shape=(2,) dtype=float32, numpy=array([0., 0.], dtype=float32)>,\n",
       " <tf.Variable 'dense_2/kernel:0' shape=(2, 1) dtype=float32, numpy=\n",
       " array([[-0.07074404],\n",
       "        [-1.097157  ]], dtype=float32)>,\n",
       " <tf.Variable 'dense_2/bias:0' shape=(1,) dtype=float32, numpy=array([0.], dtype=float32)>]"
      ]
     },
     "execution_count": 26,
     "metadata": {},
     "output_type": "execute_result"
    }
   ],
   "source": [
    "modelvalues = model.weights\n",
    "modelvalues"
   ]
  },
  {
   "cell_type": "code",
   "execution_count": 27,
   "metadata": {},
   "outputs": [
    {
     "data": {
      "text/plain": [
       "[<keras.layers.core.dense.Dense at 0x2226fcca020>,\n",
       " <keras.layers.core.dense.Dense at 0x2226fdcfa60>,\n",
       " <keras.layers.core.dense.Dense at 0x22207a36800>]"
      ]
     },
     "execution_count": 27,
     "metadata": {},
     "output_type": "execute_result"
    }
   ],
   "source": [
    "model.layers"
   ]
  },
  {
   "cell_type": "code",
   "execution_count": 29,
   "metadata": {},
   "outputs": [
    {
     "data": {
      "text/plain": [
       "<tf.Tensor: shape=(6, 4), dtype=float32, numpy=\n",
       "array([[0.        , 0.        , 0.10595298, 0.        ],\n",
       "       [0.        , 0.        , 0.21190596, 0.        ],\n",
       "       [0.        , 0.        , 0.31785893, 0.        ],\n",
       "       [0.        , 0.        , 0.4238119 , 0.        ],\n",
       "       [0.        , 0.        , 0.5297649 , 0.        ],\n",
       "       [0.        , 0.        , 0.63571787, 0.        ]], dtype=float32)>"
      ]
     },
     "execution_count": 29,
     "metadata": {},
     "output_type": "execute_result"
    }
   ],
   "source": [
    "tmp = tf.keras.Model(inputs=model.input, outputs=model.layers[0].output)\n",
    "tmp(x)"
   ]
  },
  {
   "cell_type": "code",
   "execution_count": 30,
   "metadata": {},
   "outputs": [
    {
     "data": {
      "text/plain": [
       "<tf.Tensor: shape=(6,), dtype=float32, numpy=\n",
       "array([-0.29656547, -0.59313095, -0.8896964 , -1.1862619 , -1.4828274 ,\n",
       "       -1.7793928 ], dtype=float32)>"
      ]
     },
     "execution_count": 30,
     "metadata": {},
     "output_type": "execute_result"
    }
   ],
   "source": [
    "wList = model.weights[0]\n",
    "bList = model.weights[1]\n",
    "x*wList[0][0] + bList[0]"
   ]
  },
  {
   "cell_type": "code",
   "execution_count": null,
   "metadata": {},
   "outputs": [],
   "source": []
  }
 ],
 "metadata": {
  "kernelspec": {
   "display_name": "Python 3.10.4 ('han')",
   "language": "python",
   "name": "python3"
  },
  "language_info": {
   "codemirror_mode": {
    "name": "ipython",
    "version": 3
   },
   "file_extension": ".py",
   "mimetype": "text/x-python",
   "name": "python",
   "nbconvert_exporter": "python",
   "pygments_lexer": "ipython3",
   "version": "3.10.4"
  },
  "orig_nbformat": 4,
  "vscode": {
   "interpreter": {
    "hash": "9ffd841040af6bedd50cabf1584399d13f777232c008d7c4ad470663779a547a"
   }
  }
 },
 "nbformat": 4,
 "nbformat_minor": 2
}
