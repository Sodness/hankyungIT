{
 "cells": [
  {
   "cell_type": "code",
   "execution_count": 1,
   "id": "921aa022",
   "metadata": {},
   "outputs": [
    {
     "name": "stdout",
     "output_type": "stream",
     "text": [
      "안녕하세요\n",
      "안녕하세요\n",
      "안녕하세요\n"
     ]
    }
   ],
   "source": [
    "print('안녕하세요')\n",
    "print('안녕하세요')\n",
    "print('안녕하세요')"
   ]
  },
  {
   "cell_type": "code",
   "execution_count": 8,
   "id": "09ad23c2",
   "metadata": {},
   "outputs": [
    {
     "name": "stdout",
     "output_type": "stream",
     "text": [
      "0 안녕하세요\n",
      "1 안녕하세요\n",
      "2 안녕하세요\n",
      "\n",
      "3번하고 빠져나왔다.\n",
      "\n",
      "a 반갑습니다.\n",
      "b 반갑습니다.\n",
      "c 반갑습니다.\n"
     ]
    }
   ],
   "source": [
    "for i in range(3):\n",
    "    print(i, '안녕하세요')\n",
    "\n",
    "print()\n",
    "print(f'{i+1}번하고 빠져나왔다.')\n",
    "\n",
    "# for문 선언인데 i 전역변수 취급이야? \n",
    "# 파이썬에서는 전역변수 취급이 맞는듯\n",
    "'''\n",
    "for(int i=0; i<3; i++) {\n",
    "    print('hello');\n",
    "}\n",
    "system.out.println(i); // 에러\n",
    "'''\n",
    "\n",
    "print()\n",
    "for i in 'abc':\n",
    "    print(i, '반갑습니다.')"
   ]
  },
  {
   "cell_type": "code",
   "execution_count": 12,
   "id": "0c6ffbdc",
   "metadata": {},
   "outputs": [
    {
     "name": "stdout",
     "output_type": "stream",
     "text": [
      "a\n",
      "\n",
      "a b c "
     ]
    }
   ],
   "source": [
    "a = ['a', 'b', 'c']\n",
    "\n",
    "for i in a:\n",
    "    print(i)\n",
    "    break\n",
    "print()\n",
    "    \n",
    "for i in a:\n",
    "    print(i, end=' ')"
   ]
  },
  {
   "cell_type": "code",
   "execution_count": 17,
   "id": "8a46d6db",
   "metadata": {},
   "outputs": [
    {
     "name": "stdout",
     "output_type": "stream",
     "text": [
      "aaa\n",
      "bbb\n",
      "ccc\n"
     ]
    }
   ],
   "source": [
    "a = ['aaa', 'bbb', 'ccc']\n",
    "\n",
    "for i in a:\n",
    "    print(i)"
   ]
  },
  {
   "cell_type": "code",
   "execution_count": 16,
   "id": "510dd718",
   "metadata": {},
   "outputs": [
    {
     "name": "stdout",
     "output_type": "stream",
     "text": [
      "0 aaa\n",
      "1 bbb\n",
      "2 ccc\n"
     ]
    }
   ],
   "source": [
    "a = ['aaa', 'bbb', 'ccc']\n",
    "cnt = len(a)\n",
    "\n",
    "for i in range(cnt):\n",
    "    print(i, a[i])"
   ]
  },
  {
   "cell_type": "code",
   "execution_count": 15,
   "id": "8849ca27",
   "metadata": {},
   "outputs": [
    {
     "name": "stdout",
     "output_type": "stream",
     "text": [
      "range(0, 3)\n"
     ]
    }
   ],
   "source": [
    "print(range(cnt))\n",
    "# 확인용은 다른 셀에서 해보고 나중에 프로그램이 완성되면 셀째로 지우면 깔끔함"
   ]
  },
  {
   "cell_type": "code",
   "execution_count": 19,
   "id": "1795c9e4",
   "metadata": {},
   "outputs": [
    {
     "name": "stdout",
     "output_type": "stream",
     "text": [
      "0 a= aaa b= 100\n",
      "1 a= bbb b= 200\n",
      "2 a= ccc b= 300\n"
     ]
    }
   ],
   "source": [
    "a = ['aaa', 'bbb', 'ccc']\n",
    "b = [100, 200, 300]\n",
    "\n",
    "for i in range(len(a)):\n",
    "    print(i, 'a=', a[i], 'b=', b[i])"
   ]
  },
  {
   "cell_type": "code",
   "execution_count": 20,
   "id": "57a306a0",
   "metadata": {},
   "outputs": [
    {
     "name": "stdout",
     "output_type": "stream",
     "text": [
      "3 2402825601328\n"
     ]
    }
   ],
   "source": [
    "a = 3\n",
    "print(a, id(a))"
   ]
  },
  {
   "cell_type": "code",
   "execution_count": 21,
   "id": "96dad5f2",
   "metadata": {},
   "outputs": [
    {
     "name": "stdout",
     "output_type": "stream",
     "text": [
      "5 2402825601392\n"
     ]
    }
   ],
   "source": [
    "a = 5\n",
    "print(a, id(a))"
   ]
  },
  {
   "cell_type": "code",
   "execution_count": 30,
   "id": "63b14b03",
   "metadata": {},
   "outputs": [
    {
     "name": "stdout",
     "output_type": "stream",
     "text": [
      "[1, 2, 3] 2402905701120\n",
      "[100, 2, 3] 2402905701120\n",
      "[100, 2, 3] 2402905701120\n",
      "[10, 2, 3] [10, 2, 3]\n",
      "[10, 2, 3] 2402905945216\n"
     ]
    }
   ],
   "source": [
    "b = [1,2,3]\n",
    "print(b, id(b))\n",
    "\n",
    "b[0] = 100\n",
    "print(b, id(b))\n",
    "\n",
    "c = b\n",
    "print(c, id(c))\n",
    "c[0] = 10\n",
    "print(b, c)\n",
    "\n",
    "d = b.copy()\n",
    "print(d, id(d))"
   ]
  },
  {
   "cell_type": "code",
   "execution_count": 31,
   "id": "3713fbb3",
   "metadata": {},
   "outputs": [
    {
     "name": "stdout",
     "output_type": "stream",
     "text": [
      "[10, 2, 3]\n"
     ]
    }
   ],
   "source": [
    "print(b)"
   ]
  },
  {
   "cell_type": "code",
   "execution_count": 32,
   "id": "142d0b8a",
   "metadata": {},
   "outputs": [
    {
     "name": "stdout",
     "output_type": "stream",
     "text": [
      "[10, 2, 3]\n"
     ]
    }
   ],
   "source": [
    "print(d)"
   ]
  },
  {
   "cell_type": "code",
   "execution_count": 33,
   "id": "67b2097d",
   "metadata": {},
   "outputs": [
    {
     "name": "stdout",
     "output_type": "stream",
     "text": [
      "[10, 2, 3] [10000, 2, 3]\n"
     ]
    }
   ],
   "source": [
    "d[0] = 10000\n",
    "print(b, d)"
   ]
  },
  {
   "cell_type": "code",
   "execution_count": 35,
   "id": "071e5712",
   "metadata": {},
   "outputs": [
    {
     "name": "stdout",
     "output_type": "stream",
     "text": [
      "이름 홍길동\n",
      "나이 15\n",
      "점수 100\n"
     ]
    }
   ],
   "source": [
    "a = {\n",
    "    '이름': '홍길동',\n",
    "    '나이': 15,\n",
    "    '점수': 100\n",
    "}\n",
    "\n",
    "for i in a:\n",
    "    print(i, a[i])"
   ]
  },
  {
   "cell_type": "code",
   "execution_count": 42,
   "id": "870b1828",
   "metadata": {},
   "outputs": [
    {
     "name": "stdout",
     "output_type": "stream",
     "text": [
      "0 aaa\n",
      "1 bbb\n",
      "2 ccc\n",
      "3 ddd\n",
      "\n",
      "1 aaa\n",
      "2 bbb\n",
      "3 ccc\n",
      "4 ddd\n",
      "\n",
      "4\n",
      "0\n"
     ]
    }
   ],
   "source": [
    "ls = ['aaa', 'bbb', 'ccc', 'ddd']\n",
    "\n",
    "n = 0\n",
    "for i in ls:\n",
    "    m = 0\n",
    "    print(n, i)\n",
    "    n = n+1\n",
    "print()\n",
    "\n",
    "n=0\n",
    "for i in ls:\n",
    "    n = n+1\n",
    "    print(n, i)\n",
    "print()\n",
    "\n",
    "print(n)\n",
    "print(m)\n",
    "# m 이것도 되네"
   ]
  },
  {
   "cell_type": "code",
   "execution_count": 45,
   "id": "78f18de4",
   "metadata": {},
   "outputs": [
    {
     "name": "stdout",
     "output_type": "stream",
     "text": [
      "(0, 'aaa')\n",
      "(1, 'bbb')\n",
      "(2, 'ccc')\n",
      "(3, 'ddd')\n",
      "0 aaa\n",
      "1 bbb\n",
      "2 ccc\n",
      "3 ddd\n"
     ]
    }
   ],
   "source": [
    "ls = ['aaa', 'bbb', 'ccc', 'ddd']\n",
    "\n",
    "for i in enumerate(ls):\n",
    "    print(i)\n",
    "\n",
    "for idx,i in enumerate(ls):\n",
    "    print(idx, i)"
   ]
  },
  {
   "cell_type": "code",
   "execution_count": 48,
   "id": "74ed8b2d",
   "metadata": {},
   "outputs": [
    {
     "name": "stdout",
     "output_type": "stream",
     "text": [
      "이름 홍길동\n",
      "나이 15\n",
      "점수 100\n"
     ]
    }
   ],
   "source": [
    "a = {\n",
    "    '이름': '홍길동',\n",
    "    '나이': 15,\n",
    "    '점수': 100\n",
    "}\n",
    "\n",
    "for key,v in a.items():\n",
    "    print(key, v)"
   ]
  },
  {
   "cell_type": "code",
   "execution_count": 49,
   "id": "a3d15fc2",
   "metadata": {},
   "outputs": [],
   "source": [
    "# 리스트\n",
    "# for 변수1, 변수2 in enumerate(리스트):\n",
    "\n",
    "# 딕셔너리\n",
    "# for 변수1, 변수2 in 딕셔너리.items():"
   ]
  },
  {
   "cell_type": "code",
   "execution_count": 55,
   "id": "55803d53",
   "metadata": {},
   "outputs": [
    {
     "name": "stdout",
     "output_type": "stream",
     "text": [
      "[('aaa', 100), ('bbb', 200), ('ccc', 300)]\n"
     ]
    }
   ],
   "source": [
    "a = ['aaa', 'bbb', 'ccc']\n",
    "b = [100, 200, 300]\n",
    "k = zip(a, b)\n",
    "# zip() 는 a, b의 length가 같아야 됨\n",
    "\n",
    "print(list(k))"
   ]
  },
  {
   "cell_type": "code",
   "execution_count": 58,
   "id": "8560a28d",
   "metadata": {},
   "outputs": [
    {
     "name": "stdout",
     "output_type": "stream",
     "text": [
      "aaa 100\n",
      "bbb 200\n",
      "ccc 300\n",
      "\n",
      "100 aaa\n",
      "200 bbb\n",
      "300 ccc\n"
     ]
    }
   ],
   "source": [
    "a = ['aaa', 'bbb', 'ccc']\n",
    "b = [100, 200, 300]\n",
    "\n",
    "for i,j in zip(a,b):\n",
    "    print(i, j)\n",
    "print()\n",
    "    \n",
    "for i,j in zip(b,a):\n",
    "    print(i, j)"
   ]
  },
  {
   "cell_type": "code",
   "execution_count": null,
   "id": "2b3125fb",
   "metadata": {},
   "outputs": [],
   "source": []
  }
 ],
 "metadata": {
  "kernelspec": {
   "display_name": "Python 3 (ipykernel)",
   "language": "python",
   "name": "python3"
  },
  "language_info": {
   "codemirror_mode": {
    "name": "ipython",
    "version": 3
   },
   "file_extension": ".py",
   "mimetype": "text/x-python",
   "name": "python",
   "nbconvert_exporter": "python",
   "pygments_lexer": "ipython3",
   "version": "3.10.4"
  }
 },
 "nbformat": 4,
 "nbformat_minor": 5
}
