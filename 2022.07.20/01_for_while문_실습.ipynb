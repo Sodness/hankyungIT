{
 "cells": [
  {
   "cell_type": "code",
   "execution_count": 4,
   "id": "e6d6126f",
   "metadata": {},
   "outputs": [
    {
     "name": "stdout",
     "output_type": "stream",
     "text": [
      "[2, 4, 6, 8, 10]\n"
     ]
    }
   ],
   "source": [
    "ls = [1,2,3,4,5]\n",
    "r_ls = []\n",
    "for i in ls:\n",
    "    r_ls.append(i*2)\n",
    "print(r_ls)"
   ]
  },
  {
   "cell_type": "code",
   "execution_count": 11,
   "id": "243cefc3",
   "metadata": {},
   "outputs": [
    {
     "name": "stdout",
     "output_type": "stream",
     "text": [
      "[2, 4, 6, 8, 10]\n",
      "[20, 40, 60, 80, 100]\n",
      "\n",
      "[2, 4, 6, 8, 10]\n",
      "[20, 40, 60, 80, 100]\n"
     ]
    }
   ],
   "source": [
    "ls_1 = [1,2,3,4,5]\n",
    "ls_2 = [10,20,30,40,50]\n",
    "r_ls_1 = []\n",
    "r_ls_2 = []\n",
    "\n",
    "for i,j in zip(ls_1, ls_2):\n",
    "    r_ls_1.append(i*2)\n",
    "    r_ls_2.append(j*2)\n",
    "print(r_ls_1)\n",
    "print(r_ls_2)\n",
    "print()\n",
    "\n",
    "#--------------------------- 강사님\n",
    "r_ls_1 = []\n",
    "r_ls_2 = []\n",
    "\n",
    "for i in range(len(ls_1)):\n",
    "    r_ls_1.append(ls_1[i]*2)\n",
    "    r_ls_2.append(ls_2[i]*2)\n",
    "print(r_ls_1)\n",
    "print(r_ls_2)"
   ]
  },
  {
   "cell_type": "code",
   "execution_count": 12,
   "id": "1e9cecc6",
   "metadata": {},
   "outputs": [
    {
     "name": "stdout",
     "output_type": "stream",
     "text": [
      "[2, 4, 6, 8, 10]\n",
      "[20, 40, 60, 80, 100]\n"
     ]
    }
   ],
   "source": [
    "ls_1 = [1,2,3,4,5]\n",
    "ls_2 = [10,20,30,40,50]\n",
    "r_ls_1 = []\n",
    "r_ls_2 = []\n",
    "\n",
    "for i,j in zip(ls_1, ls_2):\n",
    "    r_ls_1.append(i*2)\n",
    "    r_ls_2.append(j*2)\n",
    "print(r_ls_1)\n",
    "print(r_ls_2)"
   ]
  },
  {
   "cell_type": "code",
   "execution_count": 15,
   "id": "3ffc79c1",
   "metadata": {},
   "outputs": [
    {
     "name": "stdout",
     "output_type": "stream",
     "text": [
      "['서울', '서울', '부산', '부산']\n"
     ]
    }
   ],
   "source": [
    "#예제) 데이터 정제\n",
    "a={'서울': ['서울','서울시','서울특별시'],\n",
    "  '부산': ['부산','부산시','부산광역시','부산직할시']}\n",
    "\n",
    "dt=['서울시','서울시','부산광역시','부산직할시']\n",
    "\n",
    "for idx,i in enumerate(dt):\n",
    "    #print(idx, i)\n",
    "    for key,v in a.items():\n",
    "        #print(key, v)\n",
    "        if i in v:\n",
    "            dt[idx] = key\n",
    "            \n",
    "print(dt)"
   ]
  },
  {
   "cell_type": "code",
   "execution_count": 16,
   "id": "8a87d6c8",
   "metadata": {},
   "outputs": [
    {
     "name": "stdout",
     "output_type": "stream",
     "text": [
      "['서울', '서울', '서울', '부산', '부산', '서울', '부산', '부산']\n"
     ]
    }
   ],
   "source": [
    "a={'서울': ['서울','서울시','서울특별시','서울00'],\n",
    "  '부산': ['부산','부산시','부산광역시','부산직할시','부산0']}\n",
    "\n",
    "dt=['서울시','서울','서울시','부산광역시','부산직할시','서울00','부산0','부산광역시']\n",
    "\n",
    "for idx,i in enumerate(dt):\n",
    "    #print(idx, i)\n",
    "    for key,v in a.items():\n",
    "        #print(key, v)\n",
    "        if i in v:\n",
    "            dt[idx] = key\n",
    "            \n",
    "print(dt)"
   ]
  },
  {
   "cell_type": "code",
   "execution_count": 17,
   "id": "18e1d3da",
   "metadata": {},
   "outputs": [
    {
     "name": "stdout",
     "output_type": "stream",
     "text": [
      "[3, 6, 9, 12]\n"
     ]
    }
   ],
   "source": [
    "a = [1,2,3,4]\n",
    "r_a = []\n",
    "\n",
    "for i in a:\n",
    "    r_a.append(i*3)\n",
    "print(r_a)"
   ]
  },
  {
   "cell_type": "code",
   "execution_count": 19,
   "id": "f45e1ea7",
   "metadata": {},
   "outputs": [
    {
     "name": "stdout",
     "output_type": "stream",
     "text": [
      "[3, 6, 9, 12]\n"
     ]
    }
   ],
   "source": [
    "a = [1,2,3,4]\n",
    "r_a = [i*3 for i in a]\n",
    "print(r_a)"
   ]
  },
  {
   "cell_type": "code",
   "execution_count": 21,
   "id": "6fcbcf1c",
   "metadata": {},
   "outputs": [
    {
     "name": "stdout",
     "output_type": "stream",
     "text": [
      "1 홀수\n",
      "2 짝수\n",
      "3 홀수\n",
      "4 짝수\n",
      "5 홀수\n",
      "6 짝수\n",
      "7 홀수\n",
      "8 짝수\n",
      "9 홀수\n",
      "10 짝수\n"
     ]
    }
   ],
   "source": [
    "for i in range(1,11):\n",
    "    if i%2 == 0:\n",
    "        print(i, '짝수')\n",
    "    else:\n",
    "        print(i, '홀수')"
   ]
  },
  {
   "cell_type": "code",
   "execution_count": 23,
   "id": "f0555373",
   "metadata": {},
   "outputs": [
    {
     "name": "stdout",
     "output_type": "stream",
     "text": [
      "[[1, '홀수'], [2, '짝수'], [3, '홀수'], [4, '짝수'], [5, '홀수'], [6, '짝수'], [7, '홀수'], [8, '짝수'], [9, '홀수'], [10, '짝수']]\n"
     ]
    }
   ],
   "source": [
    "result = []\n",
    "for i in range(1,11):\n",
    "    if i%2 == 0:\n",
    "        result.append([i,'짝수'])\n",
    "    else:\n",
    "        result.append([i,'홀수'])\n",
    "print(result)"
   ]
  },
  {
   "cell_type": "code",
   "execution_count": 24,
   "id": "b58b9b9d",
   "metadata": {},
   "outputs": [
    {
     "name": "stdout",
     "output_type": "stream",
     "text": [
      "[2, 4, 6, 8, 10]\n"
     ]
    }
   ],
   "source": [
    "result = []\n",
    "for i in range(1,11):\n",
    "    if i%2 == 0:\n",
    "        result.append(i)\n",
    "print(result)"
   ]
  },
  {
   "cell_type": "code",
   "execution_count": 25,
   "id": "86dccb6c",
   "metadata": {},
   "outputs": [
    {
     "data": {
      "text/plain": [
       "[2, 4, 6, 8, 10]"
      ]
     },
     "execution_count": 25,
     "metadata": {},
     "output_type": "execute_result"
    }
   ],
   "source": [
    "[i for i in range(1,11) if i%2 == 0]"
   ]
  },
  {
   "cell_type": "code",
   "execution_count": 26,
   "id": "0432bfaa",
   "metadata": {},
   "outputs": [
    {
     "data": {
      "text/plain": [
       "[1, 3, 5, 7, 9]"
      ]
     },
     "execution_count": 26,
     "metadata": {},
     "output_type": "execute_result"
    }
   ],
   "source": [
    "[i for i in range(1,11) if i%2==1]"
   ]
  },
  {
   "cell_type": "code",
   "execution_count": 27,
   "id": "49e67151",
   "metadata": {},
   "outputs": [
    {
     "data": {
      "text/plain": [
       "['홀수', '짝수', '홀수', '짝수', '홀수', '짝수', '홀수', '짝수', '홀수', '짝수']"
      ]
     },
     "execution_count": 27,
     "metadata": {},
     "output_type": "execute_result"
    }
   ],
   "source": [
    "['짝수' if i%2==0 else '홀수' for i in range(1,11)]"
   ]
  },
  {
   "cell_type": "code",
   "execution_count": 28,
   "id": "42aa67fc",
   "metadata": {},
   "outputs": [],
   "source": [
    "# [표현식 for문]\n",
    "# [표현식 for문 if문]\n",
    "# [참표현식 if 조건 else 거짓표현식 for문]\n",
    "\n",
    "#if문만 있으면 for문 뒤에 쓰고\n",
    "#if-else문이면 for문 앞에 쓰고"
   ]
  },
  {
   "cell_type": "code",
   "execution_count": 29,
   "id": "1a881525",
   "metadata": {},
   "outputs": [
    {
     "data": {
      "text/plain": [
       "[(1, '홀수'),\n",
       " (2, '짝수'),\n",
       " (3, '홀수'),\n",
       " (4, '짝수'),\n",
       " (5, '홀수'),\n",
       " (6, '짝수'),\n",
       " (7, '홀수'),\n",
       " (8, '짝수'),\n",
       " (9, '홀수'),\n",
       " (10, '짝수')]"
      ]
     },
     "execution_count": 29,
     "metadata": {},
     "output_type": "execute_result"
    }
   ],
   "source": [
    "[(i,'짝수') if i%2==0 else (i,'홀수') for i in range(1,11)]"
   ]
  },
  {
   "cell_type": "code",
   "execution_count": 31,
   "id": "4e0db8f7",
   "metadata": {},
   "outputs": [
    {
     "name": "stdout",
     "output_type": "stream",
     "text": [
      "1\n",
      "3\n",
      "5\n",
      "7\n",
      "9\n"
     ]
    }
   ],
   "source": [
    "for i in range(11):\n",
    "    if i%2 == 0:\n",
    "        continue\n",
    "    print(i)"
   ]
  },
  {
   "cell_type": "code",
   "execution_count": 34,
   "id": "f25e4498",
   "metadata": {},
   "outputs": [
    {
     "name": "stdout",
     "output_type": "stream",
     "text": [
      "2*1 = 2\n",
      "2*2 = 4\n",
      "2*3 = 6\n",
      "2*4 = 8\n",
      "2*5 = 10\n",
      "2*6 = 12\n",
      "2*7 = 14\n",
      "2*8 = 16\n",
      "2*9 = 18\n"
     ]
    }
   ],
   "source": [
    "a=2\n",
    "for i in range(1,10):\n",
    "    print(f'{a}*{i} = {a*i}')"
   ]
  },
  {
   "cell_type": "code",
   "execution_count": 42,
   "id": "0add2c05",
   "metadata": {},
   "outputs": [
    {
     "name": "stdout",
     "output_type": "stream",
     "text": [
      " 2 *  1 =  2  2 *  2 =  4  2 *  3 =  6  2 *  4 =  8  2 *  5 = 10  2 *  6 = 12  2 *  7 = 14  2 *  8 = 16  2 *  9 = 18 \n",
      " 3 *  1 =  3  3 *  2 =  6  3 *  3 =  9  3 *  4 = 12  3 *  5 = 15  3 *  6 = 18  3 *  7 = 21  3 *  8 = 24  3 *  9 = 27 \n",
      " 4 *  1 =  4  4 *  2 =  8  4 *  3 = 12  4 *  4 = 16  4 *  5 = 20  4 *  6 = 24  4 *  7 = 28  4 *  8 = 32  4 *  9 = 36 \n",
      " 5 *  1 =  5  5 *  2 = 10  5 *  3 = 15  5 *  4 = 20  5 *  5 = 25  5 *  6 = 30  5 *  7 = 35  5 *  8 = 40  5 *  9 = 45 \n",
      " 6 *  1 =  6  6 *  2 = 12  6 *  3 = 18  6 *  4 = 24  6 *  5 = 30  6 *  6 = 36  6 *  7 = 42  6 *  8 = 48  6 *  9 = 54 \n",
      " 7 *  1 =  7  7 *  2 = 14  7 *  3 = 21  7 *  4 = 28  7 *  5 = 35  7 *  6 = 42  7 *  7 = 49  7 *  8 = 56  7 *  9 = 63 \n",
      " 8 *  1 =  8  8 *  2 = 16  8 *  3 = 24  8 *  4 = 32  8 *  5 = 40  8 *  6 = 48  8 *  7 = 56  8 *  8 = 64  8 *  9 = 72 \n",
      " 9 *  1 =  9  9 *  2 = 18  9 *  3 = 27  9 *  4 = 36  9 *  5 = 45  9 *  6 = 54  9 *  7 = 63  9 *  8 = 72  9 *  9 = 81 \n"
     ]
    }
   ],
   "source": [
    "for i in range(2,10):\n",
    "    #print(i, '단')\n",
    "    for j in range(1,10):\n",
    "        print(f'{i:2} * {j:2} = {i*j:2}', end=' ')\n",
    "    print()"
   ]
  },
  {
   "cell_type": "code",
   "execution_count": 44,
   "id": "f0dc2361",
   "metadata": {},
   "outputs": [
    {
     "data": {
      "text/plain": [
       "[2,\n",
       " 4,\n",
       " 6,\n",
       " 8,\n",
       " 10,\n",
       " 12,\n",
       " 14,\n",
       " 16,\n",
       " 3,\n",
       " 6,\n",
       " 9,\n",
       " 12,\n",
       " 15,\n",
       " 18,\n",
       " 21,\n",
       " 24,\n",
       " 4,\n",
       " 8,\n",
       " 12,\n",
       " 16,\n",
       " 20,\n",
       " 24,\n",
       " 28,\n",
       " 32,\n",
       " 5,\n",
       " 10,\n",
       " 15,\n",
       " 20,\n",
       " 25,\n",
       " 30,\n",
       " 35,\n",
       " 40,\n",
       " 6,\n",
       " 12,\n",
       " 18,\n",
       " 24,\n",
       " 30,\n",
       " 36,\n",
       " 42,\n",
       " 48,\n",
       " 7,\n",
       " 14,\n",
       " 21,\n",
       " 28,\n",
       " 35,\n",
       " 42,\n",
       " 49,\n",
       " 56,\n",
       " 8,\n",
       " 16,\n",
       " 24,\n",
       " 32,\n",
       " 40,\n",
       " 48,\n",
       " 56,\n",
       " 64,\n",
       " 9,\n",
       " 18,\n",
       " 27,\n",
       " 36,\n",
       " 45,\n",
       " 54,\n",
       " 63,\n",
       " 72]"
      ]
     },
     "execution_count": 44,
     "metadata": {},
     "output_type": "execute_result"
    }
   ],
   "source": [
    "# [표현식 for문 for문]\n",
    "[i*j for i in range(2,10) for j in range(1,9)]"
   ]
  },
  {
   "cell_type": "code",
   "execution_count": null,
   "id": "8ddfdafa",
   "metadata": {},
   "outputs": [],
   "source": []
  }
 ],
 "metadata": {
  "kernelspec": {
   "display_name": "Python 3 (ipykernel)",
   "language": "python",
   "name": "python3"
  },
  "language_info": {
   "codemirror_mode": {
    "name": "ipython",
    "version": 3
   },
   "file_extension": ".py",
   "mimetype": "text/x-python",
   "name": "python",
   "nbconvert_exporter": "python",
   "pygments_lexer": "ipython3",
   "version": "3.10.4"
  }
 },
 "nbformat": 4,
 "nbformat_minor": 5
}
