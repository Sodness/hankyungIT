{
 "cells": [
  {
   "cell_type": "markdown",
   "id": "0406e87a",
   "metadata": {},
   "source": [
    "# 네트워크 그래프"
   ]
  },
  {
   "cell_type": "code",
   "execution_count": null,
   "id": "bb807dcb",
   "metadata": {},
   "outputs": [],
   "source": [
    "import networkx as nx\n",
    "import matplotlib.pyplot as plt\n",
    "import matplotlib.font_manager as fm"
   ]
  },
  {
   "cell_type": "code",
   "execution_count": null,
   "id": "3936b845",
   "metadata": {},
   "outputs": [],
   "source": [
    "df['키워드'][0].split(',')"
   ]
  },
  {
   "cell_type": "code",
   "execution_count": null,
   "id": "034b6489",
   "metadata": {},
   "outputs": [],
   "source": [
    "\"\"\" Edge list 작성 \"\"\"\n",
    "from collections import Counter\n",
    "\n",
    "\n",
    "edge_list = []\n",
    "for keywords in df['키워드']:\n",
    "    keywords = keywords.split(',')\n",
    "    num_keyword = len(keywords)\n",
    "    if num_keyword > 0:\n",
    "        for i in range(num_keyword-1):\n",
    "            for j in range(i+1, num_keyword):\n",
    "                edge_list += [tuple(sorted([keywords[i], keywords[j]]))]    # node 간 위해 sorted 사용\n",
    "                break\n",
    "            break\n",
    "# print(edge_list)\n",
    "# print(\"======>\", (len(edge_list)))\n",
    "edges = list(Counter(edge_list).items())\n",
    "\n",
    "\n",
    "\n",
    "\"\"\" networkx Graph 작성 \"\"\"\n",
    "import networkx as nx\n",
    "\n",
    "\n",
    "G = nx.Graph((x, y, {'weight': v}) for (x, y), v in edges)"
   ]
  },
  {
   "cell_type": "code",
   "execution_count": null,
   "id": "f5e0c488",
   "metadata": {},
   "outputs": [],
   "source": [
    "len(edge_list)"
   ]
  },
  {
   "cell_type": "code",
   "execution_count": null,
   "id": "38ece9b6",
   "metadata": {},
   "outputs": [],
   "source": [
    "tmp = ['한국', '태양광', '발전', '최고치', '태양광', '최고', '기록', '한국', '태양광', '발전', '5월', '전력량', '차지', '비율', '7%', '엠버', '국제', '에너지', '싱크탱크', '한국', '일본', '5월', '석탄', '가스', '위기', '태양광', '발전', '기록', '달성', '한국', '통계', '전력', '수요', '작성', '이래', '기준', '전력', '수요', '역대', '최고', '5월', '태양광', '발전', '최고치', '기록', '전력량', '차지', '비율', '7.17%', '최대전력', '월평균', '최대', '전력', '4.5%', '증가', '6만', '기록', '최고', '최대', '전력', '4년', '기록', '일본', '발전량', '태양광', '10테라와트시', 'TWh', '전력', '15%', '차지', '일본', '태양', '용량', '2010년', '20배', '증가', '확장', '태양광', '용량', '전력량', '지난', '태양광', '차지', '비중', '9.8%', '전문가들', '일본', '태양광', '확장', '여지', '한국', '1%', '비중', '태양광', '발전', '2021년', '4%', '국제', '평균', '한참', '아시아', '전역', '태양광', '인기', '아시아', '국가', '용량', '태양광', '발전', '상위', '개국', '5개국', '일본', '4위', '한국', '9위', '10년', '아시아', '세계', '국가', '일본', '중국', '추세', '세계적', '태양광', '풍력', '발전', '세계적', '가속화', '반영', '엠버', '국제전력', '보고서', '태양광', '풍력', '이래', '증가', '전력생산', '세계', '전력', '생산', '10분', '공급', '한국', '일본', '전력', '수요', '절반', '화석', '연료', '발전', '의존', '일본', '2021년', '전력', '68%', '화석연료', '생산', '일본', '중부', '타케토요', '신규석탄발전소', '건설', '시작', '한국', '전력량', '56.2%', '화석연료', '의존', '기후변화', '정부', '협의체', 'IPCC', '상승', '지구', '온도', '1.5도', '태양광', '풍력', '2030년', '세계', '전력', '40%', '수석전력정책분석가', '아디티아', '롤라', '엠버', '아시아', '수석', '전력', '정책', '분석가', '한국', '발전', '일본', '태양광', '지속적', '성장', '지속가능', '안전', '에너지', '공급', '긍정적', '신호', '발전', '용량', '증가', '가치', '국가', '활용', '잠재력']\n",
    "num_keyword = len(keywords)\n",
    "\n",
    "for i in range(num_keyword-1):\n",
    "    for j in range(i+1, num_keyword):\n",
    "        edge_list += [tuple(sorted([keywords[i], keywords[j]]))]    # node 간 위해 sorted 사용\n",
    "\n",
    "# print(edge_list)"
   ]
  },
  {
   "cell_type": "code",
   "execution_count": null,
   "id": "f25926eb",
   "metadata": {},
   "outputs": [],
   "source": [
    "edges = list(Counter(edge_list).items())\n",
    "edges"
   ]
  },
  {
   "cell_type": "code",
   "execution_count": null,
   "id": "5b819a6d",
   "metadata": {},
   "outputs": [],
   "source": [
    "\"\"\" networkx Graph 작성 \"\"\"\n",
    "import networkx as nx\n",
    "\n",
    "\n",
    "G = nx.Graph((x, y, {'weight': v}) for (x, y), v in edges)"
   ]
  }
 ],
 "metadata": {
  "kernelspec": {
   "display_name": "Python 3 (ipykernel)",
   "language": "python",
   "name": "python3"
  },
  "language_info": {
   "codemirror_mode": {
    "name": "ipython",
    "version": 3
   },
   "file_extension": ".py",
   "mimetype": "text/x-python",
   "name": "python",
   "nbconvert_exporter": "python",
   "pygments_lexer": "ipython3",
   "version": "3.10.4"
  }
 },
 "nbformat": 4,
 "nbformat_minor": 5
}
