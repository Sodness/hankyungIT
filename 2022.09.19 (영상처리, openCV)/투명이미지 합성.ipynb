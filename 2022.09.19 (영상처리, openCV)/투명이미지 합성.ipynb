{
 "cells": [
  {
   "cell_type": "code",
   "execution_count": 38,
   "id": "33bdfb15",
   "metadata": {},
   "outputs": [
    {
     "name": "stdout",
     "output_type": "stream",
     "text": [
      "(156, 198, 4)\n"
     ]
    }
   ],
   "source": [
    "import cv2\n",
    "import numpy as np\n",
    "\n",
    "\n",
    "top = (0,0)\n",
    "bottom = (0,0)\n",
    "\n",
    "def drawRectangle(action, x, y, flags, *userdata):\n",
    "    # 이벤트 받고 나갈 때 top 변수가 소멸됨, bottom은 빼도 동작하는데 세트여서 그냥 넣어주고\n",
    "    global top, bottom\n",
    "    \n",
    "    # 마우스 왼쪽 DOWN\n",
    "    if action == cv2.EVENT_LBUTTONDOWN:\n",
    "        top=(x,y)\n",
    "    # 마우스 왼쪽 UP\n",
    "    elif action == cv2.EVENT_LBUTTONUP:\n",
    "        bottom=(x,y)\n",
    "        cv2.rectangle(image, top, bottom, (0, 255, 0), 2, 8)\n",
    "        w=abs(bottom[0]-top[0]) #사각형 가로 크기\n",
    "        h=abs(bottom[1]-top[1]) #사각형 세로 크기\n",
    "        # 나비 사각형 크기 맞춰서 바꾸기\n",
    "        tmp=cv2.resize(image2,(w,h))\n",
    "        # 마스크 0~255를 0~1로 비율 맞추기\n",
    "        mask_img=tmp[:,:,3]/255\n",
    "\n",
    "        # RGB 채널별로 나눠서 이미지 합성\n",
    "        # 내 코드는 얕은복사 인줄 알고 target_area 바꾸고 image도 바뀔줄 잘못알았던 거\n",
    "        for c in range(3):\n",
    "            img_sum1 = tmp[:,:,c]*mask_img\n",
    "            img_sum2 = image[top[1]:bottom[1],top[0]:bottom[0],c]*(1-mask_img)\n",
    "            image[top[1]:bottom[1],top[0]:bottom[0],c]=(img_sum1+img_sum2).astype(np.uint8)\n",
    "        cv2.imshow(\"Window\", image)\n",
    "            \n",
    "\n",
    "# 이미지 읽기\n",
    "image = cv2.imread(\"./img01.jpg\")\n",
    "image2 = cv2.imread('./navi.png',cv2.IMREAD_UNCHANGED)\n",
    "# 이미지 확인\n",
    "print(np.shape(image2))\n",
    "\n",
    "# Window 창 생성\n",
    "cv2.namedWindow(\"Window\")\n",
    "# Window 창 마우스이벤트 함수 지정 -> drawRectangle\n",
    "cv2.setMouseCallback(\"Window\", drawRectangle)\n",
    "\n",
    "k = 0\n",
    "# 'q' 입력시 종료\n",
    "while k != 113:\n",
    "    cv2.imshow(\"Window\", image)\n",
    "    k = cv2.waitKey(0)\n",
    "    \n",
    "    # 'c' 입력시 이미지 초기화\n",
    "    if (k == 99):\n",
    "        image = temp.copy()\n",
    "        cv2.imshow(\"Window\", image)\n",
    "\n",
    "\n",
    "cv2.destroyAllWindows()"
   ]
  },
  {
   "cell_type": "code",
   "execution_count": null,
   "id": "0653b44c",
   "metadata": {},
   "outputs": [],
   "source": []
  },
  {
   "cell_type": "code",
   "execution_count": null,
   "id": "9590a516",
   "metadata": {},
   "outputs": [],
   "source": []
  }
 ],
 "metadata": {
  "kernelspec": {
   "display_name": "Python 3 (ipykernel)",
   "language": "python",
   "name": "python3"
  },
  "language_info": {
   "codemirror_mode": {
    "name": "ipython",
    "version": 3
   },
   "file_extension": ".py",
   "mimetype": "text/x-python",
   "name": "python",
   "nbconvert_exporter": "python",
   "pygments_lexer": "ipython3",
   "version": "3.10.4"
  }
 },
 "nbformat": 4,
 "nbformat_minor": 5
}
