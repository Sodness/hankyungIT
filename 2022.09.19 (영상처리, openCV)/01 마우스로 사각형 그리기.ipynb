{
 "cells": [
  {
   "cell_type": "code",
   "execution_count": 1,
   "id": "6a4d5e98",
   "metadata": {},
   "outputs": [],
   "source": [
    "####################################################\n",
    "# 1. 사각형 그리기\n",
    "####################################################\n",
    "\n",
    "import cv2\n",
    "\n",
    "# Lists to store the bounding box coordinates\n",
    "\n",
    "top_left_corner = []\n",
    "\n",
    "bottom_right_corner = []\n",
    "\n",
    "# function which will be called on mouse input\n",
    "\n",
    "\n",
    "def drawRectangle(action, x, y, flags, parms):\n",
    "\n",
    "\n",
    "    # Referencing global variables\n",
    "    global top_left_corner, bottom_right_corner\n",
    "    # Mark the top left corner when left mouse button is pressed\n",
    "    if action == cv2.EVENT_LBUTTONDOWN:\n",
    "        top_left_corner = [(x, y)]\n",
    "    # When left mouse button is released, mark bottom right corner\n",
    "    elif action == cv2.EVENT_LBUTTONUP:\n",
    "        bottom_right_corner = [(x, y)]\n",
    "        # Draw the rectangle\n",
    "        cv2.rectangle(image, top_left_corner[0], bottom_right_corner[0], (0, 255, 0),5)\n",
    "        cv2.imshow(\"Window\", image)\n",
    "\n",
    "# Read Images\n",
    "image = cv2.imread(\"./img01.jpg\")\n",
    "# Make a temporary image, will be useful to clear the drawing\n",
    "\n",
    "temp = image.copy()\n",
    "# Create a named window\n",
    "cv2.namedWindow(\"Window\")\n",
    "# highgui function called when mouse events occur\n",
    "cv2.setMouseCallback(\"Window\", drawRectangle)\n",
    "\n",
    "k = 0\n",
    "# Close the window when key q is pressed\n",
    "while k != 113:\n",
    "# Display the image\n",
    "    cv2.imshow(\"Window\", image)\n",
    "    k = cv2.waitKey(0)\n",
    "    # If c is pressed, clear the window, using the dummy image\n",
    "    if (k == 99):\n",
    "        image = temp.copy()\n",
    "        cv2.imshow(\"Window\", image)\n",
    "\n",
    "cv2.destroyAllWindows()"
   ]
  },
  {
   "cell_type": "code",
   "execution_count": null,
   "id": "d59b9fb9",
   "metadata": {},
   "outputs": [],
   "source": []
  }
 ],
 "metadata": {
  "kernelspec": {
   "display_name": "Python 3 (ipykernel)",
   "language": "python",
   "name": "python3"
  },
  "language_info": {
   "codemirror_mode": {
    "name": "ipython",
    "version": 3
   },
   "file_extension": ".py",
   "mimetype": "text/x-python",
   "name": "python",
   "nbconvert_exporter": "python",
   "pygments_lexer": "ipython3",
   "version": "3.10.4"
  }
 },
 "nbformat": 4,
 "nbformat_minor": 5
}
