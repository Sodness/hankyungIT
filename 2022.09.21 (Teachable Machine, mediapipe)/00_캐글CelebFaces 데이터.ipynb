{
 "cells": [
  {
   "cell_type": "code",
   "execution_count": null,
   "id": "9257958c",
   "metadata": {},
   "outputs": [],
   "source": [
    "## 폴더 제작\n",
    "import pandas as pd\n",
    "df=pd.read_csv('./archive/list_attr_celeba.csv')\n",
    "\n",
    "for i in df.columns[1:]:\n",
    "    os.mkdir('./temp/'+i)\n",
    "    os.mkdir('./temp/'+i+'/'+str(-1))\n",
    "    os.mkdir('./temp/'+i+'/'+str(1))\n",
    "\n",
    "#파일 복사 모듈\n",
    "import shutil\n",
    "\n",
    "field='Male'\n",
    "for img,folder in zip(df['image_id'],df['Male']):\n",
    "    copy='./archive/img_align_celeba/img_align_celeba/'+img\n",
    "    paste='./temp/'+field+'/'+str(folder)+'/'+img\n",
    "    shutil.copyfile(copy,paste)"
   ]
  },
  {
   "cell_type": "markdown",
   "id": "f9c0aa38",
   "metadata": {},
   "source": [
    "https://www.kaggle.com/datasets/jessicali9530/celeba-dataset  => 캐글CelebFaces 속성(CelebA) 데이터 세트"
   ]
  },
  {
   "cell_type": "code",
   "execution_count": null,
   "id": "392a398a",
   "metadata": {},
   "outputs": [],
   "source": []
  }
 ],
 "metadata": {
  "kernelspec": {
   "display_name": "Python 3 (ipykernel)",
   "language": "python",
   "name": "python3"
  },
  "language_info": {
   "codemirror_mode": {
    "name": "ipython",
    "version": 3
   },
   "file_extension": ".py",
   "mimetype": "text/x-python",
   "name": "python",
   "nbconvert_exporter": "python",
   "pygments_lexer": "ipython3",
   "version": "3.10.4"
  }
 },
 "nbformat": 4,
 "nbformat_minor": 5
}
