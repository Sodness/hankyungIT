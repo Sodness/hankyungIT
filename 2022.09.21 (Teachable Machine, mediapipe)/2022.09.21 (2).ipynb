{
 "cells": [
  {
   "cell_type": "code",
   "execution_count": 26,
   "id": "2bab37d7",
   "metadata": {},
   "outputs": [
    {
     "name": "stdout",
     "output_type": "stream",
     "text": [
      "WARNING:tensorflow:No training configuration found in the save file, so the model was *not* compiled. Compile it manually.\n"
     ]
    },
    {
     "name": "stderr",
     "output_type": "stream",
     "text": [
      "C:\\Users\\user\\AppData\\Local\\Temp\\ipykernel_15880\\1834532127.py:15: DeprecationWarning: ANTIALIAS is deprecated and will be removed in Pillow 10 (2023-07-01). Use Resampling.LANCZOS instead.\n",
      "  image = ImageOps.fit(image, size, Image.ANTIALIAS)\n"
     ]
    },
    {
     "name": "stdout",
     "output_type": "stream",
     "text": [
      "1/1 [==============================] - 1s 562ms/step\n",
      "female\n",
      "1/1 [==============================] - 0s 30ms/step\n",
      "male\n",
      "1/1 [==============================] - 0s 26ms/step\n",
      "female\n",
      "1/1 [==============================] - 0s 30ms/step\n",
      "male\n",
      "1/1 [==============================] - 0s 28ms/step\n",
      "female\n",
      "1/1 [==============================] - 0s 38ms/step\n",
      "male\n",
      "1/1 [==============================] - 0s 30ms/step\n",
      "male\n",
      "1/1 [==============================] - 0s 36ms/step\n",
      "male\n",
      "1/1 [==============================] - 0s 34ms/step\n",
      "female\n"
     ]
    }
   ],
   "source": [
    "import cv2\n",
    "import numpy as np\n",
    "from keras.models import load_model\n",
    "from PIL import Image, ImageOps\n",
    "import matplotlib.pyplot as plt\n",
    "\n",
    "\n",
    "model = load_model('./keras_model.h5')\n",
    "data = np.ndarray(shape=(1, 224, 224, 3), dtype=np.float32)\n",
    "size = (224, 224)\n",
    "\n",
    "def modelP(imgArea):\n",
    "    image = Image.open(imgArea)\n",
    "    #늘리고 줄일 때 깨지는 거 보정\n",
    "    image = ImageOps.fit(image, size, Image.ANTIALIAS)\n",
    "    image_array = np.asarray(image)\n",
    "    normalized_image_array = (image_array.astype(np.float32) / 127.0) - 1\n",
    "    data[0] = normalized_image_array\n",
    "    prediction = model.predict(data)\n",
    "\n",
    "    class_name=['male','female']\n",
    "    txt=class_name[np.argmax(prediction)] + '==> male:' + str(prediction[0][0]*100) + '    female: ' +  str(prediction[0][1]*100)\n",
    "    txt=class_name[np.argmax(prediction)]\n",
    "\n",
    "    return txt\n",
    "\n",
    "\n",
    "\n",
    "# 얼굴 학습 데이터 로드\n",
    "face_cascade = cv2.CascadeClassifier('./haarcascade_frontalface_alt.xml')\n",
    "# 얼굴 인식\n",
    "img = cv2.imread('./groupimg.jpg')\n",
    "## 출력 이미지 크기 조절\n",
    "# w = int(img.shape[1]*0.7)\n",
    "# h = int(img.shape[0]*0.7)\n",
    "# img = cv2.resize(img, (w, h))\n",
    "faces = face_cascade.detectMultiScale(img, 1.1, 3)\n",
    "\n",
    "\n",
    "\n",
    "# 얼굴 인식 확인\n",
    "for x,y,w,h in faces:\n",
    "    x1 = x - 20\n",
    "    y1 = y - 20\n",
    "    x2 = x + w + 20\n",
    "    y2 = y + h + 20\n",
    "    if x1 < 0:\n",
    "        x1 = 0\n",
    "    elif x2 > img.shape[1]:\n",
    "        x2 = img.shape[1]\n",
    "    if y1 < 0:\n",
    "        y1 = 0\n",
    "    elif y2 > img.shape[0]:\n",
    "        y2 = img.shape[0]\n",
    "\n",
    "    face_array = img[y1:y2, x1:x2]\n",
    "    cv2.imwrite('tmp.jpg', face_array)\n",
    "    prediction = modelP('tmp.jpg')\n",
    "    print(prediction)\n",
    "    cv2.rectangle(img, (x1, y1), (x2, y2), (255, 0, 0), 2)\n",
    "    cv2.putText(img, prediction , (x1,y1-10), cv2.FONT_HERSHEY_SIMPLEX, 1, (255,0,0), 2)\n",
    "    \n",
    "\n",
    "cv2.imshow(\"test1\", img)\n",
    "cv2.waitKey()\n",
    "cv2.destroyAllWindows()"
   ]
  },
  {
   "cell_type": "code",
   "execution_count": null,
   "id": "34e7aceb",
   "metadata": {},
   "outputs": [],
   "source": []
  }
 ],
 "metadata": {
  "kernelspec": {
   "display_name": "Python 3 (ipykernel)",
   "language": "python",
   "name": "python3"
  },
  "language_info": {
   "codemirror_mode": {
    "name": "ipython",
    "version": 3
   },
   "file_extension": ".py",
   "mimetype": "text/x-python",
   "name": "python",
   "nbconvert_exporter": "python",
   "pygments_lexer": "ipython3",
   "version": "3.10.4"
  }
 },
 "nbformat": 4,
 "nbformat_minor": 5
}
