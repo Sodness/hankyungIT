{
 "cells": [
  {
   "cell_type": "code",
   "execution_count": 3,
   "id": "58366fb1",
   "metadata": {},
   "outputs": [
    {
     "name": "stderr",
     "output_type": "stream",
     "text": [
      "\n",
      "Usage:   \n",
      "  pip install [options] <requirement specifier> [package-index-options] ...\n",
      "  pip install [options] -r <requirements file> [package-index-options] ...\n",
      "  pip install [options] [-e] <vcs project url> ...\n",
      "  pip install [options] [-e] <local project path> ...\n",
      "  pip install [options] <archive url/path> ...\n",
      "\n",
      "no such option: --han\n"
     ]
    }
   ],
   "source": [
    "!pip install --user mediapipe"
   ]
  },
  {
   "cell_type": "code",
   "execution_count": 1,
   "id": "d1491d97",
   "metadata": {},
   "outputs": [],
   "source": [
    "import cv2\n",
    "import mediapipe as mp\n",
    "mp_face_detection = mp.solutions.face_detection\n",
    "mp_drawing = mp.solutions.drawing_utils\n",
    "\n",
    "\n",
    "# For webcam input:\n",
    "cap = cv2.VideoCapture('./face_video.mp4')\n",
    "# cap = cv2.VideoCapture(0)\n",
    "with mp_face_detection.FaceDetection(model_selection=1, min_detection_confidence=0.5) as face_detection:\n",
    "    while cap.isOpened():\n",
    "        success, image = cap.read()\n",
    "        if not success:\n",
    "            print(\"Ignoring empty camera frame.\")\n",
    "            # If loading a video, use 'break' instead of 'continue'.\n",
    "            break\n",
    "\n",
    "        # To improve performance, optionally mark the image as not writeable to\n",
    "        # pass by reference.\n",
    "        image.flags.writeable = False\n",
    "        image = cv2.cvtColor(image, cv2.COLOR_BGR2RGB)\n",
    "        results = face_detection.process(image)\n",
    "\n",
    "        # Draw the face detection annotations on the image.\n",
    "        image.flags.writeable = True\n",
    "        image = cv2.cvtColor(image, cv2.COLOR_RGB2BGR)\n",
    "        if results.detections:\n",
    "            for detection in results.detections:\n",
    "                mp_drawing.draw_detection(image, detection)\n",
    "        # Flip the image horizontally for a selfie-view display.\n",
    "        cv2.imshow('MediaPipe Face Detection', cv2.flip(image, 1))\n",
    "        if cv2.waitKey(5) & 0xFF == 27:\n",
    "            break\n",
    "cap.release()\n",
    "cv2.destroyAllWindows()"
   ]
  },
  {
   "cell_type": "code",
   "execution_count": 16,
   "id": "6aaf05b8",
   "metadata": {},
   "outputs": [
    {
     "data": {
      "text/plain": [
       "['__add__',\n",
       " '__class__',\n",
       " '__class_getitem__',\n",
       " '__contains__',\n",
       " '__delattr__',\n",
       " '__dir__',\n",
       " '__doc__',\n",
       " '__eq__',\n",
       " '__format__',\n",
       " '__ge__',\n",
       " '__getattribute__',\n",
       " '__getitem__',\n",
       " '__getnewargs__',\n",
       " '__gt__',\n",
       " '__hash__',\n",
       " '__init__',\n",
       " '__init_subclass__',\n",
       " '__iter__',\n",
       " '__le__',\n",
       " '__len__',\n",
       " '__lt__',\n",
       " '__match_args__',\n",
       " '__module__',\n",
       " '__mul__',\n",
       " '__ne__',\n",
       " '__new__',\n",
       " '__reduce__',\n",
       " '__reduce_ex__',\n",
       " '__repr__',\n",
       " '__rmul__',\n",
       " '__setattr__',\n",
       " '__sizeof__',\n",
       " '__slots__',\n",
       " '__str__',\n",
       " '__subclasshook__',\n",
       " '_asdict',\n",
       " '_field_defaults',\n",
       " '_fields',\n",
       " '_make',\n",
       " '_replace',\n",
       " 'count',\n",
       " 'detections',\n",
       " 'index']"
      ]
     },
     "execution_count": 16,
     "metadata": {},
     "output_type": "execute_result"
    }
   ],
   "source": [
    "dir(results)"
   ]
  },
  {
   "cell_type": "code",
   "execution_count": 17,
   "id": "89f970b0",
   "metadata": {},
   "outputs": [
    {
     "data": {
      "text/plain": [
       "<method 'count' of 'tuple' objects>"
      ]
     },
     "execution_count": 17,
     "metadata": {},
     "output_type": "execute_result"
    }
   ],
   "source": [
    "results.count"
   ]
  },
  {
   "cell_type": "code",
   "execution_count": 21,
   "id": "c063a763",
   "metadata": {},
   "outputs": [
    {
     "data": {
      "text/plain": [
       "[label_id: 0\n",
       " score: 0.8721649646759033\n",
       " location_data {\n",
       "   format: RELATIVE_BOUNDING_BOX\n",
       "   relative_bounding_box {\n",
       "     xmin: 0.45419439673423767\n",
       "     ymin: 0.4247134327888489\n",
       "     width: 0.27960631251335144\n",
       "     height: 0.3727993965148926\n",
       "   }\n",
       "   relative_keypoints {\n",
       "     x: 0.5418877601623535\n",
       "     y: 0.5359105467796326\n",
       "   }\n",
       "   relative_keypoints {\n",
       "     x: 0.6448405385017395\n",
       "     y: 0.5471468567848206\n",
       "   }\n",
       "   relative_keypoints {\n",
       "     x: 0.5874929428100586\n",
       "     y: 0.6205729842185974\n",
       "   }\n",
       "   relative_keypoints {\n",
       "     x: 0.5848852396011353\n",
       "     y: 0.6947913765907288\n",
       "   }\n",
       "   relative_keypoints {\n",
       "     x: 0.4849432110786438\n",
       "     y: 0.5743862986564636\n",
       "   }\n",
       "   relative_keypoints {\n",
       "     x: 0.7020848393440247\n",
       "     y: 0.5973579287528992\n",
       "   }\n",
       " }]"
      ]
     },
     "execution_count": 21,
     "metadata": {},
     "output_type": "execute_result"
    }
   ],
   "source": [
    "results.detections"
   ]
  },
  {
   "cell_type": "code",
   "execution_count": 22,
   "id": "2151524d",
   "metadata": {},
   "outputs": [
    {
     "data": {
      "text/plain": [
       "label_id: 0\n",
       "score: 0.8721649646759033\n",
       "location_data {\n",
       "  format: RELATIVE_BOUNDING_BOX\n",
       "  relative_bounding_box {\n",
       "    xmin: 0.45419439673423767\n",
       "    ymin: 0.4247134327888489\n",
       "    width: 0.27960631251335144\n",
       "    height: 0.3727993965148926\n",
       "  }\n",
       "  relative_keypoints {\n",
       "    x: 0.5418877601623535\n",
       "    y: 0.5359105467796326\n",
       "  }\n",
       "  relative_keypoints {\n",
       "    x: 0.6448405385017395\n",
       "    y: 0.5471468567848206\n",
       "  }\n",
       "  relative_keypoints {\n",
       "    x: 0.5874929428100586\n",
       "    y: 0.6205729842185974\n",
       "  }\n",
       "  relative_keypoints {\n",
       "    x: 0.5848852396011353\n",
       "    y: 0.6947913765907288\n",
       "  }\n",
       "  relative_keypoints {\n",
       "    x: 0.4849432110786438\n",
       "    y: 0.5743862986564636\n",
       "  }\n",
       "  relative_keypoints {\n",
       "    x: 0.7020848393440247\n",
       "    y: 0.5973579287528992\n",
       "  }\n",
       "}"
      ]
     },
     "execution_count": 22,
     "metadata": {},
     "output_type": "execute_result"
    }
   ],
   "source": [
    "results.detections[0]"
   ]
  },
  {
   "cell_type": "code",
   "execution_count": 23,
   "id": "0d92e684",
   "metadata": {},
   "outputs": [
    {
     "data": {
      "text/plain": [
       "format: RELATIVE_BOUNDING_BOX\n",
       "relative_bounding_box {\n",
       "  xmin: 0.45419439673423767\n",
       "  ymin: 0.4247134327888489\n",
       "  width: 0.27960631251335144\n",
       "  height: 0.3727993965148926\n",
       "}\n",
       "relative_keypoints {\n",
       "  x: 0.5418877601623535\n",
       "  y: 0.5359105467796326\n",
       "}\n",
       "relative_keypoints {\n",
       "  x: 0.6448405385017395\n",
       "  y: 0.5471468567848206\n",
       "}\n",
       "relative_keypoints {\n",
       "  x: 0.5874929428100586\n",
       "  y: 0.6205729842185974\n",
       "}\n",
       "relative_keypoints {\n",
       "  x: 0.5848852396011353\n",
       "  y: 0.6947913765907288\n",
       "}\n",
       "relative_keypoints {\n",
       "  x: 0.4849432110786438\n",
       "  y: 0.5743862986564636\n",
       "}\n",
       "relative_keypoints {\n",
       "  x: 0.7020848393440247\n",
       "  y: 0.5973579287528992\n",
       "}"
      ]
     },
     "execution_count": 23,
     "metadata": {},
     "output_type": "execute_result"
    }
   ],
   "source": [
    "results.detections[0].location_data"
   ]
  },
  {
   "cell_type": "code",
   "execution_count": 24,
   "id": "cd8ba555",
   "metadata": {},
   "outputs": [
    {
     "data": {
      "text/plain": [
       "xmin: 0.45419439673423767\n",
       "ymin: 0.4247134327888489\n",
       "width: 0.27960631251335144\n",
       "height: 0.3727993965148926"
      ]
     },
     "execution_count": 24,
     "metadata": {},
     "output_type": "execute_result"
    }
   ],
   "source": [
    "results.detections[0].location_data.relative_bounding_box"
   ]
  },
  {
   "cell_type": "code",
   "execution_count": 27,
   "id": "c93947c7",
   "metadata": {},
   "outputs": [
    {
     "data": {
      "text/plain": [
       "mediapipe.framework.formats.location_data_pb2.RelativeBoundingBox"
      ]
     },
     "execution_count": 27,
     "metadata": {},
     "output_type": "execute_result"
    }
   ],
   "source": [
    "type(results.detections[0].location_data.relative_bounding_box)"
   ]
  },
  {
   "cell_type": "code",
   "execution_count": 25,
   "id": "affa5eb0",
   "metadata": {},
   "outputs": [
    {
     "data": {
      "text/plain": [
       "0.45419439673423767"
      ]
     },
     "execution_count": 25,
     "metadata": {},
     "output_type": "execute_result"
    }
   ],
   "source": [
    "results.detections[0].location_data.relative_bounding_box.xmin"
   ]
  },
  {
   "cell_type": "code",
   "execution_count": 26,
   "id": "7f6dc466",
   "metadata": {},
   "outputs": [
    {
     "data": {
      "text/plain": [
       "0.4247134327888489"
      ]
     },
     "execution_count": 26,
     "metadata": {},
     "output_type": "execute_result"
    }
   ],
   "source": [
    "results.detections[0].location_data.relative_bounding_box.ymin"
   ]
  },
  {
   "cell_type": "code",
   "execution_count": 28,
   "id": "816b2d1b",
   "metadata": {},
   "outputs": [],
   "source": [
    "tmp = results.detections[0].location_data.relative_bounding_box"
   ]
  },
  {
   "cell_type": "code",
   "execution_count": 29,
   "id": "7328c3d3",
   "metadata": {},
   "outputs": [
    {
     "data": {
      "text/plain": [
       "0.45419439673423767"
      ]
     },
     "execution_count": 29,
     "metadata": {},
     "output_type": "execute_result"
    }
   ],
   "source": [
    "tmp.xmin"
   ]
  },
  {
   "cell_type": "code",
   "execution_count": 30,
   "id": "ad16d125",
   "metadata": {},
   "outputs": [
    {
     "data": {
      "text/plain": [
       "0.4247134327888489"
      ]
     },
     "execution_count": 30,
     "metadata": {},
     "output_type": "execute_result"
    }
   ],
   "source": [
    "tmp.ymin"
   ]
  },
  {
   "cell_type": "code",
   "execution_count": 19,
   "id": "2447d27d",
   "metadata": {},
   "outputs": [
    {
     "data": {
      "text/plain": [
       "<method 'index' of 'tuple' objects>"
      ]
     },
     "execution_count": 19,
     "metadata": {},
     "output_type": "execute_result"
    }
   ],
   "source": [
    "results.index"
   ]
  },
  {
   "cell_type": "code",
   "execution_count": 36,
   "id": "07ebbe8a",
   "metadata": {},
   "outputs": [
    {
     "name": "stdout",
     "output_type": "stream",
     "text": [
      "Ignoring empty camera frame.\n"
     ]
    }
   ],
   "source": [
    "import cv2\n",
    "import mediapipe as mp\n",
    "\n",
    "# 얼굴 찾고, 특징 표시\n",
    "mp_face_detection = mp.solutions.face_detection #얼굴 검출\n",
    "mp_drawing = mp.solutions.drawing_utils # 얼굴 특징 표시\n",
    "\n",
    "# For webcam input:\n",
    "cap = cv2.VideoCapture('./face_video.mp4')\n",
    "# model_selection=0 -> 2m 내, model_selection=1 -> 5m 내\n",
    "with mp_face_detection.FaceDetection(model_selection=0, min_detection_confidence=0.5) as face_detection:\n",
    "      while cap.isOpened():\n",
    "        success, image = cap.read()\n",
    "        if not success:\n",
    "            print(\"Ignoring empty camera frame.\")\n",
    "            # If loading a video, use 'break' instead of 'continue'.\n",
    "            break\n",
    "\n",
    "        # To improve performance, optionally mark the image as not writeable to\n",
    "        # pass by reference.\n",
    "        image.flags.writeable = False\n",
    "        image = cv2.cvtColor(image, cv2.COLOR_BGR2RGB)\n",
    "        results = face_detection.process(image)\n",
    "\n",
    "        # Draw the face detection annotations on the image.\n",
    "        image.flags.writeable = True\n",
    "        image = cv2.cvtColor(image, cv2.COLOR_RGB2BGR)\n",
    "        if results.detections:\n",
    "            for detection in results.detections:\n",
    "                #mp_drawing.draw_detection(image, detection)\n",
    "                #######################################################################################################\n",
    "                # detdection 정보 확인\n",
    "                # - 얼굴 경계 상자(relative_bounding_box)\n",
    "                # - 6개의 특징 축출(relative_keypoints): 오른쪽 눈, 왼쪽 눈, 코끝, 입 중심, 오른쪽 귀, 왼쪽 귀\n",
    "                # print(detection) # 전체 detection 확인\n",
    "                # print(detection.location_data.relative_bounding_box) # 얼굴 경계 박스 확인\n",
    "                # print(detection.location_data.relative_keypoints) # (왼쪽 눈, 코끝, 입 중심, 오른쪽 귀, 왼쪽 귀) 리스트로 반환\n",
    "                # print(detection.location_data.relative_keypoints)[0] # 왼쪽 눈 반환\n",
    "                #\n",
    "                # [참고]\n",
    "                # 경계 상자는 xminand width(둘 다 [0.0, 1.0]이미지 너비로 정규화됨) 및 yminand height(둘 다 [0.0, 1.0]이미지 높이로 정규화됨) \n",
    "                # 각 키 포인트는 이미지 너비와 높이로 각각 정규화되는 x및 로 구성됩니다.y[0.0, 1.0]\n",
    "                #######################################################################################################\n",
    "                \n",
    "                #특정 위치 가져오기 (오른쪽 눈, 왼쪽 눈, 코끝 )\n",
    "                keypoints=detection.location_data.relative_keypoints\n",
    "                right_eye= keypoints[0] #오른쪽 눈\n",
    "                left_eye=keypoints[1] #왼쪽 눈\n",
    "                \n",
    "                # 이미지 전체 크기를 바탕으로  실제 좌표로 반환함\n",
    "                h, w, _=image.shape \n",
    "                right_eye=(int(right_eye.x*w), int(right_eye.y*h)) # 이미지 내의 실제 좌표로 변환\n",
    "                left_eye=(int(left_eye.x*w),int(left_eye.y*h))\n",
    "                \n",
    "                # 양 눈에 동그라미 그리기\n",
    "#                 cv2.circle(image,right_eye,20,(255,0,0),2,cv2.LINE_AA) #파란색\n",
    "#                 cv2.circle(image,left_eye,20,(0,0,255),2,cv2.LINE_AA) #빨강색\n",
    "\n",
    "                # 코에 동그라미 그리기\n",
    "                nose = keypoints[2]\n",
    "                nose = (int(nose.x*w), int(nose.y*h))\n",
    "                cv2.circle(image, nose, 20, (255,0,0), 2, cv2.LINE_AA)\n",
    "                \n",
    "                \n",
    "        # Flip the image horizontally for a selfie-view display.\n",
    "        cv2.imshow('MediaPipe Face Detection', cv2.flip(image, 1))\n",
    "        if cv2.waitKey(5) & 0xFF == ord('q'):\n",
    "            break\n",
    "cap.release()\n",
    "cv2.destroyAllWindows()"
   ]
  },
  {
   "cell_type": "code",
   "execution_count": null,
   "id": "a97dc8c4",
   "metadata": {},
   "outputs": [],
   "source": []
  }
 ],
 "metadata": {
  "kernelspec": {
   "display_name": "Python 3.10.4 ('han')",
   "language": "python",
   "name": "python3"
  },
  "language_info": {
   "codemirror_mode": {
    "name": "ipython",
    "version": 3
   },
   "file_extension": ".py",
   "mimetype": "text/x-python",
   "name": "python",
   "nbconvert_exporter": "python",
   "pygments_lexer": "ipython3",
   "version": "3.10.4"
  },
  "vscode": {
   "interpreter": {
    "hash": "9ffd841040af6bedd50cabf1584399d13f777232c008d7c4ad470663779a547a"
   }
  }
 },
 "nbformat": 4,
 "nbformat_minor": 5
}
