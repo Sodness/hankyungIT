{
 "cells": [
  {
   "cell_type": "code",
   "execution_count": 2,
   "id": "9fb59614",
   "metadata": {},
   "outputs": [],
   "source": [
    "import cv2\n",
    "import mediapipe as mp\n",
    "mp_face_detection = mp.solutions.face_detection\n",
    "mp_drawing = mp.solutions.drawing_utils\n",
    "\n",
    "\n",
    "# For webcam input:\n",
    "# cap = cv2.VideoCapture('./face_video.mp4')\n",
    "cap = cv2.VideoCapture(0)\n",
    "with mp_face_detection.FaceDetection(model_selection=1, min_detection_confidence=0.5) as face_detection:\n",
    "    while cap.isOpened():\n",
    "        success, image = cap.read()\n",
    "        if not success:\n",
    "            print(\"Ignoring empty camera frame.\")\n",
    "            # If loading a video, use 'break' instead of 'continue'.\n",
    "            break\n",
    "\n",
    "        # To improve performance, optionally mark the image as not writeable to\n",
    "        # pass by reference.\n",
    "        image.flags.writeable = False\n",
    "        image = cv2.cvtColor(image, cv2.COLOR_BGR2RGB)\n",
    "        results = face_detection.process(image)\n",
    "\n",
    "        # Draw the face detection annotations on the image.\n",
    "        image.flags.writeable = True\n",
    "        image = cv2.cvtColor(image, cv2.COLOR_RGB2BGR)\n",
    "        if results.detections:\n",
    "            for detection in results.detections:\n",
    "                mp_drawing.draw_detection(image, detection)\n",
    "        # Flip the image horizontally for a selfie-view display.\n",
    "        cv2.imshow('MediaPipe Face Detection', cv2.flip(image, 1))\n",
    "        if cv2.waitKey(5) & 0xFF == 27:\n",
    "            break\n",
    "cap.release()\n",
    "cv2.destroyAllWindows()"
   ]
  },
  {
   "cell_type": "code",
   "execution_count": 3,
   "id": "8c2a0c7f",
   "metadata": {},
   "outputs": [
    {
     "data": {
      "text/plain": [
       "[label_id: 0\n",
       " score: 0.6653368473052979\n",
       " location_data {\n",
       "   format: RELATIVE_BOUNDING_BOX\n",
       "   relative_bounding_box {\n",
       "     xmin: 0.37082645297050476\n",
       "     ymin: 0.29291975498199463\n",
       "     width: 0.37887653708457947\n",
       "     height: 0.5051470994949341\n",
       "   }\n",
       "   relative_keypoints {\n",
       "     x: 0.4835694134235382\n",
       "     y: 0.47882896661758423\n",
       "   }\n",
       "   relative_keypoints {\n",
       "     x: 0.6349602341651917\n",
       "     y: 0.46515315771102905\n",
       "   }\n",
       "   relative_keypoints {\n",
       "     x: 0.5651872158050537\n",
       "     y: 0.6046337485313416\n",
       "   }\n",
       "   relative_keypoints {\n",
       "     x: 0.5642239451408386\n",
       "     y: 0.6912925839424133\n",
       "   }\n",
       "   relative_keypoints {\n",
       "     x: 0.40054839849472046\n",
       "     y: 0.5054004192352295\n",
       "   }\n",
       "   relative_keypoints {\n",
       "     x: 0.704706609249115\n",
       "     y: 0.4860385060310364\n",
       "   }\n",
       " }]"
      ]
     },
     "execution_count": 3,
     "metadata": {},
     "output_type": "execute_result"
    }
   ],
   "source": [
    "results.detections"
   ]
  },
  {
   "cell_type": "code",
   "execution_count": null,
   "id": "ad3bf838",
   "metadata": {},
   "outputs": [],
   "source": [
    "# - 6개의 특징 축출(relative_keypoints): 오른쪽 눈, 왼쪽 눈, 코끝, 입 중심, 오른쪽 귀, 왼쪽 귀"
   ]
  },
  {
   "cell_type": "code",
   "execution_count": 4,
   "id": "7f5193ee",
   "metadata": {},
   "outputs": [
    {
     "data": {
      "text/plain": [
       "[x: 0.4835694134235382\n",
       "y: 0.47882896661758423\n",
       ", x: 0.6349602341651917\n",
       "y: 0.46515315771102905\n",
       ", x: 0.5651872158050537\n",
       "y: 0.6046337485313416\n",
       ", x: 0.5642239451408386\n",
       "y: 0.6912925839424133\n",
       ", x: 0.40054839849472046\n",
       "y: 0.5054004192352295\n",
       ", x: 0.704706609249115\n",
       "y: 0.4860385060310364\n",
       "]"
      ]
     },
     "execution_count": 4,
     "metadata": {},
     "output_type": "execute_result"
    }
   ],
   "source": [
    "results.detections[0].location_data.relative_keypoints"
   ]
  },
  {
   "cell_type": "code",
   "execution_count": 5,
   "id": "752efc31",
   "metadata": {},
   "outputs": [
    {
     "data": {
      "text/plain": [
       "x: 0.4835694134235382\n",
       "y: 0.47882896661758423"
      ]
     },
     "execution_count": 5,
     "metadata": {},
     "output_type": "execute_result"
    }
   ],
   "source": [
    "results.detections[0].location_data.relative_keypoints[0]"
   ]
  },
  {
   "cell_type": "code",
   "execution_count": 8,
   "id": "a2f61b58",
   "metadata": {},
   "outputs": [
    {
     "data": {
      "text/plain": [
       "0.4835694134235382"
      ]
     },
     "execution_count": 8,
     "metadata": {},
     "output_type": "execute_result"
    }
   ],
   "source": [
    "results.detections[0].location_data.relative_keypoints[0].x"
   ]
  },
  {
   "cell_type": "code",
   "execution_count": 9,
   "id": "e10c8655",
   "metadata": {},
   "outputs": [
    {
     "data": {
      "text/plain": [
       "label_id: 0\n",
       "score: 0.6653368473052979\n",
       "location_data {\n",
       "  format: RELATIVE_BOUNDING_BOX\n",
       "  relative_bounding_box {\n",
       "    xmin: 0.37082645297050476\n",
       "    ymin: 0.29291975498199463\n",
       "    width: 0.37887653708457947\n",
       "    height: 0.5051470994949341\n",
       "  }\n",
       "  relative_keypoints {\n",
       "    x: 0.4835694134235382\n",
       "    y: 0.47882896661758423\n",
       "  }\n",
       "  relative_keypoints {\n",
       "    x: 0.6349602341651917\n",
       "    y: 0.46515315771102905\n",
       "  }\n",
       "  relative_keypoints {\n",
       "    x: 0.5651872158050537\n",
       "    y: 0.6046337485313416\n",
       "  }\n",
       "  relative_keypoints {\n",
       "    x: 0.5642239451408386\n",
       "    y: 0.6912925839424133\n",
       "  }\n",
       "  relative_keypoints {\n",
       "    x: 0.40054839849472046\n",
       "    y: 0.5054004192352295\n",
       "  }\n",
       "  relative_keypoints {\n",
       "    x: 0.704706609249115\n",
       "    y: 0.4860385060310364\n",
       "  }\n",
       "}"
      ]
     },
     "execution_count": 9,
     "metadata": {},
     "output_type": "execute_result"
    }
   ],
   "source": [
    "results.detections[0]"
   ]
  },
  {
   "cell_type": "code",
   "execution_count": 10,
   "id": "c92206eb",
   "metadata": {},
   "outputs": [
    {
     "data": {
      "text/plain": [
       "format: RELATIVE_BOUNDING_BOX\n",
       "relative_bounding_box {\n",
       "  xmin: 0.37082645297050476\n",
       "  ymin: 0.29291975498199463\n",
       "  width: 0.37887653708457947\n",
       "  height: 0.5051470994949341\n",
       "}\n",
       "relative_keypoints {\n",
       "  x: 0.4835694134235382\n",
       "  y: 0.47882896661758423\n",
       "}\n",
       "relative_keypoints {\n",
       "  x: 0.6349602341651917\n",
       "  y: 0.46515315771102905\n",
       "}\n",
       "relative_keypoints {\n",
       "  x: 0.5651872158050537\n",
       "  y: 0.6046337485313416\n",
       "}\n",
       "relative_keypoints {\n",
       "  x: 0.5642239451408386\n",
       "  y: 0.6912925839424133\n",
       "}\n",
       "relative_keypoints {\n",
       "  x: 0.40054839849472046\n",
       "  y: 0.5054004192352295\n",
       "}\n",
       "relative_keypoints {\n",
       "  x: 0.704706609249115\n",
       "  y: 0.4860385060310364\n",
       "}"
      ]
     },
     "execution_count": 10,
     "metadata": {},
     "output_type": "execute_result"
    }
   ],
   "source": [
    "results.detections[0].location_data"
   ]
  },
  {
   "cell_type": "code",
   "execution_count": 11,
   "id": "9bb0591b",
   "metadata": {},
   "outputs": [
    {
     "data": {
      "text/plain": [
       "xmin: 0.37082645297050476\n",
       "ymin: 0.29291975498199463\n",
       "width: 0.37887653708457947\n",
       "height: 0.5051470994949341"
      ]
     },
     "execution_count": 11,
     "metadata": {},
     "output_type": "execute_result"
    }
   ],
   "source": [
    "results.detections[0].location_data.relative_bounding_box"
   ]
  },
  {
   "cell_type": "code",
   "execution_count": 12,
   "id": "6fefc27d",
   "metadata": {},
   "outputs": [
    {
     "data": {
      "text/plain": [
       "0.37082645297050476"
      ]
     },
     "execution_count": 12,
     "metadata": {},
     "output_type": "execute_result"
    }
   ],
   "source": [
    "results.detections[0].location_data.relative_bounding_box.xmin"
   ]
  },
  {
   "cell_type": "code",
   "execution_count": null,
   "id": "2f816dbc",
   "metadata": {},
   "outputs": [],
   "source": []
  }
 ],
 "metadata": {
  "kernelspec": {
   "display_name": "Python 3.10.4 ('han')",
   "language": "python",
   "name": "python3"
  },
  "language_info": {
   "codemirror_mode": {
    "name": "ipython",
    "version": 3
   },
   "file_extension": ".py",
   "mimetype": "text/x-python",
   "name": "python",
   "nbconvert_exporter": "python",
   "pygments_lexer": "ipython3",
   "version": "3.10.4"
  },
  "vscode": {
   "interpreter": {
    "hash": "9ffd841040af6bedd50cabf1584399d13f777232c008d7c4ad470663779a547a"
   }
  }
 },
 "nbformat": 4,
 "nbformat_minor": 5
}
