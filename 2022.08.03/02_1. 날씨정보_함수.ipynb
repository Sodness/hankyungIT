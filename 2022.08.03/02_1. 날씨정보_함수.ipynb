{
 "cells": [
  {
   "cell_type": "code",
   "execution_count": 6,
   "id": "787aa8ef",
   "metadata": {},
   "outputs": [],
   "source": [
    "import requests\n",
    "from bs4 import BeautifulSoup as bs\n",
    "import pandas as pd\n",
    "import json\n",
    "\n",
    "def connect(s_date,e_date,code):\n",
    "    인증키=\"Jid5jJfVfwuc7brfbSDE6yxusvhmIOTMmmZE%2F%2F%2B2YdeSPIAoRpSnof9qpb5OSeEpyvP8xnb6AO4V7kXVEJFPEQ%3D%3D\"\n",
    "    시작일=s_date\n",
    "    종료일=e_date\n",
    "    지점코드=code\n",
    "    url = \"http://apis.data.go.kr/1360000/AsosDalyInfoService/getWthrDataList?serviceKey=\"\n",
    "    url = url + 인증키\n",
    "    url = url + \"&pageNo=1&dataCd=ASOS&dateCd=DAY&dataType=JSON\"\n",
    "    url = url + \"&numOfRows=999\"\n",
    "    url = url + \"&startDt=\" + str(시작일) + \"&endDt=\" + str(종료일)\n",
    "    url = url + \"&stnIds=\" + str(지점코드)\n",
    "\n",
    "    response=requests.get(url)\n",
    "    \n",
    "    return response\n",
    "    \n",
    "#층정 지점 코드 확인\n",
    "def find_code(name='서울'):\n",
    "    try:\n",
    "        df=pd.read_csv('./data/기상청_지역코드.csv',encoding='cp949')\n",
    "        code=int(df['지점'][df['지점명']==name])\n",
    "    except:\n",
    "        print('해당지역이 없습니다')\n",
    "        return\n",
    "    else:\n",
    "        return code\n",
    "  \n",
    "    \n",
    "    \n",
    "def get_weather(s_date,e_date,code):\n",
    "    f_code=find_code(code)\n",
    "    if f_code==None:\n",
    "        return\n",
    "    \n",
    "    response=connect(s_date,e_date,f_code)\n",
    "    \n",
    "    json_obj=json.loads(response.text)\n",
    "\n",
    "    items=json_obj['response']['body']['items']['item']\n",
    "\n",
    "    df=pd.DataFrame(items)\n",
    "    \n",
    "    df1=df[['stnNm', 'tm', 'avgTa', 'minTa', 'maxTa', 'sumRn', 'maxWs', 'avgWs']]\n",
    "    df1.columns=['지점명', '일시', '평균기온', '최저기온', '최고기온', '일일강수량', '최대풍속', '평균풍속']\n",
    "    return df1\n",
    "\n",
    "if __name__=='__main__':\n",
    "    data=get_weather(20220101,20220601,'서울')\n",
    "    display(data)"
   ]
  },
  {
   "cell_type": "code",
   "execution_count": null,
   "id": "d8cbbced",
   "metadata": {},
   "outputs": [],
   "source": []
  }
 ],
 "metadata": {
  "kernelspec": {
   "display_name": "Python 3 (ipykernel)",
   "language": "python",
   "name": "python3"
  },
  "language_info": {
   "codemirror_mode": {
    "name": "ipython",
    "version": 3
   },
   "file_extension": ".py",
   "mimetype": "text/x-python",
   "name": "python",
   "nbconvert_exporter": "python",
   "pygments_lexer": "ipython3",
   "version": "3.9.12"
  }
 },
 "nbformat": 4,
 "nbformat_minor": 5
}
