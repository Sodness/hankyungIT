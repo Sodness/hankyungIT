{
 "cells": [
  {
   "cell_type": "code",
   "execution_count": 3,
   "id": "dfbba004",
   "metadata": {},
   "outputs": [],
   "source": [
    "import requests\n",
    "from bs4 import BeautifulSoup as bs\n",
    "import pandas as pd\n",
    "import warnings\n",
    "warnings.filterwarnings('ignore')\n",
    "\n",
    "def connect(date):\n",
    "    key='486a45724e686a6b36306e656e5078'          #부여받은 인증키 지정\n",
    "    date=str(date)                                #date는 i 라는 int형에서 문자열로 변환하여 지정\n",
    "    url1='http://openapi.seoul.go.kr:8088/'+key   #url1에 키 값까지\n",
    "    url2='/xml/CardSubwayStatsNew/1/1000/'+date   #url2에 date 값까지\n",
    "    url=url1+url2                                 #url1과 url2가 합쳐진 url 생성\n",
    "    xml=requests.get(url)                         #xml 변수에 request.get(url) 을 지정\n",
    "    if xml.status_code != 200:\n",
    "        print('연결실패')\n",
    "        return\n",
    "    return xml\n",
    "\n",
    "def subway_p(date):\n",
    "    xml = connect(date)\n",
    "    if xml == None:\n",
    "        return\n",
    "    \n",
    "    soup=bs(xml.text,'html.parser')               #soup 변수에 bs함수로 xml을 html 해석기를 사용헤 text만 불러옴\n",
    "    items=soup.find_all('row')                    #items 변수에 r각 row안의 값들을 지정\n",
    "    ls=['use_dt','line_num','sub_sta_nm','ride_pasgr_num','alight_pasgr_num','work_dt'] #ls에 가져올 row열 이름들 지정\n",
    "\n",
    "    res=[]                                        #res 빈 리스트 생성\n",
    "    for item in items:                           #items 중에 item만큼 실행\n",
    "        dt={}                                      #dt 빈 딕셔너리 생성\n",
    "        for j in ls:                               # ls 중에 j만큼 실행\n",
    "            try:                                     #우선 실행\n",
    "                dt[j]=item.find(j).text              #j에 해당하는 열의 행값들을 text만 가져옴\n",
    "            except:                                 #실행 실패시\n",
    "                dt[j]=None                          #dt[j] 리스트에 'None'값 반환\n",
    "        res.append(dt)                            #dt 딕셔너리가 완성되면 res 리스트에 전송\n",
    "\n",
    "    df=pd.DataFrame(res)                          #판다스 데이터프레임 기능으로 res 리스트를 df로 지정 \n",
    "    return df\n",
    "\n",
    "if __name__ == '__main__':\n",
    "    df = subway_p('20220730')\n",
    "    display(df)"
   ]
  },
  {
   "cell_type": "code",
   "execution_count": null,
   "id": "2fd8b959",
   "metadata": {},
   "outputs": [],
   "source": []
  }
 ],
 "metadata": {
  "kernelspec": {
   "display_name": "Python 3 (ipykernel)",
   "language": "python",
   "name": "python3"
  },
  "language_info": {
   "codemirror_mode": {
    "name": "ipython",
    "version": 3
   },
   "file_extension": ".py",
   "mimetype": "text/x-python",
   "name": "python",
   "nbconvert_exporter": "python",
   "pygments_lexer": "ipython3",
   "version": "3.9.12"
  }
 },
 "nbformat": 4,
 "nbformat_minor": 5
}
