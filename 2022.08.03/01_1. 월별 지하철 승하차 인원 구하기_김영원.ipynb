{
 "cells": [
  {
   "cell_type": "code",
   "execution_count": 13,
   "id": "2ff996f9",
   "metadata": {},
   "outputs": [],
   "source": [
    "import subway_p as sb\n",
    "import pandas as pd\n",
    "import glob"
   ]
  },
  {
   "cell_type": "code",
   "execution_count": 7,
   "id": "dde2beb7",
   "metadata": {},
   "outputs": [
    {
     "data": {
      "text/plain": [
       "['__builtins__',\n",
       " '__cached__',\n",
       " '__doc__',\n",
       " '__file__',\n",
       " '__loader__',\n",
       " '__name__',\n",
       " '__package__',\n",
       " '__spec__',\n",
       " 'bs',\n",
       " 'connect',\n",
       " 'pd',\n",
       " 'requests',\n",
       " 'subway_p',\n",
       " 'warnings']"
      ]
     },
     "execution_count": 7,
     "metadata": {},
     "output_type": "execute_result"
    }
   ],
   "source": [
    "dir(sb)"
   ]
  },
  {
   "cell_type": "code",
   "execution_count": 8,
   "id": "7cb36402",
   "metadata": {},
   "outputs": [
    {
     "data": {
      "text/html": [
       "<div>\n",
       "<style scoped>\n",
       "    .dataframe tbody tr th:only-of-type {\n",
       "        vertical-align: middle;\n",
       "    }\n",
       "\n",
       "    .dataframe tbody tr th {\n",
       "        vertical-align: top;\n",
       "    }\n",
       "\n",
       "    .dataframe thead th {\n",
       "        text-align: right;\n",
       "    }\n",
       "</style>\n",
       "<table border=\"1\" class=\"dataframe\">\n",
       "  <thead>\n",
       "    <tr style=\"text-align: right;\">\n",
       "      <th></th>\n",
       "      <th>use_dt</th>\n",
       "      <th>line_num</th>\n",
       "      <th>sub_sta_nm</th>\n",
       "      <th>ride_pasgr_num</th>\n",
       "      <th>alight_pasgr_num</th>\n",
       "      <th>work_dt</th>\n",
       "    </tr>\n",
       "  </thead>\n",
       "  <tbody>\n",
       "    <tr>\n",
       "      <th>0</th>\n",
       "      <td>20220730</td>\n",
       "      <td>1호선</td>\n",
       "      <td>서울역</td>\n",
       "      <td>35541</td>\n",
       "      <td>36777</td>\n",
       "      <td>20220802</td>\n",
       "    </tr>\n",
       "    <tr>\n",
       "      <th>1</th>\n",
       "      <td>20220730</td>\n",
       "      <td>1호선</td>\n",
       "      <td>시청</td>\n",
       "      <td>11608</td>\n",
       "      <td>11825</td>\n",
       "      <td>20220802</td>\n",
       "    </tr>\n",
       "    <tr>\n",
       "      <th>2</th>\n",
       "      <td>20220730</td>\n",
       "      <td>1호선</td>\n",
       "      <td>종각</td>\n",
       "      <td>18938</td>\n",
       "      <td>18665</td>\n",
       "      <td>20220802</td>\n",
       "    </tr>\n",
       "    <tr>\n",
       "      <th>3</th>\n",
       "      <td>20220730</td>\n",
       "      <td>1호선</td>\n",
       "      <td>종로3가</td>\n",
       "      <td>19952</td>\n",
       "      <td>19222</td>\n",
       "      <td>20220802</td>\n",
       "    </tr>\n",
       "    <tr>\n",
       "      <th>4</th>\n",
       "      <td>20220730</td>\n",
       "      <td>1호선</td>\n",
       "      <td>종로5가</td>\n",
       "      <td>16778</td>\n",
       "      <td>16854</td>\n",
       "      <td>20220802</td>\n",
       "    </tr>\n",
       "    <tr>\n",
       "      <th>...</th>\n",
       "      <td>...</td>\n",
       "      <td>...</td>\n",
       "      <td>...</td>\n",
       "      <td>...</td>\n",
       "      <td>...</td>\n",
       "      <td>...</td>\n",
       "    </tr>\n",
       "    <tr>\n",
       "      <th>600</th>\n",
       "      <td>20220730</td>\n",
       "      <td>중앙선</td>\n",
       "      <td>오빈</td>\n",
       "      <td>289</td>\n",
       "      <td>306</td>\n",
       "      <td>20220802</td>\n",
       "    </tr>\n",
       "    <tr>\n",
       "      <th>601</th>\n",
       "      <td>20220730</td>\n",
       "      <td>중앙선</td>\n",
       "      <td>양평</td>\n",
       "      <td>2700</td>\n",
       "      <td>3058</td>\n",
       "      <td>20220802</td>\n",
       "    </tr>\n",
       "    <tr>\n",
       "      <th>602</th>\n",
       "      <td>20220730</td>\n",
       "      <td>중앙선</td>\n",
       "      <td>원덕</td>\n",
       "      <td>402</td>\n",
       "      <td>435</td>\n",
       "      <td>20220802</td>\n",
       "    </tr>\n",
       "    <tr>\n",
       "      <th>603</th>\n",
       "      <td>20220730</td>\n",
       "      <td>중앙선</td>\n",
       "      <td>용문</td>\n",
       "      <td>4381</td>\n",
       "      <td>4938</td>\n",
       "      <td>20220802</td>\n",
       "    </tr>\n",
       "    <tr>\n",
       "      <th>604</th>\n",
       "      <td>20220730</td>\n",
       "      <td>중앙선</td>\n",
       "      <td>지평</td>\n",
       "      <td>74</td>\n",
       "      <td>103</td>\n",
       "      <td>20220802</td>\n",
       "    </tr>\n",
       "  </tbody>\n",
       "</table>\n",
       "<p>605 rows × 6 columns</p>\n",
       "</div>"
      ],
      "text/plain": [
       "       use_dt line_num sub_sta_nm ride_pasgr_num alight_pasgr_num   work_dt\n",
       "0    20220730      1호선        서울역          35541            36777  20220802\n",
       "1    20220730      1호선         시청          11608            11825  20220802\n",
       "2    20220730      1호선         종각          18938            18665  20220802\n",
       "3    20220730      1호선       종로3가          19952            19222  20220802\n",
       "4    20220730      1호선       종로5가          16778            16854  20220802\n",
       "..        ...      ...        ...            ...              ...       ...\n",
       "600  20220730      중앙선         오빈            289              306  20220802\n",
       "601  20220730      중앙선         양평           2700             3058  20220802\n",
       "602  20220730      중앙선         원덕            402              435  20220802\n",
       "603  20220730      중앙선         용문           4381             4938  20220802\n",
       "604  20220730      중앙선         지평             74              103  20220802\n",
       "\n",
       "[605 rows x 6 columns]"
      ]
     },
     "execution_count": 8,
     "metadata": {},
     "output_type": "execute_result"
    }
   ],
   "source": [
    "sb.subway_p('20220730')"
   ]
  },
  {
   "cell_type": "code",
   "execution_count": 11,
   "id": "b207bcb5",
   "metadata": {},
   "outputs": [],
   "source": [
    "# 문제1 20220601 ~ 20220630 => 지하철 폴더 만들어서 일자별로 저장\n",
    "\n",
    "for i in range(20220601, 20220631):\n",
    "    df = sb.subway_p(i)\n",
    "    df.to_csv(f'./지하철/{i}.csv', encoding='euc-kr')"
   ]
  },
  {
   "cell_type": "code",
   "execution_count": 32,
   "id": "093dda61",
   "metadata": {},
   "outputs": [
    {
     "data": {
      "text/html": [
       "<div>\n",
       "<style scoped>\n",
       "    .dataframe tbody tr th:only-of-type {\n",
       "        vertical-align: middle;\n",
       "    }\n",
       "\n",
       "    .dataframe tbody tr th {\n",
       "        vertical-align: top;\n",
       "    }\n",
       "\n",
       "    .dataframe thead th {\n",
       "        text-align: right;\n",
       "    }\n",
       "</style>\n",
       "<table border=\"1\" class=\"dataframe\">\n",
       "  <thead>\n",
       "    <tr style=\"text-align: right;\">\n",
       "      <th></th>\n",
       "      <th>Unnamed: 0</th>\n",
       "      <th>use_dt</th>\n",
       "      <th>line_num</th>\n",
       "      <th>sub_sta_nm</th>\n",
       "      <th>ride_pasgr_num</th>\n",
       "      <th>alight_pasgr_num</th>\n",
       "      <th>work_dt</th>\n",
       "    </tr>\n",
       "  </thead>\n",
       "  <tbody>\n",
       "    <tr>\n",
       "      <th>0</th>\n",
       "      <td>0</td>\n",
       "      <td>20220601</td>\n",
       "      <td>1호선</td>\n",
       "      <td>서울역</td>\n",
       "      <td>26040</td>\n",
       "      <td>25835</td>\n",
       "      <td>20220604</td>\n",
       "    </tr>\n",
       "    <tr>\n",
       "      <th>1</th>\n",
       "      <td>1</td>\n",
       "      <td>20220601</td>\n",
       "      <td>1호선</td>\n",
       "      <td>시청</td>\n",
       "      <td>10235</td>\n",
       "      <td>10086</td>\n",
       "      <td>20220604</td>\n",
       "    </tr>\n",
       "    <tr>\n",
       "      <th>2</th>\n",
       "      <td>2</td>\n",
       "      <td>20220601</td>\n",
       "      <td>1호선</td>\n",
       "      <td>종각</td>\n",
       "      <td>17948</td>\n",
       "      <td>15679</td>\n",
       "      <td>20220604</td>\n",
       "    </tr>\n",
       "    <tr>\n",
       "      <th>3</th>\n",
       "      <td>3</td>\n",
       "      <td>20220601</td>\n",
       "      <td>1호선</td>\n",
       "      <td>종로3가</td>\n",
       "      <td>21148</td>\n",
       "      <td>18271</td>\n",
       "      <td>20220604</td>\n",
       "    </tr>\n",
       "    <tr>\n",
       "      <th>4</th>\n",
       "      <td>4</td>\n",
       "      <td>20220601</td>\n",
       "      <td>1호선</td>\n",
       "      <td>종로5가</td>\n",
       "      <td>19108</td>\n",
       "      <td>18748</td>\n",
       "      <td>20220604</td>\n",
       "    </tr>\n",
       "    <tr>\n",
       "      <th>...</th>\n",
       "      <td>...</td>\n",
       "      <td>...</td>\n",
       "      <td>...</td>\n",
       "      <td>...</td>\n",
       "      <td>...</td>\n",
       "      <td>...</td>\n",
       "      <td>...</td>\n",
       "    </tr>\n",
       "    <tr>\n",
       "      <th>601</th>\n",
       "      <td>601</td>\n",
       "      <td>20220630</td>\n",
       "      <td>중앙선</td>\n",
       "      <td>오빈</td>\n",
       "      <td>289</td>\n",
       "      <td>268</td>\n",
       "      <td>20220703</td>\n",
       "    </tr>\n",
       "    <tr>\n",
       "      <th>602</th>\n",
       "      <td>602</td>\n",
       "      <td>20220630</td>\n",
       "      <td>중앙선</td>\n",
       "      <td>양평</td>\n",
       "      <td>2404</td>\n",
       "      <td>2364</td>\n",
       "      <td>20220703</td>\n",
       "    </tr>\n",
       "    <tr>\n",
       "      <th>603</th>\n",
       "      <td>603</td>\n",
       "      <td>20220630</td>\n",
       "      <td>중앙선</td>\n",
       "      <td>원덕</td>\n",
       "      <td>301</td>\n",
       "      <td>299</td>\n",
       "      <td>20220703</td>\n",
       "    </tr>\n",
       "    <tr>\n",
       "      <th>604</th>\n",
       "      <td>604</td>\n",
       "      <td>20220630</td>\n",
       "      <td>중앙선</td>\n",
       "      <td>용문</td>\n",
       "      <td>1694</td>\n",
       "      <td>1719</td>\n",
       "      <td>20220703</td>\n",
       "    </tr>\n",
       "    <tr>\n",
       "      <th>605</th>\n",
       "      <td>605</td>\n",
       "      <td>20220630</td>\n",
       "      <td>중앙선</td>\n",
       "      <td>지평</td>\n",
       "      <td>55</td>\n",
       "      <td>77</td>\n",
       "      <td>20220703</td>\n",
       "    </tr>\n",
       "  </tbody>\n",
       "</table>\n",
       "<p>18179 rows × 7 columns</p>\n",
       "</div>"
      ],
      "text/plain": [
       "     Unnamed: 0    use_dt line_num sub_sta_nm  ride_pasgr_num  \\\n",
       "0             0  20220601      1호선        서울역           26040   \n",
       "1             1  20220601      1호선         시청           10235   \n",
       "2             2  20220601      1호선         종각           17948   \n",
       "3             3  20220601      1호선       종로3가           21148   \n",
       "4             4  20220601      1호선       종로5가           19108   \n",
       "..          ...       ...      ...        ...             ...   \n",
       "601         601  20220630      중앙선         오빈             289   \n",
       "602         602  20220630      중앙선         양평            2404   \n",
       "603         603  20220630      중앙선         원덕             301   \n",
       "604         604  20220630      중앙선         용문            1694   \n",
       "605         605  20220630      중앙선         지평              55   \n",
       "\n",
       "     alight_pasgr_num   work_dt  \n",
       "0               25835  20220604  \n",
       "1               10086  20220604  \n",
       "2               15679  20220604  \n",
       "3               18271  20220604  \n",
       "4               18748  20220604  \n",
       "..                ...       ...  \n",
       "601               268  20220703  \n",
       "602              2364  20220703  \n",
       "603               299  20220703  \n",
       "604              1719  20220703  \n",
       "605                77  20220703  \n",
       "\n",
       "[18179 rows x 7 columns]"
      ]
     },
     "execution_count": 32,
     "metadata": {},
     "output_type": "execute_result"
    }
   ],
   "source": [
    "# 문제2 지하철 폴더 안의 모든 파일을 합치세요.\n",
    "\n",
    "output = glob.glob('./지하철/*.csv')\n",
    "\n",
    "res = []\n",
    "for file in output:\n",
    "    csv = pd.read_csv(file, encoding='euc-kr')\n",
    "    df = pd.DataFrame(csv)\n",
    "    res.append(df)\n",
    "    # display(df)\n",
    "\n",
    "df_res = pd.concat(res)\n",
    "df_res"
   ]
  },
  {
   "cell_type": "code",
   "execution_count": null,
   "id": "7c2c0efe",
   "metadata": {},
   "outputs": [],
   "source": [
    "# 문제3 2021년 모든 지하철 승하차 인원을 월별로 저장하고 싶어요.\n",
    "# 파일명: 2021_01.csv\n",
    "# 제한: 20210101 ~ 20210331 까지로 제한\n",
    "\n",
    "file_names=glob('./지하철/*.csv')\n",
    "res = []\n",
    "\n",
    "for name in file_names:\n",
    "    res.append(pd.read_csv(name))\n",
    "    \n",
    "df_res=pd.concat(res)\n",
    "display(df_res)\n"
   ]
  },
  {
   "cell_type": "code",
   "execution_count": 33,
   "id": "d688591e",
   "metadata": {},
   "outputs": [
    {
     "data": {
      "text/plain": [
       "DatetimeIndex(['2022-02-20', '2022-02-21', '2022-02-22', '2022-02-23',\n",
       "               '2022-02-24', '2022-02-25', '2022-02-26', '2022-02-27',\n",
       "               '2022-02-28', '2022-03-01', '2022-03-02', '2022-03-03',\n",
       "               '2022-03-04', '2022-03-05', '2022-03-06', '2022-03-07',\n",
       "               '2022-03-08', '2022-03-09', '2022-03-10'],\n",
       "              dtype='datetime64[ns]', freq='D')"
      ]
     },
     "execution_count": 33,
     "metadata": {},
     "output_type": "execute_result"
    }
   ],
   "source": [
    "pd.date_range('2022-02-20', '2022-03-10')"
   ]
  },
  {
   "cell_type": "code",
   "execution_count": 34,
   "id": "e07da093",
   "metadata": {},
   "outputs": [
    {
     "data": {
      "text/plain": [
       "Index(['2022-02-20', '2022-02-21', '2022-02-22', '2022-02-23', '2022-02-24',\n",
       "       '2022-02-25', '2022-02-26', '2022-02-27', '2022-02-28', '2022-03-01',\n",
       "       '2022-03-02', '2022-03-03', '2022-03-04', '2022-03-05', '2022-03-06',\n",
       "       '2022-03-07', '2022-03-08', '2022-03-09', '2022-03-10'],\n",
       "      dtype='object')"
      ]
     },
     "execution_count": 34,
     "metadata": {},
     "output_type": "execute_result"
    }
   ],
   "source": [
    "pd.date_range('2022-02-20', '2022-03-10').astype('str')"
   ]
  },
  {
   "cell_type": "code",
   "execution_count": 35,
   "id": "54c75a4e",
   "metadata": {},
   "outputs": [
    {
     "data": {
      "text/plain": [
       "'2022-02-20'"
      ]
     },
     "execution_count": 35,
     "metadata": {},
     "output_type": "execute_result"
    }
   ],
   "source": [
    "pd.date_range('2022-02-20', '2022-03-10').astype('str')[0]"
   ]
  },
  {
   "cell_type": "code",
   "execution_count": 36,
   "id": "b111ac7b",
   "metadata": {},
   "outputs": [
    {
     "data": {
      "text/plain": [
       "Index(['2021-01-01', '2021-01-02', '2021-01-03', '2021-01-04', '2021-01-05',\n",
       "       '2021-01-06', '2021-01-07', '2021-01-08', '2021-01-09', '2021-01-10',\n",
       "       '2021-01-11', '2021-01-12', '2021-01-13', '2021-01-14', '2021-01-15',\n",
       "       '2021-01-16', '2021-01-17', '2021-01-18', '2021-01-19', '2021-01-20',\n",
       "       '2021-01-21', '2021-01-22', '2021-01-23', '2021-01-24', '2021-01-25',\n",
       "       '2021-01-26', '2021-01-27', '2021-01-28', '2021-01-29', '2021-01-30',\n",
       "       '2021-01-31', '2021-02-01', '2021-02-02', '2021-02-03', '2021-02-04',\n",
       "       '2021-02-05', '2021-02-06', '2021-02-07', '2021-02-08', '2021-02-09',\n",
       "       '2021-02-10', '2021-02-11', '2021-02-12', '2021-02-13', '2021-02-14',\n",
       "       '2021-02-15', '2021-02-16', '2021-02-17', '2021-02-18', '2021-02-19',\n",
       "       '2021-02-20', '2021-02-21', '2021-02-22', '2021-02-23', '2021-02-24',\n",
       "       '2021-02-25', '2021-02-26', '2021-02-27', '2021-02-28', '2021-03-01',\n",
       "       '2021-03-02', '2021-03-03', '2021-03-04', '2021-03-05', '2021-03-06',\n",
       "       '2021-03-07', '2021-03-08', '2021-03-09', '2021-03-10', '2021-03-11',\n",
       "       '2021-03-12', '2021-03-13', '2021-03-14', '2021-03-15', '2021-03-16',\n",
       "       '2021-03-17', '2021-03-18', '2021-03-19', '2021-03-20', '2021-03-21',\n",
       "       '2021-03-22', '2021-03-23', '2021-03-24', '2021-03-25', '2021-03-26',\n",
       "       '2021-03-27', '2021-03-28', '2021-03-29', '2021-03-30', '2021-03-31'],\n",
       "      dtype='object')"
      ]
     },
     "execution_count": 36,
     "metadata": {},
     "output_type": "execute_result"
    }
   ],
   "source": [
    "pd.date_range('2021-01-01', '2021-03-31').astype('str')"
   ]
  },
  {
   "cell_type": "code",
   "execution_count": null,
   "id": "13dbf4a9",
   "metadata": {},
   "outputs": [],
   "source": [
    "1. 년도는 같은 년도에서 월만 바뀌는걸로 가정\n",
    "2. 함수 사용해서 월별 시작일 끝일 알 수 있고\n",
    "3. 월별로 for문 돌려서 .csv 파일 만들기\n",
    "\n",
    "이 순서로 가면 되겠네요\n",
    "그러면"
   ]
  },
  {
   "cell_type": "code",
   "execution_count": 79,
   "id": "2c27eec7",
   "metadata": {},
   "outputs": [],
   "source": [
    "# import calendar\n",
    "# from datetime import datetime\n",
    "\n",
    "# def getMonthRage(year, month):\n",
    "#     date = datetime(year=year, month=month, day=1).date()\n",
    "#     monthrange = calendar.monthrange(date.year, date.month)\n",
    "#     # print('확인:', monthrange)\n",
    "#     first_day = calendar.monthrange(date.year, date.month)[0]\n",
    "#     last_day = calendar.monthrange(date.year, date.month)[1]\n",
    "#     print(f\"date: {date}\")\n",
    "#     print(f\"month range: {monthrange}\")\n",
    "#     print(f\"first day: {first_day}\")\n",
    "#     print(f\"last day: {last_day}\")\n",
    "#     return monthrange"
   ]
  },
  {
   "cell_type": "code",
   "execution_count": 85,
   "id": "3c92faa1",
   "metadata": {},
   "outputs": [],
   "source": [
    "import calendar\n",
    "from datetime import datetime\n",
    "\n",
    "def getMonthRage(year, month):\n",
    "    date = datetime(year=year, month=month, day=1).date()\n",
    "    monthrange = calendar.monthrange(date.year, date.month)\n",
    "    # print('확인:', monthrange)\n",
    "    first_day = calendar.monthrange(date.year, date.month)[0]\n",
    "    last_day = calendar.monthrange(date.year, date.month)[1]\n",
    "#     print(f\"date: {date}\")\n",
    "#     print(f\"month range: {monthrange}\")\n",
    "#     print(f\"first day: {first_day}\")\n",
    "#     print(f\"last day: {last_day}\")\n",
    "    return last_day"
   ]
  },
  {
   "cell_type": "code",
   "execution_count": 58,
   "id": "fdf89a29",
   "metadata": {},
   "outputs": [
    {
     "name": "stdout",
     "output_type": "stream",
     "text": [
      "확인: (4, 31)\n",
      "date: 2021-01-01\n",
      "month range: (4, 31)\n",
      "first day: 4\n",
      "last day: 31\n",
      "last date: 2021-01-31 00:00:00\n"
     ]
    }
   ],
   "source": [
    "# today = datetime.today().date()\n",
    "day_str = '2021-01-01'\n",
    "today = datetime.strptime(day_str, '%Y-%m-%d')\n",
    "\n",
    "# print(\"today:\", today.month)\n",
    "# today: 2022-08-03\n",
    "# today.year: today.year\n",
    "# today.month: 8\n",
    "\n",
    "month_range = getMonthRage(today.year, today.month)\n",
    "last_date = today.replace(day=month_range[1])\n",
    "print(f\"last date: {last_date}\")"
   ]
  },
  {
   "cell_type": "code",
   "execution_count": 59,
   "id": "f7ac2bce",
   "metadata": {},
   "outputs": [
    {
     "data": {
      "text/plain": [
       "Index(['2021-01-01', '2021-01-02', '2021-01-03', '2021-01-04', '2021-01-05',\n",
       "       '2021-01-06', '2021-01-07', '2021-01-08', '2021-01-09', '2021-01-10',\n",
       "       '2021-01-11', '2021-01-12', '2021-01-13', '2021-01-14', '2021-01-15',\n",
       "       '2021-01-16', '2021-01-17', '2021-01-18', '2021-01-19', '2021-01-20',\n",
       "       '2021-01-21', '2021-01-22', '2021-01-23', '2021-01-24', '2021-01-25',\n",
       "       '2021-01-26', '2021-01-27', '2021-01-28', '2021-01-29', '2021-01-30',\n",
       "       '2021-01-31', '2021-02-01', '2021-02-02', '2021-02-03', '2021-02-04',\n",
       "       '2021-02-05', '2021-02-06', '2021-02-07', '2021-02-08', '2021-02-09',\n",
       "       '2021-02-10', '2021-02-11', '2021-02-12', '2021-02-13', '2021-02-14',\n",
       "       '2021-02-15', '2021-02-16', '2021-02-17', '2021-02-18', '2021-02-19',\n",
       "       '2021-02-20', '2021-02-21', '2021-02-22', '2021-02-23', '2021-02-24',\n",
       "       '2021-02-25', '2021-02-26', '2021-02-27', '2021-02-28', '2021-03-01',\n",
       "       '2021-03-02', '2021-03-03', '2021-03-04', '2021-03-05', '2021-03-06',\n",
       "       '2021-03-07', '2021-03-08', '2021-03-09', '2021-03-10', '2021-03-11',\n",
       "       '2021-03-12', '2021-03-13', '2021-03-14', '2021-03-15', '2021-03-16',\n",
       "       '2021-03-17', '2021-03-18', '2021-03-19', '2021-03-20', '2021-03-21',\n",
       "       '2021-03-22', '2021-03-23', '2021-03-24', '2021-03-25', '2021-03-26',\n",
       "       '2021-03-27', '2021-03-28', '2021-03-29', '2021-03-30', '2021-03-31'],\n",
       "      dtype='object')"
      ]
     },
     "execution_count": 59,
     "metadata": {},
     "output_type": "execute_result"
    }
   ],
   "source": [
    "dates = pd.date_range('2021-01-01', '2021-03-31').astype('str')\n",
    "dates"
   ]
  },
  {
   "cell_type": "code",
   "execution_count": 60,
   "id": "bf4d5c2a",
   "metadata": {},
   "outputs": [
    {
     "data": {
      "text/plain": [
       "'2021-01-01'"
      ]
     },
     "execution_count": 60,
     "metadata": {},
     "output_type": "execute_result"
    }
   ],
   "source": [
    "dates[0]"
   ]
  },
  {
   "cell_type": "code",
   "execution_count": 62,
   "id": "d3cd78f0",
   "metadata": {},
   "outputs": [
    {
     "data": {
      "text/plain": [
       "'2021-03-31'"
      ]
     },
     "execution_count": 62,
     "metadata": {},
     "output_type": "execute_result"
    }
   ],
   "source": [
    "dates[len(dates)-1]"
   ]
  },
  {
   "cell_type": "code",
   "execution_count": 76,
   "id": "327a4781",
   "metadata": {},
   "outputs": [
    {
     "name": "stdout",
     "output_type": "stream",
     "text": [
      "01\n",
      "03\n",
      "01\n",
      "31\n",
      "y\n",
      "y\n",
      "y\n"
     ]
    }
   ],
   "source": [
    "start_month = dates[0][5:7]\n",
    "end_month = dates[len(dates)-1][5:7]\n",
    "start_day = dates[0][-2:]\n",
    "end_day = dates[len(dates)-1][-2:]\n",
    "\n",
    "print(start_month)\n",
    "print(end_month)\n",
    "print(start_day)\n",
    "print(end_day)\n",
    "\n",
    "if '01' < '04':\n",
    "    print('y')\n",
    "if '05' > '01':\n",
    "    print('y')\n",
    "if '05' < '01':\n",
    "    print('n')\n",
    "\n",
    "if start_day < '05':\n",
    "    print('y')\n",
    "if start_day > '05':\n",
    "    print('n')"
   ]
  },
  {
   "cell_type": "code",
   "execution_count": 80,
   "id": "08963c2f",
   "metadata": {},
   "outputs": [
    {
     "name": "stdout",
     "output_type": "stream",
     "text": [
      "date: 2021-01-01\n",
      "month range: (4, 31)\n",
      "first day: 4\n",
      "last day: 31\n",
      "last date: 2021-01-31 00:00:00\n"
     ]
    }
   ],
   "source": [
    "today = datetime.strptime(dates[0], '%Y-%m-%d')\n",
    "month_range = getMonthRage(today.year, today.month)\n",
    "last_date = today.replace(day=month_range[1])\n",
    "print(f\"last date: {last_date}\")"
   ]
  },
  {
   "cell_type": "code",
   "execution_count": 92,
   "id": "ad78e765",
   "metadata": {},
   "outputs": [
    {
     "name": "stdout",
     "output_type": "stream",
     "text": [
      "31\n",
      "28\n",
      "31\n"
     ]
    }
   ],
   "source": [
    "year = '2021'\n",
    "start_YMD = '2021-01-01'\n",
    "end_YMD = '2021-03-31'\n",
    "dates = pd.date_range(start_YMD, end_YMD).astype('str')\n",
    "\n",
    "today = datetime.strptime(dates[0], '%Y-%m-%d')\n",
    "last_day = getMonthRage(today.year, today.month)\n",
    "# last_date = today.replace(day=month_range[1])\n",
    "# print(f\"last date: {last_date}\")\n",
    "# print(last_day)\n",
    "\n",
    "start_month = int(dates[0][5:7])\n",
    "end_month = int(dates[len(dates)-1][5:7])\n",
    "start_day = dates[0][-2:]\n",
    "end_day = dates[len(dates)-1][-2:]\n",
    "# print(start_month)\n",
    "# print(end_month)\n",
    "\n",
    "for month in range(start_month, end_month+1):\n",
    "    date = year + '-' + str(month) + '-01'\n",
    "    today = datetime.strptime(date, '%Y-%m-%d')\n",
    "    last_day = getMonthRage(today.year, today.month)\n",
    "#     print(last_day)\n",
    "\n",
    "    monthly_list = []\n",
    "    if start_day > '01':\n",
    "        \n",
    "\n",
    "\n",
    "\n",
    "# sb.subway_p('20220730')\n",
    "\n",
    "\n",
    "\n",
    "\n",
    "\n",
    "# file_names=glob('./지하철/*.csv')\n",
    "# res = []\n",
    "\n",
    "# for name in file_names:\n",
    "#     res.append(pd.read_csv(name))\n",
    "    \n",
    "# df_res=pd.concat(res)\n",
    "# display(df_res)"
   ]
  },
  {
   "cell_type": "code",
   "execution_count": 93,
   "id": "4f1e1c43",
   "metadata": {},
   "outputs": [
    {
     "data": {
      "text/plain": [
       "Index(['2021-01-01', '2021-01-02', '2021-01-03', '2021-01-04', '2021-01-05',\n",
       "       '2021-01-06', '2021-01-07', '2021-01-08', '2021-01-09', '2021-01-10',\n",
       "       '2021-01-11', '2021-01-12', '2021-01-13', '2021-01-14', '2021-01-15',\n",
       "       '2021-01-16', '2021-01-17', '2021-01-18', '2021-01-19', '2021-01-20',\n",
       "       '2021-01-21', '2021-01-22', '2021-01-23', '2021-01-24', '2021-01-25',\n",
       "       '2021-01-26', '2021-01-27', '2021-01-28', '2021-01-29', '2021-01-30',\n",
       "       '2021-01-31', '2021-02-01', '2021-02-02', '2021-02-03', '2021-02-04',\n",
       "       '2021-02-05', '2021-02-06', '2021-02-07', '2021-02-08', '2021-02-09',\n",
       "       '2021-02-10', '2021-02-11', '2021-02-12', '2021-02-13', '2021-02-14',\n",
       "       '2021-02-15', '2021-02-16', '2021-02-17', '2021-02-18', '2021-02-19',\n",
       "       '2021-02-20', '2021-02-21', '2021-02-22', '2021-02-23', '2021-02-24',\n",
       "       '2021-02-25', '2021-02-26', '2021-02-27', '2021-02-28', '2021-03-01',\n",
       "       '2021-03-02', '2021-03-03', '2021-03-04', '2021-03-05', '2021-03-06',\n",
       "       '2021-03-07', '2021-03-08', '2021-03-09', '2021-03-10', '2021-03-11',\n",
       "       '2021-03-12', '2021-03-13', '2021-03-14', '2021-03-15', '2021-03-16',\n",
       "       '2021-03-17', '2021-03-18', '2021-03-19', '2021-03-20', '2021-03-21',\n",
       "       '2021-03-22', '2021-03-23', '2021-03-24', '2021-03-25', '2021-03-26',\n",
       "       '2021-03-27', '2021-03-28', '2021-03-29', '2021-03-30', '2021-03-31'],\n",
       "      dtype='object')"
      ]
     },
     "execution_count": 93,
     "metadata": {},
     "output_type": "execute_result"
    }
   ],
   "source": [
    "start_YMD = '2021-01-01'\n",
    "end_YMD = '2021-03-31'\n",
    "dates = pd.date_range(start_YMD, end_YMD).astype('str')\n",
    "\n",
    "start_month = int(dates[0][5:7])\n",
    "end_month = int(dates[len(dates)-1][5:7])\n",
    "\n",
    "if end_month == start_month:\n",
    "    start_YMD ~ end_YMD 까지 해당 월 파일 1개 만들기\n",
    "elif end_month - start_month == 1:\n",
    "    시작 월일 ~ 시작 월일 1개 만들기 (5~30일)\n",
    "    끝 월일 ~ 끝 월일 1개 만들기 (1~17일)\n",
    "else:\n",
    "    시작 월일 ~ 시작 월일 1개 만들기 (5~30일)\n",
    "    중간 월일 파일들 만들기 (1~30일)\n",
    "    끝 월일 ~ 끝 월일 1개 만들기 (1~17일)"
   ]
  },
  {
   "cell_type": "code",
   "execution_count": 110,
   "id": "e8a85fe5",
   "metadata": {},
   "outputs": [],
   "source": [
    "del df_res"
   ]
  },
  {
   "cell_type": "code",
   "execution_count": 131,
   "id": "94afd945",
   "metadata": {},
   "outputs": [],
   "source": [
    "start_YMD = '2021-01-05'\n",
    "end_YMD = '2021-03-16'\n",
    "dates = pd.date_range(start_YMD, end_YMD).astype('str')\n",
    "\n",
    "year = '2021'\n",
    "start_month = int(dates[0][5:7])\n",
    "end_month = int(dates[len(dates)-1][5:7])\n",
    "start_YMD_int = int(start_YMD.replace('-', ''))\n",
    "end_YMD_int = int(end_YMD.replace('-', ''))\n",
    "# print(start_YMD_int)\n",
    "# print(range(start_YMD_int, end_YMD_int+1))\n",
    "\n",
    "if end_month == start_month:\n",
    "    df_ls = []\n",
    "    for date in range(start_YMD_int, end_YMD_int+1):\n",
    "        df = sb.subway_p(date)\n",
    "        df_ls.append(df)\n",
    "        df_res = pd.concat(df_ls)\n",
    "        df_res.to_csv(f'./지하철/{start_YMD[:7]}.csv', encoding='euc-kr')\n",
    "elif end_month - start_month == 1:\n",
    "    day = year + '-' + str(start_month) + '-01'\n",
    "    today = datetime.strptime(day, '%Y-%m-%d')\n",
    "    last_day = getMonthRage(today.year, today.month)\n",
    "    tmp_day = str(start_YMD_int)[:-2] + str(last_day)\n",
    "    df_ls = []\n",
    "    for date in range(start_YMD_int, int(tmp_day)):\n",
    "        df = sb.subway_p(date)\n",
    "        df_ls.append(df)\n",
    "        df_res = pd.concat(df_ls)\n",
    "        df_res.to_csv(f'./지하철/{start_YMD[:7]}.csv', encoding='euc-kr')\n",
    "    \n",
    "\n",
    "    tmp_day = str(end_YMD_int)[:-2] + '01'\n",
    "    df_ls = []\n",
    "    for date in range(int(tmp_day), end_YMD_int):\n",
    "        df = sb.subway_p(date)\n",
    "        df_ls.append(df)\n",
    "        df_res = pd.concat(df_ls)\n",
    "        df_res.to_csv(f'./지하철/{end_YMD[:7]}.csv', encoding='euc-kr')\n",
    "else:\n",
    "    day = year + '-' + str(start_month) + '-01'\n",
    "    today = datetime.strptime(day, '%Y-%m-%d')\n",
    "    last_day = getMonthRage(today.year, today.month)\n",
    "    tmp_day = str(start_YMD_int)[:-2] + str(last_day)\n",
    "    df_ls = []\n",
    "    for date in range(start_YMD_int, int(tmp_day)+1):\n",
    "        df = sb.subway_p(date)\n",
    "        df_ls.append(df)\n",
    "        df_res = pd.concat(df_ls)\n",
    "        df_res.to_csv(f'./지하철/{start_YMD[:7]}.csv', encoding='euc-kr')\n",
    "    \n",
    "    for month in range(start_month+1, end_month):\n",
    "        day = year + '-' + str(month) + '-01'\n",
    "        today = datetime.strptime(day, '%Y-%m-%d')\n",
    "        last_day = getMonthRage(today.year, today.month)\n",
    "        \n",
    "        tmp_start_day = year + f'{month:0>2}' + '01'\n",
    "        tmp_end_day = year + f'{month:0>2}' + str(last_day)\n",
    "        df_ls = []\n",
    "        for date in range(int(tmp_start_day), int(tmp_end_day)+1):\n",
    "            df = sb.subway_p(date)\n",
    "            df_ls.append(df)\n",
    "            df_res = pd.concat(df_ls)\n",
    "            df_res.to_csv(f\"./지하철/{year}-{month:0>2}.csv\", encoding='euc-kr')\n",
    "    \n",
    "    tmp_day = str(end_YMD_int)[:-2] + '01'\n",
    "    df_ls = []\n",
    "    for date in range(int(tmp_day), end_YMD_int+1):\n",
    "        df = sb.subway_p(date)\n",
    "        df_ls.append(df)\n",
    "        df_res = pd.concat(df_ls)\n",
    "        df_res.to_csv(f'./지하철/{end_YMD[:7]}.csv', encoding='euc-kr')"
   ]
  },
  {
   "cell_type": "code",
   "execution_count": null,
   "id": "acd47d10",
   "metadata": {},
   "outputs": [],
   "source": []
  }
 ],
 "metadata": {
  "kernelspec": {
   "display_name": "Python 3 (ipykernel)",
   "language": "python",
   "name": "python3"
  },
  "language_info": {
   "codemirror_mode": {
    "name": "ipython",
    "version": 3
   },
   "file_extension": ".py",
   "mimetype": "text/x-python",
   "name": "python",
   "nbconvert_exporter": "python",
   "pygments_lexer": "ipython3",
   "version": "3.9.12"
  }
 },
 "nbformat": 4,
 "nbformat_minor": 5
}
