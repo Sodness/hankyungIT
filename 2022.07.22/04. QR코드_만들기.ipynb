{
 "cells": [
  {
   "cell_type": "code",
   "execution_count": 1,
   "id": "a3823a65",
   "metadata": {},
   "outputs": [
    {
     "name": "stdout",
     "output_type": "stream",
     "text": [
      "Collecting qrcode\n",
      "  Downloading qrcode-7.3.1.tar.gz (43 kB)\n",
      "     ---------------------------------------- 43.5/43.5 kB 2.1 MB/s eta 0:00:00\n",
      "  Preparing metadata (setup.py): started\n",
      "  Preparing metadata (setup.py): finished with status 'done'\n",
      "Requirement already satisfied: colorama in c:\\users\\user\\.conda\\envs\\han\\lib\\site-packages (from qrcode) (0.4.5)\n",
      "Building wheels for collected packages: qrcode\n",
      "  Building wheel for qrcode (setup.py): started\n",
      "  Building wheel for qrcode (setup.py): finished with status 'done'\n",
      "  Created wheel for qrcode: filename=qrcode-7.3.1-py3-none-any.whl size=40401 sha256=545d7af90d2bc073e1d117fbd11008d2ab4af1eda1c3633917e5059f2c01e56a\n",
      "  Stored in directory: c:\\users\\user\\appdata\\local\\pip\\cache\\wheels\\23\\19\\46\\913659e1fa8df0e197598601997735938c703cac15d98a6e6d\n",
      "Successfully built qrcode\n",
      "Installing collected packages: qrcode\n",
      "Successfully installed qrcode-7.3.1\n"
     ]
    }
   ],
   "source": [
    "!pip install qrcode"
   ]
  },
  {
   "cell_type": "code",
   "execution_count": 2,
   "id": "bb1ec032",
   "metadata": {},
   "outputs": [
    {
     "name": "stdout",
     "output_type": "stream",
     "text": [
      "<class 'qrcode.image.pil.PilImage'>\n",
      "(290, 290)\n"
     ]
    }
   ],
   "source": [
    "import qrcode \n",
    "\n",
    "# 첫번째 예제\n",
    "str = 'Hello'\n",
    "img = qrcode.make(str)\n",
    "img.save(\"./images/QR code/\"+ str + \".jpg\")\n",
    "print(type(img))\n",
    "print(img.size)"
   ]
  },
  {
   "cell_type": "code",
   "execution_count": 3,
   "id": "57ed7c32",
   "metadata": {},
   "outputs": [],
   "source": [
    "# 네이버, 다음, 구글 QR 코드\n",
    "\n",
    "naver = \"www.naver.com\"\n",
    "daum = \"www.daum.com\"\n",
    "google = \"www.google.com\"\n",
    "url_list = [naver, daum, google]\n",
    "\n",
    "for url in url_list:\n",
    "    img = qrcode.make(url)\n",
    "    img.save(\"./images/QR code/\"+ url + \".jpg\")"
   ]
  },
  {
   "cell_type": "code",
   "execution_count": null,
   "id": "f71ea690",
   "metadata": {},
   "outputs": [],
   "source": []
  }
 ],
 "metadata": {
  "kernelspec": {
   "display_name": "Python 3 (ipykernel)",
   "language": "python",
   "name": "python3"
  },
  "language_info": {
   "codemirror_mode": {
    "name": "ipython",
    "version": 3
   },
   "file_extension": ".py",
   "mimetype": "text/x-python",
   "name": "python",
   "nbconvert_exporter": "python",
   "pygments_lexer": "ipython3",
   "version": "3.10.4"
  }
 },
 "nbformat": 4,
 "nbformat_minor": 5
}
