{
 "cells": [
  {
   "cell_type": "markdown",
   "metadata": {
    "id": "SUgG24ReXfzW"
   },
   "source": [
    "## [for & range]\n",
    "- for 매개변수 in range(숫자):\n",
    "       0에서 숫자-1 의 횟수만큼 for안의 구문을 반복함\n",
    "- for 매개변수 in range(시작숫자,끝숫자):\n",
    "      시작숫자에서 끝숫자-1 번 횟수만큼 for 구문을 반복함\n"
   ]
  },
  {
   "cell_type": "markdown",
   "metadata": {
    "id": "j_F3LrUWX53D"
   },
   "source": [
    "## ▶Part1. range를 이용한 반복횟수 지정\n",
    "- range(4) => range(0:4-1) 즉 0,1,2,3번 값이 생성됨\n",
    "- range(2,5)=> range(2:5-1) 즉 2,3,4 번 값이 생성됨\n",
    "\n",
    "- 리스트 컴프리헨션(list comprehension)을 이용하면 여러줄의 for를 간단하게 표현할수 있음.\n",
    "  - [print할내용일때는print는생략해야함  for 매개변수 in 000]"
   ]
  },
  {
   "cell_type": "code",
   "execution_count": null,
   "metadata": {
    "colab": {
     "base_uri": "https://localhost:8080/"
    },
    "executionInfo": {
     "elapsed": 2,
     "status": "ok",
     "timestamp": 1646019215224,
     "user": {
      "displayName": "so pj",
      "photoUrl": "https://lh3.googleusercontent.com/a/default-user=s64",
      "userId": "02574474388741964814"
     },
     "user_tz": -540
    },
    "id": "HAPb59bhXkTf",
    "outputId": "73750587-148a-4932-d221-db8fa4068061"
   },
   "outputs": [
    {
     "name": "stdout",
     "output_type": "stream",
     "text": [
      "연습\n",
      "연습\n",
      "연습\n",
      "연습\n",
      "연습\n",
      "\n",
      "--- 위의 구문을 압축기법(comprehension) 으로 표현하는 아래와 같음--\n"
     ]
    },
    {
     "data": {
      "text/plain": [
       "['연습', '연습', '연습', '연습', '연습']"
      ]
     },
     "execution_count": 1,
     "metadata": {},
     "output_type": "execute_result"
    }
   ],
   "source": [
    "#########################\n",
    "##### '연습' 이라는 단어를 0번,1번,2번,3번,4번 출력함.\n",
    "#########################\n",
    "for i in range(5):\n",
    "  print('연습')\n",
    "\n",
    "# \\n한개는  enter한번임\n",
    "print('\\n--- 위의 구문을 압축기법(comprehension) 으로 표현하는 아래와 같음--')\n",
    "['연습' for i in range(5)]"
   ]
  },
  {
   "cell_type": "code",
   "execution_count": null,
   "metadata": {
    "colab": {
     "base_uri": "https://localhost:8080/"
    },
    "executionInfo": {
     "elapsed": 440,
     "status": "ok",
     "timestamp": 1646032369698,
     "user": {
      "displayName": "so pj",
      "photoUrl": "https://lh3.googleusercontent.com/a/default-user=s64",
      "userId": "02574474388741964814"
     },
     "user_tz": -540
    },
    "id": "yFDek6lDZARn",
    "outputId": "82fb3854-127d-4a78-982d-023e31516035"
   },
   "outputs": [
    {
     "name": "stdout",
     "output_type": "stream",
     "text": [
      "0\n",
      "1\n",
      "2\n",
      "3\n",
      "4\n"
     ]
    }
   ],
   "source": [
    "# range(5)의 0,1,2,3,4를 i에 할당함\n",
    "for i in range(5):\n",
    "  print(i)\n"
   ]
  },
  {
   "cell_type": "markdown",
   "metadata": {
    "id": "Wu7QArq_X53F"
   },
   "source": [
    "### [1-1] 미션 (for 압축기법)\n",
    " - 바로 위의 2~3번의 for를 압축기법으로 작성"
   ]
  },
  {
   "cell_type": "code",
   "execution_count": null,
   "metadata": {
    "id": "YvdR3SXULLSy",
    "outputId": "fc72f10b-3087-428a-fc45-93585c800ee6"
   },
   "outputs": [
    {
     "data": {
      "text/plain": [
       "[0, 1, 2, 3, 4]"
      ]
     },
     "execution_count": 3,
     "metadata": {},
     "output_type": "execute_result"
    }
   ],
   "source": [
    "#########################\n",
    "##### [미션]\n",
    "##### 2~3번의 for를 압축기법으로 한줄로 작성\n",
    "########################\n",
    "\n",
    "[i for i in range(5)]\n"
   ]
  },
  {
   "cell_type": "markdown",
   "metadata": {
    "id": "0J5LtBrhX53G"
   },
   "source": [
    "### [1-2] random.randrange \n",
    "- random함수는 난수로서 무작위로 값을 생성하는 함수임.\n",
    "    - random.random() 함수는 0~1사이값으로 값을 생성함\n",
    "        - 만약 1~45번까지의 값을 정수로 생성하고 싶다면\n",
    "            - int(random.random()*45)\n",
    "    - random.randrange(startNum, endNum)을 이용하여서 쉽게 정수단위의 무작위 값을 발생시킬수도 있음."
   ]
  },
  {
   "cell_type": "code",
   "execution_count": null,
   "metadata": {
    "id": "beaj28tvX53G",
    "outputId": "7d8d680e-02e2-41b0-9068-36214a152a5a"
   },
   "outputs": [
    {
     "name": "stdout",
     "output_type": "stream",
     "text": [
      "0~1사이값 난수발생====>  0.62863484\n",
      "1~45사이값 난수발생====>  8.00215594\n",
      "1~45사이값자료를 정수로 변환====>  40.00000000\n",
      "1~45사이값자료를 정수로 변환====>  16\n"
     ]
    }
   ],
   "source": [
    "## 참고\n",
    "import random   # 내장함수 (별도로 install 하지 않아도 사용가능한 함수임)\n",
    "print('0~1사이값 난수발생====> % .8f'%random.random())     # %.8f는 소수이하 8자리 나오게함\n",
    "print('1~45사이값 난수발생====> % .8f'%(random.random()*45))\n",
    "print('1~45사이값자료를 정수로 변환====> % .8f'%(int(random.random()*45)))   #.8로 해도 소수이하 자리는 8자리 나오나 모두 0나옴\n",
    "print('1~45사이값자료를 정수로 변환====> % d'%(int(random.random()*45)))"
   ]
  },
  {
   "cell_type": "code",
   "execution_count": null,
   "metadata": {
    "colab": {
     "base_uri": "https://localhost:8080/"
    },
    "executionInfo": {
     "elapsed": 428,
     "status": "ok",
     "timestamp": 1646020100239,
     "user": {
      "displayName": "so pj",
      "photoUrl": "https://lh3.googleusercontent.com/a/default-user=s64",
      "userId": "02574474388741964814"
     },
     "user_tz": -540
    },
    "id": "4z30oaw_ZT7S",
    "outputId": "84d99ea6-c728-4ba1-ec05-7231e2c330e9"
   },
   "outputs": [
    {
     "name": "stdout",
     "output_type": "stream",
     "text": [
      "[30, 22, 31, 40, 13, 14]\n",
      "{40, 13, 14, 22, 30, 31}\n"
     ]
    }
   ],
   "source": [
    "########## range구문을 이용하여서 로또번호 6개 숫자를 고름\n",
    "##########  0번index에 로또번호1, 1번index에 로또번호2, 2번index에 로또번호3.......5번index에 로또번호 6\n",
    "########### range는 반복횟수임.\n",
    "import random\n",
    "lotto=[]\n",
    "for i in range(6):\n",
    "  lotto.append(random.randrange(1,45))\n",
    "\n",
    "print(lotto)    # 중복값이 있을수 있음.\n",
    "print(set(lotto))  # 중복제거해서 보여주기 (상황에 따라서 값이 6개가 안나올수도 있음. 같은값이 있으면)"
   ]
  },
  {
   "cell_type": "code",
   "execution_count": null,
   "metadata": {
    "colab": {
     "base_uri": "https://localhost:8080/"
    },
    "executionInfo": {
     "elapsed": 2,
     "status": "ok",
     "timestamp": 1646020085958,
     "user": {
      "displayName": "so pj",
      "photoUrl": "https://lh3.googleusercontent.com/a/default-user=s64",
      "userId": "02574474388741964814"
     },
     "user_tz": -540
    },
    "id": "ekwNKG0lcBbo",
    "outputId": "f912d43a-dcd0-4373-b3c3-558f5dd2ae2f"
   },
   "outputs": [
    {
     "data": {
      "text/plain": [
       "[38, 38, 8, 36, 33, 26]"
      ]
     },
     "execution_count": 6,
     "metadata": {},
     "output_type": "execute_result"
    }
   ],
   "source": [
    "#########################\n",
    "##### [미션]\n",
    "##### 5~8번의 for를 압축기법으로 한줄로 작성\n",
    "########################\n",
    "# 리스트 압축기법은 append를 기본으로제공함.\n",
    "# 리스트 압축기법은 lotto=[]와  lotto.append를 할 필요가 없음\n",
    "\n",
    "lotto=[random.randrange(1,45) for i in range(6)]\n",
    "lotto\n"
   ]
  },
  {
   "cell_type": "markdown",
   "metadata": {
    "id": "2mXYzGsoX53I"
   },
   "source": [
    "###### [추가자료] \n",
    "-- 로또번호에서 중복된 자료는 빼고 6개번호 만들기\n",
    "![image-2.png](attachment:image-2.png)"
   ]
  },
  {
   "cell_type": "code",
   "execution_count": null,
   "metadata": {
    "id": "Pem49y0vX53I",
    "outputId": "4781cfc5-92c8-440e-e0a1-373980650a2f"
   },
   "outputs": [
    {
     "name": "stdout",
     "output_type": "stream",
     "text": [
      "0번째 생성된 num----> 29\n",
      "1번째 생성된 num----> 8\n",
      "2번째 생성된 num----> 10\n",
      "3번째 생성된 num----> 27\n",
      "4번째 생성된 num----> 14\n",
      "5번째 생성된 num----> 39\n"
     ]
    },
    {
     "data": {
      "text/plain": [
       "[29, 8, 10, 27, 14, 39]"
      ]
     },
     "execution_count": 7,
     "metadata": {},
     "output_type": "execute_result"
    }
   ],
   "source": [
    "###########################\n",
    "#### [추가]\n",
    "####  이 자료는 ctrl+enter를 여러번 해보면 로또 번호가 6개인데, 6개 초과해서 자료가 생성되는 경우가 있음.\n",
    "### 그런경우는 중복값이 추첨되었다는 뜻임.\n",
    "### 샘플로제공된 아래 \n",
    "##########################\n",
    "\n",
    "tmp=[]                                     # 로또번호를 모아주는 tmp\n",
    "for i in range(300):                      # 중복번호가 계속 나와서 추첨을 여러번 할 수 있음으로 range값을 많이 넣어줌\n",
    "    num=random.randrange(1,45)            # 로또 num번호 생성\n",
    "    if num not in tmp:                   #  새로 생성된 num이  로또번호6개를 모으려고 하는 tmp에 없다면(not in)\n",
    "        tmp.append(num)                   # tmp에 num추가\n",
    "    \n",
    "    print('%d번째 생성된 num----> %d'%(i,num))                 # 확인용으로 작업함.\n",
    "        \n",
    "    if len(tmp)==6:                      # range(300)이어도 tmp값이 6개가 나오면 break 로 for구문을 종료함\n",
    "        break\n",
    "   \n",
    "tmp"
   ]
  },
  {
   "cell_type": "code",
   "execution_count": null,
   "metadata": {
    "colab": {
     "base_uri": "https://localhost:8080/"
    },
    "executionInfo": {
     "elapsed": 445,
     "status": "ok",
     "timestamp": 1646032415907,
     "user": {
      "displayName": "so pj",
      "photoUrl": "https://lh3.googleusercontent.com/a/default-user=s64",
      "userId": "02574474388741964814"
     },
     "user_tz": -540
    },
    "id": "3PHko4oscb-O",
    "outputId": "0972bc38-0dca-4e63-dae2-5e4125447647"
   },
   "outputs": [
    {
     "name": "stdout",
     "output_type": "stream",
     "text": [
      "20%2, 22%2, 19%2, 35%2 를 계산한 결과, %는 잉여연산자==>\n",
      "0 0 1 1\n",
      "-------------------------------------\n",
      "0\n",
      "2\n",
      "4\n",
      "6\n",
      "8\n"
     ]
    }
   ],
   "source": [
    "#####  홀수, 짝수\n",
    "# 홀수, 짝수는 2로 나누었을때 나머지값이 0이면 짝수, 1이면 홀수(또는 0외의값) 으로 계산하면 편리함\n",
    "print('20%2, 22%2, 19%2, 35%2 를 계산한 결과, %는 잉여연산자==>')\n",
    "print(20%2, 22%2, 19%2, 35%2)\n",
    "print('-------------------------------------')\n",
    "\n",
    "# 0~9까지 짝수값만 출력\n",
    "for i in range(10):\n",
    "  if i%2==0:\n",
    "    print(i)\n",
    "\n"
   ]
  },
  {
   "cell_type": "code",
   "execution_count": null,
   "metadata": {
    "colab": {
     "base_uri": "https://localhost:8080/"
    },
    "executionInfo": {
     "elapsed": 2,
     "status": "ok",
     "timestamp": 1646020580156,
     "user": {
      "displayName": "so pj",
      "photoUrl": "https://lh3.googleusercontent.com/a/default-user=s64",
      "userId": "02574474388741964814"
     },
     "user_tz": -540
    },
    "id": "QG2WXY24dt20",
    "outputId": "98b29703-036f-4199-f577-40577f174d9d"
   },
   "outputs": [
    {
     "data": {
      "text/plain": [
       "[0, 2, 4, 6, 8]"
      ]
     },
     "execution_count": 9,
     "metadata": {},
     "output_type": "execute_result"
    }
   ],
   "source": [
    "#########################\n",
    "##### [미션]if와 for 컴프리헨션\n",
    "##### 8~13번의 for를 압축기법으로 한줄로 작성\n",
    "########################\n",
    "\n",
    "[i for i in range(10) if i%2==0]"
   ]
  },
  {
   "cell_type": "markdown",
   "metadata": {
    "id": "3Gcm0mTmccyU"
   },
   "source": [
    "## ▶Part2. for 객체\n",
    "\n",
    "- for 매개변수 in 객체명:\n",
    "      객체명의 자료 0번 index부터 len(객체명) 인덱스까지 차례로 매개변수에 할당  \n",
    "      즉  매개변수=객체명[0],..... 매개변수=객체명[len(객체명)]\n"
   ]
  },
  {
   "cell_type": "code",
   "execution_count": null,
   "metadata": {
    "colab": {
     "base_uri": "https://localhost:8080/"
    },
    "executionInfo": {
     "elapsed": 557,
     "status": "ok",
     "timestamp": 1646032462484,
     "user": {
      "displayName": "so pj",
      "photoUrl": "https://lh3.googleusercontent.com/a/default-user=s64",
      "userId": "02574474388741964814"
     },
     "user_tz": -540
    },
    "id": "bMFj2TMz0iJP",
    "outputId": "f2a5790f-6910-4cdc-f9df-b0efc168209b"
   },
   "outputs": [
    {
     "name": "stdout",
     "output_type": "stream",
     "text": [
      "총 10 건의 자료가 있으며 총합은 790이며, 평균은 79.00임(총합/len(a))\n"
     ]
    }
   ],
   "source": [
    "# A 학급에 총 10명의 학생이 있다. 이 학생들의 중간고사 점수는 다음과 같다.\n",
    "# [70, 60, 55, 75, 95, 90, 80, 80, 85, 100]\n",
    "# 이 학급학생의 총점수를 구함. (numpy가 아닌 for 로)\n",
    "\n",
    "\n",
    "a=[70, 60, 55, 75, 95, 90, 80, 80, 85, 100]\n",
    "total=0\n",
    "\n",
    "for i in a:\n",
    "  total+=i             # total=total+i와 같음\n",
    "\n",
    "# 소숫점은 float로서 %.2f는  float형이며 소수이하 2자리표현하자라는뜻(.2)\n",
    "print(\"총 %d 건의 자료가 있으며 총합은 %d이며, 평균은 %.2f임(총합/len(a))\"%(len(a),total,total/len(a)))"
   ]
  },
  {
   "cell_type": "code",
   "execution_count": null,
   "metadata": {
    "colab": {
     "base_uri": "https://localhost:8080/"
    },
    "executionInfo": {
     "elapsed": 2,
     "status": "ok",
     "timestamp": 1646029684431,
     "user": {
      "displayName": "so pj",
      "photoUrl": "https://lh3.googleusercontent.com/a/default-user=s64",
      "userId": "02574474388741964814"
     },
     "user_tz": -540
    },
    "id": "8zGmaVepAm-k",
    "outputId": "6caf6bd6-f8d8-4f36-d0ba-14aef18e6a13"
   },
   "outputs": [
    {
     "name": "stdout",
     "output_type": "stream",
     "text": [
      "총건수10\n",
      "총합790\n"
     ]
    }
   ],
   "source": [
    "### len함수가 없을때는 사용자가 직접 count를 해줌\n",
    "a=[70, 60, 55, 75, 95, 90, 80, 80, 85, 100]\n",
    "total=0 ; cnt=0\n",
    "for i in a:\n",
    "  cnt+=1\n",
    "  total+=i\n",
    "print('총건수%d'%cnt)\n",
    "print('총합%d'%total)"
   ]
  },
  {
   "cell_type": "markdown",
   "metadata": {
    "id": "dic_rzhBX53K"
   },
   "source": [
    "##### [2-1] 추가자료임. len을 함수로 만들어 보아요.. 개념만 보면 됨.\n",
    "- 함수는 사용자가 필요한 계산식을 만들어놓은 식의 집합\n",
    "- 이러한 함수식이 한개 또는 여러개 있으며, 이 자료를 000.py 파일로 저장하여 \n",
    "- 여러사람이 공통으로 사용할 수 있음.\n",
    "- 이러한 자료는 import  000 로 모듈로 사용하게 됨"
   ]
  },
  {
   "cell_type": "code",
   "execution_count": null,
   "metadata": {
    "id": "DwfP-um3X53K"
   },
   "outputs": [],
   "source": [
    "## 2-1 자료임\n",
    "# 여기서는 ctrl+enter 해도 실행결과 없음.\n",
    "def mylen(x):\n",
    "    cnt=0\n",
    "    for i in x:\n",
    "        cnt+=1\n",
    "    return cnt"
   ]
  },
  {
   "cell_type": "code",
   "execution_count": null,
   "metadata": {
    "id": "2Ta4u6xgX53K",
    "outputId": "8b62dd4d-1ed4-4b82-97e0-f908e6234ca0"
   },
   "outputs": [
    {
     "data": {
      "text/plain": [
       "10"
      ]
     },
     "execution_count": 13,
     "metadata": {},
     "output_type": "execute_result"
    }
   ],
   "source": [
    "## 2-1 자료임\n",
    "a=[70, 60, 55, 75, 95, 90, 80, 80, 85, 100]\n",
    "mylen(a)     # mylen(a) 에서 a가  ==>  def mylen(x)의  ()안의 x값으로 할당되는 것임"
   ]
  },
  {
   "cell_type": "code",
   "execution_count": null,
   "metadata": {
    "id": "cWmwURqfAcql",
    "outputId": "d8b5c608-84bd-43a7-bd1a-1b462265cc2e"
   },
   "outputs": [
    {
     "name": "stdout",
     "output_type": "stream",
     "text": [
      "합은 =>195\n",
      "평균은 => 97.50\n"
     ]
    }
   ],
   "source": [
    "#########################################\n",
    "####### 미션 if함수와 for\n",
    "####### 점수중에 90이상의 자료만 합과 평균을 출력\n",
    "#########################################\n",
    "a=[70, 60, 55, 75, 95, 90, 80, 80, 85, 100]\n",
    "total=0;cnt=0\n",
    "\n",
    "for x in a:\n",
    "    if x>=90:\n",
    "        total+=x ; cnt+=1\n",
    "print('합은 =>%d' %total)\n",
    "print('평균은 =>% .2f'%(total/cnt))\n",
    "\n",
    "\n",
    "\n"
   ]
  },
  {
   "cell_type": "code",
   "execution_count": null,
   "metadata": {
    "colab": {
     "base_uri": "https://localhost:8080/"
    },
    "executionInfo": {
     "elapsed": 3,
     "status": "ok",
     "timestamp": 1646371291205,
     "user": {
      "displayName": "so pj",
      "photoUrl": "https://lh3.googleusercontent.com/a/default-user=s64",
      "userId": "02574474388741964814"
     },
     "user_tz": -540
    },
    "id": "z176Qn8XBBa0",
    "outputId": "1aa16eab-184d-4eee-a38a-3cffeb0d7e08"
   },
   "outputs": [
    {
     "name": "stdout",
     "output_type": "stream",
     "text": [
      "\n",
      "  ▶작업할 자료는 ===>\n",
      "[80, 40, 14, 15, 45, 47, 45, 45, 78, 20]\n",
      "총합은 ==> 429\n",
      "\n",
      "  ▶작업할 자료는 ===>\n",
      "[70, 60, 55, 75, 95, 90, 80, 80, 85, 100]\n",
      "총합은 ==> 790\n",
      "\n",
      "  ▶작업할 자료는 ===>\n",
      "[20, 28, 40, 70, 70, 20, 20, 70, 70, 80]\n",
      "총합은 ==> 488\n"
     ]
    }
   ],
   "source": [
    "#########################################\n",
    "####### 미션: 이중for\n",
    "####### data[0], data[1], data[2]의 총합 출력\n",
    "#########################################\n",
    "data=[[80,40,14,15,45,47,45,45,78,20],\n",
    "[70, 60, 55, 75, 95, 90, 80, 80, 85, 100],\n",
    "[20,28,40,70,70,20,20,70,70,80]]\n",
    "\n",
    "\n",
    "\n",
    "for i in data:\n",
    "    print('\\n  ▶작업할 자료는 ===>')  #\\n은 한줄 엔터됨\n",
    "    total=0\n",
    "    print(i)\n",
    "    for j in i:\n",
    "        total+=j\n",
    "    print('총합은 ==> %d'%total)"
   ]
  },
  {
   "cell_type": "markdown",
   "metadata": {
    "id": "WUhgm2iBX53L"
   },
   "source": [
    "## ▶Part3. for & 문자열\n",
    "- 문자열은  .split('나누고자하는글자') 로 작업함.\n",
    "    - 이렇게 나누어진 문자열은 리스트 구조로 들어감.\n",
    "    - 예)  x= '파이썬,R,빅데이터'.split(',')  하면 <br>\n",
    "           x[0]에는 '파이썬'  x[1]에는 'R'   x[2]에는 '빅데이터'  이 할당됨\n",
    "         "
   ]
  },
  {
   "cell_type": "code",
   "execution_count": null,
   "metadata": {
    "id": "y-hUtEYJLn3y",
    "outputId": "7b0f920b-670e-460f-cbd4-d5413a15ec14"
   },
   "outputs": [
    {
     "data": {
      "text/plain": [
       "['노트북', '모니터', '키보드']"
      ]
     },
     "execution_count": 16,
     "metadata": {},
     "output_type": "execute_result"
    }
   ],
   "source": [
    "#########################################\n",
    "####### 미션\n",
    "######  구글검색, 파이썬 문자 split\n",
    "#########################################\n",
    "\n",
    "# 아래의 문자열을 txt append에 '/' 단위로 구별하여서 추가\n",
    "# print해서 확인 txt[0]=> 노트북,  txt[1]=>모니터,  txt[2]=>키보드가 됨\n",
    "pumMok='노트북/모니터/키보드'\n",
    "\n",
    "pumMok.split('/')   \n",
    "\n"
   ]
  },
  {
   "cell_type": "code",
   "execution_count": null,
   "metadata": {
    "colab": {
     "base_uri": "https://localhost:8080/"
    },
    "executionInfo": {
     "elapsed": 3,
     "status": "ok",
     "timestamp": 1646038493172,
     "user": {
      "displayName": "so pj",
      "photoUrl": "https://lh3.googleusercontent.com/a/default-user=s64",
      "userId": "02574474388741964814"
     },
     "user_tz": -540
    },
    "id": "BihKputlMVOb",
    "outputId": "62af179a-05d0-4030-c134-f15b54161713"
   },
   "outputs": [
    {
     "name": "stdout",
     "output_type": "stream",
     "text": [
      "---[ [split로 나누어진 리스트],[split로나누어진 리스트]] 로 나옴---\n",
      "[['노트북', '모니터', '키보드'], ['키보드', '볼펜'], ['사인펜', '노트', 'usb', '형광펜']]\n",
      "\n",
      "\n",
      "\n",
      "---[ 리스트로나누어진자료,리스트로나누어진자료]---\n",
      "['노트북', '모니터', '키보드', '키보드', '볼펜', '사인펜', '노트', 'usb', '형광펜']\n",
      "\n",
      "\n",
      "\n",
      "---컴프리헨션으로 작업한 자료임.---\n",
      "['노트북', '모니터', '키보드', '키보드', '볼펜', '사인펜', '노트', 'usb', '형광펜']\n"
     ]
    }
   ],
   "source": [
    "#########################################\n",
    "####### 미션\n",
    "######  for를 이용하여 문자열을 나누고 txt에 append\n",
    "######  for컴프리헨션도 할수 있으면 해봄\n",
    "#########################################\n",
    "\n",
    "# '/'를 기준으로 나눔\n",
    "# txt 의 최종결과는\n",
    "# 노트북,모니터,키보드,키보드,볼펜,사인펜,노트,usb,형광펜\n",
    "\n",
    "pumMok=['노트북/모니터/키보드',\n",
    "        '키보드/볼펜',\n",
    "        '사인펜/노트/usb/형광펜']\n",
    "txt=[]\n",
    "for i in pumMok:\n",
    "    txt.append(i.split('/'))\n",
    "print('---[ [split로 나누어진 리스트],[split로나누어진 리스트]] 로 나옴---')\n",
    "print(txt) \n",
    "\n",
    "########################################################\n",
    "### 아래자료가 정답임\n",
    "#########################################################\n",
    "txt=[]\n",
    "for i in pumMok:\n",
    "    splitList=i.split('/')\n",
    "    for j in splitList:\n",
    "        txt.append(j)\n",
    "print('\\n\\n\\n---[ 리스트로나누어진자료,리스트로나누어진자료]---')\n",
    "print(txt)\n",
    "        \n",
    "\n",
    "#####################################################\n",
    "## 컴프리헨션\n",
    "#####################################################\n",
    "tmp=[j for i in pumMok for j in i.split('/')]\n",
    "print('\\n\\n\\n---컴프리헨션으로 작업한 자료임.---')\n",
    "print(txt)\n"
   ]
  },
  {
   "cell_type": "code",
   "execution_count": null,
   "metadata": {
    "id": "OouD9AFHMs5y"
   },
   "outputs": [],
   "source": [
    "#########################################\n",
    "####### 미션\n",
    "######  for를 이용하여 문자열을 나누고 txt에 append\n",
    "######  for컴프리헨션도 할수 있으면 해봄\n",
    "#########################################\n",
    "\n",
    "# 아래내용은 이중 for로 작업해야함.\n",
    "# 최종결과물은\n",
    "# txt=['노트북,모니터,키보드,키보드,볼펜,사인펜,노트',\n",
    "#      '키보드,전자칠판,스케치북,노트북']\n",
    "\n",
    "pumMok=[['노트북/모니터/키보드','키보드/볼펜','사인펜/노트'],\n",
    "        ['키보드/전자칠판','스케치북/노트북']]\n",
    "\n"
   ]
  },
  {
   "cell_type": "code",
   "execution_count": null,
   "metadata": {
    "id": "ukiGgNE9X53M",
    "outputId": "91699be7-3945-4e26-fde0-66ed37d6684a"
   },
   "outputs": [
    {
     "data": {
      "text/plain": [
       "['노트북,모니터,키보드', '키보드,볼펜', '사인펜,노트', '키보드,전자칠판', '스케치북,노트북']"
      ]
     },
     "execution_count": 19,
     "metadata": {},
     "output_type": "execute_result"
    }
   ],
   "source": [
    "##위의 작업은 두가지 결과로 제작할수 있음.\n",
    "# 결과물1.은 한개의 리스트에  단어별로 자료를 넣음.\n",
    "pumMok=[['노트북/모니터/키보드','키보드/볼펜','사인펜/노트'],\n",
    "        ['키보드/전자칠판','스케치북/노트북']]\n",
    "txt=[];\n",
    "\n",
    "for i in pumMok:\n",
    "    for j in i:\n",
    "        tmp='';cnt=0\n",
    "        for z in j.split('/'):\n",
    "            \n",
    "            if cnt==0:\n",
    "                tmp=tmp+z\n",
    "            else:\n",
    "                tmp=tmp+','+z\n",
    "            cnt+=1\n",
    "        txt.append(tmp)\n",
    "\n",
    "txt"
   ]
  },
  {
   "cell_type": "code",
   "execution_count": null,
   "metadata": {
    "id": "PhZFSt0iX53M",
    "outputId": "c847a2b4-aae7-45a6-d713-22e26e7b8fd0"
   },
   "outputs": [
    {
     "data": {
      "text/plain": [
       "['노트북,모니터,키보드', '키보드,볼펜', '사인펜,노트', '키보드,전자칠판', '스케치북,노트북']"
      ]
     },
     "execution_count": 18,
     "metadata": {},
     "output_type": "execute_result"
    }
   ],
   "source": [
    "##위의 작업은 두가지 결과로 제작할수 있음.\n",
    "# 결과물2.는 한개의 리스트에  같은 리스트 자료를 \n",
    "# ' 리스트1의단어1, 리스트1의단어2, 리스트1의단어3', ' 리스트2의단어1,리스트2의단어2,리스트2의단어3'\n",
    "pumMok=[['노트북/모니터/키보드','키보드/볼펜','사인펜/노트'],\n",
    "        ['키보드/전자칠판','스케치북/노트북']]\n",
    "txt=[];\n",
    "\n",
    "for i in pumMok:\n",
    "    for j in i:\n",
    "        tmp='';cnt=0\n",
    "        for z in j.split('/'):\n",
    "            \n",
    "            if cnt==0:\n",
    "                tmp=tmp+z\n",
    "            else:\n",
    "                tmp=tmp+','+z\n",
    "            cnt+=1\n",
    "        txt.append(tmp)\n",
    "\n",
    "txt"
   ]
  },
  {
   "cell_type": "markdown",
   "metadata": {
    "id": "XX3gWEemX53N"
   },
   "source": [
    "## ▶Part4. for의 enumerate\n",
    "- cnt를 별도로 정의하지 않고 0,1,2,3,4의 count를 제공하는 함수\n",
    "- Part3의 코드를 enumerate함수로 변환해보아도 좋음.\n",
    "- 지금은 개념만 알고 있어도 됨"
   ]
  },
  {
   "cell_type": "code",
   "execution_count": null,
   "metadata": {
    "id": "hhzCwzmUX53N",
    "outputId": "d3f1111e-5714-4c79-df4d-47c12d2976e8"
   },
   "outputs": [
    {
     "name": "stdout",
     "output_type": "stream",
     "text": [
      "(0, ['노트북/모니터/키보드', '키보드/볼펜', '사인펜/노트'])\n",
      "---------------------\n",
      "0\n",
      "(1, ['키보드/전자칠판', '스케치북/노트북'])\n",
      "---------------------\n",
      "1\n"
     ]
    }
   ],
   "source": [
    "pumMok=[['노트북/모니터/키보드','키보드/볼펜','사인펜/노트'],\n",
    "        ['키보드/전자칠판','스케치북/노트북']]\n",
    "for entry in enumerate(pumMok):\n",
    "    print(entry)\n",
    "    print('---------------------')\n",
    "    print(entry[0])"
   ]
  },
  {
   "cell_type": "markdown",
   "metadata": {
    "id": "YfGrrlp60j8G"
   },
   "source": [
    "## ▶Part5. for 매개변수1,매개변수2 in zip(객체1,객체2):\n",
    "### 미션없음. 확인만 하세요"
   ]
  },
  {
   "cell_type": "code",
   "execution_count": null,
   "metadata": {
    "colab": {
     "base_uri": "https://localhost:8080/"
    },
    "executionInfo": {
     "elapsed": 624,
     "status": "ok",
     "timestamp": 1646025814049,
     "user": {
      "displayName": "so pj",
      "photoUrl": "https://lh3.googleusercontent.com/a/default-user=s64",
      "userId": "02574474388741964814"
     },
     "user_tz": -540
    },
    "id": "7w1fRe5Ucoe9",
    "outputId": "3cf761a3-6fe5-46b5-d97f-6cc33cbdd646"
   },
   "outputs": [
    {
     "data": {
      "text/plain": [
       "[int, float, str]"
      ]
     },
     "execution_count": 79,
     "metadata": {},
     "output_type": "execute_result"
    }
   ],
   "source": [
    "# a객체의 자료와 type을 튜를로 묶기\n",
    "# 작업1: 데이터타입 확인하기\n",
    "a=[1,2.5,'abc']\n",
    "\n",
    "datatype=[]\n",
    "for i in a:\n",
    "  datatype.append(type(i))\n",
    "datatype\n",
    "\n",
    "# 컴프리헨션으로 아래와 같이 작업가능\n",
    "datatype=[type(i) for i in a]\n"
   ]
  },
  {
   "cell_type": "code",
   "execution_count": null,
   "metadata": {
    "colab": {
     "base_uri": "https://localhost:8080/"
    },
    "executionInfo": {
     "elapsed": 2,
     "status": "ok",
     "timestamp": 1646026273932,
     "user": {
      "displayName": "so pj",
      "photoUrl": "https://lh3.googleusercontent.com/a/default-user=s64",
      "userId": "02574474388741964814"
     },
     "user_tz": -540
    },
    "id": "Yj5PJYlUyLVw",
    "outputId": "2f82cd18-1a3b-49df-dc1b-2bcfdba9be0c"
   },
   "outputs": [
    {
     "name": "stdout",
     "output_type": "stream",
     "text": [
      "[(1, <class 'int'>), (2.5, <class 'float'>), ('abc', <class 'str'>)]\n",
      "\n",
      "\n",
      "-------------- 컴프리헨션으로 작업함\n"
     ]
    },
    {
     "data": {
      "text/plain": [
       "[(1, int), (2.5, float), ('abc', str)]"
      ]
     },
     "execution_count": 92,
     "metadata": {},
     "output_type": "execute_result"
    }
   ],
   "source": [
    "# a객체의 자료와 type을 튜를로 묶기\n",
    "# 작업2: 자료아 데이터타입을 for에 넣기\n",
    "\n",
    "datatypeTuple=[]\n",
    "for (i,j) in zip(a,datatype):\n",
    "  x=(i,j)\n",
    "  datatypeTuple.append(x)\n",
    "print(datatypeTuple)\n",
    "\n",
    "\n",
    "# 컴프리헨션으로 아래와 같이 작업가능\n",
    "print('\\n\\n-------------- 컴프리헨션으로 작업함')\n",
    "datatypeTuple=[(i,j) for i,j in zip(a,datatype)]\n",
    "datatypeTuple\n"
   ]
  }
 ],
 "metadata": {
  "colab": {
   "collapsed_sections": [],
   "name": "1. 답_미션제출 for_if미션.ipynb",
   "provenance": []
  },
  "kernelspec": {
   "display_name": "Python 3 (ipykernel)",
   "language": "python",
   "name": "python3"
  },
  "language_info": {
   "codemirror_mode": {
    "name": "ipython",
    "version": 3
   },
   "file_extension": ".py",
   "mimetype": "text/x-python",
   "name": "python",
   "nbconvert_exporter": "python",
   "pygments_lexer": "ipython3",
   "version": "3.10.4"
  }
 },
 "nbformat": 4,
 "nbformat_minor": 1
}
