{
 "cells": [
  {
   "cell_type": "code",
   "execution_count": 7,
   "id": "b8834539",
   "metadata": {},
   "outputs": [
    {
     "data": {
      "text/plain": [
       "'C:\\\\Users\\\\user\\\\Desktop\\\\허미현 강사님\\\\2022.07.22'"
      ]
     },
     "execution_count": 7,
     "metadata": {},
     "output_type": "execute_result"
    }
   ],
   "source": [
    "pwd"
   ]
  },
  {
   "cell_type": "code",
   "execution_count": 8,
   "id": "8b23a302",
   "metadata": {},
   "outputs": [],
   "source": [
    "import os\n",
    "from PIL import Image\n",
    "\n",
    "# 경로 설정 및 파일목록 불러오기\n",
    "path = './images/'\n",
    "files = os.listdir(path)"
   ]
  },
  {
   "cell_type": "code",
   "execution_count": 9,
   "id": "08fab7c9",
   "metadata": {},
   "outputs": [],
   "source": [
    "# 강아지, 고양이로 분류 (중복 제거)\n",
    "# 폴더가 없다면 해당 이름으로 생성\n",
    "file_names = []\n",
    "for file in files:\n",
    "    file_names.append(file[0:3])\n",
    "\n",
    "file_set = set(file_names)\n",
    "# print(file_set)\n",
    "\n",
    "# for folder in file_set:\n",
    "#     # print(folder)\n",
    "#     if folder not in files:\n",
    "#         os.mkdir(path + folder)\n",
    "        \n",
    "#----------------------------\n",
    "for folder in file_set:\n",
    "    # print(folder)\n",
    "    if os.path.exists(path + folder) == False:\n",
    "        os.mkdir(path + folder)"
   ]
  },
  {
   "cell_type": "code",
   "execution_count": 27,
   "id": "436f2324",
   "metadata": {},
   "outputs": [],
   "source": [
    "from PIL import ImageFilter\n",
    "\n",
    "# 이미지를 불러와서 필터를 적용하고 각 폴더에 저장\n",
    "for file in files:\n",
    "    # print(file)\n",
    "    img = Image.open(path+file)\n",
    "    img_filtered = img.filter(ImageFilter.EDGE_ENHANCE)\n",
    "    # img_filtered.show()\n",
    "    \n",
    "    img_filtered.save(path + file[:3] + '/' + file)\n",
    "    \n",
    "#     if '강아지' in img.filename:\n",
    "#         img.save(path + '강아지/' + img.filename)\n",
    "#     elif '고양이' in img.filename:\n",
    "#         img.save(path + '고양이/' + img.filename)\n",
    "#     elif '독수리' in img.filename:\n",
    "#         img.save(path + '독수리/' + img.filename)\n"
   ]
  },
  {
   "cell_type": "code",
   "execution_count": null,
   "id": "facea047",
   "metadata": {},
   "outputs": [],
   "source": []
  }
 ],
 "metadata": {
  "kernelspec": {
   "display_name": "Python 3 (ipykernel)",
   "language": "python",
   "name": "python3"
  },
  "language_info": {
   "codemirror_mode": {
    "name": "ipython",
    "version": 3
   },
   "file_extension": ".py",
   "mimetype": "text/x-python",
   "name": "python",
   "nbconvert_exporter": "python",
   "pygments_lexer": "ipython3",
   "version": "3.10.4"
  }
 },
 "nbformat": 4,
 "nbformat_minor": 5
}
