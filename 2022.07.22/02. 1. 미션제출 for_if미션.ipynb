{
 "cells": [
  {
   "cell_type": "markdown",
   "metadata": {
    "id": "SUgG24ReXfzW"
   },
   "source": [
    "## for & range\n",
    "- for 매개변수 in range(숫자):\n",
    "       0에서 숫자-1 의 횟수만큼 for안의 구문을 반복함\n",
    "- for 매개변수 in range(시작숫자,끝숫자):\n",
    "      시작숫자에서 끝숫자-1 번 횟수만큼 for 구문을 반복함\n"
   ]
  },
  {
   "cell_type": "code",
   "execution_count": 4,
   "metadata": {},
   "outputs": [
    {
     "name": "stdout",
     "output_type": "stream",
     "text": [
      "[[0, '안녕'], [1, '안녕'], [2, '안녕'], [3, '안녕'], [4, '안녕']]\n",
      "[[0, '안녕'], [1, '안녕'], [2, '안녕'], [3, '안녕'], [4, '안녕']]\n"
     ]
    }
   ],
   "source": [
    "res = []\n",
    "for i in range(5):\n",
    "    res.append([i,'안녕'])\n",
    "print(res)\n",
    "\n",
    "res = [[i,'안녕'] for i in range(5)]\n",
    "print(res)"
   ]
  },
  {
   "cell_type": "code",
   "execution_count": null,
   "metadata": {
    "colab": {
     "base_uri": "https://localhost:8080/"
    },
    "executionInfo": {
     "elapsed": 2,
     "status": "ok",
     "timestamp": 1646019215224,
     "user": {
      "displayName": "so pj",
      "photoUrl": "https://lh3.googleusercontent.com/a/default-user=s64",
      "userId": "02574474388741964814"
     },
     "user_tz": -540
    },
    "id": "HAPb59bhXkTf",
    "outputId": "73750587-148a-4932-d221-db8fa4068061"
   },
   "outputs": [
    {
     "name": "stdout",
     "output_type": "stream",
     "text": [
      "연습\n",
      "연습\n",
      "연습\n",
      "연습\n",
      "연습\n",
      "\n",
      "--- 위의 구문을 압축기법(comprehension) 으로 표현하는 아래와 같음--\n"
     ]
    },
    {
     "data": {
      "text/plain": [
       "['연습', '연습', '연습', '연습', '연습']"
      ]
     },
     "execution_count": 14,
     "metadata": {},
     "output_type": "execute_result"
    }
   ],
   "source": [
    "# '연습' 이라는 단어를 0번,1번,2번,3번,4번 출력함.\n",
    "for i in range(5):\n",
    "  print('연습')\n",
    "\n",
    "# \\n한개는  enter한번임\n",
    "print('\\n--- 위의 구문을 압축기법(comprehension) 으로 표현하는 아래와 같음--')\n",
    "['연습' for i in range(5)]"
   ]
  },
  {
   "cell_type": "code",
   "execution_count": null,
   "metadata": {
    "colab": {
     "base_uri": "https://localhost:8080/"
    },
    "executionInfo": {
     "elapsed": 440,
     "status": "ok",
     "timestamp": 1646032369698,
     "user": {
      "displayName": "so pj",
      "photoUrl": "https://lh3.googleusercontent.com/a/default-user=s64",
      "userId": "02574474388741964814"
     },
     "user_tz": -540
    },
    "id": "yFDek6lDZARn",
    "outputId": "82fb3854-127d-4a78-982d-023e31516035"
   },
   "outputs": [
    {
     "name": "stdout",
     "output_type": "stream",
     "text": [
      "0\n",
      "1\n",
      "2\n",
      "3\n",
      "4\n",
      "\n",
      "--- 위의 구문을 압축기법(comprehension) 으로 표현하는 아래와 같음--\n"
     ]
    }
   ],
   "source": [
    "# range(5)의 0,1,2,3,4를 i에 할당함\n",
    "for i in range(5):\n",
    "  print(i)"
   ]
  },
  {
   "cell_type": "code",
   "execution_count": 8,
   "metadata": {
    "id": "YvdR3SXULLSy"
   },
   "outputs": [
    {
     "name": "stdout",
     "output_type": "stream",
     "text": [
      "[0, 1, 2, 3, 4]\n",
      "['연습', '연습', '연습', '연습', '연습']\n",
      "[[0, '연습'], [1, '연습'], [2, '연습'], [3, '연습'], [4, '연습']]\n",
      "[[10, '연습'], [20, '연습'], [30, '연습'], [40, '연습'], [50, '연습']]\n"
     ]
    }
   ],
   "source": [
    "#########################\n",
    "##### [미션]\n",
    "##### 2~3번의 for를 압축기법으로 한줄로 작성\n",
    "########################\n",
    "\n",
    "a = [i for i in range(5)]\n",
    "b = ['연습' for i in range(5)]\n",
    "c = [[i,'연습'] for i in range(5)]\n",
    "d = [[i,'연습'] for i in range(10,60,10)]\n",
    "print(a)\n",
    "print(b)\n",
    "print(c)\n",
    "print(d)"
   ]
  },
  {
   "cell_type": "code",
   "execution_count": null,
   "metadata": {
    "colab": {
     "base_uri": "https://localhost:8080/"
    },
    "executionInfo": {
     "elapsed": 428,
     "status": "ok",
     "timestamp": 1646020100239,
     "user": {
      "displayName": "so pj",
      "photoUrl": "https://lh3.googleusercontent.com/a/default-user=s64",
      "userId": "02574474388741964814"
     },
     "user_tz": -540
    },
    "id": "4z30oaw_ZT7S",
    "outputId": "84d99ea6-c728-4ba1-ec05-7231e2c330e9"
   },
   "outputs": [
    {
     "name": "stdout",
     "output_type": "stream",
     "text": [
      "[26, 28, 14, 3, 37, 6]\n",
      "{3, 37, 6, 14, 26, 28}\n"
     ]
    }
   ],
   "source": [
    "## range구문을 이용하여서 로또번호 6개 숫자를 고름\n",
    "##  0번index에 로또번호1, 1번index에 로또번호2, 2번index에 로또번호3.......5번index에 로또번호 6\n",
    "## range는 반복횟수임.\n",
    "import random\n",
    "lotto=[]\n",
    "for i in range(6):\n",
    "  lotto.append(random.randrange(1,45))\n",
    "\n",
    "print(lotto)    # 중복값이 있을수 있음.\n",
    "print(set(lotto))  # 중복제거해서 보여주기"
   ]
  },
  {
   "cell_type": "code",
   "execution_count": 12,
   "metadata": {},
   "outputs": [
    {
     "name": "stdout",
     "output_type": "stream",
     "text": [
      "95\n",
      "25\n"
     ]
    }
   ],
   "source": [
    "import random\n",
    "\n",
    "a = int(random.random()*100)\n",
    "b = random.randrange(1,45)\n",
    "\n",
    "print(a)\n",
    "print(b)"
   ]
  },
  {
   "cell_type": "code",
   "execution_count": 11,
   "metadata": {
    "colab": {
     "base_uri": "https://localhost:8080/"
    },
    "executionInfo": {
     "elapsed": 2,
     "status": "ok",
     "timestamp": 1646020085958,
     "user": {
      "displayName": "so pj",
      "photoUrl": "https://lh3.googleusercontent.com/a/default-user=s64",
      "userId": "02574474388741964814"
     },
     "user_tz": -540
    },
    "id": "ekwNKG0lcBbo",
    "outputId": "f912d43a-dcd0-4373-b3c3-558f5dd2ae2f"
   },
   "outputs": [
    {
     "name": "stdout",
     "output_type": "stream",
     "text": [
      "[12, 6, 6, 38, 13, 37]\n",
      "{37, 38, 6, 12, 13}\n",
      "\n"
     ]
    },
    {
     "data": {
      "text/plain": [
       "[[15, 44, 42, 16, 10, 34],\n",
       " [16, 28, 32, 1, 23, 8],\n",
       " [12, 1, 34, 30, 23, 18],\n",
       " [24, 6, 12, 14, 43, 15],\n",
       " [18, 39, 31, 32, 12, 9],\n",
       " [31, 2, 6, 8, 3, 38],\n",
       " [38, 20, 6, 5, 6, 25],\n",
       " [25, 16, 22, 7, 13, 3],\n",
       " [10, 25, 12, 40, 22, 18],\n",
       " [1, 19, 17, 23, 40, 3]]"
      ]
     },
     "execution_count": 11,
     "metadata": {},
     "output_type": "execute_result"
    }
   ],
   "source": [
    "#########################\n",
    "##### [미션]\n",
    "##### 5~8번의 for를 압축기법으로 한줄로 작성\n",
    "########################\n",
    "\n",
    "import random\n",
    "\n",
    "lotto = [random.randrange(1,45) for i in range(6)]\n",
    "print(lotto)\n",
    "print(set(lotto))\n",
    "print()\n",
    "\n",
    "\n",
    "res = []\n",
    "lotto = []\n",
    "for c in range(10):\n",
    "    lotto = []\n",
    "    for i in range(6):\n",
    "        lotto.append(random.randrange(1,45))\n",
    "    res.append(lotto)\n",
    "res"
   ]
  },
  {
   "cell_type": "code",
   "execution_count": null,
   "metadata": {
    "colab": {
     "base_uri": "https://localhost:8080/"
    },
    "executionInfo": {
     "elapsed": 445,
     "status": "ok",
     "timestamp": 1646032415907,
     "user": {
      "displayName": "so pj",
      "photoUrl": "https://lh3.googleusercontent.com/a/default-user=s64",
      "userId": "02574474388741964814"
     },
     "user_tz": -540
    },
    "id": "3PHko4oscb-O",
    "outputId": "0972bc38-0dca-4e63-dae2-5e4125447647"
   },
   "outputs": [
    {
     "name": "stdout",
     "output_type": "stream",
     "text": [
      "20%2, 22%2, 19%2, 35%2 를 계산한 결과, %는 잉여연산자==>\n",
      "0 0 1 1\n",
      "-------------------------------------\n",
      "0\n",
      "2\n",
      "4\n",
      "6\n",
      "8\n"
     ]
    }
   ],
   "source": [
    "#####  홀수, 짝수\n",
    "# 홀수, 짝수는 2로 나누었을때 나머지값이 0이면 짝수, 1이면 홀수(또는 0외의값) 으로 계산하면 편리함\n",
    "print('20%2, 22%2, 19%2, 35%2 를 계산한 결과, %는 잉여연산자==>')\n",
    "print(20%2, 22%2, 19%2, 35%2)\n",
    "print('-------------------------------------')\n",
    "\n",
    "# 0~9까지 짝수값만 출력\n",
    "for i in range(10):\n",
    "  if i%2==0:\n",
    "    print(i)\n",
    "\n"
   ]
  },
  {
   "cell_type": "code",
   "execution_count": 10,
   "metadata": {
    "colab": {
     "base_uri": "https://localhost:8080/"
    },
    "executionInfo": {
     "elapsed": 2,
     "status": "ok",
     "timestamp": 1646020580156,
     "user": {
      "displayName": "so pj",
      "photoUrl": "https://lh3.googleusercontent.com/a/default-user=s64",
      "userId": "02574474388741964814"
     },
     "user_tz": -540
    },
    "id": "QG2WXY24dt20",
    "outputId": "98b29703-036f-4199-f577-40577f174d9d"
   },
   "outputs": [
    {
     "data": {
      "text/plain": [
       "[0, 2, 4, 6, 8]"
      ]
     },
     "execution_count": 10,
     "metadata": {},
     "output_type": "execute_result"
    }
   ],
   "source": [
    "#########################\n",
    "##### [미션]if와 for 컴프리헨션\n",
    "##### 8~13번의 for를 압축기법으로 한줄로 작성\n",
    "########################\n",
    "\n",
    "[i for i in range(10) if i%2==0]"
   ]
  },
  {
   "cell_type": "markdown",
   "metadata": {
    "id": "3Gcm0mTmccyU"
   },
   "source": [
    "## for 객체\n",
    "- for 매개변수 in 객체명:\n",
    "      객체명의 자료 0번 index부터 len(객체명) 인덱스까지 차례로 매개변수에 할당  \n",
    "      즉  매개변수=객체명[0],..... 매개변수=객체명[len(객체명)]\n"
   ]
  },
  {
   "cell_type": "code",
   "execution_count": null,
   "metadata": {
    "colab": {
     "base_uri": "https://localhost:8080/"
    },
    "executionInfo": {
     "elapsed": 557,
     "status": "ok",
     "timestamp": 1646032462484,
     "user": {
      "displayName": "so pj",
      "photoUrl": "https://lh3.googleusercontent.com/a/default-user=s64",
      "userId": "02574474388741964814"
     },
     "user_tz": -540
    },
    "id": "bMFj2TMz0iJP",
    "outputId": "f2a5790f-6910-4cdc-f9df-b0efc168209b"
   },
   "outputs": [
    {
     "name": "stdout",
     "output_type": "stream",
     "text": [
      "총 10 건의 자료가 있으며 총합은 790이며, 평균은 79.00임(총합/len(a))\n"
     ]
    }
   ],
   "source": [
    "# A 학급에 총 10명의 학생이 있다. 이 학생들의 중간고사 점수는 다음과 같다.\n",
    "# [70, 60, 55, 75, 95, 90, 80, 80, 85, 100]\n",
    "# 이 학급학생의 총점수를 구함. (numpy가 아닌 for 로)\n",
    "\n",
    "\n",
    "a=[70, 60, 55, 75, 95, 90, 80, 80, 85, 100]\n",
    "total=0\n",
    "\n",
    "for i in a:\n",
    "  total+=i             # total=total+i와 같음\n",
    "\n",
    "# 소숫점은 float로서 %.2f는  float형이며 소수이하 2자리표현하자라는뜻(.2)\n",
    "print(\"총 %d 건의 자료가 있으며 총합은 %d이며, 평균은 %.2f임(총합/len(a))\"%(len(a),total,total/len(a)))"
   ]
  },
  {
   "cell_type": "code",
   "execution_count": null,
   "metadata": {
    "colab": {
     "base_uri": "https://localhost:8080/"
    },
    "executionInfo": {
     "elapsed": 2,
     "status": "ok",
     "timestamp": 1646029684431,
     "user": {
      "displayName": "so pj",
      "photoUrl": "https://lh3.googleusercontent.com/a/default-user=s64",
      "userId": "02574474388741964814"
     },
     "user_tz": -540
    },
    "id": "8zGmaVepAm-k",
    "outputId": "6caf6bd6-f8d8-4f36-d0ba-14aef18e6a13"
   },
   "outputs": [
    {
     "name": "stdout",
     "output_type": "stream",
     "text": [
      "총건수10\n",
      "총합790\n"
     ]
    }
   ],
   "source": [
    "### len함수가 없을때는 사용자가 직접 count를 해줌\n",
    "a=[70, 60, 55, 75, 95, 90, 80, 80, 85, 100]\n",
    "total=0 ; cnt=0\n",
    "for i in a:\n",
    "  cnt+=1\n",
    "  total+=i\n",
    "print('총건수%d'%cnt)\n",
    "print('총합%d'%total)"
   ]
  },
  {
   "cell_type": "code",
   "execution_count": 13,
   "metadata": {
    "id": "cWmwURqfAcql"
   },
   "outputs": [
    {
     "name": "stdout",
     "output_type": "stream",
     "text": [
      "합: 285\n",
      "평균: 95.0\n"
     ]
    }
   ],
   "source": [
    "#########################################\n",
    "####### 미션 if함수와 for\n",
    "####### 점수중에 90이상의 자료만 합과 평균을 출력\n",
    "#########################################\n",
    "a=[70, 60, 55, 75, 95, 90, 80, 80, 85, 100]\n",
    "total=0\n",
    "sum = 0\n",
    "cnt = 0\n",
    "\n",
    "for i in a:\n",
    "    if i >= 90:\n",
    "        sum = sum + i\n",
    "        cnt = cnt + 1\n",
    "print('합:', sum)\n",
    "print('평균:', sum/cnt)"
   ]
  },
  {
   "cell_type": "code",
   "execution_count": 14,
   "metadata": {
    "id": "z176Qn8XBBa0"
   },
   "outputs": [
    {
     "name": "stdout",
     "output_type": "stream",
     "text": [
      "1707\n"
     ]
    }
   ],
   "source": [
    "#########################################\n",
    "####### 미션: 이중for\n",
    "####### data[0], data[1], data[2]의 총합 출력\n",
    "#########################################\n",
    "data=[[80,40,14,15,45,47,45,45,78,20],\n",
    "[70, 60, 55, 75, 95, 90, 80, 80, 85, 100],\n",
    "[20,28,40,70,70,20,20,70,70,80]]\n",
    "\n",
    "sum = 0\n",
    "for i in data:\n",
    "    for j in i:\n",
    "        sum = sum + j\n",
    "print(sum)"
   ]
  },
  {
   "cell_type": "code",
   "execution_count": 15,
   "metadata": {
    "id": "y-hUtEYJLn3y"
   },
   "outputs": [
    {
     "name": "stdout",
     "output_type": "stream",
     "text": [
      "['노트북', '모니터', '키보드']\n"
     ]
    }
   ],
   "source": [
    "#########################################\n",
    "####### 미션\n",
    "######  구글검색, 파이썬 문자 split\n",
    "#########################################\n",
    "\n",
    "# 아래의 문자열을 txt append에 '/' 단위로 구별하여서 추가\n",
    "# print해서 확인 txt[0]=> 노트북,  txt[1]=>모니터,  txt[2]=>키보드가 됨\n",
    "pumMok='노트북/모니터/키보드'\n",
    "\n",
    "txt = pumMok.split('/')\n",
    "print(txt)"
   ]
  },
  {
   "cell_type": "code",
   "execution_count": null,
   "metadata": {
    "colab": {
     "base_uri": "https://localhost:8080/"
    },
    "executionInfo": {
     "elapsed": 3,
     "status": "ok",
     "timestamp": 1646038493172,
     "user": {
      "displayName": "so pj",
      "photoUrl": "https://lh3.googleusercontent.com/a/default-user=s64",
      "userId": "02574474388741964814"
     },
     "user_tz": -540
    },
    "id": "BihKputlMVOb",
    "outputId": "62af179a-05d0-4030-c134-f15b54161713"
   },
   "outputs": [
    {
     "name": "stdout",
     "output_type": "stream",
     "text": [
      "['노트북', '모니터', '키보드']\n",
      "['키보드', '볼펜']\n",
      "['사인펜', '노트', 'usb', '형광펜']\n"
     ]
    },
    {
     "data": {
      "text/plain": [
       "[]"
      ]
     },
     "execution_count": 147,
     "metadata": {},
     "output_type": "execute_result"
    }
   ],
   "source": [
    "#########################################\n",
    "####### 미션\n",
    "######  for를 이용하여 문자열을 나누고 txt에 append\n",
    "######  for컴프리헨션도 할수 있으면 해봄\n",
    "#########################################\n",
    "\n",
    "# '/'를 기준으로 나눔\n",
    "# txt 의 최종결과는\n",
    "# 노트북,모니터,키보드,키보드,볼펜,사인펜,노트,usb,형광펜\n",
    "\n",
    "pumMok=['노트북/모니터/키보드',\n",
    "        '키보드/볼펜',\n",
    "        '사인펜/노트/usb/형광펜']\n",
    "txt=[]\n",
    "for i in pumMok:\n",
    "  print(i.split('/'))\n",
    "\n",
    "txt\n"
   ]
  },
  {
   "cell_type": "code",
   "execution_count": 21,
   "metadata": {},
   "outputs": [
    {
     "name": "stdout",
     "output_type": "stream",
     "text": [
      "[['노트북', '모니터', '키보드'], ['키보드', '볼펜'], ['사인펜', '노트', 'usb', '형광펜']]\n",
      "\n",
      "[['노트북', '모니터', '키보드'], ['키보드', '볼펜'], ['사인펜', '노트', 'usb', '형광펜']]\n",
      "['노트북', '키보드', '사인펜']\n",
      "['키보드', '볼펜', '형광펜']\n"
     ]
    }
   ],
   "source": [
    "pumMok=['노트북/모니터/키보드',\n",
    "        '키보드/볼펜',\n",
    "        '사인펜/노트/usb/형광펜']\n",
    "\n",
    "res = []\n",
    "for i in pumMok:\n",
    "    res.append(i.split('/'))\n",
    "print(res)\n",
    "print()\n",
    "\n",
    "a = [i.split('/') for i in pumMok]\n",
    "print(a)\n",
    "\n",
    "b = [i.split('/')[0] for i in pumMok]\n",
    "print(b)\n",
    "\n",
    "c = [i.split('/')[-1] for i in pumMok]\n",
    "print(c)"
   ]
  },
  {
   "cell_type": "code",
   "execution_count": 41,
   "metadata": {
    "id": "OouD9AFHMs5y"
   },
   "outputs": [
    {
     "name": "stdout",
     "output_type": "stream",
     "text": [
      "['노트북', '모니터', '키보드', '키보드', '볼펜', '사인펜', '노트', '키보드', '전자칠판', '스케치북', '노트북']\n",
      "['노트북', '모니터', '키보드', '키보드', '볼펜', '사인펜', '노트', '키보드', '전자칠판', '스케치북', '노트북']\n",
      "['노트북', '모니터', '키보드', '키보드', '볼펜', '사인펜', '노트', '키보드', '전자칠판', '스케치북', '노트북']\n"
     ]
    }
   ],
   "source": [
    "#########################################\n",
    "####### 미션\n",
    "######  for를 이용하여 문자열을 나누고 txt에 append\n",
    "######  for컴프리헨션도 할수 있으면 해봄\n",
    "#########################################\n",
    "\n",
    "# 아래내용은 이중 for로 작업해야함.\n",
    "# 최종결과물은\n",
    "# txt=['노트북,모니터,키보드,키보드,볼펜,사인펜,노트',\n",
    "#      '키보드,전자칠판,스케치북,노트북']\n",
    "\n",
    "pumMok=[['노트북/모니터/키보드','키보드/볼펜','사인펜/노트'],\n",
    "        ['키보드/전자칠판','스케치북/노트북']]\n",
    "\n",
    "# ----------------------------------\n",
    "res = []\n",
    "for i in pumMok:\n",
    "    for j in i:\n",
    "        for k in j.split('/'):\n",
    "            res.append(k)\n",
    "print(res)\n",
    "\n",
    "# ----------------------------------\n",
    "res = []\n",
    "for i in pumMok:\n",
    "    res.append('/'.join(i))\n",
    "res = '/'.join(res)\n",
    "res = res.split('/')\n",
    "print(res)\n",
    "\n",
    "# ----------------------------------\n",
    "res = []\n",
    "for i in pumMok:\n",
    "    tmp ='/'.join(i)\n",
    "    tmp = tmp.split('/')\n",
    "    res = res + tmp\n",
    "print(res)\n",
    "\n",
    "# extend: list + list 인데 2차원 배열로 들어감\n",
    "# append: list + list 인데 2차원 배열로 들어감\n",
    "# join: ['a', 'b', 'c']를 ['a/b/c']로 합침\n",
    "# split: ['a/b/c']를 ['a', 'b', 'c']로 나눔\n",
    "# list + list: 1차원 배열로 들어감"
   ]
  },
  {
   "cell_type": "markdown",
   "metadata": {
    "id": "YfGrrlp60j8G"
   },
   "source": [
    "## for 매개변수1,매개변수2 in zip(객체1,객체2):\n",
    "## 미션없음. 확인만 하세요"
   ]
  },
  {
   "cell_type": "code",
   "execution_count": 52,
   "metadata": {},
   "outputs": [
    {
     "name": "stdout",
     "output_type": "stream",
     "text": [
      "[<class 'int'>, <class 'float'>, <class 'str'>]\n",
      "[<class 'int'>, <class 'float'>, <class 'str'>]\n",
      "[<class 'int'>, <class 'float'>, <class 'str'>, <class 'int'>, <class 'int'>, <class 'int'>, <class 'str'>, <class 'str'>]\n",
      "<class 'int'>\n",
      "['abc', 'a', 'b']\n"
     ]
    }
   ],
   "source": [
    "a=[1,2.5,'abc']\n",
    "datatype = []\n",
    "\n",
    "for i in a:\n",
    "    datatype.append(type(i))\n",
    "print(datatype)\n",
    "\n",
    "b = [type(i) for i in a]\n",
    "print(b)\n",
    "\n",
    "a=[1,2.5,'abc',1,2,3,'a','b']\n",
    "c = [type(i) for i in a]\n",
    "print(c)\n",
    "print(str(c[0]))\n",
    "\n",
    "res_str = []\n",
    "for d, t in zip(a, c):\n",
    "    if str(t) == \"<class 'str'>\":\n",
    "        res_str.append(d)\n",
    "print(res_str)"
   ]
  },
  {
   "cell_type": "code",
   "execution_count": null,
   "metadata": {
    "colab": {
     "base_uri": "https://localhost:8080/"
    },
    "executionInfo": {
     "elapsed": 624,
     "status": "ok",
     "timestamp": 1646025814049,
     "user": {
      "displayName": "so pj",
      "photoUrl": "https://lh3.googleusercontent.com/a/default-user=s64",
      "userId": "02574474388741964814"
     },
     "user_tz": -540
    },
    "id": "7w1fRe5Ucoe9",
    "outputId": "3cf761a3-6fe5-46b5-d97f-6cc33cbdd646"
   },
   "outputs": [
    {
     "data": {
      "text/plain": [
       "[int, float, str]"
      ]
     },
     "execution_count": 79,
     "metadata": {},
     "output_type": "execute_result"
    }
   ],
   "source": [
    "# a객체의 자료와 type을 튜를로 묶기\n",
    "# 작업1: 데이터타입 확인하기\n",
    "a=[1,2.5,'abc']\n",
    "\n",
    "datatype=[]\n",
    "for i in a:\n",
    "  datatype.append(type(i))\n",
    "datatype\n",
    "\n",
    "# 컴프리헨션으로 아래와 같이 작업가능\n",
    "datatype=[type(i) for i in a]\n"
   ]
  },
  {
   "cell_type": "code",
   "execution_count": null,
   "metadata": {
    "colab": {
     "base_uri": "https://localhost:8080/"
    },
    "executionInfo": {
     "elapsed": 2,
     "status": "ok",
     "timestamp": 1646026273932,
     "user": {
      "displayName": "so pj",
      "photoUrl": "https://lh3.googleusercontent.com/a/default-user=s64",
      "userId": "02574474388741964814"
     },
     "user_tz": -540
    },
    "id": "Yj5PJYlUyLVw",
    "outputId": "2f82cd18-1a3b-49df-dc1b-2bcfdba9be0c"
   },
   "outputs": [
    {
     "name": "stdout",
     "output_type": "stream",
     "text": [
      "[(1, <class 'int'>), (2.5, <class 'float'>), ('abc', <class 'str'>)]\n",
      "\n",
      "\n",
      "-------------- 컴프리헨션으로 작업함\n"
     ]
    },
    {
     "data": {
      "text/plain": [
       "[(1, int), (2.5, float), ('abc', str)]"
      ]
     },
     "execution_count": 92,
     "metadata": {},
     "output_type": "execute_result"
    }
   ],
   "source": [
    "# a객체의 자료와 type을 튜를로 묶기\n",
    "# 작업2: 자료아 데이터타입을 for에 넣기\n",
    "\n",
    "datatypeTuple=[]\n",
    "for (i,j) in zip(a,datatype):\n",
    "  x=(i,j)\n",
    "  datatypeTuple.append(x)\n",
    "print(datatypeTuple)\n",
    "\n",
    "\n",
    "# 컴프리헨션으로 아래와 같이 작업가능\n",
    "print('\\n\\n-------------- 컴프리헨션으로 작업함')\n",
    "datatypeTuple=[(i,j) for i,j in zip(a,datatype)]\n",
    "datatypeTuple\n"
   ]
  },
  {
   "cell_type": "code",
   "execution_count": null,
   "metadata": {},
   "outputs": [],
   "source": []
  }
 ],
 "metadata": {
  "colab": {
   "authorship_tag": "ABX9TyPg3lWdVg+dwwAi81AdQTQe",
   "collapsed_sections": [],
   "name": "1. 미션제출 for_if미션.ipynb",
   "provenance": []
  },
  "kernelspec": {
   "display_name": "Python 3 (ipykernel)",
   "language": "python",
   "name": "python3"
  },
  "language_info": {
   "codemirror_mode": {
    "name": "ipython",
    "version": 3
   },
   "file_extension": ".py",
   "mimetype": "text/x-python",
   "name": "python",
   "nbconvert_exporter": "python",
   "pygments_lexer": "ipython3",
   "version": "3.10.4"
  }
 },
 "nbformat": 4,
 "nbformat_minor": 1
}
