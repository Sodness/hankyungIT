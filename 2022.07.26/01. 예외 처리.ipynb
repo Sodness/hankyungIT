{
 "cells": [
  {
   "cell_type": "code",
   "execution_count": null,
   "id": "modified-words",
   "metadata": {},
   "outputs": [],
   "source": [
    "#예외 처리:\n",
    "'''\n",
    "try:\n",
    "    실행할 코드\n",
    "except:\n",
    "    에러가 발생했을 때 처리하는 코드\n",
    "'''"
   ]
  },
  {
   "cell_type": "code",
   "execution_count": 8,
   "id": "81b5603a",
   "metadata": {},
   "outputs": [
    {
     "name": "stdout",
     "output_type": "stream",
     "text": [
      "2.0\n",
      "예외가 발생했습니다.\n",
      "ZeroDivisionError\n",
      "Error: division by zero\n"
     ]
    }
   ],
   "source": [
    "try:\n",
    "    print(4/2)\n",
    "except:\n",
    "    print('예외가 발생했습니다.')\n",
    "    \n",
    "try:\n",
    "    print(4/0)\n",
    "except:\n",
    "    print('예외가 발생했습니다.')\n",
    "\n",
    "try:\n",
    "    print(4/0)\n",
    "except ZeroDivisionError:\n",
    "    print('ZeroDivisionError')\n",
    "    \n",
    "try:\n",
    "    print(4/0)\n",
    "except Exception as e:\n",
    "    print('Error:', e)"
   ]
  },
  {
   "cell_type": "code",
   "execution_count": 9,
   "id": "clinical-moscow",
   "metadata": {},
   "outputs": [
    {
     "name": "stdout",
     "output_type": "stream",
     "text": [
      "숫자를 입력하세요:0\n",
      "예외가 발생했습니다.\n"
     ]
    }
   ],
   "source": [
    "try:\n",
    "    x=int(input('숫자를 입력하세요:'))\n",
    "    y=10/x\n",
    "    print(y)\n",
    "except:\n",
    "    print('예외가 발생했습니다.')"
   ]
  },
  {
   "cell_type": "code",
   "execution_count": null,
   "id": "unnecessary-fireplace",
   "metadata": {},
   "outputs": [],
   "source": []
  },
  {
   "cell_type": "code",
   "execution_count": 4,
   "id": "db09ecc0",
   "metadata": {},
   "outputs": [
    {
     "name": "stdout",
     "output_type": "stream",
     "text": [
      "숫자를 입력하세요:0\n",
      "예외가 발생했습니다. division by zero\n"
     ]
    }
   ],
   "source": [
    "# 모든 예외의 에러 메시지를 출력할 때는 Exception을 사용\n",
    "try:\n",
    "    x=int(input('숫자를 입력하세요:'))\n",
    "    y=10/x\n",
    "    print(y)\n",
    "\n",
    "except Exception as e:    \n",
    "    print('예외가 발생했습니다.', e)"
   ]
  },
  {
   "cell_type": "code",
   "execution_count": null,
   "id": "e1a851ab",
   "metadata": {},
   "outputs": [],
   "source": []
  },
  {
   "cell_type": "code",
   "execution_count": 5,
   "id": "together-scoop",
   "metadata": {},
   "outputs": [],
   "source": [
    "#특정 예외만 처리:\n",
    "'''\n",
    "try:\n",
    "    실행할 코드\n",
    "except 예외이름:\n",
    "    에러가 발생했을 때 처리하는 코드\n",
    "''';"
   ]
  },
  {
   "cell_type": "code",
   "execution_count": 23,
   "id": "basic-poverty",
   "metadata": {},
   "outputs": [
    {
     "name": "stdout",
     "output_type": "stream",
     "text": [
      "숫자를 입력하세요:4\n",
      "2.5\n"
     ]
    }
   ],
   "source": [
    "try:\n",
    "    x=int(input('숫자를 입력하세요:'))\n",
    "    y=10/x\n",
    "    print(y)\n",
    "except ZeroDivisionError:\n",
    "    print('예외가 발생했습니다')"
   ]
  },
  {
   "cell_type": "code",
   "execution_count": null,
   "id": "union-variable",
   "metadata": {},
   "outputs": [],
   "source": []
  },
  {
   "cell_type": "code",
   "execution_count": 24,
   "id": "decent-valentine",
   "metadata": {},
   "outputs": [],
   "source": [
    "# else finally\n",
    "'''\n",
    "try:\n",
    "    실행할 코드\n",
    "except:\n",
    "    예외가 발생했을 때 처리하는 코드\n",
    "else:\n",
    "    예외가 발생하지 않았을 때 실행하는 코드\n",
    "''';"
   ]
  },
  {
   "cell_type": "code",
   "execution_count": null,
   "id": "cosmetic-georgia",
   "metadata": {},
   "outputs": [],
   "source": [
    "try:\n",
    "    x=int(input('숫자를 입력하세요:'))\n",
    "    y=10/x\n",
    "\n",
    "except ZeroDivisionError:\n",
    "    print('숫자를 0으로 나눌 수 없습니다.')\n",
    "\n",
    "else:\n",
    "    print(y)"
   ]
  },
  {
   "cell_type": "code",
   "execution_count": null,
   "id": "bored-script",
   "metadata": {},
   "outputs": [],
   "source": []
  },
  {
   "cell_type": "code",
   "execution_count": 25,
   "id": "eastern-animation",
   "metadata": {},
   "outputs": [],
   "source": [
    "# 예외와 상관없이 항상 코드 실행하기\n",
    "'''\n",
    "try:\n",
    "    실행할 코드\n",
    "\n",
    "except:\n",
    "    예외가 발생했을 때 처리하는 코드\n",
    "\n",
    "else:\n",
    "    예외가 발생하지 않았을 때 실행할 코드\n",
    "\n",
    "finally:\n",
    "    예외 발생 여부와 상관없이 항상 실행할 코드\n",
    "''';"
   ]
  },
  {
   "cell_type": "code",
   "execution_count": 26,
   "id": "early-democrat",
   "metadata": {},
   "outputs": [
    {
     "name": "stdout",
     "output_type": "stream",
     "text": [
      "숫자를 입력하세요:0\n",
      "숫자를 0으로 나눌 수 없습니다.\n",
      "코드 실행이 끝났습니다.\n"
     ]
    }
   ],
   "source": [
    "try:\n",
    "    x=int(input('숫자를 입력하세요:'))\n",
    "    y=10/x\n",
    "\n",
    "except ZeroDivisionError:\n",
    "    print('숫자를 0으로 나눌 수 없습니다.')\n",
    "\n",
    "else:\n",
    "    print(y)\n",
    "\n",
    "finally:\n",
    "    print('코드 실행이 끝났습니다.')"
   ]
  },
  {
   "cell_type": "code",
   "execution_count": null,
   "id": "assumed-sapphire",
   "metadata": {},
   "outputs": [],
   "source": []
  },
  {
   "cell_type": "code",
   "execution_count": 27,
   "id": "intensive-place",
   "metadata": {},
   "outputs": [
    {
     "name": "stdout",
     "output_type": "stream",
     "text": [
      "파일이 없습니다.\n"
     ]
    }
   ],
   "source": [
    "import csv\n",
    "try:\n",
    "    f=open('test.csv')\n",
    "except:\n",
    "    print('파일이 없습니다.')\n",
    "else:\n",
    "    data=csv.reader(f)"
   ]
  },
  {
   "cell_type": "code",
   "execution_count": null,
   "id": "12ba8f9e",
   "metadata": {},
   "outputs": [],
   "source": []
  },
  {
   "cell_type": "code",
   "execution_count": 2,
   "id": "opponent-certification",
   "metadata": {},
   "outputs": [
    {
     "name": "stdout",
     "output_type": "stream",
     "text": [
      "예외가 발생했습니다. [Errno 2] No such file or directory: 'test.csv'\n"
     ]
    }
   ],
   "source": [
    "# 모든 예외의 에러 메시지를 출력할 때는 Exception을 사용\n",
    "try:\n",
    "    f=open('test.csv')\n",
    "\n",
    "except Exception as e:    \n",
    "    print('예외가 발생했습니다.', e)"
   ]
  },
  {
   "cell_type": "code",
   "execution_count": null,
   "id": "9a959972",
   "metadata": {},
   "outputs": [],
   "source": []
  }
 ],
 "metadata": {
  "kernelspec": {
   "display_name": "Python 3 (ipykernel)",
   "language": "python",
   "name": "python3"
  },
  "language_info": {
   "codemirror_mode": {
    "name": "ipython",
    "version": 3
   },
   "file_extension": ".py",
   "mimetype": "text/x-python",
   "name": "python",
   "nbconvert_exporter": "python",
   "pygments_lexer": "ipython3",
   "version": "3.9.12"
  }
 },
 "nbformat": 4,
 "nbformat_minor": 5
}
