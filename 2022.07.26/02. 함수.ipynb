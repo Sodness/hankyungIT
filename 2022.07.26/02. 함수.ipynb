{
 "cells": [
  {
   "cell_type": "code",
   "execution_count": 7,
   "id": "860962ee",
   "metadata": {},
   "outputs": [],
   "source": [
    "def func(v1,v2=100):\n",
    "    합=v1+v2\n",
    "    곱=v1*v2\n",
    "    차=v1-v2\n",
    "    나누기=v1/v2\n",
    "    return 합,곱,차,나누기"
   ]
  },
  {
   "cell_type": "code",
   "execution_count": 8,
   "id": "dc1b0b55",
   "metadata": {},
   "outputs": [
    {
     "name": "stdout",
     "output_type": "stream",
     "text": [
      "9 18 3 2.0\n",
      "(5, 6, -1, 0.6666666666666666)\n",
      "(106, 600, -94, 0.06)\n"
     ]
    }
   ],
   "source": [
    "a,b,c,d = func(6,3)\n",
    "print(a,b,c,d)\n",
    "\n",
    "print(func(v2=3, v1=2))\n",
    "print(func(6))"
   ]
  },
  {
   "cell_type": "code",
   "execution_count": 13,
   "id": "bf4cdc41",
   "metadata": {},
   "outputs": [
    {
     "name": "stdout",
     "output_type": "stream",
     "text": [
      "Hi\n",
      "Hi\n",
      "None\n"
     ]
    }
   ],
   "source": [
    "def printHi():\n",
    "    print('Hi')\n",
    "\n",
    "printHi()\n",
    "\n",
    "a = printHi()\n",
    "print(a)"
   ]
  },
  {
   "cell_type": "code",
   "execution_count": 14,
   "id": "111dd7c9",
   "metadata": {},
   "outputs": [
    {
     "name": "stdout",
     "output_type": "stream",
     "text": [
      "8\n"
     ]
    }
   ],
   "source": [
    "def add(a,b):\n",
    "    print(a+b)\n",
    "\n",
    "add(3,5)"
   ]
  },
  {
   "cell_type": "code",
   "execution_count": 15,
   "id": "d270bc4b",
   "metadata": {},
   "outputs": [
    {
     "name": "stdout",
     "output_type": "stream",
     "text": [
      "8\n"
     ]
    }
   ],
   "source": [
    "def add(a,b):\n",
    "    return a+b\n",
    "\n",
    "res = add(3,5)\n",
    "print(res)"
   ]
  },
  {
   "cell_type": "code",
   "execution_count": 16,
   "id": "e997fc33",
   "metadata": {},
   "outputs": [
    {
     "name": "stdout",
     "output_type": "stream",
     "text": [
      "5\n",
      "15\n"
     ]
    }
   ],
   "source": [
    "def hap(a,b):\n",
    "    print(a+b)\n",
    "    \n",
    "hap(2,3)\n",
    "\n",
    "def hap1(*a):\n",
    "    s=0\n",
    "    for i in a:\n",
    "        s=s+i\n",
    "    print(s)\n",
    "\n",
    "hap1(1,2,3,4,5)"
   ]
  },
  {
   "cell_type": "code",
   "execution_count": 23,
   "id": "7fb220bd",
   "metadata": {},
   "outputs": [],
   "source": [
    "def p(name, age, addr='서울'):\n",
    "    print('이름:', name)\n",
    "    print('나이:', age)\n",
    "    print('주소:', addr)\n",
    "    print()"
   ]
  },
  {
   "cell_type": "code",
   "execution_count": 25,
   "id": "aa8aa27a",
   "metadata": {},
   "outputs": [
    {
     "name": "stdout",
     "output_type": "stream",
     "text": [
      "이름: 홍길동\n",
      "나이: 15\n",
      "주소: 서울\n",
      "\n",
      "이름: 이하나\n",
      "나이: 20\n",
      "주소: 서울\n",
      "\n",
      "이름: 이하나\n",
      "나이: 20\n",
      "주소: 인천\n",
      "\n",
      "이름: 홍길동\n",
      "나이: 20\n",
      "주소: 서울\n",
      "\n"
     ]
    }
   ],
   "source": [
    "p('홍길동', 15, '서울')\n",
    "p('이하나', 20)\n",
    "p('이하나', 20, '인천')\n",
    "p(age=20, name='홍길동')"
   ]
  },
  {
   "cell_type": "code",
   "execution_count": 27,
   "id": "1cf946ab",
   "metadata": {},
   "outputs": [],
   "source": [
    "# 매개변수 default는 제일 끝에 넣어줘야 됨\n",
    "def p(name, age, 국어, 수학, addr='서울'):\n",
    "    print('이름:', name)\n",
    "    print('나이:', age)\n",
    "    print('주소:', addr)\n",
    "    print('국어:', 국어)\n",
    "    print('수학:', 수학)\n",
    "    print()"
   ]
  },
  {
   "cell_type": "code",
   "execution_count": 28,
   "id": "1ebe390d",
   "metadata": {},
   "outputs": [
    {
     "name": "stdout",
     "output_type": "stream",
     "text": [
      "이름: 홍길동\n",
      "나이: 20\n",
      "주소: 서울\n",
      "국어: 10\n",
      "수학: 20\n",
      "\n"
     ]
    }
   ],
   "source": [
    "p('홍길동', 20, 수학=20, 국어=10)"
   ]
  },
  {
   "cell_type": "code",
   "execution_count": null,
   "id": "ea50f71c",
   "metadata": {},
   "outputs": [],
   "source": []
  },
  {
   "cell_type": "code",
   "execution_count": null,
   "id": "047820b3",
   "metadata": {},
   "outputs": [],
   "source": []
  },
  {
   "cell_type": "code",
   "execution_count": null,
   "id": "2042d2c8",
   "metadata": {},
   "outputs": [],
   "source": []
  },
  {
   "cell_type": "code",
   "execution_count": 2,
   "id": "parallel-lunch",
   "metadata": {},
   "outputs": [],
   "source": [
    "# 인수도 없고 반환값이 없는 함수\n",
    "'''\n",
    "def 함수명():\n",
    "    코드\n",
    "\n",
    "함수()\n",
    "''';"
   ]
  },
  {
   "cell_type": "code",
   "execution_count": 9,
   "id": "caring-pillow",
   "metadata": {},
   "outputs": [
    {
     "name": "stdout",
     "output_type": "stream",
     "text": [
      "Hello world!\n"
     ]
    }
   ],
   "source": [
    "def hello():\n",
    "    print('Hello world!')\n",
    "    \n",
    "hello()"
   ]
  },
  {
   "cell_type": "code",
   "execution_count": null,
   "id": "liable-clothing",
   "metadata": {},
   "outputs": [],
   "source": []
  },
  {
   "cell_type": "code",
   "execution_count": 13,
   "id": "emerging-reviewer",
   "metadata": {},
   "outputs": [
    {
     "name": "stdout",
     "output_type": "stream",
     "text": [
      "8\n"
     ]
    }
   ],
   "source": [
    "# 인수가 있고, 반환값이 없는 함수\n",
    "def add(a,b):\n",
    "    print(a+b)\n",
    "\n",
    "add(3,5)\n"
   ]
  },
  {
   "cell_type": "code",
   "execution_count": 14,
   "id": "beneficial-hybrid",
   "metadata": {},
   "outputs": [],
   "source": []
  },
  {
   "cell_type": "code",
   "execution_count": 1,
   "id": "temporal-spencer",
   "metadata": {},
   "outputs": [],
   "source": [
    "#인수도 있고, 반환값도 있는 함수\n",
    "'''\n",
    "def 함수명(매개변수1, 매개변수2..)\n",
    "    코드\n",
    "    return 반환값\n",
    "    \n",
    "함수(인수, 인수)\n",
    "''';"
   ]
  },
  {
   "cell_type": "code",
   "execution_count": null,
   "id": "progressive-setup",
   "metadata": {},
   "outputs": [],
   "source": [
    "def add(a,b):\n",
    "    reuren a+b\n",
    "    \n",
    "add(2,3)\n",
    "    "
   ]
  },
  {
   "cell_type": "code",
   "execution_count": null,
   "id": "outer-blogger",
   "metadata": {},
   "outputs": [],
   "source": []
  },
  {
   "cell_type": "code",
   "execution_count": 5,
   "id": "photographic-mississippi",
   "metadata": {},
   "outputs": [],
   "source": [
    "# 함수에서 값을 여러개 반환\n",
    "'''\n",
    "def 함수명(매개변수):\n",
    "    return 반환값1, 반환값2\n",
    "    \n",
    "변수1, 변수2 =함수(인수)\n",
    "''';"
   ]
  },
  {
   "cell_type": "code",
   "execution_count": 15,
   "id": "tutorial-silly",
   "metadata": {},
   "outputs": [
    {
     "data": {
      "text/plain": [
       "(5, 1)"
      ]
     },
     "execution_count": 15,
     "metadata": {},
     "output_type": "execute_result"
    }
   ],
   "source": [
    "def add_sub(a,b):\n",
    "    return a+b, a-b\n",
    "\n",
    "n=add_sub(3,2)\n",
    "n1, n2=add_sub(3,2)\n",
    "print(n)\n",
    "print(n1)\n",
    "print(n2)"
   ]
  },
  {
   "cell_type": "code",
   "execution_count": null,
   "id": "aaa6ed3c",
   "metadata": {},
   "outputs": [],
   "source": []
  },
  {
   "cell_type": "code",
   "execution_count": null,
   "id": "9c2acc1b",
   "metadata": {},
   "outputs": [],
   "source": []
  },
  {
   "cell_type": "code",
   "execution_count": 6,
   "id": "periodic-procurement",
   "metadata": {},
   "outputs": [],
   "source": [
    "#위치 인수\n",
    "'''\n",
    "def 함수(매개변수1, 매개변수2)\n",
    "    코드\n",
    "    \n",
    "\n",
    "''';"
   ]
  },
  {
   "cell_type": "code",
   "execution_count": 17,
   "id": "solar-violin",
   "metadata": {},
   "outputs": [
    {
     "data": {
      "text/plain": [
       "3.0"
      ]
     },
     "execution_count": 17,
     "metadata": {},
     "output_type": "execute_result"
    }
   ],
   "source": [
    "def div(a,b):\n",
    "    return a/b\n",
    "\n",
    "div(6,2)"
   ]
  },
  {
   "cell_type": "code",
   "execution_count": null,
   "id": "private-button",
   "metadata": {},
   "outputs": [],
   "source": []
  },
  {
   "cell_type": "code",
   "execution_count": 7,
   "id": "written-repeat",
   "metadata": {},
   "outputs": [],
   "source": [
    "#위치 인수를 사용하는 가변 인수 함수\n",
    "'''\n",
    "def 함수명(*인수)\n",
    "    코드\n",
    "    \n",
    "함수(인수1, 인수2..)\n",
    "''';"
   ]
  },
  {
   "cell_type": "code",
   "execution_count": 19,
   "id": "filled-coupon",
   "metadata": {},
   "outputs": [
    {
     "name": "stdout",
     "output_type": "stream",
     "text": [
      "4\n",
      "2\n"
     ]
    }
   ],
   "source": [
    "def hap(*a):\n",
    "    s=0\n",
    "    for i in a:\n",
    "        s=s+1\n",
    "    return s\n",
    "\n",
    "print(hap(1,2,3,4))\n",
    "print(hap(3,4))"
   ]
  },
  {
   "cell_type": "code",
   "execution_count": 8,
   "id": "charming-microwave",
   "metadata": {},
   "outputs": [],
   "source": [
    "#키워드 인수\n",
    "'''\n",
    "def 함수명(매개변수1, 매개변수2)\n",
    "    코드\n",
    "\n",
    "함수명(매개변수1=값, 매개변수2=값)\n",
    "''';"
   ]
  },
  {
   "cell_type": "code",
   "execution_count": 20,
   "id": "informal-credit",
   "metadata": {},
   "outputs": [
    {
     "name": "stdout",
     "output_type": "stream",
     "text": [
      "이름:  홍길동\n",
      "나이:  15\n",
      "주소:  안양\n"
     ]
    }
   ],
   "source": [
    "def persion(name, age, addr):\n",
    "    print('이름: ', name)\n",
    "    print('나이: ', age)\n",
    "    print('주소: ', addr)\n",
    "\n",
    "persion(name='홍길동', addr='안양', age=15)"
   ]
  },
  {
   "cell_type": "code",
   "execution_count": null,
   "id": "61690f6f",
   "metadata": {},
   "outputs": [],
   "source": []
  },
  {
   "cell_type": "code",
   "execution_count": 8,
   "id": "d4c1f18a",
   "metadata": {},
   "outputs": [],
   "source": [
    "# 키워드 인수를 사용하는 가변 인수 함수 만들기\n",
    "'''\n",
    "def 함수명(**매개변수):\n",
    "    코드\n",
    "\n",
    "함수명(매개변수1=값, 매개변수2=값)\n",
    "\n",
    "----------------------------------------------------------------------------------------------------\n",
    "[주의1]: 고정 인수와 가변인수를 함께 사용할 때는 고정 매개변수 먼저 사용하고, 가변인수를 사용해야 함\n",
    "예:\n",
    "def persion(name, **kwargs):\n",
    "    print(name)\n",
    "    print(kwargs)\n",
    "    \n",
    "[주의2]: *args와 **kwargs가 함께 사용할 때는 *args 먼저 사용하고 **kwargs를 사용해야 함\n",
    "예:\n",
    "def custom_print(*args, **kwargs):\n",
    "    print(*arg, **kwargs)\n",
    "    print('감사합니다.')\n",
    "    \n",
    "custom_print(1,2,3,sep=':', end=' ')\n",
    "----------------------------------------------------------------------------------------------------\n",
    "''';"
   ]
  },
  {
   "cell_type": "code",
   "execution_count": 4,
   "id": "f5a29579",
   "metadata": {},
   "outputs": [
    {
     "name": "stdout",
     "output_type": "stream",
     "text": [
      "name : 홍길동\n",
      "age : 15\n",
      "job : 기타\n",
      "name : 이길동\n",
      "age : 30\n"
     ]
    }
   ],
   "source": [
    "# 키,값 딕셔너리 형태로 받음\n",
    "def persion(**kwargs):\n",
    "    for key,arg in kwargs.items():\n",
    "        print(key, ':', arg)\n",
    "        \n",
    "persion(name='홍길동', age=15, job='기타')\n",
    "persion(name='이길동', age=30)"
   ]
  },
  {
   "cell_type": "code",
   "execution_count": 30,
   "id": "766356fa",
   "metadata": {},
   "outputs": [
    {
     "name": "stdout",
     "output_type": "stream",
     "text": [
      "n : 이길동\n",
      "주소 : 서울\n"
     ]
    }
   ],
   "source": [
    "def p(**kwargs):\n",
    "    for key, v in kwargs.items():\n",
    "        print(key, ':', v)\n",
    "        \n",
    "p(n='이길동', 주소='서울')"
   ]
  },
  {
   "cell_type": "code",
   "execution_count": 11,
   "id": "b2806542",
   "metadata": {},
   "outputs": [
    {
     "name": "stdout",
     "output_type": "stream",
     "text": [
      "1:2:3 감사합니다.\n"
     ]
    }
   ],
   "source": [
    "def custom_print(*args, **kwargs):\n",
    "    print(*args, **kwargs)\n",
    "    print('감사합니다.')\n",
    "    \n",
    "custom_print(1, 2, 3, sep=':', end=' ')"
   ]
  },
  {
   "cell_type": "code",
   "execution_count": null,
   "id": "11a5adbd",
   "metadata": {},
   "outputs": [],
   "source": []
  },
  {
   "cell_type": "code",
   "execution_count": 6,
   "id": "unsigned-frederick",
   "metadata": {},
   "outputs": [],
   "source": [
    "#매개변수 초기값\n",
    "'''\n",
    "def 함수명(매개변수=값)\n",
    "    코드\n",
    "\n",
    "함수명()\n",
    "\n",
    "* 주의: 초기값이 지정된 매개변수 다음에는 초기값이 없는 매개변수 올수 없음\n",
    "\n",
    "def persion(age=15, name):  # 오류임\n",
    "    print(age,name)   \n",
    "''';"
   ]
  },
  {
   "cell_type": "code",
   "execution_count": 21,
   "id": "standard-brisbane",
   "metadata": {},
   "outputs": [
    {
     "name": "stdout",
     "output_type": "stream",
     "text": [
      "이름:  홍길동\n",
      "나이:  15\n",
      "주소:  안양\n"
     ]
    }
   ],
   "source": [
    "def persion(name, age, addr='안양'):\n",
    "    print('이름: ', name)\n",
    "    print('나이: ', age)\n",
    "    print('주소: ', addr)  \n",
    "\n",
    "persion('홍길동', 15)"
   ]
  },
  {
   "cell_type": "code",
   "execution_count": null,
   "id": "9d3065b0",
   "metadata": {},
   "outputs": [],
   "source": []
  },
  {
   "cell_type": "markdown",
   "id": "meaning-accuracy",
   "metadata": {},
   "source": [
    "### 전역변수와 지역변수\n",
    "- 전역 변수는 스크립트 전체에서 접근 할 수 있음\n",
    "- 지역 변수는 해당 변수 안에서만 접근 가능\n",
    "- 만약 함수 안에서 전역 변수를 사용하려면 global에 변수 이름을 지정함"
   ]
  },
  {
   "cell_type": "code",
   "execution_count": 22,
   "id": "different-paste",
   "metadata": {},
   "outputs": [
    {
     "data": {
      "text/plain": [
       "4"
      ]
     },
     "execution_count": 22,
     "metadata": {},
     "output_type": "execute_result"
    }
   ],
   "source": [
    "a=1\n",
    "def abc(n):\n",
    "    b=a+n\n",
    "    return b\n",
    "\n",
    "abc(3)"
   ]
  },
  {
   "cell_type": "code",
   "execution_count": 34,
   "id": "applicable-dressing",
   "metadata": {},
   "outputs": [
    {
     "data": {
      "text/plain": [
       "4"
      ]
     },
     "execution_count": 34,
     "metadata": {},
     "output_type": "execute_result"
    }
   ],
   "source": [
    "a=1\n",
    "def abc(n):\n",
    "    bbb=a+n\n",
    "    return bbb\n",
    "\n",
    "abc(3)\n",
    "# print(bbb) # 지역변수"
   ]
  },
  {
   "cell_type": "code",
   "execution_count": 17,
   "id": "loving-mortality",
   "metadata": {},
   "outputs": [
    {
     "name": "stdout",
     "output_type": "stream",
     "text": [
      "a= 1\n",
      "a= 2\n",
      "a= 1\n"
     ]
    }
   ],
   "source": [
    "a=1\n",
    "def abc():\n",
    "    a=2\n",
    "    print('a=',a)\n",
    "\n",
    "print('a=',a)\n",
    "abc()\n",
    "print('a=',a)"
   ]
  },
  {
   "cell_type": "code",
   "execution_count": 36,
   "id": "95b36235",
   "metadata": {},
   "outputs": [
    {
     "name": "stdout",
     "output_type": "stream",
     "text": [
      "함수실행전 밖 1\n",
      "함수실행중 안 2\n",
      "함수실행후 밖 1\n"
     ]
    }
   ],
   "source": [
    "a=1\n",
    "def abc():\n",
    "    a=2\n",
    "    print('함수실행중 안',a)\n",
    "\n",
    "print('함수실행전 밖',a)\n",
    "abc()\n",
    "print('함수실행후 밖',a)"
   ]
  },
  {
   "cell_type": "code",
   "execution_count": 16,
   "id": "together-channels",
   "metadata": {},
   "outputs": [
    {
     "name": "stdout",
     "output_type": "stream",
     "text": [
      "1\n",
      "4\n",
      "4\n"
     ]
    }
   ],
   "source": [
    "a=1\n",
    "def abc():\n",
    "    global a\n",
    "    a=4\n",
    "    print(a)\n",
    "\n",
    "print(a)\n",
    "abc()\n",
    "print(a)\n"
   ]
  },
  {
   "cell_type": "code",
   "execution_count": 37,
   "id": "grand-handbook",
   "metadata": {},
   "outputs": [
    {
     "name": "stdout",
     "output_type": "stream",
     "text": [
      "함수실행전 밖 1\n",
      "함수실행중 안 4\n",
      "함수실행후 밖 4\n"
     ]
    }
   ],
   "source": [
    "a=1\n",
    "def abc():\n",
    "    global a\n",
    "    a=4\n",
    "    print('함수실행중 안',a)\n",
    "\n",
    "print('함수실행전 밖',a)\n",
    "abc()\n",
    "print('함수실행후 밖',a)"
   ]
  },
  {
   "cell_type": "code",
   "execution_count": null,
   "id": "b20b433b",
   "metadata": {},
   "outputs": [],
   "source": []
  }
 ],
 "metadata": {
  "kernelspec": {
   "display_name": "Python 3 (ipykernel)",
   "language": "python",
   "name": "python3"
  },
  "language_info": {
   "codemirror_mode": {
    "name": "ipython",
    "version": 3
   },
   "file_extension": ".py",
   "mimetype": "text/x-python",
   "name": "python",
   "nbconvert_exporter": "python",
   "pygments_lexer": "ipython3",
   "version": "3.9.12"
  }
 },
 "nbformat": 4,
 "nbformat_minor": 5
}
