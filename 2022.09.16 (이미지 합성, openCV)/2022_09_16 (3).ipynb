{
 "cells": [
  {
   "cell_type": "markdown",
   "id": "2382ebba",
   "metadata": {},
   "source": [
    "### 실습1: 마우스로 사각형 그리기"
   ]
  },
  {
   "cell_type": "code",
   "execution_count": 5,
   "id": "ebba6a8e",
   "metadata": {},
   "outputs": [],
   "source": [
    "import cv2\n",
    "\n",
    "top_left_corner = []\n",
    "bottom_right_corner = []\n",
    "\n",
    "def drawRectangle(action, x, y, flags, parms):\n",
    "    global top_left_corner, bottom_right_corner\n",
    "    \n",
    "    if action == cv2.EVENT_LBUTTONDOWN:\n",
    "        top_left_corner = [(x,y)]\n",
    "    elif action == cv2.EVENT_LBUTTONUP:\n",
    "        bottom_right_corner = [(x,y)]\n",
    "        cv2.rectangle(image, \n",
    "                      top_left_corner[0], bottom_right_corner[0],\n",
    "                      (0,255,0), 5)\n",
    "        cv2.imshow('Window', image)\n",
    "\n",
    "image = cv2.imread('./img01.jpg')\n",
    "temp = image.copy()\n",
    "\n",
    "cv2.namedWindow('Window')\n",
    "cv2.setMouseCallback('Window', drawRectangle)\n",
    "\n",
    "k = 0\n",
    "while k != 113:\n",
    "    cv2.imshow('Window', image)\n",
    "    k = cv2.waitKey(0)\n",
    "    if k == 99:\n",
    "        image = temp.copy()\n",
    "        cv2.imshow('Window', image)\n",
    "\n",
    "cv2.destroyAllWindows()"
   ]
  },
  {
   "cell_type": "markdown",
   "id": "59c2393c",
   "metadata": {},
   "source": [
    "### 실습2: 마우스로 지정한 영역 csv로 저장하기"
   ]
  },
  {
   "cell_type": "code",
   "execution_count": null,
   "id": "66fbd357",
   "metadata": {},
   "outputs": [],
   "source": [
    "import cv2\n",
    "import pandas as pd\n",
    "\n",
    "top_left_corner = []\n",
    "bottom_right_corner = []\n",
    "xy = []\n",
    "\n",
    "def drawRectangle(action, x, y, flags, parms):\n",
    "    global top_left_corner, bottom_right_corner\n",
    "    if action == cv2.EVENT_LBUTTONDOWN:\n",
    "        top_left_corner = [(x,y)]\n",
    "    elif action == cv2.EVENT_LBUTTONUP:\n",
    "        bottom_right_corner = [(x,y)]\n",
    "        xy.append([top_left_corner[0], bottom_right_corner[0]])\n",
    "        cv2.rectangle(image, \n",
    "                      top_left_corner[0], bottom_right_corner[0], \n",
    "                      (0,255,0), 5)\n",
    "        cv2.imshow('Window', image)\n",
    "\n",
    "image = cv2.imread('./img01.jpg')\n",
    "temp = image.copy()\n",
    "\n",
    "cv2.namedWindow('Window')\n",
    "cv2.setMouseCallback('Window', drawRectangle)\n",
    "\n",
    "k=0\n",
    "while k != 113:\n",
    "    cv2.imshow('Window', image)\n",
    "    k = cv2.waitKey(0)\n",
    "    if k == 99:\n",
    "        image = temp.copy()\n",
    "        cv2.imshow('Window', image)\n",
    "        \n",
    "cv2.destroyAllWindows()\n",
    "\n",
    "df = pd.DataFrame(xy, columns=['top','bottom'])\n",
    "print(df)\n",
    "# df.to_csv('얼굴.csv')"
   ]
  },
  {
   "cell_type": "markdown",
   "id": "5200809f",
   "metadata": {},
   "source": [
    "### 실습3: 영역지정해서 필터 적용하기"
   ]
  },
  {
   "cell_type": "code",
   "execution_count": null,
   "id": "b8dc754e",
   "metadata": {},
   "outputs": [
    {
     "ename": "TypeError",
     "evalue": "int() argument must be a string, a bytes-like object or a real number, not 'NoneType'",
     "output_type": "error",
     "traceback": [
      "\u001b[1;31m---------------------------------------------------------------------------\u001b[0m",
      "\u001b[1;31mTypeError\u001b[0m                                 Traceback (most recent call last)",
      "Input \u001b[1;32mIn [6]\u001b[0m, in \u001b[0;36mdrawRectangle\u001b[1;34m(action, x, y, flags, *userdata)\u001b[0m\n\u001b[0;32m     16\u001b[0m xy\u001b[38;5;241m.\u001b[39mappend([top,bottom])\n\u001b[0;32m     17\u001b[0m cv2\u001b[38;5;241m.\u001b[39mrectangle(image, \n\u001b[0;32m     18\u001b[0m               top_left_corner[\u001b[38;5;241m0\u001b[39m], bottom_right_corner[\u001b[38;5;241m0\u001b[39m],\n\u001b[0;32m     19\u001b[0m               (\u001b[38;5;241m0\u001b[39m,\u001b[38;5;241m255\u001b[39m,\u001b[38;5;241m0\u001b[39m), \u001b[38;5;241m5\u001b[39m)\n\u001b[1;32m---> 20\u001b[0m image[top[\u001b[38;5;241m1\u001b[39m]:bottom[\u001b[38;5;241m1\u001b[39m], top[\u001b[38;5;241m0\u001b[39m]:bottom[\u001b[38;5;241m0\u001b[39m]] \u001b[38;5;241m=\u001b[39m cv2\u001b[38;5;241m.\u001b[39mbitwise_not(image[top[\u001b[38;5;241m1\u001b[39m]:bottom[\u001b[38;5;241m1\u001b[39m], top[\u001b[38;5;241m0\u001b[39m]:bottom[\u001b[38;5;241m0\u001b[39m]])\n\u001b[0;32m     21\u001b[0m cv2\u001b[38;5;241m.\u001b[39mimshow(\u001b[38;5;124m'\u001b[39m\u001b[38;5;124mWindow\u001b[39m\u001b[38;5;124m'\u001b[39m, image)\n",
      "\u001b[1;31mTypeError\u001b[0m: int() argument must be a string, a bytes-like object or a real number, not 'NoneType'"
     ]
    },
    {
     "ename": "TypeError",
     "evalue": "int() argument must be a string, a bytes-like object or a real number, not 'NoneType'",
     "output_type": "error",
     "traceback": [
      "\u001b[1;31m---------------------------------------------------------------------------\u001b[0m",
      "\u001b[1;31mTypeError\u001b[0m                                 Traceback (most recent call last)",
      "Input \u001b[1;32mIn [6]\u001b[0m, in \u001b[0;36mdrawRectangle\u001b[1;34m(action, x, y, flags, *userdata)\u001b[0m\n\u001b[0;32m     16\u001b[0m xy\u001b[38;5;241m.\u001b[39mappend([top,bottom])\n\u001b[0;32m     17\u001b[0m cv2\u001b[38;5;241m.\u001b[39mrectangle(image, \n\u001b[0;32m     18\u001b[0m               top_left_corner[\u001b[38;5;241m0\u001b[39m], bottom_right_corner[\u001b[38;5;241m0\u001b[39m],\n\u001b[0;32m     19\u001b[0m               (\u001b[38;5;241m0\u001b[39m,\u001b[38;5;241m255\u001b[39m,\u001b[38;5;241m0\u001b[39m), \u001b[38;5;241m5\u001b[39m)\n\u001b[1;32m---> 20\u001b[0m image[top[\u001b[38;5;241m1\u001b[39m]:bottom[\u001b[38;5;241m1\u001b[39m], top[\u001b[38;5;241m0\u001b[39m]:bottom[\u001b[38;5;241m0\u001b[39m]] \u001b[38;5;241m=\u001b[39m cv2\u001b[38;5;241m.\u001b[39mbitwise_not(image[top[\u001b[38;5;241m1\u001b[39m]:bottom[\u001b[38;5;241m1\u001b[39m], top[\u001b[38;5;241m0\u001b[39m]:bottom[\u001b[38;5;241m0\u001b[39m]])\n\u001b[0;32m     21\u001b[0m cv2\u001b[38;5;241m.\u001b[39mimshow(\u001b[38;5;124m'\u001b[39m\u001b[38;5;124mWindow\u001b[39m\u001b[38;5;124m'\u001b[39m, image)\n",
      "\u001b[1;31mTypeError\u001b[0m: int() argument must be a string, a bytes-like object or a real number, not 'NoneType'"
     ]
    },
    {
     "ename": "TypeError",
     "evalue": "int() argument must be a string, a bytes-like object or a real number, not 'NoneType'",
     "output_type": "error",
     "traceback": [
      "\u001b[1;31m---------------------------------------------------------------------------\u001b[0m",
      "\u001b[1;31mTypeError\u001b[0m                                 Traceback (most recent call last)",
      "Input \u001b[1;32mIn [6]\u001b[0m, in \u001b[0;36mdrawRectangle\u001b[1;34m(action, x, y, flags, *userdata)\u001b[0m\n\u001b[0;32m     16\u001b[0m xy\u001b[38;5;241m.\u001b[39mappend([top,bottom])\n\u001b[0;32m     17\u001b[0m cv2\u001b[38;5;241m.\u001b[39mrectangle(image, \n\u001b[0;32m     18\u001b[0m               top_left_corner[\u001b[38;5;241m0\u001b[39m], bottom_right_corner[\u001b[38;5;241m0\u001b[39m],\n\u001b[0;32m     19\u001b[0m               (\u001b[38;5;241m0\u001b[39m,\u001b[38;5;241m255\u001b[39m,\u001b[38;5;241m0\u001b[39m), \u001b[38;5;241m5\u001b[39m)\n\u001b[1;32m---> 20\u001b[0m image[top[\u001b[38;5;241m1\u001b[39m]:bottom[\u001b[38;5;241m1\u001b[39m], top[\u001b[38;5;241m0\u001b[39m]:bottom[\u001b[38;5;241m0\u001b[39m]] \u001b[38;5;241m=\u001b[39m cv2\u001b[38;5;241m.\u001b[39mbitwise_not(image[top[\u001b[38;5;241m1\u001b[39m]:bottom[\u001b[38;5;241m1\u001b[39m], top[\u001b[38;5;241m0\u001b[39m]:bottom[\u001b[38;5;241m0\u001b[39m]])\n\u001b[0;32m     21\u001b[0m cv2\u001b[38;5;241m.\u001b[39mimshow(\u001b[38;5;124m'\u001b[39m\u001b[38;5;124mWindow\u001b[39m\u001b[38;5;124m'\u001b[39m, image)\n",
      "\u001b[1;31mTypeError\u001b[0m: int() argument must be a string, a bytes-like object or a real number, not 'NoneType'"
     ]
    }
   ],
   "source": [
    "top_left_corner = []\n",
    "bottom_right_corner = []\n",
    "top = []\n",
    "bottom = []\n",
    "xy = []\n",
    "\n",
    "def drawRectangle(action, x, y, flags, *userdata):\n",
    "    global top_left_corner, bottom_right_corner, top, bottom, image\n",
    "    \n",
    "    if action == cv2.EVENT_LBUTTONDOWN:\n",
    "        top_left_corner = [(x,y)]\n",
    "        top = (x,y)\n",
    "    elif action == cv2.EVENT_LBUTTONUP:\n",
    "        bottom_right_corner = [(x,y)]\n",
    "        bottom = (x,y)\n",
    "        xy.append([top,bottom])\n",
    "        cv2.rectangle(image, \n",
    "                      top_left_corner[0], bottom_right_corner[0],\n",
    "                      (0,255,0), 5)\n",
    "        image[top[1]:bottom[1], top[0]:bottom[0]] = cv2.bitwise_not(image[top[1]:bottom[1], top[0]:bottom[0]])\n",
    "        cv2.imshow('Window', image)\n",
    "\n",
    "image = cv2.imread('./img01.jpg')\n",
    "temp = image.copy()\n",
    "\n",
    "cv2.namedWindow('Window')\n",
    "cv2.setMouseCallback('Window', drawRectangle)\n",
    "\n",
    "k = 0\n",
    "while k != 113:\n",
    "    cv2.imshow('Window', image)\n",
    "    k = cv2.waitKey(0)\n",
    "    if k == 99:\n",
    "        image = temp.copy()\n",
    "        cv2.imshow('Window', image)\n",
    "        print(top)\n",
    "        \n",
    "cv2.destroyAllWindows()\n",
    "\n",
    "df = pd.DataFrame(xy, columns=['top','bottom'])\n",
    "print(df)\n",
    "# df.to_csv('얼굴.csv')"
   ]
  },
  {
   "cell_type": "code",
   "execution_count": null,
   "id": "5ca08070",
   "metadata": {},
   "outputs": [],
   "source": []
  },
  {
   "cell_type": "code",
   "execution_count": null,
   "id": "8f580352",
   "metadata": {},
   "outputs": [],
   "source": []
  },
  {
   "cell_type": "code",
   "execution_count": null,
   "id": "0c56c2d6",
   "metadata": {},
   "outputs": [],
   "source": []
  },
  {
   "cell_type": "code",
   "execution_count": null,
   "id": "3f918e95",
   "metadata": {},
   "outputs": [],
   "source": []
  },
  {
   "cell_type": "code",
   "execution_count": null,
   "id": "fdea0a85",
   "metadata": {},
   "outputs": [],
   "source": []
  },
  {
   "cell_type": "code",
   "execution_count": null,
   "id": "fcb8b855",
   "metadata": {},
   "outputs": [],
   "source": []
  },
  {
   "cell_type": "code",
   "execution_count": null,
   "id": "f18a6f56",
   "metadata": {},
   "outputs": [],
   "source": []
  },
  {
   "cell_type": "code",
   "execution_count": null,
   "id": "5af73f31",
   "metadata": {},
   "outputs": [],
   "source": []
  },
  {
   "cell_type": "code",
   "execution_count": null,
   "id": "eafb63c3",
   "metadata": {},
   "outputs": [],
   "source": []
  }
 ],
 "metadata": {
  "kernelspec": {
   "display_name": "Python 3 (ipykernel)",
   "language": "python",
   "name": "python3"
  },
  "language_info": {
   "codemirror_mode": {
    "name": "ipython",
    "version": 3
   },
   "file_extension": ".py",
   "mimetype": "text/x-python",
   "name": "python",
   "nbconvert_exporter": "python",
   "pygments_lexer": "ipython3",
   "version": "3.10.4"
  }
 },
 "nbformat": 4,
 "nbformat_minor": 5
}
