{
 "cells": [
  {
   "cell_type": "code",
   "execution_count": 1,
   "metadata": {},
   "outputs": [
    {
     "name": "stdout",
     "output_type": "stream",
     "text": [
      "0\n",
      "0\n",
      "0\n",
      "1\n"
     ]
    }
   ],
   "source": [
    "# 튜플과 리스트의 차이점 (튜플 변경불가) (리스트 변경가능)\n",
    "def AND(x1, x2):\n",
    "    if x1==1 & x2==1:\n",
    "        print(1)\n",
    "    else:\n",
    "        print(0)\n",
    "\n",
    "xData = [(0,0),(1,0),(0,1),(1,1)]\n",
    "\n",
    "for x in xData:\n",
    "    y = AND(x[0], x[1])"
   ]
  },
  {
   "cell_type": "code",
   "execution_count": 4,
   "metadata": {},
   "outputs": [
    {
     "name": "stdout",
     "output_type": "stream",
     "text": [
      "0\n",
      "0\n",
      "0\n",
      "1\n"
     ]
    }
   ],
   "source": [
    "# 튜플과 리스트의 차이점 (튜플 변경불가) (리스트 변경가능)\n",
    "import numpy as np\n",
    "w2 = [1,1]\n",
    "b3 = -1\n",
    "\n",
    "# 퍼셉트론\n",
    "def MLP(x,w,b):\n",
    "    y = np.sum(w*x)+b\n",
    "    if y<=0:\n",
    "        return 0\n",
    "    else:\n",
    "        return 1\n",
    "\n",
    "def AND(x1, x2):\n",
    "    return MLP(np.array([x1,x2]),w2,b3)\n",
    "\n",
    "xData = [(0,0),(1,0),(0,1),(1,1)]\n",
    "\n",
    "for x in xData:\n",
    "    y = AND(x[0], x[1])\n",
    "    print(y)"
   ]
  },
  {
   "cell_type": "code",
   "execution_count": 8,
   "metadata": {},
   "outputs": [
    {
     "ename": "TypeError",
     "evalue": "'numpy.int32' object does not support item assignment",
     "output_type": "error",
     "traceback": [
      "\u001b[1;31m---------------------------------------------------------------------------\u001b[0m",
      "\u001b[1;31mTypeError\u001b[0m                                 Traceback (most recent call last)",
      "\u001b[1;32mc:\\Users\\user\\Desktop\\부성순 강사님\\2022.10.18\\2022_10_18(1).ipynb 셀 3\u001b[0m in \u001b[0;36m<cell line: 8>\u001b[1;34m()\u001b[0m\n\u001b[0;32m      <a href='vscode-notebook-cell:/c%3A/Users/user/Desktop/%EB%B6%80%EC%84%B1%EC%88%9C%20%EA%B0%95%EC%82%AC%EB%8B%98/2022.10.18/2022_10_18%281%29.ipynb#W2sZmlsZQ%3D%3D?line=4'>5</a>\u001b[0m xx \u001b[39m=\u001b[39m np\u001b[39m.\u001b[39marray([x[\u001b[39m0\u001b[39m],x[\u001b[39m1\u001b[39m]])\n\u001b[0;32m      <a href='vscode-notebook-cell:/c%3A/Users/user/Desktop/%EB%B6%80%EC%84%B1%EC%88%9C%20%EA%B0%95%EC%82%AC%EB%8B%98/2022.10.18/2022_10_18%281%29.ipynb#W2sZmlsZQ%3D%3D?line=6'>7</a>\u001b[0m y \u001b[39m=\u001b[39m np\u001b[39m.\u001b[39msum(w\u001b[39m*\u001b[39mxx)\u001b[39m+\u001b[39mb\n\u001b[1;32m----> <a href='vscode-notebook-cell:/c%3A/Users/user/Desktop/%EB%B6%80%EC%84%B1%EC%88%9C%20%EA%B0%95%EC%82%AC%EB%8B%98/2022.10.18/2022_10_18%281%29.ipynb#W2sZmlsZQ%3D%3D?line=7'>8</a>\u001b[0m y[y\u001b[39m<\u001b[39m\u001b[39m=\u001b[39m\u001b[39m0\u001b[39m] \u001b[39m=\u001b[39m \u001b[39m0\u001b[39m\n\u001b[0;32m      <a href='vscode-notebook-cell:/c%3A/Users/user/Desktop/%EB%B6%80%EC%84%B1%EC%88%9C%20%EA%B0%95%EC%82%AC%EB%8B%98/2022.10.18/2022_10_18%281%29.ipynb#W2sZmlsZQ%3D%3D?line=8'>9</a>\u001b[0m y[y\u001b[39m>\u001b[39m\u001b[39m0\u001b[39m] \u001b[39m=\u001b[39m \u001b[39m1\u001b[39m\n\u001b[0;32m     <a href='vscode-notebook-cell:/c%3A/Users/user/Desktop/%EB%B6%80%EC%84%B1%EC%88%9C%20%EA%B0%95%EC%82%AC%EB%8B%98/2022.10.18/2022_10_18%281%29.ipynb#W2sZmlsZQ%3D%3D?line=9'>10</a>\u001b[0m \u001b[39mtype\u001b[39m(y)\n",
      "\u001b[1;31mTypeError\u001b[0m: 'numpy.int32' object does not support item assignment"
     ]
    }
   ],
   "source": [
    "w = [1,1]\n",
    "b = -1\n",
    "\n",
    "xData = [(0,0),(1,0),(0,1),(1,1)]\n",
    "x = xData[0]\n",
    "xx = np.array([x[0],x[1]])\n",
    "\n",
    "y = np.sum(w*xx)+b\n",
    "\n",
    "if y<0:\n",
    "    print(0)\n",
    "else:\n",
    "    print(1)"
   ]
  },
  {
   "cell_type": "code",
   "execution_count": null,
   "metadata": {},
   "outputs": [],
   "source": [
    "# 교재 122p\n",
    "# 가중치, 편향은 오차역전파로 만들어진거임"
   ]
  }
 ],
 "metadata": {
  "kernelspec": {
   "display_name": "Python 3.10.4 ('han')",
   "language": "python",
   "name": "python3"
  },
  "language_info": {
   "codemirror_mode": {
    "name": "ipython",
    "version": 3
   },
   "file_extension": ".py",
   "mimetype": "text/x-python",
   "name": "python",
   "nbconvert_exporter": "python",
   "pygments_lexer": "ipython3",
   "version": "3.10.4"
  },
  "orig_nbformat": 4,
  "vscode": {
   "interpreter": {
    "hash": "9ffd841040af6bedd50cabf1584399d13f777232c008d7c4ad470663779a547a"
   }
  }
 },
 "nbformat": 4,
 "nbformat_minor": 2
}
