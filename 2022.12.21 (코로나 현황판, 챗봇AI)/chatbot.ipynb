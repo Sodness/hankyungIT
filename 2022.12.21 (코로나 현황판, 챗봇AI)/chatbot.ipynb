{
 "cells": [
  {
   "cell_type": "code",
   "execution_count": 3,
   "metadata": {},
   "outputs": [
    {
     "data": {
      "text/html": [
       "<div>\n",
       "<style scoped>\n",
       "    .dataframe tbody tr th:only-of-type {\n",
       "        vertical-align: middle;\n",
       "    }\n",
       "\n",
       "    .dataframe tbody tr th {\n",
       "        vertical-align: top;\n",
       "    }\n",
       "\n",
       "    .dataframe thead th {\n",
       "        text-align: right;\n",
       "    }\n",
       "</style>\n",
       "<table border=\"1\" class=\"dataframe\">\n",
       "  <thead>\n",
       "    <tr style=\"text-align: right;\">\n",
       "      <th></th>\n",
       "      <th>Q</th>\n",
       "      <th>A</th>\n",
       "      <th>label</th>\n",
       "    </tr>\n",
       "  </thead>\n",
       "  <tbody>\n",
       "    <tr>\n",
       "      <th>0</th>\n",
       "      <td>12시 땡!</td>\n",
       "      <td>하루가 또 가네요.</td>\n",
       "      <td>0</td>\n",
       "    </tr>\n",
       "    <tr>\n",
       "      <th>1</th>\n",
       "      <td>1지망 학교 떨어졌어</td>\n",
       "      <td>위로해 드립니다.</td>\n",
       "      <td>0</td>\n",
       "    </tr>\n",
       "    <tr>\n",
       "      <th>2</th>\n",
       "      <td>3박4일 놀러가고 싶다</td>\n",
       "      <td>여행은 언제나 좋죠.</td>\n",
       "      <td>0</td>\n",
       "    </tr>\n",
       "    <tr>\n",
       "      <th>3</th>\n",
       "      <td>3박4일 정도 놀러가고 싶다</td>\n",
       "      <td>여행은 언제나 좋죠.</td>\n",
       "      <td>0</td>\n",
       "    </tr>\n",
       "    <tr>\n",
       "      <th>4</th>\n",
       "      <td>PPL 심하네</td>\n",
       "      <td>눈살이 찌푸려지죠.</td>\n",
       "      <td>0</td>\n",
       "    </tr>\n",
       "  </tbody>\n",
       "</table>\n",
       "</div>"
      ],
      "text/plain": [
       "                 Q            A  label\n",
       "0           12시 땡!   하루가 또 가네요.      0\n",
       "1      1지망 학교 떨어졌어    위로해 드립니다.      0\n",
       "2     3박4일 놀러가고 싶다  여행은 언제나 좋죠.      0\n",
       "3  3박4일 정도 놀러가고 싶다  여행은 언제나 좋죠.      0\n",
       "4          PPL 심하네   눈살이 찌푸려지죠.      0"
      ]
     },
     "execution_count": 3,
     "metadata": {},
     "output_type": "execute_result"
    }
   ],
   "source": [
    "import pandas as pd\n",
    "df = pd.read_csv('./ChatbotData.csv', encoding='utf-8')\n",
    "df.head()"
   ]
  },
  {
   "cell_type": "code",
   "execution_count": 1,
   "metadata": {
    "id": "sxlyB44RLCeq"
   },
   "outputs": [
    {
     "name": "stdout",
     "output_type": "stream",
     "text": [
      "Collecting sentence_transformers\n",
      "  Downloading sentence-transformers-2.2.2.tar.gz (85 kB)\n",
      "     ---------------------------------------- 86.0/86.0 kB 4.7 MB/s eta 0:00:00\n",
      "  Preparing metadata (setup.py): started\n",
      "  Preparing metadata (setup.py): finished with status 'done'\n",
      "Collecting transformers<5.0.0,>=4.6.0\n",
      "  Downloading transformers-4.25.1-py3-none-any.whl (5.8 MB)\n",
      "     ---------------------------------------- 5.8/5.8 MB 19.6 MB/s eta 0:00:00\n",
      "Requirement already satisfied: tqdm in c:\\users\\user\\.conda\\envs\\han\\lib\\site-packages (from sentence_transformers) (4.64.0)\n",
      "Requirement already satisfied: torch>=1.6.0 in c:\\users\\user\\.conda\\envs\\han\\lib\\site-packages (from sentence_transformers) (1.13.0)\n",
      "Requirement already satisfied: torchvision in c:\\users\\user\\.conda\\envs\\han\\lib\\site-packages (from sentence_transformers) (0.14.0)\n",
      "Requirement already satisfied: numpy in c:\\users\\user\\.conda\\envs\\han\\lib\\site-packages (from sentence_transformers) (1.23.1)\n",
      "Requirement already satisfied: scikit-learn in c:\\users\\user\\.conda\\envs\\han\\lib\\site-packages (from sentence_transformers) (1.1.1)\n",
      "Requirement already satisfied: scipy in c:\\users\\user\\.conda\\envs\\han\\lib\\site-packages (from sentence_transformers) (1.9.0)\n",
      "Requirement already satisfied: nltk in c:\\users\\user\\.conda\\envs\\han\\lib\\site-packages (from sentence_transformers) (3.7)\n",
      "Collecting sentencepiece\n",
      "  Downloading sentencepiece-0.1.97-cp310-cp310-win_amd64.whl (1.1 MB)\n",
      "     ---------------------------------------- 1.1/1.1 MB 18.1 MB/s eta 0:00:00\n",
      "Collecting huggingface-hub>=0.4.0\n",
      "  Downloading huggingface_hub-0.11.1-py3-none-any.whl (182 kB)\n",
      "     ---------------------------------------- 182.4/182.4 kB ? eta 0:00:00\n",
      "Collecting pyyaml>=5.1\n",
      "  Downloading PyYAML-6.0-cp310-cp310-win_amd64.whl (151 kB)\n",
      "     ---------------------------------------- 151.7/151.7 kB ? eta 0:00:00\n",
      "Collecting filelock\n",
      "  Downloading filelock-3.8.2-py3-none-any.whl (10 kB)\n",
      "Requirement already satisfied: typing-extensions>=3.7.4.3 in c:\\users\\user\\.conda\\envs\\han\\lib\\site-packages (from huggingface-hub>=0.4.0->sentence_transformers) (4.3.0)\n",
      "Requirement already satisfied: packaging>=20.9 in c:\\users\\user\\.conda\\envs\\han\\lib\\site-packages (from huggingface-hub>=0.4.0->sentence_transformers) (21.3)\n",
      "Requirement already satisfied: requests in c:\\users\\user\\.conda\\envs\\han\\lib\\site-packages (from huggingface-hub>=0.4.0->sentence_transformers) (2.28.1)\n",
      "Collecting tokenizers!=0.11.3,<0.14,>=0.11.1\n",
      "  Downloading tokenizers-0.13.2-cp310-cp310-win_amd64.whl (3.3 MB)\n",
      "     ---------------------------------------- 3.3/3.3 MB 26.3 MB/s eta 0:00:00\n",
      "Requirement already satisfied: regex!=2019.12.17 in c:\\users\\user\\.conda\\envs\\han\\lib\\site-packages (from transformers<5.0.0,>=4.6.0->sentence_transformers) (2022.7.25)\n",
      "Requirement already satisfied: colorama in c:\\users\\user\\.conda\\envs\\han\\lib\\site-packages (from tqdm->sentence_transformers) (0.4.5)\n",
      "Requirement already satisfied: joblib in c:\\users\\user\\.conda\\envs\\han\\lib\\site-packages (from nltk->sentence_transformers) (1.1.0)\n",
      "Requirement already satisfied: click in c:\\users\\user\\.conda\\envs\\han\\lib\\site-packages (from nltk->sentence_transformers) (8.1.3)\n",
      "Requirement already satisfied: threadpoolctl>=2.0.0 in c:\\users\\user\\.conda\\envs\\han\\lib\\site-packages (from scikit-learn->sentence_transformers) (3.1.0)\n",
      "Requirement already satisfied: pillow!=8.3.*,>=5.3.0 in c:\\users\\user\\.conda\\envs\\han\\lib\\site-packages (from torchvision->sentence_transformers) (9.2.0)\n",
      "Requirement already satisfied: pyparsing!=3.0.5,>=2.0.2 in c:\\users\\user\\.conda\\envs\\han\\lib\\site-packages (from packaging>=20.9->huggingface-hub>=0.4.0->sentence_transformers) (3.0.9)\n",
      "Requirement already satisfied: certifi>=2017.4.17 in c:\\users\\user\\.conda\\envs\\han\\lib\\site-packages (from requests->huggingface-hub>=0.4.0->sentence_transformers) (2022.9.14)\n",
      "Requirement already satisfied: idna<4,>=2.5 in c:\\users\\user\\.conda\\envs\\han\\lib\\site-packages (from requests->huggingface-hub>=0.4.0->sentence_transformers) (3.3)\n",
      "Requirement already satisfied: charset-normalizer<3,>=2 in c:\\users\\user\\.conda\\envs\\han\\lib\\site-packages (from requests->huggingface-hub>=0.4.0->sentence_transformers) (2.1.0)\n",
      "Requirement already satisfied: urllib3<1.27,>=1.21.1 in c:\\users\\user\\.conda\\envs\\han\\lib\\site-packages (from requests->huggingface-hub>=0.4.0->sentence_transformers) (1.26.10)\n",
      "Building wheels for collected packages: sentence_transformers\n",
      "  Building wheel for sentence_transformers (setup.py): started\n",
      "  Building wheel for sentence_transformers (setup.py): finished with status 'done'\n",
      "  Created wheel for sentence_transformers: filename=sentence_transformers-2.2.2-py3-none-any.whl size=125925 sha256=55c778f78aa9a0a26db91ccb17c148938c735056fcef8ff5b145c94fb80eca89\n",
      "  Stored in directory: c:\\users\\user\\appdata\\local\\pip\\cache\\wheels\\62\\f2\\10\\1e606fd5f02395388f74e7462910fe851042f97238cbbd902f\n",
      "Successfully built sentence_transformers\n",
      "Installing collected packages: tokenizers, sentencepiece, pyyaml, filelock, huggingface-hub, transformers, sentence_transformers\n",
      "Successfully installed filelock-3.8.2 huggingface-hub-0.11.1 pyyaml-6.0 sentence_transformers-2.2.2 sentencepiece-0.1.97 tokenizers-0.13.2 transformers-4.25.1\n",
      "Note: you may need to restart the kernel to use updated packages.\n"
     ]
    }
   ],
   "source": [
    "#setence 모듈설치\n",
    "%pip install sentence_transformers"
   ]
  },
  {
   "cell_type": "code",
   "execution_count": 4,
   "metadata": {
    "id": "7eRrsJPcHE49"
   },
   "outputs": [],
   "source": [
    "import pandas as pd\n",
    "from sentence_transformers import SentenceTransformer\n",
    "from sklearn.metrics.pairwise import cosine_similarity\n",
    "import random\n",
    "import numpy as np\n",
    "\n",
    "#지수로그 없애기 위해 소수점 6자리까지만\n",
    "np.set_printoptions(precision=6, suppress=True)"
   ]
  },
  {
   "cell_type": "code",
   "execution_count": 5,
   "metadata": {
    "id": "jBzGlC86HXCg"
   },
   "outputs": [],
   "source": [
    "#한국어 모델 불러오기\n",
    "model = SentenceTransformer('sentence-transformers/xlm-r-100langs-bert-base-nli-stsb-mean-tokens')"
   ]
  },
  {
   "cell_type": "code",
   "execution_count": 6,
   "metadata": {
    "id": "-AqPbZOyM8yB"
   },
   "outputs": [
    {
     "data": {
      "text/plain": [
       "(2, 768)"
      ]
     },
     "execution_count": 6,
     "metadata": {},
     "output_type": "execute_result"
    }
   ],
   "source": [
    "#임베딩 잘되는지 테스트\n",
    "sentence = ['안녕하세요 테스트입니다.','반갑습니다. 테스트입니다.']\n",
    "embeding = model.encode(sentence)\n",
    "embeding.shape"
   ]
  },
  {
   "cell_type": "code",
   "execution_count": 6,
   "metadata": {
    "id": "JKRTyGjDW62E"
   },
   "outputs": [
    {
     "name": "stderr",
     "output_type": "stream",
     "text": [
      "'wget'��(��) ���� �Ǵ� �ܺ� ����, ������ �� �ִ� ���α׷�, �Ǵ�\n",
      "��ġ ������ �ƴմϴ�.\n"
     ]
    }
   ],
   "source": [
    "#자연어 챗봇 데이터 불러오기 \n",
    "!wget https://raw.githubusercontent.com/songys/Chatbot_data/master/ChatbotData.csv"
   ]
  },
  {
   "cell_type": "code",
   "execution_count": 7,
   "metadata": {
    "id": "-iy2xEzawRhp"
   },
   "outputs": [
    {
     "data": {
      "text/html": [
       "<div>\n",
       "<style scoped>\n",
       "    .dataframe tbody tr th:only-of-type {\n",
       "        vertical-align: middle;\n",
       "    }\n",
       "\n",
       "    .dataframe tbody tr th {\n",
       "        vertical-align: top;\n",
       "    }\n",
       "\n",
       "    .dataframe thead th {\n",
       "        text-align: right;\n",
       "    }\n",
       "</style>\n",
       "<table border=\"1\" class=\"dataframe\">\n",
       "  <thead>\n",
       "    <tr style=\"text-align: right;\">\n",
       "      <th></th>\n",
       "      <th>Q</th>\n",
       "      <th>A</th>\n",
       "      <th>label</th>\n",
       "    </tr>\n",
       "  </thead>\n",
       "  <tbody>\n",
       "    <tr>\n",
       "      <th>0</th>\n",
       "      <td>12시 땡!</td>\n",
       "      <td>하루가 또 가네요.</td>\n",
       "      <td>0</td>\n",
       "    </tr>\n",
       "    <tr>\n",
       "      <th>1</th>\n",
       "      <td>1지망 학교 떨어졌어</td>\n",
       "      <td>위로해 드립니다.</td>\n",
       "      <td>0</td>\n",
       "    </tr>\n",
       "    <tr>\n",
       "      <th>2</th>\n",
       "      <td>3박4일 놀러가고 싶다</td>\n",
       "      <td>여행은 언제나 좋죠.</td>\n",
       "      <td>0</td>\n",
       "    </tr>\n",
       "    <tr>\n",
       "      <th>3</th>\n",
       "      <td>3박4일 정도 놀러가고 싶다</td>\n",
       "      <td>여행은 언제나 좋죠.</td>\n",
       "      <td>0</td>\n",
       "    </tr>\n",
       "    <tr>\n",
       "      <th>4</th>\n",
       "      <td>PPL 심하네</td>\n",
       "      <td>눈살이 찌푸려지죠.</td>\n",
       "      <td>0</td>\n",
       "    </tr>\n",
       "    <tr>\n",
       "      <th>...</th>\n",
       "      <td>...</td>\n",
       "      <td>...</td>\n",
       "      <td>...</td>\n",
       "    </tr>\n",
       "    <tr>\n",
       "      <th>11818</th>\n",
       "      <td>훔쳐보는 것도 눈치 보임.</td>\n",
       "      <td>티가 나니까 눈치가 보이는 거죠!</td>\n",
       "      <td>2</td>\n",
       "    </tr>\n",
       "    <tr>\n",
       "      <th>11819</th>\n",
       "      <td>훔쳐보는 것도 눈치 보임.</td>\n",
       "      <td>훔쳐보는 거 티나나봐요.</td>\n",
       "      <td>2</td>\n",
       "    </tr>\n",
       "    <tr>\n",
       "      <th>11820</th>\n",
       "      <td>흑기사 해주는 짝남.</td>\n",
       "      <td>설렜겠어요.</td>\n",
       "      <td>2</td>\n",
       "    </tr>\n",
       "    <tr>\n",
       "      <th>11821</th>\n",
       "      <td>힘든 연애 좋은 연애라는게 무슨 차이일까?</td>\n",
       "      <td>잘 헤어질 수 있는 사이 여부인 거 같아요.</td>\n",
       "      <td>2</td>\n",
       "    </tr>\n",
       "    <tr>\n",
       "      <th>11822</th>\n",
       "      <td>힘들어서 결혼할까봐</td>\n",
       "      <td>도피성 결혼은 하지 않길 바라요.</td>\n",
       "      <td>2</td>\n",
       "    </tr>\n",
       "  </tbody>\n",
       "</table>\n",
       "<p>11823 rows × 3 columns</p>\n",
       "</div>"
      ],
      "text/plain": [
       "                             Q                         A  label\n",
       "0                       12시 땡!                하루가 또 가네요.      0\n",
       "1                  1지망 학교 떨어졌어                 위로해 드립니다.      0\n",
       "2                 3박4일 놀러가고 싶다               여행은 언제나 좋죠.      0\n",
       "3              3박4일 정도 놀러가고 싶다               여행은 언제나 좋죠.      0\n",
       "4                      PPL 심하네                눈살이 찌푸려지죠.      0\n",
       "...                        ...                       ...    ...\n",
       "11818           훔쳐보는 것도 눈치 보임.        티가 나니까 눈치가 보이는 거죠!      2\n",
       "11819           훔쳐보는 것도 눈치 보임.             훔쳐보는 거 티나나봐요.      2\n",
       "11820              흑기사 해주는 짝남.                    설렜겠어요.      2\n",
       "11821  힘든 연애 좋은 연애라는게 무슨 차이일까?  잘 헤어질 수 있는 사이 여부인 거 같아요.      2\n",
       "11822               힘들어서 결혼할까봐        도피성 결혼은 하지 않길 바라요.      2\n",
       "\n",
       "[11823 rows x 3 columns]"
      ]
     },
     "execution_count": 7,
     "metadata": {},
     "output_type": "execute_result"
    }
   ],
   "source": [
    "df = pd.read_csv('ChatbotData.csv')\n",
    "df"
   ]
  },
  {
   "cell_type": "code",
   "execution_count": 8,
   "metadata": {
    "id": "uqsExzqLHiwG"
   },
   "outputs": [],
   "source": [
    "#매번 채팅 들어올때 임베딩하면 시간이 너무 오래 걸려 챗봇 질문 데이터 임베딩해서 csv로 저장하기\n",
    "import csv\n",
    "with open('embeding.csv','w') as file :\n",
    "    mapdata = []\n",
    "    write = csv.writer(file)\n",
    "    for temp in df['Q']:\n",
    "        t = model.encode(temp)\n",
    "        mapdata.append( t )\n",
    "        \n",
    "    write.writerows(mapdata)"
   ]
  },
  {
   "cell_type": "code",
   "execution_count": 9,
   "metadata": {
    "id": "GcQ-LlGvfm4q"
   },
   "outputs": [
    {
     "name": "stdout",
     "output_type": "stream",
     "text": [
      "<class 'pandas.core.frame.DataFrame'>\n",
      "RangeIndex: 11823 entries, 0 to 11822\n",
      "Columns: 768 entries, 0 to 767\n",
      "dtypes: float64(768)\n",
      "memory usage: 69.3 MB\n"
     ]
    }
   ],
   "source": [
    "#csv 불러오기\n",
    "df1 = pd.read_csv('embeding.csv',header=None)\n",
    "df1.info()"
   ]
  },
  {
   "cell_type": "code",
   "execution_count": 10,
   "metadata": {
    "id": "U6XecbhWNPD-"
   },
   "outputs": [
    {
     "data": {
      "text/plain": [
       "Q            12시 땡!\n",
       "A        하루가 또 가네요.\n",
       "label             0\n",
       "Name: 0, dtype: object"
      ]
     },
     "execution_count": 10,
     "metadata": {},
     "output_type": "execute_result"
    }
   ],
   "source": [
    "#챗봇 데이터 불러오기\n",
    "df = pd.read_csv('ChatbotData.csv')\n",
    "df.iloc[0]"
   ]
  },
  {
   "cell_type": "code",
   "execution_count": 11,
   "metadata": {
    "id": "kmiD6nShPTmk"
   },
   "outputs": [
    {
     "data": {
      "text/plain": [
       "Q               배고파\n",
       "A        뭐 좀 챙겨드세요.\n",
       "label             0\n",
       "cos        0.911879\n",
       "Name: 2001, dtype: object"
      ]
     },
     "execution_count": 11,
     "metadata": {},
     "output_type": "execute_result"
    }
   ],
   "source": [
    "#챗봇 함수 입력받은 텍스트와 embeding 유사도 체크후 원본 챗봇에 cos컬럼 만든후 상위 정렬\n",
    "def chatbot_text(text):\n",
    "    em_result = model.encode(text)\n",
    "    co_result = []\n",
    "    for temp in range(len(df1)):\n",
    "        data = df1.iloc[temp]\n",
    "        co_result.append( cosine_similarity([em_result],[data])[0][0] )\n",
    "    df['cos'] = co_result\n",
    "    df_result = df.sort_values('cos',ascending=False)\n",
    "    r = random.randint(0,5)\n",
    "    return df_result.iloc[r]\n",
    "\n",
    "chatbot_text(\"배고파요\")"
   ]
  },
  {
   "cell_type": "code",
   "execution_count": 12,
   "metadata": {
    "id": "AGgZ-qUqv-gD"
   },
   "outputs": [
    {
     "name": "stdout",
     "output_type": "stream",
     "text": [
      "time : 2.3280725479125977\n"
     ]
    }
   ],
   "source": [
    "import time\n",
    "start = time.time() \n",
    "chatbot_text(\"배고파요\")\n",
    "print(\"time :\", time.time() - start)"
   ]
  },
  {
   "cell_type": "code",
   "execution_count": 13,
   "metadata": {
    "id": "l4P4r4cRxPmb"
   },
   "outputs": [
    {
     "data": {
      "text/plain": [
       "Q        밥 먹었는데 배고파\n",
       "A          디져트 드세요.\n",
       "label             0\n",
       "cos        0.930304\n",
       "Name: 1964, dtype: object"
      ]
     },
     "execution_count": 13,
     "metadata": {},
     "output_type": "execute_result"
    }
   ],
   "source": [
    "chatbot_text(\"배고파요\")"
   ]
  },
  {
   "cell_type": "code",
   "execution_count": 14,
   "metadata": {},
   "outputs": [
    {
     "data": {
      "text/plain": [
       "Q        서울 근교에서 갈만한 곳 추천\n",
       "A             드라이브 추천해들요.\n",
       "label                   0\n",
       "cos              0.976281\n",
       "Name: 2428, dtype: object"
      ]
     },
     "execution_count": 14,
     "metadata": {},
     "output_type": "execute_result"
    }
   ],
   "source": [
    "chatbot_text(\"서울시 관악구 삼성동\")"
   ]
  },
  {
   "attachments": {},
   "cell_type": "markdown",
   "metadata": {},
   "source": [
    "### ======================================"
   ]
  },
  {
   "cell_type": "code",
   "execution_count": 17,
   "metadata": {},
   "outputs": [
    {
     "data": {
      "text/html": [
       "<div>\n",
       "<style scoped>\n",
       "    .dataframe tbody tr th:only-of-type {\n",
       "        vertical-align: middle;\n",
       "    }\n",
       "\n",
       "    .dataframe tbody tr th {\n",
       "        vertical-align: top;\n",
       "    }\n",
       "\n",
       "    .dataframe thead th {\n",
       "        text-align: right;\n",
       "    }\n",
       "</style>\n",
       "<table border=\"1\" class=\"dataframe\">\n",
       "  <thead>\n",
       "    <tr style=\"text-align: right;\">\n",
       "      <th></th>\n",
       "      <th>시</th>\n",
       "      <th>구</th>\n",
       "      <th>동</th>\n",
       "      <th>의료기관명</th>\n",
       "      <th>주소</th>\n",
       "      <th>전화번호</th>\n",
       "    </tr>\n",
       "  </thead>\n",
       "  <tbody>\n",
       "    <tr>\n",
       "      <th>0</th>\n",
       "      <td>서울</td>\n",
       "      <td>강남구</td>\n",
       "      <td>삼성동</td>\n",
       "      <td>강남구보건소</td>\n",
       "      <td>서울 강남구 삼성동(삼성2동) 8 강남구보건소</td>\n",
       "      <td>02-3423-5555</td>\n",
       "    </tr>\n",
       "    <tr>\n",
       "      <th>1</th>\n",
       "      <td>서울</td>\n",
       "      <td>강남구</td>\n",
       "      <td>일원동</td>\n",
       "      <td>삼성서울병원</td>\n",
       "      <td>서울 강남구 일원로81 삼성서울병원</td>\n",
       "      <td>02-1599-3114</td>\n",
       "    </tr>\n",
       "    <tr>\n",
       "      <th>2</th>\n",
       "      <td>서울</td>\n",
       "      <td>강남구</td>\n",
       "      <td>도곡동</td>\n",
       "      <td>강남세브란스병원</td>\n",
       "      <td>서울 강남구 언주로211 강남세브란스병원</td>\n",
       "      <td>02-1599-6114</td>\n",
       "    </tr>\n",
       "    <tr>\n",
       "      <th>3</th>\n",
       "      <td>서울</td>\n",
       "      <td>강남구</td>\n",
       "      <td>도곡동</td>\n",
       "      <td>강남베드로병원</td>\n",
       "      <td>남부순환로2637</td>\n",
       "      <td>02-1544-7522</td>\n",
       "    </tr>\n",
       "    <tr>\n",
       "      <th>4</th>\n",
       "      <td>서울</td>\n",
       "      <td>강동구</td>\n",
       "      <td>성내동</td>\n",
       "      <td>강동구보건소</td>\n",
       "      <td>서울 강동구 성내로45</td>\n",
       "      <td>02-3425-6713</td>\n",
       "    </tr>\n",
       "  </tbody>\n",
       "</table>\n",
       "</div>"
      ],
      "text/plain": [
       "    시    구    동     의료기관명                         주소          전화번호\n",
       "0  서울  강남구  삼성동    강남구보건소  서울 강남구 삼성동(삼성2동) 8 강남구보건소  02-3423-5555\n",
       "1  서울  강남구  일원동    삼성서울병원        서울 강남구 일원로81 삼성서울병원  02-1599-3114\n",
       "2  서울  강남구  도곡동  강남세브란스병원     서울 강남구 언주로211 강남세브란스병원  02-1599-6114\n",
       "3  서울  강남구  도곡동   강남베드로병원                  남부순환로2637  02-1544-7522\n",
       "4  서울  강동구  성내동    강동구보건소               서울 강동구 성내로45  02-3425-6713"
      ]
     },
     "execution_count": 17,
     "metadata": {},
     "output_type": "execute_result"
    }
   ],
   "source": [
    "import pandas as pd\n",
    "df = pd.read_csv('./test.CSV', encoding='euc-kr')\n",
    "df.head()"
   ]
  },
  {
   "cell_type": "code",
   "execution_count": 18,
   "metadata": {},
   "outputs": [],
   "source": [
    "df['Q'] = df['시'] + \" \" + df['구'] + \" \" + df['동']\n",
    "df['A'] = df['의료기관명'] + \" \" + df['주소'] + \" \" + df['전화번호']"
   ]
  },
  {
   "cell_type": "code",
   "execution_count": 19,
   "metadata": {},
   "outputs": [
    {
     "data": {
      "text/html": [
       "<div>\n",
       "<style scoped>\n",
       "    .dataframe tbody tr th:only-of-type {\n",
       "        vertical-align: middle;\n",
       "    }\n",
       "\n",
       "    .dataframe tbody tr th {\n",
       "        vertical-align: top;\n",
       "    }\n",
       "\n",
       "    .dataframe thead th {\n",
       "        text-align: right;\n",
       "    }\n",
       "</style>\n",
       "<table border=\"1\" class=\"dataframe\">\n",
       "  <thead>\n",
       "    <tr style=\"text-align: right;\">\n",
       "      <th></th>\n",
       "      <th>시</th>\n",
       "      <th>구</th>\n",
       "      <th>동</th>\n",
       "      <th>의료기관명</th>\n",
       "      <th>주소</th>\n",
       "      <th>전화번호</th>\n",
       "      <th>Q</th>\n",
       "      <th>A</th>\n",
       "    </tr>\n",
       "  </thead>\n",
       "  <tbody>\n",
       "    <tr>\n",
       "      <th>0</th>\n",
       "      <td>서울</td>\n",
       "      <td>강남구</td>\n",
       "      <td>삼성동</td>\n",
       "      <td>강남구보건소</td>\n",
       "      <td>서울 강남구 삼성동(삼성2동) 8 강남구보건소</td>\n",
       "      <td>02-3423-5555</td>\n",
       "      <td>서울 강남구 삼성동</td>\n",
       "      <td>강남구보건소 서울 강남구 삼성동(삼성2동) 8 강남구보건소 02-3423-5555</td>\n",
       "    </tr>\n",
       "    <tr>\n",
       "      <th>1</th>\n",
       "      <td>서울</td>\n",
       "      <td>강남구</td>\n",
       "      <td>일원동</td>\n",
       "      <td>삼성서울병원</td>\n",
       "      <td>서울 강남구 일원로81 삼성서울병원</td>\n",
       "      <td>02-1599-3114</td>\n",
       "      <td>서울 강남구 일원동</td>\n",
       "      <td>삼성서울병원 서울 강남구 일원로81 삼성서울병원 02-1599-3114</td>\n",
       "    </tr>\n",
       "    <tr>\n",
       "      <th>2</th>\n",
       "      <td>서울</td>\n",
       "      <td>강남구</td>\n",
       "      <td>도곡동</td>\n",
       "      <td>강남세브란스병원</td>\n",
       "      <td>서울 강남구 언주로211 강남세브란스병원</td>\n",
       "      <td>02-1599-6114</td>\n",
       "      <td>서울 강남구 도곡동</td>\n",
       "      <td>강남세브란스병원 서울 강남구 언주로211 강남세브란스병원 02-1599-6114</td>\n",
       "    </tr>\n",
       "    <tr>\n",
       "      <th>3</th>\n",
       "      <td>서울</td>\n",
       "      <td>강남구</td>\n",
       "      <td>도곡동</td>\n",
       "      <td>강남베드로병원</td>\n",
       "      <td>남부순환로2637</td>\n",
       "      <td>02-1544-7522</td>\n",
       "      <td>서울 강남구 도곡동</td>\n",
       "      <td>강남베드로병원 남부순환로2637 02-1544-7522</td>\n",
       "    </tr>\n",
       "    <tr>\n",
       "      <th>4</th>\n",
       "      <td>서울</td>\n",
       "      <td>강동구</td>\n",
       "      <td>성내동</td>\n",
       "      <td>강동구보건소</td>\n",
       "      <td>서울 강동구 성내로45</td>\n",
       "      <td>02-3425-6713</td>\n",
       "      <td>서울 강동구 성내동</td>\n",
       "      <td>강동구보건소 서울 강동구 성내로45 02-3425-6713</td>\n",
       "    </tr>\n",
       "  </tbody>\n",
       "</table>\n",
       "</div>"
      ],
      "text/plain": [
       "    시    구    동     의료기관명                         주소          전화번호  \\\n",
       "0  서울  강남구  삼성동    강남구보건소  서울 강남구 삼성동(삼성2동) 8 강남구보건소  02-3423-5555   \n",
       "1  서울  강남구  일원동    삼성서울병원        서울 강남구 일원로81 삼성서울병원  02-1599-3114   \n",
       "2  서울  강남구  도곡동  강남세브란스병원     서울 강남구 언주로211 강남세브란스병원  02-1599-6114   \n",
       "3  서울  강남구  도곡동   강남베드로병원                  남부순환로2637  02-1544-7522   \n",
       "4  서울  강동구  성내동    강동구보건소               서울 강동구 성내로45  02-3425-6713   \n",
       "\n",
       "            Q                                              A  \n",
       "0  서울 강남구 삼성동  강남구보건소 서울 강남구 삼성동(삼성2동) 8 강남구보건소 02-3423-5555  \n",
       "1  서울 강남구 일원동        삼성서울병원 서울 강남구 일원로81 삼성서울병원 02-1599-3114  \n",
       "2  서울 강남구 도곡동   강남세브란스병원 서울 강남구 언주로211 강남세브란스병원 02-1599-6114  \n",
       "3  서울 강남구 도곡동                 강남베드로병원 남부순환로2637 02-1544-7522  \n",
       "4  서울 강동구 성내동               강동구보건소 서울 강동구 성내로45 02-3425-6713  "
      ]
     },
     "execution_count": 19,
     "metadata": {},
     "output_type": "execute_result"
    }
   ],
   "source": [
    "df.head()"
   ]
  },
  {
   "cell_type": "code",
   "execution_count": 22,
   "metadata": {},
   "outputs": [],
   "source": [
    "df = df.drop(columns=['시','구','동','의료기관명','주소','전화번호'])"
   ]
  },
  {
   "cell_type": "code",
   "execution_count": 23,
   "metadata": {},
   "outputs": [
    {
     "data": {
      "text/html": [
       "<div>\n",
       "<style scoped>\n",
       "    .dataframe tbody tr th:only-of-type {\n",
       "        vertical-align: middle;\n",
       "    }\n",
       "\n",
       "    .dataframe tbody tr th {\n",
       "        vertical-align: top;\n",
       "    }\n",
       "\n",
       "    .dataframe thead th {\n",
       "        text-align: right;\n",
       "    }\n",
       "</style>\n",
       "<table border=\"1\" class=\"dataframe\">\n",
       "  <thead>\n",
       "    <tr style=\"text-align: right;\">\n",
       "      <th></th>\n",
       "      <th>Q</th>\n",
       "      <th>A</th>\n",
       "    </tr>\n",
       "  </thead>\n",
       "  <tbody>\n",
       "    <tr>\n",
       "      <th>0</th>\n",
       "      <td>서울 강남구 삼성동</td>\n",
       "      <td>강남구보건소 서울 강남구 삼성동(삼성2동) 8 강남구보건소 02-3423-5555</td>\n",
       "    </tr>\n",
       "    <tr>\n",
       "      <th>1</th>\n",
       "      <td>서울 강남구 일원동</td>\n",
       "      <td>삼성서울병원 서울 강남구 일원로81 삼성서울병원 02-1599-3114</td>\n",
       "    </tr>\n",
       "    <tr>\n",
       "      <th>2</th>\n",
       "      <td>서울 강남구 도곡동</td>\n",
       "      <td>강남세브란스병원 서울 강남구 언주로211 강남세브란스병원 02-1599-6114</td>\n",
       "    </tr>\n",
       "    <tr>\n",
       "      <th>3</th>\n",
       "      <td>서울 강남구 도곡동</td>\n",
       "      <td>강남베드로병원 남부순환로2637 02-1544-7522</td>\n",
       "    </tr>\n",
       "    <tr>\n",
       "      <th>4</th>\n",
       "      <td>서울 강동구 성내동</td>\n",
       "      <td>강동구보건소 서울 강동구 성내로45 02-3425-6713</td>\n",
       "    </tr>\n",
       "  </tbody>\n",
       "</table>\n",
       "</div>"
      ],
      "text/plain": [
       "            Q                                              A\n",
       "0  서울 강남구 삼성동  강남구보건소 서울 강남구 삼성동(삼성2동) 8 강남구보건소 02-3423-5555\n",
       "1  서울 강남구 일원동        삼성서울병원 서울 강남구 일원로81 삼성서울병원 02-1599-3114\n",
       "2  서울 강남구 도곡동   강남세브란스병원 서울 강남구 언주로211 강남세브란스병원 02-1599-6114\n",
       "3  서울 강남구 도곡동                 강남베드로병원 남부순환로2637 02-1544-7522\n",
       "4  서울 강동구 성내동               강동구보건소 서울 강동구 성내로45 02-3425-6713"
      ]
     },
     "execution_count": 23,
     "metadata": {},
     "output_type": "execute_result"
    }
   ],
   "source": [
    "df.head()"
   ]
  },
  {
   "cell_type": "code",
   "execution_count": 24,
   "metadata": {},
   "outputs": [
    {
     "ename": "UnicodeDecodeError",
     "evalue": "'euc_kr' codec can't decode byte 0xec in position 5: illegal multibyte sequence",
     "output_type": "error",
     "traceback": [
      "\u001b[1;31m---------------------------------------------------------------------------\u001b[0m",
      "\u001b[1;31mUnicodeDecodeError\u001b[0m                        Traceback (most recent call last)",
      "\u001b[1;32mc:\\Users\\user\\Desktop\\7. 김한호 강사님\\2022.12.21\\chatbot.ipynb Cell 21\u001b[0m in \u001b[0;36m<cell line: 2>\u001b[1;34m()\u001b[0m\n\u001b[0;32m      <a href='vscode-notebook-cell:/c%3A/Users/user/Desktop/7.%20%EA%B9%80%ED%95%9C%ED%98%B8%20%EA%B0%95%EC%82%AC%EB%8B%98/2022.12.21/chatbot.ipynb#X30sZmlsZQ%3D%3D?line=0'>1</a>\u001b[0m df\u001b[39m.\u001b[39mto_csv(\u001b[39m'\u001b[39m\u001b[39mtest1.csv\u001b[39m\u001b[39m'\u001b[39m, index\u001b[39m=\u001b[39m\u001b[39mFalse\u001b[39;00m)\n\u001b[1;32m----> <a href='vscode-notebook-cell:/c%3A/Users/user/Desktop/7.%20%EA%B9%80%ED%95%9C%ED%98%B8%20%EA%B0%95%EC%82%AC%EB%8B%98/2022.12.21/chatbot.ipynb#X30sZmlsZQ%3D%3D?line=1'>2</a>\u001b[0m df \u001b[39m=\u001b[39m pd\u001b[39m.\u001b[39;49mread_csv(\u001b[39m'\u001b[39;49m\u001b[39m./test1.csv\u001b[39;49m\u001b[39m'\u001b[39;49m, encoding\u001b[39m=\u001b[39;49m\u001b[39m'\u001b[39;49m\u001b[39meuc-kr\u001b[39;49m\u001b[39m'\u001b[39;49m)\n\u001b[0;32m      <a href='vscode-notebook-cell:/c%3A/Users/user/Desktop/7.%20%EA%B9%80%ED%95%9C%ED%98%B8%20%EA%B0%95%EC%82%AC%EB%8B%98/2022.12.21/chatbot.ipynb#X30sZmlsZQ%3D%3D?line=2'>3</a>\u001b[0m df\u001b[39m.\u001b[39mhead()\n",
      "File \u001b[1;32mc:\\Users\\user\\.conda\\envs\\han\\lib\\site-packages\\pandas\\util\\_decorators.py:311\u001b[0m, in \u001b[0;36mdeprecate_nonkeyword_arguments.<locals>.decorate.<locals>.wrapper\u001b[1;34m(*args, **kwargs)\u001b[0m\n\u001b[0;32m    305\u001b[0m \u001b[39mif\u001b[39;00m \u001b[39mlen\u001b[39m(args) \u001b[39m>\u001b[39m num_allow_args:\n\u001b[0;32m    306\u001b[0m     warnings\u001b[39m.\u001b[39mwarn(\n\u001b[0;32m    307\u001b[0m         msg\u001b[39m.\u001b[39mformat(arguments\u001b[39m=\u001b[39marguments),\n\u001b[0;32m    308\u001b[0m         \u001b[39mFutureWarning\u001b[39;00m,\n\u001b[0;32m    309\u001b[0m         stacklevel\u001b[39m=\u001b[39mstacklevel,\n\u001b[0;32m    310\u001b[0m     )\n\u001b[1;32m--> 311\u001b[0m \u001b[39mreturn\u001b[39;00m func(\u001b[39m*\u001b[39margs, \u001b[39m*\u001b[39m\u001b[39m*\u001b[39mkwargs)\n",
      "File \u001b[1;32mc:\\Users\\user\\.conda\\envs\\han\\lib\\site-packages\\pandas\\io\\parsers\\readers.py:680\u001b[0m, in \u001b[0;36mread_csv\u001b[1;34m(filepath_or_buffer, sep, delimiter, header, names, index_col, usecols, squeeze, prefix, mangle_dupe_cols, dtype, engine, converters, true_values, false_values, skipinitialspace, skiprows, skipfooter, nrows, na_values, keep_default_na, na_filter, verbose, skip_blank_lines, parse_dates, infer_datetime_format, keep_date_col, date_parser, dayfirst, cache_dates, iterator, chunksize, compression, thousands, decimal, lineterminator, quotechar, quoting, doublequote, escapechar, comment, encoding, encoding_errors, dialect, error_bad_lines, warn_bad_lines, on_bad_lines, delim_whitespace, low_memory, memory_map, float_precision, storage_options)\u001b[0m\n\u001b[0;32m    665\u001b[0m kwds_defaults \u001b[39m=\u001b[39m _refine_defaults_read(\n\u001b[0;32m    666\u001b[0m     dialect,\n\u001b[0;32m    667\u001b[0m     delimiter,\n\u001b[1;32m   (...)\u001b[0m\n\u001b[0;32m    676\u001b[0m     defaults\u001b[39m=\u001b[39m{\u001b[39m\"\u001b[39m\u001b[39mdelimiter\u001b[39m\u001b[39m\"\u001b[39m: \u001b[39m\"\u001b[39m\u001b[39m,\u001b[39m\u001b[39m\"\u001b[39m},\n\u001b[0;32m    677\u001b[0m )\n\u001b[0;32m    678\u001b[0m kwds\u001b[39m.\u001b[39mupdate(kwds_defaults)\n\u001b[1;32m--> 680\u001b[0m \u001b[39mreturn\u001b[39;00m _read(filepath_or_buffer, kwds)\n",
      "File \u001b[1;32mc:\\Users\\user\\.conda\\envs\\han\\lib\\site-packages\\pandas\\io\\parsers\\readers.py:575\u001b[0m, in \u001b[0;36m_read\u001b[1;34m(filepath_or_buffer, kwds)\u001b[0m\n\u001b[0;32m    572\u001b[0m _validate_names(kwds\u001b[39m.\u001b[39mget(\u001b[39m\"\u001b[39m\u001b[39mnames\u001b[39m\u001b[39m\"\u001b[39m, \u001b[39mNone\u001b[39;00m))\n\u001b[0;32m    574\u001b[0m \u001b[39m# Create the parser.\u001b[39;00m\n\u001b[1;32m--> 575\u001b[0m parser \u001b[39m=\u001b[39m TextFileReader(filepath_or_buffer, \u001b[39m*\u001b[39m\u001b[39m*\u001b[39mkwds)\n\u001b[0;32m    577\u001b[0m \u001b[39mif\u001b[39;00m chunksize \u001b[39mor\u001b[39;00m iterator:\n\u001b[0;32m    578\u001b[0m     \u001b[39mreturn\u001b[39;00m parser\n",
      "File \u001b[1;32mc:\\Users\\user\\.conda\\envs\\han\\lib\\site-packages\\pandas\\io\\parsers\\readers.py:934\u001b[0m, in \u001b[0;36mTextFileReader.__init__\u001b[1;34m(self, f, engine, **kwds)\u001b[0m\n\u001b[0;32m    931\u001b[0m     \u001b[39mself\u001b[39m\u001b[39m.\u001b[39moptions[\u001b[39m\"\u001b[39m\u001b[39mhas_index_names\u001b[39m\u001b[39m\"\u001b[39m] \u001b[39m=\u001b[39m kwds[\u001b[39m\"\u001b[39m\u001b[39mhas_index_names\u001b[39m\u001b[39m\"\u001b[39m]\n\u001b[0;32m    933\u001b[0m \u001b[39mself\u001b[39m\u001b[39m.\u001b[39mhandles: IOHandles \u001b[39m|\u001b[39m \u001b[39mNone\u001b[39;00m \u001b[39m=\u001b[39m \u001b[39mNone\u001b[39;00m\n\u001b[1;32m--> 934\u001b[0m \u001b[39mself\u001b[39m\u001b[39m.\u001b[39m_engine \u001b[39m=\u001b[39m \u001b[39mself\u001b[39;49m\u001b[39m.\u001b[39;49m_make_engine(f, \u001b[39mself\u001b[39;49m\u001b[39m.\u001b[39;49mengine)\n",
      "File \u001b[1;32mc:\\Users\\user\\.conda\\envs\\han\\lib\\site-packages\\pandas\\io\\parsers\\readers.py:1236\u001b[0m, in \u001b[0;36mTextFileReader._make_engine\u001b[1;34m(self, f, engine)\u001b[0m\n\u001b[0;32m   1233\u001b[0m     \u001b[39mraise\u001b[39;00m \u001b[39mValueError\u001b[39;00m(msg)\n\u001b[0;32m   1235\u001b[0m \u001b[39mtry\u001b[39;00m:\n\u001b[1;32m-> 1236\u001b[0m     \u001b[39mreturn\u001b[39;00m mapping[engine](f, \u001b[39m*\u001b[39m\u001b[39m*\u001b[39m\u001b[39mself\u001b[39m\u001b[39m.\u001b[39moptions)\n\u001b[0;32m   1237\u001b[0m \u001b[39mexcept\u001b[39;00m \u001b[39mException\u001b[39;00m:\n\u001b[0;32m   1238\u001b[0m     \u001b[39mif\u001b[39;00m \u001b[39mself\u001b[39m\u001b[39m.\u001b[39mhandles \u001b[39mis\u001b[39;00m \u001b[39mnot\u001b[39;00m \u001b[39mNone\u001b[39;00m:\n",
      "File \u001b[1;32mc:\\Users\\user\\.conda\\envs\\han\\lib\\site-packages\\pandas\\io\\parsers\\c_parser_wrapper.py:75\u001b[0m, in \u001b[0;36mCParserWrapper.__init__\u001b[1;34m(self, src, **kwds)\u001b[0m\n\u001b[0;32m     72\u001b[0m     kwds\u001b[39m.\u001b[39mpop(key, \u001b[39mNone\u001b[39;00m)\n\u001b[0;32m     74\u001b[0m kwds[\u001b[39m\"\u001b[39m\u001b[39mdtype\u001b[39m\u001b[39m\"\u001b[39m] \u001b[39m=\u001b[39m ensure_dtype_objs(kwds\u001b[39m.\u001b[39mget(\u001b[39m\"\u001b[39m\u001b[39mdtype\u001b[39m\u001b[39m\"\u001b[39m, \u001b[39mNone\u001b[39;00m))\n\u001b[1;32m---> 75\u001b[0m \u001b[39mself\u001b[39m\u001b[39m.\u001b[39m_reader \u001b[39m=\u001b[39m parsers\u001b[39m.\u001b[39mTextReader(src, \u001b[39m*\u001b[39m\u001b[39m*\u001b[39mkwds)\n\u001b[0;32m     77\u001b[0m \u001b[39mself\u001b[39m\u001b[39m.\u001b[39munnamed_cols \u001b[39m=\u001b[39m \u001b[39mself\u001b[39m\u001b[39m.\u001b[39m_reader\u001b[39m.\u001b[39munnamed_cols\n\u001b[0;32m     79\u001b[0m \u001b[39m# error: Cannot determine type of 'names'\u001b[39;00m\n",
      "File \u001b[1;32mc:\\Users\\user\\.conda\\envs\\han\\lib\\site-packages\\pandas\\_libs\\parsers.pyx:544\u001b[0m, in \u001b[0;36mpandas._libs.parsers.TextReader.__cinit__\u001b[1;34m()\u001b[0m\n",
      "File \u001b[1;32mc:\\Users\\user\\.conda\\envs\\han\\lib\\site-packages\\pandas\\_libs\\parsers.pyx:633\u001b[0m, in \u001b[0;36mpandas._libs.parsers.TextReader._get_header\u001b[1;34m()\u001b[0m\n",
      "File \u001b[1;32mc:\\Users\\user\\.conda\\envs\\han\\lib\\site-packages\\pandas\\_libs\\parsers.pyx:847\u001b[0m, in \u001b[0;36mpandas._libs.parsers.TextReader._tokenize_rows\u001b[1;34m()\u001b[0m\n",
      "File \u001b[1;32mc:\\Users\\user\\.conda\\envs\\han\\lib\\site-packages\\pandas\\_libs\\parsers.pyx:1952\u001b[0m, in \u001b[0;36mpandas._libs.parsers.raise_parser_error\u001b[1;34m()\u001b[0m\n",
      "\u001b[1;31mUnicodeDecodeError\u001b[0m: 'euc_kr' codec can't decode byte 0xec in position 5: illegal multibyte sequence"
     ]
    }
   ],
   "source": [
    "df.to_csv('test1.csv', index=False)"
   ]
  },
  {
   "cell_type": "code",
   "execution_count": 25,
   "metadata": {},
   "outputs": [
    {
     "data": {
      "text/html": [
       "<div>\n",
       "<style scoped>\n",
       "    .dataframe tbody tr th:only-of-type {\n",
       "        vertical-align: middle;\n",
       "    }\n",
       "\n",
       "    .dataframe tbody tr th {\n",
       "        vertical-align: top;\n",
       "    }\n",
       "\n",
       "    .dataframe thead th {\n",
       "        text-align: right;\n",
       "    }\n",
       "</style>\n",
       "<table border=\"1\" class=\"dataframe\">\n",
       "  <thead>\n",
       "    <tr style=\"text-align: right;\">\n",
       "      <th></th>\n",
       "      <th>Q</th>\n",
       "      <th>A</th>\n",
       "    </tr>\n",
       "  </thead>\n",
       "  <tbody>\n",
       "    <tr>\n",
       "      <th>0</th>\n",
       "      <td>서울 강남구 삼성동</td>\n",
       "      <td>강남구보건소 서울 강남구 삼성동(삼성2동) 8 강남구보건소 02-3423-5555</td>\n",
       "    </tr>\n",
       "    <tr>\n",
       "      <th>1</th>\n",
       "      <td>서울 강남구 일원동</td>\n",
       "      <td>삼성서울병원 서울 강남구 일원로81 삼성서울병원 02-1599-3114</td>\n",
       "    </tr>\n",
       "    <tr>\n",
       "      <th>2</th>\n",
       "      <td>서울 강남구 도곡동</td>\n",
       "      <td>강남세브란스병원 서울 강남구 언주로211 강남세브란스병원 02-1599-6114</td>\n",
       "    </tr>\n",
       "    <tr>\n",
       "      <th>3</th>\n",
       "      <td>서울 강남구 도곡동</td>\n",
       "      <td>강남베드로병원 남부순환로2637 02-1544-7522</td>\n",
       "    </tr>\n",
       "    <tr>\n",
       "      <th>4</th>\n",
       "      <td>서울 강동구 성내동</td>\n",
       "      <td>강동구보건소 서울 강동구 성내로45 02-3425-6713</td>\n",
       "    </tr>\n",
       "  </tbody>\n",
       "</table>\n",
       "</div>"
      ],
      "text/plain": [
       "            Q                                              A\n",
       "0  서울 강남구 삼성동  강남구보건소 서울 강남구 삼성동(삼성2동) 8 강남구보건소 02-3423-5555\n",
       "1  서울 강남구 일원동        삼성서울병원 서울 강남구 일원로81 삼성서울병원 02-1599-3114\n",
       "2  서울 강남구 도곡동   강남세브란스병원 서울 강남구 언주로211 강남세브란스병원 02-1599-6114\n",
       "3  서울 강남구 도곡동                 강남베드로병원 남부순환로2637 02-1544-7522\n",
       "4  서울 강동구 성내동               강동구보건소 서울 강동구 성내로45 02-3425-6713"
      ]
     },
     "execution_count": 25,
     "metadata": {},
     "output_type": "execute_result"
    }
   ],
   "source": [
    "df = pd.read_csv('./test1.csv')\n",
    "df.head()"
   ]
  },
  {
   "cell_type": "code",
   "execution_count": 26,
   "metadata": {},
   "outputs": [],
   "source": [
    "df = pd.read_csv('test1.csv')\n",
    "\n",
    "import csv\n",
    "with open('embeding1.csv','w') as file :\n",
    "    mapdata = []\n",
    "    write = csv.writer(file)\n",
    "    for temp in df['Q']:\n",
    "        t = model.encode(temp)\n",
    "        mapdata.append( t )\n",
    "        \n",
    "    write.writerows(mapdata)"
   ]
  },
  {
   "cell_type": "code",
   "execution_count": 39,
   "metadata": {},
   "outputs": [],
   "source": [
    "df1 = pd.read_csv('embeding1.csv',header=None)\n",
    "df = pd.read_csv('test1.csv')\n",
    "\n",
    "def chatbot_text(text):\n",
    "    em_result = model.encode(text)\n",
    "    co_result = []\n",
    "    for temp in range(len(df1)):\n",
    "        data = df1.iloc[temp]\n",
    "        co_result.append( cosine_similarity([em_result],[data])[0][0] )\n",
    "    df['cos'] = co_result\n",
    "    df_result = df.sort_values('cos',ascending=False)\n",
    "    return df_result.iloc[0:5]"
   ]
  },
  {
   "cell_type": "code",
   "execution_count": 40,
   "metadata": {},
   "outputs": [
    {
     "data": {
      "text/html": [
       "<div>\n",
       "<style scoped>\n",
       "    .dataframe tbody tr th:only-of-type {\n",
       "        vertical-align: middle;\n",
       "    }\n",
       "\n",
       "    .dataframe tbody tr th {\n",
       "        vertical-align: top;\n",
       "    }\n",
       "\n",
       "    .dataframe thead th {\n",
       "        text-align: right;\n",
       "    }\n",
       "</style>\n",
       "<table border=\"1\" class=\"dataframe\">\n",
       "  <thead>\n",
       "    <tr style=\"text-align: right;\">\n",
       "      <th></th>\n",
       "      <th>Q</th>\n",
       "      <th>A</th>\n",
       "      <th>cos</th>\n",
       "    </tr>\n",
       "  </thead>\n",
       "  <tbody>\n",
       "    <tr>\n",
       "      <th>0</th>\n",
       "      <td>서울 강남구 삼성동</td>\n",
       "      <td>강남구보건소 서울 강남구 삼성동(삼성2동) 8 강남구보건소 02-3423-5555</td>\n",
       "      <td>1.000000</td>\n",
       "    </tr>\n",
       "    <tr>\n",
       "      <th>1</th>\n",
       "      <td>서울 강남구 일원동</td>\n",
       "      <td>삼성서울병원 서울 강남구 일원로81 삼성서울병원 02-1599-3114</td>\n",
       "      <td>0.994959</td>\n",
       "    </tr>\n",
       "    <tr>\n",
       "      <th>2</th>\n",
       "      <td>서울 강남구 도곡동</td>\n",
       "      <td>강남세브란스병원 서울 강남구 언주로211 강남세브란스병원 02-1599-6114</td>\n",
       "      <td>0.993015</td>\n",
       "    </tr>\n",
       "    <tr>\n",
       "      <th>3</th>\n",
       "      <td>서울 강남구 도곡동</td>\n",
       "      <td>강남베드로병원 남부순환로2637 02-1544-7522</td>\n",
       "      <td>0.993015</td>\n",
       "    </tr>\n",
       "    <tr>\n",
       "      <th>5</th>\n",
       "      <td>서울 강동구 둔촌동</td>\n",
       "      <td>중앙보훈병원 서울 강동구 진황도로 61길 53 02-2225-1114</td>\n",
       "      <td>0.991159</td>\n",
       "    </tr>\n",
       "  </tbody>\n",
       "</table>\n",
       "</div>"
      ],
      "text/plain": [
       "            Q                                              A       cos\n",
       "0  서울 강남구 삼성동  강남구보건소 서울 강남구 삼성동(삼성2동) 8 강남구보건소 02-3423-5555  1.000000\n",
       "1  서울 강남구 일원동        삼성서울병원 서울 강남구 일원로81 삼성서울병원 02-1599-3114  0.994959\n",
       "2  서울 강남구 도곡동   강남세브란스병원 서울 강남구 언주로211 강남세브란스병원 02-1599-6114  0.993015\n",
       "3  서울 강남구 도곡동                 강남베드로병원 남부순환로2637 02-1544-7522  0.993015\n",
       "5  서울 강동구 둔촌동         중앙보훈병원 서울 강동구 진황도로 61길 53 02-2225-1114  0.991159"
      ]
     },
     "execution_count": 40,
     "metadata": {},
     "output_type": "execute_result"
    }
   ],
   "source": [
    "chatbot_text(\"서울 강남구 삼성동\")"
   ]
  },
  {
   "cell_type": "code",
   "execution_count": 28,
   "metadata": {},
   "outputs": [
    {
     "data": {
      "text/html": [
       "<div>\n",
       "<style scoped>\n",
       "    .dataframe tbody tr th:only-of-type {\n",
       "        vertical-align: middle;\n",
       "    }\n",
       "\n",
       "    .dataframe tbody tr th {\n",
       "        vertical-align: top;\n",
       "    }\n",
       "\n",
       "    .dataframe thead th {\n",
       "        text-align: right;\n",
       "    }\n",
       "</style>\n",
       "<table border=\"1\" class=\"dataframe\">\n",
       "  <thead>\n",
       "    <tr style=\"text-align: right;\">\n",
       "      <th></th>\n",
       "      <th>Q</th>\n",
       "      <th>A</th>\n",
       "      <th>cos</th>\n",
       "    </tr>\n",
       "  </thead>\n",
       "  <tbody>\n",
       "    <tr>\n",
       "      <th>0</th>\n",
       "      <td>서울 강남구 삼성동</td>\n",
       "      <td>강남구보건소 서울 강남구 삼성동(삼성2동) 8 강남구보건소 02-3423-5555</td>\n",
       "      <td>0.994289</td>\n",
       "    </tr>\n",
       "    <tr>\n",
       "      <th>1</th>\n",
       "      <td>서울 강남구 일원동</td>\n",
       "      <td>삼성서울병원 서울 강남구 일원로81 삼성서울병원 02-1599-3114</td>\n",
       "      <td>0.988198</td>\n",
       "    </tr>\n",
       "    <tr>\n",
       "      <th>2</th>\n",
       "      <td>서울 강남구 도곡동</td>\n",
       "      <td>강남세브란스병원 서울 강남구 언주로211 강남세브란스병원 02-1599-6114</td>\n",
       "      <td>0.986865</td>\n",
       "    </tr>\n",
       "    <tr>\n",
       "      <th>3</th>\n",
       "      <td>서울 강남구 도곡동</td>\n",
       "      <td>강남베드로병원 남부순환로2637 02-1544-7522</td>\n",
       "      <td>0.986865</td>\n",
       "    </tr>\n",
       "    <tr>\n",
       "      <th>4</th>\n",
       "      <td>서울 강동구 성내동</td>\n",
       "      <td>강동구보건소 서울 강동구 성내로45 02-3425-6713</td>\n",
       "      <td>0.966298</td>\n",
       "    </tr>\n",
       "  </tbody>\n",
       "</table>\n",
       "</div>"
      ],
      "text/plain": [
       "            Q                                              A       cos\n",
       "0  서울 강남구 삼성동  강남구보건소 서울 강남구 삼성동(삼성2동) 8 강남구보건소 02-3423-5555  0.994289\n",
       "1  서울 강남구 일원동        삼성서울병원 서울 강남구 일원로81 삼성서울병원 02-1599-3114  0.988198\n",
       "2  서울 강남구 도곡동   강남세브란스병원 서울 강남구 언주로211 강남세브란스병원 02-1599-6114  0.986865\n",
       "3  서울 강남구 도곡동                 강남베드로병원 남부순환로2637 02-1544-7522  0.986865\n",
       "4  서울 강동구 성내동               강동구보건소 서울 강동구 성내로45 02-3425-6713  0.966298"
      ]
     },
     "execution_count": 28,
     "metadata": {},
     "output_type": "execute_result"
    }
   ],
   "source": [
    "df.head()"
   ]
  },
  {
   "cell_type": "code",
   "execution_count": 37,
   "metadata": {},
   "outputs": [
    {
     "data": {
      "text/plain": [
       "Q                                         서울 강남구 삼성동\n",
       "A      강남구보건소 서울 강남구 삼성동(삼성2동) 8 강남구보건소 02-3423-5555\n",
       "cos                                         0.987866\n",
       "Name: 0, dtype: object"
      ]
     },
     "execution_count": 37,
     "metadata": {},
     "output_type": "execute_result"
    }
   ],
   "source": [
    "chatbot_text(\"서울 강남구 삼성\")"
   ]
  },
  {
   "cell_type": "code",
   "execution_count": 38,
   "metadata": {},
   "outputs": [
    {
     "data": {
      "text/plain": [
       "Q                                    서울 광진구 화양동\n",
       "A      건국대학교병원 서울특별시 광진구 능동로 120-1 02-1588-1533\n",
       "cos                                    0.978327\n",
       "Name: 13, dtype: object"
      ]
     },
     "execution_count": 38,
     "metadata": {},
     "output_type": "execute_result"
    }
   ],
   "source": [
    "chatbot_text(\"서울 강남 삼성\")"
   ]
  },
  {
   "attachments": {},
   "cell_type": "markdown",
   "metadata": {},
   "source": [
    "## ================================="
   ]
  },
  {
   "cell_type": "code",
   "execution_count": 41,
   "metadata": {},
   "outputs": [
    {
     "data": {
      "text/html": [
       "<div>\n",
       "<style scoped>\n",
       "    .dataframe tbody tr th:only-of-type {\n",
       "        vertical-align: middle;\n",
       "    }\n",
       "\n",
       "    .dataframe tbody tr th {\n",
       "        vertical-align: top;\n",
       "    }\n",
       "\n",
       "    .dataframe thead th {\n",
       "        text-align: right;\n",
       "    }\n",
       "</style>\n",
       "<table border=\"1\" class=\"dataframe\">\n",
       "  <thead>\n",
       "    <tr style=\"text-align: right;\">\n",
       "      <th></th>\n",
       "      <th>Unnamed: 0</th>\n",
       "      <th>Unnamed: 1</th>\n",
       "      <th>질문</th>\n",
       "      <th>답변</th>\n",
       "    </tr>\n",
       "  </thead>\n",
       "  <tbody>\n",
       "    <tr>\n",
       "      <th>0</th>\n",
       "      <td>진료센터</td>\n",
       "      <td>0</td>\n",
       "      <td>서울 강남구 삼성동</td>\n",
       "      <td>병원명은 (의)미래의료재단리드림의원 주소는 서울특별시 강남구 테헤란로 513, (삼...</td>\n",
       "    </tr>\n",
       "    <tr>\n",
       "      <th>1</th>\n",
       "      <td>진료센터</td>\n",
       "      <td>1</td>\n",
       "      <td>서울 강남구 대치동</td>\n",
       "      <td>병원명은 365열린가정의학과의원 주소는 서울특별시 강남구 도곡로 405, 삼환 아르...</td>\n",
       "    </tr>\n",
       "    <tr>\n",
       "      <th>2</th>\n",
       "      <td>진료센터</td>\n",
       "      <td>2</td>\n",
       "      <td>서울 강남구 논현동</td>\n",
       "      <td>병원명은 365코이이비인후과의원 주소는 서울특별시 강남구 강남대로118길 12, 부...</td>\n",
       "    </tr>\n",
       "    <tr>\n",
       "      <th>3</th>\n",
       "      <td>진료센터</td>\n",
       "      <td>3</td>\n",
       "      <td>서울 강남구 삼성동</td>\n",
       "      <td>병원명은 가온경희한의원 주소는 서울특별시 강남구 선릉로 654, 예인빌딩 401호 ...</td>\n",
       "    </tr>\n",
       "    <tr>\n",
       "      <th>4</th>\n",
       "      <td>진료센터</td>\n",
       "      <td>4</td>\n",
       "      <td>서울 강남구 삼성동</td>\n",
       "      <td>병원명은 강남365가정의학과의원 주소는 서울특별시 강남구 학동로 346, 강남구청역...</td>\n",
       "    </tr>\n",
       "  </tbody>\n",
       "</table>\n",
       "</div>"
      ],
      "text/plain": [
       "  Unnamed: 0  Unnamed: 1          질문  \\\n",
       "0       진료센터           0  서울 강남구 삼성동   \n",
       "1       진료센터           1  서울 강남구 대치동   \n",
       "2       진료센터           2  서울 강남구 논현동   \n",
       "3       진료센터           3  서울 강남구 삼성동   \n",
       "4       진료센터           4  서울 강남구 삼성동   \n",
       "\n",
       "                                                  답변  \n",
       "0  병원명은 (의)미래의료재단리드림의원 주소는 서울특별시 강남구 테헤란로 513, (삼...  \n",
       "1  병원명은 365열린가정의학과의원 주소는 서울특별시 강남구 도곡로 405, 삼환 아르...  \n",
       "2  병원명은 365코이이비인후과의원 주소는 서울특별시 강남구 강남대로118길 12, 부...  \n",
       "3  병원명은 가온경희한의원 주소는 서울특별시 강남구 선릉로 654, 예인빌딩 401호 ...  \n",
       "4  병원명은 강남365가정의학과의원 주소는 서울특별시 강남구 학동로 346, 강남구청역...  "
      ]
     },
     "execution_count": 41,
     "metadata": {},
     "output_type": "execute_result"
    }
   ],
   "source": [
    "df = pd.read_csv('./호흡기환자진료센터_질문답변.csv')\n",
    "df.head()"
   ]
  },
  {
   "cell_type": "code",
   "execution_count": 42,
   "metadata": {},
   "outputs": [],
   "source": [
    "df = df.drop(columns=['Unnamed: 0', 'Unnamed: 1'])"
   ]
  },
  {
   "cell_type": "code",
   "execution_count": 43,
   "metadata": {},
   "outputs": [
    {
     "data": {
      "text/html": [
       "<div>\n",
       "<style scoped>\n",
       "    .dataframe tbody tr th:only-of-type {\n",
       "        vertical-align: middle;\n",
       "    }\n",
       "\n",
       "    .dataframe tbody tr th {\n",
       "        vertical-align: top;\n",
       "    }\n",
       "\n",
       "    .dataframe thead th {\n",
       "        text-align: right;\n",
       "    }\n",
       "</style>\n",
       "<table border=\"1\" class=\"dataframe\">\n",
       "  <thead>\n",
       "    <tr style=\"text-align: right;\">\n",
       "      <th></th>\n",
       "      <th>질문</th>\n",
       "      <th>답변</th>\n",
       "    </tr>\n",
       "  </thead>\n",
       "  <tbody>\n",
       "    <tr>\n",
       "      <th>0</th>\n",
       "      <td>서울 강남구 삼성동</td>\n",
       "      <td>병원명은 (의)미래의료재단리드림의원 주소는 서울특별시 강남구 테헤란로 513, (삼...</td>\n",
       "    </tr>\n",
       "    <tr>\n",
       "      <th>1</th>\n",
       "      <td>서울 강남구 대치동</td>\n",
       "      <td>병원명은 365열린가정의학과의원 주소는 서울특별시 강남구 도곡로 405, 삼환 아르...</td>\n",
       "    </tr>\n",
       "    <tr>\n",
       "      <th>2</th>\n",
       "      <td>서울 강남구 논현동</td>\n",
       "      <td>병원명은 365코이이비인후과의원 주소는 서울특별시 강남구 강남대로118길 12, 부...</td>\n",
       "    </tr>\n",
       "    <tr>\n",
       "      <th>3</th>\n",
       "      <td>서울 강남구 삼성동</td>\n",
       "      <td>병원명은 가온경희한의원 주소는 서울특별시 강남구 선릉로 654, 예인빌딩 401호 ...</td>\n",
       "    </tr>\n",
       "    <tr>\n",
       "      <th>4</th>\n",
       "      <td>서울 강남구 삼성동</td>\n",
       "      <td>병원명은 강남365가정의학과의원 주소는 서울특별시 강남구 학동로 346, 강남구청역...</td>\n",
       "    </tr>\n",
       "  </tbody>\n",
       "</table>\n",
       "</div>"
      ],
      "text/plain": [
       "           질문                                                 답변\n",
       "0  서울 강남구 삼성동  병원명은 (의)미래의료재단리드림의원 주소는 서울특별시 강남구 테헤란로 513, (삼...\n",
       "1  서울 강남구 대치동  병원명은 365열린가정의학과의원 주소는 서울특별시 강남구 도곡로 405, 삼환 아르...\n",
       "2  서울 강남구 논현동  병원명은 365코이이비인후과의원 주소는 서울특별시 강남구 강남대로118길 12, 부...\n",
       "3  서울 강남구 삼성동  병원명은 가온경희한의원 주소는 서울특별시 강남구 선릉로 654, 예인빌딩 401호 ...\n",
       "4  서울 강남구 삼성동  병원명은 강남365가정의학과의원 주소는 서울특별시 강남구 학동로 346, 강남구청역..."
      ]
     },
     "execution_count": 43,
     "metadata": {},
     "output_type": "execute_result"
    }
   ],
   "source": [
    "df.head()"
   ]
  },
  {
   "cell_type": "code",
   "execution_count": 44,
   "metadata": {},
   "outputs": [],
   "source": [
    "df.columns = ['Q','A']"
   ]
  },
  {
   "cell_type": "code",
   "execution_count": 45,
   "metadata": {},
   "outputs": [
    {
     "data": {
      "text/html": [
       "<div>\n",
       "<style scoped>\n",
       "    .dataframe tbody tr th:only-of-type {\n",
       "        vertical-align: middle;\n",
       "    }\n",
       "\n",
       "    .dataframe tbody tr th {\n",
       "        vertical-align: top;\n",
       "    }\n",
       "\n",
       "    .dataframe thead th {\n",
       "        text-align: right;\n",
       "    }\n",
       "</style>\n",
       "<table border=\"1\" class=\"dataframe\">\n",
       "  <thead>\n",
       "    <tr style=\"text-align: right;\">\n",
       "      <th></th>\n",
       "      <th>Q</th>\n",
       "      <th>A</th>\n",
       "    </tr>\n",
       "  </thead>\n",
       "  <tbody>\n",
       "    <tr>\n",
       "      <th>0</th>\n",
       "      <td>서울 강남구 삼성동</td>\n",
       "      <td>병원명은 (의)미래의료재단리드림의원 주소는 서울특별시 강남구 테헤란로 513, (삼...</td>\n",
       "    </tr>\n",
       "    <tr>\n",
       "      <th>1</th>\n",
       "      <td>서울 강남구 대치동</td>\n",
       "      <td>병원명은 365열린가정의학과의원 주소는 서울특별시 강남구 도곡로 405, 삼환 아르...</td>\n",
       "    </tr>\n",
       "    <tr>\n",
       "      <th>2</th>\n",
       "      <td>서울 강남구 논현동</td>\n",
       "      <td>병원명은 365코이이비인후과의원 주소는 서울특별시 강남구 강남대로118길 12, 부...</td>\n",
       "    </tr>\n",
       "    <tr>\n",
       "      <th>3</th>\n",
       "      <td>서울 강남구 삼성동</td>\n",
       "      <td>병원명은 가온경희한의원 주소는 서울특별시 강남구 선릉로 654, 예인빌딩 401호 ...</td>\n",
       "    </tr>\n",
       "    <tr>\n",
       "      <th>4</th>\n",
       "      <td>서울 강남구 삼성동</td>\n",
       "      <td>병원명은 강남365가정의학과의원 주소는 서울특별시 강남구 학동로 346, 강남구청역...</td>\n",
       "    </tr>\n",
       "  </tbody>\n",
       "</table>\n",
       "</div>"
      ],
      "text/plain": [
       "            Q                                                  A\n",
       "0  서울 강남구 삼성동  병원명은 (의)미래의료재단리드림의원 주소는 서울특별시 강남구 테헤란로 513, (삼...\n",
       "1  서울 강남구 대치동  병원명은 365열린가정의학과의원 주소는 서울특별시 강남구 도곡로 405, 삼환 아르...\n",
       "2  서울 강남구 논현동  병원명은 365코이이비인후과의원 주소는 서울특별시 강남구 강남대로118길 12, 부...\n",
       "3  서울 강남구 삼성동  병원명은 가온경희한의원 주소는 서울특별시 강남구 선릉로 654, 예인빌딩 401호 ...\n",
       "4  서울 강남구 삼성동  병원명은 강남365가정의학과의원 주소는 서울특별시 강남구 학동로 346, 강남구청역..."
      ]
     },
     "execution_count": 45,
     "metadata": {},
     "output_type": "execute_result"
    }
   ],
   "source": [
    "df.head()"
   ]
  },
  {
   "cell_type": "code",
   "execution_count": 46,
   "metadata": {},
   "outputs": [],
   "source": [
    "df.to_csv('호흡기환자진료센터_질문답변1.csv')"
   ]
  },
  {
   "cell_type": "code",
   "execution_count": 47,
   "metadata": {},
   "outputs": [],
   "source": [
    "df = pd.read_csv('./호흡기환자진료센터_질문답변1.csv')\n",
    "\n",
    "import csv\n",
    "with open('embeding_호흡기.csv','w') as file :\n",
    "    mapdata = []\n",
    "    write = csv.writer(file)\n",
    "    for temp in df['Q']:\n",
    "        t = model.encode(temp)\n",
    "        mapdata.append( t )\n",
    "        \n",
    "    write.writerows(mapdata)"
   ]
  },
  {
   "cell_type": "code",
   "execution_count": 48,
   "metadata": {},
   "outputs": [],
   "source": [
    "df1 = pd.read_csv('embeding_호흡기.csv',header=None)\n",
    "df = pd.read_csv('호흡기환자진료센터_질문답변1.csv')\n",
    "\n",
    "def chatbot_text(text):\n",
    "    em_result = model.encode(text)\n",
    "    co_result = []\n",
    "    for temp in range(len(df1)):\n",
    "        data = df1.iloc[temp]\n",
    "        co_result.append( cosine_similarity([em_result],[data])[0][0] )\n",
    "    df['cos'] = co_result\n",
    "    df_result = df.sort_values('cos',ascending=False)\n",
    "    return df_result.iloc[0:5]"
   ]
  },
  {
   "cell_type": "code",
   "execution_count": 49,
   "metadata": {},
   "outputs": [
    {
     "data": {
      "text/html": [
       "<div>\n",
       "<style scoped>\n",
       "    .dataframe tbody tr th:only-of-type {\n",
       "        vertical-align: middle;\n",
       "    }\n",
       "\n",
       "    .dataframe tbody tr th {\n",
       "        vertical-align: top;\n",
       "    }\n",
       "\n",
       "    .dataframe thead th {\n",
       "        text-align: right;\n",
       "    }\n",
       "</style>\n",
       "<table border=\"1\" class=\"dataframe\">\n",
       "  <thead>\n",
       "    <tr style=\"text-align: right;\">\n",
       "      <th></th>\n",
       "      <th>Unnamed: 0</th>\n",
       "      <th>Q</th>\n",
       "      <th>A</th>\n",
       "      <th>cos</th>\n",
       "    </tr>\n",
       "  </thead>\n",
       "  <tbody>\n",
       "    <tr>\n",
       "      <th>0</th>\n",
       "      <td>0</td>\n",
       "      <td>서울 강남구 삼성동</td>\n",
       "      <td>병원명은 (의)미래의료재단리드림의원 주소는 서울특별시 강남구 테헤란로 513, (삼...</td>\n",
       "      <td>1.0</td>\n",
       "    </tr>\n",
       "    <tr>\n",
       "      <th>220</th>\n",
       "      <td>220</td>\n",
       "      <td>서울 강남구 삼성동</td>\n",
       "      <td>병원명은 코모키이비인후과의원 주소는 서울특별시 강남구 테헤란로87길 13, 서영빌딩...</td>\n",
       "      <td>1.0</td>\n",
       "    </tr>\n",
       "    <tr>\n",
       "      <th>49</th>\n",
       "      <td>49</td>\n",
       "      <td>서울 강남구 삼성동</td>\n",
       "      <td>병원명은 나가정의학과의원 주소는 서울특별시 강남구 삼성로 651, 501호 (삼성동...</td>\n",
       "      <td>1.0</td>\n",
       "    </tr>\n",
       "    <tr>\n",
       "      <th>53</th>\n",
       "      <td>53</td>\n",
       "      <td>서울 강남구 삼성동</td>\n",
       "      <td>병원명은 다소니의원 주소는 서울특별시 강남구 봉은사로73길 5, 3층 (삼성동) 전...</td>\n",
       "      <td>1.0</td>\n",
       "    </tr>\n",
       "    <tr>\n",
       "      <th>214</th>\n",
       "      <td>214</td>\n",
       "      <td>서울 강남구 삼성동</td>\n",
       "      <td>병원명은 청담이든소아청소년과의원 주소는 서울특별시 강남구 삼성로 620, 블래스톤리...</td>\n",
       "      <td>1.0</td>\n",
       "    </tr>\n",
       "  </tbody>\n",
       "</table>\n",
       "</div>"
      ],
      "text/plain": [
       "     Unnamed: 0           Q  \\\n",
       "0             0  서울 강남구 삼성동   \n",
       "220         220  서울 강남구 삼성동   \n",
       "49           49  서울 강남구 삼성동   \n",
       "53           53  서울 강남구 삼성동   \n",
       "214         214  서울 강남구 삼성동   \n",
       "\n",
       "                                                     A  cos  \n",
       "0    병원명은 (의)미래의료재단리드림의원 주소는 서울특별시 강남구 테헤란로 513, (삼...  1.0  \n",
       "220  병원명은 코모키이비인후과의원 주소는 서울특별시 강남구 테헤란로87길 13, 서영빌딩...  1.0  \n",
       "49   병원명은 나가정의학과의원 주소는 서울특별시 강남구 삼성로 651, 501호 (삼성동...  1.0  \n",
       "53   병원명은 다소니의원 주소는 서울특별시 강남구 봉은사로73길 5, 3층 (삼성동) 전...  1.0  \n",
       "214  병원명은 청담이든소아청소년과의원 주소는 서울특별시 강남구 삼성로 620, 블래스톤리...  1.0  "
      ]
     },
     "execution_count": 49,
     "metadata": {},
     "output_type": "execute_result"
    }
   ],
   "source": [
    "chatbot_text(\"서울 강남구 삼성동\")"
   ]
  },
  {
   "cell_type": "code",
   "execution_count": 50,
   "metadata": {},
   "outputs": [
    {
     "data": {
      "text/html": [
       "<div>\n",
       "<style scoped>\n",
       "    .dataframe tbody tr th:only-of-type {\n",
       "        vertical-align: middle;\n",
       "    }\n",
       "\n",
       "    .dataframe tbody tr th {\n",
       "        vertical-align: top;\n",
       "    }\n",
       "\n",
       "    .dataframe thead th {\n",
       "        text-align: right;\n",
       "    }\n",
       "</style>\n",
       "<table border=\"1\" class=\"dataframe\">\n",
       "  <thead>\n",
       "    <tr style=\"text-align: right;\">\n",
       "      <th></th>\n",
       "      <th>Unnamed: 0</th>\n",
       "      <th>Q</th>\n",
       "      <th>A</th>\n",
       "      <th>cos</th>\n",
       "    </tr>\n",
       "  </thead>\n",
       "  <tbody>\n",
       "    <tr>\n",
       "      <th>168</th>\n",
       "      <td>168</td>\n",
       "      <td>서울 강남구 대치동</td>\n",
       "      <td>병원명은 연세키즈소아청소년과의원 주소는 서울특별시 강남구 남부순환로 2927, 대치...</td>\n",
       "      <td>1.0</td>\n",
       "    </tr>\n",
       "    <tr>\n",
       "      <th>25</th>\n",
       "      <td>25</td>\n",
       "      <td>서울 강남구 대치동</td>\n",
       "      <td>병원명은 강창순내과의원 주소는 서울특별시 강남구 남부순환로 2941, 201호 (대...</td>\n",
       "      <td>1.0</td>\n",
       "    </tr>\n",
       "    <tr>\n",
       "      <th>27</th>\n",
       "      <td>27</td>\n",
       "      <td>서울 강남구 대치동</td>\n",
       "      <td>병원명은 고시환의원 주소는 서울특별시 강남구 남부순환로 2936, 304호 (대치동...</td>\n",
       "      <td>1.0</td>\n",
       "    </tr>\n",
       "    <tr>\n",
       "      <th>174</th>\n",
       "      <td>174</td>\n",
       "      <td>서울 강남구 대치동</td>\n",
       "      <td>병원명은 우리들내과의원 주소는 서울특별시 강남구 도곡로63길 12, 204,205호...</td>\n",
       "      <td>1.0</td>\n",
       "    </tr>\n",
       "    <tr>\n",
       "      <th>31</th>\n",
       "      <td>31</td>\n",
       "      <td>서울 강남구 대치동</td>\n",
       "      <td>병원명은 굿닥터이비인후과의원 주소는 서울특별시 강남구 도곡로 449, 2층 202호...</td>\n",
       "      <td>1.0</td>\n",
       "    </tr>\n",
       "  </tbody>\n",
       "</table>\n",
       "</div>"
      ],
      "text/plain": [
       "     Unnamed: 0           Q  \\\n",
       "168         168  서울 강남구 대치동   \n",
       "25           25  서울 강남구 대치동   \n",
       "27           27  서울 강남구 대치동   \n",
       "174         174  서울 강남구 대치동   \n",
       "31           31  서울 강남구 대치동   \n",
       "\n",
       "                                                     A  cos  \n",
       "168  병원명은 연세키즈소아청소년과의원 주소는 서울특별시 강남구 남부순환로 2927, 대치...  1.0  \n",
       "25   병원명은 강창순내과의원 주소는 서울특별시 강남구 남부순환로 2941, 201호 (대...  1.0  \n",
       "27   병원명은 고시환의원 주소는 서울특별시 강남구 남부순환로 2936, 304호 (대치동...  1.0  \n",
       "174  병원명은 우리들내과의원 주소는 서울특별시 강남구 도곡로63길 12, 204,205호...  1.0  \n",
       "31   병원명은 굿닥터이비인후과의원 주소는 서울특별시 강남구 도곡로 449, 2층 202호...  1.0  "
      ]
     },
     "execution_count": 50,
     "metadata": {},
     "output_type": "execute_result"
    }
   ],
   "source": [
    "chatbot_text(\"서울 강남구 대치동\")"
   ]
  },
  {
   "cell_type": "code",
   "execution_count": 51,
   "metadata": {},
   "outputs": [
    {
     "data": {
      "text/html": [
       "<div>\n",
       "<style scoped>\n",
       "    .dataframe tbody tr th:only-of-type {\n",
       "        vertical-align: middle;\n",
       "    }\n",
       "\n",
       "    .dataframe tbody tr th {\n",
       "        vertical-align: top;\n",
       "    }\n",
       "\n",
       "    .dataframe thead th {\n",
       "        text-align: right;\n",
       "    }\n",
       "</style>\n",
       "<table border=\"1\" class=\"dataframe\">\n",
       "  <thead>\n",
       "    <tr style=\"text-align: right;\">\n",
       "      <th></th>\n",
       "      <th>Unnamed: 0</th>\n",
       "      <th>Q</th>\n",
       "      <th>A</th>\n",
       "      <th>cos</th>\n",
       "    </tr>\n",
       "  </thead>\n",
       "  <tbody>\n",
       "    <tr>\n",
       "      <th>137</th>\n",
       "      <td>137</td>\n",
       "      <td>서울 강남구 대치동</td>\n",
       "      <td>병원명은 안효승내과의원 주소는 서울특별시 강남구 선릉로 406, 4층 (대치동) 전...</td>\n",
       "      <td>0.998147</td>\n",
       "    </tr>\n",
       "    <tr>\n",
       "      <th>59</th>\n",
       "      <td>59</td>\n",
       "      <td>서울 강남구 대치동</td>\n",
       "      <td>병원명은 대치서울영재소아청소년과의원 주소는 서울특별시 강남구 도곡로 515, 2층 ...</td>\n",
       "      <td>0.998147</td>\n",
       "    </tr>\n",
       "    <tr>\n",
       "      <th>27</th>\n",
       "      <td>27</td>\n",
       "      <td>서울 강남구 대치동</td>\n",
       "      <td>병원명은 고시환의원 주소는 서울특별시 강남구 남부순환로 2936, 304호 (대치동...</td>\n",
       "      <td>0.998147</td>\n",
       "    </tr>\n",
       "    <tr>\n",
       "      <th>31</th>\n",
       "      <td>31</td>\n",
       "      <td>서울 강남구 대치동</td>\n",
       "      <td>병원명은 굿닥터이비인후과의원 주소는 서울특별시 강남구 도곡로 449, 2층 202호...</td>\n",
       "      <td>0.998147</td>\n",
       "    </tr>\n",
       "    <tr>\n",
       "      <th>158</th>\n",
       "      <td>158</td>\n",
       "      <td>서울 강남구 대치동</td>\n",
       "      <td>병원명은 연세신앤송이비인후과의원 주소는 서울특별시 강남구 테헤란로78길 8, 7층 ...</td>\n",
       "      <td>0.998147</td>\n",
       "    </tr>\n",
       "  </tbody>\n",
       "</table>\n",
       "</div>"
      ],
      "text/plain": [
       "     Unnamed: 0           Q  \\\n",
       "137         137  서울 강남구 대치동   \n",
       "59           59  서울 강남구 대치동   \n",
       "27           27  서울 강남구 대치동   \n",
       "31           31  서울 강남구 대치동   \n",
       "158         158  서울 강남구 대치동   \n",
       "\n",
       "                                                     A       cos  \n",
       "137  병원명은 안효승내과의원 주소는 서울특별시 강남구 선릉로 406, 4층 (대치동) 전...  0.998147  \n",
       "59   병원명은 대치서울영재소아청소년과의원 주소는 서울특별시 강남구 도곡로 515, 2층 ...  0.998147  \n",
       "27   병원명은 고시환의원 주소는 서울특별시 강남구 남부순환로 2936, 304호 (대치동...  0.998147  \n",
       "31   병원명은 굿닥터이비인후과의원 주소는 서울특별시 강남구 도곡로 449, 2층 202호...  0.998147  \n",
       "158  병원명은 연세신앤송이비인후과의원 주소는 서울특별시 강남구 테헤란로78길 8, 7층 ...  0.998147  "
      ]
     },
     "execution_count": 51,
     "metadata": {},
     "output_type": "execute_result"
    }
   ],
   "source": [
    "chatbot_text(\"서울 강남구 다치동\")"
   ]
  },
  {
   "cell_type": "code",
   "execution_count": 59,
   "metadata": {},
   "outputs": [
    {
     "data": {
      "text/html": [
       "<div>\n",
       "<style scoped>\n",
       "    .dataframe tbody tr th:only-of-type {\n",
       "        vertical-align: middle;\n",
       "    }\n",
       "\n",
       "    .dataframe tbody tr th {\n",
       "        vertical-align: top;\n",
       "    }\n",
       "\n",
       "    .dataframe thead th {\n",
       "        text-align: right;\n",
       "    }\n",
       "</style>\n",
       "<table border=\"1\" class=\"dataframe\">\n",
       "  <thead>\n",
       "    <tr style=\"text-align: right;\">\n",
       "      <th></th>\n",
       "      <th>Unnamed: 0</th>\n",
       "      <th>Q</th>\n",
       "      <th>A</th>\n",
       "      <th>cos</th>\n",
       "    </tr>\n",
       "  </thead>\n",
       "  <tbody>\n",
       "    <tr>\n",
       "      <th>2445</th>\n",
       "      <td>2445</td>\n",
       "      <td>서울 영등포구 당산동</td>\n",
       "      <td>병원명은 삼성의원 주소는 서울특별시 영등포구 당산로36길 12, 201동 204호 ...</td>\n",
       "      <td>0.992939</td>\n",
       "    </tr>\n",
       "    <tr>\n",
       "      <th>2516</th>\n",
       "      <td>2516</td>\n",
       "      <td>서울 영등포구 당산동</td>\n",
       "      <td>병원명은 의료법인 인봉의료재단 영등포병원 주소는 서울특별시 영등포구 당산로31길 1...</td>\n",
       "      <td>0.992939</td>\n",
       "    </tr>\n",
       "    <tr>\n",
       "      <th>2415</th>\n",
       "      <td>2415</td>\n",
       "      <td>서울 영등포구 당산동</td>\n",
       "      <td>병원명은 로뎀나무내과의원 주소는 서울특별시 영등포구 영신로 259, 1층 (당산동5...</td>\n",
       "      <td>0.992939</td>\n",
       "    </tr>\n",
       "    <tr>\n",
       "      <th>2420</th>\n",
       "      <td>2420</td>\n",
       "      <td>서울 영등포구 당산동</td>\n",
       "      <td>병원명은 맑은숲한의원 주소는 서울특별시 영등포구 당산로 223, 5~6층 (당산동5...</td>\n",
       "      <td>0.992939</td>\n",
       "    </tr>\n",
       "    <tr>\n",
       "      <th>2439</th>\n",
       "      <td>2439</td>\n",
       "      <td>서울 영등포구 당산동</td>\n",
       "      <td>병원명은 베토벤이비인후과의원 주소는 서울특별시 영등포구 양평로 22, 3층 (당산동...</td>\n",
       "      <td>0.992939</td>\n",
       "    </tr>\n",
       "  </tbody>\n",
       "</table>\n",
       "</div>"
      ],
      "text/plain": [
       "      Unnamed: 0            Q  \\\n",
       "2445        2445  서울 영등포구 당산동   \n",
       "2516        2516  서울 영등포구 당산동   \n",
       "2415        2415  서울 영등포구 당산동   \n",
       "2420        2420  서울 영등포구 당산동   \n",
       "2439        2439  서울 영등포구 당산동   \n",
       "\n",
       "                                                      A       cos  \n",
       "2445  병원명은 삼성의원 주소는 서울특별시 영등포구 당산로36길 12, 201동 204호 ...  0.992939  \n",
       "2516  병원명은 의료법인 인봉의료재단 영등포병원 주소는 서울특별시 영등포구 당산로31길 1...  0.992939  \n",
       "2415  병원명은 로뎀나무내과의원 주소는 서울특별시 영등포구 영신로 259, 1층 (당산동5...  0.992939  \n",
       "2420  병원명은 맑은숲한의원 주소는 서울특별시 영등포구 당산로 223, 5~6층 (당산동5...  0.992939  \n",
       "2439  병원명은 베토벤이비인후과의원 주소는 서울특별시 영등포구 양평로 22, 3층 (당산동...  0.992939  "
      ]
     },
     "execution_count": 59,
     "metadata": {},
     "output_type": "execute_result"
    }
   ],
   "source": [
    "chatbot_text(\"서울 영등포구 당산제1동\")"
   ]
  },
  {
   "cell_type": "code",
   "execution_count": null,
   "metadata": {},
   "outputs": [],
   "source": []
  }
 ],
 "metadata": {
  "accelerator": "GPU",
  "colab": {
   "private_outputs": true,
   "provenance": []
  },
  "gpuClass": "standard",
  "kernelspec": {
   "display_name": "han",
   "language": "python",
   "name": "python3"
  },
  "language_info": {
   "codemirror_mode": {
    "name": "ipython",
    "version": 3
   },
   "file_extension": ".py",
   "mimetype": "text/x-python",
   "name": "python",
   "nbconvert_exporter": "python",
   "pygments_lexer": "ipython3",
   "version": "3.10.4 | packaged by conda-forge | (main, Mar 30 2022, 08:38:02) [MSC v.1916 64 bit (AMD64)]"
  },
  "vscode": {
   "interpreter": {
    "hash": "9ffd841040af6bedd50cabf1584399d13f777232c008d7c4ad470663779a547a"
   }
  }
 },
 "nbformat": 4,
 "nbformat_minor": 1
}
