{
 "cells": [
  {
   "cell_type": "markdown",
   "id": "005cb047",
   "metadata": {},
   "source": [
    "## 객체와 클래스\n",
    "#### [객체란]: 데이터와 코드를 묶어서 조직화 하는 방법\n",
    "        [자동차- 객체]\n",
    "        - 메이커, 모델, 색상, 연식, 가격 등-> 속성(Attribute), 변수\n",
    "        - 시동걸기, 가속하기, 주행하기, 주차하기 등 -> 동작 (Action)\n",
    "\n",
    "#### [클래스란?]\n",
    " - 클래스는 객체 지⁯향 프로그램(OOP, Object Oriented Programming)의 기본단위이면, 함수와 변수가 포함될 수 있다.\n",
    " - 객체를 정의해 놓은 것으로, 객체의 설계도 또는 틀에 해당\n",
    " -  클래스는 객체를 생성하는데 사용된다.\n",
    "\n",
    "#### [클래스와 객체의 관계]\n",
    " - 클래스가 제품을 찍어내는 틀이라면, 객체는 틀에서 만들어져 나오는 제품이다.\n",
    " - 클래스는 객체를 생성하는데 사용될 뿐이고, 객체 그 자체는 아니다.\n",
    " - 클래스를 한번만 잘 만들어 놓으면 객체는 클래스로부터 계속 생성될 수 있다.\n",
    "\n",
    "#### [객체와 인스턴스]\n",
    " - 클래스로부터 만들어진 객체를 인스턴스라고 함\n",
    " - 인스턴스와 객체는 같은 의미임\n",
    " - 객체는 모든 인스턴스를 대표하는 포괄적 의미가 있고\n",
    " - 인스턴스는 어떤 클래스로부터 만드어진 객체인지 강조하는 구체적인 의미가 있다.\n",
    " - 인스턴스 객체는 각각 독립적이며, 서로 영향을 주지 않는다.\n",
    "\n",
    "\n",
    "#### [클래스 변수와 인스턴스 변수]\n",
    " - [인스턴스 변수]\n",
    "  : 클래스에는 변수 공간이 할당되어 있지 않으며, 인스턴스를 생성해야 비로소 공간이 할당된다.\n",
    "     - 인스턴스 마다 별도로 존재하고 서로 다른 값을 갖는다.\n",
    "     - 클래스 변수 내부에서는 'self. 변수명'으로 액세스하고, 클래스 밖에서는 '객체변수.인스턴스변수'로 액세스한다.\n",
    " -[클래스 변수]\n",
    "     - 클래스 정의에서 메서드 밖에 존재하는 변수로, 클래스 안에 공간할당된다.\n",
    "     - 해당 클래스를 사용하는 모두에게 고용으로 사용되는 변수이다.\n",
    "     - 클래스 내부나 외부에서는 '클래스명.변수명'으로 엑세스할 수 있다. \n",
    "\n",
    "### 클래스 구조 \n",
    "\n",
    "        class 클래스명:\n",
    "            cnt=0  # 클래스 변수\n",
    "            def __init__(self, a, b):  #초기자 (생성자)\n",
    "                *self: 인스턴스변수\n",
    "                필요작업\n",
    "            def 함수명(self): 메서스\n",
    "                시행문\n",
    "                return 값\n",
    "\n",
    "- 참고자료: https://datascienceschool.net/01%20python/02.12%20%ED%8C%8C%EC%9D%B4%EC%8D%AC%20%EA%B0%9D%EC%B2%B4%EC%A7%80%ED%96%A5%20%ED%94%84%EB%A1%9C%EA%B7%B8%EB%9E%98%EB%B0%8D.html"
   ]
  },
  {
   "cell_type": "markdown",
   "id": "19749204",
   "metadata": {},
   "source": [
    "#사각형 넓이 구하기\n",
    "h=10\n",
    "v=20\n",
    "area=h*v\n",
    "print(area)"
   ]
  },
  {
   "cell_type": "code",
   "execution_count": 2,
   "id": "840c8cfd",
   "metadata": {},
   "outputs": [
    {
     "name": "stdout",
     "output_type": "stream",
     "text": [
      "20000\n"
     ]
    }
   ],
   "source": [
    "h1=100\n",
    "v1=200\n",
    "area1=h1*v1\n",
    "print(area1)"
   ]
  },
  {
   "cell_type": "code",
   "execution_count": 32,
   "id": "fbefa39f",
   "metadata": {},
   "outputs": [
    {
     "name": "stdout",
     "output_type": "stream",
     "text": [
      "10\n",
      "60\n"
     ]
    }
   ],
   "source": [
    "def area(h,v):\n",
    "    return h*v\n",
    "h2=2\n",
    "v2=5\n",
    "print(area(h2,v2))\n",
    "\n",
    "h3=6\n",
    "v3=10\n",
    "print(area(h3,v3))"
   ]
  },
  {
   "cell_type": "code",
   "execution_count": 45,
   "id": "ce7b4478",
   "metadata": {},
   "outputs": [
    {
     "name": "stdout",
     "output_type": "stream",
     "text": [
      "20\n",
      "500\n",
      "4\n",
      "5\n",
      "10\n",
      "50\n",
      "0\n",
      "0\n"
     ]
    }
   ],
   "source": [
    "#클래스:사각형 넓이 구하기\n",
    "class Rectangle:\n",
    "    def __init__(self, h, v):\n",
    "        self.h=h\n",
    "        self.v=v\n",
    "    def area(self):\n",
    "        return self.h*self.v\n",
    "a=Rectangle(4,5)\n",
    "b=Rectangle(10,50)\n",
    "print(a.area())\n",
    "print(b.area())\n",
    "print(a.h)\n",
    "print(a.v)\n",
    "print(b.h)\n",
    "print(b.v)\n",
    "b.h=0\n",
    "print(b.area())\n",
    "print(b.h)"
   ]
  },
  {
   "cell_type": "code",
   "execution_count": 94,
   "id": "bb3e293a",
   "metadata": {},
   "outputs": [],
   "source": [
    "## 클래스 연습\n",
    "class Myclass:\n",
    "    cnt=0    # 클래스 변수\n",
    "    \n",
    "    # 생성자(초기자)\n",
    "    def __init__(self, 가로, 세로):\n",
    "        self.width = 가로\n",
    "        self.height = 세로\n",
    "        Myclass.cnt += 1\n",
    "\n",
    "    # 인스턴스 메서스\n",
    "    def calarea(self):\n",
    "        area = self.width * self.height\n",
    "        return area\n",
    "    \n",
    "    def prncnt(self):\n",
    "        print(Myclass.cnt)\n"
   ]
  },
  {
   "cell_type": "code",
   "execution_count": null,
   "id": "b23ccbd0",
   "metadata": {},
   "outputs": [],
   "source": []
  },
  {
   "cell_type": "code",
   "execution_count": null,
   "id": "dcab8549",
   "metadata": {},
   "outputs": [],
   "source": []
  },
  {
   "cell_type": "code",
   "execution_count": null,
   "id": "db5a158c",
   "metadata": {},
   "outputs": [],
   "source": []
  }
 ],
 "metadata": {
  "kernelspec": {
   "display_name": "Python 3 (ipykernel)",
   "language": "python",
   "name": "python3"
  },
  "language_info": {
   "codemirror_mode": {
    "name": "ipython",
    "version": 3
   },
   "file_extension": ".py",
   "mimetype": "text/x-python",
   "name": "python",
   "nbconvert_exporter": "python",
   "pygments_lexer": "ipython3",
   "version": "3.10.4"
  }
 },
 "nbformat": 4,
 "nbformat_minor": 5
}
