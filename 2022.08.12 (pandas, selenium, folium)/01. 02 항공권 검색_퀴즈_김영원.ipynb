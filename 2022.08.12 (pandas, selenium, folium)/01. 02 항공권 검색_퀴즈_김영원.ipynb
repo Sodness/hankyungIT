{
 "cells": [
  {
   "cell_type": "code",
   "execution_count": 1,
   "id": "01131d81",
   "metadata": {},
   "outputs": [],
   "source": [
    "from selenium import webdriver\n",
    "from selenium.webdriver.common.keys import Keys\n",
    "from selenium.webdriver.common.by import By\n",
    "import requests\n",
    "from bs4 import BeautifulSoup as bs\n",
    "import time\n",
    "import pandas as pd\n",
    "import warnings\n",
    "warnings.filterwarnings('ignore')"
   ]
  },
  {
   "cell_type": "code",
   "execution_count": 2,
   "id": "c9f8f9b3",
   "metadata": {},
   "outputs": [],
   "source": [
    "url = 'https://flight.naver.com/'\n",
    "driver = webdriver.Chrome('./chromedriver.exe')\n",
    "driver.get(url)\n",
    "time.sleep(2)\n",
    "driver.maximize_window()\n",
    "\n",
    "# 편도 클릭\n",
    "driver.find_element(By.XPATH, '//*[@id=\"__next\"]/div/div[1]/div[4]/div/div/div[1]/button[2]/i').click()\n",
    "time.sleep(1)\n",
    "\n",
    "# 출발지 클릭\n",
    "driver.find_element(By.XPATH, '//*[@id=\"__next\"]/div/div[1]/div[4]/div/div/div[2]/div[1]/button[1]').click()\n",
    "time.sleep(1)\n",
    "\n",
    "# 서울 입력\n",
    "driver.find_element(By.XPATH, '//*[@id=\"__next\"]/div/div[1]/div[9]/div[1]/div/input').send_keys('서울')\n",
    "time.sleep(1)\n",
    "\n",
    "# 서울 선택\n",
    "driver.find_element(By.XPATH, '//*[@id=\"__next\"]/div/div[1]/div[9]/div[2]/section/div/a[1]').click()\n",
    "time.sleep(1)\n",
    "\n",
    "# 도착지 클릭\n",
    "driver.find_element(By.XPATH, '//*[@id=\"__next\"]/div/div[1]/div[4]/div/div/div[2]/div[1]/button[2]').click()\n",
    "time.sleep(1)\n",
    "\n",
    "# 제주 입력\n",
    "driver.find_element(By.XPATH, '//*[@id=\"__next\"]/div/div[1]/div[9]/div[1]/div/input').send_keys('제주')\n",
    "time.sleep(1)\n",
    "\n",
    "# 제주 선택\n",
    "driver.find_element(By.XPATH, '//*[@id=\"__next\"]/div/div[1]/div[9]/div[2]/section/div/a[1]').click()\n",
    "time.sleep(1)\n",
    "\n",
    "# 가는날 클릭 (내일로 8월 12일)\n",
    "driver.find_element(By.XPATH, '//*[@id=\"__next\"]/div/div[1]/div[4]/div/div/div[2]/div[2]/button').click()\n",
    "time.sleep(1)\n",
    "\n",
    "# 월 선택\n",
    "months = driver.find_elements(By.CLASS_NAME, 'month')\n",
    "# print(len(months))\n",
    "\n",
    "# 일 선택\n",
    "days = months[0].find_elements(By.CLASS_NAME, 'num')\n",
    "# print(len(days))\n",
    "# print(days[14].text)\n",
    "days[12].click()\n",
    "\n",
    "# 항공권 검색 클릭\n",
    "driver.find_element(By.XPATH, '//*[@id=\"__next\"]/div/div[1]/div[4]/div/div/button').click()\n",
    "time.sleep(10)\n",
    "\n",
    "for i in range(10):\n",
    "    driver.execute_script(\"window.scrollTo(0,document.body.scrollHeight);\") #자바스크립트 함수\n",
    "    time.sleep(2) #로딩중..\n",
    "\n",
    "html = driver.page_source\n",
    "driver.close()\n",
    "driver.quit()"
   ]
  },
  {
   "cell_type": "code",
   "execution_count": 32,
   "id": "70d99b88",
   "metadata": {
    "collapsed": true
   },
   "outputs": [
    {
     "data": {
      "text/plain": [
       "'<html><head><meta charset=\"utf-8\"><meta http-equiv=\"x-ua-compatible\" content=\"ie=edge\"><title>네이버 항공권</title><meta name=\"description\" content=\"설레는 여행의 시작. 네이버 항공권과 함께!\"><meta property=\"og:title\" content=\"네이버 항공권\"><meta property=\"og:description\" content=\"설레는 여행의 시작. 네이버 항공권과 함께!\"><meta property=\"og:type\" content=\"article\"><meta property=\"og:article:author\" content=\"네이버 항공권\"><meta property=\"og:site_name\" content=\"네이버 항공권\"><meta property=\"og:image\" content=\"https://m-flight.naver.com/images/og_image.png\"><meta property=\"og:url\" content=\"https://m-flight.naver.com\"><meta property=\"twitter:card\" content=\"summary_large_image\"><meta property=\"twitter:title\" content=\"네이버 항공권\"><meta property=\"twitter:description\" content=\"설레는 여행의 시작. 네이버 항공권과 함께!\"><meta property=\"twitter:site\" content=\"네이버 항공권\"><meta property=\"twitter:image\" content=\"https://m-flight.naver.com/images/og_image.png\"><meta property=\"og:article:author\" content=\"네이버 항공권\"><meta name=\"viewport\" content=\"width=device-width,initial-scale=1.0,maximum-scale=2.0,minimum-scale=1.0,user-scalable=yes\"><link rel=\"canonical\" href=\"https://m-flight.naver.com\"><link rel=\"icon\" type=\"image/x-icon\" href=\"/images/favicon/flight_mo.ico\"><link rel=\"shortcut icon\" type=\"image/x-icon\" href=\"/images/favicon/flight_mo.ico\"><link rel=\"icon\" type=\"image/png\" href=\"/images/favicon/android_72x72.png\" sizes=\"72x72\"><link rel=\"icon\" type=\"image/png\" href=\"/images/favicon/android_96x96.png\" sizes=\"96x96\"><link rel=\"icon\" type=\"image/png\" href=\"/images/favicon/android_144x144.png\" sizes=\"144x144\"><link rel=\"icon\" type=\"image/png\" href=\"/images/favicon/android_192x192.png\" sizes=\"192x192\"><link rel=\"apple-touch-icon-precomposed\" href=\"/images/favicon/ios_120x120.png\"><link rel=\"apple-touch-icon\" href=\"/images/favicon/ios_120x120.png\"><link rel=\"apple-touch-icon\" sizes=\"120x120\" href=\"/images/favicon/ios_120x120.png\"><link rel=\"apple-touch-icon\" sizes=\"152x152\" href=\"/images/favicon/ios_152x152.png\"><link rel=\"apple-touch-icon\" sizes=\"167x167\" href=\"/images/favicon/ios_167x167.png\"><link rel=\"apple-touch-icon\" sizes=\"180x180\" href=\"/images/favicon/ios_180x180.png\"><link rel=\"preload\" href=\"/_next/static/css/d2a7472722d68d9608f6.css\" as=\"style\"><link rel=\"stylesheet\" href=\"/_next/static/css/d2a7472722d68d9608f6.css\" data-n-g=\"\"><link rel=\"preload\" href=\"/_next/static/css/d4647898638559503d7e.css\" as=\"style\"><link rel=\"stylesheet\" href=\"/_next/static/css/d4647898638559503d7e.css\" data-n-p=\"\"><link rel=\"preload\" href=\"/_next/static/css/0fbe8f860bcce963013b.css\" as=\"style\"><link rel=\"stylesheet\" href=\"/_next/static/css/0fbe8f860bcce963013b.css\" data-n-p=\"\"><link rel=\"preload\" href=\"/_next/static/css/22b4d3494be448ec010d.css\" as=\"style\"><link rel=\"stylesheet\" href=\"/_next/static/css/22b4d3494be448ec010d.css\" data-n-p=\"\"><noscript data-n-css=\"true\"></noscript><link rel=\"preload\" href=\"/_next/static/chunks/main-4ec1f06c49c7e957ed86.js\" as=\"script\"><link rel=\"preload\" href=\"/_next/static/chunks/webpack-9faec8504aa4962181bb.js\" as=\"script\"><link rel=\"preload\" href=\"/_next/static/chunks/framework.1e014bb2f843cb2ed318.js\" as=\"script\"><link rel=\"preload\" href=\"/_next/static/chunks/264f526b8d56a53fd900fb6564ba5c37b3d5ce80.c9012e1d134bb5de6e28.js\" as=\"script\"><link rel=\"preload\" href=\"/_next/static/chunks/b151f01c00dcf04e6c6bab344a26b685617634d2.e8f7e266d96619103e09.js\" as=\"script\"><link rel=\"preload\" href=\"/_next/static/chunks/pages/_app-8a8b9e91fee6a3792f1b.js\" as=\"script\"><link rel=\"preload\" href=\"/_next/static/chunks/add52edbd38f6f8896a98cdf3270427e46433704.1b272829b65eeb9fd6fd.js\" as=\"script\"><link rel=\"preload\" href=\"/_next/static/chunks/9b011a38fe3b7f9fb0b859cae767d706ab4fc633.735e73d5781ae5d9918f.js\" as=\"script\"><link rel=\"preload\" href=\"/_next/static/chunks/9b011a38fe3b7f9fb0b859cae767d706ab4fc633_CSS.4d62413f4da81be1e932.js\" as=\"script\"><link rel=\"preload\" href=\"/_next/static/chunks/f80822c7ce562e152fb1250a33fe91427a7f3ee9.9b8872e0fe6dd00815db.js\" as=\"script\"><link rel=\"preload\" href=\"/_next/static/chunks/ffd10728820a2b898b112d44d92d05f48a30b6bf.8725a26a31fe70a5c289.js\" as=\"script\"><link rel=\"preload\" href=\"/_next/static/chunks/4d7aecfaf8a2f710c66553ea32d0dd1a0d4bc5f5.9e8efd6ba7bd32b9b008.js\" as=\"script\"><link rel=\"preload\" href=\"/_next/static/chunks/5a206d7ae3899126240e0b64099731cf3c06025c.ceb5b52b5827688c18af.js\" as=\"script\"><link rel=\"preload\" href=\"/_next/static/chunks/5a206d7ae3899126240e0b64099731cf3c06025c_CSS.748f7f460fe4ac62566f.js\" as=\"script\"><link rel=\"preload\" href=\"/_next/static/chunks/pages/flights/domestic/%5B...routes%5D-b9b25bf55091bf9759e3.js\" as=\"script\"><style type=\"text/css\">@charset \"UTF-8\";\\n.api_common_viewer .header_info .go_total .spcv {\\n\\toverflow: hidden;\\n\\twhite-space: nowrap;\\n\\ttext-indent: 100%;\\n}\\n\\n.api_common_viewer .btn_view_video, .api_common_viewer .btn_view_360, .api_common_viewer .btn_area .btn .spcv, .api_common_viewer .btn_area .btn_next .spcv, .api_common_viewer .header_info .go_total .spcv, .api_common_viewer .content_info .view_basic .btn_more .ico_more, .api_common_viewer .content_info .view_basic .btn_relation .ico_relation:after, .api_common_viewer .content_info .function_list .item .like, .api_common_viewer .content_info .function_list .item.f_heart .like, .api_common_viewer .content_info .function_list .item.share:after, .api_common_viewer .content_info .function_list .item .original, .api_common_viewer .content_info .function_list .item .close, .image360_loading:before, .image360_icon:before {\\n\\tbackground-image: url(https://ssl.pstatic.net/static/m/common/viewer/sp_viewer_3acf4853.png);\\n\\t-webkit-background-size: 183px 159px;\\n\\t        background-size: 183px 159px;\\n}\\n\\n.api_common_viewer {\\n\\tposition: absolute;\\n\\ttop: 0;\\n\\tright: 0;\\n\\tleft: 0;\\n\\tz-index: 7000;\\n\\tbackground-color: #000;\\n\\tfont-family: HelveticaNeue, Helvetica, -apple-system, BlinkMacSystemFont, Apple SD Gothic Neo, sans-serif;\\n\\tfont-size: 16px;\\n\\tline-height: 20px;\\n}\\n\\n.api_common_viewer .blind {\\n\\toverflow: hidden !important;\\n\\tposition: absolute !important;\\n\\twidth: 1px !important;\\n\\theight: 1px !important;\\n\\tmargin: -1px !important;\\n\\tclip: rect(0 0 0 0) !important;\\n}\\n\\n.api_common_viewer a {\\n\\tcolor: inherit;\\n\\ttext-decoration: none;\\n}\\n\\n.api_common_viewer i, .api_common_viewer em, .api_common_viewer address, .api_common_viewer cite, .api_common_viewer dfn {\\n\\tfont-style: normal;\\n}\\n\\n.api_common_viewer .bg_nimg3 {\\n\\tbackground: #f5f7f8 url(https://ssl.pstatic.net/static/m/common/viewer/bg_img.png) no-repeat 50% 50%;\\n\\t-webkit-background-size: 66px 52px;\\n\\t        background-size: 66px 52px;\\n}\\n\\n.api_common_viewer .spcv, .api_common_viewer .spcv_bf:before, .api_common_viewer .spcv_af:after {\\n\\tdisplay: inline-block;\\n\\toverflow: hidden;\\n\\tcolor: transparent;\\n\\twhite-space: nowrap;\\n}\\n\\n.api_common_viewer .spcv_bf:before, .api_common_viewer .spcv_af:after {\\n\\tcontent: \\'\\';\\n}\\n\\n.api_common_viewer .scroll_wrap {\\n\\tposition: relative;\\n\\toverflow: hidden;\\n\\theight: 100%;\\n}\\n\\n.api_common_viewer .flick_view {\\n\\toverflow: hidden;\\n\\tposition: absolute;\\n\\ttop: 0;\\n\\tleft: 0;\\n\\twidth: 100%;\\n\\theight: 100%;\\n}\\n\\n.api_common_viewer .flick_view .flick-ct {\\n\\tfloat: left;\\n\\tposition: relative;\\n\\twidth: 100%;\\n\\theight: 100%;\\n}\\n\\n.api_common_viewer .flick_view .thumb {\\n\\tposition: absolute;\\n\\tbackground: url(https://ssl.pstatic.net/static/m/common/viewer/bg_pattern.png) 0 0 repeat;\\n\\t-webkit-background-size: 12px 12px;\\n\\t        background-size: 12px 12px;\\n}\\n\\n.api_common_viewer .flick_view .bg_nimg3 {\\n\\tposition: absolute;\\n}\\n\\n.api_common_viewer .btn_view_video {\\n\\tbackground-position: 0px -124px;\\n\\twidth: 35px;\\n\\theight: 35px;\\n\\tposition: absolute;\\n\\tleft: 50%;\\n\\ttop: 50%;\\n\\tmargin: -17px 0 0 -17px;\\n}\\n\\n.api_common_viewer .btn_view_360 {\\n\\tbackground-position: 0px -90px;\\n\\twidth: 82px;\\n\\theight: 32px;\\n\\tposition: absolute;\\n\\tleft: 50%;\\n\\tmargin-left: -41px;\\n\\tbackground-color: transparent;\\n\\tborder: 0;\\n}\\n\\n.api_common_viewer .btn_area {\\n\\tdisplay: none;\\n}\\n\\n.api_common_viewer .btn_area.is_show {\\n\\tdisplay: block;\\n}\\n\\n.api_common_viewer .btn_area .btn {\\n\\tposition: absolute;\\n\\ttop: 0;\\n\\tbottom: 0;\\n\\tz-index: 7100;\\n\\twidth: 60px;\\n\\theight: 60px;\\n\\tmargin: auto;\\n\\tbackground-color: rgba(0, 0, 0, 0.2);\\n}\\n\\n.api_common_viewer .btn_area .btn .spcv {\\n\\tbackground-position: -84px -90px;\\n\\twidth: 16px;\\n\\theight: 31px;\\n\\toverflow: hidden;\\n\\tposition: absolute;\\n\\ttop: 0;\\n\\tright: 0;\\n\\tbottom: 0;\\n\\tleft: 0;\\n\\tmargin: auto;\\n\\tmargin-left: 20px;\\n}\\n\\n.api_common_viewer .btn_area .btn_prev {\\n\\tleft: 0;\\n}\\n\\n.api_common_viewer .btn_area .btn_next {\\n\\tright: 0;\\n}\\n\\n.api_common_viewer .btn_area .btn_next .spcv {\\n\\tbackground-position: -84px -90px;\\n\\twidth: 16px;\\n\\theight: 31px;\\n\\tmargin: auto;\\n\\tmargin-right: 20px;\\n\\t-webkit-transform: rotate(180deg);\\n\\t        transform: rotate(180deg);\\n}\\n\\n.api_common_viewer .group_info {\\n\\tdisplay: none;\\n}\\n\\n.api_common_viewer .group_info.is_show {\\n\\tdisplay: block;\\n}\\n\\n.api_common_viewer .header_info {\\n\\tposition: absolute;\\n\\ttop: 0;\\n\\tleft: 0;\\n\\tright: 0;\\n\\tz-index: 7100;\\n\\theight: 48px;\\n\\tbackground-color: rgba(0, 0, 0, 0.2);\\n\\tline-height: 48px;\\n}\\n\\n.api_common_viewer .header_info .go_total {\\n\\tdisplay: block;\\n\\toverflow: hidden;\\n\\tfloat: left;\\n\\tposition: relative;\\n\\twidth: 49px;\\n\\theight: 48px;\\n}\\n\\n.api_common_viewer .header_info .go_total .spcv {\\n\\tbackground-position: -59px -124px;\\n\\twidth: 21px;\\n\\theight: 18px;\\n\\tdisplay: block;\\n\\tmargin: 15px 0 0 15px;\\n}\\n\\n.api_common_viewer .img_count {\\n\\tfloat: right;\\n\\tmargin-right: 15px;\\n\\tfont-size: 14px;\\n\\tcolor: #fff;\\n\\ttext-shadow: 0 1px 0 rgba(0, 0, 0, 0.2);\\n}\\n\\n.api_common_viewer .img_count .current_img {\\n\\tfont-weight: 700;\\n}\\n\\n.api_common_viewer .img_count .total_img:before {\\n\\tcontent: \\'/\\';\\n\\tmargin: 0 3px;\\n}\\n\\n.api_common_viewer .img_count .total_img {\\n\\topacity: 0.7;\\n}\\n\\n.api_common_viewer .view_notice {\\n\\toverflow: hidden;\\n\\tposition: absolute;\\n\\ttop: -13px;\\n\\tleft: 0;\\n\\tright: 0;\\n\\tmargin: 0 20px;\\n\\tfont-size: 13px;\\n\\ttext-align: center;\\n\\twhite-space: nowrap;\\n\\ttext-overflow: ellipsis;\\n}\\n\\n.api_common_viewer .view_notice .notice_link {\\n\\tcolor: #00c73c;\\n\\ttext-decoration: underline;\\n}\\n\\n.api_common_viewer .content_info {\\n\\tposition: absolute;\\n\\tbottom: 0;\\n\\tleft: 0;\\n\\tright: 0;\\n\\tz-index: 7000;\\n\\tfont-size: 15px;\\n\\tcolor: #fff;\\n\\tline-height: 21px;\\n\\ttext-shadow: 0 1px 0 rgba(0, 0, 0, 0.2);\\n\\tbackground: -webkit-linear-gradient(transparent 0%, transparent 0%, transparent 0%, rgba(0, 0, 0, 0.7) 75px, rgba(0, 0, 0, 0.7) 100%);\\n\\tbackground: linear-gradient(transparent 0%, transparent 0%, transparent 0%, rgba(0, 0, 0, 0.7) 75px, rgba(0, 0, 0, 0.7) 100%);\\n}\\n\\n.api_common_viewer .content_info .view_basic {\\n\\tposition: relative;\\n\\tz-index: 1;\\n\\tpadding: 21px 52px 15px 20px;\\n}\\n\\n.api_common_viewer .content_info .view_basic .btn_more {\\n\\tposition: absolute;\\n\\tright: 0;\\n\\tbottom: 16px;\\n\\twidth: 43px;\\n\\theight: 42px;\\n}\\n\\n.api_common_viewer .content_info .view_basic .btn_more .ico_more {\\n\\tbackground-position: -180px 0px;\\n\\twidth: 3px;\\n\\theight: 19px;\\n\\tposition: absolute;\\n\\ttop: 0;\\n\\tleft: 0;\\n\\tright: 0;\\n\\tbottom: 0;\\n\\tmargin: auto;\\n\\ttext-shadow: none;\\n}\\n\\n.api_common_viewer .content_info .view_basic .btn_relation {\\n\\tposition: absolute;\\n\\tbottom: 26px;\\n\\tright: 43px;\\n\\theight: 21px;\\n\\tpadding: 0 22px 0 9px;\\n\\tborder: 1px solid #fff;\\n\\t-webkit-border-radius: 12px;\\n\\t        border-radius: 12px;\\n\\tfont-size: 13px;\\n\\tline-height: 21px;\\n\\tvertical-align: top;\\n}\\n\\n.api_common_viewer .content_info .view_basic .btn_relation .ico_relation:after {\\n\\tbackground-position: -102px -112px;\\n\\twidth: 10px;\\n\\theight: 7px;\\n\\tposition: absolute;\\n\\ttop: 50%;\\n\\tright: 9px;\\n\\tmargin-top: -3px;\\n}\\n\\n.api_common_viewer .content_info .view_basic .btn_relation.on .ico_relation:after {\\n\\tbackground-position: -114px -112px;\\n}\\n\\n.api_common_viewer .content_info .view_basic .view_desc {\\n\\tdisplay: block;\\n}\\n\\n.api_common_viewer .content_info .view_basic .view_desc .tit {\\n\\tdisplay: block;\\n\\toverflow: hidden;\\n\\twhite-space: nowrap;\\n\\ttext-overflow: ellipsis;\\n\\tfont-size: 17px;\\n}\\n\\n.api_common_viewer .content_info .view_basic .view_desc .txt_etc {\\n\\tdisplay: block;\\n\\tmargin-bottom: 3px;\\n\\tfont-size: 14px;\\n\\tfont-weight: bold;\\n}\\n\\n.api_common_viewer .content_info .view_basic .view_desc .detail {\\n\\tdisplay: block;\\n\\toverflow: hidden;\\n\\theight: 21px;\\n\\tmargin-top: 1px;\\n\\tfont-size: 13px;\\n\\tcolor: rgba(255, 255, 255, 0.7);\\n}\\n\\n.api_common_viewer .content_info .view_basic .view_desc .detail .txt {\\n\\tdisplay: inline-block;\\n}\\n\\n.api_common_viewer .content_info .view_basic .view_desc .detail .txt + .txt:before {\\n\\tdisplay: inline-block;\\n\\twidth: 2px;\\n\\theight: 2px;\\n\\tmargin-right: 4px;\\n\\t-webkit-border-radius: 50%;\\n\\t        border-radius: 50%;\\n\\tbackground: rgba(255, 255, 255, 0.7);\\n\\tvertical-align: 3px;\\n\\tcontent: \\'\\';\\n}\\n\\n.api_common_viewer .content_info .view_basic.view_relation {\\n\\tpadding-right: 118px;\\n}\\n\\n.api_common_viewer .content_info .view_basic.view_timeline .view_desc .tit {\\n\\tdisplay: -webkit-box;\\n\\tmax-height: 42px;\\n\\t-webkit-box-orient: vertical;\\n\\t-webkit-line-clamp: 2;\\n\\tfont-size: 15px;\\n\\twhite-space: initial;\\n}\\n\\n.api_common_viewer .content_info .view_basic.view_summery .view_desc .tit {\\n\\tdisplay: -webkit-box;\\n\\tmax-height: 42px;\\n\\t-webkit-box-orient: vertical;\\n\\t-webkit-line-clamp: 2;\\n\\tfont-size: 15px;\\n\\twhite-space: initial;\\n}\\n\\n.api_common_viewer .content_info .view_basic.view_summery .view_desc .txt_etc {\\n\\tmargin-bottom: 4px;\\n}\\n\\n.api_common_viewer .content_info .view_content .view_desc .tit {\\n\\tmargin-bottom: 4px;\\n\\tfont-weight: bold;\\n}\\n\\n.api_common_viewer .content_info .view_function {\\n\\tposition: relative;\\n\\tz-index: 1;\\n\\tmargin-top: 16px;\\n}\\n\\n.api_common_viewer .content_info .function_list {\\n\\tdisplay: table;\\n\\twidth: 100%;\\n\\ttable-layout: fixed;\\n}\\n\\n.api_common_viewer .content_info .function_list .item {\\n\\tdisplay: table-cell;\\n\\theight: 48px;\\n\\tpadding-top: 15px;\\n\\ttext-align: center;\\n\\tcolor: transparent;\\n}\\n\\n.api_common_viewer .content_info .function_list .item .like_box {\\n\\tdisplay: block;\\n}\\n\\n.api_common_viewer .content_info .function_list .item .ico {\\n\\tdisplay: inline-block;\\n\\tcolor: transparent;\\n\\ttext-shadow: none;\\n\\tvertical-align: top;\\n}\\n\\n.api_common_viewer .content_info .function_list .item .like {\\n\\tbackground-position: -127px -90px;\\n\\twidth: 23px;\\n\\theight: 20px;\\n\\tmargin-top: 2px;\\n}\\n\\n.api_common_viewer .content_info .function_list .item.f_heart .like {\\n\\tbackground-position: -102px -90px;\\n\\twidth: 23px;\\n\\theight: 20px;\\n}\\n\\n.api_common_viewer .content_info .function_list .item.share:after {\\n\\tbackground-position: -152px -90px;\\n\\twidth: 23px;\\n\\theight: 20px;\\n\\tvertical-align: top;\\n}\\n\\n.api_common_viewer .content_info .function_list .item.share:before {\\n\\tcontent: \\'\\\\ACF5\\\\C720\\\\D558\\\\AE30\\';\\n\\tposition: absolute;\\n\\toverflow: hidden;\\n\\twidth: 1px;\\n\\theight: 1px;\\n\\tmargin: -1px;\\n\\tclip: rect(0 0 0 0);\\n}\\n\\n.api_common_viewer .content_info .function_list .item .num {\\n\\tdisplay: block;\\n\\toverflow: hidden;\\n\\twhite-space: nowrap;\\n\\ttext-overflow: ellipsis;\\n\\tfont-size: 12px;\\n\\tline-height: 15px;\\n\\tcolor: #ff323c;\\n}\\n\\n.api_common_viewer .content_info .function_list .item .original {\\n\\tbackground-position: -37px -124px;\\n\\twidth: 20px;\\n\\theight: 20px;\\n\\tmargin-top: 1px;\\n}\\n\\n.api_common_viewer .content_info .function_list .item .close {\\n\\tbackground-position: -82px -124px;\\n\\twidth: 18px;\\n\\theight: 18px;\\n\\tmargin-top: 1px;\\n}\\n\\n.api_common_viewer .content_info .title {\\n\\tdisplay: block;\\n\\toverflow: hidden;\\n\\tfont-size: 13px;\\n\\tcolor: #00c73c;\\n\\tline-height: 20px;\\n\\ttext-shadow: 0 1px 0 rgba(0, 0, 0, 0.2);\\n\\twhite-space: nowrap;\\n\\ttext-overflow: ellipsis;\\n\\tfont-weight: 600;\\n}\\n\\n.api_common_viewer .content_info .view_relation_list {\\n\\tdisplay: none;\\n\\toverflow: hidden;\\n\\tposition: relative;\\n\\theight: 101px;\\n}\\n\\n.api_common_viewer .content_info .view_relation_list .relation_inner {\\n\\toverflow-x: auto;\\n\\theight: 100%;\\n\\t-webkit-overflow-scrolling: touch;\\n}\\n\\n.api_common_viewer .content_info .view_relation_list:before {\\n\\tposition: absolute;\\n\\ttop: 0;\\n\\tleft: 20px;\\n\\tright: 20px;\\n\\theight: 1px;\\n\\tbackground: rgba(255, 255, 255, 0.2);\\n\\tcontent: \\'\\';\\n}\\n\\n.api_common_viewer .content_info .view_relation_list .thumb_list {\\n\\tpadding: 0 0 5px 20px;\\n\\tfont-size: 0;\\n\\twhite-space: nowrap;\\n}\\n\\n.api_common_viewer .content_info .view_relation_list .thumb_list li {\\n\\tdisplay: inline-block;\\n\\tposition: relative;\\n\\tpadding: 11px 0 5px;\\n\\tmargin-right: 5px;\\n\\tvertical-align: top;\\n}\\n\\n.api_common_viewer .content_info .view_relation_list .thumb_list li.on {\\n\\tpadding-bottom: 3px;\\n\\tborder-bottom: 2px solid #0abe15;\\n}\\n\\n.api_common_viewer .content_info .view_relation_list .thumb_list .thumb {\\n\\tdisplay: block;\\n\\toverflow: hidden;\\n}\\n\\n.api_common_viewer .content_info .view_relation_list .thumb_list .thumb img {\\n\\theight: 80px;\\n\\tvertical-align: top;\\n}\\n\\n.api_common_viewer.animation .group_info {\\n\\tdisplay: block;\\n}\\n\\n.api_common_viewer.animation .header_info {\\n\\ttop: -48px;\\n\\t-webkit-transition: top 0.3s ease-out;\\n\\ttransition: top 0.3s ease-out;\\n}\\n\\n.api_common_viewer.animation .header_info .layer_wrap {\\n\\ttop: -26px;\\n\\topacity: 0.01;\\n\\t-webkit-transition: top 0.3s ease-out, opacity 1s ease-out;\\n\\ttransition: top 0.3s ease-out, opacity 1s ease-out;\\n}\\n\\n.api_common_viewer.animation .content_info {\\n\\tbottom: -190px;\\n\\t-webkit-transition: bottom 0.3s ease-out;\\n\\ttransition: bottom 0.3s ease-out;\\n}\\n\\n.api_common_viewer.animation .btn_area .btn_prev {\\n\\tleft: -60px;\\n\\t-webkit-transition: left 0.3s ease-out;\\n\\ttransition: left 0.3s ease-out;\\n}\\n\\n.api_common_viewer.animation .btn_area .btn_next {\\n\\tright: -60px;\\n\\t-webkit-transition: right 0.3s ease-out;\\n\\ttransition: right 0.3s ease-out;\\n}\\n\\n.api_common_viewer.animation .group_info.is_show .header_info {\\n\\ttop: 0;\\n}\\n\\n.api_common_viewer.animation .group_info.is_show .header_info .layer_wrap {\\n\\ttop: 47px;\\n\\topacity: 1;\\n}\\n\\n.api_common_viewer.animation .group_info.is_show .content_info {\\n\\tbottom: 0 !important;\\n}\\n\\n.api_common_viewer.animation .btn_area {\\n\\tdisplay: block;\\n}\\n\\n.api_common_viewer.animation .btn_area.is_show .btn_prev {\\n\\tleft: 0;\\n}\\n\\n.api_common_viewer.animation .btn_area.is_show .btn_next {\\n\\tright: 0;\\n}\\n\\n/* 이미지뷰어 AU코드 */\\n._hero_animating {\\n\\tposition: fixed;\\n\\t-webkit-transform-origin: 0 0 0;\\n\\ttransform-origin: 0 0 0;\\n\\t-webkit-transition: -webkit-transform 300ms cubic-bezier(0.4, 0, 0.2, 1) 0ms;\\n\\ttransition: -webkit-transform 300ms cubic-bezier(0.4, 0, 0.2, 1) 0ms;\\n\\ttransition: transform 300ms cubic-bezier(0.4, 0, 0.2, 1) 0ms;\\n\\ttransition: transform 300ms cubic-bezier(0.4, 0, 0.2, 1) 0ms, -webkit-transform 300ms cubic-bezier(0.4, 0, 0.2, 1) 0ms;\\n\\t-webkit-transform: translate3d(0, 0, 0) scale3d(1, 1, 1);\\n\\ttransform: translate3d(0, 0, 0) scale3d(1, 1, 1);\\n\\tz-index: 20020;\\n}\\n\\n._hero_animating img {\\n\\t-webkit-transform-origin: 0 0 0;\\n\\ttransform-origin: 0 0 0;\\n\\t-webkit-transition: -webkit-transform 300ms cubic-bezier(0.4, 0, 0.2, 1) 0ms;\\n\\ttransition: -webkit-transform 300ms cubic-bezier(0.4, 0, 0.2, 1) 0ms;\\n\\ttransition: transform 300ms cubic-bezier(0.4, 0, 0.2, 1) 0ms;\\n\\ttransition: transform 300ms cubic-bezier(0.4, 0, 0.2, 1) 0ms, -webkit-transform 300ms cubic-bezier(0.4, 0, 0.2, 1) 0ms;\\n\\t-webkit-transform: translate3d(0, 0, 0) scale3d(1, 1, 1);\\n\\ttransform: translate3d(0, 0, 0) scale3d(1, 1, 1);\\n}\\n\\n.css_ani .ani_slideup, .css_ani .ani_slidedown {\\n\\topacity: .001;\\n}\\n\\n.css_ani .ani_slideup {\\n\\t-webkit-animation: slide-up-cards 300ms cubic-bezier(0.4, 0, 0.2, 1);\\n\\t-webkit-animation-fill-mode: both;\\n}\\n\\n.css_ani .ani_slidedown {\\n\\t-webkit-animation: slide-down-cards 300ms cubic-bezier(0.4, 0, 0.2, 1);\\n\\t-webkit-animation-fill-mode: both;\\n}\\n\\n@-webkit-keyframes slide-up-cards {\\n\\t0% {\\n\\t\\topacity: .001;\\n\\t\\t-webkit-transform: translate3d(0, 20px, 0);\\n\\t\\t        transform: translate3d(0, 20px, 0);\\n\\t}\\n\\t99% {\\n\\t\\t-webkit-transform: translate3d(0, 0, 0);\\n\\t\\t        transform: translate3d(0, 0, 0);\\n\\t}\\n\\t100% {\\n\\t\\topacity: 1;\\n\\t}\\n}\\n\\n@keyframes slide-up-cards {\\n\\t0% {\\n\\t\\topacity: .001;\\n\\t\\t-webkit-transform: translate3d(0, 20px, 0);\\n\\t\\t        transform: translate3d(0, 20px, 0);\\n\\t}\\n\\t99% {\\n\\t\\t-webkit-transform: translate3d(0, 0, 0);\\n\\t\\t        transform: translate3d(0, 0, 0);\\n\\t}\\n\\t100% {\\n\\t\\topacity: 1;\\n\\t}\\n}\\n\\n@-webkit-keyframes slide-down-cards {\\n\\t0% {\\n\\t\\topacity: .001;\\n\\t\\t-webkit-transform: translate3d(0, -20px, 0);\\n\\t\\t        transform: translate3d(0, -20px, 0);\\n\\t}\\n\\t99% {\\n\\t\\t-webkit-transform: translate3d(0, 0, 0);\\n\\t\\t        transform: translate3d(0, 0, 0);\\n\\t}\\n\\t100% {\\n\\t\\topacity: 1;\\n\\t}\\n}\\n\\n@keyframes slide-down-cards {\\n\\t0% {\\n\\t\\topacity: .001;\\n\\t\\t-webkit-transform: translate3d(0, -20px, 0);\\n\\t\\t        transform: translate3d(0, -20px, 0);\\n\\t}\\n\\t99% {\\n\\t\\t-webkit-transform: translate3d(0, 0, 0);\\n\\t\\t        transform: translate3d(0, 0, 0);\\n\\t}\\n\\t100% {\\n\\t\\topacity: 1;\\n\\t}\\n}\\n\\n.image360_fs_toggle:before {\\n\\tdisplay: none;\\n}\\n\\n.image360_navigation {\\n\\tposition: absolute;\\n\\ttop: 0;\\n\\tbottom: 0;\\n\\tleft: auto;\\n\\tmargin: auto;\\n}\\n\\n.image360_icon:before,\\n.image360_loading,\\n.image360_loading:before {\\n\\tcontent: \"\";\\n\\tposition: absolute;\\n\\ttop: 0;\\n\\tright: 0;\\n\\tbottom: 0;\\n\\tleft: 0;\\n\\tmargin: auto;\\n}\\n\\n.image360_container {\\n\\tposition: absolute;\\n\\ttop: 0;\\n\\tright: 0;\\n\\tbottom: 0;\\n\\tleft: 0;\\n}\\n\\n.image360_preview {\\n\\tvertical-align: top;\\n\\theight: 100%;\\n\\twidth: 100%;\\n\\tbackground-color: #000;\\n\\t-webkit-background-size: cover;\\n\\t        background-size: cover;\\n\\tbackground-position: 50%;\\n}\\n\\n.image360_wrapper .image360_container.is-default .image360_icon,\\n.image360_wrapper .image360_container.is-loading .image360_loading,\\n.image360_wrapper .image360_container.is-ready .image360_navigation {\\n\\tdisplay: block;\\n}\\n\\n.image360_navigation {\\n\\tdisplay: none;\\n\\tright: 10px;\\n\\theight: 33px;\\n\\tz-index: 1;\\n\\tcursor: pointer;\\n}\\n\\n/* 파이형태 */\\n.image360_navPie {\\n\\tposition: absolute;\\n\\ttop: 0;\\n\\tleft: 0;\\n}\\n\\n.image360_loading {\\n\\tdisplay: none;\\n\\twidth: 92px;\\n\\theight: 92px;\\n\\tz-index: 1;\\n}\\n\\n.image360_loading .image360_loadingBar {\\n\\tdisplay: inline-block;\\n\\tposition: absolute;\\n\\tleft: 0;\\n\\tright: 0;\\n\\ttop: 64px;\\n\\twidth: 32px;\\n\\theight: 8px;\\n\\tmargin: auto;\\n\\tbackground-image: url(https://ssl.pstatic.net/static/m/common/viewer/common_loading_mo_white.gif);\\n\\tbackground-repeat: no-repeat;\\n\\t-webkit-background-size: 32px 8px;\\n\\t        background-size: 32px 8px;\\n}\\n\\n.image360_loading:before {\\n\\tbackground-position: -90px 0px;\\n\\twidth: 88px;\\n\\theight: 88px;\\n\\tdisplay: inline-block;\\n}\\n\\n.image360_icon {\\n\\tdisplay: none;\\n\\tz-index: 1;\\n}\\n\\n.image360_icon:before {\\n\\tbackground-position: 0px 0px;\\n\\twidth: 88px;\\n\\theight: 88px;\\n\\tz-index: 1;\\n\\tdisplay: inline-block;\\n}\\n\\n.image360_wrapper {\\n\\tposition: relative;\\n}\\n\\n.image360_container > canvas {\\n\\tmargin: 0;\\n}\\n</style><style type=\"text/css\">.view_basic,\\n.view_function{\\n    position:absolute;\\n    opacity:1;\\n    transition-duration:200ms;\\n    transition-property:opacity;\\n    transition-timing-function:cubic-bezier(0.4, 0, 0.2, 1)\\n}\\n._toobar-hide{opacity:0;display:none}\\n\\n.f-panel .panzoom {\\n    /*\\n    jquery.panzoom이 정상동작하려면\\n    panzoom적용대상 요소의 width, height가\\n    뷰포트의 width, height와 동일해야\\n    핀치줌시 두 손가락의 가운데로 panning된다.\\n    */\\n    width: 100%;\\n    height: 100%;\\n}\\n.f-panel img{\\n    /*\\n    jquery.panzoom은 img상위에 임의div를 만들어 그 div에 적용해야하는데\\n    그럴경우 \\'position: absolute\\'때문에 이미지가 비노출되기에 \\'relative\\'로 변경함.\\n    */\\n    position: relative;\\n    max-width:100%;\\n    max-height:100%;\\n}\\n.f-panel img._load{\\n    -webkit-background-size:12px 12px;\\n    background-size:12px 12px;\\n    background:url(https://ssl.pstatic.net/static/m/common/viewer/bg_pattern.png) 0 0 repeat;\\n}\\n.f-panel img._err{\\n    background:#f5f7f8 url(https://ssl.pstatic.net/sstatic/search/mobile/2015/bg_noimg_v1.png) no-repeat 50% 50%;\\n    background-size:30px 25px;\\n    -webkit-background-size:30px 25px\\n}\\n\\n.api_common_viewer .content_info .view_basic .view_desc.no-dot .detail .txt + .txt:before,\\n.api_common_viewer .content_info .view_basic.view_timeline .view_desc .detail{display:none}\\n</style><style type=\"text/css\" data-styled-jsx=\"\"></style><link id=\"naver-splugin-css\" rel=\"stylesheet\" type=\"text/css\" href=\"https://ssl.pstatic.net/spi/css/20210531/spi_standard_m_https.css\"><style id=\"gnb_style\" type=\"text/css\">@charset \"UTF-8\";\\n/* NTS UIT Development Office YJH 140717 */\\na.gnb_my, .gnb_icon, #gnb .gnb_my_interface, .gnb_my_li .gnb_my_content .gnb_membership, #gnb .gnb_my_membership, #gnb .gnb_ico_num .gnb_ico_new, #gnb .gnb_ico_num .gnb_ico_new .gnb_count, .gnb_lst .ico_arrow, a.gnb_my .filter_mask, .gnb_my_lyr, .gnb_my_li .gnb_my_content .gnb_mask, .gnb_my_li .gnb_my_content .gnb_change, .gnb_my_li .gnb_my_content .gnb_edit_lst li, .gnb_my_li .gnb_my_content .gnb_pay_check em, #gnb .gnb_my_li .gnb_my_community a.gnb_pay span, .gnb_notice_li .gnb_notice_lyr, .gnb_notice_li .svc_list .gnb_ico_mail, .gnb_notice_li .svc_list .gnb_btn_remove span, .gnb_notice_li .svc_list .gnb_btn_remove i, .gnb_notice_li .gnb_error .gnb_ico_error, .gnb_ly_alert .gnb_btn_close i, .gnb_first_visit, .gnb_search_box, .gnb_search_box .gnb_del_txt, .gnb_svc_more .gnb_svc_lstwrp li.gnb_event em.ic_gnb_new, .gnb_svc_more .svc_btnwrp button { background: url(https://ssl.pstatic.net/static/common/gnb/one/sp_gnb_v14.png) no-repeat -999px -999px;\\t\\tbackground: url(https://ssl.pstatic.net/static/common/gnb/one/sp_gnb_v15.png?v=2006) no-repeat -999px -999px; /* background: url(../img/sp_gnb_v15.png) no-repeat -999px -999px; */}\\n.gnb_favorite_area, .gnb_search_area, .gnb_banner, .gnb_linkwrp{background:url(https://ssl.pstatic.net/static/common/gnb/2014/bg_svclyr2_v2.png) no-repeat -999px -999px}\\n#gnb .gnb_my_li .gnb_my_community a, .gnb_notice_li .gnb_notice_all, a.gnb_service_all, .gnb_svc_more .svc_btns{display:block;height:38px;border-top:1px solid #ebebeb;background-color:#f8f8f8;text-align:center;font-weight:bold;text-decoration:none;letter-spacing:-1px;line-height:38px}\\n#gnb .gnb_my_li .gnb_my_community a:visited, .gnb_notice_li .gnb_notice_all:visited, a.gnb_service_all:visited, .gnb_svc_more .svc_btns:visited{color:#444}\\n.gnb_login_li, .gnb_my_li, .gnb_notice_li, .mail_li, .gnb_service_li{float:left;margin-right:2px;overflow:visible}\\n.gnb_login_li a, .gnb_my_li a, .gnb_notice_li a, .mail_li a, .gnb_service_li a{position:relative;z-index:100}\\na.gnb_my, .gnb_icon{position:relative}\\n#gnb{position:relative;z-index:2147483646;font-family:\\'나눔고딕\\',NanumGothic,\\'돋움\\',Dotum,\\'Apple SD Gothic Neo\\',Helvetica,Sans-serif !important;color:#444;font-size:12px;letter-spacing:0 !important;line-height:normal !important;text-align:left !important}\\n#gnb div, #gnb p, #gnb span, #gnb em, #gnb strong, #gnb h1, #gnb h2, #gnb h3, #gnb h4, #gnb h5, #gnb h6, #gnb ul, #gnb ol, #gnb li, #gnb dl, #gnb dt, #gnb dd, #gnb table, #gnb th, #gnb td, #gnb form, #gnb fieldset, #gnb legend, #gnb input, #gnb textarea, #gnb button, #gnb label{font-family:\\'나눔고딕\\',NanumGothic,\\'돋움\\',Dotum,\\'Apple SD Gothic Neo\\',Helvetica,Sans-serif !important}\\n#gnb a, #gnb label, #gnb button{cursor:pointer}\\n#gnb a, #gnb a:visited, #gnb a:active, #gnb a:focus{color:#444}\\n#gnb a:hover{color:#444;text-decoration:underline}\\n#gnb input::-ms-clear{display:none}\\n#gnb em{font-style:normal}\\n#gnb ul{list-style:none}\\n#gnb .blind{display:block;overflow:hidden;position:absolute;top:-1000em;left:0;width:1px;height:1px;margin:0;padding:0;font-size:0;line-height:0}\\n#gnb .gnb_my_membership{padding: 0;display: block;width: 64px;height: 16px;background-position: -296px -359px;margin: 0;}\\n#gnb .gnb_my_interface{padding:5px;position:absolute;top:12px;right:8px;display:block;width:17px;height:16px;background-position:-90px 5px}\\n#gnb .gnb_my_interface:hover{background-position:-90px -20px}\\n#gnb .gnb_my_interface:focus{background-position:-90px -20px}\\n#gnb .gnb_pad_lyr{position:absolute}\\n#gnb .gnb_ico_num{display:block;position:absolute;top:1px;width:40px;text-align:center}\\n#gnb .gnb_ico_num .gnb_ico_new{height:15px;display:inline-block;background-position:-331px 0;zoom:1}\\n#gnb .gnb_ico_num .gnb_ico_new .gnb_count{position:relative;top:0;right:-5px;height:15px;margin:0;padding:0 4px 0 1px;display:inline-block;*display:inline;vertical-align:top;background-position:100% 0;text-indent:-2px;font-family:tahoma !important;font-weight:bold;color:#fff;zoom:1}\\n#gnb .gnb_ico_num .gnb_ico_new .plus{margin:1px -1px 0 2px;font-size:8px;display:inline-block;color:#fff;vertical-align:top}\\n:root #gnb .gnb_pad_lyr{opacity:1 !important;/* background:#fff */}\\n.gnb_lst{margin:0;padding:0;zoom:1}\\n.gnb_lst:after{display:block;clear:both;content:\\'\\'}\\n.gnb_lst ul{margin:0;padding:0}\\n.gnb_lst .ico_arrow{display:none;position:absolute;left:50%;top:27px;width:10px;height:8px;margin-left:-5px;background-position:-175px -10px}\\n.gnb_lyr_opened .gnb_my_lyr, .gnb_lyr_opened .gnb_service_lyr, .gnb_lyr_opened .gnb_notice_lyr, .gnb_lyr_opened .ico_arrow{display:block !important}\\n.gnb_login_li{height:23px;padding:5px 7px 0 0}\\n.gnb_btn_login, .gnb_bg, .gnb_bdr{display:inline-block;width:46px;height:20px;font-size:12px}\\n.gnb_btn_login{position:relative}\\n.gnb_bg{background-color: #fff;opacity: 0.05;filter: alpha(opacity=5);}\\n.gnb_bdr{position:absolute;top: -1px;left: -1px;width: 46px;height: 20px;border: 1px solid #000;opacity: 0.12;filter: alpha(opacity=12);}\\n.gnb_txt{position:absolute;top:0;left:0;width:45px;height:20px;padding-left:1px;line-height:21px;color:#666;text-align:center}\\n.gnb_btn_login:hover{text-decoration:none !important}\\n.gnb_account .gnb_btn_login{width:54px;margin:-1px 0 0 8px;vertical-align:top}\\n.gnb_account a.gnb_btn_login .gnb_txt {padding-left: 0;}\\n.gnb_account .gnb_bdr{width:52px}\\n.gnb_account .gnb_txt{width:53px}\\n.gnb_my_li{margin-right:7px}\\n.gnb_my_namebox{padding:2px 9px 0 0;background-repeat:no-repeat;background-position:100% 50%;zoom:1}\\n.gnb_my_namebox:after{display:block;clear:both;content:\\'\\'}\\na.gnb_my{float:left;display:block;font-size:12px;vertical-align:middle}\\na.gnb_my .filter_mask {position: absolute; top: -1px; left: -1px; z-index: 1; width: 28px; height: 28px; background-position: -260px -60px;}\\na.gnb_my img{vertical-align:top;border-radius:16px}\\na.gnb_my .gnb_name{margin-right:-1px;padding-left:5px;display:inline-block;height:28px;line-height:28px;vertical-align:top;font-size:11px;color:#444}\\na.gnb_my:visited{color:#444}\\na.gnb_my:hover, a.gnb_my:active, a.gnb_my:visited, a.gnb_my:focus{text-decoration:none !important}\\na.gnb_my:hover .gnb_name{text-decoration:underline}\\na.gnb_my .ico_arrow{top:25px;margin-left:8px}\\n.gnb_my_namebox a.gnb_emp{float:left;display:inline-block;height:28px;margin-left:3px;line-height:28px;font-size:11px;color:#777 !important}\\n.gnb_my_lyr{display:none;position:absolute;top:26px;right:-8px;padding:9px 5px 4px 4px;width:316px;height:155px;background-position:-2px -1310px;z-index:10}\\n.gnb_my_lyr.gnb_groupid{height:144px;background-position:-2px -1500px}\\n.gnb_my_lyr.gnb_groupid .gnb_my_content{height:80px}\\n.gnb_my_lyr.gnb_groupid.gnb_longid1{height:144px;/*background-position:-2px -1664px*/}\\n.gnb_my_lyr.gnb_groupid.gnb_longid2{height:144px;background-position:-2px -1828px}\\n.gnb_my_lyr.gnb_longid1{/*width:318px;*/ /*background-position:-2px -1118px;*/}\\n.gnb_my_lyr.gnb_longid2{width:348px;background-position:-2px -926px}\\n.gnb_my_li .gnb_my_content{zoom:1;height:91px;padding:15px 0 10px 15px}\\n.gnb_my_li .gnb_my_content:after{display:block;clear:both;content:\\'\\'}\\n.gnb_my_li .gnb_my_content .gnb_img_area{float:left;position:relative;display:block;width:80px;margin: 1px 0 0 1px;}\\n.gnb_my_li .gnb_my_content .gnb_img_area img{vertical-align:top}\\n.gnb_my_li .gnb_my_content .gnb_mask{position:absolute;top:0;left:0;display:block;width:80px;height:80px;background-position:-70px -60px}\\n.gnb_my_li .gnb_my_content .gnb_change{position:absolute;bottom:-2px;left:-2px;display:block;width:28px;height:28px;background-position:-140px 0px}\\n.gnb_my_li .gnb_my_content .gnb_change:hover{background-position:-140px -30px}\\n.gnb_my_li .gnb_my_content .gnb_txt_area{float:left;width:210px;margin:0 0 0 10px}\\n.gnb_longid1 .gnb_my_content .gnb_txt_area{/* width:210px; */}\\n.gnb_longid2 .gnb_my_content .gnb_txt_area{width:235px}\\n.gnb_my_li .gnb_my_content .gnb_account{margin-bottom:3px 0 1px;font-size:0}\\n.gnb_my_li .gnb_my_content .gnb_name{color:#666;font-size:14px}\\n.gnb_my_li .gnb_my_content .gnb_name a{display:inline-block;vertical-align:top;font-weight:bold;color:#222 !important}\\n.gnb_my_li .gnb_my_content a.gnb_mail_address{margin-left:1px;font-family:tahoma;color:#666 !important;font-size:12px}\\n.gnb_my_li .gnb_my_content .gnb_edit_lst{zoom:1;margin-top:7px !important}\\n.gnb_my_li .gnb_my_content .gnb_edit_lst:after{display:block;clear:both;content:\\'\\'}\\n.gnb_my_li .gnb_my_content .gnb_edit_lst li{float:left;padding-left:6px;margin-left:5px;background-position:-290px -25px}\\n.gnb_my_li .gnb_my_content .gnb_edit_lst li.gnb_info{padding-left:0;margin-left:0;background:none}\\n.gnb_my_li .gnb_my_content .gnb_edit_lst a{color:#666 !important;letter-spacing:-1px}\\n.gnb_my_li .gnb_my_content .gnb_membership {display: inline-block;margin-right: 5px;margin-left: 1px;padding-right: 8px;background-position: -287px -403px;}\\n.gnb_my_li .gnb_my_content .gnb_pay_check{height:16px;margin:7px -4px 0 0 !important}\\n@media screen and (min-width: 0\\\\0) { .gnb_my_li .gnb_my_content .gnb_pay_check{margin-top:17px} }\\n.gnb_my_li .gnb_my_content .gnb_pay_check em{display:inline-block;width:16px;height:16px;background-position:-300px -309px;margin:0 4px 0 0;overflow:hidden;font-size:0;line-height:0;vertical-align:top}\\n.gnb_my_li .gnb_my_content .gnb_pay_check a{font-size:14px;letter-spacing:-1px;line-height:16px;vertical-align:top}\\n.gnb_my_li .gnb_my_content .gnb_pay_check span{font-weight: bold;}\\n.gnb_my_li .gnb_my_content .gnb_pay_check strong{font-family:tahoma;letter-spacing:0;vertical-align:top;}\\n.gnb_my_li .gnb_my_content .gnb_pay_check a, .gnb_my_li .gnb_my_content .gnb_pay_check span, .gnb_my_li .gnb_my_content .gnb_pay_check strong{font-size:12px;color:#222 !important}\\n#gnb .gnb_my_li .gnb_my_community{clear:both;zoom:1}\\n#gnb .gnb_my_li .gnb_my_community:after{display:block;clear:both;content:\\'\\'}\\n#gnb .gnb_my_li .gnb_my_community a{float:left;width:106px;margin-right: 0;border-right:1px solid #ebebeb}\\n#gnb .gnb_my_li .gnb_my_community a.gnb_pay{width:102px;border-right:0;line-height:0}\\n#gnb .gnb_my_li .gnb_my_community a.gnb_pay span{display:inline-block;width:41px;height:16px;background-position:-300px -334px;margin:11px auto 0;font-size:0;line-height:0}\\n#gnb .gnb_my_li .gnb_my_community a:active, #gnb .gnb_my_li .gnb_my_community a:focus, #gnb .gnb_my_li .gnb_my_community a:visited{text-decoration:none !important}\\n#gnb .gnb_my_li .gnb_my_community a:hover{text-decoration:underline !important}\\n#gnb .gnb_my_lyr.gnb_longid1 .gnb_my_community a{/*width:105px;*/}\\n#gnb .gnb_my_lyr.gnb_longid1 .gnb_my_community a.gnb_pay{/* width:106px;*/}\\n#gnb .gnb_my_lyr.gnb_longid2 .gnb_my_community a{width:115px}\\n#gnb .gnb_my_lyr.gnb_longid2 .gnb_my_community a.gnb_pay{width:116px}\\n#gnb.gnb_one .gnb_my_community a, #gnb.gnb_one_small .gnb_my_community a{margin-right: 0 !important;}\\n.gnb_notice_li a.gnb_notice{display:block;width:15px;height:17px;padding:7px 9px 4px;text-decoration:none !important}\\n.gnb_notice_li a.gnb_notice .gnb_ico_num{left:1px;top:0}\\n.gnb_notice_li a.gnb_notice .gnb_icon{display:block;width:15px;height:17px;background-position:-3px -60px}\\n.gnb_notice_li a.gnb_notice:hover .gnb_icon{background-position:-38px -60px;text-decoration:none !important}\\n.gnb_notice_li .gnb_notice_lyr{display:none;position:absolute;top:26px;right:-7px;width:297px;height:330px;padding:9px 4px 4px;background-position:-2px -584px;z-index:10;overflow:hidden}\\n.gnb_notice_li .svc_scroll{height:291px;overflow:scroll;overflow-x:hidden;position:relative;zoom:1}\\n.gnb_notice_li .svc_panel{width:100%;height:330px;overflow:hidden}\\n.gnb_notice_li .svc_head{position:relative;height:36px;padding-left:15px;line-height:20px;border-bottom:1px solid #eaeaea;zoom:1}\\n.gnb_notice_li .svc_head .gnb_tit{color:#6b6d70;margin-right:1px;line-height:36px}\\n.gnb_notice_li .svc_head .task_right{position:absolute;right:8px;top:8px;font-size:0}\\n.gnb_notice_li .svc_head .task_right button{height:20px;padding:0 6px;margin-left:4px;border:1px solid #ddd;color:#888;background-color:#fff;font-family:\\'나눔고딕\\', NanumGothic;font-size:12px;letter-spacing:-1px;line-height:18px;*line-height:16px;overflow:visible}\\n.gnb_notice_li .svc_list .gnb_btn_remove i, .gnb_notice_li .svc_list .gnb_btn_remove span, .gnb_notice_li .svc_noti .gnb_ico_mail, .gnb_notice_li .svc_blank .svc_msg_box, .gnb_notice_li .svc_blank .gnb_v_guide{display:inline-block;*display:inline;*zoom:1}\\n.gnb_notice_li .svc_list{margin-top:-1px}\\n.gnb_notice_li .svc_list li{position:relative;padding:7px 34px 7px 15px;border-top:1px solid #eaeaea;line-height:18px}\\n.gnb_notice_li .svc_list .gnb_new{background:#ffffd8}\\n.gnb_notice_li .svc_list .gnb_unread .gnb_subject{color:#444}\\n.gnb_notice_li .svc_list .gnb_unread .d_cnt{color:#ff630e}\\n.gnb_notice_li .svc_list .gnb_unread a:hover .gnb_subject, .gnb_notice_li .svc_list .gnb_unread .gnb_unread a:hover .d_cnt{color:#390}\\n.gnb_notice_li .svc_list .gnb_unread .svc_name{color:#444}\\n.gnb_notice_li .svc_list a.gnb_list_cover{text-decoration:none !important;display:block;position:relative;zoom:1}\\n.gnb_notice_li .svc_list a:hover .gnb_subject{text-decoration:underline}\\n.gnb_notice_li .svc_list .gnb_subject{overflow:hidden;text-overflow:ellipsis;white-space:nowrap;width:100%;color:#adadad}\\n.gnb_notice_li .svc_list .d_cnt{font-family:tahoma;font-size:10px}\\n.gnb_notice_li .svc_list .gnb_info{color:#adadad}\\n.gnb_notice_li .svc_list .svc_name{margin-right:3px;color:#adadad}\\n.gnb_notice_li .svc_list .cchr{margin-right:3px}\\n.gnb_notice_li .svc_list .dona{position:absolute;top:8px;right:34px;text-decoration:underline}\\n.gnb_notice_li .svc_list .dona a{color:#adadad}\\n.gnb_notice_li .svc_list .dona a:hover{color:#390}\\n.gnb_notice_li .svc_list .gnb_ico_mail{width:14px;height:15px;font-size:0;line-height:0;color:#fff;vertical-align:top}\\n.gnb_notice_li .svc_list .gnb_ico_mail.gnb_yes{background-position:-245px -17px}\\n.gnb_notice_li .svc_list .gnb_ico_mail.gnb_no{background-position:-245px 4px}\\n.gnb_notice_li .svc_list .gnb_btn_remove{position:absolute;right:4px;top:50%;z-index:100;margin-top:-13px;padding:10px;line-height:6px;font-size:0;background:none !important;border:0 !important}\\n.gnb_notice_li .svc_list .gnb_btn_remove span, .gnb_notice_li .svc_list .gnb_btn_remove i{display:block !important;width:7px;height:7px;font-size:0;line-height:0;color:transparent;white-space:nowrap;overflow:hidden;vertical-align:top;background-position:-175px 0}\\n.gnb_notice_li .svc_blank{position:absolute;top:104px;left:0;width:100%;white-space:nowrap;height:100px;font-size:0;text-align:center}\\n.gnb_notice_li .svc_blank .svc_msg_box{white-space:normal;font-size:12px;width:100%}\\n.gnb_notice_li .svc_blank .gnb_tit{display:block;color:#2f3743;font-size:14px;margin:0 0 15px}\\n.gnb_notice_li .svc_blank .gnb_tit strong{font-weight:normal;color:#390}\\n.gnb_notice_li .svc_blank .gnb_desc{line-height:19px;color:#2f3743;margin-bottom:7px}\\n.gnb_notice_li .svc_blank .gnb_desc a, .gnb_notice_li .svc_blank .gnb_link{color:#390;text-decoration:underline}\\n.gnb_notice_li .svc_blank .gnb_v_guide{vertical-align:middle;height:100%;width:0}\\n.gnb_notice_li .svc_blank .gnb_link_wrap{text-align:center}\\n.gnb_notice_li .svc_blank .gnb_link_wrap .gnb_link{display:block;width:40px;margin:0 auto !important;text-align:center}\\n.gnb_notice_li .svc_loading{background:url(https://ssl.pstatic.net/static/www/2014/loading.gif) no-repeat #fff center center;position:absolute;top:33px;left:0;width:100%;height:245px}\\n.gnb_notice_li .gnb_error{position:absolute;top:81px;left:2px;width:100%;color:#444;text-align:center}\\n.gnb_notice_li .gnb_error .gnb_ico_error{display:inline-block;width:57px;height:57px;background-position:-280px -190px}\\n.gnb_notice_li .gnb_error .gnb_tit{font-size:14px;margin:15px 0 11px}\\n.gnb_notice_li .gnb_error .gnb_desc{margin-bottom:13px;line-height:18px}\\n.gnb_notice_li .gnb_error .gnb_link{text-decoration:underline}\\n.gnb_ly_alert{position:absolute;top:110px;left:13px;background-color:#fff;border:1px solid #b7b9bc;width:260px;padding:34px 0 20px;zoom:1;z-index:100}\\n.gnb_ly_alert .gnb_msg{text-align:center;line-height:17px;margin-bottom:14px;color:#2f3743}\\n.gnb_.ly_alert .gnb_btn_close{position:absolute;right:2px;top:0;*overflow:visible}\\n.gnb_ly_alert .gnb_btns{text-align:center}\\n.gnb_ly_alert .gnb_btns button{height:27px;line-height:27px;*line-height:22px;font-weight:bold;font-size:12px;padding:0 8px;color:#2f3743;border:1px solid #ddd;background-color:white}\\n.gnb_ly_alert .gnb_btns button:first-child{margin-right:4px}\\n.gnb_ly_alert .gnb_btn_close{position:absolute;right:2px;top:0;width:35px;border:0;background:none;cursor:pointer;border-radius:0;padding:10px}\\n.gnb_ly_alert .gnb_btn_close i{display:block;width:15px;height:15px;font:0/0 a;color:transparent;white-space:nowrap;overflow:hidden;vertical-align:top;background-position:-240px -60px}\\n.mail_li a.gnb_mail{display:block;width:20px;height:15px;padding:7px 9px 6px;text-decoration:none !important}\\n.mail_li a.gnb_mail .gnb_icon{display:block;width:20px;height:15px;background-position:0px -95px}\\n.mail_li a.gnb_mail:hover .gnb_icon{background-position:-35px -95px;text-decoration:none !important}\\n.mail_li .gnb_ico_num{left:6px;top:0}\\n.gnb_service_li{margin-right:0}\\n.gnb_service_li a.gnb_service{display:block;width:16px;height:16px;padding:7px 9px 5px}\\n.gnb_service_li a.gnb_service .gnb_icon{display:block;width:16px;height:16px;background-position:-2px -130px}\\n.gnb_service_li a.gnb_service:hover .gnb_icon{background-position:-37px -130px;text-decoration:none !important}\\n.gnb_service_li .gnb_service_lyr{display:none;position:absolute;top:27px;right:-7px;z-index:10}\\n.gnb_favorite_search{width:301px;letter-spacing:-1px}\\n.gnb_response .gnb_favorite_search{display:none}\\n.gnb_favorite_area{height:93px;padding:8px 4px 0;background-position:0 0}\\n.gnb_favorite_lstwrp{position:relative;padding:22px 1px 15px 15px;border-bottom:1px solid #ebebeb}\\n.gnb_favorite_lstwrp .gnb_my_interface{top:3px !important;right:3px !important}\\n.gnb_first_visit{position:absolute;top:0;left:0;width:293px;height:92px;background-position:0 -310px;z-index:200}\\n.gnb_first_visit .gnb_close{position:absolute;top:0;right:0;display:block;width:32px;height:32px}\\n.gnb_favorite_lst{zoom:1}\\n.gnb_favorite_lst:after{display:block;clear:both;content:\\'\\'}\\n.gnb_favorite_lst li{float:left;width:65px;text-align:center;white-space:nowrap}\\n.gnb_favorite_lst a{display:inline-block;text-align:center;font-weight:bold}\\n.gnb_favorite_lst .gnb_add a{display:block;test-align:center;}\\n.gnb_favorite_lst .gnb_add a span.ic_add{display:block;width:36px;height:36px;margin:0 auto 4px;background-image: url(https://ssl.pstatic.net/static/common/gnb/one/sp_gnb_4b16e6.png);background-position: 0px 0px;background-repeat: no-repeat;width: 36px;height: 36px;vertical-align: top;}\\n.gnb_favorite_lst .gnb_add a:hover span.ic_add{background-image: url(https://ssl.pstatic.net/static/common/gnb/one/sp_gnb_4b16e6.png);background-position: -42px 0px;background-repeat: no-repeat;width: 36px;height: 36px;vertical-align: top;}\\n.gnb_favorite_lst img{display:block;margin:0 auto 4px;vertical-align:top}\\n.gnb_search_area{position:relative;z-index:200;padding:18px 4px 17px;background-position:-301px 0;background-repeat:repeat-y}\\n.gnb_search_box{position:relative;z-index:101;margin:0 12px 16px 0;padding-left:10px;display:block;width:270px;height:35px;background-position:10px -190px}\\n.gnb_search_box.over{background-position:10px -230px}\\n.gnb_search_box.fcs{background-position:10px -270px}\\n.gnb_search_box.fcs input{width:200px;font-size:16px;font-weight:bold;color:#444;outline:0}\\n.gnb_search_box input{float:left;display:block;width:210px;height:22px;margin-top:6px;padding-left:10px;font-family:\\'나눔고딕\\',NamumGothic;letter-spacing:-1px;color:#adadad;font-size:13px;border:0;line-height:22px;background:transparent}\\n.gnb_search_box .gnb_del_txt{position:absolute;top:8px;right:32px;display:block;width:17px;height:17px;background-position:-190px 0px}\\n.gnb_search_box .gnb_del_txt:hover{background-position:-190px -20px}\\n.gnb_search_box .gnb_pop_input{position:absolute;top:34px;left:10px;width:268px;height:170px;*height:172px;border:1px solid #cbc5c5;border-top:0;background:#fff;overflow-x:hidden;overflow-y:scroll;z-index:110}\\n.gnb_search_box .gnb_pop_lst{padding:4px 0 2px}\\n.gnb_search_box .gnb_pop_lst a{display:block;padding:6px 0 6px 10px;font-weight:bold}\\n.gnb_search_box .gnb_pop_lst .on{background-color:#f5f5f5}\\n.gnb_search_lstwrp{zoom:1;height:118px;padding-left:12px}\\n.gnb_search_lstwrp:after{display:block;clear:both;content:\\'\\'}\\n.gnb_search_lstwrp .gnb_search_lst{float:left;width:69px;border-left:1px solid #eaeaea}\\n.gnb_search_lstwrp .gnb_search_lst.gnb_first{width:64px;border:0}\\n.gnb_search_lstwrp li{padding:12px 0 0 8px}\\n.gnb_search_lstwrp li.gnb_first{font-weight:bold;padding-top:0}\\n.gnb_search_lstwrp li a{display:inline-block;vertical-align:top}\\n.gnb_banner{height:47px;margin:0;padding:0 18px;background-position:-301px 0;background-repeat:repeat-y}\\n.gnb_banner .gnb_service_event{display:inline-block;border-top:1px solid #ebebeb}\\n.gnb_linkwrp{padding:0 4px 4px;background-position:-602px 0}\\na.gnb_service_all:hover, a.gnb_service_all:visited, a.gnb_service_all:active, a.gnb_service_all:focus{text-decoration:none}\\n.gnb_svc_more{display:none;position:absolute;top:4px;right:303px;width:589px;overflow:hidden;zoom:1;z-index:1000}\\n.gnb_svc_more:after{display:block;clear:both;content:\\'\\'}\\n.gnb_response .gnb_svc_more{right:2px}\\n.gnb_bg_top{height:6px;background:url(https://ssl.pstatic.net/static/common/gnb/2014/bg_svclyr1_v2.png) no-repeat}\\n.gnb_bg_btm{position:relative;height:6px;background:url(https://ssl.pstatic.net/static/common/gnb/2014/bg_svclyr1_v2.png) no-repeat -1282px 0}\\n.gnb_svc_more .gnb_svc_hd{position:relative;padding:0 18px 2px 23px;letter-spacing:-1px;background:url(https://ssl.pstatic.net/static/common/gnb/2014/bg_svclyr1_v2.png) repeat-y -641px 0}\\n.gnb_svc_more .gnb_svc_hd .gnb_svc_tit{display:block;padding:12px 0 13px;border-bottom:1px solid #ebebeb;font-size:14px;color:#222}\\n.gnb_svc_more .gnb_svc_hd .link{position:absolute;top:14px;right:19px;font-size:12px;color:#444}\\n.gnb_svc_more .gnb_svc_hd .link a{color:#444 !important;line-height:16px !important}\\n.gnb_svc_more .gnb_svc_lstwrp{position:relative;height:283px;overflow:hidden;padding:15px 15px 0 20px;letter-spacing:-1px;background:url(https://ssl.pstatic.net/static/common/gnb/2014/bg_svclyr1_v2.png) repeat-y -641px 0;zoom:1}\\n.gnb_svc_more .gnb_svc_lstwrp:after{display:block;clear:both;content:\\'\\'}\\n.gnb_svc_more .gnb_svc_lstwrp li{height:15px;margin-bottom:5px;color:#6b6d70;white-space:nowrap;line-height:15px}\\n.gnb_svc_more .gnb_svc_lstwrp li.gnb_event label{color:#444;font-weight:bold}\\n.gnb_svc_more .gnb_svc_lstwrp li.gnb_event em.ic_gnb_new{display:inline-block;width:11px;height:11px;background-position:-215px 0px;margin:2px 0 0 4px;font-size:0;line-height:0;vertical-align:top}\\n@media screen and (min-width: 0\\\\0) { .gnb_svc_more .gnb_svc_lstwrp li.gnb_event em.ic{margin-top:3px} }\\n.gnb_svc_more .gnb_svc_lstwrp .gnb_input_check{width:13px;height:13px;margin:2px 3px 0 3px;padding:0;vertical-align:top;-webkit-appearance:checkbox;}\\n.gnb_svc_more .gnb_svc_lstwrp label{vertical-align:0px}\\n.gnb_svc_more .gnb_svc_lstwrp .gnb_disabled strong{color:#a8acb0}\\n.gnb_svc_more .gnb_svc_lstwrp .gnb_disabled li{color:#cbcbcb}\\n.gnb_svc_more .gnb_svc_lst1{float:left;width:328px;height:280px}\\n.gnb_svc_more .gnb_svc_lst1 ul{float:left;width:102px;min-height:260px;padding:5px 0 0 10px;border-left:1px solid #eee}\\n.gnb_svc_more .gnb_svc_lst1 ul.gnb_first{padding-left:0;border:0}\\n.gnb_svc_more .svc_lst2{float:left;position:relative;width:221px;border:1px solid #eee;background:#fbfbfb;zoom:1}\\n.gnb_svc_more .svc_lst2:after{display:block;clear:both;content:\\'\\'}\\n.gnb_svc_more .svc_spc{float:left;position:relative;width:100px;min-height:254px;padding:9px 0 0 10px}\\n.gnb_svc_more .svc_spc.gnb_first{border-right:1px solid #eee}\\n.gnb_svc_more .svc_spc strong{height:20px;color:#2f3743;line-height:16px}\\n.gnb_svc_more .svc_spc a:visited{color:#2f3743}\\n.gnb_svc_more .svc_spc ul{padding:8px 0}\\n.gnb_svc_more .svc_spc li{margin-bottom:0;padding-bottom:5px;color:#848689}\\n.gnb_svc_more .svc_stroy{width:89px;margin-top:-5px;padding:12px 0 0;border-top:1px solid #eee}\\n.gnb_svc_more .svc_btns{position:relative;height:33px;overflow:hidden;padding-top:5px;line-height:normal}\\n.gnb_svc_more .svc_btnwrp{position:relative;*height:39px;background:url(https://ssl.pstatic.net/static/common/gnb/2014/bg_svclyr1_v2.png) repeat-y -641px 0;padding:0 2px 0 4px}\\n.gnb_svc_more .svc_btnwrp button{display:inline-block;width:60px;height:25px;border:0;vertical-align:top}\\n.gnb_svc_more .svc_btnwrp .gnb_save{background-position:0 -160px}\\n.gnb_svc_more .svc_btnwrp .gnb_close{margin-left:1px;background-position:-65px -160px}\\n.gnb_svc_more .svc_btnwrp .gnb_return{position:absolute;top:5px;left:15px;background-position:-130px -160px}\\n.gnb_type2 .gnb_notice_li a.gnb_notice .gnb_icon{background-position:-155px -120px}\\n.gnb_type2 .gnb_notice_li a.gnb_notice:hover .gnb_icon{background-position:-155px -140px}\\n.gnb_type2 .gnb_service_li .gnb_service .gnb_icon{background-position:-200px -120px}\\n.gnb_type2 .gnb_service_li .gnb_service:hover .gnb_icon{background-position:-200px -140px}\\n.gnb_type2 .mail_li a.gnb_mail .gnb_icon{background-position:-175px -120px}\\n.gnb_type2 .mail_li a.gnb_mail:hover .gnb_icon{background-position:-175px -140px}\\n.gnb_dark .gnb_my_li .gnb_my .gnb_name, .gnb_dark .gnb_login_li .gnb_btn_login .gnb_txt{color:#fff}\\n.gnb_dark .gnb_notice_li a.gnb_notice .gnb_icon{background-position:-220px -140px}\\n.gnb_dark .gnb_notice_li a.gnb_notice:hover .gnb_icon{background-position:-220px -120px}\\n.gnb_dark .mail_li a.gnb_mail .gnb_icon{background-position:-238px -141px}\\n.gnb_dark .mail_li a.gnb_mail:hover .gnb_icon{background-position:-238px -121px}\\n.gnb_dark .gnb_service_li .gnb_service .gnb_icon{background-position:-261px -140px}\\n.gnb_dark .gnb_service_li .gnb_service:hover .gnb_icon{background-position:-261px -120px}\\n.gnb_dark_type2 .gnb_my_li .gnb_my .gnb_name, .gnb_dark_type2 .gnb_login_li .gnb_btn_login .gnb_txt{color:#fff}\\n.gnb_dark_type2 .gnb_notice_li a.gnb_notice .gnb_icon{background-position:-220px -120px}\\n.gnb_dark_type2 .gnb_notice_li a.gnb_notice:hover .gnb_icon{background-position:-220px -140px}\\n.gnb_dark_type2 .mail_li a.gnb_mail .gnb_icon{background-position:-238px -121px}\\n.gnb_dark_type2 .mail_li a.gnb_mail:hover .gnb_icon{background-position:-238px -141px}\\n.gnb_dark_type2 .gnb_service_li .gnb_service .gnb_icon{background-position:-261px -120px}\\n.gnb_dark_type2 .gnb_service_li .gnb_service:hover .gnb_icon{background-position:-261px -140px;}\\n.gnb_dark .gnb_notice_li a.gnb_notice, .gnb_dark_type2 .gnb_notice_li a.gnb_notice {width: 17px;height: 19px;padding: 6px 8px 3px;}\\n.gnb_dark .gnb_notice_li a.gnb_notice .gnb_icon, .gnb_dark_type2 .gnb_notice_li a.gnb_notice .gnb_icon {width: 17px;height: 19px;}\\n.gnb_dark .mail_li a.gnb_mail, .gnb_dark_type2 .mail_li a.gnb_mail {width: 22px;height: 16px;padding: 7px 8px 4px;}\\n.gnb_dark .mail_li a.gnb_mail .gnb_icon, .gnb_dark_type2 .mail_li a.gnb_mail .gnb_icon {width: 22px;height: 16px;}\\n.gnb_dark .gnb_service_li a.gnb_service, .gnb_dark_type2 .gnb_service_li a.gnb_service {width: 18px;height: 18px;padding: 6px 8px 4px;}\\n.gnb_dark .gnb_service_li .gnb_service .gnb_icon, .gnb_dark_type2 .gnb_service_li .gnb_service .gnb_icon {width: 18px;height: 18px;}\\n#gnb.gnb_one .gnb_my_li .gnb_my .gnb_name, #gnb.gnb_one_small .gnb_my_li .gnb_my .gnb_name, #gnb.gnb_one .gnb_login_li .gnb_btn_login .gnb_txt, #gnb.gnb_one_small .gnb_login_li .gnb_btn_login .gnb_txt{color:#fff}\\n#gnb.gnb_one .gnb_login_li, #gnb.gnb_one_small .gnb_login_li {height: 28px;}\\n#gnb.gnb_one .gnb_login_li .gnb_btn_login, #gnb.gnb_one_small .gnb_login_li .gnb_btn_login, #gnb.gnb_one .gnb_login_li .gnb_bg, #gnb.gnb_one_small .gnb_login_li .gnb_bg, #gnb.gnb_one .gnb_login_li .gnb_bdr, #gnb.gnb_one_small .gnb_login_li .gnb_bdr, #gnb.gnb_one .gnb_login_li .gnb_txt, #gnb.gnb_one_small .gnb_login_li .gnb_txt {width: 53px;height: 23px;}\\n#gnb.gnb_one .gnb_login_li .gnb_btn_login .gnb_txt, #gnb.gnb_one_small .gnb_login_li .gnb_btn_login .gnb_txt {top: -1px;width: 53px;height: 23px;line-height: 28px;font-size: 11px;}\\n#gnb.gnb_one .gnb_login_li, #gnb.gnb_one_small .gnb_login_li, #gnb.gnb_one .gnb_my_li, #gnb.gnb_one_small .gnb_my_li, #gnb.gnb_one .gnb_notice_li, #gnb.gnb_one_small .gnb_notice_li, #gnb.gnb_one .mail_li, #gnb.gnb_one_small .mail_li, #gnb.gnb_one .gnb_service_li, #gnb.gnb_one_small .gnb_service_li{margin-right: 0;margin-left: 0; background: url(https://ssl.pstatic.net/static/common/gnb/bg_one_line.png) repeat-y right 0;}\\n#gnb.gnb_one .gnb_login_li a, #gnb.gnb_one_small .gnb_login_li a, #gnb.gnb_one .gnb_my_li a, #gnb.gnb_one_small .gnb_my_li a, #gnb.gnb_one .gnb_notice_li a, #gnb.gnb_one_small .gnb_notice_li a, #gnb.gnb_one .mail_li a, #gnb.gnb_one_small .mail_li a, #gnb.gnb_one .gnb_service_li a, #gnb.gnb_one_small .gnb_service_li a {margin-right: 1px;}\\n#gnb.gnb_one .gnb_login_li.hover .gnb_service, #gnb.gnb_one_small .gnb_login_li.hover .gnb_service, #gnb.gnb_one .gnb_login_li.hover .gnb_notice, #gnb.gnb_one_small .gnb_login_li.hover .gnb_notice, #gnb.gnb_one .gnb_login_li.hover .gnb_mail, #gnb.gnb_one_small .gnb_login_li.hover .gnb_mail, #gnb.gnb_one .gnb_login_li.hover .gnb_service, #gnb.gnb_one_small .gnb_login_li.hover .gnb_service, #gnb.gnb_one .gnb_my_li.hover .gnb_service, #gnb.gnb_one_small .gnb_my_li.hover .gnb_service, #gnb.gnb_one .gnb_my_li.hover .gnb_notice, #gnb.gnb_one_small .gnb_my_li.hover .gnb_notice, #gnb.gnb_one .gnb_my_li.hover .gnb_mail, #gnb.gnb_one_small .gnb_my_li.hover .gnb_mail, #gnb.gnb_one .gnb_my_li.hover .gnb_service, #gnb.gnb_one_small .gnb_my_li.hover .gnb_service, #gnb.gnb_one .gnb_notice_li.hover .gnb_service, #gnb.gnb_one_small .gnb_notice_li.hover .gnb_service, #gnb.gnb_one .gnb_notice_li.hover .gnb_notice, #gnb.gnb_one_small .gnb_notice_li.hover .gnb_notice, #gnb.gnb_one .gnb_notice_li.hover .gnb_mail, #gnb.gnb_one_small .gnb_notice_li.hover .gnb_mail, #gnb.gnb_one .gnb_notice_li.hover .gnb_service, #gnb.gnb_one_small .gnb_notice_li.hover .gnb_service, #gnb.gnb_one .mail_li.hover .gnb_service, #gnb.gnb_one_small .mail_li.hover .gnb_service, #gnb.gnb_one .mail_li.hover .gnb_notice, #gnb.gnb_one_small .mail_li.hover .gnb_notice, #gnb.gnb_one .mail_li.hover .gnb_mail, #gnb.gnb_one_small .mail_li.hover .gnb_mail, #gnb.gnb_one .mail_li.hover .gnb_service, #gnb.gnb_one_small .mail_li.hover .gnb_service, #gnb.gnb_one .gnb_service_li.hover .gnb_service, #gnb.gnb_one_small .gnb_service_li.hover .gnb_service, #gnb.gnb_one .gnb_service_li.hover .gnb_notice, #gnb.gnb_one_small .gnb_service_li.hover .gnb_notice, #gnb.gnb_one .gnb_service_li.hover .gnb_mail, #gnb.gnb_one_small .gnb_service_li.hover .gnb_mail, #gnb.gnb_one .gnb_service_li.hover .gnb_service, #gnb.gnb_one_small .gnb_service_li.hover .gnb_service {background: url(https://ssl.pstatic.net/static/common/gnb/bg_one_hover.png) repeat 0 0;}\\n#gnb.gnb_one .gnb_my_li .gnb_my .gnb_name, #gnb.gnb_one_small .gnb_my_li .gnb_my .gnb_name{margin:0 0 0 1px;}\\n#gnb.gnb_one .gnb_notice_li a.gnb_notice, #gnb.gnb_one_small .gnb_notice_li a.gnb_notice{width:17px;height:19px}\\n#gnb.gnb_one .gnb_notice_li a.gnb_notice .gnb_icon, #gnb.gnb_one_small .gnb_notice_li a.gnb_notice .gnb_icon{width:17px;height:19px;background-position:-284px -119px}\\n#gnb.gnb_one .gnb_notice_li a.gnb_notice:hover .gnb_icon, #gnb.gnb_one_small .gnb_notice_li a.gnb_notice:hover .gnb_icon{background-position:-284px -119px}\\n#gnb.gnb_one .mail_li a.gnb_mail, #gnb.gnb_one_small .mail_li a.gnb_mail{width:21px;height:17px}\\n#gnb.gnb_one .mail_li a.gnb_mail .gnb_icon, #gnb.gnb_one_small .mail_li a.gnb_mail .gnb_icon{width:21px;height:17px;background-position:-302px -120px}\\n#gnb.gnb_one .mail_li a.gnb_mail:hover .gnb_icon, #gnb.gnb_one_small .mail_li a.gnb_mail:hover .gnb_icon{background-position:-302px -120px}\\n#gnb.gnb_one .gnb_service_li .gnb_service, #gnb.gnb_one_small .gnb_service_li .gnb_service{width:17px;height:17px}\\n#gnb.gnb_one .gnb_service_li .gnb_service .gnb_icon, #gnb.gnb_one_small .gnb_service_li .gnb_service .gnb_icon{width:17px;height:17px;background-position:-324px -120px}\\n#gnb.gnb_one .gnb_service_li .gnb_service:hover .gnb_icon, #gnb.gnb_one_small .gnb_service_li .gnb_service:hover .gnb_icon{background-position:-324px -120px}\\n#gnb.gnb_one .gnb_my_lyr, #gnb.gnb_one_small .gnb_my_lyr, #gnb.gnb_one .gnb_notice_lyr, #gnb.gnb_one_small .gnb_notice_lyr, #gnb.gnb_one .gnb_service_lyr, #gnb.gnb_one_small .gnb_service_lyr {right: 7px;}\\n#gnb.gnb_one .gnb_ico_num, #gnb.gnb_one_small .gnb_ico_num{width:34px;top:10px;right:3px;left:auto;vertical-align:top}\\n#gnb.gnb_one .gnb_ico_num .gnb_ico_new, #gnb.gnb_one_small .gnb_ico_num .gnb_ico_new{vertical-align:top;height:13px;background-position:-332px -60px;}\\n#gnb.gnb_one .gnb_ico_num .gnb_count, #gnb.gnb_one_small .gnb_ico_num .gnb_count {height: 13px;padding: 0 6px 0 2px;background-position: 100% -60px;font-size: 10px;font-weight: normal;}\\n#gnb.gnb_one .gnb_ico_num .plus, #gnb.gnb_one_small .gnb_ico_num .plus{margin:1px 0 0 2px}\\n#gnb.gnb_one .ico_arrow{top:48px}\\n#gnb.gnb_one .gnb_my_lyr, #gnb.gnb_one .gnb_notice_lyr{top:47px}\\n#gnb.gnb_one .gnb_service_lyr{top:48px;}\\n#gnb.gnb_one .gnb_login_li{padding:16px 21px 10px 1px;}\\n#gnb.gnb_one .gnb_my_li{padding:12px 20px 12px 2px}\\n#gnb.gnb_one .gnb_my_li .ico_arrow{top:34px}\\n#gnb.gnb_one .gnb_notice_li a.gnb_notice{padding:18px 19px 17px 19px}\\n#gnb.gnb_one .mail_li a.gnb_mail{padding:19px 17px 18px 17px}\\n#gnb.gnb_one .gnb_service_li .gnb_service{padding:19px 19px 18px 19px}\\n#gnb.gnb_one_small .ico_arrow{top:33px}\\n#gnb.gnb_one_small .gnb_my_lyr, #gnb.gnb_one_small .gnb_notice_lyr{top:32px}\\n#gnb.gnb_one_small .gnb_service_lyr{top:33px}\\n#gnb.gnb_one_small .gnb_login_li{padding:7px 12px 4px 2px}\\n#gnb.gnb_one_small .gnb_my_li{padding:5px 20px 4px 2px}\\n#gnb.gnb_one_small .gnb_my_li .ico_arrow{top:27px}\\n#gnb.gnb_one_small .gnb_notice_li a.gnb_notice{padding:10px 11px 10px 12px}\\n#gnb.gnb_one_small .mail_li a.gnb_mail{padding:11px 10px 11px 9px}\\n#gnb.gnb_one_small .gnb_service_li .gnb_service{padding:11px 12px 11px 11px}\\n#gnb.gnb_one_small .gnb_ico_num{top:5px;right:6px;width:24px}\\n#gnb.gnb_one_flat .gnb_login_li,\\n#gnb.gnb_one_flat .gnb_my_li,\\n#gnb.gnb_one_flat .gnb_notice_li,\\n#gnb.gnb_one_flat .mail_li,\\n#gnb.gnb_one_flat .gnb_service_li {border-color: #e0e0e0;}\\n#gnb.gnb_one_flat .gnb_notice_li.hover,\\n#gnb.gnb_one_flat .mail_li.hover,\\n#gnb.gnb_one_flat .gnb_service_li.hover {background-color: rgba(0, 0, 0, 0.04);}\\n#gnb.gnb_one_flat .gnb_service_li .gnb_service .gnb_icon,\\n#gnb.gnb_one_flat .gnb_service_li .gnb_service:hover .gnb_icon {background-image: url(https://ssl.pstatic.net/static/common/gnb/one/sp_gnb_4b16e6.png);background-position: -84px -24px;background-repeat: no-repeat; width: 16px;height: 16px;vertical-align: top; margin: 0 1px;}\\n#gnb.gnb_one_flat .mail_li a.gnb_mail .gnb_icon,\\n#gnb.gnb_one_flat .mail_li a.gnb_mail:hover .gnb_icon {background-image: url(https://ssl.pstatic.net/static/common/gnb/one/sp_gnb_4b16e6.png);background-position: 0px -42px;background-repeat: no-repeat;width: 20px;height: 16px;vertical-align: top;margin: 0 1px;}\\n#gnb.gnb_one_flat .gnb_notice_li a.gnb_notice .gnb_icon,\\n#gnb.gnb_one_flat .gnb_notice_li a.gnb_notice:hover .gnb_icon {background-image: url(https://ssl.pstatic.net/static/common/gnb/one/sp_gnb_4b16e6.png);background-position: -84px 0px;background-repeat: no-repeat;width: 16px;height: 18px;vertical-align: top;margin: 0 1px;}\\n#gnb.gnb_one_flat .gnb_my_li .gnb_my .gnb_name,\\n#gnb.gnb_one_flat .gnb_login_li .gnb_btn_login .gnb_txt {color: #666;}</style><script src=\"https://ssl.pstatic.net/static.gn/js/clickcrD.js\" id=\"gnb_clickcrD\" charset=\"utf-8\"></script><script src=\"https://ssl.pstatic.net/static.gn/js/clickcrD.js\" id=\"gnb_clickcrD\" charset=\"utf-8\"></script></head><body><div id=\"__next\"><div class=\"flights List domestic_DomesticFlight__3wvCd\"><div class=\"container\"><div class=\"layout_large__2AaMz\"><header class=\"header\"><div data-service=\"flight\" class=\"jsx-3225227944 header\"><nav class=\"jsx-3225227944 top\"><div class=\"jsx-3225227944 inner\"><a href=\"https://www.naver.com/\" class=\"jsx-3225227944 naver\"><span class=\"jsx-3225227944 label\">Naver</span></a><a href=\"https://flight.naver.com\" class=\"jsx-3225227944 home\"><span class=\"jsx-3225227944 label\">여행상품</span></a><a href=\"https://travel.naver.com\" class=\"jsx-3225227944 service\"><span class=\"jsx-3225227944 label\">여행정보</span></a><div class=\"jsx-3225227944 sub\"><a href=\"https://nid.naver.com/nidlogin.login?svctype=262144&amp;url=https://flight.naver.com/flights/domestic/SEL-CJU-20220812%3Fadult%3D1%26fareType%3DYC%26popup%3Dopen\" data-service=\"flight\" class=\"jsx-736559874 login\">로그인<span class=\"jsx-736559874 hide_mo\"> 후 등급확인</span></a><a href=\"https://voyage.naver.com/voyage/mypage/flight\" class=\"jsx-3225227944 mypage\"><span class=\"jsx-3225227944 label\">마이페이지</span></a><div class=\"jsx-3225227944 naver_gnb\"><div id=\"gnb\" class=\"gnb_one\"><strong class=\"blind\">사용자 링크</strong><ul class=\"gnb_lst\" id=\"gnb_lst\" style=\"display: block;\"><li class=\"gnb_login_li\" id=\"gnb_login_layer\" style=\"display: inline-block;\"><a class=\"gnb_btn_login\" href=\"https://nid.naver.com/nidlogin.login\" id=\"gnb_login_button\"><span class=\"gnb_bg\"></span><span class=\"gnb_bdr\"></span><span class=\"gnb_txt\">로그인</span></a></li><li class=\"gnb_my_li\" id=\"gnb_my_layer\" style=\"display:none\"><div class=\"gnb_my_namebox\" id=\"gnb_my_namebox\" style=\"background-image: url(&quot;https://ssl.pstatic.net/static/common/gnb/2014/ico_arrow_wh.gif&quot;);\"><a href=\"javascript:;\" class=\"gnb_my\" onclick=\"gnbUserLayer.clickToggle(); return false;\"><img id=\"gnb_profile_img\" src=\"data:image/gif;base64,R0lGODlhAQABAAD/ACwAAAAAAQABAAACADs%3D\" onerror=\"this.src=\\'data:image/png;base64,iVBORw0KGgoAAAANSUhEUgAAAFAAAABQCAMAAAC5zwKfAAAAGXRFWHRTb2Z0d2FyZQBBZG9iZSBJbWFnZVJlYWR5ccllPAAAADNQTFRF8PDw5ubm+vr6+/v76enp+Pj47e3t5+fn9/f37Ozs9PT08vLy7+/v6urq9fX15OTk/f39pqwodgAAAQNJREFUeNrs11EOgyAMgOEWUAF19f6n3cMeplJHoSZbsv4H+DIWaCNsNwcGGmiggQZ+D/Q5reuasr8H9ID0CsHfALpA74JTgwPSPnRK0Ac6FrwOXOjcogIdlTkNuDDgogGRAVEBDsQ19IMzC879ILAgGNgAZhbMP3RttonxJs1Lgea/sDYcyreHXjW+oPUHVid2MWC1K+A0sqsDW7CksGmlCNZoFt9pIfjYgY8bwMMexUENQuOtqYCxfHtT7AddYodDcp0gIPEh9IBxous+nBuaTis4Nw/OSLVwloN+JEmjGJR5FyIDRpIWZeAoBkcZGMRgkIEkz0D7GjXQQAMN/GvwKcAAEGGHJh0mmaAAAAAASUVORK5CYII=\\'\" width=\"26\" height=\"26\" alt=\"내 프로필 이미지\"><span id=\"gnb_profile_filter_mask\" class=\"filter_mask\"></span> <span class=\"gnb_name\" id=\"gnb_name1\"></span><em class=\"blind\">내정보 보기</em><span class=\"ico_arrow\"></span></a><a href=\"#\" class=\"gnb_emp\" id=\"gnb_emp\">(임직원혜택)</a></div><div class=\"gnb_my_lyr\" id=\"gnb_my_lyr\"><div class=\"gnb_my_content\"><div class=\"gnb_img_area\"><span class=\"gnb_mask\"></span><img src=\"data:image/gif;base64,R0lGODlhAQABAAD/ACwAAAAAAQABAAACADs%3D\" onerror=\"this.src=\\'data:image/png;base64,iVBORw0KGgoAAAANSUhEUgAAAFAAAABQCAMAAAC5zwKfAAAAGXRFWHRTb2Z0d2FyZQBBZG9iZSBJbWFnZVJlYWR5ccllPAAAADNQTFRF8PDw5ubm+vr6+/v76enp+Pj47e3t5+fn9/f37Ozs9PT08vLy7+/v6urq9fX15OTk/f39pqwodgAAAQNJREFUeNrs11EOgyAMgOEWUAF19f6n3cMeplJHoSZbsv4H+DIWaCNsNwcGGmiggQZ+D/Q5reuasr8H9ID0CsHfALpA74JTgwPSPnRK0Ac6FrwOXOjcogIdlTkNuDDgogGRAVEBDsQ19IMzC879ILAgGNgAZhbMP3RttonxJs1Lgea/sDYcyreHXjW+oPUHVid2MWC1K+A0sqsDW7CksGmlCNZoFt9pIfjYgY8bwMMexUENQuOtqYCxfHtT7AddYodDcp0gIPEh9IBxous+nBuaTis4Nw/OSLVwloN+JEmjGJR5FyIDRpIWZeAoBkcZGMRgkIEkz0D7GjXQQAMN/GvwKcAAEGGHJh0mmaAAAAAASUVORK5CYII=\\'\" width=\"80\" height=\"80\" alt=\"프로필 이미지\"><a href=\"https://nid.naver.com/user2/api/naverProfile?m=checkIdType\" class=\"gnb_change\"><span class=\"blind\">프로필 사진 변경</span></a></div><div class=\"gnb_txt_area\"><p class=\"gnb_account\"><span class=\"gnb_name\" id=\"gnb_name2\"><a class=\"gnb_nick\" href=\"https://nid.naver.com/user2/api/naverProfile?m=checkIdType\">_</a>님</span><a class=\"gnb_btn_login\" href=\"https://nid.naver.com/nidlogin.logout\" id=\"gnb_logout_button\"><span class=\"gnb_bg\"></span><span class=\"gnb_bdr\"></span><span class=\"gnb_txt\">로그아웃</span></a></p><a href=\"https://mail.naver.com\" class=\"gnb_mail_address\">@naver.com</a><ul class=\"gnb_edit_lst\"><li class=\"gnb_info\"><a href=\"https://nid.naver.com/user2/help/myInfo?menu=home\">네이버ID</a></li><li class=\"gnb_secure\" id=\"gnb_secure_lnk\"><a href=\"https://nid.naver.com/user2/help/myInfo?m=viewSecurity&amp;menu=security\">보안설정</a></li><li class=\"gnb_cert\" id=\"gnb_cert_lnk\"><a href=\"https://nid.naver.com/user2/eSign/v1/home/land\">내인증서</a></li></ul><div class=\"gnb_pay_check\" id=\"gnb_pay_check\"><p class=\"gnb_membership\" style=\"display: none;\" id=\"gnb_membership\"><a href=\"https://nid.naver.com/membership/my\" class=\"gnb_my_membership\"><i class=\"blind\">네이버 멤버쉽</i></a></p><em>N Pay</em><a href=\"https://pay.naver.com\" id=\"gnb_pay_point\"><span style=\"display: none\">내 페이포인트</span></a></div></div></div><div class=\"gnb_my_community\"><a href=\"https://blog.naver.com/MyBlog.naver\" class=\"gnb_blog\">내 블로그</a><a href=\"https://section.cafe.naver.com\" class=\"gnb_cafe\">가입한 카페</a><a href=\"https://pay.naver.com\" class=\"gnb_pay\"><span>N Pay</span></a></div><a href=\"#\" class=\"gnb_my_interface\" style=\"display:none\"><span class=\"blind\">환경설정</span></a></div><iframe id=\"gnb_my_lyr_iframe\" title=\"빈 프레임\" class=\"gnb_pad_lyr\" name=\"padding\" width=\"0\" height=\"0\" scrolling=\"no\" frameborder=\"0\" style=\"top: 55px; right: 10px; width: 320px; height: 158px; display: none; opacity: 0;\"></iframe></li><li class=\"gnb_notice_li\" id=\"gnb_notice_layer\" style=\"display:none\"><a href=\"javascript:;\" class=\"gnb_notice\" onclick=\"gnbNaverMeLayer.clickToggle(); return false;\"><span class=\"blind\">알림</span><span class=\"gnb_icon\"></span><em class=\"gnb_ico_num\" id=\"gnb_me_menu\" style=\"display:none\"><span class=\"gnb_ico_new\"><span class=\"gnb_count\" id=\"gnb_me_count\"></span></span></em><span class=\"ico_arrow\"></span></a><div class=\"gnb_notice_lyr\" id=\"gnb_notice_lyr\"><div class=\"svc_noti svc_panel\"><div class=\"svc_scroll\"><div class=\"svc_head\"><strong class=\"gnb_tit\">전체 알림</strong><div class=\"task_right\"><button onclick=\"gnbNaverMeLayer.deleteReadList(this, event);\" id=\"gnb_btn_read_noti_del\">읽은 알림 삭제</button><button onclick=\"gnbNaverMeLayer.showDeleteAlert();\" id=\"gnb_btn_all_noti_del\">모두 삭제</button></div></div><div class=\"svc_body\" id=\"gnb_naverme_layer\"></div></div><div class=\"gnb_ly_alert\" id=\"gnb_ly_alert\" style=\"display: none;\"><p class=\"gnb_msg\"><strong>알림을 모두 삭제하시겠습니까?</strong></p><div class=\"gnb_btns\"><button id=\"ly_alert_confirm\" onclick=\"gnbNaverMeLayer.deleteAllList(this, event);\">확인</button><button onclick=\"gnbNaverMeLayer.hideDeleteAlert();\">취소</button></div><button class=\"gnb_btn_close\" onclick=\"gnbNaverMeLayer.hideDeleteAlert();\"><i>레이어 닫기</i></button></div><a href=\"https://noti.naver.com/index.nhn\" class=\"gnb_notice_all\">내 알림 전체보기</a></div></div><iframe id=\"gnb_notice_lyr_iframe\" title=\"빈 프레임\" class=\"gnb_pad_lyr\" name=\"padding\" width=\"0\" height=\"0\" scrolling=\"no\" frameborder=\"0\" style=\"top: 55px; right: 10px; width: 299px; height: 332px; display: none; opacity: 0;\"></iframe></li><li class=\"mail_li\" id=\"gnb_mail_layer\" style=\"display:none\"><a href=\"https://mail.naver.com\" class=\"gnb_mail\"><span class=\"blind\">메일</span><span class=\"gnb_icon\"></span><em class=\"gnb_ico_num\" id=\"gnb_mail_menu\" style=\"display:none\"><span class=\"gnb_ico_new\"><span class=\"gnb_count\" id=\"gnb_mail_count\"></span></span></em></a></li><li class=\"gnb_service_li\" id=\"gnb_service_layer\" style=\"display: inline-block;\"><a href=\"javascript:;\" class=\"gnb_service\" onclick=\"gnbMoreLayer.clickToggle(); return false;\"><span class=\"blind\">서비스 더보기</span><span class=\"gnb_icon\"></span><span class=\"ico_arrow\"></span></a><div class=\"gnb_service_lyr\" id=\"gnb_service_lyr\"><div class=\"gnb_favorite_search\" id=\"gnb_favorite_search\"><div class=\"gnb_favorite_area\"><div class=\"gnb_favorite_lstwrp\"><div class=\"gnb_first_visit\" style=\"display:none\"><span class=\"blind\">나만의 즐겨찾기를 추가해 보세요!</span><a href=\"#\" class=\"gnb_close\"><span class=\"blind\">닫기</span></a></div><strong class=\"blind\">즐겨찾는 서비스</strong><ul class=\"gnb_favorite_lst\" id=\"gnb_favorite_lst\"><li class=\"gnb_add\"><a href=\"#\"><span class=\"ic_add\"></span>추가</a></li><li class=\"gnb_add\"><a href=\"#\"><span class=\"ic_add\"></span>추가</a></li><li class=\"gnb_add\"><a href=\"#\"><span class=\"ic_add\"></span>추가</a></li><li class=\"gnb_add\"><a href=\"#\"><span class=\"ic_add\"></span>추가</a></li></ul><a href=\"#\" class=\"gnb_my_interface\" onclick=\"gnbMoreLayer.clickToggleWhole(); return false;\"><span class=\"blind\">즐겨찾기 설정</span></a></div></div><div class=\"gnb_search_area\"><div class=\"gnb_search_box\" onmouseover=\"gnb_search.mouseOver(this);\" onmouseout=\"gnb_search.mouseOut(this);\"><input id=\"gnb_svc_search_input\" type=\"text\" title=\"서비스 검색\" value=\"더 많은 서비스를 간편하게 시작하세요!\" onfocus=\"gnb_search.clearInput(this);\" onblur=\"gnb_search.resetInput(this);\" onkeydown=\"gnb_search.keyDown(event);\" onkeyup=\"gnb_search.keyUp(event);\"><a href=\"#\" class=\"gnb_del_txt\" id=\"gnb_del_txt\" style=\"display:none\"><span class=\"blind\">삭제</span></a><div class=\"gnb_pop_input\" id=\"gnb_pop_input\" tabindex=\"0\" onfocus=\"gnb_search.searchPopOnMouse = true; return false;\" onfocusout=\"gnb_search.searchPopOnMouse = false; return false;\" onmouseover=\"gnb_search.searchPopOnMouse = true; return false;\" onmouseout=\"gnb_search.searchPopOnMouse = false; return false;\" style=\"display:none\"><ul class=\"gnb_pop_lst\"></ul></div></div><div id=\"gnb_search_lstwrp\" class=\"gnb_search_lstwrp\"><ul class=\"gnb_search_lst gnb_first\"><li class=\"gnb_first\"><a id=\"gnb_search_lst_first_item\" href=\"https://cafe.naver.com/\">카페</a></li><li><a href=\"https://news.naver.com/\">뉴스</a></li><li><a href=\"https://map.naver.com/\">지도</a></li><li><a href=\"https://sports.news.naver.com/\">스포츠</a></li><li><a href=\"https://game.naver.com/\">게임</a></li></ul><ul class=\"gnb_search_lst\"><li class=\"gnb_first\"><a href=\"https://section.blog.naver.com/\">블로그</a></li><li><a href=\"https://post.naver.com/main.nhn\">포스트</a></li><li><a href=\"https://dict.naver.com/\">사전</a></li><li><a href=\"https://kin.naver.com/\">지식iN</a></li><li><a href=\"https://weather.naver.com/\">날씨</a></li></ul><ul class=\"gnb_search_lst\"><li class=\"gnb_first\"><a href=\"https://mail.naver.com/\">메일</a></li><li><a href=\"https://stock.naver.com/\">증권</a></li><li><a href=\"https://land.naver.com/\">부동산</a></li><li><a href=\"https://vibe.naver.com/today/\">VIBE</a></li><li><a href=\"https://book.naver.com\">책</a></li></ul><ul class=\"gnb_search_lst\"><li class=\"gnb_first\"><a href=\"https://shopping.naver.com/\">쇼핑</a></li><li><a href=\"https://comic.naver.com/\">웹툰</a></li><li><a href=\"https://movie.naver.com/\">영화</a></li><li><a href=\"https://mybox.naver.com/\">MYBOX</a></li><li><a href=\"https://auto.naver.com/\">자동차</a></li></ul></div></div><div class=\"gnb_banner\"><a href=\"https://campaign.naver.com/npay/rediret/index.nhn\" class=\"gnb_service_event\"><img id=\"gnb_promo\" alt=\"N페이, 이벤트 참여하면 포인트 적립!\" width=\"265\" height=\"47\" src=\"https://ssl.pstatic.net/static/common/gnb/banner/promo_npay_200108.png\"></a></div><div class=\"gnb_linkwrp\"><a href=\"https://www.naver.com/more.html\" class=\"gnb_service_all\" id=\"gnb_service_all\">전체 서비스 보기</a></div></div><div class=\"gnb_svc_more\" id=\"gnb_svc_more\" style=\"\"><strong class=\"blind\">네이버 주요 서비스</strong><div class=\"gnb_bg_top\"></div><div class=\"gnb_svc_hd\" id=\"gnb_svc_hd\" tabindex=\"0\"><strong class=\"gnb_svc_tit\">바로가기 설정</strong><span class=\"link\"><a href=\"https://www.naver.com/more.html\">전체 서비스 보기</a></span></div><div class=\"gnb_svc_lstwrp\"><div class=\"gnb_svc_lst1\"><ul class=\"gnb_first\"><li><input type=\"checkbox\" id=\"nsvc_game\" name=\"selmenu\" class=\"gnb_input_check\" value=\"\"> <label for=\"nsvc_game\">게임</label></li><li><input type=\"checkbox\" id=\"nsvc_weather\" name=\"selmenu\" class=\"gnb_input_check\" value=\"\"> <label for=\"nsvc_weather\">날씨</label></li><li><input type=\"checkbox\" id=\"nsvc_shopping\" name=\"selmenu\" class=\"gnb_input_check\" value=\"\"> <label for=\"nsvc_shopping\">네이버쇼핑</label></li><li><input type=\"checkbox\" id=\"nsvc_navercast\" name=\"selmenu\" class=\"gnb_input_check\" value=\"\"> <label for=\"nsvc_navercast\">네이버캐스트</label></li><li class=\"gnb_event\"><input type=\"checkbox\" id=\"nsvc_naverpay\" name=\"selmenu\" class=\"gnb_input_check\" value=\"\"> <label for=\"nsvc_naverpay\">네이버페이<em class=\"ic_gnb_new\">New</em></label></li><li><input type=\"checkbox\" id=\"nsvc_mybox\" name=\"selmenu\" class=\"gnb_input_check\" value=\"\"> <label for=\"nsvc_mybox\">네이버 MYBOX</label></li><li><input type=\"checkbox\" id=\"nsvc_news\" name=\"selmenu\" class=\"gnb_input_check\" value=\"\"> <label for=\"nsvc_news\">뉴스</label></li><li><input type=\"checkbox\" id=\"nsvc_comic\" name=\"selmenu\" class=\"gnb_input_check\" value=\"\"> <label for=\"nsvc_comic\">웹툰</label></li><li><input type=\"checkbox\" id=\"nsvc_memo\" name=\"selmenu\" class=\"gnb_input_check\" value=\"\"> <label for=\"nsvc_memo\">메모</label></li><li><input type=\"checkbox\" id=\"nsvc_mail\" name=\"selmenu\" class=\"gnb_input_check\" value=\"\"> <label for=\"nsvc_mail\">메일</label></li><li><input type=\"checkbox\" id=\"nsvc_music\" name=\"selmenu\" class=\"gnb_input_check\" value=\"\"> <label for=\"nsvc_music\">뮤직</label></li><li><input type=\"checkbox\" id=\"nsvc_land\" name=\"selmenu\" class=\"gnb_input_check\" value=\"\"> <label for=\"nsvc_land\">부동산</label></li><li><input type=\"checkbox\" id=\"nsvc_bookmark\" name=\"selmenu\" class=\"gnb_input_check\" value=\"\"> <label for=\"nsvc_bookmark\">북마크</label></li></ul><ul class=\"\"><li><input type=\"checkbox\" id=\"nsvc_blog\" name=\"selmenu\" class=\"gnb_input_check\" value=\"\"> <label for=\"nsvc_blog\">블로그</label></li><li><input type=\"checkbox\" id=\"nsvc_dic\" name=\"selmenu\" class=\"gnb_input_check\" value=\"\"> <label for=\"nsvc_dic\">사전</label></li><li><input type=\"checkbox\" id=\"nsvc_software\" name=\"selmenu\" class=\"gnb_input_check\" value=\"\"> <label for=\"nsvc_software\">소프트웨어</label></li><li><input type=\"checkbox\" id=\"nsvc_smartboard\" name=\"selmenu\" class=\"gnb_input_check\" value=\"\"> <label for=\"nsvc_smartboard\">스마트보드</label></li><li><input type=\"checkbox\" id=\"nsvc_sports\" name=\"selmenu\" class=\"gnb_input_check\" value=\"\"> <label for=\"nsvc_sports\">스포츠</label></li><li><input type=\"checkbox\" id=\"nsvc_series\" name=\"selmenu\" class=\"gnb_input_check\" value=\"\"> <label for=\"nsvc_series\">시리즈</label></li><li><input type=\"checkbox\" id=\"nsvc_serieson\" name=\"selmenu\" class=\"gnb_input_check\" value=\"\"> <label for=\"nsvc_serieson\">시리즈on</label></li><li><input type=\"checkbox\" id=\"nsvc_ya9\" name=\"selmenu\" class=\"gnb_input_check\" value=\"\"> <label for=\"nsvc_ya9\">야구9단</label></li><li><input type=\"checkbox\" id=\"nsvc_movie\" name=\"selmenu\" class=\"gnb_input_check\" value=\"\"> <label for=\"nsvc_movie\">영화</label></li><li><input type=\"checkbox\" id=\"nsvc_office\" name=\"selmenu\" class=\"gnb_input_check\" value=\"\"> <label for=\"nsvc_office\">오피스</label></li><li><input type=\"checkbox\" id=\"nsvc_novel\" name=\"selmenu\" class=\"gnb_input_check\" value=\"\"> <label for=\"nsvc_novel\">웹소설</label></li><li><input type=\"checkbox\" id=\"nsvc_auto\" name=\"selmenu\" class=\"gnb_input_check\" value=\"\"> <label for=\"nsvc_auto\">자동차</label></li><li><input type=\"checkbox\" id=\"nsvc_contact\" name=\"selmenu\" class=\"gnb_input_check\" value=\"\"> <label for=\"nsvc_contact\">주소록</label></li></ul><ul class=\"\"><li><input type=\"checkbox\" id=\"nsvc_finance\" name=\"selmenu\" class=\"gnb_input_check\" value=\"\"> <label for=\"nsvc_finance\">증권(금융)</label></li><li><input type=\"checkbox\" id=\"nsvc_map\" name=\"selmenu\" class=\"gnb_input_check\" value=\"\"> <label for=\"nsvc_map\">지도</label></li><li><input type=\"checkbox\" id=\"nsvc_kin\" name=\"selmenu\" class=\"gnb_input_check\" value=\"\"> <label for=\"nsvc_kin\">지식iN</label></li><li><input type=\"checkbox\" id=\"nsvc_terms\" name=\"selmenu\" class=\"gnb_input_check\" value=\"\"> <label for=\"nsvc_terms\">지식백과</label></li><li><input type=\"checkbox\" id=\"nsvc_book\" name=\"selmenu\" class=\"gnb_input_check\" value=\"\"> <label for=\"nsvc_book\">책</label></li><li><input type=\"checkbox\" id=\"nsvc_cafe\" name=\"selmenu\" class=\"gnb_input_check\" value=\"\"> <label for=\"nsvc_cafe\">카페</label></li><li><input type=\"checkbox\" id=\"nsvc_calendar\" name=\"selmenu\" class=\"gnb_input_check\" value=\"\"> <label for=\"nsvc_calendar\">캘린더</label></li><li><input type=\"checkbox\" id=\"nsvc_navertv\" name=\"selmenu\" class=\"gnb_input_check\" value=\"\"> <label for=\"nsvc_navertv\">네이버TV</label></li></ul></div><div class=\"svc_lst2\"><div class=\"svc_spc gnb_first\"><strong><a href=\"https://dict.naver.com/\">어학사전</a></strong><ul class=\"\"><li><input type=\"checkbox\" id=\"nsvc_krdic\" name=\"selmenu\" class=\"gnb_input_check\" value=\"\"> <label for=\"nsvc_krdic\">국어사전</label></li><li><input type=\"checkbox\" id=\"nsvc_endic\" name=\"selmenu\" class=\"gnb_input_check\" value=\"\"> <label for=\"nsvc_endic\">영어/영영사전</label></li><li><input type=\"checkbox\" id=\"nsvc_hanja\" name=\"selmenu\" class=\"gnb_input_check\" value=\"\"> <label for=\"nsvc_hanja\">한자사전</label></li><li><input type=\"checkbox\" id=\"nsvc_jpdic\" name=\"selmenu\" class=\"gnb_input_check\" value=\"\"> <label for=\"nsvc_jpdic\">일어사전</label></li><li><input type=\"checkbox\" id=\"nsvc_cndic\" name=\"selmenu\" class=\"gnb_input_check\" value=\"\"> <label for=\"nsvc_cndic\">중국어사전</label></li><li><input type=\"checkbox\" id=\"nsvc_frdic\" name=\"selmenu\" class=\"gnb_input_check\" value=\"\"> <label for=\"nsvc_frdic\">프랑스어사전</label></li><li><input type=\"checkbox\" id=\"nsvc_dedic\" name=\"selmenu\" class=\"gnb_input_check\" value=\"\"> <label for=\"nsvc_dedic\">독일어사전</label></li><li><input type=\"checkbox\" id=\"nsvc_rudic\" name=\"selmenu\" class=\"gnb_input_check\" value=\"\"> <label for=\"nsvc_rudic\">러시아어사전</label></li><li><input type=\"checkbox\" id=\"nsvc_vndic\" name=\"selmenu\" class=\"gnb_input_check\" value=\"\"> <label for=\"nsvc_vndic\">베트남어사전</label></li><li><input type=\"checkbox\" id=\"nsvc_spdic\" name=\"selmenu\" class=\"gnb_input_check\" value=\"\"> <label for=\"nsvc_spdic\">스페인어사전</label></li><li><input type=\"checkbox\" id=\"nsvc_papago\" name=\"selmenu\" class=\"gnb_input_check\" value=\"\"> <label for=\"nsvc_papago\">파파고</label></li></ul></div><div class=\"svc_spc\"><strong>인기/신규서비스</strong><ul class=\"\"><li><input type=\"checkbox\" id=\"nsvc_grafolio\" name=\"selmenu\" class=\"gnb_input_check\" value=\"\"> <label for=\"nsvc_grafolio\">그라폴리오</label></li><li><input type=\"checkbox\" id=\"nsvc_post\" name=\"selmenu\" class=\"gnb_input_check\" value=\"\"> <label for=\"nsvc_post\">포스트</label></li><li><input type=\"checkbox\" id=\"nsvc_band\" name=\"selmenu\" class=\"gnb_input_check\" value=\"\"> <label for=\"nsvc_band\">밴드</label></li><li><input type=\"checkbox\" id=\"nsvc_line\" name=\"selmenu\" class=\"gnb_input_check\" value=\"\"> <label for=\"nsvc_line\">라인</label></li><li class=\"gnb_event\"><input type=\"checkbox\" id=\"nsvc_vibe\" name=\"selmenu\" class=\"gnb_input_check\" value=\"\"> <label for=\"nsvc_vibe\">VIBE<em class=\"ic_gnb_new\">New</em></label></li><li><input type=\"checkbox\" id=\"nsvc_pcontents\" name=\"selmenu\" class=\"gnb_input_check\" value=\"\"> <label for=\"nsvc_pcontents\">프리미엄콘텐츠</label></li></ul></div></div></div><div class=\"svc_btnwrp\"><div class=\"svc_btns\"><button class=\"gnb_save\" onclick=\"if(gnbFavorite.addService()){gnbMoreLayer.clickToggleWhole()} return false;\"><strong class=\"blind\">확인</strong></button><button class=\"gnb_close\" onclick=\"gnbFavorite.cancel(); return false;\"><span class=\"blind\">취소</span></button><button class=\"gnb_return\" onclick=\"gnbFavorite.resetService(); return false;\"><span class=\"blind\">초기 설정으로 변경</span></button></div></div><div class=\"gnb_bg_btm\"></div></div></div><iframe id=\"gnb_service_lyr_iframe\" title=\"빈 프레임\" class=\"gnb_pad_lyr\" name=\"padding\" width=\"0\" height=\"0\" scrolling=\"no\" frameborder=\"0\" style=\"display: none; top: 55px; right: 311px; width: 585px; height: 385px; opacity: 0;\"></iframe><iframe id=\"gnb_svc_more_iframe\" title=\"빈 프레임\" class=\"gnb_pad_lyr\" name=\"padding\" width=\"0\" height=\"0\" scrolling=\"no\" frameborder=\"0\" style=\"display: none; top: 55px; right: 10px; width: 295px; height: 385px; opacity: 0;\"></iframe></li></ul></div></div></div></div></nav><nav class=\"jsx-3225227944 nav\"><div class=\"jsx-3225227944 inner _nav\"><a aria-current=\"page\" href=\"https://flight.naver.com\" class=\"jsx-3225227944 item\">항공권</a><a aria-current=\"false\" href=\"https://hotels.naver.com\" class=\"jsx-3225227944 item\">호텔</a><a aria-current=\"false\" href=\"https://m-tour.store.naver.com/local\" class=\"jsx-3225227944 item\">현지투어</a><a aria-current=\"false\" href=\"https://pkgtour.naver.com/\" class=\"jsx-3225227944 item\">패키지</a><a aria-current=\"false\" href=\"https://travel-event.naver.com/\" class=\"jsx-3225227944 item\"><i title=\"new\" class=\"jsx-3225227944 new\"></i>이벤트・혜택</a></div></nav></div></header></div><div class=\"layout_small__3cNDY\"><header class=\"header\"><div data-service=\"flight\" class=\"jsx-3225227944 header\"><nav class=\"jsx-3225227944 top\"><div class=\"jsx-3225227944 inner\"><a href=\"https://m.naver.com\" class=\"jsx-3225227944 naver\"><span class=\"jsx-3225227944 label\">Naver</span></a><a href=\"https://m-flight.naver.com\" class=\"jsx-3225227944 home\"><span class=\"jsx-3225227944 label\">여행상품</span></a><a href=\"https://travel.naver.com\" class=\"jsx-3225227944 service\"><span class=\"jsx-3225227944 label\">여행정보</span></a><div class=\"jsx-3225227944 sub\"><a href=\"https://nid.naver.com/nidlogin.login?svctype=262144&amp;url=https://flight.naver.com/flights/domestic/SEL-CJU-20220812%3Fadult%3D1%26fareType%3DYC%26popup%3Dopen\" data-service=\"flight\" class=\"jsx-736559874 login\">로그인<span class=\"jsx-736559874 hide_mo\"> 후 등급확인</span></a><a href=\"https://voyage.naver.com/voyage/mypage/flight\" class=\"jsx-3225227944 mypage\"><span class=\"jsx-3225227944 label\">마이페이지</span></a><div class=\"jsx-3225227944 naver_gnb\"><div id=\"gnb\" class=\"jsx-3225227944\"><script src=\"https://ssl.pstatic.net/static.gn/templates/gnb_utf8.nhn\" async=\"\"></script></div></div></div></div></nav><nav class=\"jsx-3225227944 nav\"><div class=\"jsx-3225227944 inner _nav\"><a aria-current=\"page\" href=\"https://m-flight.naver.com\" class=\"jsx-3225227944 item\">항공권</a><a aria-current=\"false\" href=\"https://hotels.naver.com\" class=\"jsx-3225227944 item\">호텔</a><a aria-current=\"false\" href=\"https://m-tour.store.naver.com/local\" class=\"jsx-3225227944 item\">현지투어</a><a aria-current=\"false\" href=\"https://m-pkgtour.naver.com/\" class=\"jsx-3225227944 item\">패키지</a><a aria-current=\"false\" href=\"https://travel-event.naver.com/\" class=\"jsx-3225227944 item\"><i title=\"new\" class=\"jsx-3225227944 new\"></i>이벤트・혜택</a></div></nav></div></header></div><div class=\"domestic_top__2ONl7\"><div class=\"domestic_inner__15-bD\"><div class=\"layout_large__2AaMz\"><div class=\"searchCondition_searchbox__1Df9W\"><div class=\"inner\"><div class=\"searchBox_searchBox__1vmcr in_list\"><div class=\"searchBox_tablist__1uWMk\" role=\"tablist\"><button class=\"searchBox_tab__cPM55 searchBox_Tab__39-OR\" role=\"tab\" type=\"button\" aria-selected=\"false\" aria-disabled=\"false\"><i class=\"searchBox_text__nUcMZ\">왕복</i></button><button class=\"searchBox_tab__cPM55 searchBox_Tab__39-OR\" role=\"tab\" type=\"button\" aria-selected=\"true\" aria-disabled=\"false\"><i class=\"searchBox_text__nUcMZ\">편도</i></button><button class=\"searchBox_tab__cPM55 searchBox_Tab__39-OR\" role=\"tab\" type=\"button\" aria-selected=\"false\" aria-disabled=\"false\"><i class=\"searchBox_text__nUcMZ\">다구간</i></button></div><div class=\"searchBox_tabpanel__1BSGR\" role=\"tabpanel\" data-triptype=\"OW\" data-itinerary=\"1\"><div class=\"tabContent_routes__laamB\"><button type=\"button\" class=\"tabContent_route__1GI8F select_City__2NOOZ start\" aria-disabled=\"false\" aria-selected=\"false\"><b class=\"select_code__d6PLz\" aria-selected=\"true\">SEL</b><i class=\"select_name__1L61v\">서울</i></button><button type=\"button\" class=\"tabContent_route__1GI8F select_City__2NOOZ end\" aria-disabled=\"false\" aria-selected=\"false\"><b class=\"select_code__d6PLz\" aria-selected=\"true\">CJU</b><i class=\"select_name__1L61v\">제주</i></button><button type=\"button\" class=\"tabContent_swap__2T0Lu select_Swap__1gZJe\" title=\"출도착지 전환\" aria-label=\"출도착지 전환\"></button></div><div class=\"tabContent_options__KwvIB\"><button type=\"button\" class=\"tabContent_option__2y4c6 select_Date__1aF7Y\" aria-selected=\"true\">08.12.금</button></div><div class=\"tabContent_options__KwvIB\"><button type=\"button\" class=\"tabContent_option__2y4c6 select_Passenger__36sFM\">성인 1명, 전체</button></div></div><button class=\"searchBox_search__2KFn3\" type=\"submit\"><span class=\"searchBox_txt__3RoCw\">항공권 검색</span></button></div></div></div></div><div class=\"layout_small__3cNDY\"><div class=\"searchCondition_currentSchedule__1KZJG\"><div class=\"inner\"><div class=\"searchCondition_top__ytaK_\"><div class=\"searchCondition_back__3xWmX\"><a class=\"searchCondition_arr__1jOej\" aria-label=\"돌아가기\"></a></div><strong class=\"searchCondition_route__1kY9J\"><button type=\"button\" aria-label=\"경로 변경\" class=\"searchCondition_Airport__1y0iQ\"><b class=\"searchCondition_code__3Fve5\">SEL</b><i class=\"searchCondition_name__1Gift\">서울</i></button><button type=\"button\" aria-label=\"경로 변경\" class=\"searchCondition_Airport__1y0iQ\"><b class=\"searchCondition_code__3Fve5\">CJU</b><i class=\"searchCondition_name__1Gift\">제주</i></button></strong></div><div class=\"searchCondition_desc__3BBbt\"><em class=\"searchCondition_Date__SMASM\"><button type=\"button\">08.12.금</button></em><em class=\"searchCondition_seat__iQsLA\"><button type=\"button\">성인 1명, 전체</button></em></div><button type=\"button\" class=\"searchCondition_change__3qsgB\">변경하기</button></div></div></div><div class=\"inlineFilter_FilterWrapper__1Icm4\"><div class=\"inlineFilter_inner__1DuQ7\"><button type=\"button\" aria-label=\"필터 초기화\" class=\"inlineFilter_ResetButton__8-aWp\"></button><button aria-checked=\"false\" class=\"inlineFilter_Tag__97qqq\" type=\"button\"><span class=\"inlineFilter_name__23asA\">좌석등급 </span></button><button aria-checked=\"false\" class=\"inlineFilter_Tag__97qqq\" type=\"button\"><span class=\"inlineFilter_name__23asA\">항공사 </span></button><button aria-checked=\"false\" class=\"inlineFilter_Tag__97qqq\" type=\"button\"><span class=\"inlineFilter_name__23asA\">시각/가격</span></button><button aria-checked=\"false\" class=\"inlineFilter_Tag__97qqq\" type=\"button\"><span class=\"inlineFilter_name__23asA\"><i class=\"inlineFilter_npay__3HD72\" title=\"NPay\"></i>결제혜택</span></button></div></div></div></div><div class=\"domestic_travelclub__3IEbU\"><div class=\"domestic_inner__15-bD\"><div data-grade=\"0\" class=\"jsx-3463712438 TravelClubBanner\"><button class=\"login\" type=\"button\"><span class=\"ico\" title=\"트래블클럽\"><svg width=\"84\" height=\"19\" xmlns=\"http://www.w3.org/2000/svg\" data-media=\"pc\"><g fill=\"none\"><path d=\"M57.984 10.814v3.168h-7.059v.933h7.434v1.131h-8.787v-3.168h7.059v-.933h-7.128v-1.131h8.481zm12.681-.279v3.294h-7.059v1.086h7.434v1.131h-8.787v-3.321h7.059v-1.059h-7.131v-1.131h8.484zM46.377 3.101v12.861h-1.353V8.918H43.56v6.417h-1.353V3.365h1.353v4.353h1.464V3.101h1.353zm30.969 7.575v1.479h5.286v-1.479H84v5.286h-8.022v-5.286h1.368zm5.286 2.634h-5.286v1.479h5.286V13.31zm-48.348-.234v1.173H22.482v-1.173h11.802zM40.56 4.19v4.686h-3.543v2.706h.711c.615 0 1.215-.015 1.8-.048a18.16 18.16 0 001.773-.189l.138 1.116c-1.032.168-2.409.252-4.128.252h-1.605V7.775h3.543V5.321h-3.543V4.19h4.854zm-7.992-.126v1.17h-7.116v1.704h7.017v1.143h-7.017v1.701h7.311v1.173h-8.691V4.064h8.496zM84 3.101v6.945h-1.368V6.782h-2.274V5.597h2.274V3.101H84zM59.673 8.777V9.92H47.871V8.777h11.802zM79.44 3.674v3.627h-4.059v1.353h2.01c.363 0 .726-.006 1.089-.021a35.454 35.454 0 002.343-.174l.126 1.143a24 24 0 01-1.122.111 35.601 35.601 0 01-2.295.105c-.417.006-.885.006-1.395.006h-2.124V6.17h4.059V4.832h-4.059V3.674h5.427zm-8.76-.21v1.953a15.644 15.644 0 01-.063 1.32c-.024.246-.048.495-.078.747-.027.252-.06.492-.099.726h1.926v1.14H60.564V8.207h8.469a8.8 8.8 0 00.117-.657c.033-.222.057-.447.078-.669l-7.128.18-.027-1.158 7.227-.099V4.631h-7.074V3.464h8.454zm-12.711-.21v4.647h-8.412V3.269h1.368V4.58h5.676V3.254h1.368zm-1.368 2.442h-5.676v1.059h5.676V5.696z\" fill=\"#333\"></path><path fill=\"#00C73C\" d=\"M0 .5h18v18H0z\"></path><path fill=\"#FFF\" d=\"M10.431 13.619L7.527 9.356v4.263H4.5V5.381h3.069l2.904 4.263V5.381H13.5v8.238z\"></path></g></svg><svg width=\"80\" height=\"18\" xmlns=\"http://www.w3.org/2000/svg\" data-media=\"mo\"><g fill=\"none\"><path d=\"M54.763 10.241v2.992h-6.667v.881h7.02v1.068h-8.298V12.19h6.667v-.88h-6.732v-1.07h8.01zm11.976-.264v3.111h-6.667v1.026h7.021v1.068h-8.299v-3.136h6.667v-1h-6.734V9.977h8.012zM43.8 2.957v12.146h-1.277V8.45H41.14v6.06h-1.278V3.207h1.278v4.111h1.383v-4.36H43.8zm29.25 7.153v1.396h4.992V10.11h1.292v4.992h-7.576V10.11h1.292zm4.992 2.487H73.05v1.397h4.992v-1.397zm-45.662-.22v1.107H21.233v-1.108h11.146zm5.928-8.393V8.41H34.96v2.555h.671c.58 0 1.148-.014 1.7-.045a17.15 17.15 0 001.675-.178l.13 1.053c-.975.16-2.275.239-3.899.239h-1.516V7.37h3.346V5.053h-3.346V3.985h4.585zm-7.548-.119V4.97h-6.721v1.61h6.627v1.08h-6.627v1.606h6.905v1.108h-8.208V3.866h8.024zm48.574-.91v6.56h-1.292V6.433h-2.147v-1.12h2.147V2.958h1.292zM56.358 8.317v1.08H45.212v-1.08h11.146zm18.669-4.82v3.426h-3.834v1.278h1.898c.343 0 .686-.006 1.029-.02a33.484 33.484 0 002.213-.164l.119 1.08c-.368.045-.723.079-1.06.104a33.624 33.624 0 01-2.168.1c-.295.004-.617.005-.963.005H69.9V5.855h3.834V4.591H69.9V3.498h5.126zM66.753 3.3v1.845a14.774 14.774 0 01-.06 1.247c-.022.232-.044.467-.073.705a11.8 11.8 0 01-.093.686h1.819v1.076H57.199v-1.08h7.999c.042-.2.082-.407.11-.62.031-.21.054-.422.074-.631l-6.732.17-.026-1.094 6.826-.094V4.402h-6.681V3.299h7.984zm-12.005-.198V7.49h-7.944V3.115h1.292v1.238h5.36V3.101h1.292zm-1.291 2.306h-5.361v1h5.36v-1z\" fill=\"#333\"></path><path fill=\"#00C73C\" d=\"M0 .5h17v17H0z\"></path><path fill=\"#FFF\" d=\"M9.851 12.89L7.11 8.864v4.026H4.25V5.11h2.899L9.89 9.136V5.11h2.859v7.78z\"></path></g></svg></span><span class=\"grade\">로그인 후 등급확인 </span><span class=\"txt\">하세요</span></button></div></div></div><div class=\"domestic_banner__r3WqI\"><div class=\"domestic_inner__15-bD\"><div class=\"banner_Banner__UPEHM\" style=\"background-color: rgb(241, 245, 252);\"><a class=\"banner_anchor__Eq8f2\" href=\"https://travel-event.naver.com/promotion/naverflight\" rel=\"noreferrer\" target=\"_blank\"><img class=\"banner_img__2DinB\" src=\"https://search.pstatic.net/common/?src=https://vertical.pstatic.net/vertical/static/flight/banners/rc-upload-1659058488711-2.png\" alt=\"\"></a></div></div></div><div class=\"domestic_content__29ZnH\"><div class=\"domestic_inner__15-bD\"><div class=\"domestic_Heading__Ahz8E\"><div class=\"domestic_inner__15-bD\"><h3 class=\"domestic_title__2IGrI\">편도 선택</h3><div class=\"domestic_sort__SjvyY\"><button type=\"button\" class=\"domestic_current__nsjAG\" aria-expanded=\"false\">출발시각 빠른 순</button></div></div></div><div class=\"domestic_results__yNAgI\"><div class=\"inlineFilter_FilterWrapper__1Icm4\"><div class=\"inlineFilter_inner__1DuQ7\"><button aria-checked=\"false\" class=\"inlineFilter_Tag__97qqq\" type=\"button\"><span class=\"inlineFilter_name__23asA\">8.11.목</span></button><button aria-checked=\"true\" class=\"inlineFilter_Tag__97qqq\" type=\"button\"><span class=\"inlineFilter_name__23asA\">8.12.금</span></button><button aria-checked=\"false\" class=\"inlineFilter_Tag__97qqq\" type=\"button\"><span class=\"inlineFilter_name__23asA\">8.13.토</span></button><button aria-checked=\"false\" class=\"inlineFilter_Tag__97qqq\" type=\"button\"><span class=\"inlineFilter_name__23asA\">8.14.일</span></button><button aria-checked=\"false\" class=\"inlineFilter_Tag__97qqq\" type=\"button\"><span class=\"inlineFilter_name__23asA\">8.15.월</span></button><button aria-checked=\"false\" class=\"inlineFilter_Tag__97qqq\" type=\"button\"><span class=\"inlineFilter_name__23asA\">8.16.화</span></button><button aria-checked=\"false\" class=\"inlineFilter_Tag__97qqq\" type=\"button\"><span class=\"inlineFilter_name__23asA\">8.17.수</span></button><button aria-checked=\"false\" class=\"inlineFilter_Tag__97qqq\" type=\"button\"><span class=\"inlineFilter_name__23asA\">8.18.목</span></button><button aria-checked=\"false\" class=\"inlineFilter_Tag__97qqq\" type=\"button\"><span class=\"inlineFilter_name__23asA\">8.19.금</span></button><button aria-checked=\"false\" class=\"inlineFilter_Tag__97qqq\" type=\"button\"><span class=\"inlineFilter_name__23asA\">8.20.토</span></button><button aria-checked=\"false\" class=\"inlineFilter_Tag__97qqq\" type=\"button\"><span class=\"inlineFilter_name__23asA\">8.21.일</span></button><button aria-checked=\"false\" class=\"inlineFilter_Tag__97qqq\" type=\"button\"><span class=\"inlineFilter_name__23asA\">8.22.월</span></button></div></div><div class=\"domestic_Flight__sK0eA result\"><div class=\"domestic_inner__15-bD\"><div class=\"domestic_schedule__1Whiq\"><div class=\"domestic_item__2B--k\"><div class=\"heading\"><div class=\"airline\"><div class=\"logos\"><img alt=\"에어서울\" class=\"logo\" src=\"https://vertical.pstatic.net/vertical/static/flight/airlines/RS.png\"></div><b class=\"name\">에어서울</b></div><div class=\"info\"></div></div><div class=\"route_Route__2UInh\"><span class=\"route_airport__3VT7M\"><b class=\"route_time__-2Z1T\">06:00</b><i class=\"route_code__3WUFO\">GMP</i></span><span class=\"route_airport__3VT7M\"><b class=\"route_time__-2Z1T\">07:00</b><i class=\"route_code__3WUFO\">CJU</i></span><i class=\"route_info__1RhUH\">01시간 00분</i></div></div></div><button class=\"domestic_select_schedule__xWQ-K\" type=\"button\"></button><div class=\"domestic_prices__3N88F\"><div class=\"domestic_item__2B--k\"><i class=\"domestic_type__30RSq\">할인석</i><b class=\"domestic_price__1qAgw\"><span class=\"domestic_txt__2YFi_\">편도 </span><i class=\"domestic_num__2roTW\">108,900</i><span class=\"unit\">원~</span></b></div><div class=\"domestic_item_promotion__2q5bH\"><i class=\"domestic_type__30RSq\">KB국민카드 결제시 3% 청구할인</i><b class=\"domestic_price__1qAgw\"><span class=\"domestic_txt__2YFi_\">편도 </span><i class=\"domestic_num__2roTW\">105,670</i><span class=\"unit\">원~</span></b></div></div></div></div><div class=\"domestic_Flight__sK0eA result\"><div class=\"domestic_inner__15-bD\"><div class=\"domestic_schedule__1Whiq\"><div class=\"domestic_item__2B--k\"><div class=\"heading\"><div class=\"airline\"><div class=\"logos\"><img alt=\"에어서울\" class=\"logo\" src=\"https://vertical.pstatic.net/vertical/static/flight/airlines/RS.png\"></div><b class=\"name\">에어서울</b></div><div class=\"info\"></div></div><div class=\"route_Route__2UInh\"><span class=\"route_airport__3VT7M\"><b class=\"route_time__-2Z1T\">06:00</b><i class=\"route_code__3WUFO\">GMP</i></span><span class=\"route_airport__3VT7M\"><b class=\"route_time__-2Z1T\">07:00</b><i class=\"route_code__3WUFO\">CJU</i></span><i class=\"route_info__1RhUH\">01시간 00분</i></div></div></div><button class=\"domestic_select_schedule__xWQ-K\" type=\"button\"></button><div class=\"domestic_prices__3N88F\"><div class=\"domestic_item__2B--k\"><i class=\"domestic_type__30RSq\">일반석</i><b class=\"domestic_price__1qAgw\"><span class=\"domestic_txt__2YFi_\">편도 </span><i class=\"domestic_num__2roTW\">134,000</i><span class=\"unit\">원~</span></b></div><div class=\"domestic_item_promotion__2q5bH\"><i class=\"domestic_type__30RSq\">삼성카드 결제시 3.8% 캐시백</i><b class=\"domestic_price__1qAgw\"><span class=\"domestic_txt__2YFi_\">편도 </span><i class=\"domestic_num__2roTW\">128,900</i><span class=\"unit\">원~</span></b></div></div></div></div><div class=\"domestic_Flight__sK0eA result\"><div class=\"domestic_inner__15-bD\"><div class=\"domestic_schedule__1Whiq\"><div class=\"domestic_item__2B--k\"><div class=\"heading\"><div class=\"airline\"><div class=\"logos\"><img alt=\"아시아나항공\" class=\"logo\" src=\"https://vertical.pstatic.net/vertical/static/flight/airlines/OZ.png\"></div><b class=\"name\">아시아나항공</b></div><div class=\"info\"><i class=\"npay\">1%적립</i><div class=\"domestic_PromotionBadge__2aHzU\"><i class=\"domestic_badge__20kwD\" role=\"button\" aria-expanded=\"false\">이벤트혜택</i><p class=\"domestic_layer__2cpTz\"><span class=\"domestic_txt__2YFi_\">네이버페이 결제시 <i class=\"npaypoint\" title=\"npaypoint\"></i>1%+1,500원 적립</span></p></div></div></div><div class=\"route_Route__2UInh\"><span class=\"route_airport__3VT7M\"><b class=\"route_time__-2Z1T\">06:05</b><i class=\"route_code__3WUFO\">GMP</i></span><span class=\"route_airport__3VT7M\"><b class=\"route_time__-2Z1T\">07:15</b><i class=\"route_code__3WUFO\">CJU</i></span><i class=\"route_info__1RhUH\">01시간 10분</i></div></div></div><button class=\"domestic_select_schedule__xWQ-K\" type=\"button\"></button><div class=\"domestic_prices__3N88F\"><div class=\"domestic_item__2B--k\"><i class=\"domestic_type__30RSq\">할인석</i><b class=\"domestic_price__1qAgw\"><span class=\"domestic_txt__2YFi_\">편도 </span><i class=\"domestic_num__2roTW\">117,000</i><span class=\"unit\">원~</span></b></div><div class=\"domestic_item_promotion__2q5bH\"><i class=\"domestic_type__30RSq\">삼성카드 결제시 4.4% 캐시백</i><b class=\"domestic_price__1qAgw\"><span class=\"domestic_txt__2YFi_\">편도 </span><i class=\"domestic_num__2roTW\">111,840</i><span class=\"unit\">원~</span></b></div></div></div></div><div class=\"domestic_Flight__sK0eA result\"><div class=\"domestic_inner__15-bD\"><div class=\"domestic_schedule__1Whiq\"><div class=\"domestic_item__2B--k\"><div class=\"heading\"><div class=\"airline\"><div class=\"logos\"><img alt=\"아시아나항공\" class=\"logo\" src=\"https://vertical.pstatic.net/vertical/static/flight/airlines/OZ.png\"></div><b class=\"name\">아시아나항공</b></div><div class=\"info\"><i class=\"npay\">1%적립</i><div class=\"domestic_PromotionBadge__2aHzU\"><i class=\"domestic_badge__20kwD\" role=\"button\" aria-expanded=\"false\">이벤트혜택</i><p class=\"domestic_layer__2cpTz\"><span class=\"domestic_txt__2YFi_\">네이버페이 결제시 <i class=\"npaypoint\" title=\"npaypoint\"></i>1%+1,500원 적립</span></p></div></div></div><div class=\"route_Route__2UInh\"><span class=\"route_airport__3VT7M\"><b class=\"route_time__-2Z1T\">06:05</b><i class=\"route_code__3WUFO\">GMP</i></span><span class=\"route_airport__3VT7M\"><b class=\"route_time__-2Z1T\">07:15</b><i class=\"route_code__3WUFO\">CJU</i></span><i class=\"route_info__1RhUH\">01시간 10분</i></div></div></div><button class=\"domestic_select_schedule__xWQ-K\" type=\"button\"></button><div class=\"domestic_prices__3N88F\"><div class=\"domestic_item__2B--k\"><i class=\"domestic_type__30RSq\">일반석</i><b class=\"domestic_price__1qAgw\"><span class=\"domestic_txt__2YFi_\">편도 </span><i class=\"domestic_num__2roTW\">147,000</i><span class=\"unit\">원~</span></b></div><div class=\"domestic_item_promotion__2q5bH\"><i class=\"domestic_type__30RSq\">삼성카드 결제시 4.4% 캐시백</i><b class=\"domestic_price__1qAgw\"><span class=\"domestic_txt__2YFi_\">편도 </span><i class=\"domestic_num__2roTW\">140,510</i><span class=\"unit\">원~</span></b></div></div></div></div><div class=\"domestic_Flight__sK0eA result\"><div class=\"domestic_inner__15-bD\"><div class=\"domestic_schedule__1Whiq\"><div class=\"domestic_item__2B--k\"><div class=\"heading\"><div class=\"airline\"><div class=\"logos\"><img alt=\"아시아나항공\" class=\"logo\" src=\"https://vertical.pstatic.net/vertical/static/flight/airlines/OZ.png\"></div><b class=\"name\">아시아나항공</b></div><div class=\"info\"><i class=\"npay\">1%적립</i><div class=\"domestic_PromotionBadge__2aHzU\"><i class=\"domestic_badge__20kwD\" role=\"button\" aria-expanded=\"false\">이벤트혜택</i><p class=\"domestic_layer__2cpTz\"><span class=\"domestic_txt__2YFi_\">네이버페이 결제시 <i class=\"npaypoint\" title=\"npaypoint\"></i>1%+1,500원 적립</span></p></div></div></div><div class=\"route_Route__2UInh\"><span class=\"route_airport__3VT7M\"><b class=\"route_time__-2Z1T\">06:05</b><i class=\"route_code__3WUFO\">GMP</i></span><span class=\"route_airport__3VT7M\"><b class=\"route_time__-2Z1T\">07:15</b><i class=\"route_code__3WUFO\">CJU</i></span><i class=\"route_info__1RhUH\">01시간 10분</i></div></div></div><button class=\"domestic_select_schedule__xWQ-K\" type=\"button\"></button><div class=\"domestic_prices__3N88F\"><div class=\"domestic_item__2B--k\"><i class=\"domestic_type__30RSq\">비즈니스석</i><b class=\"domestic_price__1qAgw\"><span class=\"domestic_txt__2YFi_\">편도 </span><i class=\"domestic_num__2roTW\">184,000</i><span class=\"unit\">원~</span></b></div><div class=\"domestic_item_promotion__2q5bH\"><i class=\"domestic_type__30RSq\">삼성카드 결제시 4.4% 캐시백</i><b class=\"domestic_price__1qAgw\"><span class=\"domestic_txt__2YFi_\">편도 </span><i class=\"domestic_num__2roTW\">175,870</i><span class=\"unit\">원~</span></b></div></div></div></div><div class=\"domestic_Flight__sK0eA result\"><div class=\"domestic_inner__15-bD\"><div class=\"domestic_schedule__1Whiq\"><div class=\"domestic_item__2B--k\"><div class=\"heading\"><div class=\"airline\"><div class=\"logos\"><img alt=\"아시아나항공\" class=\"logo\" src=\"https://vertical.pstatic.net/vertical/static/flight/airlines/OZ.png\"></div><b class=\"name\">아시아나항공</b></div><div class=\"info\"><i class=\"npay\">1%적립</i><div class=\"domestic_PromotionBadge__2aHzU\"><i class=\"domestic_badge__20kwD\" role=\"button\" aria-expanded=\"false\">이벤트혜택</i><p class=\"domestic_layer__2cpTz\"><span class=\"domestic_txt__2YFi_\">네이버페이 결제시 <i class=\"npaypoint\" title=\"npaypoint\"></i>1%+1,500원 적립</span></p></div></div></div><div class=\"route_Route__2UInh\"><span class=\"route_airport__3VT7M\"><b class=\"route_time__-2Z1T\">06:10</b><i class=\"route_code__3WUFO\">GMP</i></span><span class=\"route_airport__3VT7M\"><b class=\"route_time__-2Z1T\">07:20</b><i class=\"route_code__3WUFO\">CJU</i></span><i class=\"route_info__1RhUH\">01시간 10분</i></div></div></div><button class=\"domestic_select_schedule__xWQ-K\" type=\"button\"></button><div class=\"domestic_prices__3N88F\"><div class=\"domestic_item__2B--k\"><i class=\"domestic_type__30RSq\">할인석</i><b class=\"domestic_price__1qAgw\"><span class=\"domestic_txt__2YFi_\">편도 </span><i class=\"domestic_num__2roTW\">117,000</i><span class=\"unit\">원~</span></b></div><div class=\"domestic_item_promotion__2q5bH\"><i class=\"domestic_type__30RSq\">삼성카드 결제시 4.4% 캐시백</i><b class=\"domestic_price__1qAgw\"><span class=\"domestic_txt__2YFi_\">편도 </span><i class=\"domestic_num__2roTW\">111,840</i><span class=\"unit\">원~</span></b></div></div></div></div><div class=\"domestic_Flight__sK0eA result\"><div class=\"domestic_inner__15-bD\"><div class=\"domestic_schedule__1Whiq\"><div class=\"domestic_item__2B--k\"><div class=\"heading\"><div class=\"airline\"><div class=\"logos\"><img alt=\"아시아나항공\" class=\"logo\" src=\"https://vertical.pstatic.net/vertical/static/flight/airlines/OZ.png\"></div><b class=\"name\">아시아나항공</b></div><div class=\"info\"><i class=\"npay\">1%적립</i><div class=\"domestic_PromotionBadge__2aHzU\"><i class=\"domestic_badge__20kwD\" role=\"button\" aria-expanded=\"false\">이벤트혜택</i><p class=\"domestic_layer__2cpTz\"><span class=\"domestic_txt__2YFi_\">네이버페이 결제시 <i class=\"npaypoint\" title=\"npaypoint\"></i>1%+1,500원 적립</span></p></div></div></div><div class=\"route_Route__2UInh\"><span class=\"route_airport__3VT7M\"><b class=\"route_time__-2Z1T\">06:10</b><i class=\"route_code__3WUFO\">GMP</i></span><span class=\"route_airport__3VT7M\"><b class=\"route_time__-2Z1T\">07:20</b><i class=\"route_code__3WUFO\">CJU</i></span><i class=\"route_info__1RhUH\">01시간 10분</i></div></div></div><button class=\"domestic_select_schedule__xWQ-K\" type=\"button\"></button><div class=\"domestic_prices__3N88F\"><div class=\"domestic_item__2B--k\"><i class=\"domestic_type__30RSq\">일반석</i><b class=\"domestic_price__1qAgw\"><span class=\"domestic_txt__2YFi_\">편도 </span><i class=\"domestic_num__2roTW\">147,000</i><span class=\"unit\">원~</span></b></div><div class=\"domestic_item_promotion__2q5bH\"><i class=\"domestic_type__30RSq\">삼성카드 결제시 4.4% 캐시백</i><b class=\"domestic_price__1qAgw\"><span class=\"domestic_txt__2YFi_\">편도 </span><i class=\"domestic_num__2roTW\">140,510</i><span class=\"unit\">원~</span></b></div></div></div></div><div class=\"domestic_Flight__sK0eA result\"><div class=\"domestic_inner__15-bD\"><div class=\"domestic_schedule__1Whiq\"><div class=\"domestic_item__2B--k\"><div class=\"heading\"><div class=\"airline\"><div class=\"logos\"><img alt=\"아시아나항공\" class=\"logo\" src=\"https://vertical.pstatic.net/vertical/static/flight/airlines/OZ.png\"></div><b class=\"name\">아시아나항공</b></div><div class=\"info\"><i class=\"npay\">1%적립</i><div class=\"domestic_PromotionBadge__2aHzU\"><i class=\"domestic_badge__20kwD\" role=\"button\" aria-expanded=\"false\">이벤트혜택</i><p class=\"domestic_layer__2cpTz\"><span class=\"domestic_txt__2YFi_\">네이버페이 결제시 <i class=\"npaypoint\" title=\"npaypoint\"></i>1%+1,500원 적립</span></p></div></div></div><div class=\"route_Route__2UInh\"><span class=\"route_airport__3VT7M\"><b class=\"route_time__-2Z1T\">06:10</b><i class=\"route_code__3WUFO\">GMP</i></span><span class=\"route_airport__3VT7M\"><b class=\"route_time__-2Z1T\">07:20</b><i class=\"route_code__3WUFO\">CJU</i></span><i class=\"route_info__1RhUH\">01시간 10분</i></div></div></div><button class=\"domestic_select_schedule__xWQ-K\" type=\"button\"></button><div class=\"domestic_prices__3N88F\"><div class=\"domestic_item__2B--k\"><i class=\"domestic_type__30RSq\">비즈니스석</i><b class=\"domestic_price__1qAgw\"><span class=\"domestic_txt__2YFi_\">편도 </span><i class=\"domestic_num__2roTW\">204,000</i><span class=\"unit\">원~</span></b></div><div class=\"domestic_item_promotion__2q5bH\"><i class=\"domestic_type__30RSq\">삼성카드 결제시 4.4% 캐시백</i><b class=\"domestic_price__1qAgw\"><span class=\"domestic_txt__2YFi_\">편도 </span><i class=\"domestic_num__2roTW\">194,980</i><span class=\"unit\">원~</span></b></div></div></div></div><div class=\"domestic_Flight__sK0eA result\"><div class=\"domestic_inner__15-bD\"><div class=\"domestic_schedule__1Whiq\"><div class=\"domestic_item__2B--k\"><div class=\"heading\"><div class=\"airline\"><div class=\"logos\"><img alt=\"진에어\" class=\"logo\" src=\"https://vertical.pstatic.net/vertical/static/flight/airlines/LJ.png\"></div><b class=\"name\">진에어</b></div><div class=\"info\"><i class=\"npay\">1%적립</i><div class=\"domestic_PromotionBadge__2aHzU\"><i class=\"domestic_badge__20kwD\" role=\"button\" aria-expanded=\"false\">이벤트혜택</i><p class=\"domestic_layer__2cpTz\"><span class=\"domestic_txt__2YFi_\">네이버페이 결제시 <i class=\"npaypoint\" title=\"npaypoint\"></i>1%+1,500원 적립</span></p></div></div></div><div class=\"route_Route__2UInh\"><span class=\"route_airport__3VT7M\"><b class=\"route_time__-2Z1T\">06:15</b><i class=\"route_code__3WUFO\">GMP</i></span><span class=\"route_airport__3VT7M\"><b class=\"route_time__-2Z1T\">07:20</b><i class=\"route_code__3WUFO\">CJU</i></span><i class=\"route_info__1RhUH\">01시간 05분</i></div></div></div><button class=\"domestic_select_schedule__xWQ-K\" type=\"button\"></button><div class=\"domestic_prices__3N88F\"><div class=\"domestic_item__2B--k\"><i class=\"domestic_type__30RSq\">할인석</i><b class=\"domestic_price__1qAgw\"><span class=\"domestic_txt__2YFi_\">편도 </span><i class=\"domestic_num__2roTW\">132,900</i><span class=\"unit\">원~</span></b></div><div class=\"domestic_item_promotion__2q5bH\"><i class=\"domestic_type__30RSq\">삼성카드 결제시 5.8% 캐시백</i><b class=\"domestic_price__1qAgw\"><span class=\"domestic_txt__2YFi_\">편도 </span><i class=\"domestic_num__2roTW\">125,220</i><span class=\"unit\">원~</span></b></div></div></div></div><div class=\"domestic_Flight__sK0eA result\"><div class=\"domestic_inner__15-bD\"><div class=\"domestic_schedule__1Whiq\"><div class=\"domestic_item__2B--k\"><div class=\"heading\"><div class=\"airline\"><div class=\"logos\"><img alt=\"진에어\" class=\"logo\" src=\"https://vertical.pstatic.net/vertical/static/flight/airlines/LJ.png\"></div><b class=\"name\">진에어</b></div><div class=\"info\"><i class=\"npay\">1%적립</i><div class=\"domestic_PromotionBadge__2aHzU\"><i class=\"domestic_badge__20kwD\" role=\"button\" aria-expanded=\"false\">이벤트혜택</i><p class=\"domestic_layer__2cpTz\"><span class=\"domestic_txt__2YFi_\">네이버페이 결제시 <i class=\"npaypoint\" title=\"npaypoint\"></i>1%+1,500원 적립</span></p></div></div></div><div class=\"route_Route__2UInh\"><span class=\"route_airport__3VT7M\"><b class=\"route_time__-2Z1T\">06:15</b><i class=\"route_code__3WUFO\">GMP</i></span><span class=\"route_airport__3VT7M\"><b class=\"route_time__-2Z1T\">07:20</b><i class=\"route_code__3WUFO\">CJU</i></span><i class=\"route_info__1RhUH\">01시간 05분</i></div></div></div><button class=\"domestic_select_schedule__xWQ-K\" type=\"button\"></button><div class=\"domestic_prices__3N88F\"><div class=\"domestic_item__2B--k\"><i class=\"domestic_type__30RSq\">일반석</i><b class=\"domestic_price__1qAgw\"><span class=\"domestic_txt__2YFi_\">편도 </span><i class=\"domestic_num__2roTW\">134,000</i><span class=\"unit\">원~</span></b></div><div class=\"domestic_item_promotion__2q5bH\"><i class=\"domestic_type__30RSq\">삼성카드 결제시 5.8% 캐시백</i><b class=\"domestic_price__1qAgw\"><span class=\"domestic_txt__2YFi_\">편도 </span><i class=\"domestic_num__2roTW\">126,250</i><span class=\"unit\">원~</span></b></div></div></div></div><div class=\"domestic_Flight__sK0eA result\"><div class=\"domestic_inner__15-bD\"><div class=\"domestic_schedule__1Whiq\"><div class=\"domestic_item__2B--k\"><div class=\"heading\"><div class=\"airline\"><div class=\"logos\"><img alt=\"진에어\" class=\"logo\" src=\"https://vertical.pstatic.net/vertical/static/flight/airlines/LJ.png\"></div><b class=\"name\">진에어</b></div><div class=\"info\"><i class=\"npay\">1%적립</i><div class=\"domestic_PromotionBadge__2aHzU\"><i class=\"domestic_badge__20kwD\" role=\"button\" aria-expanded=\"false\">이벤트혜택</i><p class=\"domestic_layer__2cpTz\"><span class=\"domestic_txt__2YFi_\">네이버페이 결제시 <i class=\"npaypoint\" title=\"npaypoint\"></i>1%+1,500원 적립</span></p></div></div></div><div class=\"route_Route__2UInh\"><span class=\"route_airport__3VT7M\"><b class=\"route_time__-2Z1T\">06:15</b><i class=\"route_code__3WUFO\">GMP</i></span><span class=\"route_airport__3VT7M\"><b class=\"route_time__-2Z1T\">07:20</b><i class=\"route_code__3WUFO\">CJU</i></span><i class=\"route_info__1RhUH\">01시간 05분</i></div></div></div><button class=\"domestic_select_schedule__xWQ-K\" type=\"button\"></button><div class=\"domestic_prices__3N88F\"><div class=\"domestic_item__2B--k\"><i class=\"domestic_type__30RSq\">비즈니스석</i><b class=\"domestic_price__1qAgw\"><span class=\"domestic_txt__2YFi_\">편도 </span><i class=\"domestic_num__2roTW\">189,000</i><span class=\"unit\">원~</span></b></div><div class=\"domestic_item_promotion__2q5bH\"><i class=\"domestic_type__30RSq\">삼성카드 결제시 5.8% 캐시백</i><b class=\"domestic_price__1qAgw\"><span class=\"domestic_txt__2YFi_\">편도 </span><i class=\"domestic_num__2roTW\">178,050</i><span class=\"unit\">원~</span></b></div></div></div></div><div class=\"domestic_Flight__sK0eA result\"><div class=\"domestic_inner__15-bD\"><div class=\"domestic_schedule__1Whiq\"><div class=\"domestic_item__2B--k\"><div class=\"heading\"><div class=\"airline\"><div class=\"logos\"><img alt=\"티웨이항공\" class=\"logo\" src=\"https://vertical.pstatic.net/vertical/static/flight/airlines/TW.png\"></div><b class=\"name\">티웨이항공</b></div><div class=\"info\"><i class=\"npay\">1%적립</i><div class=\"domestic_PromotionBadge__2aHzU\"><i class=\"domestic_badge__20kwD\" role=\"button\" aria-expanded=\"false\">이벤트혜택</i><p class=\"domestic_layer__2cpTz\"><span class=\"domestic_txt__2YFi_\">네이버페이 결제시 <i class=\"npaypoint\" title=\"npaypoint\"></i>1%+1,500원 적립</span></p></div></div></div><div class=\"route_Route__2UInh\"><span class=\"route_airport__3VT7M\"><b class=\"route_time__-2Z1T\">06:20</b><i class=\"route_code__3WUFO\">GMP</i></span><span class=\"route_airport__3VT7M\"><b class=\"route_time__-2Z1T\">07:30</b><i class=\"route_code__3WUFO\">CJU</i></span><i class=\"route_info__1RhUH\">01시간 10분</i></div></div></div><button class=\"domestic_select_schedule__xWQ-K\" type=\"button\"></button><div class=\"domestic_prices__3N88F\"><div class=\"domestic_item__2B--k\"><i class=\"domestic_type__30RSq\">할인석</i><b class=\"domestic_price__1qAgw\"><span class=\"domestic_txt__2YFi_\">편도 </span><i class=\"domestic_num__2roTW\">102,900</i><span class=\"unit\">원~</span></b></div><div class=\"domestic_item_promotion__2q5bH\"><i class=\"domestic_type__30RSq\">삼성카드 결제시 7% 캐시백</i><b class=\"domestic_price__1qAgw\"><span class=\"domestic_txt__2YFi_\">편도 </span><i class=\"domestic_num__2roTW\">97,450</i><span class=\"unit\">원~</span></b></div></div></div></div><div class=\"domestic_Flight__sK0eA result\"><div class=\"domestic_inner__15-bD\"><div class=\"domestic_schedule__1Whiq\"><div class=\"domestic_item__2B--k\"><div class=\"heading\"><div class=\"airline\"><div class=\"logos\"><img alt=\"티웨이항공\" class=\"logo\" src=\"https://vertical.pstatic.net/vertical/static/flight/airlines/TW.png\"></div><b class=\"name\">티웨이항공</b></div><div class=\"info\"><i class=\"npay\">1%적립</i><div class=\"domestic_PromotionBadge__2aHzU\"><i class=\"domestic_badge__20kwD\" role=\"button\" aria-expanded=\"false\">이벤트혜택</i><p class=\"domestic_layer__2cpTz\"><span class=\"domestic_txt__2YFi_\">네이버페이 결제시 <i class=\"npaypoint\" title=\"npaypoint\"></i>1%+1,500원 적립</span></p></div></div></div><div class=\"route_Route__2UInh\"><span class=\"route_airport__3VT7M\"><b class=\"route_time__-2Z1T\">06:20</b><i class=\"route_code__3WUFO\">GMP</i></span><span class=\"route_airport__3VT7M\"><b class=\"route_time__-2Z1T\">07:30</b><i class=\"route_code__3WUFO\">CJU</i></span><i class=\"route_info__1RhUH\">01시간 10분</i></div></div></div><button class=\"domestic_select_schedule__xWQ-K\" type=\"button\"></button><div class=\"domestic_prices__3N88F\"><div class=\"domestic_item__2B--k\"><i class=\"domestic_type__30RSq\">일반석</i><b class=\"domestic_price__1qAgw\"><span class=\"domestic_txt__2YFi_\">편도 </span><i class=\"domestic_num__2roTW\">132,200</i><span class=\"unit\">원~</span></b></div><div class=\"domestic_item_promotion__2q5bH\"><i class=\"domestic_type__30RSq\">삼성카드 결제시 7% 캐시백</i><b class=\"domestic_price__1qAgw\"><span class=\"domestic_txt__2YFi_\">편도 </span><i class=\"domestic_num__2roTW\">123,560</i><span class=\"unit\">원~</span></b></div></div></div></div><div class=\"domestic_Flight__sK0eA result\"><div class=\"domestic_inner__15-bD\"><div class=\"domestic_schedule__1Whiq\"><div class=\"domestic_item__2B--k\"><div class=\"heading\"><div class=\"airline\"><div class=\"logos\"><img alt=\"제주항공\" class=\"logo\" src=\"https://vertical.pstatic.net/vertical/static/flight/airlines/7C.png\"></div><b class=\"name\">제주항공</b></div><div class=\"info\"><i class=\"npay\">1%적립</i><div class=\"domestic_PromotionBadge__2aHzU\"><i class=\"domestic_badge__20kwD\" role=\"button\" aria-expanded=\"false\">이벤트혜택</i><p class=\"domestic_layer__2cpTz\"><span class=\"domestic_txt__2YFi_\">네이버페이 결제시 <i class=\"npaypoint\" title=\"npaypoint\"></i>1%+1,500원 적립</span></p></div></div></div><div class=\"route_Route__2UInh\"><span class=\"route_airport__3VT7M\"><b class=\"route_time__-2Z1T\">06:25</b><i class=\"route_code__3WUFO\">GMP</i></span><span class=\"route_airport__3VT7M\"><b class=\"route_time__-2Z1T\">07:35</b><i class=\"route_code__3WUFO\">CJU</i></span><i class=\"route_info__1RhUH\">01시간 10분</i></div></div></div><button class=\"domestic_select_schedule__xWQ-K\" type=\"button\"></button><div class=\"domestic_prices__3N88F\"><div class=\"domestic_item__2B--k\"><i class=\"domestic_type__30RSq\">할인석</i><b class=\"domestic_price__1qAgw\"><span class=\"domestic_txt__2YFi_\">편도 </span><i class=\"domestic_num__2roTW\">110,900</i><span class=\"unit\">원~</span></b></div><div class=\"domestic_item_promotion__2q5bH\"><i class=\"domestic_type__30RSq\">삼성카드 결제시 6.8% 캐시백</i><b class=\"domestic_price__1qAgw\"><span class=\"domestic_txt__2YFi_\">편도 </span><i class=\"domestic_num__2roTW\">103,340</i><span class=\"unit\">원~</span></b></div></div></div></div><div class=\"domestic_Flight__sK0eA result\"><div class=\"domestic_inner__15-bD\"><div class=\"domestic_schedule__1Whiq\"><div class=\"domestic_item__2B--k\"><div class=\"heading\"><div class=\"airline\"><div class=\"logos\"><img alt=\"아시아나항공\" class=\"logo\" src=\"https://vertical.pstatic.net/vertical/static/flight/airlines/OZ.png\"></div><b class=\"name\">아시아나항공</b></div><div class=\"info\"><i class=\"npay\">1%적립</i><div class=\"domestic_PromotionBadge__2aHzU\"><i class=\"domestic_badge__20kwD\" role=\"button\" aria-expanded=\"false\">이벤트혜택</i><p class=\"domestic_layer__2cpTz\"><span class=\"domestic_txt__2YFi_\">네이버페이 결제시 <i class=\"npaypoint\" title=\"npaypoint\"></i>1%+1,500원 적립</span></p></div></div></div><div class=\"route_Route__2UInh\"><span class=\"route_airport__3VT7M\"><b class=\"route_time__-2Z1T\">06:25</b><i class=\"route_code__3WUFO\">GMP</i></span><span class=\"route_airport__3VT7M\"><b class=\"route_time__-2Z1T\">07:35</b><i class=\"route_code__3WUFO\">CJU</i></span><i class=\"route_info__1RhUH\">01시간 10분</i></div></div></div><button class=\"domestic_select_schedule__xWQ-K\" type=\"button\"></button><div class=\"domestic_prices__3N88F\"><div class=\"domestic_item__2B--k\"><i class=\"domestic_type__30RSq\">할인석</i><b class=\"domestic_price__1qAgw\"><span class=\"domestic_txt__2YFi_\">편도 </span><i class=\"domestic_num__2roTW\">123,000</i><span class=\"unit\">원~</span></b></div><div class=\"domestic_item_promotion__2q5bH\"><i class=\"domestic_type__30RSq\">삼성카드 결제시 4.4% 캐시백</i><b class=\"domestic_price__1qAgw\"><span class=\"domestic_txt__2YFi_\">편도 </span><i class=\"domestic_num__2roTW\">117,580</i><span class=\"unit\">원~</span></b></div></div></div></div><div class=\"domestic_Flight__sK0eA result\"><div class=\"domestic_inner__15-bD\"><div class=\"domestic_schedule__1Whiq\"><div class=\"domestic_item__2B--k\"><div class=\"heading\"><div class=\"airline\"><div class=\"logos\"><img alt=\"제주항공\" class=\"logo\" src=\"https://vertical.pstatic.net/vertical/static/flight/airlines/7C.png\"></div><b class=\"name\">제주항공</b></div><div class=\"info\"><i class=\"npay\">1%적립</i><div class=\"domestic_PromotionBadge__2aHzU\"><i class=\"domestic_badge__20kwD\" role=\"button\" aria-expanded=\"false\">이벤트혜택</i><p class=\"domestic_layer__2cpTz\"><span class=\"domestic_txt__2YFi_\">네이버페이 결제시 <i class=\"npaypoint\" title=\"npaypoint\"></i>1%+1,500원 적립</span></p></div></div></div><div class=\"route_Route__2UInh\"><span class=\"route_airport__3VT7M\"><b class=\"route_time__-2Z1T\">06:25</b><i class=\"route_code__3WUFO\">GMP</i></span><span class=\"route_airport__3VT7M\"><b class=\"route_time__-2Z1T\">07:35</b><i class=\"route_code__3WUFO\">CJU</i></span><i class=\"route_info__1RhUH\">01시간 10분</i></div></div></div><button class=\"domestic_select_schedule__xWQ-K\" type=\"button\"></button><div class=\"domestic_prices__3N88F\"><div class=\"domestic_item__2B--k\"><i class=\"domestic_type__30RSq\">일반석</i><b class=\"domestic_price__1qAgw\"><span class=\"domestic_txt__2YFi_\">편도 </span><i class=\"domestic_num__2roTW\">133,500</i><span class=\"unit\">원~</span></b></div><div class=\"domestic_item_promotion__2q5bH\"><i class=\"domestic_type__30RSq\">삼성카드 결제시 6.8% 캐시백</i><b class=\"domestic_price__1qAgw\"><span class=\"domestic_txt__2YFi_\">편도 </span><i class=\"domestic_num__2roTW\">124,390</i><span class=\"unit\">원~</span></b></div></div></div></div><div class=\"domestic_Flight__sK0eA result\"><div class=\"domestic_inner__15-bD\"><div class=\"domestic_schedule__1Whiq\"><div class=\"domestic_item__2B--k\"><div class=\"heading\"><div class=\"airline\"><div class=\"logos\"><img alt=\"제주항공\" class=\"logo\" src=\"https://vertical.pstatic.net/vertical/static/flight/airlines/7C.png\"></div><b class=\"name\">제주항공</b></div><div class=\"info\"><i class=\"npay\">1%적립</i><div class=\"domestic_PromotionBadge__2aHzU\"><i class=\"domestic_badge__20kwD\" role=\"button\" aria-expanded=\"false\">이벤트혜택</i><p class=\"domestic_layer__2cpTz\"><span class=\"domestic_txt__2YFi_\">네이버페이 결제시 <i class=\"npaypoint\" title=\"npaypoint\"></i>1%+1,500원 적립</span></p></div></div></div><div class=\"route_Route__2UInh\"><span class=\"route_airport__3VT7M\"><b class=\"route_time__-2Z1T\">06:25</b><i class=\"route_code__3WUFO\">GMP</i></span><span class=\"route_airport__3VT7M\"><b class=\"route_time__-2Z1T\">07:35</b><i class=\"route_code__3WUFO\">CJU</i></span><i class=\"route_info__1RhUH\">01시간 10분</i></div></div></div><button class=\"domestic_select_schedule__xWQ-K\" type=\"button\"></button><div class=\"domestic_prices__3N88F\"><div class=\"domestic_item__2B--k\"><i class=\"domestic_type__30RSq\">일반석</i><b class=\"domestic_price__1qAgw\"><span class=\"domestic_txt__2YFi_\">편도 </span><i class=\"domestic_num__2roTW\">133,500</i><span class=\"unit\">원~</span></b></div><div class=\"domestic_item_promotion__2q5bH\"><i class=\"domestic_type__30RSq\">삼성카드 결제시 6.8% 캐시백</i><b class=\"domestic_price__1qAgw\"><span class=\"domestic_txt__2YFi_\">편도 </span><i class=\"domestic_num__2roTW\">124,390</i><span class=\"unit\">원~</span></b></div></div></div></div><div class=\"domestic_Flight__sK0eA result\"><div class=\"domestic_inner__15-bD\"><div class=\"domestic_schedule__1Whiq\"><div class=\"domestic_item__2B--k\"><div class=\"heading\"><div class=\"airline\"><div class=\"logos\"><img alt=\"아시아나항공\" class=\"logo\" src=\"https://vertical.pstatic.net/vertical/static/flight/airlines/OZ.png\"></div><b class=\"name\">아시아나항공</b></div><div class=\"info\"><i class=\"npay\">1%적립</i><div class=\"domestic_PromotionBadge__2aHzU\"><i class=\"domestic_badge__20kwD\" role=\"button\" aria-expanded=\"false\">이벤트혜택</i><p class=\"domestic_layer__2cpTz\"><span class=\"domestic_txt__2YFi_\">네이버페이 결제시 <i class=\"npaypoint\" title=\"npaypoint\"></i>1%+1,500원 적립</span></p></div></div></div><div class=\"route_Route__2UInh\"><span class=\"route_airport__3VT7M\"><b class=\"route_time__-2Z1T\">06:25</b><i class=\"route_code__3WUFO\">GMP</i></span><span class=\"route_airport__3VT7M\"><b class=\"route_time__-2Z1T\">07:35</b><i class=\"route_code__3WUFO\">CJU</i></span><i class=\"route_info__1RhUH\">01시간 10분</i></div></div></div><button class=\"domestic_select_schedule__xWQ-K\" type=\"button\"></button><div class=\"domestic_prices__3N88F\"><div class=\"domestic_item__2B--k\"><i class=\"domestic_type__30RSq\">일반석</i><b class=\"domestic_price__1qAgw\"><span class=\"domestic_txt__2YFi_\">편도 </span><i class=\"domestic_num__2roTW\">147,000</i><span class=\"unit\">원~</span></b></div><div class=\"domestic_item_promotion__2q5bH\"><i class=\"domestic_type__30RSq\">삼성카드 결제시 4.4% 캐시백</i><b class=\"domestic_price__1qAgw\"><span class=\"domestic_txt__2YFi_\">편도 </span><i class=\"domestic_num__2roTW\">140,510</i><span class=\"unit\">원~</span></b></div></div></div></div><div class=\"domestic_Flight__sK0eA result\"><div class=\"domestic_inner__15-bD\"><div class=\"domestic_schedule__1Whiq\"><div class=\"domestic_item__2B--k\"><div class=\"heading\"><div class=\"airline\"><div class=\"logos\"><img alt=\"진에어\" class=\"logo\" src=\"https://vertical.pstatic.net/vertical/static/flight/airlines/LJ.png\"></div><b class=\"name\">진에어</b></div><div class=\"info\"><i class=\"npay\">1%적립</i><div class=\"domestic_PromotionBadge__2aHzU\"><i class=\"domestic_badge__20kwD\" role=\"button\" aria-expanded=\"false\">이벤트혜택</i><p class=\"domestic_layer__2cpTz\"><span class=\"domestic_txt__2YFi_\">네이버페이 결제시 <i class=\"npaypoint\" title=\"npaypoint\"></i>1%+1,500원 적립</span></p></div></div></div><div class=\"route_Route__2UInh\"><span class=\"route_airport__3VT7M\"><b class=\"route_time__-2Z1T\">06:35</b><i class=\"route_code__3WUFO\">GMP</i></span><span class=\"route_airport__3VT7M\"><b class=\"route_time__-2Z1T\">07:45</b><i class=\"route_code__3WUFO\">CJU</i></span><i class=\"route_info__1RhUH\">01시간 10분</i></div></div></div><button class=\"domestic_select_schedule__xWQ-K\" type=\"button\"></button><div class=\"domestic_prices__3N88F\"><div class=\"domestic_item__2B--k\"><i class=\"domestic_type__30RSq\">할인석</i><b class=\"domestic_price__1qAgw\"><span class=\"domestic_txt__2YFi_\">편도 </span><i class=\"domestic_num__2roTW\">132,900</i><span class=\"unit\">원~</span></b></div><div class=\"domestic_item_promotion__2q5bH\"><i class=\"domestic_type__30RSq\">삼성카드 결제시 5.8% 캐시백</i><b class=\"domestic_price__1qAgw\"><span class=\"domestic_txt__2YFi_\">편도 </span><i class=\"domestic_num__2roTW\">125,220</i><span class=\"unit\">원~</span></b></div></div></div></div><div class=\"domestic_Flight__sK0eA result\"><div class=\"domestic_inner__15-bD\"><div class=\"domestic_schedule__1Whiq\"><div class=\"domestic_item__2B--k\"><div class=\"heading\"><div class=\"airline\"><div class=\"logos\"><img alt=\"진에어\" class=\"logo\" src=\"https://vertical.pstatic.net/vertical/static/flight/airlines/LJ.png\"></div><b class=\"name\">진에어</b></div><div class=\"info\"><i class=\"npay\">1%적립</i><div class=\"domestic_PromotionBadge__2aHzU\"><i class=\"domestic_badge__20kwD\" role=\"button\" aria-expanded=\"false\">이벤트혜택</i><p class=\"domestic_layer__2cpTz\"><span class=\"domestic_txt__2YFi_\">네이버페이 결제시 <i class=\"npaypoint\" title=\"npaypoint\"></i>1%+1,500원 적립</span></p></div></div></div><div class=\"route_Route__2UInh\"><span class=\"route_airport__3VT7M\"><b class=\"route_time__-2Z1T\">06:35</b><i class=\"route_code__3WUFO\">GMP</i></span><span class=\"route_airport__3VT7M\"><b class=\"route_time__-2Z1T\">07:45</b><i class=\"route_code__3WUFO\">CJU</i></span><i class=\"route_info__1RhUH\">01시간 10분</i></div></div></div><button class=\"domestic_select_schedule__xWQ-K\" type=\"button\"></button><div class=\"domestic_prices__3N88F\"><div class=\"domestic_item__2B--k\"><i class=\"domestic_type__30RSq\">일반석</i><b class=\"domestic_price__1qAgw\"><span class=\"domestic_txt__2YFi_\">편도 </span><i class=\"domestic_num__2roTW\">134,000</i><span class=\"unit\">원~</span></b></div><div class=\"domestic_item_promotion__2q5bH\"><i class=\"domestic_type__30RSq\">삼성카드 결제시 5.8% 캐시백</i><b class=\"domestic_price__1qAgw\"><span class=\"domestic_txt__2YFi_\">편도 </span><i class=\"domestic_num__2roTW\">126,250</i><span class=\"unit\">원~</span></b></div></div></div></div><div class=\"domestic_Flight__sK0eA result\"><div class=\"domestic_inner__15-bD\"><div class=\"domestic_schedule__1Whiq\"><div class=\"domestic_item__2B--k\"><div class=\"heading\"><div class=\"airline\"><div class=\"logos\"><img alt=\"아시아나항공\" class=\"logo\" src=\"https://vertical.pstatic.net/vertical/static/flight/airlines/OZ.png\"></div><b class=\"name\">아시아나항공</b></div><div class=\"info\"><i class=\"npay\">1%적립</i><div class=\"domestic_PromotionBadge__2aHzU\"><i class=\"domestic_badge__20kwD\" role=\"button\" aria-expanded=\"false\">이벤트혜택</i><p class=\"domestic_layer__2cpTz\"><span class=\"domestic_txt__2YFi_\">네이버페이 결제시 <i class=\"npaypoint\" title=\"npaypoint\"></i>1%+1,500원 적립</span></p></div></div></div><div class=\"route_Route__2UInh\"><span class=\"route_airport__3VT7M\"><b class=\"route_time__-2Z1T\">06:40</b><i class=\"route_code__3WUFO\">GMP</i></span><span class=\"route_airport__3VT7M\"><b class=\"route_time__-2Z1T\">07:50</b><i class=\"route_code__3WUFO\">CJU</i></span><i class=\"route_info__1RhUH\">01시간 10분</i></div></div></div><button class=\"domestic_select_schedule__xWQ-K\" type=\"button\"></button><div class=\"domestic_prices__3N88F\"><div class=\"domestic_item__2B--k\"><i class=\"domestic_type__30RSq\">할인석</i><b class=\"domestic_price__1qAgw\"><span class=\"domestic_txt__2YFi_\">편도 </span><i class=\"domestic_num__2roTW\">129,000</i><span class=\"unit\">원~</span></b></div><div class=\"domestic_item_promotion__2q5bH\"><i class=\"domestic_type__30RSq\">삼성카드 결제시 4.4% 캐시백</i><b class=\"domestic_price__1qAgw\"><span class=\"domestic_txt__2YFi_\">편도 </span><i class=\"domestic_num__2roTW\">123,310</i><span class=\"unit\">원~</span></b></div></div></div></div><div class=\"domestic_Flight__sK0eA result\"><div class=\"domestic_inner__15-bD\"><div class=\"domestic_schedule__1Whiq\"><div class=\"domestic_item__2B--k\"><div class=\"heading\"><div class=\"airline\"><div class=\"logos\"><img alt=\"대한항공\" class=\"logo\" src=\"https://vertical.pstatic.net/vertical/static/flight/airlines/KE.png\"></div><b class=\"name\">대한항공</b></div><div class=\"info\"></div></div><div class=\"route_Route__2UInh\"><span class=\"route_airport__3VT7M\"><b class=\"route_time__-2Z1T\">06:40</b><i class=\"route_code__3WUFO\">GMP</i></span><span class=\"route_airport__3VT7M\"><b class=\"route_time__-2Z1T\">07:50</b><i class=\"route_code__3WUFO\">CJU</i></span><i class=\"route_info__1RhUH\">01시간 10분</i></div></div></div><button class=\"domestic_select_schedule__xWQ-K\" type=\"button\"></button><div class=\"domestic_prices__3N88F\"><div class=\"domestic_item__2B--k\"><i class=\"domestic_type__30RSq\">일반석</i><b class=\"domestic_price__1qAgw\"><span class=\"domestic_txt__2YFi_\">편도 </span><i class=\"domestic_num__2roTW\">144,000</i><span class=\"unit\">원~</span></b></div><div class=\"domestic_item_promotion__2q5bH\"><i class=\"domestic_type__30RSq\">삼성카드 결제시 7.2% 캐시백</i><b class=\"domestic_price__1qAgw\"><span class=\"domestic_txt__2YFi_\">편도 </span><i class=\"domestic_num__2roTW\">133,640</i><span class=\"unit\">원~</span></b></div></div></div></div><div class=\"domestic_Flight__sK0eA result\"><div class=\"domestic_inner__15-bD\"><div class=\"domestic_schedule__1Whiq\"><div class=\"domestic_item__2B--k\"><div class=\"heading\"><div class=\"airline\"><div class=\"logos\"><img alt=\"아시아나항공\" class=\"logo\" src=\"https://vertical.pstatic.net/vertical/static/flight/airlines/OZ.png\"></div><b class=\"name\">아시아나항공</b></div><div class=\"info\"><i class=\"npay\">1%적립</i><div class=\"domestic_PromotionBadge__2aHzU\"><i class=\"domestic_badge__20kwD\" role=\"button\" aria-expanded=\"false\">이벤트혜택</i><p class=\"domestic_layer__2cpTz\"><span class=\"domestic_txt__2YFi_\">네이버페이 결제시 <i class=\"npaypoint\" title=\"npaypoint\"></i>1%+1,500원 적립</span></p></div></div></div><div class=\"route_Route__2UInh\"><span class=\"route_airport__3VT7M\"><b class=\"route_time__-2Z1T\">06:40</b><i class=\"route_code__3WUFO\">GMP</i></span><span class=\"route_airport__3VT7M\"><b class=\"route_time__-2Z1T\">07:50</b><i class=\"route_code__3WUFO\">CJU</i></span><i class=\"route_info__1RhUH\">01시간 10분</i></div></div></div><button class=\"domestic_select_schedule__xWQ-K\" type=\"button\"></button><div class=\"domestic_prices__3N88F\"><div class=\"domestic_item__2B--k\"><i class=\"domestic_type__30RSq\">일반석</i><b class=\"domestic_price__1qAgw\"><span class=\"domestic_txt__2YFi_\">편도 </span><i class=\"domestic_num__2roTW\">147,000</i><span class=\"unit\">원~</span></b></div><div class=\"domestic_item_promotion__2q5bH\"><i class=\"domestic_type__30RSq\">삼성카드 결제시 4.4% 캐시백</i><b class=\"domestic_price__1qAgw\"><span class=\"domestic_txt__2YFi_\">편도 </span><i class=\"domestic_num__2roTW\">140,510</i><span class=\"unit\">원~</span></b></div></div></div></div><div class=\"domestic_Flight__sK0eA result\"><div class=\"domestic_inner__15-bD\"><div class=\"domestic_schedule__1Whiq\"><div class=\"domestic_item__2B--k\"><div class=\"heading\"><div class=\"airline\"><div class=\"logos\"><img alt=\"티웨이항공\" class=\"logo\" src=\"https://vertical.pstatic.net/vertical/static/flight/airlines/TW.png\"></div><b class=\"name\">티웨이항공</b></div><div class=\"info\"><i class=\"npay\">1%적립</i><div class=\"domestic_PromotionBadge__2aHzU\"><i class=\"domestic_badge__20kwD\" role=\"button\" aria-expanded=\"false\">이벤트혜택</i><p class=\"domestic_layer__2cpTz\"><span class=\"domestic_txt__2YFi_\">네이버페이 결제시 <i class=\"npaypoint\" title=\"npaypoint\"></i>1%+1,500원 적립</span></p></div></div></div><div class=\"route_Route__2UInh\"><span class=\"route_airport__3VT7M\"><b class=\"route_time__-2Z1T\">07:00</b><i class=\"route_code__3WUFO\">GMP</i></span><span class=\"route_airport__3VT7M\"><b class=\"route_time__-2Z1T\">08:10</b><i class=\"route_code__3WUFO\">CJU</i></span><i class=\"route_info__1RhUH\">01시간 10분</i></div></div></div><button class=\"domestic_select_schedule__xWQ-K\" type=\"button\"></button><div class=\"domestic_prices__3N88F\"><div class=\"domestic_item__2B--k\"><i class=\"domestic_type__30RSq\">할인석</i><b class=\"domestic_price__1qAgw\"><span class=\"domestic_txt__2YFi_\">편도 </span><i class=\"domestic_num__2roTW\">116,100</i><span class=\"unit\">원~</span></b></div><div class=\"domestic_item_promotion__2q5bH\"><i class=\"domestic_type__30RSq\">삼성카드 결제시 7% 캐시백</i><b class=\"domestic_price__1qAgw\"><span class=\"domestic_txt__2YFi_\">편도 </span><i class=\"domestic_num__2roTW\">108,600</i><span class=\"unit\">원~</span></b></div></div></div></div><div class=\"domestic_Flight__sK0eA result\"><div class=\"domestic_inner__15-bD\"><div class=\"domestic_schedule__1Whiq\"><div class=\"domestic_item__2B--k\"><div class=\"heading\"><div class=\"airline\"><div class=\"logos\"><img alt=\"티웨이항공\" class=\"logo\" src=\"https://vertical.pstatic.net/vertical/static/flight/airlines/TW.png\"></div><b class=\"name\">티웨이항공</b></div><div class=\"info\"><i class=\"npay\">1%적립</i><div class=\"domestic_PromotionBadge__2aHzU\"><i class=\"domestic_badge__20kwD\" role=\"button\" aria-expanded=\"false\">이벤트혜택</i><p class=\"domestic_layer__2cpTz\"><span class=\"domestic_txt__2YFi_\">네이버페이 결제시 <i class=\"npaypoint\" title=\"npaypoint\"></i>1%+1,500원 적립</span></p></div></div></div><div class=\"route_Route__2UInh\"><span class=\"route_airport__3VT7M\"><b class=\"route_time__-2Z1T\">07:00</b><i class=\"route_code__3WUFO\">GMP</i></span><span class=\"route_airport__3VT7M\"><b class=\"route_time__-2Z1T\">08:10</b><i class=\"route_code__3WUFO\">CJU</i></span><i class=\"route_info__1RhUH\">01시간 10분</i></div></div></div><button class=\"domestic_select_schedule__xWQ-K\" type=\"button\"></button><div class=\"domestic_prices__3N88F\"><div class=\"domestic_item__2B--k\"><i class=\"domestic_type__30RSq\">일반석</i><b class=\"domestic_price__1qAgw\"><span class=\"domestic_txt__2YFi_\">편도 </span><i class=\"domestic_num__2roTW\">132,200</i><span class=\"unit\">원~</span></b></div><div class=\"domestic_item_promotion__2q5bH\"><i class=\"domestic_type__30RSq\">삼성카드 결제시 7% 캐시백</i><b class=\"domestic_price__1qAgw\"><span class=\"domestic_txt__2YFi_\">편도 </span><i class=\"domestic_num__2roTW\">123,560</i><span class=\"unit\">원~</span></b></div></div></div></div><div class=\"domestic_Flight__sK0eA result\"><div class=\"domestic_inner__15-bD\"><div class=\"domestic_schedule__1Whiq\"><div class=\"domestic_item__2B--k\"><div class=\"heading\"><div class=\"airline\"><div class=\"logos\"><img alt=\"제주항공\" class=\"logo\" src=\"https://vertical.pstatic.net/vertical/static/flight/airlines/7C.png\"></div><b class=\"name\">제주항공</b></div><div class=\"info\"><i class=\"npay\">1%적립</i><div class=\"domestic_PromotionBadge__2aHzU\"><i class=\"domestic_badge__20kwD\" role=\"button\" aria-expanded=\"false\">이벤트혜택</i><p class=\"domestic_layer__2cpTz\"><span class=\"domestic_txt__2YFi_\">네이버페이 결제시 <i class=\"npaypoint\" title=\"npaypoint\"></i>1%+1,500원 적립</span></p></div></div></div><div class=\"route_Route__2UInh\"><span class=\"route_airport__3VT7M\"><b class=\"route_time__-2Z1T\">07:00</b><i class=\"route_code__3WUFO\">GMP</i></span><span class=\"route_airport__3VT7M\"><b class=\"route_time__-2Z1T\">08:10</b><i class=\"route_code__3WUFO\">CJU</i></span><i class=\"route_info__1RhUH\">01시간 10분</i></div></div></div><button class=\"domestic_select_schedule__xWQ-K\" type=\"button\"></button><div class=\"domestic_prices__3N88F\"><div class=\"domestic_item__2B--k\"><i class=\"domestic_type__30RSq\">일반석</i><b class=\"domestic_price__1qAgw\"><span class=\"domestic_txt__2YFi_\">편도 </span><i class=\"domestic_num__2roTW\">133,500</i><span class=\"unit\">원~</span></b></div><div class=\"domestic_item_promotion__2q5bH\"><i class=\"domestic_type__30RSq\">삼성카드 결제시 6.8% 캐시백</i><b class=\"domestic_price__1qAgw\"><span class=\"domestic_txt__2YFi_\">편도 </span><i class=\"domestic_num__2roTW\">124,390</i><span class=\"unit\">원~</span></b></div></div></div></div><div class=\"domestic_Flight__sK0eA result\"><div class=\"domestic_inner__15-bD\"><div class=\"domestic_schedule__1Whiq\"><div class=\"domestic_item__2B--k\"><div class=\"heading\"><div class=\"airline\"><div class=\"logos\"><img alt=\"제주항공\" class=\"logo\" src=\"https://vertical.pstatic.net/vertical/static/flight/airlines/7C.png\"></div><b class=\"name\">제주항공</b></div><div class=\"info\"><i class=\"npay\">1%적립</i><div class=\"domestic_PromotionBadge__2aHzU\"><i class=\"domestic_badge__20kwD\" role=\"button\" aria-expanded=\"false\">이벤트혜택</i><p class=\"domestic_layer__2cpTz\"><span class=\"domestic_txt__2YFi_\">네이버페이 결제시 <i class=\"npaypoint\" title=\"npaypoint\"></i>1%+1,500원 적립</span></p></div></div></div><div class=\"route_Route__2UInh\"><span class=\"route_airport__3VT7M\"><b class=\"route_time__-2Z1T\">07:00</b><i class=\"route_code__3WUFO\">GMP</i></span><span class=\"route_airport__3VT7M\"><b class=\"route_time__-2Z1T\">08:10</b><i class=\"route_code__3WUFO\">CJU</i></span><i class=\"route_info__1RhUH\">01시간 10분</i></div></div></div><button class=\"domestic_select_schedule__xWQ-K\" type=\"button\"></button><div class=\"domestic_prices__3N88F\"><div class=\"domestic_item__2B--k\"><i class=\"domestic_type__30RSq\">비즈니스석</i><b class=\"domestic_price__1qAgw\"><span class=\"domestic_txt__2YFi_\">편도 </span><i class=\"domestic_num__2roTW\">184,500</i><span class=\"unit\">원~</span></b></div><div class=\"domestic_item_promotion__2q5bH\"><i class=\"domestic_type__30RSq\">삼성카드 결제시 6.8% 캐시백</i><b class=\"domestic_price__1qAgw\"><span class=\"domestic_txt__2YFi_\">편도 </span><i class=\"domestic_num__2roTW\">171,890</i><span class=\"unit\">원~</span></b></div></div></div></div><div class=\"domestic_Flight__sK0eA result\"><div class=\"domestic_inner__15-bD\"><div class=\"domestic_schedule__1Whiq\"><div class=\"domestic_item__2B--k\"><div class=\"heading\"><div class=\"airline\"><div class=\"logos\"><img alt=\"아시아나항공\" class=\"logo\" src=\"https://vertical.pstatic.net/vertical/static/flight/airlines/OZ.png\"></div><b class=\"name\">아시아나항공</b></div><div class=\"info\"><i class=\"npay\">1%적립</i><div class=\"domestic_PromotionBadge__2aHzU\"><i class=\"domestic_badge__20kwD\" role=\"button\" aria-expanded=\"false\">이벤트혜택</i><p class=\"domestic_layer__2cpTz\"><span class=\"domestic_txt__2YFi_\">네이버페이 결제시 <i class=\"npaypoint\" title=\"npaypoint\"></i>1%+1,500원 적립</span></p></div></div></div><div class=\"route_Route__2UInh\"><span class=\"route_airport__3VT7M\"><b class=\"route_time__-2Z1T\">07:25</b><i class=\"route_code__3WUFO\">GMP</i></span><span class=\"route_airport__3VT7M\"><b class=\"route_time__-2Z1T\">08:35</b><i class=\"route_code__3WUFO\">CJU</i></span><i class=\"route_info__1RhUH\">01시간 10분</i></div></div></div><button class=\"domestic_select_schedule__xWQ-K\" type=\"button\"></button><div class=\"domestic_prices__3N88F\"><div class=\"domestic_item__2B--k\"><i class=\"domestic_type__30RSq\">할인석</i><b class=\"domestic_price__1qAgw\"><span class=\"domestic_txt__2YFi_\">편도 </span><i class=\"domestic_num__2roTW\">141,000</i><span class=\"unit\">원~</span></b></div><div class=\"domestic_item_promotion__2q5bH\"><i class=\"domestic_type__30RSq\">삼성카드 결제시 4.4% 캐시백</i><b class=\"domestic_price__1qAgw\"><span class=\"domestic_txt__2YFi_\">편도 </span><i class=\"domestic_num__2roTW\">134,780</i><span class=\"unit\">원~</span></b></div></div></div></div><div class=\"domestic_Flight__sK0eA result\"><div class=\"domestic_inner__15-bD\"><div class=\"domestic_schedule__1Whiq\"><div class=\"domestic_item__2B--k\"><div class=\"heading\"><div class=\"airline\"><div class=\"logos\"><img alt=\"아시아나항공\" class=\"logo\" src=\"https://vertical.pstatic.net/vertical/static/flight/airlines/OZ.png\"></div><b class=\"name\">아시아나항공</b></div><div class=\"info\"><i class=\"npay\">1%적립</i><div class=\"domestic_PromotionBadge__2aHzU\"><i class=\"domestic_badge__20kwD\" role=\"button\" aria-expanded=\"false\">이벤트혜택</i><p class=\"domestic_layer__2cpTz\"><span class=\"domestic_txt__2YFi_\">네이버페이 결제시 <i class=\"npaypoint\" title=\"npaypoint\"></i>1%+1,500원 적립</span></p></div></div></div><div class=\"route_Route__2UInh\"><span class=\"route_airport__3VT7M\"><b class=\"route_time__-2Z1T\">07:25</b><i class=\"route_code__3WUFO\">GMP</i></span><span class=\"route_airport__3VT7M\"><b class=\"route_time__-2Z1T\">08:35</b><i class=\"route_code__3WUFO\">CJU</i></span><i class=\"route_info__1RhUH\">01시간 10분</i></div></div></div><button class=\"domestic_select_schedule__xWQ-K\" type=\"button\"></button><div class=\"domestic_prices__3N88F\"><div class=\"domestic_item__2B--k\"><i class=\"domestic_type__30RSq\">일반석</i><b class=\"domestic_price__1qAgw\"><span class=\"domestic_txt__2YFi_\">편도 </span><i class=\"domestic_num__2roTW\">147,000</i><span class=\"unit\">원~</span></b></div><div class=\"domestic_item_promotion__2q5bH\"><i class=\"domestic_type__30RSq\">삼성카드 결제시 4.4% 캐시백</i><b class=\"domestic_price__1qAgw\"><span class=\"domestic_txt__2YFi_\">편도 </span><i class=\"domestic_num__2roTW\">140,510</i><span class=\"unit\">원~</span></b></div></div></div></div><div class=\"domestic_Flight__sK0eA result\"><div class=\"domestic_inner__15-bD\"><div class=\"domestic_schedule__1Whiq\"><div class=\"domestic_item__2B--k\"><div class=\"heading\"><div class=\"airline\"><div class=\"logos\"><img alt=\"아시아나항공\" class=\"logo\" src=\"https://vertical.pstatic.net/vertical/static/flight/airlines/OZ.png\"></div><b class=\"name\">아시아나항공</b></div><div class=\"info\"><i class=\"npay\">1%적립</i><div class=\"domestic_PromotionBadge__2aHzU\"><i class=\"domestic_badge__20kwD\" role=\"button\" aria-expanded=\"false\">이벤트혜택</i><p class=\"domestic_layer__2cpTz\"><span class=\"domestic_txt__2YFi_\">네이버페이 결제시 <i class=\"npaypoint\" title=\"npaypoint\"></i>1%+1,500원 적립</span></p></div></div></div><div class=\"route_Route__2UInh\"><span class=\"route_airport__3VT7M\"><b class=\"route_time__-2Z1T\">07:25</b><i class=\"route_code__3WUFO\">GMP</i></span><span class=\"route_airport__3VT7M\"><b class=\"route_time__-2Z1T\">08:35</b><i class=\"route_code__3WUFO\">CJU</i></span><i class=\"route_info__1RhUH\">01시간 10분</i></div></div></div><button class=\"domestic_select_schedule__xWQ-K\" type=\"button\"></button><div class=\"domestic_prices__3N88F\"><div class=\"domestic_item__2B--k\"><i class=\"domestic_type__30RSq\">비즈니스석</i><b class=\"domestic_price__1qAgw\"><span class=\"domestic_txt__2YFi_\">편도 </span><i class=\"domestic_num__2roTW\">204,000</i><span class=\"unit\">원~</span></b></div><div class=\"domestic_item_promotion__2q5bH\"><i class=\"domestic_type__30RSq\">삼성카드 결제시 4.4% 캐시백</i><b class=\"domestic_price__1qAgw\"><span class=\"domestic_txt__2YFi_\">편도 </span><i class=\"domestic_num__2roTW\">194,980</i><span class=\"unit\">원~</span></b></div></div></div></div><div class=\"domestic_Flight__sK0eA result\"><div class=\"domestic_inner__15-bD\"><div class=\"domestic_schedule__1Whiq\"><div class=\"domestic_item__2B--k\"><div class=\"heading\"><div class=\"airline\"><div class=\"logos\"><img alt=\"에어부산\" class=\"logo\" src=\"https://vertical.pstatic.net/vertical/static/flight/airlines/BX.png\"></div><b class=\"name\">에어부산</b></div><div class=\"info\"></div></div><div class=\"route_Route__2UInh\"><span class=\"route_airport__3VT7M\"><b class=\"route_time__-2Z1T\">07:30</b><i class=\"route_code__3WUFO\">GMP</i></span><span class=\"route_airport__3VT7M\"><b class=\"route_time__-2Z1T\">08:30</b><i class=\"route_code__3WUFO\">CJU</i></span><i class=\"route_info__1RhUH\">01시간 00분</i></div></div></div><button class=\"domestic_select_schedule__xWQ-K\" type=\"button\"></button><div class=\"domestic_prices__3N88F\"><div class=\"domestic_item__2B--k\"><i class=\"domestic_type__30RSq\">할인석</i><b class=\"domestic_price__1qAgw\"><span class=\"domestic_txt__2YFi_\">편도 </span><i class=\"domestic_num__2roTW\">118,160</i><span class=\"unit\">원~</span></b></div><div class=\"domestic_item_promotion__2q5bH\"><i class=\"domestic_type__30RSq\">삼성카드 결제시 4.4% 캐시백</i><b class=\"domestic_price__1qAgw\"><span class=\"domestic_txt__2YFi_\">편도 </span><i class=\"domestic_num__2roTW\">113,000</i><span class=\"unit\">원~</span></b></div></div></div></div><div class=\"domestic_Flight__sK0eA result\"><div class=\"domestic_inner__15-bD\"><div class=\"domestic_schedule__1Whiq\"><div class=\"domestic_item__2B--k\"><div class=\"heading\"><div class=\"airline\"><div class=\"logos\"><img alt=\"에어부산\" class=\"logo\" src=\"https://vertical.pstatic.net/vertical/static/flight/airlines/BX.png\"></div><b class=\"name\">에어부산</b></div><div class=\"info\"></div></div><div class=\"route_Route__2UInh\"><span class=\"route_airport__3VT7M\"><b class=\"route_time__-2Z1T\">07:30</b><i class=\"route_code__3WUFO\">GMP</i></span><span class=\"route_airport__3VT7M\"><b class=\"route_time__-2Z1T\">08:30</b><i class=\"route_code__3WUFO\">CJU</i></span><i class=\"route_info__1RhUH\">01시간 00분</i></div></div></div><button class=\"domestic_select_schedule__xWQ-K\" type=\"button\"></button><div class=\"domestic_prices__3N88F\"><div class=\"domestic_item__2B--k\"><i class=\"domestic_type__30RSq\">일반석</i><b class=\"domestic_price__1qAgw\"><span class=\"domestic_txt__2YFi_\">편도 </span><i class=\"domestic_num__2roTW\">133,000</i><span class=\"unit\">원~</span></b></div><div class=\"domestic_item_promotion__2q5bH\"><i class=\"domestic_type__30RSq\">롯데카드 결제시 4.4% 캐시백</i><b class=\"domestic_price__1qAgw\"><span class=\"domestic_txt__2YFi_\">편도 </span><i class=\"domestic_num__2roTW\">127,170</i><span class=\"unit\">원~</span></b></div></div></div></div><div class=\"domestic_Flight__sK0eA result\"><div class=\"domestic_inner__15-bD\"><div class=\"domestic_schedule__1Whiq\"><div class=\"domestic_item__2B--k\"><div class=\"heading\"><div class=\"airline\"><div class=\"logos\"><img alt=\"대한항공\" class=\"logo\" src=\"https://vertical.pstatic.net/vertical/static/flight/airlines/KE.png\"></div><b class=\"name\">대한항공</b></div><div class=\"info\"></div></div><div class=\"route_Route__2UInh\"><span class=\"route_airport__3VT7M\"><b class=\"route_time__-2Z1T\">07:30</b><i class=\"route_code__3WUFO\">GMP</i></span><span class=\"route_airport__3VT7M\"><b class=\"route_time__-2Z1T\">08:40</b><i class=\"route_code__3WUFO\">CJU</i></span><i class=\"route_info__1RhUH\">01시간 10분</i></div></div></div><button class=\"domestic_select_schedule__xWQ-K\" type=\"button\"></button><div class=\"domestic_prices__3N88F\"><div class=\"domestic_item__2B--k\"><i class=\"domestic_type__30RSq\">일반석</i><b class=\"domestic_price__1qAgw\"><span class=\"domestic_txt__2YFi_\">편도 </span><i class=\"domestic_num__2roTW\">144,000</i><span class=\"unit\">원~</span></b></div><div class=\"domestic_item_promotion__2q5bH\"><i class=\"domestic_type__30RSq\">삼성카드 결제시 7.2% 캐시백</i><b class=\"domestic_price__1qAgw\"><span class=\"domestic_txt__2YFi_\">편도 </span><i class=\"domestic_num__2roTW\">133,640</i><span class=\"unit\">원~</span></b></div></div></div></div><div class=\"domestic_Flight__sK0eA result\"><div class=\"domestic_inner__15-bD\"><div class=\"domestic_schedule__1Whiq\"><div class=\"domestic_item__2B--k\"><div class=\"heading\"><div class=\"airline\"><div class=\"logos\"><img alt=\"제주항공\" class=\"logo\" src=\"https://vertical.pstatic.net/vertical/static/flight/airlines/7C.png\"></div><b class=\"name\">제주항공</b></div><div class=\"info\"><i class=\"npay\">1%적립</i><div class=\"domestic_PromotionBadge__2aHzU\"><i class=\"domestic_badge__20kwD\" role=\"button\" aria-expanded=\"false\">이벤트혜택</i><p class=\"domestic_layer__2cpTz\"><span class=\"domestic_txt__2YFi_\">네이버페이 결제시 <i class=\"npaypoint\" title=\"npaypoint\"></i>1%+1,500원 적립</span></p></div></div></div><div class=\"route_Route__2UInh\"><span class=\"route_airport__3VT7M\"><b class=\"route_time__-2Z1T\">07:40</b><i class=\"route_code__3WUFO\">GMP</i></span><span class=\"route_airport__3VT7M\"><b class=\"route_time__-2Z1T\">08:50</b><i class=\"route_code__3WUFO\">CJU</i></span><i class=\"route_info__1RhUH\">01시간 10분</i></div></div></div><button class=\"domestic_select_schedule__xWQ-K\" type=\"button\"></button><div class=\"domestic_prices__3N88F\"><div class=\"domestic_item__2B--k\"><i class=\"domestic_type__30RSq\">일반석</i><b class=\"domestic_price__1qAgw\"><span class=\"domestic_txt__2YFi_\">편도 </span><i class=\"domestic_num__2roTW\">133,500</i><span class=\"unit\">원~</span></b></div><div class=\"domestic_item_promotion__2q5bH\"><i class=\"domestic_type__30RSq\">삼성카드 결제시 6.8% 캐시백</i><b class=\"domestic_price__1qAgw\"><span class=\"domestic_txt__2YFi_\">편도 </span><i class=\"domestic_num__2roTW\">124,390</i><span class=\"unit\">원~</span></b></div></div></div></div><div class=\"domestic_Flight__sK0eA result\"><div class=\"domestic_inner__15-bD\"><div class=\"domestic_schedule__1Whiq\"><div class=\"domestic_item__2B--k\"><div class=\"heading\"><div class=\"airline\"><div class=\"logos\"><img alt=\"아시아나항공\" class=\"logo\" src=\"https://vertical.pstatic.net/vertical/static/flight/airlines/OZ.png\"></div><b class=\"name\">아시아나항공</b></div><div class=\"info\"><i class=\"npay\">1%적립</i><div class=\"domestic_PromotionBadge__2aHzU\"><i class=\"domestic_badge__20kwD\" role=\"button\" aria-expanded=\"false\">이벤트혜택</i><p class=\"domestic_layer__2cpTz\"><span class=\"domestic_txt__2YFi_\">네이버페이 결제시 <i class=\"npaypoint\" title=\"npaypoint\"></i>1%+1,500원 적립</span></p></div></div></div><div class=\"route_Route__2UInh\"><span class=\"route_airport__3VT7M\"><b class=\"route_time__-2Z1T\">07:45</b><i class=\"route_code__3WUFO\">GMP</i></span><span class=\"route_airport__3VT7M\"><b class=\"route_time__-2Z1T\">09:05</b><i class=\"route_code__3WUFO\">CJU</i></span><i class=\"route_info__1RhUH\">01시간 20분</i></div></div></div><button class=\"domestic_select_schedule__xWQ-K\" type=\"button\"></button><div class=\"domestic_prices__3N88F\"><div class=\"domestic_item__2B--k\"><i class=\"domestic_type__30RSq\">일반석</i><b class=\"domestic_price__1qAgw\"><span class=\"domestic_txt__2YFi_\">편도 </span><i class=\"domestic_num__2roTW\">147,000</i><span class=\"unit\">원~</span></b></div><div class=\"domestic_item_promotion__2q5bH\"><i class=\"domestic_type__30RSq\">삼성카드 결제시 4.4% 캐시백</i><b class=\"domestic_price__1qAgw\"><span class=\"domestic_txt__2YFi_\">편도 </span><i class=\"domestic_num__2roTW\">140,510</i><span class=\"unit\">원~</span></b></div></div></div></div><div class=\"domestic_Flight__sK0eA result\"><div class=\"domestic_inner__15-bD\"><div class=\"domestic_schedule__1Whiq\"><div class=\"domestic_item__2B--k\"><div class=\"heading\"><div class=\"airline\"><div class=\"logos\"><img alt=\"아시아나항공\" class=\"logo\" src=\"https://vertical.pstatic.net/vertical/static/flight/airlines/OZ.png\"></div><b class=\"name\">아시아나항공</b></div><div class=\"info\"><i class=\"npay\">1%적립</i><div class=\"domestic_PromotionBadge__2aHzU\"><i class=\"domestic_badge__20kwD\" role=\"button\" aria-expanded=\"false\">이벤트혜택</i><p class=\"domestic_layer__2cpTz\"><span class=\"domestic_txt__2YFi_\">네이버페이 결제시 <i class=\"npaypoint\" title=\"npaypoint\"></i>1%+1,500원 적립</span></p></div></div></div><div class=\"route_Route__2UInh\"><span class=\"route_airport__3VT7M\"><b class=\"route_time__-2Z1T\">07:45</b><i class=\"route_code__3WUFO\">GMP</i></span><span class=\"route_airport__3VT7M\"><b class=\"route_time__-2Z1T\">09:05</b><i class=\"route_code__3WUFO\">CJU</i></span><i class=\"route_info__1RhUH\">01시간 20분</i></div></div></div><button class=\"domestic_select_schedule__xWQ-K\" type=\"button\"></button><div class=\"domestic_prices__3N88F\"><div class=\"domestic_item__2B--k\"><i class=\"domestic_type__30RSq\">비즈니스석</i><b class=\"domestic_price__1qAgw\"><span class=\"domestic_txt__2YFi_\">편도 </span><i class=\"domestic_num__2roTW\">204,000</i><span class=\"unit\">원~</span></b></div><div class=\"domestic_item_promotion__2q5bH\"><i class=\"domestic_type__30RSq\">삼성카드 결제시 4.4% 캐시백</i><b class=\"domestic_price__1qAgw\"><span class=\"domestic_txt__2YFi_\">편도 </span><i class=\"domestic_num__2roTW\">194,980</i><span class=\"unit\">원~</span></b></div></div></div></div><div class=\"domestic_Flight__sK0eA result\"><div class=\"domestic_inner__15-bD\"><div class=\"domestic_schedule__1Whiq\"><div class=\"domestic_item__2B--k\"><div class=\"heading\"><div class=\"airline\"><div class=\"logos\"><img alt=\"에어서울\" class=\"logo\" src=\"https://vertical.pstatic.net/vertical/static/flight/airlines/RS.png\"></div><b class=\"name\">에어서울</b></div><div class=\"info\"></div></div><div class=\"route_Route__2UInh\"><span class=\"route_airport__3VT7M\"><b class=\"route_time__-2Z1T\">08:00</b><i class=\"route_code__3WUFO\">GMP</i></span><span class=\"route_airport__3VT7M\"><b class=\"route_time__-2Z1T\">09:00</b><i class=\"route_code__3WUFO\">CJU</i></span><i class=\"route_info__1RhUH\">01시간 00분</i></div></div></div><button class=\"domestic_select_schedule__xWQ-K\" type=\"button\"></button><div class=\"domestic_prices__3N88F\"><div class=\"domestic_item__2B--k\"><i class=\"domestic_type__30RSq\">일반석</i><b class=\"domestic_price__1qAgw\"><span class=\"domestic_txt__2YFi_\">편도 </span><i class=\"domestic_num__2roTW\">131,900</i><span class=\"unit\">원~</span></b></div><div class=\"domestic_item_promotion__2q5bH\"><i class=\"domestic_type__30RSq\">삼성카드 결제시 3.8% 캐시백</i><b class=\"domestic_price__1qAgw\"><span class=\"domestic_txt__2YFi_\">편도 </span><i class=\"domestic_num__2roTW\">126,880</i><span class=\"unit\">원~</span></b></div></div></div></div><div class=\"domestic_Flight__sK0eA result\"><div class=\"domestic_inner__15-bD\"><div class=\"domestic_schedule__1Whiq\"><div class=\"domestic_item__2B--k\"><div class=\"heading\"><div class=\"airline\"><div class=\"logos\"><img alt=\"티웨이항공\" class=\"logo\" src=\"https://vertical.pstatic.net/vertical/static/flight/airlines/TW.png\"></div><b class=\"name\">티웨이항공</b></div><div class=\"info\"><i class=\"npay\">1%적립</i><div class=\"domestic_PromotionBadge__2aHzU\"><i class=\"domestic_badge__20kwD\" role=\"button\" aria-expanded=\"false\">이벤트혜택</i><p class=\"domestic_layer__2cpTz\"><span class=\"domestic_txt__2YFi_\">네이버페이 결제시 <i class=\"npaypoint\" title=\"npaypoint\"></i>1%+1,500원 적립</span></p></div></div></div><div class=\"route_Route__2UInh\"><span class=\"route_airport__3VT7M\"><b class=\"route_time__-2Z1T\">08:00</b><i class=\"route_code__3WUFO\">GMP</i></span><span class=\"route_airport__3VT7M\"><b class=\"route_time__-2Z1T\">09:15</b><i class=\"route_code__3WUFO\">CJU</i></span><i class=\"route_info__1RhUH\">01시간 15분</i></div></div></div><button class=\"domestic_select_schedule__xWQ-K\" type=\"button\"></button><div class=\"domestic_prices__3N88F\"><div class=\"domestic_item__2B--k\"><i class=\"domestic_type__30RSq\">일반석</i><b class=\"domestic_price__1qAgw\"><span class=\"domestic_txt__2YFi_\">편도 </span><i class=\"domestic_num__2roTW\">132,200</i><span class=\"unit\">원~</span></b></div><div class=\"domestic_item_promotion__2q5bH\"><i class=\"domestic_type__30RSq\">삼성카드 결제시 7% 캐시백</i><b class=\"domestic_price__1qAgw\"><span class=\"domestic_txt__2YFi_\">편도 </span><i class=\"domestic_num__2roTW\">123,560</i><span class=\"unit\">원~</span></b></div></div></div></div><div class=\"domestic_Flight__sK0eA result\"><div class=\"domestic_inner__15-bD\"><div class=\"domestic_schedule__1Whiq\"><div class=\"domestic_item__2B--k\"><div class=\"heading\"><div class=\"airline\"><div class=\"logos\"><img alt=\"진에어\" class=\"logo\" src=\"https://vertical.pstatic.net/vertical/static/flight/airlines/LJ.png\"></div><b class=\"name\">진에어</b></div><div class=\"info\"><i class=\"npay\">1%적립</i><div class=\"domestic_PromotionBadge__2aHzU\"><i class=\"domestic_badge__20kwD\" role=\"button\" aria-expanded=\"false\">이벤트혜택</i><p class=\"domestic_layer__2cpTz\"><span class=\"domestic_txt__2YFi_\">네이버페이 결제시 <i class=\"npaypoint\" title=\"npaypoint\"></i>1%+1,500원 적립</span></p></div></div></div><div class=\"route_Route__2UInh\"><span class=\"route_airport__3VT7M\"><b class=\"route_time__-2Z1T\">08:00</b><i class=\"route_code__3WUFO\">GMP</i></span><span class=\"route_airport__3VT7M\"><b class=\"route_time__-2Z1T\">09:10</b><i class=\"route_code__3WUFO\">CJU</i></span><i class=\"route_info__1RhUH\">01시간 10분</i></div></div></div><button class=\"domestic_select_schedule__xWQ-K\" type=\"button\"></button><div class=\"domestic_prices__3N88F\"><div class=\"domestic_item__2B--k\"><i class=\"domestic_type__30RSq\">일반석</i><b class=\"domestic_price__1qAgw\"><span class=\"domestic_txt__2YFi_\">편도 </span><i class=\"domestic_num__2roTW\">134,000</i><span class=\"unit\">원~</span></b></div><div class=\"domestic_item_promotion__2q5bH\"><i class=\"domestic_type__30RSq\">삼성카드 결제시 5.8% 캐시백</i><b class=\"domestic_price__1qAgw\"><span class=\"domestic_txt__2YFi_\">편도 </span><i class=\"domestic_num__2roTW\">126,250</i><span class=\"unit\">원~</span></b></div></div></div></div><div class=\"domestic_Flight__sK0eA result\"><div class=\"domestic_inner__15-bD\"><div class=\"domestic_schedule__1Whiq\"><div class=\"domestic_item__2B--k\"><div class=\"heading\"><div class=\"airline\"><div class=\"logos\"><img alt=\"티웨이항공\" class=\"logo\" src=\"https://vertical.pstatic.net/vertical/static/flight/airlines/TW.png\"></div><b class=\"name\">티웨이항공</b></div><div class=\"info\"><i class=\"npay\">1%적립</i><div class=\"domestic_PromotionBadge__2aHzU\"><i class=\"domestic_badge__20kwD\" role=\"button\" aria-expanded=\"false\">이벤트혜택</i><p class=\"domestic_layer__2cpTz\"><span class=\"domestic_txt__2YFi_\">네이버페이 결제시 <i class=\"npaypoint\" title=\"npaypoint\"></i>1%+1,500원 적립</span></p></div></div></div><div class=\"route_Route__2UInh\"><span class=\"route_airport__3VT7M\"><b class=\"route_time__-2Z1T\">08:00</b><i class=\"route_code__3WUFO\">GMP</i></span><span class=\"route_airport__3VT7M\"><b class=\"route_time__-2Z1T\">09:15</b><i class=\"route_code__3WUFO\">CJU</i></span><i class=\"route_info__1RhUH\">01시간 15분</i></div></div></div><button class=\"domestic_select_schedule__xWQ-K\" type=\"button\"></button><div class=\"domestic_prices__3N88F\"><div class=\"domestic_item__2B--k\"><i class=\"domestic_type__30RSq\">비즈니스석</i><b class=\"domestic_price__1qAgw\"><span class=\"domestic_txt__2YFi_\">편도 </span><i class=\"domestic_num__2roTW\">189,200</i><span class=\"unit\">원~</span></b></div><div class=\"domestic_item_promotion__2q5bH\"><i class=\"domestic_type__30RSq\">삼성카드 결제시 7% 캐시백</i><b class=\"domestic_price__1qAgw\"><span class=\"domestic_txt__2YFi_\">편도 </span><i class=\"domestic_num__2roTW\">176,520</i><span class=\"unit\">원~</span></b></div></div></div></div><div class=\"domestic_Flight__sK0eA result\"><div class=\"domestic_inner__15-bD\"><div class=\"domestic_schedule__1Whiq\"><div class=\"domestic_item__2B--k\"><div class=\"heading\"><div class=\"airline\"><div class=\"logos\"><img alt=\"진에어\" class=\"logo\" src=\"https://vertical.pstatic.net/vertical/static/flight/airlines/LJ.png\"></div><b class=\"name\">진에어</b></div><div class=\"info\"><i class=\"npay\">1%적립</i><div class=\"domestic_PromotionBadge__2aHzU\"><i class=\"domestic_badge__20kwD\" role=\"button\" aria-expanded=\"false\">이벤트혜택</i><p class=\"domestic_layer__2cpTz\"><span class=\"domestic_txt__2YFi_\">네이버페이 결제시 <i class=\"npaypoint\" title=\"npaypoint\"></i>1%+1,500원 적립</span></p></div></div></div><div class=\"route_Route__2UInh\"><span class=\"route_airport__3VT7M\"><b class=\"route_time__-2Z1T\">08:10</b><i class=\"route_code__3WUFO\">GMP</i></span><span class=\"route_airport__3VT7M\"><b class=\"route_time__-2Z1T\">09:20</b><i class=\"route_code__3WUFO\">CJU</i></span><i class=\"route_info__1RhUH\">01시간 10분</i></div></div></div><button class=\"domestic_select_schedule__xWQ-K\" type=\"button\"></button><div class=\"domestic_prices__3N88F\"><div class=\"domestic_item__2B--k\"><i class=\"domestic_type__30RSq\">일반석</i><b class=\"domestic_price__1qAgw\"><span class=\"domestic_txt__2YFi_\">편도 </span><i class=\"domestic_num__2roTW\">134,000</i><span class=\"unit\">원~</span></b></div><div class=\"domestic_item_promotion__2q5bH\"><i class=\"domestic_type__30RSq\">삼성카드 결제시 5.8% 캐시백</i><b class=\"domestic_price__1qAgw\"><span class=\"domestic_txt__2YFi_\">편도 </span><i class=\"domestic_num__2roTW\">126,250</i><span class=\"unit\">원~</span></b></div></div></div></div><div class=\"domestic_Flight__sK0eA result\"><div class=\"domestic_inner__15-bD\"><div class=\"domestic_schedule__1Whiq\"><div class=\"domestic_item__2B--k\"><div class=\"heading\"><div class=\"airline\"><div class=\"logos\"><img alt=\"진에어\" class=\"logo\" src=\"https://vertical.pstatic.net/vertical/static/flight/airlines/LJ.png\"></div><b class=\"name\">진에어</b></div><div class=\"info\"><i class=\"npay\">1%적립</i><div class=\"domestic_PromotionBadge__2aHzU\"><i class=\"domestic_badge__20kwD\" role=\"button\" aria-expanded=\"false\">이벤트혜택</i><p class=\"domestic_layer__2cpTz\"><span class=\"domestic_txt__2YFi_\">네이버페이 결제시 <i class=\"npaypoint\" title=\"npaypoint\"></i>1%+1,500원 적립</span></p></div></div></div><div class=\"route_Route__2UInh\"><span class=\"route_airport__3VT7M\"><b class=\"route_time__-2Z1T\">08:10</b><i class=\"route_code__3WUFO\">GMP</i></span><span class=\"route_airport__3VT7M\"><b class=\"route_time__-2Z1T\">09:20</b><i class=\"route_code__3WUFO\">CJU</i></span><i class=\"route_info__1RhUH\">01시간 10분</i></div></div></div><button class=\"domestic_select_schedule__xWQ-K\" type=\"button\"></button><div class=\"domestic_prices__3N88F\"><div class=\"domestic_item__2B--k\"><i class=\"domestic_type__30RSq\">비즈니스석</i><b class=\"domestic_price__1qAgw\"><span class=\"domestic_txt__2YFi_\">편도 </span><i class=\"domestic_num__2roTW\">189,000</i><span class=\"unit\">원~</span></b></div><div class=\"domestic_item_promotion__2q5bH\"><i class=\"domestic_type__30RSq\">삼성카드 결제시 5.8% 캐시백</i><b class=\"domestic_price__1qAgw\"><span class=\"domestic_txt__2YFi_\">편도 </span><i class=\"domestic_num__2roTW\">178,050</i><span class=\"unit\">원~</span></b></div></div></div></div><div class=\"domestic_Flight__sK0eA result\"><div class=\"domestic_inner__15-bD\"><div class=\"domestic_schedule__1Whiq\"><div class=\"domestic_item__2B--k\"><div class=\"heading\"><div class=\"airline\"><div class=\"logos\"><img alt=\"아시아나항공\" class=\"logo\" src=\"https://vertical.pstatic.net/vertical/static/flight/airlines/OZ.png\"></div><b class=\"name\">아시아나항공</b></div><div class=\"info\"><i class=\"npay\">1%적립</i><div class=\"domestic_PromotionBadge__2aHzU\"><i class=\"domestic_badge__20kwD\" role=\"button\" aria-expanded=\"false\">이벤트혜택</i><p class=\"domestic_layer__2cpTz\"><span class=\"domestic_txt__2YFi_\">네이버페이 결제시 <i class=\"npaypoint\" title=\"npaypoint\"></i>1%+1,500원 적립</span></p></div></div></div><div class=\"route_Route__2UInh\"><span class=\"route_airport__3VT7M\"><b class=\"route_time__-2Z1T\">08:20</b><i class=\"route_code__3WUFO\">GMP</i></span><span class=\"route_airport__3VT7M\"><b class=\"route_time__-2Z1T\">09:35</b><i class=\"route_code__3WUFO\">CJU</i></span><i class=\"route_info__1RhUH\">01시간 15분</i></div></div></div><button class=\"domestic_select_schedule__xWQ-K\" type=\"button\"></button><div class=\"domestic_prices__3N88F\"><div class=\"domestic_item__2B--k\"><i class=\"domestic_type__30RSq\">일반석</i><b class=\"domestic_price__1qAgw\"><span class=\"domestic_txt__2YFi_\">편도 </span><i class=\"domestic_num__2roTW\">147,000</i><span class=\"unit\">원~</span></b></div><div class=\"domestic_item_promotion__2q5bH\"><i class=\"domestic_type__30RSq\">삼성카드 결제시 4.4% 캐시백</i><b class=\"domestic_price__1qAgw\"><span class=\"domestic_txt__2YFi_\">편도 </span><i class=\"domestic_num__2roTW\">140,510</i><span class=\"unit\">원~</span></b></div></div></div></div><div class=\"domestic_Flight__sK0eA result\"><div class=\"domestic_inner__15-bD\"><div class=\"domestic_schedule__1Whiq\"><div class=\"domestic_item__2B--k\"><div class=\"heading\"><div class=\"airline\"><div class=\"logos\"><img alt=\"에어부산\" class=\"logo\" src=\"https://vertical.pstatic.net/vertical/static/flight/airlines/BX.png\"></div><b class=\"name\">에어부산</b></div><div class=\"info\"></div></div><div class=\"route_Route__2UInh\"><span class=\"route_airport__3VT7M\"><b class=\"route_time__-2Z1T\">08:50</b><i class=\"route_code__3WUFO\">GMP</i></span><span class=\"route_airport__3VT7M\"><b class=\"route_time__-2Z1T\">10:00</b><i class=\"route_code__3WUFO\">CJU</i></span><i class=\"route_info__1RhUH\">01시간 10분</i></div></div></div><button class=\"domestic_select_schedule__xWQ-K\" type=\"button\"></button><div class=\"domestic_prices__3N88F\"><div class=\"domestic_item__2B--k\"><i class=\"domestic_type__30RSq\">일반석</i><b class=\"domestic_price__1qAgw\"><span class=\"domestic_txt__2YFi_\">편도 </span><i class=\"domestic_num__2roTW\">133,000</i><span class=\"unit\">원~</span></b></div><div class=\"domestic_item_promotion__2q5bH\"><i class=\"domestic_type__30RSq\">롯데카드 결제시 4.4% 캐시백</i><b class=\"domestic_price__1qAgw\"><span class=\"domestic_txt__2YFi_\">편도 </span><i class=\"domestic_num__2roTW\">127,170</i><span class=\"unit\">원~</span></b></div></div></div></div><div class=\"domestic_Flight__sK0eA result\"><div class=\"domestic_inner__15-bD\"><div class=\"domestic_schedule__1Whiq\"><div class=\"domestic_item__2B--k\"><div class=\"heading\"><div class=\"airline\"><div class=\"logos\"><img alt=\"제주항공\" class=\"logo\" src=\"https://vertical.pstatic.net/vertical/static/flight/airlines/7C.png\"></div><b class=\"name\">제주항공</b></div><div class=\"info\"><i class=\"npay\">1%적립</i><div class=\"domestic_PromotionBadge__2aHzU\"><i class=\"domestic_badge__20kwD\" role=\"button\" aria-expanded=\"false\">이벤트혜택</i><p class=\"domestic_layer__2cpTz\"><span class=\"domestic_txt__2YFi_\">네이버페이 결제시 <i class=\"npaypoint\" title=\"npaypoint\"></i>1% 적립</span></p></div></div></div><div class=\"route_Route__2UInh\"><span class=\"route_airport__3VT7M\"><b class=\"route_time__-2Z1T\">09:00</b><i class=\"route_code__3WUFO\">GMP</i></span><span class=\"route_airport__3VT7M\"><b class=\"route_time__-2Z1T\">10:10</b><i class=\"route_code__3WUFO\">CJU</i></span><i class=\"route_info__1RhUH\">01시간 10분</i></div></div></div><button class=\"domestic_select_schedule__xWQ-K\" type=\"button\"></button><div class=\"domestic_prices__3N88F\"><div class=\"domestic_item__2B--k\"><i class=\"domestic_type__30RSq\">일반석</i><b class=\"domestic_price__1qAgw\"><span class=\"domestic_txt__2YFi_\">편도 </span><i class=\"domestic_num__2roTW\">133,500</i><span class=\"unit\">원~</span></b></div><div class=\"domestic_item_promotion__2q5bH\"><i class=\"domestic_type__30RSq\">네이버페이 결제시 <i class=\"domestic_npay__21rgv\" title=\"npay\"></i>1% 적립</i><b class=\"domestic_price__1qAgw\"><span class=\"domestic_txt__2YFi_\">편도 </span><i class=\"domestic_num__2roTW\">132,165</i><span class=\"unit\">원~</span></b></div></div></div></div><div class=\"domestic_Flight__sK0eA result\"><div class=\"domestic_inner__15-bD\"><div class=\"domestic_schedule__1Whiq\"><div class=\"domestic_item__2B--k\"><div class=\"heading\"><div class=\"airline\"><div class=\"logos\"><img alt=\"제주항공\" class=\"logo\" src=\"https://vertical.pstatic.net/vertical/static/flight/airlines/7C.png\"></div><b class=\"name\">제주항공</b></div><div class=\"info\"><i class=\"npay\">1%적립</i><div class=\"domestic_PromotionBadge__2aHzU\"><i class=\"domestic_badge__20kwD\" role=\"button\" aria-expanded=\"false\">이벤트혜택</i><p class=\"domestic_layer__2cpTz\"><span class=\"domestic_txt__2YFi_\">네이버페이 결제시 <i class=\"npaypoint\" title=\"npaypoint\"></i>1%+1,500원 적립</span></p></div></div></div><div class=\"route_Route__2UInh\"><span class=\"route_airport__3VT7M\"><b class=\"route_time__-2Z1T\">09:25</b><i class=\"route_code__3WUFO\">GMP</i></span><span class=\"route_airport__3VT7M\"><b class=\"route_time__-2Z1T\">10:35</b><i class=\"route_code__3WUFO\">CJU</i></span><i class=\"route_info__1RhUH\">01시간 10분</i></div></div></div><button class=\"domestic_select_schedule__xWQ-K\" type=\"button\"></button><div class=\"domestic_prices__3N88F\"><div class=\"domestic_item__2B--k\"><i class=\"domestic_type__30RSq\">일반석</i><b class=\"domestic_price__1qAgw\"><span class=\"domestic_txt__2YFi_\">편도 </span><i class=\"domestic_num__2roTW\">133,500</i><span class=\"unit\">원~</span></b></div><div class=\"domestic_item_promotion__2q5bH\"><i class=\"domestic_type__30RSq\">삼성카드 결제시 6.8% 캐시백</i><b class=\"domestic_price__1qAgw\"><span class=\"domestic_txt__2YFi_\">편도 </span><i class=\"domestic_num__2roTW\">124,390</i><span class=\"unit\">원~</span></b></div></div></div></div><div class=\"domestic_Flight__sK0eA result\"><div class=\"domestic_inner__15-bD\"><div class=\"domestic_schedule__1Whiq\"><div class=\"domestic_item__2B--k\"><div class=\"heading\"><div class=\"airline\"><div class=\"logos\"><img alt=\"아시아나항공\" class=\"logo\" src=\"https://vertical.pstatic.net/vertical/static/flight/airlines/OZ.png\"></div><b class=\"name\">아시아나항공</b></div><div class=\"info\"><i class=\"npay\">1%적립</i><div class=\"domestic_PromotionBadge__2aHzU\"><i class=\"domestic_badge__20kwD\" role=\"button\" aria-expanded=\"false\">이벤트혜택</i><p class=\"domestic_layer__2cpTz\"><span class=\"domestic_txt__2YFi_\">네이버페이 결제시 <i class=\"npaypoint\" title=\"npaypoint\"></i>1%+1,500원 적립</span></p></div></div></div><div class=\"route_Route__2UInh\"><span class=\"route_airport__3VT7M\"><b class=\"route_time__-2Z1T\">10:15</b><i class=\"route_code__3WUFO\">GMP</i></span><span class=\"route_airport__3VT7M\"><b class=\"route_time__-2Z1T\">11:25</b><i class=\"route_code__3WUFO\">CJU</i></span><i class=\"route_info__1RhUH\">01시간 10분</i></div></div></div><button class=\"domestic_select_schedule__xWQ-K\" type=\"button\"></button><div class=\"domestic_prices__3N88F\"><div class=\"domestic_item__2B--k\"><i class=\"domestic_type__30RSq\">일반석</i><b class=\"domestic_price__1qAgw\"><span class=\"domestic_txt__2YFi_\">편도 </span><i class=\"domestic_num__2roTW\">147,000</i><span class=\"unit\">원~</span></b></div><div class=\"domestic_item_promotion__2q5bH\"><i class=\"domestic_type__30RSq\">삼성카드 결제시 4.4% 캐시백</i><b class=\"domestic_price__1qAgw\"><span class=\"domestic_txt__2YFi_\">편도 </span><i class=\"domestic_num__2roTW\">140,510</i><span class=\"unit\">원~</span></b></div></div></div></div><div class=\"domestic_Flight__sK0eA result\"><div class=\"domestic_inner__15-bD\"><div class=\"domestic_schedule__1Whiq\"><div class=\"domestic_item__2B--k\"><div class=\"heading\"><div class=\"airline\"><div class=\"logos\"><img alt=\"아시아나항공\" class=\"logo\" src=\"https://vertical.pstatic.net/vertical/static/flight/airlines/OZ.png\"></div><b class=\"name\">아시아나항공</b></div><div class=\"info\"><i class=\"npay\">1%적립</i><div class=\"domestic_PromotionBadge__2aHzU\"><i class=\"domestic_badge__20kwD\" role=\"button\" aria-expanded=\"false\">이벤트혜택</i><p class=\"domestic_layer__2cpTz\"><span class=\"domestic_txt__2YFi_\">네이버페이 결제시 <i class=\"npaypoint\" title=\"npaypoint\"></i>1%+1,500원 적립</span></p></div></div></div><div class=\"route_Route__2UInh\"><span class=\"route_airport__3VT7M\"><b class=\"route_time__-2Z1T\">10:15</b><i class=\"route_code__3WUFO\">GMP</i></span><span class=\"route_airport__3VT7M\"><b class=\"route_time__-2Z1T\">11:25</b><i class=\"route_code__3WUFO\">CJU</i></span><i class=\"route_info__1RhUH\">01시간 10분</i></div></div></div><button class=\"domestic_select_schedule__xWQ-K\" type=\"button\"></button><div class=\"domestic_prices__3N88F\"><div class=\"domestic_item__2B--k\"><i class=\"domestic_type__30RSq\">비즈니스석</i><b class=\"domestic_price__1qAgw\"><span class=\"domestic_txt__2YFi_\">편도 </span><i class=\"domestic_num__2roTW\">204,000</i><span class=\"unit\">원~</span></b></div><div class=\"domestic_item_promotion__2q5bH\"><i class=\"domestic_type__30RSq\">삼성카드 결제시 4.4% 캐시백</i><b class=\"domestic_price__1qAgw\"><span class=\"domestic_txt__2YFi_\">편도 </span><i class=\"domestic_num__2roTW\">194,980</i><span class=\"unit\">원~</span></b></div></div></div></div><div class=\"domestic_Flight__sK0eA result\"><div class=\"domestic_inner__15-bD\"><div class=\"domestic_schedule__1Whiq\"><div class=\"domestic_item__2B--k\"><div class=\"heading\"><div class=\"airline\"><div class=\"logos\"><img alt=\"제주항공\" class=\"logo\" src=\"https://vertical.pstatic.net/vertical/static/flight/airlines/7C.png\"></div><b class=\"name\">제주항공</b></div><div class=\"info\"><i class=\"npay\">1%적립</i><div class=\"domestic_PromotionBadge__2aHzU\"><i class=\"domestic_badge__20kwD\" role=\"button\" aria-expanded=\"false\">이벤트혜택</i><p class=\"domestic_layer__2cpTz\"><span class=\"domestic_txt__2YFi_\">네이버페이 결제시 <i class=\"npaypoint\" title=\"npaypoint\"></i>1%+1,500원 적립</span></p></div></div></div><div class=\"route_Route__2UInh\"><span class=\"route_airport__3VT7M\"><b class=\"route_time__-2Z1T\">10:30</b><i class=\"route_code__3WUFO\">GMP</i></span><span class=\"route_airport__3VT7M\"><b class=\"route_time__-2Z1T\">11:30</b><i class=\"route_code__3WUFO\">CJU</i></span><i class=\"route_info__1RhUH\">01시간 00분</i></div></div></div><button class=\"domestic_select_schedule__xWQ-K\" type=\"button\"></button><div class=\"domestic_prices__3N88F\"><div class=\"domestic_item__2B--k\"><i class=\"domestic_type__30RSq\">일반석</i><b class=\"domestic_price__1qAgw\"><span class=\"domestic_txt__2YFi_\">편도 </span><i class=\"domestic_num__2roTW\">133,500</i><span class=\"unit\">원~</span></b></div><div class=\"domestic_item_promotion__2q5bH\"><i class=\"domestic_type__30RSq\">삼성카드 결제시 6.8% 캐시백</i><b class=\"domestic_price__1qAgw\"><span class=\"domestic_txt__2YFi_\">편도 </span><i class=\"domestic_num__2roTW\">124,390</i><span class=\"unit\">원~</span></b></div></div></div></div><div class=\"domestic_Flight__sK0eA result\"><div class=\"domestic_inner__15-bD\"><div class=\"domestic_schedule__1Whiq\"><div class=\"domestic_item__2B--k\"><div class=\"heading\"><div class=\"airline\"><div class=\"logos\"><img alt=\"진에어\" class=\"logo\" src=\"https://vertical.pstatic.net/vertical/static/flight/airlines/LJ.png\"></div><b class=\"name\">진에어</b></div><div class=\"info\"><i class=\"npay\">1%적립</i><div class=\"domestic_PromotionBadge__2aHzU\"><i class=\"domestic_badge__20kwD\" role=\"button\" aria-expanded=\"false\">이벤트혜택</i><p class=\"domestic_layer__2cpTz\"><span class=\"domestic_txt__2YFi_\">네이버페이 결제시 <i class=\"npaypoint\" title=\"npaypoint\"></i>1%+1,500원 적립</span></p></div></div></div><div class=\"route_Route__2UInh\"><span class=\"route_airport__3VT7M\"><b class=\"route_time__-2Z1T\">10:35</b><i class=\"route_code__3WUFO\">GMP</i></span><span class=\"route_airport__3VT7M\"><b class=\"route_time__-2Z1T\">11:45</b><i class=\"route_code__3WUFO\">CJU</i></span><i class=\"route_info__1RhUH\">01시간 10분</i></div></div></div><button class=\"domestic_select_schedule__xWQ-K\" type=\"button\"></button><div class=\"domestic_prices__3N88F\"><div class=\"domestic_item__2B--k\"><i class=\"domestic_type__30RSq\">일반석</i><b class=\"domestic_price__1qAgw\"><span class=\"domestic_txt__2YFi_\">편도 </span><i class=\"domestic_num__2roTW\">134,000</i><span class=\"unit\">원~</span></b></div><div class=\"domestic_item_promotion__2q5bH\"><i class=\"domestic_type__30RSq\">삼성카드 결제시 5.8% 캐시백</i><b class=\"domestic_price__1qAgw\"><span class=\"domestic_txt__2YFi_\">편도 </span><i class=\"domestic_num__2roTW\">126,250</i><span class=\"unit\">원~</span></b></div></div></div></div><div class=\"domestic_Flight__sK0eA result\"><div class=\"domestic_inner__15-bD\"><div class=\"domestic_schedule__1Whiq\"><div class=\"domestic_item__2B--k\"><div class=\"heading\"><div class=\"airline\"><div class=\"logos\"><img alt=\"티웨이항공\" class=\"logo\" src=\"https://vertical.pstatic.net/vertical/static/flight/airlines/TW.png\"></div><b class=\"name\">티웨이항공</b></div><div class=\"info\"><i class=\"npay\">1%적립</i><div class=\"domestic_PromotionBadge__2aHzU\"><i class=\"domestic_badge__20kwD\" role=\"button\" aria-expanded=\"false\">이벤트혜택</i><p class=\"domestic_layer__2cpTz\"><span class=\"domestic_txt__2YFi_\">네이버페이 결제시 <i class=\"npaypoint\" title=\"npaypoint\"></i>1%+1,500원 적립</span></p></div></div></div><div class=\"route_Route__2UInh\"><span class=\"route_airport__3VT7M\"><b class=\"route_time__-2Z1T\">11:45</b><i class=\"route_code__3WUFO\">GMP</i></span><span class=\"route_airport__3VT7M\"><b class=\"route_time__-2Z1T\">12:55</b><i class=\"route_code__3WUFO\">CJU</i></span><i class=\"route_info__1RhUH\">01시간 10분</i></div></div></div><button class=\"domestic_select_schedule__xWQ-K\" type=\"button\"></button><div class=\"domestic_prices__3N88F\"><div class=\"domestic_item__2B--k\"><i class=\"domestic_type__30RSq\">일반석</i><b class=\"domestic_price__1qAgw\"><span class=\"domestic_txt__2YFi_\">편도 </span><i class=\"domestic_num__2roTW\">132,200</i><span class=\"unit\">원~</span></b></div><div class=\"domestic_item_promotion__2q5bH\"><i class=\"domestic_type__30RSq\">삼성카드 결제시 7% 캐시백</i><b class=\"domestic_price__1qAgw\"><span class=\"domestic_txt__2YFi_\">편도 </span><i class=\"domestic_num__2roTW\">123,560</i><span class=\"unit\">원~</span></b></div></div></div></div><div class=\"domestic_Flight__sK0eA result\"><div class=\"domestic_inner__15-bD\"><div class=\"domestic_schedule__1Whiq\"><div class=\"domestic_item__2B--k\"><div class=\"heading\"><div class=\"airline\"><div class=\"logos\"><img alt=\"에어부산\" class=\"logo\" src=\"https://vertical.pstatic.net/vertical/static/flight/airlines/BX.png\"></div><b class=\"name\">에어부산</b></div><div class=\"info\"></div></div><div class=\"route_Route__2UInh\"><span class=\"route_airport__3VT7M\"><b class=\"route_time__-2Z1T\">11:50</b><i class=\"route_code__3WUFO\">GMP</i></span><span class=\"route_airport__3VT7M\"><b class=\"route_time__-2Z1T\">13:00</b><i class=\"route_code__3WUFO\">CJU</i></span><i class=\"route_info__1RhUH\">01시간 10분</i></div></div></div><button class=\"domestic_select_schedule__xWQ-K\" type=\"button\"></button><div class=\"domestic_prices__3N88F\"><div class=\"domestic_item__2B--k\"><i class=\"domestic_type__30RSq\">할인석</i><b class=\"domestic_price__1qAgw\"><span class=\"domestic_txt__2YFi_\">편도 </span><i class=\"domestic_num__2roTW\">120,280</i><span class=\"unit\">원~</span></b></div><div class=\"domestic_item_promotion__2q5bH\"><i class=\"domestic_type__30RSq\">삼성카드 결제시 4.4% 캐시백</i><b class=\"domestic_price__1qAgw\"><span class=\"domestic_txt__2YFi_\">편도 </span><i class=\"domestic_num__2roTW\">115,030</i><span class=\"unit\">원~</span></b></div></div></div></div><div class=\"domestic_Flight__sK0eA result\"><div class=\"domestic_inner__15-bD\"><div class=\"domestic_schedule__1Whiq\"><div class=\"domestic_item__2B--k\"><div class=\"heading\"><div class=\"airline\"><div class=\"logos\"><img alt=\"에어부산\" class=\"logo\" src=\"https://vertical.pstatic.net/vertical/static/flight/airlines/BX.png\"></div><b class=\"name\">에어부산</b></div><div class=\"info\"></div></div><div class=\"route_Route__2UInh\"><span class=\"route_airport__3VT7M\"><b class=\"route_time__-2Z1T\">11:50</b><i class=\"route_code__3WUFO\">GMP</i></span><span class=\"route_airport__3VT7M\"><b class=\"route_time__-2Z1T\">13:00</b><i class=\"route_code__3WUFO\">CJU</i></span><i class=\"route_info__1RhUH\">01시간 10분</i></div></div></div><button class=\"domestic_select_schedule__xWQ-K\" type=\"button\"></button><div class=\"domestic_prices__3N88F\"><div class=\"domestic_item__2B--k\"><i class=\"domestic_type__30RSq\">일반석</i><b class=\"domestic_price__1qAgw\"><span class=\"domestic_txt__2YFi_\">편도 </span><i class=\"domestic_num__2roTW\">133,000</i><span class=\"unit\">원~</span></b></div><div class=\"domestic_item_promotion__2q5bH\"><i class=\"domestic_type__30RSq\">롯데카드 결제시 4.4% 캐시백</i><b class=\"domestic_price__1qAgw\"><span class=\"domestic_txt__2YFi_\">편도 </span><i class=\"domestic_num__2roTW\">127,170</i><span class=\"unit\">원~</span></b></div></div></div></div><div class=\"domestic_Flight__sK0eA result\"><div class=\"domestic_inner__15-bD\"><div class=\"domestic_schedule__1Whiq\"><div class=\"domestic_item__2B--k\"><div class=\"heading\"><div class=\"airline\"><div class=\"logos\"><img alt=\"진에어\" class=\"logo\" src=\"https://vertical.pstatic.net/vertical/static/flight/airlines/LJ.png\"></div><b class=\"name\">진에어</b></div><div class=\"info\"><i class=\"npay\">1%적립</i><div class=\"domestic_PromotionBadge__2aHzU\"><i class=\"domestic_badge__20kwD\" role=\"button\" aria-expanded=\"false\">이벤트혜택</i><p class=\"domestic_layer__2cpTz\"><span class=\"domestic_txt__2YFi_\">네이버페이 결제시 <i class=\"npaypoint\" title=\"npaypoint\"></i>1%+1,500원 적립</span></p></div></div></div><div class=\"route_Route__2UInh\"><span class=\"route_airport__3VT7M\"><b class=\"route_time__-2Z1T\">11:55</b><i class=\"route_code__3WUFO\">GMP</i></span><span class=\"route_airport__3VT7M\"><b class=\"route_time__-2Z1T\">13:05</b><i class=\"route_code__3WUFO\">CJU</i></span><i class=\"route_info__1RhUH\">01시간 10분</i></div></div></div><button class=\"domestic_select_schedule__xWQ-K\" type=\"button\"></button><div class=\"domestic_prices__3N88F\"><div class=\"domestic_item__2B--k\"><i class=\"domestic_type__30RSq\">할인석</i><b class=\"domestic_price__1qAgw\"><span class=\"domestic_txt__2YFi_\">편도 </span><i class=\"domestic_num__2roTW\">116,900</i><span class=\"unit\">원~</span></b></div><div class=\"domestic_item_promotion__2q5bH\"><i class=\"domestic_type__30RSq\">삼성카드 결제시 5.8% 캐시백</i><b class=\"domestic_price__1qAgw\"><span class=\"domestic_txt__2YFi_\">편도 </span><i class=\"domestic_num__2roTW\">110,150</i><span class=\"unit\">원~</span></b></div></div></div></div><div class=\"domestic_Flight__sK0eA result\"><div class=\"domestic_inner__15-bD\"><div class=\"domestic_schedule__1Whiq\"><div class=\"domestic_item__2B--k\"><div class=\"heading\"><div class=\"airline\"><div class=\"logos\"><img alt=\"진에어\" class=\"logo\" src=\"https://vertical.pstatic.net/vertical/static/flight/airlines/LJ.png\"></div><b class=\"name\">진에어</b></div><div class=\"info\"><i class=\"npay\">1%적립</i><div class=\"domestic_PromotionBadge__2aHzU\"><i class=\"domestic_badge__20kwD\" role=\"button\" aria-expanded=\"false\">이벤트혜택</i><p class=\"domestic_layer__2cpTz\"><span class=\"domestic_txt__2YFi_\">네이버페이 결제시 <i class=\"npaypoint\" title=\"npaypoint\"></i>1%+1,500원 적립</span></p></div></div></div><div class=\"route_Route__2UInh\"><span class=\"route_airport__3VT7M\"><b class=\"route_time__-2Z1T\">11:55</b><i class=\"route_code__3WUFO\">GMP</i></span><span class=\"route_airport__3VT7M\"><b class=\"route_time__-2Z1T\">13:05</b><i class=\"route_code__3WUFO\">CJU</i></span><i class=\"route_info__1RhUH\">01시간 10분</i></div></div></div><button class=\"domestic_select_schedule__xWQ-K\" type=\"button\"></button><div class=\"domestic_prices__3N88F\"><div class=\"domestic_item__2B--k\"><i class=\"domestic_type__30RSq\">일반석</i><b class=\"domestic_price__1qAgw\"><span class=\"domestic_txt__2YFi_\">편도 </span><i class=\"domestic_num__2roTW\">134,000</i><span class=\"unit\">원~</span></b></div><div class=\"domestic_item_promotion__2q5bH\"><i class=\"domestic_type__30RSq\">삼성카드 결제시 5.8% 캐시백</i><b class=\"domestic_price__1qAgw\"><span class=\"domestic_txt__2YFi_\">편도 </span><i class=\"domestic_num__2roTW\">126,250</i><span class=\"unit\">원~</span></b></div></div></div></div><div class=\"domestic_Flight__sK0eA result\"><div class=\"domestic_inner__15-bD\"><div class=\"domestic_schedule__1Whiq\"><div class=\"domestic_item__2B--k\"><div class=\"heading\"><div class=\"airline\"><div class=\"logos\"><img alt=\"아시아나항공\" class=\"logo\" src=\"https://vertical.pstatic.net/vertical/static/flight/airlines/OZ.png\"></div><b class=\"name\">아시아나항공</b></div><div class=\"info\"><i class=\"npay\">1%적립</i><div class=\"domestic_PromotionBadge__2aHzU\"><i class=\"domestic_badge__20kwD\" role=\"button\" aria-expanded=\"false\">이벤트혜택</i><p class=\"domestic_layer__2cpTz\"><span class=\"domestic_txt__2YFi_\">네이버페이 결제시 <i class=\"npaypoint\" title=\"npaypoint\"></i>1%+1,500원 적립</span></p></div></div></div><div class=\"route_Route__2UInh\"><span class=\"route_airport__3VT7M\"><b class=\"route_time__-2Z1T\">11:55</b><i class=\"route_code__3WUFO\">GMP</i></span><span class=\"route_airport__3VT7M\"><b class=\"route_time__-2Z1T\">13:05</b><i class=\"route_code__3WUFO\">CJU</i></span><i class=\"route_info__1RhUH\">01시간 10분</i></div></div></div><button class=\"domestic_select_schedule__xWQ-K\" type=\"button\"></button><div class=\"domestic_prices__3N88F\"><div class=\"domestic_item__2B--k\"><i class=\"domestic_type__30RSq\">일반석</i><b class=\"domestic_price__1qAgw\"><span class=\"domestic_txt__2YFi_\">편도 </span><i class=\"domestic_num__2roTW\">147,000</i><span class=\"unit\">원~</span></b></div><div class=\"domestic_item_promotion__2q5bH\"><i class=\"domestic_type__30RSq\">삼성카드 결제시 4.4% 캐시백</i><b class=\"domestic_price__1qAgw\"><span class=\"domestic_txt__2YFi_\">편도 </span><i class=\"domestic_num__2roTW\">140,510</i><span class=\"unit\">원~</span></b></div></div></div></div><div class=\"domestic_Flight__sK0eA result\"><div class=\"domestic_inner__15-bD\"><div class=\"domestic_schedule__1Whiq\"><div class=\"domestic_item__2B--k\"><div class=\"heading\"><div class=\"airline\"><div class=\"logos\"><img alt=\"제주항공\" class=\"logo\" src=\"https://vertical.pstatic.net/vertical/static/flight/airlines/7C.png\"></div><b class=\"name\">제주항공</b></div><div class=\"info\"><i class=\"npay\">1%적립</i><div class=\"domestic_PromotionBadge__2aHzU\"><i class=\"domestic_badge__20kwD\" role=\"button\" aria-expanded=\"false\">이벤트혜택</i><p class=\"domestic_layer__2cpTz\"><span class=\"domestic_txt__2YFi_\">네이버페이 결제시 <i class=\"npaypoint\" title=\"npaypoint\"></i>1%+1,500원 적립</span></p></div></div></div><div class=\"route_Route__2UInh\"><span class=\"route_airport__3VT7M\"><b class=\"route_time__-2Z1T\">12:15</b><i class=\"route_code__3WUFO\">GMP</i></span><span class=\"route_airport__3VT7M\"><b class=\"route_time__-2Z1T\">13:35</b><i class=\"route_code__3WUFO\">CJU</i></span><i class=\"route_info__1RhUH\">01시간 20분</i></div></div></div><button class=\"domestic_select_schedule__xWQ-K\" type=\"button\"></button><div class=\"domestic_prices__3N88F\"><div class=\"domestic_item__2B--k\"><i class=\"domestic_type__30RSq\">일반석</i><b class=\"domestic_price__1qAgw\"><span class=\"domestic_txt__2YFi_\">편도 </span><i class=\"domestic_num__2roTW\">133,500</i><span class=\"unit\">원~</span></b></div><div class=\"domestic_item_promotion__2q5bH\"><i class=\"domestic_type__30RSq\">삼성카드 결제시 6.8% 캐시백</i><b class=\"domestic_price__1qAgw\"><span class=\"domestic_txt__2YFi_\">편도 </span><i class=\"domestic_num__2roTW\">124,390</i><span class=\"unit\">원~</span></b></div></div></div></div><div class=\"domestic_Flight__sK0eA result\"><div class=\"domestic_inner__15-bD\"><div class=\"domestic_schedule__1Whiq\"><div class=\"domestic_item__2B--k\"><div class=\"heading\"><div class=\"airline\"><div class=\"logos\"><img alt=\"아시아나항공\" class=\"logo\" src=\"https://vertical.pstatic.net/vertical/static/flight/airlines/OZ.png\"></div><b class=\"name\">아시아나항공</b></div><div class=\"info\"><i class=\"npay\">1%적립</i><div class=\"domestic_PromotionBadge__2aHzU\"><i class=\"domestic_badge__20kwD\" role=\"button\" aria-expanded=\"false\">이벤트혜택</i><p class=\"domestic_layer__2cpTz\"><span class=\"domestic_txt__2YFi_\">네이버페이 결제시 <i class=\"npaypoint\" title=\"npaypoint\"></i>1%+1,500원 적립</span></p></div></div></div><div class=\"route_Route__2UInh\"><span class=\"route_airport__3VT7M\"><b class=\"route_time__-2Z1T\">12:20</b><i class=\"route_code__3WUFO\">GMP</i></span><span class=\"route_airport__3VT7M\"><b class=\"route_time__-2Z1T\">13:35</b><i class=\"route_code__3WUFO\">CJU</i></span><i class=\"route_info__1RhUH\">01시간 15분</i></div></div></div><button class=\"domestic_select_schedule__xWQ-K\" type=\"button\"></button><div class=\"domestic_prices__3N88F\"><div class=\"domestic_item__2B--k\"><i class=\"domestic_type__30RSq\">할인석</i><b class=\"domestic_price__1qAgw\"><span class=\"domestic_txt__2YFi_\">편도 </span><i class=\"domestic_num__2roTW\">141,000</i><span class=\"unit\">원~</span></b></div><div class=\"domestic_item_promotion__2q5bH\"><i class=\"domestic_type__30RSq\">삼성카드 결제시 4.4% 캐시백</i><b class=\"domestic_price__1qAgw\"><span class=\"domestic_txt__2YFi_\">편도 </span><i class=\"domestic_num__2roTW\">134,780</i><span class=\"unit\">원~</span></b></div></div></div></div><div class=\"domestic_Flight__sK0eA result\"><div class=\"domestic_inner__15-bD\"><div class=\"domestic_schedule__1Whiq\"><div class=\"domestic_item__2B--k\"><div class=\"heading\"><div class=\"airline\"><div class=\"logos\"><img alt=\"아시아나항공\" class=\"logo\" src=\"https://vertical.pstatic.net/vertical/static/flight/airlines/OZ.png\"></div><b class=\"name\">아시아나항공</b></div><div class=\"info\"><i class=\"npay\">1%적립</i><div class=\"domestic_PromotionBadge__2aHzU\"><i class=\"domestic_badge__20kwD\" role=\"button\" aria-expanded=\"false\">이벤트혜택</i><p class=\"domestic_layer__2cpTz\"><span class=\"domestic_txt__2YFi_\">네이버페이 결제시 <i class=\"npaypoint\" title=\"npaypoint\"></i>1%+1,500원 적립</span></p></div></div></div><div class=\"route_Route__2UInh\"><span class=\"route_airport__3VT7M\"><b class=\"route_time__-2Z1T\">12:20</b><i class=\"route_code__3WUFO\">GMP</i></span><span class=\"route_airport__3VT7M\"><b class=\"route_time__-2Z1T\">13:35</b><i class=\"route_code__3WUFO\">CJU</i></span><i class=\"route_info__1RhUH\">01시간 15분</i></div></div></div><button class=\"domestic_select_schedule__xWQ-K\" type=\"button\"></button><div class=\"domestic_prices__3N88F\"><div class=\"domestic_item__2B--k\"><i class=\"domestic_type__30RSq\">일반석</i><b class=\"domestic_price__1qAgw\"><span class=\"domestic_txt__2YFi_\">편도 </span><i class=\"domestic_num__2roTW\">147,000</i><span class=\"unit\">원~</span></b></div><div class=\"domestic_item_promotion__2q5bH\"><i class=\"domestic_type__30RSq\">삼성카드 결제시 4.4% 캐시백</i><b class=\"domestic_price__1qAgw\"><span class=\"domestic_txt__2YFi_\">편도 </span><i class=\"domestic_num__2roTW\">140,510</i><span class=\"unit\">원~</span></b></div></div></div></div><div class=\"domestic_Flight__sK0eA result\"><div class=\"domestic_inner__15-bD\"><div class=\"domestic_schedule__1Whiq\"><div class=\"domestic_item__2B--k\"><div class=\"heading\"><div class=\"airline\"><div class=\"logos\"><img alt=\"제주항공\" class=\"logo\" src=\"https://vertical.pstatic.net/vertical/static/flight/airlines/7C.png\"></div><b class=\"name\">제주항공</b></div><div class=\"info\"><i class=\"npay\">1%적립</i><div class=\"domestic_PromotionBadge__2aHzU\"><i class=\"domestic_badge__20kwD\" role=\"button\" aria-expanded=\"false\">이벤트혜택</i><p class=\"domestic_layer__2cpTz\"><span class=\"domestic_txt__2YFi_\">네이버페이 결제시 <i class=\"npaypoint\" title=\"npaypoint\"></i>1%+1,500원 적립</span></p></div></div></div><div class=\"route_Route__2UInh\"><span class=\"route_airport__3VT7M\"><b class=\"route_time__-2Z1T\">12:40</b><i class=\"route_code__3WUFO\">GMP</i></span><span class=\"route_airport__3VT7M\"><b class=\"route_time__-2Z1T\">13:50</b><i class=\"route_code__3WUFO\">CJU</i></span><i class=\"route_info__1RhUH\">01시간 10분</i></div></div></div><button class=\"domestic_select_schedule__xWQ-K\" type=\"button\"></button><div class=\"domestic_prices__3N88F\"><div class=\"domestic_item__2B--k\"><i class=\"domestic_type__30RSq\">할인석</i><b class=\"domestic_price__1qAgw\"><span class=\"domestic_txt__2YFi_\">편도 </span><i class=\"domestic_num__2roTW\">110,900</i><span class=\"unit\">원~</span></b></div><div class=\"domestic_item_promotion__2q5bH\"><i class=\"domestic_type__30RSq\">삼성카드 결제시 6.8% 캐시백</i><b class=\"domestic_price__1qAgw\"><span class=\"domestic_txt__2YFi_\">편도 </span><i class=\"domestic_num__2roTW\">103,340</i><span class=\"unit\">원~</span></b></div></div></div></div><div class=\"domestic_Flight__sK0eA result\"><div class=\"domestic_inner__15-bD\"><div class=\"domestic_schedule__1Whiq\"><div class=\"domestic_item__2B--k\"><div class=\"heading\"><div class=\"airline\"><div class=\"logos\"><img alt=\"제주항공\" class=\"logo\" src=\"https://vertical.pstatic.net/vertical/static/flight/airlines/7C.png\"></div><b class=\"name\">제주항공</b></div><div class=\"info\"><i class=\"npay\">1%적립</i><div class=\"domestic_PromotionBadge__2aHzU\"><i class=\"domestic_badge__20kwD\" role=\"button\" aria-expanded=\"false\">이벤트혜택</i><p class=\"domestic_layer__2cpTz\"><span class=\"domestic_txt__2YFi_\">네이버페이 결제시 <i class=\"npaypoint\" title=\"npaypoint\"></i>1%+1,500원 적립</span></p></div></div></div><div class=\"route_Route__2UInh\"><span class=\"route_airport__3VT7M\"><b class=\"route_time__-2Z1T\">12:40</b><i class=\"route_code__3WUFO\">GMP</i></span><span class=\"route_airport__3VT7M\"><b class=\"route_time__-2Z1T\">13:50</b><i class=\"route_code__3WUFO\">CJU</i></span><i class=\"route_info__1RhUH\">01시간 10분</i></div></div></div><button class=\"domestic_select_schedule__xWQ-K\" type=\"button\"></button><div class=\"domestic_prices__3N88F\"><div class=\"domestic_item__2B--k\"><i class=\"domestic_type__30RSq\">일반석</i><b class=\"domestic_price__1qAgw\"><span class=\"domestic_txt__2YFi_\">편도 </span><i class=\"domestic_num__2roTW\">133,500</i><span class=\"unit\">원~</span></b></div><div class=\"domestic_item_promotion__2q5bH\"><i class=\"domestic_type__30RSq\">삼성카드 결제시 6.8% 캐시백</i><b class=\"domestic_price__1qAgw\"><span class=\"domestic_txt__2YFi_\">편도 </span><i class=\"domestic_num__2roTW\">124,390</i><span class=\"unit\">원~</span></b></div></div></div></div><div class=\"domestic_Flight__sK0eA result\"><div class=\"domestic_inner__15-bD\"><div class=\"domestic_schedule__1Whiq\"><div class=\"domestic_item__2B--k\"><div class=\"heading\"><div class=\"airline\"><div class=\"logos\"><img alt=\"아시아나항공\" class=\"logo\" src=\"https://vertical.pstatic.net/vertical/static/flight/airlines/OZ.png\"></div><b class=\"name\">아시아나항공</b></div><div class=\"info\"><i class=\"npay\">1%적립</i><div class=\"domestic_PromotionBadge__2aHzU\"><i class=\"domestic_badge__20kwD\" role=\"button\" aria-expanded=\"false\">이벤트혜택</i><p class=\"domestic_layer__2cpTz\"><span class=\"domestic_txt__2YFi_\">네이버페이 결제시 <i class=\"npaypoint\" title=\"npaypoint\"></i>1%+1,500원 적립</span></p></div></div></div><div class=\"route_Route__2UInh\"><span class=\"route_airport__3VT7M\"><b class=\"route_time__-2Z1T\">12:50</b><i class=\"route_code__3WUFO\">GMP</i></span><span class=\"route_airport__3VT7M\"><b class=\"route_time__-2Z1T\">13:55</b><i class=\"route_code__3WUFO\">CJU</i></span><i class=\"route_info__1RhUH\">01시간 05분</i></div></div></div><button class=\"domestic_select_schedule__xWQ-K\" type=\"button\"></button><div class=\"domestic_prices__3N88F\"><div class=\"domestic_item__2B--k\"><i class=\"domestic_type__30RSq\">할인석</i><b class=\"domestic_price__1qAgw\"><span class=\"domestic_txt__2YFi_\">편도 </span><i class=\"domestic_num__2roTW\">129,000</i><span class=\"unit\">원~</span></b></div><div class=\"domestic_item_promotion__2q5bH\"><i class=\"domestic_type__30RSq\">삼성카드 결제시 4.4% 캐시백</i><b class=\"domestic_price__1qAgw\"><span class=\"domestic_txt__2YFi_\">편도 </span><i class=\"domestic_num__2roTW\">123,310</i><span class=\"unit\">원~</span></b></div></div></div></div><div class=\"domestic_Flight__sK0eA result\"><div class=\"domestic_inner__15-bD\"><div class=\"domestic_schedule__1Whiq\"><div class=\"domestic_item__2B--k\"><div class=\"heading\"><div class=\"airline\"><div class=\"logos\"><img alt=\"티웨이항공\" class=\"logo\" src=\"https://vertical.pstatic.net/vertical/static/flight/airlines/TW.png\"></div><b class=\"name\">티웨이항공</b></div><div class=\"info\"><i class=\"npay\">1%적립</i><div class=\"domestic_PromotionBadge__2aHzU\"><i class=\"domestic_badge__20kwD\" role=\"button\" aria-expanded=\"false\">이벤트혜택</i><p class=\"domestic_layer__2cpTz\"><span class=\"domestic_txt__2YFi_\">네이버페이 결제시 <i class=\"npaypoint\" title=\"npaypoint\"></i>1%+1,500원 적립</span></p></div></div></div><div class=\"route_Route__2UInh\"><span class=\"route_airport__3VT7M\"><b class=\"route_time__-2Z1T\">12:50</b><i class=\"route_code__3WUFO\">GMP</i></span><span class=\"route_airport__3VT7M\"><b class=\"route_time__-2Z1T\">14:00</b><i class=\"route_code__3WUFO\">CJU</i></span><i class=\"route_info__1RhUH\">01시간 10분</i></div></div></div><button class=\"domestic_select_schedule__xWQ-K\" type=\"button\"></button><div class=\"domestic_prices__3N88F\"><div class=\"domestic_item__2B--k\"><i class=\"domestic_type__30RSq\">일반석</i><b class=\"domestic_price__1qAgw\"><span class=\"domestic_txt__2YFi_\">편도 </span><i class=\"domestic_num__2roTW\">132,200</i><span class=\"unit\">원~</span></b></div><div class=\"domestic_item_promotion__2q5bH\"><i class=\"domestic_type__30RSq\">삼성카드 결제시 7% 캐시백</i><b class=\"domestic_price__1qAgw\"><span class=\"domestic_txt__2YFi_\">편도 </span><i class=\"domestic_num__2roTW\">123,560</i><span class=\"unit\">원~</span></b></div></div></div></div><div class=\"domestic_Flight__sK0eA result\"><div class=\"domestic_inner__15-bD\"><div class=\"domestic_schedule__1Whiq\"><div class=\"domestic_item__2B--k\"><div class=\"heading\"><div class=\"airline\"><div class=\"logos\"><img alt=\"아시아나항공\" class=\"logo\" src=\"https://vertical.pstatic.net/vertical/static/flight/airlines/OZ.png\"></div><b class=\"name\">아시아나항공</b></div><div class=\"info\"><i class=\"npay\">1%적립</i><div class=\"domestic_PromotionBadge__2aHzU\"><i class=\"domestic_badge__20kwD\" role=\"button\" aria-expanded=\"false\">이벤트혜택</i><p class=\"domestic_layer__2cpTz\"><span class=\"domestic_txt__2YFi_\">네이버페이 결제시 <i class=\"npaypoint\" title=\"npaypoint\"></i>1%+1,500원 적립</span></p></div></div></div><div class=\"route_Route__2UInh\"><span class=\"route_airport__3VT7M\"><b class=\"route_time__-2Z1T\">12:50</b><i class=\"route_code__3WUFO\">GMP</i></span><span class=\"route_airport__3VT7M\"><b class=\"route_time__-2Z1T\">13:55</b><i class=\"route_code__3WUFO\">CJU</i></span><i class=\"route_info__1RhUH\">01시간 05분</i></div></div></div><button class=\"domestic_select_schedule__xWQ-K\" type=\"button\"></button><div class=\"domestic_prices__3N88F\"><div class=\"domestic_item__2B--k\"><i class=\"domestic_type__30RSq\">일반석</i><b class=\"domestic_price__1qAgw\"><span class=\"domestic_txt__2YFi_\">편도 </span><i class=\"domestic_num__2roTW\">147,000</i><span class=\"unit\">원~</span></b></div><div class=\"domestic_item_promotion__2q5bH\"><i class=\"domestic_type__30RSq\">삼성카드 결제시 4.4% 캐시백</i><b class=\"domestic_price__1qAgw\"><span class=\"domestic_txt__2YFi_\">편도 </span><i class=\"domestic_num__2roTW\">140,510</i><span class=\"unit\">원~</span></b></div></div></div></div><div class=\"domestic_Flight__sK0eA result\"><div class=\"domestic_inner__15-bD\"><div class=\"domestic_schedule__1Whiq\"><div class=\"domestic_item__2B--k\"><div class=\"heading\"><div class=\"airline\"><div class=\"logos\"><img alt=\"티웨이항공\" class=\"logo\" src=\"https://vertical.pstatic.net/vertical/static/flight/airlines/TW.png\"></div><b class=\"name\">티웨이항공</b></div><div class=\"info\"><i class=\"npay\">1%적립</i><div class=\"domestic_PromotionBadge__2aHzU\"><i class=\"domestic_badge__20kwD\" role=\"button\" aria-expanded=\"false\">이벤트혜택</i><p class=\"domestic_layer__2cpTz\"><span class=\"domestic_txt__2YFi_\">네이버페이 결제시 <i class=\"npaypoint\" title=\"npaypoint\"></i>1%+1,500원 적립</span></p></div></div></div><div class=\"route_Route__2UInh\"><span class=\"route_airport__3VT7M\"><b class=\"route_time__-2Z1T\">13:05</b><i class=\"route_code__3WUFO\">GMP</i></span><span class=\"route_airport__3VT7M\"><b class=\"route_time__-2Z1T\">14:15</b><i class=\"route_code__3WUFO\">CJU</i></span><i class=\"route_info__1RhUH\">01시간 10분</i></div></div></div><button class=\"domestic_select_schedule__xWQ-K\" type=\"button\"></button><div class=\"domestic_prices__3N88F\"><div class=\"domestic_item__2B--k\"><i class=\"domestic_type__30RSq\">할인석</i><b class=\"domestic_price__1qAgw\"><span class=\"domestic_txt__2YFi_\">편도 </span><i class=\"domestic_num__2roTW\">116,100</i><span class=\"unit\">원~</span></b></div><div class=\"domestic_item_promotion__2q5bH\"><i class=\"domestic_type__30RSq\">삼성카드 결제시 7% 캐시백</i><b class=\"domestic_price__1qAgw\"><span class=\"domestic_txt__2YFi_\">편도 </span><i class=\"domestic_num__2roTW\">108,600</i><span class=\"unit\">원~</span></b></div></div></div></div><div class=\"domestic_Flight__sK0eA result\"><div class=\"domestic_inner__15-bD\"><div class=\"domestic_schedule__1Whiq\"><div class=\"domestic_item__2B--k\"><div class=\"heading\"><div class=\"airline\"><div class=\"logos\"><img alt=\"티웨이항공\" class=\"logo\" src=\"https://vertical.pstatic.net/vertical/static/flight/airlines/TW.png\"></div><b class=\"name\">티웨이항공</b></div><div class=\"info\"><i class=\"npay\">1%적립</i><div class=\"domestic_PromotionBadge__2aHzU\"><i class=\"domestic_badge__20kwD\" role=\"button\" aria-expanded=\"false\">이벤트혜택</i><p class=\"domestic_layer__2cpTz\"><span class=\"domestic_txt__2YFi_\">네이버페이 결제시 <i class=\"npaypoint\" title=\"npaypoint\"></i>1%+1,500원 적립</span></p></div></div></div><div class=\"route_Route__2UInh\"><span class=\"route_airport__3VT7M\"><b class=\"route_time__-2Z1T\">13:05</b><i class=\"route_code__3WUFO\">GMP</i></span><span class=\"route_airport__3VT7M\"><b class=\"route_time__-2Z1T\">14:15</b><i class=\"route_code__3WUFO\">CJU</i></span><i class=\"route_info__1RhUH\">01시간 10분</i></div></div></div><button class=\"domestic_select_schedule__xWQ-K\" type=\"button\"></button><div class=\"domestic_prices__3N88F\"><div class=\"domestic_item__2B--k\"><i class=\"domestic_type__30RSq\">일반석</i><b class=\"domestic_price__1qAgw\"><span class=\"domestic_txt__2YFi_\">편도 </span><i class=\"domestic_num__2roTW\">132,200</i><span class=\"unit\">원~</span></b></div><div class=\"domestic_item_promotion__2q5bH\"><i class=\"domestic_type__30RSq\">삼성카드 결제시 7% 캐시백</i><b class=\"domestic_price__1qAgw\"><span class=\"domestic_txt__2YFi_\">편도 </span><i class=\"domestic_num__2roTW\">123,560</i><span class=\"unit\">원~</span></b></div></div></div></div><div class=\"domestic_Flight__sK0eA result\"><div class=\"domestic_inner__15-bD\"><div class=\"domestic_schedule__1Whiq\"><div class=\"domestic_item__2B--k\"><div class=\"heading\"><div class=\"airline\"><div class=\"logos\"><img alt=\"티웨이항공\" class=\"logo\" src=\"https://vertical.pstatic.net/vertical/static/flight/airlines/TW.png\"></div><b class=\"name\">티웨이항공</b></div><div class=\"info\"><i class=\"npay\">1%적립</i><div class=\"domestic_PromotionBadge__2aHzU\"><i class=\"domestic_badge__20kwD\" role=\"button\" aria-expanded=\"false\">이벤트혜택</i><p class=\"domestic_layer__2cpTz\"><span class=\"domestic_txt__2YFi_\">네이버페이 결제시 <i class=\"npaypoint\" title=\"npaypoint\"></i>1%+1,500원 적립</span></p></div></div></div><div class=\"route_Route__2UInh\"><span class=\"route_airport__3VT7M\"><b class=\"route_time__-2Z1T\">13:05</b><i class=\"route_code__3WUFO\">GMP</i></span><span class=\"route_airport__3VT7M\"><b class=\"route_time__-2Z1T\">14:15</b><i class=\"route_code__3WUFO\">CJU</i></span><i class=\"route_info__1RhUH\">01시간 10분</i></div></div></div><button class=\"domestic_select_schedule__xWQ-K\" type=\"button\"></button><div class=\"domestic_prices__3N88F\"><div class=\"domestic_item__2B--k\"><i class=\"domestic_type__30RSq\">비즈니스석</i><b class=\"domestic_price__1qAgw\"><span class=\"domestic_txt__2YFi_\">편도 </span><i class=\"domestic_num__2roTW\">189,200</i><span class=\"unit\">원~</span></b></div><div class=\"domestic_item_promotion__2q5bH\"><i class=\"domestic_type__30RSq\">삼성카드 결제시 7% 캐시백</i><b class=\"domestic_price__1qAgw\"><span class=\"domestic_txt__2YFi_\">편도 </span><i class=\"domestic_num__2roTW\">176,520</i><span class=\"unit\">원~</span></b></div></div></div></div><div class=\"domestic_Flight__sK0eA result\"><div class=\"domestic_inner__15-bD\"><div class=\"domestic_schedule__1Whiq\"><div class=\"domestic_item__2B--k\"><div class=\"heading\"><div class=\"airline\"><div class=\"logos\"><img alt=\"제주항공\" class=\"logo\" src=\"https://vertical.pstatic.net/vertical/static/flight/airlines/7C.png\"></div><b class=\"name\">제주항공</b></div><div class=\"info\"><i class=\"npay\">1%적립</i><div class=\"domestic_PromotionBadge__2aHzU\"><i class=\"domestic_badge__20kwD\" role=\"button\" aria-expanded=\"false\">이벤트혜택</i><p class=\"domestic_layer__2cpTz\"><span class=\"domestic_txt__2YFi_\">네이버페이 결제시 <i class=\"npaypoint\" title=\"npaypoint\"></i>1%+1,500원 적립</span></p></div></div></div><div class=\"route_Route__2UInh\"><span class=\"route_airport__3VT7M\"><b class=\"route_time__-2Z1T\">13:15</b><i class=\"route_code__3WUFO\">GMP</i></span><span class=\"route_airport__3VT7M\"><b class=\"route_time__-2Z1T\">14:25</b><i class=\"route_code__3WUFO\">CJU</i></span><i class=\"route_info__1RhUH\">01시간 10분</i></div></div></div><button class=\"domestic_select_schedule__xWQ-K\" type=\"button\"></button><div class=\"domestic_prices__3N88F\"><div class=\"domestic_item__2B--k\"><i class=\"domestic_type__30RSq\">할인석</i><b class=\"domestic_price__1qAgw\"><span class=\"domestic_txt__2YFi_\">편도 </span><i class=\"domestic_num__2roTW\">110,900</i><span class=\"unit\">원~</span></b></div><div class=\"domestic_item_promotion__2q5bH\"><i class=\"domestic_type__30RSq\">삼성카드 결제시 6.8% 캐시백</i><b class=\"domestic_price__1qAgw\"><span class=\"domestic_txt__2YFi_\">편도 </span><i class=\"domestic_num__2roTW\">103,340</i><span class=\"unit\">원~</span></b></div></div></div></div><div class=\"domestic_Flight__sK0eA result\"><div class=\"domestic_inner__15-bD\"><div class=\"domestic_schedule__1Whiq\"><div class=\"domestic_item__2B--k\"><div class=\"heading\"><div class=\"airline\"><div class=\"logos\"><img alt=\"제주항공\" class=\"logo\" src=\"https://vertical.pstatic.net/vertical/static/flight/airlines/7C.png\"></div><b class=\"name\">제주항공</b></div><div class=\"info\"><i class=\"npay\">1%적립</i><div class=\"domestic_PromotionBadge__2aHzU\"><i class=\"domestic_badge__20kwD\" role=\"button\" aria-expanded=\"false\">이벤트혜택</i><p class=\"domestic_layer__2cpTz\"><span class=\"domestic_txt__2YFi_\">네이버페이 결제시 <i class=\"npaypoint\" title=\"npaypoint\"></i>1%+1,500원 적립</span></p></div></div></div><div class=\"route_Route__2UInh\"><span class=\"route_airport__3VT7M\"><b class=\"route_time__-2Z1T\">13:15</b><i class=\"route_code__3WUFO\">GMP</i></span><span class=\"route_airport__3VT7M\"><b class=\"route_time__-2Z1T\">14:25</b><i class=\"route_code__3WUFO\">CJU</i></span><i class=\"route_info__1RhUH\">01시간 10분</i></div></div></div><button class=\"domestic_select_schedule__xWQ-K\" type=\"button\"></button><div class=\"domestic_prices__3N88F\"><div class=\"domestic_item__2B--k\"><i class=\"domestic_type__30RSq\">일반석</i><b class=\"domestic_price__1qAgw\"><span class=\"domestic_txt__2YFi_\">편도 </span><i class=\"domestic_num__2roTW\">133,500</i><span class=\"unit\">원~</span></b></div><div class=\"domestic_item_promotion__2q5bH\"><i class=\"domestic_type__30RSq\">삼성카드 결제시 6.8% 캐시백</i><b class=\"domestic_price__1qAgw\"><span class=\"domestic_txt__2YFi_\">편도 </span><i class=\"domestic_num__2roTW\">124,390</i><span class=\"unit\">원~</span></b></div></div></div></div><div class=\"domestic_Flight__sK0eA result\"><div class=\"domestic_inner__15-bD\"><div class=\"domestic_schedule__1Whiq\"><div class=\"domestic_item__2B--k\"><div class=\"heading\"><div class=\"airline\"><div class=\"logos\"><img alt=\"대한항공\" class=\"logo\" src=\"https://vertical.pstatic.net/vertical/static/flight/airlines/KE.png\"></div><b class=\"name\">대한항공</b></div><div class=\"info\"></div></div><div class=\"route_Route__2UInh\"><span class=\"route_airport__3VT7M\"><b class=\"route_time__-2Z1T\">13:20</b><i class=\"route_code__3WUFO\">GMP</i></span><span class=\"route_airport__3VT7M\"><b class=\"route_time__-2Z1T\">14:30</b><i class=\"route_code__3WUFO\">CJU</i></span><i class=\"route_info__1RhUH\">01시간 10분</i></div></div></div><button class=\"domestic_select_schedule__xWQ-K\" type=\"button\"></button><div class=\"domestic_prices__3N88F\"><div class=\"domestic_item__2B--k\"><i class=\"domestic_type__30RSq\">일반석</i><b class=\"domestic_price__1qAgw\"><span class=\"domestic_txt__2YFi_\">편도 </span><i class=\"domestic_num__2roTW\">144,000</i><span class=\"unit\">원~</span></b></div><div class=\"domestic_item_promotion__2q5bH\"><i class=\"domestic_type__30RSq\">삼성카드 결제시 7.2% 캐시백</i><b class=\"domestic_price__1qAgw\"><span class=\"domestic_txt__2YFi_\">편도 </span><i class=\"domestic_num__2roTW\">133,640</i><span class=\"unit\">원~</span></b></div></div></div></div><div class=\"domestic_Flight__sK0eA result\"><div class=\"domestic_inner__15-bD\"><div class=\"domestic_schedule__1Whiq\"><div class=\"domestic_item__2B--k\"><div class=\"heading\"><div class=\"airline\"><div class=\"logos\"><img alt=\"진에어\" class=\"logo\" src=\"https://vertical.pstatic.net/vertical/static/flight/airlines/LJ.png\"></div><b class=\"name\">진에어</b></div><div class=\"info\"><i class=\"npay\">1%적립</i><div class=\"domestic_PromotionBadge__2aHzU\"><i class=\"domestic_badge__20kwD\" role=\"button\" aria-expanded=\"false\">이벤트혜택</i><p class=\"domestic_layer__2cpTz\"><span class=\"domestic_txt__2YFi_\">네이버페이 결제시 <i class=\"npaypoint\" title=\"npaypoint\"></i>1%+1,500원 적립</span></p></div></div></div><div class=\"route_Route__2UInh\"><span class=\"route_airport__3VT7M\"><b class=\"route_time__-2Z1T\">13:25</b><i class=\"route_code__3WUFO\">GMP</i></span><span class=\"route_airport__3VT7M\"><b class=\"route_time__-2Z1T\">14:40</b><i class=\"route_code__3WUFO\">CJU</i></span><i class=\"route_info__1RhUH\">01시간 15분</i></div></div></div><button class=\"domestic_select_schedule__xWQ-K\" type=\"button\"></button><div class=\"domestic_prices__3N88F\"><div class=\"domestic_item__2B--k\"><i class=\"domestic_type__30RSq\">할인석</i><b class=\"domestic_price__1qAgw\"><span class=\"domestic_txt__2YFi_\">편도 </span><i class=\"domestic_num__2roTW\">108,900</i><span class=\"unit\">원~</span></b></div><div class=\"domestic_item_promotion__2q5bH\"><i class=\"domestic_type__30RSq\">삼성카드 결제시 5.8% 캐시백</i><b class=\"domestic_price__1qAgw\"><span class=\"domestic_txt__2YFi_\">편도 </span><i class=\"domestic_num__2roTW\">102,620</i><span class=\"unit\">원~</span></b></div></div></div></div><div class=\"domestic_Flight__sK0eA result\"><div class=\"domestic_inner__15-bD\"><div class=\"domestic_schedule__1Whiq\"><div class=\"domestic_item__2B--k\"><div class=\"heading\"><div class=\"airline\"><div class=\"logos\"><img alt=\"아시아나항공\" class=\"logo\" src=\"https://vertical.pstatic.net/vertical/static/flight/airlines/OZ.png\"></div><b class=\"name\">아시아나항공</b></div><div class=\"info\"><i class=\"npay\">1%적립</i><div class=\"domestic_PromotionBadge__2aHzU\"><i class=\"domestic_badge__20kwD\" role=\"button\" aria-expanded=\"false\">이벤트혜택</i><p class=\"domestic_layer__2cpTz\"><span class=\"domestic_txt__2YFi_\">네이버페이 결제시 <i class=\"npaypoint\" title=\"npaypoint\"></i>1%+1,500원 적립</span></p></div></div></div><div class=\"route_Route__2UInh\"><span class=\"route_airport__3VT7M\"><b class=\"route_time__-2Z1T\">13:25</b><i class=\"route_code__3WUFO\">GMP</i></span><span class=\"route_airport__3VT7M\"><b class=\"route_time__-2Z1T\">14:30</b><i class=\"route_code__3WUFO\">CJU</i></span><i class=\"route_info__1RhUH\">01시간 05분</i></div></div></div><button class=\"domestic_select_schedule__xWQ-K\" type=\"button\"></button><div class=\"domestic_prices__3N88F\"><div class=\"domestic_item__2B--k\"><i class=\"domestic_type__30RSq\">할인석</i><b class=\"domestic_price__1qAgw\"><span class=\"domestic_txt__2YFi_\">편도 </span><i class=\"domestic_num__2roTW\">117,000</i><span class=\"unit\">원~</span></b></div><div class=\"domestic_item_promotion__2q5bH\"><i class=\"domestic_type__30RSq\">삼성카드 결제시 4.4% 캐시백</i><b class=\"domestic_price__1qAgw\"><span class=\"domestic_txt__2YFi_\">편도 </span><i class=\"domestic_num__2roTW\">111,840</i><span class=\"unit\">원~</span></b></div></div></div></div><div class=\"domestic_Flight__sK0eA result\"><div class=\"domestic_inner__15-bD\"><div class=\"domestic_schedule__1Whiq\"><div class=\"domestic_item__2B--k\"><div class=\"heading\"><div class=\"airline\"><div class=\"logos\"><img alt=\"진에어\" class=\"logo\" src=\"https://vertical.pstatic.net/vertical/static/flight/airlines/LJ.png\"></div><b class=\"name\">진에어</b></div><div class=\"info\"><i class=\"npay\">1%적립</i><div class=\"domestic_PromotionBadge__2aHzU\"><i class=\"domestic_badge__20kwD\" role=\"button\" aria-expanded=\"false\">이벤트혜택</i><p class=\"domestic_layer__2cpTz\"><span class=\"domestic_txt__2YFi_\">네이버페이 결제시 <i class=\"npaypoint\" title=\"npaypoint\"></i>1%+1,500원 적립</span></p></div></div></div><div class=\"route_Route__2UInh\"><span class=\"route_airport__3VT7M\"><b class=\"route_time__-2Z1T\">13:25</b><i class=\"route_code__3WUFO\">GMP</i></span><span class=\"route_airport__3VT7M\"><b class=\"route_time__-2Z1T\">14:40</b><i class=\"route_code__3WUFO\">CJU</i></span><i class=\"route_info__1RhUH\">01시간 15분</i></div></div></div><button class=\"domestic_select_schedule__xWQ-K\" type=\"button\"></button><div class=\"domestic_prices__3N88F\"><div class=\"domestic_item__2B--k\"><i class=\"domestic_type__30RSq\">일반석</i><b class=\"domestic_price__1qAgw\"><span class=\"domestic_txt__2YFi_\">편도 </span><i class=\"domestic_num__2roTW\">134,000</i><span class=\"unit\">원~</span></b></div><div class=\"domestic_item_promotion__2q5bH\"><i class=\"domestic_type__30RSq\">삼성카드 결제시 5.8% 캐시백</i><b class=\"domestic_price__1qAgw\"><span class=\"domestic_txt__2YFi_\">편도 </span><i class=\"domestic_num__2roTW\">126,250</i><span class=\"unit\">원~</span></b></div></div></div></div><div class=\"domestic_Flight__sK0eA result\"><div class=\"domestic_inner__15-bD\"><div class=\"domestic_schedule__1Whiq\"><div class=\"domestic_item__2B--k\"><div class=\"heading\"><div class=\"airline\"><div class=\"logos\"><img alt=\"아시아나항공\" class=\"logo\" src=\"https://vertical.pstatic.net/vertical/static/flight/airlines/OZ.png\"></div><b class=\"name\">아시아나항공</b></div><div class=\"info\"><i class=\"npay\">1%적립</i><div class=\"domestic_PromotionBadge__2aHzU\"><i class=\"domestic_badge__20kwD\" role=\"button\" aria-expanded=\"false\">이벤트혜택</i><p class=\"domestic_layer__2cpTz\"><span class=\"domestic_txt__2YFi_\">네이버페이 결제시 <i class=\"npaypoint\" title=\"npaypoint\"></i>1%+1,500원 적립</span></p></div></div></div><div class=\"route_Route__2UInh\"><span class=\"route_airport__3VT7M\"><b class=\"route_time__-2Z1T\">13:25</b><i class=\"route_code__3WUFO\">GMP</i></span><span class=\"route_airport__3VT7M\"><b class=\"route_time__-2Z1T\">14:30</b><i class=\"route_code__3WUFO\">CJU</i></span><i class=\"route_info__1RhUH\">01시간 05분</i></div></div></div><button class=\"domestic_select_schedule__xWQ-K\" type=\"button\"></button><div class=\"domestic_prices__3N88F\"><div class=\"domestic_item__2B--k\"><i class=\"domestic_type__30RSq\">일반석</i><b class=\"domestic_price__1qAgw\"><span class=\"domestic_txt__2YFi_\">편도 </span><i class=\"domestic_num__2roTW\">147,000</i><span class=\"unit\">원~</span></b></div><div class=\"domestic_item_promotion__2q5bH\"><i class=\"domestic_type__30RSq\">삼성카드 결제시 4.4% 캐시백</i><b class=\"domestic_price__1qAgw\"><span class=\"domestic_txt__2YFi_\">편도 </span><i class=\"domestic_num__2roTW\">140,510</i><span class=\"unit\">원~</span></b></div></div></div></div><div class=\"domestic_Flight__sK0eA result\"><div class=\"domestic_inner__15-bD\"><div class=\"domestic_schedule__1Whiq\"><div class=\"domestic_item__2B--k\"><div class=\"heading\"><div class=\"airline\"><div class=\"logos\"><img alt=\"제주항공\" class=\"logo\" src=\"https://vertical.pstatic.net/vertical/static/flight/airlines/7C.png\"></div><b class=\"name\">제주항공</b></div><div class=\"info\"><i class=\"npay\">1%적립</i><div class=\"domestic_PromotionBadge__2aHzU\"><i class=\"domestic_badge__20kwD\" role=\"button\" aria-expanded=\"false\">이벤트혜택</i><p class=\"domestic_layer__2cpTz\"><span class=\"domestic_txt__2YFi_\">네이버페이 결제시 <i class=\"npaypoint\" title=\"npaypoint\"></i>1%+1,500원 적립</span></p></div></div></div><div class=\"route_Route__2UInh\"><span class=\"route_airport__3VT7M\"><b class=\"route_time__-2Z1T\">13:30</b><i class=\"route_code__3WUFO\">GMP</i></span><span class=\"route_airport__3VT7M\"><b class=\"route_time__-2Z1T\">14:40</b><i class=\"route_code__3WUFO\">CJU</i></span><i class=\"route_info__1RhUH\">01시간 10분</i></div></div></div><button class=\"domestic_select_schedule__xWQ-K\" type=\"button\"></button><div class=\"domestic_prices__3N88F\"><div class=\"domestic_item__2B--k\"><i class=\"domestic_type__30RSq\">할인석</i><b class=\"domestic_price__1qAgw\"><span class=\"domestic_txt__2YFi_\">편도 </span><i class=\"domestic_num__2roTW\">110,900</i><span class=\"unit\">원~</span></b></div><div class=\"domestic_item_promotion__2q5bH\"><i class=\"domestic_type__30RSq\">삼성카드 결제시 6.8% 캐시백</i><b class=\"domestic_price__1qAgw\"><span class=\"domestic_txt__2YFi_\">편도 </span><i class=\"domestic_num__2roTW\">103,340</i><span class=\"unit\">원~</span></b></div></div></div></div><div class=\"domestic_Flight__sK0eA result\"><div class=\"domestic_inner__15-bD\"><div class=\"domestic_schedule__1Whiq\"><div class=\"domestic_item__2B--k\"><div class=\"heading\"><div class=\"airline\"><div class=\"logos\"><img alt=\"제주항공\" class=\"logo\" src=\"https://vertical.pstatic.net/vertical/static/flight/airlines/7C.png\"></div><b class=\"name\">제주항공</b></div><div class=\"info\"><i class=\"npay\">1%적립</i><div class=\"domestic_PromotionBadge__2aHzU\"><i class=\"domestic_badge__20kwD\" role=\"button\" aria-expanded=\"false\">이벤트혜택</i><p class=\"domestic_layer__2cpTz\"><span class=\"domestic_txt__2YFi_\">네이버페이 결제시 <i class=\"npaypoint\" title=\"npaypoint\"></i>1%+1,500원 적립</span></p></div></div></div><div class=\"route_Route__2UInh\"><span class=\"route_airport__3VT7M\"><b class=\"route_time__-2Z1T\">13:30</b><i class=\"route_code__3WUFO\">GMP</i></span><span class=\"route_airport__3VT7M\"><b class=\"route_time__-2Z1T\">14:40</b><i class=\"route_code__3WUFO\">CJU</i></span><i class=\"route_info__1RhUH\">01시간 10분</i></div></div></div><button class=\"domestic_select_schedule__xWQ-K\" type=\"button\"></button><div class=\"domestic_prices__3N88F\"><div class=\"domestic_item__2B--k\"><i class=\"domestic_type__30RSq\">일반석</i><b class=\"domestic_price__1qAgw\"><span class=\"domestic_txt__2YFi_\">편도 </span><i class=\"domestic_num__2roTW\">133,500</i><span class=\"unit\">원~</span></b></div><div class=\"domestic_item_promotion__2q5bH\"><i class=\"domestic_type__30RSq\">삼성카드 결제시 6.8% 캐시백</i><b class=\"domestic_price__1qAgw\"><span class=\"domestic_txt__2YFi_\">편도 </span><i class=\"domestic_num__2roTW\">124,390</i><span class=\"unit\">원~</span></b></div></div></div></div><div class=\"domestic_Flight__sK0eA result\"><div class=\"domestic_inner__15-bD\"><div class=\"domestic_schedule__1Whiq\"><div class=\"domestic_item__2B--k\"><div class=\"heading\"><div class=\"airline\"><div class=\"logos\"><img alt=\"대한항공\" class=\"logo\" src=\"https://vertical.pstatic.net/vertical/static/flight/airlines/KE.png\"></div><b class=\"name\">대한항공</b></div><div class=\"info\"></div></div><div class=\"route_Route__2UInh\"><span class=\"route_airport__3VT7M\"><b class=\"route_time__-2Z1T\">13:35</b><i class=\"route_code__3WUFO\">GMP</i></span><span class=\"route_airport__3VT7M\"><b class=\"route_time__-2Z1T\">14:45</b><i class=\"route_code__3WUFO\">CJU</i></span><i class=\"route_info__1RhUH\">01시간 10분</i></div></div></div><button class=\"domestic_select_schedule__xWQ-K\" type=\"button\"></button><div class=\"domestic_prices__3N88F\"><div class=\"domestic_item__2B--k\"><i class=\"domestic_type__30RSq\">일반석</i><b class=\"domestic_price__1qAgw\"><span class=\"domestic_txt__2YFi_\">편도 </span><i class=\"domestic_num__2roTW\">144,000</i><span class=\"unit\">원~</span></b></div><div class=\"domestic_item_promotion__2q5bH\"><i class=\"domestic_type__30RSq\">삼성카드 결제시 7.2% 캐시백</i><b class=\"domestic_price__1qAgw\"><span class=\"domestic_txt__2YFi_\">편도 </span><i class=\"domestic_num__2roTW\">133,640</i><span class=\"unit\">원~</span></b></div></div></div></div><div class=\"domestic_Flight__sK0eA result\"><div class=\"domestic_inner__15-bD\"><div class=\"domestic_schedule__1Whiq\"><div class=\"domestic_item__2B--k\"><div class=\"heading\"><div class=\"airline\"><div class=\"logos\"><img alt=\"아시아나항공\" class=\"logo\" src=\"https://vertical.pstatic.net/vertical/static/flight/airlines/OZ.png\"></div><b class=\"name\">아시아나항공</b></div><div class=\"info\"><i class=\"npay\">1%적립</i><div class=\"domestic_PromotionBadge__2aHzU\"><i class=\"domestic_badge__20kwD\" role=\"button\" aria-expanded=\"false\">이벤트혜택</i><p class=\"domestic_layer__2cpTz\"><span class=\"domestic_txt__2YFi_\">네이버페이 결제시 <i class=\"npaypoint\" title=\"npaypoint\"></i>1%+1,500원 적립</span></p></div></div></div><div class=\"route_Route__2UInh\"><span class=\"route_airport__3VT7M\"><b class=\"route_time__-2Z1T\">13:55</b><i class=\"route_code__3WUFO\">GMP</i></span><span class=\"route_airport__3VT7M\"><b class=\"route_time__-2Z1T\">15:05</b><i class=\"route_code__3WUFO\">CJU</i></span><i class=\"route_info__1RhUH\">01시간 10분</i></div></div></div><button class=\"domestic_select_schedule__xWQ-K\" type=\"button\"></button><div class=\"domestic_prices__3N88F\"><div class=\"domestic_item__2B--k\"><i class=\"domestic_type__30RSq\">할인석</i><b class=\"domestic_price__1qAgw\"><span class=\"domestic_txt__2YFi_\">편도 </span><i class=\"domestic_num__2roTW\">111,000</i><span class=\"unit\">원~</span></b></div><div class=\"domestic_item_promotion__2q5bH\"><i class=\"domestic_type__30RSq\">삼성카드 결제시 4.4% 캐시백</i><b class=\"domestic_price__1qAgw\"><span class=\"domestic_txt__2YFi_\">편도 </span><i class=\"domestic_num__2roTW\">106,110</i><span class=\"unit\">원~</span></b></div></div></div></div><div class=\"domestic_Flight__sK0eA result\"><div class=\"domestic_inner__15-bD\"><div class=\"domestic_schedule__1Whiq\"><div class=\"domestic_item__2B--k\"><div class=\"heading\"><div class=\"airline\"><div class=\"logos\"><img alt=\"티웨이항공\" class=\"logo\" src=\"https://vertical.pstatic.net/vertical/static/flight/airlines/TW.png\"></div><b class=\"name\">티웨이항공</b></div><div class=\"info\"><i class=\"npay\">1%적립</i><div class=\"domestic_PromotionBadge__2aHzU\"><i class=\"domestic_badge__20kwD\" role=\"button\" aria-expanded=\"false\">이벤트혜택</i><p class=\"domestic_layer__2cpTz\"><span class=\"domestic_txt__2YFi_\">네이버페이 결제시 <i class=\"npaypoint\" title=\"npaypoint\"></i>1%+1,500원 적립</span></p></div></div></div><div class=\"route_Route__2UInh\"><span class=\"route_airport__3VT7M\"><b class=\"route_time__-2Z1T\">13:55</b><i class=\"route_code__3WUFO\">GMP</i></span><span class=\"route_airport__3VT7M\"><b class=\"route_time__-2Z1T\">15:05</b><i class=\"route_code__3WUFO\">CJU</i></span><i class=\"route_info__1RhUH\">01시간 10분</i></div></div></div><button class=\"domestic_select_schedule__xWQ-K\" type=\"button\"></button><div class=\"domestic_prices__3N88F\"><div class=\"domestic_item__2B--k\"><i class=\"domestic_type__30RSq\">할인석</i><b class=\"domestic_price__1qAgw\"><span class=\"domestic_txt__2YFi_\">편도 </span><i class=\"domestic_num__2roTW\">116,100</i><span class=\"unit\">원~</span></b></div><div class=\"domestic_item_promotion__2q5bH\"><i class=\"domestic_type__30RSq\">삼성카드 결제시 7% 캐시백</i><b class=\"domestic_price__1qAgw\"><span class=\"domestic_txt__2YFi_\">편도 </span><i class=\"domestic_num__2roTW\">108,600</i><span class=\"unit\">원~</span></b></div></div></div></div><div class=\"domestic_Flight__sK0eA result\"><div class=\"domestic_inner__15-bD\"><div class=\"domestic_schedule__1Whiq\"><div class=\"domestic_item__2B--k\"><div class=\"heading\"><div class=\"airline\"><div class=\"logos\"><img alt=\"티웨이항공\" class=\"logo\" src=\"https://vertical.pstatic.net/vertical/static/flight/airlines/TW.png\"></div><b class=\"name\">티웨이항공</b></div><div class=\"info\"><i class=\"npay\">1%적립</i><div class=\"domestic_PromotionBadge__2aHzU\"><i class=\"domestic_badge__20kwD\" role=\"button\" aria-expanded=\"false\">이벤트혜택</i><p class=\"domestic_layer__2cpTz\"><span class=\"domestic_txt__2YFi_\">네이버페이 결제시 <i class=\"npaypoint\" title=\"npaypoint\"></i>1%+1,500원 적립</span></p></div></div></div><div class=\"route_Route__2UInh\"><span class=\"route_airport__3VT7M\"><b class=\"route_time__-2Z1T\">13:55</b><i class=\"route_code__3WUFO\">GMP</i></span><span class=\"route_airport__3VT7M\"><b class=\"route_time__-2Z1T\">15:05</b><i class=\"route_code__3WUFO\">CJU</i></span><i class=\"route_info__1RhUH\">01시간 10분</i></div></div></div><button class=\"domestic_select_schedule__xWQ-K\" type=\"button\"></button><div class=\"domestic_prices__3N88F\"><div class=\"domestic_item__2B--k\"><i class=\"domestic_type__30RSq\">일반석</i><b class=\"domestic_price__1qAgw\"><span class=\"domestic_txt__2YFi_\">편도 </span><i class=\"domestic_num__2roTW\">132,200</i><span class=\"unit\">원~</span></b></div><div class=\"domestic_item_promotion__2q5bH\"><i class=\"domestic_type__30RSq\">삼성카드 결제시 7% 캐시백</i><b class=\"domestic_price__1qAgw\"><span class=\"domestic_txt__2YFi_\">편도 </span><i class=\"domestic_num__2roTW\">123,560</i><span class=\"unit\">원~</span></b></div></div></div></div><div class=\"domestic_Flight__sK0eA result\"><div class=\"domestic_inner__15-bD\"><div class=\"domestic_schedule__1Whiq\"><div class=\"domestic_item__2B--k\"><div class=\"heading\"><div class=\"airline\"><div class=\"logos\"><img alt=\"아시아나항공\" class=\"logo\" src=\"https://vertical.pstatic.net/vertical/static/flight/airlines/OZ.png\"></div><b class=\"name\">아시아나항공</b></div><div class=\"info\"><i class=\"npay\">1%적립</i><div class=\"domestic_PromotionBadge__2aHzU\"><i class=\"domestic_badge__20kwD\" role=\"button\" aria-expanded=\"false\">이벤트혜택</i><p class=\"domestic_layer__2cpTz\"><span class=\"domestic_txt__2YFi_\">네이버페이 결제시 <i class=\"npaypoint\" title=\"npaypoint\"></i>1%+1,500원 적립</span></p></div></div></div><div class=\"route_Route__2UInh\"><span class=\"route_airport__3VT7M\"><b class=\"route_time__-2Z1T\">13:55</b><i class=\"route_code__3WUFO\">GMP</i></span><span class=\"route_airport__3VT7M\"><b class=\"route_time__-2Z1T\">15:05</b><i class=\"route_code__3WUFO\">CJU</i></span><i class=\"route_info__1RhUH\">01시간 10분</i></div></div></div><button class=\"domestic_select_schedule__xWQ-K\" type=\"button\"></button><div class=\"domestic_prices__3N88F\"><div class=\"domestic_item__2B--k\"><i class=\"domestic_type__30RSq\">일반석</i><b class=\"domestic_price__1qAgw\"><span class=\"domestic_txt__2YFi_\">편도 </span><i class=\"domestic_num__2roTW\">147,000</i><span class=\"unit\">원~</span></b></div><div class=\"domestic_item_promotion__2q5bH\"><i class=\"domestic_type__30RSq\">삼성카드 결제시 4.4% 캐시백</i><b class=\"domestic_price__1qAgw\"><span class=\"domestic_txt__2YFi_\">편도 </span><i class=\"domestic_num__2roTW\">140,510</i><span class=\"unit\">원~</span></b></div></div></div></div><div class=\"domestic_Flight__sK0eA result\"><div class=\"domestic_inner__15-bD\"><div class=\"domestic_schedule__1Whiq\"><div class=\"domestic_item__2B--k\"><div class=\"heading\"><div class=\"airline\"><div class=\"logos\"><img alt=\"진에어\" class=\"logo\" src=\"https://vertical.pstatic.net/vertical/static/flight/airlines/LJ.png\"></div><b class=\"name\">진에어</b></div><div class=\"info\"><i class=\"npay\">1%적립</i><div class=\"domestic_PromotionBadge__2aHzU\"><i class=\"domestic_badge__20kwD\" role=\"button\" aria-expanded=\"false\">이벤트혜택</i><p class=\"domestic_layer__2cpTz\"><span class=\"domestic_txt__2YFi_\">네이버페이 결제시 <i class=\"npaypoint\" title=\"npaypoint\"></i>1%+1,500원 적립</span></p></div></div></div><div class=\"route_Route__2UInh\"><span class=\"route_airport__3VT7M\"><b class=\"route_time__-2Z1T\">14:05</b><i class=\"route_code__3WUFO\">GMP</i></span><span class=\"route_airport__3VT7M\"><b class=\"route_time__-2Z1T\">15:15</b><i class=\"route_code__3WUFO\">CJU</i></span><i class=\"route_info__1RhUH\">01시간 10분</i></div></div></div><button class=\"domestic_select_schedule__xWQ-K\" type=\"button\"></button><div class=\"domestic_prices__3N88F\"><div class=\"domestic_item__2B--k\"><i class=\"domestic_type__30RSq\">할인석</i><b class=\"domestic_price__1qAgw\"><span class=\"domestic_txt__2YFi_\">편도 </span><i class=\"domestic_num__2roTW\">108,900</i><span class=\"unit\">원~</span></b></div><div class=\"domestic_item_promotion__2q5bH\"><i class=\"domestic_type__30RSq\">삼성카드 결제시 5.8% 캐시백</i><b class=\"domestic_price__1qAgw\"><span class=\"domestic_txt__2YFi_\">편도 </span><i class=\"domestic_num__2roTW\">102,620</i><span class=\"unit\">원~</span></b></div></div></div></div><div class=\"domestic_Flight__sK0eA result\"><div class=\"domestic_inner__15-bD\"><div class=\"domestic_schedule__1Whiq\"><div class=\"domestic_item__2B--k\"><div class=\"heading\"><div class=\"airline\"><div class=\"logos\"><img alt=\"아시아나항공\" class=\"logo\" src=\"https://vertical.pstatic.net/vertical/static/flight/airlines/OZ.png\"></div><b class=\"name\">아시아나항공</b></div><div class=\"info\"><i class=\"npay\">1%적립</i><div class=\"domestic_PromotionBadge__2aHzU\"><i class=\"domestic_badge__20kwD\" role=\"button\" aria-expanded=\"false\">이벤트혜택</i><p class=\"domestic_layer__2cpTz\"><span class=\"domestic_txt__2YFi_\">네이버페이 결제시 <i class=\"npaypoint\" title=\"npaypoint\"></i>1%+1,500원 적립</span></p></div></div></div><div class=\"route_Route__2UInh\"><span class=\"route_airport__3VT7M\"><b class=\"route_time__-2Z1T\">14:05</b><i class=\"route_code__3WUFO\">GMP</i></span><span class=\"route_airport__3VT7M\"><b class=\"route_time__-2Z1T\">15:10</b><i class=\"route_code__3WUFO\">CJU</i></span><i class=\"route_info__1RhUH\">01시간 05분</i></div></div></div><button class=\"domestic_select_schedule__xWQ-K\" type=\"button\"></button><div class=\"domestic_prices__3N88F\"><div class=\"domestic_item__2B--k\"><i class=\"domestic_type__30RSq\">할인석</i><b class=\"domestic_price__1qAgw\"><span class=\"domestic_txt__2YFi_\">편도 </span><i class=\"domestic_num__2roTW\">111,000</i><span class=\"unit\">원~</span></b></div><div class=\"domestic_item_promotion__2q5bH\"><i class=\"domestic_type__30RSq\">삼성카드 결제시 4.4% 캐시백</i><b class=\"domestic_price__1qAgw\"><span class=\"domestic_txt__2YFi_\">편도 </span><i class=\"domestic_num__2roTW\">106,110</i><span class=\"unit\">원~</span></b></div></div></div></div><div class=\"domestic_Flight__sK0eA result\"><div class=\"domestic_inner__15-bD\"><div class=\"domestic_schedule__1Whiq\"><div class=\"domestic_item__2B--k\"><div class=\"heading\"><div class=\"airline\"><div class=\"logos\"><img alt=\"진에어\" class=\"logo\" src=\"https://vertical.pstatic.net/vertical/static/flight/airlines/LJ.png\"></div><b class=\"name\">진에어</b></div><div class=\"info\"><i class=\"npay\">1%적립</i><div class=\"domestic_PromotionBadge__2aHzU\"><i class=\"domestic_badge__20kwD\" role=\"button\" aria-expanded=\"false\">이벤트혜택</i><p class=\"domestic_layer__2cpTz\"><span class=\"domestic_txt__2YFi_\">네이버페이 결제시 <i class=\"npaypoint\" title=\"npaypoint\"></i>1%+1,500원 적립</span></p></div></div></div><div class=\"route_Route__2UInh\"><span class=\"route_airport__3VT7M\"><b class=\"route_time__-2Z1T\">14:05</b><i class=\"route_code__3WUFO\">GMP</i></span><span class=\"route_airport__3VT7M\"><b class=\"route_time__-2Z1T\">15:15</b><i class=\"route_code__3WUFO\">CJU</i></span><i class=\"route_info__1RhUH\">01시간 10분</i></div></div></div><button class=\"domestic_select_schedule__xWQ-K\" type=\"button\"></button><div class=\"domestic_prices__3N88F\"><div class=\"domestic_item__2B--k\"><i class=\"domestic_type__30RSq\">일반석</i><b class=\"domestic_price__1qAgw\"><span class=\"domestic_txt__2YFi_\">편도 </span><i class=\"domestic_num__2roTW\">134,000</i><span class=\"unit\">원~</span></b></div><div class=\"domestic_item_promotion__2q5bH\"><i class=\"domestic_type__30RSq\">삼성카드 결제시 5.8% 캐시백</i><b class=\"domestic_price__1qAgw\"><span class=\"domestic_txt__2YFi_\">편도 </span><i class=\"domestic_num__2roTW\">126,250</i><span class=\"unit\">원~</span></b></div></div></div></div><div class=\"domestic_Flight__sK0eA result\"><div class=\"domestic_inner__15-bD\"><div class=\"domestic_schedule__1Whiq\"><div class=\"domestic_item__2B--k\"><div class=\"heading\"><div class=\"airline\"><div class=\"logos\"><img alt=\"아시아나항공\" class=\"logo\" src=\"https://vertical.pstatic.net/vertical/static/flight/airlines/OZ.png\"></div><b class=\"name\">아시아나항공</b></div><div class=\"info\"><i class=\"npay\">1%적립</i><div class=\"domestic_PromotionBadge__2aHzU\"><i class=\"domestic_badge__20kwD\" role=\"button\" aria-expanded=\"false\">이벤트혜택</i><p class=\"domestic_layer__2cpTz\"><span class=\"domestic_txt__2YFi_\">네이버페이 결제시 <i class=\"npaypoint\" title=\"npaypoint\"></i>1%+1,500원 적립</span></p></div></div></div><div class=\"route_Route__2UInh\"><span class=\"route_airport__3VT7M\"><b class=\"route_time__-2Z1T\">14:05</b><i class=\"route_code__3WUFO\">GMP</i></span><span class=\"route_airport__3VT7M\"><b class=\"route_time__-2Z1T\">15:10</b><i class=\"route_code__3WUFO\">CJU</i></span><i class=\"route_info__1RhUH\">01시간 05분</i></div></div></div><button class=\"domestic_select_schedule__xWQ-K\" type=\"button\"></button><div class=\"domestic_prices__3N88F\"><div class=\"domestic_item__2B--k\"><i class=\"domestic_type__30RSq\">일반석</i><b class=\"domestic_price__1qAgw\"><span class=\"domestic_txt__2YFi_\">편도 </span><i class=\"domestic_num__2roTW\">147,000</i><span class=\"unit\">원~</span></b></div><div class=\"domestic_item_promotion__2q5bH\"><i class=\"domestic_type__30RSq\">삼성카드 결제시 4.4% 캐시백</i><b class=\"domestic_price__1qAgw\"><span class=\"domestic_txt__2YFi_\">편도 </span><i class=\"domestic_num__2roTW\">140,510</i><span class=\"unit\">원~</span></b></div></div></div></div><div class=\"domestic_Flight__sK0eA result\"><div class=\"domestic_inner__15-bD\"><div class=\"domestic_schedule__1Whiq\"><div class=\"domestic_item__2B--k\"><div class=\"heading\"><div class=\"airline\"><div class=\"logos\"><img alt=\"대한항공\" class=\"logo\" src=\"https://vertical.pstatic.net/vertical/static/flight/airlines/KE.png\"></div><b class=\"name\">대한항공</b></div><div class=\"info\"></div></div><div class=\"route_Route__2UInh\"><span class=\"route_airport__3VT7M\"><b class=\"route_time__-2Z1T\">14:10</b><i class=\"route_code__3WUFO\">GMP</i></span><span class=\"route_airport__3VT7M\"><b class=\"route_time__-2Z1T\">15:20</b><i class=\"route_code__3WUFO\">CJU</i></span><i class=\"route_info__1RhUH\">01시간 10분</i></div></div></div><button class=\"domestic_select_schedule__xWQ-K\" type=\"button\"></button><div class=\"domestic_prices__3N88F\"><div class=\"domestic_item__2B--k\"><i class=\"domestic_type__30RSq\">할인석</i><b class=\"domestic_price__1qAgw\"><span class=\"domestic_txt__2YFi_\">편도 </span><i class=\"domestic_num__2roTW\">133,000</i><span class=\"unit\">원~</span></b></div><div class=\"domestic_item_promotion__2q5bH\"><i class=\"domestic_type__30RSq\">삼성카드 결제시 7.2% 캐시백</i><b class=\"domestic_price__1qAgw\"><span class=\"domestic_txt__2YFi_\">편도 </span><i class=\"domestic_num__2roTW\">123,440</i><span class=\"unit\">원~</span></b></div></div></div></div><div class=\"domestic_Flight__sK0eA result\"><div class=\"domestic_inner__15-bD\"><div class=\"domestic_schedule__1Whiq\"><div class=\"domestic_item__2B--k\"><div class=\"heading\"><div class=\"airline\"><div class=\"logos\"><img alt=\"대한항공\" class=\"logo\" src=\"https://vertical.pstatic.net/vertical/static/flight/airlines/KE.png\"></div><b class=\"name\">대한항공</b></div><div class=\"info\"></div></div><div class=\"route_Route__2UInh\"><span class=\"route_airport__3VT7M\"><b class=\"route_time__-2Z1T\">14:20</b><i class=\"route_code__3WUFO\">GMP</i></span><span class=\"route_airport__3VT7M\"><b class=\"route_time__-2Z1T\">15:30</b><i class=\"route_code__3WUFO\">CJU</i></span><i class=\"route_info__1RhUH\">01시간 10분</i></div></div></div><button class=\"domestic_select_schedule__xWQ-K\" type=\"button\"></button><div class=\"domestic_prices__3N88F\"><div class=\"domestic_item__2B--k\"><i class=\"domestic_type__30RSq\">할인석</i><b class=\"domestic_price__1qAgw\"><span class=\"domestic_txt__2YFi_\">편도 </span><i class=\"domestic_num__2roTW\">121,000</i><span class=\"unit\">원~</span></b></div><div class=\"domestic_item_promotion__2q5bH\"><i class=\"domestic_type__30RSq\">삼성카드 결제시 7.2% 캐시백</i><b class=\"domestic_price__1qAgw\"><span class=\"domestic_txt__2YFi_\">편도 </span><i class=\"domestic_num__2roTW\">112,310</i><span class=\"unit\">원~</span></b></div></div></div></div><div class=\"domestic_Flight__sK0eA result\"><div class=\"domestic_inner__15-bD\"><div class=\"domestic_schedule__1Whiq\"><div class=\"domestic_item__2B--k\"><div class=\"heading\"><div class=\"airline\"><div class=\"logos\"><img alt=\"아시아나항공\" class=\"logo\" src=\"https://vertical.pstatic.net/vertical/static/flight/airlines/OZ.png\"></div><b class=\"name\">아시아나항공</b></div><div class=\"info\"><i class=\"npay\">1%적립</i><div class=\"domestic_PromotionBadge__2aHzU\"><i class=\"domestic_badge__20kwD\" role=\"button\" aria-expanded=\"false\">이벤트혜택</i><p class=\"domestic_layer__2cpTz\"><span class=\"domestic_txt__2YFi_\">네이버페이 결제시 <i class=\"npaypoint\" title=\"npaypoint\"></i>1%+1,500원 적립</span></p></div></div></div><div class=\"route_Route__2UInh\"><span class=\"route_airport__3VT7M\"><b class=\"route_time__-2Z1T\">14:25</b><i class=\"route_code__3WUFO\">GMP</i></span><span class=\"route_airport__3VT7M\"><b class=\"route_time__-2Z1T\">15:30</b><i class=\"route_code__3WUFO\">CJU</i></span><i class=\"route_info__1RhUH\">01시간 05분</i></div></div></div><button class=\"domestic_select_schedule__xWQ-K\" type=\"button\"></button><div class=\"domestic_prices__3N88F\"><div class=\"domestic_item__2B--k\"><i class=\"domestic_type__30RSq\">할인석</i><b class=\"domestic_price__1qAgw\"><span class=\"domestic_txt__2YFi_\">편도 </span><i class=\"domestic_num__2roTW\">111,000</i><span class=\"unit\">원~</span></b></div><div class=\"domestic_item_promotion__2q5bH\"><i class=\"domestic_type__30RSq\">삼성카드 결제시 4.4% 캐시백</i><b class=\"domestic_price__1qAgw\"><span class=\"domestic_txt__2YFi_\">편도 </span><i class=\"domestic_num__2roTW\">106,110</i><span class=\"unit\">원~</span></b></div></div></div></div><div class=\"domestic_Flight__sK0eA result\"><div class=\"domestic_inner__15-bD\"><div class=\"domestic_schedule__1Whiq\"><div class=\"domestic_item__2B--k\"><div class=\"heading\"><div class=\"airline\"><div class=\"logos\"><img alt=\"아시아나항공\" class=\"logo\" src=\"https://vertical.pstatic.net/vertical/static/flight/airlines/OZ.png\"></div><b class=\"name\">아시아나항공</b></div><div class=\"info\"><i class=\"npay\">1%적립</i><div class=\"domestic_PromotionBadge__2aHzU\"><i class=\"domestic_badge__20kwD\" role=\"button\" aria-expanded=\"false\">이벤트혜택</i><p class=\"domestic_layer__2cpTz\"><span class=\"domestic_txt__2YFi_\">네이버페이 결제시 <i class=\"npaypoint\" title=\"npaypoint\"></i>1%+1,500원 적립</span></p></div></div></div><div class=\"route_Route__2UInh\"><span class=\"route_airport__3VT7M\"><b class=\"route_time__-2Z1T\">14:25</b><i class=\"route_code__3WUFO\">GMP</i></span><span class=\"route_airport__3VT7M\"><b class=\"route_time__-2Z1T\">15:30</b><i class=\"route_code__3WUFO\">CJU</i></span><i class=\"route_info__1RhUH\">01시간 05분</i></div></div></div><button class=\"domestic_select_schedule__xWQ-K\" type=\"button\"></button><div class=\"domestic_prices__3N88F\"><div class=\"domestic_item__2B--k\"><i class=\"domestic_type__30RSq\">일반석</i><b class=\"domestic_price__1qAgw\"><span class=\"domestic_txt__2YFi_\">편도 </span><i class=\"domestic_num__2roTW\">147,000</i><span class=\"unit\">원~</span></b></div><div class=\"domestic_item_promotion__2q5bH\"><i class=\"domestic_type__30RSq\">삼성카드 결제시 4.4% 캐시백</i><b class=\"domestic_price__1qAgw\"><span class=\"domestic_txt__2YFi_\">편도 </span><i class=\"domestic_num__2roTW\">140,510</i><span class=\"unit\">원~</span></b></div></div></div></div><div class=\"domestic_Flight__sK0eA result\"><div class=\"domestic_inner__15-bD\"><div class=\"domestic_schedule__1Whiq\"><div class=\"domestic_item__2B--k\"><div class=\"heading\"><div class=\"airline\"><div class=\"logos\"><img alt=\"티웨이항공\" class=\"logo\" src=\"https://vertical.pstatic.net/vertical/static/flight/airlines/TW.png\"></div><b class=\"name\">티웨이항공</b></div><div class=\"info\"><i class=\"npay\">1%적립</i><div class=\"domestic_PromotionBadge__2aHzU\"><i class=\"domestic_badge__20kwD\" role=\"button\" aria-expanded=\"false\">이벤트혜택</i><p class=\"domestic_layer__2cpTz\"><span class=\"domestic_txt__2YFi_\">네이버페이 결제시 <i class=\"npaypoint\" title=\"npaypoint\"></i>1%+1,500원 적립</span></p></div></div></div><div class=\"route_Route__2UInh\"><span class=\"route_airport__3VT7M\"><b class=\"route_time__-2Z1T\">14:35</b><i class=\"route_code__3WUFO\">GMP</i></span><span class=\"route_airport__3VT7M\"><b class=\"route_time__-2Z1T\">15:45</b><i class=\"route_code__3WUFO\">CJU</i></span><i class=\"route_info__1RhUH\">01시간 10분</i></div></div></div><button class=\"domestic_select_schedule__xWQ-K\" type=\"button\"></button><div class=\"domestic_prices__3N88F\"><div class=\"domestic_item__2B--k\"><i class=\"domestic_type__30RSq\">할인석</i><b class=\"domestic_price__1qAgw\"><span class=\"domestic_txt__2YFi_\">편도 </span><i class=\"domestic_num__2roTW\">108,900</i><span class=\"unit\">원~</span></b></div><div class=\"domestic_item_promotion__2q5bH\"><i class=\"domestic_type__30RSq\">삼성카드 결제시 7% 캐시백</i><b class=\"domestic_price__1qAgw\"><span class=\"domestic_txt__2YFi_\">편도 </span><i class=\"domestic_num__2roTW\">103,020</i><span class=\"unit\">원~</span></b></div></div></div></div><div class=\"domestic_Flight__sK0eA result\"><div class=\"domestic_inner__15-bD\"><div class=\"domestic_schedule__1Whiq\"><div class=\"domestic_item__2B--k\"><div class=\"heading\"><div class=\"airline\"><div class=\"logos\"><img alt=\"티웨이항공\" class=\"logo\" src=\"https://vertical.pstatic.net/vertical/static/flight/airlines/TW.png\"></div><b class=\"name\">티웨이항공</b></div><div class=\"info\"><i class=\"npay\">1%적립</i><div class=\"domestic_PromotionBadge__2aHzU\"><i class=\"domestic_badge__20kwD\" role=\"button\" aria-expanded=\"false\">이벤트혜택</i><p class=\"domestic_layer__2cpTz\"><span class=\"domestic_txt__2YFi_\">네이버페이 결제시 <i class=\"npaypoint\" title=\"npaypoint\"></i>1%+1,500원 적립</span></p></div></div></div><div class=\"route_Route__2UInh\"><span class=\"route_airport__3VT7M\"><b class=\"route_time__-2Z1T\">14:35</b><i class=\"route_code__3WUFO\">GMP</i></span><span class=\"route_airport__3VT7M\"><b class=\"route_time__-2Z1T\">15:45</b><i class=\"route_code__3WUFO\">CJU</i></span><i class=\"route_info__1RhUH\">01시간 10분</i></div></div></div><button class=\"domestic_select_schedule__xWQ-K\" type=\"button\"></button><div class=\"domestic_prices__3N88F\"><div class=\"domestic_item__2B--k\"><i class=\"domestic_type__30RSq\">일반석</i><b class=\"domestic_price__1qAgw\"><span class=\"domestic_txt__2YFi_\">편도 </span><i class=\"domestic_num__2roTW\">132,200</i><span class=\"unit\">원~</span></b></div><div class=\"domestic_item_promotion__2q5bH\"><i class=\"domestic_type__30RSq\">삼성카드 결제시 7% 캐시백</i><b class=\"domestic_price__1qAgw\"><span class=\"domestic_txt__2YFi_\">편도 </span><i class=\"domestic_num__2roTW\">123,560</i><span class=\"unit\">원~</span></b></div></div></div></div><div class=\"domestic_Flight__sK0eA result\"><div class=\"domestic_inner__15-bD\"><div class=\"domestic_schedule__1Whiq\"><div class=\"domestic_item__2B--k\"><div class=\"heading\"><div class=\"airline\"><div class=\"logos\"><img alt=\"진에어\" class=\"logo\" src=\"https://vertical.pstatic.net/vertical/static/flight/airlines/LJ.png\"></div><b class=\"name\">진에어</b></div><div class=\"info\"><i class=\"npay\">1%적립</i><div class=\"domestic_PromotionBadge__2aHzU\"><i class=\"domestic_badge__20kwD\" role=\"button\" aria-expanded=\"false\">이벤트혜택</i><p class=\"domestic_layer__2cpTz\"><span class=\"domestic_txt__2YFi_\">네이버페이 결제시 <i class=\"npaypoint\" title=\"npaypoint\"></i>1%+1,500원 적립</span></p></div></div></div><div class=\"route_Route__2UInh\"><span class=\"route_airport__3VT7M\"><b class=\"route_time__-2Z1T\">14:40</b><i class=\"route_code__3WUFO\">GMP</i></span><span class=\"route_airport__3VT7M\"><b class=\"route_time__-2Z1T\">15:55</b><i class=\"route_code__3WUFO\">CJU</i></span><i class=\"route_info__1RhUH\">01시간 15분</i></div></div></div><button class=\"domestic_select_schedule__xWQ-K\" type=\"button\"></button><div class=\"domestic_prices__3N88F\"><div class=\"domestic_item__2B--k\"><i class=\"domestic_type__30RSq\">할인석</i><b class=\"domestic_price__1qAgw\"><span class=\"domestic_txt__2YFi_\">편도 </span><i class=\"domestic_num__2roTW\">104,900</i><span class=\"unit\">원~</span></b></div><div class=\"domestic_item_promotion__2q5bH\"><i class=\"domestic_type__30RSq\">삼성카드 결제시 5.8% 캐시백</i><b class=\"domestic_price__1qAgw\"><span class=\"domestic_txt__2YFi_\">편도 </span><i class=\"domestic_num__2roTW\">98,850</i><span class=\"unit\">원~</span></b></div></div></div></div><div class=\"domestic_Flight__sK0eA result\"><div class=\"domestic_inner__15-bD\"><div class=\"domestic_schedule__1Whiq\"><div class=\"domestic_item__2B--k\"><div class=\"heading\"><div class=\"airline\"><div class=\"logos\"><img alt=\"제주항공\" class=\"logo\" src=\"https://vertical.pstatic.net/vertical/static/flight/airlines/7C.png\"></div><b class=\"name\">제주항공</b></div><div class=\"info\"><i class=\"npay\">1%적립</i><div class=\"domestic_PromotionBadge__2aHzU\"><i class=\"domestic_badge__20kwD\" role=\"button\" aria-expanded=\"false\">이벤트혜택</i><p class=\"domestic_layer__2cpTz\"><span class=\"domestic_txt__2YFi_\">네이버페이 결제시 <i class=\"npaypoint\" title=\"npaypoint\"></i>1%+1,500원 적립</span></p></div></div></div><div class=\"route_Route__2UInh\"><span class=\"route_airport__3VT7M\"><b class=\"route_time__-2Z1T\">14:40</b><i class=\"route_code__3WUFO\">GMP</i></span><span class=\"route_airport__3VT7M\"><b class=\"route_time__-2Z1T\">15:50</b><i class=\"route_code__3WUFO\">CJU</i></span><i class=\"route_info__1RhUH\">01시간 10분</i></div></div></div><button class=\"domestic_select_schedule__xWQ-K\" type=\"button\"></button><div class=\"domestic_prices__3N88F\"><div class=\"domestic_item__2B--k\"><i class=\"domestic_type__30RSq\">할인석</i><b class=\"domestic_price__1qAgw\"><span class=\"domestic_txt__2YFi_\">편도 </span><i class=\"domestic_num__2roTW\">117,900</i><span class=\"unit\">원~</span></b></div><div class=\"domestic_item_promotion__2q5bH\"><i class=\"domestic_type__30RSq\">삼성카드 결제시 6.8% 캐시백</i><b class=\"domestic_price__1qAgw\"><span class=\"domestic_txt__2YFi_\">편도 </span><i class=\"domestic_num__2roTW\">109,860</i><span class=\"unit\">원~</span></b></div></div></div></div><div class=\"domestic_Flight__sK0eA result\"><div class=\"domestic_inner__15-bD\"><div class=\"domestic_schedule__1Whiq\"><div class=\"domestic_item__2B--k\"><div class=\"heading\"><div class=\"airline\"><div class=\"logos\"><img alt=\"제주항공\" class=\"logo\" src=\"https://vertical.pstatic.net/vertical/static/flight/airlines/7C.png\"></div><b class=\"name\">제주항공</b></div><div class=\"info\"><i class=\"npay\">1%적립</i><div class=\"domestic_PromotionBadge__2aHzU\"><i class=\"domestic_badge__20kwD\" role=\"button\" aria-expanded=\"false\">이벤트혜택</i><p class=\"domestic_layer__2cpTz\"><span class=\"domestic_txt__2YFi_\">네이버페이 결제시 <i class=\"npaypoint\" title=\"npaypoint\"></i>1%+1,500원 적립</span></p></div></div></div><div class=\"route_Route__2UInh\"><span class=\"route_airport__3VT7M\"><b class=\"route_time__-2Z1T\">14:40</b><i class=\"route_code__3WUFO\">GMP</i></span><span class=\"route_airport__3VT7M\"><b class=\"route_time__-2Z1T\">15:50</b><i class=\"route_code__3WUFO\">CJU</i></span><i class=\"route_info__1RhUH\">01시간 10분</i></div></div></div><button class=\"domestic_select_schedule__xWQ-K\" type=\"button\"></button><div class=\"domestic_prices__3N88F\"><div class=\"domestic_item__2B--k\"><i class=\"domestic_type__30RSq\">일반석</i><b class=\"domestic_price__1qAgw\"><span class=\"domestic_txt__2YFi_\">편도 </span><i class=\"domestic_num__2roTW\">133,500</i><span class=\"unit\">원~</span></b></div><div class=\"domestic_item_promotion__2q5bH\"><i class=\"domestic_type__30RSq\">삼성카드 결제시 6.8% 캐시백</i><b class=\"domestic_price__1qAgw\"><span class=\"domestic_txt__2YFi_\">편도 </span><i class=\"domestic_num__2roTW\">124,390</i><span class=\"unit\">원~</span></b></div></div></div></div><div class=\"domestic_Flight__sK0eA result\"><div class=\"domestic_inner__15-bD\"><div class=\"domestic_schedule__1Whiq\"><div class=\"domestic_item__2B--k\"><div class=\"heading\"><div class=\"airline\"><div class=\"logos\"><img alt=\"진에어\" class=\"logo\" src=\"https://vertical.pstatic.net/vertical/static/flight/airlines/LJ.png\"></div><b class=\"name\">진에어</b></div><div class=\"info\"><i class=\"npay\">1%적립</i><div class=\"domestic_PromotionBadge__2aHzU\"><i class=\"domestic_badge__20kwD\" role=\"button\" aria-expanded=\"false\">이벤트혜택</i><p class=\"domestic_layer__2cpTz\"><span class=\"domestic_txt__2YFi_\">네이버페이 결제시 <i class=\"npaypoint\" title=\"npaypoint\"></i>1%+1,500원 적립</span></p></div></div></div><div class=\"route_Route__2UInh\"><span class=\"route_airport__3VT7M\"><b class=\"route_time__-2Z1T\">14:40</b><i class=\"route_code__3WUFO\">GMP</i></span><span class=\"route_airport__3VT7M\"><b class=\"route_time__-2Z1T\">15:55</b><i class=\"route_code__3WUFO\">CJU</i></span><i class=\"route_info__1RhUH\">01시간 15분</i></div></div></div><button class=\"domestic_select_schedule__xWQ-K\" type=\"button\"></button><div class=\"domestic_prices__3N88F\"><div class=\"domestic_item__2B--k\"><i class=\"domestic_type__30RSq\">일반석</i><b class=\"domestic_price__1qAgw\"><span class=\"domestic_txt__2YFi_\">편도 </span><i class=\"domestic_num__2roTW\">134,000</i><span class=\"unit\">원~</span></b></div><div class=\"domestic_item_promotion__2q5bH\"><i class=\"domestic_type__30RSq\">삼성카드 결제시 5.8% 캐시백</i><b class=\"domestic_price__1qAgw\"><span class=\"domestic_txt__2YFi_\">편도 </span><i class=\"domestic_num__2roTW\">126,250</i><span class=\"unit\">원~</span></b></div></div></div></div><div class=\"domestic_Flight__sK0eA result\"><div class=\"domestic_inner__15-bD\"><div class=\"domestic_schedule__1Whiq\"><div class=\"domestic_item__2B--k\"><div class=\"heading\"><div class=\"airline\"><div class=\"logos\"><img alt=\"대한항공\" class=\"logo\" src=\"https://vertical.pstatic.net/vertical/static/flight/airlines/KE.png\"></div><b class=\"name\">대한항공</b></div><div class=\"info\"></div></div><div class=\"route_Route__2UInh\"><span class=\"route_airport__3VT7M\"><b class=\"route_time__-2Z1T\">14:50</b><i class=\"route_code__3WUFO\">GMP</i></span><span class=\"route_airport__3VT7M\"><b class=\"route_time__-2Z1T\">16:00</b><i class=\"route_code__3WUFO\">CJU</i></span><i class=\"route_info__1RhUH\">01시간 10분</i></div></div></div><button class=\"domestic_select_schedule__xWQ-K\" type=\"button\"></button><div class=\"domestic_prices__3N88F\"><div class=\"domestic_item__2B--k\"><i class=\"domestic_type__30RSq\">할인석</i><b class=\"domestic_price__1qAgw\"><span class=\"domestic_txt__2YFi_\">편도 </span><i class=\"domestic_num__2roTW\">121,000</i><span class=\"unit\">원~</span></b></div><div class=\"domestic_item_promotion__2q5bH\"><i class=\"domestic_type__30RSq\">삼성카드 결제시 7.2% 캐시백</i><b class=\"domestic_price__1qAgw\"><span class=\"domestic_txt__2YFi_\">편도 </span><i class=\"domestic_num__2roTW\">112,310</i><span class=\"unit\">원~</span></b></div></div></div></div><div class=\"domestic_Flight__sK0eA result\"><div class=\"domestic_inner__15-bD\"><div class=\"domestic_schedule__1Whiq\"><div class=\"domestic_item__2B--k\"><div class=\"heading\"><div class=\"airline\"><div class=\"logos\"><img alt=\"아시아나항공\" class=\"logo\" src=\"https://vertical.pstatic.net/vertical/static/flight/airlines/OZ.png\"></div><b class=\"name\">아시아나항공</b></div><div class=\"info\"><i class=\"npay\">1%적립</i><div class=\"domestic_PromotionBadge__2aHzU\"><i class=\"domestic_badge__20kwD\" role=\"button\" aria-expanded=\"false\">이벤트혜택</i><p class=\"domestic_layer__2cpTz\"><span class=\"domestic_txt__2YFi_\">네이버페이 결제시 <i class=\"npaypoint\" title=\"npaypoint\"></i>1%+1,500원 적립</span></p></div></div></div><div class=\"route_Route__2UInh\"><span class=\"route_airport__3VT7M\"><b class=\"route_time__-2Z1T\">14:55</b><i class=\"route_code__3WUFO\">GMP</i></span><span class=\"route_airport__3VT7M\"><b class=\"route_time__-2Z1T\">16:05</b><i class=\"route_code__3WUFO\">CJU</i></span><i class=\"route_info__1RhUH\">01시간 10분</i></div></div></div><button class=\"domestic_select_schedule__xWQ-K\" type=\"button\"></button><div class=\"domestic_prices__3N88F\"><div class=\"domestic_item__2B--k\"><i class=\"domestic_type__30RSq\">할인석</i><b class=\"domestic_price__1qAgw\"><span class=\"domestic_txt__2YFi_\">편도 </span><i class=\"domestic_num__2roTW\">111,000</i><span class=\"unit\">원~</span></b></div><div class=\"domestic_item_promotion__2q5bH\"><i class=\"domestic_type__30RSq\">삼성카드 결제시 4.4% 캐시백</i><b class=\"domestic_price__1qAgw\"><span class=\"domestic_txt__2YFi_\">편도 </span><i class=\"domestic_num__2roTW\">106,110</i><span class=\"unit\">원~</span></b></div></div></div></div><div class=\"domestic_Flight__sK0eA result\"><div class=\"domestic_inner__15-bD\"><div class=\"domestic_schedule__1Whiq\"><div class=\"domestic_item__2B--k\"><div class=\"heading\"><div class=\"airline\"><div class=\"logos\"><img alt=\"아시아나항공\" class=\"logo\" src=\"https://vertical.pstatic.net/vertical/static/flight/airlines/OZ.png\"></div><b class=\"name\">아시아나항공</b></div><div class=\"info\"><i class=\"npay\">1%적립</i><div class=\"domestic_PromotionBadge__2aHzU\"><i class=\"domestic_badge__20kwD\" role=\"button\" aria-expanded=\"false\">이벤트혜택</i><p class=\"domestic_layer__2cpTz\"><span class=\"domestic_txt__2YFi_\">네이버페이 결제시 <i class=\"npaypoint\" title=\"npaypoint\"></i>1%+1,500원 적립</span></p></div></div></div><div class=\"route_Route__2UInh\"><span class=\"route_airport__3VT7M\"><b class=\"route_time__-2Z1T\">14:55</b><i class=\"route_code__3WUFO\">GMP</i></span><span class=\"route_airport__3VT7M\"><b class=\"route_time__-2Z1T\">16:05</b><i class=\"route_code__3WUFO\">CJU</i></span><i class=\"route_info__1RhUH\">01시간 10분</i></div></div></div><button class=\"domestic_select_schedule__xWQ-K\" type=\"button\"></button><div class=\"domestic_prices__3N88F\"><div class=\"domestic_item__2B--k\"><i class=\"domestic_type__30RSq\">일반석</i><b class=\"domestic_price__1qAgw\"><span class=\"domestic_txt__2YFi_\">편도 </span><i class=\"domestic_num__2roTW\">147,000</i><span class=\"unit\">원~</span></b></div><div class=\"domestic_item_promotion__2q5bH\"><i class=\"domestic_type__30RSq\">삼성카드 결제시 4.4% 캐시백</i><b class=\"domestic_price__1qAgw\"><span class=\"domestic_txt__2YFi_\">편도 </span><i class=\"domestic_num__2roTW\">140,510</i><span class=\"unit\">원~</span></b></div></div></div></div><div class=\"domestic_Flight__sK0eA result\"><div class=\"domestic_inner__15-bD\"><div class=\"domestic_schedule__1Whiq\"><div class=\"domestic_item__2B--k\"><div class=\"heading\"><div class=\"airline\"><div class=\"logos\"><img alt=\"에어서울\" class=\"logo\" src=\"https://vertical.pstatic.net/vertical/static/flight/airlines/RS.png\"></div><b class=\"name\">에어서울</b></div><div class=\"info\"></div></div><div class=\"route_Route__2UInh\"><span class=\"route_airport__3VT7M\"><b class=\"route_time__-2Z1T\">15:00</b><i class=\"route_code__3WUFO\">GMP</i></span><span class=\"route_airport__3VT7M\"><b class=\"route_time__-2Z1T\">16:00</b><i class=\"route_code__3WUFO\">CJU</i></span><i class=\"route_info__1RhUH\">01시간 00분</i></div></div></div><button class=\"domestic_select_schedule__xWQ-K\" type=\"button\"></button><div class=\"domestic_prices__3N88F\"><div class=\"domestic_item__2B--k\"><i class=\"domestic_type__30RSq\">할인석</i><b class=\"domestic_price__1qAgw\"><span class=\"domestic_txt__2YFi_\">편도 </span><i class=\"domestic_num__2roTW\">108,900</i><span class=\"unit\">원~</span></b></div><div class=\"domestic_item_promotion__2q5bH\"><i class=\"domestic_type__30RSq\">KB국민카드 결제시 3% 청구할인</i><b class=\"domestic_price__1qAgw\"><span class=\"domestic_txt__2YFi_\">편도 </span><i class=\"domestic_num__2roTW\">105,670</i><span class=\"unit\">원~</span></b></div></div></div></div><div class=\"domestic_Flight__sK0eA result\"><div class=\"domestic_inner__15-bD\"><div class=\"domestic_schedule__1Whiq\"><div class=\"domestic_item__2B--k\"><div class=\"heading\"><div class=\"airline\"><div class=\"logos\"><img alt=\"대한항공\" class=\"logo\" src=\"https://vertical.pstatic.net/vertical/static/flight/airlines/KE.png\"></div><b class=\"name\">대한항공</b></div><div class=\"info\"></div></div><div class=\"route_Route__2UInh\"><span class=\"route_airport__3VT7M\"><b class=\"route_time__-2Z1T\">15:00</b><i class=\"route_code__3WUFO\">GMP</i></span><span class=\"route_airport__3VT7M\"><b class=\"route_time__-2Z1T\">16:10</b><i class=\"route_code__3WUFO\">CJU</i></span><i class=\"route_info__1RhUH\">01시간 10분</i></div></div></div><button class=\"domestic_select_schedule__xWQ-K\" type=\"button\"></button><div class=\"domestic_prices__3N88F\"><div class=\"domestic_item__2B--k\"><i class=\"domestic_type__30RSq\">할인석</i><b class=\"domestic_price__1qAgw\"><span class=\"domestic_txt__2YFi_\">편도 </span><i class=\"domestic_num__2roTW\">121,000</i><span class=\"unit\">원~</span></b></div><div class=\"domestic_item_promotion__2q5bH\"><i class=\"domestic_type__30RSq\">삼성카드 결제시 7.2% 캐시백</i><b class=\"domestic_price__1qAgw\"><span class=\"domestic_txt__2YFi_\">편도 </span><i class=\"domestic_num__2roTW\">112,310</i><span class=\"unit\">원~</span></b></div></div></div></div><div class=\"domestic_Flight__sK0eA result\"><div class=\"domestic_inner__15-bD\"><div class=\"domestic_schedule__1Whiq\"><div class=\"domestic_item__2B--k\"><div class=\"heading\"><div class=\"airline\"><div class=\"logos\"><img alt=\"에어서울\" class=\"logo\" src=\"https://vertical.pstatic.net/vertical/static/flight/airlines/RS.png\"></div><b class=\"name\">에어서울</b></div><div class=\"info\"></div></div><div class=\"route_Route__2UInh\"><span class=\"route_airport__3VT7M\"><b class=\"route_time__-2Z1T\">15:00</b><i class=\"route_code__3WUFO\">GMP</i></span><span class=\"route_airport__3VT7M\"><b class=\"route_time__-2Z1T\">16:00</b><i class=\"route_code__3WUFO\">CJU</i></span><i class=\"route_info__1RhUH\">01시간 00분</i></div></div></div><button class=\"domestic_select_schedule__xWQ-K\" type=\"button\"></button><div class=\"domestic_prices__3N88F\"><div class=\"domestic_item__2B--k\"><i class=\"domestic_type__30RSq\">일반석</i><b class=\"domestic_price__1qAgw\"><span class=\"domestic_txt__2YFi_\">편도 </span><i class=\"domestic_num__2roTW\">134,000</i><span class=\"unit\">원~</span></b></div><div class=\"domestic_item_promotion__2q5bH\"><i class=\"domestic_type__30RSq\">삼성카드 결제시 3.8% 캐시백</i><b class=\"domestic_price__1qAgw\"><span class=\"domestic_txt__2YFi_\">편도 </span><i class=\"domestic_num__2roTW\">128,900</i><span class=\"unit\">원~</span></b></div></div></div></div><div class=\"domestic_Flight__sK0eA result\"><div class=\"domestic_inner__15-bD\"><div class=\"domestic_schedule__1Whiq\"><div class=\"domestic_item__2B--k\"><div class=\"heading\"><div class=\"airline\"><div class=\"logos\"><img alt=\"에어부산\" class=\"logo\" src=\"https://vertical.pstatic.net/vertical/static/flight/airlines/BX.png\"></div><b class=\"name\">에어부산</b></div><div class=\"info\"></div></div><div class=\"route_Route__2UInh\"><span class=\"route_airport__3VT7M\"><b class=\"route_time__-2Z1T\">15:05</b><i class=\"route_code__3WUFO\">GMP</i></span><span class=\"route_airport__3VT7M\"><b class=\"route_time__-2Z1T\">16:15</b><i class=\"route_code__3WUFO\">CJU</i></span><i class=\"route_info__1RhUH\">01시간 10분</i></div></div></div><button class=\"domestic_select_schedule__xWQ-K\" type=\"button\"></button><div class=\"domestic_prices__3N88F\"><div class=\"domestic_item__2B--k\"><i class=\"domestic_type__30RSq\">할인석</i><b class=\"domestic_price__1qAgw\"><span class=\"domestic_txt__2YFi_\">편도 </span><i class=\"domestic_num__2roTW\">104,380</i><span class=\"unit\">원~</span></b></div><div class=\"domestic_item_promotion__2q5bH\"><i class=\"domestic_type__30RSq\">삼성카드 결제시 4.4% 캐시백</i><b class=\"domestic_price__1qAgw\"><span class=\"domestic_txt__2YFi_\">편도 </span><i class=\"domestic_num__2roTW\">99,830</i><span class=\"unit\">원~</span></b></div></div></div></div><div class=\"domestic_Flight__sK0eA result\"><div class=\"domestic_inner__15-bD\"><div class=\"domestic_schedule__1Whiq\"><div class=\"domestic_item__2B--k\"><div class=\"heading\"><div class=\"airline\"><div class=\"logos\"><img alt=\"아시아나항공\" class=\"logo\" src=\"https://vertical.pstatic.net/vertical/static/flight/airlines/OZ.png\"></div><b class=\"name\">아시아나항공</b></div><div class=\"info\"><i class=\"npay\">1%적립</i><div class=\"domestic_PromotionBadge__2aHzU\"><i class=\"domestic_badge__20kwD\" role=\"button\" aria-expanded=\"false\">이벤트혜택</i><p class=\"domestic_layer__2cpTz\"><span class=\"domestic_txt__2YFi_\">네이버페이 결제시 <i class=\"npaypoint\" title=\"npaypoint\"></i>1%+1,500원 적립</span></p></div></div></div><div class=\"route_Route__2UInh\"><span class=\"route_airport__3VT7M\"><b class=\"route_time__-2Z1T\">15:05</b><i class=\"route_code__3WUFO\">GMP</i></span><span class=\"route_airport__3VT7M\"><b class=\"route_time__-2Z1T\">16:15</b><i class=\"route_code__3WUFO\">CJU</i></span><i class=\"route_info__1RhUH\">01시간 10분</i></div></div></div><button class=\"domestic_select_schedule__xWQ-K\" type=\"button\"></button><div class=\"domestic_prices__3N88F\"><div class=\"domestic_item__2B--k\"><i class=\"domestic_type__30RSq\">할인석</i><b class=\"domestic_price__1qAgw\"><span class=\"domestic_txt__2YFi_\">편도 </span><i class=\"domestic_num__2roTW\">111,000</i><span class=\"unit\">원~</span></b></div><div class=\"domestic_item_promotion__2q5bH\"><i class=\"domestic_type__30RSq\">삼성카드 결제시 4.4% 캐시백</i><b class=\"domestic_price__1qAgw\"><span class=\"domestic_txt__2YFi_\">편도 </span><i class=\"domestic_num__2roTW\">106,110</i><span class=\"unit\">원~</span></b></div></div></div></div><div class=\"domestic_Flight__sK0eA result\"><div class=\"domestic_inner__15-bD\"><div class=\"domestic_schedule__1Whiq\"><div class=\"domestic_item__2B--k\"><div class=\"heading\"><div class=\"airline\"><div class=\"logos\"><img alt=\"에어부산\" class=\"logo\" src=\"https://vertical.pstatic.net/vertical/static/flight/airlines/BX.png\"></div><b class=\"name\">에어부산</b></div><div class=\"info\"></div></div><div class=\"route_Route__2UInh\"><span class=\"route_airport__3VT7M\"><b class=\"route_time__-2Z1T\">15:05</b><i class=\"route_code__3WUFO\">GMP</i></span><span class=\"route_airport__3VT7M\"><b class=\"route_time__-2Z1T\">16:15</b><i class=\"route_code__3WUFO\">CJU</i></span><i class=\"route_info__1RhUH\">01시간 10분</i></div></div></div><button class=\"domestic_select_schedule__xWQ-K\" type=\"button\"></button><div class=\"domestic_prices__3N88F\"><div class=\"domestic_item__2B--k\"><i class=\"domestic_type__30RSq\">일반석</i><b class=\"domestic_price__1qAgw\"><span class=\"domestic_txt__2YFi_\">편도 </span><i class=\"domestic_num__2roTW\">133,000</i><span class=\"unit\">원~</span></b></div><div class=\"domestic_item_promotion__2q5bH\"><i class=\"domestic_type__30RSq\">롯데카드 결제시 4.4% 캐시백</i><b class=\"domestic_price__1qAgw\"><span class=\"domestic_txt__2YFi_\">편도 </span><i class=\"domestic_num__2roTW\">127,170</i><span class=\"unit\">원~</span></b></div></div></div></div><div class=\"domestic_Flight__sK0eA result\"><div class=\"domestic_inner__15-bD\"><div class=\"domestic_schedule__1Whiq\"><div class=\"domestic_item__2B--k\"><div class=\"heading\"><div class=\"airline\"><div class=\"logos\"><img alt=\"아시아나항공\" class=\"logo\" src=\"https://vertical.pstatic.net/vertical/static/flight/airlines/OZ.png\"></div><b class=\"name\">아시아나항공</b></div><div class=\"info\"><i class=\"npay\">1%적립</i><div class=\"domestic_PromotionBadge__2aHzU\"><i class=\"domestic_badge__20kwD\" role=\"button\" aria-expanded=\"false\">이벤트혜택</i><p class=\"domestic_layer__2cpTz\"><span class=\"domestic_txt__2YFi_\">네이버페이 결제시 <i class=\"npaypoint\" title=\"npaypoint\"></i>1%+1,500원 적립</span></p></div></div></div><div class=\"route_Route__2UInh\"><span class=\"route_airport__3VT7M\"><b class=\"route_time__-2Z1T\">15:05</b><i class=\"route_code__3WUFO\">GMP</i></span><span class=\"route_airport__3VT7M\"><b class=\"route_time__-2Z1T\">16:15</b><i class=\"route_code__3WUFO\">CJU</i></span><i class=\"route_info__1RhUH\">01시간 10분</i></div></div></div><button class=\"domestic_select_schedule__xWQ-K\" type=\"button\"></button><div class=\"domestic_prices__3N88F\"><div class=\"domestic_item__2B--k\"><i class=\"domestic_type__30RSq\">일반석</i><b class=\"domestic_price__1qAgw\"><span class=\"domestic_txt__2YFi_\">편도 </span><i class=\"domestic_num__2roTW\">147,000</i><span class=\"unit\">원~</span></b></div><div class=\"domestic_item_promotion__2q5bH\"><i class=\"domestic_type__30RSq\">삼성카드 결제시 4.4% 캐시백</i><b class=\"domestic_price__1qAgw\"><span class=\"domestic_txt__2YFi_\">편도 </span><i class=\"domestic_num__2roTW\">140,510</i><span class=\"unit\">원~</span></b></div></div></div></div><div class=\"domestic_Flight__sK0eA result\"><div class=\"domestic_inner__15-bD\"><div class=\"domestic_schedule__1Whiq\"><div class=\"domestic_item__2B--k\"><div class=\"heading\"><div class=\"airline\"><div class=\"logos\"><img alt=\"제주항공\" class=\"logo\" src=\"https://vertical.pstatic.net/vertical/static/flight/airlines/7C.png\"></div><b class=\"name\">제주항공</b></div><div class=\"info\"><i class=\"npay\">1%적립</i><div class=\"domestic_PromotionBadge__2aHzU\"><i class=\"domestic_badge__20kwD\" role=\"button\" aria-expanded=\"false\">이벤트혜택</i><p class=\"domestic_layer__2cpTz\"><span class=\"domestic_txt__2YFi_\">네이버페이 결제시 <i class=\"npaypoint\" title=\"npaypoint\"></i>1%+1,500원 적립</span></p></div></div></div><div class=\"route_Route__2UInh\"><span class=\"route_airport__3VT7M\"><b class=\"route_time__-2Z1T\">15:10</b><i class=\"route_code__3WUFO\">GMP</i></span><span class=\"route_airport__3VT7M\"><b class=\"route_time__-2Z1T\">16:20</b><i class=\"route_code__3WUFO\">CJU</i></span><i class=\"route_info__1RhUH\">01시간 10분</i></div></div></div><button class=\"domestic_select_schedule__xWQ-K\" type=\"button\"></button><div class=\"domestic_prices__3N88F\"><div class=\"domestic_item__2B--k\"><i class=\"domestic_type__30RSq\">할인석</i><b class=\"domestic_price__1qAgw\"><span class=\"domestic_txt__2YFi_\">편도 </span><i class=\"domestic_num__2roTW\">117,900</i><span class=\"unit\">원~</span></b></div><div class=\"domestic_item_promotion__2q5bH\"><i class=\"domestic_type__30RSq\">삼성카드 결제시 6.8% 캐시백</i><b class=\"domestic_price__1qAgw\"><span class=\"domestic_txt__2YFi_\">편도 </span><i class=\"domestic_num__2roTW\">109,860</i><span class=\"unit\">원~</span></b></div></div></div></div><div class=\"domestic_Flight__sK0eA result\"><div class=\"domestic_inner__15-bD\"><div class=\"domestic_schedule__1Whiq\"><div class=\"domestic_item__2B--k\"><div class=\"heading\"><div class=\"airline\"><div class=\"logos\"><img alt=\"대한항공\" class=\"logo\" src=\"https://vertical.pstatic.net/vertical/static/flight/airlines/KE.png\"></div><b class=\"name\">대한항공</b></div><div class=\"info\"></div></div><div class=\"route_Route__2UInh\"><span class=\"route_airport__3VT7M\"><b class=\"route_time__-2Z1T\">15:10</b><i class=\"route_code__3WUFO\">GMP</i></span><span class=\"route_airport__3VT7M\"><b class=\"route_time__-2Z1T\">16:20</b><i class=\"route_code__3WUFO\">CJU</i></span><i class=\"route_info__1RhUH\">01시간 10분</i></div></div></div><button class=\"domestic_select_schedule__xWQ-K\" type=\"button\"></button><div class=\"domestic_prices__3N88F\"><div class=\"domestic_item__2B--k\"><i class=\"domestic_type__30RSq\">할인석</i><b class=\"domestic_price__1qAgw\"><span class=\"domestic_txt__2YFi_\">편도 </span><i class=\"domestic_num__2roTW\">121,000</i><span class=\"unit\">원~</span></b></div><div class=\"domestic_item_promotion__2q5bH\"><i class=\"domestic_type__30RSq\">삼성카드 결제시 7.2% 캐시백</i><b class=\"domestic_price__1qAgw\"><span class=\"domestic_txt__2YFi_\">편도 </span><i class=\"domestic_num__2roTW\">112,310</i><span class=\"unit\">원~</span></b></div></div></div></div><div class=\"domestic_Flight__sK0eA result\"><div class=\"domestic_inner__15-bD\"><div class=\"domestic_schedule__1Whiq\"><div class=\"domestic_item__2B--k\"><div class=\"heading\"><div class=\"airline\"><div class=\"logos\"><img alt=\"제주항공\" class=\"logo\" src=\"https://vertical.pstatic.net/vertical/static/flight/airlines/7C.png\"></div><b class=\"name\">제주항공</b></div><div class=\"info\"><i class=\"npay\">1%적립</i><div class=\"domestic_PromotionBadge__2aHzU\"><i class=\"domestic_badge__20kwD\" role=\"button\" aria-expanded=\"false\">이벤트혜택</i><p class=\"domestic_layer__2cpTz\"><span class=\"domestic_txt__2YFi_\">네이버페이 결제시 <i class=\"npaypoint\" title=\"npaypoint\"></i>1%+1,500원 적립</span></p></div></div></div><div class=\"route_Route__2UInh\"><span class=\"route_airport__3VT7M\"><b class=\"route_time__-2Z1T\">15:10</b><i class=\"route_code__3WUFO\">GMP</i></span><span class=\"route_airport__3VT7M\"><b class=\"route_time__-2Z1T\">16:20</b><i class=\"route_code__3WUFO\">CJU</i></span><i class=\"route_info__1RhUH\">01시간 10분</i></div></div></div><button class=\"domestic_select_schedule__xWQ-K\" type=\"button\"></button><div class=\"domestic_prices__3N88F\"><div class=\"domestic_item__2B--k\"><i class=\"domestic_type__30RSq\">일반석</i><b class=\"domestic_price__1qAgw\"><span class=\"domestic_txt__2YFi_\">편도 </span><i class=\"domestic_num__2roTW\">133,500</i><span class=\"unit\">원~</span></b></div><div class=\"domestic_item_promotion__2q5bH\"><i class=\"domestic_type__30RSq\">삼성카드 결제시 6.8% 캐시백</i><b class=\"domestic_price__1qAgw\"><span class=\"domestic_txt__2YFi_\">편도 </span><i class=\"domestic_num__2roTW\">124,390</i><span class=\"unit\">원~</span></b></div></div></div></div><div class=\"domestic_Flight__sK0eA result\"><div class=\"domestic_inner__15-bD\"><div class=\"domestic_schedule__1Whiq\"><div class=\"domestic_item__2B--k\"><div class=\"heading\"><div class=\"airline\"><div class=\"logos\"><img alt=\"티웨이항공\" class=\"logo\" src=\"https://vertical.pstatic.net/vertical/static/flight/airlines/TW.png\"></div><b class=\"name\">티웨이항공</b></div><div class=\"info\"><i class=\"npay\">1%적립</i><div class=\"domestic_PromotionBadge__2aHzU\"><i class=\"domestic_badge__20kwD\" role=\"button\" aria-expanded=\"false\">이벤트혜택</i><p class=\"domestic_layer__2cpTz\"><span class=\"domestic_txt__2YFi_\">네이버페이 결제시 <i class=\"npaypoint\" title=\"npaypoint\"></i>1%+1,500원 적립</span></p></div></div></div><div class=\"route_Route__2UInh\"><span class=\"route_airport__3VT7M\"><b class=\"route_time__-2Z1T\">15:15</b><i class=\"route_code__3WUFO\">GMP</i></span><span class=\"route_airport__3VT7M\"><b class=\"route_time__-2Z1T\">16:25</b><i class=\"route_code__3WUFO\">CJU</i></span><i class=\"route_info__1RhUH\">01시간 10분</i></div></div></div><button class=\"domestic_select_schedule__xWQ-K\" type=\"button\"></button><div class=\"domestic_prices__3N88F\"><div class=\"domestic_item__2B--k\"><i class=\"domestic_type__30RSq\">할인석</i><b class=\"domestic_price__1qAgw\"><span class=\"domestic_txt__2YFi_\">편도 </span><i class=\"domestic_num__2roTW\">116,100</i><span class=\"unit\">원~</span></b></div><div class=\"domestic_item_promotion__2q5bH\"><i class=\"domestic_type__30RSq\">삼성카드 결제시 7% 캐시백</i><b class=\"domestic_price__1qAgw\"><span class=\"domestic_txt__2YFi_\">편도 </span><i class=\"domestic_num__2roTW\">108,600</i><span class=\"unit\">원~</span></b></div></div></div></div><div class=\"domestic_Flight__sK0eA result\"><div class=\"domestic_inner__15-bD\"><div class=\"domestic_schedule__1Whiq\"><div class=\"domestic_item__2B--k\"><div class=\"heading\"><div class=\"airline\"><div class=\"logos\"><img alt=\"티웨이항공\" class=\"logo\" src=\"https://vertical.pstatic.net/vertical/static/flight/airlines/TW.png\"></div><b class=\"name\">티웨이항공</b></div><div class=\"info\"><i class=\"npay\">1%적립</i><div class=\"domestic_PromotionBadge__2aHzU\"><i class=\"domestic_badge__20kwD\" role=\"button\" aria-expanded=\"false\">이벤트혜택</i><p class=\"domestic_layer__2cpTz\"><span class=\"domestic_txt__2YFi_\">네이버페이 결제시 <i class=\"npaypoint\" title=\"npaypoint\"></i>1%+1,500원 적립</span></p></div></div></div><div class=\"route_Route__2UInh\"><span class=\"route_airport__3VT7M\"><b class=\"route_time__-2Z1T\">15:15</b><i class=\"route_code__3WUFO\">GMP</i></span><span class=\"route_airport__3VT7M\"><b class=\"route_time__-2Z1T\">16:25</b><i class=\"route_code__3WUFO\">CJU</i></span><i class=\"route_info__1RhUH\">01시간 10분</i></div></div></div><button class=\"domestic_select_schedule__xWQ-K\" type=\"button\"></button><div class=\"domestic_prices__3N88F\"><div class=\"domestic_item__2B--k\"><i class=\"domestic_type__30RSq\">일반석</i><b class=\"domestic_price__1qAgw\"><span class=\"domestic_txt__2YFi_\">편도 </span><i class=\"domestic_num__2roTW\">132,200</i><span class=\"unit\">원~</span></b></div><div class=\"domestic_item_promotion__2q5bH\"><i class=\"domestic_type__30RSq\">삼성카드 결제시 7% 캐시백</i><b class=\"domestic_price__1qAgw\"><span class=\"domestic_txt__2YFi_\">편도 </span><i class=\"domestic_num__2roTW\">123,560</i><span class=\"unit\">원~</span></b></div></div></div></div><div class=\"domestic_Flight__sK0eA result\"><div class=\"domestic_inner__15-bD\"><div class=\"domestic_schedule__1Whiq\"><div class=\"domestic_item__2B--k\"><div class=\"heading\"><div class=\"airline\"><div class=\"logos\"><img alt=\"제주항공\" class=\"logo\" src=\"https://vertical.pstatic.net/vertical/static/flight/airlines/7C.png\"></div><b class=\"name\">제주항공</b></div><div class=\"info\"><i class=\"npay\">1%적립</i><div class=\"domestic_PromotionBadge__2aHzU\"><i class=\"domestic_badge__20kwD\" role=\"button\" aria-expanded=\"false\">이벤트혜택</i><p class=\"domestic_layer__2cpTz\"><span class=\"domestic_txt__2YFi_\">네이버페이 결제시 <i class=\"npaypoint\" title=\"npaypoint\"></i>1%+1,500원 적립</span></p></div></div></div><div class=\"route_Route__2UInh\"><span class=\"route_airport__3VT7M\"><b class=\"route_time__-2Z1T\">15:30</b><i class=\"route_code__3WUFO\">GMP</i></span><span class=\"route_airport__3VT7M\"><b class=\"route_time__-2Z1T\">16:40</b><i class=\"route_code__3WUFO\">CJU</i></span><i class=\"route_info__1RhUH\">01시간 10분</i></div></div></div><button class=\"domestic_select_schedule__xWQ-K\" type=\"button\"></button><div class=\"domestic_prices__3N88F\"><div class=\"domestic_item__2B--k\"><i class=\"domestic_type__30RSq\">일반석</i><b class=\"domestic_price__1qAgw\"><span class=\"domestic_txt__2YFi_\">편도 </span><i class=\"domestic_num__2roTW\">133,500</i><span class=\"unit\">원~</span></b></div><div class=\"domestic_item_promotion__2q5bH\"><i class=\"domestic_type__30RSq\">삼성카드 결제시 6.8% 캐시백</i><b class=\"domestic_price__1qAgw\"><span class=\"domestic_txt__2YFi_\">편도 </span><i class=\"domestic_num__2roTW\">124,390</i><span class=\"unit\">원~</span></b></div></div></div></div><div class=\"domestic_Flight__sK0eA result\"><div class=\"domestic_inner__15-bD\"><div class=\"domestic_schedule__1Whiq\"><div class=\"domestic_item__2B--k\"><div class=\"heading\"><div class=\"airline\"><div class=\"logos\"><img alt=\"대한항공\" class=\"logo\" src=\"https://vertical.pstatic.net/vertical/static/flight/airlines/KE.png\"></div><b class=\"name\">대한항공</b></div><div class=\"info\"></div></div><div class=\"route_Route__2UInh\"><span class=\"route_airport__3VT7M\"><b class=\"route_time__-2Z1T\">15:35</b><i class=\"route_code__3WUFO\">GMP</i></span><span class=\"route_airport__3VT7M\"><b class=\"route_time__-2Z1T\">16:45</b><i class=\"route_code__3WUFO\">CJU</i></span><i class=\"route_info__1RhUH\">01시간 10분</i></div></div></div><button class=\"domestic_select_schedule__xWQ-K\" type=\"button\"></button><div class=\"domestic_prices__3N88F\"><div class=\"domestic_item__2B--k\"><i class=\"domestic_type__30RSq\">할인석</i><b class=\"domestic_price__1qAgw\"><span class=\"domestic_txt__2YFi_\">편도 </span><i class=\"domestic_num__2roTW\">121,000</i><span class=\"unit\">원~</span></b></div><div class=\"domestic_item_promotion__2q5bH\"><i class=\"domestic_type__30RSq\">삼성카드 결제시 7.2% 캐시백</i><b class=\"domestic_price__1qAgw\"><span class=\"domestic_txt__2YFi_\">편도 </span><i class=\"domestic_num__2roTW\">112,310</i><span class=\"unit\">원~</span></b></div></div></div></div><div class=\"domestic_Flight__sK0eA result\"><div class=\"domestic_inner__15-bD\"><div class=\"domestic_schedule__1Whiq\"><div class=\"domestic_item__2B--k\"><div class=\"heading\"><div class=\"airline\"><div class=\"logos\"><img alt=\"진에어\" class=\"logo\" src=\"https://vertical.pstatic.net/vertical/static/flight/airlines/LJ.png\"></div><b class=\"name\">진에어</b></div><div class=\"info\"><i class=\"npay\">1%적립</i><div class=\"domestic_PromotionBadge__2aHzU\"><i class=\"domestic_badge__20kwD\" role=\"button\" aria-expanded=\"false\">이벤트혜택</i><p class=\"domestic_layer__2cpTz\"><span class=\"domestic_txt__2YFi_\">네이버페이 결제시 <i class=\"npaypoint\" title=\"npaypoint\"></i>1%+1,500원 적립</span></p></div></div></div><div class=\"route_Route__2UInh\"><span class=\"route_airport__3VT7M\"><b class=\"route_time__-2Z1T\">15:50</b><i class=\"route_code__3WUFO\">GMP</i></span><span class=\"route_airport__3VT7M\"><b class=\"route_time__-2Z1T\">17:00</b><i class=\"route_code__3WUFO\">CJU</i></span><i class=\"route_info__1RhUH\">01시간 10분</i></div></div></div><button class=\"domestic_select_schedule__xWQ-K\" type=\"button\"></button><div class=\"domestic_prices__3N88F\"><div class=\"domestic_item__2B--k\"><i class=\"domestic_type__30RSq\">할인석</i><b class=\"domestic_price__1qAgw\"><span class=\"domestic_txt__2YFi_\">편도 </span><i class=\"domestic_num__2roTW\">110,900</i><span class=\"unit\">원~</span></b></div><div class=\"domestic_item_promotion__2q5bH\"><i class=\"domestic_type__30RSq\">삼성카드 결제시 5.8% 캐시백</i><b class=\"domestic_price__1qAgw\"><span class=\"domestic_txt__2YFi_\">편도 </span><i class=\"domestic_num__2roTW\">104,500</i><span class=\"unit\">원~</span></b></div></div></div></div><div class=\"domestic_Flight__sK0eA result\"><div class=\"domestic_inner__15-bD\"><div class=\"domestic_schedule__1Whiq\"><div class=\"domestic_item__2B--k\"><div class=\"heading\"><div class=\"airline\"><div class=\"logos\"><img alt=\"제주항공\" class=\"logo\" src=\"https://vertical.pstatic.net/vertical/static/flight/airlines/7C.png\"></div><b class=\"name\">제주항공</b></div><div class=\"info\"><i class=\"npay\">1%적립</i><div class=\"domestic_PromotionBadge__2aHzU\"><i class=\"domestic_badge__20kwD\" role=\"button\" aria-expanded=\"false\">이벤트혜택</i><p class=\"domestic_layer__2cpTz\"><span class=\"domestic_txt__2YFi_\">네이버페이 결제시 <i class=\"npaypoint\" title=\"npaypoint\"></i>1%+1,500원 적립</span></p></div></div></div><div class=\"route_Route__2UInh\"><span class=\"route_airport__3VT7M\"><b class=\"route_time__-2Z1T\">15:50</b><i class=\"route_code__3WUFO\">GMP</i></span><span class=\"route_airport__3VT7M\"><b class=\"route_time__-2Z1T\">17:05</b><i class=\"route_code__3WUFO\">CJU</i></span><i class=\"route_info__1RhUH\">01시간 15분</i></div></div></div><button class=\"domestic_select_schedule__xWQ-K\" type=\"button\"></button><div class=\"domestic_prices__3N88F\"><div class=\"domestic_item__2B--k\"><i class=\"domestic_type__30RSq\">일반석</i><b class=\"domestic_price__1qAgw\"><span class=\"domestic_txt__2YFi_\">편도 </span><i class=\"domestic_num__2roTW\">133,500</i><span class=\"unit\">원~</span></b></div><div class=\"domestic_item_promotion__2q5bH\"><i class=\"domestic_type__30RSq\">삼성카드 결제시 6.8% 캐시백</i><b class=\"domestic_price__1qAgw\"><span class=\"domestic_txt__2YFi_\">편도 </span><i class=\"domestic_num__2roTW\">124,390</i><span class=\"unit\">원~</span></b></div></div></div></div><div class=\"domestic_Flight__sK0eA result\"><div class=\"domestic_inner__15-bD\"><div class=\"domestic_schedule__1Whiq\"><div class=\"domestic_item__2B--k\"><div class=\"heading\"><div class=\"airline\"><div class=\"logos\"><img alt=\"진에어\" class=\"logo\" src=\"https://vertical.pstatic.net/vertical/static/flight/airlines/LJ.png\"></div><b class=\"name\">진에어</b></div><div class=\"info\"><i class=\"npay\">1%적립</i><div class=\"domestic_PromotionBadge__2aHzU\"><i class=\"domestic_badge__20kwD\" role=\"button\" aria-expanded=\"false\">이벤트혜택</i><p class=\"domestic_layer__2cpTz\"><span class=\"domestic_txt__2YFi_\">네이버페이 결제시 <i class=\"npaypoint\" title=\"npaypoint\"></i>1%+1,500원 적립</span></p></div></div></div><div class=\"route_Route__2UInh\"><span class=\"route_airport__3VT7M\"><b class=\"route_time__-2Z1T\">15:50</b><i class=\"route_code__3WUFO\">GMP</i></span><span class=\"route_airport__3VT7M\"><b class=\"route_time__-2Z1T\">17:00</b><i class=\"route_code__3WUFO\">CJU</i></span><i class=\"route_info__1RhUH\">01시간 10분</i></div></div></div><button class=\"domestic_select_schedule__xWQ-K\" type=\"button\"></button><div class=\"domestic_prices__3N88F\"><div class=\"domestic_item__2B--k\"><i class=\"domestic_type__30RSq\">일반석</i><b class=\"domestic_price__1qAgw\"><span class=\"domestic_txt__2YFi_\">편도 </span><i class=\"domestic_num__2roTW\">134,000</i><span class=\"unit\">원~</span></b></div><div class=\"domestic_item_promotion__2q5bH\"><i class=\"domestic_type__30RSq\">삼성카드 결제시 5.8% 캐시백</i><b class=\"domestic_price__1qAgw\"><span class=\"domestic_txt__2YFi_\">편도 </span><i class=\"domestic_num__2roTW\">126,250</i><span class=\"unit\">원~</span></b></div></div></div></div><div class=\"domestic_Flight__sK0eA result\"><div class=\"domestic_inner__15-bD\"><div class=\"domestic_schedule__1Whiq\"><div class=\"domestic_item__2B--k\"><div class=\"heading\"><div class=\"airline\"><div class=\"logos\"><img alt=\"아시아나항공\" class=\"logo\" src=\"https://vertical.pstatic.net/vertical/static/flight/airlines/OZ.png\"></div><b class=\"name\">아시아나항공</b></div><div class=\"info\"><i class=\"npay\">1%적립</i><div class=\"domestic_PromotionBadge__2aHzU\"><i class=\"domestic_badge__20kwD\" role=\"button\" aria-expanded=\"false\">이벤트혜택</i><p class=\"domestic_layer__2cpTz\"><span class=\"domestic_txt__2YFi_\">네이버페이 결제시 <i class=\"npaypoint\" title=\"npaypoint\"></i>1%+1,500원 적립</span></p></div></div></div><div class=\"route_Route__2UInh\"><span class=\"route_airport__3VT7M\"><b class=\"route_time__-2Z1T\">15:55</b><i class=\"route_code__3WUFO\">GMP</i></span><span class=\"route_airport__3VT7M\"><b class=\"route_time__-2Z1T\">17:10</b><i class=\"route_code__3WUFO\">CJU</i></span><i class=\"route_info__1RhUH\">01시간 15분</i></div></div></div><button class=\"domestic_select_schedule__xWQ-K\" type=\"button\"></button><div class=\"domestic_prices__3N88F\"><div class=\"domestic_item__2B--k\"><i class=\"domestic_type__30RSq\">할인석</i><b class=\"domestic_price__1qAgw\"><span class=\"domestic_txt__2YFi_\">편도 </span><i class=\"domestic_num__2roTW\">111,000</i><span class=\"unit\">원~</span></b></div><div class=\"domestic_item_promotion__2q5bH\"><i class=\"domestic_type__30RSq\">삼성카드 결제시 4.4% 캐시백</i><b class=\"domestic_price__1qAgw\"><span class=\"domestic_txt__2YFi_\">편도 </span><i class=\"domestic_num__2roTW\">106,110</i><span class=\"unit\">원~</span></b></div></div></div></div><div class=\"domestic_Flight__sK0eA result\"><div class=\"domestic_inner__15-bD\"><div class=\"domestic_schedule__1Whiq\"><div class=\"domestic_item__2B--k\"><div class=\"heading\"><div class=\"airline\"><div class=\"logos\"><img alt=\"아시아나항공\" class=\"logo\" src=\"https://vertical.pstatic.net/vertical/static/flight/airlines/OZ.png\"></div><b class=\"name\">아시아나항공</b></div><div class=\"info\"><i class=\"npay\">1%적립</i><div class=\"domestic_PromotionBadge__2aHzU\"><i class=\"domestic_badge__20kwD\" role=\"button\" aria-expanded=\"false\">이벤트혜택</i><p class=\"domestic_layer__2cpTz\"><span class=\"domestic_txt__2YFi_\">네이버페이 결제시 <i class=\"npaypoint\" title=\"npaypoint\"></i>1%+1,500원 적립</span></p></div></div></div><div class=\"route_Route__2UInh\"><span class=\"route_airport__3VT7M\"><b class=\"route_time__-2Z1T\">15:55</b><i class=\"route_code__3WUFO\">GMP</i></span><span class=\"route_airport__3VT7M\"><b class=\"route_time__-2Z1T\">17:10</b><i class=\"route_code__3WUFO\">CJU</i></span><i class=\"route_info__1RhUH\">01시간 15분</i></div></div></div><button class=\"domestic_select_schedule__xWQ-K\" type=\"button\"></button><div class=\"domestic_prices__3N88F\"><div class=\"domestic_item__2B--k\"><i class=\"domestic_type__30RSq\">일반석</i><b class=\"domestic_price__1qAgw\"><span class=\"domestic_txt__2YFi_\">편도 </span><i class=\"domestic_num__2roTW\">147,000</i><span class=\"unit\">원~</span></b></div><div class=\"domestic_item_promotion__2q5bH\"><i class=\"domestic_type__30RSq\">삼성카드 결제시 4.4% 캐시백</i><b class=\"domestic_price__1qAgw\"><span class=\"domestic_txt__2YFi_\">편도 </span><i class=\"domestic_num__2roTW\">140,510</i><span class=\"unit\">원~</span></b></div></div></div></div><div class=\"domestic_Flight__sK0eA result\"><div class=\"domestic_inner__15-bD\"><div class=\"domestic_schedule__1Whiq\"><div class=\"domestic_item__2B--k\"><div class=\"heading\"><div class=\"airline\"><div class=\"logos\"><img alt=\"티웨이항공\" class=\"logo\" src=\"https://vertical.pstatic.net/vertical/static/flight/airlines/TW.png\"></div><b class=\"name\">티웨이항공</b></div><div class=\"info\"><i class=\"npay\">1%적립</i><div class=\"domestic_PromotionBadge__2aHzU\"><i class=\"domestic_badge__20kwD\" role=\"button\" aria-expanded=\"false\">이벤트혜택</i><p class=\"domestic_layer__2cpTz\"><span class=\"domestic_txt__2YFi_\">네이버페이 결제시 <i class=\"npaypoint\" title=\"npaypoint\"></i>1%+1,500원 적립</span></p></div></div></div><div class=\"route_Route__2UInh\"><span class=\"route_airport__3VT7M\"><b class=\"route_time__-2Z1T\">16:10</b><i class=\"route_code__3WUFO\">GMP</i></span><span class=\"route_airport__3VT7M\"><b class=\"route_time__-2Z1T\">17:20</b><i class=\"route_code__3WUFO\">CJU</i></span><i class=\"route_info__1RhUH\">01시간 10분</i></div></div></div><button class=\"domestic_select_schedule__xWQ-K\" type=\"button\"></button><div class=\"domestic_prices__3N88F\"><div class=\"domestic_item__2B--k\"><i class=\"domestic_type__30RSq\">할인석</i><b class=\"domestic_price__1qAgw\"><span class=\"domestic_txt__2YFi_\">편도 </span><i class=\"domestic_num__2roTW\">116,100</i><span class=\"unit\">원~</span></b></div><div class=\"domestic_item_promotion__2q5bH\"><i class=\"domestic_type__30RSq\">삼성카드 결제시 7% 캐시백</i><b class=\"domestic_price__1qAgw\"><span class=\"domestic_txt__2YFi_\">편도 </span><i class=\"domestic_num__2roTW\">108,600</i><span class=\"unit\">원~</span></b></div></div></div></div><div class=\"domestic_Flight__sK0eA result\"><div class=\"domestic_inner__15-bD\"><div class=\"domestic_schedule__1Whiq\"><div class=\"domestic_item__2B--k\"><div class=\"heading\"><div class=\"airline\"><div class=\"logos\"><img alt=\"티웨이항공\" class=\"logo\" src=\"https://vertical.pstatic.net/vertical/static/flight/airlines/TW.png\"></div><b class=\"name\">티웨이항공</b></div><div class=\"info\"><i class=\"npay\">1%적립</i><div class=\"domestic_PromotionBadge__2aHzU\"><i class=\"domestic_badge__20kwD\" role=\"button\" aria-expanded=\"false\">이벤트혜택</i><p class=\"domestic_layer__2cpTz\"><span class=\"domestic_txt__2YFi_\">네이버페이 결제시 <i class=\"npaypoint\" title=\"npaypoint\"></i>1%+1,500원 적립</span></p></div></div></div><div class=\"route_Route__2UInh\"><span class=\"route_airport__3VT7M\"><b class=\"route_time__-2Z1T\">16:10</b><i class=\"route_code__3WUFO\">GMP</i></span><span class=\"route_airport__3VT7M\"><b class=\"route_time__-2Z1T\">17:20</b><i class=\"route_code__3WUFO\">CJU</i></span><i class=\"route_info__1RhUH\">01시간 10분</i></div></div></div><button class=\"domestic_select_schedule__xWQ-K\" type=\"button\"></button><div class=\"domestic_prices__3N88F\"><div class=\"domestic_item__2B--k\"><i class=\"domestic_type__30RSq\">일반석</i><b class=\"domestic_price__1qAgw\"><span class=\"domestic_txt__2YFi_\">편도 </span><i class=\"domestic_num__2roTW\">132,200</i><span class=\"unit\">원~</span></b></div><div class=\"domestic_item_promotion__2q5bH\"><i class=\"domestic_type__30RSq\">삼성카드 결제시 7% 캐시백</i><b class=\"domestic_price__1qAgw\"><span class=\"domestic_txt__2YFi_\">편도 </span><i class=\"domestic_num__2roTW\">123,560</i><span class=\"unit\">원~</span></b></div></div></div></div><div class=\"domestic_Flight__sK0eA result\"><div class=\"domestic_inner__15-bD\"><div class=\"domestic_schedule__1Whiq\"><div class=\"domestic_item__2B--k\"><div class=\"heading\"><div class=\"airline\"><div class=\"logos\"><img alt=\"대한항공\" class=\"logo\" src=\"https://vertical.pstatic.net/vertical/static/flight/airlines/KE.png\"></div><b class=\"name\">대한항공</b></div><div class=\"info\"></div></div><div class=\"route_Route__2UInh\"><span class=\"route_airport__3VT7M\"><b class=\"route_time__-2Z1T\">16:10</b><i class=\"route_code__3WUFO\">GMP</i></span><span class=\"route_airport__3VT7M\"><b class=\"route_time__-2Z1T\">17:20</b><i class=\"route_code__3WUFO\">CJU</i></span><i class=\"route_info__1RhUH\">01시간 10분</i></div></div></div><button class=\"domestic_select_schedule__xWQ-K\" type=\"button\"></button><div class=\"domestic_prices__3N88F\"><div class=\"domestic_item__2B--k\"><i class=\"domestic_type__30RSq\">일반석</i><b class=\"domestic_price__1qAgw\"><span class=\"domestic_txt__2YFi_\">편도 </span><i class=\"domestic_num__2roTW\">144,000</i><span class=\"unit\">원~</span></b></div><div class=\"domestic_item_promotion__2q5bH\"><i class=\"domestic_type__30RSq\">삼성카드 결제시 7.2% 캐시백</i><b class=\"domestic_price__1qAgw\"><span class=\"domestic_txt__2YFi_\">편도 </span><i class=\"domestic_num__2roTW\">133,640</i><span class=\"unit\">원~</span></b></div></div></div></div><div class=\"domestic_Flight__sK0eA result\"><div class=\"domestic_inner__15-bD\"><div class=\"domestic_schedule__1Whiq\"><div class=\"domestic_item__2B--k\"><div class=\"heading\"><div class=\"airline\"><div class=\"logos\"><img alt=\"대한항공\" class=\"logo\" src=\"https://vertical.pstatic.net/vertical/static/flight/airlines/KE.png\"></div><b class=\"name\">대한항공</b></div><div class=\"info\"></div></div><div class=\"route_Route__2UInh\"><span class=\"route_airport__3VT7M\"><b class=\"route_time__-2Z1T\">16:25</b><i class=\"route_code__3WUFO\">GMP</i></span><span class=\"route_airport__3VT7M\"><b class=\"route_time__-2Z1T\">17:35</b><i class=\"route_code__3WUFO\">CJU</i></span><i class=\"route_info__1RhUH\">01시간 10분</i></div></div></div><button class=\"domestic_select_schedule__xWQ-K\" type=\"button\"></button><div class=\"domestic_prices__3N88F\"><div class=\"domestic_item__2B--k\"><i class=\"domestic_type__30RSq\">할인석</i><b class=\"domestic_price__1qAgw\"><span class=\"domestic_txt__2YFi_\">편도 </span><i class=\"domestic_num__2roTW\">121,000</i><span class=\"unit\">원~</span></b></div><div class=\"domestic_item_promotion__2q5bH\"><i class=\"domestic_type__30RSq\">삼성카드 결제시 7.2% 캐시백</i><b class=\"domestic_price__1qAgw\"><span class=\"domestic_txt__2YFi_\">편도 </span><i class=\"domestic_num__2roTW\">112,310</i><span class=\"unit\">원~</span></b></div></div></div></div><div class=\"domestic_Flight__sK0eA result\"><div class=\"domestic_inner__15-bD\"><div class=\"domestic_schedule__1Whiq\"><div class=\"domestic_item__2B--k\"><div class=\"heading\"><div class=\"airline\"><div class=\"logos\"><img alt=\"진에어\" class=\"logo\" src=\"https://vertical.pstatic.net/vertical/static/flight/airlines/LJ.png\"></div><b class=\"name\">진에어</b></div><div class=\"info\"><i class=\"npay\">1%적립</i><div class=\"domestic_PromotionBadge__2aHzU\"><i class=\"domestic_badge__20kwD\" role=\"button\" aria-expanded=\"false\">이벤트혜택</i><p class=\"domestic_layer__2cpTz\"><span class=\"domestic_txt__2YFi_\">네이버페이 결제시 <i class=\"npaypoint\" title=\"npaypoint\"></i>1%+1,500원 적립</span></p></div></div></div><div class=\"route_Route__2UInh\"><span class=\"route_airport__3VT7M\"><b class=\"route_time__-2Z1T\">16:30</b><i class=\"route_code__3WUFO\">GMP</i></span><span class=\"route_airport__3VT7M\"><b class=\"route_time__-2Z1T\">17:40</b><i class=\"route_code__3WUFO\">CJU</i></span><i class=\"route_info__1RhUH\">01시간 10분</i></div></div></div><button class=\"domestic_select_schedule__xWQ-K\" type=\"button\"></button><div class=\"domestic_prices__3N88F\"><div class=\"domestic_item__2B--k\"><i class=\"domestic_type__30RSq\">할인석</i><b class=\"domestic_price__1qAgw\"><span class=\"domestic_txt__2YFi_\">편도 </span><i class=\"domestic_num__2roTW\">112,900</i><span class=\"unit\">원~</span></b></div><div class=\"domestic_item_promotion__2q5bH\"><i class=\"domestic_type__30RSq\">삼성카드 결제시 5.8% 캐시백</i><b class=\"domestic_price__1qAgw\"><span class=\"domestic_txt__2YFi_\">편도 </span><i class=\"domestic_num__2roTW\">106,380</i><span class=\"unit\">원~</span></b></div></div></div></div><div class=\"domestic_Flight__sK0eA result\"><div class=\"domestic_inner__15-bD\"><div class=\"domestic_schedule__1Whiq\"><div class=\"domestic_item__2B--k\"><div class=\"heading\"><div class=\"airline\"><div class=\"logos\"><img alt=\"진에어\" class=\"logo\" src=\"https://vertical.pstatic.net/vertical/static/flight/airlines/LJ.png\"></div><b class=\"name\">진에어</b></div><div class=\"info\"><i class=\"npay\">1%적립</i><div class=\"domestic_PromotionBadge__2aHzU\"><i class=\"domestic_badge__20kwD\" role=\"button\" aria-expanded=\"false\">이벤트혜택</i><p class=\"domestic_layer__2cpTz\"><span class=\"domestic_txt__2YFi_\">네이버페이 결제시 <i class=\"npaypoint\" title=\"npaypoint\"></i>1%+1,500원 적립</span></p></div></div></div><div class=\"route_Route__2UInh\"><span class=\"route_airport__3VT7M\"><b class=\"route_time__-2Z1T\">16:30</b><i class=\"route_code__3WUFO\">GMP</i></span><span class=\"route_airport__3VT7M\"><b class=\"route_time__-2Z1T\">17:40</b><i class=\"route_code__3WUFO\">CJU</i></span><i class=\"route_info__1RhUH\">01시간 10분</i></div></div></div><button class=\"domestic_select_schedule__xWQ-K\" type=\"button\"></button><div class=\"domestic_prices__3N88F\"><div class=\"domestic_item__2B--k\"><i class=\"domestic_type__30RSq\">일반석</i><b class=\"domestic_price__1qAgw\"><span class=\"domestic_txt__2YFi_\">편도 </span><i class=\"domestic_num__2roTW\">134,000</i><span class=\"unit\">원~</span></b></div><div class=\"domestic_item_promotion__2q5bH\"><i class=\"domestic_type__30RSq\">삼성카드 결제시 5.8% 캐시백</i><b class=\"domestic_price__1qAgw\"><span class=\"domestic_txt__2YFi_\">편도 </span><i class=\"domestic_num__2roTW\">126,250</i><span class=\"unit\">원~</span></b></div></div></div></div><div class=\"domestic_Flight__sK0eA result\"><div class=\"domestic_inner__15-bD\"><div class=\"domestic_schedule__1Whiq\"><div class=\"domestic_item__2B--k\"><div class=\"heading\"><div class=\"airline\"><div class=\"logos\"><img alt=\"아시아나항공\" class=\"logo\" src=\"https://vertical.pstatic.net/vertical/static/flight/airlines/OZ.png\"></div><b class=\"name\">아시아나항공</b></div><div class=\"info\"><i class=\"npay\">1%적립</i><div class=\"domestic_PromotionBadge__2aHzU\"><i class=\"domestic_badge__20kwD\" role=\"button\" aria-expanded=\"false\">이벤트혜택</i><p class=\"domestic_layer__2cpTz\"><span class=\"domestic_txt__2YFi_\">네이버페이 결제시 <i class=\"npaypoint\" title=\"npaypoint\"></i>1%+1,500원 적립</span></p></div></div></div><div class=\"route_Route__2UInh\"><span class=\"route_airport__3VT7M\"><b class=\"route_time__-2Z1T\">16:35</b><i class=\"route_code__3WUFO\">GMP</i></span><span class=\"route_airport__3VT7M\"><b class=\"route_time__-2Z1T\">17:50</b><i class=\"route_code__3WUFO\">CJU</i></span><i class=\"route_info__1RhUH\">01시간 15분</i></div></div></div><button class=\"domestic_select_schedule__xWQ-K\" type=\"button\"></button><div class=\"domestic_prices__3N88F\"><div class=\"domestic_item__2B--k\"><i class=\"domestic_type__30RSq\">할인석</i><b class=\"domestic_price__1qAgw\"><span class=\"domestic_txt__2YFi_\">편도 </span><i class=\"domestic_num__2roTW\">111,000</i><span class=\"unit\">원~</span></b></div><div class=\"domestic_item_promotion__2q5bH\"><i class=\"domestic_type__30RSq\">삼성카드 결제시 4.4% 캐시백</i><b class=\"domestic_price__1qAgw\"><span class=\"domestic_txt__2YFi_\">편도 </span><i class=\"domestic_num__2roTW\">106,110</i><span class=\"unit\">원~</span></b></div></div></div></div><div class=\"domestic_Flight__sK0eA result\"><div class=\"domestic_inner__15-bD\"><div class=\"domestic_schedule__1Whiq\"><div class=\"domestic_item__2B--k\"><div class=\"heading\"><div class=\"airline\"><div class=\"logos\"><img alt=\"아시아나항공\" class=\"logo\" src=\"https://vertical.pstatic.net/vertical/static/flight/airlines/OZ.png\"></div><b class=\"name\">아시아나항공</b></div><div class=\"info\"><i class=\"npay\">1%적립</i><div class=\"domestic_PromotionBadge__2aHzU\"><i class=\"domestic_badge__20kwD\" role=\"button\" aria-expanded=\"false\">이벤트혜택</i><p class=\"domestic_layer__2cpTz\"><span class=\"domestic_txt__2YFi_\">네이버페이 결제시 <i class=\"npaypoint\" title=\"npaypoint\"></i>1%+1,500원 적립</span></p></div></div></div><div class=\"route_Route__2UInh\"><span class=\"route_airport__3VT7M\"><b class=\"route_time__-2Z1T\">16:35</b><i class=\"route_code__3WUFO\">GMP</i></span><span class=\"route_airport__3VT7M\"><b class=\"route_time__-2Z1T\">17:50</b><i class=\"route_code__3WUFO\">CJU</i></span><i class=\"route_info__1RhUH\">01시간 15분</i></div></div></div><button class=\"domestic_select_schedule__xWQ-K\" type=\"button\"></button><div class=\"domestic_prices__3N88F\"><div class=\"domestic_item__2B--k\"><i class=\"domestic_type__30RSq\">일반석</i><b class=\"domestic_price__1qAgw\"><span class=\"domestic_txt__2YFi_\">편도 </span><i class=\"domestic_num__2roTW\">147,000</i><span class=\"unit\">원~</span></b></div><div class=\"domestic_item_promotion__2q5bH\"><i class=\"domestic_type__30RSq\">삼성카드 결제시 4.4% 캐시백</i><b class=\"domestic_price__1qAgw\"><span class=\"domestic_txt__2YFi_\">편도 </span><i class=\"domestic_num__2roTW\">140,510</i><span class=\"unit\">원~</span></b></div></div></div></div><div class=\"domestic_Flight__sK0eA result\"><div class=\"domestic_inner__15-bD\"><div class=\"domestic_schedule__1Whiq\"><div class=\"domestic_item__2B--k\"><div class=\"heading\"><div class=\"airline\"><div class=\"logos\"><img alt=\"제주항공\" class=\"logo\" src=\"https://vertical.pstatic.net/vertical/static/flight/airlines/7C.png\"></div><b class=\"name\">제주항공</b></div><div class=\"info\"><i class=\"npay\">1%적립</i><div class=\"domestic_PromotionBadge__2aHzU\"><i class=\"domestic_badge__20kwD\" role=\"button\" aria-expanded=\"false\">이벤트혜택</i><p class=\"domestic_layer__2cpTz\"><span class=\"domestic_txt__2YFi_\">네이버페이 결제시 <i class=\"npaypoint\" title=\"npaypoint\"></i>1%+1,500원 적립</span></p></div></div></div><div class=\"route_Route__2UInh\"><span class=\"route_airport__3VT7M\"><b class=\"route_time__-2Z1T\">16:50</b><i class=\"route_code__3WUFO\">GMP</i></span><span class=\"route_airport__3VT7M\"><b class=\"route_time__-2Z1T\">18:05</b><i class=\"route_code__3WUFO\">CJU</i></span><i class=\"route_info__1RhUH\">01시간 15분</i></div></div></div><button class=\"domestic_select_schedule__xWQ-K\" type=\"button\"></button><div class=\"domestic_prices__3N88F\"><div class=\"domestic_item__2B--k\"><i class=\"domestic_type__30RSq\">할인석</i><b class=\"domestic_price__1qAgw\"><span class=\"domestic_txt__2YFi_\">편도 </span><i class=\"domestic_num__2roTW\">110,900</i><span class=\"unit\">원~</span></b></div><div class=\"domestic_item_promotion__2q5bH\"><i class=\"domestic_type__30RSq\">삼성카드 결제시 6.8% 캐시백</i><b class=\"domestic_price__1qAgw\"><span class=\"domestic_txt__2YFi_\">편도 </span><i class=\"domestic_num__2roTW\">103,340</i><span class=\"unit\">원~</span></b></div></div></div></div><div class=\"domestic_Flight__sK0eA result\"><div class=\"domestic_inner__15-bD\"><div class=\"domestic_schedule__1Whiq\"><div class=\"domestic_item__2B--k\"><div class=\"heading\"><div class=\"airline\"><div class=\"logos\"><img alt=\"제주항공\" class=\"logo\" src=\"https://vertical.pstatic.net/vertical/static/flight/airlines/7C.png\"></div><b class=\"name\">제주항공</b></div><div class=\"info\"><i class=\"npay\">1%적립</i><div class=\"domestic_PromotionBadge__2aHzU\"><i class=\"domestic_badge__20kwD\" role=\"button\" aria-expanded=\"false\">이벤트혜택</i><p class=\"domestic_layer__2cpTz\"><span class=\"domestic_txt__2YFi_\">네이버페이 결제시 <i class=\"npaypoint\" title=\"npaypoint\"></i>1%+1,500원 적립</span></p></div></div></div><div class=\"route_Route__2UInh\"><span class=\"route_airport__3VT7M\"><b class=\"route_time__-2Z1T\">16:50</b><i class=\"route_code__3WUFO\">GMP</i></span><span class=\"route_airport__3VT7M\"><b class=\"route_time__-2Z1T\">18:05</b><i class=\"route_code__3WUFO\">CJU</i></span><i class=\"route_info__1RhUH\">01시간 15분</i></div></div></div><button class=\"domestic_select_schedule__xWQ-K\" type=\"button\"></button><div class=\"domestic_prices__3N88F\"><div class=\"domestic_item__2B--k\"><i class=\"domestic_type__30RSq\">일반석</i><b class=\"domestic_price__1qAgw\"><span class=\"domestic_txt__2YFi_\">편도 </span><i class=\"domestic_num__2roTW\">133,500</i><span class=\"unit\">원~</span></b></div><div class=\"domestic_item_promotion__2q5bH\"><i class=\"domestic_type__30RSq\">삼성카드 결제시 6.8% 캐시백</i><b class=\"domestic_price__1qAgw\"><span class=\"domestic_txt__2YFi_\">편도 </span><i class=\"domestic_num__2roTW\">124,390</i><span class=\"unit\">원~</span></b></div></div></div></div><div class=\"domestic_Flight__sK0eA result\"><div class=\"domestic_inner__15-bD\"><div class=\"domestic_schedule__1Whiq\"><div class=\"domestic_item__2B--k\"><div class=\"heading\"><div class=\"airline\"><div class=\"logos\"><img alt=\"대한항공\" class=\"logo\" src=\"https://vertical.pstatic.net/vertical/static/flight/airlines/KE.png\"></div><b class=\"name\">대한항공</b></div><div class=\"info\"></div></div><div class=\"route_Route__2UInh\"><span class=\"route_airport__3VT7M\"><b class=\"route_time__-2Z1T\">17:05</b><i class=\"route_code__3WUFO\">GMP</i></span><span class=\"route_airport__3VT7M\"><b class=\"route_time__-2Z1T\">18:15</b><i class=\"route_code__3WUFO\">CJU</i></span><i class=\"route_info__1RhUH\">01시간 10분</i></div></div></div><button class=\"domestic_select_schedule__xWQ-K\" type=\"button\"></button><div class=\"domestic_prices__3N88F\"><div class=\"domestic_item__2B--k\"><i class=\"domestic_type__30RSq\">일반석</i><b class=\"domestic_price__1qAgw\"><span class=\"domestic_txt__2YFi_\">편도 </span><i class=\"domestic_num__2roTW\">144,000</i><span class=\"unit\">원~</span></b></div><div class=\"domestic_item_promotion__2q5bH\"><i class=\"domestic_type__30RSq\">삼성카드 결제시 7.2% 캐시백</i><b class=\"domestic_price__1qAgw\"><span class=\"domestic_txt__2YFi_\">편도 </span><i class=\"domestic_num__2roTW\">133,640</i><span class=\"unit\">원~</span></b></div></div></div></div><div class=\"domestic_Flight__sK0eA result\"><div class=\"domestic_inner__15-bD\"><div class=\"domestic_schedule__1Whiq\"><div class=\"domestic_item__2B--k\"><div class=\"heading\"><div class=\"airline\"><div class=\"logos\"><img alt=\"티웨이항공\" class=\"logo\" src=\"https://vertical.pstatic.net/vertical/static/flight/airlines/TW.png\"></div><b class=\"name\">티웨이항공</b></div><div class=\"info\"><i class=\"npay\">1%적립</i><div class=\"domestic_PromotionBadge__2aHzU\"><i class=\"domestic_badge__20kwD\" role=\"button\" aria-expanded=\"false\">이벤트혜택</i><p class=\"domestic_layer__2cpTz\"><span class=\"domestic_txt__2YFi_\">네이버페이 결제시 <i class=\"npaypoint\" title=\"npaypoint\"></i>1%+1,500원 적립</span></p></div></div></div><div class=\"route_Route__2UInh\"><span class=\"route_airport__3VT7M\"><b class=\"route_time__-2Z1T\">17:15</b><i class=\"route_code__3WUFO\">GMP</i></span><span class=\"route_airport__3VT7M\"><b class=\"route_time__-2Z1T\">18:20</b><i class=\"route_code__3WUFO\">CJU</i></span><i class=\"route_info__1RhUH\">01시간 05분</i></div></div></div><button class=\"domestic_select_schedule__xWQ-K\" type=\"button\"></button><div class=\"domestic_prices__3N88F\"><div class=\"domestic_item__2B--k\"><i class=\"domestic_type__30RSq\">할인석</i><b class=\"domestic_price__1qAgw\"><span class=\"domestic_txt__2YFi_\">편도 </span><i class=\"domestic_num__2roTW\">116,100</i><span class=\"unit\">원~</span></b></div><div class=\"domestic_item_promotion__2q5bH\"><i class=\"domestic_type__30RSq\">삼성카드 결제시 7% 캐시백</i><b class=\"domestic_price__1qAgw\"><span class=\"domestic_txt__2YFi_\">편도 </span><i class=\"domestic_num__2roTW\">108,600</i><span class=\"unit\">원~</span></b></div></div></div></div><div class=\"domestic_Flight__sK0eA result\"><div class=\"domestic_inner__15-bD\"><div class=\"domestic_schedule__1Whiq\"><div class=\"domestic_item__2B--k\"><div class=\"heading\"><div class=\"airline\"><div class=\"logos\"><img alt=\"대한항공\" class=\"logo\" src=\"https://vertical.pstatic.net/vertical/static/flight/airlines/KE.png\"></div><b class=\"name\">대한항공</b></div><div class=\"info\"></div></div><div class=\"route_Route__2UInh\"><span class=\"route_airport__3VT7M\"><b class=\"route_time__-2Z1T\">17:15</b><i class=\"route_code__3WUFO\">GMP</i></span><span class=\"route_airport__3VT7M\"><b class=\"route_time__-2Z1T\">18:25</b><i class=\"route_code__3WUFO\">CJU</i></span><i class=\"route_info__1RhUH\">01시간 10분</i></div></div></div><button class=\"domestic_select_schedule__xWQ-K\" type=\"button\"></button><div class=\"domestic_prices__3N88F\"><div class=\"domestic_item__2B--k\"><i class=\"domestic_type__30RSq\">할인석</i><b class=\"domestic_price__1qAgw\"><span class=\"domestic_txt__2YFi_\">편도 </span><i class=\"domestic_num__2roTW\">121,000</i><span class=\"unit\">원~</span></b></div><div class=\"domestic_item_promotion__2q5bH\"><i class=\"domestic_type__30RSq\">삼성카드 결제시 7.2% 캐시백</i><b class=\"domestic_price__1qAgw\"><span class=\"domestic_txt__2YFi_\">편도 </span><i class=\"domestic_num__2roTW\">112,310</i><span class=\"unit\">원~</span></b></div></div></div></div><div class=\"domestic_Flight__sK0eA result\"><div class=\"domestic_inner__15-bD\"><div class=\"domestic_schedule__1Whiq\"><div class=\"domestic_item__2B--k\"><div class=\"heading\"><div class=\"airline\"><div class=\"logos\"><img alt=\"티웨이항공\" class=\"logo\" src=\"https://vertical.pstatic.net/vertical/static/flight/airlines/TW.png\"></div><b class=\"name\">티웨이항공</b></div><div class=\"info\"><i class=\"npay\">1%적립</i><div class=\"domestic_PromotionBadge__2aHzU\"><i class=\"domestic_badge__20kwD\" role=\"button\" aria-expanded=\"false\">이벤트혜택</i><p class=\"domestic_layer__2cpTz\"><span class=\"domestic_txt__2YFi_\">네이버페이 결제시 <i class=\"npaypoint\" title=\"npaypoint\"></i>1%+1,500원 적립</span></p></div></div></div><div class=\"route_Route__2UInh\"><span class=\"route_airport__3VT7M\"><b class=\"route_time__-2Z1T\">17:15</b><i class=\"route_code__3WUFO\">GMP</i></span><span class=\"route_airport__3VT7M\"><b class=\"route_time__-2Z1T\">18:20</b><i class=\"route_code__3WUFO\">CJU</i></span><i class=\"route_info__1RhUH\">01시간 05분</i></div></div></div><button class=\"domestic_select_schedule__xWQ-K\" type=\"button\"></button><div class=\"domestic_prices__3N88F\"><div class=\"domestic_item__2B--k\"><i class=\"domestic_type__30RSq\">일반석</i><b class=\"domestic_price__1qAgw\"><span class=\"domestic_txt__2YFi_\">편도 </span><i class=\"domestic_num__2roTW\">132,200</i><span class=\"unit\">원~</span></b></div><div class=\"domestic_item_promotion__2q5bH\"><i class=\"domestic_type__30RSq\">삼성카드 결제시 7% 캐시백</i><b class=\"domestic_price__1qAgw\"><span class=\"domestic_txt__2YFi_\">편도 </span><i class=\"domestic_num__2roTW\">123,560</i><span class=\"unit\">원~</span></b></div></div></div></div><div class=\"domestic_Flight__sK0eA result\"><div class=\"domestic_inner__15-bD\"><div class=\"domestic_schedule__1Whiq\"><div class=\"domestic_item__2B--k\"><div class=\"heading\"><div class=\"airline\"><div class=\"logos\"><img alt=\"에어서울\" class=\"logo\" src=\"https://vertical.pstatic.net/vertical/static/flight/airlines/RS.png\"></div><b class=\"name\">에어서울</b></div><div class=\"info\"></div></div><div class=\"route_Route__2UInh\"><span class=\"route_airport__3VT7M\"><b class=\"route_time__-2Z1T\">17:35</b><i class=\"route_code__3WUFO\">GMP</i></span><span class=\"route_airport__3VT7M\"><b class=\"route_time__-2Z1T\">18:45</b><i class=\"route_code__3WUFO\">CJU</i></span><i class=\"route_info__1RhUH\">01시간 10분</i></div></div></div><button class=\"domestic_select_schedule__xWQ-K\" type=\"button\"></button><div class=\"domestic_prices__3N88F\"><div class=\"domestic_item__2B--k\"><i class=\"domestic_type__30RSq\">할인석</i><b class=\"domestic_price__1qAgw\"><span class=\"domestic_txt__2YFi_\">편도 </span><i class=\"domestic_num__2roTW\">118,900</i><span class=\"unit\">원~</span></b></div><div class=\"domestic_item_promotion__2q5bH\"><i class=\"domestic_type__30RSq\">삼성카드 결제시 3.8% 캐시백</i><b class=\"domestic_price__1qAgw\"><span class=\"domestic_txt__2YFi_\">편도 </span><i class=\"domestic_num__2roTW\">115,340</i><span class=\"unit\">원~</span></b></div></div></div></div><div class=\"domestic_Flight__sK0eA result\"><div class=\"domestic_inner__15-bD\"><div class=\"domestic_schedule__1Whiq\"><div class=\"domestic_item__2B--k\"><div class=\"heading\"><div class=\"airline\"><div class=\"logos\"><img alt=\"에어서울\" class=\"logo\" src=\"https://vertical.pstatic.net/vertical/static/flight/airlines/RS.png\"></div><b class=\"name\">에어서울</b></div><div class=\"info\"></div></div><div class=\"route_Route__2UInh\"><span class=\"route_airport__3VT7M\"><b class=\"route_time__-2Z1T\">17:35</b><i class=\"route_code__3WUFO\">GMP</i></span><span class=\"route_airport__3VT7M\"><b class=\"route_time__-2Z1T\">18:45</b><i class=\"route_code__3WUFO\">CJU</i></span><i class=\"route_info__1RhUH\">01시간 10분</i></div></div></div><button class=\"domestic_select_schedule__xWQ-K\" type=\"button\"></button><div class=\"domestic_prices__3N88F\"><div class=\"domestic_item__2B--k\"><i class=\"domestic_type__30RSq\">일반석</i><b class=\"domestic_price__1qAgw\"><span class=\"domestic_txt__2YFi_\">편도 </span><i class=\"domestic_num__2roTW\">134,000</i><span class=\"unit\">원~</span></b></div><div class=\"domestic_item_promotion__2q5bH\"><i class=\"domestic_type__30RSq\">삼성카드 결제시 3.8% 캐시백</i><b class=\"domestic_price__1qAgw\"><span class=\"domestic_txt__2YFi_\">편도 </span><i class=\"domestic_num__2roTW\">128,900</i><span class=\"unit\">원~</span></b></div></div></div></div><div class=\"domestic_Flight__sK0eA result\"><div class=\"domestic_inner__15-bD\"><div class=\"domestic_schedule__1Whiq\"><div class=\"domestic_item__2B--k\"><div class=\"heading\"><div class=\"airline\"><div class=\"logos\"><img alt=\"아시아나항공\" class=\"logo\" src=\"https://vertical.pstatic.net/vertical/static/flight/airlines/OZ.png\"></div><b class=\"name\">아시아나항공</b></div><div class=\"info\"><i class=\"npay\">1%적립</i><div class=\"domestic_PromotionBadge__2aHzU\"><i class=\"domestic_badge__20kwD\" role=\"button\" aria-expanded=\"false\">이벤트혜택</i><p class=\"domestic_layer__2cpTz\"><span class=\"domestic_txt__2YFi_\">네이버페이 결제시 <i class=\"npaypoint\" title=\"npaypoint\"></i>1%+1,500원 적립</span></p></div></div></div><div class=\"route_Route__2UInh\"><span class=\"route_airport__3VT7M\"><b class=\"route_time__-2Z1T\">17:40</b><i class=\"route_code__3WUFO\">GMP</i></span><span class=\"route_airport__3VT7M\"><b class=\"route_time__-2Z1T\">18:55</b><i class=\"route_code__3WUFO\">CJU</i></span><i class=\"route_info__1RhUH\">01시간 15분</i></div></div></div><button class=\"domestic_select_schedule__xWQ-K\" type=\"button\"></button><div class=\"domestic_prices__3N88F\"><div class=\"domestic_item__2B--k\"><i class=\"domestic_type__30RSq\">할인석</i><b class=\"domestic_price__1qAgw\"><span class=\"domestic_txt__2YFi_\">편도 </span><i class=\"domestic_num__2roTW\">123,000</i><span class=\"unit\">원~</span></b></div><div class=\"domestic_item_promotion__2q5bH\"><i class=\"domestic_type__30RSq\">삼성카드 결제시 4.4% 캐시백</i><b class=\"domestic_price__1qAgw\"><span class=\"domestic_txt__2YFi_\">편도 </span><i class=\"domestic_num__2roTW\">117,580</i><span class=\"unit\">원~</span></b></div></div></div></div><div class=\"domestic_Flight__sK0eA result\"><div class=\"domestic_inner__15-bD\"><div class=\"domestic_schedule__1Whiq\"><div class=\"domestic_item__2B--k\"><div class=\"heading\"><div class=\"airline\"><div class=\"logos\"><img alt=\"에어부산\" class=\"logo\" src=\"https://vertical.pstatic.net/vertical/static/flight/airlines/BX.png\"></div><b class=\"name\">에어부산</b></div><div class=\"info\"></div></div><div class=\"route_Route__2UInh\"><span class=\"route_airport__3VT7M\"><b class=\"route_time__-2Z1T\">17:40</b><i class=\"route_code__3WUFO\">GMP</i></span><span class=\"route_airport__3VT7M\"><b class=\"route_time__-2Z1T\">19:00</b><i class=\"route_code__3WUFO\">CJU</i></span><i class=\"route_info__1RhUH\">01시간 20분</i></div></div></div><button class=\"domestic_select_schedule__xWQ-K\" type=\"button\"></button><div class=\"domestic_prices__3N88F\"><div class=\"domestic_item__2B--k\"><i class=\"domestic_type__30RSq\">일반석</i><b class=\"domestic_price__1qAgw\"><span class=\"domestic_txt__2YFi_\">편도 </span><i class=\"domestic_num__2roTW\">133,000</i><span class=\"unit\">원~</span></b></div><div class=\"domestic_item_promotion__2q5bH\"><i class=\"domestic_type__30RSq\">롯데카드 결제시 4.4% 캐시백</i><b class=\"domestic_price__1qAgw\"><span class=\"domestic_txt__2YFi_\">편도 </span><i class=\"domestic_num__2roTW\">127,170</i><span class=\"unit\">원~</span></b></div></div></div></div><div class=\"domestic_Flight__sK0eA result\"><div class=\"domestic_inner__15-bD\"><div class=\"domestic_schedule__1Whiq\"><div class=\"domestic_item__2B--k\"><div class=\"heading\"><div class=\"airline\"><div class=\"logos\"><img alt=\"제주항공\" class=\"logo\" src=\"https://vertical.pstatic.net/vertical/static/flight/airlines/7C.png\"></div><b class=\"name\">제주항공</b></div><div class=\"info\"><i class=\"npay\">1%적립</i><div class=\"domestic_PromotionBadge__2aHzU\"><i class=\"domestic_badge__20kwD\" role=\"button\" aria-expanded=\"false\">이벤트혜택</i><p class=\"domestic_layer__2cpTz\"><span class=\"domestic_txt__2YFi_\">네이버페이 결제시 <i class=\"npaypoint\" title=\"npaypoint\"></i>1%+1,500원 적립</span></p></div></div></div><div class=\"route_Route__2UInh\"><span class=\"route_airport__3VT7M\"><b class=\"route_time__-2Z1T\">17:40</b><i class=\"route_code__3WUFO\">GMP</i></span><span class=\"route_airport__3VT7M\"><b class=\"route_time__-2Z1T\">18:50</b><i class=\"route_code__3WUFO\">CJU</i></span><i class=\"route_info__1RhUH\">01시간 10분</i></div></div></div><button class=\"domestic_select_schedule__xWQ-K\" type=\"button\"></button><div class=\"domestic_prices__3N88F\"><div class=\"domestic_item__2B--k\"><i class=\"domestic_type__30RSq\">일반석</i><b class=\"domestic_price__1qAgw\"><span class=\"domestic_txt__2YFi_\">편도 </span><i class=\"domestic_num__2roTW\">133,500</i><span class=\"unit\">원~</span></b></div><div class=\"domestic_item_promotion__2q5bH\"><i class=\"domestic_type__30RSq\">삼성카드 결제시 6.8% 캐시백</i><b class=\"domestic_price__1qAgw\"><span class=\"domestic_txt__2YFi_\">편도 </span><i class=\"domestic_num__2roTW\">124,390</i><span class=\"unit\">원~</span></b></div></div></div></div><div class=\"domestic_Flight__sK0eA result\"><div class=\"domestic_inner__15-bD\"><div class=\"domestic_schedule__1Whiq\"><div class=\"domestic_item__2B--k\"><div class=\"heading\"><div class=\"airline\"><div class=\"logos\"><img alt=\"아시아나항공\" class=\"logo\" src=\"https://vertical.pstatic.net/vertical/static/flight/airlines/OZ.png\"></div><b class=\"name\">아시아나항공</b></div><div class=\"info\"><i class=\"npay\">1%적립</i><div class=\"domestic_PromotionBadge__2aHzU\"><i class=\"domestic_badge__20kwD\" role=\"button\" aria-expanded=\"false\">이벤트혜택</i><p class=\"domestic_layer__2cpTz\"><span class=\"domestic_txt__2YFi_\">네이버페이 결제시 <i class=\"npaypoint\" title=\"npaypoint\"></i>1%+1,500원 적립</span></p></div></div></div><div class=\"route_Route__2UInh\"><span class=\"route_airport__3VT7M\"><b class=\"route_time__-2Z1T\">17:40</b><i class=\"route_code__3WUFO\">GMP</i></span><span class=\"route_airport__3VT7M\"><b class=\"route_time__-2Z1T\">18:55</b><i class=\"route_code__3WUFO\">CJU</i></span><i class=\"route_info__1RhUH\">01시간 15분</i></div></div></div><button class=\"domestic_select_schedule__xWQ-K\" type=\"button\"></button><div class=\"domestic_prices__3N88F\"><div class=\"domestic_item__2B--k\"><i class=\"domestic_type__30RSq\">일반석</i><b class=\"domestic_price__1qAgw\"><span class=\"domestic_txt__2YFi_\">편도 </span><i class=\"domestic_num__2roTW\">147,000</i><span class=\"unit\">원~</span></b></div><div class=\"domestic_item_promotion__2q5bH\"><i class=\"domestic_type__30RSq\">삼성카드 결제시 4.4% 캐시백</i><b class=\"domestic_price__1qAgw\"><span class=\"domestic_txt__2YFi_\">편도 </span><i class=\"domestic_num__2roTW\">140,510</i><span class=\"unit\">원~</span></b></div></div></div></div><div class=\"domestic_Flight__sK0eA result\"><div class=\"domestic_inner__15-bD\"><div class=\"domestic_schedule__1Whiq\"><div class=\"domestic_item__2B--k\"><div class=\"heading\"><div class=\"airline\"><div class=\"logos\"><img alt=\"에어부산\" class=\"logo\" src=\"https://vertical.pstatic.net/vertical/static/flight/airlines/BX.png\"></div><b class=\"name\">에어부산</b></div><div class=\"info\"></div></div><div class=\"route_Route__2UInh\"><span class=\"route_airport__3VT7M\"><b class=\"route_time__-2Z1T\">17:45</b><i class=\"route_code__3WUFO\">GMP</i></span><span class=\"route_airport__3VT7M\"><b class=\"route_time__-2Z1T\">18:55</b><i class=\"route_code__3WUFO\">CJU</i></span><i class=\"route_info__1RhUH\">01시간 10분</i></div></div></div><button class=\"domestic_select_schedule__xWQ-K\" type=\"button\"></button><div class=\"domestic_prices__3N88F\"><div class=\"domestic_item__2B--k\"><i class=\"domestic_type__30RSq\">일반석</i><b class=\"domestic_price__1qAgw\"><span class=\"domestic_txt__2YFi_\">편도 </span><i class=\"domestic_num__2roTW\">133,000</i><span class=\"unit\">원~</span></b></div><div class=\"domestic_item_promotion__2q5bH\"><i class=\"domestic_type__30RSq\">롯데카드 결제시 4.4% 캐시백</i><b class=\"domestic_price__1qAgw\"><span class=\"domestic_txt__2YFi_\">편도 </span><i class=\"domestic_num__2roTW\">127,170</i><span class=\"unit\">원~</span></b></div></div></div></div><div class=\"domestic_Flight__sK0eA result\"><div class=\"domestic_inner__15-bD\"><div class=\"domestic_schedule__1Whiq\"><div class=\"domestic_item__2B--k\"><div class=\"heading\"><div class=\"airline\"><div class=\"logos\"><img alt=\"대한항공\" class=\"logo\" src=\"https://vertical.pstatic.net/vertical/static/flight/airlines/KE.png\"></div><b class=\"name\">대한항공</b></div><div class=\"info\"></div></div><div class=\"route_Route__2UInh\"><span class=\"route_airport__3VT7M\"><b class=\"route_time__-2Z1T\">17:50</b><i class=\"route_code__3WUFO\">GMP</i></span><span class=\"route_airport__3VT7M\"><b class=\"route_time__-2Z1T\">19:00</b><i class=\"route_code__3WUFO\">CJU</i></span><i class=\"route_info__1RhUH\">01시간 10분</i></div></div></div><button class=\"domestic_select_schedule__xWQ-K\" type=\"button\"></button><div class=\"domestic_prices__3N88F\"><div class=\"domestic_item__2B--k\"><i class=\"domestic_type__30RSq\">할인석</i><b class=\"domestic_price__1qAgw\"><span class=\"domestic_txt__2YFi_\">편도 </span><i class=\"domestic_num__2roTW\">121,000</i><span class=\"unit\">원~</span></b></div><div class=\"domestic_item_promotion__2q5bH\"><i class=\"domestic_type__30RSq\">삼성카드 결제시 7.2% 캐시백</i><b class=\"domestic_price__1qAgw\"><span class=\"domestic_txt__2YFi_\">편도 </span><i class=\"domestic_num__2roTW\">112,310</i><span class=\"unit\">원~</span></b></div></div></div></div><div class=\"domestic_Flight__sK0eA result\"><div class=\"domestic_inner__15-bD\"><div class=\"domestic_schedule__1Whiq\"><div class=\"domestic_item__2B--k\"><div class=\"heading\"><div class=\"airline\"><div class=\"logos\"><img alt=\"아시아나항공\" class=\"logo\" src=\"https://vertical.pstatic.net/vertical/static/flight/airlines/OZ.png\"></div><b class=\"name\">아시아나항공</b></div><div class=\"info\"><i class=\"npay\">1%적립</i><div class=\"domestic_PromotionBadge__2aHzU\"><i class=\"domestic_badge__20kwD\" role=\"button\" aria-expanded=\"false\">이벤트혜택</i><p class=\"domestic_layer__2cpTz\"><span class=\"domestic_txt__2YFi_\">네이버페이 결제시 <i class=\"npaypoint\" title=\"npaypoint\"></i>1%+1,500원 적립</span></p></div></div></div><div class=\"route_Route__2UInh\"><span class=\"route_airport__3VT7M\"><b class=\"route_time__-2Z1T\">17:50</b><i class=\"route_code__3WUFO\">GMP</i></span><span class=\"route_airport__3VT7M\"><b class=\"route_time__-2Z1T\">19:00</b><i class=\"route_code__3WUFO\">CJU</i></span><i class=\"route_info__1RhUH\">01시간 10분</i></div></div></div><button class=\"domestic_select_schedule__xWQ-K\" type=\"button\"></button><div class=\"domestic_prices__3N88F\"><div class=\"domestic_item__2B--k\"><i class=\"domestic_type__30RSq\">할인석</i><b class=\"domestic_price__1qAgw\"><span class=\"domestic_txt__2YFi_\">편도 </span><i class=\"domestic_num__2roTW\">123,000</i><span class=\"unit\">원~</span></b></div><div class=\"domestic_item_promotion__2q5bH\"><i class=\"domestic_type__30RSq\">삼성카드 결제시 4.4% 캐시백</i><b class=\"domestic_price__1qAgw\"><span class=\"domestic_txt__2YFi_\">편도 </span><i class=\"domestic_num__2roTW\">117,580</i><span class=\"unit\">원~</span></b></div></div></div></div><div class=\"domestic_Flight__sK0eA result\"><div class=\"domestic_inner__15-bD\"><div class=\"domestic_schedule__1Whiq\"><div class=\"domestic_item__2B--k\"><div class=\"heading\"><div class=\"airline\"><div class=\"logos\"><img alt=\"티웨이항공\" class=\"logo\" src=\"https://vertical.pstatic.net/vertical/static/flight/airlines/TW.png\"></div><b class=\"name\">티웨이항공</b></div><div class=\"info\"><i class=\"npay\">1%적립</i><div class=\"domestic_PromotionBadge__2aHzU\"><i class=\"domestic_badge__20kwD\" role=\"button\" aria-expanded=\"false\">이벤트혜택</i><p class=\"domestic_layer__2cpTz\"><span class=\"domestic_txt__2YFi_\">네이버페이 결제시 <i class=\"npaypoint\" title=\"npaypoint\"></i>1%+1,500원 적립</span></p></div></div></div><div class=\"route_Route__2UInh\"><span class=\"route_airport__3VT7M\"><b class=\"route_time__-2Z1T\">17:50</b><i class=\"route_code__3WUFO\">GMP</i></span><span class=\"route_airport__3VT7M\"><b class=\"route_time__-2Z1T\">19:05</b><i class=\"route_code__3WUFO\">CJU</i></span><i class=\"route_info__1RhUH\">01시간 15분</i></div></div></div><button class=\"domestic_select_schedule__xWQ-K\" type=\"button\"></button><div class=\"domestic_prices__3N88F\"><div class=\"domestic_item__2B--k\"><i class=\"domestic_type__30RSq\">일반석</i><b class=\"domestic_price__1qAgw\"><span class=\"domestic_txt__2YFi_\">편도 </span><i class=\"domestic_num__2roTW\">132,200</i><span class=\"unit\">원~</span></b></div><div class=\"domestic_item_promotion__2q5bH\"><i class=\"domestic_type__30RSq\">삼성카드 결제시 7% 캐시백</i><b class=\"domestic_price__1qAgw\"><span class=\"domestic_txt__2YFi_\">편도 </span><i class=\"domestic_num__2roTW\">123,560</i><span class=\"unit\">원~</span></b></div></div></div></div><div class=\"domestic_Flight__sK0eA result\"><div class=\"domestic_inner__15-bD\"><div class=\"domestic_schedule__1Whiq\"><div class=\"domestic_item__2B--k\"><div class=\"heading\"><div class=\"airline\"><div class=\"logos\"><img alt=\"아시아나항공\" class=\"logo\" src=\"https://vertical.pstatic.net/vertical/static/flight/airlines/OZ.png\"></div><b class=\"name\">아시아나항공</b></div><div class=\"info\"><i class=\"npay\">1%적립</i><div class=\"domestic_PromotionBadge__2aHzU\"><i class=\"domestic_badge__20kwD\" role=\"button\" aria-expanded=\"false\">이벤트혜택</i><p class=\"domestic_layer__2cpTz\"><span class=\"domestic_txt__2YFi_\">네이버페이 결제시 <i class=\"npaypoint\" title=\"npaypoint\"></i>1%+1,500원 적립</span></p></div></div></div><div class=\"route_Route__2UInh\"><span class=\"route_airport__3VT7M\"><b class=\"route_time__-2Z1T\">17:50</b><i class=\"route_code__3WUFO\">GMP</i></span><span class=\"route_airport__3VT7M\"><b class=\"route_time__-2Z1T\">19:00</b><i class=\"route_code__3WUFO\">CJU</i></span><i class=\"route_info__1RhUH\">01시간 10분</i></div></div></div><button class=\"domestic_select_schedule__xWQ-K\" type=\"button\"></button><div class=\"domestic_prices__3N88F\"><div class=\"domestic_item__2B--k\"><i class=\"domestic_type__30RSq\">일반석</i><b class=\"domestic_price__1qAgw\"><span class=\"domestic_txt__2YFi_\">편도 </span><i class=\"domestic_num__2roTW\">147,000</i><span class=\"unit\">원~</span></b></div><div class=\"domestic_item_promotion__2q5bH\"><i class=\"domestic_type__30RSq\">삼성카드 결제시 4.4% 캐시백</i><b class=\"domestic_price__1qAgw\"><span class=\"domestic_txt__2YFi_\">편도 </span><i class=\"domestic_num__2roTW\">140,510</i><span class=\"unit\">원~</span></b></div></div></div></div><div class=\"domestic_Flight__sK0eA result\"><div class=\"domestic_inner__15-bD\"><div class=\"domestic_schedule__1Whiq\"><div class=\"domestic_item__2B--k\"><div class=\"heading\"><div class=\"airline\"><div class=\"logos\"><img alt=\"티웨이항공\" class=\"logo\" src=\"https://vertical.pstatic.net/vertical/static/flight/airlines/TW.png\"></div><b class=\"name\">티웨이항공</b></div><div class=\"info\"><i class=\"npay\">1%적립</i><div class=\"domestic_PromotionBadge__2aHzU\"><i class=\"domestic_badge__20kwD\" role=\"button\" aria-expanded=\"false\">이벤트혜택</i><p class=\"domestic_layer__2cpTz\"><span class=\"domestic_txt__2YFi_\">네이버페이 결제시 <i class=\"npaypoint\" title=\"npaypoint\"></i>1%+1,500원 적립</span></p></div></div></div><div class=\"route_Route__2UInh\"><span class=\"route_airport__3VT7M\"><b class=\"route_time__-2Z1T\">17:50</b><i class=\"route_code__3WUFO\">GMP</i></span><span class=\"route_airport__3VT7M\"><b class=\"route_time__-2Z1T\">19:05</b><i class=\"route_code__3WUFO\">CJU</i></span><i class=\"route_info__1RhUH\">01시간 15분</i></div></div></div><button class=\"domestic_select_schedule__xWQ-K\" type=\"button\"></button><div class=\"domestic_prices__3N88F\"><div class=\"domestic_item__2B--k\"><i class=\"domestic_type__30RSq\">비즈니스석</i><b class=\"domestic_price__1qAgw\"><span class=\"domestic_txt__2YFi_\">편도 </span><i class=\"domestic_num__2roTW\">189,200</i><span class=\"unit\">원~</span></b></div><div class=\"domestic_item_promotion__2q5bH\"><i class=\"domestic_type__30RSq\">삼성카드 결제시 7% 캐시백</i><b class=\"domestic_price__1qAgw\"><span class=\"domestic_txt__2YFi_\">편도 </span><i class=\"domestic_num__2roTW\">176,520</i><span class=\"unit\">원~</span></b></div></div></div></div><div class=\"domestic_Flight__sK0eA result\"><div class=\"domestic_inner__15-bD\"><div class=\"domestic_schedule__1Whiq\"><div class=\"domestic_item__2B--k\"><div class=\"heading\"><div class=\"airline\"><div class=\"logos\"><img alt=\"에어부산\" class=\"logo\" src=\"https://vertical.pstatic.net/vertical/static/flight/airlines/BX.png\"></div><b class=\"name\">에어부산</b></div><div class=\"info\"></div></div><div class=\"route_Route__2UInh\"><span class=\"route_airport__3VT7M\"><b class=\"route_time__-2Z1T\">18:10</b><i class=\"route_code__3WUFO\">GMP</i></span><span class=\"route_airport__3VT7M\"><b class=\"route_time__-2Z1T\">19:20</b><i class=\"route_code__3WUFO\">CJU</i></span><i class=\"route_info__1RhUH\">01시간 10분</i></div></div></div><button class=\"domestic_select_schedule__xWQ-K\" type=\"button\"></button><div class=\"domestic_prices__3N88F\"><div class=\"domestic_item__2B--k\"><i class=\"domestic_type__30RSq\">일반석</i><b class=\"domestic_price__1qAgw\"><span class=\"domestic_txt__2YFi_\">편도 </span><i class=\"domestic_num__2roTW\">133,000</i><span class=\"unit\">원~</span></b></div><div class=\"domestic_item_promotion__2q5bH\"><i class=\"domestic_type__30RSq\">롯데카드 결제시 4.4% 캐시백</i><b class=\"domestic_price__1qAgw\"><span class=\"domestic_txt__2YFi_\">편도 </span><i class=\"domestic_num__2roTW\">127,170</i><span class=\"unit\">원~</span></b></div></div></div></div><div class=\"domestic_Flight__sK0eA result\"><div class=\"domestic_inner__15-bD\"><div class=\"domestic_schedule__1Whiq\"><div class=\"domestic_item__2B--k\"><div class=\"heading\"><div class=\"airline\"><div class=\"logos\"><img alt=\"대한항공\" class=\"logo\" src=\"https://vertical.pstatic.net/vertical/static/flight/airlines/KE.png\"></div><b class=\"name\">대한항공</b></div><div class=\"info\"></div></div><div class=\"route_Route__2UInh\"><span class=\"route_airport__3VT7M\"><b class=\"route_time__-2Z1T\">18:20</b><i class=\"route_code__3WUFO\">GMP</i></span><span class=\"route_airport__3VT7M\"><b class=\"route_time__-2Z1T\">19:30</b><i class=\"route_code__3WUFO\">CJU</i></span><i class=\"route_info__1RhUH\">01시간 10분</i></div></div></div><button class=\"domestic_select_schedule__xWQ-K\" type=\"button\"></button><div class=\"domestic_prices__3N88F\"><div class=\"domestic_item__2B--k\"><i class=\"domestic_type__30RSq\">일반석</i><b class=\"domestic_price__1qAgw\"><span class=\"domestic_txt__2YFi_\">편도 </span><i class=\"domestic_num__2roTW\">144,000</i><span class=\"unit\">원~</span></b></div><div class=\"domestic_item_promotion__2q5bH\"><i class=\"domestic_type__30RSq\">삼성카드 결제시 7.2% 캐시백</i><b class=\"domestic_price__1qAgw\"><span class=\"domestic_txt__2YFi_\">편도 </span><i class=\"domestic_num__2roTW\">133,640</i><span class=\"unit\">원~</span></b></div></div></div></div><div class=\"domestic_Flight__sK0eA result\"><div class=\"domestic_inner__15-bD\"><div class=\"domestic_schedule__1Whiq\"><div class=\"domestic_item__2B--k\"><div class=\"heading\"><div class=\"airline\"><div class=\"logos\"><img alt=\"아시아나항공\" class=\"logo\" src=\"https://vertical.pstatic.net/vertical/static/flight/airlines/OZ.png\"></div><b class=\"name\">아시아나항공</b></div><div class=\"info\"><i class=\"npay\">1%적립</i><div class=\"domestic_PromotionBadge__2aHzU\"><i class=\"domestic_badge__20kwD\" role=\"button\" aria-expanded=\"false\">이벤트혜택</i><p class=\"domestic_layer__2cpTz\"><span class=\"domestic_txt__2YFi_\">네이버페이 결제시 <i class=\"npaypoint\" title=\"npaypoint\"></i>1%+1,500원 적립</span></p></div></div></div><div class=\"route_Route__2UInh\"><span class=\"route_airport__3VT7M\"><b class=\"route_time__-2Z1T\">18:25</b><i class=\"route_code__3WUFO\">GMP</i></span><span class=\"route_airport__3VT7M\"><b class=\"route_time__-2Z1T\">19:35</b><i class=\"route_code__3WUFO\">CJU</i></span><i class=\"route_info__1RhUH\">01시간 10분</i></div></div></div><button class=\"domestic_select_schedule__xWQ-K\" type=\"button\"></button><div class=\"domestic_prices__3N88F\"><div class=\"domestic_item__2B--k\"><i class=\"domestic_type__30RSq\">할인석</i><b class=\"domestic_price__1qAgw\"><span class=\"domestic_txt__2YFi_\">편도 </span><i class=\"domestic_num__2roTW\">141,000</i><span class=\"unit\">원~</span></b></div><div class=\"domestic_item_promotion__2q5bH\"><i class=\"domestic_type__30RSq\">삼성카드 결제시 4.4% 캐시백</i><b class=\"domestic_price__1qAgw\"><span class=\"domestic_txt__2YFi_\">편도 </span><i class=\"domestic_num__2roTW\">134,780</i><span class=\"unit\">원~</span></b></div></div></div></div><div class=\"domestic_Flight__sK0eA result\"><div class=\"domestic_inner__15-bD\"><div class=\"domestic_schedule__1Whiq\"><div class=\"domestic_item__2B--k\"><div class=\"heading\"><div class=\"airline\"><div class=\"logos\"><img alt=\"아시아나항공\" class=\"logo\" src=\"https://vertical.pstatic.net/vertical/static/flight/airlines/OZ.png\"></div><b class=\"name\">아시아나항공</b></div><div class=\"info\"><i class=\"npay\">1%적립</i><div class=\"domestic_PromotionBadge__2aHzU\"><i class=\"domestic_badge__20kwD\" role=\"button\" aria-expanded=\"false\">이벤트혜택</i><p class=\"domestic_layer__2cpTz\"><span class=\"domestic_txt__2YFi_\">네이버페이 결제시 <i class=\"npaypoint\" title=\"npaypoint\"></i>1%+1,500원 적립</span></p></div></div></div><div class=\"route_Route__2UInh\"><span class=\"route_airport__3VT7M\"><b class=\"route_time__-2Z1T\">18:25</b><i class=\"route_code__3WUFO\">GMP</i></span><span class=\"route_airport__3VT7M\"><b class=\"route_time__-2Z1T\">19:35</b><i class=\"route_code__3WUFO\">CJU</i></span><i class=\"route_info__1RhUH\">01시간 10분</i></div></div></div><button class=\"domestic_select_schedule__xWQ-K\" type=\"button\"></button><div class=\"domestic_prices__3N88F\"><div class=\"domestic_item__2B--k\"><i class=\"domestic_type__30RSq\">일반석</i><b class=\"domestic_price__1qAgw\"><span class=\"domestic_txt__2YFi_\">편도 </span><i class=\"domestic_num__2roTW\">147,000</i><span class=\"unit\">원~</span></b></div><div class=\"domestic_item_promotion__2q5bH\"><i class=\"domestic_type__30RSq\">삼성카드 결제시 4.4% 캐시백</i><b class=\"domestic_price__1qAgw\"><span class=\"domestic_txt__2YFi_\">편도 </span><i class=\"domestic_num__2roTW\">140,510</i><span class=\"unit\">원~</span></b></div></div></div></div><div class=\"domestic_Flight__sK0eA result\"><div class=\"domestic_inner__15-bD\"><div class=\"domestic_schedule__1Whiq\"><div class=\"domestic_item__2B--k\"><div class=\"heading\"><div class=\"airline\"><div class=\"logos\"><img alt=\"대한항공\" class=\"logo\" src=\"https://vertical.pstatic.net/vertical/static/flight/airlines/KE.png\"></div><b class=\"name\">대한항공</b></div><div class=\"info\"></div></div><div class=\"route_Route__2UInh\"><span class=\"route_airport__3VT7M\"><b class=\"route_time__-2Z1T\">18:35</b><i class=\"route_code__3WUFO\">GMP</i></span><span class=\"route_airport__3VT7M\"><b class=\"route_time__-2Z1T\">19:45</b><i class=\"route_code__3WUFO\">CJU</i></span><i class=\"route_info__1RhUH\">01시간 10분</i></div></div></div><button class=\"domestic_select_schedule__xWQ-K\" type=\"button\"></button><div class=\"domestic_prices__3N88F\"><div class=\"domestic_item__2B--k\"><i class=\"domestic_type__30RSq\">일반석</i><b class=\"domestic_price__1qAgw\"><span class=\"domestic_txt__2YFi_\">편도 </span><i class=\"domestic_num__2roTW\">144,000</i><span class=\"unit\">원~</span></b></div><div class=\"domestic_item_promotion__2q5bH\"><i class=\"domestic_type__30RSq\">삼성카드 결제시 7.2% 캐시백</i><b class=\"domestic_price__1qAgw\"><span class=\"domestic_txt__2YFi_\">편도 </span><i class=\"domestic_num__2roTW\">133,640</i><span class=\"unit\">원~</span></b></div></div></div></div><div class=\"domestic_Flight__sK0eA result\"><div class=\"domestic_inner__15-bD\"><div class=\"domestic_schedule__1Whiq\"><div class=\"domestic_item__2B--k\"><div class=\"heading\"><div class=\"airline\"><div class=\"logos\"><img alt=\"대한항공\" class=\"logo\" src=\"https://vertical.pstatic.net/vertical/static/flight/airlines/KE.png\"></div><b class=\"name\">대한항공</b></div><div class=\"info\"></div></div><div class=\"route_Route__2UInh\"><span class=\"route_airport__3VT7M\"><b class=\"route_time__-2Z1T\">18:35</b><i class=\"route_code__3WUFO\">GMP</i></span><span class=\"route_airport__3VT7M\"><b class=\"route_time__-2Z1T\">19:45</b><i class=\"route_code__3WUFO\">CJU</i></span><i class=\"route_info__1RhUH\">01시간 10분</i></div></div></div><button class=\"domestic_select_schedule__xWQ-K\" type=\"button\"></button><div class=\"domestic_prices__3N88F\"><div class=\"domestic_item__2B--k\"><i class=\"domestic_type__30RSq\">비즈니스석</i><b class=\"domestic_price__1qAgw\"><span class=\"domestic_txt__2YFi_\">편도 </span><i class=\"domestic_num__2roTW\">204,000</i><span class=\"unit\">원~</span></b></div><div class=\"domestic_item_promotion__2q5bH\"><i class=\"domestic_type__30RSq\">삼성카드 결제시 7.2% 캐시백</i><b class=\"domestic_price__1qAgw\"><span class=\"domestic_txt__2YFi_\">편도 </span><i class=\"domestic_num__2roTW\">189,300</i><span class=\"unit\">원~</span></b></div></div></div></div><div class=\"domestic_Flight__sK0eA result\"><div class=\"domestic_inner__15-bD\"><div class=\"domestic_schedule__1Whiq\"><div class=\"domestic_item__2B--k\"><div class=\"heading\"><div class=\"airline\"><div class=\"logos\"><img alt=\"아시아나항공\" class=\"logo\" src=\"https://vertical.pstatic.net/vertical/static/flight/airlines/OZ.png\"></div><b class=\"name\">아시아나항공</b></div><div class=\"info\"><i class=\"npay\">1%적립</i><div class=\"domestic_PromotionBadge__2aHzU\"><i class=\"domestic_badge__20kwD\" role=\"button\" aria-expanded=\"false\">이벤트혜택</i><p class=\"domestic_layer__2cpTz\"><span class=\"domestic_txt__2YFi_\">네이버페이 결제시 <i class=\"npaypoint\" title=\"npaypoint\"></i>1%+1,500원 적립</span></p></div></div></div><div class=\"route_Route__2UInh\"><span class=\"route_airport__3VT7M\"><b class=\"route_time__-2Z1T\">18:45</b><i class=\"route_code__3WUFO\">GMP</i></span><span class=\"route_airport__3VT7M\"><b class=\"route_time__-2Z1T\">19:55</b><i class=\"route_code__3WUFO\">CJU</i></span><i class=\"route_info__1RhUH\">01시간 10분</i></div></div></div><button class=\"domestic_select_schedule__xWQ-K\" type=\"button\"></button><div class=\"domestic_prices__3N88F\"><div class=\"domestic_item__2B--k\"><i class=\"domestic_type__30RSq\">할인석</i><b class=\"domestic_price__1qAgw\"><span class=\"domestic_txt__2YFi_\">편도 </span><i class=\"domestic_num__2roTW\">141,000</i><span class=\"unit\">원~</span></b></div><div class=\"domestic_item_promotion__2q5bH\"><i class=\"domestic_type__30RSq\">삼성카드 결제시 4.4% 캐시백</i><b class=\"domestic_price__1qAgw\"><span class=\"domestic_txt__2YFi_\">편도 </span><i class=\"domestic_num__2roTW\">134,780</i><span class=\"unit\">원~</span></b></div></div></div></div><div class=\"domestic_Flight__sK0eA result\"><div class=\"domestic_inner__15-bD\"><div class=\"domestic_schedule__1Whiq\"><div class=\"domestic_item__2B--k\"><div class=\"heading\"><div class=\"airline\"><div class=\"logos\"><img alt=\"아시아나항공\" class=\"logo\" src=\"https://vertical.pstatic.net/vertical/static/flight/airlines/OZ.png\"></div><b class=\"name\">아시아나항공</b></div><div class=\"info\"><i class=\"npay\">1%적립</i><div class=\"domestic_PromotionBadge__2aHzU\"><i class=\"domestic_badge__20kwD\" role=\"button\" aria-expanded=\"false\">이벤트혜택</i><p class=\"domestic_layer__2cpTz\"><span class=\"domestic_txt__2YFi_\">네이버페이 결제시 <i class=\"npaypoint\" title=\"npaypoint\"></i>1%+1,500원 적립</span></p></div></div></div><div class=\"route_Route__2UInh\"><span class=\"route_airport__3VT7M\"><b class=\"route_time__-2Z1T\">18:45</b><i class=\"route_code__3WUFO\">GMP</i></span><span class=\"route_airport__3VT7M\"><b class=\"route_time__-2Z1T\">19:55</b><i class=\"route_code__3WUFO\">CJU</i></span><i class=\"route_info__1RhUH\">01시간 10분</i></div></div></div><button class=\"domestic_select_schedule__xWQ-K\" type=\"button\"></button><div class=\"domestic_prices__3N88F\"><div class=\"domestic_item__2B--k\"><i class=\"domestic_type__30RSq\">일반석</i><b class=\"domestic_price__1qAgw\"><span class=\"domestic_txt__2YFi_\">편도 </span><i class=\"domestic_num__2roTW\">147,000</i><span class=\"unit\">원~</span></b></div><div class=\"domestic_item_promotion__2q5bH\"><i class=\"domestic_type__30RSq\">삼성카드 결제시 4.4% 캐시백</i><b class=\"domestic_price__1qAgw\"><span class=\"domestic_txt__2YFi_\">편도 </span><i class=\"domestic_num__2roTW\">140,510</i><span class=\"unit\">원~</span></b></div></div></div></div><div class=\"domestic_Flight__sK0eA result\"><div class=\"domestic_inner__15-bD\"><div class=\"domestic_schedule__1Whiq\"><div class=\"domestic_item__2B--k\"><div class=\"heading\"><div class=\"airline\"><div class=\"logos\"><img alt=\"아시아나항공\" class=\"logo\" src=\"https://vertical.pstatic.net/vertical/static/flight/airlines/OZ.png\"></div><b class=\"name\">아시아나항공</b></div><div class=\"info\"><i class=\"npay\">1%적립</i><div class=\"domestic_PromotionBadge__2aHzU\"><i class=\"domestic_badge__20kwD\" role=\"button\" aria-expanded=\"false\">이벤트혜택</i><p class=\"domestic_layer__2cpTz\"><span class=\"domestic_txt__2YFi_\">네이버페이 결제시 <i class=\"npaypoint\" title=\"npaypoint\"></i>1%+1,500원 적립</span></p></div></div></div><div class=\"route_Route__2UInh\"><span class=\"route_airport__3VT7M\"><b class=\"route_time__-2Z1T\">18:45</b><i class=\"route_code__3WUFO\">GMP</i></span><span class=\"route_airport__3VT7M\"><b class=\"route_time__-2Z1T\">19:55</b><i class=\"route_code__3WUFO\">CJU</i></span><i class=\"route_info__1RhUH\">01시간 10분</i></div></div></div><button class=\"domestic_select_schedule__xWQ-K\" type=\"button\"></button><div class=\"domestic_prices__3N88F\"><div class=\"domestic_item__2B--k\"><i class=\"domestic_type__30RSq\">비즈니스석</i><b class=\"domestic_price__1qAgw\"><span class=\"domestic_txt__2YFi_\">편도 </span><i class=\"domestic_num__2roTW\">204,000</i><span class=\"unit\">원~</span></b></div><div class=\"domestic_item_promotion__2q5bH\"><i class=\"domestic_type__30RSq\">삼성카드 결제시 4.4% 캐시백</i><b class=\"domestic_price__1qAgw\"><span class=\"domestic_txt__2YFi_\">편도 </span><i class=\"domestic_num__2roTW\">194,980</i><span class=\"unit\">원~</span></b></div></div></div></div><div class=\"domestic_Flight__sK0eA result\"><div class=\"domestic_inner__15-bD\"><div class=\"domestic_schedule__1Whiq\"><div class=\"domestic_item__2B--k\"><div class=\"heading\"><div class=\"airline\"><div class=\"logos\"><img alt=\"에어부산\" class=\"logo\" src=\"https://vertical.pstatic.net/vertical/static/flight/airlines/BX.png\"></div><b class=\"name\">에어부산</b></div><div class=\"info\"></div></div><div class=\"route_Route__2UInh\"><span class=\"route_airport__3VT7M\"><b class=\"route_time__-2Z1T\">18:50</b><i class=\"route_code__3WUFO\">GMP</i></span><span class=\"route_airport__3VT7M\"><b class=\"route_time__-2Z1T\">19:55</b><i class=\"route_code__3WUFO\">CJU</i></span><i class=\"route_info__1RhUH\">01시간 05분</i></div></div></div><button class=\"domestic_select_schedule__xWQ-K\" type=\"button\"></button><div class=\"domestic_prices__3N88F\"><div class=\"domestic_item__2B--k\"><i class=\"domestic_type__30RSq\">일반석</i><b class=\"domestic_price__1qAgw\"><span class=\"domestic_txt__2YFi_\">편도 </span><i class=\"domestic_num__2roTW\">133,000</i><span class=\"unit\">원~</span></b></div><div class=\"domestic_item_promotion__2q5bH\"><i class=\"domestic_type__30RSq\">롯데카드 결제시 4.4% 캐시백</i><b class=\"domestic_price__1qAgw\"><span class=\"domestic_txt__2YFi_\">편도 </span><i class=\"domestic_num__2roTW\">127,170</i><span class=\"unit\">원~</span></b></div></div></div></div><div class=\"domestic_Flight__sK0eA result\"><div class=\"domestic_inner__15-bD\"><div class=\"domestic_schedule__1Whiq\"><div class=\"domestic_item__2B--k\"><div class=\"heading\"><div class=\"airline\"><div class=\"logos\"><img alt=\"대한항공\" class=\"logo\" src=\"https://vertical.pstatic.net/vertical/static/flight/airlines/KE.png\"></div><b class=\"name\">대한항공</b></div><div class=\"info\"></div></div><div class=\"route_Route__2UInh\"><span class=\"route_airport__3VT7M\"><b class=\"route_time__-2Z1T\">18:55</b><i class=\"route_code__3WUFO\">GMP</i></span><span class=\"route_airport__3VT7M\"><b class=\"route_time__-2Z1T\">20:10</b><i class=\"route_code__3WUFO\">CJU</i></span><i class=\"route_info__1RhUH\">01시간 15분</i></div></div></div><button class=\"domestic_select_schedule__xWQ-K\" type=\"button\"></button><div class=\"domestic_prices__3N88F\"><div class=\"domestic_item__2B--k\"><i class=\"domestic_type__30RSq\">일반석</i><b class=\"domestic_price__1qAgw\"><span class=\"domestic_txt__2YFi_\">편도 </span><i class=\"domestic_num__2roTW\">144,000</i><span class=\"unit\">원~</span></b></div><div class=\"domestic_item_promotion__2q5bH\"><i class=\"domestic_type__30RSq\">삼성카드 결제시 7.2% 캐시백</i><b class=\"domestic_price__1qAgw\"><span class=\"domestic_txt__2YFi_\">편도 </span><i class=\"domestic_num__2roTW\">133,640</i><span class=\"unit\">원~</span></b></div></div></div></div><div class=\"domestic_Flight__sK0eA result\"><div class=\"domestic_inner__15-bD\"><div class=\"domestic_schedule__1Whiq\"><div class=\"domestic_item__2B--k\"><div class=\"heading\"><div class=\"airline\"><div class=\"logos\"><img alt=\"제주항공\" class=\"logo\" src=\"https://vertical.pstatic.net/vertical/static/flight/airlines/7C.png\"></div><b class=\"name\">제주항공</b></div><div class=\"info\"><i class=\"npay\">1%적립</i><div class=\"domestic_PromotionBadge__2aHzU\"><i class=\"domestic_badge__20kwD\" role=\"button\" aria-expanded=\"false\">이벤트혜택</i><p class=\"domestic_layer__2cpTz\"><span class=\"domestic_txt__2YFi_\">네이버페이 결제시 <i class=\"npaypoint\" title=\"npaypoint\"></i>1%+1,500원 적립</span></p></div></div></div><div class=\"route_Route__2UInh\"><span class=\"route_airport__3VT7M\"><b class=\"route_time__-2Z1T\">19:05</b><i class=\"route_code__3WUFO\">GMP</i></span><span class=\"route_airport__3VT7M\"><b class=\"route_time__-2Z1T\">20:15</b><i class=\"route_code__3WUFO\">CJU</i></span><i class=\"route_info__1RhUH\">01시간 10분</i></div></div></div><button class=\"domestic_select_schedule__xWQ-K\" type=\"button\"></button><div class=\"domestic_prices__3N88F\"><div class=\"domestic_item__2B--k\"><i class=\"domestic_type__30RSq\">비즈니스석</i><b class=\"domestic_price__1qAgw\"><span class=\"domestic_txt__2YFi_\">편도 </span><i class=\"domestic_num__2roTW\">184,500</i><span class=\"unit\">원~</span></b></div><div class=\"domestic_item_promotion__2q5bH\"><i class=\"domestic_type__30RSq\">삼성카드 결제시 6.8% 캐시백</i><b class=\"domestic_price__1qAgw\"><span class=\"domestic_txt__2YFi_\">편도 </span><i class=\"domestic_num__2roTW\">171,890</i><span class=\"unit\">원~</span></b></div></div></div></div><div class=\"domestic_Flight__sK0eA result\"><div class=\"domestic_inner__15-bD\"><div class=\"domestic_schedule__1Whiq\"><div class=\"domestic_item__2B--k\"><div class=\"heading\"><div class=\"airline\"><div class=\"logos\"><img alt=\"아시아나항공\" class=\"logo\" src=\"https://vertical.pstatic.net/vertical/static/flight/airlines/OZ.png\"></div><b class=\"name\">아시아나항공</b></div><div class=\"info\"><i class=\"npay\">1%적립</i><div class=\"domestic_PromotionBadge__2aHzU\"><i class=\"domestic_badge__20kwD\" role=\"button\" aria-expanded=\"false\">이벤트혜택</i><p class=\"domestic_layer__2cpTz\"><span class=\"domestic_txt__2YFi_\">네이버페이 결제시 <i class=\"npaypoint\" title=\"npaypoint\"></i>1%+1,500원 적립</span></p></div></div></div><div class=\"route_Route__2UInh\"><span class=\"route_airport__3VT7M\"><b class=\"route_time__-2Z1T\">19:20</b><i class=\"route_code__3WUFO\">GMP</i></span><span class=\"route_airport__3VT7M\"><b class=\"route_time__-2Z1T\">20:35</b><i class=\"route_code__3WUFO\">CJU</i></span><i class=\"route_info__1RhUH\">01시간 15분</i></div></div></div><button class=\"domestic_select_schedule__xWQ-K\" type=\"button\"></button><div class=\"domestic_prices__3N88F\"><div class=\"domestic_item__2B--k\"><i class=\"domestic_type__30RSq\">일반석</i><b class=\"domestic_price__1qAgw\"><span class=\"domestic_txt__2YFi_\">편도 </span><i class=\"domestic_num__2roTW\">147,000</i><span class=\"unit\">원~</span></b></div><div class=\"domestic_item_promotion__2q5bH\"><i class=\"domestic_type__30RSq\">삼성카드 결제시 4.4% 캐시백</i><b class=\"domestic_price__1qAgw\"><span class=\"domestic_txt__2YFi_\">편도 </span><i class=\"domestic_num__2roTW\">140,510</i><span class=\"unit\">원~</span></b></div></div></div></div><div class=\"domestic_Flight__sK0eA result\"><div class=\"domestic_inner__15-bD\"><div class=\"domestic_schedule__1Whiq\"><div class=\"domestic_item__2B--k\"><div class=\"heading\"><div class=\"airline\"><div class=\"logos\"><img alt=\"대한항공\" class=\"logo\" src=\"https://vertical.pstatic.net/vertical/static/flight/airlines/KE.png\"></div><b class=\"name\">대한항공</b></div><div class=\"info\"></div></div><div class=\"route_Route__2UInh\"><span class=\"route_airport__3VT7M\"><b class=\"route_time__-2Z1T\">19:20</b><i class=\"route_code__3WUFO\">GMP</i></span><span class=\"route_airport__3VT7M\"><b class=\"route_time__-2Z1T\">20:30</b><i class=\"route_code__3WUFO\">CJU</i></span><i class=\"route_info__1RhUH\">01시간 10분</i></div></div></div><button class=\"domestic_select_schedule__xWQ-K\" type=\"button\"></button><div class=\"domestic_prices__3N88F\"><div class=\"domestic_item__2B--k\"><i class=\"domestic_type__30RSq\">비즈니스석</i><b class=\"domestic_price__1qAgw\"><span class=\"domestic_txt__2YFi_\">편도 </span><i class=\"domestic_num__2roTW\">204,000</i><span class=\"unit\">원~</span></b></div><div class=\"domestic_item_promotion__2q5bH\"><i class=\"domestic_type__30RSq\">삼성카드 결제시 7.2% 캐시백</i><b class=\"domestic_price__1qAgw\"><span class=\"domestic_txt__2YFi_\">편도 </span><i class=\"domestic_num__2roTW\">189,300</i><span class=\"unit\">원~</span></b></div></div></div></div><div class=\"domestic_Flight__sK0eA result\"><div class=\"domestic_inner__15-bD\"><div class=\"domestic_schedule__1Whiq\"><div class=\"domestic_item__2B--k\"><div class=\"heading\"><div class=\"airline\"><div class=\"logos\"><img alt=\"에어서울\" class=\"logo\" src=\"https://vertical.pstatic.net/vertical/static/flight/airlines/RS.png\"></div><b class=\"name\">에어서울</b></div><div class=\"info\"></div></div><div class=\"route_Route__2UInh\"><span class=\"route_airport__3VT7M\"><b class=\"route_time__-2Z1T\">19:35</b><i class=\"route_code__3WUFO\">GMP</i></span><span class=\"route_airport__3VT7M\"><b class=\"route_time__-2Z1T\">20:30</b><i class=\"route_code__3WUFO\">CJU</i></span><i class=\"route_info__1RhUH\">00시간 55분</i></div></div></div><button class=\"domestic_select_schedule__xWQ-K\" type=\"button\"></button><div class=\"domestic_prices__3N88F\"><div class=\"domestic_item__2B--k\"><i class=\"domestic_type__30RSq\">일반석</i><b class=\"domestic_price__1qAgw\"><span class=\"domestic_txt__2YFi_\">편도 </span><i class=\"domestic_num__2roTW\">134,000</i><span class=\"unit\">원~</span></b></div><div class=\"domestic_item_promotion__2q5bH\"><i class=\"domestic_type__30RSq\">삼성카드 결제시 3.8% 캐시백</i><b class=\"domestic_price__1qAgw\"><span class=\"domestic_txt__2YFi_\">편도 </span><i class=\"domestic_num__2roTW\">128,900</i><span class=\"unit\">원~</span></b></div></div></div></div><div class=\"domestic_Flight__sK0eA result\"><div class=\"domestic_inner__15-bD\"><div class=\"domestic_schedule__1Whiq\"><div class=\"domestic_item__2B--k\"><div class=\"heading\"><div class=\"airline\"><div class=\"logos\"><img alt=\"진에어\" class=\"logo\" src=\"https://vertical.pstatic.net/vertical/static/flight/airlines/LJ.png\"></div><b class=\"name\">진에어</b></div><div class=\"info\"><i class=\"npay\">1%적립</i><div class=\"domestic_PromotionBadge__2aHzU\"><i class=\"domestic_badge__20kwD\" role=\"button\" aria-expanded=\"false\">이벤트혜택</i><p class=\"domestic_layer__2cpTz\"><span class=\"domestic_txt__2YFi_\">네이버페이 결제시 <i class=\"npaypoint\" title=\"npaypoint\"></i>1%+1,500원 적립</span></p></div></div></div><div class=\"route_Route__2UInh\"><span class=\"route_airport__3VT7M\"><b class=\"route_time__-2Z1T\">20:10</b><i class=\"route_code__3WUFO\">GMP</i></span><span class=\"route_airport__3VT7M\"><b class=\"route_time__-2Z1T\">21:25</b><i class=\"route_code__3WUFO\">CJU</i></span><i class=\"route_info__1RhUH\">01시간 15분</i></div></div></div><button class=\"domestic_select_schedule__xWQ-K\" type=\"button\"></button><div class=\"domestic_prices__3N88F\"><div class=\"domestic_item__2B--k\"><i class=\"domestic_type__30RSq\">일반석</i><b class=\"domestic_price__1qAgw\"><span class=\"domestic_txt__2YFi_\">편도 </span><i class=\"domestic_num__2roTW\">134,000</i><span class=\"unit\">원~</span></b></div><div class=\"domestic_item_promotion__2q5bH\"><i class=\"domestic_type__30RSq\">삼성카드 결제시 5.8% 캐시백</i><b class=\"domestic_price__1qAgw\"><span class=\"domestic_txt__2YFi_\">편도 </span><i class=\"domestic_num__2roTW\">126,250</i><span class=\"unit\">원~</span></b></div></div></div></div><div class=\"domestic_Flight__sK0eA result\"><div class=\"domestic_inner__15-bD\"><div class=\"domestic_schedule__1Whiq\"><div class=\"domestic_item__2B--k\"><div class=\"heading\"><div class=\"airline\"><div class=\"logos\"><img alt=\"대한항공\" class=\"logo\" src=\"https://vertical.pstatic.net/vertical/static/flight/airlines/KE.png\"></div><b class=\"name\">대한항공</b></div><div class=\"info\"></div></div><div class=\"route_Route__2UInh\"><span class=\"route_airport__3VT7M\"><b class=\"route_time__-2Z1T\">20:30</b><i class=\"route_code__3WUFO\">GMP</i></span><span class=\"route_airport__3VT7M\"><b class=\"route_time__-2Z1T\">21:40</b><i class=\"route_code__3WUFO\">CJU</i></span><i class=\"route_info__1RhUH\">01시간 10분</i></div></div></div><button class=\"domestic_select_schedule__xWQ-K\" type=\"button\"></button><div class=\"domestic_prices__3N88F\"><div class=\"domestic_item__2B--k\"><i class=\"domestic_type__30RSq\">일반석</i><b class=\"domestic_price__1qAgw\"><span class=\"domestic_txt__2YFi_\">편도 </span><i class=\"domestic_num__2roTW\">144,000</i><span class=\"unit\">원~</span></b></div></div></div></div></div></div></div><footer role=\"contentinfo\" class=\"jsx-1527821584 footer\"><div class=\"jsx-1527821584 btns\"><button type=\"button\" class=\"btn as_share naver-splugin spi_sns_share\" data-evkey=\"flight\" data-service-name=\"설레는 여행의 시작. 네이버 항공권과 함께!\" data-title=\"네이버 항공권\" splugin-id=\"2872573036\"><svg xmlns=\"http://www.w3.org/2000/svg\" width=\"18\" height=\"15\" class=\"svg\"><g fill=\"#5398F5\"><path d=\"M11.8 2.826V.539c0-.389.5-.588.801-.32l4.605 4.094a.42.42 0 010 .639l-4.605 4.094c-.301.268-.801.069-.801-.32V6.439H9.762c-1.555 0-2.745.432-3.633 1.15-.308.25-.557.516-.75.78-.113.155-.18.27-.206.325-.218.456-.954.279-.906-.218.305-3.212 2.503-5.65 5.596-5.65H11.8zm4.391 1.806l-3.443-3.06v1.696c0 .244-.212.442-.474.442h-2.41c-1.988 0-3.55 1.253-4.263 3.138 1.046-.81 2.425-1.293 4.161-1.293h2.512c.262 0 .474.198.474.442v1.696l3.443-3.06z\"></path><path d=\"M12.996 13.996v-3.408h1v4.408H0V3.003h4.912v1H1v9.993z\"></path></g></svg>공유하기</button><button type=\"button\" class=\"jsx-1527821584 btn as_top\"><svg xmlns=\"http://www.w3.org/2000/svg\" width=\"11\" height=\"18\" class=\"svg\"><g fill=\"none\" fill-rule=\"evenodd\"><path d=\"M0 18V0h11v18z\"></path><path stroke=\"#5398F5\" stroke-linecap=\"round\" stroke-linejoin=\"round\" d=\"M.5 6.5l5-5 5 5m-5 8v-12\"></path></g></svg>맨위로</button></div><div class=\"jsx-1527821584 service\"><a href=\"https://nid.naver.com/nidlogin.login?svctype=262144&amp;url=https%3A%2F%2Fflight.naver.com%2Fflights%2Fdomestic%2FSEL-CJU-20220812%3Fadult%3D1%26fareType%3DYC\" class=\"jsx-1527821584 anchor\">로그인</a><a href=\"https://m.naver.com/services.html\" class=\"jsx-1527821584 anchor\">전체서비스</a></div><p class=\"jsx-1527821584 limitation\">네이버 항공권은 제휴사에서 제공하는 항공권 스케줄 및 가격정보를 비교, 중개하는 서비스로서 네이버㈜는 통신판매의 당사자가 아니며, 항공권 검색 결과, 구매 및 환불 등과 관련한 의무와 책임은 각 판매자에게 있습니다.</p><details class=\"jsx-1527821584 business\"><summary class=\"jsx-1527821584 summary\">네이버㈜ 사업자 정보<svg xmlns=\"http://www.w3.org/2000/svg\" width=\"8\" height=\"6\" class=\"svg\"><path fill=\"#A7AAAC\" d=\"M.72.789l-.72.76 3.985 4.208L8 1.517l-.72-.76-3.295 3.48z\"></path></svg></summary></details><nav class=\"jsx-1527821584 nav\"><a href=\"http://www.ftc.go.kr/www/bizCommList.do?key=232\" class=\"jsx-1527821584 anchor\">사업자정보 공개</a><a class=\"jsx-1527821584 anchor\">이용약관</a><a class=\"jsx-1527821584 anchor\"><strong class=\"jsx-1527821584\">개인정보처리방침</strong></a><a href=\"#\" class=\"jsx-1527821584 anchor\">고객센터</a></nav><b class=\"jsx-1527821584 company\">ⓒ NAVER corp.</b></footer></div><div class=\"lineBanner_HotelCoupon__2FYNK\"></div></div><script src=\"https://vertical.pstatic.net/vertical/static/libs/nclk_v0.4.7.js\"></script><script src=\"https://vertical.pstatic.net/vertical/static/libs/lcslog-0.7.0.js\"></script><script src=\"https://vertical.pstatic.net/vertical/static/libs/jquery/jquery-2.2.4.min.js\"></script><script src=\"https://vertical.pstatic.net/vertical/static/libs/egjs/eg.pkgd-1.4.1.min.js\"></script><script src=\"https://vertical.pstatic.net/vertical/static/libs/inline-viewer/inline-viewer-1.1.2.min.js\"></script><script src=\"https://ssl.pstatic.net/spi/js/release/ko_KR/splugin.m.js\"></script><script src=\"https://openapi.map.naver.com/openapi/maps3.js\"></script></div><script id=\"__NEXT_DATA__\" type=\"application/json\">{\"props\":{\"pageProps\":{\"device\":\"PC\",\"userAgent\":\"Mozilla/5.0 (Windows NT 10.0; Win64; x64) AppleWebKit/537.36 (KHTML, like Gecko) Chrome/104.0.5112.81 Safari/537.36\"}},\"page\":\"/flights/domestic/[...routes]\",\"query\":{\"adult\":\"1\",\"fareType\":\"YC\",\"routes\":[\"SEL-CJU-20220812\"]},\"buildId\":\"RFsKKUfn5tlRDOWpF6R8P\",\"isFallback\":false,\"gip\":true,\"appGip\":true,\"head\":[[\"meta\",{\"charSet\":\"utf-8\"}],[\"meta\",{\"httpEquiv\":\"x-ua-compatible\",\"content\":\"ie=edge\"}],[\"title\",{\"children\":\"네이버 항공권\"}],[\"meta\",{\"name\":\"description\",\"content\":\"설레는 여행의 시작. 네이버 항공권과 함께!\"}],[\"meta\",{\"property\":\"og:title\",\"content\":\"네이버 항공권\"}],[\"meta\",{\"property\":\"og:description\",\"content\":\"설레는 여행의 시작. 네이버 항공권과 함께!\"}],[\"meta\",{\"property\":\"og:type\",\"content\":\"article\"}],[\"meta\",{\"property\":\"og:article:author\",\"content\":\"네이버 항공권\"}],[\"meta\",{\"property\":\"og:site_name\",\"content\":\"네이버 항공권\"}],[\"meta\",{\"property\":\"og:image\",\"content\":\"https://m-flight.naver.com/images/og_image.png\"}],[\"meta\",{\"property\":\"og:url\",\"content\":\"https://m-flight.naver.com\"}],[\"meta\",{\"property\":\"twitter:card\",\"content\":\"summary_large_image\"}],[\"meta\",{\"property\":\"twitter:title\",\"content\":\"네이버 항공권\"}],[\"meta\",{\"property\":\"twitter:description\",\"content\":\"설레는 여행의 시작. 네이버 항공권과 함께!\"}],[\"meta\",{\"property\":\"twitter:site\",\"content\":\"네이버 항공권\"}],[\"meta\",{\"property\":\"twitter:image\",\"content\":\"https://m-flight.naver.com/images/og_image.png\"}],[\"meta\",{\"property\":\"og:article:author\",\"content\":\"네이버 항공권\"}],[\"meta\",{\"name\":\"viewport\",\"content\":\"width=device-width,initial-scale=1.0,maximum-scale=2.0,minimum-scale=1.0,user-scalable=yes\"}],[\"link\",{\"rel\":\"canonical\",\"href\":\"https://m-flight.naver.com\"}],[\"link\",{\"rel\":\"icon\",\"type\":\"image/x-icon\",\"href\":\"/images/favicon/flight_mo.ico\"}],[\"link\",{\"rel\":\"shortcut icon\",\"type\":\"image/x-icon\",\"href\":\"/images/favicon/flight_mo.ico\"}],[\"link\",{\"rel\":\"icon\",\"type\":\"image/png\",\"href\":\"/images/favicon/android_72x72.png\",\"sizes\":\"72x72\"}],[\"link\",{\"rel\":\"icon\",\"type\":\"image/png\",\"href\":\"/images/favicon/android_96x96.png\",\"sizes\":\"96x96\"}],[\"link\",{\"rel\":\"icon\",\"type\":\"image/png\",\"href\":\"/images/favicon/android_144x144.png\",\"sizes\":\"144x144\"}],[\"link\",{\"rel\":\"icon\",\"type\":\"image/png\",\"href\":\"/images/favicon/android_192x192.png\",\"sizes\":\"192x192\"}],[\"link\",{\"rel\":\"apple-touch-icon-precomposed\",\"href\":\"/images/favicon/ios_120x120.png\"}],[\"link\",{\"rel\":\"apple-touch-icon\",\"href\":\"/images/favicon/ios_120x120.png\"}],[\"link\",{\"rel\":\"apple-touch-icon\",\"sizes\":\"120x120\",\"href\":\"/images/favicon/ios_120x120.png\"}],[\"link\",{\"rel\":\"apple-touch-icon\",\"sizes\":\"152x152\",\"href\":\"/images/favicon/ios_152x152.png\"}],[\"link\",{\"rel\":\"apple-touch-icon\",\"sizes\":\"167x167\",\"href\":\"/images/favicon/ios_167x167.png\"}],[\"link\",{\"rel\":\"apple-touch-icon\",\"sizes\":\"180x180\",\"href\":\"/images/favicon/ios_180x180.png\"}]]}</script><script nomodule=\"\" src=\"/_next/static/chunks/polyfills-086e1e33f49f08603547.js\"></script><script src=\"/_next/static/chunks/main-4ec1f06c49c7e957ed86.js\" async=\"\"></script><script src=\"/_next/static/chunks/webpack-9faec8504aa4962181bb.js\" async=\"\"></script><script src=\"/_next/static/chunks/framework.1e014bb2f843cb2ed318.js\" async=\"\"></script><script src=\"/_next/static/chunks/264f526b8d56a53fd900fb6564ba5c37b3d5ce80.c9012e1d134bb5de6e28.js\" async=\"\"></script><script src=\"/_next/static/chunks/b151f01c00dcf04e6c6bab344a26b685617634d2.e8f7e266d96619103e09.js\" async=\"\"></script><script src=\"/_next/static/chunks/pages/_app-8a8b9e91fee6a3792f1b.js\" async=\"\"></script><script src=\"/_next/static/chunks/add52edbd38f6f8896a98cdf3270427e46433704.1b272829b65eeb9fd6fd.js\" async=\"\"></script><script src=\"/_next/static/chunks/9b011a38fe3b7f9fb0b859cae767d706ab4fc633.735e73d5781ae5d9918f.js\" async=\"\"></script><script src=\"/_next/static/chunks/9b011a38fe3b7f9fb0b859cae767d706ab4fc633_CSS.4d62413f4da81be1e932.js\" async=\"\"></script><script src=\"/_next/static/chunks/f80822c7ce562e152fb1250a33fe91427a7f3ee9.9b8872e0fe6dd00815db.js\" async=\"\"></script><script src=\"/_next/static/chunks/ffd10728820a2b898b112d44d92d05f48a30b6bf.8725a26a31fe70a5c289.js\" async=\"\"></script><script src=\"/_next/static/chunks/4d7aecfaf8a2f710c66553ea32d0dd1a0d4bc5f5.9e8efd6ba7bd32b9b008.js\" async=\"\"></script><script src=\"/_next/static/chunks/5a206d7ae3899126240e0b64099731cf3c06025c.ceb5b52b5827688c18af.js\" async=\"\"></script><script src=\"/_next/static/chunks/5a206d7ae3899126240e0b64099731cf3c06025c_CSS.748f7f460fe4ac62566f.js\" async=\"\"></script><script src=\"/_next/static/chunks/pages/flights/domestic/%5B...routes%5D-b9b25bf55091bf9759e3.js\" async=\"\"></script><script src=\"/_next/static/RFsKKUfn5tlRDOWpF6R8P/_buildManifest.js\" async=\"\"></script><script src=\"/_next/static/RFsKKUfn5tlRDOWpF6R8P/_ssgManifest.js\" async=\"\"></script><div id=\"naver-splugin-wrap\" style=\"display: none; user-select: text;\"></div><div id=\"naver-splugin-dimmed\" class=\"naver-splugin-dimmed spi_card_dmm\" style=\"display: none;\"><div class=\"naver-splugin-dimmed\"></div></div></body></html>'"
      ]
     },
     "execution_count": 32,
     "metadata": {},
     "output_type": "execute_result"
    }
   ],
   "source": [
    "html"
   ]
  },
  {
   "cell_type": "code",
   "execution_count": 3,
   "id": "44d4705d",
   "metadata": {},
   "outputs": [],
   "source": [
    "soup = bs(html, 'html.parser')"
   ]
  },
  {
   "cell_type": "code",
   "execution_count": 4,
   "id": "724c5d62",
   "metadata": {},
   "outputs": [],
   "source": [
    "div_tags = soup.find_all('div', 'domestic_inner__15-bD')"
   ]
  },
  {
   "cell_type": "code",
   "execution_count": 18,
   "id": "1537fb20",
   "metadata": {
    "scrolled": true
   },
   "outputs": [
    {
     "data": {
      "text/plain": [
       "<div class=\"domestic_inner__15-bD\"><div class=\"layout_large__2AaMz\"><div class=\"searchCondition_searchbox__1Df9W\"><div class=\"inner\"><div class=\"searchBox_searchBox__1vmcr in_list\"><div class=\"searchBox_tablist__1uWMk\" role=\"tablist\"><button aria-disabled=\"false\" aria-selected=\"false\" class=\"searchBox_tab__cPM55 searchBox_Tab__39-OR\" role=\"tab\" type=\"button\"><i class=\"searchBox_text__nUcMZ\">왕복</i></button><button aria-disabled=\"false\" aria-selected=\"true\" class=\"searchBox_tab__cPM55 searchBox_Tab__39-OR\" role=\"tab\" type=\"button\"><i class=\"searchBox_text__nUcMZ\">편도</i></button><button aria-disabled=\"false\" aria-selected=\"false\" class=\"searchBox_tab__cPM55 searchBox_Tab__39-OR\" role=\"tab\" type=\"button\"><i class=\"searchBox_text__nUcMZ\">다구간</i></button></div><div class=\"searchBox_tabpanel__1BSGR\" data-itinerary=\"1\" data-triptype=\"OW\" role=\"tabpanel\"><div class=\"tabContent_routes__laamB\"><button aria-disabled=\"false\" aria-selected=\"false\" class=\"tabContent_route__1GI8F select_City__2NOOZ start\" type=\"button\"><b aria-selected=\"true\" class=\"select_code__d6PLz\">SEL</b><i class=\"select_name__1L61v\">서울</i></button><button aria-disabled=\"false\" aria-selected=\"false\" class=\"tabContent_route__1GI8F select_City__2NOOZ end\" type=\"button\"><b aria-selected=\"true\" class=\"select_code__d6PLz\">CJU</b><i class=\"select_name__1L61v\">제주</i></button><button aria-label=\"출도착지 전환\" class=\"tabContent_swap__2T0Lu select_Swap__1gZJe\" title=\"출도착지 전환\" type=\"button\"></button></div><div class=\"tabContent_options__KwvIB\"><button aria-selected=\"true\" class=\"tabContent_option__2y4c6 select_Date__1aF7Y\" type=\"button\">08.12.금</button></div><div class=\"tabContent_options__KwvIB\"><button class=\"tabContent_option__2y4c6 select_Passenger__36sFM\" type=\"button\">성인 1명, 전체</button></div></div><button class=\"searchBox_search__2KFn3\" type=\"submit\"><span class=\"searchBox_txt__3RoCw\">항공권 검색</span></button></div></div></div></div><div class=\"layout_small__3cNDY\"><div class=\"searchCondition_currentSchedule__1KZJG\"><div class=\"inner\"><div class=\"searchCondition_top__ytaK_\"><div class=\"searchCondition_back__3xWmX\"><a aria-label=\"돌아가기\" class=\"searchCondition_arr__1jOej\"></a></div><strong class=\"searchCondition_route__1kY9J\"><button aria-label=\"경로 변경\" class=\"searchCondition_Airport__1y0iQ\" type=\"button\"><b class=\"searchCondition_code__3Fve5\">SEL</b><i class=\"searchCondition_name__1Gift\">서울</i></button><button aria-label=\"경로 변경\" class=\"searchCondition_Airport__1y0iQ\" type=\"button\"><b class=\"searchCondition_code__3Fve5\">CJU</b><i class=\"searchCondition_name__1Gift\">제주</i></button></strong></div><div class=\"searchCondition_desc__3BBbt\"><em class=\"searchCondition_Date__SMASM\"><button type=\"button\">08.12.금</button></em><em class=\"searchCondition_seat__iQsLA\"><button type=\"button\">성인 1명, 전체</button></em></div><button class=\"searchCondition_change__3qsgB\" type=\"button\">변경하기</button></div></div></div><div class=\"inlineFilter_FilterWrapper__1Icm4\"><div class=\"inlineFilter_inner__1DuQ7\"><button aria-label=\"필터 초기화\" class=\"inlineFilter_ResetButton__8-aWp\" type=\"button\"></button><button aria-checked=\"false\" class=\"inlineFilter_Tag__97qqq\" type=\"button\"><span class=\"inlineFilter_name__23asA\">좌석등급 </span></button><button aria-checked=\"false\" class=\"inlineFilter_Tag__97qqq\" type=\"button\"><span class=\"inlineFilter_name__23asA\">항공사 </span></button><button aria-checked=\"false\" class=\"inlineFilter_Tag__97qqq\" type=\"button\"><span class=\"inlineFilter_name__23asA\">시각/가격</span></button><button aria-checked=\"false\" class=\"inlineFilter_Tag__97qqq\" type=\"button\"><span class=\"inlineFilter_name__23asA\"><i class=\"inlineFilter_npay__3HD72\" title=\"NPay\"></i>결제혜택</span></button></div></div></div>"
      ]
     },
     "execution_count": 18,
     "metadata": {},
     "output_type": "execute_result"
    }
   ],
   "source": [
    "div_tags[0]"
   ]
  },
  {
   "cell_type": "code",
   "execution_count": 5,
   "id": "50e672b0",
   "metadata": {
    "scrolled": true
   },
   "outputs": [
    {
     "name": "stdout",
     "output_type": "stream",
     "text": [
      "0 KB국민카드\n",
      "1 KB국민카드\n",
      "2 삼성카드\n",
      "3 삼성카드\n",
      "4 삼성카드\n",
      "5 삼성카드\n",
      "6 삼성카드\n",
      "7 삼성카드\n",
      "8 삼성카드\n",
      "9 삼성카드\n",
      "10 KB국민카드\n",
      "11 삼성카드\n",
      "12 삼성카드\n",
      "13 KB국민카드\n",
      "14 KB국민카드\n",
      "15 삼성카드\n",
      "16 삼성카드\n",
      "17 삼성카드\n",
      "18 삼성카드\n",
      "19 삼성카드\n",
      "20 삼성카드\n",
      "21 삼성카드\n",
      "22 삼성카드\n",
      "23 삼성카드\n",
      "24 삼성카드\n",
      "25 삼성카드\n",
      "26 KB국민카드\n",
      "27 삼성카드\n",
      "28 삼성카드\n",
      "29 삼성카드\n",
      "30 삼성카드\n",
      "31 삼성카드\n",
      "32 삼성카드\n",
      "33 삼성카드\n",
      "34 삼성카드\n",
      "35 삼성카드\n",
      "36 삼성카드\n",
      "37 삼성카드\n",
      "38 삼성카드\n",
      "39 삼성카드\n",
      "40 삼성카드\n",
      "41 삼성카드\n",
      "42 삼성카드\n",
      "43 삼성카드\n",
      "44 삼성카드\n",
      "45 삼성카드\n",
      "46 삼성카드\n",
      "47 삼성카드\n",
      "48 삼성카드\n",
      "49 삼성카드\n",
      "50 삼성카드\n",
      "51 삼성카드\n",
      "52 삼성카드\n",
      "53 삼성카드\n",
      "54 KB국민카드\n",
      "55 삼성카드\n",
      "56 삼성카드\n",
      "57 삼성카드\n",
      "58 삼성카드\n",
      "59 삼성카드\n",
      "60 삼성카드\n",
      "61 삼성카드\n",
      "62 삼성카드\n",
      "63 삼성카드\n",
      "64 삼성카드\n",
      "65 삼성카드\n",
      "66 삼성카드\n",
      "67 삼성카드\n"
     ]
    }
   ],
   "source": [
    "soup=bs(html,'html.parser')\n",
    "flights=soup.find_all('div','domestic_Flight__sK0eA result')\n",
    "\n",
    "res=[]\n",
    "for idx,flight in enumerate(flights):\n",
    "    airline=flight.find('div','airline').text\n",
    "    # time=flight[0].find_all('span','route_airport__3VT7M')\n",
    "    depart_time=flight.find_all('span','route_airport__3VT7M')[0].find('b','route_time__-2Z1T').text\n",
    "    arrival_time=flight.find_all('span','route_airport__3VT7M')[1].find('b','route_time__-2Z1T').text\n",
    "    taken_time = flight.find('div', 'route_Route__2UInh').find('i', 'route_info__1RhUH').text\n",
    "    fee = flight.find('i', 'domestic_num__2roTW').text\n",
    "    card = flight.select('div.domestic_prices__3N88F div i')\n",
    "    for i in card:\n",
    "        if '카드' in i.text:\n",
    "            card = i.text.split(' ')[0]\n",
    "            break\n",
    "        else:\n",
    "            card = '없음'\n",
    "    print(idx, card)\n",
    "    # print(card)\n",
    "    \n",
    "    tmp={\n",
    "        '항공사':airline,\n",
    "        '출발시간':depart_time,\n",
    "        '도착시간':arrival_time,\n",
    "        '소요시간': taken_time,\n",
    "        '가격': fee,\n",
    "        '카드사': card\n",
    "    }\n",
    "    \n",
    "    res.append(tmp)"
   ]
  },
  {
   "cell_type": "code",
   "execution_count": 6,
   "id": "9db41c3c",
   "metadata": {},
   "outputs": [],
   "source": [
    "df=pd.DataFrame(res)"
   ]
  },
  {
   "cell_type": "code",
   "execution_count": 7,
   "id": "2b9f9724",
   "metadata": {},
   "outputs": [
    {
     "data": {
      "text/html": [
       "<div>\n",
       "<style scoped>\n",
       "    .dataframe tbody tr th:only-of-type {\n",
       "        vertical-align: middle;\n",
       "    }\n",
       "\n",
       "    .dataframe tbody tr th {\n",
       "        vertical-align: top;\n",
       "    }\n",
       "\n",
       "    .dataframe thead th {\n",
       "        text-align: right;\n",
       "    }\n",
       "</style>\n",
       "<table border=\"1\" class=\"dataframe\">\n",
       "  <thead>\n",
       "    <tr style=\"text-align: right;\">\n",
       "      <th></th>\n",
       "      <th>항공사</th>\n",
       "      <th>출발시간</th>\n",
       "      <th>도착시간</th>\n",
       "      <th>소요시간</th>\n",
       "      <th>가격</th>\n",
       "      <th>카드사</th>\n",
       "    </tr>\n",
       "  </thead>\n",
       "  <tbody>\n",
       "    <tr>\n",
       "      <th>0</th>\n",
       "      <td>티웨이항공</td>\n",
       "      <td>06:40</td>\n",
       "      <td>07:50</td>\n",
       "      <td>01시간 10분</td>\n",
       "      <td>132,500</td>\n",
       "      <td>KB국민카드</td>\n",
       "    </tr>\n",
       "    <tr>\n",
       "      <th>1</th>\n",
       "      <td>티웨이항공</td>\n",
       "      <td>11:45</td>\n",
       "      <td>12:55</td>\n",
       "      <td>01시간 10분</td>\n",
       "      <td>132,500</td>\n",
       "      <td>KB국민카드</td>\n",
       "    </tr>\n",
       "    <tr>\n",
       "      <th>2</th>\n",
       "      <td>티웨이항공</td>\n",
       "      <td>14:05</td>\n",
       "      <td>15:15</td>\n",
       "      <td>01시간 10분</td>\n",
       "      <td>132,200</td>\n",
       "      <td>삼성카드</td>\n",
       "    </tr>\n",
       "    <tr>\n",
       "      <th>3</th>\n",
       "      <td>에어부산</td>\n",
       "      <td>15:05</td>\n",
       "      <td>16:15</td>\n",
       "      <td>01시간 10분</td>\n",
       "      <td>133,000</td>\n",
       "      <td>삼성카드</td>\n",
       "    </tr>\n",
       "    <tr>\n",
       "      <th>4</th>\n",
       "      <td>아시아나항공</td>\n",
       "      <td>16:35</td>\n",
       "      <td>17:50</td>\n",
       "      <td>01시간 15분</td>\n",
       "      <td>123,000</td>\n",
       "      <td>삼성카드</td>\n",
       "    </tr>\n",
       "    <tr>\n",
       "      <th>...</th>\n",
       "      <td>...</td>\n",
       "      <td>...</td>\n",
       "      <td>...</td>\n",
       "      <td>...</td>\n",
       "      <td>...</td>\n",
       "      <td>...</td>\n",
       "    </tr>\n",
       "    <tr>\n",
       "      <th>63</th>\n",
       "      <td>대한항공</td>\n",
       "      <td>20:30</td>\n",
       "      <td>21:40</td>\n",
       "      <td>01시간 10분</td>\n",
       "      <td>204,000</td>\n",
       "      <td>삼성카드</td>\n",
       "    </tr>\n",
       "    <tr>\n",
       "      <th>64</th>\n",
       "      <td>아시아나항공</td>\n",
       "      <td>20:50</td>\n",
       "      <td>22:00</td>\n",
       "      <td>01시간 10분</td>\n",
       "      <td>93,000</td>\n",
       "      <td>삼성카드</td>\n",
       "    </tr>\n",
       "    <tr>\n",
       "      <th>65</th>\n",
       "      <td>아시아나항공</td>\n",
       "      <td>20:50</td>\n",
       "      <td>22:00</td>\n",
       "      <td>01시간 10분</td>\n",
       "      <td>147,000</td>\n",
       "      <td>삼성카드</td>\n",
       "    </tr>\n",
       "    <tr>\n",
       "      <th>66</th>\n",
       "      <td>아시아나항공</td>\n",
       "      <td>21:20</td>\n",
       "      <td>22:30</td>\n",
       "      <td>01시간 10분</td>\n",
       "      <td>99,000</td>\n",
       "      <td>삼성카드</td>\n",
       "    </tr>\n",
       "    <tr>\n",
       "      <th>67</th>\n",
       "      <td>아시아나항공</td>\n",
       "      <td>21:20</td>\n",
       "      <td>22:30</td>\n",
       "      <td>01시간 10분</td>\n",
       "      <td>147,000</td>\n",
       "      <td>삼성카드</td>\n",
       "    </tr>\n",
       "  </tbody>\n",
       "</table>\n",
       "<p>68 rows × 6 columns</p>\n",
       "</div>"
      ],
      "text/plain": [
       "       항공사   출발시간   도착시간      소요시간       가격     카드사\n",
       "0    티웨이항공  06:40  07:50  01시간 10분  132,500  KB국민카드\n",
       "1    티웨이항공  11:45  12:55  01시간 10분  132,500  KB국민카드\n",
       "2    티웨이항공  14:05  15:15  01시간 10분  132,200    삼성카드\n",
       "3     에어부산  15:05  16:15  01시간 10분  133,000    삼성카드\n",
       "4   아시아나항공  16:35  17:50  01시간 15분  123,000    삼성카드\n",
       "..     ...    ...    ...       ...      ...     ...\n",
       "63    대한항공  20:30  21:40  01시간 10분  204,000    삼성카드\n",
       "64  아시아나항공  20:50  22:00  01시간 10분   93,000    삼성카드\n",
       "65  아시아나항공  20:50  22:00  01시간 10분  147,000    삼성카드\n",
       "66  아시아나항공  21:20  22:30  01시간 10분   99,000    삼성카드\n",
       "67  아시아나항공  21:20  22:30  01시간 10분  147,000    삼성카드\n",
       "\n",
       "[68 rows x 6 columns]"
      ]
     },
     "metadata": {},
     "output_type": "display_data"
    }
   ],
   "source": [
    "display(df)"
   ]
  },
  {
   "cell_type": "code",
   "execution_count": 8,
   "id": "39a7cb48",
   "metadata": {},
   "outputs": [
    {
     "data": {
      "text/plain": [
       "68"
      ]
     },
     "execution_count": 8,
     "metadata": {},
     "output_type": "execute_result"
    }
   ],
   "source": [
    "len(flights)"
   ]
  },
  {
   "cell_type": "code",
   "execution_count": 70,
   "id": "e9a90f59",
   "metadata": {},
   "outputs": [
    {
     "data": {
      "text/plain": [
       "[<i class=\"domestic_type__30RSq\">할인석</i>,\n",
       " <i class=\"domestic_num__2roTW\">108,900</i>,\n",
       " <i class=\"domestic_type__30RSq\">KB국민카드 결제시 3% 청구할인</i>,\n",
       " <i class=\"domestic_num__2roTW\">105,670</i>]"
      ]
     },
     "execution_count": 70,
     "metadata": {},
     "output_type": "execute_result"
    }
   ],
   "source": [
    "card"
   ]
  },
  {
   "cell_type": "code",
   "execution_count": 71,
   "id": "a39c2bda",
   "metadata": {},
   "outputs": [
    {
     "name": "stdout",
     "output_type": "stream",
     "text": [
      "할인석\n",
      "108,900\n",
      "KB국민카드 결제시 3% 청구할인\n",
      "105,670\n"
     ]
    }
   ],
   "source": [
    "for i in card:\n",
    "    print(i.text)"
   ]
  },
  {
   "cell_type": "code",
   "execution_count": 74,
   "id": "3d5819c8",
   "metadata": {},
   "outputs": [
    {
     "name": "stdout",
     "output_type": "stream",
     "text": [
      "KB국민카드\n"
     ]
    }
   ],
   "source": [
    "for i in card:\n",
    "    if '카드' in i.text:\n",
    "        print(i.text.split(' ')[0])"
   ]
  },
  {
   "cell_type": "code",
   "execution_count": 83,
   "id": "17696e1f",
   "metadata": {},
   "outputs": [
    {
     "data": {
      "text/plain": [
       "[<div class=\"domestic_Flight__sK0eA result\"><div class=\"domestic_inner__15-bD\"><div class=\"domestic_schedule__1Whiq\"><div class=\"domestic_item__2B--k\"><div class=\"heading\"><div class=\"airline\"><div class=\"logos\"><img alt=\"에어서울\" class=\"logo\" src=\"https://vertical.pstatic.net/vertical/static/flight/airlines/RS.png\"/></div><b class=\"name\">에어서울</b></div><div class=\"info\"></div></div><div class=\"route_Route__2UInh\"><span class=\"route_airport__3VT7M\"><b class=\"route_time__-2Z1T\">06:00</b><i class=\"route_code__3WUFO\">GMP</i></span><span class=\"route_airport__3VT7M\"><b class=\"route_time__-2Z1T\">07:00</b><i class=\"route_code__3WUFO\">CJU</i></span><i class=\"route_info__1RhUH\">01시간 00분</i></div></div></div><button class=\"domestic_select_schedule__xWQ-K\" type=\"button\"></button><div class=\"domestic_prices__3N88F\"><div class=\"domestic_item__2B--k\"><i class=\"domestic_type__30RSq\">할인석</i><b class=\"domestic_price__1qAgw\"><span class=\"domestic_txt__2YFi_\">편도 </span><i class=\"domestic_num__2roTW\">108,900</i><span class=\"unit\">원~</span></b></div><div class=\"domestic_item_promotion__2q5bH\"><i class=\"domestic_type__30RSq\">KB국민카드 결제시 3% 청구할인</i><b class=\"domestic_price__1qAgw\"><span class=\"domestic_txt__2YFi_\">편도 </span><i class=\"domestic_num__2roTW\">105,670</i><span class=\"unit\">원~</span></b></div></div></div></div>,\n",
       " <div class=\"domestic_Flight__sK0eA result\"><div class=\"domestic_inner__15-bD\"><div class=\"domestic_schedule__1Whiq\"><div class=\"domestic_item__2B--k\"><div class=\"heading\"><div class=\"airline\"><div class=\"logos\"><img alt=\"에어서울\" class=\"logo\" src=\"https://vertical.pstatic.net/vertical/static/flight/airlines/RS.png\"/></div><b class=\"name\">에어서울</b></div><div class=\"info\"></div></div><div class=\"route_Route__2UInh\"><span class=\"route_airport__3VT7M\"><b class=\"route_time__-2Z1T\">06:00</b><i class=\"route_code__3WUFO\">GMP</i></span><span class=\"route_airport__3VT7M\"><b class=\"route_time__-2Z1T\">07:00</b><i class=\"route_code__3WUFO\">CJU</i></span><i class=\"route_info__1RhUH\">01시간 00분</i></div></div></div><button class=\"domestic_select_schedule__xWQ-K\" type=\"button\"></button><div class=\"domestic_prices__3N88F\"><div class=\"domestic_item__2B--k\"><i class=\"domestic_type__30RSq\">일반석</i><b class=\"domestic_price__1qAgw\"><span class=\"domestic_txt__2YFi_\">편도 </span><i class=\"domestic_num__2roTW\">134,000</i><span class=\"unit\">원~</span></b></div><div class=\"domestic_item_promotion__2q5bH\"><i class=\"domestic_type__30RSq\">삼성카드 결제시 3.8% 캐시백</i><b class=\"domestic_price__1qAgw\"><span class=\"domestic_txt__2YFi_\">편도 </span><i class=\"domestic_num__2roTW\">128,860</i><span class=\"unit\">원~</span></b></div></div></div></div>,\n",
       " <div class=\"domestic_Flight__sK0eA result\"><div class=\"domestic_inner__15-bD\"><div class=\"domestic_schedule__1Whiq\"><div class=\"domestic_item__2B--k\"><div class=\"heading\"><div class=\"airline\"><div class=\"logos\"><img alt=\"아시아나항공\" class=\"logo\" src=\"https://vertical.pstatic.net/vertical/static/flight/airlines/OZ.png\"/></div><b class=\"name\">아시아나항공</b></div><div class=\"info\"><i class=\"npay\">1%적립</i><div class=\"domestic_PromotionBadge__2aHzU\"><i aria-expanded=\"false\" class=\"domestic_badge__20kwD\" role=\"button\">이벤트혜택</i><p class=\"domestic_layer__2cpTz\"><span class=\"domestic_txt__2YFi_\">네이버페이 결제시 <i class=\"npaypoint\" title=\"npaypoint\"></i>1%+1,500원 적립</span></p></div></div></div><div class=\"route_Route__2UInh\"><span class=\"route_airport__3VT7M\"><b class=\"route_time__-2Z1T\">06:05</b><i class=\"route_code__3WUFO\">GMP</i></span><span class=\"route_airport__3VT7M\"><b class=\"route_time__-2Z1T\">07:15</b><i class=\"route_code__3WUFO\">CJU</i></span><i class=\"route_info__1RhUH\">01시간 10분</i></div></div></div><button class=\"domestic_select_schedule__xWQ-K\" type=\"button\"></button><div class=\"domestic_prices__3N88F\"><div class=\"domestic_item__2B--k\"><i class=\"domestic_type__30RSq\">할인석</i><b class=\"domestic_price__1qAgw\"><span class=\"domestic_txt__2YFi_\">편도 </span><i class=\"domestic_num__2roTW\">117,000</i><span class=\"unit\">원~</span></b></div><div class=\"domestic_item_promotion__2q5bH\"><i class=\"domestic_type__30RSq\">삼성카드 결제시 4.5% 캐시백</i><b class=\"domestic_price__1qAgw\"><span class=\"domestic_txt__2YFi_\">편도 </span><i class=\"domestic_num__2roTW\">111,750</i><span class=\"unit\">원~</span></b></div></div></div></div>,\n",
       " <div class=\"domestic_Flight__sK0eA result\"><div class=\"domestic_inner__15-bD\"><div class=\"domestic_schedule__1Whiq\"><div class=\"domestic_item__2B--k\"><div class=\"heading\"><div class=\"airline\"><div class=\"logos\"><img alt=\"아시아나항공\" class=\"logo\" src=\"https://vertical.pstatic.net/vertical/static/flight/airlines/OZ.png\"/></div><b class=\"name\">아시아나항공</b></div><div class=\"info\"><i class=\"npay\">1%적립</i><div class=\"domestic_PromotionBadge__2aHzU\"><i aria-expanded=\"false\" class=\"domestic_badge__20kwD\" role=\"button\">이벤트혜택</i><p class=\"domestic_layer__2cpTz\"><span class=\"domestic_txt__2YFi_\">네이버페이 결제시 <i class=\"npaypoint\" title=\"npaypoint\"></i>1%+1,500원 적립</span></p></div></div></div><div class=\"route_Route__2UInh\"><span class=\"route_airport__3VT7M\"><b class=\"route_time__-2Z1T\">06:05</b><i class=\"route_code__3WUFO\">GMP</i></span><span class=\"route_airport__3VT7M\"><b class=\"route_time__-2Z1T\">07:15</b><i class=\"route_code__3WUFO\">CJU</i></span><i class=\"route_info__1RhUH\">01시간 10분</i></div></div></div><button class=\"domestic_select_schedule__xWQ-K\" type=\"button\"></button><div class=\"domestic_prices__3N88F\"><div class=\"domestic_item__2B--k\"><i class=\"domestic_type__30RSq\">일반석</i><b class=\"domestic_price__1qAgw\"><span class=\"domestic_txt__2YFi_\">편도 </span><i class=\"domestic_num__2roTW\">147,000</i><span class=\"unit\">원~</span></b></div><div class=\"domestic_item_promotion__2q5bH\"><i class=\"domestic_type__30RSq\">삼성카드 결제시 4.5% 캐시백</i><b class=\"domestic_price__1qAgw\"><span class=\"domestic_txt__2YFi_\">편도 </span><i class=\"domestic_num__2roTW\">140,400</i><span class=\"unit\">원~</span></b></div></div></div></div>,\n",
       " <div class=\"domestic_Flight__sK0eA result\"><div class=\"domestic_inner__15-bD\"><div class=\"domestic_schedule__1Whiq\"><div class=\"domestic_item__2B--k\"><div class=\"heading\"><div class=\"airline\"><div class=\"logos\"><img alt=\"아시아나항공\" class=\"logo\" src=\"https://vertical.pstatic.net/vertical/static/flight/airlines/OZ.png\"/></div><b class=\"name\">아시아나항공</b></div><div class=\"info\"><i class=\"npay\">1%적립</i><div class=\"domestic_PromotionBadge__2aHzU\"><i aria-expanded=\"false\" class=\"domestic_badge__20kwD\" role=\"button\">이벤트혜택</i><p class=\"domestic_layer__2cpTz\"><span class=\"domestic_txt__2YFi_\">네이버페이 결제시 <i class=\"npaypoint\" title=\"npaypoint\"></i>1%+1,500원 적립</span></p></div></div></div><div class=\"route_Route__2UInh\"><span class=\"route_airport__3VT7M\"><b class=\"route_time__-2Z1T\">06:05</b><i class=\"route_code__3WUFO\">GMP</i></span><span class=\"route_airport__3VT7M\"><b class=\"route_time__-2Z1T\">07:15</b><i class=\"route_code__3WUFO\">CJU</i></span><i class=\"route_info__1RhUH\">01시간 10분</i></div></div></div><button class=\"domestic_select_schedule__xWQ-K\" type=\"button\"></button><div class=\"domestic_prices__3N88F\"><div class=\"domestic_item__2B--k\"><i class=\"domestic_type__30RSq\">비즈니스석</i><b class=\"domestic_price__1qAgw\"><span class=\"domestic_txt__2YFi_\">편도 </span><i class=\"domestic_num__2roTW\">184,000</i><span class=\"unit\">원~</span></b></div><div class=\"domestic_item_promotion__2q5bH\"><i class=\"domestic_type__30RSq\">삼성카드 결제시 4.5% 캐시백</i><b class=\"domestic_price__1qAgw\"><span class=\"domestic_txt__2YFi_\">편도 </span><i class=\"domestic_num__2roTW\">175,720</i><span class=\"unit\">원~</span></b></div></div></div></div>,\n",
       " <div class=\"domestic_Flight__sK0eA result\"><div class=\"domestic_inner__15-bD\"><div class=\"domestic_schedule__1Whiq\"><div class=\"domestic_item__2B--k\"><div class=\"heading\"><div class=\"airline\"><div class=\"logos\"><img alt=\"아시아나항공\" class=\"logo\" src=\"https://vertical.pstatic.net/vertical/static/flight/airlines/OZ.png\"/></div><b class=\"name\">아시아나항공</b></div><div class=\"info\"><i class=\"npay\">1%적립</i><div class=\"domestic_PromotionBadge__2aHzU\"><i aria-expanded=\"false\" class=\"domestic_badge__20kwD\" role=\"button\">이벤트혜택</i><p class=\"domestic_layer__2cpTz\"><span class=\"domestic_txt__2YFi_\">네이버페이 결제시 <i class=\"npaypoint\" title=\"npaypoint\"></i>1%+1,500원 적립</span></p></div></div></div><div class=\"route_Route__2UInh\"><span class=\"route_airport__3VT7M\"><b class=\"route_time__-2Z1T\">06:10</b><i class=\"route_code__3WUFO\">GMP</i></span><span class=\"route_airport__3VT7M\"><b class=\"route_time__-2Z1T\">07:20</b><i class=\"route_code__3WUFO\">CJU</i></span><i class=\"route_info__1RhUH\">01시간 10분</i></div></div></div><button class=\"domestic_select_schedule__xWQ-K\" type=\"button\"></button><div class=\"domestic_prices__3N88F\"><div class=\"domestic_item__2B--k\"><i class=\"domestic_type__30RSq\">할인석</i><b class=\"domestic_price__1qAgw\"><span class=\"domestic_txt__2YFi_\">편도 </span><i class=\"domestic_num__2roTW\">117,000</i><span class=\"unit\">원~</span></b></div><div class=\"domestic_item_promotion__2q5bH\"><i class=\"domestic_type__30RSq\">삼성카드 결제시 4.5% 캐시백</i><b class=\"domestic_price__1qAgw\"><span class=\"domestic_txt__2YFi_\">편도 </span><i class=\"domestic_num__2roTW\">111,750</i><span class=\"unit\">원~</span></b></div></div></div></div>,\n",
       " <div class=\"domestic_Flight__sK0eA result\"><div class=\"domestic_inner__15-bD\"><div class=\"domestic_schedule__1Whiq\"><div class=\"domestic_item__2B--k\"><div class=\"heading\"><div class=\"airline\"><div class=\"logos\"><img alt=\"아시아나항공\" class=\"logo\" src=\"https://vertical.pstatic.net/vertical/static/flight/airlines/OZ.png\"/></div><b class=\"name\">아시아나항공</b></div><div class=\"info\"><i class=\"npay\">1%적립</i><div class=\"domestic_PromotionBadge__2aHzU\"><i aria-expanded=\"false\" class=\"domestic_badge__20kwD\" role=\"button\">이벤트혜택</i><p class=\"domestic_layer__2cpTz\"><span class=\"domestic_txt__2YFi_\">네이버페이 결제시 <i class=\"npaypoint\" title=\"npaypoint\"></i>1%+1,500원 적립</span></p></div></div></div><div class=\"route_Route__2UInh\"><span class=\"route_airport__3VT7M\"><b class=\"route_time__-2Z1T\">06:10</b><i class=\"route_code__3WUFO\">GMP</i></span><span class=\"route_airport__3VT7M\"><b class=\"route_time__-2Z1T\">07:20</b><i class=\"route_code__3WUFO\">CJU</i></span><i class=\"route_info__1RhUH\">01시간 10분</i></div></div></div><button class=\"domestic_select_schedule__xWQ-K\" type=\"button\"></button><div class=\"domestic_prices__3N88F\"><div class=\"domestic_item__2B--k\"><i class=\"domestic_type__30RSq\">일반석</i><b class=\"domestic_price__1qAgw\"><span class=\"domestic_txt__2YFi_\">편도 </span><i class=\"domestic_num__2roTW\">147,000</i><span class=\"unit\">원~</span></b></div><div class=\"domestic_item_promotion__2q5bH\"><i class=\"domestic_type__30RSq\">삼성카드 결제시 4.5% 캐시백</i><b class=\"domestic_price__1qAgw\"><span class=\"domestic_txt__2YFi_\">편도 </span><i class=\"domestic_num__2roTW\">140,400</i><span class=\"unit\">원~</span></b></div></div></div></div>,\n",
       " <div class=\"domestic_Flight__sK0eA result\"><div class=\"domestic_inner__15-bD\"><div class=\"domestic_schedule__1Whiq\"><div class=\"domestic_item__2B--k\"><div class=\"heading\"><div class=\"airline\"><div class=\"logos\"><img alt=\"아시아나항공\" class=\"logo\" src=\"https://vertical.pstatic.net/vertical/static/flight/airlines/OZ.png\"/></div><b class=\"name\">아시아나항공</b></div><div class=\"info\"><i class=\"npay\">1%적립</i><div class=\"domestic_PromotionBadge__2aHzU\"><i aria-expanded=\"false\" class=\"domestic_badge__20kwD\" role=\"button\">이벤트혜택</i><p class=\"domestic_layer__2cpTz\"><span class=\"domestic_txt__2YFi_\">네이버페이 결제시 <i class=\"npaypoint\" title=\"npaypoint\"></i>1%+1,500원 적립</span></p></div></div></div><div class=\"route_Route__2UInh\"><span class=\"route_airport__3VT7M\"><b class=\"route_time__-2Z1T\">06:10</b><i class=\"route_code__3WUFO\">GMP</i></span><span class=\"route_airport__3VT7M\"><b class=\"route_time__-2Z1T\">07:20</b><i class=\"route_code__3WUFO\">CJU</i></span><i class=\"route_info__1RhUH\">01시간 10분</i></div></div></div><button class=\"domestic_select_schedule__xWQ-K\" type=\"button\"></button><div class=\"domestic_prices__3N88F\"><div class=\"domestic_item__2B--k\"><i class=\"domestic_type__30RSq\">비즈니스석</i><b class=\"domestic_price__1qAgw\"><span class=\"domestic_txt__2YFi_\">편도 </span><i class=\"domestic_num__2roTW\">204,000</i><span class=\"unit\">원~</span></b></div><div class=\"domestic_item_promotion__2q5bH\"><i class=\"domestic_type__30RSq\">삼성카드 결제시 4.5% 캐시백</i><b class=\"domestic_price__1qAgw\"><span class=\"domestic_txt__2YFi_\">편도 </span><i class=\"domestic_num__2roTW\">194,820</i><span class=\"unit\">원~</span></b></div></div></div></div>,\n",
       " <div class=\"domestic_Flight__sK0eA result\"><div class=\"domestic_inner__15-bD\"><div class=\"domestic_schedule__1Whiq\"><div class=\"domestic_item__2B--k\"><div class=\"heading\"><div class=\"airline\"><div class=\"logos\"><img alt=\"진에어\" class=\"logo\" src=\"https://vertical.pstatic.net/vertical/static/flight/airlines/LJ.png\"/></div><b class=\"name\">진에어</b></div><div class=\"info\"><i class=\"npay\">1%적립</i><div class=\"domestic_PromotionBadge__2aHzU\"><i aria-expanded=\"false\" class=\"domestic_badge__20kwD\" role=\"button\">이벤트혜택</i><p class=\"domestic_layer__2cpTz\"><span class=\"domestic_txt__2YFi_\">네이버페이 결제시 <i class=\"npaypoint\" title=\"npaypoint\"></i>1%+1,500원 적립</span></p></div></div></div><div class=\"route_Route__2UInh\"><span class=\"route_airport__3VT7M\"><b class=\"route_time__-2Z1T\">06:15</b><i class=\"route_code__3WUFO\">GMP</i></span><span class=\"route_airport__3VT7M\"><b class=\"route_time__-2Z1T\">07:20</b><i class=\"route_code__3WUFO\">CJU</i></span><i class=\"route_info__1RhUH\">01시간 05분</i></div></div></div><button class=\"domestic_select_schedule__xWQ-K\" type=\"button\"></button><div class=\"domestic_prices__3N88F\"><div class=\"domestic_item__2B--k\"><i class=\"domestic_type__30RSq\">할인석</i><b class=\"domestic_price__1qAgw\"><span class=\"domestic_txt__2YFi_\">편도 </span><i class=\"domestic_num__2roTW\">132,900</i><span class=\"unit\">원~</span></b></div><div class=\"domestic_item_promotion__2q5bH\"><i class=\"domestic_type__30RSq\">삼성카드 결제시 5.9% 캐시백</i><b class=\"domestic_price__1qAgw\"><span class=\"domestic_txt__2YFi_\">편도 </span><i class=\"domestic_num__2roTW\">125,090</i><span class=\"unit\">원~</span></b></div></div></div></div>,\n",
       " <div class=\"domestic_Flight__sK0eA result\"><div class=\"domestic_inner__15-bD\"><div class=\"domestic_schedule__1Whiq\"><div class=\"domestic_item__2B--k\"><div class=\"heading\"><div class=\"airline\"><div class=\"logos\"><img alt=\"진에어\" class=\"logo\" src=\"https://vertical.pstatic.net/vertical/static/flight/airlines/LJ.png\"/></div><b class=\"name\">진에어</b></div><div class=\"info\"><i class=\"npay\">1%적립</i><div class=\"domestic_PromotionBadge__2aHzU\"><i aria-expanded=\"false\" class=\"domestic_badge__20kwD\" role=\"button\">이벤트혜택</i><p class=\"domestic_layer__2cpTz\"><span class=\"domestic_txt__2YFi_\">네이버페이 결제시 <i class=\"npaypoint\" title=\"npaypoint\"></i>1%+1,500원 적립</span></p></div></div></div><div class=\"route_Route__2UInh\"><span class=\"route_airport__3VT7M\"><b class=\"route_time__-2Z1T\">06:15</b><i class=\"route_code__3WUFO\">GMP</i></span><span class=\"route_airport__3VT7M\"><b class=\"route_time__-2Z1T\">07:20</b><i class=\"route_code__3WUFO\">CJU</i></span><i class=\"route_info__1RhUH\">01시간 05분</i></div></div></div><button class=\"domestic_select_schedule__xWQ-K\" type=\"button\"></button><div class=\"domestic_prices__3N88F\"><div class=\"domestic_item__2B--k\"><i class=\"domestic_type__30RSq\">일반석</i><b class=\"domestic_price__1qAgw\"><span class=\"domestic_txt__2YFi_\">편도 </span><i class=\"domestic_num__2roTW\">134,000</i><span class=\"unit\">원~</span></b></div><div class=\"domestic_item_promotion__2q5bH\"><i class=\"domestic_type__30RSq\">삼성카드 결제시 5.9% 캐시백</i><b class=\"domestic_price__1qAgw\"><span class=\"domestic_txt__2YFi_\">편도 </span><i class=\"domestic_num__2roTW\">126,120</i><span class=\"unit\">원~</span></b></div></div></div></div>,\n",
       " <div class=\"domestic_Flight__sK0eA result\"><div class=\"domestic_inner__15-bD\"><div class=\"domestic_schedule__1Whiq\"><div class=\"domestic_item__2B--k\"><div class=\"heading\"><div class=\"airline\"><div class=\"logos\"><img alt=\"진에어\" class=\"logo\" src=\"https://vertical.pstatic.net/vertical/static/flight/airlines/LJ.png\"/></div><b class=\"name\">진에어</b></div><div class=\"info\"><i class=\"npay\">1%적립</i><div class=\"domestic_PromotionBadge__2aHzU\"><i aria-expanded=\"false\" class=\"domestic_badge__20kwD\" role=\"button\">이벤트혜택</i><p class=\"domestic_layer__2cpTz\"><span class=\"domestic_txt__2YFi_\">네이버페이 결제시 <i class=\"npaypoint\" title=\"npaypoint\"></i>1%+1,500원 적립</span></p></div></div></div><div class=\"route_Route__2UInh\"><span class=\"route_airport__3VT7M\"><b class=\"route_time__-2Z1T\">06:15</b><i class=\"route_code__3WUFO\">GMP</i></span><span class=\"route_airport__3VT7M\"><b class=\"route_time__-2Z1T\">07:20</b><i class=\"route_code__3WUFO\">CJU</i></span><i class=\"route_info__1RhUH\">01시간 05분</i></div></div></div><button class=\"domestic_select_schedule__xWQ-K\" type=\"button\"></button><div class=\"domestic_prices__3N88F\"><div class=\"domestic_item__2B--k\"><i class=\"domestic_type__30RSq\">비즈니스석</i><b class=\"domestic_price__1qAgw\"><span class=\"domestic_txt__2YFi_\">편도 </span><i class=\"domestic_num__2roTW\">189,000</i><span class=\"unit\">원~</span></b></div><div class=\"domestic_item_promotion__2q5bH\"><i class=\"domestic_type__30RSq\">삼성카드 결제시 5.9% 캐시백</i><b class=\"domestic_price__1qAgw\"><span class=\"domestic_txt__2YFi_\">편도 </span><i class=\"domestic_num__2roTW\">177,870</i><span class=\"unit\">원~</span></b></div></div></div></div>,\n",
       " <div class=\"domestic_Flight__sK0eA result\"><div class=\"domestic_inner__15-bD\"><div class=\"domestic_schedule__1Whiq\"><div class=\"domestic_item__2B--k\"><div class=\"heading\"><div class=\"airline\"><div class=\"logos\"><img alt=\"티웨이항공\" class=\"logo\" src=\"https://vertical.pstatic.net/vertical/static/flight/airlines/TW.png\"/></div><b class=\"name\">티웨이항공</b></div><div class=\"info\"><i class=\"npay\">1%적립</i><div class=\"domestic_PromotionBadge__2aHzU\"><i aria-expanded=\"false\" class=\"domestic_badge__20kwD\" role=\"button\">이벤트혜택</i><p class=\"domestic_layer__2cpTz\"><span class=\"domestic_txt__2YFi_\">네이버페이 결제시 <i class=\"npaypoint\" title=\"npaypoint\"></i>1%+1,500원 적립</span></p></div></div></div><div class=\"route_Route__2UInh\"><span class=\"route_airport__3VT7M\"><b class=\"route_time__-2Z1T\">06:20</b><i class=\"route_code__3WUFO\">GMP</i></span><span class=\"route_airport__3VT7M\"><b class=\"route_time__-2Z1T\">07:30</b><i class=\"route_code__3WUFO\">CJU</i></span><i class=\"route_info__1RhUH\">01시간 10분</i></div></div></div><button class=\"domestic_select_schedule__xWQ-K\" type=\"button\"></button><div class=\"domestic_prices__3N88F\"><div class=\"domestic_item__2B--k\"><i class=\"domestic_type__30RSq\">할인석</i><b class=\"domestic_price__1qAgw\"><span class=\"domestic_txt__2YFi_\">편도 </span><i class=\"domestic_num__2roTW\">108,900</i><span class=\"unit\">원~</span></b></div><div class=\"domestic_item_promotion__2q5bH\"><i class=\"domestic_type__30RSq\">삼성카드 결제시 7.1% 캐시백</i><b class=\"domestic_price__1qAgw\"><span class=\"domestic_txt__2YFi_\">편도 </span><i class=\"domestic_num__2roTW\">102,960</i><span class=\"unit\">원~</span></b></div></div></div></div>,\n",
       " <div class=\"domestic_Flight__sK0eA result\"><div class=\"domestic_inner__15-bD\"><div class=\"domestic_schedule__1Whiq\"><div class=\"domestic_item__2B--k\"><div class=\"heading\"><div class=\"airline\"><div class=\"logos\"><img alt=\"티웨이항공\" class=\"logo\" src=\"https://vertical.pstatic.net/vertical/static/flight/airlines/TW.png\"/></div><b class=\"name\">티웨이항공</b></div><div class=\"info\"><i class=\"npay\">1%적립</i><div class=\"domestic_PromotionBadge__2aHzU\"><i aria-expanded=\"false\" class=\"domestic_badge__20kwD\" role=\"button\">이벤트혜택</i><p class=\"domestic_layer__2cpTz\"><span class=\"domestic_txt__2YFi_\">네이버페이 결제시 <i class=\"npaypoint\" title=\"npaypoint\"></i>1%+1,500원 적립</span></p></div></div></div><div class=\"route_Route__2UInh\"><span class=\"route_airport__3VT7M\"><b class=\"route_time__-2Z1T\">06:20</b><i class=\"route_code__3WUFO\">GMP</i></span><span class=\"route_airport__3VT7M\"><b class=\"route_time__-2Z1T\">07:30</b><i class=\"route_code__3WUFO\">CJU</i></span><i class=\"route_info__1RhUH\">01시간 10분</i></div></div></div><button class=\"domestic_select_schedule__xWQ-K\" type=\"button\"></button><div class=\"domestic_prices__3N88F\"><div class=\"domestic_item__2B--k\"><i class=\"domestic_type__30RSq\">일반석</i><b class=\"domestic_price__1qAgw\"><span class=\"domestic_txt__2YFi_\">편도 </span><i class=\"domestic_num__2roTW\">132,200</i><span class=\"unit\">원~</span></b></div><div class=\"domestic_item_promotion__2q5bH\"><i class=\"domestic_type__30RSq\">삼성카드 결제시 7.1% 캐시백</i><b class=\"domestic_price__1qAgw\"><span class=\"domestic_txt__2YFi_\">편도 </span><i class=\"domestic_num__2roTW\">123,480</i><span class=\"unit\">원~</span></b></div></div></div></div>,\n",
       " <div class=\"domestic_Flight__sK0eA result\"><div class=\"domestic_inner__15-bD\"><div class=\"domestic_schedule__1Whiq\"><div class=\"domestic_item__2B--k\"><div class=\"heading\"><div class=\"airline\"><div class=\"logos\"><img alt=\"제주항공\" class=\"logo\" src=\"https://vertical.pstatic.net/vertical/static/flight/airlines/7C.png\"/></div><b class=\"name\">제주항공</b></div><div class=\"info\"><i class=\"npay\">1%적립</i><div class=\"domestic_PromotionBadge__2aHzU\"><i aria-expanded=\"false\" class=\"domestic_badge__20kwD\" role=\"button\">이벤트혜택</i><p class=\"domestic_layer__2cpTz\"><span class=\"domestic_txt__2YFi_\">네이버페이 결제시 <i class=\"npaypoint\" title=\"npaypoint\"></i>1%+1,500원 적립</span></p></div></div></div><div class=\"route_Route__2UInh\"><span class=\"route_airport__3VT7M\"><b class=\"route_time__-2Z1T\">06:25</b><i class=\"route_code__3WUFO\">GMP</i></span><span class=\"route_airport__3VT7M\"><b class=\"route_time__-2Z1T\">07:35</b><i class=\"route_code__3WUFO\">CJU</i></span><i class=\"route_info__1RhUH\">01시간 10분</i></div></div></div><button class=\"domestic_select_schedule__xWQ-K\" type=\"button\"></button><div class=\"domestic_prices__3N88F\"><div class=\"domestic_item__2B--k\"><i class=\"domestic_type__30RSq\">할인석</i><b class=\"domestic_price__1qAgw\"><span class=\"domestic_txt__2YFi_\">편도 </span><i class=\"domestic_num__2roTW\">110,900</i><span class=\"unit\">원~</span></b></div><div class=\"domestic_item_promotion__2q5bH\"><i class=\"domestic_type__30RSq\">삼성카드 결제시 6.9% 캐시백</i><b class=\"domestic_price__1qAgw\"><span class=\"domestic_txt__2YFi_\">편도 </span><i class=\"domestic_num__2roTW\">103,280</i><span class=\"unit\">원~</span></b></div></div></div></div>,\n",
       " <div class=\"domestic_Flight__sK0eA result\"><div class=\"domestic_inner__15-bD\"><div class=\"domestic_schedule__1Whiq\"><div class=\"domestic_item__2B--k\"><div class=\"heading\"><div class=\"airline\"><div class=\"logos\"><img alt=\"아시아나항공\" class=\"logo\" src=\"https://vertical.pstatic.net/vertical/static/flight/airlines/OZ.png\"/></div><b class=\"name\">아시아나항공</b></div><div class=\"info\"><i class=\"npay\">1%적립</i><div class=\"domestic_PromotionBadge__2aHzU\"><i aria-expanded=\"false\" class=\"domestic_badge__20kwD\" role=\"button\">이벤트혜택</i><p class=\"domestic_layer__2cpTz\"><span class=\"domestic_txt__2YFi_\">네이버페이 결제시 <i class=\"npaypoint\" title=\"npaypoint\"></i>1%+1,500원 적립</span></p></div></div></div><div class=\"route_Route__2UInh\"><span class=\"route_airport__3VT7M\"><b class=\"route_time__-2Z1T\">06:25</b><i class=\"route_code__3WUFO\">GMP</i></span><span class=\"route_airport__3VT7M\"><b class=\"route_time__-2Z1T\">07:35</b><i class=\"route_code__3WUFO\">CJU</i></span><i class=\"route_info__1RhUH\">01시간 10분</i></div></div></div><button class=\"domestic_select_schedule__xWQ-K\" type=\"button\"></button><div class=\"domestic_prices__3N88F\"><div class=\"domestic_item__2B--k\"><i class=\"domestic_type__30RSq\">할인석</i><b class=\"domestic_price__1qAgw\"><span class=\"domestic_txt__2YFi_\">편도 </span><i class=\"domestic_num__2roTW\">123,000</i><span class=\"unit\">원~</span></b></div><div class=\"domestic_item_promotion__2q5bH\"><i class=\"domestic_type__30RSq\">삼성카드 결제시 4.5% 캐시백</i><b class=\"domestic_price__1qAgw\"><span class=\"domestic_txt__2YFi_\">편도 </span><i class=\"domestic_num__2roTW\">117,480</i><span class=\"unit\">원~</span></b></div></div></div></div>,\n",
       " <div class=\"domestic_Flight__sK0eA result\"><div class=\"domestic_inner__15-bD\"><div class=\"domestic_schedule__1Whiq\"><div class=\"domestic_item__2B--k\"><div class=\"heading\"><div class=\"airline\"><div class=\"logos\"><img alt=\"제주항공\" class=\"logo\" src=\"https://vertical.pstatic.net/vertical/static/flight/airlines/7C.png\"/></div><b class=\"name\">제주항공</b></div><div class=\"info\"><i class=\"npay\">1%적립</i><div class=\"domestic_PromotionBadge__2aHzU\"><i aria-expanded=\"false\" class=\"domestic_badge__20kwD\" role=\"button\">이벤트혜택</i><p class=\"domestic_layer__2cpTz\"><span class=\"domestic_txt__2YFi_\">네이버페이 결제시 <i class=\"npaypoint\" title=\"npaypoint\"></i>1%+1,500원 적립</span></p></div></div></div><div class=\"route_Route__2UInh\"><span class=\"route_airport__3VT7M\"><b class=\"route_time__-2Z1T\">06:25</b><i class=\"route_code__3WUFO\">GMP</i></span><span class=\"route_airport__3VT7M\"><b class=\"route_time__-2Z1T\">07:35</b><i class=\"route_code__3WUFO\">CJU</i></span><i class=\"route_info__1RhUH\">01시간 10분</i></div></div></div><button class=\"domestic_select_schedule__xWQ-K\" type=\"button\"></button><div class=\"domestic_prices__3N88F\"><div class=\"domestic_item__2B--k\"><i class=\"domestic_type__30RSq\">일반석</i><b class=\"domestic_price__1qAgw\"><span class=\"domestic_txt__2YFi_\">편도 </span><i class=\"domestic_num__2roTW\">133,500</i><span class=\"unit\">원~</span></b></div><div class=\"domestic_item_promotion__2q5bH\"><i class=\"domestic_type__30RSq\">삼성카드 결제시 6.9% 캐시백</i><b class=\"domestic_price__1qAgw\"><span class=\"domestic_txt__2YFi_\">편도 </span><i class=\"domestic_num__2roTW\">124,310</i><span class=\"unit\">원~</span></b></div></div></div></div>,\n",
       " <div class=\"domestic_Flight__sK0eA result\"><div class=\"domestic_inner__15-bD\"><div class=\"domestic_schedule__1Whiq\"><div class=\"domestic_item__2B--k\"><div class=\"heading\"><div class=\"airline\"><div class=\"logos\"><img alt=\"제주항공\" class=\"logo\" src=\"https://vertical.pstatic.net/vertical/static/flight/airlines/7C.png\"/></div><b class=\"name\">제주항공</b></div><div class=\"info\"><i class=\"npay\">1%적립</i><div class=\"domestic_PromotionBadge__2aHzU\"><i aria-expanded=\"false\" class=\"domestic_badge__20kwD\" role=\"button\">이벤트혜택</i><p class=\"domestic_layer__2cpTz\"><span class=\"domestic_txt__2YFi_\">네이버페이 결제시 <i class=\"npaypoint\" title=\"npaypoint\"></i>1%+1,500원 적립</span></p></div></div></div><div class=\"route_Route__2UInh\"><span class=\"route_airport__3VT7M\"><b class=\"route_time__-2Z1T\">06:25</b><i class=\"route_code__3WUFO\">GMP</i></span><span class=\"route_airport__3VT7M\"><b class=\"route_time__-2Z1T\">07:35</b><i class=\"route_code__3WUFO\">CJU</i></span><i class=\"route_info__1RhUH\">01시간 10분</i></div></div></div><button class=\"domestic_select_schedule__xWQ-K\" type=\"button\"></button><div class=\"domestic_prices__3N88F\"><div class=\"domestic_item__2B--k\"><i class=\"domestic_type__30RSq\">일반석</i><b class=\"domestic_price__1qAgw\"><span class=\"domestic_txt__2YFi_\">편도 </span><i class=\"domestic_num__2roTW\">133,500</i><span class=\"unit\">원~</span></b></div><div class=\"domestic_item_promotion__2q5bH\"><i class=\"domestic_type__30RSq\">삼성카드 결제시 6.9% 캐시백</i><b class=\"domestic_price__1qAgw\"><span class=\"domestic_txt__2YFi_\">편도 </span><i class=\"domestic_num__2roTW\">124,310</i><span class=\"unit\">원~</span></b></div></div></div></div>,\n",
       " <div class=\"domestic_Flight__sK0eA result\"><div class=\"domestic_inner__15-bD\"><div class=\"domestic_schedule__1Whiq\"><div class=\"domestic_item__2B--k\"><div class=\"heading\"><div class=\"airline\"><div class=\"logos\"><img alt=\"아시아나항공\" class=\"logo\" src=\"https://vertical.pstatic.net/vertical/static/flight/airlines/OZ.png\"/></div><b class=\"name\">아시아나항공</b></div><div class=\"info\"><i class=\"npay\">1%적립</i><div class=\"domestic_PromotionBadge__2aHzU\"><i aria-expanded=\"false\" class=\"domestic_badge__20kwD\" role=\"button\">이벤트혜택</i><p class=\"domestic_layer__2cpTz\"><span class=\"domestic_txt__2YFi_\">네이버페이 결제시 <i class=\"npaypoint\" title=\"npaypoint\"></i>1%+1,500원 적립</span></p></div></div></div><div class=\"route_Route__2UInh\"><span class=\"route_airport__3VT7M\"><b class=\"route_time__-2Z1T\">06:25</b><i class=\"route_code__3WUFO\">GMP</i></span><span class=\"route_airport__3VT7M\"><b class=\"route_time__-2Z1T\">07:35</b><i class=\"route_code__3WUFO\">CJU</i></span><i class=\"route_info__1RhUH\">01시간 10분</i></div></div></div><button class=\"domestic_select_schedule__xWQ-K\" type=\"button\"></button><div class=\"domestic_prices__3N88F\"><div class=\"domestic_item__2B--k\"><i class=\"domestic_type__30RSq\">일반석</i><b class=\"domestic_price__1qAgw\"><span class=\"domestic_txt__2YFi_\">편도 </span><i class=\"domestic_num__2roTW\">147,000</i><span class=\"unit\">원~</span></b></div><div class=\"domestic_item_promotion__2q5bH\"><i class=\"domestic_type__30RSq\">삼성카드 결제시 4.5% 캐시백</i><b class=\"domestic_price__1qAgw\"><span class=\"domestic_txt__2YFi_\">편도 </span><i class=\"domestic_num__2roTW\">140,400</i><span class=\"unit\">원~</span></b></div></div></div></div>,\n",
       " <div class=\"domestic_Flight__sK0eA result\"><div class=\"domestic_inner__15-bD\"><div class=\"domestic_schedule__1Whiq\"><div class=\"domestic_item__2B--k\"><div class=\"heading\"><div class=\"airline\"><div class=\"logos\"><img alt=\"진에어\" class=\"logo\" src=\"https://vertical.pstatic.net/vertical/static/flight/airlines/LJ.png\"/></div><b class=\"name\">진에어</b></div><div class=\"info\"><i class=\"npay\">1%적립</i><div class=\"domestic_PromotionBadge__2aHzU\"><i aria-expanded=\"false\" class=\"domestic_badge__20kwD\" role=\"button\">이벤트혜택</i><p class=\"domestic_layer__2cpTz\"><span class=\"domestic_txt__2YFi_\">네이버페이 결제시 <i class=\"npaypoint\" title=\"npaypoint\"></i>1%+1,500원 적립</span></p></div></div></div><div class=\"route_Route__2UInh\"><span class=\"route_airport__3VT7M\"><b class=\"route_time__-2Z1T\">06:35</b><i class=\"route_code__3WUFO\">GMP</i></span><span class=\"route_airport__3VT7M\"><b class=\"route_time__-2Z1T\">07:45</b><i class=\"route_code__3WUFO\">CJU</i></span><i class=\"route_info__1RhUH\">01시간 10분</i></div></div></div><button class=\"domestic_select_schedule__xWQ-K\" type=\"button\"></button><div class=\"domestic_prices__3N88F\"><div class=\"domestic_item__2B--k\"><i class=\"domestic_type__30RSq\">할인석</i><b class=\"domestic_price__1qAgw\"><span class=\"domestic_txt__2YFi_\">편도 </span><i class=\"domestic_num__2roTW\">132,900</i><span class=\"unit\">원~</span></b></div><div class=\"domestic_item_promotion__2q5bH\"><i class=\"domestic_type__30RSq\">삼성카드 결제시 5.9% 캐시백</i><b class=\"domestic_price__1qAgw\"><span class=\"domestic_txt__2YFi_\">편도 </span><i class=\"domestic_num__2roTW\">125,090</i><span class=\"unit\">원~</span></b></div></div></div></div>,\n",
       " <div class=\"domestic_Flight__sK0eA result\"><div class=\"domestic_inner__15-bD\"><div class=\"domestic_schedule__1Whiq\"><div class=\"domestic_item__2B--k\"><div class=\"heading\"><div class=\"airline\"><div class=\"logos\"><img alt=\"진에어\" class=\"logo\" src=\"https://vertical.pstatic.net/vertical/static/flight/airlines/LJ.png\"/></div><b class=\"name\">진에어</b></div><div class=\"info\"><i class=\"npay\">1%적립</i><div class=\"domestic_PromotionBadge__2aHzU\"><i aria-expanded=\"false\" class=\"domestic_badge__20kwD\" role=\"button\">이벤트혜택</i><p class=\"domestic_layer__2cpTz\"><span class=\"domestic_txt__2YFi_\">네이버페이 결제시 <i class=\"npaypoint\" title=\"npaypoint\"></i>1%+1,500원 적립</span></p></div></div></div><div class=\"route_Route__2UInh\"><span class=\"route_airport__3VT7M\"><b class=\"route_time__-2Z1T\">06:35</b><i class=\"route_code__3WUFO\">GMP</i></span><span class=\"route_airport__3VT7M\"><b class=\"route_time__-2Z1T\">07:45</b><i class=\"route_code__3WUFO\">CJU</i></span><i class=\"route_info__1RhUH\">01시간 10분</i></div></div></div><button class=\"domestic_select_schedule__xWQ-K\" type=\"button\"></button><div class=\"domestic_prices__3N88F\"><div class=\"domestic_item__2B--k\"><i class=\"domestic_type__30RSq\">일반석</i><b class=\"domestic_price__1qAgw\"><span class=\"domestic_txt__2YFi_\">편도 </span><i class=\"domestic_num__2roTW\">134,000</i><span class=\"unit\">원~</span></b></div><div class=\"domestic_item_promotion__2q5bH\"><i class=\"domestic_type__30RSq\">삼성카드 결제시 5.9% 캐시백</i><b class=\"domestic_price__1qAgw\"><span class=\"domestic_txt__2YFi_\">편도 </span><i class=\"domestic_num__2roTW\">126,120</i><span class=\"unit\">원~</span></b></div></div></div></div>,\n",
       " <div class=\"domestic_Flight__sK0eA result\"><div class=\"domestic_inner__15-bD\"><div class=\"domestic_schedule__1Whiq\"><div class=\"domestic_item__2B--k\"><div class=\"heading\"><div class=\"airline\"><div class=\"logos\"><img alt=\"아시아나항공\" class=\"logo\" src=\"https://vertical.pstatic.net/vertical/static/flight/airlines/OZ.png\"/></div><b class=\"name\">아시아나항공</b></div><div class=\"info\"><i class=\"npay\">1%적립</i><div class=\"domestic_PromotionBadge__2aHzU\"><i aria-expanded=\"false\" class=\"domestic_badge__20kwD\" role=\"button\">이벤트혜택</i><p class=\"domestic_layer__2cpTz\"><span class=\"domestic_txt__2YFi_\">네이버페이 결제시 <i class=\"npaypoint\" title=\"npaypoint\"></i>1%+1,500원 적립</span></p></div></div></div><div class=\"route_Route__2UInh\"><span class=\"route_airport__3VT7M\"><b class=\"route_time__-2Z1T\">06:40</b><i class=\"route_code__3WUFO\">GMP</i></span><span class=\"route_airport__3VT7M\"><b class=\"route_time__-2Z1T\">07:50</b><i class=\"route_code__3WUFO\">CJU</i></span><i class=\"route_info__1RhUH\">01시간 10분</i></div></div></div><button class=\"domestic_select_schedule__xWQ-K\" type=\"button\"></button><div class=\"domestic_prices__3N88F\"><div class=\"domestic_item__2B--k\"><i class=\"domestic_type__30RSq\">할인석</i><b class=\"domestic_price__1qAgw\"><span class=\"domestic_txt__2YFi_\">편도 </span><i class=\"domestic_num__2roTW\">129,000</i><span class=\"unit\">원~</span></b></div><div class=\"domestic_item_promotion__2q5bH\"><i class=\"domestic_type__30RSq\">삼성카드 결제시 4.5% 캐시백</i><b class=\"domestic_price__1qAgw\"><span class=\"domestic_txt__2YFi_\">편도 </span><i class=\"domestic_num__2roTW\">123,210</i><span class=\"unit\">원~</span></b></div></div></div></div>,\n",
       " <div class=\"domestic_Flight__sK0eA result\"><div class=\"domestic_inner__15-bD\"><div class=\"domestic_schedule__1Whiq\"><div class=\"domestic_item__2B--k\"><div class=\"heading\"><div class=\"airline\"><div class=\"logos\"><img alt=\"대한항공\" class=\"logo\" src=\"https://vertical.pstatic.net/vertical/static/flight/airlines/KE.png\"/></div><b class=\"name\">대한항공</b></div><div class=\"info\"></div></div><div class=\"route_Route__2UInh\"><span class=\"route_airport__3VT7M\"><b class=\"route_time__-2Z1T\">06:40</b><i class=\"route_code__3WUFO\">GMP</i></span><span class=\"route_airport__3VT7M\"><b class=\"route_time__-2Z1T\">07:50</b><i class=\"route_code__3WUFO\">CJU</i></span><i class=\"route_info__1RhUH\">01시간 10분</i></div></div></div><button class=\"domestic_select_schedule__xWQ-K\" type=\"button\"></button><div class=\"domestic_prices__3N88F\"><div class=\"domestic_item__2B--k\"><i class=\"domestic_type__30RSq\">일반석</i><b class=\"domestic_price__1qAgw\"><span class=\"domestic_txt__2YFi_\">편도 </span><i class=\"domestic_num__2roTW\">144,000</i><span class=\"unit\">원~</span></b></div><div class=\"domestic_item_promotion__2q5bH\"><i class=\"domestic_type__30RSq\">삼성카드 결제시 7.3% 캐시백</i><b class=\"domestic_price__1qAgw\"><span class=\"domestic_txt__2YFi_\">편도 </span><i class=\"domestic_num__2roTW\">133,560</i><span class=\"unit\">원~</span></b></div></div></div></div>,\n",
       " <div class=\"domestic_Flight__sK0eA result\"><div class=\"domestic_inner__15-bD\"><div class=\"domestic_schedule__1Whiq\"><div class=\"domestic_item__2B--k\"><div class=\"heading\"><div class=\"airline\"><div class=\"logos\"><img alt=\"아시아나항공\" class=\"logo\" src=\"https://vertical.pstatic.net/vertical/static/flight/airlines/OZ.png\"/></div><b class=\"name\">아시아나항공</b></div><div class=\"info\"><i class=\"npay\">1%적립</i><div class=\"domestic_PromotionBadge__2aHzU\"><i aria-expanded=\"false\" class=\"domestic_badge__20kwD\" role=\"button\">이벤트혜택</i><p class=\"domestic_layer__2cpTz\"><span class=\"domestic_txt__2YFi_\">네이버페이 결제시 <i class=\"npaypoint\" title=\"npaypoint\"></i>1%+1,500원 적립</span></p></div></div></div><div class=\"route_Route__2UInh\"><span class=\"route_airport__3VT7M\"><b class=\"route_time__-2Z1T\">06:40</b><i class=\"route_code__3WUFO\">GMP</i></span><span class=\"route_airport__3VT7M\"><b class=\"route_time__-2Z1T\">07:50</b><i class=\"route_code__3WUFO\">CJU</i></span><i class=\"route_info__1RhUH\">01시간 10분</i></div></div></div><button class=\"domestic_select_schedule__xWQ-K\" type=\"button\"></button><div class=\"domestic_prices__3N88F\"><div class=\"domestic_item__2B--k\"><i class=\"domestic_type__30RSq\">일반석</i><b class=\"domestic_price__1qAgw\"><span class=\"domestic_txt__2YFi_\">편도 </span><i class=\"domestic_num__2roTW\">147,000</i><span class=\"unit\">원~</span></b></div><div class=\"domestic_item_promotion__2q5bH\"><i class=\"domestic_type__30RSq\">삼성카드 결제시 4.5% 캐시백</i><b class=\"domestic_price__1qAgw\"><span class=\"domestic_txt__2YFi_\">편도 </span><i class=\"domestic_num__2roTW\">140,400</i><span class=\"unit\">원~</span></b></div></div></div></div>,\n",
       " <div class=\"domestic_Flight__sK0eA result\"><div class=\"domestic_inner__15-bD\"><div class=\"domestic_schedule__1Whiq\"><div class=\"domestic_item__2B--k\"><div class=\"heading\"><div class=\"airline\"><div class=\"logos\"><img alt=\"티웨이항공\" class=\"logo\" src=\"https://vertical.pstatic.net/vertical/static/flight/airlines/TW.png\"/></div><b class=\"name\">티웨이항공</b></div><div class=\"info\"><i class=\"npay\">1%적립</i><div class=\"domestic_PromotionBadge__2aHzU\"><i aria-expanded=\"false\" class=\"domestic_badge__20kwD\" role=\"button\">이벤트혜택</i><p class=\"domestic_layer__2cpTz\"><span class=\"domestic_txt__2YFi_\">네이버페이 결제시 <i class=\"npaypoint\" title=\"npaypoint\"></i>1%+1,500원 적립</span></p></div></div></div><div class=\"route_Route__2UInh\"><span class=\"route_airport__3VT7M\"><b class=\"route_time__-2Z1T\">07:00</b><i class=\"route_code__3WUFO\">GMP</i></span><span class=\"route_airport__3VT7M\"><b class=\"route_time__-2Z1T\">08:10</b><i class=\"route_code__3WUFO\">CJU</i></span><i class=\"route_info__1RhUH\">01시간 10분</i></div></div></div><button class=\"domestic_select_schedule__xWQ-K\" type=\"button\"></button><div class=\"domestic_prices__3N88F\"><div class=\"domestic_item__2B--k\"><i class=\"domestic_type__30RSq\">할인석</i><b class=\"domestic_price__1qAgw\"><span class=\"domestic_txt__2YFi_\">편도 </span><i class=\"domestic_num__2roTW\">116,100</i><span class=\"unit\">원~</span></b></div><div class=\"domestic_item_promotion__2q5bH\"><i class=\"domestic_type__30RSq\">삼성카드 결제시 7.1% 캐시백</i><b class=\"domestic_price__1qAgw\"><span class=\"domestic_txt__2YFi_\">편도 </span><i class=\"domestic_num__2roTW\">108,530</i><span class=\"unit\">원~</span></b></div></div></div></div>,\n",
       " <div class=\"domestic_Flight__sK0eA result\"><div class=\"domestic_inner__15-bD\"><div class=\"domestic_schedule__1Whiq\"><div class=\"domestic_item__2B--k\"><div class=\"heading\"><div class=\"airline\"><div class=\"logos\"><img alt=\"티웨이항공\" class=\"logo\" src=\"https://vertical.pstatic.net/vertical/static/flight/airlines/TW.png\"/></div><b class=\"name\">티웨이항공</b></div><div class=\"info\"><i class=\"npay\">1%적립</i><div class=\"domestic_PromotionBadge__2aHzU\"><i aria-expanded=\"false\" class=\"domestic_badge__20kwD\" role=\"button\">이벤트혜택</i><p class=\"domestic_layer__2cpTz\"><span class=\"domestic_txt__2YFi_\">네이버페이 결제시 <i class=\"npaypoint\" title=\"npaypoint\"></i>1%+1,500원 적립</span></p></div></div></div><div class=\"route_Route__2UInh\"><span class=\"route_airport__3VT7M\"><b class=\"route_time__-2Z1T\">07:00</b><i class=\"route_code__3WUFO\">GMP</i></span><span class=\"route_airport__3VT7M\"><b class=\"route_time__-2Z1T\">08:10</b><i class=\"route_code__3WUFO\">CJU</i></span><i class=\"route_info__1RhUH\">01시간 10분</i></div></div></div><button class=\"domestic_select_schedule__xWQ-K\" type=\"button\"></button><div class=\"domestic_prices__3N88F\"><div class=\"domestic_item__2B--k\"><i class=\"domestic_type__30RSq\">일반석</i><b class=\"domestic_price__1qAgw\"><span class=\"domestic_txt__2YFi_\">편도 </span><i class=\"domestic_num__2roTW\">132,200</i><span class=\"unit\">원~</span></b></div><div class=\"domestic_item_promotion__2q5bH\"><i class=\"domestic_type__30RSq\">삼성카드 결제시 7.1% 캐시백</i><b class=\"domestic_price__1qAgw\"><span class=\"domestic_txt__2YFi_\">편도 </span><i class=\"domestic_num__2roTW\">123,480</i><span class=\"unit\">원~</span></b></div></div></div></div>,\n",
       " <div class=\"domestic_Flight__sK0eA result\"><div class=\"domestic_inner__15-bD\"><div class=\"domestic_schedule__1Whiq\"><div class=\"domestic_item__2B--k\"><div class=\"heading\"><div class=\"airline\"><div class=\"logos\"><img alt=\"제주항공\" class=\"logo\" src=\"https://vertical.pstatic.net/vertical/static/flight/airlines/7C.png\"/></div><b class=\"name\">제주항공</b></div><div class=\"info\"><i class=\"npay\">1%적립</i><div class=\"domestic_PromotionBadge__2aHzU\"><i aria-expanded=\"false\" class=\"domestic_badge__20kwD\" role=\"button\">이벤트혜택</i><p class=\"domestic_layer__2cpTz\"><span class=\"domestic_txt__2YFi_\">네이버페이 결제시 <i class=\"npaypoint\" title=\"npaypoint\"></i>1%+1,500원 적립</span></p></div></div></div><div class=\"route_Route__2UInh\"><span class=\"route_airport__3VT7M\"><b class=\"route_time__-2Z1T\">07:00</b><i class=\"route_code__3WUFO\">GMP</i></span><span class=\"route_airport__3VT7M\"><b class=\"route_time__-2Z1T\">08:10</b><i class=\"route_code__3WUFO\">CJU</i></span><i class=\"route_info__1RhUH\">01시간 10분</i></div></div></div><button class=\"domestic_select_schedule__xWQ-K\" type=\"button\"></button><div class=\"domestic_prices__3N88F\"><div class=\"domestic_item__2B--k\"><i class=\"domestic_type__30RSq\">일반석</i><b class=\"domestic_price__1qAgw\"><span class=\"domestic_txt__2YFi_\">편도 </span><i class=\"domestic_num__2roTW\">133,500</i><span class=\"unit\">원~</span></b></div><div class=\"domestic_item_promotion__2q5bH\"><i class=\"domestic_type__30RSq\">삼성카드 결제시 6.9% 캐시백</i><b class=\"domestic_price__1qAgw\"><span class=\"domestic_txt__2YFi_\">편도 </span><i class=\"domestic_num__2roTW\">124,310</i><span class=\"unit\">원~</span></b></div></div></div></div>,\n",
       " <div class=\"domestic_Flight__sK0eA result\"><div class=\"domestic_inner__15-bD\"><div class=\"domestic_schedule__1Whiq\"><div class=\"domestic_item__2B--k\"><div class=\"heading\"><div class=\"airline\"><div class=\"logos\"><img alt=\"제주항공\" class=\"logo\" src=\"https://vertical.pstatic.net/vertical/static/flight/airlines/7C.png\"/></div><b class=\"name\">제주항공</b></div><div class=\"info\"><i class=\"npay\">1%적립</i><div class=\"domestic_PromotionBadge__2aHzU\"><i aria-expanded=\"false\" class=\"domestic_badge__20kwD\" role=\"button\">이벤트혜택</i><p class=\"domestic_layer__2cpTz\"><span class=\"domestic_txt__2YFi_\">네이버페이 결제시 <i class=\"npaypoint\" title=\"npaypoint\"></i>1%+1,500원 적립</span></p></div></div></div><div class=\"route_Route__2UInh\"><span class=\"route_airport__3VT7M\"><b class=\"route_time__-2Z1T\">07:00</b><i class=\"route_code__3WUFO\">GMP</i></span><span class=\"route_airport__3VT7M\"><b class=\"route_time__-2Z1T\">08:10</b><i class=\"route_code__3WUFO\">CJU</i></span><i class=\"route_info__1RhUH\">01시간 10분</i></div></div></div><button class=\"domestic_select_schedule__xWQ-K\" type=\"button\"></button><div class=\"domestic_prices__3N88F\"><div class=\"domestic_item__2B--k\"><i class=\"domestic_type__30RSq\">비즈니스석</i><b class=\"domestic_price__1qAgw\"><span class=\"domestic_txt__2YFi_\">편도 </span><i class=\"domestic_num__2roTW\">184,500</i><span class=\"unit\">원~</span></b></div><div class=\"domestic_item_promotion__2q5bH\"><i class=\"domestic_type__30RSq\">삼성카드 결제시 6.9% 캐시백</i><b class=\"domestic_price__1qAgw\"><span class=\"domestic_txt__2YFi_\">편도 </span><i class=\"domestic_num__2roTW\">171,780</i><span class=\"unit\">원~</span></b></div></div></div></div>,\n",
       " <div class=\"domestic_Flight__sK0eA result\"><div class=\"domestic_inner__15-bD\"><div class=\"domestic_schedule__1Whiq\"><div class=\"domestic_item__2B--k\"><div class=\"heading\"><div class=\"airline\"><div class=\"logos\"><img alt=\"아시아나항공\" class=\"logo\" src=\"https://vertical.pstatic.net/vertical/static/flight/airlines/OZ.png\"/></div><b class=\"name\">아시아나항공</b></div><div class=\"info\"><i class=\"npay\">1%적립</i><div class=\"domestic_PromotionBadge__2aHzU\"><i aria-expanded=\"false\" class=\"domestic_badge__20kwD\" role=\"button\">이벤트혜택</i><p class=\"domestic_layer__2cpTz\"><span class=\"domestic_txt__2YFi_\">네이버페이 결제시 <i class=\"npaypoint\" title=\"npaypoint\"></i>1%+1,500원 적립</span></p></div></div></div><div class=\"route_Route__2UInh\"><span class=\"route_airport__3VT7M\"><b class=\"route_time__-2Z1T\">07:25</b><i class=\"route_code__3WUFO\">GMP</i></span><span class=\"route_airport__3VT7M\"><b class=\"route_time__-2Z1T\">08:35</b><i class=\"route_code__3WUFO\">CJU</i></span><i class=\"route_info__1RhUH\">01시간 10분</i></div></div></div><button class=\"domestic_select_schedule__xWQ-K\" type=\"button\"></button><div class=\"domestic_prices__3N88F\"><div class=\"domestic_item__2B--k\"><i class=\"domestic_type__30RSq\">할인석</i><b class=\"domestic_price__1qAgw\"><span class=\"domestic_txt__2YFi_\">편도 </span><i class=\"domestic_num__2roTW\">141,000</i><span class=\"unit\">원~</span></b></div><div class=\"domestic_item_promotion__2q5bH\"><i class=\"domestic_type__30RSq\">삼성카드 결제시 4.5% 캐시백</i><b class=\"domestic_price__1qAgw\"><span class=\"domestic_txt__2YFi_\">편도 </span><i class=\"domestic_num__2roTW\">134,670</i><span class=\"unit\">원~</span></b></div></div></div></div>,\n",
       " <div class=\"domestic_Flight__sK0eA result\"><div class=\"domestic_inner__15-bD\"><div class=\"domestic_schedule__1Whiq\"><div class=\"domestic_item__2B--k\"><div class=\"heading\"><div class=\"airline\"><div class=\"logos\"><img alt=\"아시아나항공\" class=\"logo\" src=\"https://vertical.pstatic.net/vertical/static/flight/airlines/OZ.png\"/></div><b class=\"name\">아시아나항공</b></div><div class=\"info\"><i class=\"npay\">1%적립</i><div class=\"domestic_PromotionBadge__2aHzU\"><i aria-expanded=\"false\" class=\"domestic_badge__20kwD\" role=\"button\">이벤트혜택</i><p class=\"domestic_layer__2cpTz\"><span class=\"domestic_txt__2YFi_\">네이버페이 결제시 <i class=\"npaypoint\" title=\"npaypoint\"></i>1%+1,500원 적립</span></p></div></div></div><div class=\"route_Route__2UInh\"><span class=\"route_airport__3VT7M\"><b class=\"route_time__-2Z1T\">07:25</b><i class=\"route_code__3WUFO\">GMP</i></span><span class=\"route_airport__3VT7M\"><b class=\"route_time__-2Z1T\">08:35</b><i class=\"route_code__3WUFO\">CJU</i></span><i class=\"route_info__1RhUH\">01시간 10분</i></div></div></div><button class=\"domestic_select_schedule__xWQ-K\" type=\"button\"></button><div class=\"domestic_prices__3N88F\"><div class=\"domestic_item__2B--k\"><i class=\"domestic_type__30RSq\">일반석</i><b class=\"domestic_price__1qAgw\"><span class=\"domestic_txt__2YFi_\">편도 </span><i class=\"domestic_num__2roTW\">147,000</i><span class=\"unit\">원~</span></b></div><div class=\"domestic_item_promotion__2q5bH\"><i class=\"domestic_type__30RSq\">삼성카드 결제시 4.5% 캐시백</i><b class=\"domestic_price__1qAgw\"><span class=\"domestic_txt__2YFi_\">편도 </span><i class=\"domestic_num__2roTW\">140,400</i><span class=\"unit\">원~</span></b></div></div></div></div>,\n",
       " <div class=\"domestic_Flight__sK0eA result\"><div class=\"domestic_inner__15-bD\"><div class=\"domestic_schedule__1Whiq\"><div class=\"domestic_item__2B--k\"><div class=\"heading\"><div class=\"airline\"><div class=\"logos\"><img alt=\"아시아나항공\" class=\"logo\" src=\"https://vertical.pstatic.net/vertical/static/flight/airlines/OZ.png\"/></div><b class=\"name\">아시아나항공</b></div><div class=\"info\"><i class=\"npay\">1%적립</i><div class=\"domestic_PromotionBadge__2aHzU\"><i aria-expanded=\"false\" class=\"domestic_badge__20kwD\" role=\"button\">이벤트혜택</i><p class=\"domestic_layer__2cpTz\"><span class=\"domestic_txt__2YFi_\">네이버페이 결제시 <i class=\"npaypoint\" title=\"npaypoint\"></i>1%+1,500원 적립</span></p></div></div></div><div class=\"route_Route__2UInh\"><span class=\"route_airport__3VT7M\"><b class=\"route_time__-2Z1T\">07:25</b><i class=\"route_code__3WUFO\">GMP</i></span><span class=\"route_airport__3VT7M\"><b class=\"route_time__-2Z1T\">08:35</b><i class=\"route_code__3WUFO\">CJU</i></span><i class=\"route_info__1RhUH\">01시간 10분</i></div></div></div><button class=\"domestic_select_schedule__xWQ-K\" type=\"button\"></button><div class=\"domestic_prices__3N88F\"><div class=\"domestic_item__2B--k\"><i class=\"domestic_type__30RSq\">비즈니스석</i><b class=\"domestic_price__1qAgw\"><span class=\"domestic_txt__2YFi_\">편도 </span><i class=\"domestic_num__2roTW\">204,000</i><span class=\"unit\">원~</span></b></div><div class=\"domestic_item_promotion__2q5bH\"><i class=\"domestic_type__30RSq\">삼성카드 결제시 4.5% 캐시백</i><b class=\"domestic_price__1qAgw\"><span class=\"domestic_txt__2YFi_\">편도 </span><i class=\"domestic_num__2roTW\">194,820</i><span class=\"unit\">원~</span></b></div></div></div></div>,\n",
       " <div class=\"domestic_Flight__sK0eA result\"><div class=\"domestic_inner__15-bD\"><div class=\"domestic_schedule__1Whiq\"><div class=\"domestic_item__2B--k\"><div class=\"heading\"><div class=\"airline\"><div class=\"logos\"><img alt=\"에어부산\" class=\"logo\" src=\"https://vertical.pstatic.net/vertical/static/flight/airlines/BX.png\"/></div><b class=\"name\">에어부산</b></div><div class=\"info\"></div></div><div class=\"route_Route__2UInh\"><span class=\"route_airport__3VT7M\"><b class=\"route_time__-2Z1T\">07:30</b><i class=\"route_code__3WUFO\">GMP</i></span><span class=\"route_airport__3VT7M\"><b class=\"route_time__-2Z1T\">08:30</b><i class=\"route_code__3WUFO\">CJU</i></span><i class=\"route_info__1RhUH\">01시간 00분</i></div></div></div><button class=\"domestic_select_schedule__xWQ-K\" type=\"button\"></button><div class=\"domestic_prices__3N88F\"><div class=\"domestic_item__2B--k\"><i class=\"domestic_type__30RSq\">할인석</i><b class=\"domestic_price__1qAgw\"><span class=\"domestic_txt__2YFi_\">편도 </span><i class=\"domestic_num__2roTW\">118,160</i><span class=\"unit\">원~</span></b></div><div class=\"domestic_item_promotion__2q5bH\"><i class=\"domestic_type__30RSq\">삼성카드 결제시 4.4% 캐시백</i><b class=\"domestic_price__1qAgw\"><span class=\"domestic_txt__2YFi_\">편도 </span><i class=\"domestic_num__2roTW\">113,000</i><span class=\"unit\">원~</span></b></div></div></div></div>,\n",
       " <div class=\"domestic_Flight__sK0eA result\"><div class=\"domestic_inner__15-bD\"><div class=\"domestic_schedule__1Whiq\"><div class=\"domestic_item__2B--k\"><div class=\"heading\"><div class=\"airline\"><div class=\"logos\"><img alt=\"에어부산\" class=\"logo\" src=\"https://vertical.pstatic.net/vertical/static/flight/airlines/BX.png\"/></div><b class=\"name\">에어부산</b></div><div class=\"info\"></div></div><div class=\"route_Route__2UInh\"><span class=\"route_airport__3VT7M\"><b class=\"route_time__-2Z1T\">07:30</b><i class=\"route_code__3WUFO\">GMP</i></span><span class=\"route_airport__3VT7M\"><b class=\"route_time__-2Z1T\">08:30</b><i class=\"route_code__3WUFO\">CJU</i></span><i class=\"route_info__1RhUH\">01시간 00분</i></div></div></div><button class=\"domestic_select_schedule__xWQ-K\" type=\"button\"></button><div class=\"domestic_prices__3N88F\"><div class=\"domestic_item__2B--k\"><i class=\"domestic_type__30RSq\">일반석</i><b class=\"domestic_price__1qAgw\"><span class=\"domestic_txt__2YFi_\">편도 </span><i class=\"domestic_num__2roTW\">133,000</i><span class=\"unit\">원~</span></b></div><div class=\"domestic_item_promotion__2q5bH\"><i class=\"domestic_type__30RSq\">롯데카드 결제시 4.4% 캐시백</i><b class=\"domestic_price__1qAgw\"><span class=\"domestic_txt__2YFi_\">편도 </span><i class=\"domestic_num__2roTW\">127,160</i><span class=\"unit\">원~</span></b></div></div></div></div>,\n",
       " <div class=\"domestic_Flight__sK0eA result\"><div class=\"domestic_inner__15-bD\"><div class=\"domestic_schedule__1Whiq\"><div class=\"domestic_item__2B--k\"><div class=\"heading\"><div class=\"airline\"><div class=\"logos\"><img alt=\"대한항공\" class=\"logo\" src=\"https://vertical.pstatic.net/vertical/static/flight/airlines/KE.png\"/></div><b class=\"name\">대한항공</b></div><div class=\"info\"></div></div><div class=\"route_Route__2UInh\"><span class=\"route_airport__3VT7M\"><b class=\"route_time__-2Z1T\">07:30</b><i class=\"route_code__3WUFO\">GMP</i></span><span class=\"route_airport__3VT7M\"><b class=\"route_time__-2Z1T\">08:40</b><i class=\"route_code__3WUFO\">CJU</i></span><i class=\"route_info__1RhUH\">01시간 10분</i></div></div></div><button class=\"domestic_select_schedule__xWQ-K\" type=\"button\"></button><div class=\"domestic_prices__3N88F\"><div class=\"domestic_item__2B--k\"><i class=\"domestic_type__30RSq\">일반석</i><b class=\"domestic_price__1qAgw\"><span class=\"domestic_txt__2YFi_\">편도 </span><i class=\"domestic_num__2roTW\">144,000</i><span class=\"unit\">원~</span></b></div></div></div></div>,\n",
       " <div class=\"domestic_Flight__sK0eA result\"><div class=\"domestic_inner__15-bD\"><div class=\"domestic_schedule__1Whiq\"><div class=\"domestic_item__2B--k\"><div class=\"heading\"><div class=\"airline\"><div class=\"logos\"><img alt=\"제주항공\" class=\"logo\" src=\"https://vertical.pstatic.net/vertical/static/flight/airlines/7C.png\"/></div><b class=\"name\">제주항공</b></div><div class=\"info\"><i class=\"npay\">1%적립</i><div class=\"domestic_PromotionBadge__2aHzU\"><i aria-expanded=\"false\" class=\"domestic_badge__20kwD\" role=\"button\">이벤트혜택</i><p class=\"domestic_layer__2cpTz\"><span class=\"domestic_txt__2YFi_\">네이버페이 결제시 <i class=\"npaypoint\" title=\"npaypoint\"></i>1%+1,500원 적립</span></p></div></div></div><div class=\"route_Route__2UInh\"><span class=\"route_airport__3VT7M\"><b class=\"route_time__-2Z1T\">07:40</b><i class=\"route_code__3WUFO\">GMP</i></span><span class=\"route_airport__3VT7M\"><b class=\"route_time__-2Z1T\">08:50</b><i class=\"route_code__3WUFO\">CJU</i></span><i class=\"route_info__1RhUH\">01시간 10분</i></div></div></div><button class=\"domestic_select_schedule__xWQ-K\" type=\"button\"></button><div class=\"domestic_prices__3N88F\"><div class=\"domestic_item__2B--k\"><i class=\"domestic_type__30RSq\">일반석</i><b class=\"domestic_price__1qAgw\"><span class=\"domestic_txt__2YFi_\">편도 </span><i class=\"domestic_num__2roTW\">133,500</i><span class=\"unit\">원~</span></b></div><div class=\"domestic_item_promotion__2q5bH\"><i class=\"domestic_type__30RSq\">삼성카드 결제시 6.9% 캐시백</i><b class=\"domestic_price__1qAgw\"><span class=\"domestic_txt__2YFi_\">편도 </span><i class=\"domestic_num__2roTW\">124,310</i><span class=\"unit\">원~</span></b></div></div></div></div>,\n",
       " <div class=\"domestic_Flight__sK0eA result\"><div class=\"domestic_inner__15-bD\"><div class=\"domestic_schedule__1Whiq\"><div class=\"domestic_item__2B--k\"><div class=\"heading\"><div class=\"airline\"><div class=\"logos\"><img alt=\"아시아나항공\" class=\"logo\" src=\"https://vertical.pstatic.net/vertical/static/flight/airlines/OZ.png\"/></div><b class=\"name\">아시아나항공</b></div><div class=\"info\"><i class=\"npay\">1%적립</i><div class=\"domestic_PromotionBadge__2aHzU\"><i aria-expanded=\"false\" class=\"domestic_badge__20kwD\" role=\"button\">이벤트혜택</i><p class=\"domestic_layer__2cpTz\"><span class=\"domestic_txt__2YFi_\">네이버페이 결제시 <i class=\"npaypoint\" title=\"npaypoint\"></i>1%+1,500원 적립</span></p></div></div></div><div class=\"route_Route__2UInh\"><span class=\"route_airport__3VT7M\"><b class=\"route_time__-2Z1T\">07:45</b><i class=\"route_code__3WUFO\">GMP</i></span><span class=\"route_airport__3VT7M\"><b class=\"route_time__-2Z1T\">09:05</b><i class=\"route_code__3WUFO\">CJU</i></span><i class=\"route_info__1RhUH\">01시간 20분</i></div></div></div><button class=\"domestic_select_schedule__xWQ-K\" type=\"button\"></button><div class=\"domestic_prices__3N88F\"><div class=\"domestic_item__2B--k\"><i class=\"domestic_type__30RSq\">비즈니스석</i><b class=\"domestic_price__1qAgw\"><span class=\"domestic_txt__2YFi_\">편도 </span><i class=\"domestic_num__2roTW\">204,000</i><span class=\"unit\">원~</span></b></div><div class=\"domestic_item_promotion__2q5bH\"><i class=\"domestic_type__30RSq\">삼성카드 결제시 4.5% 캐시백</i><b class=\"domestic_price__1qAgw\"><span class=\"domestic_txt__2YFi_\">편도 </span><i class=\"domestic_num__2roTW\">194,820</i><span class=\"unit\">원~</span></b></div></div></div></div>,\n",
       " <div class=\"domestic_Flight__sK0eA result\"><div class=\"domestic_inner__15-bD\"><div class=\"domestic_schedule__1Whiq\"><div class=\"domestic_item__2B--k\"><div class=\"heading\"><div class=\"airline\"><div class=\"logos\"><img alt=\"에어서울\" class=\"logo\" src=\"https://vertical.pstatic.net/vertical/static/flight/airlines/RS.png\"/></div><b class=\"name\">에어서울</b></div><div class=\"info\"></div></div><div class=\"route_Route__2UInh\"><span class=\"route_airport__3VT7M\"><b class=\"route_time__-2Z1T\">08:00</b><i class=\"route_code__3WUFO\">GMP</i></span><span class=\"route_airport__3VT7M\"><b class=\"route_time__-2Z1T\">09:00</b><i class=\"route_code__3WUFO\">CJU</i></span><i class=\"route_info__1RhUH\">01시간 00분</i></div></div></div><button class=\"domestic_select_schedule__xWQ-K\" type=\"button\"></button><div class=\"domestic_prices__3N88F\"><div class=\"domestic_item__2B--k\"><i class=\"domestic_type__30RSq\">일반석</i><b class=\"domestic_price__1qAgw\"><span class=\"domestic_txt__2YFi_\">편도 </span><i class=\"domestic_num__2roTW\">131,900</i><span class=\"unit\">원~</span></b></div><div class=\"domestic_item_promotion__2q5bH\"><i class=\"domestic_type__30RSq\">삼성카드 결제시 3.8% 캐시백</i><b class=\"domestic_price__1qAgw\"><span class=\"domestic_txt__2YFi_\">편도 </span><i class=\"domestic_num__2roTW\">126,840</i><span class=\"unit\">원~</span></b></div></div></div></div>,\n",
       " <div class=\"domestic_Flight__sK0eA result\"><div class=\"domestic_inner__15-bD\"><div class=\"domestic_schedule__1Whiq\"><div class=\"domestic_item__2B--k\"><div class=\"heading\"><div class=\"airline\"><div class=\"logos\"><img alt=\"티웨이항공\" class=\"logo\" src=\"https://vertical.pstatic.net/vertical/static/flight/airlines/TW.png\"/></div><b class=\"name\">티웨이항공</b></div><div class=\"info\"><i class=\"npay\">1%적립</i><div class=\"domestic_PromotionBadge__2aHzU\"><i aria-expanded=\"false\" class=\"domestic_badge__20kwD\" role=\"button\">이벤트혜택</i><p class=\"domestic_layer__2cpTz\"><span class=\"domestic_txt__2YFi_\">네이버페이 결제시 <i class=\"npaypoint\" title=\"npaypoint\"></i>1%+1,500원 적립</span></p></div></div></div><div class=\"route_Route__2UInh\"><span class=\"route_airport__3VT7M\"><b class=\"route_time__-2Z1T\">08:00</b><i class=\"route_code__3WUFO\">GMP</i></span><span class=\"route_airport__3VT7M\"><b class=\"route_time__-2Z1T\">09:15</b><i class=\"route_code__3WUFO\">CJU</i></span><i class=\"route_info__1RhUH\">01시간 15분</i></div></div></div><button class=\"domestic_select_schedule__xWQ-K\" type=\"button\"></button><div class=\"domestic_prices__3N88F\"><div class=\"domestic_item__2B--k\"><i class=\"domestic_type__30RSq\">일반석</i><b class=\"domestic_price__1qAgw\"><span class=\"domestic_txt__2YFi_\">편도 </span><i class=\"domestic_num__2roTW\">132,200</i><span class=\"unit\">원~</span></b></div><div class=\"domestic_item_promotion__2q5bH\"><i class=\"domestic_type__30RSq\">삼성카드 결제시 7.1% 캐시백</i><b class=\"domestic_price__1qAgw\"><span class=\"domestic_txt__2YFi_\">편도 </span><i class=\"domestic_num__2roTW\">123,480</i><span class=\"unit\">원~</span></b></div></div></div></div>,\n",
       " <div class=\"domestic_Flight__sK0eA result\"><div class=\"domestic_inner__15-bD\"><div class=\"domestic_schedule__1Whiq\"><div class=\"domestic_item__2B--k\"><div class=\"heading\"><div class=\"airline\"><div class=\"logos\"><img alt=\"진에어\" class=\"logo\" src=\"https://vertical.pstatic.net/vertical/static/flight/airlines/LJ.png\"/></div><b class=\"name\">진에어</b></div><div class=\"info\"><i class=\"npay\">1%적립</i><div class=\"domestic_PromotionBadge__2aHzU\"><i aria-expanded=\"false\" class=\"domestic_badge__20kwD\" role=\"button\">이벤트혜택</i><p class=\"domestic_layer__2cpTz\"><span class=\"domestic_txt__2YFi_\">네이버페이 결제시 <i class=\"npaypoint\" title=\"npaypoint\"></i>1%+1,500원 적립</span></p></div></div></div><div class=\"route_Route__2UInh\"><span class=\"route_airport__3VT7M\"><b class=\"route_time__-2Z1T\">08:00</b><i class=\"route_code__3WUFO\">GMP</i></span><span class=\"route_airport__3VT7M\"><b class=\"route_time__-2Z1T\">09:10</b><i class=\"route_code__3WUFO\">CJU</i></span><i class=\"route_info__1RhUH\">01시간 10분</i></div></div></div><button class=\"domestic_select_schedule__xWQ-K\" type=\"button\"></button><div class=\"domestic_prices__3N88F\"><div class=\"domestic_item__2B--k\"><i class=\"domestic_type__30RSq\">일반석</i><b class=\"domestic_price__1qAgw\"><span class=\"domestic_txt__2YFi_\">편도 </span><i class=\"domestic_num__2roTW\">134,000</i><span class=\"unit\">원~</span></b></div><div class=\"domestic_item_promotion__2q5bH\"><i class=\"domestic_type__30RSq\">삼성카드 결제시 5.9% 캐시백</i><b class=\"domestic_price__1qAgw\"><span class=\"domestic_txt__2YFi_\">편도 </span><i class=\"domestic_num__2roTW\">126,120</i><span class=\"unit\">원~</span></b></div></div></div></div>,\n",
       " <div class=\"domestic_Flight__sK0eA result\"><div class=\"domestic_inner__15-bD\"><div class=\"domestic_schedule__1Whiq\"><div class=\"domestic_item__2B--k\"><div class=\"heading\"><div class=\"airline\"><div class=\"logos\"><img alt=\"티웨이항공\" class=\"logo\" src=\"https://vertical.pstatic.net/vertical/static/flight/airlines/TW.png\"/></div><b class=\"name\">티웨이항공</b></div><div class=\"info\"><i class=\"npay\">1%적립</i><div class=\"domestic_PromotionBadge__2aHzU\"><i aria-expanded=\"false\" class=\"domestic_badge__20kwD\" role=\"button\">이벤트혜택</i><p class=\"domestic_layer__2cpTz\"><span class=\"domestic_txt__2YFi_\">네이버페이 결제시 <i class=\"npaypoint\" title=\"npaypoint\"></i>1%+1,500원 적립</span></p></div></div></div><div class=\"route_Route__2UInh\"><span class=\"route_airport__3VT7M\"><b class=\"route_time__-2Z1T\">08:00</b><i class=\"route_code__3WUFO\">GMP</i></span><span class=\"route_airport__3VT7M\"><b class=\"route_time__-2Z1T\">09:15</b><i class=\"route_code__3WUFO\">CJU</i></span><i class=\"route_info__1RhUH\">01시간 15분</i></div></div></div><button class=\"domestic_select_schedule__xWQ-K\" type=\"button\"></button><div class=\"domestic_prices__3N88F\"><div class=\"domestic_item__2B--k\"><i class=\"domestic_type__30RSq\">비즈니스석</i><b class=\"domestic_price__1qAgw\"><span class=\"domestic_txt__2YFi_\">편도 </span><i class=\"domestic_num__2roTW\">189,200</i><span class=\"unit\">원~</span></b></div><div class=\"domestic_item_promotion__2q5bH\"><i class=\"domestic_type__30RSq\">삼성카드 결제시 7.1% 캐시백</i><b class=\"domestic_price__1qAgw\"><span class=\"domestic_txt__2YFi_\">편도 </span><i class=\"domestic_num__2roTW\">176,410</i><span class=\"unit\">원~</span></b></div></div></div></div>,\n",
       " <div class=\"domestic_Flight__sK0eA result\"><div class=\"domestic_inner__15-bD\"><div class=\"domestic_schedule__1Whiq\"><div class=\"domestic_item__2B--k\"><div class=\"heading\"><div class=\"airline\"><div class=\"logos\"><img alt=\"진에어\" class=\"logo\" src=\"https://vertical.pstatic.net/vertical/static/flight/airlines/LJ.png\"/></div><b class=\"name\">진에어</b></div><div class=\"info\"><i class=\"npay\">1%적립</i><div class=\"domestic_PromotionBadge__2aHzU\"><i aria-expanded=\"false\" class=\"domestic_badge__20kwD\" role=\"button\">이벤트혜택</i><p class=\"domestic_layer__2cpTz\"><span class=\"domestic_txt__2YFi_\">네이버페이 결제시 <i class=\"npaypoint\" title=\"npaypoint\"></i>1%+1,500원 적립</span></p></div></div></div><div class=\"route_Route__2UInh\"><span class=\"route_airport__3VT7M\"><b class=\"route_time__-2Z1T\">08:10</b><i class=\"route_code__3WUFO\">GMP</i></span><span class=\"route_airport__3VT7M\"><b class=\"route_time__-2Z1T\">09:20</b><i class=\"route_code__3WUFO\">CJU</i></span><i class=\"route_info__1RhUH\">01시간 10분</i></div></div></div><button class=\"domestic_select_schedule__xWQ-K\" type=\"button\"></button><div class=\"domestic_prices__3N88F\"><div class=\"domestic_item__2B--k\"><i class=\"domestic_type__30RSq\">일반석</i><b class=\"domestic_price__1qAgw\"><span class=\"domestic_txt__2YFi_\">편도 </span><i class=\"domestic_num__2roTW\">134,000</i><span class=\"unit\">원~</span></b></div><div class=\"domestic_item_promotion__2q5bH\"><i class=\"domestic_type__30RSq\">삼성카드 결제시 5.9% 캐시백</i><b class=\"domestic_price__1qAgw\"><span class=\"domestic_txt__2YFi_\">편도 </span><i class=\"domestic_num__2roTW\">126,120</i><span class=\"unit\">원~</span></b></div></div></div></div>,\n",
       " <div class=\"domestic_Flight__sK0eA result\"><div class=\"domestic_inner__15-bD\"><div class=\"domestic_schedule__1Whiq\"><div class=\"domestic_item__2B--k\"><div class=\"heading\"><div class=\"airline\"><div class=\"logos\"><img alt=\"진에어\" class=\"logo\" src=\"https://vertical.pstatic.net/vertical/static/flight/airlines/LJ.png\"/></div><b class=\"name\">진에어</b></div><div class=\"info\"><i class=\"npay\">1%적립</i><div class=\"domestic_PromotionBadge__2aHzU\"><i aria-expanded=\"false\" class=\"domestic_badge__20kwD\" role=\"button\">이벤트혜택</i><p class=\"domestic_layer__2cpTz\"><span class=\"domestic_txt__2YFi_\">네이버페이 결제시 <i class=\"npaypoint\" title=\"npaypoint\"></i>1%+1,500원 적립</span></p></div></div></div><div class=\"route_Route__2UInh\"><span class=\"route_airport__3VT7M\"><b class=\"route_time__-2Z1T\">08:10</b><i class=\"route_code__3WUFO\">GMP</i></span><span class=\"route_airport__3VT7M\"><b class=\"route_time__-2Z1T\">09:20</b><i class=\"route_code__3WUFO\">CJU</i></span><i class=\"route_info__1RhUH\">01시간 10분</i></div></div></div><button class=\"domestic_select_schedule__xWQ-K\" type=\"button\"></button><div class=\"domestic_prices__3N88F\"><div class=\"domestic_item__2B--k\"><i class=\"domestic_type__30RSq\">비즈니스석</i><b class=\"domestic_price__1qAgw\"><span class=\"domestic_txt__2YFi_\">편도 </span><i class=\"domestic_num__2roTW\">189,000</i><span class=\"unit\">원~</span></b></div><div class=\"domestic_item_promotion__2q5bH\"><i class=\"domestic_type__30RSq\">삼성카드 결제시 5.9% 캐시백</i><b class=\"domestic_price__1qAgw\"><span class=\"domestic_txt__2YFi_\">편도 </span><i class=\"domestic_num__2roTW\">177,870</i><span class=\"unit\">원~</span></b></div></div></div></div>,\n",
       " <div class=\"domestic_Flight__sK0eA result\"><div class=\"domestic_inner__15-bD\"><div class=\"domestic_schedule__1Whiq\"><div class=\"domestic_item__2B--k\"><div class=\"heading\"><div class=\"airline\"><div class=\"logos\"><img alt=\"아시아나항공\" class=\"logo\" src=\"https://vertical.pstatic.net/vertical/static/flight/airlines/OZ.png\"/></div><b class=\"name\">아시아나항공</b></div><div class=\"info\"><i class=\"npay\">1%적립</i><div class=\"domestic_PromotionBadge__2aHzU\"><i aria-expanded=\"false\" class=\"domestic_badge__20kwD\" role=\"button\">이벤트혜택</i><p class=\"domestic_layer__2cpTz\"><span class=\"domestic_txt__2YFi_\">네이버페이 결제시 <i class=\"npaypoint\" title=\"npaypoint\"></i>1%+1,500원 적립</span></p></div></div></div><div class=\"route_Route__2UInh\"><span class=\"route_airport__3VT7M\"><b class=\"route_time__-2Z1T\">08:20</b><i class=\"route_code__3WUFO\">GMP</i></span><span class=\"route_airport__3VT7M\"><b class=\"route_time__-2Z1T\">09:35</b><i class=\"route_code__3WUFO\">CJU</i></span><i class=\"route_info__1RhUH\">01시간 15분</i></div></div></div><button class=\"domestic_select_schedule__xWQ-K\" type=\"button\"></button><div class=\"domestic_prices__3N88F\"><div class=\"domestic_item__2B--k\"><i class=\"domestic_type__30RSq\">일반석</i><b class=\"domestic_price__1qAgw\"><span class=\"domestic_txt__2YFi_\">편도 </span><i class=\"domestic_num__2roTW\">147,000</i><span class=\"unit\">원~</span></b></div><div class=\"domestic_item_promotion__2q5bH\"><i class=\"domestic_type__30RSq\">삼성카드 결제시 4.5% 캐시백</i><b class=\"domestic_price__1qAgw\"><span class=\"domestic_txt__2YFi_\">편도 </span><i class=\"domestic_num__2roTW\">140,400</i><span class=\"unit\">원~</span></b></div></div></div></div>,\n",
       " <div class=\"domestic_Flight__sK0eA result\"><div class=\"domestic_inner__15-bD\"><div class=\"domestic_schedule__1Whiq\"><div class=\"domestic_item__2B--k\"><div class=\"heading\"><div class=\"airline\"><div class=\"logos\"><img alt=\"아시아나항공\" class=\"logo\" src=\"https://vertical.pstatic.net/vertical/static/flight/airlines/OZ.png\"/></div><b class=\"name\">아시아나항공</b></div><div class=\"info\"><i class=\"npay\">1%적립</i><div class=\"domestic_PromotionBadge__2aHzU\"><i aria-expanded=\"false\" class=\"domestic_badge__20kwD\" role=\"button\">이벤트혜택</i><p class=\"domestic_layer__2cpTz\"><span class=\"domestic_txt__2YFi_\">네이버페이 결제시 <i class=\"npaypoint\" title=\"npaypoint\"></i>1%+1,500원 적립</span></p></div></div></div><div class=\"route_Route__2UInh\"><span class=\"route_airport__3VT7M\"><b class=\"route_time__-2Z1T\">08:30</b><i class=\"route_code__3WUFO\">GMP</i></span><span class=\"route_airport__3VT7M\"><b class=\"route_time__-2Z1T\">09:40</b><i class=\"route_code__3WUFO\">CJU</i></span><i class=\"route_info__1RhUH\">01시간 10분</i></div></div></div><button class=\"domestic_select_schedule__xWQ-K\" type=\"button\"></button><div class=\"domestic_prices__3N88F\"><div class=\"domestic_item__2B--k\"><i class=\"domestic_type__30RSq\">일반석</i><b class=\"domestic_price__1qAgw\"><span class=\"domestic_txt__2YFi_\">편도 </span><i class=\"domestic_num__2roTW\">147,000</i><span class=\"unit\">원~</span></b></div><div class=\"domestic_item_promotion__2q5bH\"><i class=\"domestic_type__30RSq\">삼성카드 결제시 4.5% 캐시백</i><b class=\"domestic_price__1qAgw\"><span class=\"domestic_txt__2YFi_\">편도 </span><i class=\"domestic_num__2roTW\">140,400</i><span class=\"unit\">원~</span></b></div></div></div></div>,\n",
       " <div class=\"domestic_Flight__sK0eA result\"><div class=\"domestic_inner__15-bD\"><div class=\"domestic_schedule__1Whiq\"><div class=\"domestic_item__2B--k\"><div class=\"heading\"><div class=\"airline\"><div class=\"logos\"><img alt=\"에어부산\" class=\"logo\" src=\"https://vertical.pstatic.net/vertical/static/flight/airlines/BX.png\"/></div><b class=\"name\">에어부산</b></div><div class=\"info\"></div></div><div class=\"route_Route__2UInh\"><span class=\"route_airport__3VT7M\"><b class=\"route_time__-2Z1T\">08:50</b><i class=\"route_code__3WUFO\">GMP</i></span><span class=\"route_airport__3VT7M\"><b class=\"route_time__-2Z1T\">10:00</b><i class=\"route_code__3WUFO\">CJU</i></span><i class=\"route_info__1RhUH\">01시간 10분</i></div></div></div><button class=\"domestic_select_schedule__xWQ-K\" type=\"button\"></button><div class=\"domestic_prices__3N88F\"><div class=\"domestic_item__2B--k\"><i class=\"domestic_type__30RSq\">일반석</i><b class=\"domestic_price__1qAgw\"><span class=\"domestic_txt__2YFi_\">편도 </span><i class=\"domestic_num__2roTW\">133,000</i><span class=\"unit\">원~</span></b></div><div class=\"domestic_item_promotion__2q5bH\"><i class=\"domestic_type__30RSq\">롯데카드 결제시 4.4% 캐시백</i><b class=\"domestic_price__1qAgw\"><span class=\"domestic_txt__2YFi_\">편도 </span><i class=\"domestic_num__2roTW\">127,160</i><span class=\"unit\">원~</span></b></div></div></div></div>,\n",
       " <div class=\"domestic_Flight__sK0eA result\"><div class=\"domestic_inner__15-bD\"><div class=\"domestic_schedule__1Whiq\"><div class=\"domestic_item__2B--k\"><div class=\"heading\"><div class=\"airline\"><div class=\"logos\"><img alt=\"제주항공\" class=\"logo\" src=\"https://vertical.pstatic.net/vertical/static/flight/airlines/7C.png\"/></div><b class=\"name\">제주항공</b></div><div class=\"info\"><i class=\"npay\">1%적립</i><div class=\"domestic_PromotionBadge__2aHzU\"><i aria-expanded=\"false\" class=\"domestic_badge__20kwD\" role=\"button\">이벤트혜택</i><p class=\"domestic_layer__2cpTz\"><span class=\"domestic_txt__2YFi_\">네이버페이 결제시 <i class=\"npaypoint\" title=\"npaypoint\"></i>1%+1,500원 적립</span></p></div></div></div><div class=\"route_Route__2UInh\"><span class=\"route_airport__3VT7M\"><b class=\"route_time__-2Z1T\">09:25</b><i class=\"route_code__3WUFO\">GMP</i></span><span class=\"route_airport__3VT7M\"><b class=\"route_time__-2Z1T\">10:35</b><i class=\"route_code__3WUFO\">CJU</i></span><i class=\"route_info__1RhUH\">01시간 10분</i></div></div></div><button class=\"domestic_select_schedule__xWQ-K\" type=\"button\"></button><div class=\"domestic_prices__3N88F\"><div class=\"domestic_item__2B--k\"><i class=\"domestic_type__30RSq\">일반석</i><b class=\"domestic_price__1qAgw\"><span class=\"domestic_txt__2YFi_\">편도 </span><i class=\"domestic_num__2roTW\">133,500</i><span class=\"unit\">원~</span></b></div><div class=\"domestic_item_promotion__2q5bH\"><i class=\"domestic_type__30RSq\">삼성카드 결제시 6.9% 캐시백</i><b class=\"domestic_price__1qAgw\"><span class=\"domestic_txt__2YFi_\">편도 </span><i class=\"domestic_num__2roTW\">124,310</i><span class=\"unit\">원~</span></b></div></div></div></div>,\n",
       " <div class=\"domestic_Flight__sK0eA result\"><div class=\"domestic_inner__15-bD\"><div class=\"domestic_schedule__1Whiq\"><div class=\"domestic_item__2B--k\"><div class=\"heading\"><div class=\"airline\"><div class=\"logos\"><img alt=\"티웨이항공\" class=\"logo\" src=\"https://vertical.pstatic.net/vertical/static/flight/airlines/TW.png\"/></div><b class=\"name\">티웨이항공</b></div><div class=\"info\"><i class=\"npay\">1%적립</i><div class=\"domestic_PromotionBadge__2aHzU\"><i aria-expanded=\"false\" class=\"domestic_badge__20kwD\" role=\"button\">이벤트혜택</i><p class=\"domestic_layer__2cpTz\"><span class=\"domestic_txt__2YFi_\">네이버페이 결제시 <i class=\"npaypoint\" title=\"npaypoint\"></i>1%+1,500원 적립</span></p></div></div></div><div class=\"route_Route__2UInh\"><span class=\"route_airport__3VT7M\"><b class=\"route_time__-2Z1T\">09:45</b><i class=\"route_code__3WUFO\">GMP</i></span><span class=\"route_airport__3VT7M\"><b class=\"route_time__-2Z1T\">10:55</b><i class=\"route_code__3WUFO\">CJU</i></span><i class=\"route_info__1RhUH\">01시간 10분</i></div></div></div><button class=\"domestic_select_schedule__xWQ-K\" type=\"button\"></button><div class=\"domestic_prices__3N88F\"><div class=\"domestic_item__2B--k\"><i class=\"domestic_type__30RSq\">일반석</i><b class=\"domestic_price__1qAgw\"><span class=\"domestic_txt__2YFi_\">편도 </span><i class=\"domestic_num__2roTW\">132,200</i><span class=\"unit\">원~</span></b></div><div class=\"domestic_item_promotion__2q5bH\"><i class=\"domestic_type__30RSq\">삼성카드 결제시 7.1% 캐시백</i><b class=\"domestic_price__1qAgw\"><span class=\"domestic_txt__2YFi_\">편도 </span><i class=\"domestic_num__2roTW\">123,480</i><span class=\"unit\">원~</span></b></div></div></div></div>,\n",
       " <div class=\"domestic_Flight__sK0eA result\"><div class=\"domestic_inner__15-bD\"><div class=\"domestic_schedule__1Whiq\"><div class=\"domestic_item__2B--k\"><div class=\"heading\"><div class=\"airline\"><div class=\"logos\"><img alt=\"아시아나항공\" class=\"logo\" src=\"https://vertical.pstatic.net/vertical/static/flight/airlines/OZ.png\"/></div><b class=\"name\">아시아나항공</b></div><div class=\"info\"><i class=\"npay\">1%적립</i><div class=\"domestic_PromotionBadge__2aHzU\"><i aria-expanded=\"false\" class=\"domestic_badge__20kwD\" role=\"button\">이벤트혜택</i><p class=\"domestic_layer__2cpTz\"><span class=\"domestic_txt__2YFi_\">네이버페이 결제시 <i class=\"npaypoint\" title=\"npaypoint\"></i>1%+1,500원 적립</span></p></div></div></div><div class=\"route_Route__2UInh\"><span class=\"route_airport__3VT7M\"><b class=\"route_time__-2Z1T\">10:15</b><i class=\"route_code__3WUFO\">GMP</i></span><span class=\"route_airport__3VT7M\"><b class=\"route_time__-2Z1T\">11:25</b><i class=\"route_code__3WUFO\">CJU</i></span><i class=\"route_info__1RhUH\">01시간 10분</i></div></div></div><button class=\"domestic_select_schedule__xWQ-K\" type=\"button\"></button><div class=\"domestic_prices__3N88F\"><div class=\"domestic_item__2B--k\"><i class=\"domestic_type__30RSq\">일반석</i><b class=\"domestic_price__1qAgw\"><span class=\"domestic_txt__2YFi_\">편도 </span><i class=\"domestic_num__2roTW\">147,000</i><span class=\"unit\">원~</span></b></div><div class=\"domestic_item_promotion__2q5bH\"><i class=\"domestic_type__30RSq\">삼성카드 결제시 4.5% 캐시백</i><b class=\"domestic_price__1qAgw\"><span class=\"domestic_txt__2YFi_\">편도 </span><i class=\"domestic_num__2roTW\">140,400</i><span class=\"unit\">원~</span></b></div></div></div></div>,\n",
       " <div class=\"domestic_Flight__sK0eA result\"><div class=\"domestic_inner__15-bD\"><div class=\"domestic_schedule__1Whiq\"><div class=\"domestic_item__2B--k\"><div class=\"heading\"><div class=\"airline\"><div class=\"logos\"><img alt=\"아시아나항공\" class=\"logo\" src=\"https://vertical.pstatic.net/vertical/static/flight/airlines/OZ.png\"/></div><b class=\"name\">아시아나항공</b></div><div class=\"info\"><i class=\"npay\">1%적립</i><div class=\"domestic_PromotionBadge__2aHzU\"><i aria-expanded=\"false\" class=\"domestic_badge__20kwD\" role=\"button\">이벤트혜택</i><p class=\"domestic_layer__2cpTz\"><span class=\"domestic_txt__2YFi_\">네이버페이 결제시 <i class=\"npaypoint\" title=\"npaypoint\"></i>1%+1,500원 적립</span></p></div></div></div><div class=\"route_Route__2UInh\"><span class=\"route_airport__3VT7M\"><b class=\"route_time__-2Z1T\">10:15</b><i class=\"route_code__3WUFO\">GMP</i></span><span class=\"route_airport__3VT7M\"><b class=\"route_time__-2Z1T\">11:25</b><i class=\"route_code__3WUFO\">CJU</i></span><i class=\"route_info__1RhUH\">01시간 10분</i></div></div></div><button class=\"domestic_select_schedule__xWQ-K\" type=\"button\"></button><div class=\"domestic_prices__3N88F\"><div class=\"domestic_item__2B--k\"><i class=\"domestic_type__30RSq\">비즈니스석</i><b class=\"domestic_price__1qAgw\"><span class=\"domestic_txt__2YFi_\">편도 </span><i class=\"domestic_num__2roTW\">204,000</i><span class=\"unit\">원~</span></b></div><div class=\"domestic_item_promotion__2q5bH\"><i class=\"domestic_type__30RSq\">삼성카드 결제시 4.5% 캐시백</i><b class=\"domestic_price__1qAgw\"><span class=\"domestic_txt__2YFi_\">편도 </span><i class=\"domestic_num__2roTW\">194,820</i><span class=\"unit\">원~</span></b></div></div></div></div>,\n",
       " <div class=\"domestic_Flight__sK0eA result\"><div class=\"domestic_inner__15-bD\"><div class=\"domestic_schedule__1Whiq\"><div class=\"domestic_item__2B--k\"><div class=\"heading\"><div class=\"airline\"><div class=\"logos\"><img alt=\"진에어\" class=\"logo\" src=\"https://vertical.pstatic.net/vertical/static/flight/airlines/LJ.png\"/></div><b class=\"name\">진에어</b></div><div class=\"info\"><i class=\"npay\">1%적립</i><div class=\"domestic_PromotionBadge__2aHzU\"><i aria-expanded=\"false\" class=\"domestic_badge__20kwD\" role=\"button\">이벤트혜택</i><p class=\"domestic_layer__2cpTz\"><span class=\"domestic_txt__2YFi_\">네이버페이 결제시 <i class=\"npaypoint\" title=\"npaypoint\"></i>1%+1,500원 적립</span></p></div></div></div><div class=\"route_Route__2UInh\"><span class=\"route_airport__3VT7M\"><b class=\"route_time__-2Z1T\">10:35</b><i class=\"route_code__3WUFO\">GMP</i></span><span class=\"route_airport__3VT7M\"><b class=\"route_time__-2Z1T\">11:45</b><i class=\"route_code__3WUFO\">CJU</i></span><i class=\"route_info__1RhUH\">01시간 10분</i></div></div></div><button class=\"domestic_select_schedule__xWQ-K\" type=\"button\"></button><div class=\"domestic_prices__3N88F\"><div class=\"domestic_item__2B--k\"><i class=\"domestic_type__30RSq\">일반석</i><b class=\"domestic_price__1qAgw\"><span class=\"domestic_txt__2YFi_\">편도 </span><i class=\"domestic_num__2roTW\">134,000</i><span class=\"unit\">원~</span></b></div><div class=\"domestic_item_promotion__2q5bH\"><i class=\"domestic_type__30RSq\">삼성카드 결제시 5.9% 캐시백</i><b class=\"domestic_price__1qAgw\"><span class=\"domestic_txt__2YFi_\">편도 </span><i class=\"domestic_num__2roTW\">126,120</i><span class=\"unit\">원~</span></b></div></div></div></div>,\n",
       " <div class=\"domestic_Flight__sK0eA result\"><div class=\"domestic_inner__15-bD\"><div class=\"domestic_schedule__1Whiq\"><div class=\"domestic_item__2B--k\"><div class=\"heading\"><div class=\"airline\"><div class=\"logos\"><img alt=\"티웨이항공\" class=\"logo\" src=\"https://vertical.pstatic.net/vertical/static/flight/airlines/TW.png\"/></div><b class=\"name\">티웨이항공</b></div><div class=\"info\"><i class=\"npay\">1%적립</i><div class=\"domestic_PromotionBadge__2aHzU\"><i aria-expanded=\"false\" class=\"domestic_badge__20kwD\" role=\"button\">이벤트혜택</i><p class=\"domestic_layer__2cpTz\"><span class=\"domestic_txt__2YFi_\">네이버페이 결제시 <i class=\"npaypoint\" title=\"npaypoint\"></i>1%+1,500원 적립</span></p></div></div></div><div class=\"route_Route__2UInh\"><span class=\"route_airport__3VT7M\"><b class=\"route_time__-2Z1T\">11:45</b><i class=\"route_code__3WUFO\">GMP</i></span><span class=\"route_airport__3VT7M\"><b class=\"route_time__-2Z1T\">12:55</b><i class=\"route_code__3WUFO\">CJU</i></span><i class=\"route_info__1RhUH\">01시간 10분</i></div></div></div><button class=\"domestic_select_schedule__xWQ-K\" type=\"button\"></button><div class=\"domestic_prices__3N88F\"><div class=\"domestic_item__2B--k\"><i class=\"domestic_type__30RSq\">일반석</i><b class=\"domestic_price__1qAgw\"><span class=\"domestic_txt__2YFi_\">편도 </span><i class=\"domestic_num__2roTW\">132,200</i><span class=\"unit\">원~</span></b></div><div class=\"domestic_item_promotion__2q5bH\"><i class=\"domestic_type__30RSq\">삼성카드 결제시 7.1% 캐시백</i><b class=\"domestic_price__1qAgw\"><span class=\"domestic_txt__2YFi_\">편도 </span><i class=\"domestic_num__2roTW\">123,480</i><span class=\"unit\">원~</span></b></div></div></div></div>,\n",
       " <div class=\"domestic_Flight__sK0eA result\"><div class=\"domestic_inner__15-bD\"><div class=\"domestic_schedule__1Whiq\"><div class=\"domestic_item__2B--k\"><div class=\"heading\"><div class=\"airline\"><div class=\"logos\"><img alt=\"에어부산\" class=\"logo\" src=\"https://vertical.pstatic.net/vertical/static/flight/airlines/BX.png\"/></div><b class=\"name\">에어부산</b></div><div class=\"info\"></div></div><div class=\"route_Route__2UInh\"><span class=\"route_airport__3VT7M\"><b class=\"route_time__-2Z1T\">11:50</b><i class=\"route_code__3WUFO\">GMP</i></span><span class=\"route_airport__3VT7M\"><b class=\"route_time__-2Z1T\">13:00</b><i class=\"route_code__3WUFO\">CJU</i></span><i class=\"route_info__1RhUH\">01시간 10분</i></div></div></div><button class=\"domestic_select_schedule__xWQ-K\" type=\"button\"></button><div class=\"domestic_prices__3N88F\"><div class=\"domestic_item__2B--k\"><i class=\"domestic_type__30RSq\">할인석</i><b class=\"domestic_price__1qAgw\"><span class=\"domestic_txt__2YFi_\">편도 </span><i class=\"domestic_num__2roTW\">120,280</i><span class=\"unit\">원~</span></b></div><div class=\"domestic_item_promotion__2q5bH\"><i class=\"domestic_type__30RSq\">삼성카드 결제시 4.4% 캐시백</i><b class=\"domestic_price__1qAgw\"><span class=\"domestic_txt__2YFi_\">편도 </span><i class=\"domestic_num__2roTW\">115,030</i><span class=\"unit\">원~</span></b></div></div></div></div>,\n",
       " <div class=\"domestic_Flight__sK0eA result\"><div class=\"domestic_inner__15-bD\"><div class=\"domestic_schedule__1Whiq\"><div class=\"domestic_item__2B--k\"><div class=\"heading\"><div class=\"airline\"><div class=\"logos\"><img alt=\"에어부산\" class=\"logo\" src=\"https://vertical.pstatic.net/vertical/static/flight/airlines/BX.png\"/></div><b class=\"name\">에어부산</b></div><div class=\"info\"></div></div><div class=\"route_Route__2UInh\"><span class=\"route_airport__3VT7M\"><b class=\"route_time__-2Z1T\">11:50</b><i class=\"route_code__3WUFO\">GMP</i></span><span class=\"route_airport__3VT7M\"><b class=\"route_time__-2Z1T\">13:00</b><i class=\"route_code__3WUFO\">CJU</i></span><i class=\"route_info__1RhUH\">01시간 10분</i></div></div></div><button class=\"domestic_select_schedule__xWQ-K\" type=\"button\"></button><div class=\"domestic_prices__3N88F\"><div class=\"domestic_item__2B--k\"><i class=\"domestic_type__30RSq\">일반석</i><b class=\"domestic_price__1qAgw\"><span class=\"domestic_txt__2YFi_\">편도 </span><i class=\"domestic_num__2roTW\">133,000</i><span class=\"unit\">원~</span></b></div><div class=\"domestic_item_promotion__2q5bH\"><i class=\"domestic_type__30RSq\">롯데카드 결제시 4.4% 캐시백</i><b class=\"domestic_price__1qAgw\"><span class=\"domestic_txt__2YFi_\">편도 </span><i class=\"domestic_num__2roTW\">127,160</i><span class=\"unit\">원~</span></b></div></div></div></div>,\n",
       " <div class=\"domestic_Flight__sK0eA result\"><div class=\"domestic_inner__15-bD\"><div class=\"domestic_schedule__1Whiq\"><div class=\"domestic_item__2B--k\"><div class=\"heading\"><div class=\"airline\"><div class=\"logos\"><img alt=\"진에어\" class=\"logo\" src=\"https://vertical.pstatic.net/vertical/static/flight/airlines/LJ.png\"/></div><b class=\"name\">진에어</b></div><div class=\"info\"><i class=\"npay\">1%적립</i><div class=\"domestic_PromotionBadge__2aHzU\"><i aria-expanded=\"false\" class=\"domestic_badge__20kwD\" role=\"button\">이벤트혜택</i><p class=\"domestic_layer__2cpTz\"><span class=\"domestic_txt__2YFi_\">네이버페이 결제시 <i class=\"npaypoint\" title=\"npaypoint\"></i>1%+1,500원 적립</span></p></div></div></div><div class=\"route_Route__2UInh\"><span class=\"route_airport__3VT7M\"><b class=\"route_time__-2Z1T\">11:55</b><i class=\"route_code__3WUFO\">GMP</i></span><span class=\"route_airport__3VT7M\"><b class=\"route_time__-2Z1T\">13:05</b><i class=\"route_code__3WUFO\">CJU</i></span><i class=\"route_info__1RhUH\">01시간 10분</i></div></div></div><button class=\"domestic_select_schedule__xWQ-K\" type=\"button\"></button><div class=\"domestic_prices__3N88F\"><div class=\"domestic_item__2B--k\"><i class=\"domestic_type__30RSq\">할인석</i><b class=\"domestic_price__1qAgw\"><span class=\"domestic_txt__2YFi_\">편도 </span><i class=\"domestic_num__2roTW\">116,900</i><span class=\"unit\">원~</span></b></div><div class=\"domestic_item_promotion__2q5bH\"><i class=\"domestic_type__30RSq\">삼성카드 결제시 5.9% 캐시백</i><b class=\"domestic_price__1qAgw\"><span class=\"domestic_txt__2YFi_\">편도 </span><i class=\"domestic_num__2roTW\">110,030</i><span class=\"unit\">원~</span></b></div></div></div></div>,\n",
       " <div class=\"domestic_Flight__sK0eA result\"><div class=\"domestic_inner__15-bD\"><div class=\"domestic_schedule__1Whiq\"><div class=\"domestic_item__2B--k\"><div class=\"heading\"><div class=\"airline\"><div class=\"logos\"><img alt=\"진에어\" class=\"logo\" src=\"https://vertical.pstatic.net/vertical/static/flight/airlines/LJ.png\"/></div><b class=\"name\">진에어</b></div><div class=\"info\"><i class=\"npay\">1%적립</i><div class=\"domestic_PromotionBadge__2aHzU\"><i aria-expanded=\"false\" class=\"domestic_badge__20kwD\" role=\"button\">이벤트혜택</i><p class=\"domestic_layer__2cpTz\"><span class=\"domestic_txt__2YFi_\">네이버페이 결제시 <i class=\"npaypoint\" title=\"npaypoint\"></i>1%+1,500원 적립</span></p></div></div></div><div class=\"route_Route__2UInh\"><span class=\"route_airport__3VT7M\"><b class=\"route_time__-2Z1T\">11:55</b><i class=\"route_code__3WUFO\">GMP</i></span><span class=\"route_airport__3VT7M\"><b class=\"route_time__-2Z1T\">13:05</b><i class=\"route_code__3WUFO\">CJU</i></span><i class=\"route_info__1RhUH\">01시간 10분</i></div></div></div><button class=\"domestic_select_schedule__xWQ-K\" type=\"button\"></button><div class=\"domestic_prices__3N88F\"><div class=\"domestic_item__2B--k\"><i class=\"domestic_type__30RSq\">일반석</i><b class=\"domestic_price__1qAgw\"><span class=\"domestic_txt__2YFi_\">편도 </span><i class=\"domestic_num__2roTW\">134,000</i><span class=\"unit\">원~</span></b></div><div class=\"domestic_item_promotion__2q5bH\"><i class=\"domestic_type__30RSq\">삼성카드 결제시 5.9% 캐시백</i><b class=\"domestic_price__1qAgw\"><span class=\"domestic_txt__2YFi_\">편도 </span><i class=\"domestic_num__2roTW\">126,120</i><span class=\"unit\">원~</span></b></div></div></div></div>,\n",
       " <div class=\"domestic_Flight__sK0eA result\"><div class=\"domestic_inner__15-bD\"><div class=\"domestic_schedule__1Whiq\"><div class=\"domestic_item__2B--k\"><div class=\"heading\"><div class=\"airline\"><div class=\"logos\"><img alt=\"아시아나항공\" class=\"logo\" src=\"https://vertical.pstatic.net/vertical/static/flight/airlines/OZ.png\"/></div><b class=\"name\">아시아나항공</b></div><div class=\"info\"><i class=\"npay\">1%적립</i><div class=\"domestic_PromotionBadge__2aHzU\"><i aria-expanded=\"false\" class=\"domestic_badge__20kwD\" role=\"button\">이벤트혜택</i><p class=\"domestic_layer__2cpTz\"><span class=\"domestic_txt__2YFi_\">네이버페이 결제시 <i class=\"npaypoint\" title=\"npaypoint\"></i>1%+1,500원 적립</span></p></div></div></div><div class=\"route_Route__2UInh\"><span class=\"route_airport__3VT7M\"><b class=\"route_time__-2Z1T\">11:55</b><i class=\"route_code__3WUFO\">GMP</i></span><span class=\"route_airport__3VT7M\"><b class=\"route_time__-2Z1T\">13:05</b><i class=\"route_code__3WUFO\">CJU</i></span><i class=\"route_info__1RhUH\">01시간 10분</i></div></div></div><button class=\"domestic_select_schedule__xWQ-K\" type=\"button\"></button><div class=\"domestic_prices__3N88F\"><div class=\"domestic_item__2B--k\"><i class=\"domestic_type__30RSq\">일반석</i><b class=\"domestic_price__1qAgw\"><span class=\"domestic_txt__2YFi_\">편도 </span><i class=\"domestic_num__2roTW\">147,000</i><span class=\"unit\">원~</span></b></div><div class=\"domestic_item_promotion__2q5bH\"><i class=\"domestic_type__30RSq\">삼성카드 결제시 4.5% 캐시백</i><b class=\"domestic_price__1qAgw\"><span class=\"domestic_txt__2YFi_\">편도 </span><i class=\"domestic_num__2roTW\">140,400</i><span class=\"unit\">원~</span></b></div></div></div></div>,\n",
       " <div class=\"domestic_Flight__sK0eA result\"><div class=\"domestic_inner__15-bD\"><div class=\"domestic_schedule__1Whiq\"><div class=\"domestic_item__2B--k\"><div class=\"heading\"><div class=\"airline\"><div class=\"logos\"><img alt=\"제주항공\" class=\"logo\" src=\"https://vertical.pstatic.net/vertical/static/flight/airlines/7C.png\"/></div><b class=\"name\">제주항공</b></div><div class=\"info\"><i class=\"npay\">1%적립</i><div class=\"domestic_PromotionBadge__2aHzU\"><i aria-expanded=\"false\" class=\"domestic_badge__20kwD\" role=\"button\">이벤트혜택</i><p class=\"domestic_layer__2cpTz\"><span class=\"domestic_txt__2YFi_\">네이버페이 결제시 <i class=\"npaypoint\" title=\"npaypoint\"></i>1%+1,500원 적립</span></p></div></div></div><div class=\"route_Route__2UInh\"><span class=\"route_airport__3VT7M\"><b class=\"route_time__-2Z1T\">12:15</b><i class=\"route_code__3WUFO\">GMP</i></span><span class=\"route_airport__3VT7M\"><b class=\"route_time__-2Z1T\">13:35</b><i class=\"route_code__3WUFO\">CJU</i></span><i class=\"route_info__1RhUH\">01시간 20분</i></div></div></div><button class=\"domestic_select_schedule__xWQ-K\" type=\"button\"></button><div class=\"domestic_prices__3N88F\"><div class=\"domestic_item__2B--k\"><i class=\"domestic_type__30RSq\">일반석</i><b class=\"domestic_price__1qAgw\"><span class=\"domestic_txt__2YFi_\">편도 </span><i class=\"domestic_num__2roTW\">133,500</i><span class=\"unit\">원~</span></b></div><div class=\"domestic_item_promotion__2q5bH\"><i class=\"domestic_type__30RSq\">삼성카드 결제시 6.9% 캐시백</i><b class=\"domestic_price__1qAgw\"><span class=\"domestic_txt__2YFi_\">편도 </span><i class=\"domestic_num__2roTW\">124,310</i><span class=\"unit\">원~</span></b></div></div></div></div>,\n",
       " <div class=\"domestic_Flight__sK0eA result\"><div class=\"domestic_inner__15-bD\"><div class=\"domestic_schedule__1Whiq\"><div class=\"domestic_item__2B--k\"><div class=\"heading\"><div class=\"airline\"><div class=\"logos\"><img alt=\"아시아나항공\" class=\"logo\" src=\"https://vertical.pstatic.net/vertical/static/flight/airlines/OZ.png\"/></div><b class=\"name\">아시아나항공</b></div><div class=\"info\"><i class=\"npay\">1%적립</i><div class=\"domestic_PromotionBadge__2aHzU\"><i aria-expanded=\"false\" class=\"domestic_badge__20kwD\" role=\"button\">이벤트혜택</i><p class=\"domestic_layer__2cpTz\"><span class=\"domestic_txt__2YFi_\">네이버페이 결제시 <i class=\"npaypoint\" title=\"npaypoint\"></i>1%+1,500원 적립</span></p></div></div></div><div class=\"route_Route__2UInh\"><span class=\"route_airport__3VT7M\"><b class=\"route_time__-2Z1T\">12:20</b><i class=\"route_code__3WUFO\">GMP</i></span><span class=\"route_airport__3VT7M\"><b class=\"route_time__-2Z1T\">13:35</b><i class=\"route_code__3WUFO\">CJU</i></span><i class=\"route_info__1RhUH\">01시간 15분</i></div></div></div><button class=\"domestic_select_schedule__xWQ-K\" type=\"button\"></button><div class=\"domestic_prices__3N88F\"><div class=\"domestic_item__2B--k\"><i class=\"domestic_type__30RSq\">할인석</i><b class=\"domestic_price__1qAgw\"><span class=\"domestic_txt__2YFi_\">편도 </span><i class=\"domestic_num__2roTW\">141,000</i><span class=\"unit\">원~</span></b></div><div class=\"domestic_item_promotion__2q5bH\"><i class=\"domestic_type__30RSq\">삼성카드 결제시 4.5% 캐시백</i><b class=\"domestic_price__1qAgw\"><span class=\"domestic_txt__2YFi_\">편도 </span><i class=\"domestic_num__2roTW\">134,670</i><span class=\"unit\">원~</span></b></div></div></div></div>,\n",
       " <div class=\"domestic_Flight__sK0eA result\"><div class=\"domestic_inner__15-bD\"><div class=\"domestic_schedule__1Whiq\"><div class=\"domestic_item__2B--k\"><div class=\"heading\"><div class=\"airline\"><div class=\"logos\"><img alt=\"아시아나항공\" class=\"logo\" src=\"https://vertical.pstatic.net/vertical/static/flight/airlines/OZ.png\"/></div><b class=\"name\">아시아나항공</b></div><div class=\"info\"><i class=\"npay\">1%적립</i><div class=\"domestic_PromotionBadge__2aHzU\"><i aria-expanded=\"false\" class=\"domestic_badge__20kwD\" role=\"button\">이벤트혜택</i><p class=\"domestic_layer__2cpTz\"><span class=\"domestic_txt__2YFi_\">네이버페이 결제시 <i class=\"npaypoint\" title=\"npaypoint\"></i>1%+1,500원 적립</span></p></div></div></div><div class=\"route_Route__2UInh\"><span class=\"route_airport__3VT7M\"><b class=\"route_time__-2Z1T\">12:20</b><i class=\"route_code__3WUFO\">GMP</i></span><span class=\"route_airport__3VT7M\"><b class=\"route_time__-2Z1T\">13:35</b><i class=\"route_code__3WUFO\">CJU</i></span><i class=\"route_info__1RhUH\">01시간 15분</i></div></div></div><button class=\"domestic_select_schedule__xWQ-K\" type=\"button\"></button><div class=\"domestic_prices__3N88F\"><div class=\"domestic_item__2B--k\"><i class=\"domestic_type__30RSq\">일반석</i><b class=\"domestic_price__1qAgw\"><span class=\"domestic_txt__2YFi_\">편도 </span><i class=\"domestic_num__2roTW\">147,000</i><span class=\"unit\">원~</span></b></div><div class=\"domestic_item_promotion__2q5bH\"><i class=\"domestic_type__30RSq\">삼성카드 결제시 4.5% 캐시백</i><b class=\"domestic_price__1qAgw\"><span class=\"domestic_txt__2YFi_\">편도 </span><i class=\"domestic_num__2roTW\">140,400</i><span class=\"unit\">원~</span></b></div></div></div></div>,\n",
       " <div class=\"domestic_Flight__sK0eA result\"><div class=\"domestic_inner__15-bD\"><div class=\"domestic_schedule__1Whiq\"><div class=\"domestic_item__2B--k\"><div class=\"heading\"><div class=\"airline\"><div class=\"logos\"><img alt=\"제주항공\" class=\"logo\" src=\"https://vertical.pstatic.net/vertical/static/flight/airlines/7C.png\"/></div><b class=\"name\">제주항공</b></div><div class=\"info\"><i class=\"npay\">1%적립</i><div class=\"domestic_PromotionBadge__2aHzU\"><i aria-expanded=\"false\" class=\"domestic_badge__20kwD\" role=\"button\">이벤트혜택</i><p class=\"domestic_layer__2cpTz\"><span class=\"domestic_txt__2YFi_\">네이버페이 결제시 <i class=\"npaypoint\" title=\"npaypoint\"></i>1%+1,500원 적립</span></p></div></div></div><div class=\"route_Route__2UInh\"><span class=\"route_airport__3VT7M\"><b class=\"route_time__-2Z1T\">12:40</b><i class=\"route_code__3WUFO\">GMP</i></span><span class=\"route_airport__3VT7M\"><b class=\"route_time__-2Z1T\">13:50</b><i class=\"route_code__3WUFO\">CJU</i></span><i class=\"route_info__1RhUH\">01시간 10분</i></div></div></div><button class=\"domestic_select_schedule__xWQ-K\" type=\"button\"></button><div class=\"domestic_prices__3N88F\"><div class=\"domestic_item__2B--k\"><i class=\"domestic_type__30RSq\">할인석</i><b class=\"domestic_price__1qAgw\"><span class=\"domestic_txt__2YFi_\">편도 </span><i class=\"domestic_num__2roTW\">110,900</i><span class=\"unit\">원~</span></b></div><div class=\"domestic_item_promotion__2q5bH\"><i class=\"domestic_type__30RSq\">삼성카드 결제시 6.9% 캐시백</i><b class=\"domestic_price__1qAgw\"><span class=\"domestic_txt__2YFi_\">편도 </span><i class=\"domestic_num__2roTW\">103,280</i><span class=\"unit\">원~</span></b></div></div></div></div>,\n",
       " <div class=\"domestic_Flight__sK0eA result\"><div class=\"domestic_inner__15-bD\"><div class=\"domestic_schedule__1Whiq\"><div class=\"domestic_item__2B--k\"><div class=\"heading\"><div class=\"airline\"><div class=\"logos\"><img alt=\"제주항공\" class=\"logo\" src=\"https://vertical.pstatic.net/vertical/static/flight/airlines/7C.png\"/></div><b class=\"name\">제주항공</b></div><div class=\"info\"><i class=\"npay\">1%적립</i><div class=\"domestic_PromotionBadge__2aHzU\"><i aria-expanded=\"false\" class=\"domestic_badge__20kwD\" role=\"button\">이벤트혜택</i><p class=\"domestic_layer__2cpTz\"><span class=\"domestic_txt__2YFi_\">네이버페이 결제시 <i class=\"npaypoint\" title=\"npaypoint\"></i>1%+1,500원 적립</span></p></div></div></div><div class=\"route_Route__2UInh\"><span class=\"route_airport__3VT7M\"><b class=\"route_time__-2Z1T\">12:40</b><i class=\"route_code__3WUFO\">GMP</i></span><span class=\"route_airport__3VT7M\"><b class=\"route_time__-2Z1T\">13:50</b><i class=\"route_code__3WUFO\">CJU</i></span><i class=\"route_info__1RhUH\">01시간 10분</i></div></div></div><button class=\"domestic_select_schedule__xWQ-K\" type=\"button\"></button><div class=\"domestic_prices__3N88F\"><div class=\"domestic_item__2B--k\"><i class=\"domestic_type__30RSq\">일반석</i><b class=\"domestic_price__1qAgw\"><span class=\"domestic_txt__2YFi_\">편도 </span><i class=\"domestic_num__2roTW\">133,500</i><span class=\"unit\">원~</span></b></div><div class=\"domestic_item_promotion__2q5bH\"><i class=\"domestic_type__30RSq\">삼성카드 결제시 6.9% 캐시백</i><b class=\"domestic_price__1qAgw\"><span class=\"domestic_txt__2YFi_\">편도 </span><i class=\"domestic_num__2roTW\">124,310</i><span class=\"unit\">원~</span></b></div></div></div></div>,\n",
       " <div class=\"domestic_Flight__sK0eA result\"><div class=\"domestic_inner__15-bD\"><div class=\"domestic_schedule__1Whiq\"><div class=\"domestic_item__2B--k\"><div class=\"heading\"><div class=\"airline\"><div class=\"logos\"><img alt=\"아시아나항공\" class=\"logo\" src=\"https://vertical.pstatic.net/vertical/static/flight/airlines/OZ.png\"/></div><b class=\"name\">아시아나항공</b></div><div class=\"info\"><i class=\"npay\">1%적립</i><div class=\"domestic_PromotionBadge__2aHzU\"><i aria-expanded=\"false\" class=\"domestic_badge__20kwD\" role=\"button\">이벤트혜택</i><p class=\"domestic_layer__2cpTz\"><span class=\"domestic_txt__2YFi_\">네이버페이 결제시 <i class=\"npaypoint\" title=\"npaypoint\"></i>1%+1,500원 적립</span></p></div></div></div><div class=\"route_Route__2UInh\"><span class=\"route_airport__3VT7M\"><b class=\"route_time__-2Z1T\">12:50</b><i class=\"route_code__3WUFO\">GMP</i></span><span class=\"route_airport__3VT7M\"><b class=\"route_time__-2Z1T\">13:55</b><i class=\"route_code__3WUFO\">CJU</i></span><i class=\"route_info__1RhUH\">01시간 05분</i></div></div></div><button class=\"domestic_select_schedule__xWQ-K\" type=\"button\"></button><div class=\"domestic_prices__3N88F\"><div class=\"domestic_item__2B--k\"><i class=\"domestic_type__30RSq\">할인석</i><b class=\"domestic_price__1qAgw\"><span class=\"domestic_txt__2YFi_\">편도 </span><i class=\"domestic_num__2roTW\">129,000</i><span class=\"unit\">원~</span></b></div><div class=\"domestic_item_promotion__2q5bH\"><i class=\"domestic_type__30RSq\">삼성카드 결제시 4.5% 캐시백</i><b class=\"domestic_price__1qAgw\"><span class=\"domestic_txt__2YFi_\">편도 </span><i class=\"domestic_num__2roTW\">123,210</i><span class=\"unit\">원~</span></b></div></div></div></div>,\n",
       " <div class=\"domestic_Flight__sK0eA result\"><div class=\"domestic_inner__15-bD\"><div class=\"domestic_schedule__1Whiq\"><div class=\"domestic_item__2B--k\"><div class=\"heading\"><div class=\"airline\"><div class=\"logos\"><img alt=\"티웨이항공\" class=\"logo\" src=\"https://vertical.pstatic.net/vertical/static/flight/airlines/TW.png\"/></div><b class=\"name\">티웨이항공</b></div><div class=\"info\"><i class=\"npay\">1%적립</i><div class=\"domestic_PromotionBadge__2aHzU\"><i aria-expanded=\"false\" class=\"domestic_badge__20kwD\" role=\"button\">이벤트혜택</i><p class=\"domestic_layer__2cpTz\"><span class=\"domestic_txt__2YFi_\">네이버페이 결제시 <i class=\"npaypoint\" title=\"npaypoint\"></i>1%+1,500원 적립</span></p></div></div></div><div class=\"route_Route__2UInh\"><span class=\"route_airport__3VT7M\"><b class=\"route_time__-2Z1T\">12:50</b><i class=\"route_code__3WUFO\">GMP</i></span><span class=\"route_airport__3VT7M\"><b class=\"route_time__-2Z1T\">14:00</b><i class=\"route_code__3WUFO\">CJU</i></span><i class=\"route_info__1RhUH\">01시간 10분</i></div></div></div><button class=\"domestic_select_schedule__xWQ-K\" type=\"button\"></button><div class=\"domestic_prices__3N88F\"><div class=\"domestic_item__2B--k\"><i class=\"domestic_type__30RSq\">일반석</i><b class=\"domestic_price__1qAgw\"><span class=\"domestic_txt__2YFi_\">편도 </span><i class=\"domestic_num__2roTW\">132,200</i><span class=\"unit\">원~</span></b></div><div class=\"domestic_item_promotion__2q5bH\"><i class=\"domestic_type__30RSq\">삼성카드 결제시 7.1% 캐시백</i><b class=\"domestic_price__1qAgw\"><span class=\"domestic_txt__2YFi_\">편도 </span><i class=\"domestic_num__2roTW\">123,480</i><span class=\"unit\">원~</span></b></div></div></div></div>,\n",
       " <div class=\"domestic_Flight__sK0eA result\"><div class=\"domestic_inner__15-bD\"><div class=\"domestic_schedule__1Whiq\"><div class=\"domestic_item__2B--k\"><div class=\"heading\"><div class=\"airline\"><div class=\"logos\"><img alt=\"아시아나항공\" class=\"logo\" src=\"https://vertical.pstatic.net/vertical/static/flight/airlines/OZ.png\"/></div><b class=\"name\">아시아나항공</b></div><div class=\"info\"><i class=\"npay\">1%적립</i><div class=\"domestic_PromotionBadge__2aHzU\"><i aria-expanded=\"false\" class=\"domestic_badge__20kwD\" role=\"button\">이벤트혜택</i><p class=\"domestic_layer__2cpTz\"><span class=\"domestic_txt__2YFi_\">네이버페이 결제시 <i class=\"npaypoint\" title=\"npaypoint\"></i>1%+1,500원 적립</span></p></div></div></div><div class=\"route_Route__2UInh\"><span class=\"route_airport__3VT7M\"><b class=\"route_time__-2Z1T\">12:50</b><i class=\"route_code__3WUFO\">GMP</i></span><span class=\"route_airport__3VT7M\"><b class=\"route_time__-2Z1T\">13:55</b><i class=\"route_code__3WUFO\">CJU</i></span><i class=\"route_info__1RhUH\">01시간 05분</i></div></div></div><button class=\"domestic_select_schedule__xWQ-K\" type=\"button\"></button><div class=\"domestic_prices__3N88F\"><div class=\"domestic_item__2B--k\"><i class=\"domestic_type__30RSq\">일반석</i><b class=\"domestic_price__1qAgw\"><span class=\"domestic_txt__2YFi_\">편도 </span><i class=\"domestic_num__2roTW\">147,000</i><span class=\"unit\">원~</span></b></div><div class=\"domestic_item_promotion__2q5bH\"><i class=\"domestic_type__30RSq\">삼성카드 결제시 4.5% 캐시백</i><b class=\"domestic_price__1qAgw\"><span class=\"domestic_txt__2YFi_\">편도 </span><i class=\"domestic_num__2roTW\">140,400</i><span class=\"unit\">원~</span></b></div></div></div></div>,\n",
       " <div class=\"domestic_Flight__sK0eA result\"><div class=\"domestic_inner__15-bD\"><div class=\"domestic_schedule__1Whiq\"><div class=\"domestic_item__2B--k\"><div class=\"heading\"><div class=\"airline\"><div class=\"logos\"><img alt=\"티웨이항공\" class=\"logo\" src=\"https://vertical.pstatic.net/vertical/static/flight/airlines/TW.png\"/></div><b class=\"name\">티웨이항공</b></div><div class=\"info\"><i class=\"npay\">1%적립</i><div class=\"domestic_PromotionBadge__2aHzU\"><i aria-expanded=\"false\" class=\"domestic_badge__20kwD\" role=\"button\">이벤트혜택</i><p class=\"domestic_layer__2cpTz\"><span class=\"domestic_txt__2YFi_\">네이버페이 결제시 <i class=\"npaypoint\" title=\"npaypoint\"></i>1%+1,500원 적립</span></p></div></div></div><div class=\"route_Route__2UInh\"><span class=\"route_airport__3VT7M\"><b class=\"route_time__-2Z1T\">13:05</b><i class=\"route_code__3WUFO\">GMP</i></span><span class=\"route_airport__3VT7M\"><b class=\"route_time__-2Z1T\">14:15</b><i class=\"route_code__3WUFO\">CJU</i></span><i class=\"route_info__1RhUH\">01시간 10분</i></div></div></div><button class=\"domestic_select_schedule__xWQ-K\" type=\"button\"></button><div class=\"domestic_prices__3N88F\"><div class=\"domestic_item__2B--k\"><i class=\"domestic_type__30RSq\">할인석</i><b class=\"domestic_price__1qAgw\"><span class=\"domestic_txt__2YFi_\">편도 </span><i class=\"domestic_num__2roTW\">116,100</i><span class=\"unit\">원~</span></b></div><div class=\"domestic_item_promotion__2q5bH\"><i class=\"domestic_type__30RSq\">삼성카드 결제시 7.1% 캐시백</i><b class=\"domestic_price__1qAgw\"><span class=\"domestic_txt__2YFi_\">편도 </span><i class=\"domestic_num__2roTW\">108,530</i><span class=\"unit\">원~</span></b></div></div></div></div>,\n",
       " <div class=\"domestic_Flight__sK0eA result\"><div class=\"domestic_inner__15-bD\"><div class=\"domestic_schedule__1Whiq\"><div class=\"domestic_item__2B--k\"><div class=\"heading\"><div class=\"airline\"><div class=\"logos\"><img alt=\"티웨이항공\" class=\"logo\" src=\"https://vertical.pstatic.net/vertical/static/flight/airlines/TW.png\"/></div><b class=\"name\">티웨이항공</b></div><div class=\"info\"><i class=\"npay\">1%적립</i><div class=\"domestic_PromotionBadge__2aHzU\"><i aria-expanded=\"false\" class=\"domestic_badge__20kwD\" role=\"button\">이벤트혜택</i><p class=\"domestic_layer__2cpTz\"><span class=\"domestic_txt__2YFi_\">네이버페이 결제시 <i class=\"npaypoint\" title=\"npaypoint\"></i>1%+1,500원 적립</span></p></div></div></div><div class=\"route_Route__2UInh\"><span class=\"route_airport__3VT7M\"><b class=\"route_time__-2Z1T\">13:05</b><i class=\"route_code__3WUFO\">GMP</i></span><span class=\"route_airport__3VT7M\"><b class=\"route_time__-2Z1T\">14:15</b><i class=\"route_code__3WUFO\">CJU</i></span><i class=\"route_info__1RhUH\">01시간 10분</i></div></div></div><button class=\"domestic_select_schedule__xWQ-K\" type=\"button\"></button><div class=\"domestic_prices__3N88F\"><div class=\"domestic_item__2B--k\"><i class=\"domestic_type__30RSq\">일반석</i><b class=\"domestic_price__1qAgw\"><span class=\"domestic_txt__2YFi_\">편도 </span><i class=\"domestic_num__2roTW\">132,200</i><span class=\"unit\">원~</span></b></div><div class=\"domestic_item_promotion__2q5bH\"><i class=\"domestic_type__30RSq\">삼성카드 결제시 7.1% 캐시백</i><b class=\"domestic_price__1qAgw\"><span class=\"domestic_txt__2YFi_\">편도 </span><i class=\"domestic_num__2roTW\">123,480</i><span class=\"unit\">원~</span></b></div></div></div></div>,\n",
       " <div class=\"domestic_Flight__sK0eA result\"><div class=\"domestic_inner__15-bD\"><div class=\"domestic_schedule__1Whiq\"><div class=\"domestic_item__2B--k\"><div class=\"heading\"><div class=\"airline\"><div class=\"logos\"><img alt=\"티웨이항공\" class=\"logo\" src=\"https://vertical.pstatic.net/vertical/static/flight/airlines/TW.png\"/></div><b class=\"name\">티웨이항공</b></div><div class=\"info\"><i class=\"npay\">1%적립</i><div class=\"domestic_PromotionBadge__2aHzU\"><i aria-expanded=\"false\" class=\"domestic_badge__20kwD\" role=\"button\">이벤트혜택</i><p class=\"domestic_layer__2cpTz\"><span class=\"domestic_txt__2YFi_\">네이버페이 결제시 <i class=\"npaypoint\" title=\"npaypoint\"></i>1%+1,500원 적립</span></p></div></div></div><div class=\"route_Route__2UInh\"><span class=\"route_airport__3VT7M\"><b class=\"route_time__-2Z1T\">13:05</b><i class=\"route_code__3WUFO\">GMP</i></span><span class=\"route_airport__3VT7M\"><b class=\"route_time__-2Z1T\">14:15</b><i class=\"route_code__3WUFO\">CJU</i></span><i class=\"route_info__1RhUH\">01시간 10분</i></div></div></div><button class=\"domestic_select_schedule__xWQ-K\" type=\"button\"></button><div class=\"domestic_prices__3N88F\"><div class=\"domestic_item__2B--k\"><i class=\"domestic_type__30RSq\">비즈니스석</i><b class=\"domestic_price__1qAgw\"><span class=\"domestic_txt__2YFi_\">편도 </span><i class=\"domestic_num__2roTW\">189,200</i><span class=\"unit\">원~</span></b></div><div class=\"domestic_item_promotion__2q5bH\"><i class=\"domestic_type__30RSq\">삼성카드 결제시 7.1% 캐시백</i><b class=\"domestic_price__1qAgw\"><span class=\"domestic_txt__2YFi_\">편도 </span><i class=\"domestic_num__2roTW\">176,410</i><span class=\"unit\">원~</span></b></div></div></div></div>,\n",
       " <div class=\"domestic_Flight__sK0eA result\"><div class=\"domestic_inner__15-bD\"><div class=\"domestic_schedule__1Whiq\"><div class=\"domestic_item__2B--k\"><div class=\"heading\"><div class=\"airline\"><div class=\"logos\"><img alt=\"제주항공\" class=\"logo\" src=\"https://vertical.pstatic.net/vertical/static/flight/airlines/7C.png\"/></div><b class=\"name\">제주항공</b></div><div class=\"info\"><i class=\"npay\">1%적립</i><div class=\"domestic_PromotionBadge__2aHzU\"><i aria-expanded=\"false\" class=\"domestic_badge__20kwD\" role=\"button\">이벤트혜택</i><p class=\"domestic_layer__2cpTz\"><span class=\"domestic_txt__2YFi_\">네이버페이 결제시 <i class=\"npaypoint\" title=\"npaypoint\"></i>1%+1,500원 적립</span></p></div></div></div><div class=\"route_Route__2UInh\"><span class=\"route_airport__3VT7M\"><b class=\"route_time__-2Z1T\">13:15</b><i class=\"route_code__3WUFO\">GMP</i></span><span class=\"route_airport__3VT7M\"><b class=\"route_time__-2Z1T\">14:25</b><i class=\"route_code__3WUFO\">CJU</i></span><i class=\"route_info__1RhUH\">01시간 10분</i></div></div></div><button class=\"domestic_select_schedule__xWQ-K\" type=\"button\"></button><div class=\"domestic_prices__3N88F\"><div class=\"domestic_item__2B--k\"><i class=\"domestic_type__30RSq\">할인석</i><b class=\"domestic_price__1qAgw\"><span class=\"domestic_txt__2YFi_\">편도 </span><i class=\"domestic_num__2roTW\">110,900</i><span class=\"unit\">원~</span></b></div><div class=\"domestic_item_promotion__2q5bH\"><i class=\"domestic_type__30RSq\">삼성카드 결제시 6.9% 캐시백</i><b class=\"domestic_price__1qAgw\"><span class=\"domestic_txt__2YFi_\">편도 </span><i class=\"domestic_num__2roTW\">103,280</i><span class=\"unit\">원~</span></b></div></div></div></div>,\n",
       " <div class=\"domestic_Flight__sK0eA result\"><div class=\"domestic_inner__15-bD\"><div class=\"domestic_schedule__1Whiq\"><div class=\"domestic_item__2B--k\"><div class=\"heading\"><div class=\"airline\"><div class=\"logos\"><img alt=\"제주항공\" class=\"logo\" src=\"https://vertical.pstatic.net/vertical/static/flight/airlines/7C.png\"/></div><b class=\"name\">제주항공</b></div><div class=\"info\"><i class=\"npay\">1%적립</i><div class=\"domestic_PromotionBadge__2aHzU\"><i aria-expanded=\"false\" class=\"domestic_badge__20kwD\" role=\"button\">이벤트혜택</i><p class=\"domestic_layer__2cpTz\"><span class=\"domestic_txt__2YFi_\">네이버페이 결제시 <i class=\"npaypoint\" title=\"npaypoint\"></i>1%+1,500원 적립</span></p></div></div></div><div class=\"route_Route__2UInh\"><span class=\"route_airport__3VT7M\"><b class=\"route_time__-2Z1T\">13:15</b><i class=\"route_code__3WUFO\">GMP</i></span><span class=\"route_airport__3VT7M\"><b class=\"route_time__-2Z1T\">14:25</b><i class=\"route_code__3WUFO\">CJU</i></span><i class=\"route_info__1RhUH\">01시간 10분</i></div></div></div><button class=\"domestic_select_schedule__xWQ-K\" type=\"button\"></button><div class=\"domestic_prices__3N88F\"><div class=\"domestic_item__2B--k\"><i class=\"domestic_type__30RSq\">일반석</i><b class=\"domestic_price__1qAgw\"><span class=\"domestic_txt__2YFi_\">편도 </span><i class=\"domestic_num__2roTW\">133,500</i><span class=\"unit\">원~</span></b></div><div class=\"domestic_item_promotion__2q5bH\"><i class=\"domestic_type__30RSq\">삼성카드 결제시 6.9% 캐시백</i><b class=\"domestic_price__1qAgw\"><span class=\"domestic_txt__2YFi_\">편도 </span><i class=\"domestic_num__2roTW\">124,310</i><span class=\"unit\">원~</span></b></div></div></div></div>,\n",
       " <div class=\"domestic_Flight__sK0eA result\"><div class=\"domestic_inner__15-bD\"><div class=\"domestic_schedule__1Whiq\"><div class=\"domestic_item__2B--k\"><div class=\"heading\"><div class=\"airline\"><div class=\"logos\"><img alt=\"진에어\" class=\"logo\" src=\"https://vertical.pstatic.net/vertical/static/flight/airlines/LJ.png\"/></div><b class=\"name\">진에어</b></div><div class=\"info\"><i class=\"npay\">1%적립</i><div class=\"domestic_PromotionBadge__2aHzU\"><i aria-expanded=\"false\" class=\"domestic_badge__20kwD\" role=\"button\">이벤트혜택</i><p class=\"domestic_layer__2cpTz\"><span class=\"domestic_txt__2YFi_\">네이버페이 결제시 <i class=\"npaypoint\" title=\"npaypoint\"></i>1%+1,500원 적립</span></p></div></div></div><div class=\"route_Route__2UInh\"><span class=\"route_airport__3VT7M\"><b class=\"route_time__-2Z1T\">13:25</b><i class=\"route_code__3WUFO\">GMP</i></span><span class=\"route_airport__3VT7M\"><b class=\"route_time__-2Z1T\">14:40</b><i class=\"route_code__3WUFO\">CJU</i></span><i class=\"route_info__1RhUH\">01시간 15분</i></div></div></div><button class=\"domestic_select_schedule__xWQ-K\" type=\"button\"></button><div class=\"domestic_prices__3N88F\"><div class=\"domestic_item__2B--k\"><i class=\"domestic_type__30RSq\">할인석</i><b class=\"domestic_price__1qAgw\"><span class=\"domestic_txt__2YFi_\">편도 </span><i class=\"domestic_num__2roTW\">108,900</i><span class=\"unit\">원~</span></b></div><div class=\"domestic_item_promotion__2q5bH\"><i class=\"domestic_type__30RSq\">삼성카드 결제시 5.9% 캐시백</i><b class=\"domestic_price__1qAgw\"><span class=\"domestic_txt__2YFi_\">편도 </span><i class=\"domestic_num__2roTW\">102,510</i><span class=\"unit\">원~</span></b></div></div></div></div>,\n",
       " <div class=\"domestic_Flight__sK0eA result\"><div class=\"domestic_inner__15-bD\"><div class=\"domestic_schedule__1Whiq\"><div class=\"domestic_item__2B--k\"><div class=\"heading\"><div class=\"airline\"><div class=\"logos\"><img alt=\"아시아나항공\" class=\"logo\" src=\"https://vertical.pstatic.net/vertical/static/flight/airlines/OZ.png\"/></div><b class=\"name\">아시아나항공</b></div><div class=\"info\"><i class=\"npay\">1%적립</i><div class=\"domestic_PromotionBadge__2aHzU\"><i aria-expanded=\"false\" class=\"domestic_badge__20kwD\" role=\"button\">이벤트혜택</i><p class=\"domestic_layer__2cpTz\"><span class=\"domestic_txt__2YFi_\">네이버페이 결제시 <i class=\"npaypoint\" title=\"npaypoint\"></i>1%+1,500원 적립</span></p></div></div></div><div class=\"route_Route__2UInh\"><span class=\"route_airport__3VT7M\"><b class=\"route_time__-2Z1T\">13:25</b><i class=\"route_code__3WUFO\">GMP</i></span><span class=\"route_airport__3VT7M\"><b class=\"route_time__-2Z1T\">14:30</b><i class=\"route_code__3WUFO\">CJU</i></span><i class=\"route_info__1RhUH\">01시간 05분</i></div></div></div><button class=\"domestic_select_schedule__xWQ-K\" type=\"button\"></button><div class=\"domestic_prices__3N88F\"><div class=\"domestic_item__2B--k\"><i class=\"domestic_type__30RSq\">할인석</i><b class=\"domestic_price__1qAgw\"><span class=\"domestic_txt__2YFi_\">편도 </span><i class=\"domestic_num__2roTW\">117,000</i><span class=\"unit\">원~</span></b></div><div class=\"domestic_item_promotion__2q5bH\"><i class=\"domestic_type__30RSq\">삼성카드 결제시 4.5% 캐시백</i><b class=\"domestic_price__1qAgw\"><span class=\"domestic_txt__2YFi_\">편도 </span><i class=\"domestic_num__2roTW\">111,750</i><span class=\"unit\">원~</span></b></div></div></div></div>,\n",
       " <div class=\"domestic_Flight__sK0eA result\"><div class=\"domestic_inner__15-bD\"><div class=\"domestic_schedule__1Whiq\"><div class=\"domestic_item__2B--k\"><div class=\"heading\"><div class=\"airline\"><div class=\"logos\"><img alt=\"진에어\" class=\"logo\" src=\"https://vertical.pstatic.net/vertical/static/flight/airlines/LJ.png\"/></div><b class=\"name\">진에어</b></div><div class=\"info\"><i class=\"npay\">1%적립</i><div class=\"domestic_PromotionBadge__2aHzU\"><i aria-expanded=\"false\" class=\"domestic_badge__20kwD\" role=\"button\">이벤트혜택</i><p class=\"domestic_layer__2cpTz\"><span class=\"domestic_txt__2YFi_\">네이버페이 결제시 <i class=\"npaypoint\" title=\"npaypoint\"></i>1%+1,500원 적립</span></p></div></div></div><div class=\"route_Route__2UInh\"><span class=\"route_airport__3VT7M\"><b class=\"route_time__-2Z1T\">13:25</b><i class=\"route_code__3WUFO\">GMP</i></span><span class=\"route_airport__3VT7M\"><b class=\"route_time__-2Z1T\">14:40</b><i class=\"route_code__3WUFO\">CJU</i></span><i class=\"route_info__1RhUH\">01시간 15분</i></div></div></div><button class=\"domestic_select_schedule__xWQ-K\" type=\"button\"></button><div class=\"domestic_prices__3N88F\"><div class=\"domestic_item__2B--k\"><i class=\"domestic_type__30RSq\">일반석</i><b class=\"domestic_price__1qAgw\"><span class=\"domestic_txt__2YFi_\">편도 </span><i class=\"domestic_num__2roTW\">134,000</i><span class=\"unit\">원~</span></b></div><div class=\"domestic_item_promotion__2q5bH\"><i class=\"domestic_type__30RSq\">삼성카드 결제시 5.9% 캐시백</i><b class=\"domestic_price__1qAgw\"><span class=\"domestic_txt__2YFi_\">편도 </span><i class=\"domestic_num__2roTW\">126,120</i><span class=\"unit\">원~</span></b></div></div></div></div>,\n",
       " <div class=\"domestic_Flight__sK0eA result\"><div class=\"domestic_inner__15-bD\"><div class=\"domestic_schedule__1Whiq\"><div class=\"domestic_item__2B--k\"><div class=\"heading\"><div class=\"airline\"><div class=\"logos\"><img alt=\"아시아나항공\" class=\"logo\" src=\"https://vertical.pstatic.net/vertical/static/flight/airlines/OZ.png\"/></div><b class=\"name\">아시아나항공</b></div><div class=\"info\"><i class=\"npay\">1%적립</i><div class=\"domestic_PromotionBadge__2aHzU\"><i aria-expanded=\"false\" class=\"domestic_badge__20kwD\" role=\"button\">이벤트혜택</i><p class=\"domestic_layer__2cpTz\"><span class=\"domestic_txt__2YFi_\">네이버페이 결제시 <i class=\"npaypoint\" title=\"npaypoint\"></i>1%+1,500원 적립</span></p></div></div></div><div class=\"route_Route__2UInh\"><span class=\"route_airport__3VT7M\"><b class=\"route_time__-2Z1T\">13:25</b><i class=\"route_code__3WUFO\">GMP</i></span><span class=\"route_airport__3VT7M\"><b class=\"route_time__-2Z1T\">14:30</b><i class=\"route_code__3WUFO\">CJU</i></span><i class=\"route_info__1RhUH\">01시간 05분</i></div></div></div><button class=\"domestic_select_schedule__xWQ-K\" type=\"button\"></button><div class=\"domestic_prices__3N88F\"><div class=\"domestic_item__2B--k\"><i class=\"domestic_type__30RSq\">일반석</i><b class=\"domestic_price__1qAgw\"><span class=\"domestic_txt__2YFi_\">편도 </span><i class=\"domestic_num__2roTW\">147,000</i><span class=\"unit\">원~</span></b></div><div class=\"domestic_item_promotion__2q5bH\"><i class=\"domestic_type__30RSq\">삼성카드 결제시 4.5% 캐시백</i><b class=\"domestic_price__1qAgw\"><span class=\"domestic_txt__2YFi_\">편도 </span><i class=\"domestic_num__2roTW\">140,400</i><span class=\"unit\">원~</span></b></div></div></div></div>,\n",
       " <div class=\"domestic_Flight__sK0eA result\"><div class=\"domestic_inner__15-bD\"><div class=\"domestic_schedule__1Whiq\"><div class=\"domestic_item__2B--k\"><div class=\"heading\"><div class=\"airline\"><div class=\"logos\"><img alt=\"제주항공\" class=\"logo\" src=\"https://vertical.pstatic.net/vertical/static/flight/airlines/7C.png\"/></div><b class=\"name\">제주항공</b></div><div class=\"info\"><i class=\"npay\">1%적립</i><div class=\"domestic_PromotionBadge__2aHzU\"><i aria-expanded=\"false\" class=\"domestic_badge__20kwD\" role=\"button\">이벤트혜택</i><p class=\"domestic_layer__2cpTz\"><span class=\"domestic_txt__2YFi_\">네이버페이 결제시 <i class=\"npaypoint\" title=\"npaypoint\"></i>1%+1,500원 적립</span></p></div></div></div><div class=\"route_Route__2UInh\"><span class=\"route_airport__3VT7M\"><b class=\"route_time__-2Z1T\">13:30</b><i class=\"route_code__3WUFO\">GMP</i></span><span class=\"route_airport__3VT7M\"><b class=\"route_time__-2Z1T\">14:40</b><i class=\"route_code__3WUFO\">CJU</i></span><i class=\"route_info__1RhUH\">01시간 10분</i></div></div></div><button class=\"domestic_select_schedule__xWQ-K\" type=\"button\"></button><div class=\"domestic_prices__3N88F\"><div class=\"domestic_item__2B--k\"><i class=\"domestic_type__30RSq\">할인석</i><b class=\"domestic_price__1qAgw\"><span class=\"domestic_txt__2YFi_\">편도 </span><i class=\"domestic_num__2roTW\">110,900</i><span class=\"unit\">원~</span></b></div><div class=\"domestic_item_promotion__2q5bH\"><i class=\"domestic_type__30RSq\">삼성카드 결제시 6.9% 캐시백</i><b class=\"domestic_price__1qAgw\"><span class=\"domestic_txt__2YFi_\">편도 </span><i class=\"domestic_num__2roTW\">103,280</i><span class=\"unit\">원~</span></b></div></div></div></div>,\n",
       " <div class=\"domestic_Flight__sK0eA result\"><div class=\"domestic_inner__15-bD\"><div class=\"domestic_schedule__1Whiq\"><div class=\"domestic_item__2B--k\"><div class=\"heading\"><div class=\"airline\"><div class=\"logos\"><img alt=\"제주항공\" class=\"logo\" src=\"https://vertical.pstatic.net/vertical/static/flight/airlines/7C.png\"/></div><b class=\"name\">제주항공</b></div><div class=\"info\"><i class=\"npay\">1%적립</i><div class=\"domestic_PromotionBadge__2aHzU\"><i aria-expanded=\"false\" class=\"domestic_badge__20kwD\" role=\"button\">이벤트혜택</i><p class=\"domestic_layer__2cpTz\"><span class=\"domestic_txt__2YFi_\">네이버페이 결제시 <i class=\"npaypoint\" title=\"npaypoint\"></i>1%+1,500원 적립</span></p></div></div></div><div class=\"route_Route__2UInh\"><span class=\"route_airport__3VT7M\"><b class=\"route_time__-2Z1T\">13:30</b><i class=\"route_code__3WUFO\">GMP</i></span><span class=\"route_airport__3VT7M\"><b class=\"route_time__-2Z1T\">14:40</b><i class=\"route_code__3WUFO\">CJU</i></span><i class=\"route_info__1RhUH\">01시간 10분</i></div></div></div><button class=\"domestic_select_schedule__xWQ-K\" type=\"button\"></button><div class=\"domestic_prices__3N88F\"><div class=\"domestic_item__2B--k\"><i class=\"domestic_type__30RSq\">일반석</i><b class=\"domestic_price__1qAgw\"><span class=\"domestic_txt__2YFi_\">편도 </span><i class=\"domestic_num__2roTW\">133,500</i><span class=\"unit\">원~</span></b></div><div class=\"domestic_item_promotion__2q5bH\"><i class=\"domestic_type__30RSq\">삼성카드 결제시 6.9% 캐시백</i><b class=\"domestic_price__1qAgw\"><span class=\"domestic_txt__2YFi_\">편도 </span><i class=\"domestic_num__2roTW\">124,310</i><span class=\"unit\">원~</span></b></div></div></div></div>,\n",
       " <div class=\"domestic_Flight__sK0eA result\"><div class=\"domestic_inner__15-bD\"><div class=\"domestic_schedule__1Whiq\"><div class=\"domestic_item__2B--k\"><div class=\"heading\"><div class=\"airline\"><div class=\"logos\"><img alt=\"대한항공\" class=\"logo\" src=\"https://vertical.pstatic.net/vertical/static/flight/airlines/KE.png\"/></div><b class=\"name\">대한항공</b></div><div class=\"info\"></div></div><div class=\"route_Route__2UInh\"><span class=\"route_airport__3VT7M\"><b class=\"route_time__-2Z1T\">13:35</b><i class=\"route_code__3WUFO\">GMP</i></span><span class=\"route_airport__3VT7M\"><b class=\"route_time__-2Z1T\">14:45</b><i class=\"route_code__3WUFO\">CJU</i></span><i class=\"route_info__1RhUH\">01시간 10분</i></div></div></div><button class=\"domestic_select_schedule__xWQ-K\" type=\"button\"></button><div class=\"domestic_prices__3N88F\"><div class=\"domestic_item__2B--k\"><i class=\"domestic_type__30RSq\">일반석</i><b class=\"domestic_price__1qAgw\"><span class=\"domestic_txt__2YFi_\">편도 </span><i class=\"domestic_num__2roTW\">144,000</i><span class=\"unit\">원~</span></b></div><div class=\"domestic_item_promotion__2q5bH\"><i class=\"domestic_type__30RSq\">삼성카드 결제시 7.3% 캐시백</i><b class=\"domestic_price__1qAgw\"><span class=\"domestic_txt__2YFi_\">편도 </span><i class=\"domestic_num__2roTW\">133,560</i><span class=\"unit\">원~</span></b></div></div></div></div>,\n",
       " <div class=\"domestic_Flight__sK0eA result\"><div class=\"domestic_inner__15-bD\"><div class=\"domestic_schedule__1Whiq\"><div class=\"domestic_item__2B--k\"><div class=\"heading\"><div class=\"airline\"><div class=\"logos\"><img alt=\"아시아나항공\" class=\"logo\" src=\"https://vertical.pstatic.net/vertical/static/flight/airlines/OZ.png\"/></div><b class=\"name\">아시아나항공</b></div><div class=\"info\"><i class=\"npay\">1%적립</i><div class=\"domestic_PromotionBadge__2aHzU\"><i aria-expanded=\"false\" class=\"domestic_badge__20kwD\" role=\"button\">이벤트혜택</i><p class=\"domestic_layer__2cpTz\"><span class=\"domestic_txt__2YFi_\">네이버페이 결제시 <i class=\"npaypoint\" title=\"npaypoint\"></i>1%+1,500원 적립</span></p></div></div></div><div class=\"route_Route__2UInh\"><span class=\"route_airport__3VT7M\"><b class=\"route_time__-2Z1T\">13:55</b><i class=\"route_code__3WUFO\">GMP</i></span><span class=\"route_airport__3VT7M\"><b class=\"route_time__-2Z1T\">15:05</b><i class=\"route_code__3WUFO\">CJU</i></span><i class=\"route_info__1RhUH\">01시간 10분</i></div></div></div><button class=\"domestic_select_schedule__xWQ-K\" type=\"button\"></button><div class=\"domestic_prices__3N88F\"><div class=\"domestic_item__2B--k\"><i class=\"domestic_type__30RSq\">할인석</i><b class=\"domestic_price__1qAgw\"><span class=\"domestic_txt__2YFi_\">편도 </span><i class=\"domestic_num__2roTW\">111,000</i><span class=\"unit\">원~</span></b></div><div class=\"domestic_item_promotion__2q5bH\"><i class=\"domestic_type__30RSq\">삼성카드 결제시 4.5% 캐시백</i><b class=\"domestic_price__1qAgw\"><span class=\"domestic_txt__2YFi_\">편도 </span><i class=\"domestic_num__2roTW\">106,020</i><span class=\"unit\">원~</span></b></div></div></div></div>,\n",
       " <div class=\"domestic_Flight__sK0eA result\"><div class=\"domestic_inner__15-bD\"><div class=\"domestic_schedule__1Whiq\"><div class=\"domestic_item__2B--k\"><div class=\"heading\"><div class=\"airline\"><div class=\"logos\"><img alt=\"티웨이항공\" class=\"logo\" src=\"https://vertical.pstatic.net/vertical/static/flight/airlines/TW.png\"/></div><b class=\"name\">티웨이항공</b></div><div class=\"info\"><i class=\"npay\">1%적립</i><div class=\"domestic_PromotionBadge__2aHzU\"><i aria-expanded=\"false\" class=\"domestic_badge__20kwD\" role=\"button\">이벤트혜택</i><p class=\"domestic_layer__2cpTz\"><span class=\"domestic_txt__2YFi_\">네이버페이 결제시 <i class=\"npaypoint\" title=\"npaypoint\"></i>1%+1,500원 적립</span></p></div></div></div><div class=\"route_Route__2UInh\"><span class=\"route_airport__3VT7M\"><b class=\"route_time__-2Z1T\">13:55</b><i class=\"route_code__3WUFO\">GMP</i></span><span class=\"route_airport__3VT7M\"><b class=\"route_time__-2Z1T\">15:05</b><i class=\"route_code__3WUFO\">CJU</i></span><i class=\"route_info__1RhUH\">01시간 10분</i></div></div></div><button class=\"domestic_select_schedule__xWQ-K\" type=\"button\"></button><div class=\"domestic_prices__3N88F\"><div class=\"domestic_item__2B--k\"><i class=\"domestic_type__30RSq\">할인석</i><b class=\"domestic_price__1qAgw\"><span class=\"domestic_txt__2YFi_\">편도 </span><i class=\"domestic_num__2roTW\">116,100</i><span class=\"unit\">원~</span></b></div><div class=\"domestic_item_promotion__2q5bH\"><i class=\"domestic_type__30RSq\">삼성카드 결제시 7.1% 캐시백</i><b class=\"domestic_price__1qAgw\"><span class=\"domestic_txt__2YFi_\">편도 </span><i class=\"domestic_num__2roTW\">108,530</i><span class=\"unit\">원~</span></b></div></div></div></div>,\n",
       " <div class=\"domestic_Flight__sK0eA result\"><div class=\"domestic_inner__15-bD\"><div class=\"domestic_schedule__1Whiq\"><div class=\"domestic_item__2B--k\"><div class=\"heading\"><div class=\"airline\"><div class=\"logos\"><img alt=\"티웨이항공\" class=\"logo\" src=\"https://vertical.pstatic.net/vertical/static/flight/airlines/TW.png\"/></div><b class=\"name\">티웨이항공</b></div><div class=\"info\"><i class=\"npay\">1%적립</i><div class=\"domestic_PromotionBadge__2aHzU\"><i aria-expanded=\"false\" class=\"domestic_badge__20kwD\" role=\"button\">이벤트혜택</i><p class=\"domestic_layer__2cpTz\"><span class=\"domestic_txt__2YFi_\">네이버페이 결제시 <i class=\"npaypoint\" title=\"npaypoint\"></i>1%+1,500원 적립</span></p></div></div></div><div class=\"route_Route__2UInh\"><span class=\"route_airport__3VT7M\"><b class=\"route_time__-2Z1T\">13:55</b><i class=\"route_code__3WUFO\">GMP</i></span><span class=\"route_airport__3VT7M\"><b class=\"route_time__-2Z1T\">15:05</b><i class=\"route_code__3WUFO\">CJU</i></span><i class=\"route_info__1RhUH\">01시간 10분</i></div></div></div><button class=\"domestic_select_schedule__xWQ-K\" type=\"button\"></button><div class=\"domestic_prices__3N88F\"><div class=\"domestic_item__2B--k\"><i class=\"domestic_type__30RSq\">일반석</i><b class=\"domestic_price__1qAgw\"><span class=\"domestic_txt__2YFi_\">편도 </span><i class=\"domestic_num__2roTW\">132,200</i><span class=\"unit\">원~</span></b></div><div class=\"domestic_item_promotion__2q5bH\"><i class=\"domestic_type__30RSq\">삼성카드 결제시 7.1% 캐시백</i><b class=\"domestic_price__1qAgw\"><span class=\"domestic_txt__2YFi_\">편도 </span><i class=\"domestic_num__2roTW\">123,480</i><span class=\"unit\">원~</span></b></div></div></div></div>,\n",
       " <div class=\"domestic_Flight__sK0eA result\"><div class=\"domestic_inner__15-bD\"><div class=\"domestic_schedule__1Whiq\"><div class=\"domestic_item__2B--k\"><div class=\"heading\"><div class=\"airline\"><div class=\"logos\"><img alt=\"아시아나항공\" class=\"logo\" src=\"https://vertical.pstatic.net/vertical/static/flight/airlines/OZ.png\"/></div><b class=\"name\">아시아나항공</b></div><div class=\"info\"><i class=\"npay\">1%적립</i><div class=\"domestic_PromotionBadge__2aHzU\"><i aria-expanded=\"false\" class=\"domestic_badge__20kwD\" role=\"button\">이벤트혜택</i><p class=\"domestic_layer__2cpTz\"><span class=\"domestic_txt__2YFi_\">네이버페이 결제시 <i class=\"npaypoint\" title=\"npaypoint\"></i>1%+1,500원 적립</span></p></div></div></div><div class=\"route_Route__2UInh\"><span class=\"route_airport__3VT7M\"><b class=\"route_time__-2Z1T\">13:55</b><i class=\"route_code__3WUFO\">GMP</i></span><span class=\"route_airport__3VT7M\"><b class=\"route_time__-2Z1T\">15:05</b><i class=\"route_code__3WUFO\">CJU</i></span><i class=\"route_info__1RhUH\">01시간 10분</i></div></div></div><button class=\"domestic_select_schedule__xWQ-K\" type=\"button\"></button><div class=\"domestic_prices__3N88F\"><div class=\"domestic_item__2B--k\"><i class=\"domestic_type__30RSq\">일반석</i><b class=\"domestic_price__1qAgw\"><span class=\"domestic_txt__2YFi_\">편도 </span><i class=\"domestic_num__2roTW\">147,000</i><span class=\"unit\">원~</span></b></div><div class=\"domestic_item_promotion__2q5bH\"><i class=\"domestic_type__30RSq\">삼성카드 결제시 4.5% 캐시백</i><b class=\"domestic_price__1qAgw\"><span class=\"domestic_txt__2YFi_\">편도 </span><i class=\"domestic_num__2roTW\">140,400</i><span class=\"unit\">원~</span></b></div></div></div></div>,\n",
       " <div class=\"domestic_Flight__sK0eA result\"><div class=\"domestic_inner__15-bD\"><div class=\"domestic_schedule__1Whiq\"><div class=\"domestic_item__2B--k\"><div class=\"heading\"><div class=\"airline\"><div class=\"logos\"><img alt=\"진에어\" class=\"logo\" src=\"https://vertical.pstatic.net/vertical/static/flight/airlines/LJ.png\"/></div><b class=\"name\">진에어</b></div><div class=\"info\"><i class=\"npay\">1%적립</i><div class=\"domestic_PromotionBadge__2aHzU\"><i aria-expanded=\"false\" class=\"domestic_badge__20kwD\" role=\"button\">이벤트혜택</i><p class=\"domestic_layer__2cpTz\"><span class=\"domestic_txt__2YFi_\">네이버페이 결제시 <i class=\"npaypoint\" title=\"npaypoint\"></i>1%+1,500원 적립</span></p></div></div></div><div class=\"route_Route__2UInh\"><span class=\"route_airport__3VT7M\"><b class=\"route_time__-2Z1T\">14:05</b><i class=\"route_code__3WUFO\">GMP</i></span><span class=\"route_airport__3VT7M\"><b class=\"route_time__-2Z1T\">15:15</b><i class=\"route_code__3WUFO\">CJU</i></span><i class=\"route_info__1RhUH\">01시간 10분</i></div></div></div><button class=\"domestic_select_schedule__xWQ-K\" type=\"button\"></button><div class=\"domestic_prices__3N88F\"><div class=\"domestic_item__2B--k\"><i class=\"domestic_type__30RSq\">할인석</i><b class=\"domestic_price__1qAgw\"><span class=\"domestic_txt__2YFi_\">편도 </span><i class=\"domestic_num__2roTW\">108,900</i><span class=\"unit\">원~</span></b></div><div class=\"domestic_item_promotion__2q5bH\"><i class=\"domestic_type__30RSq\">삼성카드 결제시 5.9% 캐시백</i><b class=\"domestic_price__1qAgw\"><span class=\"domestic_txt__2YFi_\">편도 </span><i class=\"domestic_num__2roTW\">102,510</i><span class=\"unit\">원~</span></b></div></div></div></div>,\n",
       " <div class=\"domestic_Flight__sK0eA result\"><div class=\"domestic_inner__15-bD\"><div class=\"domestic_schedule__1Whiq\"><div class=\"domestic_item__2B--k\"><div class=\"heading\"><div class=\"airline\"><div class=\"logos\"><img alt=\"아시아나항공\" class=\"logo\" src=\"https://vertical.pstatic.net/vertical/static/flight/airlines/OZ.png\"/></div><b class=\"name\">아시아나항공</b></div><div class=\"info\"><i class=\"npay\">1%적립</i><div class=\"domestic_PromotionBadge__2aHzU\"><i aria-expanded=\"false\" class=\"domestic_badge__20kwD\" role=\"button\">이벤트혜택</i><p class=\"domestic_layer__2cpTz\"><span class=\"domestic_txt__2YFi_\">네이버페이 결제시 <i class=\"npaypoint\" title=\"npaypoint\"></i>1%+1,500원 적립</span></p></div></div></div><div class=\"route_Route__2UInh\"><span class=\"route_airport__3VT7M\"><b class=\"route_time__-2Z1T\">14:05</b><i class=\"route_code__3WUFO\">GMP</i></span><span class=\"route_airport__3VT7M\"><b class=\"route_time__-2Z1T\">15:10</b><i class=\"route_code__3WUFO\">CJU</i></span><i class=\"route_info__1RhUH\">01시간 05분</i></div></div></div><button class=\"domestic_select_schedule__xWQ-K\" type=\"button\"></button><div class=\"domestic_prices__3N88F\"><div class=\"domestic_item__2B--k\"><i class=\"domestic_type__30RSq\">할인석</i><b class=\"domestic_price__1qAgw\"><span class=\"domestic_txt__2YFi_\">편도 </span><i class=\"domestic_num__2roTW\">111,000</i><span class=\"unit\">원~</span></b></div><div class=\"domestic_item_promotion__2q5bH\"><i class=\"domestic_type__30RSq\">삼성카드 결제시 4.5% 캐시백</i><b class=\"domestic_price__1qAgw\"><span class=\"domestic_txt__2YFi_\">편도 </span><i class=\"domestic_num__2roTW\">106,020</i><span class=\"unit\">원~</span></b></div></div></div></div>,\n",
       " <div class=\"domestic_Flight__sK0eA result\"><div class=\"domestic_inner__15-bD\"><div class=\"domestic_schedule__1Whiq\"><div class=\"domestic_item__2B--k\"><div class=\"heading\"><div class=\"airline\"><div class=\"logos\"><img alt=\"진에어\" class=\"logo\" src=\"https://vertical.pstatic.net/vertical/static/flight/airlines/LJ.png\"/></div><b class=\"name\">진에어</b></div><div class=\"info\"><i class=\"npay\">1%적립</i><div class=\"domestic_PromotionBadge__2aHzU\"><i aria-expanded=\"false\" class=\"domestic_badge__20kwD\" role=\"button\">이벤트혜택</i><p class=\"domestic_layer__2cpTz\"><span class=\"domestic_txt__2YFi_\">네이버페이 결제시 <i class=\"npaypoint\" title=\"npaypoint\"></i>1%+1,500원 적립</span></p></div></div></div><div class=\"route_Route__2UInh\"><span class=\"route_airport__3VT7M\"><b class=\"route_time__-2Z1T\">14:05</b><i class=\"route_code__3WUFO\">GMP</i></span><span class=\"route_airport__3VT7M\"><b class=\"route_time__-2Z1T\">15:15</b><i class=\"route_code__3WUFO\">CJU</i></span><i class=\"route_info__1RhUH\">01시간 10분</i></div></div></div><button class=\"domestic_select_schedule__xWQ-K\" type=\"button\"></button><div class=\"domestic_prices__3N88F\"><div class=\"domestic_item__2B--k\"><i class=\"domestic_type__30RSq\">일반석</i><b class=\"domestic_price__1qAgw\"><span class=\"domestic_txt__2YFi_\">편도 </span><i class=\"domestic_num__2roTW\">134,000</i><span class=\"unit\">원~</span></b></div><div class=\"domestic_item_promotion__2q5bH\"><i class=\"domestic_type__30RSq\">삼성카드 결제시 5.9% 캐시백</i><b class=\"domestic_price__1qAgw\"><span class=\"domestic_txt__2YFi_\">편도 </span><i class=\"domestic_num__2roTW\">126,120</i><span class=\"unit\">원~</span></b></div></div></div></div>,\n",
       " <div class=\"domestic_Flight__sK0eA result\"><div class=\"domestic_inner__15-bD\"><div class=\"domestic_schedule__1Whiq\"><div class=\"domestic_item__2B--k\"><div class=\"heading\"><div class=\"airline\"><div class=\"logos\"><img alt=\"아시아나항공\" class=\"logo\" src=\"https://vertical.pstatic.net/vertical/static/flight/airlines/OZ.png\"/></div><b class=\"name\">아시아나항공</b></div><div class=\"info\"><i class=\"npay\">1%적립</i><div class=\"domestic_PromotionBadge__2aHzU\"><i aria-expanded=\"false\" class=\"domestic_badge__20kwD\" role=\"button\">이벤트혜택</i><p class=\"domestic_layer__2cpTz\"><span class=\"domestic_txt__2YFi_\">네이버페이 결제시 <i class=\"npaypoint\" title=\"npaypoint\"></i>1%+1,500원 적립</span></p></div></div></div><div class=\"route_Route__2UInh\"><span class=\"route_airport__3VT7M\"><b class=\"route_time__-2Z1T\">14:05</b><i class=\"route_code__3WUFO\">GMP</i></span><span class=\"route_airport__3VT7M\"><b class=\"route_time__-2Z1T\">15:10</b><i class=\"route_code__3WUFO\">CJU</i></span><i class=\"route_info__1RhUH\">01시간 05분</i></div></div></div><button class=\"domestic_select_schedule__xWQ-K\" type=\"button\"></button><div class=\"domestic_prices__3N88F\"><div class=\"domestic_item__2B--k\"><i class=\"domestic_type__30RSq\">일반석</i><b class=\"domestic_price__1qAgw\"><span class=\"domestic_txt__2YFi_\">편도 </span><i class=\"domestic_num__2roTW\">147,000</i><span class=\"unit\">원~</span></b></div><div class=\"domestic_item_promotion__2q5bH\"><i class=\"domestic_type__30RSq\">삼성카드 결제시 4.5% 캐시백</i><b class=\"domestic_price__1qAgw\"><span class=\"domestic_txt__2YFi_\">편도 </span><i class=\"domestic_num__2roTW\">140,400</i><span class=\"unit\">원~</span></b></div></div></div></div>,\n",
       " <div class=\"domestic_Flight__sK0eA result\"><div class=\"domestic_inner__15-bD\"><div class=\"domestic_schedule__1Whiq\"><div class=\"domestic_item__2B--k\"><div class=\"heading\"><div class=\"airline\"><div class=\"logos\"><img alt=\"대한항공\" class=\"logo\" src=\"https://vertical.pstatic.net/vertical/static/flight/airlines/KE.png\"/></div><b class=\"name\">대한항공</b></div><div class=\"info\"></div></div><div class=\"route_Route__2UInh\"><span class=\"route_airport__3VT7M\"><b class=\"route_time__-2Z1T\">14:10</b><i class=\"route_code__3WUFO\">GMP</i></span><span class=\"route_airport__3VT7M\"><b class=\"route_time__-2Z1T\">15:20</b><i class=\"route_code__3WUFO\">CJU</i></span><i class=\"route_info__1RhUH\">01시간 10분</i></div></div></div><button class=\"domestic_select_schedule__xWQ-K\" type=\"button\"></button><div class=\"domestic_prices__3N88F\"><div class=\"domestic_item__2B--k\"><i class=\"domestic_type__30RSq\">일반석</i><b class=\"domestic_price__1qAgw\"><span class=\"domestic_txt__2YFi_\">편도 </span><i class=\"domestic_num__2roTW\">144,000</i><span class=\"unit\">원~</span></b></div><div class=\"domestic_item_promotion__2q5bH\"><i class=\"domestic_type__30RSq\">삼성카드 결제시 7.3% 캐시백</i><b class=\"domestic_price__1qAgw\"><span class=\"domestic_txt__2YFi_\">편도 </span><i class=\"domestic_num__2roTW\">133,560</i><span class=\"unit\">원~</span></b></div></div></div></div>,\n",
       " <div class=\"domestic_Flight__sK0eA result\"><div class=\"domestic_inner__15-bD\"><div class=\"domestic_schedule__1Whiq\"><div class=\"domestic_item__2B--k\"><div class=\"heading\"><div class=\"airline\"><div class=\"logos\"><img alt=\"대한항공\" class=\"logo\" src=\"https://vertical.pstatic.net/vertical/static/flight/airlines/KE.png\"/></div><b class=\"name\">대한항공</b></div><div class=\"info\"></div></div><div class=\"route_Route__2UInh\"><span class=\"route_airport__3VT7M\"><b class=\"route_time__-2Z1T\">14:20</b><i class=\"route_code__3WUFO\">GMP</i></span><span class=\"route_airport__3VT7M\"><b class=\"route_time__-2Z1T\">15:30</b><i class=\"route_code__3WUFO\">CJU</i></span><i class=\"route_info__1RhUH\">01시간 10분</i></div></div></div><button class=\"domestic_select_schedule__xWQ-K\" type=\"button\"></button><div class=\"domestic_prices__3N88F\"><div class=\"domestic_item__2B--k\"><i class=\"domestic_type__30RSq\">할인석</i><b class=\"domestic_price__1qAgw\"><span class=\"domestic_txt__2YFi_\">편도 </span><i class=\"domestic_num__2roTW\">121,000</i><span class=\"unit\">원~</span></b></div><div class=\"domestic_item_promotion__2q5bH\"><i class=\"domestic_type__30RSq\">삼성카드 결제시 7.3% 캐시백</i><b class=\"domestic_price__1qAgw\"><span class=\"domestic_txt__2YFi_\">편도 </span><i class=\"domestic_num__2roTW\">112,240</i><span class=\"unit\">원~</span></b></div></div></div></div>,\n",
       " <div class=\"domestic_Flight__sK0eA result\"><div class=\"domestic_inner__15-bD\"><div class=\"domestic_schedule__1Whiq\"><div class=\"domestic_item__2B--k\"><div class=\"heading\"><div class=\"airline\"><div class=\"logos\"><img alt=\"아시아나항공\" class=\"logo\" src=\"https://vertical.pstatic.net/vertical/static/flight/airlines/OZ.png\"/></div><b class=\"name\">아시아나항공</b></div><div class=\"info\"><i class=\"npay\">1%적립</i><div class=\"domestic_PromotionBadge__2aHzU\"><i aria-expanded=\"false\" class=\"domestic_badge__20kwD\" role=\"button\">이벤트혜택</i><p class=\"domestic_layer__2cpTz\"><span class=\"domestic_txt__2YFi_\">네이버페이 결제시 <i class=\"npaypoint\" title=\"npaypoint\"></i>1%+1,500원 적립</span></p></div></div></div><div class=\"route_Route__2UInh\"><span class=\"route_airport__3VT7M\"><b class=\"route_time__-2Z1T\">14:25</b><i class=\"route_code__3WUFO\">GMP</i></span><span class=\"route_airport__3VT7M\"><b class=\"route_time__-2Z1T\">15:30</b><i class=\"route_code__3WUFO\">CJU</i></span><i class=\"route_info__1RhUH\">01시간 05분</i></div></div></div><button class=\"domestic_select_schedule__xWQ-K\" type=\"button\"></button><div class=\"domestic_prices__3N88F\"><div class=\"domestic_item__2B--k\"><i class=\"domestic_type__30RSq\">할인석</i><b class=\"domestic_price__1qAgw\"><span class=\"domestic_txt__2YFi_\">편도 </span><i class=\"domestic_num__2roTW\">111,000</i><span class=\"unit\">원~</span></b></div><div class=\"domestic_item_promotion__2q5bH\"><i class=\"domestic_type__30RSq\">삼성카드 결제시 4.5% 캐시백</i><b class=\"domestic_price__1qAgw\"><span class=\"domestic_txt__2YFi_\">편도 </span><i class=\"domestic_num__2roTW\">106,020</i><span class=\"unit\">원~</span></b></div></div></div></div>,\n",
       " <div class=\"domestic_Flight__sK0eA result\"><div class=\"domestic_inner__15-bD\"><div class=\"domestic_schedule__1Whiq\"><div class=\"domestic_item__2B--k\"><div class=\"heading\"><div class=\"airline\"><div class=\"logos\"><img alt=\"아시아나항공\" class=\"logo\" src=\"https://vertical.pstatic.net/vertical/static/flight/airlines/OZ.png\"/></div><b class=\"name\">아시아나항공</b></div><div class=\"info\"><i class=\"npay\">1%적립</i><div class=\"domestic_PromotionBadge__2aHzU\"><i aria-expanded=\"false\" class=\"domestic_badge__20kwD\" role=\"button\">이벤트혜택</i><p class=\"domestic_layer__2cpTz\"><span class=\"domestic_txt__2YFi_\">네이버페이 결제시 <i class=\"npaypoint\" title=\"npaypoint\"></i>1%+1,500원 적립</span></p></div></div></div><div class=\"route_Route__2UInh\"><span class=\"route_airport__3VT7M\"><b class=\"route_time__-2Z1T\">14:25</b><i class=\"route_code__3WUFO\">GMP</i></span><span class=\"route_airport__3VT7M\"><b class=\"route_time__-2Z1T\">15:30</b><i class=\"route_code__3WUFO\">CJU</i></span><i class=\"route_info__1RhUH\">01시간 05분</i></div></div></div><button class=\"domestic_select_schedule__xWQ-K\" type=\"button\"></button><div class=\"domestic_prices__3N88F\"><div class=\"domestic_item__2B--k\"><i class=\"domestic_type__30RSq\">일반석</i><b class=\"domestic_price__1qAgw\"><span class=\"domestic_txt__2YFi_\">편도 </span><i class=\"domestic_num__2roTW\">147,000</i><span class=\"unit\">원~</span></b></div><div class=\"domestic_item_promotion__2q5bH\"><i class=\"domestic_type__30RSq\">삼성카드 결제시 4.5% 캐시백</i><b class=\"domestic_price__1qAgw\"><span class=\"domestic_txt__2YFi_\">편도 </span><i class=\"domestic_num__2roTW\">140,400</i><span class=\"unit\">원~</span></b></div></div></div></div>,\n",
       " <div class=\"domestic_Flight__sK0eA result\"><div class=\"domestic_inner__15-bD\"><div class=\"domestic_schedule__1Whiq\"><div class=\"domestic_item__2B--k\"><div class=\"heading\"><div class=\"airline\"><div class=\"logos\"><img alt=\"티웨이항공\" class=\"logo\" src=\"https://vertical.pstatic.net/vertical/static/flight/airlines/TW.png\"/></div><b class=\"name\">티웨이항공</b></div><div class=\"info\"><i class=\"npay\">1%적립</i><div class=\"domestic_PromotionBadge__2aHzU\"><i aria-expanded=\"false\" class=\"domestic_badge__20kwD\" role=\"button\">이벤트혜택</i><p class=\"domestic_layer__2cpTz\"><span class=\"domestic_txt__2YFi_\">네이버페이 결제시 <i class=\"npaypoint\" title=\"npaypoint\"></i>1%+1,500원 적립</span></p></div></div></div><div class=\"route_Route__2UInh\"><span class=\"route_airport__3VT7M\"><b class=\"route_time__-2Z1T\">14:35</b><i class=\"route_code__3WUFO\">GMP</i></span><span class=\"route_airport__3VT7M\"><b class=\"route_time__-2Z1T\">15:45</b><i class=\"route_code__3WUFO\">CJU</i></span><i class=\"route_info__1RhUH\">01시간 10분</i></div></div></div><button class=\"domestic_select_schedule__xWQ-K\" type=\"button\"></button><div class=\"domestic_prices__3N88F\"><div class=\"domestic_item__2B--k\"><i class=\"domestic_type__30RSq\">할인석</i><b class=\"domestic_price__1qAgw\"><span class=\"domestic_txt__2YFi_\">편도 </span><i class=\"domestic_num__2roTW\">108,900</i><span class=\"unit\">원~</span></b></div><div class=\"domestic_item_promotion__2q5bH\"><i class=\"domestic_type__30RSq\">삼성카드 결제시 7.1% 캐시백</i><b class=\"domestic_price__1qAgw\"><span class=\"domestic_txt__2YFi_\">편도 </span><i class=\"domestic_num__2roTW\">102,960</i><span class=\"unit\">원~</span></b></div></div></div></div>,\n",
       " <div class=\"domestic_Flight__sK0eA result\"><div class=\"domestic_inner__15-bD\"><div class=\"domestic_schedule__1Whiq\"><div class=\"domestic_item__2B--k\"><div class=\"heading\"><div class=\"airline\"><div class=\"logos\"><img alt=\"티웨이항공\" class=\"logo\" src=\"https://vertical.pstatic.net/vertical/static/flight/airlines/TW.png\"/></div><b class=\"name\">티웨이항공</b></div><div class=\"info\"><i class=\"npay\">1%적립</i><div class=\"domestic_PromotionBadge__2aHzU\"><i aria-expanded=\"false\" class=\"domestic_badge__20kwD\" role=\"button\">이벤트혜택</i><p class=\"domestic_layer__2cpTz\"><span class=\"domestic_txt__2YFi_\">네이버페이 결제시 <i class=\"npaypoint\" title=\"npaypoint\"></i>1%+1,500원 적립</span></p></div></div></div><div class=\"route_Route__2UInh\"><span class=\"route_airport__3VT7M\"><b class=\"route_time__-2Z1T\">14:35</b><i class=\"route_code__3WUFO\">GMP</i></span><span class=\"route_airport__3VT7M\"><b class=\"route_time__-2Z1T\">15:45</b><i class=\"route_code__3WUFO\">CJU</i></span><i class=\"route_info__1RhUH\">01시간 10분</i></div></div></div><button class=\"domestic_select_schedule__xWQ-K\" type=\"button\"></button><div class=\"domestic_prices__3N88F\"><div class=\"domestic_item__2B--k\"><i class=\"domestic_type__30RSq\">일반석</i><b class=\"domestic_price__1qAgw\"><span class=\"domestic_txt__2YFi_\">편도 </span><i class=\"domestic_num__2roTW\">132,200</i><span class=\"unit\">원~</span></b></div><div class=\"domestic_item_promotion__2q5bH\"><i class=\"domestic_type__30RSq\">삼성카드 결제시 7.1% 캐시백</i><b class=\"domestic_price__1qAgw\"><span class=\"domestic_txt__2YFi_\">편도 </span><i class=\"domestic_num__2roTW\">123,480</i><span class=\"unit\">원~</span></b></div></div></div></div>,\n",
       " <div class=\"domestic_Flight__sK0eA result\"><div class=\"domestic_inner__15-bD\"><div class=\"domestic_schedule__1Whiq\"><div class=\"domestic_item__2B--k\"><div class=\"heading\"><div class=\"airline\"><div class=\"logos\"><img alt=\"진에어\" class=\"logo\" src=\"https://vertical.pstatic.net/vertical/static/flight/airlines/LJ.png\"/></div><b class=\"name\">진에어</b></div><div class=\"info\"><i class=\"npay\">1%적립</i><div class=\"domestic_PromotionBadge__2aHzU\"><i aria-expanded=\"false\" class=\"domestic_badge__20kwD\" role=\"button\">이벤트혜택</i><p class=\"domestic_layer__2cpTz\"><span class=\"domestic_txt__2YFi_\">네이버페이 결제시 <i class=\"npaypoint\" title=\"npaypoint\"></i>1%+1,500원 적립</span></p></div></div></div><div class=\"route_Route__2UInh\"><span class=\"route_airport__3VT7M\"><b class=\"route_time__-2Z1T\">14:40</b><i class=\"route_code__3WUFO\">GMP</i></span><span class=\"route_airport__3VT7M\"><b class=\"route_time__-2Z1T\">15:55</b><i class=\"route_code__3WUFO\">CJU</i></span><i class=\"route_info__1RhUH\">01시간 15분</i></div></div></div><button class=\"domestic_select_schedule__xWQ-K\" type=\"button\"></button><div class=\"domestic_prices__3N88F\"><div class=\"domestic_item__2B--k\"><i class=\"domestic_type__30RSq\">할인석</i><b class=\"domestic_price__1qAgw\"><span class=\"domestic_txt__2YFi_\">편도 </span><i class=\"domestic_num__2roTW\">104,900</i><span class=\"unit\">원~</span></b></div><div class=\"domestic_item_promotion__2q5bH\"><i class=\"domestic_type__30RSq\">롯데카드 결제시 5.8% 캐시백</i><b class=\"domestic_price__1qAgw\"><span class=\"domestic_txt__2YFi_\">편도 </span><i class=\"domestic_num__2roTW\">98,790</i><span class=\"unit\">원~</span></b></div></div></div></div>,\n",
       " <div class=\"domestic_Flight__sK0eA result\"><div class=\"domestic_inner__15-bD\"><div class=\"domestic_schedule__1Whiq\"><div class=\"domestic_item__2B--k\"><div class=\"heading\"><div class=\"airline\"><div class=\"logos\"><img alt=\"제주항공\" class=\"logo\" src=\"https://vertical.pstatic.net/vertical/static/flight/airlines/7C.png\"/></div><b class=\"name\">제주항공</b></div><div class=\"info\"><i class=\"npay\">1%적립</i><div class=\"domestic_PromotionBadge__2aHzU\"><i aria-expanded=\"false\" class=\"domestic_badge__20kwD\" role=\"button\">이벤트혜택</i><p class=\"domestic_layer__2cpTz\"><span class=\"domestic_txt__2YFi_\">네이버페이 결제시 <i class=\"npaypoint\" title=\"npaypoint\"></i>1%+1,500원 적립</span></p></div></div></div><div class=\"route_Route__2UInh\"><span class=\"route_airport__3VT7M\"><b class=\"route_time__-2Z1T\">14:40</b><i class=\"route_code__3WUFO\">GMP</i></span><span class=\"route_airport__3VT7M\"><b class=\"route_time__-2Z1T\">15:50</b><i class=\"route_code__3WUFO\">CJU</i></span><i class=\"route_info__1RhUH\">01시간 10분</i></div></div></div><button class=\"domestic_select_schedule__xWQ-K\" type=\"button\"></button><div class=\"domestic_prices__3N88F\"><div class=\"domestic_item__2B--k\"><i class=\"domestic_type__30RSq\">할인석</i><b class=\"domestic_price__1qAgw\"><span class=\"domestic_txt__2YFi_\">편도 </span><i class=\"domestic_num__2roTW\">117,900</i><span class=\"unit\">원~</span></b></div><div class=\"domestic_item_promotion__2q5bH\"><i class=\"domestic_type__30RSq\">삼성카드 결제시 6.9% 캐시백</i><b class=\"domestic_price__1qAgw\"><span class=\"domestic_txt__2YFi_\">편도 </span><i class=\"domestic_num__2roTW\">109,790</i><span class=\"unit\">원~</span></b></div></div></div></div>,\n",
       " <div class=\"domestic_Flight__sK0eA result\"><div class=\"domestic_inner__15-bD\"><div class=\"domestic_schedule__1Whiq\"><div class=\"domestic_item__2B--k\"><div class=\"heading\"><div class=\"airline\"><div class=\"logos\"><img alt=\"제주항공\" class=\"logo\" src=\"https://vertical.pstatic.net/vertical/static/flight/airlines/7C.png\"/></div><b class=\"name\">제주항공</b></div><div class=\"info\"><i class=\"npay\">1%적립</i><div class=\"domestic_PromotionBadge__2aHzU\"><i aria-expanded=\"false\" class=\"domestic_badge__20kwD\" role=\"button\">이벤트혜택</i><p class=\"domestic_layer__2cpTz\"><span class=\"domestic_txt__2YFi_\">네이버페이 결제시 <i class=\"npaypoint\" title=\"npaypoint\"></i>1%+1,500원 적립</span></p></div></div></div><div class=\"route_Route__2UInh\"><span class=\"route_airport__3VT7M\"><b class=\"route_time__-2Z1T\">14:40</b><i class=\"route_code__3WUFO\">GMP</i></span><span class=\"route_airport__3VT7M\"><b class=\"route_time__-2Z1T\">15:50</b><i class=\"route_code__3WUFO\">CJU</i></span><i class=\"route_info__1RhUH\">01시간 10분</i></div></div></div><button class=\"domestic_select_schedule__xWQ-K\" type=\"button\"></button><div class=\"domestic_prices__3N88F\"><div class=\"domestic_item__2B--k\"><i class=\"domestic_type__30RSq\">일반석</i><b class=\"domestic_price__1qAgw\"><span class=\"domestic_txt__2YFi_\">편도 </span><i class=\"domestic_num__2roTW\">133,500</i><span class=\"unit\">원~</span></b></div><div class=\"domestic_item_promotion__2q5bH\"><i class=\"domestic_type__30RSq\">삼성카드 결제시 6.9% 캐시백</i><b class=\"domestic_price__1qAgw\"><span class=\"domestic_txt__2YFi_\">편도 </span><i class=\"domestic_num__2roTW\">124,310</i><span class=\"unit\">원~</span></b></div></div></div></div>,\n",
       " <div class=\"domestic_Flight__sK0eA result\"><div class=\"domestic_inner__15-bD\"><div class=\"domestic_schedule__1Whiq\"><div class=\"domestic_item__2B--k\"><div class=\"heading\"><div class=\"airline\"><div class=\"logos\"><img alt=\"진에어\" class=\"logo\" src=\"https://vertical.pstatic.net/vertical/static/flight/airlines/LJ.png\"/></div><b class=\"name\">진에어</b></div><div class=\"info\"><i class=\"npay\">1%적립</i><div class=\"domestic_PromotionBadge__2aHzU\"><i aria-expanded=\"false\" class=\"domestic_badge__20kwD\" role=\"button\">이벤트혜택</i><p class=\"domestic_layer__2cpTz\"><span class=\"domestic_txt__2YFi_\">네이버페이 결제시 <i class=\"npaypoint\" title=\"npaypoint\"></i>1%+1,500원 적립</span></p></div></div></div><div class=\"route_Route__2UInh\"><span class=\"route_airport__3VT7M\"><b class=\"route_time__-2Z1T\">14:40</b><i class=\"route_code__3WUFO\">GMP</i></span><span class=\"route_airport__3VT7M\"><b class=\"route_time__-2Z1T\">15:55</b><i class=\"route_code__3WUFO\">CJU</i></span><i class=\"route_info__1RhUH\">01시간 15분</i></div></div></div><button class=\"domestic_select_schedule__xWQ-K\" type=\"button\"></button><div class=\"domestic_prices__3N88F\"><div class=\"domestic_item__2B--k\"><i class=\"domestic_type__30RSq\">일반석</i><b class=\"domestic_price__1qAgw\"><span class=\"domestic_txt__2YFi_\">편도 </span><i class=\"domestic_num__2roTW\">134,000</i><span class=\"unit\">원~</span></b></div><div class=\"domestic_item_promotion__2q5bH\"><i class=\"domestic_type__30RSq\">삼성카드 결제시 5.9% 캐시백</i><b class=\"domestic_price__1qAgw\"><span class=\"domestic_txt__2YFi_\">편도 </span><i class=\"domestic_num__2roTW\">126,120</i><span class=\"unit\">원~</span></b></div></div></div></div>,\n",
       " <div class=\"domestic_Flight__sK0eA result\"><div class=\"domestic_inner__15-bD\"><div class=\"domestic_schedule__1Whiq\"><div class=\"domestic_item__2B--k\"><div class=\"heading\"><div class=\"airline\"><div class=\"logos\"><img alt=\"대한항공\" class=\"logo\" src=\"https://vertical.pstatic.net/vertical/static/flight/airlines/KE.png\"/></div><b class=\"name\">대한항공</b></div><div class=\"info\"></div></div><div class=\"route_Route__2UInh\"><span class=\"route_airport__3VT7M\"><b class=\"route_time__-2Z1T\">14:50</b><i class=\"route_code__3WUFO\">GMP</i></span><span class=\"route_airport__3VT7M\"><b class=\"route_time__-2Z1T\">16:00</b><i class=\"route_code__3WUFO\">CJU</i></span><i class=\"route_info__1RhUH\">01시간 10분</i></div></div></div><button class=\"domestic_select_schedule__xWQ-K\" type=\"button\"></button><div class=\"domestic_prices__3N88F\"><div class=\"domestic_item__2B--k\"><i class=\"domestic_type__30RSq\">할인석</i><b class=\"domestic_price__1qAgw\"><span class=\"domestic_txt__2YFi_\">편도 </span><i class=\"domestic_num__2roTW\">121,000</i><span class=\"unit\">원~</span></b></div><div class=\"domestic_item_promotion__2q5bH\"><i class=\"domestic_type__30RSq\">삼성카드 결제시 7.3% 캐시백</i><b class=\"domestic_price__1qAgw\"><span class=\"domestic_txt__2YFi_\">편도 </span><i class=\"domestic_num__2roTW\">112,240</i><span class=\"unit\">원~</span></b></div></div></div></div>,\n",
       " <div class=\"domestic_Flight__sK0eA result\"><div class=\"domestic_inner__15-bD\"><div class=\"domestic_schedule__1Whiq\"><div class=\"domestic_item__2B--k\"><div class=\"heading\"><div class=\"airline\"><div class=\"logos\"><img alt=\"아시아나항공\" class=\"logo\" src=\"https://vertical.pstatic.net/vertical/static/flight/airlines/OZ.png\"/></div><b class=\"name\">아시아나항공</b></div><div class=\"info\"><i class=\"npay\">1%적립</i><div class=\"domestic_PromotionBadge__2aHzU\"><i aria-expanded=\"false\" class=\"domestic_badge__20kwD\" role=\"button\">이벤트혜택</i><p class=\"domestic_layer__2cpTz\"><span class=\"domestic_txt__2YFi_\">네이버페이 결제시 <i class=\"npaypoint\" title=\"npaypoint\"></i>1%+1,500원 적립</span></p></div></div></div><div class=\"route_Route__2UInh\"><span class=\"route_airport__3VT7M\"><b class=\"route_time__-2Z1T\">14:55</b><i class=\"route_code__3WUFO\">GMP</i></span><span class=\"route_airport__3VT7M\"><b class=\"route_time__-2Z1T\">16:05</b><i class=\"route_code__3WUFO\">CJU</i></span><i class=\"route_info__1RhUH\">01시간 10분</i></div></div></div><button class=\"domestic_select_schedule__xWQ-K\" type=\"button\"></button><div class=\"domestic_prices__3N88F\"><div class=\"domestic_item__2B--k\"><i class=\"domestic_type__30RSq\">할인석</i><b class=\"domestic_price__1qAgw\"><span class=\"domestic_txt__2YFi_\">편도 </span><i class=\"domestic_num__2roTW\">111,000</i><span class=\"unit\">원~</span></b></div><div class=\"domestic_item_promotion__2q5bH\"><i class=\"domestic_type__30RSq\">삼성카드 결제시 4.5% 캐시백</i><b class=\"domestic_price__1qAgw\"><span class=\"domestic_txt__2YFi_\">편도 </span><i class=\"domestic_num__2roTW\">106,020</i><span class=\"unit\">원~</span></b></div></div></div></div>,\n",
       " <div class=\"domestic_Flight__sK0eA result\"><div class=\"domestic_inner__15-bD\"><div class=\"domestic_schedule__1Whiq\"><div class=\"domestic_item__2B--k\"><div class=\"heading\"><div class=\"airline\"><div class=\"logos\"><img alt=\"아시아나항공\" class=\"logo\" src=\"https://vertical.pstatic.net/vertical/static/flight/airlines/OZ.png\"/></div><b class=\"name\">아시아나항공</b></div><div class=\"info\"><i class=\"npay\">1%적립</i><div class=\"domestic_PromotionBadge__2aHzU\"><i aria-expanded=\"false\" class=\"domestic_badge__20kwD\" role=\"button\">이벤트혜택</i><p class=\"domestic_layer__2cpTz\"><span class=\"domestic_txt__2YFi_\">네이버페이 결제시 <i class=\"npaypoint\" title=\"npaypoint\"></i>1%+1,500원 적립</span></p></div></div></div><div class=\"route_Route__2UInh\"><span class=\"route_airport__3VT7M\"><b class=\"route_time__-2Z1T\">14:55</b><i class=\"route_code__3WUFO\">GMP</i></span><span class=\"route_airport__3VT7M\"><b class=\"route_time__-2Z1T\">16:05</b><i class=\"route_code__3WUFO\">CJU</i></span><i class=\"route_info__1RhUH\">01시간 10분</i></div></div></div><button class=\"domestic_select_schedule__xWQ-K\" type=\"button\"></button><div class=\"domestic_prices__3N88F\"><div class=\"domestic_item__2B--k\"><i class=\"domestic_type__30RSq\">일반석</i><b class=\"domestic_price__1qAgw\"><span class=\"domestic_txt__2YFi_\">편도 </span><i class=\"domestic_num__2roTW\">147,000</i><span class=\"unit\">원~</span></b></div><div class=\"domestic_item_promotion__2q5bH\"><i class=\"domestic_type__30RSq\">삼성카드 결제시 4.5% 캐시백</i><b class=\"domestic_price__1qAgw\"><span class=\"domestic_txt__2YFi_\">편도 </span><i class=\"domestic_num__2roTW\">140,400</i><span class=\"unit\">원~</span></b></div></div></div></div>,\n",
       " <div class=\"domestic_Flight__sK0eA result\"><div class=\"domestic_inner__15-bD\"><div class=\"domestic_schedule__1Whiq\"><div class=\"domestic_item__2B--k\"><div class=\"heading\"><div class=\"airline\"><div class=\"logos\"><img alt=\"에어서울\" class=\"logo\" src=\"https://vertical.pstatic.net/vertical/static/flight/airlines/RS.png\"/></div><b class=\"name\">에어서울</b></div><div class=\"info\"></div></div><div class=\"route_Route__2UInh\"><span class=\"route_airport__3VT7M\"><b class=\"route_time__-2Z1T\">15:00</b><i class=\"route_code__3WUFO\">GMP</i></span><span class=\"route_airport__3VT7M\"><b class=\"route_time__-2Z1T\">16:00</b><i class=\"route_code__3WUFO\">CJU</i></span><i class=\"route_info__1RhUH\">01시간 00분</i></div></div></div><button class=\"domestic_select_schedule__xWQ-K\" type=\"button\"></button><div class=\"domestic_prices__3N88F\"><div class=\"domestic_item__2B--k\"><i class=\"domestic_type__30RSq\">할인석</i><b class=\"domestic_price__1qAgw\"><span class=\"domestic_txt__2YFi_\">편도 </span><i class=\"domestic_num__2roTW\">108,900</i><span class=\"unit\">원~</span></b></div><div class=\"domestic_item_promotion__2q5bH\"><i class=\"domestic_type__30RSq\">KB국민카드 결제시 3% 청구할인</i><b class=\"domestic_price__1qAgw\"><span class=\"domestic_txt__2YFi_\">편도 </span><i class=\"domestic_num__2roTW\">105,670</i><span class=\"unit\">원~</span></b></div></div></div></div>,\n",
       " <div class=\"domestic_Flight__sK0eA result\"><div class=\"domestic_inner__15-bD\"><div class=\"domestic_schedule__1Whiq\"><div class=\"domestic_item__2B--k\"><div class=\"heading\"><div class=\"airline\"><div class=\"logos\"><img alt=\"대한항공\" class=\"logo\" src=\"https://vertical.pstatic.net/vertical/static/flight/airlines/KE.png\"/></div><b class=\"name\">대한항공</b></div><div class=\"info\"></div></div><div class=\"route_Route__2UInh\"><span class=\"route_airport__3VT7M\"><b class=\"route_time__-2Z1T\">15:00</b><i class=\"route_code__3WUFO\">GMP</i></span><span class=\"route_airport__3VT7M\"><b class=\"route_time__-2Z1T\">16:10</b><i class=\"route_code__3WUFO\">CJU</i></span><i class=\"route_info__1RhUH\">01시간 10분</i></div></div></div><button class=\"domestic_select_schedule__xWQ-K\" type=\"button\"></button><div class=\"domestic_prices__3N88F\"><div class=\"domestic_item__2B--k\"><i class=\"domestic_type__30RSq\">할인석</i><b class=\"domestic_price__1qAgw\"><span class=\"domestic_txt__2YFi_\">편도 </span><i class=\"domestic_num__2roTW\">121,000</i><span class=\"unit\">원~</span></b></div><div class=\"domestic_item_promotion__2q5bH\"><i class=\"domestic_type__30RSq\">삼성카드 결제시 7.3% 캐시백</i><b class=\"domestic_price__1qAgw\"><span class=\"domestic_txt__2YFi_\">편도 </span><i class=\"domestic_num__2roTW\">112,240</i><span class=\"unit\">원~</span></b></div></div></div></div>,\n",
       " <div class=\"domestic_Flight__sK0eA result\"><div class=\"domestic_inner__15-bD\"><div class=\"domestic_schedule__1Whiq\"><div class=\"domestic_item__2B--k\"><div class=\"heading\"><div class=\"airline\"><div class=\"logos\"><img alt=\"에어서울\" class=\"logo\" src=\"https://vertical.pstatic.net/vertical/static/flight/airlines/RS.png\"/></div><b class=\"name\">에어서울</b></div><div class=\"info\"></div></div><div class=\"route_Route__2UInh\"><span class=\"route_airport__3VT7M\"><b class=\"route_time__-2Z1T\">15:00</b><i class=\"route_code__3WUFO\">GMP</i></span><span class=\"route_airport__3VT7M\"><b class=\"route_time__-2Z1T\">16:00</b><i class=\"route_code__3WUFO\">CJU</i></span><i class=\"route_info__1RhUH\">01시간 00분</i></div></div></div><button class=\"domestic_select_schedule__xWQ-K\" type=\"button\"></button><div class=\"domestic_prices__3N88F\"><div class=\"domestic_item__2B--k\"><i class=\"domestic_type__30RSq\">일반석</i><b class=\"domestic_price__1qAgw\"><span class=\"domestic_txt__2YFi_\">편도 </span><i class=\"domestic_num__2roTW\">134,000</i><span class=\"unit\">원~</span></b></div><div class=\"domestic_item_promotion__2q5bH\"><i class=\"domestic_type__30RSq\">삼성카드 결제시 3.8% 캐시백</i><b class=\"domestic_price__1qAgw\"><span class=\"domestic_txt__2YFi_\">편도 </span><i class=\"domestic_num__2roTW\">128,860</i><span class=\"unit\">원~</span></b></div></div></div></div>,\n",
       " <div class=\"domestic_Flight__sK0eA result\"><div class=\"domestic_inner__15-bD\"><div class=\"domestic_schedule__1Whiq\"><div class=\"domestic_item__2B--k\"><div class=\"heading\"><div class=\"airline\"><div class=\"logos\"><img alt=\"에어부산\" class=\"logo\" src=\"https://vertical.pstatic.net/vertical/static/flight/airlines/BX.png\"/></div><b class=\"name\">에어부산</b></div><div class=\"info\"></div></div><div class=\"route_Route__2UInh\"><span class=\"route_airport__3VT7M\"><b class=\"route_time__-2Z1T\">15:05</b><i class=\"route_code__3WUFO\">GMP</i></span><span class=\"route_airport__3VT7M\"><b class=\"route_time__-2Z1T\">16:15</b><i class=\"route_code__3WUFO\">CJU</i></span><i class=\"route_info__1RhUH\">01시간 10분</i></div></div></div><button class=\"domestic_select_schedule__xWQ-K\" type=\"button\"></button><div class=\"domestic_prices__3N88F\"><div class=\"domestic_item__2B--k\"><i class=\"domestic_type__30RSq\">할인석</i><b class=\"domestic_price__1qAgw\"><span class=\"domestic_txt__2YFi_\">편도 </span><i class=\"domestic_num__2roTW\">104,380</i><span class=\"unit\">원~</span></b></div><div class=\"domestic_item_promotion__2q5bH\"><i class=\"domestic_type__30RSq\">삼성카드 결제시 4.4% 캐시백</i><b class=\"domestic_price__1qAgw\"><span class=\"domestic_txt__2YFi_\">편도 </span><i class=\"domestic_num__2roTW\">99,830</i><span class=\"unit\">원~</span></b></div></div></div></div>,\n",
       " <div class=\"domestic_Flight__sK0eA result\"><div class=\"domestic_inner__15-bD\"><div class=\"domestic_schedule__1Whiq\"><div class=\"domestic_item__2B--k\"><div class=\"heading\"><div class=\"airline\"><div class=\"logos\"><img alt=\"아시아나항공\" class=\"logo\" src=\"https://vertical.pstatic.net/vertical/static/flight/airlines/OZ.png\"/></div><b class=\"name\">아시아나항공</b></div><div class=\"info\"><i class=\"npay\">1%적립</i><div class=\"domestic_PromotionBadge__2aHzU\"><i aria-expanded=\"false\" class=\"domestic_badge__20kwD\" role=\"button\">이벤트혜택</i><p class=\"domestic_layer__2cpTz\"><span class=\"domestic_txt__2YFi_\">네이버페이 결제시 <i class=\"npaypoint\" title=\"npaypoint\"></i>1%+1,500원 적립</span></p></div></div></div><div class=\"route_Route__2UInh\"><span class=\"route_airport__3VT7M\"><b class=\"route_time__-2Z1T\">15:05</b><i class=\"route_code__3WUFO\">GMP</i></span><span class=\"route_airport__3VT7M\"><b class=\"route_time__-2Z1T\">16:15</b><i class=\"route_code__3WUFO\">CJU</i></span><i class=\"route_info__1RhUH\">01시간 10분</i></div></div></div><button class=\"domestic_select_schedule__xWQ-K\" type=\"button\"></button><div class=\"domestic_prices__3N88F\"><div class=\"domestic_item__2B--k\"><i class=\"domestic_type__30RSq\">할인석</i><b class=\"domestic_price__1qAgw\"><span class=\"domestic_txt__2YFi_\">편도 </span><i class=\"domestic_num__2roTW\">111,000</i><span class=\"unit\">원~</span></b></div><div class=\"domestic_item_promotion__2q5bH\"><i class=\"domestic_type__30RSq\">삼성카드 결제시 4.5% 캐시백</i><b class=\"domestic_price__1qAgw\"><span class=\"domestic_txt__2YFi_\">편도 </span><i class=\"domestic_num__2roTW\">106,020</i><span class=\"unit\">원~</span></b></div></div></div></div>,\n",
       " <div class=\"domestic_Flight__sK0eA result\"><div class=\"domestic_inner__15-bD\"><div class=\"domestic_schedule__1Whiq\"><div class=\"domestic_item__2B--k\"><div class=\"heading\"><div class=\"airline\"><div class=\"logos\"><img alt=\"에어부산\" class=\"logo\" src=\"https://vertical.pstatic.net/vertical/static/flight/airlines/BX.png\"/></div><b class=\"name\">에어부산</b></div><div class=\"info\"></div></div><div class=\"route_Route__2UInh\"><span class=\"route_airport__3VT7M\"><b class=\"route_time__-2Z1T\">15:05</b><i class=\"route_code__3WUFO\">GMP</i></span><span class=\"route_airport__3VT7M\"><b class=\"route_time__-2Z1T\">16:15</b><i class=\"route_code__3WUFO\">CJU</i></span><i class=\"route_info__1RhUH\">01시간 10분</i></div></div></div><button class=\"domestic_select_schedule__xWQ-K\" type=\"button\"></button><div class=\"domestic_prices__3N88F\"><div class=\"domestic_item__2B--k\"><i class=\"domestic_type__30RSq\">일반석</i><b class=\"domestic_price__1qAgw\"><span class=\"domestic_txt__2YFi_\">편도 </span><i class=\"domestic_num__2roTW\">133,000</i><span class=\"unit\">원~</span></b></div><div class=\"domestic_item_promotion__2q5bH\"><i class=\"domestic_type__30RSq\">롯데카드 결제시 4.4% 캐시백</i><b class=\"domestic_price__1qAgw\"><span class=\"domestic_txt__2YFi_\">편도 </span><i class=\"domestic_num__2roTW\">127,160</i><span class=\"unit\">원~</span></b></div></div></div></div>,\n",
       " <div class=\"domestic_Flight__sK0eA result\"><div class=\"domestic_inner__15-bD\"><div class=\"domestic_schedule__1Whiq\"><div class=\"domestic_item__2B--k\"><div class=\"heading\"><div class=\"airline\"><div class=\"logos\"><img alt=\"아시아나항공\" class=\"logo\" src=\"https://vertical.pstatic.net/vertical/static/flight/airlines/OZ.png\"/></div><b class=\"name\">아시아나항공</b></div><div class=\"info\"><i class=\"npay\">1%적립</i><div class=\"domestic_PromotionBadge__2aHzU\"><i aria-expanded=\"false\" class=\"domestic_badge__20kwD\" role=\"button\">이벤트혜택</i><p class=\"domestic_layer__2cpTz\"><span class=\"domestic_txt__2YFi_\">네이버페이 결제시 <i class=\"npaypoint\" title=\"npaypoint\"></i>1%+1,500원 적립</span></p></div></div></div><div class=\"route_Route__2UInh\"><span class=\"route_airport__3VT7M\"><b class=\"route_time__-2Z1T\">15:05</b><i class=\"route_code__3WUFO\">GMP</i></span><span class=\"route_airport__3VT7M\"><b class=\"route_time__-2Z1T\">16:15</b><i class=\"route_code__3WUFO\">CJU</i></span><i class=\"route_info__1RhUH\">01시간 10분</i></div></div></div><button class=\"domestic_select_schedule__xWQ-K\" type=\"button\"></button><div class=\"domestic_prices__3N88F\"><div class=\"domestic_item__2B--k\"><i class=\"domestic_type__30RSq\">일반석</i><b class=\"domestic_price__1qAgw\"><span class=\"domestic_txt__2YFi_\">편도 </span><i class=\"domestic_num__2roTW\">147,000</i><span class=\"unit\">원~</span></b></div><div class=\"domestic_item_promotion__2q5bH\"><i class=\"domestic_type__30RSq\">삼성카드 결제시 4.5% 캐시백</i><b class=\"domestic_price__1qAgw\"><span class=\"domestic_txt__2YFi_\">편도 </span><i class=\"domestic_num__2roTW\">140,400</i><span class=\"unit\">원~</span></b></div></div></div></div>,\n",
       " <div class=\"domestic_Flight__sK0eA result\"><div class=\"domestic_inner__15-bD\"><div class=\"domestic_schedule__1Whiq\"><div class=\"domestic_item__2B--k\"><div class=\"heading\"><div class=\"airline\"><div class=\"logos\"><img alt=\"제주항공\" class=\"logo\" src=\"https://vertical.pstatic.net/vertical/static/flight/airlines/7C.png\"/></div><b class=\"name\">제주항공</b></div><div class=\"info\"><i class=\"npay\">1%적립</i><div class=\"domestic_PromotionBadge__2aHzU\"><i aria-expanded=\"false\" class=\"domestic_badge__20kwD\" role=\"button\">이벤트혜택</i><p class=\"domestic_layer__2cpTz\"><span class=\"domestic_txt__2YFi_\">네이버페이 결제시 <i class=\"npaypoint\" title=\"npaypoint\"></i>1%+1,500원 적립</span></p></div></div></div><div class=\"route_Route__2UInh\"><span class=\"route_airport__3VT7M\"><b class=\"route_time__-2Z1T\">15:10</b><i class=\"route_code__3WUFO\">GMP</i></span><span class=\"route_airport__3VT7M\"><b class=\"route_time__-2Z1T\">16:20</b><i class=\"route_code__3WUFO\">CJU</i></span><i class=\"route_info__1RhUH\">01시간 10분</i></div></div></div><button class=\"domestic_select_schedule__xWQ-K\" type=\"button\"></button><div class=\"domestic_prices__3N88F\"><div class=\"domestic_item__2B--k\"><i class=\"domestic_type__30RSq\">할인석</i><b class=\"domestic_price__1qAgw\"><span class=\"domestic_txt__2YFi_\">편도 </span><i class=\"domestic_num__2roTW\">117,900</i><span class=\"unit\">원~</span></b></div><div class=\"domestic_item_promotion__2q5bH\"><i class=\"domestic_type__30RSq\">삼성카드 결제시 6.9% 캐시백</i><b class=\"domestic_price__1qAgw\"><span class=\"domestic_txt__2YFi_\">편도 </span><i class=\"domestic_num__2roTW\">109,790</i><span class=\"unit\">원~</span></b></div></div></div></div>,\n",
       " <div class=\"domestic_Flight__sK0eA result\"><div class=\"domestic_inner__15-bD\"><div class=\"domestic_schedule__1Whiq\"><div class=\"domestic_item__2B--k\"><div class=\"heading\"><div class=\"airline\"><div class=\"logos\"><img alt=\"대한항공\" class=\"logo\" src=\"https://vertical.pstatic.net/vertical/static/flight/airlines/KE.png\"/></div><b class=\"name\">대한항공</b></div><div class=\"info\"></div></div><div class=\"route_Route__2UInh\"><span class=\"route_airport__3VT7M\"><b class=\"route_time__-2Z1T\">15:10</b><i class=\"route_code__3WUFO\">GMP</i></span><span class=\"route_airport__3VT7M\"><b class=\"route_time__-2Z1T\">16:20</b><i class=\"route_code__3WUFO\">CJU</i></span><i class=\"route_info__1RhUH\">01시간 10분</i></div></div></div><button class=\"domestic_select_schedule__xWQ-K\" type=\"button\"></button><div class=\"domestic_prices__3N88F\"><div class=\"domestic_item__2B--k\"><i class=\"domestic_type__30RSq\">할인석</i><b class=\"domestic_price__1qAgw\"><span class=\"domestic_txt__2YFi_\">편도 </span><i class=\"domestic_num__2roTW\">121,000</i><span class=\"unit\">원~</span></b></div><div class=\"domestic_item_promotion__2q5bH\"><i class=\"domestic_type__30RSq\">삼성카드 결제시 7.3% 캐시백</i><b class=\"domestic_price__1qAgw\"><span class=\"domestic_txt__2YFi_\">편도 </span><i class=\"domestic_num__2roTW\">112,240</i><span class=\"unit\">원~</span></b></div></div></div></div>,\n",
       " <div class=\"domestic_Flight__sK0eA result\"><div class=\"domestic_inner__15-bD\"><div class=\"domestic_schedule__1Whiq\"><div class=\"domestic_item__2B--k\"><div class=\"heading\"><div class=\"airline\"><div class=\"logos\"><img alt=\"제주항공\" class=\"logo\" src=\"https://vertical.pstatic.net/vertical/static/flight/airlines/7C.png\"/></div><b class=\"name\">제주항공</b></div><div class=\"info\"><i class=\"npay\">1%적립</i><div class=\"domestic_PromotionBadge__2aHzU\"><i aria-expanded=\"false\" class=\"domestic_badge__20kwD\" role=\"button\">이벤트혜택</i><p class=\"domestic_layer__2cpTz\"><span class=\"domestic_txt__2YFi_\">네이버페이 결제시 <i class=\"npaypoint\" title=\"npaypoint\"></i>1%+1,500원 적립</span></p></div></div></div><div class=\"route_Route__2UInh\"><span class=\"route_airport__3VT7M\"><b class=\"route_time__-2Z1T\">15:10</b><i class=\"route_code__3WUFO\">GMP</i></span><span class=\"route_airport__3VT7M\"><b class=\"route_time__-2Z1T\">16:20</b><i class=\"route_code__3WUFO\">CJU</i></span><i class=\"route_info__1RhUH\">01시간 10분</i></div></div></div><button class=\"domestic_select_schedule__xWQ-K\" type=\"button\"></button><div class=\"domestic_prices__3N88F\"><div class=\"domestic_item__2B--k\"><i class=\"domestic_type__30RSq\">일반석</i><b class=\"domestic_price__1qAgw\"><span class=\"domestic_txt__2YFi_\">편도 </span><i class=\"domestic_num__2roTW\">133,500</i><span class=\"unit\">원~</span></b></div><div class=\"domestic_item_promotion__2q5bH\"><i class=\"domestic_type__30RSq\">삼성카드 결제시 6.9% 캐시백</i><b class=\"domestic_price__1qAgw\"><span class=\"domestic_txt__2YFi_\">편도 </span><i class=\"domestic_num__2roTW\">124,310</i><span class=\"unit\">원~</span></b></div></div></div></div>,\n",
       " <div class=\"domestic_Flight__sK0eA result\"><div class=\"domestic_inner__15-bD\"><div class=\"domestic_schedule__1Whiq\"><div class=\"domestic_item__2B--k\"><div class=\"heading\"><div class=\"airline\"><div class=\"logos\"><img alt=\"티웨이항공\" class=\"logo\" src=\"https://vertical.pstatic.net/vertical/static/flight/airlines/TW.png\"/></div><b class=\"name\">티웨이항공</b></div><div class=\"info\"><i class=\"npay\">1%적립</i><div class=\"domestic_PromotionBadge__2aHzU\"><i aria-expanded=\"false\" class=\"domestic_badge__20kwD\" role=\"button\">이벤트혜택</i><p class=\"domestic_layer__2cpTz\"><span class=\"domestic_txt__2YFi_\">네이버페이 결제시 <i class=\"npaypoint\" title=\"npaypoint\"></i>1%+1,500원 적립</span></p></div></div></div><div class=\"route_Route__2UInh\"><span class=\"route_airport__3VT7M\"><b class=\"route_time__-2Z1T\">15:15</b><i class=\"route_code__3WUFO\">GMP</i></span><span class=\"route_airport__3VT7M\"><b class=\"route_time__-2Z1T\">16:25</b><i class=\"route_code__3WUFO\">CJU</i></span><i class=\"route_info__1RhUH\">01시간 10분</i></div></div></div><button class=\"domestic_select_schedule__xWQ-K\" type=\"button\"></button><div class=\"domestic_prices__3N88F\"><div class=\"domestic_item__2B--k\"><i class=\"domestic_type__30RSq\">할인석</i><b class=\"domestic_price__1qAgw\"><span class=\"domestic_txt__2YFi_\">편도 </span><i class=\"domestic_num__2roTW\">116,100</i><span class=\"unit\">원~</span></b></div><div class=\"domestic_item_promotion__2q5bH\"><i class=\"domestic_type__30RSq\">삼성카드 결제시 7.1% 캐시백</i><b class=\"domestic_price__1qAgw\"><span class=\"domestic_txt__2YFi_\">편도 </span><i class=\"domestic_num__2roTW\">108,530</i><span class=\"unit\">원~</span></b></div></div></div></div>,\n",
       " <div class=\"domestic_Flight__sK0eA result\"><div class=\"domestic_inner__15-bD\"><div class=\"domestic_schedule__1Whiq\"><div class=\"domestic_item__2B--k\"><div class=\"heading\"><div class=\"airline\"><div class=\"logos\"><img alt=\"티웨이항공\" class=\"logo\" src=\"https://vertical.pstatic.net/vertical/static/flight/airlines/TW.png\"/></div><b class=\"name\">티웨이항공</b></div><div class=\"info\"><i class=\"npay\">1%적립</i><div class=\"domestic_PromotionBadge__2aHzU\"><i aria-expanded=\"false\" class=\"domestic_badge__20kwD\" role=\"button\">이벤트혜택</i><p class=\"domestic_layer__2cpTz\"><span class=\"domestic_txt__2YFi_\">네이버페이 결제시 <i class=\"npaypoint\" title=\"npaypoint\"></i>1%+1,500원 적립</span></p></div></div></div><div class=\"route_Route__2UInh\"><span class=\"route_airport__3VT7M\"><b class=\"route_time__-2Z1T\">15:15</b><i class=\"route_code__3WUFO\">GMP</i></span><span class=\"route_airport__3VT7M\"><b class=\"route_time__-2Z1T\">16:25</b><i class=\"route_code__3WUFO\">CJU</i></span><i class=\"route_info__1RhUH\">01시간 10분</i></div></div></div><button class=\"domestic_select_schedule__xWQ-K\" type=\"button\"></button><div class=\"domestic_prices__3N88F\"><div class=\"domestic_item__2B--k\"><i class=\"domestic_type__30RSq\">일반석</i><b class=\"domestic_price__1qAgw\"><span class=\"domestic_txt__2YFi_\">편도 </span><i class=\"domestic_num__2roTW\">132,200</i><span class=\"unit\">원~</span></b></div><div class=\"domestic_item_promotion__2q5bH\"><i class=\"domestic_type__30RSq\">삼성카드 결제시 7.1% 캐시백</i><b class=\"domestic_price__1qAgw\"><span class=\"domestic_txt__2YFi_\">편도 </span><i class=\"domestic_num__2roTW\">123,480</i><span class=\"unit\">원~</span></b></div></div></div></div>,\n",
       " <div class=\"domestic_Flight__sK0eA result\"><div class=\"domestic_inner__15-bD\"><div class=\"domestic_schedule__1Whiq\"><div class=\"domestic_item__2B--k\"><div class=\"heading\"><div class=\"airline\"><div class=\"logos\"><img alt=\"제주항공\" class=\"logo\" src=\"https://vertical.pstatic.net/vertical/static/flight/airlines/7C.png\"/></div><b class=\"name\">제주항공</b></div><div class=\"info\"><i class=\"npay\">1%적립</i><div class=\"domestic_PromotionBadge__2aHzU\"><i aria-expanded=\"false\" class=\"domestic_badge__20kwD\" role=\"button\">이벤트혜택</i><p class=\"domestic_layer__2cpTz\"><span class=\"domestic_txt__2YFi_\">네이버페이 결제시 <i class=\"npaypoint\" title=\"npaypoint\"></i>1%+1,500원 적립</span></p></div></div></div><div class=\"route_Route__2UInh\"><span class=\"route_airport__3VT7M\"><b class=\"route_time__-2Z1T\">15:30</b><i class=\"route_code__3WUFO\">GMP</i></span><span class=\"route_airport__3VT7M\"><b class=\"route_time__-2Z1T\">16:40</b><i class=\"route_code__3WUFO\">CJU</i></span><i class=\"route_info__1RhUH\">01시간 10분</i></div></div></div><button class=\"domestic_select_schedule__xWQ-K\" type=\"button\"></button><div class=\"domestic_prices__3N88F\"><div class=\"domestic_item__2B--k\"><i class=\"domestic_type__30RSq\">일반석</i><b class=\"domestic_price__1qAgw\"><span class=\"domestic_txt__2YFi_\">편도 </span><i class=\"domestic_num__2roTW\">133,500</i><span class=\"unit\">원~</span></b></div><div class=\"domestic_item_promotion__2q5bH\"><i class=\"domestic_type__30RSq\">삼성카드 결제시 6.9% 캐시백</i><b class=\"domestic_price__1qAgw\"><span class=\"domestic_txt__2YFi_\">편도 </span><i class=\"domestic_num__2roTW\">124,310</i><span class=\"unit\">원~</span></b></div></div></div></div>,\n",
       " <div class=\"domestic_Flight__sK0eA result\"><div class=\"domestic_inner__15-bD\"><div class=\"domestic_schedule__1Whiq\"><div class=\"domestic_item__2B--k\"><div class=\"heading\"><div class=\"airline\"><div class=\"logos\"><img alt=\"대한항공\" class=\"logo\" src=\"https://vertical.pstatic.net/vertical/static/flight/airlines/KE.png\"/></div><b class=\"name\">대한항공</b></div><div class=\"info\"></div></div><div class=\"route_Route__2UInh\"><span class=\"route_airport__3VT7M\"><b class=\"route_time__-2Z1T\">15:35</b><i class=\"route_code__3WUFO\">GMP</i></span><span class=\"route_airport__3VT7M\"><b class=\"route_time__-2Z1T\">16:45</b><i class=\"route_code__3WUFO\">CJU</i></span><i class=\"route_info__1RhUH\">01시간 10분</i></div></div></div><button class=\"domestic_select_schedule__xWQ-K\" type=\"button\"></button><div class=\"domestic_prices__3N88F\"><div class=\"domestic_item__2B--k\"><i class=\"domestic_type__30RSq\">할인석</i><b class=\"domestic_price__1qAgw\"><span class=\"domestic_txt__2YFi_\">편도 </span><i class=\"domestic_num__2roTW\">121,000</i><span class=\"unit\">원~</span></b></div><div class=\"domestic_item_promotion__2q5bH\"><i class=\"domestic_type__30RSq\">삼성카드 결제시 7.3% 캐시백</i><b class=\"domestic_price__1qAgw\"><span class=\"domestic_txt__2YFi_\">편도 </span><i class=\"domestic_num__2roTW\">112,240</i><span class=\"unit\">원~</span></b></div></div></div></div>,\n",
       " <div class=\"domestic_Flight__sK0eA result\"><div class=\"domestic_inner__15-bD\"><div class=\"domestic_schedule__1Whiq\"><div class=\"domestic_item__2B--k\"><div class=\"heading\"><div class=\"airline\"><div class=\"logos\"><img alt=\"진에어\" class=\"logo\" src=\"https://vertical.pstatic.net/vertical/static/flight/airlines/LJ.png\"/></div><b class=\"name\">진에어</b></div><div class=\"info\"><i class=\"npay\">1%적립</i><div class=\"domestic_PromotionBadge__2aHzU\"><i aria-expanded=\"false\" class=\"domestic_badge__20kwD\" role=\"button\">이벤트혜택</i><p class=\"domestic_layer__2cpTz\"><span class=\"domestic_txt__2YFi_\">네이버페이 결제시 <i class=\"npaypoint\" title=\"npaypoint\"></i>1%+1,500원 적립</span></p></div></div></div><div class=\"route_Route__2UInh\"><span class=\"route_airport__3VT7M\"><b class=\"route_time__-2Z1T\">15:50</b><i class=\"route_code__3WUFO\">GMP</i></span><span class=\"route_airport__3VT7M\"><b class=\"route_time__-2Z1T\">17:00</b><i class=\"route_code__3WUFO\">CJU</i></span><i class=\"route_info__1RhUH\">01시간 10분</i></div></div></div><button class=\"domestic_select_schedule__xWQ-K\" type=\"button\"></button><div class=\"domestic_prices__3N88F\"><div class=\"domestic_item__2B--k\"><i class=\"domestic_type__30RSq\">할인석</i><b class=\"domestic_price__1qAgw\"><span class=\"domestic_txt__2YFi_\">편도 </span><i class=\"domestic_num__2roTW\">110,900</i><span class=\"unit\">원~</span></b></div><div class=\"domestic_item_promotion__2q5bH\"><i class=\"domestic_type__30RSq\">삼성카드 결제시 5.9% 캐시백</i><b class=\"domestic_price__1qAgw\"><span class=\"domestic_txt__2YFi_\">편도 </span><i class=\"domestic_num__2roTW\">104,390</i><span class=\"unit\">원~</span></b></div></div></div></div>,\n",
       " <div class=\"domestic_Flight__sK0eA result\"><div class=\"domestic_inner__15-bD\"><div class=\"domestic_schedule__1Whiq\"><div class=\"domestic_item__2B--k\"><div class=\"heading\"><div class=\"airline\"><div class=\"logos\"><img alt=\"제주항공\" class=\"logo\" src=\"https://vertical.pstatic.net/vertical/static/flight/airlines/7C.png\"/></div><b class=\"name\">제주항공</b></div><div class=\"info\"><i class=\"npay\">1%적립</i><div class=\"domestic_PromotionBadge__2aHzU\"><i aria-expanded=\"false\" class=\"domestic_badge__20kwD\" role=\"button\">이벤트혜택</i><p class=\"domestic_layer__2cpTz\"><span class=\"domestic_txt__2YFi_\">네이버페이 결제시 <i class=\"npaypoint\" title=\"npaypoint\"></i>1%+1,500원 적립</span></p></div></div></div><div class=\"route_Route__2UInh\"><span class=\"route_airport__3VT7M\"><b class=\"route_time__-2Z1T\">15:50</b><i class=\"route_code__3WUFO\">GMP</i></span><span class=\"route_airport__3VT7M\"><b class=\"route_time__-2Z1T\">17:05</b><i class=\"route_code__3WUFO\">CJU</i></span><i class=\"route_info__1RhUH\">01시간 15분</i></div></div></div><button class=\"domestic_select_schedule__xWQ-K\" type=\"button\"></button><div class=\"domestic_prices__3N88F\"><div class=\"domestic_item__2B--k\"><i class=\"domestic_type__30RSq\">일반석</i><b class=\"domestic_price__1qAgw\"><span class=\"domestic_txt__2YFi_\">편도 </span><i class=\"domestic_num__2roTW\">133,500</i><span class=\"unit\">원~</span></b></div><div class=\"domestic_item_promotion__2q5bH\"><i class=\"domestic_type__30RSq\">삼성카드 결제시 6.9% 캐시백</i><b class=\"domestic_price__1qAgw\"><span class=\"domestic_txt__2YFi_\">편도 </span><i class=\"domestic_num__2roTW\">124,310</i><span class=\"unit\">원~</span></b></div></div></div></div>,\n",
       " <div class=\"domestic_Flight__sK0eA result\"><div class=\"domestic_inner__15-bD\"><div class=\"domestic_schedule__1Whiq\"><div class=\"domestic_item__2B--k\"><div class=\"heading\"><div class=\"airline\"><div class=\"logos\"><img alt=\"진에어\" class=\"logo\" src=\"https://vertical.pstatic.net/vertical/static/flight/airlines/LJ.png\"/></div><b class=\"name\">진에어</b></div><div class=\"info\"><i class=\"npay\">1%적립</i><div class=\"domestic_PromotionBadge__2aHzU\"><i aria-expanded=\"false\" class=\"domestic_badge__20kwD\" role=\"button\">이벤트혜택</i><p class=\"domestic_layer__2cpTz\"><span class=\"domestic_txt__2YFi_\">네이버페이 결제시 <i class=\"npaypoint\" title=\"npaypoint\"></i>1%+1,500원 적립</span></p></div></div></div><div class=\"route_Route__2UInh\"><span class=\"route_airport__3VT7M\"><b class=\"route_time__-2Z1T\">15:50</b><i class=\"route_code__3WUFO\">GMP</i></span><span class=\"route_airport__3VT7M\"><b class=\"route_time__-2Z1T\">17:00</b><i class=\"route_code__3WUFO\">CJU</i></span><i class=\"route_info__1RhUH\">01시간 10분</i></div></div></div><button class=\"domestic_select_schedule__xWQ-K\" type=\"button\"></button><div class=\"domestic_prices__3N88F\"><div class=\"domestic_item__2B--k\"><i class=\"domestic_type__30RSq\">일반석</i><b class=\"domestic_price__1qAgw\"><span class=\"domestic_txt__2YFi_\">편도 </span><i class=\"domestic_num__2roTW\">134,000</i><span class=\"unit\">원~</span></b></div><div class=\"domestic_item_promotion__2q5bH\"><i class=\"domestic_type__30RSq\">삼성카드 결제시 5.9% 캐시백</i><b class=\"domestic_price__1qAgw\"><span class=\"domestic_txt__2YFi_\">편도 </span><i class=\"domestic_num__2roTW\">126,120</i><span class=\"unit\">원~</span></b></div></div></div></div>,\n",
       " <div class=\"domestic_Flight__sK0eA result\"><div class=\"domestic_inner__15-bD\"><div class=\"domestic_schedule__1Whiq\"><div class=\"domestic_item__2B--k\"><div class=\"heading\"><div class=\"airline\"><div class=\"logos\"><img alt=\"아시아나항공\" class=\"logo\" src=\"https://vertical.pstatic.net/vertical/static/flight/airlines/OZ.png\"/></div><b class=\"name\">아시아나항공</b></div><div class=\"info\"><i class=\"npay\">1%적립</i><div class=\"domestic_PromotionBadge__2aHzU\"><i aria-expanded=\"false\" class=\"domestic_badge__20kwD\" role=\"button\">이벤트혜택</i><p class=\"domestic_layer__2cpTz\"><span class=\"domestic_txt__2YFi_\">네이버페이 결제시 <i class=\"npaypoint\" title=\"npaypoint\"></i>1%+1,500원 적립</span></p></div></div></div><div class=\"route_Route__2UInh\"><span class=\"route_airport__3VT7M\"><b class=\"route_time__-2Z1T\">15:55</b><i class=\"route_code__3WUFO\">GMP</i></span><span class=\"route_airport__3VT7M\"><b class=\"route_time__-2Z1T\">17:10</b><i class=\"route_code__3WUFO\">CJU</i></span><i class=\"route_info__1RhUH\">01시간 15분</i></div></div></div><button class=\"domestic_select_schedule__xWQ-K\" type=\"button\"></button><div class=\"domestic_prices__3N88F\"><div class=\"domestic_item__2B--k\"><i class=\"domestic_type__30RSq\">할인석</i><b class=\"domestic_price__1qAgw\"><span class=\"domestic_txt__2YFi_\">편도 </span><i class=\"domestic_num__2roTW\">111,000</i><span class=\"unit\">원~</span></b></div><div class=\"domestic_item_promotion__2q5bH\"><i class=\"domestic_type__30RSq\">삼성카드 결제시 4.5% 캐시백</i><b class=\"domestic_price__1qAgw\"><span class=\"domestic_txt__2YFi_\">편도 </span><i class=\"domestic_num__2roTW\">106,020</i><span class=\"unit\">원~</span></b></div></div></div></div>,\n",
       " <div class=\"domestic_Flight__sK0eA result\"><div class=\"domestic_inner__15-bD\"><div class=\"domestic_schedule__1Whiq\"><div class=\"domestic_item__2B--k\"><div class=\"heading\"><div class=\"airline\"><div class=\"logos\"><img alt=\"아시아나항공\" class=\"logo\" src=\"https://vertical.pstatic.net/vertical/static/flight/airlines/OZ.png\"/></div><b class=\"name\">아시아나항공</b></div><div class=\"info\"><i class=\"npay\">1%적립</i><div class=\"domestic_PromotionBadge__2aHzU\"><i aria-expanded=\"false\" class=\"domestic_badge__20kwD\" role=\"button\">이벤트혜택</i><p class=\"domestic_layer__2cpTz\"><span class=\"domestic_txt__2YFi_\">네이버페이 결제시 <i class=\"npaypoint\" title=\"npaypoint\"></i>1%+1,500원 적립</span></p></div></div></div><div class=\"route_Route__2UInh\"><span class=\"route_airport__3VT7M\"><b class=\"route_time__-2Z1T\">15:55</b><i class=\"route_code__3WUFO\">GMP</i></span><span class=\"route_airport__3VT7M\"><b class=\"route_time__-2Z1T\">17:10</b><i class=\"route_code__3WUFO\">CJU</i></span><i class=\"route_info__1RhUH\">01시간 15분</i></div></div></div><button class=\"domestic_select_schedule__xWQ-K\" type=\"button\"></button><div class=\"domestic_prices__3N88F\"><div class=\"domestic_item__2B--k\"><i class=\"domestic_type__30RSq\">일반석</i><b class=\"domestic_price__1qAgw\"><span class=\"domestic_txt__2YFi_\">편도 </span><i class=\"domestic_num__2roTW\">147,000</i><span class=\"unit\">원~</span></b></div><div class=\"domestic_item_promotion__2q5bH\"><i class=\"domestic_type__30RSq\">삼성카드 결제시 4.5% 캐시백</i><b class=\"domestic_price__1qAgw\"><span class=\"domestic_txt__2YFi_\">편도 </span><i class=\"domestic_num__2roTW\">140,400</i><span class=\"unit\">원~</span></b></div></div></div></div>,\n",
       " <div class=\"domestic_Flight__sK0eA result\"><div class=\"domestic_inner__15-bD\"><div class=\"domestic_schedule__1Whiq\"><div class=\"domestic_item__2B--k\"><div class=\"heading\"><div class=\"airline\"><div class=\"logos\"><img alt=\"티웨이항공\" class=\"logo\" src=\"https://vertical.pstatic.net/vertical/static/flight/airlines/TW.png\"/></div><b class=\"name\">티웨이항공</b></div><div class=\"info\"><i class=\"npay\">1%적립</i><div class=\"domestic_PromotionBadge__2aHzU\"><i aria-expanded=\"false\" class=\"domestic_badge__20kwD\" role=\"button\">이벤트혜택</i><p class=\"domestic_layer__2cpTz\"><span class=\"domestic_txt__2YFi_\">네이버페이 결제시 <i class=\"npaypoint\" title=\"npaypoint\"></i>1%+1,500원 적립</span></p></div></div></div><div class=\"route_Route__2UInh\"><span class=\"route_airport__3VT7M\"><b class=\"route_time__-2Z1T\">16:10</b><i class=\"route_code__3WUFO\">GMP</i></span><span class=\"route_airport__3VT7M\"><b class=\"route_time__-2Z1T\">17:20</b><i class=\"route_code__3WUFO\">CJU</i></span><i class=\"route_info__1RhUH\">01시간 10분</i></div></div></div><button class=\"domestic_select_schedule__xWQ-K\" type=\"button\"></button><div class=\"domestic_prices__3N88F\"><div class=\"domestic_item__2B--k\"><i class=\"domestic_type__30RSq\">할인석</i><b class=\"domestic_price__1qAgw\"><span class=\"domestic_txt__2YFi_\">편도 </span><i class=\"domestic_num__2roTW\">116,100</i><span class=\"unit\">원~</span></b></div><div class=\"domestic_item_promotion__2q5bH\"><i class=\"domestic_type__30RSq\">삼성카드 결제시 7.1% 캐시백</i><b class=\"domestic_price__1qAgw\"><span class=\"domestic_txt__2YFi_\">편도 </span><i class=\"domestic_num__2roTW\">108,530</i><span class=\"unit\">원~</span></b></div></div></div></div>,\n",
       " <div class=\"domestic_Flight__sK0eA result\"><div class=\"domestic_inner__15-bD\"><div class=\"domestic_schedule__1Whiq\"><div class=\"domestic_item__2B--k\"><div class=\"heading\"><div class=\"airline\"><div class=\"logos\"><img alt=\"티웨이항공\" class=\"logo\" src=\"https://vertical.pstatic.net/vertical/static/flight/airlines/TW.png\"/></div><b class=\"name\">티웨이항공</b></div><div class=\"info\"><i class=\"npay\">1%적립</i><div class=\"domestic_PromotionBadge__2aHzU\"><i aria-expanded=\"false\" class=\"domestic_badge__20kwD\" role=\"button\">이벤트혜택</i><p class=\"domestic_layer__2cpTz\"><span class=\"domestic_txt__2YFi_\">네이버페이 결제시 <i class=\"npaypoint\" title=\"npaypoint\"></i>1%+1,500원 적립</span></p></div></div></div><div class=\"route_Route__2UInh\"><span class=\"route_airport__3VT7M\"><b class=\"route_time__-2Z1T\">16:10</b><i class=\"route_code__3WUFO\">GMP</i></span><span class=\"route_airport__3VT7M\"><b class=\"route_time__-2Z1T\">17:20</b><i class=\"route_code__3WUFO\">CJU</i></span><i class=\"route_info__1RhUH\">01시간 10분</i></div></div></div><button class=\"domestic_select_schedule__xWQ-K\" type=\"button\"></button><div class=\"domestic_prices__3N88F\"><div class=\"domestic_item__2B--k\"><i class=\"domestic_type__30RSq\">일반석</i><b class=\"domestic_price__1qAgw\"><span class=\"domestic_txt__2YFi_\">편도 </span><i class=\"domestic_num__2roTW\">132,200</i><span class=\"unit\">원~</span></b></div><div class=\"domestic_item_promotion__2q5bH\"><i class=\"domestic_type__30RSq\">삼성카드 결제시 7.1% 캐시백</i><b class=\"domestic_price__1qAgw\"><span class=\"domestic_txt__2YFi_\">편도 </span><i class=\"domestic_num__2roTW\">123,480</i><span class=\"unit\">원~</span></b></div></div></div></div>,\n",
       " <div class=\"domestic_Flight__sK0eA result\"><div class=\"domestic_inner__15-bD\"><div class=\"domestic_schedule__1Whiq\"><div class=\"domestic_item__2B--k\"><div class=\"heading\"><div class=\"airline\"><div class=\"logos\"><img alt=\"대한항공\" class=\"logo\" src=\"https://vertical.pstatic.net/vertical/static/flight/airlines/KE.png\"/></div><b class=\"name\">대한항공</b></div><div class=\"info\"></div></div><div class=\"route_Route__2UInh\"><span class=\"route_airport__3VT7M\"><b class=\"route_time__-2Z1T\">16:10</b><i class=\"route_code__3WUFO\">GMP</i></span><span class=\"route_airport__3VT7M\"><b class=\"route_time__-2Z1T\">17:20</b><i class=\"route_code__3WUFO\">CJU</i></span><i class=\"route_info__1RhUH\">01시간 10분</i></div></div></div><button class=\"domestic_select_schedule__xWQ-K\" type=\"button\"></button><div class=\"domestic_prices__3N88F\"><div class=\"domestic_item__2B--k\"><i class=\"domestic_type__30RSq\">일반석</i><b class=\"domestic_price__1qAgw\"><span class=\"domestic_txt__2YFi_\">편도 </span><i class=\"domestic_num__2roTW\">144,000</i><span class=\"unit\">원~</span></b></div><div class=\"domestic_item_promotion__2q5bH\"><i class=\"domestic_type__30RSq\">삼성카드 결제시 7.3% 캐시백</i><b class=\"domestic_price__1qAgw\"><span class=\"domestic_txt__2YFi_\">편도 </span><i class=\"domestic_num__2roTW\">133,560</i><span class=\"unit\">원~</span></b></div></div></div></div>,\n",
       " <div class=\"domestic_Flight__sK0eA result\"><div class=\"domestic_inner__15-bD\"><div class=\"domestic_schedule__1Whiq\"><div class=\"domestic_item__2B--k\"><div class=\"heading\"><div class=\"airline\"><div class=\"logos\"><img alt=\"대한항공\" class=\"logo\" src=\"https://vertical.pstatic.net/vertical/static/flight/airlines/KE.png\"/></div><b class=\"name\">대한항공</b></div><div class=\"info\"></div></div><div class=\"route_Route__2UInh\"><span class=\"route_airport__3VT7M\"><b class=\"route_time__-2Z1T\">16:25</b><i class=\"route_code__3WUFO\">GMP</i></span><span class=\"route_airport__3VT7M\"><b class=\"route_time__-2Z1T\">17:35</b><i class=\"route_code__3WUFO\">CJU</i></span><i class=\"route_info__1RhUH\">01시간 10분</i></div></div></div><button class=\"domestic_select_schedule__xWQ-K\" type=\"button\"></button><div class=\"domestic_prices__3N88F\"><div class=\"domestic_item__2B--k\"><i class=\"domestic_type__30RSq\">할인석</i><b class=\"domestic_price__1qAgw\"><span class=\"domestic_txt__2YFi_\">편도 </span><i class=\"domestic_num__2roTW\">121,000</i><span class=\"unit\">원~</span></b></div><div class=\"domestic_item_promotion__2q5bH\"><i class=\"domestic_type__30RSq\">삼성카드 결제시 7.3% 캐시백</i><b class=\"domestic_price__1qAgw\"><span class=\"domestic_txt__2YFi_\">편도 </span><i class=\"domestic_num__2roTW\">112,240</i><span class=\"unit\">원~</span></b></div></div></div></div>,\n",
       " <div class=\"domestic_Flight__sK0eA result\"><div class=\"domestic_inner__15-bD\"><div class=\"domestic_schedule__1Whiq\"><div class=\"domestic_item__2B--k\"><div class=\"heading\"><div class=\"airline\"><div class=\"logos\"><img alt=\"진에어\" class=\"logo\" src=\"https://vertical.pstatic.net/vertical/static/flight/airlines/LJ.png\"/></div><b class=\"name\">진에어</b></div><div class=\"info\"><i class=\"npay\">1%적립</i><div class=\"domestic_PromotionBadge__2aHzU\"><i aria-expanded=\"false\" class=\"domestic_badge__20kwD\" role=\"button\">이벤트혜택</i><p class=\"domestic_layer__2cpTz\"><span class=\"domestic_txt__2YFi_\">네이버페이 결제시 <i class=\"npaypoint\" title=\"npaypoint\"></i>1%+1,500원 적립</span></p></div></div></div><div class=\"route_Route__2UInh\"><span class=\"route_airport__3VT7M\"><b class=\"route_time__-2Z1T\">16:30</b><i class=\"route_code__3WUFO\">GMP</i></span><span class=\"route_airport__3VT7M\"><b class=\"route_time__-2Z1T\">17:40</b><i class=\"route_code__3WUFO\">CJU</i></span><i class=\"route_info__1RhUH\">01시간 10분</i></div></div></div><button class=\"domestic_select_schedule__xWQ-K\" type=\"button\"></button><div class=\"domestic_prices__3N88F\"><div class=\"domestic_item__2B--k\"><i class=\"domestic_type__30RSq\">할인석</i><b class=\"domestic_price__1qAgw\"><span class=\"domestic_txt__2YFi_\">편도 </span><i class=\"domestic_num__2roTW\">112,900</i><span class=\"unit\">원~</span></b></div><div class=\"domestic_item_promotion__2q5bH\"><i class=\"domestic_type__30RSq\">삼성카드 결제시 5.9% 캐시백</i><b class=\"domestic_price__1qAgw\"><span class=\"domestic_txt__2YFi_\">편도 </span><i class=\"domestic_num__2roTW\">106,270</i><span class=\"unit\">원~</span></b></div></div></div></div>,\n",
       " <div class=\"domestic_Flight__sK0eA result\"><div class=\"domestic_inner__15-bD\"><div class=\"domestic_schedule__1Whiq\"><div class=\"domestic_item__2B--k\"><div class=\"heading\"><div class=\"airline\"><div class=\"logos\"><img alt=\"진에어\" class=\"logo\" src=\"https://vertical.pstatic.net/vertical/static/flight/airlines/LJ.png\"/></div><b class=\"name\">진에어</b></div><div class=\"info\"><i class=\"npay\">1%적립</i><div class=\"domestic_PromotionBadge__2aHzU\"><i aria-expanded=\"false\" class=\"domestic_badge__20kwD\" role=\"button\">이벤트혜택</i><p class=\"domestic_layer__2cpTz\"><span class=\"domestic_txt__2YFi_\">네이버페이 결제시 <i class=\"npaypoint\" title=\"npaypoint\"></i>1%+1,500원 적립</span></p></div></div></div><div class=\"route_Route__2UInh\"><span class=\"route_airport__3VT7M\"><b class=\"route_time__-2Z1T\">16:30</b><i class=\"route_code__3WUFO\">GMP</i></span><span class=\"route_airport__3VT7M\"><b class=\"route_time__-2Z1T\">17:40</b><i class=\"route_code__3WUFO\">CJU</i></span><i class=\"route_info__1RhUH\">01시간 10분</i></div></div></div><button class=\"domestic_select_schedule__xWQ-K\" type=\"button\"></button><div class=\"domestic_prices__3N88F\"><div class=\"domestic_item__2B--k\"><i class=\"domestic_type__30RSq\">일반석</i><b class=\"domestic_price__1qAgw\"><span class=\"domestic_txt__2YFi_\">편도 </span><i class=\"domestic_num__2roTW\">134,000</i><span class=\"unit\">원~</span></b></div><div class=\"domestic_item_promotion__2q5bH\"><i class=\"domestic_type__30RSq\">삼성카드 결제시 5.9% 캐시백</i><b class=\"domestic_price__1qAgw\"><span class=\"domestic_txt__2YFi_\">편도 </span><i class=\"domestic_num__2roTW\">126,120</i><span class=\"unit\">원~</span></b></div></div></div></div>,\n",
       " <div class=\"domestic_Flight__sK0eA result\"><div class=\"domestic_inner__15-bD\"><div class=\"domestic_schedule__1Whiq\"><div class=\"domestic_item__2B--k\"><div class=\"heading\"><div class=\"airline\"><div class=\"logos\"><img alt=\"아시아나항공\" class=\"logo\" src=\"https://vertical.pstatic.net/vertical/static/flight/airlines/OZ.png\"/></div><b class=\"name\">아시아나항공</b></div><div class=\"info\"><i class=\"npay\">1%적립</i><div class=\"domestic_PromotionBadge__2aHzU\"><i aria-expanded=\"false\" class=\"domestic_badge__20kwD\" role=\"button\">이벤트혜택</i><p class=\"domestic_layer__2cpTz\"><span class=\"domestic_txt__2YFi_\">네이버페이 결제시 <i class=\"npaypoint\" title=\"npaypoint\"></i>1%+1,500원 적립</span></p></div></div></div><div class=\"route_Route__2UInh\"><span class=\"route_airport__3VT7M\"><b class=\"route_time__-2Z1T\">16:35</b><i class=\"route_code__3WUFO\">GMP</i></span><span class=\"route_airport__3VT7M\"><b class=\"route_time__-2Z1T\">17:50</b><i class=\"route_code__3WUFO\">CJU</i></span><i class=\"route_info__1RhUH\">01시간 15분</i></div></div></div><button class=\"domestic_select_schedule__xWQ-K\" type=\"button\"></button><div class=\"domestic_prices__3N88F\"><div class=\"domestic_item__2B--k\"><i class=\"domestic_type__30RSq\">할인석</i><b class=\"domestic_price__1qAgw\"><span class=\"domestic_txt__2YFi_\">편도 </span><i class=\"domestic_num__2roTW\">111,000</i><span class=\"unit\">원~</span></b></div><div class=\"domestic_item_promotion__2q5bH\"><i class=\"domestic_type__30RSq\">삼성카드 결제시 4.5% 캐시백</i><b class=\"domestic_price__1qAgw\"><span class=\"domestic_txt__2YFi_\">편도 </span><i class=\"domestic_num__2roTW\">106,020</i><span class=\"unit\">원~</span></b></div></div></div></div>,\n",
       " <div class=\"domestic_Flight__sK0eA result\"><div class=\"domestic_inner__15-bD\"><div class=\"domestic_schedule__1Whiq\"><div class=\"domestic_item__2B--k\"><div class=\"heading\"><div class=\"airline\"><div class=\"logos\"><img alt=\"아시아나항공\" class=\"logo\" src=\"https://vertical.pstatic.net/vertical/static/flight/airlines/OZ.png\"/></div><b class=\"name\">아시아나항공</b></div><div class=\"info\"><i class=\"npay\">1%적립</i><div class=\"domestic_PromotionBadge__2aHzU\"><i aria-expanded=\"false\" class=\"domestic_badge__20kwD\" role=\"button\">이벤트혜택</i><p class=\"domestic_layer__2cpTz\"><span class=\"domestic_txt__2YFi_\">네이버페이 결제시 <i class=\"npaypoint\" title=\"npaypoint\"></i>1%+1,500원 적립</span></p></div></div></div><div class=\"route_Route__2UInh\"><span class=\"route_airport__3VT7M\"><b class=\"route_time__-2Z1T\">16:35</b><i class=\"route_code__3WUFO\">GMP</i></span><span class=\"route_airport__3VT7M\"><b class=\"route_time__-2Z1T\">17:50</b><i class=\"route_code__3WUFO\">CJU</i></span><i class=\"route_info__1RhUH\">01시간 15분</i></div></div></div><button class=\"domestic_select_schedule__xWQ-K\" type=\"button\"></button><div class=\"domestic_prices__3N88F\"><div class=\"domestic_item__2B--k\"><i class=\"domestic_type__30RSq\">일반석</i><b class=\"domestic_price__1qAgw\"><span class=\"domestic_txt__2YFi_\">편도 </span><i class=\"domestic_num__2roTW\">147,000</i><span class=\"unit\">원~</span></b></div><div class=\"domestic_item_promotion__2q5bH\"><i class=\"domestic_type__30RSq\">삼성카드 결제시 4.5% 캐시백</i><b class=\"domestic_price__1qAgw\"><span class=\"domestic_txt__2YFi_\">편도 </span><i class=\"domestic_num__2roTW\">140,400</i><span class=\"unit\">원~</span></b></div></div></div></div>,\n",
       " <div class=\"domestic_Flight__sK0eA result\"><div class=\"domestic_inner__15-bD\"><div class=\"domestic_schedule__1Whiq\"><div class=\"domestic_item__2B--k\"><div class=\"heading\"><div class=\"airline\"><div class=\"logos\"><img alt=\"제주항공\" class=\"logo\" src=\"https://vertical.pstatic.net/vertical/static/flight/airlines/7C.png\"/></div><b class=\"name\">제주항공</b></div><div class=\"info\"><i class=\"npay\">1%적립</i><div class=\"domestic_PromotionBadge__2aHzU\"><i aria-expanded=\"false\" class=\"domestic_badge__20kwD\" role=\"button\">이벤트혜택</i><p class=\"domestic_layer__2cpTz\"><span class=\"domestic_txt__2YFi_\">네이버페이 결제시 <i class=\"npaypoint\" title=\"npaypoint\"></i>1%+1,500원 적립</span></p></div></div></div><div class=\"route_Route__2UInh\"><span class=\"route_airport__3VT7M\"><b class=\"route_time__-2Z1T\">16:50</b><i class=\"route_code__3WUFO\">GMP</i></span><span class=\"route_airport__3VT7M\"><b class=\"route_time__-2Z1T\">18:05</b><i class=\"route_code__3WUFO\">CJU</i></span><i class=\"route_info__1RhUH\">01시간 15분</i></div></div></div><button class=\"domestic_select_schedule__xWQ-K\" type=\"button\"></button><div class=\"domestic_prices__3N88F\"><div class=\"domestic_item__2B--k\"><i class=\"domestic_type__30RSq\">할인석</i><b class=\"domestic_price__1qAgw\"><span class=\"domestic_txt__2YFi_\">편도 </span><i class=\"domestic_num__2roTW\">110,900</i><span class=\"unit\">원~</span></b></div><div class=\"domestic_item_promotion__2q5bH\"><i class=\"domestic_type__30RSq\">삼성카드 결제시 6.9% 캐시백</i><b class=\"domestic_price__1qAgw\"><span class=\"domestic_txt__2YFi_\">편도 </span><i class=\"domestic_num__2roTW\">103,280</i><span class=\"unit\">원~</span></b></div></div></div></div>,\n",
       " <div class=\"domestic_Flight__sK0eA result\"><div class=\"domestic_inner__15-bD\"><div class=\"domestic_schedule__1Whiq\"><div class=\"domestic_item__2B--k\"><div class=\"heading\"><div class=\"airline\"><div class=\"logos\"><img alt=\"제주항공\" class=\"logo\" src=\"https://vertical.pstatic.net/vertical/static/flight/airlines/7C.png\"/></div><b class=\"name\">제주항공</b></div><div class=\"info\"><i class=\"npay\">1%적립</i><div class=\"domestic_PromotionBadge__2aHzU\"><i aria-expanded=\"false\" class=\"domestic_badge__20kwD\" role=\"button\">이벤트혜택</i><p class=\"domestic_layer__2cpTz\"><span class=\"domestic_txt__2YFi_\">네이버페이 결제시 <i class=\"npaypoint\" title=\"npaypoint\"></i>1%+1,500원 적립</span></p></div></div></div><div class=\"route_Route__2UInh\"><span class=\"route_airport__3VT7M\"><b class=\"route_time__-2Z1T\">16:50</b><i class=\"route_code__3WUFO\">GMP</i></span><span class=\"route_airport__3VT7M\"><b class=\"route_time__-2Z1T\">18:05</b><i class=\"route_code__3WUFO\">CJU</i></span><i class=\"route_info__1RhUH\">01시간 15분</i></div></div></div><button class=\"domestic_select_schedule__xWQ-K\" type=\"button\"></button><div class=\"domestic_prices__3N88F\"><div class=\"domestic_item__2B--k\"><i class=\"domestic_type__30RSq\">일반석</i><b class=\"domestic_price__1qAgw\"><span class=\"domestic_txt__2YFi_\">편도 </span><i class=\"domestic_num__2roTW\">133,500</i><span class=\"unit\">원~</span></b></div><div class=\"domestic_item_promotion__2q5bH\"><i class=\"domestic_type__30RSq\">삼성카드 결제시 6.9% 캐시백</i><b class=\"domestic_price__1qAgw\"><span class=\"domestic_txt__2YFi_\">편도 </span><i class=\"domestic_num__2roTW\">124,310</i><span class=\"unit\">원~</span></b></div></div></div></div>,\n",
       " <div class=\"domestic_Flight__sK0eA result\"><div class=\"domestic_inner__15-bD\"><div class=\"domestic_schedule__1Whiq\"><div class=\"domestic_item__2B--k\"><div class=\"heading\"><div class=\"airline\"><div class=\"logos\"><img alt=\"대한항공\" class=\"logo\" src=\"https://vertical.pstatic.net/vertical/static/flight/airlines/KE.png\"/></div><b class=\"name\">대한항공</b></div><div class=\"info\"></div></div><div class=\"route_Route__2UInh\"><span class=\"route_airport__3VT7M\"><b class=\"route_time__-2Z1T\">17:05</b><i class=\"route_code__3WUFO\">GMP</i></span><span class=\"route_airport__3VT7M\"><b class=\"route_time__-2Z1T\">18:15</b><i class=\"route_code__3WUFO\">CJU</i></span><i class=\"route_info__1RhUH\">01시간 10분</i></div></div></div><button class=\"domestic_select_schedule__xWQ-K\" type=\"button\"></button><div class=\"domestic_prices__3N88F\"><div class=\"domestic_item__2B--k\"><i class=\"domestic_type__30RSq\">일반석</i><b class=\"domestic_price__1qAgw\"><span class=\"domestic_txt__2YFi_\">편도 </span><i class=\"domestic_num__2roTW\">144,000</i><span class=\"unit\">원~</span></b></div><div class=\"domestic_item_promotion__2q5bH\"><i class=\"domestic_type__30RSq\">삼성카드 결제시 7.3% 캐시백</i><b class=\"domestic_price__1qAgw\"><span class=\"domestic_txt__2YFi_\">편도 </span><i class=\"domestic_num__2roTW\">133,560</i><span class=\"unit\">원~</span></b></div></div></div></div>,\n",
       " <div class=\"domestic_Flight__sK0eA result\"><div class=\"domestic_inner__15-bD\"><div class=\"domestic_schedule__1Whiq\"><div class=\"domestic_item__2B--k\"><div class=\"heading\"><div class=\"airline\"><div class=\"logos\"><img alt=\"티웨이항공\" class=\"logo\" src=\"https://vertical.pstatic.net/vertical/static/flight/airlines/TW.png\"/></div><b class=\"name\">티웨이항공</b></div><div class=\"info\"><i class=\"npay\">1%적립</i><div class=\"domestic_PromotionBadge__2aHzU\"><i aria-expanded=\"false\" class=\"domestic_badge__20kwD\" role=\"button\">이벤트혜택</i><p class=\"domestic_layer__2cpTz\"><span class=\"domestic_txt__2YFi_\">네이버페이 결제시 <i class=\"npaypoint\" title=\"npaypoint\"></i>1%+1,500원 적립</span></p></div></div></div><div class=\"route_Route__2UInh\"><span class=\"route_airport__3VT7M\"><b class=\"route_time__-2Z1T\">17:15</b><i class=\"route_code__3WUFO\">GMP</i></span><span class=\"route_airport__3VT7M\"><b class=\"route_time__-2Z1T\">18:20</b><i class=\"route_code__3WUFO\">CJU</i></span><i class=\"route_info__1RhUH\">01시간 05분</i></div></div></div><button class=\"domestic_select_schedule__xWQ-K\" type=\"button\"></button><div class=\"domestic_prices__3N88F\"><div class=\"domestic_item__2B--k\"><i class=\"domestic_type__30RSq\">할인석</i><b class=\"domestic_price__1qAgw\"><span class=\"domestic_txt__2YFi_\">편도 </span><i class=\"domestic_num__2roTW\">116,100</i><span class=\"unit\">원~</span></b></div><div class=\"domestic_item_promotion__2q5bH\"><i class=\"domestic_type__30RSq\">삼성카드 결제시 7.1% 캐시백</i><b class=\"domestic_price__1qAgw\"><span class=\"domestic_txt__2YFi_\">편도 </span><i class=\"domestic_num__2roTW\">108,530</i><span class=\"unit\">원~</span></b></div></div></div></div>,\n",
       " <div class=\"domestic_Flight__sK0eA result\"><div class=\"domestic_inner__15-bD\"><div class=\"domestic_schedule__1Whiq\"><div class=\"domestic_item__2B--k\"><div class=\"heading\"><div class=\"airline\"><div class=\"logos\"><img alt=\"대한항공\" class=\"logo\" src=\"https://vertical.pstatic.net/vertical/static/flight/airlines/KE.png\"/></div><b class=\"name\">대한항공</b></div><div class=\"info\"></div></div><div class=\"route_Route__2UInh\"><span class=\"route_airport__3VT7M\"><b class=\"route_time__-2Z1T\">17:15</b><i class=\"route_code__3WUFO\">GMP</i></span><span class=\"route_airport__3VT7M\"><b class=\"route_time__-2Z1T\">18:25</b><i class=\"route_code__3WUFO\">CJU</i></span><i class=\"route_info__1RhUH\">01시간 10분</i></div></div></div><button class=\"domestic_select_schedule__xWQ-K\" type=\"button\"></button><div class=\"domestic_prices__3N88F\"><div class=\"domestic_item__2B--k\"><i class=\"domestic_type__30RSq\">할인석</i><b class=\"domestic_price__1qAgw\"><span class=\"domestic_txt__2YFi_\">편도 </span><i class=\"domestic_num__2roTW\">121,000</i><span class=\"unit\">원~</span></b></div><div class=\"domestic_item_promotion__2q5bH\"><i class=\"domestic_type__30RSq\">삼성카드 결제시 7.3% 캐시백</i><b class=\"domestic_price__1qAgw\"><span class=\"domestic_txt__2YFi_\">편도 </span><i class=\"domestic_num__2roTW\">112,240</i><span class=\"unit\">원~</span></b></div></div></div></div>,\n",
       " <div class=\"domestic_Flight__sK0eA result\"><div class=\"domestic_inner__15-bD\"><div class=\"domestic_schedule__1Whiq\"><div class=\"domestic_item__2B--k\"><div class=\"heading\"><div class=\"airline\"><div class=\"logos\"><img alt=\"티웨이항공\" class=\"logo\" src=\"https://vertical.pstatic.net/vertical/static/flight/airlines/TW.png\"/></div><b class=\"name\">티웨이항공</b></div><div class=\"info\"><i class=\"npay\">1%적립</i><div class=\"domestic_PromotionBadge__2aHzU\"><i aria-expanded=\"false\" class=\"domestic_badge__20kwD\" role=\"button\">이벤트혜택</i><p class=\"domestic_layer__2cpTz\"><span class=\"domestic_txt__2YFi_\">네이버페이 결제시 <i class=\"npaypoint\" title=\"npaypoint\"></i>1%+1,500원 적립</span></p></div></div></div><div class=\"route_Route__2UInh\"><span class=\"route_airport__3VT7M\"><b class=\"route_time__-2Z1T\">17:15</b><i class=\"route_code__3WUFO\">GMP</i></span><span class=\"route_airport__3VT7M\"><b class=\"route_time__-2Z1T\">18:20</b><i class=\"route_code__3WUFO\">CJU</i></span><i class=\"route_info__1RhUH\">01시간 05분</i></div></div></div><button class=\"domestic_select_schedule__xWQ-K\" type=\"button\"></button><div class=\"domestic_prices__3N88F\"><div class=\"domestic_item__2B--k\"><i class=\"domestic_type__30RSq\">일반석</i><b class=\"domestic_price__1qAgw\"><span class=\"domestic_txt__2YFi_\">편도 </span><i class=\"domestic_num__2roTW\">132,200</i><span class=\"unit\">원~</span></b></div><div class=\"domestic_item_promotion__2q5bH\"><i class=\"domestic_type__30RSq\">삼성카드 결제시 7.1% 캐시백</i><b class=\"domestic_price__1qAgw\"><span class=\"domestic_txt__2YFi_\">편도 </span><i class=\"domestic_num__2roTW\">123,480</i><span class=\"unit\">원~</span></b></div></div></div></div>,\n",
       " <div class=\"domestic_Flight__sK0eA result\"><div class=\"domestic_inner__15-bD\"><div class=\"domestic_schedule__1Whiq\"><div class=\"domestic_item__2B--k\"><div class=\"heading\"><div class=\"airline\"><div class=\"logos\"><img alt=\"에어서울\" class=\"logo\" src=\"https://vertical.pstatic.net/vertical/static/flight/airlines/RS.png\"/></div><b class=\"name\">에어서울</b></div><div class=\"info\"></div></div><div class=\"route_Route__2UInh\"><span class=\"route_airport__3VT7M\"><b class=\"route_time__-2Z1T\">17:35</b><i class=\"route_code__3WUFO\">GMP</i></span><span class=\"route_airport__3VT7M\"><b class=\"route_time__-2Z1T\">18:45</b><i class=\"route_code__3WUFO\">CJU</i></span><i class=\"route_info__1RhUH\">01시간 10분</i></div></div></div><button class=\"domestic_select_schedule__xWQ-K\" type=\"button\"></button><div class=\"domestic_prices__3N88F\"><div class=\"domestic_item__2B--k\"><i class=\"domestic_type__30RSq\">할인석</i><b class=\"domestic_price__1qAgw\"><span class=\"domestic_txt__2YFi_\">편도 </span><i class=\"domestic_num__2roTW\">118,900</i><span class=\"unit\">원~</span></b></div><div class=\"domestic_item_promotion__2q5bH\"><i class=\"domestic_type__30RSq\">삼성카드 결제시 3.8% 캐시백</i><b class=\"domestic_price__1qAgw\"><span class=\"domestic_txt__2YFi_\">편도 </span><i class=\"domestic_num__2roTW\">115,310</i><span class=\"unit\">원~</span></b></div></div></div></div>,\n",
       " <div class=\"domestic_Flight__sK0eA result\"><div class=\"domestic_inner__15-bD\"><div class=\"domestic_schedule__1Whiq\"><div class=\"domestic_item__2B--k\"><div class=\"heading\"><div class=\"airline\"><div class=\"logos\"><img alt=\"에어서울\" class=\"logo\" src=\"https://vertical.pstatic.net/vertical/static/flight/airlines/RS.png\"/></div><b class=\"name\">에어서울</b></div><div class=\"info\"></div></div><div class=\"route_Route__2UInh\"><span class=\"route_airport__3VT7M\"><b class=\"route_time__-2Z1T\">17:35</b><i class=\"route_code__3WUFO\">GMP</i></span><span class=\"route_airport__3VT7M\"><b class=\"route_time__-2Z1T\">18:45</b><i class=\"route_code__3WUFO\">CJU</i></span><i class=\"route_info__1RhUH\">01시간 10분</i></div></div></div><button class=\"domestic_select_schedule__xWQ-K\" type=\"button\"></button><div class=\"domestic_prices__3N88F\"><div class=\"domestic_item__2B--k\"><i class=\"domestic_type__30RSq\">일반석</i><b class=\"domestic_price__1qAgw\"><span class=\"domestic_txt__2YFi_\">편도 </span><i class=\"domestic_num__2roTW\">134,000</i><span class=\"unit\">원~</span></b></div><div class=\"domestic_item_promotion__2q5bH\"><i class=\"domestic_type__30RSq\">삼성카드 결제시 3.8% 캐시백</i><b class=\"domestic_price__1qAgw\"><span class=\"domestic_txt__2YFi_\">편도 </span><i class=\"domestic_num__2roTW\">128,860</i><span class=\"unit\">원~</span></b></div></div></div></div>,\n",
       " <div class=\"domestic_Flight__sK0eA result\"><div class=\"domestic_inner__15-bD\"><div class=\"domestic_schedule__1Whiq\"><div class=\"domestic_item__2B--k\"><div class=\"heading\"><div class=\"airline\"><div class=\"logos\"><img alt=\"아시아나항공\" class=\"logo\" src=\"https://vertical.pstatic.net/vertical/static/flight/airlines/OZ.png\"/></div><b class=\"name\">아시아나항공</b></div><div class=\"info\"><i class=\"npay\">1%적립</i><div class=\"domestic_PromotionBadge__2aHzU\"><i aria-expanded=\"false\" class=\"domestic_badge__20kwD\" role=\"button\">이벤트혜택</i><p class=\"domestic_layer__2cpTz\"><span class=\"domestic_txt__2YFi_\">네이버페이 결제시 <i class=\"npaypoint\" title=\"npaypoint\"></i>1%+1,500원 적립</span></p></div></div></div><div class=\"route_Route__2UInh\"><span class=\"route_airport__3VT7M\"><b class=\"route_time__-2Z1T\">17:40</b><i class=\"route_code__3WUFO\">GMP</i></span><span class=\"route_airport__3VT7M\"><b class=\"route_time__-2Z1T\">18:55</b><i class=\"route_code__3WUFO\">CJU</i></span><i class=\"route_info__1RhUH\">01시간 15분</i></div></div></div><button class=\"domestic_select_schedule__xWQ-K\" type=\"button\"></button><div class=\"domestic_prices__3N88F\"><div class=\"domestic_item__2B--k\"><i class=\"domestic_type__30RSq\">할인석</i><b class=\"domestic_price__1qAgw\"><span class=\"domestic_txt__2YFi_\">편도 </span><i class=\"domestic_num__2roTW\">123,000</i><span class=\"unit\">원~</span></b></div><div class=\"domestic_item_promotion__2q5bH\"><i class=\"domestic_type__30RSq\">삼성카드 결제시 4.5% 캐시백</i><b class=\"domestic_price__1qAgw\"><span class=\"domestic_txt__2YFi_\">편도 </span><i class=\"domestic_num__2roTW\">117,480</i><span class=\"unit\">원~</span></b></div></div></div></div>,\n",
       " <div class=\"domestic_Flight__sK0eA result\"><div class=\"domestic_inner__15-bD\"><div class=\"domestic_schedule__1Whiq\"><div class=\"domestic_item__2B--k\"><div class=\"heading\"><div class=\"airline\"><div class=\"logos\"><img alt=\"에어부산\" class=\"logo\" src=\"https://vertical.pstatic.net/vertical/static/flight/airlines/BX.png\"/></div><b class=\"name\">에어부산</b></div><div class=\"info\"></div></div><div class=\"route_Route__2UInh\"><span class=\"route_airport__3VT7M\"><b class=\"route_time__-2Z1T\">17:40</b><i class=\"route_code__3WUFO\">GMP</i></span><span class=\"route_airport__3VT7M\"><b class=\"route_time__-2Z1T\">19:00</b><i class=\"route_code__3WUFO\">CJU</i></span><i class=\"route_info__1RhUH\">01시간 20분</i></div></div></div><button class=\"domestic_select_schedule__xWQ-K\" type=\"button\"></button><div class=\"domestic_prices__3N88F\"><div class=\"domestic_item__2B--k\"><i class=\"domestic_type__30RSq\">일반석</i><b class=\"domestic_price__1qAgw\"><span class=\"domestic_txt__2YFi_\">편도 </span><i class=\"domestic_num__2roTW\">133,000</i><span class=\"unit\">원~</span></b></div><div class=\"domestic_item_promotion__2q5bH\"><i class=\"domestic_type__30RSq\">롯데카드 결제시 4.4% 캐시백</i><b class=\"domestic_price__1qAgw\"><span class=\"domestic_txt__2YFi_\">편도 </span><i class=\"domestic_num__2roTW\">127,160</i><span class=\"unit\">원~</span></b></div></div></div></div>,\n",
       " <div class=\"domestic_Flight__sK0eA result\"><div class=\"domestic_inner__15-bD\"><div class=\"domestic_schedule__1Whiq\"><div class=\"domestic_item__2B--k\"><div class=\"heading\"><div class=\"airline\"><div class=\"logos\"><img alt=\"제주항공\" class=\"logo\" src=\"https://vertical.pstatic.net/vertical/static/flight/airlines/7C.png\"/></div><b class=\"name\">제주항공</b></div><div class=\"info\"><i class=\"npay\">1%적립</i><div class=\"domestic_PromotionBadge__2aHzU\"><i aria-expanded=\"false\" class=\"domestic_badge__20kwD\" role=\"button\">이벤트혜택</i><p class=\"domestic_layer__2cpTz\"><span class=\"domestic_txt__2YFi_\">네이버페이 결제시 <i class=\"npaypoint\" title=\"npaypoint\"></i>1%+1,500원 적립</span></p></div></div></div><div class=\"route_Route__2UInh\"><span class=\"route_airport__3VT7M\"><b class=\"route_time__-2Z1T\">17:40</b><i class=\"route_code__3WUFO\">GMP</i></span><span class=\"route_airport__3VT7M\"><b class=\"route_time__-2Z1T\">18:50</b><i class=\"route_code__3WUFO\">CJU</i></span><i class=\"route_info__1RhUH\">01시간 10분</i></div></div></div><button class=\"domestic_select_schedule__xWQ-K\" type=\"button\"></button><div class=\"domestic_prices__3N88F\"><div class=\"domestic_item__2B--k\"><i class=\"domestic_type__30RSq\">일반석</i><b class=\"domestic_price__1qAgw\"><span class=\"domestic_txt__2YFi_\">편도 </span><i class=\"domestic_num__2roTW\">133,500</i><span class=\"unit\">원~</span></b></div><div class=\"domestic_item_promotion__2q5bH\"><i class=\"domestic_type__30RSq\">삼성카드 결제시 6.9% 캐시백</i><b class=\"domestic_price__1qAgw\"><span class=\"domestic_txt__2YFi_\">편도 </span><i class=\"domestic_num__2roTW\">124,310</i><span class=\"unit\">원~</span></b></div></div></div></div>,\n",
       " <div class=\"domestic_Flight__sK0eA result\"><div class=\"domestic_inner__15-bD\"><div class=\"domestic_schedule__1Whiq\"><div class=\"domestic_item__2B--k\"><div class=\"heading\"><div class=\"airline\"><div class=\"logos\"><img alt=\"아시아나항공\" class=\"logo\" src=\"https://vertical.pstatic.net/vertical/static/flight/airlines/OZ.png\"/></div><b class=\"name\">아시아나항공</b></div><div class=\"info\"><i class=\"npay\">1%적립</i><div class=\"domestic_PromotionBadge__2aHzU\"><i aria-expanded=\"false\" class=\"domestic_badge__20kwD\" role=\"button\">이벤트혜택</i><p class=\"domestic_layer__2cpTz\"><span class=\"domestic_txt__2YFi_\">네이버페이 결제시 <i class=\"npaypoint\" title=\"npaypoint\"></i>1%+1,500원 적립</span></p></div></div></div><div class=\"route_Route__2UInh\"><span class=\"route_airport__3VT7M\"><b class=\"route_time__-2Z1T\">17:40</b><i class=\"route_code__3WUFO\">GMP</i></span><span class=\"route_airport__3VT7M\"><b class=\"route_time__-2Z1T\">18:55</b><i class=\"route_code__3WUFO\">CJU</i></span><i class=\"route_info__1RhUH\">01시간 15분</i></div></div></div><button class=\"domestic_select_schedule__xWQ-K\" type=\"button\"></button><div class=\"domestic_prices__3N88F\"><div class=\"domestic_item__2B--k\"><i class=\"domestic_type__30RSq\">일반석</i><b class=\"domestic_price__1qAgw\"><span class=\"domestic_txt__2YFi_\">편도 </span><i class=\"domestic_num__2roTW\">147,000</i><span class=\"unit\">원~</span></b></div><div class=\"domestic_item_promotion__2q5bH\"><i class=\"domestic_type__30RSq\">삼성카드 결제시 4.5% 캐시백</i><b class=\"domestic_price__1qAgw\"><span class=\"domestic_txt__2YFi_\">편도 </span><i class=\"domestic_num__2roTW\">140,400</i><span class=\"unit\">원~</span></b></div></div></div></div>,\n",
       " <div class=\"domestic_Flight__sK0eA result\"><div class=\"domestic_inner__15-bD\"><div class=\"domestic_schedule__1Whiq\"><div class=\"domestic_item__2B--k\"><div class=\"heading\"><div class=\"airline\"><div class=\"logos\"><img alt=\"에어부산\" class=\"logo\" src=\"https://vertical.pstatic.net/vertical/static/flight/airlines/BX.png\"/></div><b class=\"name\">에어부산</b></div><div class=\"info\"></div></div><div class=\"route_Route__2UInh\"><span class=\"route_airport__3VT7M\"><b class=\"route_time__-2Z1T\">17:45</b><i class=\"route_code__3WUFO\">GMP</i></span><span class=\"route_airport__3VT7M\"><b class=\"route_time__-2Z1T\">18:55</b><i class=\"route_code__3WUFO\">CJU</i></span><i class=\"route_info__1RhUH\">01시간 10분</i></div></div></div><button class=\"domestic_select_schedule__xWQ-K\" type=\"button\"></button><div class=\"domestic_prices__3N88F\"><div class=\"domestic_item__2B--k\"><i class=\"domestic_type__30RSq\">일반석</i><b class=\"domestic_price__1qAgw\"><span class=\"domestic_txt__2YFi_\">편도 </span><i class=\"domestic_num__2roTW\">133,000</i><span class=\"unit\">원~</span></b></div><div class=\"domestic_item_promotion__2q5bH\"><i class=\"domestic_type__30RSq\">롯데카드 결제시 4.4% 캐시백</i><b class=\"domestic_price__1qAgw\"><span class=\"domestic_txt__2YFi_\">편도 </span><i class=\"domestic_num__2roTW\">127,160</i><span class=\"unit\">원~</span></b></div></div></div></div>,\n",
       " <div class=\"domestic_Flight__sK0eA result\"><div class=\"domestic_inner__15-bD\"><div class=\"domestic_schedule__1Whiq\"><div class=\"domestic_item__2B--k\"><div class=\"heading\"><div class=\"airline\"><div class=\"logos\"><img alt=\"대한항공\" class=\"logo\" src=\"https://vertical.pstatic.net/vertical/static/flight/airlines/KE.png\"/></div><b class=\"name\">대한항공</b></div><div class=\"info\"></div></div><div class=\"route_Route__2UInh\"><span class=\"route_airport__3VT7M\"><b class=\"route_time__-2Z1T\">17:50</b><i class=\"route_code__3WUFO\">GMP</i></span><span class=\"route_airport__3VT7M\"><b class=\"route_time__-2Z1T\">19:00</b><i class=\"route_code__3WUFO\">CJU</i></span><i class=\"route_info__1RhUH\">01시간 10분</i></div></div></div><button class=\"domestic_select_schedule__xWQ-K\" type=\"button\"></button><div class=\"domestic_prices__3N88F\"><div class=\"domestic_item__2B--k\"><i class=\"domestic_type__30RSq\">할인석</i><b class=\"domestic_price__1qAgw\"><span class=\"domestic_txt__2YFi_\">편도 </span><i class=\"domestic_num__2roTW\">121,000</i><span class=\"unit\">원~</span></b></div><div class=\"domestic_item_promotion__2q5bH\"><i class=\"domestic_type__30RSq\">삼성카드 결제시 7.3% 캐시백</i><b class=\"domestic_price__1qAgw\"><span class=\"domestic_txt__2YFi_\">편도 </span><i class=\"domestic_num__2roTW\">112,240</i><span class=\"unit\">원~</span></b></div></div></div></div>,\n",
       " <div class=\"domestic_Flight__sK0eA result\"><div class=\"domestic_inner__15-bD\"><div class=\"domestic_schedule__1Whiq\"><div class=\"domestic_item__2B--k\"><div class=\"heading\"><div class=\"airline\"><div class=\"logos\"><img alt=\"아시아나항공\" class=\"logo\" src=\"https://vertical.pstatic.net/vertical/static/flight/airlines/OZ.png\"/></div><b class=\"name\">아시아나항공</b></div><div class=\"info\"><i class=\"npay\">1%적립</i><div class=\"domestic_PromotionBadge__2aHzU\"><i aria-expanded=\"false\" class=\"domestic_badge__20kwD\" role=\"button\">이벤트혜택</i><p class=\"domestic_layer__2cpTz\"><span class=\"domestic_txt__2YFi_\">네이버페이 결제시 <i class=\"npaypoint\" title=\"npaypoint\"></i>1%+1,500원 적립</span></p></div></div></div><div class=\"route_Route__2UInh\"><span class=\"route_airport__3VT7M\"><b class=\"route_time__-2Z1T\">17:50</b><i class=\"route_code__3WUFO\">GMP</i></span><span class=\"route_airport__3VT7M\"><b class=\"route_time__-2Z1T\">19:00</b><i class=\"route_code__3WUFO\">CJU</i></span><i class=\"route_info__1RhUH\">01시간 10분</i></div></div></div><button class=\"domestic_select_schedule__xWQ-K\" type=\"button\"></button><div class=\"domestic_prices__3N88F\"><div class=\"domestic_item__2B--k\"><i class=\"domestic_type__30RSq\">할인석</i><b class=\"domestic_price__1qAgw\"><span class=\"domestic_txt__2YFi_\">편도 </span><i class=\"domestic_num__2roTW\">123,000</i><span class=\"unit\">원~</span></b></div><div class=\"domestic_item_promotion__2q5bH\"><i class=\"domestic_type__30RSq\">삼성카드 결제시 4.5% 캐시백</i><b class=\"domestic_price__1qAgw\"><span class=\"domestic_txt__2YFi_\">편도 </span><i class=\"domestic_num__2roTW\">117,480</i><span class=\"unit\">원~</span></b></div></div></div></div>,\n",
       " <div class=\"domestic_Flight__sK0eA result\"><div class=\"domestic_inner__15-bD\"><div class=\"domestic_schedule__1Whiq\"><div class=\"domestic_item__2B--k\"><div class=\"heading\"><div class=\"airline\"><div class=\"logos\"><img alt=\"티웨이항공\" class=\"logo\" src=\"https://vertical.pstatic.net/vertical/static/flight/airlines/TW.png\"/></div><b class=\"name\">티웨이항공</b></div><div class=\"info\"><i class=\"npay\">1%적립</i><div class=\"domestic_PromotionBadge__2aHzU\"><i aria-expanded=\"false\" class=\"domestic_badge__20kwD\" role=\"button\">이벤트혜택</i><p class=\"domestic_layer__2cpTz\"><span class=\"domestic_txt__2YFi_\">네이버페이 결제시 <i class=\"npaypoint\" title=\"npaypoint\"></i>1%+1,500원 적립</span></p></div></div></div><div class=\"route_Route__2UInh\"><span class=\"route_airport__3VT7M\"><b class=\"route_time__-2Z1T\">17:50</b><i class=\"route_code__3WUFO\">GMP</i></span><span class=\"route_airport__3VT7M\"><b class=\"route_time__-2Z1T\">19:05</b><i class=\"route_code__3WUFO\">CJU</i></span><i class=\"route_info__1RhUH\">01시간 15분</i></div></div></div><button class=\"domestic_select_schedule__xWQ-K\" type=\"button\"></button><div class=\"domestic_prices__3N88F\"><div class=\"domestic_item__2B--k\"><i class=\"domestic_type__30RSq\">할인석</i><b class=\"domestic_price__1qAgw\"><span class=\"domestic_txt__2YFi_\">편도 </span><i class=\"domestic_num__2roTW\">128,370</i><span class=\"unit\">원~</span></b></div><div class=\"domestic_item_promotion__2q5bH\"><i class=\"domestic_type__30RSq\">삼성카드 결제시 7.1% 캐시백</i><b class=\"domestic_price__1qAgw\"><span class=\"domestic_txt__2YFi_\">편도 </span><i class=\"domestic_num__2roTW\">119,670</i><span class=\"unit\">원~</span></b></div></div></div></div>,\n",
       " <div class=\"domestic_Flight__sK0eA result\"><div class=\"domestic_inner__15-bD\"><div class=\"domestic_schedule__1Whiq\"><div class=\"domestic_item__2B--k\"><div class=\"heading\"><div class=\"airline\"><div class=\"logos\"><img alt=\"티웨이항공\" class=\"logo\" src=\"https://vertical.pstatic.net/vertical/static/flight/airlines/TW.png\"/></div><b class=\"name\">티웨이항공</b></div><div class=\"info\"><i class=\"npay\">1%적립</i><div class=\"domestic_PromotionBadge__2aHzU\"><i aria-expanded=\"false\" class=\"domestic_badge__20kwD\" role=\"button\">이벤트혜택</i><p class=\"domestic_layer__2cpTz\"><span class=\"domestic_txt__2YFi_\">네이버페이 결제시 <i class=\"npaypoint\" title=\"npaypoint\"></i>1%+1,500원 적립</span></p></div></div></div><div class=\"route_Route__2UInh\"><span class=\"route_airport__3VT7M\"><b class=\"route_time__-2Z1T\">17:50</b><i class=\"route_code__3WUFO\">GMP</i></span><span class=\"route_airport__3VT7M\"><b class=\"route_time__-2Z1T\">19:05</b><i class=\"route_code__3WUFO\">CJU</i></span><i class=\"route_info__1RhUH\">01시간 15분</i></div></div></div><button class=\"domestic_select_schedule__xWQ-K\" type=\"button\"></button><div class=\"domestic_prices__3N88F\"><div class=\"domestic_item__2B--k\"><i class=\"domestic_type__30RSq\">일반석</i><b class=\"domestic_price__1qAgw\"><span class=\"domestic_txt__2YFi_\">편도 </span><i class=\"domestic_num__2roTW\">132,200</i><span class=\"unit\">원~</span></b></div><div class=\"domestic_item_promotion__2q5bH\"><i class=\"domestic_type__30RSq\">삼성카드 결제시 7.1% 캐시백</i><b class=\"domestic_price__1qAgw\"><span class=\"domestic_txt__2YFi_\">편도 </span><i class=\"domestic_num__2roTW\">123,480</i><span class=\"unit\">원~</span></b></div></div></div></div>,\n",
       " <div class=\"domestic_Flight__sK0eA result\"><div class=\"domestic_inner__15-bD\"><div class=\"domestic_schedule__1Whiq\"><div class=\"domestic_item__2B--k\"><div class=\"heading\"><div class=\"airline\"><div class=\"logos\"><img alt=\"아시아나항공\" class=\"logo\" src=\"https://vertical.pstatic.net/vertical/static/flight/airlines/OZ.png\"/></div><b class=\"name\">아시아나항공</b></div><div class=\"info\"><i class=\"npay\">1%적립</i><div class=\"domestic_PromotionBadge__2aHzU\"><i aria-expanded=\"false\" class=\"domestic_badge__20kwD\" role=\"button\">이벤트혜택</i><p class=\"domestic_layer__2cpTz\"><span class=\"domestic_txt__2YFi_\">네이버페이 결제시 <i class=\"npaypoint\" title=\"npaypoint\"></i>1%+1,500원 적립</span></p></div></div></div><div class=\"route_Route__2UInh\"><span class=\"route_airport__3VT7M\"><b class=\"route_time__-2Z1T\">17:50</b><i class=\"route_code__3WUFO\">GMP</i></span><span class=\"route_airport__3VT7M\"><b class=\"route_time__-2Z1T\">19:00</b><i class=\"route_code__3WUFO\">CJU</i></span><i class=\"route_info__1RhUH\">01시간 10분</i></div></div></div><button class=\"domestic_select_schedule__xWQ-K\" type=\"button\"></button><div class=\"domestic_prices__3N88F\"><div class=\"domestic_item__2B--k\"><i class=\"domestic_type__30RSq\">일반석</i><b class=\"domestic_price__1qAgw\"><span class=\"domestic_txt__2YFi_\">편도 </span><i class=\"domestic_num__2roTW\">147,000</i><span class=\"unit\">원~</span></b></div><div class=\"domestic_item_promotion__2q5bH\"><i class=\"domestic_type__30RSq\">삼성카드 결제시 4.5% 캐시백</i><b class=\"domestic_price__1qAgw\"><span class=\"domestic_txt__2YFi_\">편도 </span><i class=\"domestic_num__2roTW\">140,400</i><span class=\"unit\">원~</span></b></div></div></div></div>,\n",
       " <div class=\"domestic_Flight__sK0eA result\"><div class=\"domestic_inner__15-bD\"><div class=\"domestic_schedule__1Whiq\"><div class=\"domestic_item__2B--k\"><div class=\"heading\"><div class=\"airline\"><div class=\"logos\"><img alt=\"티웨이항공\" class=\"logo\" src=\"https://vertical.pstatic.net/vertical/static/flight/airlines/TW.png\"/></div><b class=\"name\">티웨이항공</b></div><div class=\"info\"><i class=\"npay\">1%적립</i><div class=\"domestic_PromotionBadge__2aHzU\"><i aria-expanded=\"false\" class=\"domestic_badge__20kwD\" role=\"button\">이벤트혜택</i><p class=\"domestic_layer__2cpTz\"><span class=\"domestic_txt__2YFi_\">네이버페이 결제시 <i class=\"npaypoint\" title=\"npaypoint\"></i>1%+1,500원 적립</span></p></div></div></div><div class=\"route_Route__2UInh\"><span class=\"route_airport__3VT7M\"><b class=\"route_time__-2Z1T\">17:50</b><i class=\"route_code__3WUFO\">GMP</i></span><span class=\"route_airport__3VT7M\"><b class=\"route_time__-2Z1T\">19:05</b><i class=\"route_code__3WUFO\">CJU</i></span><i class=\"route_info__1RhUH\">01시간 15분</i></div></div></div><button class=\"domestic_select_schedule__xWQ-K\" type=\"button\"></button><div class=\"domestic_prices__3N88F\"><div class=\"domestic_item__2B--k\"><i class=\"domestic_type__30RSq\">비즈니스석</i><b class=\"domestic_price__1qAgw\"><span class=\"domestic_txt__2YFi_\">편도 </span><i class=\"domestic_num__2roTW\">189,200</i><span class=\"unit\">원~</span></b></div><div class=\"domestic_item_promotion__2q5bH\"><i class=\"domestic_type__30RSq\">삼성카드 결제시 7.1% 캐시백</i><b class=\"domestic_price__1qAgw\"><span class=\"domestic_txt__2YFi_\">편도 </span><i class=\"domestic_num__2roTW\">176,410</i><span class=\"unit\">원~</span></b></div></div></div></div>,\n",
       " <div class=\"domestic_Flight__sK0eA result\"><div class=\"domestic_inner__15-bD\"><div class=\"domestic_schedule__1Whiq\"><div class=\"domestic_item__2B--k\"><div class=\"heading\"><div class=\"airline\"><div class=\"logos\"><img alt=\"에어부산\" class=\"logo\" src=\"https://vertical.pstatic.net/vertical/static/flight/airlines/BX.png\"/></div><b class=\"name\">에어부산</b></div><div class=\"info\"></div></div><div class=\"route_Route__2UInh\"><span class=\"route_airport__3VT7M\"><b class=\"route_time__-2Z1T\">18:10</b><i class=\"route_code__3WUFO\">GMP</i></span><span class=\"route_airport__3VT7M\"><b class=\"route_time__-2Z1T\">19:20</b><i class=\"route_code__3WUFO\">CJU</i></span><i class=\"route_info__1RhUH\">01시간 10분</i></div></div></div><button class=\"domestic_select_schedule__xWQ-K\" type=\"button\"></button><div class=\"domestic_prices__3N88F\"><div class=\"domestic_item__2B--k\"><i class=\"domestic_type__30RSq\">일반석</i><b class=\"domestic_price__1qAgw\"><span class=\"domestic_txt__2YFi_\">편도 </span><i class=\"domestic_num__2roTW\">133,000</i><span class=\"unit\">원~</span></b></div><div class=\"domestic_item_promotion__2q5bH\"><i class=\"domestic_type__30RSq\">롯데카드 결제시 4.4% 캐시백</i><b class=\"domestic_price__1qAgw\"><span class=\"domestic_txt__2YFi_\">편도 </span><i class=\"domestic_num__2roTW\">127,160</i><span class=\"unit\">원~</span></b></div></div></div></div>,\n",
       " <div class=\"domestic_Flight__sK0eA result\"><div class=\"domestic_inner__15-bD\"><div class=\"domestic_schedule__1Whiq\"><div class=\"domestic_item__2B--k\"><div class=\"heading\"><div class=\"airline\"><div class=\"logos\"><img alt=\"대한항공\" class=\"logo\" src=\"https://vertical.pstatic.net/vertical/static/flight/airlines/KE.png\"/></div><b class=\"name\">대한항공</b></div><div class=\"info\"></div></div><div class=\"route_Route__2UInh\"><span class=\"route_airport__3VT7M\"><b class=\"route_time__-2Z1T\">18:20</b><i class=\"route_code__3WUFO\">GMP</i></span><span class=\"route_airport__3VT7M\"><b class=\"route_time__-2Z1T\">19:30</b><i class=\"route_code__3WUFO\">CJU</i></span><i class=\"route_info__1RhUH\">01시간 10분</i></div></div></div><button class=\"domestic_select_schedule__xWQ-K\" type=\"button\"></button><div class=\"domestic_prices__3N88F\"><div class=\"domestic_item__2B--k\"><i class=\"domestic_type__30RSq\">일반석</i><b class=\"domestic_price__1qAgw\"><span class=\"domestic_txt__2YFi_\">편도 </span><i class=\"domestic_num__2roTW\">144,000</i><span class=\"unit\">원~</span></b></div><div class=\"domestic_item_promotion__2q5bH\"><i class=\"domestic_type__30RSq\">삼성카드 결제시 7.3% 캐시백</i><b class=\"domestic_price__1qAgw\"><span class=\"domestic_txt__2YFi_\">편도 </span><i class=\"domestic_num__2roTW\">133,560</i><span class=\"unit\">원~</span></b></div></div></div></div>,\n",
       " <div class=\"domestic_Flight__sK0eA result\"><div class=\"domestic_inner__15-bD\"><div class=\"domestic_schedule__1Whiq\"><div class=\"domestic_item__2B--k\"><div class=\"heading\"><div class=\"airline\"><div class=\"logos\"><img alt=\"아시아나항공\" class=\"logo\" src=\"https://vertical.pstatic.net/vertical/static/flight/airlines/OZ.png\"/></div><b class=\"name\">아시아나항공</b></div><div class=\"info\"><i class=\"npay\">1%적립</i><div class=\"domestic_PromotionBadge__2aHzU\"><i aria-expanded=\"false\" class=\"domestic_badge__20kwD\" role=\"button\">이벤트혜택</i><p class=\"domestic_layer__2cpTz\"><span class=\"domestic_txt__2YFi_\">네이버페이 결제시 <i class=\"npaypoint\" title=\"npaypoint\"></i>1%+1,500원 적립</span></p></div></div></div><div class=\"route_Route__2UInh\"><span class=\"route_airport__3VT7M\"><b class=\"route_time__-2Z1T\">18:25</b><i class=\"route_code__3WUFO\">GMP</i></span><span class=\"route_airport__3VT7M\"><b class=\"route_time__-2Z1T\">19:35</b><i class=\"route_code__3WUFO\">CJU</i></span><i class=\"route_info__1RhUH\">01시간 10분</i></div></div></div><button class=\"domestic_select_schedule__xWQ-K\" type=\"button\"></button><div class=\"domestic_prices__3N88F\"><div class=\"domestic_item__2B--k\"><i class=\"domestic_type__30RSq\">할인석</i><b class=\"domestic_price__1qAgw\"><span class=\"domestic_txt__2YFi_\">편도 </span><i class=\"domestic_num__2roTW\">141,000</i><span class=\"unit\">원~</span></b></div><div class=\"domestic_item_promotion__2q5bH\"><i class=\"domestic_type__30RSq\">삼성카드 결제시 4.5% 캐시백</i><b class=\"domestic_price__1qAgw\"><span class=\"domestic_txt__2YFi_\">편도 </span><i class=\"domestic_num__2roTW\">134,670</i><span class=\"unit\">원~</span></b></div></div></div></div>,\n",
       " <div class=\"domestic_Flight__sK0eA result\"><div class=\"domestic_inner__15-bD\"><div class=\"domestic_schedule__1Whiq\"><div class=\"domestic_item__2B--k\"><div class=\"heading\"><div class=\"airline\"><div class=\"logos\"><img alt=\"아시아나항공\" class=\"logo\" src=\"https://vertical.pstatic.net/vertical/static/flight/airlines/OZ.png\"/></div><b class=\"name\">아시아나항공</b></div><div class=\"info\"><i class=\"npay\">1%적립</i><div class=\"domestic_PromotionBadge__2aHzU\"><i aria-expanded=\"false\" class=\"domestic_badge__20kwD\" role=\"button\">이벤트혜택</i><p class=\"domestic_layer__2cpTz\"><span class=\"domestic_txt__2YFi_\">네이버페이 결제시 <i class=\"npaypoint\" title=\"npaypoint\"></i>1%+1,500원 적립</span></p></div></div></div><div class=\"route_Route__2UInh\"><span class=\"route_airport__3VT7M\"><b class=\"route_time__-2Z1T\">18:25</b><i class=\"route_code__3WUFO\">GMP</i></span><span class=\"route_airport__3VT7M\"><b class=\"route_time__-2Z1T\">19:35</b><i class=\"route_code__3WUFO\">CJU</i></span><i class=\"route_info__1RhUH\">01시간 10분</i></div></div></div><button class=\"domestic_select_schedule__xWQ-K\" type=\"button\"></button><div class=\"domestic_prices__3N88F\"><div class=\"domestic_item__2B--k\"><i class=\"domestic_type__30RSq\">일반석</i><b class=\"domestic_price__1qAgw\"><span class=\"domestic_txt__2YFi_\">편도 </span><i class=\"domestic_num__2roTW\">147,000</i><span class=\"unit\">원~</span></b></div><div class=\"domestic_item_promotion__2q5bH\"><i class=\"domestic_type__30RSq\">삼성카드 결제시 4.5% 캐시백</i><b class=\"domestic_price__1qAgw\"><span class=\"domestic_txt__2YFi_\">편도 </span><i class=\"domestic_num__2roTW\">140,400</i><span class=\"unit\">원~</span></b></div></div></div></div>,\n",
       " <div class=\"domestic_Flight__sK0eA result\"><div class=\"domestic_inner__15-bD\"><div class=\"domestic_schedule__1Whiq\"><div class=\"domestic_item__2B--k\"><div class=\"heading\"><div class=\"airline\"><div class=\"logos\"><img alt=\"대한항공\" class=\"logo\" src=\"https://vertical.pstatic.net/vertical/static/flight/airlines/KE.png\"/></div><b class=\"name\">대한항공</b></div><div class=\"info\"></div></div><div class=\"route_Route__2UInh\"><span class=\"route_airport__3VT7M\"><b class=\"route_time__-2Z1T\">18:35</b><i class=\"route_code__3WUFO\">GMP</i></span><span class=\"route_airport__3VT7M\"><b class=\"route_time__-2Z1T\">19:45</b><i class=\"route_code__3WUFO\">CJU</i></span><i class=\"route_info__1RhUH\">01시간 10분</i></div></div></div><button class=\"domestic_select_schedule__xWQ-K\" type=\"button\"></button><div class=\"domestic_prices__3N88F\"><div class=\"domestic_item__2B--k\"><i class=\"domestic_type__30RSq\">일반석</i><b class=\"domestic_price__1qAgw\"><span class=\"domestic_txt__2YFi_\">편도 </span><i class=\"domestic_num__2roTW\">144,000</i><span class=\"unit\">원~</span></b></div><div class=\"domestic_item_promotion__2q5bH\"><i class=\"domestic_type__30RSq\">삼성카드 결제시 7.3% 캐시백</i><b class=\"domestic_price__1qAgw\"><span class=\"domestic_txt__2YFi_\">편도 </span><i class=\"domestic_num__2roTW\">133,560</i><span class=\"unit\">원~</span></b></div></div></div></div>,\n",
       " <div class=\"domestic_Flight__sK0eA result\"><div class=\"domestic_inner__15-bD\"><div class=\"domestic_schedule__1Whiq\"><div class=\"domestic_item__2B--k\"><div class=\"heading\"><div class=\"airline\"><div class=\"logos\"><img alt=\"대한항공\" class=\"logo\" src=\"https://vertical.pstatic.net/vertical/static/flight/airlines/KE.png\"/></div><b class=\"name\">대한항공</b></div><div class=\"info\"></div></div><div class=\"route_Route__2UInh\"><span class=\"route_airport__3VT7M\"><b class=\"route_time__-2Z1T\">18:35</b><i class=\"route_code__3WUFO\">GMP</i></span><span class=\"route_airport__3VT7M\"><b class=\"route_time__-2Z1T\">19:45</b><i class=\"route_code__3WUFO\">CJU</i></span><i class=\"route_info__1RhUH\">01시간 10분</i></div></div></div><button class=\"domestic_select_schedule__xWQ-K\" type=\"button\"></button><div class=\"domestic_prices__3N88F\"><div class=\"domestic_item__2B--k\"><i class=\"domestic_type__30RSq\">비즈니스석</i><b class=\"domestic_price__1qAgw\"><span class=\"domestic_txt__2YFi_\">편도 </span><i class=\"domestic_num__2roTW\">204,000</i><span class=\"unit\">원~</span></b></div><div class=\"domestic_item_promotion__2q5bH\"><i class=\"domestic_type__30RSq\">삼성카드 결제시 7.3% 캐시백</i><b class=\"domestic_price__1qAgw\"><span class=\"domestic_txt__2YFi_\">편도 </span><i class=\"domestic_num__2roTW\">189,180</i><span class=\"unit\">원~</span></b></div></div></div></div>,\n",
       " <div class=\"domestic_Flight__sK0eA result\"><div class=\"domestic_inner__15-bD\"><div class=\"domestic_schedule__1Whiq\"><div class=\"domestic_item__2B--k\"><div class=\"heading\"><div class=\"airline\"><div class=\"logos\"><img alt=\"아시아나항공\" class=\"logo\" src=\"https://vertical.pstatic.net/vertical/static/flight/airlines/OZ.png\"/></div><b class=\"name\">아시아나항공</b></div><div class=\"info\"><i class=\"npay\">1%적립</i><div class=\"domestic_PromotionBadge__2aHzU\"><i aria-expanded=\"false\" class=\"domestic_badge__20kwD\" role=\"button\">이벤트혜택</i><p class=\"domestic_layer__2cpTz\"><span class=\"domestic_txt__2YFi_\">네이버페이 결제시 <i class=\"npaypoint\" title=\"npaypoint\"></i>1%+1,500원 적립</span></p></div></div></div><div class=\"route_Route__2UInh\"><span class=\"route_airport__3VT7M\"><b class=\"route_time__-2Z1T\">18:45</b><i class=\"route_code__3WUFO\">GMP</i></span><span class=\"route_airport__3VT7M\"><b class=\"route_time__-2Z1T\">19:55</b><i class=\"route_code__3WUFO\">CJU</i></span><i class=\"route_info__1RhUH\">01시간 10분</i></div></div></div><button class=\"domestic_select_schedule__xWQ-K\" type=\"button\"></button><div class=\"domestic_prices__3N88F\"><div class=\"domestic_item__2B--k\"><i class=\"domestic_type__30RSq\">할인석</i><b class=\"domestic_price__1qAgw\"><span class=\"domestic_txt__2YFi_\">편도 </span><i class=\"domestic_num__2roTW\">141,000</i><span class=\"unit\">원~</span></b></div><div class=\"domestic_item_promotion__2q5bH\"><i class=\"domestic_type__30RSq\">삼성카드 결제시 4.5% 캐시백</i><b class=\"domestic_price__1qAgw\"><span class=\"domestic_txt__2YFi_\">편도 </span><i class=\"domestic_num__2roTW\">134,670</i><span class=\"unit\">원~</span></b></div></div></div></div>,\n",
       " <div class=\"domestic_Flight__sK0eA result\"><div class=\"domestic_inner__15-bD\"><div class=\"domestic_schedule__1Whiq\"><div class=\"domestic_item__2B--k\"><div class=\"heading\"><div class=\"airline\"><div class=\"logos\"><img alt=\"아시아나항공\" class=\"logo\" src=\"https://vertical.pstatic.net/vertical/static/flight/airlines/OZ.png\"/></div><b class=\"name\">아시아나항공</b></div><div class=\"info\"><i class=\"npay\">1%적립</i><div class=\"domestic_PromotionBadge__2aHzU\"><i aria-expanded=\"false\" class=\"domestic_badge__20kwD\" role=\"button\">이벤트혜택</i><p class=\"domestic_layer__2cpTz\"><span class=\"domestic_txt__2YFi_\">네이버페이 결제시 <i class=\"npaypoint\" title=\"npaypoint\"></i>1%+1,500원 적립</span></p></div></div></div><div class=\"route_Route__2UInh\"><span class=\"route_airport__3VT7M\"><b class=\"route_time__-2Z1T\">18:45</b><i class=\"route_code__3WUFO\">GMP</i></span><span class=\"route_airport__3VT7M\"><b class=\"route_time__-2Z1T\">19:55</b><i class=\"route_code__3WUFO\">CJU</i></span><i class=\"route_info__1RhUH\">01시간 10분</i></div></div></div><button class=\"domestic_select_schedule__xWQ-K\" type=\"button\"></button><div class=\"domestic_prices__3N88F\"><div class=\"domestic_item__2B--k\"><i class=\"domestic_type__30RSq\">일반석</i><b class=\"domestic_price__1qAgw\"><span class=\"domestic_txt__2YFi_\">편도 </span><i class=\"domestic_num__2roTW\">147,000</i><span class=\"unit\">원~</span></b></div><div class=\"domestic_item_promotion__2q5bH\"><i class=\"domestic_type__30RSq\">삼성카드 결제시 4.5% 캐시백</i><b class=\"domestic_price__1qAgw\"><span class=\"domestic_txt__2YFi_\">편도 </span><i class=\"domestic_num__2roTW\">140,400</i><span class=\"unit\">원~</span></b></div></div></div></div>,\n",
       " <div class=\"domestic_Flight__sK0eA result\"><div class=\"domestic_inner__15-bD\"><div class=\"domestic_schedule__1Whiq\"><div class=\"domestic_item__2B--k\"><div class=\"heading\"><div class=\"airline\"><div class=\"logos\"><img alt=\"아시아나항공\" class=\"logo\" src=\"https://vertical.pstatic.net/vertical/static/flight/airlines/OZ.png\"/></div><b class=\"name\">아시아나항공</b></div><div class=\"info\"><i class=\"npay\">1%적립</i><div class=\"domestic_PromotionBadge__2aHzU\"><i aria-expanded=\"false\" class=\"domestic_badge__20kwD\" role=\"button\">이벤트혜택</i><p class=\"domestic_layer__2cpTz\"><span class=\"domestic_txt__2YFi_\">네이버페이 결제시 <i class=\"npaypoint\" title=\"npaypoint\"></i>1%+1,500원 적립</span></p></div></div></div><div class=\"route_Route__2UInh\"><span class=\"route_airport__3VT7M\"><b class=\"route_time__-2Z1T\">18:45</b><i class=\"route_code__3WUFO\">GMP</i></span><span class=\"route_airport__3VT7M\"><b class=\"route_time__-2Z1T\">19:55</b><i class=\"route_code__3WUFO\">CJU</i></span><i class=\"route_info__1RhUH\">01시간 10분</i></div></div></div><button class=\"domestic_select_schedule__xWQ-K\" type=\"button\"></button><div class=\"domestic_prices__3N88F\"><div class=\"domestic_item__2B--k\"><i class=\"domestic_type__30RSq\">비즈니스석</i><b class=\"domestic_price__1qAgw\"><span class=\"domestic_txt__2YFi_\">편도 </span><i class=\"domestic_num__2roTW\">204,000</i><span class=\"unit\">원~</span></b></div><div class=\"domestic_item_promotion__2q5bH\"><i class=\"domestic_type__30RSq\">삼성카드 결제시 4.5% 캐시백</i><b class=\"domestic_price__1qAgw\"><span class=\"domestic_txt__2YFi_\">편도 </span><i class=\"domestic_num__2roTW\">194,820</i><span class=\"unit\">원~</span></b></div></div></div></div>,\n",
       " <div class=\"domestic_Flight__sK0eA result\"><div class=\"domestic_inner__15-bD\"><div class=\"domestic_schedule__1Whiq\"><div class=\"domestic_item__2B--k\"><div class=\"heading\"><div class=\"airline\"><div class=\"logos\"><img alt=\"에어부산\" class=\"logo\" src=\"https://vertical.pstatic.net/vertical/static/flight/airlines/BX.png\"/></div><b class=\"name\">에어부산</b></div><div class=\"info\"></div></div><div class=\"route_Route__2UInh\"><span class=\"route_airport__3VT7M\"><b class=\"route_time__-2Z1T\">18:50</b><i class=\"route_code__3WUFO\">GMP</i></span><span class=\"route_airport__3VT7M\"><b class=\"route_time__-2Z1T\">19:55</b><i class=\"route_code__3WUFO\">CJU</i></span><i class=\"route_info__1RhUH\">01시간 05분</i></div></div></div><button class=\"domestic_select_schedule__xWQ-K\" type=\"button\"></button><div class=\"domestic_prices__3N88F\"><div class=\"domestic_item__2B--k\"><i class=\"domestic_type__30RSq\">일반석</i><b class=\"domestic_price__1qAgw\"><span class=\"domestic_txt__2YFi_\">편도 </span><i class=\"domestic_num__2roTW\">133,000</i><span class=\"unit\">원~</span></b></div><div class=\"domestic_item_promotion__2q5bH\"><i class=\"domestic_type__30RSq\">롯데카드 결제시 4.4% 캐시백</i><b class=\"domestic_price__1qAgw\"><span class=\"domestic_txt__2YFi_\">편도 </span><i class=\"domestic_num__2roTW\">127,160</i><span class=\"unit\">원~</span></b></div></div></div></div>,\n",
       " <div class=\"domestic_Flight__sK0eA result\"><div class=\"domestic_inner__15-bD\"><div class=\"domestic_schedule__1Whiq\"><div class=\"domestic_item__2B--k\"><div class=\"heading\"><div class=\"airline\"><div class=\"logos\"><img alt=\"대한항공\" class=\"logo\" src=\"https://vertical.pstatic.net/vertical/static/flight/airlines/KE.png\"/></div><b class=\"name\">대한항공</b></div><div class=\"info\"></div></div><div class=\"route_Route__2UInh\"><span class=\"route_airport__3VT7M\"><b class=\"route_time__-2Z1T\">18:55</b><i class=\"route_code__3WUFO\">GMP</i></span><span class=\"route_airport__3VT7M\"><b class=\"route_time__-2Z1T\">20:10</b><i class=\"route_code__3WUFO\">CJU</i></span><i class=\"route_info__1RhUH\">01시간 15분</i></div></div></div><button class=\"domestic_select_schedule__xWQ-K\" type=\"button\"></button><div class=\"domestic_prices__3N88F\"><div class=\"domestic_item__2B--k\"><i class=\"domestic_type__30RSq\">일반석</i><b class=\"domestic_price__1qAgw\"><span class=\"domestic_txt__2YFi_\">편도 </span><i class=\"domestic_num__2roTW\">144,000</i><span class=\"unit\">원~</span></b></div><div class=\"domestic_item_promotion__2q5bH\"><i class=\"domestic_type__30RSq\">삼성카드 결제시 7.3% 캐시백</i><b class=\"domestic_price__1qAgw\"><span class=\"domestic_txt__2YFi_\">편도 </span><i class=\"domestic_num__2roTW\">133,560</i><span class=\"unit\">원~</span></b></div></div></div></div>,\n",
       " <div class=\"domestic_Flight__sK0eA result\"><div class=\"domestic_inner__15-bD\"><div class=\"domestic_schedule__1Whiq\"><div class=\"domestic_item__2B--k\"><div class=\"heading\"><div class=\"airline\"><div class=\"logos\"><img alt=\"대한항공\" class=\"logo\" src=\"https://vertical.pstatic.net/vertical/static/flight/airlines/KE.png\"/></div><b class=\"name\">대한항공</b></div><div class=\"info\"></div></div><div class=\"route_Route__2UInh\"><span class=\"route_airport__3VT7M\"><b class=\"route_time__-2Z1T\">19:20</b><i class=\"route_code__3WUFO\">GMP</i></span><span class=\"route_airport__3VT7M\"><b class=\"route_time__-2Z1T\">20:30</b><i class=\"route_code__3WUFO\">CJU</i></span><i class=\"route_info__1RhUH\">01시간 10분</i></div></div></div><button class=\"domestic_select_schedule__xWQ-K\" type=\"button\"></button><div class=\"domestic_prices__3N88F\"><div class=\"domestic_item__2B--k\"><i class=\"domestic_type__30RSq\">비즈니스석</i><b class=\"domestic_price__1qAgw\"><span class=\"domestic_txt__2YFi_\">편도 </span><i class=\"domestic_num__2roTW\">204,000</i><span class=\"unit\">원~</span></b></div><div class=\"domestic_item_promotion__2q5bH\"><i class=\"domestic_type__30RSq\">삼성카드 결제시 7.3% 캐시백</i><b class=\"domestic_price__1qAgw\"><span class=\"domestic_txt__2YFi_\">편도 </span><i class=\"domestic_num__2roTW\">189,180</i><span class=\"unit\">원~</span></b></div></div></div></div>,\n",
       " <div class=\"domestic_Flight__sK0eA result\"><div class=\"domestic_inner__15-bD\"><div class=\"domestic_schedule__1Whiq\"><div class=\"domestic_item__2B--k\"><div class=\"heading\"><div class=\"airline\"><div class=\"logos\"><img alt=\"진에어\" class=\"logo\" src=\"https://vertical.pstatic.net/vertical/static/flight/airlines/LJ.png\"/></div><b class=\"name\">진에어</b></div><div class=\"info\"><i class=\"npay\">1%적립</i><div class=\"domestic_PromotionBadge__2aHzU\"><i aria-expanded=\"false\" class=\"domestic_badge__20kwD\" role=\"button\">이벤트혜택</i><p class=\"domestic_layer__2cpTz\"><span class=\"domestic_txt__2YFi_\">네이버페이 결제시 <i class=\"npaypoint\" title=\"npaypoint\"></i>1%+1,500원 적립</span></p></div></div></div><div class=\"route_Route__2UInh\"><span class=\"route_airport__3VT7M\"><b class=\"route_time__-2Z1T\">20:10</b><i class=\"route_code__3WUFO\">GMP</i></span><span class=\"route_airport__3VT7M\"><b class=\"route_time__-2Z1T\">21:25</b><i class=\"route_code__3WUFO\">CJU</i></span><i class=\"route_info__1RhUH\">01시간 15분</i></div></div></div><button class=\"domestic_select_schedule__xWQ-K\" type=\"button\"></button><div class=\"domestic_prices__3N88F\"><div class=\"domestic_item__2B--k\"><i class=\"domestic_type__30RSq\">일반석</i><b class=\"domestic_price__1qAgw\"><span class=\"domestic_txt__2YFi_\">편도 </span><i class=\"domestic_num__2roTW\">134,000</i><span class=\"unit\">원~</span></b></div><div class=\"domestic_item_promotion__2q5bH\"><i class=\"domestic_type__30RSq\">롯데카드 결제시 5.8% 캐시백</i><b class=\"domestic_price__1qAgw\"><span class=\"domestic_txt__2YFi_\">편도 </span><i class=\"domestic_num__2roTW\">126,180</i><span class=\"unit\">원~</span></b></div></div></div></div>]"
      ]
     },
     "execution_count": 83,
     "metadata": {},
     "output_type": "execute_result"
    }
   ],
   "source": [
    "flights"
   ]
  },
  {
   "cell_type": "code",
   "execution_count": 9,
   "id": "a663d275",
   "metadata": {},
   "outputs": [
    {
     "data": {
      "text/html": [
       "<div>\n",
       "<style scoped>\n",
       "    .dataframe tbody tr th:only-of-type {\n",
       "        vertical-align: middle;\n",
       "    }\n",
       "\n",
       "    .dataframe tbody tr th {\n",
       "        vertical-align: top;\n",
       "    }\n",
       "\n",
       "    .dataframe thead th {\n",
       "        text-align: right;\n",
       "    }\n",
       "</style>\n",
       "<table border=\"1\" class=\"dataframe\">\n",
       "  <thead>\n",
       "    <tr style=\"text-align: right;\">\n",
       "      <th></th>\n",
       "      <th>항공사</th>\n",
       "      <th>출발시간</th>\n",
       "      <th>도착시간</th>\n",
       "      <th>소요시간</th>\n",
       "      <th>가격</th>\n",
       "      <th>카드사</th>\n",
       "    </tr>\n",
       "  </thead>\n",
       "  <tbody>\n",
       "    <tr>\n",
       "      <th>0</th>\n",
       "      <td>티웨이항공</td>\n",
       "      <td>06:40</td>\n",
       "      <td>07:50</td>\n",
       "      <td>01시간 10분</td>\n",
       "      <td>132,500</td>\n",
       "      <td>KB국민카드</td>\n",
       "    </tr>\n",
       "    <tr>\n",
       "      <th>1</th>\n",
       "      <td>티웨이항공</td>\n",
       "      <td>11:45</td>\n",
       "      <td>12:55</td>\n",
       "      <td>01시간 10분</td>\n",
       "      <td>132,500</td>\n",
       "      <td>KB국민카드</td>\n",
       "    </tr>\n",
       "    <tr>\n",
       "      <th>2</th>\n",
       "      <td>티웨이항공</td>\n",
       "      <td>14:05</td>\n",
       "      <td>15:15</td>\n",
       "      <td>01시간 10분</td>\n",
       "      <td>132,200</td>\n",
       "      <td>삼성카드</td>\n",
       "    </tr>\n",
       "    <tr>\n",
       "      <th>3</th>\n",
       "      <td>에어부산</td>\n",
       "      <td>15:05</td>\n",
       "      <td>16:15</td>\n",
       "      <td>01시간 10분</td>\n",
       "      <td>133,000</td>\n",
       "      <td>삼성카드</td>\n",
       "    </tr>\n",
       "    <tr>\n",
       "      <th>4</th>\n",
       "      <td>아시아나항공</td>\n",
       "      <td>16:35</td>\n",
       "      <td>17:50</td>\n",
       "      <td>01시간 15분</td>\n",
       "      <td>123,000</td>\n",
       "      <td>삼성카드</td>\n",
       "    </tr>\n",
       "  </tbody>\n",
       "</table>\n",
       "</div>"
      ],
      "text/plain": [
       "      항공사   출발시간   도착시간      소요시간       가격     카드사\n",
       "0   티웨이항공  06:40  07:50  01시간 10분  132,500  KB국민카드\n",
       "1   티웨이항공  11:45  12:55  01시간 10분  132,500  KB국민카드\n",
       "2   티웨이항공  14:05  15:15  01시간 10분  132,200    삼성카드\n",
       "3    에어부산  15:05  16:15  01시간 10분  133,000    삼성카드\n",
       "4  아시아나항공  16:35  17:50  01시간 15분  123,000    삼성카드"
      ]
     },
     "execution_count": 9,
     "metadata": {},
     "output_type": "execute_result"
    }
   ],
   "source": [
    "df.head()"
   ]
  },
  {
   "cell_type": "markdown",
   "id": "1a155c9c",
   "metadata": {},
   "source": [
    "# 퀴즈"
   ]
  },
  {
   "cell_type": "code",
   "execution_count": 87,
   "id": "6113d011",
   "metadata": {},
   "outputs": [],
   "source": [
    "import matplotlib.pyplot as plt\n",
    "import seaborn as sns\n",
    "from matplotlib import font_manager, rc\n",
    "\n",
    "font_name = font_manager.FontProperties(fname=\"c:/Windows/Fonts/malgun.ttf\").get_name()\n",
    "rc('font', family=font_name)"
   ]
  },
  {
   "cell_type": "code",
   "execution_count": 10,
   "id": "13d9a68a",
   "metadata": {},
   "outputs": [
    {
     "data": {
      "text/plain": [
       "0     132,500\n",
       "1     132,500\n",
       "2     132,200\n",
       "3     133,000\n",
       "4     123,000\n",
       "       ...   \n",
       "63    204,000\n",
       "64     93,000\n",
       "65    147,000\n",
       "66     99,000\n",
       "67    147,000\n",
       "Name: 가격, Length: 68, dtype: object"
      ]
     },
     "execution_count": 10,
     "metadata": {},
     "output_type": "execute_result"
    }
   ],
   "source": [
    "# 질문1 제주도 항공권 평균가격\n",
    "df['가격']"
   ]
  },
  {
   "cell_type": "code",
   "execution_count": 11,
   "id": "83d3a0d8",
   "metadata": {
    "scrolled": true
   },
   "outputs": [
    {
     "data": {
      "text/plain": [
       "[132500,\n",
       " 132500,\n",
       " 132200,\n",
       " 133000,\n",
       " 123000,\n",
       " 147000,\n",
       " 133500,\n",
       " 119900,\n",
       " 134000,\n",
       " 144000,\n",
       " 132200,\n",
       " 144000,\n",
       " 133000,\n",
       " 132200,\n",
       " 189200,\n",
       " 111000,\n",
       " 147000,\n",
       " 133000,\n",
       " 99000,\n",
       " 121000,\n",
       " 147000,\n",
       " 204000,\n",
       " 204000,\n",
       " 133500,\n",
       " 101900,\n",
       " 134000,\n",
       " 132200,\n",
       " 133000,\n",
       " 98000,\n",
       " 204000,\n",
       " 93000,\n",
       " 147000,\n",
       " 98000,\n",
       " 93000,\n",
       " 147000,\n",
       " 184000,\n",
       " 93000,\n",
       " 98000,\n",
       " 110900,\n",
       " 133500,\n",
       " 147000,\n",
       " 204000,\n",
       " 204000,\n",
       " 103900,\n",
       " 133500,\n",
       " 184500,\n",
       " 93000,\n",
       " 104000,\n",
       " 132900,\n",
       " 134000,\n",
       " 147000,\n",
       " 204000,\n",
       " 204000,\n",
       " 133500,\n",
       " 132200,\n",
       " 134000,\n",
       " 103900,\n",
       " 133500,\n",
       " 95900,\n",
       " 98000,\n",
       " 103900,\n",
       " 133500,\n",
       " 133500,\n",
       " 204000,\n",
       " 93000,\n",
       " 147000,\n",
       " 99000,\n",
       " 147000]"
      ]
     },
     "execution_count": 11,
     "metadata": {},
     "output_type": "execute_result"
    }
   ],
   "source": [
    "tmp = []\n",
    "for i in df['가격']:\n",
    "    tmp.append(int(i.replace(',','')))\n",
    "tmp"
   ]
  },
  {
   "cell_type": "code",
   "execution_count": 12,
   "id": "0854f826",
   "metadata": {},
   "outputs": [
    {
     "data": {
      "text/plain": [
       "68"
      ]
     },
     "execution_count": 12,
     "metadata": {},
     "output_type": "execute_result"
    }
   ],
   "source": [
    "len(tmp)"
   ]
  },
  {
   "cell_type": "code",
   "execution_count": 13,
   "id": "d7a69974",
   "metadata": {},
   "outputs": [],
   "source": [
    "df['가격1'] = tmp"
   ]
  },
  {
   "cell_type": "code",
   "execution_count": 14,
   "id": "29a2f781",
   "metadata": {},
   "outputs": [
    {
     "data": {
      "text/html": [
       "<div>\n",
       "<style scoped>\n",
       "    .dataframe tbody tr th:only-of-type {\n",
       "        vertical-align: middle;\n",
       "    }\n",
       "\n",
       "    .dataframe tbody tr th {\n",
       "        vertical-align: top;\n",
       "    }\n",
       "\n",
       "    .dataframe thead th {\n",
       "        text-align: right;\n",
       "    }\n",
       "</style>\n",
       "<table border=\"1\" class=\"dataframe\">\n",
       "  <thead>\n",
       "    <tr style=\"text-align: right;\">\n",
       "      <th></th>\n",
       "      <th>항공사</th>\n",
       "      <th>출발시간</th>\n",
       "      <th>도착시간</th>\n",
       "      <th>소요시간</th>\n",
       "      <th>가격</th>\n",
       "      <th>카드사</th>\n",
       "      <th>가격1</th>\n",
       "    </tr>\n",
       "  </thead>\n",
       "  <tbody>\n",
       "    <tr>\n",
       "      <th>0</th>\n",
       "      <td>티웨이항공</td>\n",
       "      <td>06:40</td>\n",
       "      <td>07:50</td>\n",
       "      <td>01시간 10분</td>\n",
       "      <td>132,500</td>\n",
       "      <td>KB국민카드</td>\n",
       "      <td>132500</td>\n",
       "    </tr>\n",
       "    <tr>\n",
       "      <th>1</th>\n",
       "      <td>티웨이항공</td>\n",
       "      <td>11:45</td>\n",
       "      <td>12:55</td>\n",
       "      <td>01시간 10분</td>\n",
       "      <td>132,500</td>\n",
       "      <td>KB국민카드</td>\n",
       "      <td>132500</td>\n",
       "    </tr>\n",
       "    <tr>\n",
       "      <th>2</th>\n",
       "      <td>티웨이항공</td>\n",
       "      <td>14:05</td>\n",
       "      <td>15:15</td>\n",
       "      <td>01시간 10분</td>\n",
       "      <td>132,200</td>\n",
       "      <td>삼성카드</td>\n",
       "      <td>132200</td>\n",
       "    </tr>\n",
       "    <tr>\n",
       "      <th>3</th>\n",
       "      <td>에어부산</td>\n",
       "      <td>15:05</td>\n",
       "      <td>16:15</td>\n",
       "      <td>01시간 10분</td>\n",
       "      <td>133,000</td>\n",
       "      <td>삼성카드</td>\n",
       "      <td>133000</td>\n",
       "    </tr>\n",
       "    <tr>\n",
       "      <th>4</th>\n",
       "      <td>아시아나항공</td>\n",
       "      <td>16:35</td>\n",
       "      <td>17:50</td>\n",
       "      <td>01시간 15분</td>\n",
       "      <td>123,000</td>\n",
       "      <td>삼성카드</td>\n",
       "      <td>123000</td>\n",
       "    </tr>\n",
       "  </tbody>\n",
       "</table>\n",
       "</div>"
      ],
      "text/plain": [
       "      항공사   출발시간   도착시간      소요시간       가격     카드사     가격1\n",
       "0   티웨이항공  06:40  07:50  01시간 10분  132,500  KB국민카드  132500\n",
       "1   티웨이항공  11:45  12:55  01시간 10분  132,500  KB국민카드  132500\n",
       "2   티웨이항공  14:05  15:15  01시간 10분  132,200    삼성카드  132200\n",
       "3    에어부산  15:05  16:15  01시간 10분  133,000    삼성카드  133000\n",
       "4  아시아나항공  16:35  17:50  01시간 15분  123,000    삼성카드  123000"
      ]
     },
     "execution_count": 14,
     "metadata": {},
     "output_type": "execute_result"
    }
   ],
   "source": [
    "df.head()"
   ]
  },
  {
   "cell_type": "code",
   "execution_count": 15,
   "id": "95788504",
   "metadata": {},
   "outputs": [
    {
     "data": {
      "text/plain": [
       "항공사     object\n",
       "출발시간    object\n",
       "도착시간    object\n",
       "소요시간    object\n",
       "가격      object\n",
       "카드사     object\n",
       "가격1      int64\n",
       "dtype: object"
      ]
     },
     "execution_count": 15,
     "metadata": {},
     "output_type": "execute_result"
    }
   ],
   "source": [
    "df.dtypes"
   ]
  },
  {
   "cell_type": "code",
   "execution_count": 20,
   "id": "1eea7287",
   "metadata": {},
   "outputs": [
    {
     "data": {
      "text/plain": [
       "136027"
      ]
     },
     "execution_count": 20,
     "metadata": {},
     "output_type": "execute_result"
    }
   ],
   "source": [
    "int(df['가격1'].sum() / len(df))"
   ]
  },
  {
   "cell_type": "code",
   "execution_count": 21,
   "id": "5a688f87",
   "metadata": {},
   "outputs": [],
   "source": [
    "# 질문2 시간별 제주도 항공권 평균가격\n",
    "df1 = df.copy()"
   ]
  },
  {
   "cell_type": "code",
   "execution_count": 22,
   "id": "bc07b231",
   "metadata": {},
   "outputs": [
    {
     "data": {
      "text/html": [
       "<div>\n",
       "<style scoped>\n",
       "    .dataframe tbody tr th:only-of-type {\n",
       "        vertical-align: middle;\n",
       "    }\n",
       "\n",
       "    .dataframe tbody tr th {\n",
       "        vertical-align: top;\n",
       "    }\n",
       "\n",
       "    .dataframe thead th {\n",
       "        text-align: right;\n",
       "    }\n",
       "</style>\n",
       "<table border=\"1\" class=\"dataframe\">\n",
       "  <thead>\n",
       "    <tr style=\"text-align: right;\">\n",
       "      <th></th>\n",
       "      <th>항공사</th>\n",
       "      <th>출발시간</th>\n",
       "      <th>도착시간</th>\n",
       "      <th>소요시간</th>\n",
       "      <th>가격</th>\n",
       "      <th>카드사</th>\n",
       "      <th>가격1</th>\n",
       "    </tr>\n",
       "  </thead>\n",
       "  <tbody>\n",
       "    <tr>\n",
       "      <th>0</th>\n",
       "      <td>티웨이항공</td>\n",
       "      <td>06:40</td>\n",
       "      <td>07:50</td>\n",
       "      <td>01시간 10분</td>\n",
       "      <td>132,500</td>\n",
       "      <td>KB국민카드</td>\n",
       "      <td>132500</td>\n",
       "    </tr>\n",
       "    <tr>\n",
       "      <th>1</th>\n",
       "      <td>티웨이항공</td>\n",
       "      <td>11:45</td>\n",
       "      <td>12:55</td>\n",
       "      <td>01시간 10분</td>\n",
       "      <td>132,500</td>\n",
       "      <td>KB국민카드</td>\n",
       "      <td>132500</td>\n",
       "    </tr>\n",
       "    <tr>\n",
       "      <th>2</th>\n",
       "      <td>티웨이항공</td>\n",
       "      <td>14:05</td>\n",
       "      <td>15:15</td>\n",
       "      <td>01시간 10분</td>\n",
       "      <td>132,200</td>\n",
       "      <td>삼성카드</td>\n",
       "      <td>132200</td>\n",
       "    </tr>\n",
       "    <tr>\n",
       "      <th>3</th>\n",
       "      <td>에어부산</td>\n",
       "      <td>15:05</td>\n",
       "      <td>16:15</td>\n",
       "      <td>01시간 10분</td>\n",
       "      <td>133,000</td>\n",
       "      <td>삼성카드</td>\n",
       "      <td>133000</td>\n",
       "    </tr>\n",
       "    <tr>\n",
       "      <th>4</th>\n",
       "      <td>아시아나항공</td>\n",
       "      <td>16:35</td>\n",
       "      <td>17:50</td>\n",
       "      <td>01시간 15분</td>\n",
       "      <td>123,000</td>\n",
       "      <td>삼성카드</td>\n",
       "      <td>123000</td>\n",
       "    </tr>\n",
       "  </tbody>\n",
       "</table>\n",
       "</div>"
      ],
      "text/plain": [
       "      항공사   출발시간   도착시간      소요시간       가격     카드사     가격1\n",
       "0   티웨이항공  06:40  07:50  01시간 10분  132,500  KB국민카드  132500\n",
       "1   티웨이항공  11:45  12:55  01시간 10분  132,500  KB국민카드  132500\n",
       "2   티웨이항공  14:05  15:15  01시간 10분  132,200    삼성카드  132200\n",
       "3    에어부산  15:05  16:15  01시간 10분  133,000    삼성카드  133000\n",
       "4  아시아나항공  16:35  17:50  01시간 15분  123,000    삼성카드  123000"
      ]
     },
     "execution_count": 22,
     "metadata": {},
     "output_type": "execute_result"
    }
   ],
   "source": [
    "df1.head()"
   ]
  },
  {
   "cell_type": "code",
   "execution_count": 23,
   "id": "81869b3a",
   "metadata": {},
   "outputs": [
    {
     "data": {
      "text/plain": [
       "0     06:40\n",
       "1     11:45\n",
       "2     14:05\n",
       "3     15:05\n",
       "4     16:35\n",
       "      ...  \n",
       "63    20:30\n",
       "64    20:50\n",
       "65    20:50\n",
       "66    21:20\n",
       "67    21:20\n",
       "Name: 출발시간, Length: 68, dtype: object"
      ]
     },
     "execution_count": 23,
     "metadata": {},
     "output_type": "execute_result"
    }
   ],
   "source": [
    "df1['출발시간']"
   ]
  },
  {
   "cell_type": "code",
   "execution_count": 25,
   "id": "4ae91a46",
   "metadata": {},
   "outputs": [
    {
     "data": {
      "text/plain": [
       "0     06:40\n",
       "1     11:45\n",
       "2     14:05\n",
       "3     15:05\n",
       "4     16:35\n",
       "      ...  \n",
       "63    20:30\n",
       "64    20:50\n",
       "65    20:50\n",
       "66    21:20\n",
       "67    21:20\n",
       "Name: 출발시간, Length: 68, dtype: object"
      ]
     },
     "execution_count": 25,
     "metadata": {},
     "output_type": "execute_result"
    }
   ],
   "source": [
    "df1['출발시간'].sort_values()"
   ]
  },
  {
   "cell_type": "code",
   "execution_count": null,
   "id": "cbf8e609",
   "metadata": {},
   "outputs": [],
   "source": [
    "'''\n",
    "00:00 ~ 01:00 -> 0        12:00 ~ 13:00 -> 12\n",
    "01:00 ~ 02:00 -> 1        13:00 ~ 14:00 -> 13\n",
    "02:00 ~ 03:00 -> 2        14:00 ~ 15:00 -> 14\n",
    "03:00 ~ 04:00 -> 3        15:00 ~ 16:00 -> 15\n",
    "04:00 ~ 05:00 -> 4        16:00 ~ 17:00 -> 16\n",
    "05:00 ~ 06:00 -> 5        17:00 ~ 18:00 -> 17\n",
    "06:00 ~ 07:00 -> 6        18:00 ~ 19:00 -> 18\n",
    "07:00 ~ 08:00 -> 7        19:00 ~ 20:00 -> 19\n",
    "08:00 ~ 09:00 -> 8        20:00 ~ 21:00 -> 20\n",
    "09:00 ~ 10:00 -> 9        21:00 ~ 22:00 -> 21\n",
    "10:00 ~ 11:00 -> 10       22:00 ~ 23:00 -> 22\n",
    "11:00 ~ 12:00 -> 11       23:00 ~ 24:00 -> 23\n",
    "'''"
   ]
  },
  {
   "cell_type": "code",
   "execution_count": 27,
   "id": "e93a3e37",
   "metadata": {},
   "outputs": [
    {
     "data": {
      "text/plain": [
       "'06'"
      ]
     },
     "execution_count": 27,
     "metadata": {},
     "output_type": "execute_result"
    }
   ],
   "source": [
    "df1['출발시간'][0][:2]"
   ]
  },
  {
   "cell_type": "code",
   "execution_count": 28,
   "id": "7218b6f6",
   "metadata": {},
   "outputs": [
    {
     "data": {
      "text/plain": [
       "6"
      ]
     },
     "execution_count": 28,
     "metadata": {},
     "output_type": "execute_result"
    }
   ],
   "source": [
    "int('06')"
   ]
  },
  {
   "cell_type": "code",
   "execution_count": 29,
   "id": "6dabf3e6",
   "metadata": {},
   "outputs": [],
   "source": [
    "tmp = []\n",
    "for i in df1['출발시간']:\n",
    "    tmp.append(i[:2])"
   ]
  },
  {
   "cell_type": "code",
   "execution_count": 30,
   "id": "08412450",
   "metadata": {
    "scrolled": true
   },
   "outputs": [
    {
     "data": {
      "text/plain": [
       "['06',\n",
       " '11',\n",
       " '14',\n",
       " '15',\n",
       " '16',\n",
       " '16',\n",
       " '16',\n",
       " '17',\n",
       " '17',\n",
       " '17',\n",
       " '17',\n",
       " '17',\n",
       " '17',\n",
       " '17',\n",
       " '17',\n",
       " '17',\n",
       " '17',\n",
       " '17',\n",
       " '17',\n",
       " '17',\n",
       " '17',\n",
       " '17',\n",
       " '17',\n",
       " '17',\n",
       " '18',\n",
       " '18',\n",
       " '18',\n",
       " '18',\n",
       " '18',\n",
       " '18',\n",
       " '18',\n",
       " '18',\n",
       " '18',\n",
       " '18',\n",
       " '18',\n",
       " '18',\n",
       " '18',\n",
       " '18',\n",
       " '18',\n",
       " '18',\n",
       " '18',\n",
       " '18',\n",
       " '18',\n",
       " '19',\n",
       " '19',\n",
       " '19',\n",
       " '19',\n",
       " '19',\n",
       " '19',\n",
       " '19',\n",
       " '19',\n",
       " '19',\n",
       " '19',\n",
       " '19',\n",
       " '19',\n",
       " '19',\n",
       " '20',\n",
       " '20',\n",
       " '20',\n",
       " '20',\n",
       " '20',\n",
       " '20',\n",
       " '20',\n",
       " '20',\n",
       " '20',\n",
       " '20',\n",
       " '21',\n",
       " '21']"
      ]
     },
     "execution_count": 30,
     "metadata": {},
     "output_type": "execute_result"
    }
   ],
   "source": [
    "tmp"
   ]
  },
  {
   "cell_type": "code",
   "execution_count": 31,
   "id": "e5962030",
   "metadata": {},
   "outputs": [],
   "source": [
    "df1['시간별'] = tmp"
   ]
  },
  {
   "cell_type": "code",
   "execution_count": 32,
   "id": "a7be549b",
   "metadata": {},
   "outputs": [
    {
     "data": {
      "text/html": [
       "<div>\n",
       "<style scoped>\n",
       "    .dataframe tbody tr th:only-of-type {\n",
       "        vertical-align: middle;\n",
       "    }\n",
       "\n",
       "    .dataframe tbody tr th {\n",
       "        vertical-align: top;\n",
       "    }\n",
       "\n",
       "    .dataframe thead th {\n",
       "        text-align: right;\n",
       "    }\n",
       "</style>\n",
       "<table border=\"1\" class=\"dataframe\">\n",
       "  <thead>\n",
       "    <tr style=\"text-align: right;\">\n",
       "      <th></th>\n",
       "      <th>항공사</th>\n",
       "      <th>출발시간</th>\n",
       "      <th>도착시간</th>\n",
       "      <th>소요시간</th>\n",
       "      <th>가격</th>\n",
       "      <th>카드사</th>\n",
       "      <th>가격1</th>\n",
       "      <th>시간별</th>\n",
       "    </tr>\n",
       "  </thead>\n",
       "  <tbody>\n",
       "    <tr>\n",
       "      <th>0</th>\n",
       "      <td>티웨이항공</td>\n",
       "      <td>06:40</td>\n",
       "      <td>07:50</td>\n",
       "      <td>01시간 10분</td>\n",
       "      <td>132,500</td>\n",
       "      <td>KB국민카드</td>\n",
       "      <td>132500</td>\n",
       "      <td>06</td>\n",
       "    </tr>\n",
       "    <tr>\n",
       "      <th>1</th>\n",
       "      <td>티웨이항공</td>\n",
       "      <td>11:45</td>\n",
       "      <td>12:55</td>\n",
       "      <td>01시간 10분</td>\n",
       "      <td>132,500</td>\n",
       "      <td>KB국민카드</td>\n",
       "      <td>132500</td>\n",
       "      <td>11</td>\n",
       "    </tr>\n",
       "    <tr>\n",
       "      <th>2</th>\n",
       "      <td>티웨이항공</td>\n",
       "      <td>14:05</td>\n",
       "      <td>15:15</td>\n",
       "      <td>01시간 10분</td>\n",
       "      <td>132,200</td>\n",
       "      <td>삼성카드</td>\n",
       "      <td>132200</td>\n",
       "      <td>14</td>\n",
       "    </tr>\n",
       "    <tr>\n",
       "      <th>3</th>\n",
       "      <td>에어부산</td>\n",
       "      <td>15:05</td>\n",
       "      <td>16:15</td>\n",
       "      <td>01시간 10분</td>\n",
       "      <td>133,000</td>\n",
       "      <td>삼성카드</td>\n",
       "      <td>133000</td>\n",
       "      <td>15</td>\n",
       "    </tr>\n",
       "    <tr>\n",
       "      <th>4</th>\n",
       "      <td>아시아나항공</td>\n",
       "      <td>16:35</td>\n",
       "      <td>17:50</td>\n",
       "      <td>01시간 15분</td>\n",
       "      <td>123,000</td>\n",
       "      <td>삼성카드</td>\n",
       "      <td>123000</td>\n",
       "      <td>16</td>\n",
       "    </tr>\n",
       "  </tbody>\n",
       "</table>\n",
       "</div>"
      ],
      "text/plain": [
       "      항공사   출발시간   도착시간      소요시간       가격     카드사     가격1 시간별\n",
       "0   티웨이항공  06:40  07:50  01시간 10분  132,500  KB국민카드  132500  06\n",
       "1   티웨이항공  11:45  12:55  01시간 10분  132,500  KB국민카드  132500  11\n",
       "2   티웨이항공  14:05  15:15  01시간 10분  132,200    삼성카드  132200  14\n",
       "3    에어부산  15:05  16:15  01시간 10분  133,000    삼성카드  133000  15\n",
       "4  아시아나항공  16:35  17:50  01시간 15분  123,000    삼성카드  123000  16"
      ]
     },
     "execution_count": 32,
     "metadata": {},
     "output_type": "execute_result"
    }
   ],
   "source": [
    "df1.head()"
   ]
  },
  {
   "cell_type": "code",
   "execution_count": 85,
   "id": "70d2a9d3",
   "metadata": {},
   "outputs": [
    {
     "data": {
      "text/plain": [
       "시간별\n",
       "06    132500\n",
       "11    132500\n",
       "14    132200\n",
       "15    133000\n",
       "16    134500\n",
       "17    142823\n",
       "18    134500\n",
       "19    141576\n",
       "20    124620\n",
       "21    123000\n",
       "Name: 가격1, dtype: int32"
      ]
     },
     "execution_count": 85,
     "metadata": {},
     "output_type": "execute_result"
    }
   ],
   "source": [
    "tmp = df1.groupby('시간별')['가격1'].mean().astype('int')\n",
    "tmp"
   ]
  },
  {
   "cell_type": "code",
   "execution_count": 89,
   "id": "8449a7a4",
   "metadata": {},
   "outputs": [
    {
     "data": {
      "text/plain": [
       "<AxesSubplot:xlabel='시간별'>"
      ]
     },
     "execution_count": 89,
     "metadata": {},
     "output_type": "execute_result"
    },
    {
     "data": {
      "image/png": "[encoded data removed]",
      "text/plain": [
       "<Figure size 432x288 with 1 Axes>"
      ]
     },
     "metadata": {
      "needs_background": "light"
     },
     "output_type": "display_data"
    }
   ],
   "source": [
    "tmp.plot(kind='bar')"
   ]
  },
  {
   "cell_type": "code",
   "execution_count": 45,
   "id": "9c54b734",
   "metadata": {},
   "outputs": [],
   "source": [
    "dict_time_mean = {\n",
    "    '06': 132500,\n",
    "    '11': 132500,\n",
    "    '14': 132200,\n",
    "    '15': 133000,\n",
    "    '16': 134500,\n",
    "    '17': 142823,\n",
    "    '18': 134500,\n",
    "    '19': 141576,\n",
    "    '20': 124620,\n",
    "    '21': 123000\n",
    "}"
   ]
  },
  {
   "cell_type": "code",
   "execution_count": 46,
   "id": "d8d63cf5",
   "metadata": {},
   "outputs": [
    {
     "data": {
      "text/plain": [
       "0     132500\n",
       "1     132500\n",
       "2     132200\n",
       "3     133000\n",
       "4     134500\n",
       "       ...  \n",
       "63    124620\n",
       "64    124620\n",
       "65    124620\n",
       "66    123000\n",
       "67    123000\n",
       "Name: 시간별, Length: 68, dtype: int64"
      ]
     },
     "execution_count": 46,
     "metadata": {},
     "output_type": "execute_result"
    }
   ],
   "source": [
    "df1['시간별'].map(dict_time_mean)"
   ]
  },
  {
   "cell_type": "code",
   "execution_count": 47,
   "id": "d1c6c2bd",
   "metadata": {},
   "outputs": [],
   "source": [
    "df1['시간별 평균가격'] = df1['시간별'].map(dict)"
   ]
  },
  {
   "cell_type": "code",
   "execution_count": 48,
   "id": "12502811",
   "metadata": {},
   "outputs": [
    {
     "data": {
      "text/html": [
       "<div>\n",
       "<style scoped>\n",
       "    .dataframe tbody tr th:only-of-type {\n",
       "        vertical-align: middle;\n",
       "    }\n",
       "\n",
       "    .dataframe tbody tr th {\n",
       "        vertical-align: top;\n",
       "    }\n",
       "\n",
       "    .dataframe thead th {\n",
       "        text-align: right;\n",
       "    }\n",
       "</style>\n",
       "<table border=\"1\" class=\"dataframe\">\n",
       "  <thead>\n",
       "    <tr style=\"text-align: right;\">\n",
       "      <th></th>\n",
       "      <th>항공사</th>\n",
       "      <th>출발시간</th>\n",
       "      <th>도착시간</th>\n",
       "      <th>소요시간</th>\n",
       "      <th>가격</th>\n",
       "      <th>카드사</th>\n",
       "      <th>가격1</th>\n",
       "      <th>시간별</th>\n",
       "      <th>시간별 평균가격</th>\n",
       "    </tr>\n",
       "  </thead>\n",
       "  <tbody>\n",
       "    <tr>\n",
       "      <th>0</th>\n",
       "      <td>티웨이항공</td>\n",
       "      <td>06:40</td>\n",
       "      <td>07:50</td>\n",
       "      <td>01시간 10분</td>\n",
       "      <td>132,500</td>\n",
       "      <td>KB국민카드</td>\n",
       "      <td>132500</td>\n",
       "      <td>06</td>\n",
       "      <td>132500</td>\n",
       "    </tr>\n",
       "    <tr>\n",
       "      <th>1</th>\n",
       "      <td>티웨이항공</td>\n",
       "      <td>11:45</td>\n",
       "      <td>12:55</td>\n",
       "      <td>01시간 10분</td>\n",
       "      <td>132,500</td>\n",
       "      <td>KB국민카드</td>\n",
       "      <td>132500</td>\n",
       "      <td>11</td>\n",
       "      <td>132500</td>\n",
       "    </tr>\n",
       "    <tr>\n",
       "      <th>2</th>\n",
       "      <td>티웨이항공</td>\n",
       "      <td>14:05</td>\n",
       "      <td>15:15</td>\n",
       "      <td>01시간 10분</td>\n",
       "      <td>132,200</td>\n",
       "      <td>삼성카드</td>\n",
       "      <td>132200</td>\n",
       "      <td>14</td>\n",
       "      <td>132200</td>\n",
       "    </tr>\n",
       "    <tr>\n",
       "      <th>3</th>\n",
       "      <td>에어부산</td>\n",
       "      <td>15:05</td>\n",
       "      <td>16:15</td>\n",
       "      <td>01시간 10분</td>\n",
       "      <td>133,000</td>\n",
       "      <td>삼성카드</td>\n",
       "      <td>133000</td>\n",
       "      <td>15</td>\n",
       "      <td>133000</td>\n",
       "    </tr>\n",
       "    <tr>\n",
       "      <th>4</th>\n",
       "      <td>아시아나항공</td>\n",
       "      <td>16:35</td>\n",
       "      <td>17:50</td>\n",
       "      <td>01시간 15분</td>\n",
       "      <td>123,000</td>\n",
       "      <td>삼성카드</td>\n",
       "      <td>123000</td>\n",
       "      <td>16</td>\n",
       "      <td>134500</td>\n",
       "    </tr>\n",
       "  </tbody>\n",
       "</table>\n",
       "</div>"
      ],
      "text/plain": [
       "      항공사   출발시간   도착시간      소요시간       가격     카드사     가격1 시간별  시간별 평균가격\n",
       "0   티웨이항공  06:40  07:50  01시간 10분  132,500  KB국민카드  132500  06    132500\n",
       "1   티웨이항공  11:45  12:55  01시간 10분  132,500  KB국민카드  132500  11    132500\n",
       "2   티웨이항공  14:05  15:15  01시간 10분  132,200    삼성카드  132200  14    132200\n",
       "3    에어부산  15:05  16:15  01시간 10분  133,000    삼성카드  133000  15    133000\n",
       "4  아시아나항공  16:35  17:50  01시간 15분  123,000    삼성카드  123000  16    134500"
      ]
     },
     "execution_count": 48,
     "metadata": {},
     "output_type": "execute_result"
    }
   ],
   "source": [
    "df1.head()"
   ]
  },
  {
   "cell_type": "code",
   "execution_count": 83,
   "id": "7606272d",
   "metadata": {},
   "outputs": [
    {
     "data": {
      "text/plain": [
       "array([132500, 132200, 133000, 134500, 142823, 141576, 124620, 123000],\n",
       "      dtype=int64)"
      ]
     },
     "execution_count": 83,
     "metadata": {},
     "output_type": "execute_result"
    }
   ],
   "source": [
    "df1['시간별 평균가격'].unique()"
   ]
  },
  {
   "cell_type": "code",
   "execution_count": 92,
   "id": "5fa898fb",
   "metadata": {},
   "outputs": [
    {
     "data": {
      "text/plain": [
       "항공사\n",
       "대한항공      148076\n",
       "아시아나항공    137090\n",
       "에어부산      133000\n",
       "에어서울      122450\n",
       "제주항공      126500\n",
       "진에어       133633\n",
       "티웨이항공     139400\n",
       "Name: 가격1, dtype: int32"
      ]
     },
     "execution_count": 92,
     "metadata": {},
     "output_type": "execute_result"
    }
   ],
   "source": [
    "# 질문3 항공사별 항공권 평균가격\n",
    "tmp = df1.groupby('항공사')['가격1'].mean().astype('int')\n",
    "tmp"
   ]
  },
  {
   "cell_type": "code",
   "execution_count": 98,
   "id": "aeb0ca62",
   "metadata": {},
   "outputs": [
    {
     "data": {
      "text/plain": [
       "<AxesSubplot:xlabel='항공사'>"
      ]
     },
     "execution_count": 98,
     "metadata": {},
     "output_type": "execute_result"
    },
    {
     "data": {
      "image/png": "[encoded data removed]",
      "text/plain": [
       "<Figure size 432x288 with 1 Axes>"
      ]
     },
     "metadata": {
      "needs_background": "light"
     },
     "output_type": "display_data"
    }
   ],
   "source": [
    "tmp = tmp.sort_values(ascending=False)\n",
    "tmp.plot(kind='bar')"
   ]
  },
  {
   "cell_type": "code",
   "execution_count": 51,
   "id": "48618ee1",
   "metadata": {},
   "outputs": [],
   "source": [
    "dict_airline_mean = {\n",
    "    '대한항공'      : 148076,\n",
    "    '아시아나항공'  : 137090,\n",
    "    '에어부산'      : 133000,\n",
    "    '에어서울'      : 122450,\n",
    "    '제주항공'      : 126500,\n",
    "    '진에어'        : 133633,\n",
    "    '티웨이항공'    : 139400\n",
    "}"
   ]
  },
  {
   "cell_type": "code",
   "execution_count": 90,
   "id": "b3393a25",
   "metadata": {},
   "outputs": [
    {
     "data": {
      "text/plain": [
       "0     139400\n",
       "1     139400\n",
       "2     139400\n",
       "3     133000\n",
       "4     137090\n",
       "       ...  \n",
       "63    148076\n",
       "64    137090\n",
       "65    137090\n",
       "66    137090\n",
       "67    137090\n",
       "Name: 항공사, Length: 68, dtype: int64"
      ]
     },
     "execution_count": 90,
     "metadata": {},
     "output_type": "execute_result"
    }
   ],
   "source": [
    "tmp = df1['항공사'].map(dict_airline_mean)\n",
    "tmp"
   ]
  },
  {
   "cell_type": "code",
   "execution_count": 53,
   "id": "8abb911d",
   "metadata": {},
   "outputs": [],
   "source": [
    "df1['항공사별 평균가격'] = df1['항공사'].map(dict_airline_mean)"
   ]
  },
  {
   "cell_type": "code",
   "execution_count": 54,
   "id": "642ec8a7",
   "metadata": {},
   "outputs": [
    {
     "data": {
      "text/html": [
       "<div>\n",
       "<style scoped>\n",
       "    .dataframe tbody tr th:only-of-type {\n",
       "        vertical-align: middle;\n",
       "    }\n",
       "\n",
       "    .dataframe tbody tr th {\n",
       "        vertical-align: top;\n",
       "    }\n",
       "\n",
       "    .dataframe thead th {\n",
       "        text-align: right;\n",
       "    }\n",
       "</style>\n",
       "<table border=\"1\" class=\"dataframe\">\n",
       "  <thead>\n",
       "    <tr style=\"text-align: right;\">\n",
       "      <th></th>\n",
       "      <th>항공사</th>\n",
       "      <th>출발시간</th>\n",
       "      <th>도착시간</th>\n",
       "      <th>소요시간</th>\n",
       "      <th>가격</th>\n",
       "      <th>카드사</th>\n",
       "      <th>가격1</th>\n",
       "      <th>시간별</th>\n",
       "      <th>시간별 평균가격</th>\n",
       "      <th>항공사별 평균가격</th>\n",
       "    </tr>\n",
       "  </thead>\n",
       "  <tbody>\n",
       "    <tr>\n",
       "      <th>0</th>\n",
       "      <td>티웨이항공</td>\n",
       "      <td>06:40</td>\n",
       "      <td>07:50</td>\n",
       "      <td>01시간 10분</td>\n",
       "      <td>132,500</td>\n",
       "      <td>KB국민카드</td>\n",
       "      <td>132500</td>\n",
       "      <td>06</td>\n",
       "      <td>132500</td>\n",
       "      <td>139400</td>\n",
       "    </tr>\n",
       "    <tr>\n",
       "      <th>1</th>\n",
       "      <td>티웨이항공</td>\n",
       "      <td>11:45</td>\n",
       "      <td>12:55</td>\n",
       "      <td>01시간 10분</td>\n",
       "      <td>132,500</td>\n",
       "      <td>KB국민카드</td>\n",
       "      <td>132500</td>\n",
       "      <td>11</td>\n",
       "      <td>132500</td>\n",
       "      <td>139400</td>\n",
       "    </tr>\n",
       "    <tr>\n",
       "      <th>2</th>\n",
       "      <td>티웨이항공</td>\n",
       "      <td>14:05</td>\n",
       "      <td>15:15</td>\n",
       "      <td>01시간 10분</td>\n",
       "      <td>132,200</td>\n",
       "      <td>삼성카드</td>\n",
       "      <td>132200</td>\n",
       "      <td>14</td>\n",
       "      <td>132200</td>\n",
       "      <td>139400</td>\n",
       "    </tr>\n",
       "    <tr>\n",
       "      <th>3</th>\n",
       "      <td>에어부산</td>\n",
       "      <td>15:05</td>\n",
       "      <td>16:15</td>\n",
       "      <td>01시간 10분</td>\n",
       "      <td>133,000</td>\n",
       "      <td>삼성카드</td>\n",
       "      <td>133000</td>\n",
       "      <td>15</td>\n",
       "      <td>133000</td>\n",
       "      <td>133000</td>\n",
       "    </tr>\n",
       "    <tr>\n",
       "      <th>4</th>\n",
       "      <td>아시아나항공</td>\n",
       "      <td>16:35</td>\n",
       "      <td>17:50</td>\n",
       "      <td>01시간 15분</td>\n",
       "      <td>123,000</td>\n",
       "      <td>삼성카드</td>\n",
       "      <td>123000</td>\n",
       "      <td>16</td>\n",
       "      <td>134500</td>\n",
       "      <td>137090</td>\n",
       "    </tr>\n",
       "  </tbody>\n",
       "</table>\n",
       "</div>"
      ],
      "text/plain": [
       "      항공사   출발시간   도착시간      소요시간       가격     카드사     가격1 시간별  시간별 평균가격  \\\n",
       "0   티웨이항공  06:40  07:50  01시간 10분  132,500  KB국민카드  132500  06    132500   \n",
       "1   티웨이항공  11:45  12:55  01시간 10분  132,500  KB국민카드  132500  11    132500   \n",
       "2   티웨이항공  14:05  15:15  01시간 10분  132,200    삼성카드  132200  14    132200   \n",
       "3    에어부산  15:05  16:15  01시간 10분  133,000    삼성카드  133000  15    133000   \n",
       "4  아시아나항공  16:35  17:50  01시간 15분  123,000    삼성카드  123000  16    134500   \n",
       "\n",
       "   항공사별 평균가격  \n",
       "0     139400  \n",
       "1     139400  \n",
       "2     139400  \n",
       "3     133000  \n",
       "4     137090  "
      ]
     },
     "execution_count": 54,
     "metadata": {},
     "output_type": "execute_result"
    }
   ],
   "source": [
    "df1.head()"
   ]
  },
  {
   "cell_type": "code",
   "execution_count": 99,
   "id": "9b6de159",
   "metadata": {},
   "outputs": [
    {
     "data": {
      "text/plain": [
       "아시아나항공    22\n",
       "제주항공      14\n",
       "대한항공      13\n",
       "티웨이항공      8\n",
       "에어부산       4\n",
       "에어서울       4\n",
       "진에어        3\n",
       "Name: 항공사, dtype: int64"
      ]
     },
     "execution_count": 99,
     "metadata": {},
     "output_type": "execute_result"
    }
   ],
   "source": [
    "# 질문4 항공사별 운행횟수\n",
    "tmp = df1['항공사'].value_counts()\n",
    "tmp"
   ]
  },
  {
   "cell_type": "code",
   "execution_count": 100,
   "id": "c5c87761",
   "metadata": {},
   "outputs": [
    {
     "data": {
      "text/plain": [
       "<AxesSubplot:>"
      ]
     },
     "execution_count": 100,
     "metadata": {},
     "output_type": "execute_result"
    },
    {
     "data": {
      "image/png": "[encoded data removed]",
      "text/plain": [
       "<Figure size 432x288 with 1 Axes>"
      ]
     },
     "metadata": {
      "needs_background": "light"
     },
     "output_type": "display_data"
    }
   ],
   "source": [
    "tmp.plot(kind='bar')"
   ]
  },
  {
   "cell_type": "code",
   "execution_count": 58,
   "id": "cb05ed1d",
   "metadata": {},
   "outputs": [],
   "source": [
    "dict_airline_cnt = {\n",
    "    '아시아나항공'  : 22,\n",
    "    '제주항공'      : 14,\n",
    "    '대한항공'      : 13,\n",
    "    '티웨이항공'    : 8,\n",
    "    '에어부산'      : 4,\n",
    "    '에어서울'      : 4,\n",
    "    '진에어'        : 3\n",
    "}"
   ]
  },
  {
   "cell_type": "code",
   "execution_count": 59,
   "id": "0505a9fa",
   "metadata": {},
   "outputs": [
    {
     "data": {
      "text/plain": [
       "0      8\n",
       "1      8\n",
       "2      8\n",
       "3      4\n",
       "4     22\n",
       "      ..\n",
       "63    13\n",
       "64    22\n",
       "65    22\n",
       "66    22\n",
       "67    22\n",
       "Name: 항공사, Length: 68, dtype: int64"
      ]
     },
     "execution_count": 59,
     "metadata": {},
     "output_type": "execute_result"
    }
   ],
   "source": [
    "df1['항공사'].map(dict_airline_cnt)"
   ]
  },
  {
   "cell_type": "code",
   "execution_count": 60,
   "id": "3a05e032",
   "metadata": {},
   "outputs": [],
   "source": [
    "df1['항공사별 운행횟수'] = df1['항공사'].map(dict_airline_cnt)"
   ]
  },
  {
   "cell_type": "code",
   "execution_count": 61,
   "id": "f4bff4a6",
   "metadata": {},
   "outputs": [
    {
     "data": {
      "text/html": [
       "<div>\n",
       "<style scoped>\n",
       "    .dataframe tbody tr th:only-of-type {\n",
       "        vertical-align: middle;\n",
       "    }\n",
       "\n",
       "    .dataframe tbody tr th {\n",
       "        vertical-align: top;\n",
       "    }\n",
       "\n",
       "    .dataframe thead th {\n",
       "        text-align: right;\n",
       "    }\n",
       "</style>\n",
       "<table border=\"1\" class=\"dataframe\">\n",
       "  <thead>\n",
       "    <tr style=\"text-align: right;\">\n",
       "      <th></th>\n",
       "      <th>항공사</th>\n",
       "      <th>출발시간</th>\n",
       "      <th>도착시간</th>\n",
       "      <th>소요시간</th>\n",
       "      <th>가격</th>\n",
       "      <th>카드사</th>\n",
       "      <th>가격1</th>\n",
       "      <th>시간별</th>\n",
       "      <th>시간별 평균가격</th>\n",
       "      <th>항공사별 평균가격</th>\n",
       "      <th>항공사별 운행횟수</th>\n",
       "    </tr>\n",
       "  </thead>\n",
       "  <tbody>\n",
       "    <tr>\n",
       "      <th>0</th>\n",
       "      <td>티웨이항공</td>\n",
       "      <td>06:40</td>\n",
       "      <td>07:50</td>\n",
       "      <td>01시간 10분</td>\n",
       "      <td>132,500</td>\n",
       "      <td>KB국민카드</td>\n",
       "      <td>132500</td>\n",
       "      <td>06</td>\n",
       "      <td>132500</td>\n",
       "      <td>139400</td>\n",
       "      <td>8</td>\n",
       "    </tr>\n",
       "    <tr>\n",
       "      <th>1</th>\n",
       "      <td>티웨이항공</td>\n",
       "      <td>11:45</td>\n",
       "      <td>12:55</td>\n",
       "      <td>01시간 10분</td>\n",
       "      <td>132,500</td>\n",
       "      <td>KB국민카드</td>\n",
       "      <td>132500</td>\n",
       "      <td>11</td>\n",
       "      <td>132500</td>\n",
       "      <td>139400</td>\n",
       "      <td>8</td>\n",
       "    </tr>\n",
       "    <tr>\n",
       "      <th>2</th>\n",
       "      <td>티웨이항공</td>\n",
       "      <td>14:05</td>\n",
       "      <td>15:15</td>\n",
       "      <td>01시간 10분</td>\n",
       "      <td>132,200</td>\n",
       "      <td>삼성카드</td>\n",
       "      <td>132200</td>\n",
       "      <td>14</td>\n",
       "      <td>132200</td>\n",
       "      <td>139400</td>\n",
       "      <td>8</td>\n",
       "    </tr>\n",
       "    <tr>\n",
       "      <th>3</th>\n",
       "      <td>에어부산</td>\n",
       "      <td>15:05</td>\n",
       "      <td>16:15</td>\n",
       "      <td>01시간 10분</td>\n",
       "      <td>133,000</td>\n",
       "      <td>삼성카드</td>\n",
       "      <td>133000</td>\n",
       "      <td>15</td>\n",
       "      <td>133000</td>\n",
       "      <td>133000</td>\n",
       "      <td>4</td>\n",
       "    </tr>\n",
       "    <tr>\n",
       "      <th>4</th>\n",
       "      <td>아시아나항공</td>\n",
       "      <td>16:35</td>\n",
       "      <td>17:50</td>\n",
       "      <td>01시간 15분</td>\n",
       "      <td>123,000</td>\n",
       "      <td>삼성카드</td>\n",
       "      <td>123000</td>\n",
       "      <td>16</td>\n",
       "      <td>134500</td>\n",
       "      <td>137090</td>\n",
       "      <td>22</td>\n",
       "    </tr>\n",
       "  </tbody>\n",
       "</table>\n",
       "</div>"
      ],
      "text/plain": [
       "      항공사   출발시간   도착시간      소요시간       가격     카드사     가격1 시간별  시간별 평균가격  \\\n",
       "0   티웨이항공  06:40  07:50  01시간 10분  132,500  KB국민카드  132500  06    132500   \n",
       "1   티웨이항공  11:45  12:55  01시간 10분  132,500  KB국민카드  132500  11    132500   \n",
       "2   티웨이항공  14:05  15:15  01시간 10분  132,200    삼성카드  132200  14    132200   \n",
       "3    에어부산  15:05  16:15  01시간 10분  133,000    삼성카드  133000  15    133000   \n",
       "4  아시아나항공  16:35  17:50  01시간 15분  123,000    삼성카드  123000  16    134500   \n",
       "\n",
       "   항공사별 평균가격  항공사별 운행횟수  \n",
       "0     139400          8  \n",
       "1     139400          8  \n",
       "2     139400          8  \n",
       "3     133000          4  \n",
       "4     137090         22  "
      ]
     },
     "execution_count": 61,
     "metadata": {},
     "output_type": "execute_result"
    }
   ],
   "source": [
    "df1.head()"
   ]
  },
  {
   "cell_type": "code",
   "execution_count": 101,
   "id": "b44ce34d",
   "metadata": {},
   "outputs": [
    {
     "data": {
      "text/plain": [
       "시간별  항공사   \n",
       "06   티웨이항공     1\n",
       "11   티웨이항공     1\n",
       "14   티웨이항공     1\n",
       "15   에어부산      1\n",
       "16   아시아나항공    2\n",
       "     제주항공      1\n",
       "17   대한항공      4\n",
       "     아시아나항공    5\n",
       "     에어부산      2\n",
       "     에어서울      2\n",
       "     제주항공      1\n",
       "     티웨이항공     3\n",
       "18   대한항공      5\n",
       "     아시아나항공    8\n",
       "     에어부산      1\n",
       "     에어서울      2\n",
       "     제주항공      2\n",
       "     티웨이항공     1\n",
       "19   대한항공      2\n",
       "     아시아나항공    3\n",
       "     제주항공      4\n",
       "     진에어       3\n",
       "     티웨이항공     1\n",
       "20   대한항공      2\n",
       "     아시아나항공    2\n",
       "     제주항공      6\n",
       "21   아시아나항공    2\n",
       "Name: 출발시간, dtype: int64"
      ]
     },
     "execution_count": 101,
     "metadata": {},
     "output_type": "execute_result"
    }
   ],
   "source": [
    "# 질문5 시간대별 항공사별 운행 횟수\n",
    "tmp = df1.groupby(['시간별', '항공사']).count()['출발시간']\n",
    "tmp"
   ]
  },
  {
   "cell_type": "code",
   "execution_count": 108,
   "id": "a62dddb8",
   "metadata": {},
   "outputs": [
    {
     "data": {
      "text/plain": [
       "시간별  항공사   \n",
       "18   아시아나항공    8\n",
       "20   제주항공      6\n",
       "17   아시아나항공    5\n",
       "18   대한항공      5\n",
       "17   대한항공      4\n",
       "Name: 출발시간, dtype: int64"
      ]
     },
     "execution_count": 108,
     "metadata": {},
     "output_type": "execute_result"
    }
   ],
   "source": [
    "tmp =tmp.sort_values(ascending=False)\n",
    "tmp[:5]"
   ]
  },
  {
   "cell_type": "code",
   "execution_count": 109,
   "id": "c1b10e6f",
   "metadata": {},
   "outputs": [
    {
     "data": {
      "text/plain": [
       "<AxesSubplot:xlabel='시간별,항공사'>"
      ]
     },
     "execution_count": 109,
     "metadata": {},
     "output_type": "execute_result"
    },
    {
     "data": {
      "image/png": "[encoded data removed]",
      "text/plain": [
       "<Figure size 432x288 with 1 Axes>"
      ]
     },
     "metadata": {
      "needs_background": "light"
     },
     "output_type": "display_data"
    }
   ],
   "source": [
    "tmp[:5].plot(kind='bar')"
   ]
  },
  {
   "cell_type": "code",
   "execution_count": 76,
   "id": "5ea52259",
   "metadata": {},
   "outputs": [
    {
     "data": {
      "text/plain": [
       "MultiIndex([('06',  '티웨이항공'),\n",
       "            ('11',  '티웨이항공'),\n",
       "            ('14',  '티웨이항공'),\n",
       "            ('15',   '에어부산'),\n",
       "            ('16', '아시아나항공'),\n",
       "            ('16',   '제주항공'),\n",
       "            ('17',   '대한항공'),\n",
       "            ('17', '아시아나항공'),\n",
       "            ('17',   '에어부산'),\n",
       "            ('17',   '에어서울'),\n",
       "            ('17',   '제주항공'),\n",
       "            ('17',  '티웨이항공'),\n",
       "            ('18',   '대한항공'),\n",
       "            ('18', '아시아나항공'),\n",
       "            ('18',   '에어부산'),\n",
       "            ('18',   '에어서울'),\n",
       "            ('18',   '제주항공'),\n",
       "            ('18',  '티웨이항공'),\n",
       "            ('19',   '대한항공'),\n",
       "            ('19', '아시아나항공'),\n",
       "            ('19',   '제주항공'),\n",
       "            ('19',    '진에어'),\n",
       "            ('19',  '티웨이항공'),\n",
       "            ('20',   '대한항공'),\n",
       "            ('20', '아시아나항공'),\n",
       "            ('20',   '제주항공'),\n",
       "            ('21', '아시아나항공')],\n",
       "           names=['시간별', '항공사'])"
      ]
     },
     "execution_count": 76,
     "metadata": {},
     "output_type": "execute_result"
    }
   ],
   "source": [
    "tmp.index"
   ]
  },
  {
   "cell_type": "code",
   "execution_count": 70,
   "id": "e5e3d11f",
   "metadata": {},
   "outputs": [
    {
     "data": {
      "text/plain": [
       "('06', '티웨이항공')"
      ]
     },
     "execution_count": 70,
     "metadata": {},
     "output_type": "execute_result"
    }
   ],
   "source": [
    "tmp.index[0]"
   ]
  },
  {
   "cell_type": "code",
   "execution_count": 71,
   "id": "d220fa64",
   "metadata": {},
   "outputs": [
    {
     "data": {
      "text/plain": [
       "'06'"
      ]
     },
     "execution_count": 71,
     "metadata": {},
     "output_type": "execute_result"
    }
   ],
   "source": [
    "tmp.index[0][0]"
   ]
  },
  {
   "cell_type": "code",
   "execution_count": 72,
   "id": "d26b75f4",
   "metadata": {},
   "outputs": [
    {
     "data": {
      "text/plain": [
       "'티웨이항공'"
      ]
     },
     "execution_count": 72,
     "metadata": {},
     "output_type": "execute_result"
    }
   ],
   "source": [
    "tmp.index[0][1]"
   ]
  },
  {
   "cell_type": "code",
   "execution_count": 77,
   "id": "13b6af2d",
   "metadata": {},
   "outputs": [
    {
     "data": {
      "text/plain": [
       "1"
      ]
     },
     "execution_count": 77,
     "metadata": {},
     "output_type": "execute_result"
    }
   ],
   "source": [
    "tmp.loc[('06', '티웨이항공')]"
   ]
  },
  {
   "cell_type": "code",
   "execution_count": 79,
   "id": "207b9dac",
   "metadata": {},
   "outputs": [
    {
     "data": {
      "text/html": [
       "<div>\n",
       "<style scoped>\n",
       "    .dataframe tbody tr th:only-of-type {\n",
       "        vertical-align: middle;\n",
       "    }\n",
       "\n",
       "    .dataframe tbody tr th {\n",
       "        vertical-align: top;\n",
       "    }\n",
       "\n",
       "    .dataframe thead th {\n",
       "        text-align: right;\n",
       "    }\n",
       "</style>\n",
       "<table border=\"1\" class=\"dataframe\">\n",
       "  <thead>\n",
       "    <tr style=\"text-align: right;\">\n",
       "      <th></th>\n",
       "      <th>항공사</th>\n",
       "      <th>출발시간</th>\n",
       "      <th>도착시간</th>\n",
       "      <th>소요시간</th>\n",
       "      <th>가격</th>\n",
       "      <th>카드사</th>\n",
       "      <th>가격1</th>\n",
       "      <th>시간별</th>\n",
       "      <th>시간별 평균가격</th>\n",
       "      <th>항공사별 평균가격</th>\n",
       "      <th>항공사별 운행횟수</th>\n",
       "    </tr>\n",
       "  </thead>\n",
       "  <tbody>\n",
       "    <tr>\n",
       "      <th>0</th>\n",
       "      <td>티웨이항공</td>\n",
       "      <td>06:40</td>\n",
       "      <td>07:50</td>\n",
       "      <td>01시간 10분</td>\n",
       "      <td>132,500</td>\n",
       "      <td>KB국민카드</td>\n",
       "      <td>132500</td>\n",
       "      <td>06</td>\n",
       "      <td>132500</td>\n",
       "      <td>139400</td>\n",
       "      <td>8</td>\n",
       "    </tr>\n",
       "  </tbody>\n",
       "</table>\n",
       "</div>"
      ],
      "text/plain": [
       "     항공사   출발시간   도착시간      소요시간       가격     카드사     가격1 시간별  시간별 평균가격  \\\n",
       "0  티웨이항공  06:40  07:50  01시간 10분  132,500  KB국민카드  132500  06    132500   \n",
       "\n",
       "   항공사별 평균가격  항공사별 운행횟수  \n",
       "0     139400          8  "
      ]
     },
     "execution_count": 79,
     "metadata": {},
     "output_type": "execute_result"
    }
   ],
   "source": [
    "df1[(df1['시간별'] == tmp.index[0][0]) & (df1['항공사'] == tmp.index[0][1])]"
   ]
  },
  {
   "cell_type": "code",
   "execution_count": 82,
   "id": "65779535",
   "metadata": {},
   "outputs": [
    {
     "data": {
      "text/html": [
       "<div>\n",
       "<style scoped>\n",
       "    .dataframe tbody tr th:only-of-type {\n",
       "        vertical-align: middle;\n",
       "    }\n",
       "\n",
       "    .dataframe tbody tr th {\n",
       "        vertical-align: top;\n",
       "    }\n",
       "\n",
       "    .dataframe thead th {\n",
       "        text-align: right;\n",
       "    }\n",
       "</style>\n",
       "<table border=\"1\" class=\"dataframe\">\n",
       "  <thead>\n",
       "    <tr style=\"text-align: right;\">\n",
       "      <th>항공사</th>\n",
       "      <th>대한항공</th>\n",
       "      <th>아시아나항공</th>\n",
       "      <th>에어부산</th>\n",
       "      <th>에어서울</th>\n",
       "      <th>제주항공</th>\n",
       "      <th>진에어</th>\n",
       "      <th>티웨이항공</th>\n",
       "    </tr>\n",
       "    <tr>\n",
       "      <th>시간별</th>\n",
       "      <th></th>\n",
       "      <th></th>\n",
       "      <th></th>\n",
       "      <th></th>\n",
       "      <th></th>\n",
       "      <th></th>\n",
       "      <th></th>\n",
       "    </tr>\n",
       "  </thead>\n",
       "  <tbody>\n",
       "    <tr>\n",
       "      <th>06</th>\n",
       "      <td>NaN</td>\n",
       "      <td>NaN</td>\n",
       "      <td>NaN</td>\n",
       "      <td>NaN</td>\n",
       "      <td>NaN</td>\n",
       "      <td>NaN</td>\n",
       "      <td>1.0</td>\n",
       "    </tr>\n",
       "    <tr>\n",
       "      <th>11</th>\n",
       "      <td>NaN</td>\n",
       "      <td>NaN</td>\n",
       "      <td>NaN</td>\n",
       "      <td>NaN</td>\n",
       "      <td>NaN</td>\n",
       "      <td>NaN</td>\n",
       "      <td>1.0</td>\n",
       "    </tr>\n",
       "    <tr>\n",
       "      <th>14</th>\n",
       "      <td>NaN</td>\n",
       "      <td>NaN</td>\n",
       "      <td>NaN</td>\n",
       "      <td>NaN</td>\n",
       "      <td>NaN</td>\n",
       "      <td>NaN</td>\n",
       "      <td>1.0</td>\n",
       "    </tr>\n",
       "    <tr>\n",
       "      <th>15</th>\n",
       "      <td>NaN</td>\n",
       "      <td>NaN</td>\n",
       "      <td>1.0</td>\n",
       "      <td>NaN</td>\n",
       "      <td>NaN</td>\n",
       "      <td>NaN</td>\n",
       "      <td>NaN</td>\n",
       "    </tr>\n",
       "    <tr>\n",
       "      <th>16</th>\n",
       "      <td>NaN</td>\n",
       "      <td>2.0</td>\n",
       "      <td>NaN</td>\n",
       "      <td>NaN</td>\n",
       "      <td>1.0</td>\n",
       "      <td>NaN</td>\n",
       "      <td>NaN</td>\n",
       "    </tr>\n",
       "    <tr>\n",
       "      <th>17</th>\n",
       "      <td>4.0</td>\n",
       "      <td>5.0</td>\n",
       "      <td>2.0</td>\n",
       "      <td>2.0</td>\n",
       "      <td>1.0</td>\n",
       "      <td>NaN</td>\n",
       "      <td>3.0</td>\n",
       "    </tr>\n",
       "    <tr>\n",
       "      <th>18</th>\n",
       "      <td>5.0</td>\n",
       "      <td>8.0</td>\n",
       "      <td>1.0</td>\n",
       "      <td>2.0</td>\n",
       "      <td>2.0</td>\n",
       "      <td>NaN</td>\n",
       "      <td>1.0</td>\n",
       "    </tr>\n",
       "    <tr>\n",
       "      <th>19</th>\n",
       "      <td>2.0</td>\n",
       "      <td>3.0</td>\n",
       "      <td>NaN</td>\n",
       "      <td>NaN</td>\n",
       "      <td>4.0</td>\n",
       "      <td>3.0</td>\n",
       "      <td>1.0</td>\n",
       "    </tr>\n",
       "    <tr>\n",
       "      <th>20</th>\n",
       "      <td>2.0</td>\n",
       "      <td>2.0</td>\n",
       "      <td>NaN</td>\n",
       "      <td>NaN</td>\n",
       "      <td>6.0</td>\n",
       "      <td>NaN</td>\n",
       "      <td>NaN</td>\n",
       "    </tr>\n",
       "    <tr>\n",
       "      <th>21</th>\n",
       "      <td>NaN</td>\n",
       "      <td>2.0</td>\n",
       "      <td>NaN</td>\n",
       "      <td>NaN</td>\n",
       "      <td>NaN</td>\n",
       "      <td>NaN</td>\n",
       "      <td>NaN</td>\n",
       "    </tr>\n",
       "  </tbody>\n",
       "</table>\n",
       "</div>"
      ],
      "text/plain": [
       "항공사  대한항공  아시아나항공  에어부산  에어서울  제주항공  진에어  티웨이항공\n",
       "시간별                                            \n",
       "06    NaN     NaN   NaN   NaN   NaN  NaN    1.0\n",
       "11    NaN     NaN   NaN   NaN   NaN  NaN    1.0\n",
       "14    NaN     NaN   NaN   NaN   NaN  NaN    1.0\n",
       "15    NaN     NaN   1.0   NaN   NaN  NaN    NaN\n",
       "16    NaN     2.0   NaN   NaN   1.0  NaN    NaN\n",
       "17    4.0     5.0   2.0   2.0   1.0  NaN    3.0\n",
       "18    5.0     8.0   1.0   2.0   2.0  NaN    1.0\n",
       "19    2.0     3.0   NaN   NaN   4.0  3.0    1.0\n",
       "20    2.0     2.0   NaN   NaN   6.0  NaN    NaN\n",
       "21    NaN     2.0   NaN   NaN   NaN  NaN    NaN"
      ]
     },
     "execution_count": 82,
     "metadata": {},
     "output_type": "execute_result"
    }
   ],
   "source": [
    "tmp.unstack(1)"
   ]
  },
  {
   "cell_type": "code",
   "execution_count": 110,
   "id": "9239bf41",
   "metadata": {},
   "outputs": [
    {
     "data": {
      "text/html": [
       "<div>\n",
       "<style scoped>\n",
       "    .dataframe tbody tr th:only-of-type {\n",
       "        vertical-align: middle;\n",
       "    }\n",
       "\n",
       "    .dataframe tbody tr th {\n",
       "        vertical-align: top;\n",
       "    }\n",
       "\n",
       "    .dataframe thead th {\n",
       "        text-align: right;\n",
       "    }\n",
       "</style>\n",
       "<table border=\"1\" class=\"dataframe\">\n",
       "  <thead>\n",
       "    <tr style=\"text-align: right;\">\n",
       "      <th></th>\n",
       "      <th>항공사</th>\n",
       "      <th>출발시간</th>\n",
       "      <th>도착시간</th>\n",
       "      <th>소요시간</th>\n",
       "      <th>가격</th>\n",
       "      <th>카드사</th>\n",
       "      <th>가격1</th>\n",
       "      <th>시간별</th>\n",
       "      <th>시간별 평균가격</th>\n",
       "      <th>항공사별 평균가격</th>\n",
       "      <th>항공사별 운행횟수</th>\n",
       "    </tr>\n",
       "  </thead>\n",
       "  <tbody>\n",
       "    <tr>\n",
       "      <th>0</th>\n",
       "      <td>티웨이항공</td>\n",
       "      <td>06:40</td>\n",
       "      <td>07:50</td>\n",
       "      <td>01시간 10분</td>\n",
       "      <td>132,500</td>\n",
       "      <td>KB국민카드</td>\n",
       "      <td>132500</td>\n",
       "      <td>06</td>\n",
       "      <td>132500</td>\n",
       "      <td>139400</td>\n",
       "      <td>8</td>\n",
       "    </tr>\n",
       "    <tr>\n",
       "      <th>1</th>\n",
       "      <td>티웨이항공</td>\n",
       "      <td>11:45</td>\n",
       "      <td>12:55</td>\n",
       "      <td>01시간 10분</td>\n",
       "      <td>132,500</td>\n",
       "      <td>KB국민카드</td>\n",
       "      <td>132500</td>\n",
       "      <td>11</td>\n",
       "      <td>132500</td>\n",
       "      <td>139400</td>\n",
       "      <td>8</td>\n",
       "    </tr>\n",
       "    <tr>\n",
       "      <th>2</th>\n",
       "      <td>티웨이항공</td>\n",
       "      <td>14:05</td>\n",
       "      <td>15:15</td>\n",
       "      <td>01시간 10분</td>\n",
       "      <td>132,200</td>\n",
       "      <td>삼성카드</td>\n",
       "      <td>132200</td>\n",
       "      <td>14</td>\n",
       "      <td>132200</td>\n",
       "      <td>139400</td>\n",
       "      <td>8</td>\n",
       "    </tr>\n",
       "    <tr>\n",
       "      <th>3</th>\n",
       "      <td>에어부산</td>\n",
       "      <td>15:05</td>\n",
       "      <td>16:15</td>\n",
       "      <td>01시간 10분</td>\n",
       "      <td>133,000</td>\n",
       "      <td>삼성카드</td>\n",
       "      <td>133000</td>\n",
       "      <td>15</td>\n",
       "      <td>133000</td>\n",
       "      <td>133000</td>\n",
       "      <td>4</td>\n",
       "    </tr>\n",
       "    <tr>\n",
       "      <th>4</th>\n",
       "      <td>아시아나항공</td>\n",
       "      <td>16:35</td>\n",
       "      <td>17:50</td>\n",
       "      <td>01시간 15분</td>\n",
       "      <td>123,000</td>\n",
       "      <td>삼성카드</td>\n",
       "      <td>123000</td>\n",
       "      <td>16</td>\n",
       "      <td>134500</td>\n",
       "      <td>137090</td>\n",
       "      <td>22</td>\n",
       "    </tr>\n",
       "  </tbody>\n",
       "</table>\n",
       "</div>"
      ],
      "text/plain": [
       "      항공사   출발시간   도착시간      소요시간       가격     카드사     가격1 시간별  시간별 평균가격  \\\n",
       "0   티웨이항공  06:40  07:50  01시간 10분  132,500  KB국민카드  132500  06    132500   \n",
       "1   티웨이항공  11:45  12:55  01시간 10분  132,500  KB국민카드  132500  11    132500   \n",
       "2   티웨이항공  14:05  15:15  01시간 10분  132,200    삼성카드  132200  14    132200   \n",
       "3    에어부산  15:05  16:15  01시간 10분  133,000    삼성카드  133000  15    133000   \n",
       "4  아시아나항공  16:35  17:50  01시간 15분  123,000    삼성카드  123000  16    134500   \n",
       "\n",
       "   항공사별 평균가격  항공사별 운행횟수  \n",
       "0     139400          8  \n",
       "1     139400          8  \n",
       "2     139400          8  \n",
       "3     133000          4  \n",
       "4     137090         22  "
      ]
     },
     "execution_count": 110,
     "metadata": {},
     "output_type": "execute_result"
    }
   ],
   "source": [
    "# 질문6 카드사별 제휴 항공사 조사\n",
    "df1.head()"
   ]
  },
  {
   "cell_type": "code",
   "execution_count": 114,
   "id": "89952515",
   "metadata": {},
   "outputs": [
    {
     "data": {
      "text/html": [
       "<div>\n",
       "<style scoped>\n",
       "    .dataframe tbody tr th:only-of-type {\n",
       "        vertical-align: middle;\n",
       "    }\n",
       "\n",
       "    .dataframe tbody tr th {\n",
       "        vertical-align: top;\n",
       "    }\n",
       "\n",
       "    .dataframe thead th {\n",
       "        text-align: right;\n",
       "    }\n",
       "</style>\n",
       "<table border=\"1\" class=\"dataframe\">\n",
       "  <thead>\n",
       "    <tr style=\"text-align: right;\">\n",
       "      <th></th>\n",
       "      <th></th>\n",
       "      <th>출발시간</th>\n",
       "      <th>도착시간</th>\n",
       "      <th>소요시간</th>\n",
       "      <th>가격</th>\n",
       "      <th>가격1</th>\n",
       "      <th>시간별</th>\n",
       "      <th>시간별 평균가격</th>\n",
       "      <th>항공사별 평균가격</th>\n",
       "      <th>항공사별 운행횟수</th>\n",
       "    </tr>\n",
       "    <tr>\n",
       "      <th>카드사</th>\n",
       "      <th>항공사</th>\n",
       "      <th></th>\n",
       "      <th></th>\n",
       "      <th></th>\n",
       "      <th></th>\n",
       "      <th></th>\n",
       "      <th></th>\n",
       "      <th></th>\n",
       "      <th></th>\n",
       "      <th></th>\n",
       "    </tr>\n",
       "  </thead>\n",
       "  <tbody>\n",
       "    <tr>\n",
       "      <th>KB국민카드</th>\n",
       "      <th>티웨이항공</th>\n",
       "      <td>7</td>\n",
       "      <td>7</td>\n",
       "      <td>7</td>\n",
       "      <td>7</td>\n",
       "      <td>7</td>\n",
       "      <td>7</td>\n",
       "      <td>7</td>\n",
       "      <td>7</td>\n",
       "      <td>7</td>\n",
       "    </tr>\n",
       "    <tr>\n",
       "      <th rowspan=\"7\" valign=\"top\">삼성카드</th>\n",
       "      <th>대한항공</th>\n",
       "      <td>13</td>\n",
       "      <td>13</td>\n",
       "      <td>13</td>\n",
       "      <td>13</td>\n",
       "      <td>13</td>\n",
       "      <td>13</td>\n",
       "      <td>13</td>\n",
       "      <td>13</td>\n",
       "      <td>13</td>\n",
       "    </tr>\n",
       "    <tr>\n",
       "      <th>아시아나항공</th>\n",
       "      <td>22</td>\n",
       "      <td>22</td>\n",
       "      <td>22</td>\n",
       "      <td>22</td>\n",
       "      <td>22</td>\n",
       "      <td>22</td>\n",
       "      <td>22</td>\n",
       "      <td>22</td>\n",
       "      <td>22</td>\n",
       "    </tr>\n",
       "    <tr>\n",
       "      <th>에어부산</th>\n",
       "      <td>4</td>\n",
       "      <td>4</td>\n",
       "      <td>4</td>\n",
       "      <td>4</td>\n",
       "      <td>4</td>\n",
       "      <td>4</td>\n",
       "      <td>4</td>\n",
       "      <td>4</td>\n",
       "      <td>4</td>\n",
       "    </tr>\n",
       "    <tr>\n",
       "      <th>에어서울</th>\n",
       "      <td>4</td>\n",
       "      <td>4</td>\n",
       "      <td>4</td>\n",
       "      <td>4</td>\n",
       "      <td>4</td>\n",
       "      <td>4</td>\n",
       "      <td>4</td>\n",
       "      <td>4</td>\n",
       "      <td>4</td>\n",
       "    </tr>\n",
       "    <tr>\n",
       "      <th>제주항공</th>\n",
       "      <td>14</td>\n",
       "      <td>14</td>\n",
       "      <td>14</td>\n",
       "      <td>14</td>\n",
       "      <td>14</td>\n",
       "      <td>14</td>\n",
       "      <td>14</td>\n",
       "      <td>14</td>\n",
       "      <td>14</td>\n",
       "    </tr>\n",
       "    <tr>\n",
       "      <th>진에어</th>\n",
       "      <td>3</td>\n",
       "      <td>3</td>\n",
       "      <td>3</td>\n",
       "      <td>3</td>\n",
       "      <td>3</td>\n",
       "      <td>3</td>\n",
       "      <td>3</td>\n",
       "      <td>3</td>\n",
       "      <td>3</td>\n",
       "    </tr>\n",
       "    <tr>\n",
       "      <th>티웨이항공</th>\n",
       "      <td>1</td>\n",
       "      <td>1</td>\n",
       "      <td>1</td>\n",
       "      <td>1</td>\n",
       "      <td>1</td>\n",
       "      <td>1</td>\n",
       "      <td>1</td>\n",
       "      <td>1</td>\n",
       "      <td>1</td>\n",
       "    </tr>\n",
       "  </tbody>\n",
       "</table>\n",
       "</div>"
      ],
      "text/plain": [
       "               출발시간  도착시간  소요시간  가격  가격1  시간별  시간별 평균가격  항공사별 평균가격  항공사별 운행횟수\n",
       "카드사    항공사                                                                   \n",
       "KB국민카드 티웨이항공      7     7     7   7    7    7         7          7          7\n",
       "삼성카드   대한항공      13    13    13  13   13   13        13         13         13\n",
       "       아시아나항공    22    22    22  22   22   22        22         22         22\n",
       "       에어부산       4     4     4   4    4    4         4          4          4\n",
       "       에어서울       4     4     4   4    4    4         4          4          4\n",
       "       제주항공      14    14    14  14   14   14        14         14         14\n",
       "       진에어        3     3     3   3    3    3         3          3          3\n",
       "       티웨이항공      1     1     1   1    1    1         1          1          1"
      ]
     },
     "execution_count": 114,
     "metadata": {},
     "output_type": "execute_result"
    }
   ],
   "source": [
    "tmp = df1.groupby(['카드사', '항공사']).count()\n",
    "tmp"
   ]
  },
  {
   "cell_type": "code",
   "execution_count": 122,
   "id": "12b6b633",
   "metadata": {},
   "outputs": [
    {
     "data": {
      "text/html": [
       "<div>\n",
       "<style scoped>\n",
       "    .dataframe tbody tr th:only-of-type {\n",
       "        vertical-align: middle;\n",
       "    }\n",
       "\n",
       "    .dataframe tbody tr th {\n",
       "        vertical-align: top;\n",
       "    }\n",
       "\n",
       "    .dataframe thead th {\n",
       "        text-align: right;\n",
       "    }\n",
       "</style>\n",
       "<table border=\"1\" class=\"dataframe\">\n",
       "  <thead>\n",
       "    <tr style=\"text-align: right;\">\n",
       "      <th></th>\n",
       "      <th></th>\n",
       "      <th>출발시간</th>\n",
       "    </tr>\n",
       "    <tr>\n",
       "      <th>카드사</th>\n",
       "      <th>항공사</th>\n",
       "      <th></th>\n",
       "    </tr>\n",
       "  </thead>\n",
       "  <tbody>\n",
       "    <tr>\n",
       "      <th rowspan=\"3\" valign=\"top\">삼성카드</th>\n",
       "      <th>아시아나항공</th>\n",
       "      <td>22</td>\n",
       "    </tr>\n",
       "    <tr>\n",
       "      <th>제주항공</th>\n",
       "      <td>14</td>\n",
       "    </tr>\n",
       "    <tr>\n",
       "      <th>대한항공</th>\n",
       "      <td>13</td>\n",
       "    </tr>\n",
       "    <tr>\n",
       "      <th>KB국민카드</th>\n",
       "      <th>티웨이항공</th>\n",
       "      <td>7</td>\n",
       "    </tr>\n",
       "    <tr>\n",
       "      <th rowspan=\"4\" valign=\"top\">삼성카드</th>\n",
       "      <th>에어부산</th>\n",
       "      <td>4</td>\n",
       "    </tr>\n",
       "    <tr>\n",
       "      <th>에어서울</th>\n",
       "      <td>4</td>\n",
       "    </tr>\n",
       "    <tr>\n",
       "      <th>진에어</th>\n",
       "      <td>3</td>\n",
       "    </tr>\n",
       "    <tr>\n",
       "      <th>티웨이항공</th>\n",
       "      <td>1</td>\n",
       "    </tr>\n",
       "  </tbody>\n",
       "</table>\n",
       "</div>"
      ],
      "text/plain": [
       "               출발시간\n",
       "카드사    항공사         \n",
       "삼성카드   아시아나항공    22\n",
       "       제주항공      14\n",
       "       대한항공      13\n",
       "KB국민카드 티웨이항공      7\n",
       "삼성카드   에어부산       4\n",
       "       에어서울       4\n",
       "       진에어        3\n",
       "       티웨이항공      1"
      ]
     },
     "execution_count": 122,
     "metadata": {},
     "output_type": "execute_result"
    }
   ],
   "source": [
    "tmp.sort_values(['출발시간'], ascending=False)[['출발시간']]"
   ]
  },
  {
   "cell_type": "markdown",
   "id": "4de73301",
   "metadata": {},
   "source": [
    "# 선생님이랑 다같이 한거"
   ]
  },
  {
   "cell_type": "code",
   "execution_count": 123,
   "id": "b4d298f8",
   "metadata": {},
   "outputs": [],
   "source": [
    "df = pd.read_csv('./data/data_jeju.csv')"
   ]
  },
  {
   "cell_type": "code",
   "execution_count": 124,
   "id": "33b531cc",
   "metadata": {},
   "outputs": [
    {
     "data": {
      "text/html": [
       "<div>\n",
       "<style scoped>\n",
       "    .dataframe tbody tr th:only-of-type {\n",
       "        vertical-align: middle;\n",
       "    }\n",
       "\n",
       "    .dataframe tbody tr th {\n",
       "        vertical-align: top;\n",
       "    }\n",
       "\n",
       "    .dataframe thead th {\n",
       "        text-align: right;\n",
       "    }\n",
       "</style>\n",
       "<table border=\"1\" class=\"dataframe\">\n",
       "  <thead>\n",
       "    <tr style=\"text-align: right;\">\n",
       "      <th></th>\n",
       "      <th>Unnamed: 0</th>\n",
       "      <th>항공사</th>\n",
       "      <th>출발시간</th>\n",
       "      <th>도착시간</th>\n",
       "      <th>비행시간</th>\n",
       "      <th>항공금액(원)</th>\n",
       "      <th>할인꿀팁</th>\n",
       "      <th>시간대</th>\n",
       "      <th>카드사</th>\n",
       "    </tr>\n",
       "  </thead>\n",
       "  <tbody>\n",
       "    <tr>\n",
       "      <th>0</th>\n",
       "      <td>0</td>\n",
       "      <td>에어서울</td>\n",
       "      <td>06:00</td>\n",
       "      <td>07:00</td>\n",
       "      <td>01시간 00분</td>\n",
       "      <td>62900</td>\n",
       "      <td>KB국민카드 결제시 3% 청구할인</td>\n",
       "      <td>6</td>\n",
       "      <td>KB국민카드</td>\n",
       "    </tr>\n",
       "    <tr>\n",
       "      <th>1</th>\n",
       "      <td>1</td>\n",
       "      <td>에어서울</td>\n",
       "      <td>06:00</td>\n",
       "      <td>07:00</td>\n",
       "      <td>01시간 00분</td>\n",
       "      <td>134000</td>\n",
       "      <td>삼성카드 결제시 3% 캐시백</td>\n",
       "      <td>6</td>\n",
       "      <td>삼성카드</td>\n",
       "    </tr>\n",
       "    <tr>\n",
       "      <th>2</th>\n",
       "      <td>2</td>\n",
       "      <td>아시아나항공</td>\n",
       "      <td>06:05</td>\n",
       "      <td>07:15</td>\n",
       "      <td>01시간 10분</td>\n",
       "      <td>57000</td>\n",
       "      <td>네이버페이 결제시 1%+1,500원 적립</td>\n",
       "      <td>6</td>\n",
       "      <td>네이버페이</td>\n",
       "    </tr>\n",
       "    <tr>\n",
       "      <th>3</th>\n",
       "      <td>3</td>\n",
       "      <td>아시아나항공</td>\n",
       "      <td>06:05</td>\n",
       "      <td>07:15</td>\n",
       "      <td>01시간 10분</td>\n",
       "      <td>87000</td>\n",
       "      <td>삼성카드 결제시 3% 캐시백</td>\n",
       "      <td>6</td>\n",
       "      <td>삼성카드</td>\n",
       "    </tr>\n",
       "    <tr>\n",
       "      <th>4</th>\n",
       "      <td>4</td>\n",
       "      <td>아시아나항공</td>\n",
       "      <td>06:05</td>\n",
       "      <td>07:15</td>\n",
       "      <td>01시간 10분</td>\n",
       "      <td>147000</td>\n",
       "      <td>삼성카드 결제시 3% 캐시백</td>\n",
       "      <td>6</td>\n",
       "      <td>삼성카드</td>\n",
       "    </tr>\n",
       "  </tbody>\n",
       "</table>\n",
       "</div>"
      ],
      "text/plain": [
       "   Unnamed: 0     항공사   출발시간   도착시간      비행시간  항공금액(원)  \\\n",
       "0           0    에어서울  06:00  07:00  01시간 00분    62900   \n",
       "1           1    에어서울  06:00  07:00  01시간 00분   134000   \n",
       "2           2  아시아나항공  06:05  07:15  01시간 10분    57000   \n",
       "3           3  아시아나항공  06:05  07:15  01시간 10분    87000   \n",
       "4           4  아시아나항공  06:05  07:15  01시간 10분   147000   \n",
       "\n",
       "                     할인꿀팁  시간대      카드사  \n",
       "0      KB국민카드 결제시 3% 청구할인    6  KB국민카드   \n",
       "1         삼성카드 결제시 3% 캐시백    6    삼성카드   \n",
       "2  네이버페이 결제시 1%+1,500원 적립    6   네이버페이   \n",
       "3         삼성카드 결제시 3% 캐시백    6    삼성카드   \n",
       "4         삼성카드 결제시 3% 캐시백    6    삼성카드   "
      ]
     },
     "execution_count": 124,
     "metadata": {},
     "output_type": "execute_result"
    }
   ],
   "source": [
    "df.head()"
   ]
  },
  {
   "cell_type": "code",
   "execution_count": 125,
   "id": "e9813742",
   "metadata": {},
   "outputs": [
    {
     "data": {
      "text/plain": [
       "(220, 9)"
      ]
     },
     "execution_count": 125,
     "metadata": {},
     "output_type": "execute_result"
    }
   ],
   "source": [
    "df.shape"
   ]
  },
  {
   "cell_type": "code",
   "execution_count": 126,
   "id": "6121ed6b",
   "metadata": {},
   "outputs": [
    {
     "data": {
      "text/html": [
       "<div>\n",
       "<style scoped>\n",
       "    .dataframe tbody tr th:only-of-type {\n",
       "        vertical-align: middle;\n",
       "    }\n",
       "\n",
       "    .dataframe tbody tr th {\n",
       "        vertical-align: top;\n",
       "    }\n",
       "\n",
       "    .dataframe thead th {\n",
       "        text-align: right;\n",
       "    }\n",
       "</style>\n",
       "<table border=\"1\" class=\"dataframe\">\n",
       "  <thead>\n",
       "    <tr style=\"text-align: right;\">\n",
       "      <th></th>\n",
       "      <th></th>\n",
       "      <th>Unnamed: 0</th>\n",
       "      <th>항공사</th>\n",
       "      <th>출발시간</th>\n",
       "      <th>도착시간</th>\n",
       "      <th>비행시간</th>\n",
       "      <th>항공금액(원)</th>\n",
       "      <th>할인꿀팁</th>\n",
       "    </tr>\n",
       "    <tr>\n",
       "      <th>카드사</th>\n",
       "      <th>시간대</th>\n",
       "      <th></th>\n",
       "      <th></th>\n",
       "      <th></th>\n",
       "      <th></th>\n",
       "      <th></th>\n",
       "      <th></th>\n",
       "      <th></th>\n",
       "    </tr>\n",
       "  </thead>\n",
       "  <tbody>\n",
       "    <tr>\n",
       "      <th rowspan=\"9\" valign=\"top\">KB국민카드</th>\n",
       "      <th>6</th>\n",
       "      <td>5</td>\n",
       "      <td>5</td>\n",
       "      <td>5</td>\n",
       "      <td>5</td>\n",
       "      <td>5</td>\n",
       "      <td>5</td>\n",
       "      <td>5</td>\n",
       "    </tr>\n",
       "    <tr>\n",
       "      <th>7</th>\n",
       "      <td>1</td>\n",
       "      <td>1</td>\n",
       "      <td>1</td>\n",
       "      <td>1</td>\n",
       "      <td>1</td>\n",
       "      <td>1</td>\n",
       "      <td>1</td>\n",
       "    </tr>\n",
       "    <tr>\n",
       "      <th>8</th>\n",
       "      <td>4</td>\n",
       "      <td>4</td>\n",
       "      <td>4</td>\n",
       "      <td>4</td>\n",
       "      <td>4</td>\n",
       "      <td>4</td>\n",
       "      <td>4</td>\n",
       "    </tr>\n",
       "    <tr>\n",
       "      <th>9</th>\n",
       "      <td>3</td>\n",
       "      <td>3</td>\n",
       "      <td>3</td>\n",
       "      <td>3</td>\n",
       "      <td>3</td>\n",
       "      <td>3</td>\n",
       "      <td>3</td>\n",
       "    </tr>\n",
       "    <tr>\n",
       "      <th>11</th>\n",
       "      <td>2</td>\n",
       "      <td>2</td>\n",
       "      <td>2</td>\n",
       "      <td>2</td>\n",
       "      <td>2</td>\n",
       "      <td>2</td>\n",
       "      <td>2</td>\n",
       "    </tr>\n",
       "    <tr>\n",
       "      <th>12</th>\n",
       "      <td>3</td>\n",
       "      <td>3</td>\n",
       "      <td>3</td>\n",
       "      <td>3</td>\n",
       "      <td>3</td>\n",
       "      <td>3</td>\n",
       "      <td>3</td>\n",
       "    </tr>\n",
       "    <tr>\n",
       "      <th>13</th>\n",
       "      <td>5</td>\n",
       "      <td>5</td>\n",
       "      <td>5</td>\n",
       "      <td>5</td>\n",
       "      <td>5</td>\n",
       "      <td>5</td>\n",
       "      <td>5</td>\n",
       "    </tr>\n",
       "    <tr>\n",
       "      <th>14</th>\n",
       "      <td>2</td>\n",
       "      <td>2</td>\n",
       "      <td>2</td>\n",
       "      <td>2</td>\n",
       "      <td>2</td>\n",
       "      <td>2</td>\n",
       "      <td>2</td>\n",
       "    </tr>\n",
       "    <tr>\n",
       "      <th>15</th>\n",
       "      <td>1</td>\n",
       "      <td>1</td>\n",
       "      <td>1</td>\n",
       "      <td>1</td>\n",
       "      <td>1</td>\n",
       "      <td>1</td>\n",
       "      <td>1</td>\n",
       "    </tr>\n",
       "    <tr>\n",
       "      <th rowspan=\"6\" valign=\"top\">네이버페이</th>\n",
       "      <th>6</th>\n",
       "      <td>6</td>\n",
       "      <td>6</td>\n",
       "      <td>6</td>\n",
       "      <td>6</td>\n",
       "      <td>6</td>\n",
       "      <td>6</td>\n",
       "      <td>6</td>\n",
       "    </tr>\n",
       "    <tr>\n",
       "      <th>12</th>\n",
       "      <td>4</td>\n",
       "      <td>4</td>\n",
       "      <td>4</td>\n",
       "      <td>4</td>\n",
       "      <td>4</td>\n",
       "      <td>4</td>\n",
       "      <td>4</td>\n",
       "    </tr>\n",
       "    <tr>\n",
       "      <th>13</th>\n",
       "      <td>4</td>\n",
       "      <td>4</td>\n",
       "      <td>4</td>\n",
       "      <td>4</td>\n",
       "      <td>4</td>\n",
       "      <td>4</td>\n",
       "      <td>4</td>\n",
       "    </tr>\n",
       "    <tr>\n",
       "      <th>14</th>\n",
       "      <td>6</td>\n",
       "      <td>6</td>\n",
       "      <td>6</td>\n",
       "      <td>6</td>\n",
       "      <td>6</td>\n",
       "      <td>6</td>\n",
       "      <td>6</td>\n",
       "    </tr>\n",
       "    <tr>\n",
       "      <th>15</th>\n",
       "      <td>6</td>\n",
       "      <td>6</td>\n",
       "      <td>6</td>\n",
       "      <td>6</td>\n",
       "      <td>6</td>\n",
       "      <td>6</td>\n",
       "      <td>6</td>\n",
       "    </tr>\n",
       "    <tr>\n",
       "      <th>16</th>\n",
       "      <td>1</td>\n",
       "      <td>1</td>\n",
       "      <td>1</td>\n",
       "      <td>1</td>\n",
       "      <td>1</td>\n",
       "      <td>1</td>\n",
       "      <td>1</td>\n",
       "    </tr>\n",
       "    <tr>\n",
       "      <th rowspan=\"5\" valign=\"top\">롯데카드</th>\n",
       "      <th>6</th>\n",
       "      <td>1</td>\n",
       "      <td>1</td>\n",
       "      <td>1</td>\n",
       "      <td>1</td>\n",
       "      <td>1</td>\n",
       "      <td>1</td>\n",
       "      <td>1</td>\n",
       "    </tr>\n",
       "    <tr>\n",
       "      <th>7</th>\n",
       "      <td>2</td>\n",
       "      <td>2</td>\n",
       "      <td>2</td>\n",
       "      <td>2</td>\n",
       "      <td>2</td>\n",
       "      <td>2</td>\n",
       "      <td>2</td>\n",
       "    </tr>\n",
       "    <tr>\n",
       "      <th>11</th>\n",
       "      <td>2</td>\n",
       "      <td>2</td>\n",
       "      <td>2</td>\n",
       "      <td>2</td>\n",
       "      <td>2</td>\n",
       "      <td>2</td>\n",
       "      <td>2</td>\n",
       "    </tr>\n",
       "    <tr>\n",
       "      <th>14</th>\n",
       "      <td>1</td>\n",
       "      <td>1</td>\n",
       "      <td>1</td>\n",
       "      <td>1</td>\n",
       "      <td>1</td>\n",
       "      <td>1</td>\n",
       "      <td>1</td>\n",
       "    </tr>\n",
       "    <tr>\n",
       "      <th>15</th>\n",
       "      <td>1</td>\n",
       "      <td>1</td>\n",
       "      <td>1</td>\n",
       "      <td>1</td>\n",
       "      <td>1</td>\n",
       "      <td>1</td>\n",
       "      <td>1</td>\n",
       "    </tr>\n",
       "    <tr>\n",
       "      <th rowspan=\"11\" valign=\"top\">삼성카드</th>\n",
       "      <th>6</th>\n",
       "      <td>23</td>\n",
       "      <td>23</td>\n",
       "      <td>23</td>\n",
       "      <td>23</td>\n",
       "      <td>23</td>\n",
       "      <td>23</td>\n",
       "      <td>23</td>\n",
       "    </tr>\n",
       "    <tr>\n",
       "      <th>7</th>\n",
       "      <td>17</td>\n",
       "      <td>17</td>\n",
       "      <td>17</td>\n",
       "      <td>17</td>\n",
       "      <td>17</td>\n",
       "      <td>17</td>\n",
       "      <td>17</td>\n",
       "    </tr>\n",
       "    <tr>\n",
       "      <th>8</th>\n",
       "      <td>12</td>\n",
       "      <td>12</td>\n",
       "      <td>12</td>\n",
       "      <td>12</td>\n",
       "      <td>12</td>\n",
       "      <td>12</td>\n",
       "      <td>12</td>\n",
       "    </tr>\n",
       "    <tr>\n",
       "      <th>9</th>\n",
       "      <td>8</td>\n",
       "      <td>8</td>\n",
       "      <td>8</td>\n",
       "      <td>8</td>\n",
       "      <td>8</td>\n",
       "      <td>8</td>\n",
       "      <td>8</td>\n",
       "    </tr>\n",
       "    <tr>\n",
       "      <th>10</th>\n",
       "      <td>14</td>\n",
       "      <td>14</td>\n",
       "      <td>14</td>\n",
       "      <td>14</td>\n",
       "      <td>14</td>\n",
       "      <td>14</td>\n",
       "      <td>14</td>\n",
       "    </tr>\n",
       "    <tr>\n",
       "      <th>11</th>\n",
       "      <td>14</td>\n",
       "      <td>14</td>\n",
       "      <td>14</td>\n",
       "      <td>14</td>\n",
       "      <td>14</td>\n",
       "      <td>14</td>\n",
       "      <td>14</td>\n",
       "    </tr>\n",
       "    <tr>\n",
       "      <th>12</th>\n",
       "      <td>11</td>\n",
       "      <td>11</td>\n",
       "      <td>11</td>\n",
       "      <td>11</td>\n",
       "      <td>11</td>\n",
       "      <td>11</td>\n",
       "      <td>11</td>\n",
       "    </tr>\n",
       "    <tr>\n",
       "      <th>13</th>\n",
       "      <td>12</td>\n",
       "      <td>12</td>\n",
       "      <td>12</td>\n",
       "      <td>12</td>\n",
       "      <td>12</td>\n",
       "      <td>12</td>\n",
       "      <td>12</td>\n",
       "    </tr>\n",
       "    <tr>\n",
       "      <th>14</th>\n",
       "      <td>20</td>\n",
       "      <td>20</td>\n",
       "      <td>20</td>\n",
       "      <td>20</td>\n",
       "      <td>20</td>\n",
       "      <td>20</td>\n",
       "      <td>20</td>\n",
       "    </tr>\n",
       "    <tr>\n",
       "      <th>15</th>\n",
       "      <td>13</td>\n",
       "      <td>13</td>\n",
       "      <td>13</td>\n",
       "      <td>13</td>\n",
       "      <td>13</td>\n",
       "      <td>13</td>\n",
       "      <td>13</td>\n",
       "    </tr>\n",
       "    <tr>\n",
       "      <th>16</th>\n",
       "      <td>5</td>\n",
       "      <td>5</td>\n",
       "      <td>5</td>\n",
       "      <td>5</td>\n",
       "      <td>5</td>\n",
       "      <td>5</td>\n",
       "      <td>5</td>\n",
       "    </tr>\n",
       "    <tr>\n",
       "      <th>없음</th>\n",
       "      <th>8</th>\n",
       "      <td>1</td>\n",
       "      <td>1</td>\n",
       "      <td>1</td>\n",
       "      <td>1</td>\n",
       "      <td>1</td>\n",
       "      <td>1</td>\n",
       "      <td>1</td>\n",
       "    </tr>\n",
       "    <tr>\n",
       "      <th rowspan=\"8\" valign=\"top\">하나 신용/체크카드</th>\n",
       "      <th>6</th>\n",
       "      <td>1</td>\n",
       "      <td>1</td>\n",
       "      <td>1</td>\n",
       "      <td>1</td>\n",
       "      <td>1</td>\n",
       "      <td>1</td>\n",
       "      <td>1</td>\n",
       "    </tr>\n",
       "    <tr>\n",
       "      <th>7</th>\n",
       "      <td>1</td>\n",
       "      <td>1</td>\n",
       "      <td>1</td>\n",
       "      <td>1</td>\n",
       "      <td>1</td>\n",
       "      <td>1</td>\n",
       "      <td>1</td>\n",
       "    </tr>\n",
       "    <tr>\n",
       "      <th>8</th>\n",
       "      <td>1</td>\n",
       "      <td>1</td>\n",
       "      <td>1</td>\n",
       "      <td>1</td>\n",
       "      <td>1</td>\n",
       "      <td>1</td>\n",
       "      <td>1</td>\n",
       "    </tr>\n",
       "    <tr>\n",
       "      <th>11</th>\n",
       "      <td>2</td>\n",
       "      <td>2</td>\n",
       "      <td>2</td>\n",
       "      <td>2</td>\n",
       "      <td>2</td>\n",
       "      <td>2</td>\n",
       "      <td>2</td>\n",
       "    </tr>\n",
       "    <tr>\n",
       "      <th>12</th>\n",
       "      <td>1</td>\n",
       "      <td>1</td>\n",
       "      <td>1</td>\n",
       "      <td>1</td>\n",
       "      <td>1</td>\n",
       "      <td>1</td>\n",
       "      <td>1</td>\n",
       "    </tr>\n",
       "    <tr>\n",
       "      <th>13</th>\n",
       "      <td>1</td>\n",
       "      <td>1</td>\n",
       "      <td>1</td>\n",
       "      <td>1</td>\n",
       "      <td>1</td>\n",
       "      <td>1</td>\n",
       "      <td>1</td>\n",
       "    </tr>\n",
       "    <tr>\n",
       "      <th>14</th>\n",
       "      <td>2</td>\n",
       "      <td>2</td>\n",
       "      <td>2</td>\n",
       "      <td>2</td>\n",
       "      <td>2</td>\n",
       "      <td>2</td>\n",
       "      <td>2</td>\n",
       "    </tr>\n",
       "    <tr>\n",
       "      <th>15</th>\n",
       "      <td>1</td>\n",
       "      <td>1</td>\n",
       "      <td>1</td>\n",
       "      <td>1</td>\n",
       "      <td>1</td>\n",
       "      <td>1</td>\n",
       "      <td>1</td>\n",
       "    </tr>\n",
       "  </tbody>\n",
       "</table>\n",
       "</div>"
      ],
      "text/plain": [
       "                 Unnamed: 0  항공사  출발시간  도착시간  비행시간  항공금액(원)  할인꿀팁\n",
       "카드사         시간대                                                  \n",
       "KB국민카드      6             5    5     5     5     5        5     5\n",
       "            7             1    1     1     1     1        1     1\n",
       "            8             4    4     4     4     4        4     4\n",
       "            9             3    3     3     3     3        3     3\n",
       "            11            2    2     2     2     2        2     2\n",
       "            12            3    3     3     3     3        3     3\n",
       "            13            5    5     5     5     5        5     5\n",
       "            14            2    2     2     2     2        2     2\n",
       "            15            1    1     1     1     1        1     1\n",
       "네이버페이       6             6    6     6     6     6        6     6\n",
       "            12            4    4     4     4     4        4     4\n",
       "            13            4    4     4     4     4        4     4\n",
       "            14            6    6     6     6     6        6     6\n",
       "            15            6    6     6     6     6        6     6\n",
       "            16            1    1     1     1     1        1     1\n",
       "롯데카드        6             1    1     1     1     1        1     1\n",
       "            7             2    2     2     2     2        2     2\n",
       "            11            2    2     2     2     2        2     2\n",
       "            14            1    1     1     1     1        1     1\n",
       "            15            1    1     1     1     1        1     1\n",
       "삼성카드        6            23   23    23    23    23       23    23\n",
       "            7            17   17    17    17    17       17    17\n",
       "            8            12   12    12    12    12       12    12\n",
       "            9             8    8     8     8     8        8     8\n",
       "            10           14   14    14    14    14       14    14\n",
       "            11           14   14    14    14    14       14    14\n",
       "            12           11   11    11    11    11       11    11\n",
       "            13           12   12    12    12    12       12    12\n",
       "            14           20   20    20    20    20       20    20\n",
       "            15           13   13    13    13    13       13    13\n",
       "            16            5    5     5     5     5        5     5\n",
       "없음          8             1    1     1     1     1        1     1\n",
       "하나 신용/체크카드  6             1    1     1     1     1        1     1\n",
       "            7             1    1     1     1     1        1     1\n",
       "            8             1    1     1     1     1        1     1\n",
       "            11            2    2     2     2     2        2     2\n",
       "            12            1    1     1     1     1        1     1\n",
       "            13            1    1     1     1     1        1     1\n",
       "            14            2    2     2     2     2        2     2\n",
       "            15            1    1     1     1     1        1     1"
      ]
     },
     "execution_count": 126,
     "metadata": {},
     "output_type": "execute_result"
    }
   ],
   "source": [
    "df.groupby(['카드사', '시간대']).count()"
   ]
  },
  {
   "cell_type": "code",
   "execution_count": 128,
   "id": "7c94f889",
   "metadata": {},
   "outputs": [
    {
     "data": {
      "text/plain": [
       "카드사          시간대\n",
       "KB국민카드       6       5\n",
       "             7       1\n",
       "             8       4\n",
       "             9       3\n",
       "             11      2\n",
       "             12      3\n",
       "             13      5\n",
       "             14      2\n",
       "             15      1\n",
       "네이버페이        6       6\n",
       "             12      4\n",
       "             13      4\n",
       "             14      6\n",
       "             15      6\n",
       "             16      1\n",
       "롯데카드         6       1\n",
       "             7       2\n",
       "             11      2\n",
       "             14      1\n",
       "             15      1\n",
       "삼성카드         6      23\n",
       "             7      17\n",
       "             8      12\n",
       "             9       8\n",
       "             10     14\n",
       "             11     14\n",
       "             12     11\n",
       "             13     12\n",
       "             14     20\n",
       "             15     13\n",
       "             16      5\n",
       "없음           8       1\n",
       "하나 신용/체크카드   6       1\n",
       "             7       1\n",
       "             8       1\n",
       "             11      2\n",
       "             12      1\n",
       "             13      1\n",
       "             14      2\n",
       "             15      1\n",
       "Name: 항공사, dtype: int64"
      ]
     },
     "execution_count": 128,
     "metadata": {},
     "output_type": "execute_result"
    }
   ],
   "source": [
    "tmp = df.groupby(['카드사', '시간대']).count()['항공사']\n",
    "tmp"
   ]
  },
  {
   "cell_type": "code",
   "execution_count": 129,
   "id": "3b1f7e05",
   "metadata": {},
   "outputs": [
    {
     "data": {
      "text/plain": [
       "<AxesSubplot:xlabel='카드사,시간대'>"
      ]
     },
     "execution_count": 129,
     "metadata": {},
     "output_type": "execute_result"
    },
    {
     "data": {
      "image/png": "[encoded data removed]",
      "text/plain": [
       "<Figure size 432x288 with 1 Axes>"
      ]
     },
     "metadata": {
      "needs_background": "light"
     },
     "output_type": "display_data"
    }
   ],
   "source": [
    "tmp.plot(kind='bar')"
   ]
  },
  {
   "cell_type": "code",
   "execution_count": 130,
   "id": "8d8488d1",
   "metadata": {},
   "outputs": [
    {
     "data": {
      "text/html": [
       "<div>\n",
       "<style scoped>\n",
       "    .dataframe tbody tr th:only-of-type {\n",
       "        vertical-align: middle;\n",
       "    }\n",
       "\n",
       "    .dataframe tbody tr th {\n",
       "        vertical-align: top;\n",
       "    }\n",
       "\n",
       "    .dataframe thead th {\n",
       "        text-align: right;\n",
       "    }\n",
       "</style>\n",
       "<table border=\"1\" class=\"dataframe\">\n",
       "  <thead>\n",
       "    <tr style=\"text-align: right;\">\n",
       "      <th></th>\n",
       "      <th>Unnamed: 0</th>\n",
       "      <th>항공사</th>\n",
       "      <th>출발시간</th>\n",
       "      <th>도착시간</th>\n",
       "      <th>비행시간</th>\n",
       "      <th>항공금액(원)</th>\n",
       "      <th>할인꿀팁</th>\n",
       "      <th>시간대</th>\n",
       "      <th>카드사</th>\n",
       "    </tr>\n",
       "  </thead>\n",
       "  <tbody>\n",
       "  </tbody>\n",
       "</table>\n",
       "</div>"
      ],
      "text/plain": [
       "Empty DataFrame\n",
       "Columns: [Unnamed: 0, 항공사, 출발시간, 도착시간, 비행시간, 항공금액(원), 할인꿀팁, 시간대, 카드사]\n",
       "Index: []"
      ]
     },
     "execution_count": 130,
     "metadata": {},
     "output_type": "execute_result"
    }
   ],
   "source": [
    "df[df['카드사'] == '삼성카드']"
   ]
  },
  {
   "cell_type": "code",
   "execution_count": 132,
   "id": "55d8a069",
   "metadata": {},
   "outputs": [
    {
     "data": {
      "text/plain": [
       "Unnamed: 0     int64\n",
       "항공사           object\n",
       "출발시간          object\n",
       "도착시간          object\n",
       "비행시간          object\n",
       "항공금액(원)        int64\n",
       "할인꿀팁          object\n",
       "시간대            int64\n",
       "카드사           object\n",
       "dtype: object"
      ]
     },
     "execution_count": 132,
     "metadata": {},
     "output_type": "execute_result"
    }
   ],
   "source": [
    "df.dtypes"
   ]
  },
  {
   "cell_type": "code",
   "execution_count": 133,
   "id": "4298b286",
   "metadata": {},
   "outputs": [
    {
     "data": {
      "text/plain": [
       "0      False\n",
       "1      False\n",
       "2      False\n",
       "3      False\n",
       "4      False\n",
       "       ...  \n",
       "215    False\n",
       "216    False\n",
       "217    False\n",
       "218    False\n",
       "219    False\n",
       "Name: 카드사, Length: 220, dtype: bool"
      ]
     },
     "execution_count": 133,
     "metadata": {},
     "output_type": "execute_result"
    }
   ],
   "source": [
    "df['카드사'] == '삼성카드'"
   ]
  },
  {
   "cell_type": "code",
   "execution_count": 135,
   "id": "248dd0d2",
   "metadata": {},
   "outputs": [],
   "source": [
    "df['카드사'] = [i.strip() for i in df['카드사']]"
   ]
  },
  {
   "cell_type": "code",
   "execution_count": 136,
   "id": "b1e3bf4d",
   "metadata": {},
   "outputs": [
    {
     "data": {
      "text/plain": [
       "array(['KB국민카드', '삼성카드', '네이버페이', '하나 신용/체크카드', '롯데카드', '없음'],\n",
       "      dtype=object)"
      ]
     },
     "execution_count": 136,
     "metadata": {},
     "output_type": "execute_result"
    }
   ],
   "source": [
    "df['카드사'].unique()"
   ]
  },
  {
   "cell_type": "code",
   "execution_count": 151,
   "id": "3d913711",
   "metadata": {},
   "outputs": [
    {
     "data": {
      "text/html": [
       "<div>\n",
       "<style scoped>\n",
       "    .dataframe tbody tr th:only-of-type {\n",
       "        vertical-align: middle;\n",
       "    }\n",
       "\n",
       "    .dataframe tbody tr th {\n",
       "        vertical-align: top;\n",
       "    }\n",
       "\n",
       "    .dataframe thead th {\n",
       "        text-align: right;\n",
       "    }\n",
       "</style>\n",
       "<table border=\"1\" class=\"dataframe\">\n",
       "  <thead>\n",
       "    <tr style=\"text-align: right;\">\n",
       "      <th></th>\n",
       "      <th>Unnamed: 0</th>\n",
       "      <th>항공사</th>\n",
       "      <th>출발시간</th>\n",
       "      <th>도착시간</th>\n",
       "      <th>비행시간</th>\n",
       "      <th>항공금액(원)</th>\n",
       "      <th>할인꿀팁</th>\n",
       "      <th>시간대</th>\n",
       "      <th>카드사</th>\n",
       "    </tr>\n",
       "  </thead>\n",
       "  <tbody>\n",
       "    <tr>\n",
       "      <th>1</th>\n",
       "      <td>1</td>\n",
       "      <td>에어서울</td>\n",
       "      <td>06:00</td>\n",
       "      <td>07:00</td>\n",
       "      <td>01시간 00분</td>\n",
       "      <td>134000</td>\n",
       "      <td>삼성카드 결제시 3% 캐시백</td>\n",
       "      <td>6</td>\n",
       "      <td>삼성카드</td>\n",
       "    </tr>\n",
       "    <tr>\n",
       "      <th>3</th>\n",
       "      <td>3</td>\n",
       "      <td>아시아나항공</td>\n",
       "      <td>06:05</td>\n",
       "      <td>07:15</td>\n",
       "      <td>01시간 10분</td>\n",
       "      <td>87000</td>\n",
       "      <td>삼성카드 결제시 3% 캐시백</td>\n",
       "      <td>6</td>\n",
       "      <td>삼성카드</td>\n",
       "    </tr>\n",
       "    <tr>\n",
       "      <th>4</th>\n",
       "      <td>4</td>\n",
       "      <td>아시아나항공</td>\n",
       "      <td>06:05</td>\n",
       "      <td>07:15</td>\n",
       "      <td>01시간 10분</td>\n",
       "      <td>147000</td>\n",
       "      <td>삼성카드 결제시 3% 캐시백</td>\n",
       "      <td>6</td>\n",
       "      <td>삼성카드</td>\n",
       "    </tr>\n",
       "    <tr>\n",
       "      <th>5</th>\n",
       "      <td>5</td>\n",
       "      <td>아시아나항공</td>\n",
       "      <td>06:05</td>\n",
       "      <td>07:15</td>\n",
       "      <td>01시간 10분</td>\n",
       "      <td>184000</td>\n",
       "      <td>삼성카드 결제시 3% 캐시백</td>\n",
       "      <td>6</td>\n",
       "      <td>삼성카드</td>\n",
       "    </tr>\n",
       "    <tr>\n",
       "      <th>7</th>\n",
       "      <td>7</td>\n",
       "      <td>아시아나항공</td>\n",
       "      <td>06:10</td>\n",
       "      <td>07:20</td>\n",
       "      <td>01시간 10분</td>\n",
       "      <td>87000</td>\n",
       "      <td>삼성카드 결제시 3% 캐시백</td>\n",
       "      <td>6</td>\n",
       "      <td>삼성카드</td>\n",
       "    </tr>\n",
       "    <tr>\n",
       "      <th>...</th>\n",
       "      <td>...</td>\n",
       "      <td>...</td>\n",
       "      <td>...</td>\n",
       "      <td>...</td>\n",
       "      <td>...</td>\n",
       "      <td>...</td>\n",
       "      <td>...</td>\n",
       "      <td>...</td>\n",
       "      <td>...</td>\n",
       "    </tr>\n",
       "    <tr>\n",
       "      <th>214</th>\n",
       "      <td>214</td>\n",
       "      <td>대한항공</td>\n",
       "      <td>16:10</td>\n",
       "      <td>17:20</td>\n",
       "      <td>01시간 10분</td>\n",
       "      <td>58000</td>\n",
       "      <td>삼성카드 결제시 3% 캐시백</td>\n",
       "      <td>16</td>\n",
       "      <td>삼성카드</td>\n",
       "    </tr>\n",
       "    <tr>\n",
       "      <th>216</th>\n",
       "      <td>216</td>\n",
       "      <td>대한항공</td>\n",
       "      <td>16:25</td>\n",
       "      <td>17:35</td>\n",
       "      <td>01시간 10분</td>\n",
       "      <td>52000</td>\n",
       "      <td>삼성카드 결제시 3% 캐시백</td>\n",
       "      <td>16</td>\n",
       "      <td>삼성카드</td>\n",
       "    </tr>\n",
       "    <tr>\n",
       "      <th>217</th>\n",
       "      <td>217</td>\n",
       "      <td>진에어</td>\n",
       "      <td>16:25</td>\n",
       "      <td>17:35</td>\n",
       "      <td>01시간 10분</td>\n",
       "      <td>58900</td>\n",
       "      <td>삼성카드 결제시 3.8% 캐시백</td>\n",
       "      <td>16</td>\n",
       "      <td>삼성카드</td>\n",
       "    </tr>\n",
       "    <tr>\n",
       "      <th>218</th>\n",
       "      <td>218</td>\n",
       "      <td>진에어</td>\n",
       "      <td>16:25</td>\n",
       "      <td>17:35</td>\n",
       "      <td>01시간 10분</td>\n",
       "      <td>134000</td>\n",
       "      <td>삼성카드 결제시 3.8% 캐시백</td>\n",
       "      <td>16</td>\n",
       "      <td>삼성카드</td>\n",
       "    </tr>\n",
       "    <tr>\n",
       "      <th>219</th>\n",
       "      <td>219</td>\n",
       "      <td>대한항공</td>\n",
       "      <td>16:25</td>\n",
       "      <td>17:35</td>\n",
       "      <td>01시간 10분</td>\n",
       "      <td>204000</td>\n",
       "      <td>삼성카드 결제시 3% 캐시백</td>\n",
       "      <td>16</td>\n",
       "      <td>삼성카드</td>\n",
       "    </tr>\n",
       "  </tbody>\n",
       "</table>\n",
       "<p>149 rows × 9 columns</p>\n",
       "</div>"
      ],
      "text/plain": [
       "     Unnamed: 0     항공사   출발시간   도착시간      비행시간  항공금액(원)               할인꿀팁  \\\n",
       "1             1    에어서울  06:00  07:00  01시간 00분   134000    삼성카드 결제시 3% 캐시백   \n",
       "3             3  아시아나항공  06:05  07:15  01시간 10분    87000    삼성카드 결제시 3% 캐시백   \n",
       "4             4  아시아나항공  06:05  07:15  01시간 10분   147000    삼성카드 결제시 3% 캐시백   \n",
       "5             5  아시아나항공  06:05  07:15  01시간 10분   184000    삼성카드 결제시 3% 캐시백   \n",
       "7             7  아시아나항공  06:10  07:20  01시간 10분    87000    삼성카드 결제시 3% 캐시백   \n",
       "..          ...     ...    ...    ...       ...      ...                ...   \n",
       "214         214    대한항공  16:10  17:20  01시간 10분    58000    삼성카드 결제시 3% 캐시백   \n",
       "216         216    대한항공  16:25  17:35  01시간 10분    52000    삼성카드 결제시 3% 캐시백   \n",
       "217         217     진에어  16:25  17:35  01시간 10분    58900  삼성카드 결제시 3.8% 캐시백   \n",
       "218         218     진에어  16:25  17:35  01시간 10분   134000  삼성카드 결제시 3.8% 캐시백   \n",
       "219         219    대한항공  16:25  17:35  01시간 10분   204000    삼성카드 결제시 3% 캐시백   \n",
       "\n",
       "     시간대   카드사  \n",
       "1      6  삼성카드  \n",
       "3      6  삼성카드  \n",
       "4      6  삼성카드  \n",
       "5      6  삼성카드  \n",
       "7      6  삼성카드  \n",
       "..   ...   ...  \n",
       "214   16  삼성카드  \n",
       "216   16  삼성카드  \n",
       "217   16  삼성카드  \n",
       "218   16  삼성카드  \n",
       "219   16  삼성카드  \n",
       "\n",
       "[149 rows x 9 columns]"
      ]
     },
     "execution_count": 151,
     "metadata": {},
     "output_type": "execute_result"
    }
   ],
   "source": [
    "tmp = df[df['카드사']=='삼성카드']\n",
    "tmp"
   ]
  },
  {
   "cell_type": "code",
   "execution_count": 152,
   "id": "f5c6b6c1",
   "metadata": {},
   "outputs": [
    {
     "data": {
      "text/plain": [
       "시간대\n",
       "6     23\n",
       "7     17\n",
       "8     12\n",
       "9      8\n",
       "10    14\n",
       "11    14\n",
       "12    11\n",
       "13    12\n",
       "14    20\n",
       "15    13\n",
       "16     5\n",
       "Name: 출발시간, dtype: int64"
      ]
     },
     "execution_count": 152,
     "metadata": {},
     "output_type": "execute_result"
    }
   ],
   "source": [
    "tmp.groupby('시간대').count()['출발시간']"
   ]
  },
  {
   "cell_type": "code",
   "execution_count": 153,
   "id": "6c3320be",
   "metadata": {},
   "outputs": [
    {
     "data": {
      "text/plain": [
       "dtype('int64')"
      ]
     },
     "execution_count": 153,
     "metadata": {},
     "output_type": "execute_result"
    }
   ],
   "source": [
    "tmp.groupby('시간대').count()['출발시간'].dtypes"
   ]
  },
  {
   "cell_type": "code",
   "execution_count": 154,
   "id": "4fe99d85",
   "metadata": {},
   "outputs": [
    {
     "data": {
      "text/plain": [
       "dtype('int64')"
      ]
     },
     "execution_count": 154,
     "metadata": {},
     "output_type": "execute_result"
    }
   ],
   "source": [
    "tmp = df[df['카드사']=='삼성카드']\n",
    "tmp.groupby('시간대').count()['출발시간'].dtypes"
   ]
  },
  {
   "cell_type": "code",
   "execution_count": 142,
   "id": "89b815e0",
   "metadata": {},
   "outputs": [
    {
     "data": {
      "text/plain": [
       "시간대\n",
       "6     23\n",
       "14    20\n",
       "7     17\n",
       "10    14\n",
       "11    14\n",
       "15    13\n",
       "8     12\n",
       "13    12\n",
       "12    11\n",
       "9      8\n",
       "16     5\n",
       "Name: 출발시간, dtype: int64"
      ]
     },
     "execution_count": 142,
     "metadata": {},
     "output_type": "execute_result"
    }
   ],
   "source": [
    "tmp.groupby('시간대').count()['출발시간'].sort_values(ascending=False)"
   ]
  },
  {
   "cell_type": "code",
   "execution_count": 143,
   "id": "74084c3e",
   "metadata": {},
   "outputs": [
    {
     "data": {
      "text/plain": [
       "<AxesSubplot:xlabel='시간대'>"
      ]
     },
     "execution_count": 143,
     "metadata": {},
     "output_type": "execute_result"
    },
    {
     "data": {
      "image/png": "[encoded data removed]",
      "text/plain": [
       "<Figure size 432x288 with 1 Axes>"
      ]
     },
     "metadata": {
      "needs_background": "light"
     },
     "output_type": "display_data"
    }
   ],
   "source": [
    "tmp.groupby('시간대').count()['출발시간'].plot(kind='bar')"
   ]
  },
  {
   "cell_type": "code",
   "execution_count": 145,
   "id": "59a682bb",
   "metadata": {},
   "outputs": [
    {
     "data": {
      "image/png": "[encoded data removed]",
      "text/plain": [
       "<Figure size 432x288 with 1 Axes>"
      ]
     },
     "metadata": {
      "needs_background": "light"
     },
     "output_type": "display_data"
    }
   ],
   "source": [
    "tmp.groupby('시간대').count()['출발시간'].plot(kind='bar')\n",
    "plt.xticks(rotation=0)\n",
    "plt.show()"
   ]
  },
  {
   "cell_type": "code",
   "execution_count": 147,
   "id": "ec4d70b5",
   "metadata": {},
   "outputs": [
    {
     "data": {
      "text/plain": [
       "array(['KB국민카드', '삼성카드', '네이버페이', '하나 신용/체크카드', '롯데카드', '없음'],\n",
       "      dtype=object)"
      ]
     },
     "execution_count": 147,
     "metadata": {},
     "output_type": "execute_result"
    }
   ],
   "source": [
    "card_names = df['카드사'].unique()\n",
    "card_names"
   ]
  },
  {
   "cell_type": "code",
   "execution_count": 149,
   "id": "87618a74",
   "metadata": {},
   "outputs": [
    {
     "data": {
      "image/png": "[encoded data removed]",
      "text/plain": [
       "<Figure size 432x288 with 1 Axes>"
      ]
     },
     "metadata": {
      "needs_background": "light"
     },
     "output_type": "display_data"
    },
    {
     "data": {
      "image/png": "[encoded data removed]",
      "text/plain": [
       "<Figure size 432x288 with 1 Axes>"
      ]
     },
     "metadata": {
      "needs_background": "light"
     },
     "output_type": "display_data"
    },
    {
     "data": {
      "image/png": "[encoded data removed]",
      "text/plain": [
       "<Figure size 432x288 with 1 Axes>"
      ]
     },
     "metadata": {
      "needs_background": "light"
     },
     "output_type": "display_data"
    },
    {
     "data": {
      "image/png": "[encoded data removed]",
      "text/plain": [
       "<Figure size 432x288 with 1 Axes>"
      ]
     },
     "metadata": {
      "needs_background": "light"
     },
     "output_type": "display_data"
    },
    {
     "data": {
      "image/png": "[encoded data removed]",
      "text/plain": [
       "<Figure size 432x288 with 1 Axes>"
      ]
     },
     "metadata": {
      "needs_background": "light"
     },
     "output_type": "display_data"
    },
    {
     "data": {
      "image/png": "[encoded data removed]",
      "text/plain": [
       "<Figure size 432x288 with 1 Axes>"
      ]
     },
     "metadata": {
      "needs_background": "light"
     },
     "output_type": "display_data"
    }
   ],
   "source": [
    "for name in card_names:\n",
    "    tmp = df[df['카드사']==name]\n",
    "    tmp.groupby('시간대').count()['출발시간'].plot(kind='bar')\n",
    "    plt.xticks(rotation=0)\n",
    "    plt.title(name)\n",
    "    plt.show()"
   ]
  },
  {
   "cell_type": "code",
   "execution_count": 150,
   "id": "ab601b7c",
   "metadata": {},
   "outputs": [
    {
     "data": {
      "text/plain": [
       "시간대\n",
       "8    1\n",
       "Name: 출발시간, dtype: int64"
      ]
     },
     "execution_count": 150,
     "metadata": {},
     "output_type": "execute_result"
    }
   ],
   "source": []
  },
  {
   "cell_type": "code",
   "execution_count": null,
   "id": "f0cde5ef",
   "metadata": {},
   "outputs": [],
   "source": []
  }
 ],
 "metadata": {
  "kernelspec": {
   "display_name": "Python 3 (ipykernel)",
   "language": "python",
   "name": "python3"
  },
  "language_info": {
   "codemirror_mode": {
    "name": "ipython",
    "version": 3
   },
   "file_extension": ".py",
   "mimetype": "text/x-python",
   "name": "python",
   "nbconvert_exporter": "python",
   "pygments_lexer": "ipython3",
   "version": "3.10.4"
  }
 },
 "nbformat": 4,
 "nbformat_minor": 5
}
