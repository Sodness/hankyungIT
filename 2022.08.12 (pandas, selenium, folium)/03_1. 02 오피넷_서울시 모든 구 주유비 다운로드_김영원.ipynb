{
 "cells": [
  {
   "cell_type": "code",
   "execution_count": 1,
   "id": "0a76ca74",
   "metadata": {},
   "outputs": [],
   "source": [
    "from selenium import webdriver\n",
    "from selenium.webdriver.common.keys import Keys\n",
    "from selenium.webdriver.common.by import By\n",
    "import time"
   ]
  },
  {
   "cell_type": "code",
   "execution_count": 2,
   "id": "2ab1d351",
   "metadata": {},
   "outputs": [
    {
     "name": "stderr",
     "output_type": "stream",
     "text": [
      "C:\\Users\\user\\AppData\\Local\\Temp\\ipykernel_5856\\3515440587.py:1: DeprecationWarning: executable_path has been deprecated, please pass in a Service object\n",
      "  driver = webdriver.Chrome('./chromedriver.exe')\n"
     ]
    }
   ],
   "source": [
    "driver = webdriver.Chrome('./chromedriver.exe')\n",
    "driver.maximize_window()\n",
    "\n",
    "url = 'https://www.opinet.co.kr'\n",
    "# print(url)\n",
    "driver.get(url)\n",
    "time.sleep(2)\n",
    "\n",
    "url2 = 'https://www.opinet.co.kr/searRgSelect.do'\n",
    "driver.get(url2)\n",
    "time.sleep(2)\n",
    "\n",
    "elem = driver.find_element(By.XPATH, '//*[@id=\"SIGUNGU_NM0\"]')\n",
    "time.sleep(1)\n",
    "opt_tags = elem.find_elements(By.TAG_NAME, 'option')\n",
    "time.sleep(1)\n",
    "\n",
    "# driver.find_element(By.XPATH, '//*[@id=\"glopopd_excel\"]/span').click()\n",
    "# time.sleep(1)\n",
    "\n",
    "# driver.close()\n",
    "# driver.quit()"
   ]
  },
  {
   "cell_type": "code",
   "execution_count": 3,
   "id": "20a6f249",
   "metadata": {},
   "outputs": [
    {
     "data": {
      "text/plain": [
       "[<selenium.webdriver.remote.webelement.WebElement (session=\"cfc9a68ce731694709e29ef5a172d857\", element=\"58ccb190-bd3b-4ad0-a9ba-e329d0ca99cc\")>,\n",
       " <selenium.webdriver.remote.webelement.WebElement (session=\"cfc9a68ce731694709e29ef5a172d857\", element=\"d305f86d-7ec6-48e1-b2cc-ba58424dff51\")>,\n",
       " <selenium.webdriver.remote.webelement.WebElement (session=\"cfc9a68ce731694709e29ef5a172d857\", element=\"aecdc83d-cc73-41df-9b26-4be477a75a62\")>,\n",
       " <selenium.webdriver.remote.webelement.WebElement (session=\"cfc9a68ce731694709e29ef5a172d857\", element=\"f3abd93c-714b-4397-8f3d-21d18747826c\")>,\n",
       " <selenium.webdriver.remote.webelement.WebElement (session=\"cfc9a68ce731694709e29ef5a172d857\", element=\"8d83bf1f-1060-4e82-8b2b-32cfeb9fa436\")>,\n",
       " <selenium.webdriver.remote.webelement.WebElement (session=\"cfc9a68ce731694709e29ef5a172d857\", element=\"8196ca19-3aec-499f-a3fa-7185772ccd7a\")>,\n",
       " <selenium.webdriver.remote.webelement.WebElement (session=\"cfc9a68ce731694709e29ef5a172d857\", element=\"a4f26827-976f-4d62-86e8-c0dc9c7092f0\")>,\n",
       " <selenium.webdriver.remote.webelement.WebElement (session=\"cfc9a68ce731694709e29ef5a172d857\", element=\"783c14d9-2832-46c1-8e8e-fd601e6b45f8\")>,\n",
       " <selenium.webdriver.remote.webelement.WebElement (session=\"cfc9a68ce731694709e29ef5a172d857\", element=\"48e657cc-560c-4aee-bc6f-aa084b68d4dd\")>,\n",
       " <selenium.webdriver.remote.webelement.WebElement (session=\"cfc9a68ce731694709e29ef5a172d857\", element=\"97e227c0-b40a-417c-aa2f-a2fd77fe6f21\")>,\n",
       " <selenium.webdriver.remote.webelement.WebElement (session=\"cfc9a68ce731694709e29ef5a172d857\", element=\"b3101bd2-2220-4d74-9190-ca4834092adc\")>,\n",
       " <selenium.webdriver.remote.webelement.WebElement (session=\"cfc9a68ce731694709e29ef5a172d857\", element=\"8374abd1-be93-4f24-81fc-bdc9a058afbd\")>,\n",
       " <selenium.webdriver.remote.webelement.WebElement (session=\"cfc9a68ce731694709e29ef5a172d857\", element=\"5da6f0ef-e8cc-43eb-9caf-394f3f71fedd\")>,\n",
       " <selenium.webdriver.remote.webelement.WebElement (session=\"cfc9a68ce731694709e29ef5a172d857\", element=\"987cd497-6839-4daf-97d1-d59819252c77\")>,\n",
       " <selenium.webdriver.remote.webelement.WebElement (session=\"cfc9a68ce731694709e29ef5a172d857\", element=\"c15eae96-fc43-46f7-9f14-5ee2836a05b9\")>,\n",
       " <selenium.webdriver.remote.webelement.WebElement (session=\"cfc9a68ce731694709e29ef5a172d857\", element=\"d633bd50-1cfc-4dec-9da7-92927d813d8d\")>,\n",
       " <selenium.webdriver.remote.webelement.WebElement (session=\"cfc9a68ce731694709e29ef5a172d857\", element=\"e52f1138-3581-4fdd-8705-020765a3b01a\")>,\n",
       " <selenium.webdriver.remote.webelement.WebElement (session=\"cfc9a68ce731694709e29ef5a172d857\", element=\"58e9cd26-2788-435c-8969-39f3ef2738fd\")>,\n",
       " <selenium.webdriver.remote.webelement.WebElement (session=\"cfc9a68ce731694709e29ef5a172d857\", element=\"2fb8f682-29b3-4bae-b7a6-c81bf414a65a\")>,\n",
       " <selenium.webdriver.remote.webelement.WebElement (session=\"cfc9a68ce731694709e29ef5a172d857\", element=\"61f1c701-0ae6-432a-b89a-56e5d41c6bdd\")>,\n",
       " <selenium.webdriver.remote.webelement.WebElement (session=\"cfc9a68ce731694709e29ef5a172d857\", element=\"e7553e39-96ff-4e36-9825-8ebc9475afdb\")>,\n",
       " <selenium.webdriver.remote.webelement.WebElement (session=\"cfc9a68ce731694709e29ef5a172d857\", element=\"57430e80-28b9-46cb-9430-85800e885cfa\")>,\n",
       " <selenium.webdriver.remote.webelement.WebElement (session=\"cfc9a68ce731694709e29ef5a172d857\", element=\"ca24202e-b586-4905-b095-ecbb2f520f63\")>,\n",
       " <selenium.webdriver.remote.webelement.WebElement (session=\"cfc9a68ce731694709e29ef5a172d857\", element=\"7395f08f-7617-4f5f-99f6-06158e795e64\")>,\n",
       " <selenium.webdriver.remote.webelement.WebElement (session=\"cfc9a68ce731694709e29ef5a172d857\", element=\"a88d3f8e-0585-4e3d-b059-e381f981642b\")>,\n",
       " <selenium.webdriver.remote.webelement.WebElement (session=\"cfc9a68ce731694709e29ef5a172d857\", element=\"0bdba7b7-40d5-4d8e-b6d4-0941cab9afb6\")>]"
      ]
     },
     "execution_count": 3,
     "metadata": {},
     "output_type": "execute_result"
    }
   ],
   "source": [
    "opt_tags"
   ]
  },
  {
   "cell_type": "code",
   "execution_count": 4,
   "id": "c4841597",
   "metadata": {},
   "outputs": [
    {
     "data": {
      "text/plain": [
       "26"
      ]
     },
     "execution_count": 4,
     "metadata": {},
     "output_type": "execute_result"
    }
   ],
   "source": [
    "len(opt_tags)"
   ]
  },
  {
   "cell_type": "code",
   "execution_count": 8,
   "id": "0914daba",
   "metadata": {},
   "outputs": [
    {
     "name": "stdout",
     "output_type": "stream",
     "text": [
      "시/군/구\n",
      "강남구\n",
      "강동구\n",
      "강북구\n",
      "강서구\n",
      "관악구\n",
      "광진구\n",
      "구로구\n",
      "금천구\n",
      "노원구\n",
      "도봉구\n",
      "동대문구\n",
      "동작구\n",
      "마포구\n",
      "서대문구\n",
      "서초구\n",
      "성동구\n",
      "성북구\n",
      "송파구\n",
      "양천구\n",
      "영등포구\n",
      "용산구\n",
      "은평구\n",
      "종로구\n",
      "중구\n",
      "중랑구\n"
     ]
    }
   ],
   "source": [
    "for opt in opt_tags:\n",
    "    print(opt.text)"
   ]
  },
  {
   "cell_type": "code",
   "execution_count": 9,
   "id": "a396b10c",
   "metadata": {},
   "outputs": [
    {
     "data": {
      "text/plain": [
       "['시/군/구',\n",
       " '강남구',\n",
       " '강동구',\n",
       " '강북구',\n",
       " '강서구',\n",
       " '관악구',\n",
       " '광진구',\n",
       " '구로구',\n",
       " '금천구',\n",
       " '노원구',\n",
       " '도봉구',\n",
       " '동대문구',\n",
       " '동작구',\n",
       " '마포구',\n",
       " '서대문구',\n",
       " '서초구',\n",
       " '성동구',\n",
       " '성북구',\n",
       " '송파구',\n",
       " '양천구',\n",
       " '영등포구',\n",
       " '용산구',\n",
       " '은평구',\n",
       " '종로구',\n",
       " '중구',\n",
       " '중랑구']"
      ]
     },
     "execution_count": 9,
     "metadata": {},
     "output_type": "execute_result"
    }
   ],
   "source": [
    "res = [opt.text for opt in opt_tags]"
   ]
  },
  {
   "cell_type": "code",
   "execution_count": 10,
   "id": "855f232b",
   "metadata": {},
   "outputs": [
    {
     "name": "stderr",
     "output_type": "stream",
     "text": [
      "C:\\Users\\user\\AppData\\Local\\Temp\\ipykernel_5856\\2175909158.py:1: DeprecationWarning: executable_path has been deprecated, please pass in a Service object\n",
      "  driver = webdriver.Chrome('./chromedriver.exe')\n"
     ]
    }
   ],
   "source": [
    "driver = webdriver.Chrome('./chromedriver.exe')\n",
    "driver.maximize_window()\n",
    "\n",
    "url = 'https://www.opinet.co.kr'\n",
    "# print(url)\n",
    "driver.get(url)\n",
    "time.sleep(2)\n",
    "\n",
    "url2 = 'https://www.opinet.co.kr/searRgSelect.do'\n",
    "driver.get(url2)\n",
    "time.sleep(2)\n",
    "\n",
    "elem = driver.find_element(By.XPATH, '//*[@id=\"SIGUNGU_NM0\"]')\n",
    "time.sleep(1)\n",
    "opt_tags = elem.find_elements(By.TAG_NAME, 'option')\n",
    "time.sleep(1)\n",
    "\n",
    "gu_names = [opt.text for opt in opt_tags]\n",
    "gu_names = gu_names[1:]\n",
    "\n",
    "for i in gu_names:\n",
    "    driver.find_element(By.XPATH, '//*[@id=\"SIGUNGU_NM0\"]').send_keys(i)\n",
    "    time.sleep(1)\n",
    "    driver.find_element(By.XPATH, '//*[@id=\"glopopd_excel\"]/span').click()\n",
    "    time.sleep(2)\n",
    "\n",
    "driver.close()\n",
    "driver.quit()"
   ]
  },
  {
   "cell_type": "code",
   "execution_count": null,
   "id": "9335f035",
   "metadata": {},
   "outputs": [],
   "source": []
  }
 ],
 "metadata": {
  "kernelspec": {
   "display_name": "Python 3 (ipykernel)",
   "language": "python",
   "name": "python3"
  },
  "language_info": {
   "codemirror_mode": {
    "name": "ipython",
    "version": 3
   },
   "file_extension": ".py",
   "mimetype": "text/x-python",
   "name": "python",
   "nbconvert_exporter": "python",
   "pygments_lexer": "ipython3",
   "version": "3.10.4"
  }
 },
 "nbformat": 4,
 "nbformat_minor": 5
}
