{
 "cells": [
  {
   "cell_type": "code",
   "execution_count": 2,
   "id": "d2c80bdc",
   "metadata": {},
   "outputs": [],
   "source": [
    "from selenium import webdriver\n",
    "from selenium.webdriver import Keys\n",
    "from selenium.webdriver.common.by import By\n",
    "\n",
    "import time\n"
   ]
  },
  {
   "cell_type": "code",
   "execution_count": 7,
   "id": "66a293d8",
   "metadata": {},
   "outputs": [
    {
     "name": "stderr",
     "output_type": "stream",
     "text": [
      "C:\\Users\\hmh\\AppData\\Local\\Temp\\ipykernel_20984\\938123803.py:1: DeprecationWarning: executable_path has been deprecated, please pass in a Service object\n",
      "  driver=webdriver.Chrome('./chromedriver.exe') # 크롬 드라이브 본인폴더로 이동\n"
     ]
    }
   ],
   "source": [
    "driver=webdriver.Chrome('./chromedriver.exe') # 크롬 드라이브 본인폴더로 이동\n",
    "driver.maximize_window()\n",
    "\n",
    "url='https://www.opinet.co.kr/'\n",
    "\n",
    "driver.get(url)  # 기본 오피넷 사이트 이동\n",
    "time.sleep(2)\n",
    "\n",
    "driver.get('https://www.opinet.co.kr/searRgSelect.do') # 지역별 유류비 사이트 이동\n",
    "time.sleep(2)\n",
    "\n",
    "#구리스트 값 가져오기\n",
    "gu_list_raw=driver.find_element(By.XPATH,'//*[@id=\"SIGUNGU_NM0\"]')\n",
    "gu_list=gu_list_raw.find_elements(By.TAG_NAME,'option')\n",
    "gu_names=[i.text for i in gu_list]\n",
    "gu_names=gu_names[1:]\n",
    "\n",
    "#구별 주유비 다운로드\n",
    "for gu in gu_names:\n",
    "    driver.find_element(By.XPATH,'//*[@id=\"SIGUNGU_NM0\"]').send_keys(gu)\n",
    "    time.sleep(1)\n",
    "    driver.find_element(By.XPATH,'//*[@id=\"glopopd_excel\"]/span').click()\n",
    "    time.sleep(2)\n",
    "\n",
    "driver.close()\n",
    "driver.quit()\n",
    "\n"
   ]
  },
  {
   "cell_type": "code",
   "execution_count": null,
   "id": "849efc52",
   "metadata": {},
   "outputs": [],
   "source": []
  }
 ],
 "metadata": {
  "kernelspec": {
   "display_name": "Python 3 (ipykernel)",
   "language": "python",
   "name": "python3"
  },
  "language_info": {
   "codemirror_mode": {
    "name": "ipython",
    "version": 3
   },
   "file_extension": ".py",
   "mimetype": "text/x-python",
   "name": "python",
   "nbconvert_exporter": "python",
   "pygments_lexer": "ipython3",
   "version": "3.10.4"
  }
 },
 "nbformat": 4,
 "nbformat_minor": 5
}
