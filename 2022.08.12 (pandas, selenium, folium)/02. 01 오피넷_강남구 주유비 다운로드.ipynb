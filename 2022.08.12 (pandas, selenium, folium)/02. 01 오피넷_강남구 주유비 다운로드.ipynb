{
 "cells": [
  {
   "cell_type": "code",
   "execution_count": 33,
   "id": "059878a6",
   "metadata": {},
   "outputs": [],
   "source": [
    "from selenium import webdriver\n",
    "from selenium.webdriver import Keys\n",
    "from selenium.webdriver.common.by import By\n",
    "\n",
    "import time"
   ]
  },
  {
   "cell_type": "code",
   "execution_count": 62,
   "id": "b4ecece8",
   "metadata": {},
   "outputs": [
    {
     "name": "stderr",
     "output_type": "stream",
     "text": [
      "C:\\Users\\hmh\\AppData\\Local\\Temp\\ipykernel_29464\\2213421471.py:1: DeprecationWarning: executable_path has been deprecated, please pass in a Service object\n",
      "  driver=webdriver.Chrome('./chromedriver.exe') # 크롬 드라이브 본인폴더로 이동\n"
     ]
    }
   ],
   "source": [
    "driver=webdriver.Chrome('./chromedriver.exe') # 크롬 드라이브 본인폴더로 이동\n",
    "driver.maximize_window()\n",
    "\n",
    "url='https://www.opinet.co.kr/'\n",
    "\n",
    "\n",
    "\n",
    "driver.get(url)  # 기본 오피넷 사이트 이동\n",
    "time.sleep(2)\n",
    "\n",
    "driver.get('https://www.opinet.co.kr/searRgSelect.do') # 지역별 유류비 사이트 이동\n",
    "time.sleep(2)\n",
    "\n",
    "#강남구 주유비 다운로드\n",
    "driver.find_element(By.XPATH,'//*[@id=\"SIGUNGU_NM0\"]').send_keys('강남구')\n",
    "time.sleep(1)\n",
    "driver.find_element(By.XPATH,'//*[@id=\"glopopd_excel\"]/span').click()\n",
    "time.sleep(2)\n",
    "\n",
    "driver.close()\n",
    "driver.quit()"
   ]
  },
  {
   "cell_type": "code",
   "execution_count": null,
   "id": "1faebd50",
   "metadata": {},
   "outputs": [],
   "source": []
  }
 ],
 "metadata": {
  "kernelspec": {
   "display_name": "Python 3 (ipykernel)",
   "language": "python",
   "name": "python3"
  },
  "language_info": {
   "codemirror_mode": {
    "name": "ipython",
    "version": 3
   },
   "file_extension": ".py",
   "mimetype": "text/x-python",
   "name": "python",
   "nbconvert_exporter": "python",
   "pygments_lexer": "ipython3",
   "version": "3.10.4"
  }
 },
 "nbformat": 4,
 "nbformat_minor": 5
}
