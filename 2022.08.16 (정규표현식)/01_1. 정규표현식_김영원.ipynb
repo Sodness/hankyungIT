{
 "cells": [
  {
   "cell_type": "code",
   "execution_count": 21,
   "id": "7bb43da1",
   "metadata": {},
   "outputs": [],
   "source": [
    "files = ['고양이1.jpg', '고양이10.jpg', '강아지1.jpg', '강아지20.jpg']"
   ]
  },
  {
   "cell_type": "code",
   "execution_count": 3,
   "id": "85d81351",
   "metadata": {},
   "outputs": [
    {
     "data": {
      "text/plain": [
       "['고양이', '고양이', '강아지', '강아지']"
      ]
     },
     "execution_count": 3,
     "metadata": {},
     "output_type": "execute_result"
    }
   ],
   "source": [
    "[i[:3] for i in files]"
   ]
  },
  {
   "cell_type": "code",
   "execution_count": 4,
   "id": "ef599e32",
   "metadata": {},
   "outputs": [
    {
     "data": {
      "text/plain": [
       "{'강아지', '고양이'}"
      ]
     },
     "execution_count": 4,
     "metadata": {},
     "output_type": "execute_result"
    }
   ],
   "source": [
    "set([i[:3] for i in files])"
   ]
  },
  {
   "cell_type": "code",
   "execution_count": 5,
   "id": "d02d13be",
   "metadata": {},
   "outputs": [
    {
     "data": {
      "text/plain": [
       "['강아지', '고양이']"
      ]
     },
     "execution_count": 5,
     "metadata": {},
     "output_type": "execute_result"
    }
   ],
   "source": [
    "list(set([i[:3] for i in files]))"
   ]
  },
  {
   "cell_type": "code",
   "execution_count": 7,
   "id": "219147b2",
   "metadata": {},
   "outputs": [
    {
     "data": {
      "text/plain": [
       "False"
      ]
     },
     "execution_count": 7,
     "metadata": {},
     "output_type": "execute_result"
    }
   ],
   "source": [
    "(1.1 + 0.1) == 1.2"
   ]
  },
  {
   "cell_type": "code",
   "execution_count": 26,
   "id": "3a617f17",
   "metadata": {},
   "outputs": [],
   "source": [
    "files = ['고양이1.jpg', '고양이10.jpg', '강아지1.jpg', '강아지20.jpg', '뱀1.jpg', '뱀20.jpg']"
   ]
  },
  {
   "cell_type": "code",
   "execution_count": 3,
   "id": "570b6ac0",
   "metadata": {},
   "outputs": [],
   "source": [
    "import re"
   ]
  },
  {
   "cell_type": "code",
   "execution_count": 10,
   "id": "49516e92",
   "metadata": {},
   "outputs": [
    {
     "data": {
      "text/plain": [
       "['고', '양', '이']"
      ]
     },
     "execution_count": 10,
     "metadata": {},
     "output_type": "execute_result"
    }
   ],
   "source": [
    "re.findall('[가-힣]', files[0])"
   ]
  },
  {
   "cell_type": "code",
   "execution_count": 11,
   "id": "94d62d74",
   "metadata": {},
   "outputs": [
    {
     "data": {
      "text/plain": [
       "['고양이']"
      ]
     },
     "execution_count": 11,
     "metadata": {},
     "output_type": "execute_result"
    }
   ],
   "source": [
    "re.findall('[가-힣]+', files[0])"
   ]
  },
  {
   "cell_type": "code",
   "execution_count": 12,
   "id": "bca11ca4",
   "metadata": {},
   "outputs": [],
   "source": [
    "txt='가나다 라다마 abc efg 112 12-25-89 ㅋㅋㅋ ABC _,'"
   ]
  },
  {
   "cell_type": "code",
   "execution_count": 13,
   "id": "98959cdd",
   "metadata": {},
   "outputs": [
    {
     "data": {
      "text/plain": [
       "['가나다', '라다마', 'abc', 'efg', 'ABC']"
      ]
     },
     "execution_count": 13,
     "metadata": {},
     "output_type": "execute_result"
    }
   ],
   "source": [
    "re.findall('[가-힣a-zA-Z]+', txt)"
   ]
  },
  {
   "cell_type": "code",
   "execution_count": 14,
   "id": "64abe604",
   "metadata": {},
   "outputs": [
    {
     "data": {
      "text/plain": [
       "['가나다', '라다마', 'abc', 'efg', '112', '12', '25', '89', 'ABC']"
      ]
     },
     "execution_count": 14,
     "metadata": {},
     "output_type": "execute_result"
    }
   ],
   "source": [
    "re.findall('[가-힣a-zA-Z0-9]+', txt)"
   ]
  },
  {
   "cell_type": "code",
   "execution_count": 15,
   "id": "f47b076d",
   "metadata": {},
   "outputs": [
    {
     "data": {
      "text/plain": [
       "['가나다', '라다마', 'abc', 'efg', '112', '12', '25', '89', 'ㅋㅋㅋ', 'ABC']"
      ]
     },
     "execution_count": 15,
     "metadata": {},
     "output_type": "execute_result"
    }
   ],
   "source": [
    "re.findall('[가-힣a-zA-Z0-9ㄱ-ㅎ]+', txt)"
   ]
  },
  {
   "cell_type": "code",
   "execution_count": 16,
   "id": "a7b4b25a",
   "metadata": {},
   "outputs": [
    {
     "data": {
      "text/plain": [
       "['가나다', '라다마', 'abc', 'efg', '112', '12-25-89', 'ㅋㅋㅋ', 'ABC']"
      ]
     },
     "execution_count": 16,
     "metadata": {},
     "output_type": "execute_result"
    }
   ],
   "source": [
    "re.findall('[가-힣a-zA-Z0-9ㄱ-ㅎ-]+', txt) # 빼기는 끝에"
   ]
  },
  {
   "cell_type": "code",
   "execution_count": 17,
   "id": "d0663f8b",
   "metadata": {},
   "outputs": [],
   "source": [
    "txt='가나다 라다마 abc efg 112 12-25-89 ㅋㅋㅋ ABC _,.$%'"
   ]
  },
  {
   "cell_type": "code",
   "execution_count": 18,
   "id": "9c3cad71",
   "metadata": {},
   "outputs": [
    {
     "data": {
      "text/plain": [
       "['가나다', '라다마', 'abc', 'efg', '112', '12-25-89', 'ㅋㅋㅋ', 'ABC', '_,', '$%']"
      ]
     },
     "execution_count": 18,
     "metadata": {},
     "output_type": "execute_result"
    }
   ],
   "source": [
    "re.findall('[가-힣a-zA-Z0-9ㄱ-ㅎ$%_,-]+', txt)"
   ]
  },
  {
   "cell_type": "code",
   "execution_count": 24,
   "id": "ac44615d",
   "metadata": {},
   "outputs": [
    {
     "ename": "TypeError",
     "evalue": "expected string or bytes-like object",
     "output_type": "error",
     "traceback": [
      "\u001b[1;31m---------------------------------------------------------------------------\u001b[0m",
      "\u001b[1;31mTypeError\u001b[0m                                 Traceback (most recent call last)",
      "Input \u001b[1;32mIn [24]\u001b[0m, in \u001b[0;36m<cell line: 1>\u001b[1;34m()\u001b[0m\n\u001b[1;32m----> 1\u001b[0m \u001b[43mre\u001b[49m\u001b[38;5;241;43m.\u001b[39;49m\u001b[43mfindall\u001b[49m\u001b[43m(\u001b[49m\u001b[38;5;124;43m'\u001b[39;49m\u001b[38;5;124;43m[가-힣]+\u001b[39;49m\u001b[38;5;124;43m'\u001b[39;49m\u001b[43m,\u001b[49m\u001b[43m \u001b[49m\u001b[43mfiles\u001b[49m\u001b[43m)\u001b[49m\n",
      "File \u001b[1;32m~\\.conda\\envs\\han\\lib\\re.py:240\u001b[0m, in \u001b[0;36mfindall\u001b[1;34m(pattern, string, flags)\u001b[0m\n\u001b[0;32m    232\u001b[0m \u001b[38;5;28;01mdef\u001b[39;00m \u001b[38;5;21mfindall\u001b[39m(pattern, string, flags\u001b[38;5;241m=\u001b[39m\u001b[38;5;241m0\u001b[39m):\n\u001b[0;32m    233\u001b[0m     \u001b[38;5;124;03m\"\"\"Return a list of all non-overlapping matches in the string.\u001b[39;00m\n\u001b[0;32m    234\u001b[0m \n\u001b[0;32m    235\u001b[0m \u001b[38;5;124;03m    If one or more capturing groups are present in the pattern, return\u001b[39;00m\n\u001b[1;32m   (...)\u001b[0m\n\u001b[0;32m    238\u001b[0m \n\u001b[0;32m    239\u001b[0m \u001b[38;5;124;03m    Empty matches are included in the result.\"\"\"\u001b[39;00m\n\u001b[1;32m--> 240\u001b[0m     \u001b[38;5;28;01mreturn\u001b[39;00m \u001b[43m_compile\u001b[49m\u001b[43m(\u001b[49m\u001b[43mpattern\u001b[49m\u001b[43m,\u001b[49m\u001b[43m \u001b[49m\u001b[43mflags\u001b[49m\u001b[43m)\u001b[49m\u001b[38;5;241;43m.\u001b[39;49m\u001b[43mfindall\u001b[49m\u001b[43m(\u001b[49m\u001b[43mstring\u001b[49m\u001b[43m)\u001b[49m\n",
      "\u001b[1;31mTypeError\u001b[0m: expected string or bytes-like object"
     ]
    }
   ],
   "source": [
    "re.findall('[가-힣]+', files)"
   ]
  },
  {
   "cell_type": "code",
   "execution_count": 27,
   "id": "1f816222",
   "metadata": {},
   "outputs": [
    {
     "data": {
      "text/plain": [
       "[['고양이'], ['고양이'], ['강아지'], ['강아지'], ['뱀'], ['뱀']]"
      ]
     },
     "execution_count": 27,
     "metadata": {},
     "output_type": "execute_result"
    }
   ],
   "source": [
    "[re.findall('[가-힣]+', i) for i in files]"
   ]
  },
  {
   "cell_type": "code",
   "execution_count": 28,
   "id": "457f5a6f",
   "metadata": {},
   "outputs": [
    {
     "ename": "TypeError",
     "evalue": "unhashable type: 'list'",
     "output_type": "error",
     "traceback": [
      "\u001b[1;31m---------------------------------------------------------------------------\u001b[0m",
      "\u001b[1;31mTypeError\u001b[0m                                 Traceback (most recent call last)",
      "Input \u001b[1;32mIn [28]\u001b[0m, in \u001b[0;36m<cell line: 1>\u001b[1;34m()\u001b[0m\n\u001b[1;32m----> 1\u001b[0m \u001b[38;5;28;43mset\u001b[39;49m\u001b[43m(\u001b[49m\u001b[43m[\u001b[49m\u001b[43mre\u001b[49m\u001b[38;5;241;43m.\u001b[39;49m\u001b[43mfindall\u001b[49m\u001b[43m(\u001b[49m\u001b[38;5;124;43m'\u001b[39;49m\u001b[38;5;124;43m[가-힣]+\u001b[39;49m\u001b[38;5;124;43m'\u001b[39;49m\u001b[43m,\u001b[49m\u001b[43m \u001b[49m\u001b[43mi\u001b[49m\u001b[43m)\u001b[49m\u001b[43m \u001b[49m\u001b[38;5;28;43;01mfor\u001b[39;49;00m\u001b[43m \u001b[49m\u001b[43mi\u001b[49m\u001b[43m \u001b[49m\u001b[38;5;129;43;01min\u001b[39;49;00m\u001b[43m \u001b[49m\u001b[43mfiles\u001b[49m\u001b[43m]\u001b[49m\u001b[43m)\u001b[49m\n",
      "\u001b[1;31mTypeError\u001b[0m: unhashable type: 'list'"
     ]
    }
   ],
   "source": [
    "set([re.findall('[가-힣]+', i) for i in files])"
   ]
  },
  {
   "cell_type": "code",
   "execution_count": 29,
   "id": "b0b9e0aa",
   "metadata": {},
   "outputs": [
    {
     "ename": "TypeError",
     "evalue": "unhashable type: 'list'",
     "output_type": "error",
     "traceback": [
      "\u001b[1;31m---------------------------------------------------------------------------\u001b[0m",
      "\u001b[1;31mTypeError\u001b[0m                                 Traceback (most recent call last)",
      "Input \u001b[1;32mIn [29]\u001b[0m, in \u001b[0;36m<cell line: 1>\u001b[1;34m()\u001b[0m\n\u001b[1;32m----> 1\u001b[0m [\u001b[38;5;28;43mset\u001b[39;49m\u001b[43m(\u001b[49m\u001b[43mre\u001b[49m\u001b[38;5;241;43m.\u001b[39;49m\u001b[43mfindall\u001b[49m\u001b[43m(\u001b[49m\u001b[38;5;124;43m'\u001b[39;49m\u001b[38;5;124;43m[가-힣]+\u001b[39;49m\u001b[38;5;124;43m'\u001b[39;49m\u001b[43m,\u001b[49m\u001b[43m \u001b[49m\u001b[43mi\u001b[49m\u001b[43m)\u001b[49m\u001b[43m \u001b[49m\u001b[38;5;28;43;01mfor\u001b[39;49;00m\u001b[43m \u001b[49m\u001b[43mi\u001b[49m\u001b[43m \u001b[49m\u001b[38;5;129;43;01min\u001b[39;49;00m\u001b[43m \u001b[49m\u001b[43mfiles\u001b[49m\u001b[43m)\u001b[49m]\n",
      "\u001b[1;31mTypeError\u001b[0m: unhashable type: 'list'"
     ]
    }
   ],
   "source": [
    "[set(re.findall('[가-힣]+', i) for i in files)]"
   ]
  },
  {
   "cell_type": "code",
   "execution_count": 30,
   "id": "5e5583c0",
   "metadata": {},
   "outputs": [
    {
     "data": {
      "text/plain": [
       "[{'고양이'}, {'고양이'}, {'강아지'}, {'강아지'}, {'뱀'}, {'뱀'}]"
      ]
     },
     "execution_count": 30,
     "metadata": {},
     "output_type": "execute_result"
    }
   ],
   "source": [
    "[set(re.findall('[가-힣]+',i)) for i in files]"
   ]
  },
  {
   "cell_type": "code",
   "execution_count": 32,
   "id": "d8169d5f",
   "metadata": {},
   "outputs": [
    {
     "data": {
      "text/plain": [
       "['고양이1']"
      ]
     },
     "execution_count": 32,
     "metadata": {},
     "output_type": "execute_result"
    }
   ],
   "source": [
    "re.findall('[가-힣0-9]+', files[0])"
   ]
  },
  {
   "cell_type": "code",
   "execution_count": 33,
   "id": "e6a639b5",
   "metadata": {},
   "outputs": [
    {
     "data": {
      "text/plain": [
       "['고양이', '고양이', '강아지', '강아지', '뱀', '뱀']"
      ]
     },
     "execution_count": 33,
     "metadata": {},
     "output_type": "execute_result"
    }
   ],
   "source": [
    "[re.findall('[가-힣]+', i)[0] for i in files]"
   ]
  },
  {
   "cell_type": "code",
   "execution_count": 34,
   "id": "69229aab",
   "metadata": {},
   "outputs": [
    {
     "data": {
      "text/plain": [
       "['고양이1', '고양이10', '강아지1', '강아지20', '뱀1', '뱀20']"
      ]
     },
     "execution_count": 34,
     "metadata": {},
     "output_type": "execute_result"
    }
   ],
   "source": [
    "[re.findall('[가-힣0-9]+', i)[0] for i in files]"
   ]
  },
  {
   "cell_type": "code",
   "execution_count": 36,
   "id": "9184b12c",
   "metadata": {},
   "outputs": [
    {
     "data": {
      "text/plain": [
       "['고양이1.', '고양이10.', '강아지1.', '강아지20.', '뱀1.', '뱀20.']"
      ]
     },
     "execution_count": 36,
     "metadata": {},
     "output_type": "execute_result"
    }
   ],
   "source": [
    "[re.findall('[가-힣0-9.]+', i)[0] for i in files]"
   ]
  },
  {
   "cell_type": "code",
   "execution_count": 37,
   "id": "6fbc393c",
   "metadata": {},
   "outputs": [
    {
     "data": {
      "text/plain": [
       "['고양이1.jpg', '고양이10.jpg', '강아지1.jpg', '강아지20.jpg', '뱀1.jpg', '뱀20.jpg']"
      ]
     },
     "execution_count": 37,
     "metadata": {},
     "output_type": "execute_result"
    }
   ],
   "source": [
    "[re.findall('[가-힣0-9.a-z]+', i)[0] for i in files]"
   ]
  },
  {
   "cell_type": "code",
   "execution_count": 38,
   "id": "7e25bedb",
   "metadata": {},
   "outputs": [],
   "source": [
    "files = ['고양이 1.jpg', '고양이 10.jpg', '강아지 1.jpg', '강아지 20.jpg', '뱀 1.jpg', '뱀 20.jpg']"
   ]
  },
  {
   "cell_type": "code",
   "execution_count": 39,
   "id": "fcb4f9b2",
   "metadata": {},
   "outputs": [
    {
     "data": {
      "text/plain": [
       "['고양이', '고양이', '강아지', '강아지', '뱀', '뱀']"
      ]
     },
     "execution_count": 39,
     "metadata": {},
     "output_type": "execute_result"
    }
   ],
   "source": [
    "[re.findall('[가-힣]+', i)[0] for i in files]"
   ]
  },
  {
   "cell_type": "code",
   "execution_count": 40,
   "id": "798ebb4e",
   "metadata": {},
   "outputs": [
    {
     "data": {
      "text/plain": [
       "['고양이 ', '고양이 ', '강아지 ', '강아지 ', '뱀 ', '뱀 ']"
      ]
     },
     "execution_count": 40,
     "metadata": {},
     "output_type": "execute_result"
    }
   ],
   "source": [
    "[re.findall('[가-힣 ]+', i)[0] for i in files]"
   ]
  },
  {
   "cell_type": "code",
   "execution_count": 41,
   "id": "7e874a68",
   "metadata": {},
   "outputs": [
    {
     "data": {
      "text/plain": [
       "['고양이 1', '고양이 10', '강아지 1', '강아지 20', '뱀 1', '뱀 20']"
      ]
     },
     "execution_count": 41,
     "metadata": {},
     "output_type": "execute_result"
    }
   ],
   "source": [
    "[re.findall('[가-힣 0-9]+', i)[0] for i in files]"
   ]
  },
  {
   "cell_type": "code",
   "execution_count": 42,
   "id": "a82ccd82",
   "metadata": {},
   "outputs": [
    {
     "data": {
      "text/plain": [
       "['고양이 1.', '고양이 10.', '강아지 1.', '강아지 20.', '뱀 1.', '뱀 20.']"
      ]
     },
     "execution_count": 42,
     "metadata": {},
     "output_type": "execute_result"
    }
   ],
   "source": [
    "[re.findall('[가-힣 0-9.]+', i)[0] for i in files]"
   ]
  },
  {
   "cell_type": "code",
   "execution_count": 43,
   "id": "26999885",
   "metadata": {},
   "outputs": [
    {
     "data": {
      "text/plain": [
       "['고양이 1.jpg', '고양이 10.jpg', '강아지 1.jpg', '강아지 20.jpg', '뱀 1.jpg', '뱀 20.jpg']"
      ]
     },
     "execution_count": 43,
     "metadata": {},
     "output_type": "execute_result"
    }
   ],
   "source": [
    "[re.findall('[가-힣 0-9.a-z]+', i)[0] for i in files]"
   ]
  },
  {
   "cell_type": "code",
   "execution_count": 44,
   "id": "8dd2717b",
   "metadata": {},
   "outputs": [
    {
     "data": {
      "text/plain": [
       "['고양이 1.jpg', '고양이 10.jpg', '강아지 1.jpg', '강아지 20.jpg', '뱀 1.jpg', '뱀 20.jpg']"
      ]
     },
     "execution_count": 44,
     "metadata": {},
     "output_type": "execute_result"
    }
   ],
   "source": [
    "[re.findall('[가-힣 0-9a-z.]+', i)[0] for i in files]"
   ]
  },
  {
   "cell_type": "code",
   "execution_count": 45,
   "id": "7c94bbac",
   "metadata": {},
   "outputs": [
    {
     "data": {
      "text/plain": [
       "['고양이 1.jpg', '고양이 10.jpg', '강아지 1.jpg', '강아지 20.jpg', '뱀 1.jpg', '뱀 20.jpg']"
      ]
     },
     "execution_count": 45,
     "metadata": {},
     "output_type": "execute_result"
    }
   ],
   "source": [
    "[re.findall('[가-힣0-9a-z .]+', i)[0] for i in files]"
   ]
  },
  {
   "cell_type": "code",
   "execution_count": 46,
   "id": "5807d6f4",
   "metadata": {},
   "outputs": [],
   "source": [
    "files = ['강아지1.jpg', '소20.jpg']"
   ]
  },
  {
   "cell_type": "code",
   "execution_count": 49,
   "id": "fdb09232",
   "metadata": {},
   "outputs": [
    {
     "data": {
      "text/plain": [
       "['소']"
      ]
     },
     "execution_count": 49,
     "metadata": {},
     "output_type": "execute_result"
    }
   ],
   "source": [
    "re.findall('[가-힣]+', files[1])"
   ]
  },
  {
   "cell_type": "code",
   "execution_count": 50,
   "id": "2328a526",
   "metadata": {},
   "outputs": [],
   "source": [
    "mask = re.compile('[가-힣]+')"
   ]
  },
  {
   "cell_type": "code",
   "execution_count": 51,
   "id": "c1493752",
   "metadata": {},
   "outputs": [
    {
     "data": {
      "text/plain": [
       "['소']"
      ]
     },
     "execution_count": 51,
     "metadata": {},
     "output_type": "execute_result"
    }
   ],
   "source": [
    "mask.findall(files[1])"
   ]
  },
  {
   "cell_type": "code",
   "execution_count": 52,
   "id": "550490df",
   "metadata": {},
   "outputs": [
    {
     "data": {
      "text/plain": [
       "['강아지']"
      ]
     },
     "execution_count": 52,
     "metadata": {},
     "output_type": "execute_result"
    }
   ],
   "source": [
    "mask.findall(files[0])"
   ]
  },
  {
   "cell_type": "code",
   "execution_count": 53,
   "id": "f76dc022",
   "metadata": {},
   "outputs": [],
   "source": [
    "txt='''Hi there, Nice to meet you. And Hello there and hi.\n",
    "I love grey(gray) color not a gry, graay and graaay.\n",
    "Ya ya YaYaYa Ya\n",
    "\n",
    "abcdefghijklmnopqrstuvwxyz\n",
    "ABSCEFGHIJKLMNOPQRSTUVWZYZ\n",
    "1234567890\n",
    "\n",
    ".[]{}()\\^$|?*+\n",
    "\n",
    "010-898-0893\n",
    "010-405-3412\n",
    "010 405 3412\n",
    "010.405.3412\n",
    "02-878-8888\n",
    "\n",
    "dream.coder.ellie@gmail.com\n",
    "hello@daum.net\n",
    "hello@daum.co.kr\n",
    "\n",
    "http://www.youtu.be/-ZClicWm0zM\n",
    "https://www.youtu.be/-ZClicWm0zM\n",
    "https://youtu.be/-ZClicWm0zM\n",
    "youtu.be/-ZClicWm0zM\n",
    "\n",
    "https://regex101.com/\n",
    "\n",
    "'''"
   ]
  },
  {
   "cell_type": "code",
   "execution_count": 56,
   "id": "40967722",
   "metadata": {},
   "outputs": [],
   "source": [
    "mask = re.compile('hi|Hi')"
   ]
  },
  {
   "cell_type": "code",
   "execution_count": 57,
   "id": "e0ae0779",
   "metadata": {},
   "outputs": [
    {
     "data": {
      "text/plain": [
       "<re.Match object; span=(0, 2), match='Hi'>"
      ]
     },
     "execution_count": 57,
     "metadata": {},
     "output_type": "execute_result"
    }
   ],
   "source": [
    "mask.match(txt)"
   ]
  },
  {
   "cell_type": "code",
   "execution_count": 58,
   "id": "fd932623",
   "metadata": {},
   "outputs": [
    {
     "name": "stdout",
     "output_type": "stream",
     "text": [
      "Hi\n"
     ]
    }
   ],
   "source": [
    "print(mask.match(txt).group())"
   ]
  },
  {
   "cell_type": "code",
   "execution_count": 59,
   "id": "db7d1557",
   "metadata": {},
   "outputs": [
    {
     "name": "stdout",
     "output_type": "stream",
     "text": [
      "0\n"
     ]
    }
   ],
   "source": [
    "print(mask.match(txt).start())"
   ]
  },
  {
   "cell_type": "code",
   "execution_count": 60,
   "id": "cb7d3501",
   "metadata": {},
   "outputs": [
    {
     "name": "stdout",
     "output_type": "stream",
     "text": [
      "2\n"
     ]
    }
   ],
   "source": [
    "print(mask.match(txt).end())"
   ]
  },
  {
   "cell_type": "code",
   "execution_count": 61,
   "id": "6ad0d773",
   "metadata": {},
   "outputs": [
    {
     "name": "stdout",
     "output_type": "stream",
     "text": [
      "(0, 2)\n"
     ]
    }
   ],
   "source": [
    "print(mask.match(txt).span())"
   ]
  },
  {
   "cell_type": "code",
   "execution_count": 62,
   "id": "abcfe452",
   "metadata": {},
   "outputs": [
    {
     "data": {
      "text/plain": [
       "<re.Match object; span=(48, 50), match='hi'>"
      ]
     },
     "execution_count": 62,
     "metadata": {},
     "output_type": "execute_result"
    }
   ],
   "source": [
    "mask = re.compile('hi')\n",
    "mask.search(txt)"
   ]
  },
  {
   "cell_type": "code",
   "execution_count": 64,
   "id": "d1114e2c",
   "metadata": {},
   "outputs": [
    {
     "name": "stdout",
     "output_type": "stream",
     "text": [
      "hi\n"
     ]
    }
   ],
   "source": [
    "print(mask.search(txt).group())"
   ]
  },
  {
   "cell_type": "code",
   "execution_count": 65,
   "id": "2bda7639",
   "metadata": {},
   "outputs": [
    {
     "name": "stdout",
     "output_type": "stream",
     "text": [
      "48\n"
     ]
    }
   ],
   "source": [
    "print(mask.search(txt).start())"
   ]
  },
  {
   "cell_type": "code",
   "execution_count": 66,
   "id": "14e4c32c",
   "metadata": {},
   "outputs": [
    {
     "name": "stdout",
     "output_type": "stream",
     "text": [
      "50\n"
     ]
    }
   ],
   "source": [
    "print(mask.search(txt).end())"
   ]
  },
  {
   "cell_type": "code",
   "execution_count": 67,
   "id": "5f500ee7",
   "metadata": {},
   "outputs": [
    {
     "name": "stdout",
     "output_type": "stream",
     "text": [
      "(48, 50)\n"
     ]
    }
   ],
   "source": [
    "print(mask.search(txt).span())"
   ]
  },
  {
   "cell_type": "code",
   "execution_count": 68,
   "id": "47b1929c",
   "metadata": {},
   "outputs": [],
   "source": [
    "mask = re.compile('[a-z]+')"
   ]
  },
  {
   "cell_type": "code",
   "execution_count": 77,
   "id": "76537af1",
   "metadata": {},
   "outputs": [],
   "source": [
    "tmp = mask.finditer('life is too short')"
   ]
  },
  {
   "cell_type": "code",
   "execution_count": 71,
   "id": "31f01a31",
   "metadata": {},
   "outputs": [
    {
     "name": "stdout",
     "output_type": "stream",
     "text": [
      "<callable_iterator object at 0x0000020C170B3760>\n"
     ]
    }
   ],
   "source": [
    "print(tmp)"
   ]
  },
  {
   "cell_type": "code",
   "execution_count": 73,
   "id": "1b78ff82",
   "metadata": {},
   "outputs": [
    {
     "name": "stdout",
     "output_type": "stream",
     "text": [
      "<re.Match object; span=(0, 4), match='life'>\n",
      "<re.Match object; span=(5, 7), match='is'>\n",
      "<re.Match object; span=(8, 11), match='too'>\n",
      "<re.Match object; span=(12, 17), match='short'>\n"
     ]
    }
   ],
   "source": [
    "for i in tmp:\n",
    "    print(i)"
   ]
  },
  {
   "cell_type": "code",
   "execution_count": 78,
   "id": "17daabe8",
   "metadata": {},
   "outputs": [
    {
     "name": "stdout",
     "output_type": "stream",
     "text": [
      "life\n",
      "is\n",
      "too\n",
      "short\n"
     ]
    }
   ],
   "source": [
    "for i in tmp:\n",
    "    print(i.group())"
   ]
  },
  {
   "cell_type": "code",
   "execution_count": 79,
   "id": "f527beab",
   "metadata": {},
   "outputs": [],
   "source": [
    "mask = re.compile('[a-z]+')"
   ]
  },
  {
   "cell_type": "code",
   "execution_count": 80,
   "id": "259e3fab",
   "metadata": {},
   "outputs": [
    {
     "data": {
      "text/plain": [
       "['life', 'is', 'too', 'short']"
      ]
     },
     "execution_count": 80,
     "metadata": {},
     "output_type": "execute_result"
    }
   ],
   "source": [
    "mask.findall('life is too short')"
   ]
  },
  {
   "cell_type": "code",
   "execution_count": 81,
   "id": "b33eb7fa",
   "metadata": {},
   "outputs": [
    {
     "data": {
      "text/plain": [
       "['life', 'is', 'too', 'hort']"
      ]
     },
     "execution_count": 81,
     "metadata": {},
     "output_type": "execute_result"
    }
   ],
   "source": [
    "mask.findall('life is too Short')"
   ]
  },
  {
   "cell_type": "code",
   "execution_count": 83,
   "id": "aa0d21ac",
   "metadata": {},
   "outputs": [
    {
     "data": {
      "text/plain": [
       "[]"
      ]
     },
     "execution_count": 83,
     "metadata": {},
     "output_type": "execute_result"
    }
   ],
   "source": [
    "re.findall('/d{2,3}[- .]\\d{3}[- .]\\d{4}', txt)"
   ]
  },
  {
   "cell_type": "code",
   "execution_count": 86,
   "id": "074b5350",
   "metadata": {},
   "outputs": [
    {
     "data": {
      "text/plain": [
       "['123',\n",
       " '456',\n",
       " '789',\n",
       " '010',\n",
       " '898',\n",
       " '089',\n",
       " '010',\n",
       " '405',\n",
       " '341',\n",
       " '010',\n",
       " '405',\n",
       " '341',\n",
       " '010',\n",
       " '405',\n",
       " '341',\n",
       " '02',\n",
       " '878',\n",
       " '888',\n",
       " '101']"
      ]
     },
     "execution_count": 86,
     "metadata": {},
     "output_type": "execute_result"
    }
   ],
   "source": [
    "re.findall('\\d{2,3}', txt)"
   ]
  },
  {
   "cell_type": "code",
   "execution_count": 85,
   "id": "cf9ab3ac",
   "metadata": {},
   "outputs": [
    {
     "name": "stdout",
     "output_type": "stream",
     "text": [
      "Hi there, Nice to meet you. And Hello there and hi.\n",
      "I love grey(gray) color not a gry, graay and graaay.\n",
      "Ya ya YaYaYa Ya\n",
      "\n",
      "abcdefghijklmnopqrstuvwxyz\n",
      "ABSCEFGHIJKLMNOPQRSTUVWZYZ\n",
      "1234567890\n",
      "\n",
      ".[]{}()\\^$|?*+\n",
      "\n",
      "010-898-0893\n",
      "010-405-3412\n",
      "010 405 3412\n",
      "010.405.3412\n",
      "02-878-8888\n",
      "\n",
      "dream.coder.ellie@gmail.com\n",
      "hello@daum.net\n",
      "hello@daum.co.kr\n",
      "\n",
      "http://www.youtu.be/-ZClicWm0zM\n",
      "https://www.youtu.be/-ZClicWm0zM\n",
      "https://youtu.be/-ZClicWm0zM\n",
      "youtu.be/-ZClicWm0zM\n",
      "\n",
      "https://regex101.com/\n",
      "\n",
      "\n"
     ]
    }
   ],
   "source": [
    "print(txt)"
   ]
  },
  {
   "cell_type": "code",
   "execution_count": 87,
   "id": "bb458828",
   "metadata": {},
   "outputs": [
    {
     "data": {
      "text/plain": [
       "['010-898-0893', '010-405-3412', '010 405 3412', '010.405.3412', '02-878-8888']"
      ]
     },
     "execution_count": 87,
     "metadata": {},
     "output_type": "execute_result"
    }
   ],
   "source": [
    "re.findall('\\d{2,3}[- .]\\d{3}[- .]\\d{4}', txt)"
   ]
  },
  {
   "cell_type": "code",
   "execution_count": 89,
   "id": "9e8f6cef",
   "metadata": {},
   "outputs": [],
   "source": [
    "mask = re.compile('\\d{2,3}[- .]\\d{3}[- .]\\d{4}')"
   ]
  },
  {
   "cell_type": "code",
   "execution_count": 90,
   "id": "5d88d878",
   "metadata": {},
   "outputs": [
    {
     "data": {
      "text/plain": [
       "['010-898-0893', '010-405-3412', '010 405 3412', '010.405.3412', '02-878-8888']"
      ]
     },
     "execution_count": 90,
     "metadata": {},
     "output_type": "execute_result"
    }
   ],
   "source": [
    "mask.findall(txt)"
   ]
  },
  {
   "cell_type": "code",
   "execution_count": 92,
   "id": "812914d4",
   "metadata": {},
   "outputs": [
    {
     "data": {
      "text/plain": [
       "['010-898-0893', '010-405-3412', '010 405 3412', '010.405.3412', '02-878-8888']"
      ]
     },
     "execution_count": 92,
     "metadata": {},
     "output_type": "execute_result"
    }
   ],
   "source": [
    "mask.findall(txt)"
   ]
  },
  {
   "cell_type": "code",
   "execution_count": 95,
   "id": "fad01f78",
   "metadata": {},
   "outputs": [],
   "source": [
    "mask = re.compile('[a-zA-Z0-9._-]+@[a-z.]+[com|net|kr]')"
   ]
  },
  {
   "cell_type": "code",
   "execution_count": 96,
   "id": "47dc816d",
   "metadata": {},
   "outputs": [
    {
     "data": {
      "text/plain": [
       "['dream.coder.ellie@gmail.com', 'hello@daum.net', 'hello@daum.co.kr']"
      ]
     },
     "execution_count": 96,
     "metadata": {},
     "output_type": "execute_result"
    }
   ],
   "source": [
    "mask.findall(txt)"
   ]
  },
  {
   "cell_type": "code",
   "execution_count": 97,
   "id": "018d4dba",
   "metadata": {},
   "outputs": [
    {
     "data": {
      "text/plain": [
       "['hello@daum.net']"
      ]
     },
     "execution_count": 97,
     "metadata": {},
     "output_type": "execute_result"
    }
   ],
   "source": [
    "mask.findall('hello@daum.net ssets')"
   ]
  },
  {
   "cell_type": "code",
   "execution_count": 98,
   "id": "4bf6b62f",
   "metadata": {},
   "outputs": [
    {
     "name": "stdout",
     "output_type": "stream",
     "text": [
      "dream.coder.ellie@gmail.com\n",
      "hello@daum.net\n",
      "hello@daum.co.kr\n"
     ]
    }
   ],
   "source": [
    "m=re.compile('[a-z0-9_+.-]+@([a-z0-9-]+\\.)+[a-z0-9]{2,4}')\n",
    "tmp = m.finditer(txt)\n",
    "for i in tmp:\n",
    "    print(i.group())"
   ]
  },
  {
   "cell_type": "code",
   "execution_count": 99,
   "id": "1d5c318e",
   "metadata": {},
   "outputs": [],
   "source": [
    "sample='Email sent from address: bull0330@korea.ac.kr 010-1234-1234'"
   ]
  },
  {
   "cell_type": "code",
   "execution_count": 100,
   "id": "7f726950",
   "metadata": {},
   "outputs": [
    {
     "data": {
      "text/plain": [
       "'Email sent from address: bull0330@korea.ac.kr '"
      ]
     },
     "execution_count": 100,
     "metadata": {},
     "output_type": "execute_result"
    }
   ],
   "source": [
    "mask = re.compile('\\d{3}-\\d{4}-\\d{4}')\n",
    "mask.sub('', sample)"
   ]
  },
  {
   "cell_type": "code",
   "execution_count": 106,
   "id": "0dbd0cc1",
   "metadata": {},
   "outputs": [
    {
     "name": "stdout",
     "output_type": "stream",
     "text": [
      "['hi!', 'python!', 'hi!', '!', '!']\n",
      "['hi!', 'python! hello hi! hello! hello!']\n"
     ]
    }
   ],
   "source": [
    "sample='hi! hello python! hello hi! hello! hello!'\n",
    "mask = re.compile('\\s*hello\\s*')\n",
    "print(mask.split(sample))\n",
    "print(mask.split(sample, 1))"
   ]
  },
  {
   "cell_type": "code",
   "execution_count": 107,
   "id": "6b1793f9",
   "metadata": {},
   "outputs": [
    {
     "name": "stdout",
     "output_type": "stream",
     "text": [
      "['접수번호', 'hi! hello python! hello hi! hello! hello!']\n"
     ]
    }
   ],
   "source": [
    "sample='접수번호: hi! hello python! hello hi! hello! hello!'\n",
    "mask = re.compile('\\s*:\\s*')\n",
    "print(mask.split(sample, 1))"
   ]
  },
  {
   "cell_type": "code",
   "execution_count": 1,
   "id": "d5f8dc13",
   "metadata": {},
   "outputs": [],
   "source": [
    "sample='Kim 010-1234-4567'"
   ]
  },
  {
   "cell_type": "code",
   "execution_count": 4,
   "id": "d407f477",
   "metadata": {},
   "outputs": [],
   "source": [
    "mask = re.compile('(\\w+)\\s+(\\d{3})-(\\d{4})-(\\d{4})')"
   ]
  },
  {
   "cell_type": "code",
   "execution_count": 5,
   "id": "4c3f9129",
   "metadata": {},
   "outputs": [
    {
     "data": {
      "text/plain": [
       "'Kim 010-1234-4567'"
      ]
     },
     "execution_count": 5,
     "metadata": {},
     "output_type": "execute_result"
    }
   ],
   "source": [
    "print(mask.search(sample).group())"
   ]
  },
  {
   "cell_type": "code",
   "execution_count": 6,
   "id": "475f8c7e",
   "metadata": {},
   "outputs": [],
   "source": [
    "s_txt = mask.search(sample)"
   ]
  },
  {
   "cell_type": "code",
   "execution_count": 7,
   "id": "639a286d",
   "metadata": {},
   "outputs": [
    {
     "name": "stdout",
     "output_type": "stream",
     "text": [
      "0\n"
     ]
    }
   ],
   "source": [
    "print(s_txt.start())"
   ]
  },
  {
   "cell_type": "code",
   "execution_count": 8,
   "id": "3aa9bf32",
   "metadata": {},
   "outputs": [
    {
     "name": "stdout",
     "output_type": "stream",
     "text": [
      "17\n"
     ]
    }
   ],
   "source": [
    "print(s_txt.end())"
   ]
  },
  {
   "cell_type": "code",
   "execution_count": 9,
   "id": "e7cfb9c3",
   "metadata": {},
   "outputs": [
    {
     "name": "stdout",
     "output_type": "stream",
     "text": [
      "(0, 17)\n"
     ]
    }
   ],
   "source": [
    "print(s_txt.span())"
   ]
  },
  {
   "cell_type": "code",
   "execution_count": 11,
   "id": "a2af5791",
   "metadata": {},
   "outputs": [
    {
     "name": "stdout",
     "output_type": "stream",
     "text": [
      "Kim\n"
     ]
    }
   ],
   "source": [
    "print(s_txt.group(1))"
   ]
  },
  {
   "cell_type": "code",
   "execution_count": 12,
   "id": "27b03f1b",
   "metadata": {},
   "outputs": [
    {
     "name": "stdout",
     "output_type": "stream",
     "text": [
      "010\n"
     ]
    }
   ],
   "source": [
    "print(s_txt.group(2))"
   ]
  },
  {
   "cell_type": "code",
   "execution_count": 13,
   "id": "5c143c19",
   "metadata": {},
   "outputs": [
    {
     "name": "stdout",
     "output_type": "stream",
     "text": [
      "Kim 010-1234-4567\n"
     ]
    }
   ],
   "source": [
    "print(s_txt.group(0))"
   ]
  },
  {
   "cell_type": "code",
   "execution_count": 14,
   "id": "7cbdb927",
   "metadata": {},
   "outputs": [
    {
     "data": {
      "text/plain": [
       "'Kim 010-****-4567'"
      ]
     },
     "execution_count": 14,
     "metadata": {},
     "output_type": "execute_result"
    }
   ],
   "source": [
    "mask.sub('\\g<1> \\g<2>-****-\\g<4>', sample)"
   ]
  },
  {
   "cell_type": "code",
   "execution_count": 15,
   "id": "e8935c29",
   "metadata": {},
   "outputs": [
    {
     "data": {
      "text/plain": [
       "'Kim 010-1234-****'"
      ]
     },
     "execution_count": 15,
     "metadata": {},
     "output_type": "execute_result"
    }
   ],
   "source": [
    "mask.sub('\\g<1> \\g<2>-\\g<3>-****', sample)"
   ]
  },
  {
   "cell_type": "code",
   "execution_count": 20,
   "id": "ad1ea754",
   "metadata": {},
   "outputs": [
    {
     "data": {
      "text/plain": [
       "'010-****-4567, Kim'"
      ]
     },
     "execution_count": 20,
     "metadata": {},
     "output_type": "execute_result"
    }
   ],
   "source": [
    "mask.sub('\\g<2>-****-\\g<4>, \\g<1>', sample)"
   ]
  },
  {
   "cell_type": "code",
   "execution_count": 21,
   "id": "7140fc8c",
   "metadata": {},
   "outputs": [
    {
     "data": {
      "text/plain": [
       "'010년 1234월 4567일'"
      ]
     },
     "execution_count": 21,
     "metadata": {},
     "output_type": "execute_result"
    }
   ],
   "source": [
    "mask.sub('\\g<2>년 \\g<3>월 \\g<4>일', sample)"
   ]
  },
  {
   "cell_type": "code",
   "execution_count": 22,
   "id": "380aa987",
   "metadata": {},
   "outputs": [],
   "source": [
    "sample='''http://www.google.com\n",
    "https://www.google.com\n",
    "ftp://ftp.google.com\n",
    "'''"
   ]
  },
  {
   "cell_type": "code",
   "execution_count": 26,
   "id": "4ee9abbe",
   "metadata": {},
   "outputs": [
    {
     "name": "stdout",
     "output_type": "stream",
     "text": [
      "['http', 'https', 'ftp']\n"
     ]
    }
   ],
   "source": [
    "mask = re.compile('.+(?=:)')\n",
    "print(mask.findall(sample))"
   ]
  },
  {
   "cell_type": "code",
   "execution_count": 27,
   "id": "1edee226",
   "metadata": {},
   "outputs": [],
   "source": [
    "sample='''AAA: $13.45\n",
    "BB2: $500.3\n",
    "CC0: $ .01\n",
    "D25: $66.99\n",
    "Total items found: 4\n",
    "'''"
   ]
  },
  {
   "cell_type": "code",
   "execution_count": 30,
   "id": "e18d249c",
   "metadata": {},
   "outputs": [
    {
     "name": "stdout",
     "output_type": "stream",
     "text": [
      "['13.45', '500.3', '66.99']\n"
     ]
    }
   ],
   "source": [
    "mask = re.compile('(?<=\\$)[0-9.]+')\n",
    "print(mask.findall(sample))"
   ]
  },
  {
   "cell_type": "code",
   "execution_count": 31,
   "id": "74167da5",
   "metadata": {},
   "outputs": [
    {
     "data": {
      "text/plain": [
       "['개',\n",
       " '애완 동물',\n",
       " '애완동물',\n",
       " '애완견',\n",
       " '개',\n",
       " '애완견',\n",
       " '반려 동물',\n",
       " '개',\n",
       " '반려견',\n",
       " '반려견',\n",
       " '개',\n",
       " '개',\n",
       " '개',\n",
       " '개',\n",
       " '개']"
      ]
     },
     "execution_count": 31,
     "metadata": {},
     "output_type": "execute_result"
    }
   ],
   "source": [
    "text = \"\"\"\n",
    "개는 아주 오래전부터 사람들과 친화적인 관계를 맺어왔다. 애완 동물\n",
    "그러나 오늘날과 같이 애완동물로서 널리 퍼지게 된 것은 제2차 세계대전 이후이다.\n",
    "오늘날 애완견 대다수가 집 안에서 사람과 함께 사는 것과 달리\n",
    "1950년대에서 1960년대까지만 해도 마당에 개의 집을 따로 만들어 키우는 것이 일반적이었다.\n",
    "1980년대에 들어 애완견의 반려 동물 역할이 더 부각되면서\n",
    "개를 집안으로 들여 키우는 경우가 많아졌다.\n",
    "오늘날 반려견은 가족의 일원으로 여겨진다.\n",
    "반려견에 대한 이러한 시각 변화는 크게 보아 두 종류의 새로운 흐름을 만들어 내었다.\n",
    "하나는 개를 독립적인 주체로 여기고 개의 개성과 습관등을 파악하며 소통하려는 흐름이고,\n",
    "다른 하나는 가족의 일원으로서 개다운 개를 기르기 위해 매일 규칙적인 훈련을 시키는 경우이다.\"\"\"\n",
    "\n",
    "\n",
    "mask = re.compile('개|애완 ?동물|애완견|반려 ?동물|반려견')\n",
    "mask.findall(text)"
   ]
  },
  {
   "cell_type": "code",
   "execution_count": null,
   "id": "54a0635d",
   "metadata": {},
   "outputs": [],
   "source": []
  }
 ],
 "metadata": {
  "kernelspec": {
   "display_name": "Python 3 (ipykernel)",
   "language": "python",
   "name": "python3"
  },
  "language_info": {
   "codemirror_mode": {
    "name": "ipython",
    "version": 3
   },
   "file_extension": ".py",
   "mimetype": "text/x-python",
   "name": "python",
   "nbconvert_exporter": "python",
   "pygments_lexer": "ipython3",
   "version": "3.10.4"
  }
 },
 "nbformat": 4,
 "nbformat_minor": 5
}
