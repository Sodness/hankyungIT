{
 "cells": [
  {
   "cell_type": "code",
   "execution_count": 3,
   "id": "46616e30",
   "metadata": {},
   "outputs": [],
   "source": [
    "from google_img import google_img"
   ]
  },
  {
   "cell_type": "code",
   "execution_count": 4,
   "id": "e96ee835",
   "metadata": {},
   "outputs": [],
   "source": [
    "google_img('해물라면')"
   ]
  },
  {
   "cell_type": "code",
   "execution_count": 5,
   "id": "f627f178",
   "metadata": {},
   "outputs": [
    {
     "ename": "SyntaxError",
     "evalue": "invalid syntax (1097353206.py, line 2)",
     "output_type": "error",
     "traceback": [
      "\u001b[1;36m  Input \u001b[1;32mIn [5]\u001b[1;36m\u001b[0m\n\u001b[1;33m    a==10 ? a=1 : a=2\u001b[0m\n\u001b[1;37m          ^\u001b[0m\n\u001b[1;31mSyntaxError\u001b[0m\u001b[1;31m:\u001b[0m invalid syntax\n"
     ]
    }
   ],
   "source": [
    "a = 10\n",
    "a==10 ? a=1 : a=2"
   ]
  },
  {
   "cell_type": "code",
   "execution_count": null,
   "id": "a34567b3",
   "metadata": {},
   "outputs": [],
   "source": []
  }
 ],
 "metadata": {
  "kernelspec": {
   "display_name": "Python 3 (ipykernel)",
   "language": "python",
   "name": "python3"
  },
  "language_info": {
   "codemirror_mode": {
    "name": "ipython",
    "version": 3
   },
   "file_extension": ".py",
   "mimetype": "text/x-python",
   "name": "python",
   "nbconvert_exporter": "python",
   "pygments_lexer": "ipython3",
   "version": "3.10.4"
  }
 },
 "nbformat": 4,
 "nbformat_minor": 5
}
