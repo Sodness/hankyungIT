{
 "cells": [
  {
   "cell_type": "code",
   "execution_count": 28,
   "id": "133beae2",
   "metadata": {},
   "outputs": [],
   "source": [
    "from selenium import webdriver\n",
    "from selenium.webdriver import Keys\n",
    "from selenium.webdriver.common.by import By\n",
    "import requests\n",
    "from bs4 import BeautifulSoup as bs\n",
    "import time\n",
    "import pandas as pd"
   ]
  },
  {
   "cell_type": "code",
   "execution_count": 31,
   "id": "692969c8",
   "metadata": {},
   "outputs": [
    {
     "name": "stderr",
     "output_type": "stream",
     "text": [
      "C:\\Users\\hmh\\AppData\\Local\\Temp\\ipykernel_22300\\230043536.py:2: DeprecationWarning: executable_path has been deprecated, please pass in a Service object\n",
      "  driver=webdriver.Chrome('./chromedriver.exe')\n"
     ]
    }
   ],
   "source": [
    "url='https://flight.naver.com/'\n",
    "driver=webdriver.Chrome('./chromedriver.exe')\n",
    "driver.get(url)\n",
    "time.sleep(3)\n",
    "driver.find_element(By.XPATH,'//*[@id=\"__next\"]/div/div[1]/div[4]/div/div/div[1]/button[2]/i').click() #편도 클릭\n",
    "time.sleep(1)\n",
    "#가는 곳\n",
    "driver.find_element(By.XPATH,'//*[@id=\"__next\"]/div/div[1]/div[4]/div/div/div[2]/div[1]/button[1]/b').click()\n",
    "time.sleep(1)\n",
    "driver.find_element(By.XPATH,'//*[@id=\"__next\"]/div/div[1]/div[9]/div[1]/div/input').send_keys('서울')\n",
    "time.sleep(1)\n",
    "driver.find_element(By.XPATH,'//*[@id=\"__next\"]/div/div[1]/div[9]/div[2]/section/div/a[1]/div').click()\n",
    "time.sleep(1)\n",
    "#도착\n",
    "driver.find_element(By.XPATH,'//*[@id=\"__next\"]/div/div[1]/div[4]/div/div/div[2]/div[1]/button[2]/b').click()\n",
    "time.sleep(1)\n",
    "\n",
    "driver.find_element(By.XPATH,'//*[@id=\"__next\"]/div/div[1]/div[9]/div[1]/div/input').send_keys('제주')\n",
    "time.sleep(1)\n",
    "\n",
    "driver.find_element(By.XPATH,'//*[@id=\"__next\"]/div/div[1]/div[9]/div[2]/section/div/a/div').click()\n",
    "time.sleep(1)\n",
    "\n",
    "#가는 날\n",
    "driver.find_element(By.XPATH,'//*[@id=\"__next\"]/div/div[1]/div[4]/div/div/div[2]/div[2]/button').click()\n",
    "time.sleep(1)\n",
    "#월 선택\n",
    "months=driver.find_elements(By.CLASS_NAME, 'month')\n",
    "\n",
    "#일 선택 (현재월(month[0]의 15일로 지정함)\n",
    "days=months[0].find_elements(By.CLASS_NAME,'num')\n",
    "days[14].click()\n",
    "time.sleep(1)\n",
    "\n",
    "#항공권 검색 버튼 클릭\n",
    "driver.find_element(By.XPATH,'//*[@id=\"__next\"]/div/div[1]/div[4]/div/div/button').click()\n",
    "time.sleep(20)\n",
    "\n",
    "html=driver.page_source\n",
    "soup=bs(html,'html.parser')\n",
    "\n",
    "driver.close()\n",
    "driver.quit()"
   ]
  }
 ],
 "metadata": {
  "kernelspec": {
   "display_name": "Python 3 (ipykernel)",
   "language": "python",
   "name": "python3"
  },
  "language_info": {
   "codemirror_mode": {
    "name": "ipython",
    "version": 3
   },
   "file_extension": ".py",
   "mimetype": "text/x-python",
   "name": "python",
   "nbconvert_exporter": "python",
   "pygments_lexer": "ipython3",
   "version": "3.10.4"
  }
 },
 "nbformat": 4,
 "nbformat_minor": 5
}
