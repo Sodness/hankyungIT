{
 "cells": [
  {
   "cell_type": "code",
   "execution_count": 2,
   "id": "abb1b3d1",
   "metadata": {},
   "outputs": [],
   "source": [
    "import requests\n",
    "import json\n",
    "from bs4 import BeautifulSoup as bs\n",
    "import pandas as pd\n",
    "from collections import Counter\n",
    "import os\n",
    "import time\n",
    "from selenium import webdriver\n",
    "from selenium.webdriver.common.keys import Keys\n",
    "from selenium.webdriver.common.by import By\n",
    "from bs4 import BeautifulSoup as bs\n",
    "import pandas as pd\n",
    "from collections import Counter"
   ]
  },
  {
   "cell_type": "code",
   "execution_count": 3,
   "id": "c093d0de",
   "metadata": {},
   "outputs": [],
   "source": [
    "search_ls = {\n",
    "'90':'속초','212':'홍천',\n",
    "'93':'북춘천','216':'태백',\n",
    "'95':'철원','217':'정선군',\n",
    "'98':'동두천','221':'제천',\n",
    "'99':'파주','226':'보은',\n",
    "'100':'대관령','232':'천안',\n",
    "'101':'춘천','235':'보령',\n",
    "'102':'백령도','236':'부여',\n",
    "'104':'북강릉','238':'금산',\n",
    "'105':'강릉','239':'세종',\n",
    "'106':'동해','243':'부안',\n",
    "'108':'서울','244':'임실',\n",
    "'112':'인천','245':'정읍',\n",
    "'114':'원주','247':'남원',\n",
    "'115':'울릉도','248':'장수',\n",
    "    \n",
    "'119':'수원','251':'고창군',\n",
    "'121':'영월','252':'영광군',\n",
    "'127':'충주','253':'김해시',\n",
    "'129':'서산','254':'순창군',\n",
    "'130':'울진','255':'북창원',\n",
    "'131':'청주','257':'양산시',\n",
    "'133':'대전','258':'보성군',\n",
    "'135':'추풍령','259':'강진군',\n",
    "'136':'안동','260':'장흥',\n",
    "'137':'상주','261':'해남',\n",
    "'138':'포항','262':'고흥',\n",
    "'140':'군산','263':'의령군',\n",
    "'143':'대구','264':'함양군',\n",
    "'146':'전주','266':'광양시',\n",
    "'152':'울산','268':'진도군',\n",
    "'155':'창원','271':'봉화',\n",
    "'156':'광주','272':'영주',\n",
    "'159':'부산','273':'문경',\n",
    "\n",
    "'162':'통영','276':'청송군',\n",
    "'165':'목포','277':'영덕',\n",
    "'168':'여수','278':'의성',\n",
    "'169':'흑산도','279':'구미',\n",
    "'170':'완도','281':'영천',\n",
    "'172':'고창','283':'경주시',\n",
    "'174':'순천','284':'거창',\n",
    "'177':'홍성','285':'합천',\n",
    "'184':'제주','288':'밀양',\n",
    "'185':'고산','289':'산청',\n",
    "'188':'성산','294':'거제',\n",
    "'189':'서귀포','295':'남해',\n",
    "'192':'진주',\n",
    "'201':'강화',\n",
    "'202':'양평',\n",
    "'203':'이천',\n",
    "'211':'인제',\n",
    "}"
   ]
  },
  {
   "cell_type": "code",
   "execution_count": 4,
   "id": "ab28d3d0",
   "metadata": {},
   "outputs": [
    {
     "name": "stdout",
     "output_type": "stream",
     "text": [
      "https://www.google.co.kr/maps/place/춘천기상대/data=!3m1!4b1!4m5!3m4!1s0x3561e4fc0af0db6f:0xbab1b23ac7d3a32f!8m2!3d37.8051122!4d128.8548214?hl=ko\n"
     ]
    }
   ],
   "source": [
    "search = '춘천기상대'\n",
    "url = 'https://www.google.co.kr/maps/place/'+search+'/data=!3m1!4b1!4m5!3m4!1s0x3561e4fc0af0db6f:0xbab1b23ac7d3a32f!8m2!3d37.8051122!4d128.8548214?hl=ko'\n",
    "print(url)"
   ]
  },
  {
   "cell_type": "code",
   "execution_count": 12,
   "id": "48f23f8c",
   "metadata": {
    "scrolled": true
   },
   "outputs": [
    {
     "name": "stderr",
     "output_type": "stream",
     "text": [
      "C:\\Users\\user\\AppData\\Local\\Temp\\ipykernel_9532\\1436872108.py:1: DeprecationWarning: executable_path has been deprecated, please pass in a Service object\n",
      "  driver=webdriver.Chrome('./chromedriver.exe')\n"
     ]
    },
    {
     "name": "stdout",
     "output_type": "stream",
     "text": [
      "90 속초 강원도\n",
      "212 홍천 강원도\n",
      "93 북춘천\n",
      "216 태백 강원도\n",
      "95 철원 강원도\n",
      "217 정선군 강원도\n",
      "98 동두천 경기도\n",
      "221 제천 충청북도\n",
      "99 파주 경기도\n",
      "226 보은 충청북도\n",
      "100 대관령 강릉시\n",
      "232 천안 충청남도\n",
      "101 춘천 강원도\n",
      "235 보령 충청남도\n",
      "102 백령도 인천광역시\n",
      "236 부여 충청남도\n",
      "104 북강릉주차장 - 평창올림픽 셔틀버스 강원도 강릉시 사천면 방동리\n",
      "238 금산 충청남도\n",
      "105 강릉 강원도\n",
      "239 세종문화회관 서울특별시 종로구 세종대로\n",
      "106 동해 강원도\n",
      "243 부안 전라북도\n",
      "108 서울\n",
      "244 임실 전라북도\n",
      "112 인천\n",
      "245 정읍 전라북도\n",
      "114 원주 강원도\n",
      "247 남원 전라북도\n",
      "115 울릉도 울릉군\n",
      "248 장수군 전라북도\n",
      "119 수원 경기도\n",
      "251 고창군 전라북도\n",
      "121 영월 강원도\n",
      "252 영광군 전라남도\n",
      "127 충주 충청북도\n",
      "253 김해시 경상남도\n",
      "129 서산 충청남도\n",
      "254 순창군 전라북도\n",
      "130 울진 경상북도\n",
      "255 북창원한빛교회\n",
      "131 청주 충청북도\n",
      "257 양산시 경상남도\n",
      "133 대전\n",
      "258 보성군 전라남도\n",
      "135 행복추풍령 칼 삼겹살 서울특별시 강남구 도산대로51길\n",
      "259 강진군 전라남도\n",
      "136 안동 경상북도\n",
      "260 장흥 전라남도\n",
      "137 상주 경상북도\n",
      "261 해남 전라남도\n",
      "138 포항 경상북도\n",
      "262 고흥 전라남도\n",
      "140 군산 전라북도\n",
      "263 의령군 경상남도\n",
      "143 대구\n",
      "264 함양군 경상남도\n",
      "146 전주 전라북도\n",
      "266 광양시 전라남도\n",
      "152 울산\n",
      "268 진도군 전라남도\n",
      "155 창원\n",
      "271 봉화군 경상북도\n",
      "156 광주 경기도\n",
      "272 영주 경상북도\n",
      "159 부산\n",
      "273 문경 경상북도\n",
      "162 통영 경상남도\n",
      "276 청송군 경상북도\n",
      "165 목포 전라남도\n",
      "277 영덕 경상북도\n",
      "168 여수 전라남도\n",
      "278 의성 경상북도\n",
      "169 흑산도 신안군\n",
      "279 구미 경상북도\n",
      "170 완도 전라남도\n",
      "281 영천 경상북도\n",
      "172 고창 전라북도\n",
      "283 경주시 경상북도\n",
      "174 순천 전라남도\n",
      "284 거창 경상남도\n",
      "177 홍성 충청남도\n",
      "285 합천 경상남도\n",
      "184 제주도\n",
      "288 밀양 경상남도\n",
      "185 고산\n",
      "289 산청 경상남도\n",
      "188 마포구 성산동 서울특별시\n",
      "294 거제도 거제시\n",
      "189 서귀포 제주특별자치도\n",
      "295 남해 경상남도\n",
      "192 진주 경상남도\n",
      "201 강화도 인천광역시\n",
      "202 양평 경기도\n",
      "203 이천 경기도\n",
      "211 인제 강원도\n"
     ]
    }
   ],
   "source": [
    "driver=webdriver.Chrome('./chromedriver.exe')\n",
    "driver.get(url)\n",
    "time.sleep(2)\n",
    "\n",
    "res = []\n",
    "for i in search_ls.keys():\n",
    "    #새로운 검색어 입력\n",
    "    elem=driver.find_element(By.XPATH,'//*[@id=\"searchboxinput\"]')\n",
    "    elem.clear()\n",
    "    elem.send_keys(search_ls[i])\n",
    "    time.sleep(1)\n",
    "    elem.click()\n",
    "\n",
    "    elem=driver.find_element(By.CSS_SELECTOR,'#sbsg50 > div:nth-child(1) > div:nth-child(1)')\n",
    "    #print(elem.text)\n",
    "    res.append(elem.text)\n",
    "    print(i, elem.text)\n",
    "\n",
    "\n",
    "driver.quit()"
   ]
  },
  {
   "cell_type": "code",
   "execution_count": 21,
   "id": "542705ca",
   "metadata": {},
   "outputs": [],
   "source": [
    "tmp = []\n",
    "for idx,i in enumerate(res):\n",
    "    if idx%2==0:\n",
    "        tmp.append(i)\n",
    "for idx,i in enumerate(res):\n",
    "    if idx%2==1:\n",
    "        tmp.append(i)"
   ]
  },
  {
   "cell_type": "code",
   "execution_count": 22,
   "id": "ba1cdbb0",
   "metadata": {},
   "outputs": [
    {
     "data": {
      "text/plain": [
       "95"
      ]
     },
     "execution_count": 22,
     "metadata": {},
     "output_type": "execute_result"
    }
   ],
   "source": [
    "len(tmp)"
   ]
  },
  {
   "cell_type": "code",
   "execution_count": 24,
   "id": "57b6f7fc",
   "metadata": {
    "scrolled": true
   },
   "outputs": [
    {
     "data": {
      "text/plain": [
       "['속초 강원도',\n",
       " '북춘천',\n",
       " '철원 강원도',\n",
       " '동두천 경기도',\n",
       " '파주 경기도',\n",
       " '대관령 강릉시',\n",
       " '춘천 강원도',\n",
       " '백령도 인천광역시',\n",
       " '북강릉주차장 - 평창올림픽 셔틀버스 강원도 강릉시 사천면 방동리',\n",
       " '강릉 강원도',\n",
       " '동해 강원도',\n",
       " '서울',\n",
       " '인천',\n",
       " '원주 강원도',\n",
       " '울릉도 울릉군',\n",
       " '수원 경기도',\n",
       " '영월 강원도',\n",
       " '충주 충청북도',\n",
       " '서산 충청남도',\n",
       " '울진 경상북도',\n",
       " '청주 충청북도',\n",
       " '대전',\n",
       " '행복추풍령 칼 삼겹살 서울특별시 강남구 도산대로51길',\n",
       " '안동 경상북도',\n",
       " '상주 경상북도',\n",
       " '포항 경상북도',\n",
       " '군산 전라북도',\n",
       " '대구',\n",
       " '전주 전라북도',\n",
       " '울산',\n",
       " '창원',\n",
       " '광주 경기도',\n",
       " '부산',\n",
       " '통영 경상남도',\n",
       " '목포 전라남도',\n",
       " '여수 전라남도',\n",
       " '흑산도 신안군',\n",
       " '완도 전라남도',\n",
       " '고창 전라북도',\n",
       " '순천 전라남도',\n",
       " '홍성 충청남도',\n",
       " '제주도',\n",
       " '고산',\n",
       " '마포구 성산동 서울특별시',\n",
       " '서귀포 제주특별자치도',\n",
       " '진주 경상남도',\n",
       " '양평 경기도',\n",
       " '인제 강원도',\n",
       " '홍천 강원도',\n",
       " '태백 강원도',\n",
       " '정선군 강원도',\n",
       " '제천 충청북도',\n",
       " '보은 충청북도',\n",
       " '천안 충청남도',\n",
       " '보령 충청남도',\n",
       " '부여 충청남도',\n",
       " '금산 충청남도',\n",
       " '세종문화회관 서울특별시 종로구 세종대로',\n",
       " '부안 전라북도',\n",
       " '임실 전라북도',\n",
       " '정읍 전라북도',\n",
       " '남원 전라북도',\n",
       " '장수군 전라북도',\n",
       " '고창군 전라북도',\n",
       " '영광군 전라남도',\n",
       " '김해시 경상남도',\n",
       " '순창군 전라북도',\n",
       " '북창원한빛교회',\n",
       " '양산시 경상남도',\n",
       " '보성군 전라남도',\n",
       " '강진군 전라남도',\n",
       " '장흥 전라남도',\n",
       " '해남 전라남도',\n",
       " '고흥 전라남도',\n",
       " '의령군 경상남도',\n",
       " '함양군 경상남도',\n",
       " '광양시 전라남도',\n",
       " '진도군 전라남도',\n",
       " '봉화군 경상북도',\n",
       " '영주 경상북도',\n",
       " '문경 경상북도',\n",
       " '청송군 경상북도',\n",
       " '영덕 경상북도',\n",
       " '의성 경상북도',\n",
       " '구미 경상북도',\n",
       " '영천 경상북도',\n",
       " '경주시 경상북도',\n",
       " '거창 경상남도',\n",
       " '합천 경상남도',\n",
       " '밀양 경상남도',\n",
       " '산청 경상남도',\n",
       " '거제도 거제시',\n",
       " '남해 경상남도',\n",
       " '강화도 인천광역시',\n",
       " '이천 경기도']"
      ]
     },
     "execution_count": 24,
     "metadata": {},
     "output_type": "execute_result"
    }
   ],
   "source": [
    "tmp"
   ]
  },
  {
   "cell_type": "code",
   "execution_count": null,
   "id": "ede32677",
   "metadata": {},
   "outputs": [],
   "source": [
    "지역 = [\n",
    " '강원도',\n",
    " '강원도',\n",
    " '강원도',\n",
    " '경기도',\n",
    " '경기도',\n",
    " '강원도',\n",
    " '강원도',\n",
    " '인천시',\n",
    " '강원도',\n",
    " '강원도',\n",
    " '강원도',\n",
    " '서울시',\n",
    " '인천시',\n",
    " '강원도',\n",
    " '대구시',\n",
    " '경기도',\n",
    " '강원도',\n",
    " '충청북도',\n",
    " '충청남도',\n",
    " '경상북도',\n",
    " '충청북도',\n",
    " '대전시',\n",
    " '충청북도',\n",
    " '경상북도',\n",
    " '경상북도',\n",
    " '경상북도',\n",
    " '전라북도',\n",
    " '대구시',\n",
    " '전라북도',\n",
    " '울산',\n",
    " '창원',\n",
    " '광주 경기도',\n",
    " '부산',\n",
    " '통영 경상남도',\n",
    " '목포 전라남도',\n",
    " '여수 전라남도',\n",
    " '흑산도 신안군',\n",
    " '완도 전라남도',\n",
    " '고창 전라북도',\n",
    " '순천 전라남도',\n",
    " '홍성 충청남도',\n",
    " '제주도',\n",
    " '고산',\n",
    " '마포구 성산동 서울특별시',\n",
    " '서귀포 제주특별자치도',\n",
    " '진주 경상남도',\n",
    " '양평 경기도',\n",
    " '인제 강원도',\n",
    " '홍천 강원도',\n",
    " '태백 강원도',\n",
    " '정선군 강원도',\n",
    " '제천 충청북도',\n",
    " '보은 충청북도',\n",
    " '천안 충청남도',\n",
    " '보령 충청남도',\n",
    " '부여 충청남도',\n",
    " '금산 충청남도',\n",
    " '세종문화회관 서울특별시 종로구 세종대로',\n",
    " '부안 전라북도',\n",
    " '임실 전라북도',\n",
    " '정읍 전라북도',\n",
    " '남원 전라북도',\n",
    " '장수군 전라북도',\n",
    " '고창군 전라북도',\n",
    " '영광군 전라남도',\n",
    " '김해시 경상남도',\n",
    " '순창군 전라북도',\n",
    " '북창원한빛교회',\n",
    " '양산시 경상남도',\n",
    " '보성군 전라남도',\n",
    " '강진군 전라남도',\n",
    " '장흥 전라남도',\n",
    " '해남 전라남도',\n",
    " '고흥 전라남도',\n",
    " '의령군 경상남도',\n",
    " '함양군 경상남도',\n",
    " '광양시 전라남도',\n",
    " '진도군 전라남도',\n",
    " '봉화군 경상북도',\n",
    " '영주 경상북도',\n",
    " '문경 경상북도',\n",
    " '청송군 경상북도',\n",
    " '영덕 경상북도',\n",
    " '의성 경상북도',\n",
    " '구미 경상북도',\n",
    " '영천 경상북도',\n",
    " '경주시 경상북도',\n",
    " '거창 경상남도',\n",
    " '합천 경상남도',\n",
    " '밀양 경상남도',\n",
    " '산청 경상남도',\n",
    " '거제도 거제시',\n",
    " '남해 경상남도',\n",
    " '강화도 인천광역시',\n",
    " '이천 경기도'\n",
    "]"
   ]
  },
  {
   "cell_type": "code",
   "execution_count": 25,
   "id": "dc67fef7",
   "metadata": {},
   "outputs": [],
   "source": [
    "df_sola = pd.read_csv('./한국전력거래소_지역별 시간별 태양광 발전량_20211231.csv', encoding='cp949')"
   ]
  },
  {
   "cell_type": "code",
   "execution_count": 26,
   "id": "9c636a6f",
   "metadata": {},
   "outputs": [
    {
     "data": {
      "text/html": [
       "<div>\n",
       "<style scoped>\n",
       "    .dataframe tbody tr th:only-of-type {\n",
       "        vertical-align: middle;\n",
       "    }\n",
       "\n",
       "    .dataframe tbody tr th {\n",
       "        vertical-align: top;\n",
       "    }\n",
       "\n",
       "    .dataframe thead th {\n",
       "        text-align: right;\n",
       "    }\n",
       "</style>\n",
       "<table border=\"1\" class=\"dataframe\">\n",
       "  <thead>\n",
       "    <tr style=\"text-align: right;\">\n",
       "      <th></th>\n",
       "      <th>거래일자</th>\n",
       "      <th>거래시간</th>\n",
       "      <th>지역</th>\n",
       "      <th>발전량</th>\n",
       "    </tr>\n",
       "  </thead>\n",
       "  <tbody>\n",
       "    <tr>\n",
       "      <th>0</th>\n",
       "      <td>2018-01-01</td>\n",
       "      <td>1</td>\n",
       "      <td>강원도</td>\n",
       "      <td>13.680</td>\n",
       "    </tr>\n",
       "    <tr>\n",
       "      <th>1</th>\n",
       "      <td>2018-01-01</td>\n",
       "      <td>2</td>\n",
       "      <td>강원도</td>\n",
       "      <td>0.000</td>\n",
       "    </tr>\n",
       "    <tr>\n",
       "      <th>2</th>\n",
       "      <td>2018-01-01</td>\n",
       "      <td>3</td>\n",
       "      <td>강원도</td>\n",
       "      <td>14.400</td>\n",
       "    </tr>\n",
       "    <tr>\n",
       "      <th>3</th>\n",
       "      <td>2018-01-01</td>\n",
       "      <td>4</td>\n",
       "      <td>강원도</td>\n",
       "      <td>0.000</td>\n",
       "    </tr>\n",
       "    <tr>\n",
       "      <th>4</th>\n",
       "      <td>2018-01-01</td>\n",
       "      <td>5</td>\n",
       "      <td>강원도</td>\n",
       "      <td>0.000</td>\n",
       "    </tr>\n",
       "    <tr>\n",
       "      <th>...</th>\n",
       "      <td>...</td>\n",
       "      <td>...</td>\n",
       "      <td>...</td>\n",
       "      <td>...</td>\n",
       "    </tr>\n",
       "    <tr>\n",
       "      <th>596083</th>\n",
       "      <td>2021-12-31</td>\n",
       "      <td>20</td>\n",
       "      <td>충청북도</td>\n",
       "      <td>47668.337</td>\n",
       "    </tr>\n",
       "    <tr>\n",
       "      <th>596084</th>\n",
       "      <td>2021-12-31</td>\n",
       "      <td>21</td>\n",
       "      <td>충청북도</td>\n",
       "      <td>41720.571</td>\n",
       "    </tr>\n",
       "    <tr>\n",
       "      <th>596085</th>\n",
       "      <td>2021-12-31</td>\n",
       "      <td>22</td>\n",
       "      <td>충청북도</td>\n",
       "      <td>23464.794</td>\n",
       "    </tr>\n",
       "    <tr>\n",
       "      <th>596086</th>\n",
       "      <td>2021-12-31</td>\n",
       "      <td>23</td>\n",
       "      <td>충청북도</td>\n",
       "      <td>8098.187</td>\n",
       "    </tr>\n",
       "    <tr>\n",
       "      <th>596087</th>\n",
       "      <td>2021-12-31</td>\n",
       "      <td>24</td>\n",
       "      <td>충청북도</td>\n",
       "      <td>2451.798</td>\n",
       "    </tr>\n",
       "  </tbody>\n",
       "</table>\n",
       "<p>596088 rows × 4 columns</p>\n",
       "</div>"
      ],
      "text/plain": [
       "              거래일자  거래시간    지역       발전량 \n",
       "0       2018-01-01     1   강원도     13.680\n",
       "1       2018-01-01     2   강원도      0.000\n",
       "2       2018-01-01     3   강원도     14.400\n",
       "3       2018-01-01     4   강원도      0.000\n",
       "4       2018-01-01     5   강원도      0.000\n",
       "...            ...   ...   ...        ...\n",
       "596083  2021-12-31    20  충청북도  47668.337\n",
       "596084  2021-12-31    21  충청북도  41720.571\n",
       "596085  2021-12-31    22  충청북도  23464.794\n",
       "596086  2021-12-31    23  충청북도   8098.187\n",
       "596087  2021-12-31    24  충청북도   2451.798\n",
       "\n",
       "[596088 rows x 4 columns]"
      ]
     },
     "execution_count": 26,
     "metadata": {},
     "output_type": "execute_result"
    }
   ],
   "source": [
    "df_sola"
   ]
  },
  {
   "cell_type": "code",
   "execution_count": 27,
   "id": "70c2b3f1",
   "metadata": {},
   "outputs": [
    {
     "data": {
      "text/plain": [
       "array(['강원도', '경기도', '경상남도', '경상북도', '광주시', '대구시', '대전시', '부산시', '서울시',\n",
       "       '세종시', '울산시', '인천시', '전라남도', '전라북도', '제주도', '충청남도', '충청북도'],\n",
       "      dtype=object)"
      ]
     },
     "execution_count": 27,
     "metadata": {},
     "output_type": "execute_result"
    }
   ],
   "source": [
    "df_sola['지역'].unique()"
   ]
  },
  {
   "cell_type": "code",
   "execution_count": 29,
   "id": "96e739f9",
   "metadata": {},
   "outputs": [],
   "source": [
    "area = list(df_sola['지역'].unique())"
   ]
  },
  {
   "cell_type": "code",
   "execution_count": 31,
   "id": "7ac50106",
   "metadata": {},
   "outputs": [
    {
     "data": {
      "text/plain": [
       "17"
      ]
     },
     "execution_count": 31,
     "metadata": {},
     "output_type": "execute_result"
    }
   ],
   "source": [
    "len(area)"
   ]
  },
  {
   "cell_type": "code",
   "execution_count": 32,
   "id": "016f00dd",
   "metadata": {},
   "outputs": [
    {
     "data": {
      "text/plain": [
       "['강원도',\n",
       " '경기도',\n",
       " '경상남도',\n",
       " '경상북도',\n",
       " '광주시',\n",
       " '대구시',\n",
       " '대전시',\n",
       " '부산시',\n",
       " '서울시',\n",
       " '세종시',\n",
       " '울산시',\n",
       " '인천시',\n",
       " '전라남도',\n",
       " '전라북도',\n",
       " '제주도',\n",
       " '충청남도',\n",
       " '충청북도']"
      ]
     },
     "execution_count": 32,
     "metadata": {},
     "output_type": "execute_result"
    }
   ],
   "source": [
    "area"
   ]
  },
  {
   "cell_type": "code",
   "execution_count": 37,
   "id": "95a64e79",
   "metadata": {},
   "outputs": [],
   "source": [
    "area_name = search_ls.values()\n",
    "area_name = list(area_name)"
   ]
  },
  {
   "cell_type": "code",
   "execution_count": 38,
   "id": "7455a34d",
   "metadata": {},
   "outputs": [
    {
     "data": {
      "text/plain": [
       "95"
      ]
     },
     "execution_count": 38,
     "metadata": {},
     "output_type": "execute_result"
    }
   ],
   "source": [
    "len(area_name)"
   ]
  },
  {
   "cell_type": "code",
   "execution_count": 39,
   "id": "bfb9b86b",
   "metadata": {
    "scrolled": true
   },
   "outputs": [
    {
     "data": {
      "text/plain": [
       "['속초',\n",
       " '홍천',\n",
       " '북춘천',\n",
       " '태백',\n",
       " '철원',\n",
       " '정선군',\n",
       " '동두천',\n",
       " '제천',\n",
       " '파주',\n",
       " '보은',\n",
       " '대관령',\n",
       " '천안',\n",
       " '춘천',\n",
       " '보령',\n",
       " '백령도',\n",
       " '부여',\n",
       " '북강릉',\n",
       " '금산',\n",
       " '강릉',\n",
       " '세종',\n",
       " '동해',\n",
       " '부안',\n",
       " '서울',\n",
       " '임실',\n",
       " '인천',\n",
       " '정읍',\n",
       " '원주',\n",
       " '남원',\n",
       " '울릉도',\n",
       " '장수',\n",
       " '수원',\n",
       " '고창군',\n",
       " '영월',\n",
       " '영광군',\n",
       " '충주',\n",
       " '김해시',\n",
       " '서산',\n",
       " '순창군',\n",
       " '울진',\n",
       " '북창원',\n",
       " '청주',\n",
       " '양산시',\n",
       " '대전',\n",
       " '보성군',\n",
       " '추풍령',\n",
       " '강진군',\n",
       " '안동',\n",
       " '장흥',\n",
       " '상주',\n",
       " '해남',\n",
       " '포항',\n",
       " '고흥',\n",
       " '군산',\n",
       " '의령군',\n",
       " '대구',\n",
       " '함양군',\n",
       " '전주',\n",
       " '광양시',\n",
       " '울산',\n",
       " '진도군',\n",
       " '창원',\n",
       " '봉화',\n",
       " '광주',\n",
       " '영주',\n",
       " '부산',\n",
       " '문경',\n",
       " '통영',\n",
       " '청송군',\n",
       " '목포',\n",
       " '영덕',\n",
       " '여수',\n",
       " '의성',\n",
       " '흑산도',\n",
       " '구미',\n",
       " '완도',\n",
       " '영천',\n",
       " '고창',\n",
       " '경주시',\n",
       " '순천',\n",
       " '거창',\n",
       " '홍성',\n",
       " '합천',\n",
       " '제주',\n",
       " '밀양',\n",
       " '고산',\n",
       " '산청',\n",
       " '성산',\n",
       " '거제',\n",
       " '서귀포',\n",
       " '남해',\n",
       " '진주',\n",
       " '강화',\n",
       " '양평',\n",
       " '이천',\n",
       " '인제']"
      ]
     },
     "execution_count": 39,
     "metadata": {},
     "output_type": "execute_result"
    }
   ],
   "source": [
    "area_name"
   ]
  },
  {
   "cell_type": "code",
   "execution_count": 42,
   "id": "9ab27952",
   "metadata": {},
   "outputs": [],
   "source": [
    "df_name = pd.DataFrame({'지점명': area_name})"
   ]
  },
  {
   "cell_type": "code",
   "execution_count": 43,
   "id": "6c1ced72",
   "metadata": {},
   "outputs": [
    {
     "data": {
      "text/html": [
       "<div>\n",
       "<style scoped>\n",
       "    .dataframe tbody tr th:only-of-type {\n",
       "        vertical-align: middle;\n",
       "    }\n",
       "\n",
       "    .dataframe tbody tr th {\n",
       "        vertical-align: top;\n",
       "    }\n",
       "\n",
       "    .dataframe thead th {\n",
       "        text-align: right;\n",
       "    }\n",
       "</style>\n",
       "<table border=\"1\" class=\"dataframe\">\n",
       "  <thead>\n",
       "    <tr style=\"text-align: right;\">\n",
       "      <th></th>\n",
       "      <th>지점명</th>\n",
       "    </tr>\n",
       "  </thead>\n",
       "  <tbody>\n",
       "    <tr>\n",
       "      <th>0</th>\n",
       "      <td>속초</td>\n",
       "    </tr>\n",
       "    <tr>\n",
       "      <th>1</th>\n",
       "      <td>홍천</td>\n",
       "    </tr>\n",
       "    <tr>\n",
       "      <th>2</th>\n",
       "      <td>북춘천</td>\n",
       "    </tr>\n",
       "    <tr>\n",
       "      <th>3</th>\n",
       "      <td>태백</td>\n",
       "    </tr>\n",
       "    <tr>\n",
       "      <th>4</th>\n",
       "      <td>철원</td>\n",
       "    </tr>\n",
       "    <tr>\n",
       "      <th>...</th>\n",
       "      <td>...</td>\n",
       "    </tr>\n",
       "    <tr>\n",
       "      <th>90</th>\n",
       "      <td>진주</td>\n",
       "    </tr>\n",
       "    <tr>\n",
       "      <th>91</th>\n",
       "      <td>강화</td>\n",
       "    </tr>\n",
       "    <tr>\n",
       "      <th>92</th>\n",
       "      <td>양평</td>\n",
       "    </tr>\n",
       "    <tr>\n",
       "      <th>93</th>\n",
       "      <td>이천</td>\n",
       "    </tr>\n",
       "    <tr>\n",
       "      <th>94</th>\n",
       "      <td>인제</td>\n",
       "    </tr>\n",
       "  </tbody>\n",
       "</table>\n",
       "<p>95 rows × 1 columns</p>\n",
       "</div>"
      ],
      "text/plain": [
       "    지점명\n",
       "0    속초\n",
       "1    홍천\n",
       "2   북춘천\n",
       "3    태백\n",
       "4    철원\n",
       "..  ...\n",
       "90   진주\n",
       "91   강화\n",
       "92   양평\n",
       "93   이천\n",
       "94   인제\n",
       "\n",
       "[95 rows x 1 columns]"
      ]
     },
     "execution_count": 43,
     "metadata": {},
     "output_type": "execute_result"
    }
   ],
   "source": [
    "df_name"
   ]
  },
  {
   "cell_type": "code",
   "execution_count": 50,
   "id": "efdd68d0",
   "metadata": {},
   "outputs": [
    {
     "data": {
      "text/plain": [
       "['강원도',\n",
       " '경기도',\n",
       " '경상남도',\n",
       " '경상북도',\n",
       " '광주시',\n",
       " '대구시',\n",
       " '대전시',\n",
       " '부산시',\n",
       " '서울시',\n",
       " '세종시',\n",
       " '울산시',\n",
       " '인천시',\n",
       " '전라남도',\n",
       " '전라북도',\n",
       " '제주도',\n",
       " '충청남도',\n",
       " '충청북도']"
      ]
     },
     "execution_count": 50,
     "metadata": {},
     "output_type": "execute_result"
    }
   ],
   "source": [
    "area"
   ]
  },
  {
   "cell_type": "code",
   "execution_count": 51,
   "id": "678964ae",
   "metadata": {},
   "outputs": [
    {
     "name": "stdout",
     "output_type": "stream",
     "text": [
      "광주시\n",
      "대구시\n",
      "대전시\n",
      "부산시\n",
      "서울시\n",
      "세종시\n",
      "울산시\n",
      "인천시\n"
     ]
    }
   ],
   "source": [
    "for i in area:\n",
    "    if '시' in i:\n",
    "        print(i)"
   ]
  },
  {
   "cell_type": "code",
   "execution_count": 55,
   "id": "5edd6947",
   "metadata": {},
   "outputs": [],
   "source": [
    "tmp = ['광주시', '대구시', '대전시', '부산시', '서울시', '세종시', '울산시', '인천시']"
   ]
  },
  {
   "cell_type": "code",
   "execution_count": 58,
   "id": "194415ef",
   "metadata": {},
   "outputs": [],
   "source": [
    "a = []\n",
    "for i in tmp:\n",
    "    a.append(i[:-1])"
   ]
  },
  {
   "cell_type": "code",
   "execution_count": 59,
   "id": "7c2d3fc8",
   "metadata": {},
   "outputs": [
    {
     "data": {
      "text/plain": [
       "['광주', '대구', '대전', '부산', '서울', '세종', '울산', '인천']"
      ]
     },
     "execution_count": 59,
     "metadata": {},
     "output_type": "execute_result"
    }
   ],
   "source": [
    "a"
   ]
  },
  {
   "cell_type": "code",
   "execution_count": 60,
   "id": "bc968581",
   "metadata": {},
   "outputs": [],
   "source": [
    "tmp = ['광주시', '대구시', '대전시', '부산시', '서울시', '세종시', '울산시', '인천시', '광주', '대구', '대전', '부산', '서울', '세종', '울산', '인천']"
   ]
  },
  {
   "cell_type": "code",
   "execution_count": 61,
   "id": "99e20f5a",
   "metadata": {},
   "outputs": [
    {
     "data": {
      "text/plain": [
       "['광주시',\n",
       " '대구시',\n",
       " '대전시',\n",
       " '부산시',\n",
       " '서울시',\n",
       " '세종시',\n",
       " '울산시',\n",
       " '인천시',\n",
       " '광주',\n",
       " '대구',\n",
       " '대전',\n",
       " '부산',\n",
       " '서울',\n",
       " '세종',\n",
       " '울산',\n",
       " '인천']"
      ]
     },
     "execution_count": 61,
     "metadata": {},
     "output_type": "execute_result"
    }
   ],
   "source": [
    "tmp"
   ]
  },
  {
   "cell_type": "code",
   "execution_count": 62,
   "id": "ee6bf91c",
   "metadata": {},
   "outputs": [
    {
     "name": "stdout",
     "output_type": "stream",
     "text": [
      "세종\n",
      "서울\n",
      "인천\n",
      "대전\n",
      "대구\n",
      "울산\n",
      "광주\n",
      "부산\n"
     ]
    }
   ],
   "source": [
    "for i in df_name['지점명']:\n",
    "    if i in tmp:\n",
    "        print(i)"
   ]
  },
  {
   "cell_type": "code",
   "execution_count": null,
   "id": "1a8edcf3",
   "metadata": {},
   "outputs": [],
   "source": [
    "156: '광주',\n",
    "143: '대구',\n",
    "133: '대전',\n",
    "159: '부산',\n",
    "108: '서울',\n",
    "239: '세종',\n",
    "152: '울산',\n",
    "112: '인천'"
   ]
  },
  {
   "cell_type": "code",
   "execution_count": 63,
   "id": "4670c5f9",
   "metadata": {},
   "outputs": [
    {
     "name": "stdout",
     "output_type": "stream",
     "text": [
      "http://apis.data.go.kr/1360000/AsosDalyInfoService/getWthrDataList?serviceKey=3stAbv9xb2DXsahAa8m%2BKk3IbrtFKuJERl1J94cP13IWHoRG4OiNDa2nBScTx0PicBTTDFVBTgfjv0hWpV6cBg%3D%3D&pageNo=1&numOfRows=&dataType=json&dataCd=ASOS&dateCd=DAY&startDt=20210101&endDt=20210101&stnIds=90\n"
     ]
    },
    {
     "data": {
      "text/html": [
       "<div>\n",
       "<style scoped>\n",
       "    .dataframe tbody tr th:only-of-type {\n",
       "        vertical-align: middle;\n",
       "    }\n",
       "\n",
       "    .dataframe tbody tr th {\n",
       "        vertical-align: top;\n",
       "    }\n",
       "\n",
       "    .dataframe thead th {\n",
       "        text-align: right;\n",
       "    }\n",
       "</style>\n",
       "<table border=\"1\" class=\"dataframe\">\n",
       "  <thead>\n",
       "    <tr style=\"text-align: right;\">\n",
       "      <th></th>\n",
       "      <th>stnId</th>\n",
       "      <th>stnNm</th>\n",
       "      <th>tm</th>\n",
       "      <th>avgTa</th>\n",
       "      <th>minTa</th>\n",
       "      <th>minTaHrmt</th>\n",
       "      <th>maxTa</th>\n",
       "      <th>maxTaHrmt</th>\n",
       "      <th>mi10MaxRn</th>\n",
       "      <th>mi10MaxRnHrmt</th>\n",
       "      <th>...</th>\n",
       "      <th>avgM05Te</th>\n",
       "      <th>avgM10Te</th>\n",
       "      <th>avgM15Te</th>\n",
       "      <th>avgM30Te</th>\n",
       "      <th>avgM50Te</th>\n",
       "      <th>sumLrgEv</th>\n",
       "      <th>sumSmlEv</th>\n",
       "      <th>n99Rn</th>\n",
       "      <th>iscs</th>\n",
       "      <th>sumFogDur</th>\n",
       "    </tr>\n",
       "  </thead>\n",
       "  <tbody>\n",
       "    <tr>\n",
       "      <th>0</th>\n",
       "      <td>90</td>\n",
       "      <td>속초</td>\n",
       "      <td>2021-01-01</td>\n",
       "      <td>-2.9</td>\n",
       "      <td>-7.7</td>\n",
       "      <td>0441</td>\n",
       "      <td>1.2</td>\n",
       "      <td>1456</td>\n",
       "      <td></td>\n",
       "      <td></td>\n",
       "      <td>...</td>\n",
       "      <td></td>\n",
       "      <td></td>\n",
       "      <td></td>\n",
       "      <td></td>\n",
       "      <td></td>\n",
       "      <td></td>\n",
       "      <td></td>\n",
       "      <td></td>\n",
       "      <td></td>\n",
       "      <td></td>\n",
       "    </tr>\n",
       "  </tbody>\n",
       "</table>\n",
       "<p>1 rows × 62 columns</p>\n",
       "</div>"
      ],
      "text/plain": [
       "  stnId stnNm          tm avgTa minTa minTaHrmt maxTa maxTaHrmt mi10MaxRn  \\\n",
       "0    90    속초  2021-01-01  -2.9  -7.7      0441   1.2      1456             \n",
       "\n",
       "  mi10MaxRnHrmt  ... avgM05Te avgM10Te avgM15Te avgM30Te avgM50Te sumLrgEv  \\\n",
       "0                ...                                                         \n",
       "\n",
       "  sumSmlEv n99Rn iscs sumFogDur  \n",
       "0                                \n",
       "\n",
       "[1 rows x 62 columns]"
      ]
     },
     "metadata": {},
     "output_type": "display_data"
    }
   ],
   "source": [
    "key = '3stAbv9xb2DXsahAa8m%2BKk3IbrtFKuJERl1J94cP13IWHoRG4OiNDa2nBScTx0PicBTTDFVBTgfjv0hWpV6cBg%3D%3D'\n",
    "startDt = '20210101'\n",
    "endDt = '20210101'\n",
    "numOfRows = str()\n",
    "url1 = 'http://apis.data.go.kr/1360000/AsosDalyInfoService/getWthrDataList?serviceKey='+key+'&pageNo=1&numOfRows='+numOfRows+'&dataType=json&dataCd=ASOS&dateCd=DAY&startDt='+startDt+'&endDt='+endDt+'&stnIds=90'\n",
    "print(url1)\n",
    "\n",
    "html = requests.get(url1)\n",
    "soup=bs(html.text,'html.parser')\n",
    "json_obj=json.loads(soup.text)\n",
    "df_day = pd.DataFrame(json_obj['response']['body']['items']['item'])\n",
    "\n",
    "display(df_day)"
   ]
  },
  {
   "cell_type": "code",
   "execution_count": 65,
   "id": "eefb06b5",
   "metadata": {
    "scrolled": true
   },
   "outputs": [
    {
     "data": {
      "text/plain": [
       "['90',\n",
       " '212',\n",
       " '93',\n",
       " '216',\n",
       " '95',\n",
       " '217',\n",
       " '98',\n",
       " '221',\n",
       " '99',\n",
       " '226',\n",
       " '100',\n",
       " '232',\n",
       " '101',\n",
       " '235',\n",
       " '102',\n",
       " '236',\n",
       " '104',\n",
       " '238',\n",
       " '105',\n",
       " '239',\n",
       " '106',\n",
       " '243',\n",
       " '108',\n",
       " '244',\n",
       " '112',\n",
       " '245',\n",
       " '114',\n",
       " '247',\n",
       " '115',\n",
       " '248',\n",
       " '119',\n",
       " '251',\n",
       " '121',\n",
       " '252',\n",
       " '127',\n",
       " '253',\n",
       " '129',\n",
       " '254',\n",
       " '130',\n",
       " '255',\n",
       " '131',\n",
       " '257',\n",
       " '133',\n",
       " '258',\n",
       " '135',\n",
       " '259',\n",
       " '136',\n",
       " '260',\n",
       " '137',\n",
       " '261',\n",
       " '138',\n",
       " '262',\n",
       " '140',\n",
       " '263',\n",
       " '143',\n",
       " '264',\n",
       " '146',\n",
       " '266',\n",
       " '152',\n",
       " '268',\n",
       " '155',\n",
       " '271',\n",
       " '156',\n",
       " '272',\n",
       " '159',\n",
       " '273',\n",
       " '162',\n",
       " '276',\n",
       " '165',\n",
       " '277',\n",
       " '168',\n",
       " '278',\n",
       " '169',\n",
       " '279',\n",
       " '170',\n",
       " '281',\n",
       " '172',\n",
       " '283',\n",
       " '174',\n",
       " '284',\n",
       " '177',\n",
       " '285',\n",
       " '184',\n",
       " '288',\n",
       " '185',\n",
       " '289',\n",
       " '188',\n",
       " '294',\n",
       " '189',\n",
       " '295',\n",
       " '192',\n",
       " '201',\n",
       " '202',\n",
       " '203',\n",
       " '211']"
      ]
     },
     "execution_count": 65,
     "metadata": {},
     "output_type": "execute_result"
    }
   ],
   "source": [
    "list(search_ls.keys())"
   ]
  },
  {
   "cell_type": "code",
   "execution_count": 68,
   "id": "2c58a26e",
   "metadata": {},
   "outputs": [],
   "source": [
    "key = '3stAbv9xb2DXsahAa8m%2BKk3IbrtFKuJERl1J94cP13IWHoRG4OiNDa2nBScTx0PicBTTDFVBTgfjv0hWpV6cBg%3D%3D'\n",
    "startDt = '20210101'\n",
    "endDt = '20210101'\n",
    "numOfRows = str()\n",
    "\n",
    "all_code_ls = []\n",
    "for code in list(search_ls.keys()):\n",
    "    url1 = 'http://apis.data.go.kr/1360000/AsosDalyInfoService/getWthrDataList?serviceKey='+key+'&pageNo=1&numOfRows='+numOfRows+'&dataType=json&dataCd=ASOS&dateCd=DAY&startDt='+startDt+'&endDt='+endDt+'&stnIds='+code\n",
    "    html = requests.get(url1)\n",
    "    soup=bs(html.text,'html.parser')\n",
    "    json_obj=json.loads(soup.text)\n",
    "    df_day = pd.DataFrame(json_obj['response']['body']['items']['item'])\n",
    "    all_code_ls.append(df_day)\n",
    "    #display(df_day)"
   ]
  },
  {
   "cell_type": "code",
   "execution_count": 72,
   "id": "91d54f2c",
   "metadata": {},
   "outputs": [],
   "source": [
    "df_all_code = pd.concat(all_code_ls)"
   ]
  },
  {
   "cell_type": "code",
   "execution_count": 76,
   "id": "59de6c03",
   "metadata": {},
   "outputs": [
    {
     "data": {
      "text/html": [
       "<div>\n",
       "<style scoped>\n",
       "    .dataframe tbody tr th:only-of-type {\n",
       "        vertical-align: middle;\n",
       "    }\n",
       "\n",
       "    .dataframe tbody tr th {\n",
       "        vertical-align: top;\n",
       "    }\n",
       "\n",
       "    .dataframe thead th {\n",
       "        text-align: right;\n",
       "    }\n",
       "</style>\n",
       "<table border=\"1\" class=\"dataframe\">\n",
       "  <thead>\n",
       "    <tr style=\"text-align: right;\">\n",
       "      <th></th>\n",
       "      <th>avgTa</th>\n",
       "      <th>sumRn</th>\n",
       "      <th>avgWs</th>\n",
       "      <th>avgRhm</th>\n",
       "      <th>sumSsHr</th>\n",
       "      <th>sumGsr</th>\n",
       "      <th>ddMefs</th>\n",
       "      <th>avgTca</th>\n",
       "      <th>iscs</th>\n",
       "      <th>sumFogDur</th>\n",
       "    </tr>\n",
       "  </thead>\n",
       "  <tbody>\n",
       "    <tr>\n",
       "      <th>0</th>\n",
       "      <td>-2.9</td>\n",
       "      <td></td>\n",
       "      <td>2.2</td>\n",
       "      <td>27.6</td>\n",
       "      <td>9.0</td>\n",
       "      <td></td>\n",
       "      <td></td>\n",
       "      <td>0.6</td>\n",
       "      <td></td>\n",
       "      <td></td>\n",
       "    </tr>\n",
       "    <tr>\n",
       "      <th>0</th>\n",
       "      <td>-7.1</td>\n",
       "      <td></td>\n",
       "      <td>0.9</td>\n",
       "      <td>67.1</td>\n",
       "      <td>7.5</td>\n",
       "      <td></td>\n",
       "      <td></td>\n",
       "      <td>2.1</td>\n",
       "      <td></td>\n",
       "      <td></td>\n",
       "    </tr>\n",
       "    <tr>\n",
       "      <th>0</th>\n",
       "      <td>-6.8</td>\n",
       "      <td></td>\n",
       "      <td>1.1</td>\n",
       "      <td>55.8</td>\n",
       "      <td>8.6</td>\n",
       "      <td>10.56</td>\n",
       "      <td></td>\n",
       "      <td>2.8</td>\n",
       "      <td></td>\n",
       "      <td></td>\n",
       "    </tr>\n",
       "    <tr>\n",
       "      <th>0</th>\n",
       "      <td>-6.2</td>\n",
       "      <td>0.0</td>\n",
       "      <td>1.5</td>\n",
       "      <td>50.4</td>\n",
       "      <td>6.8</td>\n",
       "      <td></td>\n",
       "      <td></td>\n",
       "      <td>2.0</td>\n",
       "      <td></td>\n",
       "      <td></td>\n",
       "    </tr>\n",
       "    <tr>\n",
       "      <th>0</th>\n",
       "      <td>-7.8</td>\n",
       "      <td></td>\n",
       "      <td>1.0</td>\n",
       "      <td>58.8</td>\n",
       "      <td>7.5</td>\n",
       "      <td>9.71</td>\n",
       "      <td></td>\n",
       "      <td>4.4</td>\n",
       "      <td></td>\n",
       "      <td></td>\n",
       "    </tr>\n",
       "    <tr>\n",
       "      <th>...</th>\n",
       "      <td>...</td>\n",
       "      <td>...</td>\n",
       "      <td>...</td>\n",
       "      <td>...</td>\n",
       "      <td>...</td>\n",
       "      <td>...</td>\n",
       "      <td>...</td>\n",
       "      <td>...</td>\n",
       "      <td>...</td>\n",
       "      <td>...</td>\n",
       "    </tr>\n",
       "    <tr>\n",
       "      <th>0</th>\n",
       "      <td>-1.9</td>\n",
       "      <td></td>\n",
       "      <td>1.2</td>\n",
       "      <td>65.3</td>\n",
       "      <td>7.6</td>\n",
       "      <td>11.37</td>\n",
       "      <td></td>\n",
       "      <td>1.9</td>\n",
       "      <td></td>\n",
       "      <td></td>\n",
       "    </tr>\n",
       "    <tr>\n",
       "      <th>0</th>\n",
       "      <td>-4.9</td>\n",
       "      <td></td>\n",
       "      <td>1.3</td>\n",
       "      <td>68.6</td>\n",
       "      <td>4.6</td>\n",
       "      <td></td>\n",
       "      <td></td>\n",
       "      <td>5.4</td>\n",
       "      <td></td>\n",
       "      <td></td>\n",
       "    </tr>\n",
       "    <tr>\n",
       "      <th>0</th>\n",
       "      <td>-6.3</td>\n",
       "      <td></td>\n",
       "      <td>0.7</td>\n",
       "      <td>76.1</td>\n",
       "      <td>6.3</td>\n",
       "      <td></td>\n",
       "      <td></td>\n",
       "      <td>1.3</td>\n",
       "      <td></td>\n",
       "      <td></td>\n",
       "    </tr>\n",
       "    <tr>\n",
       "      <th>0</th>\n",
       "      <td>-5.7</td>\n",
       "      <td></td>\n",
       "      <td>0.9</td>\n",
       "      <td>80.4</td>\n",
       "      <td>4.9</td>\n",
       "      <td></td>\n",
       "      <td></td>\n",
       "      <td>2.3</td>\n",
       "      <td></td>\n",
       "      <td></td>\n",
       "    </tr>\n",
       "    <tr>\n",
       "      <th>0</th>\n",
       "      <td>-5.6</td>\n",
       "      <td></td>\n",
       "      <td>2.2</td>\n",
       "      <td>48.6</td>\n",
       "      <td>7.2</td>\n",
       "      <td></td>\n",
       "      <td></td>\n",
       "      <td>2.9</td>\n",
       "      <td></td>\n",
       "      <td></td>\n",
       "    </tr>\n",
       "  </tbody>\n",
       "</table>\n",
       "<p>95 rows × 10 columns</p>\n",
       "</div>"
      ],
      "text/plain": [
       "   avgTa sumRn avgWs avgRhm sumSsHr sumGsr ddMefs avgTca iscs sumFogDur\n",
       "0   -2.9         2.2   27.6     9.0                  0.6               \n",
       "0   -7.1         0.9   67.1     7.5                  2.1               \n",
       "0   -6.8         1.1   55.8     8.6  10.56           2.8               \n",
       "0   -6.2   0.0   1.5   50.4     6.8                  2.0               \n",
       "0   -7.8         1.0   58.8     7.5   9.71           4.4               \n",
       "..   ...   ...   ...    ...     ...    ...    ...    ...  ...       ...\n",
       "0   -1.9         1.2   65.3     7.6  11.37           1.9               \n",
       "0   -4.9         1.3   68.6     4.6                  5.4               \n",
       "0   -6.3         0.7   76.1     6.3                  1.3               \n",
       "0   -5.7         0.9   80.4     4.9                  2.3               \n",
       "0   -5.6         2.2   48.6     7.2                  2.9               \n",
       "\n",
       "[95 rows x 10 columns]"
      ]
     },
     "execution_count": 76,
     "metadata": {},
     "output_type": "execute_result"
    }
   ],
   "source": [
    "a = df_all_code[['avgTa','sumRn','avgWs','avgRhm','sumSsHr','sumGsr','ddMefs','avgTca','iscs','sumFogDur']]\n",
    "a"
   ]
  },
  {
   "cell_type": "code",
   "execution_count": 77,
   "id": "fc0457b6",
   "metadata": {},
   "outputs": [
    {
     "data": {
      "text/plain": [
       "avgTa        0\n",
       "sumRn        0\n",
       "avgWs        0\n",
       "avgRhm       0\n",
       "sumSsHr      0\n",
       "sumGsr       0\n",
       "ddMefs       0\n",
       "avgTca       0\n",
       "iscs         0\n",
       "sumFogDur    0\n",
       "dtype: int64"
      ]
     },
     "execution_count": 77,
     "metadata": {},
     "output_type": "execute_result"
    }
   ],
   "source": [
    "a.isnull().sum()"
   ]
  },
  {
   "cell_type": "code",
   "execution_count": 74,
   "id": "97b646eb",
   "metadata": {},
   "outputs": [
    {
     "data": {
      "text/html": [
       "<div>\n",
       "<style scoped>\n",
       "    .dataframe tbody tr th:only-of-type {\n",
       "        vertical-align: middle;\n",
       "    }\n",
       "\n",
       "    .dataframe tbody tr th {\n",
       "        vertical-align: top;\n",
       "    }\n",
       "\n",
       "    .dataframe thead th {\n",
       "        text-align: right;\n",
       "    }\n",
       "</style>\n",
       "<table border=\"1\" class=\"dataframe\">\n",
       "  <thead>\n",
       "    <tr style=\"text-align: right;\">\n",
       "      <th></th>\n",
       "      <th>stnId</th>\n",
       "      <th>stnNm</th>\n",
       "      <th>tm</th>\n",
       "      <th>avgTa</th>\n",
       "      <th>minTa</th>\n",
       "      <th>minTaHrmt</th>\n",
       "      <th>maxTa</th>\n",
       "      <th>maxTaHrmt</th>\n",
       "      <th>mi10MaxRn</th>\n",
       "      <th>mi10MaxRnHrmt</th>\n",
       "      <th>...</th>\n",
       "      <th>avgM05Te</th>\n",
       "      <th>avgM10Te</th>\n",
       "      <th>avgM15Te</th>\n",
       "      <th>avgM30Te</th>\n",
       "      <th>avgM50Te</th>\n",
       "      <th>sumLrgEv</th>\n",
       "      <th>sumSmlEv</th>\n",
       "      <th>n99Rn</th>\n",
       "      <th>iscs</th>\n",
       "      <th>sumFogDur</th>\n",
       "    </tr>\n",
       "  </thead>\n",
       "  <tbody>\n",
       "    <tr>\n",
       "      <th>0</th>\n",
       "      <td>90</td>\n",
       "      <td>속초</td>\n",
       "      <td>2021-01-01</td>\n",
       "      <td>-2.9</td>\n",
       "      <td>-7.7</td>\n",
       "      <td>0441</td>\n",
       "      <td>1.2</td>\n",
       "      <td>1456</td>\n",
       "      <td></td>\n",
       "      <td></td>\n",
       "      <td>...</td>\n",
       "      <td></td>\n",
       "      <td></td>\n",
       "      <td></td>\n",
       "      <td></td>\n",
       "      <td></td>\n",
       "      <td></td>\n",
       "      <td></td>\n",
       "      <td></td>\n",
       "      <td></td>\n",
       "      <td></td>\n",
       "    </tr>\n",
       "    <tr>\n",
       "      <th>0</th>\n",
       "      <td>212</td>\n",
       "      <td>홍천</td>\n",
       "      <td>2021-01-01</td>\n",
       "      <td>-7.1</td>\n",
       "      <td>-14.6</td>\n",
       "      <td>0737</td>\n",
       "      <td>-0.2</td>\n",
       "      <td>1451</td>\n",
       "      <td></td>\n",
       "      <td></td>\n",
       "      <td>...</td>\n",
       "      <td></td>\n",
       "      <td></td>\n",
       "      <td></td>\n",
       "      <td></td>\n",
       "      <td></td>\n",
       "      <td></td>\n",
       "      <td></td>\n",
       "      <td></td>\n",
       "      <td></td>\n",
       "      <td></td>\n",
       "    </tr>\n",
       "    <tr>\n",
       "      <th>0</th>\n",
       "      <td>93</td>\n",
       "      <td>북춘천</td>\n",
       "      <td>2021-01-01</td>\n",
       "      <td>-6.8</td>\n",
       "      <td>-15.3</td>\n",
       "      <td>0810</td>\n",
       "      <td>0.4</td>\n",
       "      <td>1453</td>\n",
       "      <td></td>\n",
       "      <td></td>\n",
       "      <td>...</td>\n",
       "      <td>1.7</td>\n",
       "      <td>5.4</td>\n",
       "      <td>8.6</td>\n",
       "      <td>15.1</td>\n",
       "      <td>17.2</td>\n",
       "      <td>1.2</td>\n",
       "      <td>1.7</td>\n",
       "      <td></td>\n",
       "      <td></td>\n",
       "      <td></td>\n",
       "    </tr>\n",
       "    <tr>\n",
       "      <th>0</th>\n",
       "      <td>216</td>\n",
       "      <td>태백</td>\n",
       "      <td>2021-01-01</td>\n",
       "      <td>-6.2</td>\n",
       "      <td>-10.8</td>\n",
       "      <td>0329</td>\n",
       "      <td>-2.4</td>\n",
       "      <td>1431</td>\n",
       "      <td></td>\n",
       "      <td></td>\n",
       "      <td>...</td>\n",
       "      <td></td>\n",
       "      <td></td>\n",
       "      <td></td>\n",
       "      <td></td>\n",
       "      <td></td>\n",
       "      <td></td>\n",
       "      <td></td>\n",
       "      <td></td>\n",
       "      <td></td>\n",
       "      <td></td>\n",
       "    </tr>\n",
       "    <tr>\n",
       "      <th>0</th>\n",
       "      <td>95</td>\n",
       "      <td>철원</td>\n",
       "      <td>2021-01-01</td>\n",
       "      <td>-7.8</td>\n",
       "      <td>-15.9</td>\n",
       "      <td>0750</td>\n",
       "      <td>-1.0</td>\n",
       "      <td>1507</td>\n",
       "      <td></td>\n",
       "      <td></td>\n",
       "      <td>...</td>\n",
       "      <td></td>\n",
       "      <td></td>\n",
       "      <td></td>\n",
       "      <td></td>\n",
       "      <td></td>\n",
       "      <td>0.9</td>\n",
       "      <td>1.3</td>\n",
       "      <td></td>\n",
       "      <td></td>\n",
       "      <td></td>\n",
       "    </tr>\n",
       "    <tr>\n",
       "      <th>...</th>\n",
       "      <td>...</td>\n",
       "      <td>...</td>\n",
       "      <td>...</td>\n",
       "      <td>...</td>\n",
       "      <td>...</td>\n",
       "      <td>...</td>\n",
       "      <td>...</td>\n",
       "      <td>...</td>\n",
       "      <td>...</td>\n",
       "      <td>...</td>\n",
       "      <td>...</td>\n",
       "      <td>...</td>\n",
       "      <td>...</td>\n",
       "      <td>...</td>\n",
       "      <td>...</td>\n",
       "      <td>...</td>\n",
       "      <td>...</td>\n",
       "      <td>...</td>\n",
       "      <td>...</td>\n",
       "      <td>...</td>\n",
       "      <td>...</td>\n",
       "    </tr>\n",
       "    <tr>\n",
       "      <th>0</th>\n",
       "      <td>192</td>\n",
       "      <td>진주</td>\n",
       "      <td>2021-01-01</td>\n",
       "      <td>-1.9</td>\n",
       "      <td>-8.4</td>\n",
       "      <td>0641</td>\n",
       "      <td>4.5</td>\n",
       "      <td>1349</td>\n",
       "      <td></td>\n",
       "      <td></td>\n",
       "      <td>...</td>\n",
       "      <td></td>\n",
       "      <td></td>\n",
       "      <td></td>\n",
       "      <td></td>\n",
       "      <td></td>\n",
       "      <td>1.2</td>\n",
       "      <td>1.7</td>\n",
       "      <td></td>\n",
       "      <td></td>\n",
       "      <td></td>\n",
       "    </tr>\n",
       "    <tr>\n",
       "      <th>0</th>\n",
       "      <td>201</td>\n",
       "      <td>강화</td>\n",
       "      <td>2021-01-01</td>\n",
       "      <td>-4.9</td>\n",
       "      <td>-11.8</td>\n",
       "      <td>0331</td>\n",
       "      <td>0.8</td>\n",
       "      <td>1538</td>\n",
       "      <td></td>\n",
       "      <td></td>\n",
       "      <td>...</td>\n",
       "      <td></td>\n",
       "      <td></td>\n",
       "      <td></td>\n",
       "      <td></td>\n",
       "      <td></td>\n",
       "      <td></td>\n",
       "      <td></td>\n",
       "      <td></td>\n",
       "      <td></td>\n",
       "      <td></td>\n",
       "    </tr>\n",
       "    <tr>\n",
       "      <th>0</th>\n",
       "      <td>202</td>\n",
       "      <td>양평</td>\n",
       "      <td>2021-01-01</td>\n",
       "      <td>-6.3</td>\n",
       "      <td>-12.6</td>\n",
       "      <td>0551</td>\n",
       "      <td>-0.4</td>\n",
       "      <td>1410</td>\n",
       "      <td></td>\n",
       "      <td></td>\n",
       "      <td>...</td>\n",
       "      <td></td>\n",
       "      <td></td>\n",
       "      <td></td>\n",
       "      <td></td>\n",
       "      <td></td>\n",
       "      <td></td>\n",
       "      <td></td>\n",
       "      <td></td>\n",
       "      <td></td>\n",
       "      <td></td>\n",
       "    </tr>\n",
       "    <tr>\n",
       "      <th>0</th>\n",
       "      <td>203</td>\n",
       "      <td>이천</td>\n",
       "      <td>2021-01-01</td>\n",
       "      <td>-5.7</td>\n",
       "      <td>-12.7</td>\n",
       "      <td>0513</td>\n",
       "      <td>0.2</td>\n",
       "      <td>1346</td>\n",
       "      <td></td>\n",
       "      <td></td>\n",
       "      <td>...</td>\n",
       "      <td></td>\n",
       "      <td></td>\n",
       "      <td></td>\n",
       "      <td></td>\n",
       "      <td></td>\n",
       "      <td></td>\n",
       "      <td></td>\n",
       "      <td></td>\n",
       "      <td></td>\n",
       "      <td></td>\n",
       "    </tr>\n",
       "    <tr>\n",
       "      <th>0</th>\n",
       "      <td>211</td>\n",
       "      <td>인제</td>\n",
       "      <td>2021-01-01</td>\n",
       "      <td>-5.6</td>\n",
       "      <td>-12.8</td>\n",
       "      <td>0409</td>\n",
       "      <td>-0.5</td>\n",
       "      <td>1440</td>\n",
       "      <td></td>\n",
       "      <td></td>\n",
       "      <td>...</td>\n",
       "      <td></td>\n",
       "      <td></td>\n",
       "      <td></td>\n",
       "      <td></td>\n",
       "      <td></td>\n",
       "      <td></td>\n",
       "      <td></td>\n",
       "      <td></td>\n",
       "      <td></td>\n",
       "      <td></td>\n",
       "    </tr>\n",
       "  </tbody>\n",
       "</table>\n",
       "<p>95 rows × 62 columns</p>\n",
       "</div>"
      ],
      "text/plain": [
       "   stnId stnNm          tm avgTa  minTa minTaHrmt maxTa maxTaHrmt mi10MaxRn  \\\n",
       "0     90    속초  2021-01-01  -2.9   -7.7      0441   1.2      1456             \n",
       "0    212    홍천  2021-01-01  -7.1  -14.6      0737  -0.2      1451             \n",
       "0     93   북춘천  2021-01-01  -6.8  -15.3      0810   0.4      1453             \n",
       "0    216    태백  2021-01-01  -6.2  -10.8      0329  -2.4      1431             \n",
       "0     95    철원  2021-01-01  -7.8  -15.9      0750  -1.0      1507             \n",
       "..   ...   ...         ...   ...    ...       ...   ...       ...       ...   \n",
       "0    192    진주  2021-01-01  -1.9   -8.4      0641   4.5      1349             \n",
       "0    201    강화  2021-01-01  -4.9  -11.8      0331   0.8      1538             \n",
       "0    202    양평  2021-01-01  -6.3  -12.6      0551  -0.4      1410             \n",
       "0    203    이천  2021-01-01  -5.7  -12.7      0513   0.2      1346             \n",
       "0    211    인제  2021-01-01  -5.6  -12.8      0409  -0.5      1440             \n",
       "\n",
       "   mi10MaxRnHrmt  ... avgM05Te avgM10Te avgM15Te avgM30Te avgM50Te sumLrgEv  \\\n",
       "0                 ...                                                         \n",
       "0                 ...                                                         \n",
       "0                 ...      1.7      5.4      8.6     15.1     17.2      1.2   \n",
       "0                 ...                                                         \n",
       "0                 ...                                                   0.9   \n",
       "..           ...  ...      ...      ...      ...      ...      ...      ...   \n",
       "0                 ...                                                   1.2   \n",
       "0                 ...                                                         \n",
       "0                 ...                                                         \n",
       "0                 ...                                                         \n",
       "0                 ...                                                         \n",
       "\n",
       "   sumSmlEv n99Rn iscs sumFogDur  \n",
       "0                                 \n",
       "0                                 \n",
       "0       1.7                       \n",
       "0                                 \n",
       "0       1.3                       \n",
       "..      ...   ...  ...       ...  \n",
       "0       1.7                       \n",
       "0                                 \n",
       "0                                 \n",
       "0                                 \n",
       "0                                 \n",
       "\n",
       "[95 rows x 62 columns]"
      ]
     },
     "execution_count": 74,
     "metadata": {},
     "output_type": "execute_result"
    }
   ],
   "source": []
  },
  {
   "cell_type": "code",
   "execution_count": null,
   "id": "649cd7e4",
   "metadata": {},
   "outputs": [],
   "source": [
    "avgTa\t평균 기온\n",
    "sumRn\t일강수량\n",
    "avgWs\t평균 풍속\n",
    "avgRhm\t평균 상대습도\n",
    "sumSsHr\t합계 일조 시간\n",
    "sumGsr\t합계 일사량\n",
    "ddMefs\t일 최심신적설\n",
    "avgTca\t평균 전운량\n",
    "iscs\t일기현상\n",
    "sumFogDur 안개 계속 시간"
   ]
  },
  {
   "cell_type": "code",
   "execution_count": 78,
   "id": "ab929ff0",
   "metadata": {},
   "outputs": [
    {
     "data": {
      "text/plain": [
       "['90', '속초', '강원지방기상청', '212', '홍천', '춘천기상대']"
      ]
     },
     "execution_count": 78,
     "metadata": {},
     "output_type": "execute_result"
    }
   ],
   "source": [
    "string = '90\t속초\t강원지방기상청\t212\t홍천\t춘천기상대'\n",
    "string.split('\\t')"
   ]
  },
  {
   "cell_type": "code",
   "execution_count": 5,
   "id": "24cbed96",
   "metadata": {},
   "outputs": [],
   "source": [
    "string = '''90\t속초\t강원지방기상청\t212\t홍천\t춘천기상대\n",
    "93\t북춘천\t춘천기상대\t216\t태백\t강원지방기상청\n",
    "95\t철원\t강원지방기상청\t217\t정선군\t강원지방기상청\n",
    "98\t동두천\t수도권기상청\t221\t제천\t청주기상지청\n",
    "99\t파주\t수도권기상청\t226\t보은\t청주기상지청\n",
    "100\t대관령\t강원지방기상청\t232\t천안\t대전지방기상청\n",
    "101\t춘천\t춘천기상대\t235\t보령\t대전지방기상청\n",
    "102\t백령도\t수도권기상청\t236\t부여\t대전지방기상청\n",
    "104\t북강릉\t강원지방기상청\t238\t금산\t대전지방기상청\n",
    "105\t강릉\t강원지방기상청\t239\t세종\t대전지방기상청\n",
    "106\t동해\t강원지방기상청\t243\t부안\t전주기상지청\n",
    "108\t서울\t수도권기상청\t244\t임실\t전주기상지청\n",
    "112\t인천\t수도권기상청\t245\t정읍\t전주기상지청\n",
    "114\t원주\t강원지방기상청\t247\t남원\t전주기상지청\n",
    "115\t울릉도\t대구지방기상청\t248\t장수\t전주기상지청\n",
    "119\t수원\t수도권기상청\t251\t고창군\t전주기상지청\n",
    "121\t영월\t강원지방기상청\t252\t영광군\t광주지방기상청\n",
    "127\t충주\t청주기상지청\t253\t김해시\t부산지방기상청\n",
    "129\t서산\t홍성기상대\t254\t순창군\t전주기상지청\n",
    "130\t울진\t안동기상대\t255\t북창원\t창원기상대\n",
    "131\t청주\t청주기상지청\t257\t양산시\t울산기상대\n",
    "133\t대전\t대전지방기상청\t258\t보성군\t광주지방기상청\n",
    "135\t추풍령\t청주기상지청\t259\t강진군\t목포기상대\n",
    "136\t안동\t안동기상대\t260\t장흥\t목포기상대\n",
    "137\t상주\t대구지방기상청\t261\t해남\t목포기상대\n",
    "138\t포항\t대구지방기상청\t262\t고흥\t광주지방기상청\n",
    "140\t군산\t전주기상지청\t263\t의령군\t창원기상대\n",
    "143\t대구\t대구지방기상청\t264\t함양군\t창원기상대\n",
    "146\t전주\t전주기상지청\t266\t광양시\t광주지방기상청\n",
    "152\t울산\t울산기상대\t268\t진도군\t목포기상대\n",
    "155\t창원\t창원기상대\t271\t봉화\t대구지방기상청\n",
    "156\t광주\t광주지방기상청\t272\t영주\t안동기상대\n",
    "159\t부산\t부산지방기상청\t273\t문경\t안동기상대\n",
    "162\t통영\t부산지방기상청\t276\t청송군\t대구지방기상청\n",
    "165\t목포\t목포기상대\t277\t영덕\t대구지방기상청\n",
    "168\t여수\t광주지방기상청\t278\t의성\t대구지방기상청\n",
    "169\t흑산도\t광주지방기상청\t279\t구미\t대구지방기상청\n",
    "170\t완도\t목포기상대\t281\t영천\t대구지방기상청\n",
    "172\t고창\t전주기상지청\t283\t경주시\t대구지방기상청\n",
    "174\t순천\t광주지방기상청\t284\t거창\t울산기상대\n",
    "177\t홍성\t홍성기상대\t285\t합천\t울산기상대\n",
    "184\t제주\t제주지방기상청\t288\t밀양\t울산기상대\n",
    "185\t고산\t제주지방기상청\t289\t산청\t창원기상대\n",
    "188\t성산\t제주지방기상청\t294\t거제\t부산지방기상청\n",
    "189\t서귀포\t제주지방기상청\t295\t남해\t부산지방기상청\n",
    "192\t진주\t창원기상대\n",
    "201\t강화\t인천기상대\n",
    "202\t양평\t수도권기상청\n",
    "203\t이천\t수도권기상청\n",
    "211\t인제\t강원지방기상청\n",
    "'''\n",
    "tmp = string.replace('\\n', '\\t').split('\\t')\n"
   ]
  },
  {
   "cell_type": "code",
   "execution_count": 92,
   "id": "80dfc30f",
   "metadata": {},
   "outputs": [
    {
     "data": {
      "text/plain": [
       "'90'"
      ]
     },
     "execution_count": 92,
     "metadata": {},
     "output_type": "execute_result"
    }
   ],
   "source": [
    "tmp[0]"
   ]
  },
  {
   "cell_type": "code",
   "execution_count": 6,
   "id": "c48e1fea",
   "metadata": {},
   "outputs": [
    {
     "data": {
      "text/plain": [
       "'90 속초 강원지방기상청 212 홍천 춘천기상대 93 북춘천 춘천기상대 216 태백 강원지방기상청 95 철원 강원지방기상청 217 정선군 강원지방기상청 98 동두천 수도권기상청 221 제천 청주기상지청 99 파주 수도권기상청 226 보은 청주기상지청 100 대관령 강원지방기상청 232 천안 대전지방기상청 101 춘천 춘천기상대 235 보령 대전지방기상청 102 백령도 수도권기상청 236 부여 대전지방기상청 104 북강릉 강원지방기상청 238 금산 대전지방기상청 105 강릉 강원지방기상청 239 세종 대전지방기상청 106 동해 강원지방기상청 243 부안 전주기상지청 108 서울 수도권기상청 244 임실 전주기상지청 112 인천 수도권기상청 245 정읍 전주기상지청 114 원주 강원지방기상청 247 남원 전주기상지청 115 울릉도 대구지방기상청 248 장수 전주기상지청 119 수원 수도권기상청 251 고창군 전주기상지청 121 영월 강원지방기상청 252 영광군 광주지방기상청 127 충주 청주기상지청 253 김해시 부산지방기상청 129 서산 홍성기상대 254 순창군 전주기상지청 130 울진 안동기상대 255 북창원 창원기상대 131 청주 청주기상지청 257 양산시 울산기상대 133 대전 대전지방기상청 258 보성군 광주지방기상청 135 추풍령 청주기상지청 259 강진군 목포기상대 136 안동 안동기상대 260 장흥 목포기상대 137 상주 대구지방기상청 261 해남 목포기상대 138 포항 대구지방기상청 262 고흥 광주지방기상청 140 군산 전주기상지청 263 의령군 창원기상대 143 대구 대구지방기상청 264 함양군 창원기상대 146 전주 전주기상지청 266 광양시 광주지방기상청 152 울산 울산기상대 268 진도군 목포기상대 155 창원 창원기상대 271 봉화 대구지방기상청 156 광주 광주지방기상청 272 영주 안동기상대 159 부산 부산지방기상청 273 문경 안동기상대 162 통영 부산지방기상청 276 청송군 대구지방기상청 165 목포 목포기상대 277 영덕 대구지방기상청 168 여수 광주지방기상청 278 의성 대구지방기상청 169 흑산도 광주지방기상청 279 구미 대구지방기상청 170 완도 목포기상대 281 영천 대구지방기상청 172 고창 전주기상지청 283 경주시 대구지방기상청 174 순천 광주지방기상청 284 거창 울산기상대 177 홍성 홍성기상대 285 합천 울산기상대 184 제주 제주지방기상청 288 밀양 울산기상대 185 고산 제주지방기상청 289 산청 창원기상대 188 성산 제주지방기상청 294 거제 부산지방기상청 189 서귀포 제주지방기상청 295 남해 부산지방기상청 192 진주 창원기상대 201 강화 인천기상대 202 양평 수도권기상청 203 이천 수도권기상청 211 인제 강원지방기상청 '"
      ]
     },
     "execution_count": 6,
     "metadata": {},
     "output_type": "execute_result"
    }
   ],
   "source": [
    "' '.join(tmp)"
   ]
  },
  {
   "cell_type": "code",
   "execution_count": 7,
   "id": "02c78a97",
   "metadata": {},
   "outputs": [],
   "source": [
    "b = []\n",
    "a = []\n",
    "for idx,v in enumerate(tmp):\n",
    "    a.append(v)\n",
    "    if idx%3==2:\n",
    "        b.append(a)\n",
    "        a = []"
   ]
  },
  {
   "cell_type": "code",
   "execution_count": 8,
   "id": "b99d1ee9",
   "metadata": {},
   "outputs": [
    {
     "data": {
      "text/plain": [
       "[['90', '속초', '강원지방기상청'],\n",
       " ['212', '홍천', '춘천기상대'],\n",
       " ['93', '북춘천', '춘천기상대'],\n",
       " ['216', '태백', '강원지방기상청'],\n",
       " ['95', '철원', '강원지방기상청'],\n",
       " ['217', '정선군', '강원지방기상청'],\n",
       " ['98', '동두천', '수도권기상청'],\n",
       " ['221', '제천', '청주기상지청'],\n",
       " ['99', '파주', '수도권기상청'],\n",
       " ['226', '보은', '청주기상지청'],\n",
       " ['100', '대관령', '강원지방기상청'],\n",
       " ['232', '천안', '대전지방기상청'],\n",
       " ['101', '춘천', '춘천기상대'],\n",
       " ['235', '보령', '대전지방기상청'],\n",
       " ['102', '백령도', '수도권기상청'],\n",
       " ['236', '부여', '대전지방기상청'],\n",
       " ['104', '북강릉', '강원지방기상청'],\n",
       " ['238', '금산', '대전지방기상청'],\n",
       " ['105', '강릉', '강원지방기상청'],\n",
       " ['239', '세종', '대전지방기상청'],\n",
       " ['106', '동해', '강원지방기상청'],\n",
       " ['243', '부안', '전주기상지청'],\n",
       " ['108', '서울', '수도권기상청'],\n",
       " ['244', '임실', '전주기상지청'],\n",
       " ['112', '인천', '수도권기상청'],\n",
       " ['245', '정읍', '전주기상지청'],\n",
       " ['114', '원주', '강원지방기상청'],\n",
       " ['247', '남원', '전주기상지청'],\n",
       " ['115', '울릉도', '대구지방기상청'],\n",
       " ['248', '장수', '전주기상지청'],\n",
       " ['119', '수원', '수도권기상청'],\n",
       " ['251', '고창군', '전주기상지청'],\n",
       " ['121', '영월', '강원지방기상청'],\n",
       " ['252', '영광군', '광주지방기상청'],\n",
       " ['127', '충주', '청주기상지청'],\n",
       " ['253', '김해시', '부산지방기상청'],\n",
       " ['129', '서산', '홍성기상대'],\n",
       " ['254', '순창군', '전주기상지청'],\n",
       " ['130', '울진', '안동기상대'],\n",
       " ['255', '북창원', '창원기상대'],\n",
       " ['131', '청주', '청주기상지청'],\n",
       " ['257', '양산시', '울산기상대'],\n",
       " ['133', '대전', '대전지방기상청'],\n",
       " ['258', '보성군', '광주지방기상청'],\n",
       " ['135', '추풍령', '청주기상지청'],\n",
       " ['259', '강진군', '목포기상대'],\n",
       " ['136', '안동', '안동기상대'],\n",
       " ['260', '장흥', '목포기상대'],\n",
       " ['137', '상주', '대구지방기상청'],\n",
       " ['261', '해남', '목포기상대'],\n",
       " ['138', '포항', '대구지방기상청'],\n",
       " ['262', '고흥', '광주지방기상청'],\n",
       " ['140', '군산', '전주기상지청'],\n",
       " ['263', '의령군', '창원기상대'],\n",
       " ['143', '대구', '대구지방기상청'],\n",
       " ['264', '함양군', '창원기상대'],\n",
       " ['146', '전주', '전주기상지청'],\n",
       " ['266', '광양시', '광주지방기상청'],\n",
       " ['152', '울산', '울산기상대'],\n",
       " ['268', '진도군', '목포기상대'],\n",
       " ['155', '창원', '창원기상대'],\n",
       " ['271', '봉화', '대구지방기상청'],\n",
       " ['156', '광주', '광주지방기상청'],\n",
       " ['272', '영주', '안동기상대'],\n",
       " ['159', '부산', '부산지방기상청'],\n",
       " ['273', '문경', '안동기상대'],\n",
       " ['162', '통영', '부산지방기상청'],\n",
       " ['276', '청송군', '대구지방기상청'],\n",
       " ['165', '목포', '목포기상대'],\n",
       " ['277', '영덕', '대구지방기상청'],\n",
       " ['168', '여수', '광주지방기상청'],\n",
       " ['278', '의성', '대구지방기상청'],\n",
       " ['169', '흑산도', '광주지방기상청'],\n",
       " ['279', '구미', '대구지방기상청'],\n",
       " ['170', '완도', '목포기상대'],\n",
       " ['281', '영천', '대구지방기상청'],\n",
       " ['172', '고창', '전주기상지청'],\n",
       " ['283', '경주시', '대구지방기상청'],\n",
       " ['174', '순천', '광주지방기상청'],\n",
       " ['284', '거창', '울산기상대'],\n",
       " ['177', '홍성', '홍성기상대'],\n",
       " ['285', '합천', '울산기상대'],\n",
       " ['184', '제주', '제주지방기상청'],\n",
       " ['288', '밀양', '울산기상대'],\n",
       " ['185', '고산', '제주지방기상청'],\n",
       " ['289', '산청', '창원기상대'],\n",
       " ['188', '성산', '제주지방기상청'],\n",
       " ['294', '거제', '부산지방기상청'],\n",
       " ['189', '서귀포', '제주지방기상청'],\n",
       " ['295', '남해', '부산지방기상청'],\n",
       " ['192', '진주', '창원기상대'],\n",
       " ['201', '강화', '인천기상대'],\n",
       " ['202', '양평', '수도권기상청'],\n",
       " ['203', '이천', '수도권기상청'],\n",
       " ['211', '인제', '강원지방기상청']]"
      ]
     },
     "execution_count": 8,
     "metadata": {},
     "output_type": "execute_result"
    }
   ],
   "source": [
    "b"
   ]
  },
  {
   "cell_type": "code",
   "execution_count": 9,
   "id": "b567969c",
   "metadata": {},
   "outputs": [],
   "source": [
    "code_name_name = b.copy()"
   ]
  },
  {
   "cell_type": "code",
   "execution_count": 10,
   "id": "5ec621c9",
   "metadata": {},
   "outputs": [],
   "source": [
    "codes = []\n",
    "names1 = []\n",
    "names2 = []\n",
    "for i in b:\n",
    "    codes.append(i[0])\n",
    "    names1.append(i[1])\n",
    "    names2.append(i[2])"
   ]
  },
  {
   "cell_type": "code",
   "execution_count": 11,
   "id": "447e8ae5",
   "metadata": {
    "scrolled": true
   },
   "outputs": [
    {
     "data": {
      "text/html": [
       "<div>\n",
       "<style scoped>\n",
       "    .dataframe tbody tr th:only-of-type {\n",
       "        vertical-align: middle;\n",
       "    }\n",
       "\n",
       "    .dataframe tbody tr th {\n",
       "        vertical-align: top;\n",
       "    }\n",
       "\n",
       "    .dataframe thead th {\n",
       "        text-align: right;\n",
       "    }\n",
       "</style>\n",
       "<table border=\"1\" class=\"dataframe\">\n",
       "  <thead>\n",
       "    <tr style=\"text-align: right;\">\n",
       "      <th></th>\n",
       "      <th>지점</th>\n",
       "      <th>지점명</th>\n",
       "      <th>관리관서</th>\n",
       "    </tr>\n",
       "  </thead>\n",
       "  <tbody>\n",
       "    <tr>\n",
       "      <th>0</th>\n",
       "      <td>90</td>\n",
       "      <td>속초</td>\n",
       "      <td>강원지방기상청</td>\n",
       "    </tr>\n",
       "    <tr>\n",
       "      <th>1</th>\n",
       "      <td>212</td>\n",
       "      <td>홍천</td>\n",
       "      <td>춘천기상대</td>\n",
       "    </tr>\n",
       "    <tr>\n",
       "      <th>2</th>\n",
       "      <td>93</td>\n",
       "      <td>북춘천</td>\n",
       "      <td>춘천기상대</td>\n",
       "    </tr>\n",
       "    <tr>\n",
       "      <th>3</th>\n",
       "      <td>216</td>\n",
       "      <td>태백</td>\n",
       "      <td>강원지방기상청</td>\n",
       "    </tr>\n",
       "    <tr>\n",
       "      <th>4</th>\n",
       "      <td>95</td>\n",
       "      <td>철원</td>\n",
       "      <td>강원지방기상청</td>\n",
       "    </tr>\n",
       "    <tr>\n",
       "      <th>...</th>\n",
       "      <td>...</td>\n",
       "      <td>...</td>\n",
       "      <td>...</td>\n",
       "    </tr>\n",
       "    <tr>\n",
       "      <th>90</th>\n",
       "      <td>192</td>\n",
       "      <td>진주</td>\n",
       "      <td>창원기상대</td>\n",
       "    </tr>\n",
       "    <tr>\n",
       "      <th>91</th>\n",
       "      <td>201</td>\n",
       "      <td>강화</td>\n",
       "      <td>인천기상대</td>\n",
       "    </tr>\n",
       "    <tr>\n",
       "      <th>92</th>\n",
       "      <td>202</td>\n",
       "      <td>양평</td>\n",
       "      <td>수도권기상청</td>\n",
       "    </tr>\n",
       "    <tr>\n",
       "      <th>93</th>\n",
       "      <td>203</td>\n",
       "      <td>이천</td>\n",
       "      <td>수도권기상청</td>\n",
       "    </tr>\n",
       "    <tr>\n",
       "      <th>94</th>\n",
       "      <td>211</td>\n",
       "      <td>인제</td>\n",
       "      <td>강원지방기상청</td>\n",
       "    </tr>\n",
       "  </tbody>\n",
       "</table>\n",
       "<p>95 rows × 3 columns</p>\n",
       "</div>"
      ],
      "text/plain": [
       "     지점  지점명     관리관서\n",
       "0    90   속초  강원지방기상청\n",
       "1   212   홍천    춘천기상대\n",
       "2    93  북춘천    춘천기상대\n",
       "3   216   태백  강원지방기상청\n",
       "4    95   철원  강원지방기상청\n",
       "..  ...  ...      ...\n",
       "90  192   진주    창원기상대\n",
       "91  201   강화    인천기상대\n",
       "92  202   양평   수도권기상청\n",
       "93  203   이천   수도권기상청\n",
       "94  211   인제  강원지방기상청\n",
       "\n",
       "[95 rows x 3 columns]"
      ]
     },
     "execution_count": 11,
     "metadata": {},
     "output_type": "execute_result"
    }
   ],
   "source": [
    "pd.DataFrame({'지점': codes,\n",
    "              '지점명': names1,\n",
    "              '관리관서': names2})"
   ]
  },
  {
   "cell_type": "code",
   "execution_count": 12,
   "id": "14862256",
   "metadata": {},
   "outputs": [],
   "source": [
    "df_codenn = pd.DataFrame({'지점': codes,\n",
    "              '지점명': names1,\n",
    "              '관리관서': names2})"
   ]
  },
  {
   "cell_type": "code",
   "execution_count": 13,
   "id": "51046c55",
   "metadata": {},
   "outputs": [
    {
     "data": {
      "text/html": [
       "<div>\n",
       "<style scoped>\n",
       "    .dataframe tbody tr th:only-of-type {\n",
       "        vertical-align: middle;\n",
       "    }\n",
       "\n",
       "    .dataframe tbody tr th {\n",
       "        vertical-align: top;\n",
       "    }\n",
       "\n",
       "    .dataframe thead th {\n",
       "        text-align: right;\n",
       "    }\n",
       "</style>\n",
       "<table border=\"1\" class=\"dataframe\">\n",
       "  <thead>\n",
       "    <tr style=\"text-align: right;\">\n",
       "      <th></th>\n",
       "      <th>지점</th>\n",
       "      <th>지점명</th>\n",
       "      <th>관리관서</th>\n",
       "    </tr>\n",
       "  </thead>\n",
       "  <tbody>\n",
       "    <tr>\n",
       "      <th>0</th>\n",
       "      <td>90</td>\n",
       "      <td>속초</td>\n",
       "      <td>강원지방기상청</td>\n",
       "    </tr>\n",
       "    <tr>\n",
       "      <th>1</th>\n",
       "      <td>212</td>\n",
       "      <td>홍천</td>\n",
       "      <td>춘천기상대</td>\n",
       "    </tr>\n",
       "    <tr>\n",
       "      <th>2</th>\n",
       "      <td>93</td>\n",
       "      <td>북춘천</td>\n",
       "      <td>춘천기상대</td>\n",
       "    </tr>\n",
       "    <tr>\n",
       "      <th>3</th>\n",
       "      <td>216</td>\n",
       "      <td>태백</td>\n",
       "      <td>강원지방기상청</td>\n",
       "    </tr>\n",
       "    <tr>\n",
       "      <th>4</th>\n",
       "      <td>95</td>\n",
       "      <td>철원</td>\n",
       "      <td>강원지방기상청</td>\n",
       "    </tr>\n",
       "    <tr>\n",
       "      <th>...</th>\n",
       "      <td>...</td>\n",
       "      <td>...</td>\n",
       "      <td>...</td>\n",
       "    </tr>\n",
       "    <tr>\n",
       "      <th>90</th>\n",
       "      <td>192</td>\n",
       "      <td>진주</td>\n",
       "      <td>창원기상대</td>\n",
       "    </tr>\n",
       "    <tr>\n",
       "      <th>91</th>\n",
       "      <td>201</td>\n",
       "      <td>강화</td>\n",
       "      <td>인천기상대</td>\n",
       "    </tr>\n",
       "    <tr>\n",
       "      <th>92</th>\n",
       "      <td>202</td>\n",
       "      <td>양평</td>\n",
       "      <td>수도권기상청</td>\n",
       "    </tr>\n",
       "    <tr>\n",
       "      <th>93</th>\n",
       "      <td>203</td>\n",
       "      <td>이천</td>\n",
       "      <td>수도권기상청</td>\n",
       "    </tr>\n",
       "    <tr>\n",
       "      <th>94</th>\n",
       "      <td>211</td>\n",
       "      <td>인제</td>\n",
       "      <td>강원지방기상청</td>\n",
       "    </tr>\n",
       "  </tbody>\n",
       "</table>\n",
       "<p>95 rows × 3 columns</p>\n",
       "</div>"
      ],
      "text/plain": [
       "     지점  지점명     관리관서\n",
       "0    90   속초  강원지방기상청\n",
       "1   212   홍천    춘천기상대\n",
       "2    93  북춘천    춘천기상대\n",
       "3   216   태백  강원지방기상청\n",
       "4    95   철원  강원지방기상청\n",
       "..  ...  ...      ...\n",
       "90  192   진주    창원기상대\n",
       "91  201   강화    인천기상대\n",
       "92  202   양평   수도권기상청\n",
       "93  203   이천   수도권기상청\n",
       "94  211   인제  강원지방기상청\n",
       "\n",
       "[95 rows x 3 columns]"
      ]
     },
     "execution_count": 13,
     "metadata": {},
     "output_type": "execute_result"
    }
   ],
   "source": [
    "df_codenn"
   ]
  },
  {
   "cell_type": "code",
   "execution_count": null,
   "id": "f07ba3ef",
   "metadata": {},
   "outputs": [],
   "source": [
    "156: '광주',\n",
    "143: '대구',\n",
    "133: '대전',\n",
    "159: '부산',\n",
    "108: '서울',\n",
    "239: '세종',\n",
    "152: '울산',\n",
    "112: '인천'"
   ]
  },
  {
   "cell_type": "code",
   "execution_count": 123,
   "id": "f2971f65",
   "metadata": {},
   "outputs": [
    {
     "data": {
      "text/html": [
       "<div>\n",
       "<style scoped>\n",
       "    .dataframe tbody tr th:only-of-type {\n",
       "        vertical-align: middle;\n",
       "    }\n",
       "\n",
       "    .dataframe tbody tr th {\n",
       "        vertical-align: top;\n",
       "    }\n",
       "\n",
       "    .dataframe thead th {\n",
       "        text-align: right;\n",
       "    }\n",
       "</style>\n",
       "<table border=\"1\" class=\"dataframe\">\n",
       "  <thead>\n",
       "    <tr style=\"text-align: right;\">\n",
       "      <th></th>\n",
       "      <th>지점</th>\n",
       "      <th>지점명</th>\n",
       "      <th>관리관서</th>\n",
       "    </tr>\n",
       "  </thead>\n",
       "  <tbody>\n",
       "    <tr>\n",
       "      <th>62</th>\n",
       "      <td>156</td>\n",
       "      <td>광주</td>\n",
       "      <td>광주지방기상청</td>\n",
       "    </tr>\n",
       "  </tbody>\n",
       "</table>\n",
       "</div>"
      ],
      "text/plain": [
       "     지점 지점명     관리관서\n",
       "62  156  광주  광주지방기상청"
      ]
     },
     "execution_count": 123,
     "metadata": {},
     "output_type": "execute_result"
    }
   ],
   "source": [
    "df_codenn[df_codenn['지점'] == '156']"
   ]
  },
  {
   "cell_type": "code",
   "execution_count": 124,
   "id": "fd72f281",
   "metadata": {},
   "outputs": [
    {
     "name": "stderr",
     "output_type": "stream",
     "text": [
      "C:\\Users\\user\\AppData\\Local\\Temp\\ipykernel_9532\\91246705.py:1: SettingWithCopyWarning: \n",
      "A value is trying to be set on a copy of a slice from a DataFrame.\n",
      "Try using .loc[row_indexer,col_indexer] = value instead\n",
      "\n",
      "See the caveats in the documentation: https://pandas.pydata.org/pandas-docs/stable/user_guide/indexing.html#returning-a-view-versus-a-copy\n",
      "  df_codenn[df_codenn['지점'] == '156']['지점명'] = df_codenn[df_codenn['지점'] == '156']['지점명'] + '시'\n"
     ]
    }
   ],
   "source": [
    "df_codenn[df_codenn['지점'] == '156']['지점명'] = df_codenn[df_codenn['지점'] == '156']['지점명'] + '시'"
   ]
  },
  {
   "cell_type": "code",
   "execution_count": 126,
   "id": "6f2e217a",
   "metadata": {},
   "outputs": [
    {
     "data": {
      "text/plain": [
       "62    광주\n",
       "Name: 지점명, dtype: object"
      ]
     },
     "execution_count": 126,
     "metadata": {},
     "output_type": "execute_result"
    }
   ],
   "source": [
    "df_codenn[df_codenn['지점'] == '156']['지점명']"
   ]
  },
  {
   "cell_type": "code",
   "execution_count": 127,
   "id": "d256df7c",
   "metadata": {},
   "outputs": [
    {
     "data": {
      "text/plain": [
       "62    광주시\n",
       "Name: 지점명, dtype: object"
      ]
     },
     "execution_count": 127,
     "metadata": {},
     "output_type": "execute_result"
    }
   ],
   "source": [
    "df_codenn[df_codenn['지점'] == '156']['지점명'] + '시'"
   ]
  },
  {
   "cell_type": "code",
   "execution_count": 128,
   "id": "f66906d7",
   "metadata": {},
   "outputs": [
    {
     "name": "stderr",
     "output_type": "stream",
     "text": [
      "C:\\Users\\user\\AppData\\Local\\Temp\\ipykernel_9532\\554293978.py:1: SettingWithCopyWarning: \n",
      "A value is trying to be set on a copy of a slice from a DataFrame.\n",
      "Try using .loc[row_indexer,col_indexer] = value instead\n",
      "\n",
      "See the caveats in the documentation: https://pandas.pydata.org/pandas-docs/stable/user_guide/indexing.html#returning-a-view-versus-a-copy\n",
      "  df_codenn[df_codenn['지점'] == '156']['지점명'] = '광주시'\n"
     ]
    }
   ],
   "source": [
    "df_codenn[df_codenn['지점'] == '156']['지점명'] = '광주시'"
   ]
  },
  {
   "cell_type": "code",
   "execution_count": 129,
   "id": "93c23ffd",
   "metadata": {},
   "outputs": [
    {
     "data": {
      "text/plain": [
       "62    광주\n",
       "Name: 지점명, dtype: object"
      ]
     },
     "execution_count": 129,
     "metadata": {},
     "output_type": "execute_result"
    }
   ],
   "source": [
    "df_codenn[df_codenn['지점'] == '156']['지점명']"
   ]
  },
  {
   "cell_type": "code",
   "execution_count": 137,
   "id": "28fe9d84",
   "metadata": {},
   "outputs": [
    {
     "name": "stderr",
     "output_type": "stream",
     "text": [
      "C:\\Users\\user\\AppData\\Local\\Temp\\ipykernel_9532\\2139528812.py:1: SettingWithCopyWarning: \n",
      "A value is trying to be set on a copy of a slice from a DataFrame.\n",
      "Try using .loc[row_indexer,col_indexer] = value instead\n",
      "\n",
      "See the caveats in the documentation: https://pandas.pydata.org/pandas-docs/stable/user_guide/indexing.html#returning-a-view-versus-a-copy\n",
      "  df_codenn[df_codenn.loc[:,'지점'] == '156']['지점명'] = '광주시'\n"
     ]
    }
   ],
   "source": [
    "df_codenn[df_codenn.loc[:,'지점'] == '156']['지점명'] = '광주시'"
   ]
  },
  {
   "cell_type": "code",
   "execution_count": 138,
   "id": "b2eb22b3",
   "metadata": {},
   "outputs": [
    {
     "data": {
      "text/plain": [
       "62    광주\n",
       "Name: 지점명, dtype: object"
      ]
     },
     "execution_count": 138,
     "metadata": {},
     "output_type": "execute_result"
    }
   ],
   "source": [
    "df_codenn.loc[df_codenn['지점']=='156', '지점명']"
   ]
  },
  {
   "cell_type": "code",
   "execution_count": 139,
   "id": "5dafd79b",
   "metadata": {},
   "outputs": [],
   "source": [
    "df_codenn.loc[df_codenn['지점']=='156', '지점명'] = df_codenn.loc[df_codenn['지점']=='156', '지점명'] + '시'"
   ]
  },
  {
   "cell_type": "code",
   "execution_count": 140,
   "id": "e7e4ecb7",
   "metadata": {},
   "outputs": [
    {
     "data": {
      "text/plain": [
       "62    광주시\n",
       "Name: 지점명, dtype: object"
      ]
     },
     "execution_count": 140,
     "metadata": {},
     "output_type": "execute_result"
    }
   ],
   "source": [
    "df_codenn.loc[df_codenn['지점']=='156', '지점명']"
   ]
  },
  {
   "cell_type": "code",
   "execution_count": 141,
   "id": "bb84d5de",
   "metadata": {},
   "outputs": [],
   "source": [
    "df_codenn.loc[df_codenn['지점']=='156', '지점명'] = '광주'"
   ]
  },
  {
   "cell_type": "code",
   "execution_count": 142,
   "id": "6548b832",
   "metadata": {},
   "outputs": [
    {
     "data": {
      "text/plain": [
       "62    광주\n",
       "Name: 지점명, dtype: object"
      ]
     },
     "execution_count": 142,
     "metadata": {},
     "output_type": "execute_result"
    }
   ],
   "source": [
    "df_codenn.loc[df_codenn['지점']=='156', '지점명']"
   ]
  },
  {
   "cell_type": "code",
   "execution_count": 14,
   "id": "86b29def",
   "metadata": {},
   "outputs": [
    {
     "name": "stdout",
     "output_type": "stream",
     "text": [
      "62    광주\n",
      "Name: 지점명, dtype: object\n",
      "54    대구\n",
      "Name: 지점명, dtype: object\n",
      "42    대전\n",
      "Name: 지점명, dtype: object\n",
      "64    부산\n",
      "Name: 지점명, dtype: object\n",
      "22    서울\n",
      "Name: 지점명, dtype: object\n",
      "19    세종\n",
      "Name: 지점명, dtype: object\n",
      "58    울산\n",
      "Name: 지점명, dtype: object\n",
      "24    인천\n",
      "Name: 지점명, dtype: object\n"
     ]
    }
   ],
   "source": [
    "tmp = ['156','143','133','159','108','239','152','112']\n",
    "for i in tmp:\n",
    "    print(df_codenn.loc[df_codenn['지점']==i, '지점명'])"
   ]
  },
  {
   "cell_type": "code",
   "execution_count": 15,
   "id": "a2b38287",
   "metadata": {},
   "outputs": [],
   "source": [
    "tmp = ['156','143','133','159','108','239','152','112']\n",
    "for i in tmp:\n",
    "    df_codenn.loc[df_codenn['지점']==i, '지점명'] = df_codenn.loc[df_codenn['지점']==i, '지점명'] + '시'"
   ]
  },
  {
   "cell_type": "code",
   "execution_count": 16,
   "id": "5af2a5c2",
   "metadata": {},
   "outputs": [
    {
     "name": "stdout",
     "output_type": "stream",
     "text": [
      "62    광주시\n",
      "Name: 지점명, dtype: object\n",
      "54    대구시\n",
      "Name: 지점명, dtype: object\n",
      "42    대전시\n",
      "Name: 지점명, dtype: object\n",
      "64    부산시\n",
      "Name: 지점명, dtype: object\n",
      "22    서울시\n",
      "Name: 지점명, dtype: object\n",
      "19    세종시\n",
      "Name: 지점명, dtype: object\n",
      "58    울산시\n",
      "Name: 지점명, dtype: object\n",
      "24    인천시\n",
      "Name: 지점명, dtype: object\n"
     ]
    }
   ],
   "source": [
    "tmp = ['156','143','133','159','108','239','152','112']\n",
    "for i in tmp:\n",
    "    print(df_codenn.loc[df_codenn['지점']==i, '지점명'])"
   ]
  },
  {
   "cell_type": "code",
   "execution_count": 17,
   "id": "746770cb",
   "metadata": {},
   "outputs": [
    {
     "data": {
      "text/plain": [
       "0     강원지방기상청\n",
       "1       춘천기상대\n",
       "2       춘천기상대\n",
       "3     강원지방기상청\n",
       "4     강원지방기상청\n",
       "       ...   \n",
       "90      창원기상대\n",
       "91      인천기상대\n",
       "92     수도권기상청\n",
       "93     수도권기상청\n",
       "94    강원지방기상청\n",
       "Name: 관리관서, Length: 95, dtype: object"
      ]
     },
     "execution_count": 17,
     "metadata": {},
     "output_type": "execute_result"
    }
   ],
   "source": [
    "df_codenn['관리관서']"
   ]
  },
  {
   "cell_type": "code",
   "execution_count": 150,
   "id": "e841e184",
   "metadata": {},
   "outputs": [
    {
     "data": {
      "text/plain": [
       "0      강원지방\n",
       "1     춘천기상대\n",
       "2     춘천기상대\n",
       "3      강원지방\n",
       "4      강원지방\n",
       "      ...  \n",
       "90    창원기상대\n",
       "91    인천기상대\n",
       "92      수도권\n",
       "93      수도권\n",
       "94     강원지방\n",
       "Name: 관리관서, Length: 95, dtype: object"
      ]
     },
     "execution_count": 150,
     "metadata": {},
     "output_type": "execute_result"
    }
   ],
   "source": [
    "df_codenn['관리관서'].str.replace('기상청', '')"
   ]
  },
  {
   "cell_type": "code",
   "execution_count": 19,
   "id": "79e0561a",
   "metadata": {},
   "outputs": [],
   "source": [
    "df_codenn['도'] = df_codenn['관리관서'].str.replace('기상청', '')"
   ]
  },
  {
   "cell_type": "code",
   "execution_count": 18,
   "id": "0641bac6",
   "metadata": {},
   "outputs": [
    {
     "data": {
      "text/html": [
       "<div>\n",
       "<style scoped>\n",
       "    .dataframe tbody tr th:only-of-type {\n",
       "        vertical-align: middle;\n",
       "    }\n",
       "\n",
       "    .dataframe tbody tr th {\n",
       "        vertical-align: top;\n",
       "    }\n",
       "\n",
       "    .dataframe thead th {\n",
       "        text-align: right;\n",
       "    }\n",
       "</style>\n",
       "<table border=\"1\" class=\"dataframe\">\n",
       "  <thead>\n",
       "    <tr style=\"text-align: right;\">\n",
       "      <th></th>\n",
       "      <th>지점</th>\n",
       "      <th>지점명</th>\n",
       "      <th>관리관서</th>\n",
       "    </tr>\n",
       "  </thead>\n",
       "  <tbody>\n",
       "    <tr>\n",
       "      <th>0</th>\n",
       "      <td>90</td>\n",
       "      <td>속초</td>\n",
       "      <td>강원지방기상청</td>\n",
       "    </tr>\n",
       "    <tr>\n",
       "      <th>1</th>\n",
       "      <td>212</td>\n",
       "      <td>홍천</td>\n",
       "      <td>춘천기상대</td>\n",
       "    </tr>\n",
       "    <tr>\n",
       "      <th>2</th>\n",
       "      <td>93</td>\n",
       "      <td>북춘천</td>\n",
       "      <td>춘천기상대</td>\n",
       "    </tr>\n",
       "    <tr>\n",
       "      <th>3</th>\n",
       "      <td>216</td>\n",
       "      <td>태백</td>\n",
       "      <td>강원지방기상청</td>\n",
       "    </tr>\n",
       "    <tr>\n",
       "      <th>4</th>\n",
       "      <td>95</td>\n",
       "      <td>철원</td>\n",
       "      <td>강원지방기상청</td>\n",
       "    </tr>\n",
       "    <tr>\n",
       "      <th>...</th>\n",
       "      <td>...</td>\n",
       "      <td>...</td>\n",
       "      <td>...</td>\n",
       "    </tr>\n",
       "    <tr>\n",
       "      <th>90</th>\n",
       "      <td>192</td>\n",
       "      <td>진주</td>\n",
       "      <td>창원기상대</td>\n",
       "    </tr>\n",
       "    <tr>\n",
       "      <th>91</th>\n",
       "      <td>201</td>\n",
       "      <td>강화</td>\n",
       "      <td>인천기상대</td>\n",
       "    </tr>\n",
       "    <tr>\n",
       "      <th>92</th>\n",
       "      <td>202</td>\n",
       "      <td>양평</td>\n",
       "      <td>수도권기상청</td>\n",
       "    </tr>\n",
       "    <tr>\n",
       "      <th>93</th>\n",
       "      <td>203</td>\n",
       "      <td>이천</td>\n",
       "      <td>수도권기상청</td>\n",
       "    </tr>\n",
       "    <tr>\n",
       "      <th>94</th>\n",
       "      <td>211</td>\n",
       "      <td>인제</td>\n",
       "      <td>강원지방기상청</td>\n",
       "    </tr>\n",
       "  </tbody>\n",
       "</table>\n",
       "<p>95 rows × 3 columns</p>\n",
       "</div>"
      ],
      "text/plain": [
       "     지점  지점명     관리관서\n",
       "0    90   속초  강원지방기상청\n",
       "1   212   홍천    춘천기상대\n",
       "2    93  북춘천    춘천기상대\n",
       "3   216   태백  강원지방기상청\n",
       "4    95   철원  강원지방기상청\n",
       "..  ...  ...      ...\n",
       "90  192   진주    창원기상대\n",
       "91  201   강화    인천기상대\n",
       "92  202   양평   수도권기상청\n",
       "93  203   이천   수도권기상청\n",
       "94  211   인제  강원지방기상청\n",
       "\n",
       "[95 rows x 3 columns]"
      ]
     },
     "execution_count": 18,
     "metadata": {},
     "output_type": "execute_result"
    }
   ],
   "source": [
    "df_codenn"
   ]
  },
  {
   "cell_type": "code",
   "execution_count": 20,
   "id": "2455c023",
   "metadata": {},
   "outputs": [],
   "source": [
    "df_codenn['도'] = df_codenn['도'].str.replace('기상청', '')\n",
    "df_codenn['도'] = df_codenn['도'].str.replace('기상대', '')\n",
    "df_codenn['도'] = df_codenn['도'].str.replace('지방', '')"
   ]
  },
  {
   "cell_type": "code",
   "execution_count": 21,
   "id": "5b5a265d",
   "metadata": {},
   "outputs": [
    {
     "data": {
      "text/html": [
       "<div>\n",
       "<style scoped>\n",
       "    .dataframe tbody tr th:only-of-type {\n",
       "        vertical-align: middle;\n",
       "    }\n",
       "\n",
       "    .dataframe tbody tr th {\n",
       "        vertical-align: top;\n",
       "    }\n",
       "\n",
       "    .dataframe thead th {\n",
       "        text-align: right;\n",
       "    }\n",
       "</style>\n",
       "<table border=\"1\" class=\"dataframe\">\n",
       "  <thead>\n",
       "    <tr style=\"text-align: right;\">\n",
       "      <th></th>\n",
       "      <th>지점</th>\n",
       "      <th>지점명</th>\n",
       "      <th>관리관서</th>\n",
       "      <th>도</th>\n",
       "    </tr>\n",
       "  </thead>\n",
       "  <tbody>\n",
       "    <tr>\n",
       "      <th>0</th>\n",
       "      <td>90</td>\n",
       "      <td>속초</td>\n",
       "      <td>강원지방기상청</td>\n",
       "      <td>강원</td>\n",
       "    </tr>\n",
       "    <tr>\n",
       "      <th>1</th>\n",
       "      <td>212</td>\n",
       "      <td>홍천</td>\n",
       "      <td>춘천기상대</td>\n",
       "      <td>춘천</td>\n",
       "    </tr>\n",
       "    <tr>\n",
       "      <th>2</th>\n",
       "      <td>93</td>\n",
       "      <td>북춘천</td>\n",
       "      <td>춘천기상대</td>\n",
       "      <td>춘천</td>\n",
       "    </tr>\n",
       "    <tr>\n",
       "      <th>3</th>\n",
       "      <td>216</td>\n",
       "      <td>태백</td>\n",
       "      <td>강원지방기상청</td>\n",
       "      <td>강원</td>\n",
       "    </tr>\n",
       "    <tr>\n",
       "      <th>4</th>\n",
       "      <td>95</td>\n",
       "      <td>철원</td>\n",
       "      <td>강원지방기상청</td>\n",
       "      <td>강원</td>\n",
       "    </tr>\n",
       "    <tr>\n",
       "      <th>...</th>\n",
       "      <td>...</td>\n",
       "      <td>...</td>\n",
       "      <td>...</td>\n",
       "      <td>...</td>\n",
       "    </tr>\n",
       "    <tr>\n",
       "      <th>90</th>\n",
       "      <td>192</td>\n",
       "      <td>진주</td>\n",
       "      <td>창원기상대</td>\n",
       "      <td>창원</td>\n",
       "    </tr>\n",
       "    <tr>\n",
       "      <th>91</th>\n",
       "      <td>201</td>\n",
       "      <td>강화</td>\n",
       "      <td>인천기상대</td>\n",
       "      <td>인천</td>\n",
       "    </tr>\n",
       "    <tr>\n",
       "      <th>92</th>\n",
       "      <td>202</td>\n",
       "      <td>양평</td>\n",
       "      <td>수도권기상청</td>\n",
       "      <td>수도권</td>\n",
       "    </tr>\n",
       "    <tr>\n",
       "      <th>93</th>\n",
       "      <td>203</td>\n",
       "      <td>이천</td>\n",
       "      <td>수도권기상청</td>\n",
       "      <td>수도권</td>\n",
       "    </tr>\n",
       "    <tr>\n",
       "      <th>94</th>\n",
       "      <td>211</td>\n",
       "      <td>인제</td>\n",
       "      <td>강원지방기상청</td>\n",
       "      <td>강원</td>\n",
       "    </tr>\n",
       "  </tbody>\n",
       "</table>\n",
       "<p>95 rows × 4 columns</p>\n",
       "</div>"
      ],
      "text/plain": [
       "     지점  지점명     관리관서    도\n",
       "0    90   속초  강원지방기상청   강원\n",
       "1   212   홍천    춘천기상대   춘천\n",
       "2    93  북춘천    춘천기상대   춘천\n",
       "3   216   태백  강원지방기상청   강원\n",
       "4    95   철원  강원지방기상청   강원\n",
       "..  ...  ...      ...  ...\n",
       "90  192   진주    창원기상대   창원\n",
       "91  201   강화    인천기상대   인천\n",
       "92  202   양평   수도권기상청  수도권\n",
       "93  203   이천   수도권기상청  수도권\n",
       "94  211   인제  강원지방기상청   강원\n",
       "\n",
       "[95 rows x 4 columns]"
      ]
     },
     "execution_count": 21,
     "metadata": {},
     "output_type": "execute_result"
    }
   ],
   "source": [
    "df_codenn"
   ]
  },
  {
   "cell_type": "code",
   "execution_count": 23,
   "id": "d4dd637d",
   "metadata": {},
   "outputs": [],
   "source": [
    "df_codenn['지점명1'] = df_codenn['도']"
   ]
  },
  {
   "cell_type": "code",
   "execution_count": 24,
   "id": "99b32647",
   "metadata": {},
   "outputs": [
    {
     "data": {
      "text/html": [
       "<div>\n",
       "<style scoped>\n",
       "    .dataframe tbody tr th:only-of-type {\n",
       "        vertical-align: middle;\n",
       "    }\n",
       "\n",
       "    .dataframe tbody tr th {\n",
       "        vertical-align: top;\n",
       "    }\n",
       "\n",
       "    .dataframe thead th {\n",
       "        text-align: right;\n",
       "    }\n",
       "</style>\n",
       "<table border=\"1\" class=\"dataframe\">\n",
       "  <thead>\n",
       "    <tr style=\"text-align: right;\">\n",
       "      <th></th>\n",
       "      <th>지점</th>\n",
       "      <th>지점명</th>\n",
       "      <th>관리관서</th>\n",
       "      <th>도</th>\n",
       "      <th>지점명1</th>\n",
       "    </tr>\n",
       "  </thead>\n",
       "  <tbody>\n",
       "    <tr>\n",
       "      <th>0</th>\n",
       "      <td>90</td>\n",
       "      <td>속초</td>\n",
       "      <td>강원지방기상청</td>\n",
       "      <td>강원</td>\n",
       "      <td>강원</td>\n",
       "    </tr>\n",
       "    <tr>\n",
       "      <th>1</th>\n",
       "      <td>212</td>\n",
       "      <td>홍천</td>\n",
       "      <td>춘천기상대</td>\n",
       "      <td>춘천</td>\n",
       "      <td>춘천</td>\n",
       "    </tr>\n",
       "    <tr>\n",
       "      <th>2</th>\n",
       "      <td>93</td>\n",
       "      <td>북춘천</td>\n",
       "      <td>춘천기상대</td>\n",
       "      <td>춘천</td>\n",
       "      <td>춘천</td>\n",
       "    </tr>\n",
       "    <tr>\n",
       "      <th>3</th>\n",
       "      <td>216</td>\n",
       "      <td>태백</td>\n",
       "      <td>강원지방기상청</td>\n",
       "      <td>강원</td>\n",
       "      <td>강원</td>\n",
       "    </tr>\n",
       "    <tr>\n",
       "      <th>4</th>\n",
       "      <td>95</td>\n",
       "      <td>철원</td>\n",
       "      <td>강원지방기상청</td>\n",
       "      <td>강원</td>\n",
       "      <td>강원</td>\n",
       "    </tr>\n",
       "  </tbody>\n",
       "</table>\n",
       "</div>"
      ],
      "text/plain": [
       "    지점  지점명     관리관서   도 지점명1\n",
       "0   90   속초  강원지방기상청  강원   강원\n",
       "1  212   홍천    춘천기상대  춘천   춘천\n",
       "2   93  북춘천    춘천기상대  춘천   춘천\n",
       "3  216   태백  강원지방기상청  강원   강원\n",
       "4   95   철원  강원지방기상청  강원   강원"
      ]
     },
     "execution_count": 24,
     "metadata": {},
     "output_type": "execute_result"
    }
   ],
   "source": [
    "df_codenn.head()"
   ]
  },
  {
   "cell_type": "code",
   "execution_count": 26,
   "id": "d5a54d01",
   "metadata": {},
   "outputs": [],
   "source": [
    "dic = {\n",
    "    '강원':'강원도',\n",
    "    '춘천':'강원도',\n",
    "    '수도권':'수도권', \n",
    "    '청주기상지청':'충청북도', \n",
    "    '대전':'충청북도',\n",
    "    '전주기상지청':'전라북도',\n",
    "    '대구':'경상북도',\n",
    "    '광주':'전라남도',\n",
    "    '부산':'경상남도',\n",
    "    '홍성':'충청남도',\n",
    "    '안동':'경상북도',\n",
    "    '창원':'경상남도',\n",
    "    '울산':'경상남도',\n",
    "    '목포':'전라남도',\n",
    "    '제주':'제주도',\n",
    "    '인천':'인천시'\n",
    "}"
   ]
  },
  {
   "cell_type": "code",
   "execution_count": 28,
   "id": "6215c752",
   "metadata": {},
   "outputs": [],
   "source": [
    "df_codenn['지점명1']=df_codenn['지점명1'].map(dic)"
   ]
  },
  {
   "cell_type": "code",
   "execution_count": 29,
   "id": "ba9ed813",
   "metadata": {},
   "outputs": [
    {
     "data": {
      "text/html": [
       "<div>\n",
       "<style scoped>\n",
       "    .dataframe tbody tr th:only-of-type {\n",
       "        vertical-align: middle;\n",
       "    }\n",
       "\n",
       "    .dataframe tbody tr th {\n",
       "        vertical-align: top;\n",
       "    }\n",
       "\n",
       "    .dataframe thead th {\n",
       "        text-align: right;\n",
       "    }\n",
       "</style>\n",
       "<table border=\"1\" class=\"dataframe\">\n",
       "  <thead>\n",
       "    <tr style=\"text-align: right;\">\n",
       "      <th></th>\n",
       "      <th>지점</th>\n",
       "      <th>지점명</th>\n",
       "      <th>관리관서</th>\n",
       "      <th>도</th>\n",
       "      <th>지점명1</th>\n",
       "    </tr>\n",
       "  </thead>\n",
       "  <tbody>\n",
       "    <tr>\n",
       "      <th>0</th>\n",
       "      <td>90</td>\n",
       "      <td>속초</td>\n",
       "      <td>강원지방기상청</td>\n",
       "      <td>강원</td>\n",
       "      <td>강원도</td>\n",
       "    </tr>\n",
       "    <tr>\n",
       "      <th>1</th>\n",
       "      <td>212</td>\n",
       "      <td>홍천</td>\n",
       "      <td>춘천기상대</td>\n",
       "      <td>춘천</td>\n",
       "      <td>강원도</td>\n",
       "    </tr>\n",
       "    <tr>\n",
       "      <th>2</th>\n",
       "      <td>93</td>\n",
       "      <td>북춘천</td>\n",
       "      <td>춘천기상대</td>\n",
       "      <td>춘천</td>\n",
       "      <td>강원도</td>\n",
       "    </tr>\n",
       "    <tr>\n",
       "      <th>3</th>\n",
       "      <td>216</td>\n",
       "      <td>태백</td>\n",
       "      <td>강원지방기상청</td>\n",
       "      <td>강원</td>\n",
       "      <td>강원도</td>\n",
       "    </tr>\n",
       "    <tr>\n",
       "      <th>4</th>\n",
       "      <td>95</td>\n",
       "      <td>철원</td>\n",
       "      <td>강원지방기상청</td>\n",
       "      <td>강원</td>\n",
       "      <td>강원도</td>\n",
       "    </tr>\n",
       "    <tr>\n",
       "      <th>...</th>\n",
       "      <td>...</td>\n",
       "      <td>...</td>\n",
       "      <td>...</td>\n",
       "      <td>...</td>\n",
       "      <td>...</td>\n",
       "    </tr>\n",
       "    <tr>\n",
       "      <th>90</th>\n",
       "      <td>192</td>\n",
       "      <td>진주</td>\n",
       "      <td>창원기상대</td>\n",
       "      <td>창원</td>\n",
       "      <td>경상남도</td>\n",
       "    </tr>\n",
       "    <tr>\n",
       "      <th>91</th>\n",
       "      <td>201</td>\n",
       "      <td>강화</td>\n",
       "      <td>인천기상대</td>\n",
       "      <td>인천</td>\n",
       "      <td>인천시</td>\n",
       "    </tr>\n",
       "    <tr>\n",
       "      <th>92</th>\n",
       "      <td>202</td>\n",
       "      <td>양평</td>\n",
       "      <td>수도권기상청</td>\n",
       "      <td>수도권</td>\n",
       "      <td>수도권</td>\n",
       "    </tr>\n",
       "    <tr>\n",
       "      <th>93</th>\n",
       "      <td>203</td>\n",
       "      <td>이천</td>\n",
       "      <td>수도권기상청</td>\n",
       "      <td>수도권</td>\n",
       "      <td>수도권</td>\n",
       "    </tr>\n",
       "    <tr>\n",
       "      <th>94</th>\n",
       "      <td>211</td>\n",
       "      <td>인제</td>\n",
       "      <td>강원지방기상청</td>\n",
       "      <td>강원</td>\n",
       "      <td>강원도</td>\n",
       "    </tr>\n",
       "  </tbody>\n",
       "</table>\n",
       "<p>95 rows × 5 columns</p>\n",
       "</div>"
      ],
      "text/plain": [
       "     지점  지점명     관리관서    도  지점명1\n",
       "0    90   속초  강원지방기상청   강원   강원도\n",
       "1   212   홍천    춘천기상대   춘천   강원도\n",
       "2    93  북춘천    춘천기상대   춘천   강원도\n",
       "3   216   태백  강원지방기상청   강원   강원도\n",
       "4    95   철원  강원지방기상청   강원   강원도\n",
       "..  ...  ...      ...  ...   ...\n",
       "90  192   진주    창원기상대   창원  경상남도\n",
       "91  201   강화    인천기상대   인천   인천시\n",
       "92  202   양평   수도권기상청  수도권   수도권\n",
       "93  203   이천   수도권기상청  수도권   수도권\n",
       "94  211   인제  강원지방기상청   강원   강원도\n",
       "\n",
       "[95 rows x 5 columns]"
      ]
     },
     "execution_count": 29,
     "metadata": {},
     "output_type": "execute_result"
    }
   ],
   "source": [
    "df_codenn"
   ]
  },
  {
   "cell_type": "code",
   "execution_count": 32,
   "id": "8c0964e6",
   "metadata": {},
   "outputs": [
    {
     "data": {
      "text/plain": [
       "속초     1\n",
       "창원     1\n",
       "영덕     1\n",
       "목포     1\n",
       "청송군    1\n",
       "      ..\n",
       "장수     1\n",
       "울릉도    1\n",
       "남원     1\n",
       "원주     1\n",
       "인제     1\n",
       "Name: 지점명, Length: 95, dtype: int64"
      ]
     },
     "execution_count": 32,
     "metadata": {},
     "output_type": "execute_result"
    }
   ],
   "source": [
    "df_codenn['지점명'].value_counts()"
   ]
  },
  {
   "cell_type": "code",
   "execution_count": 33,
   "id": "24d6f121",
   "metadata": {},
   "outputs": [
    {
     "data": {
      "text/plain": [
       "array(['속초', '홍천', '북춘천', '태백', '철원', '정선군', '동두천', '제천', '파주', '보은',\n",
       "       '대관령', '천안', '춘천', '보령', '백령도', '부여', '북강릉', '금산', '강릉', '세종시',\n",
       "       '동해', '부안', '서울시', '임실', '인천시', '정읍', '원주', '남원', '울릉도', '장수',\n",
       "       '수원', '고창군', '영월', '영광군', '충주', '김해시', '서산', '순창군', '울진', '북창원',\n",
       "       '청주', '양산시', '대전시', '보성군', '추풍령', '강진군', '안동', '장흥', '상주', '해남',\n",
       "       '포항', '고흥', '군산', '의령군', '대구시', '함양군', '전주', '광양시', '울산시', '진도군',\n",
       "       '창원', '봉화', '광주시', '영주', '부산시', '문경', '통영', '청송군', '목포', '영덕',\n",
       "       '여수', '의성', '흑산도', '구미', '완도', '영천', '고창', '경주시', '순천', '거창', '홍성',\n",
       "       '합천', '제주', '밀양', '고산', '산청', '성산', '거제', '서귀포', '남해', '진주', '강화',\n",
       "       '양평', '이천', '인제'], dtype=object)"
      ]
     },
     "execution_count": 33,
     "metadata": {},
     "output_type": "execute_result"
    }
   ],
   "source": [
    "df_codenn['지점명'].unique()"
   ]
  },
  {
   "cell_type": "code",
   "execution_count": 35,
   "id": "fdafd5d7",
   "metadata": {},
   "outputs": [
    {
     "data": {
      "text/html": [
       "<div>\n",
       "<style scoped>\n",
       "    .dataframe tbody tr th:only-of-type {\n",
       "        vertical-align: middle;\n",
       "    }\n",
       "\n",
       "    .dataframe tbody tr th {\n",
       "        vertical-align: top;\n",
       "    }\n",
       "\n",
       "    .dataframe thead th {\n",
       "        text-align: right;\n",
       "    }\n",
       "</style>\n",
       "<table border=\"1\" class=\"dataframe\">\n",
       "  <thead>\n",
       "    <tr style=\"text-align: right;\">\n",
       "      <th></th>\n",
       "      <th>지점</th>\n",
       "      <th>지점명</th>\n",
       "      <th>관리관서</th>\n",
       "      <th>도</th>\n",
       "      <th>지점명1</th>\n",
       "    </tr>\n",
       "  </thead>\n",
       "  <tbody>\n",
       "    <tr>\n",
       "      <th>24</th>\n",
       "      <td>112</td>\n",
       "      <td>인천시</td>\n",
       "      <td>수도권기상청</td>\n",
       "      <td>수도권</td>\n",
       "      <td>수도권</td>\n",
       "    </tr>\n",
       "  </tbody>\n",
       "</table>\n",
       "</div>"
      ],
      "text/plain": [
       "     지점  지점명    관리관서    도 지점명1\n",
       "24  112  인천시  수도권기상청  수도권  수도권"
      ]
     },
     "execution_count": 35,
     "metadata": {},
     "output_type": "execute_result"
    }
   ],
   "source": [
    "df_codenn[df_codenn['지점명'] == '인천시']"
   ]
  },
  {
   "cell_type": "code",
   "execution_count": 36,
   "id": "69c05c23",
   "metadata": {},
   "outputs": [
    {
     "data": {
      "text/html": [
       "<div>\n",
       "<style scoped>\n",
       "    .dataframe tbody tr th:only-of-type {\n",
       "        vertical-align: middle;\n",
       "    }\n",
       "\n",
       "    .dataframe tbody tr th {\n",
       "        vertical-align: top;\n",
       "    }\n",
       "\n",
       "    .dataframe thead th {\n",
       "        text-align: right;\n",
       "    }\n",
       "</style>\n",
       "<table border=\"1\" class=\"dataframe\">\n",
       "  <thead>\n",
       "    <tr style=\"text-align: right;\">\n",
       "      <th></th>\n",
       "      <th>지점</th>\n",
       "      <th>지점명</th>\n",
       "      <th>관리관서</th>\n",
       "      <th>도</th>\n",
       "      <th>지점명1</th>\n",
       "    </tr>\n",
       "  </thead>\n",
       "  <tbody>\n",
       "    <tr>\n",
       "      <th>6</th>\n",
       "      <td>98</td>\n",
       "      <td>동두천</td>\n",
       "      <td>수도권기상청</td>\n",
       "      <td>수도권</td>\n",
       "      <td>수도권</td>\n",
       "    </tr>\n",
       "    <tr>\n",
       "      <th>8</th>\n",
       "      <td>99</td>\n",
       "      <td>파주</td>\n",
       "      <td>수도권기상청</td>\n",
       "      <td>수도권</td>\n",
       "      <td>수도권</td>\n",
       "    </tr>\n",
       "    <tr>\n",
       "      <th>14</th>\n",
       "      <td>102</td>\n",
       "      <td>백령도</td>\n",
       "      <td>수도권기상청</td>\n",
       "      <td>수도권</td>\n",
       "      <td>수도권</td>\n",
       "    </tr>\n",
       "    <tr>\n",
       "      <th>22</th>\n",
       "      <td>108</td>\n",
       "      <td>서울시</td>\n",
       "      <td>수도권기상청</td>\n",
       "      <td>수도권</td>\n",
       "      <td>수도권</td>\n",
       "    </tr>\n",
       "    <tr>\n",
       "      <th>24</th>\n",
       "      <td>112</td>\n",
       "      <td>인천시</td>\n",
       "      <td>수도권기상청</td>\n",
       "      <td>수도권</td>\n",
       "      <td>수도권</td>\n",
       "    </tr>\n",
       "    <tr>\n",
       "      <th>30</th>\n",
       "      <td>119</td>\n",
       "      <td>수원</td>\n",
       "      <td>수도권기상청</td>\n",
       "      <td>수도권</td>\n",
       "      <td>수도권</td>\n",
       "    </tr>\n",
       "    <tr>\n",
       "      <th>92</th>\n",
       "      <td>202</td>\n",
       "      <td>양평</td>\n",
       "      <td>수도권기상청</td>\n",
       "      <td>수도권</td>\n",
       "      <td>수도권</td>\n",
       "    </tr>\n",
       "    <tr>\n",
       "      <th>93</th>\n",
       "      <td>203</td>\n",
       "      <td>이천</td>\n",
       "      <td>수도권기상청</td>\n",
       "      <td>수도권</td>\n",
       "      <td>수도권</td>\n",
       "    </tr>\n",
       "  </tbody>\n",
       "</table>\n",
       "</div>"
      ],
      "text/plain": [
       "     지점  지점명    관리관서    도 지점명1\n",
       "6    98  동두천  수도권기상청  수도권  수도권\n",
       "8    99   파주  수도권기상청  수도권  수도권\n",
       "14  102  백령도  수도권기상청  수도권  수도권\n",
       "22  108  서울시  수도권기상청  수도권  수도권\n",
       "24  112  인천시  수도권기상청  수도권  수도권\n",
       "30  119   수원  수도권기상청  수도권  수도권\n",
       "92  202   양평  수도권기상청  수도권  수도권\n",
       "93  203   이천  수도권기상청  수도권  수도권"
      ]
     },
     "execution_count": 36,
     "metadata": {},
     "output_type": "execute_result"
    }
   ],
   "source": [
    "df_codenn[df_codenn['지점명1'] == '수도권']"
   ]
  },
  {
   "cell_type": "code",
   "execution_count": 31,
   "id": "c66ab8c3",
   "metadata": {},
   "outputs": [
    {
     "data": {
      "text/plain": [
       "강원        11\n",
       "대구        11\n",
       "전주기상지청    10\n",
       "수도권        8\n",
       "광주         8\n",
       "대전         6\n",
       "창원         6\n",
       "목포         6\n",
       "청주기상지청     5\n",
       "부산         5\n",
       "울산         5\n",
       "안동         4\n",
       "제주         4\n",
       "춘천         3\n",
       "홍성         2\n",
       "인천         1\n",
       "Name: 도, dtype: int64"
      ]
     },
     "execution_count": 31,
     "metadata": {},
     "output_type": "execute_result"
    }
   ],
   "source": [
    "df_codenn['도'].value_counts()"
   ]
  },
  {
   "cell_type": "code",
   "execution_count": 25,
   "id": "85886e77",
   "metadata": {},
   "outputs": [
    {
     "data": {
      "text/plain": [
       "array(['강원', '춘천', '수도권', '청주기상지청', '대전', '전주기상지청', '대구', '광주', '부산',\n",
       "       '홍성', '안동', '창원', '울산', '목포', '제주', '인천'], dtype=object)"
      ]
     },
     "execution_count": 25,
     "metadata": {},
     "output_type": "execute_result"
    }
   ],
   "source": [
    "df_codenn['도'].unique()"
   ]
  },
  {
   "cell_type": "code",
   "execution_count": 22,
   "id": "6a9de399",
   "metadata": {},
   "outputs": [
    {
     "data": {
      "text/plain": [
       "강원        11\n",
       "대구        11\n",
       "전주기상지청    10\n",
       "수도권        8\n",
       "광주         8\n",
       "대전         6\n",
       "창원         6\n",
       "목포         6\n",
       "청주기상지청     5\n",
       "부산         5\n",
       "울산         5\n",
       "안동         4\n",
       "제주         4\n",
       "춘천         3\n",
       "홍성         2\n",
       "인천         1\n",
       "Name: 도, dtype: int64"
      ]
     },
     "execution_count": 22,
     "metadata": {},
     "output_type": "execute_result"
    }
   ],
   "source": [
    "df_codenn['도'].value_counts()"
   ]
  },
  {
   "cell_type": "code",
   "execution_count": 158,
   "id": "dd0b35b9",
   "metadata": {},
   "outputs": [
    {
     "data": {
      "text/plain": [
       "['강원도',\n",
       " '경기도',\n",
       " '경상남도',\n",
       " '경상북도',\n",
       " '광주시',\n",
       " '대구시',\n",
       " '대전시',\n",
       " '부산시',\n",
       " '서울시',\n",
       " '세종시',\n",
       " '울산시',\n",
       " '인천시',\n",
       " '전라남도',\n",
       " '전라북도',\n",
       " '제주도',\n",
       " '충청남도',\n",
       " '충청북도']"
      ]
     },
     "execution_count": 158,
     "metadata": {},
     "output_type": "execute_result"
    }
   ],
   "source": [
    "area"
   ]
  },
  {
   "cell_type": "code",
   "execution_count": 159,
   "id": "8a391ce3",
   "metadata": {},
   "outputs": [
    {
     "name": "stdout",
     "output_type": "stream",
     "text": [
      "강원도\n",
      "경기도\n",
      "경상남도\n",
      "경상북도\n",
      "전라남도\n",
      "전라북도\n",
      "제주도\n",
      "충청남도\n",
      "충청북도\n"
     ]
    }
   ],
   "source": [
    "for i in area:\n",
    "    if '도' in i:\n",
    "        print(i)"
   ]
  },
  {
   "cell_type": "code",
   "execution_count": 160,
   "id": "e49a3ff7",
   "metadata": {},
   "outputs": [
    {
     "name": "stdout",
     "output_type": "stream",
     "text": [
      "광주시\n",
      "대구시\n",
      "대전시\n",
      "부산시\n",
      "서울시\n",
      "세종시\n",
      "울산시\n",
      "인천시\n"
     ]
    }
   ],
   "source": [
    "for i in area:\n",
    "    if '시' in i:\n",
    "        print(i)"
   ]
  },
  {
   "cell_type": "code",
   "execution_count": 161,
   "id": "69101e46",
   "metadata": {},
   "outputs": [
    {
     "data": {
      "text/plain": [
       "17"
      ]
     },
     "execution_count": 161,
     "metadata": {},
     "output_type": "execute_result"
    }
   ],
   "source": [
    "len(area)"
   ]
  },
  {
   "cell_type": "code",
   "execution_count": 162,
   "id": "4743e94b",
   "metadata": {},
   "outputs": [],
   "source": [
    "tmp = [\n",
    "'강원도',\n",
    "'경기도',\n",
    "'경상남도',\n",
    "'경상북도',\n",
    "'전라남도',\n",
    "'전라북도',\n",
    "'제주도',\n",
    "'충청남도',\n",
    "'충청북도'\n",
    "]"
   ]
  },
  {
   "cell_type": "code",
   "execution_count": null,
   "id": "89ba98eb",
   "metadata": {},
   "outputs": [],
   "source": []
  },
  {
   "cell_type": "code",
   "execution_count": 163,
   "id": "49e7cf45",
   "metadata": {},
   "outputs": [
    {
     "data": {
      "text/html": [
       "<div>\n",
       "<style scoped>\n",
       "    .dataframe tbody tr th:only-of-type {\n",
       "        vertical-align: middle;\n",
       "    }\n",
       "\n",
       "    .dataframe tbody tr th {\n",
       "        vertical-align: top;\n",
       "    }\n",
       "\n",
       "    .dataframe thead th {\n",
       "        text-align: right;\n",
       "    }\n",
       "</style>\n",
       "<table border=\"1\" class=\"dataframe\">\n",
       "  <thead>\n",
       "    <tr style=\"text-align: right;\">\n",
       "      <th></th>\n",
       "      <th>지점</th>\n",
       "      <th>지점명</th>\n",
       "      <th>관리관서</th>\n",
       "      <th>도</th>\n",
       "    </tr>\n",
       "  </thead>\n",
       "  <tbody>\n",
       "    <tr>\n",
       "      <th>0</th>\n",
       "      <td>90</td>\n",
       "      <td>속초</td>\n",
       "      <td>강원지방기상청</td>\n",
       "      <td>강원</td>\n",
       "    </tr>\n",
       "    <tr>\n",
       "      <th>1</th>\n",
       "      <td>212</td>\n",
       "      <td>홍천</td>\n",
       "      <td>춘천기상대</td>\n",
       "      <td>춘천</td>\n",
       "    </tr>\n",
       "    <tr>\n",
       "      <th>2</th>\n",
       "      <td>93</td>\n",
       "      <td>북춘천</td>\n",
       "      <td>춘천기상대</td>\n",
       "      <td>춘천</td>\n",
       "    </tr>\n",
       "    <tr>\n",
       "      <th>3</th>\n",
       "      <td>216</td>\n",
       "      <td>태백</td>\n",
       "      <td>강원지방기상청</td>\n",
       "      <td>강원</td>\n",
       "    </tr>\n",
       "    <tr>\n",
       "      <th>4</th>\n",
       "      <td>95</td>\n",
       "      <td>철원</td>\n",
       "      <td>강원지방기상청</td>\n",
       "      <td>강원</td>\n",
       "    </tr>\n",
       "    <tr>\n",
       "      <th>...</th>\n",
       "      <td>...</td>\n",
       "      <td>...</td>\n",
       "      <td>...</td>\n",
       "      <td>...</td>\n",
       "    </tr>\n",
       "    <tr>\n",
       "      <th>90</th>\n",
       "      <td>192</td>\n",
       "      <td>진주</td>\n",
       "      <td>창원기상대</td>\n",
       "      <td>창원</td>\n",
       "    </tr>\n",
       "    <tr>\n",
       "      <th>91</th>\n",
       "      <td>201</td>\n",
       "      <td>강화</td>\n",
       "      <td>인천기상대</td>\n",
       "      <td>인천</td>\n",
       "    </tr>\n",
       "    <tr>\n",
       "      <th>92</th>\n",
       "      <td>202</td>\n",
       "      <td>양평</td>\n",
       "      <td>수도권기상청</td>\n",
       "      <td>수도권</td>\n",
       "    </tr>\n",
       "    <tr>\n",
       "      <th>93</th>\n",
       "      <td>203</td>\n",
       "      <td>이천</td>\n",
       "      <td>수도권기상청</td>\n",
       "      <td>수도권</td>\n",
       "    </tr>\n",
       "    <tr>\n",
       "      <th>94</th>\n",
       "      <td>211</td>\n",
       "      <td>인제</td>\n",
       "      <td>강원지방기상청</td>\n",
       "      <td>강원</td>\n",
       "    </tr>\n",
       "  </tbody>\n",
       "</table>\n",
       "<p>95 rows × 4 columns</p>\n",
       "</div>"
      ],
      "text/plain": [
       "     지점  지점명     관리관서    도\n",
       "0    90   속초  강원지방기상청   강원\n",
       "1   212   홍천    춘천기상대   춘천\n",
       "2    93  북춘천    춘천기상대   춘천\n",
       "3   216   태백  강원지방기상청   강원\n",
       "4    95   철원  강원지방기상청   강원\n",
       "..  ...  ...      ...  ...\n",
       "90  192   진주    창원기상대   창원\n",
       "91  201   강화    인천기상대   인천\n",
       "92  202   양평   수도권기상청  수도권\n",
       "93  203   이천   수도권기상청  수도권\n",
       "94  211   인제  강원지방기상청   강원\n",
       "\n",
       "[95 rows x 4 columns]"
      ]
     },
     "execution_count": 163,
     "metadata": {},
     "output_type": "execute_result"
    }
   ],
   "source": [
    "df_codenn"
   ]
  },
  {
   "cell_type": "code",
   "execution_count": 173,
   "id": "006189f2",
   "metadata": {},
   "outputs": [],
   "source": [
    "a = list(df_codenn['지점명'] + '시')\n",
    "b = list(df_codenn['도'])"
   ]
  },
  {
   "cell_type": "code",
   "execution_count": 1,
   "id": "ff8ed409",
   "metadata": {},
   "outputs": [
    {
     "ename": "NameError",
     "evalue": "name 'df_codenn' is not defined",
     "output_type": "error",
     "traceback": [
      "\u001b[1;31m---------------------------------------------------------------------------\u001b[0m",
      "\u001b[1;31mNameError\u001b[0m                                 Traceback (most recent call last)",
      "Input \u001b[1;32mIn [1]\u001b[0m, in \u001b[0;36m<cell line: 1>\u001b[1;34m()\u001b[0m\n\u001b[1;32m----> 1\u001b[0m \u001b[43mdf_codenn\u001b[49m[\u001b[38;5;124m'\u001b[39m\u001b[38;5;124m도\u001b[39m\u001b[38;5;124m'\u001b[39m]\u001b[38;5;241m.\u001b[39mvalue_counts()\n",
      "\u001b[1;31mNameError\u001b[0m: name 'df_codenn' is not defined"
     ]
    }
   ],
   "source": [
    "df_codenn['도'].value_counts()"
   ]
  },
  {
   "cell_type": "code",
   "execution_count": 174,
   "id": "7a60f5e6",
   "metadata": {},
   "outputs": [
    {
     "name": "stdout",
     "output_type": "stream",
     "text": [
      "['속초시', '홍천시', '북춘천시', '태백시', '철원시', '정선군시', '동두천시', '제천시', '파주시', '보은시', '대관령시', '천안시', '춘천시', '보령시', '백령도시', '부여시', '북강릉시', '금산시', '강릉시', '세종시시', '동해시', '부안시', '서울시시', '임실시', '인천시시', '정읍시', '원주시', '남원시', '울릉도시', '장수시', '수원시', '고창군시', '영월시', '영광군시', '충주시', '김해시시', '서산시', '순창군시', '울진시', '북창원시', '청주시', '양산시시', '대전시시', '보성군시', '추풍령시', '강진군시', '안동시', '장흥시', '상주시', '해남시', '포항시', '고흥시', '군산시', '의령군시', '대구시시', '함양군시', '전주시', '광양시시', '울산시시', '진도군시', '창원시', '봉화시', '광주시시', '영주시', '부산시시', '문경시', '통영시', '청송군시', '목포시', '영덕시', '여수시', '의성시', '흑산도시', '구미시', '완도시', '영천시', '고창시', '경주시시', '순천시', '거창시', '홍성시', '합천시', '제주시', '밀양시', '고산시', '산청시', '성산시', '거제시', '서귀포시', '남해시', '진주시', '강화시', '양평시', '이천시', '인제시']\n"
     ]
    }
   ],
   "source": [
    "print(a)"
   ]
  },
  {
   "cell_type": "code",
   "execution_count": 175,
   "id": "0ba56ef5",
   "metadata": {},
   "outputs": [
    {
     "name": "stdout",
     "output_type": "stream",
     "text": [
      "https://www.google.co.kr/maps/place/춘천기상대/data=!3m1!4b1!4m5!3m4!1s0x3561e4fc0af0db6f:0xbab1b23ac7d3a32f!8m2!3d37.8051122!4d128.8548214?hl=ko\n"
     ]
    },
    {
     "name": "stderr",
     "output_type": "stream",
     "text": [
      "C:\\Users\\user\\AppData\\Local\\Temp\\ipykernel_9532\\2208926141.py:4: DeprecationWarning: executable_path has been deprecated, please pass in a Service object\n",
      "  driver=webdriver.Chrome('./chromedriver.exe')\n"
     ]
    },
    {
     "name": "stdout",
     "output_type": "stream",
     "text": [
      "0 속초시 강원도\n",
      "1 홍천시외버스터미널 강원도 홍천군 홍천읍 홍천로\n",
      "2 춘천시 강원도\n",
      "3 태백시 강원도\n",
      "4 철원시청\n",
      "5 시즌호텔 강원도 정선군 사북읍 사북리\n",
      "6 동두천시 경기도\n",
      "7 제천시 충청북도\n",
      "8 파주시청\n",
      "9 보은시외버스터미널\n",
      "10 대관령양떼목장 강원도 평창군 대관령면 대관령마루길\n",
      "11 천안시 충청남도\n",
      "12 춘천시 강원도\n",
      "13 보령시 충청남도\n",
      "14 백령도식 냉면\n",
      "15 부여시\n",
      "16 시장 강릉시 북강릉IC\n",
      "17 금산식당\n",
      "18 강릉시 강원도\n",
      "19 세종시시장\n",
      "20 동해시 강원도\n",
      "21 부안시\n",
      "22 서울시시설관리공단\n",
      "23 임실시장 전라북도 임실군 임실읍 이도리\n",
      "24 인천시시설관리공단\n",
      "25 정읍시 전라북도\n",
      "26 원주시 강원도\n",
      "27 남원시 전라북도\n",
      "28 울릉도식당\n",
      "29 장수식당\n",
      "30 수원시 경기도\n",
      "31 부안면 수동리 전라북도 고창군\n",
      "32 영월시네마 강원도 영월군 영월읍 관풍헌길\n",
      "33 영월군시설관리공단 강원도 영월군 영월읍 단종로9번길\n"
     ]
    },
    {
     "ename": "WebDriverException",
     "evalue": "Message: chrome not reachable\n  (Session info: chrome=104.0.5112.101)\nStacktrace:\nBacktrace:\n\tOrdinal0 [0x007778B3+2193587]\n\tOrdinal0 [0x00710681+1771137]\n\tOrdinal0 [0x00624070+802928]\n\tOrdinal0 [0x00619AB2+760498]\n\tOrdinal0 [0x0060CEAF+708271]\n\tOrdinal0 [0x00611142+725314]\n\tOrdinal0 [0x006155C9+742857]\n\tOrdinal0 [0x00625500+808192]\n\tOrdinal0 [0x0067D2C2+1168066]\n\tOrdinal0 [0x0066D5C6+1103302]\n\tOrdinal0 [0x006477E0+948192]\n\tOrdinal0 [0x006486E6+952038]\n\tGetHandleVerifier [0x00A20CB2+2738370]\n\tGetHandleVerifier [0x00A121B8+2678216]\n\tGetHandleVerifier [0x008017AA+512954]\n\tGetHandleVerifier [0x00800856+509030]\n\tOrdinal0 [0x0071743B+1799227]\n\tOrdinal0 [0x0071BB68+1817448]\n\tOrdinal0 [0x0071BC55+1817685]\n\tOrdinal0 [0x00725230+1856048]\n\tBaseThreadInitThunk [0x7519FA29+25]\n\tRtlGetAppContainerNamedObjectPath [0x771E7A9E+286]\n\tRtlGetAppContainerNamedObjectPath [0x771E7A6E+238]\n",
     "output_type": "error",
     "traceback": [
      "\u001b[1;31m---------------------------------------------------------------------------\u001b[0m",
      "\u001b[1;31mWebDriverException\u001b[0m                        Traceback (most recent call last)",
      "Input \u001b[1;32mIn [175]\u001b[0m, in \u001b[0;36m<cell line: 9>\u001b[1;34m()\u001b[0m\n\u001b[0;32m     13\u001b[0m elem\u001b[38;5;241m.\u001b[39msend_keys(a[i])\n\u001b[0;32m     14\u001b[0m time\u001b[38;5;241m.\u001b[39msleep(\u001b[38;5;241m1\u001b[39m)\n\u001b[1;32m---> 15\u001b[0m \u001b[43melem\u001b[49m\u001b[38;5;241;43m.\u001b[39;49m\u001b[43mclick\u001b[49m\u001b[43m(\u001b[49m\u001b[43m)\u001b[49m\n\u001b[0;32m     17\u001b[0m elem\u001b[38;5;241m=\u001b[39mdriver\u001b[38;5;241m.\u001b[39mfind_element(By\u001b[38;5;241m.\u001b[39mCSS_SELECTOR,\u001b[38;5;124m'\u001b[39m\u001b[38;5;124m#sbsg50 > div:nth-child(1) > div:nth-child(1)\u001b[39m\u001b[38;5;124m'\u001b[39m)\n\u001b[0;32m     18\u001b[0m \u001b[38;5;66;03m#print(elem.text)\u001b[39;00m\n",
      "File \u001b[1;32m~\\.conda\\envs\\han\\lib\\site-packages\\selenium\\webdriver\\remote\\webelement.py:88\u001b[0m, in \u001b[0;36mWebElement.click\u001b[1;34m(self)\u001b[0m\n\u001b[0;32m     86\u001b[0m \u001b[38;5;28;01mdef\u001b[39;00m \u001b[38;5;21mclick\u001b[39m(\u001b[38;5;28mself\u001b[39m) \u001b[38;5;241m-\u001b[39m\u001b[38;5;241m>\u001b[39m \u001b[38;5;28;01mNone\u001b[39;00m:\n\u001b[0;32m     87\u001b[0m     \u001b[38;5;124;03m\"\"\"Clicks the element.\"\"\"\u001b[39;00m\n\u001b[1;32m---> 88\u001b[0m     \u001b[38;5;28;43mself\u001b[39;49m\u001b[38;5;241;43m.\u001b[39;49m\u001b[43m_execute\u001b[49m\u001b[43m(\u001b[49m\u001b[43mCommand\u001b[49m\u001b[38;5;241;43m.\u001b[39;49m\u001b[43mCLICK_ELEMENT\u001b[49m\u001b[43m)\u001b[49m\n",
      "File \u001b[1;32m~\\.conda\\envs\\han\\lib\\site-packages\\selenium\\webdriver\\remote\\webelement.py:396\u001b[0m, in \u001b[0;36mWebElement._execute\u001b[1;34m(self, command, params)\u001b[0m\n\u001b[0;32m    394\u001b[0m     params \u001b[38;5;241m=\u001b[39m {}\n\u001b[0;32m    395\u001b[0m params[\u001b[38;5;124m'\u001b[39m\u001b[38;5;124mid\u001b[39m\u001b[38;5;124m'\u001b[39m] \u001b[38;5;241m=\u001b[39m \u001b[38;5;28mself\u001b[39m\u001b[38;5;241m.\u001b[39m_id\n\u001b[1;32m--> 396\u001b[0m \u001b[38;5;28;01mreturn\u001b[39;00m \u001b[38;5;28;43mself\u001b[39;49m\u001b[38;5;241;43m.\u001b[39;49m\u001b[43m_parent\u001b[49m\u001b[38;5;241;43m.\u001b[39;49m\u001b[43mexecute\u001b[49m\u001b[43m(\u001b[49m\u001b[43mcommand\u001b[49m\u001b[43m,\u001b[49m\u001b[43m \u001b[49m\u001b[43mparams\u001b[49m\u001b[43m)\u001b[49m\n",
      "File \u001b[1;32m~\\.conda\\envs\\han\\lib\\site-packages\\selenium\\webdriver\\remote\\webdriver.py:434\u001b[0m, in \u001b[0;36mWebDriver.execute\u001b[1;34m(self, driver_command, params)\u001b[0m\n\u001b[0;32m    432\u001b[0m response \u001b[38;5;241m=\u001b[39m \u001b[38;5;28mself\u001b[39m\u001b[38;5;241m.\u001b[39mcommand_executor\u001b[38;5;241m.\u001b[39mexecute(driver_command, params)\n\u001b[0;32m    433\u001b[0m \u001b[38;5;28;01mif\u001b[39;00m response:\n\u001b[1;32m--> 434\u001b[0m     \u001b[38;5;28;43mself\u001b[39;49m\u001b[38;5;241;43m.\u001b[39;49m\u001b[43merror_handler\u001b[49m\u001b[38;5;241;43m.\u001b[39;49m\u001b[43mcheck_response\u001b[49m\u001b[43m(\u001b[49m\u001b[43mresponse\u001b[49m\u001b[43m)\u001b[49m\n\u001b[0;32m    435\u001b[0m     response[\u001b[38;5;124m'\u001b[39m\u001b[38;5;124mvalue\u001b[39m\u001b[38;5;124m'\u001b[39m] \u001b[38;5;241m=\u001b[39m \u001b[38;5;28mself\u001b[39m\u001b[38;5;241m.\u001b[39m_unwrap_value(\n\u001b[0;32m    436\u001b[0m         response\u001b[38;5;241m.\u001b[39mget(\u001b[38;5;124m'\u001b[39m\u001b[38;5;124mvalue\u001b[39m\u001b[38;5;124m'\u001b[39m, \u001b[38;5;28;01mNone\u001b[39;00m))\n\u001b[0;32m    437\u001b[0m     \u001b[38;5;28;01mreturn\u001b[39;00m response\n",
      "File \u001b[1;32m~\\.conda\\envs\\han\\lib\\site-packages\\selenium\\webdriver\\remote\\errorhandler.py:243\u001b[0m, in \u001b[0;36mErrorHandler.check_response\u001b[1;34m(self, response)\u001b[0m\n\u001b[0;32m    241\u001b[0m         alert_text \u001b[38;5;241m=\u001b[39m value[\u001b[38;5;124m'\u001b[39m\u001b[38;5;124malert\u001b[39m\u001b[38;5;124m'\u001b[39m]\u001b[38;5;241m.\u001b[39mget(\u001b[38;5;124m'\u001b[39m\u001b[38;5;124mtext\u001b[39m\u001b[38;5;124m'\u001b[39m)\n\u001b[0;32m    242\u001b[0m     \u001b[38;5;28;01mraise\u001b[39;00m exception_class(message, screen, stacktrace, alert_text)  \u001b[38;5;66;03m# type: ignore[call-arg]  # mypy is not smart enough here\u001b[39;00m\n\u001b[1;32m--> 243\u001b[0m \u001b[38;5;28;01mraise\u001b[39;00m exception_class(message, screen, stacktrace)\n",
      "\u001b[1;31mWebDriverException\u001b[0m: Message: chrome not reachable\n  (Session info: chrome=104.0.5112.101)\nStacktrace:\nBacktrace:\n\tOrdinal0 [0x007778B3+2193587]\n\tOrdinal0 [0x00710681+1771137]\n\tOrdinal0 [0x00624070+802928]\n\tOrdinal0 [0x00619AB2+760498]\n\tOrdinal0 [0x0060CEAF+708271]\n\tOrdinal0 [0x00611142+725314]\n\tOrdinal0 [0x006155C9+742857]\n\tOrdinal0 [0x00625500+808192]\n\tOrdinal0 [0x0067D2C2+1168066]\n\tOrdinal0 [0x0066D5C6+1103302]\n\tOrdinal0 [0x006477E0+948192]\n\tOrdinal0 [0x006486E6+952038]\n\tGetHandleVerifier [0x00A20CB2+2738370]\n\tGetHandleVerifier [0x00A121B8+2678216]\n\tGetHandleVerifier [0x008017AA+512954]\n\tGetHandleVerifier [0x00800856+509030]\n\tOrdinal0 [0x0071743B+1799227]\n\tOrdinal0 [0x0071BB68+1817448]\n\tOrdinal0 [0x0071BC55+1817685]\n\tOrdinal0 [0x00725230+1856048]\n\tBaseThreadInitThunk [0x7519FA29+25]\n\tRtlGetAppContainerNamedObjectPath [0x771E7A9E+286]\n\tRtlGetAppContainerNamedObjectPath [0x771E7A6E+238]\n"
     ]
    }
   ],
   "source": [
    "search = '춘천기상대'\n",
    "url = 'https://www.google.co.kr/maps/place/'+search+'/data=!3m1!4b1!4m5!3m4!1s0x3561e4fc0af0db6f:0xbab1b23ac7d3a32f!8m2!3d37.8051122!4d128.8548214?hl=ko'\n",
    "print(url)\n",
    "driver=webdriver.Chrome('./chromedriver.exe')\n",
    "driver.get(url)\n",
    "time.sleep(2)\n",
    "\n",
    "res = []\n",
    "for i in range(len(a)):\n",
    "    #새로운 검색어 입력\n",
    "    elem=driver.find_element(By.XPATH,'//*[@id=\"searchboxinput\"]')\n",
    "    elem.clear()\n",
    "    elem.send_keys(a[i])\n",
    "    time.sleep(1)\n",
    "    elem.click()\n",
    "\n",
    "    elem=driver.find_element(By.CSS_SELECTOR,'#sbsg50 > div:nth-child(1) > div:nth-child(1)')\n",
    "    #print(elem.text)\n",
    "    res.append(elem.text)\n",
    "    print(i, elem.text)\n",
    "\n",
    "\n",
    "driver.quit()"
   ]
  },
  {
   "cell_type": "code",
   "execution_count": 170,
   "id": "d3c798bf",
   "metadata": {},
   "outputs": [
    {
     "name": "stdout",
     "output_type": "stream",
     "text": [
      "['속초 강원', '춘천 홍천 가볼만한곳', '북춘천장로교회 강원도 춘천 사농동', '태백 강원', '강원 철원길', '정선군 강원', '동두천 경기도', '청주기상지청 충청북도 청주시 흥덕구 공단로', '파주 경기도', '청주기상지청 충청북도 청주시 흥덕구 공단로', '대관령 강릉시', '대전 천안', '춘천역 강원도 춘천 평화로', '대전 보령', '서울수도권', '대전 부여', '북강릉IC 강릉시', '대전 금산', '강릉 강원', '대전 세종시', '동해 강원', '전주기상지청 전라북도 전주시 덕진구 상가마을길', '서울시', '전주기상지청 전라북도 전주시 덕진구 상가마을길', '서울수도권', '전주기상지청 전라북도 전주시 덕진구 상가마을길', '원주 강원', '전주기상지청 전라북도 전주시 덕진구 상가마을길', '울릉도수산시장 대구 수성구 수성로', '전주기상지청 전라북도 전주시 덕진구 상가마을길', '수원 경기도', 'Google 지도에 누락된 장소를 추가합니다.', '영월 강원', '광주지방법원 전라남도 영광군 영광읍 무령리', '청주기상지청 충청북도 청주시 흥덕구 공단로', '김해시락국밥 부산광역시', '홍성교도소서산지소 충청남도 서산시 성연면 갈현리', '전주기상지청 전라북도 전주시 덕진구 상가마을길', '안동갈비 경상북도 울진군 울진읍 읍내리', '원북농약사 태안군', '청주기상지청 충청북도 청주시 흥덕구 공단로', '양산시 경상남도', '대전', '광주주유소 전라남도 보성군 보성읍 보성리', '청주기상지청 충청북도 청주시 흥덕구 공단로', '목포식당 전라남도 강진군 강진읍 서성리', '안동 안동찜닭', '목포닭집 전라남도 장흥군 대덕읍 신월리', '대구 상주식당', '목포 해남해장국', '대구 포항', '고흥만민물장어 광주 서구 광천동', '전주기상지청 전라북도 전주시 덕진구 상가마을길', '창원 경상남도 의령군 창원', '대구', '창원 함양군', '전주기상지청 전라북도 전주시 덕진구 상가마을길', '광주광역시육아종합지원센터 광주 광산구 첨단강변로', '울산', '목포주점 전라남도 진도군 진도읍 쌍정리', '창원 경상남도 창원시 의창구 용호동', '봉화나물밥 대구 수성구 이천동', '광주시청 경기도 광주 행정타운로', '안동 영주', '부산', '안동문경한우직판장 경산시', '부산 통영', '대구막창 경상북도 청송군 진보면 진안리', '목포항 목포', '대구 영덕', '광주 여수', '의성무침회식당 대구 서구 내당2.3동', '흑산도 광주광역시', '대구 구미', '목포 완도', '대구 영천', '전주기상지청 전라북도 전주시 덕진구 상가마을길', '(주)시사주니어 대구광역시 북구 대현동 경대교(慶大橋)', '광주 순천 거리', '거창집 울산 남구 무거동', '홍성읍 충청남도 홍성', '합천 돼지국밥 울산 남구 삼산동', '제주 제주특별자치도', '밀양시골밥상 울산 중구 태화동 내오산로', '제주 고산', '산청 경상남도', '성산 일출봉 서귀포시', '연제구 거제동 부산', '서귀포 제주', '부산 남해', '창원 진주냉면', '강화도 인천광역시', '양평 경기도', '이천 경기도', '인제 강원']\n"
     ]
    }
   ],
   "source": [
    "print(res)"
   ]
  },
  {
   "cell_type": "code",
   "execution_count": 172,
   "id": "0632042f",
   "metadata": {},
   "outputs": [
    {
     "data": {
      "text/plain": [
       "0      속초시\n",
       "1      홍천시\n",
       "2     북춘천시\n",
       "3      태백시\n",
       "4      철원시\n",
       "      ... \n",
       "90     진주시\n",
       "91     강화시\n",
       "92     양평시\n",
       "93     이천시\n",
       "94     인제시\n",
       "Name: 지점명, Length: 95, dtype: object"
      ]
     },
     "execution_count": 172,
     "metadata": {},
     "output_type": "execute_result"
    }
   ],
   "source": [
    "df_codenn['지점명'] + '시'"
   ]
  },
  {
   "cell_type": "code",
   "execution_count": null,
   "id": "66a295de",
   "metadata": {},
   "outputs": [],
   "source": [
    "print(df_codenn.loc[df_codenn['지점']==i, '지점명'])"
   ]
  },
  {
   "cell_type": "code",
   "execution_count": 38,
   "id": "b28d51a8",
   "metadata": {},
   "outputs": [
    {
     "data": {
      "text/html": [
       "<div>\n",
       "<style scoped>\n",
       "    .dataframe tbody tr th:only-of-type {\n",
       "        vertical-align: middle;\n",
       "    }\n",
       "\n",
       "    .dataframe tbody tr th {\n",
       "        vertical-align: top;\n",
       "    }\n",
       "\n",
       "    .dataframe thead th {\n",
       "        text-align: right;\n",
       "    }\n",
       "</style>\n",
       "<table border=\"1\" class=\"dataframe\">\n",
       "  <thead>\n",
       "    <tr style=\"text-align: right;\">\n",
       "      <th></th>\n",
       "      <th>지점</th>\n",
       "      <th>지점명</th>\n",
       "      <th>관리관서</th>\n",
       "      <th>도</th>\n",
       "      <th>지점명1</th>\n",
       "    </tr>\n",
       "  </thead>\n",
       "  <tbody>\n",
       "    <tr>\n",
       "      <th>6</th>\n",
       "      <td>98</td>\n",
       "      <td>동두천</td>\n",
       "      <td>수도권기상청</td>\n",
       "      <td>수도권</td>\n",
       "      <td>수도권</td>\n",
       "    </tr>\n",
       "    <tr>\n",
       "      <th>8</th>\n",
       "      <td>99</td>\n",
       "      <td>파주</td>\n",
       "      <td>수도권기상청</td>\n",
       "      <td>수도권</td>\n",
       "      <td>수도권</td>\n",
       "    </tr>\n",
       "    <tr>\n",
       "      <th>14</th>\n",
       "      <td>102</td>\n",
       "      <td>백령도</td>\n",
       "      <td>수도권기상청</td>\n",
       "      <td>수도권</td>\n",
       "      <td>수도권</td>\n",
       "    </tr>\n",
       "    <tr>\n",
       "      <th>22</th>\n",
       "      <td>108</td>\n",
       "      <td>서울시</td>\n",
       "      <td>수도권기상청</td>\n",
       "      <td>수도권</td>\n",
       "      <td>수도권</td>\n",
       "    </tr>\n",
       "    <tr>\n",
       "      <th>24</th>\n",
       "      <td>112</td>\n",
       "      <td>인천시</td>\n",
       "      <td>수도권기상청</td>\n",
       "      <td>수도권</td>\n",
       "      <td>수도권</td>\n",
       "    </tr>\n",
       "    <tr>\n",
       "      <th>30</th>\n",
       "      <td>119</td>\n",
       "      <td>수원</td>\n",
       "      <td>수도권기상청</td>\n",
       "      <td>수도권</td>\n",
       "      <td>수도권</td>\n",
       "    </tr>\n",
       "    <tr>\n",
       "      <th>92</th>\n",
       "      <td>202</td>\n",
       "      <td>양평</td>\n",
       "      <td>수도권기상청</td>\n",
       "      <td>수도권</td>\n",
       "      <td>수도권</td>\n",
       "    </tr>\n",
       "    <tr>\n",
       "      <th>93</th>\n",
       "      <td>203</td>\n",
       "      <td>이천</td>\n",
       "      <td>수도권기상청</td>\n",
       "      <td>수도권</td>\n",
       "      <td>수도권</td>\n",
       "    </tr>\n",
       "  </tbody>\n",
       "</table>\n",
       "</div>"
      ],
      "text/plain": [
       "     지점  지점명    관리관서    도 지점명1\n",
       "6    98  동두천  수도권기상청  수도권  수도권\n",
       "8    99   파주  수도권기상청  수도권  수도권\n",
       "14  102  백령도  수도권기상청  수도권  수도권\n",
       "22  108  서울시  수도권기상청  수도권  수도권\n",
       "24  112  인천시  수도권기상청  수도권  수도권\n",
       "30  119   수원  수도권기상청  수도권  수도권\n",
       "92  202   양평  수도권기상청  수도권  수도권\n",
       "93  203   이천  수도권기상청  수도권  수도권"
      ]
     },
     "execution_count": 38,
     "metadata": {},
     "output_type": "execute_result"
    }
   ],
   "source": [
    "df_codenn[df_codenn['도'] == '수도권']"
   ]
  },
  {
   "cell_type": "code",
   "execution_count": 39,
   "id": "c622b944",
   "metadata": {},
   "outputs": [],
   "source": [
    "df_codenn.loc[df_codenn['지점명']=='동두천', '지점명1'] = '경기도'"
   ]
  },
  {
   "cell_type": "code",
   "execution_count": 40,
   "id": "ec51c640",
   "metadata": {},
   "outputs": [
    {
     "data": {
      "text/html": [
       "<div>\n",
       "<style scoped>\n",
       "    .dataframe tbody tr th:only-of-type {\n",
       "        vertical-align: middle;\n",
       "    }\n",
       "\n",
       "    .dataframe tbody tr th {\n",
       "        vertical-align: top;\n",
       "    }\n",
       "\n",
       "    .dataframe thead th {\n",
       "        text-align: right;\n",
       "    }\n",
       "</style>\n",
       "<table border=\"1\" class=\"dataframe\">\n",
       "  <thead>\n",
       "    <tr style=\"text-align: right;\">\n",
       "      <th></th>\n",
       "      <th>지점</th>\n",
       "      <th>지점명</th>\n",
       "      <th>관리관서</th>\n",
       "      <th>도</th>\n",
       "      <th>지점명1</th>\n",
       "    </tr>\n",
       "  </thead>\n",
       "  <tbody>\n",
       "    <tr>\n",
       "      <th>6</th>\n",
       "      <td>98</td>\n",
       "      <td>동두천</td>\n",
       "      <td>수도권기상청</td>\n",
       "      <td>수도권</td>\n",
       "      <td>경기도</td>\n",
       "    </tr>\n",
       "    <tr>\n",
       "      <th>8</th>\n",
       "      <td>99</td>\n",
       "      <td>파주</td>\n",
       "      <td>수도권기상청</td>\n",
       "      <td>수도권</td>\n",
       "      <td>수도권</td>\n",
       "    </tr>\n",
       "    <tr>\n",
       "      <th>14</th>\n",
       "      <td>102</td>\n",
       "      <td>백령도</td>\n",
       "      <td>수도권기상청</td>\n",
       "      <td>수도권</td>\n",
       "      <td>수도권</td>\n",
       "    </tr>\n",
       "    <tr>\n",
       "      <th>22</th>\n",
       "      <td>108</td>\n",
       "      <td>서울시</td>\n",
       "      <td>수도권기상청</td>\n",
       "      <td>수도권</td>\n",
       "      <td>수도권</td>\n",
       "    </tr>\n",
       "    <tr>\n",
       "      <th>24</th>\n",
       "      <td>112</td>\n",
       "      <td>인천시</td>\n",
       "      <td>수도권기상청</td>\n",
       "      <td>수도권</td>\n",
       "      <td>수도권</td>\n",
       "    </tr>\n",
       "    <tr>\n",
       "      <th>30</th>\n",
       "      <td>119</td>\n",
       "      <td>수원</td>\n",
       "      <td>수도권기상청</td>\n",
       "      <td>수도권</td>\n",
       "      <td>수도권</td>\n",
       "    </tr>\n",
       "    <tr>\n",
       "      <th>92</th>\n",
       "      <td>202</td>\n",
       "      <td>양평</td>\n",
       "      <td>수도권기상청</td>\n",
       "      <td>수도권</td>\n",
       "      <td>수도권</td>\n",
       "    </tr>\n",
       "    <tr>\n",
       "      <th>93</th>\n",
       "      <td>203</td>\n",
       "      <td>이천</td>\n",
       "      <td>수도권기상청</td>\n",
       "      <td>수도권</td>\n",
       "      <td>수도권</td>\n",
       "    </tr>\n",
       "  </tbody>\n",
       "</table>\n",
       "</div>"
      ],
      "text/plain": [
       "     지점  지점명    관리관서    도 지점명1\n",
       "6    98  동두천  수도권기상청  수도권  경기도\n",
       "8    99   파주  수도권기상청  수도권  수도권\n",
       "14  102  백령도  수도권기상청  수도권  수도권\n",
       "22  108  서울시  수도권기상청  수도권  수도권\n",
       "24  112  인천시  수도권기상청  수도권  수도권\n",
       "30  119   수원  수도권기상청  수도권  수도권\n",
       "92  202   양평  수도권기상청  수도권  수도권\n",
       "93  203   이천  수도권기상청  수도권  수도권"
      ]
     },
     "execution_count": 40,
     "metadata": {},
     "output_type": "execute_result"
    }
   ],
   "source": [
    "df_codenn[df_codenn['도'] == '수도권']"
   ]
  },
  {
   "cell_type": "code",
   "execution_count": 41,
   "id": "d6be8c77",
   "metadata": {},
   "outputs": [],
   "source": [
    "df_codenn.loc[df_codenn['지점명']=='파주', '지점명1'] = '경기도'\n",
    "df_codenn.loc[df_codenn['지점명']=='백령도', '지점명1'] = '인천시'\n",
    "df_codenn.loc[df_codenn['지점명']=='서울시', '지점명1'] = '서울시'\n",
    "df_codenn.loc[df_codenn['지점명']=='인천시', '지점명1'] = '인천시'\n",
    "df_codenn.loc[df_codenn['지점명']=='수원', '지점명1'] = '경기도'\n",
    "df_codenn.loc[df_codenn['지점명']=='양평', '지점명1'] = '경기도'\n",
    "df_codenn.loc[df_codenn['지점명']=='이천', '지점명1'] = '경기도'"
   ]
  },
  {
   "cell_type": "code",
   "execution_count": 42,
   "id": "234deba0",
   "metadata": {},
   "outputs": [
    {
     "data": {
      "text/html": [
       "<div>\n",
       "<style scoped>\n",
       "    .dataframe tbody tr th:only-of-type {\n",
       "        vertical-align: middle;\n",
       "    }\n",
       "\n",
       "    .dataframe tbody tr th {\n",
       "        vertical-align: top;\n",
       "    }\n",
       "\n",
       "    .dataframe thead th {\n",
       "        text-align: right;\n",
       "    }\n",
       "</style>\n",
       "<table border=\"1\" class=\"dataframe\">\n",
       "  <thead>\n",
       "    <tr style=\"text-align: right;\">\n",
       "      <th></th>\n",
       "      <th>지점</th>\n",
       "      <th>지점명</th>\n",
       "      <th>관리관서</th>\n",
       "      <th>도</th>\n",
       "      <th>지점명1</th>\n",
       "    </tr>\n",
       "  </thead>\n",
       "  <tbody>\n",
       "    <tr>\n",
       "      <th>6</th>\n",
       "      <td>98</td>\n",
       "      <td>동두천</td>\n",
       "      <td>수도권기상청</td>\n",
       "      <td>수도권</td>\n",
       "      <td>경기도</td>\n",
       "    </tr>\n",
       "    <tr>\n",
       "      <th>8</th>\n",
       "      <td>99</td>\n",
       "      <td>파주</td>\n",
       "      <td>수도권기상청</td>\n",
       "      <td>수도권</td>\n",
       "      <td>경기도</td>\n",
       "    </tr>\n",
       "    <tr>\n",
       "      <th>14</th>\n",
       "      <td>102</td>\n",
       "      <td>백령도</td>\n",
       "      <td>수도권기상청</td>\n",
       "      <td>수도권</td>\n",
       "      <td>인천시</td>\n",
       "    </tr>\n",
       "    <tr>\n",
       "      <th>22</th>\n",
       "      <td>108</td>\n",
       "      <td>서울시</td>\n",
       "      <td>수도권기상청</td>\n",
       "      <td>수도권</td>\n",
       "      <td>서울시</td>\n",
       "    </tr>\n",
       "    <tr>\n",
       "      <th>24</th>\n",
       "      <td>112</td>\n",
       "      <td>인천시</td>\n",
       "      <td>수도권기상청</td>\n",
       "      <td>수도권</td>\n",
       "      <td>인천시</td>\n",
       "    </tr>\n",
       "    <tr>\n",
       "      <th>30</th>\n",
       "      <td>119</td>\n",
       "      <td>수원</td>\n",
       "      <td>수도권기상청</td>\n",
       "      <td>수도권</td>\n",
       "      <td>경기도</td>\n",
       "    </tr>\n",
       "    <tr>\n",
       "      <th>92</th>\n",
       "      <td>202</td>\n",
       "      <td>양평</td>\n",
       "      <td>수도권기상청</td>\n",
       "      <td>수도권</td>\n",
       "      <td>경기도</td>\n",
       "    </tr>\n",
       "    <tr>\n",
       "      <th>93</th>\n",
       "      <td>203</td>\n",
       "      <td>이천</td>\n",
       "      <td>수도권기상청</td>\n",
       "      <td>수도권</td>\n",
       "      <td>경기도</td>\n",
       "    </tr>\n",
       "  </tbody>\n",
       "</table>\n",
       "</div>"
      ],
      "text/plain": [
       "     지점  지점명    관리관서    도 지점명1\n",
       "6    98  동두천  수도권기상청  수도권  경기도\n",
       "8    99   파주  수도권기상청  수도권  경기도\n",
       "14  102  백령도  수도권기상청  수도권  인천시\n",
       "22  108  서울시  수도권기상청  수도권  서울시\n",
       "24  112  인천시  수도권기상청  수도권  인천시\n",
       "30  119   수원  수도권기상청  수도권  경기도\n",
       "92  202   양평  수도권기상청  수도권  경기도\n",
       "93  203   이천  수도권기상청  수도권  경기도"
      ]
     },
     "execution_count": 42,
     "metadata": {},
     "output_type": "execute_result"
    }
   ],
   "source": [
    "df_codenn[df_codenn['도'] == '수도권']"
   ]
  },
  {
   "cell_type": "code",
   "execution_count": 44,
   "id": "4e6bbd46",
   "metadata": {},
   "outputs": [
    {
     "data": {
      "text/plain": [
       "경상남도    16\n",
       "경상북도    15\n",
       "강원도     14\n",
       "전라남도    14\n",
       "충청북도    11\n",
       "전라북도    10\n",
       "경기도      5\n",
       "제주도      4\n",
       "인천시      3\n",
       "충청남도     2\n",
       "서울시      1\n",
       "Name: 지점명1, dtype: int64"
      ]
     },
     "execution_count": 44,
     "metadata": {},
     "output_type": "execute_result"
    }
   ],
   "source": [
    "df_codenn['지점명1'].value_counts()"
   ]
  },
  {
   "cell_type": "code",
   "execution_count": 45,
   "id": "03c8d3e2",
   "metadata": {},
   "outputs": [],
   "source": [
    "df_codenn.to_csv('./df_codenn.csv', encoding='euc-kr')"
   ]
  },
  {
   "cell_type": "code",
   "execution_count": 56,
   "id": "9749ac25",
   "metadata": {},
   "outputs": [
    {
     "data": {
      "text/plain": [
       "0      90\n",
       "1     212\n",
       "2      93\n",
       "3     216\n",
       "4      95\n",
       "     ... \n",
       "90    192\n",
       "91    201\n",
       "92    202\n",
       "93    203\n",
       "94    211\n",
       "Name: 지점, Length: 95, dtype: int32"
      ]
     },
     "execution_count": 56,
     "metadata": {},
     "output_type": "execute_result"
    }
   ],
   "source": [
    "df_codenn['지점'].astype('int')"
   ]
  },
  {
   "cell_type": "code",
   "execution_count": 61,
   "id": "6d17a41b",
   "metadata": {},
   "outputs": [],
   "source": [
    "tmp = list(df_codenn['지점'])"
   ]
  },
  {
   "cell_type": "code",
   "execution_count": 65,
   "id": "0c01beb8",
   "metadata": {},
   "outputs": [
    {
     "data": {
      "text/plain": [
       "<AxesSubplot:>"
      ]
     },
     "execution_count": 65,
     "metadata": {},
     "output_type": "execute_result"
    },
    {
     "data": {
      "image/png": "[encoded data removed]",
      "text/plain": [
       "<Figure size 432x288 with 1 Axes>"
      ]
     },
     "metadata": {
      "needs_background": "light"
     },
     "output_type": "display_data"
    }
   ],
   "source": [
    "df_codenn['지점'].plot(kind='bar')"
   ]
  },
  {
   "cell_type": "code",
   "execution_count": 50,
   "id": "1dc6e0bd",
   "metadata": {},
   "outputs": [
    {
     "data": {
      "text/plain": [
       "0      90\n",
       "1     212\n",
       "2      93\n",
       "3     216\n",
       "4      95\n",
       "     ... \n",
       "90    192\n",
       "91    201\n",
       "92    202\n",
       "93    203\n",
       "94    211\n",
       "Name: 지점, Length: 95, dtype: object"
      ]
     },
     "execution_count": 50,
     "metadata": {},
     "output_type": "execute_result"
    }
   ],
   "source": [
    "df_codenn['지점']"
   ]
  },
  {
   "cell_type": "code",
   "execution_count": null,
   "id": "915d8686",
   "metadata": {},
   "outputs": [],
   "source": [
    "df_test = pd.DataFrame"
   ]
  }
 ],
 "metadata": {
  "kernelspec": {
   "display_name": "Python 3 (ipykernel)",
   "language": "python",
   "name": "python3"
  },
  "language_info": {
   "codemirror_mode": {
    "name": "ipython",
    "version": 3
   },
   "file_extension": ".py",
   "mimetype": "text/x-python",
   "name": "python",
   "nbconvert_exporter": "python",
   "pygments_lexer": "ipython3",
   "version": "3.10.4"
  }
 },
 "nbformat": 4,
 "nbformat_minor": 5
}
