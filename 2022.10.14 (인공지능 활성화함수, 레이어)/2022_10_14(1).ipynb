{
 "cells": [
  {
   "cell_type": "markdown",
   "metadata": {},
   "source": [
    "## Part1. 기계학습\n",
    "- 예측과 분류를 하는 모델제작\n",
    "    - 정형데이터 (숫자, 문자, 날짜) : 머신러닝 (통계적, sklearn)\n",
    "    - 비정형데이터 (이미지, 소리, 영상, 문장) : 딥러닝 (인공신경망, tensorflow)\n",
    "\n",
    "    - 지도학습 : y값을 제공함\n",
    "    - 비지도학습 : y값 없음"
   ]
  },
  {
   "cell_type": "markdown",
   "metadata": {},
   "source": [
    "## Part2. 딥러닝기초, 지도학습"
   ]
  },
  {
   "cell_type": "markdown",
   "metadata": {},
   "source": [
    "#### [2-1] 모듈 import\n",
    "- import 폴더명 as 별명 : 폴더명의 __init__.py를 실행\n",
    "- from 폴더명 import 파일명 : 폴더안의 파일명 .py를 실행\n",
    "- 추후에는 설치해야하는 모듈과 버전이 프로젝트에 따라서 계속 달라짐\n",
    "    - 반드시 가상환경을 권장하고, 별도의 txt파일에 설치할 모듈명만 따로 보관"
   ]
  },
  {
   "cell_type": "code",
   "execution_count": 2,
   "metadata": {},
   "outputs": [],
   "source": [
    "import numpy as np\n",
    "import pandas as pd\n",
    "import matplotlib.pyplot as plt\n",
    "import tensorflow as tf\n",
    "from tensorflow.keras.models import Sequential\n",
    "from tensorflow.keras.layers import Dense"
   ]
  },
  {
   "cell_type": "markdown",
   "metadata": {},
   "source": [
    "### Part3. 기계학습에 사용되는 데이터셋\n",
    "- 반드시 array 여야함 (numpy)\n",
    "    - 이미지는 PIL로 open해서 np.array로 배열화를 시키거나 <br>\n",
    "    openCV로 처음부터 array로 읽기 때문에 array에 대한 고민이 없음\n",
    "    - 정형자료중에 pandas로 읽은 자료는 array로 변경해줘야 함\n",
    "- 텐서플로우에 넣는 자료는 텐서형이여야함 (스칼라-벡터-array-텐서)\n",
    "    - array자료를 지정하면 알아서 텐서형으로 변경해줌\n",
    "    - 제작이 끝난 모델에 새로운 자료를 한개만 넣을때는 텐서형이어야함 (사용자가 해줘야함) (model.predict 할때)"
   ]
  },
  {
   "cell_type": "code",
   "execution_count": 5,
   "metadata": {},
   "outputs": [
    {
     "data": {
      "text/html": [
       "<div>\n",
       "<style scoped>\n",
       "    .dataframe tbody tr th:only-of-type {\n",
       "        vertical-align: middle;\n",
       "    }\n",
       "\n",
       "    .dataframe tbody tr th {\n",
       "        vertical-align: top;\n",
       "    }\n",
       "\n",
       "    .dataframe thead th {\n",
       "        text-align: right;\n",
       "    }\n",
       "</style>\n",
       "<table border=\"1\" class=\"dataframe\">\n",
       "  <thead>\n",
       "    <tr style=\"text-align: right;\">\n",
       "      <th></th>\n",
       "      <th>key</th>\n",
       "      <th>age</th>\n",
       "      <th>혈압</th>\n",
       "    </tr>\n",
       "  </thead>\n",
       "  <tbody>\n",
       "    <tr>\n",
       "      <th>0</th>\n",
       "      <td>180.5</td>\n",
       "      <td>20</td>\n",
       "      <td>130</td>\n",
       "    </tr>\n",
       "    <tr>\n",
       "      <th>1</th>\n",
       "      <td>165.0</td>\n",
       "      <td>15</td>\n",
       "      <td>140</td>\n",
       "    </tr>\n",
       "    <tr>\n",
       "      <th>2</th>\n",
       "      <td>160.0</td>\n",
       "      <td>35</td>\n",
       "      <td>135</td>\n",
       "    </tr>\n",
       "    <tr>\n",
       "      <th>3</th>\n",
       "      <td>170.0</td>\n",
       "      <td>15</td>\n",
       "      <td>185</td>\n",
       "    </tr>\n",
       "    <tr>\n",
       "      <th>4</th>\n",
       "      <td>180.0</td>\n",
       "      <td>40</td>\n",
       "      <td>140</td>\n",
       "    </tr>\n",
       "  </tbody>\n",
       "</table>\n",
       "</div>"
      ],
      "text/plain": [
       "     key  age   혈압\n",
       "0  180.5   20  130\n",
       "1  165.0   15  140\n",
       "2  160.0   35  135\n",
       "3  170.0   15  185\n",
       "4  180.0   40  140"
      ]
     },
     "execution_count": 5,
     "metadata": {},
     "output_type": "execute_result"
    }
   ],
   "source": [
    "# 판다스를 array로 변경\n",
    "key = [180.5,165,160,170,180]\n",
    "age = [20,15,35,15,40]\n",
    "혈압 = [130,140,135,185,140]\n",
    "\n",
    "df = pd.DataFrame({'key':key, 'age':age, '혈압':혈압})\n",
    "df"
   ]
  },
  {
   "cell_type": "code",
   "execution_count": 7,
   "metadata": {},
   "outputs": [
    {
     "data": {
      "text/plain": [
       "array([[180.5,  20. ],\n",
       "       [165. ,  15. ],\n",
       "       [160. ,  35. ],\n",
       "       [170. ,  15. ],\n",
       "       [180. ,  40. ]], dtype=float32)"
      ]
     },
     "execution_count": 7,
     "metadata": {},
     "output_type": "execute_result"
    }
   ],
   "source": [
    "x = df[['key','age']].values\n",
    "x = x.astype('float32')\n",
    "x"
   ]
  },
  {
   "cell_type": "code",
   "execution_count": 8,
   "metadata": {},
   "outputs": [
    {
     "data": {
      "text/plain": [
       "array([130, 140, 135, 185, 140], dtype=int64)"
      ]
     },
     "execution_count": 8,
     "metadata": {},
     "output_type": "execute_result"
    }
   ],
   "source": [
    "y = df['혈압'].values\n",
    "y"
   ]
  },
  {
   "cell_type": "code",
   "execution_count": 9,
   "metadata": {},
   "outputs": [
    {
     "data": {
      "text/plain": [
       "(5, 2)"
      ]
     },
     "execution_count": 9,
     "metadata": {},
     "output_type": "execute_result"
    }
   ],
   "source": [
    "x.shape"
   ]
  },
  {
   "cell_type": "code",
   "execution_count": 10,
   "metadata": {},
   "outputs": [
    {
     "data": {
      "text/plain": [
       "(5,)"
      ]
     },
     "execution_count": 10,
     "metadata": {},
     "output_type": "execute_result"
    }
   ],
   "source": [
    "y.shape"
   ]
  },
  {
   "cell_type": "code",
   "execution_count": 11,
   "metadata": {},
   "outputs": [
    {
     "data": {
      "text/plain": [
       "(2,)"
      ]
     },
     "execution_count": 11,
     "metadata": {},
     "output_type": "execute_result"
    }
   ],
   "source": [
    "newX = [170,35]\n",
    "#model.predict(newX)\n",
    "np.shape(newX)"
   ]
  },
  {
   "cell_type": "code",
   "execution_count": 12,
   "metadata": {},
   "outputs": [
    {
     "data": {
      "text/plain": [
       "(1, 2)"
      ]
     },
     "execution_count": 12,
     "metadata": {},
     "output_type": "execute_result"
    }
   ],
   "source": [
    "newX = [[170,35]]\n",
    "#model.predict(newX)\n",
    "np.shape(newX)"
   ]
  },
  {
   "cell_type": "markdown",
   "metadata": {},
   "source": [
    "### Part4. 활성화함수"
   ]
  },
  {
   "cell_type": "markdown",
   "metadata": {},
   "source": [
    "#### [4-1] 회귀분석 (예측)\n",
    "- y값이 무한대의 숫자중에 한개가 나옴 (wx+b, linear구조)\n",
    "- activation = 'linear' 또는 생략"
   ]
  },
  {
   "cell_type": "code",
   "execution_count": 28,
   "metadata": {},
   "outputs": [
    {
     "name": "stdout",
     "output_type": "stream",
     "text": [
      "1/1 [==============================] - 1s 611ms/step - loss: 57579.7617 - accuracy: 0.0000e+00\n",
      "------------\n",
      "1/1 [==============================] - 0s 96ms/step\n",
      "[[ -94.21938]\n",
      " [ -84.13   ]\n",
      " [ -94.03314]\n",
      " [ -86.40271]\n",
      " [-106.16796]]\n",
      "------------\n",
      "1/1 [==============================] - 0s 84ms/step\n"
     ]
    },
    {
     "data": {
      "text/plain": [
       "array([[-103.12399]], dtype=float32)"
      ]
     },
     "execution_count": 28,
     "metadata": {},
     "output_type": "execute_result"
    }
   ],
   "source": [
    "model = Sequential()\n",
    "model.add(Dense(1, input_dim=2, activation='relu')) # input\n",
    "# model.add(Dense(5, activation='relu')) # hidden\n",
    "model.add(Dense(1)) # output\n",
    "# model.add(Dense(1, activation='sigmoid')) # output\n",
    "\n",
    "model.compile(optimizer='adam', loss='mse', metrics=['accuracy'])\n",
    "model.fit(x,y)\n",
    "\n",
    "print('------------')\n",
    "print(model.predict(x))\n",
    "\n",
    "print('------------')\n",
    "newX = [180,35]\n",
    "newX = np.reshape(newX, (1,-1))\n",
    "model.predict(newX)"
   ]
  },
  {
   "cell_type": "code",
   "execution_count": 20,
   "metadata": {},
   "outputs": [
    {
     "name": "stdout",
     "output_type": "stream",
     "text": [
      "\u001b[1;31mInit signature:\u001b[0m\n",
      "\u001b[0mDense\u001b[0m\u001b[1;33m(\u001b[0m\u001b[1;33m\n",
      "\u001b[0m    \u001b[0munits\u001b[0m\u001b[1;33m,\u001b[0m\u001b[1;33m\n",
      "\u001b[0m    \u001b[0mactivation\u001b[0m\u001b[1;33m=\u001b[0m\u001b[1;32mNone\u001b[0m\u001b[1;33m,\u001b[0m\u001b[1;33m\n",
      "\u001b[0m    \u001b[0muse_bias\u001b[0m\u001b[1;33m=\u001b[0m\u001b[1;32mTrue\u001b[0m\u001b[1;33m,\u001b[0m\u001b[1;33m\n",
      "\u001b[0m    \u001b[0mkernel_initializer\u001b[0m\u001b[1;33m=\u001b[0m\u001b[1;34m'glorot_uniform'\u001b[0m\u001b[1;33m,\u001b[0m\u001b[1;33m\n",
      "\u001b[0m    \u001b[0mbias_initializer\u001b[0m\u001b[1;33m=\u001b[0m\u001b[1;34m'zeros'\u001b[0m\u001b[1;33m,\u001b[0m\u001b[1;33m\n",
      "\u001b[0m    \u001b[0mkernel_regularizer\u001b[0m\u001b[1;33m=\u001b[0m\u001b[1;32mNone\u001b[0m\u001b[1;33m,\u001b[0m\u001b[1;33m\n",
      "\u001b[0m    \u001b[0mbias_regularizer\u001b[0m\u001b[1;33m=\u001b[0m\u001b[1;32mNone\u001b[0m\u001b[1;33m,\u001b[0m\u001b[1;33m\n",
      "\u001b[0m    \u001b[0mactivity_regularizer\u001b[0m\u001b[1;33m=\u001b[0m\u001b[1;32mNone\u001b[0m\u001b[1;33m,\u001b[0m\u001b[1;33m\n",
      "\u001b[0m    \u001b[0mkernel_constraint\u001b[0m\u001b[1;33m=\u001b[0m\u001b[1;32mNone\u001b[0m\u001b[1;33m,\u001b[0m\u001b[1;33m\n",
      "\u001b[0m    \u001b[0mbias_constraint\u001b[0m\u001b[1;33m=\u001b[0m\u001b[1;32mNone\u001b[0m\u001b[1;33m,\u001b[0m\u001b[1;33m\n",
      "\u001b[0m    \u001b[1;33m**\u001b[0m\u001b[0mkwargs\u001b[0m\u001b[1;33m,\u001b[0m\u001b[1;33m\n",
      "\u001b[0m\u001b[1;33m)\u001b[0m\u001b[1;33m\u001b[0m\u001b[1;33m\u001b[0m\u001b[0m\n",
      "\u001b[1;31mDocstring:\u001b[0m     \n",
      "Just your regular densely-connected NN layer.\n",
      "\n",
      "`Dense` implements the operation:\n",
      "`output = activation(dot(input, kernel) + bias)`\n",
      "where `activation` is the element-wise activation function\n",
      "passed as the `activation` argument, `kernel` is a weights matrix\n",
      "created by the layer, and `bias` is a bias vector created by the layer\n",
      "(only applicable if `use_bias` is `True`). These are all attributes of\n",
      "`Dense`.\n",
      "\n",
      "Note: If the input to the layer has a rank greater than 2, then `Dense`\n",
      "computes the dot product between the `inputs` and the `kernel` along the\n",
      "last axis of the `inputs` and axis 0 of the `kernel` (using `tf.tensordot`).\n",
      "For example, if input has dimensions `(batch_size, d0, d1)`, then we create\n",
      "a `kernel` with shape `(d1, units)`, and the `kernel` operates along axis 2\n",
      "of the `input`, on every sub-tensor of shape `(1, 1, d1)` (there are\n",
      "`batch_size * d0` such sub-tensors).  The output in this case will have\n",
      "shape `(batch_size, d0, units)`.\n",
      "\n",
      "Besides, layer attributes cannot be modified after the layer has been called\n",
      "once (except the `trainable` attribute).\n",
      "When a popular kwarg `input_shape` is passed, then keras will create\n",
      "an input layer to insert before the current layer. This can be treated\n",
      "equivalent to explicitly defining an `InputLayer`.\n",
      "\n",
      "Example:\n",
      "\n",
      ">>> # Create a `Sequential` model and add a Dense layer as the first layer.\n",
      ">>> model = tf.keras.models.Sequential()\n",
      ">>> model.add(tf.keras.Input(shape=(16,)))\n",
      ">>> model.add(tf.keras.layers.Dense(32, activation='relu'))\n",
      ">>> # Now the model will take as input arrays of shape (None, 16)\n",
      ">>> # and output arrays of shape (None, 32).\n",
      ">>> # Note that after the first layer, you don't need to specify\n",
      ">>> # the size of the input anymore:\n",
      ">>> model.add(tf.keras.layers.Dense(32))\n",
      ">>> model.output_shape\n",
      "(None, 32)\n",
      "\n",
      "Args:\n",
      "  units: Positive integer, dimensionality of the output space.\n",
      "  activation: Activation function to use.\n",
      "    If you don't specify anything, no activation is applied\n",
      "    (ie. \"linear\" activation: `a(x) = x`).\n",
      "  use_bias: Boolean, whether the layer uses a bias vector.\n",
      "  kernel_initializer: Initializer for the `kernel` weights matrix.\n",
      "  bias_initializer: Initializer for the bias vector.\n",
      "  kernel_regularizer: Regularizer function applied to\n",
      "    the `kernel` weights matrix.\n",
      "  bias_regularizer: Regularizer function applied to the bias vector.\n",
      "  activity_regularizer: Regularizer function applied to\n",
      "    the output of the layer (its \"activation\").\n",
      "  kernel_constraint: Constraint function applied to\n",
      "    the `kernel` weights matrix.\n",
      "  bias_constraint: Constraint function applied to the bias vector.\n",
      "\n",
      "Input shape:\n",
      "  N-D tensor with shape: `(batch_size, ..., input_dim)`.\n",
      "  The most common situation would be\n",
      "  a 2D input with shape `(batch_size, input_dim)`.\n",
      "\n",
      "Output shape:\n",
      "  N-D tensor with shape: `(batch_size, ..., units)`.\n",
      "  For instance, for a 2D input with shape `(batch_size, input_dim)`,\n",
      "  the output would have shape `(batch_size, units)`.\n",
      "\u001b[1;31mFile:\u001b[0m           c:\\users\\user\\.conda\\envs\\han\\lib\\site-packages\\keras\\layers\\core\\dense.py\n",
      "\u001b[1;31mType:\u001b[0m           type\n",
      "\u001b[1;31mSubclasses:\u001b[0m     Dense\n"
     ]
    }
   ],
   "source": [
    "?Dense"
   ]
  },
  {
   "cell_type": "code",
   "execution_count": 29,
   "metadata": {},
   "outputs": [
    {
     "name": "stdout",
     "output_type": "stream",
     "text": [
      "Epoch 1/5\n",
      "1/1 [==============================] - 0s 281ms/step - loss: 21710.0000 - accuracy: 0.0000e+00\n",
      "Epoch 2/5\n",
      "1/1 [==============================] - 0s 3ms/step - loss: 21709.7070 - accuracy: 0.0000e+00\n",
      "Epoch 3/5\n",
      "1/1 [==============================] - 0s 4ms/step - loss: 21709.4160 - accuracy: 0.0000e+00\n",
      "Epoch 4/5\n",
      "1/1 [==============================] - 0s 4ms/step - loss: 21709.1211 - accuracy: 0.0000e+00\n",
      "Epoch 5/5\n",
      "1/1 [==============================] - 0s 3ms/step - loss: 21708.8320 - accuracy: 0.0000e+00\n",
      "------------\n",
      "1/1 [==============================] - 0s 49ms/step\n",
      "[[0.00499999]\n",
      " [0.00499999]\n",
      " [0.00499999]\n",
      " [0.00499999]\n",
      " [0.00499999]]\n",
      "------------\n",
      "1/1 [==============================] - 0s 49ms/step\n"
     ]
    },
    {
     "data": {
      "text/plain": [
       "array([[0.00499999]], dtype=float32)"
      ]
     },
     "execution_count": 29,
     "metadata": {},
     "output_type": "execute_result"
    }
   ],
   "source": [
    "model = Sequential()\n",
    "model.add(Dense(1, input_dim=2, activation='relu')) # input\n",
    "# model.add(Dense(5, activation='relu')) # hidden\n",
    "model.add(Dense(1)) # output\n",
    "# model.add(Dense(1, activation='sigmoid')) # output\n",
    "\n",
    "model.compile(optimizer='adam', loss='mse', metrics=['accuracy'])\n",
    "history = model.fit(x,y, epochs=5)\n",
    "\n",
    "print('------------')\n",
    "print(model.predict(x))\n",
    "\n",
    "print('------------')\n",
    "newX = [180,35]\n",
    "newX = np.reshape(newX, (1,-1))\n",
    "model.predict(newX)"
   ]
  },
  {
   "cell_type": "code",
   "execution_count": 30,
   "metadata": {},
   "outputs": [
    {
     "data": {
      "text/plain": [
       "{'loss': [21710.0,\n",
       "  21709.70703125,\n",
       "  21709.416015625,\n",
       "  21709.12109375,\n",
       "  21708.83203125],\n",
       " 'accuracy': [0.0, 0.0, 0.0, 0.0, 0.0]}"
      ]
     },
     "execution_count": 30,
     "metadata": {},
     "output_type": "execute_result"
    }
   ],
   "source": [
    "history.history"
   ]
  },
  {
   "cell_type": "code",
   "execution_count": 34,
   "metadata": {},
   "outputs": [
    {
     "data": {
      "text/plain": [
       "<matplotlib.legend.Legend at 0x1f2a058cd30>"
      ]
     },
     "execution_count": 34,
     "metadata": {},
     "output_type": "execute_result"
    },
    {
     "data": {
      "image/png": "[encoded data removed]",
      "text/plain": [
       "<Figure size 640x480 with 1 Axes>"
      ]
     },
     "metadata": {},
     "output_type": "display_data"
    }
   ],
   "source": [
    "loss = history.history['loss']\n",
    "acc = history.history['accuracy']\n",
    "\n",
    "plt.plot(loss, marker='.', label='loss')\n",
    "plt.plot(acc, marker='.', label='acc')\n",
    "plt.legend(loc='upper right')"
   ]
  },
  {
   "cell_type": "code",
   "execution_count": 35,
   "metadata": {},
   "outputs": [
    {
     "name": "stdout",
     "output_type": "stream",
     "text": [
      "Epoch 1/5\n",
      "1/1 [==============================] - 0s 316ms/step - loss: 21701.3164 - accuracy: 0.0000e+00\n",
      "Epoch 2/5\n",
      "1/1 [==============================] - 0s 4ms/step - loss: 20973.8965 - accuracy: 0.0000e+00\n",
      "Epoch 3/5\n",
      "1/1 [==============================] - 0s 4ms/step - loss: 20256.0859 - accuracy: 0.0000e+00\n",
      "Epoch 4/5\n",
      "1/1 [==============================] - 0s 6ms/step - loss: 19541.9258 - accuracy: 0.0000e+00\n",
      "Epoch 5/5\n",
      "1/1 [==============================] - 0s 7ms/step - loss: 18827.0957 - accuracy: 0.0000e+00\n",
      "Epoch 1/5\n",
      "1/1 [==============================] - 0s 365ms/step - loss: 32851.8945 - accuracy: 0.0000e+00\n",
      "Epoch 2/5\n",
      "1/1 [==============================] - 0s 9ms/step - loss: 32744.2617 - accuracy: 0.0000e+00\n",
      "Epoch 3/5\n",
      "1/1 [==============================] - 0s 8ms/step - loss: 32637.2539 - accuracy: 0.0000e+00\n",
      "Epoch 4/5\n",
      "1/1 [==============================] - 0s 5ms/step - loss: 32530.8711 - accuracy: 0.0000e+00\n",
      "Epoch 5/5\n",
      "1/1 [==============================] - 0s 7ms/step - loss: 32425.1309 - accuracy: 0.0000e+00\n"
     ]
    },
    {
     "data": {
      "text/plain": [
       "<matplotlib.legend.Legend at 0x1f296974c70>"
      ]
     },
     "execution_count": 35,
     "metadata": {},
     "output_type": "execute_result"
    },
    {
     "data": {
      "image/png": "[encoded data removed]",
      "text/plain": [
       "<Figure size 640x480 with 1 Axes>"
      ]
     },
     "metadata": {},
     "output_type": "display_data"
    }
   ],
   "source": [
    "model = Sequential()\n",
    "model.add(Dense(500, input_dim=2, activation='relu')) # input\n",
    "# model.add(Dense(5, activation='relu')) # hidden\n",
    "model.add(Dense(500)) # output\n",
    "# model.add(Dense(1, activation='sigmoid')) # output\n",
    "\n",
    "model.compile(optimizer='adam', loss='mse', metrics=['accuracy'])\n",
    "history = model.fit(x,y, epochs=5)\n",
    "\n",
    "big_loss = history.history['loss']\n",
    "big_acc = history.history['accuracy']\n",
    "\n",
    "plt.plot(big_loss, marker='.', label='loss')\n",
    "plt.plot(big_acc, marker='.', label='acc')\n",
    "\n",
    "model = Sequential()\n",
    "model.add(Dense(5, input_dim=2, activation='relu')) # input\n",
    "# model.add(Dense(5, activation='relu')) # hidden\n",
    "model.add(Dense(5)) # output\n",
    "# model.add(Dense(1, activation='sigmoid')) # output\n",
    "\n",
    "model.compile(optimizer='adam', loss='mse', metrics=['accuracy'])\n",
    "history = model.fit(x,y, epochs=5)\n",
    "\n",
    "small_loss = history.history['loss']\n",
    "small_acc = history.history['accuracy']\n",
    "\n",
    "plt.plot(small_loss, marker='.', label='loss')\n",
    "plt.plot(small_acc, marker='.', label='acc')\n",
    "plt.legend(loc='upper right')"
   ]
  },
  {
   "cell_type": "markdown",
   "metadata": {},
   "source": [
    "### [4-2] 이진분류\n",
    "- y값이 0또는 1 (true,false 또는 yes,no) 중에 1개 값\n",
    "- 활성화함수 계산결과가 0~1 사이값이 나올 수 있도록 하고 (sigmoide가 일반적으로 사용됨) <br>\n",
    "그 숫자값을 0 또는 1로 변경하는 계산식을 사용자가 작성 (예를들어 0.5이상이면 1, 미만이면 0) <br>\n",
    "이때 0.5를 임곗값이라고 함 (임곗값은 사용자가 지정)"
   ]
  },
  {
   "cell_type": "code",
   "execution_count": 39,
   "metadata": {},
   "outputs": [],
   "source": [
    "# 판다스를 array로 변경\n",
    "key = [180.5,165,160,170,180]\n",
    "age = [20,15,35,15,40]\n",
    "혈압유무 = [0,1,1,1,0]\n",
    "\n",
    "df = pd.DataFrame({'key':key, 'age':age, '혈압유무':혈압유무})\n",
    "x = df[['key','age']].values\n",
    "x = x.astype('float32')\n",
    "y = df['혈압유무'].values"
   ]
  },
  {
   "cell_type": "code",
   "execution_count": 46,
   "metadata": {},
   "outputs": [
    {
     "name": "stdout",
     "output_type": "stream",
     "text": [
      "Epoch 1/5\n",
      "1/1 [==============================] - 0s 347ms/step - loss: 19.6023 - accuracy: 0.6000\n",
      "Epoch 2/5\n",
      "1/1 [==============================] - 0s 4ms/step - loss: 19.3743 - accuracy: 0.6000\n",
      "Epoch 3/5\n",
      "1/1 [==============================] - 0s 4ms/step - loss: 19.1463 - accuracy: 0.6000\n",
      "Epoch 4/5\n",
      "1/1 [==============================] - 0s 4ms/step - loss: 18.9183 - accuracy: 0.6000\n",
      "Epoch 5/5\n",
      "1/1 [==============================] - 0s 4ms/step - loss: 18.6903 - accuracy: 0.6000\n",
      "------------\n",
      "1/1 [==============================] - 0s 46ms/step\n",
      "[[1.]\n",
      " [1.]\n",
      " [1.]\n",
      " [1.]\n",
      " [1.]]\n",
      "------------\n",
      "1/1 [==============================] - 0s 68ms/step\n",
      "혈압조심\n"
     ]
    }
   ],
   "source": [
    "model = Sequential()\n",
    "model.add(Dense(5, input_dim=2, activation='relu')) # input\n",
    "model.add(Dense(1, activation='sigmoid')) # output\n",
    "\n",
    "model.compile(optimizer='adam', loss='binary_crossentropy', metrics=['accuracy'])\n",
    "history = model.fit(x,y, epochs=5)\n",
    "\n",
    "print('------------')\n",
    "print(model.predict(x))\n",
    "\n",
    "print('------------')\n",
    "newX = [180,35]\n",
    "newX = np.reshape(newX, (1,-1))\n",
    "result = model.predict(newX)\n",
    "\n",
    "if result > 0.5:\n",
    "    print('혈압조심')\n",
    "else:\n",
    "    print('정상')"
   ]
  },
  {
   "cell_type": "markdown",
   "metadata": {},
   "source": [
    "### [4-4] 다항분류\n",
    "- y값이 2개이상의 카테고리중 어떤 카테고리인가를 분류 <br>\n",
    "예) 색상이 [R, G, B] 일때 R->[1,0,0] / G->[0,1,0] / B->[0,0,1]"
   ]
  },
  {
   "cell_type": "code",
   "execution_count": 48,
   "metadata": {},
   "outputs": [],
   "source": [
    "# 판다스를 array로 변경\n",
    "key = [180.5,165,160,170,180]\n",
    "age = [20,15,35,15,40]\n",
    "혈압정도 = [0,5,1,2,1] # 5점척도 중 어디인가 (카테고리)\n",
    "\n",
    "df = pd.DataFrame({'key':key, 'age':age, '혈압정도':혈압정도})\n",
    "x = df[['key','age']].values\n",
    "x = x.astype('float32')\n",
    "y = df['혈압정도'].values"
   ]
  },
  {
   "cell_type": "markdown",
   "metadata": {},
   "source": [
    "##### 소프트맥스에 사용되는 y값에 대하여\n",
    "- 원핫인코딩 되어 있거나, 해야함\n",
    "- 혈압정도 0~5사이값을 사용하면 준비하는 비트 6개\n",
    "    - 혈압 0, [1,0,0,0,0,0]\n",
    "    - 혈압 1, [0,1,0,0,0,0]\n",
    "    - 혈압 2, [0,0,1,0,0,0]\n",
    "    - 혈압 3, [0,0,0,1,0,0]\n",
    "    - 혈압 4, [0,0,0,0,1,0]\n",
    "    - 혈압 5, [0,0,0,0,0,1]\n",
    "- model.predict는 6개의 비트 각 자리에 확률값으로 나옴 (총합 1)\n",
    "- 원핫인코딩 되있으면 : categorical_crossentropy\n",
    "- 원핫인코딩 안되있으면 : sparse_categorical_crossentropy"
   ]
  },
  {
   "cell_type": "code",
   "execution_count": 52,
   "metadata": {},
   "outputs": [
    {
     "name": "stdout",
     "output_type": "stream",
     "text": [
      "Epoch 1/5\n",
      "1/1 [==============================] - 0s 262ms/step - loss: 29.5945 - accuracy: 0.2000\n",
      "Epoch 2/5\n",
      "1/1 [==============================] - 0s 4ms/step - loss: 29.4039 - accuracy: 0.2000\n",
      "Epoch 3/5\n",
      "1/1 [==============================] - 0s 4ms/step - loss: 29.2140 - accuracy: 0.2000\n",
      "Epoch 4/5\n",
      "1/1 [==============================] - 0s 6ms/step - loss: 29.0247 - accuracy: 0.2000\n",
      "Epoch 5/5\n",
      "1/1 [==============================] - 0s 5ms/step - loss: 28.8360 - accuracy: 0.2000\n",
      "------------\n",
      "1/1 [==============================] - 0s 152ms/step\n",
      "[[1.00000000e+00 2.99269209e-13 3.91973403e-23 1.18335975e-23\n",
      "  1.38754851e-28 3.49226173e-22]\n",
      " [1.00000000e+00 1.88228404e-12 1.05163211e-21 3.42564300e-22\n",
      "  8.28316431e-27 8.15016776e-21]\n",
      " [1.00000000e+00 2.28056990e-10 5.60608467e-18 2.22675015e-18\n",
      "  3.55705384e-22 3.02000333e-17]\n",
      " [1.00000000e+00 7.60003985e-13 2.07633125e-22 6.51465128e-23\n",
      "  1.10236243e-27 1.72369233e-21]\n",
      " [1.00000000e+00 1.60302344e-11 4.85221207e-20 1.72695101e-20\n",
      "  9.70201686e-25 3.19679664e-19]]\n",
      "------------\n",
      "1/1 [==============================] - 0s 68ms/step\n"
     ]
    },
    {
     "data": {
      "text/plain": [
       "'안전'"
      ]
     },
     "execution_count": 52,
     "metadata": {},
     "output_type": "execute_result"
    }
   ],
   "source": [
    "model = Sequential()\n",
    "model.add(Dense(5, input_dim=2, activation='relu')) # input\n",
    "model.add(Dense(6, activation='softmax')) # output\n",
    "\n",
    "# 원핫인코딩 되있으면 : categorical_crossentropy\n",
    "# 원핫인코딩 안되있으면 : sparse_categorical_crossentropy\n",
    "model.compile(optimizer='adam', loss='sparse_categorical_crossentropy', metrics=['accuracy'])\n",
    "history = model.fit(x,y, epochs=5)\n",
    "\n",
    "print('------------')\n",
    "print(model.predict(x))\n",
    "\n",
    "print('------------')\n",
    "newX = [180,35]\n",
    "newX = np.reshape(newX, (1,-1))\n",
    "result = model.predict(newX)\n",
    "predict_num = np.argmax(result)\n",
    "\n",
    "class_name = ['안전','보통','경증','경고','위험','중증']\n",
    "class_name[predict_num]"
   ]
  },
  {
   "cell_type": "code",
   "execution_count": 50,
   "metadata": {},
   "outputs": [
    {
     "name": "stdout",
     "output_type": "stream",
     "text": [
      "1/1 [==============================] - 0s 32ms/step\n"
     ]
    },
    {
     "data": {
      "text/plain": [
       "array([0.99999994, 1.        , 1.        , 1.        , 1.        ],\n",
       "      dtype=float32)"
      ]
     },
     "execution_count": 50,
     "metadata": {},
     "output_type": "execute_result"
    }
   ],
   "source": [
    "np.sum(model.predict(x), axis=1)"
   ]
  },
  {
   "cell_type": "code",
   "execution_count": null,
   "metadata": {},
   "outputs": [],
   "source": []
  }
 ],
 "metadata": {
  "kernelspec": {
   "display_name": "Python 3.10.4 ('han')",
   "language": "python",
   "name": "python3"
  },
  "language_info": {
   "codemirror_mode": {
    "name": "ipython",
    "version": 3
   },
   "file_extension": ".py",
   "mimetype": "text/x-python",
   "name": "python",
   "nbconvert_exporter": "python",
   "pygments_lexer": "ipython3",
   "version": "3.10.4"
  },
  "orig_nbformat": 4,
  "vscode": {
   "interpreter": {
    "hash": "9ffd841040af6bedd50cabf1584399d13f777232c008d7c4ad470663779a547a"
   }
  }
 },
 "nbformat": 4,
 "nbformat_minor": 2
}
