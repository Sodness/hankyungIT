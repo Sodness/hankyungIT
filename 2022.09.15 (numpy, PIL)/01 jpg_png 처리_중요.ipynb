{
 "cells": [
  {
   "cell_type": "markdown",
   "id": "30762f52",
   "metadata": {},
   "source": [
    "##### 이미지자료\n",
    "- 프로그램은 확장자 (.뒤에글자)로서 연결할 프로그램을 찾음\n",
    "- 하지만 프로그램의 성격은 저장시에 헤더값(soi)으로 같이 저장됨으로 프로그램실행시에 이 헤더값(soi)을 확인해서 그 헤더값에 따라 파일의 종류를 알게됨.  즉 엑셀자료 .xlsx를 확장자만 .jpg로 변경하면 실행프로그램은 그림판이 실행되지만\n",
    "- 프로그램을 열면서 헤더를 보면 엑셀자료이기때문에 그림판에서 '손상된 자료로' 나옴\n",
    "- 인공지능에서 처리되는 이미지는 일반적으로 jpg임. jpg의 헤더가 일치하는 자료의 모음이 필요함\n"
   ]
  },
  {
   "cell_type": "code",
   "execution_count": 7,
   "id": "ad47ebc6",
   "metadata": {},
   "outputs": [
    {
     "name": "stdout",
     "output_type": "stream",
     "text": [
      "(8, 8, 4)\n"
     ]
    },
    {
     "data": {
      "text/plain": [
       "(PIL.Image.Image,\n",
       " array([[[  0,   0,   0,   0],\n",
       "         [  0,   0,   0,   0],\n",
       "         [  0,   0,   0,   0],\n",
       "         [  0,   0,   0,   0],\n",
       "         [  0,   0,   0,   0],\n",
       "         [  0,   0,   0,   0],\n",
       "         [171, 176, 176,  55],\n",
       "         [150, 150, 152, 102]],\n",
       " \n",
       "        [[  0,   0,   0,   0],\n",
       "         [  0,   0,   0,   0],\n",
       "         [  0,   0,   0,   0],\n",
       "         [  0,   0,   0,   0],\n",
       "         [  0,   0,   0,   0],\n",
       "         [179, 183, 183,  71],\n",
       "         [130, 132, 134, 194],\n",
       "         [146, 146, 146,  40]],\n",
       " \n",
       "        [[  0,   0,   0,   0],\n",
       "         [  0,   0,   0,   0],\n",
       "         [  0,   0,   0,   0],\n",
       "         [  0,   0,   0,   0],\n",
       "         [188, 188, 188,  61],\n",
       "         [127, 131, 132, 188],\n",
       "         [ 73,  80,  87,  38],\n",
       "         [  0,   0,   0,   0]],\n",
       " \n",
       "        [[  0,   0,   0,   0],\n",
       "         [  0,   0,   0,   0],\n",
       "         [  0,   0,   0,   0],\n",
       "         [ 67,  67,  67,  57],\n",
       "         [ 97, 100, 103, 193],\n",
       "         [ 92,  99,  99,  36],\n",
       "         [  0,   0,   0,   0],\n",
       "         [  0,   0,   0,   0]],\n",
       " \n",
       "        [[  0,   0,   0,   0],\n",
       "         [  0,   0,   0,   0],\n",
       "         [ 68,  72,  77,  56],\n",
       "         [ 67,  71,  73, 200],\n",
       "         [ 63,  69,  74,  48],\n",
       "         [  0,   0,   0,   0],\n",
       "         [  0,   0,   0,   0],\n",
       "         [  0,   0,   0,   0]],\n",
       " \n",
       "        [[  0,   0,   0,   0],\n",
       "         [ 66,  71,  71,  61],\n",
       "         [ 79,  84,  88, 211],\n",
       "         [ 85,  89,  93,  57],\n",
       "         [  0,   0,   0,   0],\n",
       "         [  0,   0,   0,   0],\n",
       "         [  0,   0,   0,   0],\n",
       "         [  0,   0,   0,   0]],\n",
       " \n",
       "        [[120, 120, 120,  38],\n",
       "         [ 67,  69,  71, 186],\n",
       "         [ 86,  90,  94,  65],\n",
       "         [  0,   0,   0,   0],\n",
       "         [  0,   0,   0,   0],\n",
       "         [  0,   0,   0,   0],\n",
       "         [  0,   0,   0,   0],\n",
       "         [  0,   0,   0,   0]],\n",
       " \n",
       "        [[143, 147, 147,  71],\n",
       "         [131, 131, 131,  33],\n",
       "         [  0,   0,   0,   0],\n",
       "         [  0,   0,   0,   0],\n",
       "         [  0,   0,   0,   0],\n",
       "         [  0,   0,   0,   0],\n",
       "         [  0,   0,   0,   0],\n",
       "         [  0,   0,   0,   0]]], dtype=uint8))"
      ]
     },
     "execution_count": 7,
     "metadata": {},
     "output_type": "execute_result"
    }
   ],
   "source": [
    "from PIL import Image\n",
    "import numpy as np\n",
    "import matplotlib.pyplot as plt\n",
    "img=Image.open('./img/pen.png')\n",
    "img=img.resize((8,8))\n",
    "print(np.shape(img))\n",
    "img\n",
    "\n",
    "type(img),np.array(img)"
   ]
  },
  {
   "cell_type": "code",
   "execution_count": 8,
   "id": "aa9c87dd",
   "metadata": {
    "scrolled": true
   },
   "outputs": [
    {
     "name": "stdout",
     "output_type": "stream",
     "text": [
      "(600, 600, 3)\n",
      "(8, 8, 3)\n",
      "[[[255 255 255]\n",
      "  [255 255 255]\n",
      "  [255 255 255]\n",
      "  [255 255 255]\n",
      "  [255 255 255]\n",
      "  [254 254 254]\n",
      "  [255 255 255]\n",
      "  [255 255 255]]\n",
      "\n",
      " [[255 255 255]\n",
      "  [255 255 255]\n",
      "  [255 255 255]\n",
      "  [255 255 255]\n",
      "  [193 193 193]\n",
      "  [218 218 218]\n",
      "  [255 255 255]\n",
      "  [255 255 255]]\n",
      "\n",
      " [[255 255 255]\n",
      "  [255 255 255]\n",
      "  [255 255 255]\n",
      "  [255 255 255]\n",
      "  [182 182 182]\n",
      "  [238 238 238]\n",
      "  [255 255 255]\n",
      "  [255 255 255]]\n",
      "\n",
      " [[255 255 255]\n",
      "  [255 255 255]\n",
      "  [255 255 255]\n",
      "  [249 249 249]\n",
      "  [218 218 218]\n",
      "  [255 255 255]\n",
      "  [255 255 255]\n",
      "  [255 255 255]]\n",
      "\n",
      " [[255 255 255]\n",
      "  [255 255 255]\n",
      "  [255 255 255]\n",
      "  [227 227 227]\n",
      "  [251 251 251]\n",
      "  [255 255 255]\n",
      "  [255 255 255]\n",
      "  [255 255 255]]\n",
      "\n",
      " [[255 255 255]\n",
      "  [255 255 255]\n",
      "  [239 239 239]\n",
      "  [177 177 177]\n",
      "  [255 255 255]\n",
      "  [255 255 255]\n",
      "  [255 255 255]\n",
      "  [255 255 255]]\n",
      "\n",
      " [[255 255 255]\n",
      "  [255 255 255]\n",
      "  [231 231 231]\n",
      "  [223 223 223]\n",
      "  [254 254 254]\n",
      "  [255 255 255]\n",
      "  [255 255 255]\n",
      "  [255 255 255]]\n",
      "\n",
      " [[255 255 255]\n",
      "  [255 255 255]\n",
      "  [254 254 254]\n",
      "  [255 255 255]\n",
      "  [255 255 255]\n",
      "  [255 255 255]\n",
      "  [255 255 255]\n",
      "  [255 255 255]]]\n"
     ]
    },
    {
     "data": {
      "text/plain": [
       "<matplotlib.image.AxesImage at 0x21d53e2bd90>"
      ]
     },
     "execution_count": 8,
     "metadata": {},
     "output_type": "execute_result"
    },
    {
     "data": {
      "image/png": "[encoded data removed]",
      "text/plain": [
       "<Figure size 432x288 with 1 Axes>"
      ]
     },
     "metadata": {
      "needs_background": "light"
     },
     "output_type": "display_data"
    }
   ],
   "source": [
    "from PIL import Image\n",
    "import numpy as np\n",
    "img=Image.open('./img/pen.jpg')\n",
    "print(np.shape(img))\n",
    "img=img.resize((8,8))\n",
    "print(np.shape(img))\n",
    "print(np.array(img))\n",
    "plt.imshow(img)"
   ]
  },
  {
   "cell_type": "code",
   "execution_count": 3,
   "id": "b9f0af2f",
   "metadata": {},
   "outputs": [
    {
     "name": "stdout",
     "output_type": "stream",
     "text": [
      "(8, 8, 4)\n"
     ]
    },
    {
     "data": {
      "text/plain": [
       "array([[[255, 255, 255, 255],\n",
       "        [255, 255, 255, 255],\n",
       "        [255, 255, 255, 255],\n",
       "        [255, 255, 255, 255],\n",
       "        [255, 255, 255, 255],\n",
       "        [255, 255, 255, 255],\n",
       "        [255, 255, 255, 255],\n",
       "        [255, 255, 255, 255]],\n",
       "\n",
       "       [[255, 255, 255, 255],\n",
       "        [255, 255, 255, 255],\n",
       "        [255, 255, 255, 255],\n",
       "        [255, 255, 255, 255],\n",
       "        [255, 255, 255, 255],\n",
       "        [255, 255, 255, 255],\n",
       "        [255, 255, 255, 255],\n",
       "        [255, 255, 255, 255]],\n",
       "\n",
       "       [[255, 255, 255, 255],\n",
       "        [223, 226, 227, 255],\n",
       "        [139, 175, 192, 255],\n",
       "        [122, 170, 191, 255],\n",
       "        [168, 190, 200, 255],\n",
       "        [243, 240, 239, 255],\n",
       "        [204, 207, 209, 255],\n",
       "        [251, 251, 251, 255]],\n",
       "\n",
       "       [[213, 218, 220, 255],\n",
       "        [ 42, 136, 176, 255],\n",
       "        [  0, 157, 230, 255],\n",
       "        [  0, 159, 232, 255],\n",
       "        [  0, 154, 224, 255],\n",
       "        [ 61, 141, 175, 255],\n",
       "        [117, 157, 174, 255],\n",
       "        [254, 254, 254, 255]],\n",
       "\n",
       "       [[234, 235, 235, 255],\n",
       "        [115, 168, 191, 255],\n",
       "        [ 23, 147, 201, 255],\n",
       "        [  7, 150, 213, 255],\n",
       "        [ 20, 147, 202, 255],\n",
       "        [128, 172, 192, 255],\n",
       "        [159, 172, 177, 255],\n",
       "        [251, 251, 251, 255]],\n",
       "\n",
       "       [[255, 255, 255, 255],\n",
       "        [255, 254, 252, 255],\n",
       "        [222, 222, 222, 255],\n",
       "        [200, 208, 211, 255],\n",
       "        [220, 221, 221, 255],\n",
       "        [255, 255, 254, 255],\n",
       "        [247, 246, 245, 255],\n",
       "        [253, 253, 253, 255]],\n",
       "\n",
       "       [[255, 255, 255, 255],\n",
       "        [255, 255, 255, 255],\n",
       "        [255, 255, 255, 255],\n",
       "        [255, 255, 255, 255],\n",
       "        [255, 255, 255, 255],\n",
       "        [255, 255, 255, 255],\n",
       "        [255, 255, 255, 255],\n",
       "        [255, 255, 255, 255]],\n",
       "\n",
       "       [[255, 255, 255, 255],\n",
       "        [255, 255, 255, 255],\n",
       "        [255, 255, 255, 255],\n",
       "        [255, 255, 255, 255],\n",
       "        [255, 255, 255, 255],\n",
       "        [255, 255, 255, 255],\n",
       "        [255, 255, 255, 255],\n",
       "        [255, 255, 255, 255]]], dtype=uint8)"
      ]
     },
     "execution_count": 3,
     "metadata": {},
     "output_type": "execute_result"
    }
   ],
   "source": [
    "from PIL import Image\n",
    "import numpy as np\n",
    "img=Image.open('고등어.png')  # 4채널이지만 투명배경을 지원하지 않는 자료\n",
    "img=img.resize((8,8))\n",
    "print(np.shape(img))\n",
    "np.array(img)"
   ]
  },
  {
   "cell_type": "code",
   "execution_count": 4,
   "id": "b1cee74a",
   "metadata": {},
   "outputs": [
    {
     "name": "stdout",
     "output_type": "stream",
     "text": [
      "(8, 8, 4)\n"
     ]
    },
    {
     "data": {
      "text/plain": [
       "array([[[255, 255, 255, 255],\n",
       "        [255, 255, 255, 255],\n",
       "        [255, 255, 255, 255],\n",
       "        [255, 255, 255, 255],\n",
       "        [255, 255, 255, 255],\n",
       "        [255, 255, 255, 255],\n",
       "        [255, 255, 255, 255],\n",
       "        [255, 255, 255, 255]],\n",
       "\n",
       "       [[255, 255, 255, 255],\n",
       "        [255, 255, 255, 255],\n",
       "        [255, 255, 255, 255],\n",
       "        [255, 255, 255, 255],\n",
       "        [255, 255, 255, 255],\n",
       "        [255, 255, 255, 255],\n",
       "        [255, 255, 255, 255],\n",
       "        [255, 255, 255, 255]],\n",
       "\n",
       "       [[255, 255, 255, 255],\n",
       "        [223, 226, 227, 255],\n",
       "        [139, 175, 192, 255],\n",
       "        [122, 170, 191, 255],\n",
       "        [168, 190, 200, 255],\n",
       "        [243, 240, 239, 255],\n",
       "        [204, 207, 209, 255],\n",
       "        [251, 251, 251, 255]],\n",
       "\n",
       "       [[213, 218, 220, 255],\n",
       "        [ 42, 136, 176, 255],\n",
       "        [  0, 157, 230, 255],\n",
       "        [  0, 159, 232, 255],\n",
       "        [  0, 154, 224, 255],\n",
       "        [ 61, 141, 175, 255],\n",
       "        [117, 157, 174, 255],\n",
       "        [254, 254, 254, 255]],\n",
       "\n",
       "       [[234, 235, 235, 255],\n",
       "        [115, 168, 191, 255],\n",
       "        [ 23, 147, 201, 255],\n",
       "        [  7, 150, 213, 255],\n",
       "        [ 20, 147, 202, 255],\n",
       "        [128, 172, 192, 255],\n",
       "        [159, 172, 177, 255],\n",
       "        [251, 251, 251, 255]],\n",
       "\n",
       "       [[255, 255, 255, 255],\n",
       "        [255, 254, 252, 255],\n",
       "        [222, 222, 222, 255],\n",
       "        [200, 208, 211, 255],\n",
       "        [220, 221, 221, 255],\n",
       "        [255, 255, 254, 255],\n",
       "        [247, 246, 245, 255],\n",
       "        [253, 253, 253, 255]],\n",
       "\n",
       "       [[255, 255, 255, 255],\n",
       "        [255, 255, 255, 255],\n",
       "        [255, 255, 255, 255],\n",
       "        [255, 255, 255, 255],\n",
       "        [255, 255, 255, 255],\n",
       "        [255, 255, 255, 255],\n",
       "        [255, 255, 255, 255],\n",
       "        [255, 255, 255, 255]],\n",
       "\n",
       "       [[255, 255, 255, 255],\n",
       "        [255, 255, 255, 255],\n",
       "        [255, 255, 255, 255],\n",
       "        [255, 255, 255, 255],\n",
       "        [255, 255, 255, 255],\n",
       "        [255, 255, 255, 255],\n",
       "        [255, 255, 255, 255],\n",
       "        [255, 255, 255, 255]]], dtype=uint8)"
      ]
     },
     "execution_count": 4,
     "metadata": {},
     "output_type": "execute_result"
    }
   ],
   "source": [
    "from PIL import Image\n",
    "import numpy as np\n",
    "img=Image.open('고등어.jpg')  # 4채널이지만 투명배경을 지원하지 않는 자료\n",
    "img=img.resize((8,8))\n",
    "print(np.shape(img))\n",
    "np.array(img)"
   ]
  },
  {
   "cell_type": "code",
   "execution_count": 5,
   "id": "90dc1faa",
   "metadata": {},
   "outputs": [
    {
     "name": "stdout",
     "output_type": "stream",
     "text": [
      "<class 'list'> (1, 8, 8, 4)\n",
      "<class 'list'> (2, 8, 8, 4)\n"
     ]
    },
    {
     "data": {
      "text/plain": [
       "<matplotlib.image.AxesImage at 0x269d1bc37f0>"
      ]
     },
     "execution_count": 5,
     "metadata": {},
     "output_type": "execute_result"
    },
    {
     "data": {
      "image/png": "[encoded data removed]",
      "text/plain": [
       "<Figure size 640x480 with 1 Axes>"
      ]
     },
     "metadata": {},
     "output_type": "display_data"
    }
   ],
   "source": [
    "#### npy와 같은 배열자료로 갖고 다닐수 있음.\n",
    "### 성격과 배열갯수가 같아야함.\n",
    "\n",
    "imgs=[]\n",
    "img=Image.open('./img/pen.png')  #4채널\n",
    "img=img.resize((8,8))\n",
    "img=np.array(img)\n",
    "imgs.append(img)\n",
    "print(type(imgs),np.shape(imgs))\n",
    "\n",
    "img=Image.open('./img/고등어.png')  #4채널\n",
    "img=img.resize((8,8))\n",
    "img=np.array(img)\n",
    "imgs.append(img)\n",
    "print(type(imgs),np.shape(imgs))\n",
    "\n",
    "import matplotlib.pyplot as plt\n",
    "plt.imshow(imgs[1])"
   ]
  },
  {
   "cell_type": "code",
   "execution_count": 6,
   "id": "ce93f93c",
   "metadata": {},
   "outputs": [
    {
     "data": {
      "text/plain": [
       "[array([[[  0,   0,   0,   0],\n",
       "         [  0,   0,   0,   0],\n",
       "         [  0,   0,   0,   0],\n",
       "         [  0,   0,   0,   0],\n",
       "         [  0,   0,   0,   0],\n",
       "         [  0,   0,   0,   0],\n",
       "         [171, 176, 176,  55],\n",
       "         [150, 150, 152, 102]],\n",
       " \n",
       "        [[  0,   0,   0,   0],\n",
       "         [  0,   0,   0,   0],\n",
       "         [  0,   0,   0,   0],\n",
       "         [  0,   0,   0,   0],\n",
       "         [  0,   0,   0,   0],\n",
       "         [179, 183, 183,  71],\n",
       "         [130, 132, 134, 194],\n",
       "         [146, 146, 146,  40]],\n",
       " \n",
       "        [[  0,   0,   0,   0],\n",
       "         [  0,   0,   0,   0],\n",
       "         [  0,   0,   0,   0],\n",
       "         [  0,   0,   0,   0],\n",
       "         [188, 188, 188,  61],\n",
       "         [127, 131, 132, 188],\n",
       "         [ 73,  80,  87,  38],\n",
       "         [  0,   0,   0,   0]],\n",
       " \n",
       "        [[  0,   0,   0,   0],\n",
       "         [  0,   0,   0,   0],\n",
       "         [  0,   0,   0,   0],\n",
       "         [ 67,  67,  67,  57],\n",
       "         [ 97, 100, 103, 193],\n",
       "         [ 92,  99,  99,  36],\n",
       "         [  0,   0,   0,   0],\n",
       "         [  0,   0,   0,   0]],\n",
       " \n",
       "        [[  0,   0,   0,   0],\n",
       "         [  0,   0,   0,   0],\n",
       "         [ 68,  72,  77,  56],\n",
       "         [ 67,  71,  73, 200],\n",
       "         [ 63,  69,  74,  48],\n",
       "         [  0,   0,   0,   0],\n",
       "         [  0,   0,   0,   0],\n",
       "         [  0,   0,   0,   0]],\n",
       " \n",
       "        [[  0,   0,   0,   0],\n",
       "         [ 66,  71,  71,  61],\n",
       "         [ 79,  84,  88, 211],\n",
       "         [ 85,  89,  93,  57],\n",
       "         [  0,   0,   0,   0],\n",
       "         [  0,   0,   0,   0],\n",
       "         [  0,   0,   0,   0],\n",
       "         [  0,   0,   0,   0]],\n",
       " \n",
       "        [[120, 120, 120,  38],\n",
       "         [ 67,  69,  71, 186],\n",
       "         [ 86,  90,  94,  65],\n",
       "         [  0,   0,   0,   0],\n",
       "         [  0,   0,   0,   0],\n",
       "         [  0,   0,   0,   0],\n",
       "         [  0,   0,   0,   0],\n",
       "         [  0,   0,   0,   0]],\n",
       " \n",
       "        [[143, 147, 147,  71],\n",
       "         [131, 131, 131,  33],\n",
       "         [  0,   0,   0,   0],\n",
       "         [  0,   0,   0,   0],\n",
       "         [  0,   0,   0,   0],\n",
       "         [  0,   0,   0,   0],\n",
       "         [  0,   0,   0,   0],\n",
       "         [  0,   0,   0,   0]]], dtype=uint8),\n",
       " array([[[255, 255, 255, 255],\n",
       "         [255, 255, 255, 255],\n",
       "         [255, 255, 255, 255],\n",
       "         [255, 255, 255, 255],\n",
       "         [255, 255, 255, 255],\n",
       "         [255, 255, 255, 255],\n",
       "         [255, 255, 255, 255],\n",
       "         [255, 255, 255, 255]],\n",
       " \n",
       "        [[255, 255, 255, 255],\n",
       "         [255, 255, 255, 255],\n",
       "         [255, 255, 255, 255],\n",
       "         [255, 255, 255, 255],\n",
       "         [255, 255, 255, 255],\n",
       "         [255, 255, 255, 255],\n",
       "         [255, 255, 255, 255],\n",
       "         [255, 255, 255, 255]],\n",
       " \n",
       "        [[255, 255, 255, 255],\n",
       "         [223, 226, 227, 255],\n",
       "         [139, 175, 192, 255],\n",
       "         [122, 170, 191, 255],\n",
       "         [168, 190, 200, 255],\n",
       "         [243, 240, 239, 255],\n",
       "         [204, 207, 209, 255],\n",
       "         [251, 251, 251, 255]],\n",
       " \n",
       "        [[213, 218, 220, 255],\n",
       "         [ 42, 136, 176, 255],\n",
       "         [  0, 157, 230, 255],\n",
       "         [  0, 159, 232, 255],\n",
       "         [  0, 154, 224, 255],\n",
       "         [ 61, 141, 175, 255],\n",
       "         [117, 157, 174, 255],\n",
       "         [254, 254, 254, 255]],\n",
       " \n",
       "        [[234, 235, 235, 255],\n",
       "         [115, 168, 191, 255],\n",
       "         [ 23, 147, 201, 255],\n",
       "         [  7, 150, 213, 255],\n",
       "         [ 20, 147, 202, 255],\n",
       "         [128, 172, 192, 255],\n",
       "         [159, 172, 177, 255],\n",
       "         [251, 251, 251, 255]],\n",
       " \n",
       "        [[255, 255, 255, 255],\n",
       "         [255, 254, 252, 255],\n",
       "         [222, 222, 222, 255],\n",
       "         [200, 208, 211, 255],\n",
       "         [220, 221, 221, 255],\n",
       "         [255, 255, 254, 255],\n",
       "         [247, 246, 245, 255],\n",
       "         [253, 253, 253, 255]],\n",
       " \n",
       "        [[255, 255, 255, 255],\n",
       "         [255, 255, 255, 255],\n",
       "         [255, 255, 255, 255],\n",
       "         [255, 255, 255, 255],\n",
       "         [255, 255, 255, 255],\n",
       "         [255, 255, 255, 255],\n",
       "         [255, 255, 255, 255],\n",
       "         [255, 255, 255, 255]],\n",
       " \n",
       "        [[255, 255, 255, 255],\n",
       "         [255, 255, 255, 255],\n",
       "         [255, 255, 255, 255],\n",
       "         [255, 255, 255, 255],\n",
       "         [255, 255, 255, 255],\n",
       "         [255, 255, 255, 255],\n",
       "         [255, 255, 255, 255],\n",
       "         [255, 255, 255, 255]]], dtype=uint8)]"
      ]
     },
     "execution_count": 6,
     "metadata": {},
     "output_type": "execute_result"
    }
   ],
   "source": [
    "imgs"
   ]
  },
  {
   "cell_type": "code",
   "execution_count": 7,
   "id": "3201d6aa",
   "metadata": {},
   "outputs": [
    {
     "data": {
      "text/plain": [
       "[array([[[  0,   0,   0,   0],\n",
       "         [  0,   0,   0,   0],\n",
       "         [  0,   0,   0,   0],\n",
       "         [  0,   0,   0,   0],\n",
       "         [  0,   0,   0,   0],\n",
       "         [  0,   0,   0,   0],\n",
       "         [171, 176, 176,  55],\n",
       "         [150, 150, 152, 102]],\n",
       " \n",
       "        [[  0,   0,   0,   0],\n",
       "         [  0,   0,   0,   0],\n",
       "         [  0,   0,   0,   0],\n",
       "         [  0,   0,   0,   0],\n",
       "         [  0,   0,   0,   0],\n",
       "         [179, 183, 183,  71],\n",
       "         [130, 132, 134, 194],\n",
       "         [146, 146, 146,  40]],\n",
       " \n",
       "        [[  0,   0,   0,   0],\n",
       "         [  0,   0,   0,   0],\n",
       "         [  0,   0,   0,   0],\n",
       "         [  0,   0,   0,   0],\n",
       "         [188, 188, 188,  61],\n",
       "         [127, 131, 132, 188],\n",
       "         [ 73,  80,  87,  38],\n",
       "         [  0,   0,   0,   0]],\n",
       " \n",
       "        [[  0,   0,   0,   0],\n",
       "         [  0,   0,   0,   0],\n",
       "         [  0,   0,   0,   0],\n",
       "         [ 67,  67,  67,  57],\n",
       "         [ 97, 100, 103, 193],\n",
       "         [ 92,  99,  99,  36],\n",
       "         [  0,   0,   0,   0],\n",
       "         [  0,   0,   0,   0]],\n",
       " \n",
       "        [[  0,   0,   0,   0],\n",
       "         [  0,   0,   0,   0],\n",
       "         [ 68,  72,  77,  56],\n",
       "         [ 67,  71,  73, 200],\n",
       "         [ 63,  69,  74,  48],\n",
       "         [  0,   0,   0,   0],\n",
       "         [  0,   0,   0,   0],\n",
       "         [  0,   0,   0,   0]],\n",
       " \n",
       "        [[  0,   0,   0,   0],\n",
       "         [ 66,  71,  71,  61],\n",
       "         [ 79,  84,  88, 211],\n",
       "         [ 85,  89,  93,  57],\n",
       "         [  0,   0,   0,   0],\n",
       "         [  0,   0,   0,   0],\n",
       "         [  0,   0,   0,   0],\n",
       "         [  0,   0,   0,   0]],\n",
       " \n",
       "        [[120, 120, 120,  38],\n",
       "         [ 67,  69,  71, 186],\n",
       "         [ 86,  90,  94,  65],\n",
       "         [  0,   0,   0,   0],\n",
       "         [  0,   0,   0,   0],\n",
       "         [  0,   0,   0,   0],\n",
       "         [  0,   0,   0,   0],\n",
       "         [  0,   0,   0,   0]],\n",
       " \n",
       "        [[143, 147, 147,  71],\n",
       "         [131, 131, 131,  33],\n",
       "         [  0,   0,   0,   0],\n",
       "         [  0,   0,   0,   0],\n",
       "         [  0,   0,   0,   0],\n",
       "         [  0,   0,   0,   0],\n",
       "         [  0,   0,   0,   0],\n",
       "         [  0,   0,   0,   0]]], dtype=uint8),\n",
       " array([[[255, 255, 255, 255],\n",
       "         [255, 255, 255, 255],\n",
       "         [255, 255, 255, 255],\n",
       "         [255, 255, 255, 255],\n",
       "         [255, 255, 255, 255],\n",
       "         [255, 255, 255, 255],\n",
       "         [255, 255, 255, 255],\n",
       "         [255, 255, 255, 255]],\n",
       " \n",
       "        [[255, 255, 255, 255],\n",
       "         [255, 255, 255, 255],\n",
       "         [255, 255, 255, 255],\n",
       "         [255, 255, 255, 255],\n",
       "         [255, 255, 255, 255],\n",
       "         [255, 255, 255, 255],\n",
       "         [255, 255, 255, 255],\n",
       "         [255, 255, 255, 255]],\n",
       " \n",
       "        [[255, 255, 255, 255],\n",
       "         [223, 226, 227, 255],\n",
       "         [139, 175, 192, 255],\n",
       "         [122, 170, 191, 255],\n",
       "         [168, 190, 200, 255],\n",
       "         [243, 240, 239, 255],\n",
       "         [204, 207, 209, 255],\n",
       "         [251, 251, 251, 255]],\n",
       " \n",
       "        [[213, 218, 220, 255],\n",
       "         [ 42, 136, 176, 255],\n",
       "         [  0, 157, 230, 255],\n",
       "         [  0, 159, 232, 255],\n",
       "         [  0, 154, 224, 255],\n",
       "         [ 61, 141, 175, 255],\n",
       "         [117, 157, 174, 255],\n",
       "         [254, 254, 254, 255]],\n",
       " \n",
       "        [[234, 235, 235, 255],\n",
       "         [115, 168, 191, 255],\n",
       "         [ 23, 147, 201, 255],\n",
       "         [  7, 150, 213, 255],\n",
       "         [ 20, 147, 202, 255],\n",
       "         [128, 172, 192, 255],\n",
       "         [159, 172, 177, 255],\n",
       "         [251, 251, 251, 255]],\n",
       " \n",
       "        [[255, 255, 255, 255],\n",
       "         [255, 254, 252, 255],\n",
       "         [222, 222, 222, 255],\n",
       "         [200, 208, 211, 255],\n",
       "         [220, 221, 221, 255],\n",
       "         [255, 255, 254, 255],\n",
       "         [247, 246, 245, 255],\n",
       "         [253, 253, 253, 255]],\n",
       " \n",
       "        [[255, 255, 255, 255],\n",
       "         [255, 255, 255, 255],\n",
       "         [255, 255, 255, 255],\n",
       "         [255, 255, 255, 255],\n",
       "         [255, 255, 255, 255],\n",
       "         [255, 255, 255, 255],\n",
       "         [255, 255, 255, 255],\n",
       "         [255, 255, 255, 255]],\n",
       " \n",
       "        [[255, 255, 255, 255],\n",
       "         [255, 255, 255, 255],\n",
       "         [255, 255, 255, 255],\n",
       "         [255, 255, 255, 255],\n",
       "         [255, 255, 255, 255],\n",
       "         [255, 255, 255, 255],\n",
       "         [255, 255, 255, 255],\n",
       "         [255, 255, 255, 255]]], dtype=uint8),\n",
       " array([[[255, 255, 255],\n",
       "         [255, 255, 255],\n",
       "         [255, 255, 255],\n",
       "         [255, 255, 255],\n",
       "         [255, 255, 255],\n",
       "         [254, 254, 254],\n",
       "         [255, 255, 255],\n",
       "         [255, 255, 255]],\n",
       " \n",
       "        [[255, 255, 255],\n",
       "         [255, 255, 255],\n",
       "         [255, 255, 255],\n",
       "         [255, 255, 255],\n",
       "         [193, 193, 193],\n",
       "         [218, 218, 218],\n",
       "         [255, 255, 255],\n",
       "         [255, 255, 255]],\n",
       " \n",
       "        [[255, 255, 255],\n",
       "         [255, 255, 255],\n",
       "         [255, 255, 255],\n",
       "         [255, 255, 255],\n",
       "         [182, 182, 182],\n",
       "         [238, 238, 238],\n",
       "         [255, 255, 255],\n",
       "         [255, 255, 255]],\n",
       " \n",
       "        [[255, 255, 255],\n",
       "         [255, 255, 255],\n",
       "         [255, 255, 255],\n",
       "         [249, 249, 249],\n",
       "         [218, 218, 218],\n",
       "         [255, 255, 255],\n",
       "         [255, 255, 255],\n",
       "         [255, 255, 255]],\n",
       " \n",
       "        [[255, 255, 255],\n",
       "         [255, 255, 255],\n",
       "         [255, 255, 255],\n",
       "         [227, 227, 227],\n",
       "         [251, 251, 251],\n",
       "         [255, 255, 255],\n",
       "         [255, 255, 255],\n",
       "         [255, 255, 255]],\n",
       " \n",
       "        [[255, 255, 255],\n",
       "         [255, 255, 255],\n",
       "         [239, 239, 239],\n",
       "         [177, 177, 177],\n",
       "         [255, 255, 255],\n",
       "         [255, 255, 255],\n",
       "         [255, 255, 255],\n",
       "         [255, 255, 255]],\n",
       " \n",
       "        [[255, 255, 255],\n",
       "         [255, 255, 255],\n",
       "         [231, 231, 231],\n",
       "         [223, 223, 223],\n",
       "         [254, 254, 254],\n",
       "         [255, 255, 255],\n",
       "         [255, 255, 255],\n",
       "         [255, 255, 255]],\n",
       " \n",
       "        [[255, 255, 255],\n",
       "         [255, 255, 255],\n",
       "         [254, 254, 254],\n",
       "         [255, 255, 255],\n",
       "         [255, 255, 255],\n",
       "         [255, 255, 255],\n",
       "         [255, 255, 255],\n",
       "         [255, 255, 255]]], dtype=uint8)]"
      ]
     },
     "execution_count": 7,
     "metadata": {},
     "output_type": "execute_result"
    }
   ],
   "source": [
    "# 채널이 다른 이미지를 넣으면?\n",
    "#./img/pen.jpg\n",
    "img=Image.open('pen.jpg').resize((8,8))\n",
    "img=np.array(img)\n",
    "imgs.append(img)\n",
    "type(imgs)\n",
    "imgs  # 채널이 달라서 array가 두개 있음"
   ]
  },
  {
   "cell_type": "code",
   "execution_count": 8,
   "id": "205b2a40",
   "metadata": {},
   "outputs": [
    {
     "data": {
      "text/plain": [
       "(3, (8, 8, 3))"
      ]
     },
     "execution_count": 8,
     "metadata": {},
     "output_type": "execute_result"
    }
   ],
   "source": [
    "len(imgs), np.shape(imgs[2])"
   ]
  },
  {
   "cell_type": "code",
   "execution_count": 9,
   "id": "1334281d",
   "metadata": {},
   "outputs": [
    {
     "data": {
      "text/plain": [
       "list"
      ]
     },
     "execution_count": 9,
     "metadata": {},
     "output_type": "execute_result"
    }
   ],
   "source": [
    "type(imgs)"
   ]
  },
  {
   "cell_type": "code",
   "execution_count": 10,
   "id": "4ef75044",
   "metadata": {},
   "outputs": [
    {
     "data": {
      "text/plain": [
       "(8, 8, 4)"
      ]
     },
     "execution_count": 10,
     "metadata": {},
     "output_type": "execute_result"
    }
   ],
   "source": [
    "imgs[0].shape"
   ]
  },
  {
   "cell_type": "code",
   "execution_count": 11,
   "id": "c081455e",
   "metadata": {},
   "outputs": [
    {
     "data": {
      "text/plain": [
       "(8, 8, 4)"
      ]
     },
     "execution_count": 11,
     "metadata": {},
     "output_type": "execute_result"
    }
   ],
   "source": [
    "imgs[1].shape"
   ]
  },
  {
   "cell_type": "code",
   "execution_count": 12,
   "id": "30433beb",
   "metadata": {},
   "outputs": [
    {
     "data": {
      "text/plain": [
       "(8, 8, 3)"
      ]
     },
     "execution_count": 12,
     "metadata": {},
     "output_type": "execute_result"
    }
   ],
   "source": [
    "imgs[2].shape"
   ]
  },
  {
   "cell_type": "code",
   "execution_count": null,
   "id": "0f012ca0",
   "metadata": {},
   "outputs": [],
   "source": []
  },
  {
   "cell_type": "code",
   "execution_count": 20,
   "id": "f1df98d0",
   "metadata": {},
   "outputs": [
    {
     "data": {
      "text/plain": [
       "['lenna.jpg',\n",
       " 'namecard1.jpg',\n",
       " 'namecard2.jpg',\n",
       " 'pen.jpg',\n",
       " 'poker.jpg',\n",
       " 'sudoku.jpg',\n",
       " '고등어.jpg',\n",
       " '합성이미지.jpg']"
      ]
     },
     "execution_count": 20,
     "metadata": {},
     "output_type": "execute_result"
    }
   ],
   "source": [
    "from glob import glob\n",
    "fileList=glob('./img/*.jpg')\n",
    "fileList=glob('*.jpg')\n",
    "fileList"
   ]
  },
  {
   "cell_type": "code",
   "execution_count": 15,
   "id": "c73e7b70",
   "metadata": {},
   "outputs": [
    {
     "name": "stdout",
     "output_type": "stream",
     "text": [
      "./img\\고등어.jpg\n"
     ]
    }
   ],
   "source": [
    "from glob import glob\n",
    "fileList=glob('./img/*.jpg')\n",
    "for x  in fileList:\n",
    "    img=Image.open(x).resize((100,100))\n",
    "    if np.shape(img)[2]!=3:\n",
    "        print(x)\n",
    "    \n",
    "    "
   ]
  },
  {
   "cell_type": "code",
   "execution_count": 16,
   "id": "986551ab",
   "metadata": {},
   "outputs": [
    {
     "name": "stdout",
     "output_type": "stream",
     "text": [
      "(100, 100, 3) png\n",
      "(100, 100, 3) jpeg\n",
      "(100, 100, 3) jpeg\n",
      "(100, 100, 3) jpeg\n",
      "(100, 100, 3) jpeg\n",
      "(100, 100, 3) jpeg\n",
      "(100, 100, 4) png\n",
      "(100, 100, 3) jpeg\n"
     ]
    }
   ],
   "source": [
    "from glob import glob\n",
    "import imghdr\n",
    "fileList=glob('./img/*.jpg')\n",
    "for x  in fileList:\n",
    "    img=Image.open(x).resize((100,100))\n",
    "    print(np.shape(img),imghdr.what(x))\n",
    "    "
   ]
  },
  {
   "cell_type": "code",
   "execution_count": 17,
   "id": "1b19fd24",
   "metadata": {},
   "outputs": [
    {
     "data": {
      "text/plain": [
       "'89504e470d0a1a0a0000000d49484452'"
      ]
     },
     "execution_count": 17,
     "metadata": {},
     "output_type": "execute_result"
    }
   ],
   "source": [
    "# 파일헤더, 파일 시그니처\n",
    "# 바이너리 형식으로 파일 열기\n",
    "# jpeg 파일형식: https://yottu.tistory.com/20, https://m.blog.naver.com/nologout/221903980232\n",
    "### 파일은 확장자로 확인하는게 아니라, 파일의 시그니처(헤더)값으로 파일의 성격을 확인함.(프로그램실행시)\n",
    "\n",
    "# 이 자료는 3채널인데 png 시그니처 자료임. 이런자료가 추후에 문제를 많이 일으킴.\n",
    "\n",
    "# # png시그니처\n",
    "with open('./img/lenna.jpg','rb') as f:\n",
    "  data=f.read(16)\n",
    "data.hex()"
   ]
  },
  {
   "cell_type": "code",
   "execution_count": 18,
   "id": "43ce3e1e",
   "metadata": {},
   "outputs": [
    {
     "data": {
      "text/plain": [
       "'ffd8ffe1136a4578696600004d4d002a'"
      ]
     },
     "execution_count": 18,
     "metadata": {},
     "output_type": "execute_result"
    }
   ],
   "source": [
    "# # jpg시그니처\n",
    "with open('./img/namecard1.jpg','rb') as f:\n",
    "  data=f.read(16)\n",
    "data.hex()"
   ]
  },
  {
   "cell_type": "code",
   "execution_count": 19,
   "id": "1ff3d2a5",
   "metadata": {},
   "outputs": [
    {
     "data": {
      "text/plain": [
       "'89504e470d0a1a0a0000000d49484452'"
      ]
     },
     "execution_count": 19,
     "metadata": {},
     "output_type": "execute_result"
    }
   ],
   "source": [
    "# png시그니처\n",
    "with open('./img/pen.png','rb') as f:\n",
    "  data=f.read(16)\n",
    "data.hex()"
   ]
  },
  {
   "cell_type": "code",
   "execution_count": null,
   "id": "ac784733",
   "metadata": {},
   "outputs": [],
   "source": []
  }
 ],
 "metadata": {
  "kernelspec": {
   "display_name": "Python 3 (ipykernel)",
   "language": "python",
   "name": "python3"
  },
  "language_info": {
   "codemirror_mode": {
    "name": "ipython",
    "version": 3
   },
   "file_extension": ".py",
   "mimetype": "text/x-python",
   "name": "python",
   "nbconvert_exporter": "python",
   "pygments_lexer": "ipython3",
   "version": "3.10.4"
  }
 },
 "nbformat": 4,
 "nbformat_minor": 5
}
