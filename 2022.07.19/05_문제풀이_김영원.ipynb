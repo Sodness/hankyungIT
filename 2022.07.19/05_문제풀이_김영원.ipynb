{
 "cells": [
  {
   "cell_type": "code",
   "execution_count": 1,
   "id": "5e4e5dc1",
   "metadata": {},
   "outputs": [
    {
     "name": "stdout",
     "output_type": "stream",
     "text": [
      "<class 'bool'>\n",
      "<class 'bool'>\n"
     ]
    }
   ],
   "source": [
    "print(type(True))\n",
    "print(type(False))"
   ]
  },
  {
   "cell_type": "code",
   "execution_count": 2,
   "id": "7fb4ca05",
   "metadata": {},
   "outputs": [
    {
     "name": "stdout",
     "output_type": "stream",
     "text": [
      "문자열 입력: 안녕하세요\n",
      "안녕하세요안녕하세요\n"
     ]
    }
   ],
   "source": [
    "str = input('문자열 입력: ')\n",
    "print(str * 2)"
   ]
  },
  {
   "cell_type": "code",
   "execution_count": 3,
   "id": "ff31c0e2",
   "metadata": {},
   "outputs": [
    {
     "name": "stdout",
     "output_type": "stream",
     "text": [
      "숫자를 입력하세요: 30\n",
      "40\n"
     ]
    }
   ],
   "source": [
    "num = int(input('숫자를 입력하세요: '))\n",
    "print(num + 10)"
   ]
  },
  {
   "cell_type": "code",
   "execution_count": 5,
   "id": "70622155",
   "metadata": {},
   "outputs": [
    {
     "name": "stdout",
     "output_type": "stream",
     "text": [
      "숫자를 입력하세요: 515\n",
      "홀수\n"
     ]
    }
   ],
   "source": [
    "num = int(input('숫자를 입력하세요: '))\n",
    "if num%2 == 0:\n",
    "    print(\"짝수\")\n",
    "else:\n",
    "    print(\"홀수\")"
   ]
  },
  {
   "cell_type": "code",
   "execution_count": 7,
   "id": "8cd61ca4",
   "metadata": {},
   "outputs": [
    {
     "name": "stdout",
     "output_type": "stream",
     "text": [
      "입력값 (최대 출력255): 620\n",
      "255\n"
     ]
    }
   ],
   "source": [
    "num = int(input('입력값 (최대 출력255): '))\n",
    "num = num + 20\n",
    "if num > 255:\n",
    "    print(255)\n",
    "else:\n",
    "    print(num)"
   ]
  },
  {
   "cell_type": "code",
   "execution_count": 13,
   "id": "bcbe17b4",
   "metadata": {},
   "outputs": [
    {
     "name": "stdout",
     "output_type": "stream",
     "text": [
      "입력값: 500\n",
      "출력값(0~255): 255\n"
     ]
    }
   ],
   "source": [
    "num = int(input('입력값: '))\n",
    "\n",
    "num = num - 20\n",
    "if num < 0:\n",
    "    print('출력값(0~255): 0')\n",
    "elif 0 <= num <= 255:\n",
    "    print(f'출력값(0~255): {num}')\n",
    "else:\n",
    "    print('출력값(0~255): 255')"
   ]
  },
  {
   "cell_type": "code",
   "execution_count": 16,
   "id": "82c7ff7d",
   "metadata": {},
   "outputs": [
    {
     "name": "stdout",
     "output_type": "stream",
     "text": [
      "현재시간 (15:16): 02:00\n",
      "정각 입니다.\n"
     ]
    }
   ],
   "source": [
    "time = input('현재시간 (15:16): ')\n",
    "mm = time[3:]\n",
    "# print(f'mm: {mm}')\n",
    "\n",
    "if mm == '00':\n",
    "    print('정각 입니다.')\n",
    "else:\n",
    "    print('정각이 아닙니다.')"
   ]
  },
  {
   "cell_type": "code",
   "execution_count": 18,
   "id": "8b21765d",
   "metadata": {},
   "outputs": [
    {
     "name": "stdout",
     "output_type": "stream",
     "text": [
      "좋아하는 과일은? 감\n",
      "오답입니다.\n"
     ]
    }
   ],
   "source": [
    "fruit = [\"사과\", \"포도\", \"홍시\"]\n",
    "ans = input('좋아하는 과일은? ')\n",
    "\n",
    "if ans in fruit:\n",
    "    print('정답입니다.')\n",
    "else:\n",
    "    print('오답입니다.')"
   ]
  },
  {
   "cell_type": "code",
   "execution_count": 19,
   "id": "86828092",
   "metadata": {},
   "outputs": [
    {
     "name": "stdout",
     "output_type": "stream",
     "text": [
      "투자 종목: SK\n",
      "투자 경고 종목이 아닙니다.\n"
     ]
    }
   ],
   "source": [
    "warn_investment_list = [\"Microsoft\", \"Google\", \"Naver\", \"Kakao\", \"SAMSUNG\", \"LG\"]\n",
    "\n",
    "user = input('투자 종목: ')\n",
    "if user in warn_investment_list:\n",
    "    print('투자 경고 종목입니다.')\n",
    "else:\n",
    "    print('투자 경고 종목이 아닙니다.')"
   ]
  },
  {
   "cell_type": "code",
   "execution_count": 20,
   "id": "f8bafa5e",
   "metadata": {},
   "outputs": [
    {
     "name": "stdout",
     "output_type": "stream",
     "text": [
      "제가 좋아하는 계절은: 봄\n",
      "정답입니다.\n"
     ]
    }
   ],
   "source": [
    "fruit = {\"봄\" : \"딸기\", \"여름\" : \"토마토\", \"가을\" : \"사과\"}\n",
    "fruit_keys = list(fruit.keys())\n",
    "\n",
    "ans = input('제가 좋아하는 계절은: ')\n",
    "if ans in fruit_keys:\n",
    "    print('정답입니다.')\n",
    "else:\n",
    "    print('오답입니다.')"
   ]
  },
  {
   "cell_type": "code",
   "execution_count": 21,
   "id": "92919966",
   "metadata": {},
   "outputs": [
    {
     "name": "stdout",
     "output_type": "stream",
     "text": [
      "제가 좋아하는 과일은: 한라봉\n",
      "오답입니다.\n"
     ]
    }
   ],
   "source": [
    "fruit = {\"봄\" : \"딸기\", \"여름\" : \"토마토\", \"가을\" : \"사과\"}\n",
    "fruit_values = list(fruit.values())\n",
    "\n",
    "ans = input('제가 좋아하는 과일은: ')\n",
    "if ans in fruit_values:\n",
    "    print('정답입니다.')\n",
    "else:\n",
    "    print('오답입니다.')"
   ]
  },
  {
   "cell_type": "code",
   "execution_count": 24,
   "id": "3d28e60e",
   "metadata": {},
   "outputs": [
    {
     "name": "stdout",
     "output_type": "stream",
     "text": [
      "문자 한 개 입력: a\n",
      "A\n"
     ]
    }
   ],
   "source": [
    "user = input('문자 한 개 입력: ')\n",
    "\n",
    "if user.islower():\n",
    "    user = user.upper()\n",
    "else:\n",
    "    user = user.lower()\n",
    "\n",
    "print(user)"
   ]
  },
  {
   "cell_type": "code",
   "execution_count": 25,
   "id": "17f230e3",
   "metadata": {},
   "outputs": [
    {
     "name": "stdout",
     "output_type": "stream",
     "text": [
      "score: 83\n",
      "grade is A\n"
     ]
    }
   ],
   "source": [
    "score = int(input('score: '))\n",
    "\n",
    "if 80 < score <= 100:\n",
    "    print('grade is A')\n",
    "elif 60 < score <= 80:\n",
    "    print('grade is B')\n",
    "elif 40 < score <= 60:\n",
    "    print('grade is C')\n",
    "elif 20 < score <= 40:\n",
    "    print('grade is D')\n",
    "else:\n",
    "    print('grade is E')"
   ]
  },
  {
   "cell_type": "code",
   "execution_count": 40,
   "id": "d61f3f22",
   "metadata": {},
   "outputs": [
    {
     "name": "stdout",
     "output_type": "stream",
     "text": [
      "입력 (100 달러): 100 달러\n",
      "116700.00 원\n"
     ]
    }
   ],
   "source": [
    "환율 = {'달러': 1167,\n",
    "     '엔': 1.096,\n",
    "     '유로': 1268,\n",
    "     '위안': 171}\n",
    "\n",
    "user = input('입력 (100 달러): ')\n",
    "money = int(user.split(' ')[0])\n",
    "currency = user.split(' ')[1]\n",
    "currency_list = 환율.keys()\n",
    "# print(type(currency_list))\n",
    "\n",
    "if currency in currency_list:\n",
    "    if currency == '달러':\n",
    "        money = money * 환율['달러']\n",
    "    elif currency == '엔':\n",
    "        money = money * 환율['엔']\n",
    "    elif currency == '엔':\n",
    "        money = money * 환율['유로']\n",
    "    elif currency == '위안':\n",
    "        money = money * 환율['위안']\n",
    "    \n",
    "    print(f'{money:0.2f} 원')\n",
    "else:\n",
    "    print('지원하지 않는 통화입니다.')\n",
    "    \n",
    "#------------------------------------- 강사님\n",
    "x, y = user.split(' ')\n",
    "print(x * 환율[y])"
   ]
  },
  {
   "cell_type": "code",
   "execution_count": 34,
   "id": "72059b40",
   "metadata": {},
   "outputs": [
    {
     "name": "stdout",
     "output_type": "stream",
     "text": [
      "input number1: 10\n",
      "input number2: 9\n",
      "input number3: 20\n",
      "20\n"
     ]
    }
   ],
   "source": [
    "num1 = int(input('input number1: '))\n",
    "num2 = int(input('input number2: '))\n",
    "num3 = int(input('input number3: '))\n",
    "\n",
    "list = [num1, num2, num3]\n",
    "# print(list)\n",
    "list.sort()\n",
    "# print(list)\n",
    "\n",
    "print(list[-1])\n",
    "\n",
    "#------------------------------------- 강사님\n",
    "print(max([num1, num2, num3]))"
   ]
  },
  {
   "cell_type": "code",
   "execution_count": 42,
   "id": "8cf84684",
   "metadata": {},
   "outputs": [
    {
     "name": "stdout",
     "output_type": "stream",
     "text": [
      "휴대전화 번호 입력: 011-345-1922\n",
      "당신은 SKT 사용자입니다.\n"
     ]
    }
   ],
   "source": [
    "mobile_carrier = {'011': 'SKT',\n",
    "                 '016': 'KT',\n",
    "                 '019': 'LGU',\n",
    "                 '010': '알수없음'}\n",
    "\n",
    "phone_number = input('휴대전화 번호 입력: ')\n",
    "num = phone_number.split('-')[0]\n",
    "mobile_carrier_keys_list = mobile_carrier.keys()\n",
    "res = ''\n",
    "\n",
    "if num in mobile_carrier_keys_list:\n",
    "    if num == '011':\n",
    "        res = mobile_carrier['011']\n",
    "    elif num == '016':\n",
    "        res = mobile_carrier['016']\n",
    "    elif num == '019':\n",
    "        res = mobile_carrier['019']\n",
    "    elif num == '010':\n",
    "        res = mobile_carrier['010']\n",
    "else:\n",
    "    print('다시 입력하세요.')\n",
    "    \n",
    "print(f'당신은 {res} 사용자입니다.')\n",
    "\n",
    "#------------------------------------- 강사님\n",
    "x = phone_number[:3]\n",
    "print(f'당신은 {mobile_carrier[x]} 사용자입니다.')"
   ]
  },
  {
   "cell_type": "code",
   "execution_count": 43,
   "id": "d9ed1eab",
   "metadata": {},
   "outputs": [
    {
     "name": "stdout",
     "output_type": "stream",
     "text": [
      "우편번호: 01400\n",
      "도봉구\n"
     ]
    }
   ],
   "source": [
    "post_num_dic = {'010': '강북구',\n",
    "               '011': '강북구',\n",
    "               '012': '강북구',\n",
    "               '013': '도봉구',\n",
    "               '014': '도봉구',\n",
    "               '015': '도봉구',\n",
    "               '016': '노원구',\n",
    "               '017': '노원구',\n",
    "               '018': '노원구',\n",
    "               '019': '노원구'}\n",
    "\n",
    "post_num = input('우편번호: ')\n",
    "num = post_num[:3]\n",
    "post_num_keys = post_num_dic.keys()\n",
    "res = ''\n",
    "\n",
    "if num in post_num_keys:\n",
    "    if num == '010':\n",
    "        res = post_num_dic[num]\n",
    "    elif num == '011':\n",
    "        res = post_num_dic[num]\n",
    "    elif num == '012':\n",
    "        res = post_num_dic[num]\n",
    "    elif num == '013':\n",
    "        res = post_num_dic[num]\n",
    "    elif num == '014':\n",
    "        res = post_num_dic[num]\n",
    "    elif num == '015':\n",
    "        res = post_num_dic[num]\n",
    "    elif num == '016':\n",
    "        res = post_num_dic[num]\n",
    "    elif num == '017':\n",
    "        res = post_num_dic[num]\n",
    "    elif num == '018':\n",
    "        res = post_num_dic[num]\n",
    "    elif num == '019':\n",
    "        res = post_num_dic[num]\n",
    "        \n",
    "    print(res)\n",
    "else:\n",
    "    print('다시 입력하세요.')"
   ]
  },
  {
   "cell_type": "code",
   "execution_count": 48,
   "id": "90794d53",
   "metadata": {},
   "outputs": [
    {
     "name": "stdout",
     "output_type": "stream",
     "text": [
      "주민등록번호: 821010-1635210\n",
      "남자\n"
     ]
    }
   ],
   "source": [
    "resident_num = input('주민등록번호: ')\n",
    "resident_num = resident_num.split('-')[1][0]\n",
    "# print(resident_num)\n",
    "\n",
    "if resident_num == '1' or resident_num == '3':\n",
    "    print('남자')\n",
    "else:\n",
    "    print('여자')"
   ]
  },
  {
   "cell_type": "code",
   "execution_count": 53,
   "id": "303d9e2c",
   "metadata": {},
   "outputs": [
    {
     "name": "stdout",
     "output_type": "stream",
     "text": [
      "주민등록번호: 861010-1015210\n",
      "서울 입니다.\n"
     ]
    }
   ],
   "source": [
    "resident_num = input('주민등록번호: ')\n",
    "resident_num = int(resident_num.split('-')[1][1:3])\n",
    "# print(resident_num)\n",
    "\n",
    "if 0 <= resident_num <= 8:\n",
    "    print('서울 입니다.')\n",
    "elif 9 <= resident_num <= 12:\n",
    "    print('부산 입니다.')\n",
    "else:\n",
    "    print('서울, 부산이 아닙니다.')\n",
    "    \n",
    "#------------------------------------- 강사님\n",
    "a = '821010-1635210'\n",
    "a = a.replace('-', '')\n",
    "b = a[7:9]\n",
    "if 0 <= int(b) <= 8:\n",
    "    print('서울 입니다.')\n",
    "else:\n",
    "    print('서울이 아닙니다.')"
   ]
  },
  {
   "cell_type": "code",
   "execution_count": 2,
   "id": "f451ad3b",
   "metadata": {},
   "outputs": [
    {
     "name": "stdout",
     "output_type": "stream",
     "text": [
      "주민등록번호: 821010-1635210\n",
      "유효하지 않은 주민등록번호입니다.\n"
     ]
    }
   ],
   "source": [
    "resident_num = input('주민등록번호: ')\n",
    "resident_num = resident_num.replace('-', '')\n",
    "#print(type(resident_num))\n",
    "\n",
    "sum = 0\n",
    "sum = sum + int(resident_num[0]) * 2\n",
    "sum = sum + int(resident_num[1]) * 3\n",
    "sum = sum + int(resident_num[2]) * 4\n",
    "sum = sum + int(resident_num[3]) * 5\n",
    "sum = sum + int(resident_num[4]) * 6\n",
    "sum = sum + int(resident_num[5]) * 7\n",
    "sum = sum + int(resident_num[6]) * 8\n",
    "sum = sum + int(resident_num[7]) * 9\n",
    "sum = sum + int(resident_num[8]) * 2\n",
    "sum = sum + int(resident_num[9]) * 3\n",
    "sum = sum + int(resident_num[10]) * 4\n",
    "sum = sum + int(resident_num[11]) * 5\n",
    "\n",
    "res = sum % 11\n",
    "res = 11 - res\n",
    "#print(type(res), res)\n",
    "res = str(res)\n",
    "#print(type(res), res)\n",
    "\n",
    "#print(type(resident_num))\n",
    "resident_num_res = resident_num[:13] + str(res)\n",
    "if resident_num == resident_num_res:\n",
    "    print('유효한 주민등록번호입니다.')\n",
    "else:\n",
    "    print('유효하지 않은 주민등록번호입니다.')\n",
    "    \n",
    "# 이거... 11-0=11, 11-1=10 같은거 나오면 십의자리나 일의자리를 \n",
    "# 마지막 숫자로 넣어야 겠는데"
   ]
  },
  {
   "cell_type": "code",
   "execution_count": 4,
   "id": "63d8dcdf",
   "metadata": {},
   "outputs": [
    {
     "name": "stdout",
     "output_type": "stream",
     "text": [
      "Collecting requests\n",
      "  Downloading requests-2.28.1-py3-none-any.whl (62 kB)\n",
      "     ---------------------------------------- 62.8/62.8 kB 3.3 MB/s eta 0:00:00\n",
      "Requirement already satisfied: certifi>=2017.4.17 in c:\\users\\user\\.conda\\envs\\han\\lib\\site-packages (from requests) (2022.6.15)\n",
      "Collecting idna<4,>=2.5\n",
      "  Downloading idna-3.3-py3-none-any.whl (61 kB)\n",
      "     ---------------------------------------- 61.2/61.2 kB ? eta 0:00:00\n",
      "Collecting charset-normalizer<3,>=2\n",
      "  Downloading charset_normalizer-2.1.0-py3-none-any.whl (39 kB)\n",
      "Collecting urllib3<1.27,>=1.21.1\n",
      "  Downloading urllib3-1.26.10-py2.py3-none-any.whl (139 kB)\n",
      "     -------------------------------------- 139.2/139.2 kB 8.1 MB/s eta 0:00:00\n",
      "Installing collected packages: urllib3, idna, charset-normalizer, requests\n",
      "Successfully installed charset-normalizer-2.1.0 idna-3.3 requests-2.28.1 urllib3-1.26.10\n"
     ]
    }
   ],
   "source": [
    "!pip install requests"
   ]
  },
  {
   "cell_type": "code",
   "execution_count": 8,
   "id": "31ca8086",
   "metadata": {},
   "outputs": [
    {
     "name": "stdout",
     "output_type": "stream",
     "text": [
      "상승장\n"
     ]
    }
   ],
   "source": [
    "import requests\n",
    "btc = requests.get(\"https://api.bithumb.com/public/ticker/\").json()['data']\n",
    "#print(btc)\n",
    "\n",
    "시가 = int(btc['opening_price'])\n",
    "변동폭 = int(btc['max_price']) - int(btc['min_price'])\n",
    "\n",
    "if 시가+변동폭 > int(btc['max_price']):\n",
    "    print('상승장')\n",
    "else:\n",
    "    print('하락장')"
   ]
  },
  {
   "cell_type": "code",
   "execution_count": null,
   "id": "a41712df",
   "metadata": {},
   "outputs": [],
   "source": []
  }
 ],
 "metadata": {
  "kernelspec": {
   "display_name": "Python 3 (ipykernel)",
   "language": "python",
   "name": "python3"
  },
  "language_info": {
   "codemirror_mode": {
    "name": "ipython",
    "version": 3
   },
   "file_extension": ".py",
   "mimetype": "text/x-python",
   "name": "python",
   "nbconvert_exporter": "python",
   "pygments_lexer": "ipython3",
   "version": "3.10.4"
  }
 },
 "nbformat": 4,
 "nbformat_minor": 5
}
