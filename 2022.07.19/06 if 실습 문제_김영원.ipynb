{
 "cells": [
  {
   "cell_type": "markdown",
   "id": "nuclear-yorkshire",
   "metadata": {},
   "source": [
    "[문제1]\n",
    "- 포켓에 money가 있으면 택시타고 아니면 걸어가라\n",
    "porket=['key','money','iPhon']"
   ]
  },
  {
   "cell_type": "code",
   "execution_count": 1,
   "id": "contemporary-brooklyn",
   "metadata": {},
   "outputs": [
    {
     "name": "stdout",
     "output_type": "stream",
     "text": [
      "택시타고 가자\n"
     ]
    }
   ],
   "source": [
    "pocket=['key','money','iPhone']\n",
    "if 'money' in pocket:\n",
    "    print('택시타고 가자')\n",
    "else:\n",
    "    print('걸어가자')"
   ]
  },
  {
   "cell_type": "code",
   "execution_count": null,
   "id": "artificial-engineering",
   "metadata": {},
   "outputs": [],
   "source": []
  },
  {
   "cell_type": "markdown",
   "id": "yellow-relative",
   "metadata": {},
   "source": [
    "[문제2] \n",
    "1. input으로 값을 입력받아\n",
    "2. 짝수이면 -> '짝수' 출력, 홀수이면 ->'홀수'출력"
   ]
  },
  {
   "cell_type": "code",
   "execution_count": 6,
   "id": "standing-punishment",
   "metadata": {},
   "outputs": [
    {
     "name": "stdout",
     "output_type": "stream",
     "text": [
      "숫자 입력: -552\n",
      "짝수\n"
     ]
    }
   ],
   "source": [
    "num = int(input('숫자 입력: '))\n",
    "if num%2 == 0:\n",
    "    print('짝수')\n",
    "else:\n",
    "    print('홀수')"
   ]
  },
  {
   "cell_type": "markdown",
   "id": "experimental-nutrition",
   "metadata": {},
   "source": [
    "[문제3] '국어','영어','수학', '과학' 점수가 모두 80점 이상면 '합격'그렇지 않으면 '불합격'"
   ]
  },
  {
   "cell_type": "code",
   "execution_count": 17,
   "id": "silver-denver",
   "metadata": {},
   "outputs": [
    {
     "name": "stdout",
     "output_type": "stream",
     "text": [
      "합격\n"
     ]
    }
   ],
   "source": [
    "시험점수 = {'국어': 84,\n",
    "       '영어': 94,\n",
    "       '수학': 88,\n",
    "       '과학': 86}\n",
    "\n",
    "# scores = list(시험점수.values())\n",
    "# print(scores)\n",
    "# print(type(scores))\n",
    "\n",
    "if 시험점수['국어'] >= 80 and \\\n",
    "    시험점수['영어'] >= 80 and \\\n",
    "    시험점수['수학'] >= 80 and \\\n",
    "    시험점수['과학'] >= 80:\n",
    "        print('합격')\n",
    "else:\n",
    "    print('불합격')"
   ]
  },
  {
   "cell_type": "markdown",
   "id": "australian-august",
   "metadata": {},
   "source": [
    "[문제4]\n",
    "- 표준입력으로 점수를 입력받아\n",
    "- 수,우,미,양,가 를 출력하세요\n"
   ]
  },
  {
   "cell_type": "code",
   "execution_count": 19,
   "id": "digital-practitioner",
   "metadata": {},
   "outputs": [
    {
     "name": "stdout",
     "output_type": "stream",
     "text": [
      "가\n"
     ]
    }
   ],
   "source": [
    "점수 = 59\n",
    "\n",
    "if 점수 >= 90:\n",
    "    print('수')\n",
    "elif 점수 >= 80:\n",
    "    print('우')\n",
    "elif 점수 >= 70:\n",
    "    print('미')\n",
    "elif 점수 >= 60:\n",
    "    print('양')\n",
    "else:\n",
    "    print('가')"
   ]
  },
  {
   "cell_type": "markdown",
   "id": "attractive-colleague",
   "metadata": {},
   "source": [
    "[문제5] \n",
    "1. input으로 나이입력(입력 값이 7이상 입력됨)\n",
    "2. 교통카드 시스템에서 시내버스 요금은 다음과 같다\n",
    "   - 어린이 (7세이상 12세 이하): 650원\n",
    "   - 청소년 (13세이상 18세 이하): 1,050원\n",
    "   - 19세 이상: 1,250\n",
    "3. 각 나이에 맞게 요금을 차감한 뒤 잔액을 출력되게 하세요\n",
    "4. 현재 교통카드에는 9,000원이 있음"
   ]
  },
  {
   "cell_type": "code",
   "execution_count": 21,
   "id": "confirmed-resolution",
   "metadata": {},
   "outputs": [
    {
     "name": "stdout",
     "output_type": "stream",
     "text": [
      "나이를 입력해 주세요: 80\n",
      "요금: 1250원\n",
      "잔액: 7750원\n"
     ]
    }
   ],
   "source": [
    "age = int(input('나이를 입력해 주세요: '))\n",
    "card = 9000;\n",
    "fee = 0\n",
    "\n",
    "if age >= 19:\n",
    "    card = card - 1250\n",
    "    fee = 1250\n",
    "elif age >= 13:\n",
    "    card = card - 1050\n",
    "    fee = 1050\n",
    "else:\n",
    "    card = card - 650\n",
    "    fee = 650\n",
    "\n",
    "print(f'요금: {fee}원')\n",
    "print(f'잔액: {card}원')"
   ]
  },
  {
   "cell_type": "code",
   "execution_count": null,
   "id": "velvet-sauce",
   "metadata": {},
   "outputs": [],
   "source": []
  },
  {
   "cell_type": "code",
   "execution_count": null,
   "id": "prompt-peoples",
   "metadata": {},
   "outputs": [],
   "source": []
  }
 ],
 "metadata": {
  "kernelspec": {
   "display_name": "Python 3 (ipykernel)",
   "language": "python",
   "name": "python3"
  },
  "language_info": {
   "codemirror_mode": {
    "name": "ipython",
    "version": 3
   },
   "file_extension": ".py",
   "mimetype": "text/x-python",
   "name": "python",
   "nbconvert_exporter": "python",
   "pygments_lexer": "ipython3",
   "version": "3.10.4"
  }
 },
 "nbformat": 4,
 "nbformat_minor": 5
}
